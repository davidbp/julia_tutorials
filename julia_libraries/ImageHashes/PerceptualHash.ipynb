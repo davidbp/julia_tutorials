{
 "cells": [
  {
   "cell_type": "code",
   "execution_count": null,
   "id": "33cbd748",
   "metadata": {},
   "outputs": [],
   "source": []
  },
  {
   "cell_type": "code",
   "execution_count": 1,
   "id": "e9a07fac",
   "metadata": {},
   "outputs": [],
   "source": [
    "using FFTW"
   ]
  },
  {
   "cell_type": "code",
   "execution_count": 45,
   "id": "df8b0ef0",
   "metadata": {},
   "outputs": [
    {
     "data": {
      "text/latex": [
       "\\begin{verbatim}\n",
       "dct(A [, dims])\n",
       "\\end{verbatim}\n",
       "Performs a multidimensional type-II discrete cosine transform (DCT) of the array \\texttt{A}, using the unitary normalization of the DCT. The optional \\texttt{dims} argument specifies an iterable subset of dimensions (e.g. an integer, range, tuple, or array) to transform along.  Most efficient if the size of \\texttt{A} along the transformed dimensions is a product of small primes; see \\href{@ref}{\\texttt{nextprod}}. See also \\href{@ref}{\\texttt{plan\\_dct}} for even greater efficiency.\n",
       "\n"
      ],
      "text/markdown": [
       "```\n",
       "dct(A [, dims])\n",
       "```\n",
       "\n",
       "Performs a multidimensional type-II discrete cosine transform (DCT) of the array `A`, using the unitary normalization of the DCT. The optional `dims` argument specifies an iterable subset of dimensions (e.g. an integer, range, tuple, or array) to transform along.  Most efficient if the size of `A` along the transformed dimensions is a product of small primes; see [`nextprod`](@ref). See also [`plan_dct`](@ref) for even greater efficiency.\n"
      ],
      "text/plain": [
       "\u001b[36m  dct(A [, dims])\u001b[39m\n",
       "\n",
       "  Performs a multidimensional type-II discrete cosine transform (DCT) of the\n",
       "  array \u001b[36mA\u001b[39m, using the unitary normalization of the DCT. The optional \u001b[36mdims\u001b[39m\n",
       "  argument specifies an iterable subset of dimensions (e.g. an integer, range,\n",
       "  tuple, or array) to transform along. Most efficient if the size of \u001b[36mA\u001b[39m along\n",
       "  the transformed dimensions is a product of small primes; see \u001b[36mnextprod\u001b[39m. See\n",
       "  also \u001b[36mplan_dct\u001b[39m for even greater efficiency."
      ]
     },
     "execution_count": 45,
     "metadata": {},
     "output_type": "execute_result"
    }
   ],
   "source": [
    "?FFTW.dct"
   ]
  },
  {
   "cell_type": "code",
   "execution_count": 46,
   "id": "697e1839",
   "metadata": {
    "scrolled": true
   },
   "outputs": [
    {
     "data": {
      "text/plain": [
       "3-element Vector{Float64}:\n",
       "  3.4641016151377544\n",
       " -1.414213562373095\n",
       "  9.064933036736789e-17"
      ]
     },
     "execution_count": 46,
     "metadata": {},
     "output_type": "execute_result"
    }
   ],
   "source": [
    "# Equivalent to python scipy.fftpack.dct([1,2,3], norm='ortho')\n",
    "dct([1,2,3])"
   ]
  },
  {
   "cell_type": "code",
   "execution_count": null,
   "id": "a73b9b03",
   "metadata": {},
   "outputs": [],
   "source": []
  },
  {
   "cell_type": "code",
   "execution_count": 48,
   "id": "59666181",
   "metadata": {},
   "outputs": [
    {
     "data": {
      "text/plain": [
       "5×2 Matrix{Float64}:\n",
       " 10.1193      0.632456\n",
       " -4.1912      0.262866\n",
       " -0.58541    -0.58541\n",
       " -0.826948   -0.425325\n",
       "  0.0854102   0.0854102"
      ]
     },
     "execution_count": 48,
     "metadata": {},
     "output_type": "execute_result"
    }
   ],
   "source": [
    "dct([[1,3,4,4,5] [1,2,3,4,5]])"
   ]
  },
  {
   "cell_type": "code",
   "execution_count": 49,
   "id": "404a3591",
   "metadata": {},
   "outputs": [
    {
     "data": {
      "text/plain": [
       "5×2 Matrix{Int64}:\n",
       " 1  1\n",
       " 3  2\n",
       " 4  3\n",
       " 4  4\n",
       " 5  5"
      ]
     },
     "execution_count": 49,
     "metadata": {},
     "output_type": "execute_result"
    }
   ],
   "source": [
    "[[1,3,4,4,5] [1,2,3,4,5]]"
   ]
  },
  {
   "cell_type": "code",
   "execution_count": null,
   "id": "2614a3f8",
   "metadata": {},
   "outputs": [],
   "source": []
  },
  {
   "cell_type": "code",
   "execution_count": null,
   "id": "0e3286df",
   "metadata": {},
   "outputs": [],
   "source": [
    "dct([1,2,3])"
   ]
  },
  {
   "cell_type": "code",
   "execution_count": null,
   "id": "d70529ca",
   "metadata": {},
   "outputs": [],
   "source": []
  }
 ],
 "metadata": {
  "kernelspec": {
   "display_name": "Julia 1.8.0",
   "language": "julia",
   "name": "julia-1.8"
  },
  "language_info": {
   "file_extension": ".jl",
   "mimetype": "application/julia",
   "name": "julia",
   "version": "1.8.3"
  }
 },
 "nbformat": 4,
 "nbformat_minor": 5
}
