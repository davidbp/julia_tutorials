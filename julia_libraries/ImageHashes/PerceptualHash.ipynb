{
 "cells": [
  {
   "cell_type": "markdown",
   "id": "09fc04de",
   "metadata": {},
   "source": [
    "# Perceptual hash\n",
    "\n",
    "\n",
    "- Reduce size to 32x32\n",
    "\n",
    "- Reduce color to grayscale.\n",
    "\n",
    "- Compute a 32x32 DCT.\n",
    "\n",
    "- Reduce the DCT keeping the top-left 8x8. \n",
    "\n",
    "- Compute the mean DCT value (using only the 8x8 DCT low-frequency values and excluding the first term since the DC coefficient can be significantly different from the other values and will throw off the average)\n",
    "\n",
    "\n",
    "- Create the 64 hash bits to 0 or 1 depending on whether each of the 64 DCT values are above or below the average value. \n",
    "\n",
    "- Construct the hash setting the 64 bits into a 64-bit integer. The order does not matter, just as long as you are consistent. \n",
    "\n"
   ]
  },
  {
   "cell_type": "code",
   "execution_count": 1,
   "id": "651cf2c3",
   "metadata": {
    "ExecuteTime": {
     "end_time": "2023-02-05T17:04:22.794000+01:00",
     "start_time": "2023-02-05T16:04:22.575Z"
    }
   },
   "outputs": [],
   "source": [
    "using FFTW, Statistics, ImageTransformations, Images, Plots\n",
    "import ImageTransformations.Linear as Linear\n",
    "using BenchmarkTools"
   ]
  },
  {
   "cell_type": "markdown",
   "id": "40cd7b53",
   "metadata": {},
   "source": [
    "# Perceptual Hashing\n",
    "\n",
    "\n",
    "Evaluation: https://idealo.github.io/imagededup/user_guide/benchmarks/\n",
    "\n",
    "```\n",
    "def phash(image, hash_size=8, highfreq_factor=4):\n",
    "    import scipy.fftpack\n",
    "    img_size = hash_size * highfreq_factor\n",
    "    image = image.convert('L').resize((img_size, img_size), ANTIALIAS)\n",
    "    pixels = numpy.asarray(image)\n",
    "    dct = scipy.fftpack.dct(scipy.fftpack.dct(pixels, axis=0), axis=1)\n",
    "    dctlowfreq = dct[:hash_size, :hash_size]\n",
    "    med = numpy.median(dctlowfreq)\n",
    "    diff = dctlowfreq > med\n",
    "    return ImageHash(diff) \n",
    "```"
   ]
  },
  {
   "cell_type": "code",
   "execution_count": 2,
   "id": "76254a69",
   "metadata": {
    "ExecuteTime": {
     "end_time": "2023-02-05T15:50:58.934000+01:00",
     "start_time": "2023-02-05T14:50:58.781Z"
    },
    "scrolled": true
   },
   "outputs": [],
   "source": [
    "hash_size = 8\n",
    "image = load(\"./images/logo1.png\");"
   ]
  },
  {
   "cell_type": "code",
   "execution_count": 3,
   "id": "eaf9fa26",
   "metadata": {
    "ExecuteTime": {
     "end_time": "2023-02-05T15:50:59.117000+01:00",
     "start_time": "2023-02-05T14:50:58.973Z"
    }
   },
   "outputs": [],
   "source": [
    "#image"
   ]
  },
  {
   "cell_type": "code",
   "execution_count": 4,
   "id": "310fe926",
   "metadata": {
    "ExecuteTime": {
     "end_time": "2023-02-05T16:58:33.715000+01:00",
     "start_time": "2023-02-05T15:58:33.680Z"
    }
   },
   "outputs": [
    {
     "data": {
      "image/png": "[encoded data removed]",
      "text/html": [
       "<img src=\"data:image/png;base64,iVBORw0KGgoAAAANSUhEUgAAAIAAAACACAAAAADmVT4XAAAABGdBTUEAALGPC/xhBQAAAAFzUkdCAK7OHOkAAAAgY0hSTQAAeiYAAICEAAD6AAAAgOgAAHUwAADqYAAAOpgAABdwnLpRPAAAAy1JREFUeAHFwU+q1gUYBtADvtkWGgXRQIIQ3UGraWKDBoIQKQ2CcNBEkP5MXZCTQBpk4C4Sep6En3C5XeX7tOA9Z7yDbxEUQRAEQfHIuxnLxrKxbJzhAYKiCIIgKIrgDoKfnGcsG8vGsnHCAwTfO9xDEBRFUBRB8SV+ddpYNpaNZeOEoC48xF0UQVAERRHEecaysWwsGycUwT08xF0EQVAERRAEcZ6xbCwby8YJQVDcRRAERVAEQVDUecaysWwsGyf84O2+QhEERRHEecaysWwsG/9yH0FQBEEQFEERBEERBEEcXrjsY5eNZWPZWDZee4AiKIogCIIiKIKgKIIgiKuK4k984sJYNpaNZeOVByiKIgiCoCiCIiiKIAiCuqooiuIPfOowlo1lY9l4pSiCIAiKIgiKoAiCICiKuiwoiqKoC2PZWDaWzX0UQRAERRAERVEEQRAUQV1VFEVQh99xA2PZWDaWTREEQVEEQVAUQRAERRHUZU/wHEFRFEVRh7FsLBvLJgiKIgiCoiiCICiKIKjLnuA5gqIo6lDUYSwby8ayCYogCIIiKB4733N8h6AoiqIoijqMZWPZWDZFEARBERSP8cLbFUVRBEVR1KEoiqIOY9lYNpZNEARFERSP8cKbFUVRFEVRFEVRFEVR1GEsG8vGsgmKIiiKeLOiDkVQFEVRh6IoiqAobjmMZWPZWDY/4msERVDUVUVRFEVRFEVRFEVRFEVRF8aysWwsG68ERVAEcaGoQ1AURVHUoSiKoCiKumosG8vGsvHKI9xBEQRxKIqiKIqiKIqiKIqiKIq6cNuFsWwsG8vGa4+9WVAURVEUN/x3Y9lYNpaNE4qiKIqieIaiKIqiKG45bSwby8aycUJQFEVRh6AoiqKo841lY9lYNk6IQ1EURVEUxU0XnjrfWDaWjWXjhKIoiqIoiqLe31g2lo1l44QbeIaiKIoiDsVTl912nrFsLBvLxhk+w28oiqKoN7vtfGPZWDaWjTN97rKnDr/gZ+9vLBvLxrLxnm77f4xlY9lYNpaNZWPZWDZO+AYf4S9cw4e4hg/wEtfxEsFLXMffuIkvnDaWjWVj2T+Ch/H6G5nbxgAAAABJRU5ErkJg\">"
      ],
      "text/plain": [
       "32×32 Array{Gray{N0f8},2} with eltype Gray{N0f8}:\n",
       " Gray{N0f8}(0.0)    Gray{N0f8}(0.0)    …  Gray{N0f8}(0.0)    Gray{N0f8}(0.0)\n",
       " Gray{N0f8}(0.0)    Gray{N0f8}(0.0)       Gray{N0f8}(0.0)    Gray{N0f8}(0.0)\n",
       " Gray{N0f8}(0.0)    Gray{N0f8}(0.0)       Gray{N0f8}(0.0)    Gray{N0f8}(0.0)\n",
       " Gray{N0f8}(0.0)    Gray{N0f8}(0.0)       Gray{N0f8}(0.0)    Gray{N0f8}(0.0)\n",
       " Gray{N0f8}(0.0)    Gray{N0f8}(0.0)       Gray{N0f8}(0.0)    Gray{N0f8}(0.0)\n",
       " Gray{N0f8}(0.0)    Gray{N0f8}(0.0)    …  Gray{N0f8}(0.0)    Gray{N0f8}(0.0)\n",
       " Gray{N0f8}(0.0)    Gray{N0f8}(0.0)       Gray{N0f8}(0.0)    Gray{N0f8}(0.0)\n",
       " Gray{N0f8}(0.0)    Gray{N0f8}(0.0)       Gray{N0f8}(0.0)    Gray{N0f8}(0.0)\n",
       " Gray{N0f8}(0.0)    Gray{N0f8}(0.0)       Gray{N0f8}(0.0)    Gray{N0f8}(0.0)\n",
       " Gray{N0f8}(0.0)    Gray{N0f8}(0.494)     Gray{N0f8}(0.0)    Gray{N0f8}(0.0)\n",
       " Gray{N0f8}(0.0)    Gray{N0f8}(0.49)   …  Gray{N0f8}(0.0)    Gray{N0f8}(0.0)\n",
       " Gray{N0f8}(0.49)   Gray{N0f8}(0.486)     Gray{N0f8}(0.851)  Gray{N0f8}(0.0)\n",
       " Gray{N0f8}(0.486)  Gray{N0f8}(0.478)     Gray{N0f8}(0.843)  Gray{N0f8}(0.0)\n",
       " ⋮                                     ⋱  ⋮                  \n",
       " Gray{N0f8}(0.0)    Gray{N0f8}(0.0)    …  Gray{N0f8}(0.0)    Gray{N0f8}(0.0)\n",
       " Gray{N0f8}(0.0)    Gray{N0f8}(0.0)       Gray{N0f8}(0.0)    Gray{N0f8}(0.0)\n",
       " Gray{N0f8}(0.0)    Gray{N0f8}(0.0)       Gray{N0f8}(0.0)    Gray{N0f8}(0.0)\n",
       " Gray{N0f8}(0.0)    Gray{N0f8}(0.0)       Gray{N0f8}(0.0)    Gray{N0f8}(0.0)\n",
       " Gray{N0f8}(0.0)    Gray{N0f8}(0.0)       Gray{N0f8}(0.0)    Gray{N0f8}(0.0)\n",
       " Gray{N0f8}(0.0)    Gray{N0f8}(0.0)    …  Gray{N0f8}(0.0)    Gray{N0f8}(0.0)\n",
       " Gray{N0f8}(0.0)    Gray{N0f8}(0.0)       Gray{N0f8}(0.0)    Gray{N0f8}(0.0)\n",
       " Gray{N0f8}(0.0)    Gray{N0f8}(0.0)       Gray{N0f8}(0.0)    Gray{N0f8}(0.0)\n",
       " Gray{N0f8}(0.0)    Gray{N0f8}(0.0)       Gray{N0f8}(0.0)    Gray{N0f8}(0.0)\n",
       " Gray{N0f8}(0.0)    Gray{N0f8}(0.0)       Gray{N0f8}(0.0)    Gray{N0f8}(0.0)\n",
       " Gray{N0f8}(0.0)    Gray{N0f8}(0.0)    …  Gray{N0f8}(0.0)    Gray{N0f8}(0.0)\n",
       " Gray{N0f8}(0.0)    Gray{N0f8}(0.0)       Gray{N0f8}(0.0)    Gray{N0f8}(0.0)"
      ]
     },
     "execution_count": 4,
     "metadata": {},
     "output_type": "execute_result"
    }
   ],
   "source": [
    "img_resized = imresize(image, 32, 32, method=Linear())\n",
    "img_resized_gray = Gray.(img_resized)"
   ]
  },
  {
   "cell_type": "code",
   "execution_count": 5,
   "id": "8fa82cd1",
   "metadata": {},
   "outputs": [
    {
     "data": {
      "text/plain": [
       "(32, 32)"
      ]
     },
     "execution_count": 5,
     "metadata": {},
     "output_type": "execute_result"
    }
   ],
   "source": [
    "size(img_resized_gray)"
   ]
  },
  {
   "cell_type": "code",
   "execution_count": 6,
   "id": "16c41148",
   "metadata": {
    "ExecuteTime": {
     "end_time": "2023-02-05T17:05:47.691000+01:00",
     "start_time": "2023-02-05T16:05:47.687Z"
    }
   },
   "outputs": [],
   "source": [
    "#dct(img_resized_gray)\n",
    "dct_image = dct(dct(reinterpret(UInt8, img_resized_gray),1),2);"
   ]
  },
  {
   "cell_type": "code",
   "execution_count": 7,
   "id": "cfe77df0",
   "metadata": {},
   "outputs": [
    {
     "data": {
      "text/plain": [
       "8"
      ]
     },
     "execution_count": 7,
     "metadata": {},
     "output_type": "execute_result"
    }
   ],
   "source": [
    "hash_size = 8"
   ]
  },
  {
   "cell_type": "code",
   "execution_count": 8,
   "id": "be670db4",
   "metadata": {},
   "outputs": [
    {
     "data": {
      "text/plain": [
       "8×8 Matrix{Float64}:\n",
       "  2895.19     -183.763   -1115.65    …   318.974      -38.346    206.469\n",
       "    -7.80075  -129.368     423.53        -65.9429    -224.988     82.1788\n",
       " -1472.87      311.988    -331.356      -296.885      171.885   -118.643\n",
       "   132.465     166.281    -779.363        -0.505716   326.005    -46.9618\n",
       "   147.165    -199.134     289.929        11.8533     -16.3826   -37.8173\n",
       "   -39.346      32.3416    105.482   …    30.695       33.8714   -49.644\n",
       "   -58.4986     48.138     196.598        61.1268    -106.465     54.2435\n",
       "   313.883     -41.1853    -56.6407      131.765     -277.581     66.4089"
      ]
     },
     "execution_count": 8,
     "metadata": {},
     "output_type": "execute_result"
    }
   ],
   "source": [
    "dct_image[1:hash_size, 1:hash_size]"
   ]
  },
  {
   "cell_type": "code",
   "execution_count": 9,
   "id": "8018631f",
   "metadata": {
    "ExecuteTime": {
     "end_time": "2023-02-05T17:06:22.948000+01:00",
     "start_time": "2023-02-05T16:06:22.937Z"
    }
   },
   "outputs": [
    {
     "data": {
      "image/svg+xml": [
       "<?xml version=\"1.0\" encoding=\"utf-8\"?>\n",
       "<svg xmlns=\"http://www.w3.org/2000/svg\" xmlns:xlink=\"http://www.w3.org/1999/xlink\" width=\"600\" height=\"400\" viewBox=\"0 0 2400 1600\">\n",
       "<defs>\n",
       "  <clipPath id=\"clip510\">\n",
       "    <rect x=\"0\" y=\"0\" width=\"2400\" height=\"1600\"/>\n",
       "  </clipPath>\n",
       "</defs>\n",
       "<path clip-path=\"url(#clip510)\" d=\"\n",
       "M0 1600 L2400 1600 L2400 0 L0 0  Z\n",
       "  \" fill=\"#ffffff\" fill-rule=\"evenodd\" fill-opacity=\"1\"/>\n",
       "<defs>\n",
       "  <clipPath id=\"clip511\">\n",
       "    <rect x=\"480\" y=\"0\" width=\"1681\" height=\"1600\"/>\n",
       "  </clipPath>\n",
       "</defs>\n",
       "<path clip-path=\"url(#clip510)\" d=\"\n",
       "M239.19 1486.45 L2352.76 1486.45 L2352.76 47.2441 L239.19 47.2441  Z\n",
       "  \" fill=\"#ffffff\" fill-rule=\"evenodd\" fill-opacity=\"1\"/>\n",
       "<defs>\n",
       "  <clipPath id=\"clip512\">\n",
       "    <rect x=\"239\" y=\"47\" width=\"2115\" height=\"1440\"/>\n",
       "  </clipPath>\n",
       "</defs>\n",
       "<polyline clip-path=\"url(#clip512)\" style=\"stroke:#000000; stroke-linecap:round; stroke-linejoin:round; stroke-width:2; stroke-opacity:0.1; fill:none\" points=\"\n",
       "  267.359,1486.45 267.359,47.2441 \n",
       "  \"/>\n",
       "<polyline clip-path=\"url(#clip512)\" style=\"stroke:#000000; stroke-linecap:round; stroke-linejoin:round; stroke-width:2; stroke-opacity:0.1; fill:none\" points=\"\n",
       "  583.855,1486.45 583.855,47.2441 \n",
       "  \"/>\n",
       "<polyline clip-path=\"url(#clip512)\" style=\"stroke:#000000; stroke-linecap:round; stroke-linejoin:round; stroke-width:2; stroke-opacity:0.1; fill:none\" points=\"\n",
       "  900.352,1486.45 900.352,47.2441 \n",
       "  \"/>\n",
       "<polyline clip-path=\"url(#clip512)\" style=\"stroke:#000000; stroke-linecap:round; stroke-linejoin:round; stroke-width:2; stroke-opacity:0.1; fill:none\" points=\"\n",
       "  1216.85,1486.45 1216.85,47.2441 \n",
       "  \"/>\n",
       "<polyline clip-path=\"url(#clip512)\" style=\"stroke:#000000; stroke-linecap:round; stroke-linejoin:round; stroke-width:2; stroke-opacity:0.1; fill:none\" points=\"\n",
       "  1533.35,1486.45 1533.35,47.2441 \n",
       "  \"/>\n",
       "<polyline clip-path=\"url(#clip512)\" style=\"stroke:#000000; stroke-linecap:round; stroke-linejoin:round; stroke-width:2; stroke-opacity:0.1; fill:none\" points=\"\n",
       "  1849.84,1486.45 1849.84,47.2441 \n",
       "  \"/>\n",
       "<polyline clip-path=\"url(#clip512)\" style=\"stroke:#000000; stroke-linecap:round; stroke-linejoin:round; stroke-width:2; stroke-opacity:0.1; fill:none\" points=\"\n",
       "  2166.34,1486.45 2166.34,47.2441 \n",
       "  \"/>\n",
       "<polyline clip-path=\"url(#clip510)\" style=\"stroke:#000000; stroke-linecap:round; stroke-linejoin:round; stroke-width:4; stroke-opacity:1; fill:none\" points=\"\n",
       "  239.19,1486.45 2352.76,1486.45 \n",
       "  \"/>\n",
       "<polyline clip-path=\"url(#clip510)\" style=\"stroke:#000000; stroke-linecap:round; stroke-linejoin:round; stroke-width:4; stroke-opacity:1; fill:none\" points=\"\n",
       "  267.359,1486.45 267.359,1467.55 \n",
       "  \"/>\n",
       "<polyline clip-path=\"url(#clip510)\" style=\"stroke:#000000; stroke-linecap:round; stroke-linejoin:round; stroke-width:4; stroke-opacity:1; fill:none\" points=\"\n",
       "  583.855,1486.45 583.855,1467.55 \n",
       "  \"/>\n",
       "<polyline clip-path=\"url(#clip510)\" style=\"stroke:#000000; stroke-linecap:round; stroke-linejoin:round; stroke-width:4; stroke-opacity:1; fill:none\" points=\"\n",
       "  900.352,1486.45 900.352,1467.55 \n",
       "  \"/>\n",
       "<polyline clip-path=\"url(#clip510)\" style=\"stroke:#000000; stroke-linecap:round; stroke-linejoin:round; stroke-width:4; stroke-opacity:1; fill:none\" points=\"\n",
       "  1216.85,1486.45 1216.85,1467.55 \n",
       "  \"/>\n",
       "<polyline clip-path=\"url(#clip510)\" style=\"stroke:#000000; stroke-linecap:round; stroke-linejoin:round; stroke-width:4; stroke-opacity:1; fill:none\" points=\"\n",
       "  1533.35,1486.45 1533.35,1467.55 \n",
       "  \"/>\n",
       "<polyline clip-path=\"url(#clip510)\" style=\"stroke:#000000; stroke-linecap:round; stroke-linejoin:round; stroke-width:4; stroke-opacity:1; fill:none\" points=\"\n",
       "  1849.84,1486.45 1849.84,1467.55 \n",
       "  \"/>\n",
       "<polyline clip-path=\"url(#clip510)\" style=\"stroke:#000000; stroke-linecap:round; stroke-linejoin:round; stroke-width:4; stroke-opacity:1; fill:none\" points=\"\n",
       "  2166.34,1486.45 2166.34,1467.55 \n",
       "  \"/>\n",
       "<path clip-path=\"url(#clip510)\" d=\"M267.359 1517.37 Q263.748 1517.37 261.919 1520.93 Q260.113 1524.47 260.113 1531.6 Q260.113 1538.71 261.919 1542.27 Q263.748 1545.82 267.359 1545.82 Q270.993 1545.82 272.798 1542.27 Q274.627 1538.71 274.627 1531.6 Q274.627 1524.47 272.798 1520.93 Q270.993 1517.37 267.359 1517.37 M267.359 1513.66 Q273.169 1513.66 276.224 1518.27 Q279.303 1522.85 279.303 1531.6 Q279.303 1540.33 276.224 1544.94 Q273.169 1549.52 267.359 1549.52 Q261.548 1549.52 258.47 1544.94 Q255.414 1540.33 255.414 1531.6 Q255.414 1522.85 258.47 1518.27 Q261.548 1513.66 267.359 1513.66 Z\" fill=\"#000000\" fill-rule=\"evenodd\" fill-opacity=\"1\" /><path clip-path=\"url(#clip510)\" d=\"M558.543 1544.91 L566.182 1544.91 L566.182 1518.55 L557.872 1520.21 L557.872 1515.95 L566.136 1514.29 L570.811 1514.29 L570.811 1544.91 L578.45 1544.91 L578.45 1548.85 L558.543 1548.85 L558.543 1544.91 Z\" fill=\"#000000\" fill-rule=\"evenodd\" fill-opacity=\"1\" /><path clip-path=\"url(#clip510)\" d=\"M597.895 1517.37 Q594.284 1517.37 592.455 1520.93 Q590.649 1524.47 590.649 1531.6 Q590.649 1538.71 592.455 1542.27 Q594.284 1545.82 597.895 1545.82 Q601.529 1545.82 603.334 1542.27 Q605.163 1538.71 605.163 1531.6 Q605.163 1524.47 603.334 1520.93 Q601.529 1517.37 597.895 1517.37 M597.895 1513.66 Q603.705 1513.66 606.76 1518.27 Q609.839 1522.85 609.839 1531.6 Q609.839 1540.33 606.76 1544.94 Q603.705 1549.52 597.895 1549.52 Q592.085 1549.52 589.006 1544.94 Q585.95 1540.33 585.95 1531.6 Q585.95 1522.85 589.006 1518.27 Q592.085 1513.66 597.895 1513.66 Z\" fill=\"#000000\" fill-rule=\"evenodd\" fill-opacity=\"1\" /><path clip-path=\"url(#clip510)\" d=\"M879.125 1544.91 L895.445 1544.91 L895.445 1548.85 L873.5 1548.85 L873.5 1544.91 Q876.162 1542.16 880.746 1537.53 Q885.352 1532.88 886.533 1531.53 Q888.778 1529.01 889.658 1527.27 Q890.561 1525.51 890.561 1523.82 Q890.561 1521.07 888.616 1519.33 Q886.695 1517.6 883.593 1517.6 Q881.394 1517.6 878.94 1518.36 Q876.51 1519.13 873.732 1520.68 L873.732 1515.95 Q876.556 1514.82 879.01 1514.24 Q881.463 1513.66 883.5 1513.66 Q888.871 1513.66 892.065 1516.35 Q895.26 1519.03 895.26 1523.52 Q895.26 1525.65 894.449 1527.57 Q893.662 1529.47 891.556 1532.07 Q890.977 1532.74 887.875 1535.95 Q884.774 1539.15 879.125 1544.91 Z\" fill=\"#000000\" fill-rule=\"evenodd\" fill-opacity=\"1\" /><path clip-path=\"url(#clip510)\" d=\"M915.259 1517.37 Q911.648 1517.37 909.82 1520.93 Q908.014 1524.47 908.014 1531.6 Q908.014 1538.71 909.82 1542.27 Q911.648 1545.82 915.259 1545.82 Q918.894 1545.82 920.699 1542.27 Q922.528 1538.71 922.528 1531.6 Q922.528 1524.47 920.699 1520.93 Q918.894 1517.37 915.259 1517.37 M915.259 1513.66 Q921.07 1513.66 924.125 1518.27 Q927.204 1522.85 927.204 1531.6 Q927.204 1540.33 924.125 1544.94 Q921.07 1549.52 915.259 1549.52 Q909.449 1549.52 906.371 1544.94 Q903.315 1540.33 903.315 1531.6 Q903.315 1522.85 906.371 1518.27 Q909.449 1513.66 915.259 1513.66 Z\" fill=\"#000000\" fill-rule=\"evenodd\" fill-opacity=\"1\" /><path clip-path=\"url(#clip510)\" d=\"M1205.69 1530.21 Q1209.05 1530.93 1210.92 1533.2 Q1212.82 1535.47 1212.82 1538.8 Q1212.82 1543.92 1209.3 1546.72 Q1205.78 1549.52 1199.3 1549.52 Q1197.13 1549.52 1194.81 1549.08 Q1192.52 1548.66 1190.07 1547.81 L1190.07 1543.29 Q1192.01 1544.43 1194.33 1545.01 Q1196.64 1545.58 1199.16 1545.58 Q1203.56 1545.58 1205.85 1543.85 Q1208.17 1542.11 1208.17 1538.8 Q1208.17 1535.75 1206.02 1534.03 Q1203.89 1532.3 1200.07 1532.3 L1196.04 1532.3 L1196.04 1528.45 L1200.25 1528.45 Q1203.7 1528.45 1205.53 1527.09 Q1207.36 1525.7 1207.36 1523.11 Q1207.36 1520.45 1205.46 1519.03 Q1203.59 1517.6 1200.07 1517.6 Q1198.15 1517.6 1195.95 1518.01 Q1193.75 1518.43 1191.11 1519.31 L1191.11 1515.14 Q1193.77 1514.4 1196.09 1514.03 Q1198.42 1513.66 1200.48 1513.66 Q1205.81 1513.66 1208.91 1516.09 Q1212.01 1518.5 1212.01 1522.62 Q1212.01 1525.49 1210.37 1527.48 Q1208.72 1529.45 1205.69 1530.21 Z\" fill=\"#000000\" fill-rule=\"evenodd\" fill-opacity=\"1\" /><path clip-path=\"url(#clip510)\" d=\"M1231.69 1517.37 Q1228.08 1517.37 1226.25 1520.93 Q1224.44 1524.47 1224.44 1531.6 Q1224.44 1538.71 1226.25 1542.27 Q1228.08 1545.82 1231.69 1545.82 Q1235.32 1545.82 1237.13 1542.27 Q1238.96 1538.71 1238.96 1531.6 Q1238.96 1524.47 1237.13 1520.93 Q1235.32 1517.37 1231.69 1517.37 M1231.69 1513.66 Q1237.5 1513.66 1240.55 1518.27 Q1243.63 1522.85 1243.63 1531.6 Q1243.63 1540.33 1240.55 1544.94 Q1237.5 1549.52 1231.69 1549.52 Q1225.88 1549.52 1222.8 1544.94 Q1219.74 1540.33 1219.74 1531.6 Q1219.74 1522.85 1222.8 1518.27 Q1225.88 1513.66 1231.69 1513.66 Z\" fill=\"#000000\" fill-rule=\"evenodd\" fill-opacity=\"1\" /><path clip-path=\"url(#clip510)\" d=\"M1521.52 1518.36 L1509.71 1536.81 L1521.52 1536.81 L1521.52 1518.36 M1520.29 1514.29 L1526.17 1514.29 L1526.17 1536.81 L1531.1 1536.81 L1531.1 1540.7 L1526.17 1540.7 L1526.17 1548.85 L1521.52 1548.85 L1521.52 1540.7 L1505.92 1540.7 L1505.92 1536.19 L1520.29 1514.29 Z\" fill=\"#000000\" fill-rule=\"evenodd\" fill-opacity=\"1\" /><path clip-path=\"url(#clip510)\" d=\"M1548.83 1517.37 Q1545.22 1517.37 1543.39 1520.93 Q1541.59 1524.47 1541.59 1531.6 Q1541.59 1538.71 1543.39 1542.27 Q1545.22 1545.82 1548.83 1545.82 Q1552.47 1545.82 1554.27 1542.27 Q1556.1 1538.71 1556.1 1531.6 Q1556.1 1524.47 1554.27 1520.93 Q1552.47 1517.37 1548.83 1517.37 M1548.83 1513.66 Q1554.64 1513.66 1557.7 1518.27 Q1560.78 1522.85 1560.78 1531.6 Q1560.78 1540.33 1557.7 1544.94 Q1554.64 1549.52 1548.83 1549.52 Q1543.02 1549.52 1539.94 1544.94 Q1536.89 1540.33 1536.89 1531.6 Q1536.89 1522.85 1539.94 1518.27 Q1543.02 1513.66 1548.83 1513.66 Z\" fill=\"#000000\" fill-rule=\"evenodd\" fill-opacity=\"1\" /><path clip-path=\"url(#clip510)\" d=\"M1824.54 1514.29 L1842.9 1514.29 L1842.9 1518.22 L1828.82 1518.22 L1828.82 1526.7 Q1829.84 1526.35 1830.86 1526.19 Q1831.88 1526 1832.9 1526 Q1838.69 1526 1842.06 1529.17 Q1845.44 1532.34 1845.44 1537.76 Q1845.44 1543.34 1841.97 1546.44 Q1838.5 1549.52 1832.18 1549.52 Q1830 1549.52 1827.74 1549.15 Q1825.49 1548.78 1823.08 1548.04 L1823.08 1543.34 Q1825.17 1544.47 1827.39 1545.03 Q1829.61 1545.58 1832.09 1545.58 Q1836.09 1545.58 1838.43 1543.48 Q1840.77 1541.37 1840.77 1537.76 Q1840.77 1534.15 1838.43 1532.04 Q1836.09 1529.94 1832.09 1529.94 Q1830.21 1529.94 1828.34 1530.35 Q1826.49 1530.77 1824.54 1531.65 L1824.54 1514.29 Z\" fill=\"#000000\" fill-rule=\"evenodd\" fill-opacity=\"1\" /><path clip-path=\"url(#clip510)\" d=\"M1864.66 1517.37 Q1861.05 1517.37 1859.22 1520.93 Q1857.41 1524.47 1857.41 1531.6 Q1857.41 1538.71 1859.22 1542.27 Q1861.05 1545.82 1864.66 1545.82 Q1868.29 1545.82 1870.1 1542.27 Q1871.93 1538.71 1871.93 1531.6 Q1871.93 1524.47 1870.1 1520.93 Q1868.29 1517.37 1864.66 1517.37 M1864.66 1513.66 Q1870.47 1513.66 1873.52 1518.27 Q1876.6 1522.85 1876.6 1531.6 Q1876.6 1540.33 1873.52 1544.94 Q1870.47 1549.52 1864.66 1549.52 Q1858.85 1549.52 1855.77 1544.94 Q1852.71 1540.33 1852.71 1531.6 Q1852.71 1522.85 1855.77 1518.27 Q1858.85 1513.66 1864.66 1513.66 Z\" fill=\"#000000\" fill-rule=\"evenodd\" fill-opacity=\"1\" /><path clip-path=\"url(#clip510)\" d=\"M2151.74 1529.7 Q2148.6 1529.7 2146.74 1531.86 Q2144.92 1534.01 2144.92 1537.76 Q2144.92 1541.49 2146.74 1543.66 Q2148.6 1545.82 2151.74 1545.82 Q2154.89 1545.82 2156.72 1543.66 Q2158.57 1541.49 2158.57 1537.76 Q2158.57 1534.01 2156.72 1531.86 Q2154.89 1529.7 2151.74 1529.7 M2161.03 1515.05 L2161.03 1519.31 Q2159.27 1518.48 2157.46 1518.04 Q2155.68 1517.6 2153.92 1517.6 Q2149.29 1517.6 2146.84 1520.72 Q2144.41 1523.85 2144.06 1530.17 Q2145.43 1528.15 2147.49 1527.09 Q2149.55 1526 2152.02 1526 Q2157.23 1526 2160.24 1529.17 Q2163.27 1532.32 2163.27 1537.76 Q2163.27 1543.08 2160.12 1546.3 Q2156.98 1549.52 2151.74 1549.52 Q2145.75 1549.52 2142.58 1544.94 Q2139.41 1540.33 2139.41 1531.6 Q2139.41 1523.41 2143.3 1518.55 Q2147.18 1513.66 2153.74 1513.66 Q2155.49 1513.66 2157.28 1514.01 Q2159.08 1514.36 2161.03 1515.05 Z\" fill=\"#000000\" fill-rule=\"evenodd\" fill-opacity=\"1\" /><path clip-path=\"url(#clip510)\" d=\"M2181.33 1517.37 Q2177.72 1517.37 2175.89 1520.93 Q2174.08 1524.47 2174.08 1531.6 Q2174.08 1538.71 2175.89 1542.27 Q2177.72 1545.82 2181.33 1545.82 Q2184.96 1545.82 2186.77 1542.27 Q2188.6 1538.71 2188.6 1531.6 Q2188.6 1524.47 2186.77 1520.93 Q2184.96 1517.37 2181.33 1517.37 M2181.33 1513.66 Q2187.14 1513.66 2190.19 1518.27 Q2193.27 1522.85 2193.27 1531.6 Q2193.27 1540.33 2190.19 1544.94 Q2187.14 1549.52 2181.33 1549.52 Q2175.52 1549.52 2172.44 1544.94 Q2169.38 1540.33 2169.38 1531.6 Q2169.38 1522.85 2172.44 1518.27 Q2175.52 1513.66 2181.33 1513.66 Z\" fill=\"#000000\" fill-rule=\"evenodd\" fill-opacity=\"1\" /><polyline clip-path=\"url(#clip512)\" style=\"stroke:#000000; stroke-linecap:round; stroke-linejoin:round; stroke-width:2; stroke-opacity:0.1; fill:none\" points=\"\n",
       "  239.19,1298.73 2352.76,1298.73 \n",
       "  \"/>\n",
       "<polyline clip-path=\"url(#clip512)\" style=\"stroke:#000000; stroke-linecap:round; stroke-linejoin:round; stroke-width:2; stroke-opacity:0.1; fill:none\" points=\"\n",
       "  239.19,987.899 2352.76,987.899 \n",
       "  \"/>\n",
       "<polyline clip-path=\"url(#clip512)\" style=\"stroke:#000000; stroke-linecap:round; stroke-linejoin:round; stroke-width:2; stroke-opacity:0.1; fill:none\" points=\"\n",
       "  239.19,677.065 2352.76,677.065 \n",
       "  \"/>\n",
       "<polyline clip-path=\"url(#clip512)\" style=\"stroke:#000000; stroke-linecap:round; stroke-linejoin:round; stroke-width:2; stroke-opacity:0.1; fill:none\" points=\"\n",
       "  239.19,366.231 2352.76,366.231 \n",
       "  \"/>\n",
       "<polyline clip-path=\"url(#clip512)\" style=\"stroke:#000000; stroke-linecap:round; stroke-linejoin:round; stroke-width:2; stroke-opacity:0.1; fill:none\" points=\"\n",
       "  239.19,55.397 2352.76,55.397 \n",
       "  \"/>\n",
       "<polyline clip-path=\"url(#clip510)\" style=\"stroke:#000000; stroke-linecap:round; stroke-linejoin:round; stroke-width:4; stroke-opacity:1; fill:none\" points=\"\n",
       "  239.19,1486.45 239.19,47.2441 \n",
       "  \"/>\n",
       "<polyline clip-path=\"url(#clip510)\" style=\"stroke:#000000; stroke-linecap:round; stroke-linejoin:round; stroke-width:4; stroke-opacity:1; fill:none\" points=\"\n",
       "  239.19,1298.73 258.088,1298.73 \n",
       "  \"/>\n",
       "<polyline clip-path=\"url(#clip510)\" style=\"stroke:#000000; stroke-linecap:round; stroke-linejoin:round; stroke-width:4; stroke-opacity:1; fill:none\" points=\"\n",
       "  239.19,987.899 258.088,987.899 \n",
       "  \"/>\n",
       "<polyline clip-path=\"url(#clip510)\" style=\"stroke:#000000; stroke-linecap:round; stroke-linejoin:round; stroke-width:4; stroke-opacity:1; fill:none\" points=\"\n",
       "  239.19,677.065 258.088,677.065 \n",
       "  \"/>\n",
       "<polyline clip-path=\"url(#clip510)\" style=\"stroke:#000000; stroke-linecap:round; stroke-linejoin:round; stroke-width:4; stroke-opacity:1; fill:none\" points=\"\n",
       "  239.19,366.231 258.088,366.231 \n",
       "  \"/>\n",
       "<polyline clip-path=\"url(#clip510)\" style=\"stroke:#000000; stroke-linecap:round; stroke-linejoin:round; stroke-width:4; stroke-opacity:1; fill:none\" points=\"\n",
       "  239.19,55.397 258.088,55.397 \n",
       "  \"/>\n",
       "<path clip-path=\"url(#clip510)\" d=\"M50.9921 1299.18 L80.6679 1299.18 L80.6679 1303.12 L50.9921 1303.12 L50.9921 1299.18 Z\" fill=\"#000000\" fill-rule=\"evenodd\" fill-opacity=\"1\" /><path clip-path=\"url(#clip510)\" d=\"M91.5706 1312.08 L99.2095 1312.08 L99.2095 1285.71 L90.8993 1287.38 L90.8993 1283.12 L99.1632 1281.45 L103.839 1281.45 L103.839 1312.08 L111.478 1312.08 L111.478 1316.01 L91.5706 1316.01 L91.5706 1312.08 Z\" fill=\"#000000\" fill-rule=\"evenodd\" fill-opacity=\"1\" /><path clip-path=\"url(#clip510)\" d=\"M130.922 1284.53 Q127.311 1284.53 125.482 1288.1 Q123.677 1291.64 123.677 1298.77 Q123.677 1305.87 125.482 1309.44 Q127.311 1312.98 130.922 1312.98 Q134.556 1312.98 136.362 1309.44 Q138.191 1305.87 138.191 1298.77 Q138.191 1291.64 136.362 1288.1 Q134.556 1284.53 130.922 1284.53 M130.922 1280.83 Q136.732 1280.83 139.788 1285.43 Q142.867 1290.02 142.867 1298.77 Q142.867 1307.49 139.788 1312.1 Q136.732 1316.68 130.922 1316.68 Q125.112 1316.68 122.033 1312.1 Q118.978 1307.49 118.978 1298.77 Q118.978 1290.02 122.033 1285.43 Q125.112 1280.83 130.922 1280.83 Z\" fill=\"#000000\" fill-rule=\"evenodd\" fill-opacity=\"1\" /><path clip-path=\"url(#clip510)\" d=\"M161.084 1284.53 Q157.473 1284.53 155.644 1288.1 Q153.839 1291.64 153.839 1298.77 Q153.839 1305.87 155.644 1309.44 Q157.473 1312.98 161.084 1312.98 Q164.718 1312.98 166.524 1309.44 Q168.353 1305.87 168.353 1298.77 Q168.353 1291.64 166.524 1288.1 Q164.718 1284.53 161.084 1284.53 M161.084 1280.83 Q166.894 1280.83 169.95 1285.43 Q173.029 1290.02 173.029 1298.77 Q173.029 1307.49 169.95 1312.1 Q166.894 1316.68 161.084 1316.68 Q155.274 1316.68 152.195 1312.1 Q149.14 1307.49 149.14 1298.77 Q149.14 1290.02 152.195 1285.43 Q155.274 1280.83 161.084 1280.83 Z\" fill=\"#000000\" fill-rule=\"evenodd\" fill-opacity=\"1\" /><path clip-path=\"url(#clip510)\" d=\"M191.246 1284.53 Q187.635 1284.53 185.806 1288.1 Q184.001 1291.64 184.001 1298.77 Q184.001 1305.87 185.806 1309.44 Q187.635 1312.98 191.246 1312.98 Q194.88 1312.98 196.686 1309.44 Q198.514 1305.87 198.514 1298.77 Q198.514 1291.64 196.686 1288.1 Q194.88 1284.53 191.246 1284.53 M191.246 1280.83 Q197.056 1280.83 200.112 1285.43 Q203.19 1290.02 203.19 1298.77 Q203.19 1307.49 200.112 1312.1 Q197.056 1316.68 191.246 1316.68 Q185.436 1316.68 182.357 1312.1 Q179.302 1307.49 179.302 1298.77 Q179.302 1290.02 182.357 1285.43 Q185.436 1280.83 191.246 1280.83 Z\" fill=\"#000000\" fill-rule=\"evenodd\" fill-opacity=\"1\" /><path clip-path=\"url(#clip510)\" d=\"M191.246 973.698 Q187.635 973.698 185.806 977.262 Q184.001 980.804 184.001 987.934 Q184.001 995.04 185.806 998.605 Q187.635 1002.15 191.246 1002.15 Q194.88 1002.15 196.686 998.605 Q198.514 995.04 198.514 987.934 Q198.514 980.804 196.686 977.262 Q194.88 973.698 191.246 973.698 M191.246 969.994 Q197.056 969.994 200.112 974.6 Q203.19 979.184 203.19 987.934 Q203.19 996.66 200.112 1001.27 Q197.056 1005.85 191.246 1005.85 Q185.436 1005.85 182.357 1001.27 Q179.302 996.66 179.302 987.934 Q179.302 979.184 182.357 974.6 Q185.436 969.994 191.246 969.994 Z\" fill=\"#000000\" fill-rule=\"evenodd\" fill-opacity=\"1\" /><path clip-path=\"url(#clip510)\" d=\"M91.5706 690.41 L99.2095 690.41 L99.2095 664.044 L90.8993 665.711 L90.8993 661.452 L99.1632 659.785 L103.839 659.785 L103.839 690.41 L111.478 690.41 L111.478 694.345 L91.5706 694.345 L91.5706 690.41 Z\" fill=\"#000000\" fill-rule=\"evenodd\" fill-opacity=\"1\" /><path clip-path=\"url(#clip510)\" d=\"M130.922 662.864 Q127.311 662.864 125.482 666.428 Q123.677 669.97 123.677 677.1 Q123.677 684.206 125.482 687.771 Q127.311 691.312 130.922 691.312 Q134.556 691.312 136.362 687.771 Q138.191 684.206 138.191 677.1 Q138.191 669.97 136.362 666.428 Q134.556 662.864 130.922 662.864 M130.922 659.16 Q136.732 659.16 139.788 663.766 Q142.867 668.35 142.867 677.1 Q142.867 685.826 139.788 690.433 Q136.732 695.016 130.922 695.016 Q125.112 695.016 122.033 690.433 Q118.978 685.826 118.978 677.1 Q118.978 668.35 122.033 663.766 Q125.112 659.16 130.922 659.16 Z\" fill=\"#000000\" fill-rule=\"evenodd\" fill-opacity=\"1\" /><path clip-path=\"url(#clip510)\" d=\"M161.084 662.864 Q157.473 662.864 155.644 666.428 Q153.839 669.97 153.839 677.1 Q153.839 684.206 155.644 687.771 Q157.473 691.312 161.084 691.312 Q164.718 691.312 166.524 687.771 Q168.353 684.206 168.353 677.1 Q168.353 669.97 166.524 666.428 Q164.718 662.864 161.084 662.864 M161.084 659.16 Q166.894 659.16 169.95 663.766 Q173.029 668.35 173.029 677.1 Q173.029 685.826 169.95 690.433 Q166.894 695.016 161.084 695.016 Q155.274 695.016 152.195 690.433 Q149.14 685.826 149.14 677.1 Q149.14 668.35 152.195 663.766 Q155.274 659.16 161.084 659.16 Z\" fill=\"#000000\" fill-rule=\"evenodd\" fill-opacity=\"1\" /><path clip-path=\"url(#clip510)\" d=\"M191.246 662.864 Q187.635 662.864 185.806 666.428 Q184.001 669.97 184.001 677.1 Q184.001 684.206 185.806 687.771 Q187.635 691.312 191.246 691.312 Q194.88 691.312 196.686 687.771 Q198.514 684.206 198.514 677.1 Q198.514 669.97 196.686 666.428 Q194.88 662.864 191.246 662.864 M191.246 659.16 Q197.056 659.16 200.112 663.766 Q203.19 668.35 203.19 677.1 Q203.19 685.826 200.112 690.433 Q197.056 695.016 191.246 695.016 Q185.436 695.016 182.357 690.433 Q179.302 685.826 179.302 677.1 Q179.302 668.35 182.357 663.766 Q185.436 659.16 191.246 659.16 Z\" fill=\"#000000\" fill-rule=\"evenodd\" fill-opacity=\"1\" /><path clip-path=\"url(#clip510)\" d=\"M94.7882 379.576 L111.108 379.576 L111.108 383.511 L89.1632 383.511 L89.1632 379.576 Q91.8252 376.821 96.4085 372.192 Q101.015 367.539 102.196 366.196 Q104.441 363.673 105.321 361.937 Q106.223 360.178 106.223 358.488 Q106.223 355.733 104.279 353.997 Q102.358 352.261 99.2558 352.261 Q97.0567 352.261 94.603 353.025 Q92.1725 353.789 89.3947 355.34 L89.3947 350.618 Q92.2188 349.483 94.6724 348.905 Q97.1261 348.326 99.1632 348.326 Q104.534 348.326 107.728 351.011 Q110.922 353.696 110.922 358.187 Q110.922 360.317 110.112 362.238 Q109.325 364.136 107.219 366.729 Q106.64 367.4 103.538 370.617 Q100.436 373.812 94.7882 379.576 Z\" fill=\"#000000\" fill-rule=\"evenodd\" fill-opacity=\"1\" /><path clip-path=\"url(#clip510)\" d=\"M130.922 352.03 Q127.311 352.03 125.482 355.594 Q123.677 359.136 123.677 366.266 Q123.677 373.372 125.482 376.937 Q127.311 380.479 130.922 380.479 Q134.556 380.479 136.362 376.937 Q138.191 373.372 138.191 366.266 Q138.191 359.136 136.362 355.594 Q134.556 352.03 130.922 352.03 M130.922 348.326 Q136.732 348.326 139.788 352.932 Q142.867 357.516 142.867 366.266 Q142.867 374.992 139.788 379.599 Q136.732 384.182 130.922 384.182 Q125.112 384.182 122.033 379.599 Q118.978 374.992 118.978 366.266 Q118.978 357.516 122.033 352.932 Q125.112 348.326 130.922 348.326 Z\" fill=\"#000000\" fill-rule=\"evenodd\" fill-opacity=\"1\" /><path clip-path=\"url(#clip510)\" d=\"M161.084 352.03 Q157.473 352.03 155.644 355.594 Q153.839 359.136 153.839 366.266 Q153.839 373.372 155.644 376.937 Q157.473 380.479 161.084 380.479 Q164.718 380.479 166.524 376.937 Q168.353 373.372 168.353 366.266 Q168.353 359.136 166.524 355.594 Q164.718 352.03 161.084 352.03 M161.084 348.326 Q166.894 348.326 169.95 352.932 Q173.029 357.516 173.029 366.266 Q173.029 374.992 169.95 379.599 Q166.894 384.182 161.084 384.182 Q155.274 384.182 152.195 379.599 Q149.14 374.992 149.14 366.266 Q149.14 357.516 152.195 352.932 Q155.274 348.326 161.084 348.326 Z\" fill=\"#000000\" fill-rule=\"evenodd\" fill-opacity=\"1\" /><path clip-path=\"url(#clip510)\" d=\"M191.246 352.03 Q187.635 352.03 185.806 355.594 Q184.001 359.136 184.001 366.266 Q184.001 373.372 185.806 376.937 Q187.635 380.479 191.246 380.479 Q194.88 380.479 196.686 376.937 Q198.514 373.372 198.514 366.266 Q198.514 359.136 196.686 355.594 Q194.88 352.03 191.246 352.03 M191.246 348.326 Q197.056 348.326 200.112 352.932 Q203.19 357.516 203.19 366.266 Q203.19 374.992 200.112 379.599 Q197.056 384.182 191.246 384.182 Q185.436 384.182 182.357 379.599 Q179.302 374.992 179.302 366.266 Q179.302 357.516 182.357 352.932 Q185.436 348.326 191.246 348.326 Z\" fill=\"#000000\" fill-rule=\"evenodd\" fill-opacity=\"1\" /><path clip-path=\"url(#clip510)\" d=\"M104.927 54.0428 Q108.283 54.7604 110.158 57.0289 Q112.057 59.2974 112.057 62.6308 Q112.057 67.7465 108.538 70.5474 Q105.02 73.3483 98.5382 73.3483 Q96.3623 73.3483 94.0475 72.9085 Q91.7558 72.4918 89.3021 71.6353 L89.3021 67.1215 Q91.2465 68.2557 93.5613 68.8344 Q95.8761 69.4131 98.3993 69.4131 Q102.797 69.4131 105.089 67.677 Q107.404 65.9409 107.404 62.6308 Q107.404 59.5752 105.251 57.8623 Q103.121 56.1262 99.3021 56.1262 L95.2743 56.1262 L95.2743 52.2836 L99.4872 52.2836 Q102.936 52.2836 104.765 50.9179 Q106.594 49.529 106.594 46.9364 Q106.594 44.2744 104.696 42.8623 Q102.821 41.4272 99.3021 41.4272 Q97.3808 41.4272 95.1817 41.8438 Q92.9826 42.2605 90.3438 43.1401 L90.3438 38.9735 Q93.0058 38.2327 95.3206 37.8624 Q97.6585 37.492 99.7187 37.492 Q105.043 37.492 108.145 39.9225 Q111.246 42.3299 111.246 46.4503 Q111.246 49.3206 109.603 51.3114 Q107.959 53.279 104.927 54.0428 Z\" fill=\"#000000\" fill-rule=\"evenodd\" fill-opacity=\"1\" /><path clip-path=\"url(#clip510)\" d=\"M130.922 41.1957 Q127.311 41.1957 125.482 44.7605 Q123.677 48.3021 123.677 55.4317 Q123.677 62.5382 125.482 66.103 Q127.311 69.6446 130.922 69.6446 Q134.556 69.6446 136.362 66.103 Q138.191 62.5382 138.191 55.4317 Q138.191 48.3021 136.362 44.7605 Q134.556 41.1957 130.922 41.1957 M130.922 37.492 Q136.732 37.492 139.788 42.0985 Q142.867 46.6818 142.867 55.4317 Q142.867 64.1585 139.788 68.765 Q136.732 73.3483 130.922 73.3483 Q125.112 73.3483 122.033 68.765 Q118.978 64.1585 118.978 55.4317 Q118.978 46.6818 122.033 42.0985 Q125.112 37.492 130.922 37.492 Z\" fill=\"#000000\" fill-rule=\"evenodd\" fill-opacity=\"1\" /><path clip-path=\"url(#clip510)\" d=\"M161.084 41.1957 Q157.473 41.1957 155.644 44.7605 Q153.839 48.3021 153.839 55.4317 Q153.839 62.5382 155.644 66.103 Q157.473 69.6446 161.084 69.6446 Q164.718 69.6446 166.524 66.103 Q168.353 62.5382 168.353 55.4317 Q168.353 48.3021 166.524 44.7605 Q164.718 41.1957 161.084 41.1957 M161.084 37.492 Q166.894 37.492 169.95 42.0985 Q173.029 46.6818 173.029 55.4317 Q173.029 64.1585 169.95 68.765 Q166.894 73.3483 161.084 73.3483 Q155.274 73.3483 152.195 68.765 Q149.14 64.1585 149.14 55.4317 Q149.14 46.6818 152.195 42.0985 Q155.274 37.492 161.084 37.492 Z\" fill=\"#000000\" fill-rule=\"evenodd\" fill-opacity=\"1\" /><path clip-path=\"url(#clip510)\" d=\"M191.246 41.1957 Q187.635 41.1957 185.806 44.7605 Q184.001 48.3021 184.001 55.4317 Q184.001 62.5382 185.806 66.103 Q187.635 69.6446 191.246 69.6446 Q194.88 69.6446 196.686 66.103 Q198.514 62.5382 198.514 55.4317 Q198.514 48.3021 196.686 44.7605 Q194.88 41.1957 191.246 41.1957 M191.246 37.492 Q197.056 37.492 200.112 42.0985 Q203.19 46.6818 203.19 55.4317 Q203.19 64.1585 200.112 68.765 Q197.056 73.3483 191.246 73.3483 Q185.436 73.3483 182.357 68.765 Q179.302 64.1585 179.302 55.4317 Q179.302 46.6818 182.357 42.0985 Q185.436 37.492 191.246 37.492 Z\" fill=\"#000000\" fill-rule=\"evenodd\" fill-opacity=\"1\" /><polyline clip-path=\"url(#clip512)\" style=\"stroke:#009af9; stroke-linecap:round; stroke-linejoin:round; stroke-width:4; stroke-opacity:1; fill:none\" points=\"\n",
       "  299.008,87.9763 330.658,990.324 362.308,1445.72 393.957,946.724 425.607,942.155 457.257,1000.13 488.906,1006.08 520.556,890.333 552.206,950.997 583.855,1096.36 \n",
       "  615.505,954.849 647.155,1049.48 678.804,965.315 710.454,1023.74 742.104,952.052 773.753,1027.31 805.403,893.192 837.053,1004.86 868.702,1057.48 900.352,980.353 \n",
       "  932.002,983.316 963.652,1043.22 995.301,973.116 1026.95,1003.29 1058.6,974.755 1090.25,941.278 1121.9,977.848 1153.55,1038.98 1185.2,944.261 1216.85,997.423 \n",
       "  1248.5,1032.73 1280.15,998.856 1311.8,1045.02 1343.45,1028.11 1375.1,890.922 1406.75,936.213 1438.4,1049.8 1470.05,977.846 1501.7,972.936 1533.35,1000.7 \n",
       "  1565,982.808 1596.65,998.839 1628.29,996.193 1659.94,974.042 1691.59,967.558 1723.24,1002.79 1754.89,987.396 1786.54,961.736 1818.19,1000.84 1849.84,1001.4 \n",
       "  1881.49,977.305 1913.14,1009.76 1944.79,990.287 1976.44,977.528 2008.09,1005.78 2039.74,983.417 2071.39,970.753 2103.04,993.215 2134.69,988.626 2166.34,985.942 \n",
       "  2197.99,999.275 2229.64,984.529 2261.29,977.734 2292.94,1008.11 \n",
       "  \"/>\n",
       "<path clip-path=\"url(#clip510)\" d=\"\n",
       "M2018.52 198.898 L2282.3 198.898 L2282.3 95.2176 L2018.52 95.2176  Z\n",
       "  \" fill=\"#ffffff\" fill-rule=\"evenodd\" fill-opacity=\"1\"/>\n",
       "<polyline clip-path=\"url(#clip510)\" style=\"stroke:#000000; stroke-linecap:round; stroke-linejoin:round; stroke-width:4; stroke-opacity:1; fill:none\" points=\"\n",
       "  2018.52,198.898 2282.3,198.898 2282.3,95.2176 2018.52,95.2176 2018.52,198.898 \n",
       "  \"/>\n",
       "<polyline clip-path=\"url(#clip510)\" style=\"stroke:#009af9; stroke-linecap:round; stroke-linejoin:round; stroke-width:4; stroke-opacity:1; fill:none\" points=\"\n",
       "  2042,147.058 2182.91,147.058 \n",
       "  \"/>\n",
       "<path clip-path=\"url(#clip510)\" d=\"M2220.23 166.745 Q2218.43 171.375 2216.71 172.787 Q2215 174.199 2212.13 174.199 L2208.73 174.199 L2208.73 170.634 L2211.23 170.634 Q2212.99 170.634 2213.96 169.8 Q2214.93 168.967 2216.11 165.865 L2216.88 163.921 L2206.39 138.412 L2210.9 138.412 L2219.01 158.689 L2227.11 138.412 L2231.62 138.412 L2220.23 166.745 Z\" fill=\"#000000\" fill-rule=\"evenodd\" fill-opacity=\"1\" /><path clip-path=\"url(#clip510)\" d=\"M2238.91 160.402 L2246.55 160.402 L2246.55 134.037 L2238.24 135.703 L2238.24 131.444 L2246.5 129.778 L2251.18 129.778 L2251.18 160.402 L2258.82 160.402 L2258.82 164.338 L2238.91 164.338 L2238.91 160.402 Z\" fill=\"#000000\" fill-rule=\"evenodd\" fill-opacity=\"1\" /></svg>\n"
      ]
     },
     "execution_count": 9,
     "metadata": {},
     "output_type": "execute_result"
    }
   ],
   "source": [
    "plot(dct_image[:][1:64])"
   ]
  },
  {
   "cell_type": "code",
   "execution_count": 13,
   "id": "0d163525",
   "metadata": {
    "ExecuteTime": {
     "end_time": "2023-02-05T17:07:40.345000+01:00",
     "start_time": "2023-02-05T16:07:40.342Z"
    }
   },
   "outputs": [
    {
     "data": {
      "text/plain": [
       "(0.5103664526624767, 2895.1875000000005, 522.6152475263762)"
      ]
     },
     "execution_count": 13,
     "metadata": {},
     "output_type": "execute_result"
    }
   ],
   "source": [
    "mean(dct_image), maximum(dct_image), sum(dct_image)"
   ]
  },
  {
   "cell_type": "code",
   "execution_count": 14,
   "id": "0722d916",
   "metadata": {},
   "outputs": [
    {
     "data": {
      "text/plain": [
       "plot (generic function with 4 methods)"
      ]
     },
     "execution_count": 14,
     "metadata": {},
     "output_type": "execute_result"
    }
   ],
   "source": [
    "plot"
   ]
  },
  {
   "cell_type": "code",
   "execution_count": 15,
   "id": "727a1bf7",
   "metadata": {
    "ExecuteTime": {
     "end_time": "2023-02-05T17:00:16.582000+01:00",
     "start_time": "2023-02-05T16:00:16.578Z"
    }
   },
   "outputs": [
    {
     "data": {
      "image/svg+xml": [
       "<?xml version=\"1.0\" encoding=\"UTF-8\"?>\n",
       "<!DOCTYPE svg PUBLIC \"-//W3C//DTD SVG 1.1//EN\"\n",
       " \"http://www.w3.org/Graphics/SVG/1.1/DTD/svg11.dtd\">\n",
       "<svg xmlns=\"http://www.w3.org/2000/svg\" version=\"1.1\"\n",
       "     width=\"25mm\" height=\"25mm\" viewBox=\"0 0 1 1\">\n",
       "    <rect width=\"1\" height=\"1\" fill=\"#000000\" stroke=\"none\"/>\n",
       "</svg>\n"
      ],
      "text/plain": [
       "Gray{N0f8}(0.0)"
      ]
     },
     "execution_count": 15,
     "metadata": {},
     "output_type": "execute_result"
    }
   ],
   "source": [
    "img_resized_gray[1]"
   ]
  },
  {
   "cell_type": "code",
   "execution_count": 16,
   "id": "4dc9db91",
   "metadata": {
    "ExecuteTime": {
     "end_time": "2023-02-05T16:51:54.049000+01:00",
     "start_time": "2023-02-05T15:51:54.043Z"
    }
   },
   "outputs": [
    {
     "data": {
      "text/plain": [
       "32×32 reinterpret(reshape, N0f8, ::Array{Gray{N0f8},2}) with eltype N0f8:\n",
       " 0.0    0.0    0.0    0.0    0.0    0.0    …  0.0    0.0    0.0    0.0    0.0\n",
       " 0.0    0.0    0.0    0.0    0.0    0.0       0.0    0.0    0.0    0.0    0.0\n",
       " 0.0    0.0    0.0    0.0    0.0    0.0       0.0    0.0    0.0    0.0    0.0\n",
       " 0.0    0.0    0.0    0.0    0.0    0.0       0.0    0.0    0.0    0.0    0.0\n",
       " 0.0    0.0    0.0    0.0    0.0    0.0       0.0    0.0    0.0    0.0    0.0\n",
       " 0.0    0.0    0.0    0.0    0.0    0.0    …  0.0    0.0    0.0    0.0    0.0\n",
       " 0.0    0.0    0.0    0.0    0.0    0.0       0.0    0.0    0.0    0.0    0.0\n",
       " 0.0    0.0    0.0    0.0    0.49   0.482     0.886  0.0    0.0    0.0    0.0\n",
       " 0.0    0.0    0.494  0.49   0.482  0.478     0.878  0.875  0.0    0.0    0.0\n",
       " 0.0    0.494  0.49   0.486  0.478  0.471     0.875  0.871  0.867  0.0    0.0\n",
       " 0.0    0.49   0.486  0.478  0.471  0.463  …  0.867  0.863  0.859  0.0    0.0\n",
       " 0.49   0.486  0.478  0.471  0.463  0.455     0.859  0.855  0.855  0.851  0.0\n",
       " 0.486  0.478  0.471  0.463  0.459  0.451     0.855  0.851  0.847  0.843  0.0\n",
       " ⋮                                  ⋮      ⋱                       ⋮      \n",
       " 0.0    0.0    0.42   0.416  0.408  0.4    …  0.812  0.812  0.0    0.0    0.0\n",
       " 0.0    0.0    0.0    0.0    0.0    0.0       0.0    0.0    0.0    0.0    0.0\n",
       " 0.0    0.0    0.0    0.0    0.0    0.0       0.0    0.0    0.0    0.0    0.0\n",
       " 0.0    0.0    0.0    0.0    0.0    0.0       0.0    0.0    0.0    0.0    0.0\n",
       " 0.0    0.0    0.0    0.0    0.0    0.0       0.0    0.0    0.0    0.0    0.0\n",
       " 0.0    0.0    0.0    0.0    0.0    0.0    …  0.0    0.0    0.0    0.0    0.0\n",
       " 0.0    0.0    0.0    0.0    0.0    0.0       0.0    0.0    0.0    0.0    0.0\n",
       " 0.0    0.0    0.0    0.0    0.0    0.0       0.0    0.0    0.0    0.0    0.0\n",
       " 0.0    0.0    0.0    0.0    0.0    0.0       0.0    0.0    0.0    0.0    0.0\n",
       " 0.0    0.0    0.0    0.0    0.0    0.0       0.0    0.0    0.0    0.0    0.0\n",
       " 0.0    0.0    0.0    0.0    0.0    0.0    …  0.0    0.0    0.0    0.0    0.0\n",
       " 0.0    0.0    0.0    0.0    0.0    0.0       0.0    0.0    0.0    0.0    0.0"
      ]
     },
     "execution_count": 16,
     "metadata": {},
     "output_type": "execute_result"
    }
   ],
   "source": [
    "channelview(img_resized_gray)"
   ]
  },
  {
   "cell_type": "code",
   "execution_count": 17,
   "id": "9dc2fdba",
   "metadata": {
    "ExecuteTime": {
     "end_time": "2023-02-05T16:50:58.663000+01:00",
     "start_time": "2023-02-05T15:50:58.393Z"
    },
    "scrolled": true
   },
   "outputs": [
    {
     "data": {
      "text/plain": [
       "Matrix{UInt8}\u001b[90m (alias for \u001b[39m\u001b[90mArray{UInt8, 2}\u001b[39m\u001b[90m)\u001b[39m"
      ]
     },
     "execution_count": 17,
     "metadata": {},
     "output_type": "execute_result"
    }
   ],
   "source": [
    "Matrix{UInt8}"
   ]
  },
  {
   "cell_type": "markdown",
   "id": "fb67d969",
   "metadata": {},
   "source": [
    "## Putting it all together"
   ]
  },
  {
   "cell_type": "code",
   "execution_count": 104,
   "id": "48ad3a22",
   "metadata": {},
   "outputs": [
    {
     "data": {
      "text/plain": [
       "perceptual_mathash (generic function with 2 methods)"
      ]
     },
     "execution_count": 104,
     "metadata": {},
     "output_type": "execute_result"
    }
   ],
   "source": [
    "\n",
    "function preprocess_image(image, n_size_side_preprocess=32)\n",
    "    img_resized = imresize(image, n_size_side_preprocess, n_size_side_preprocess)\n",
    "    img_resized_gray = Gray.(img_resized)\n",
    "    median_image_intensity = median(img_resized_gray).val\n",
    "    return img_resized_gray, median_image_intensity\n",
    "end\n",
    "\n",
    "function perceptual_mathash(image, n_size_side=8; n_size_side_preprocess=32)\n",
    "    img_resized_gray, median_image_intensity = preprocess_image(image, n_size_side_preprocess)\n",
    "    #dct_image = dct(dct(reinterpret(UInt8, img_resized_gray),1),2);\n",
    "    dct_image = dct(dct(reinterpret(UInt8, img_resized_gray),1),2);\n",
    "    # option 1) Take the first n_size_side*n_size_side values\n",
    "    #bit_matrix = dct_image[1:hash_size, 1:hash_size] .> median_image_intensity\n",
    "    # option 2) Remove first term of dct\n",
    "    bit_matrix = dct_image[1:n_size_side, 2:n_size_side+1] .> median_image_intensity\n",
    "    return bit_matrix\n",
    "end"
   ]
  },
  {
   "cell_type": "code",
   "execution_count": 105,
   "id": "417b22b9",
   "metadata": {},
   "outputs": [
    {
     "data": {
      "text/plain": [
       "(Gray{N0f8}[Gray{N0f8}(0.0) Gray{N0f8}(0.0) … Gray{N0f8}(0.0) Gray{N0f8}(0.0); Gray{N0f8}(0.0) Gray{N0f8}(0.0) … Gray{N0f8}(0.0) Gray{N0f8}(0.0); … ; Gray{N0f8}(0.0) Gray{N0f8}(0.0) … Gray{N0f8}(0.0) Gray{N0f8}(0.0); Gray{N0f8}(0.0) Gray{N0f8}(0.0) … Gray{N0f8}(0.0) Gray{N0f8}(0.0)], 0.39607844f0)"
      ]
     },
     "execution_count": 105,
     "metadata": {},
     "output_type": "execute_result"
    }
   ],
   "source": [
    "img_resized_gray, median_image_intensity = preprocess_image(image)"
   ]
  },
  {
   "cell_type": "code",
   "execution_count": 106,
   "id": "c9b55a9f",
   "metadata": {},
   "outputs": [
    {
     "data": {
      "image/png": "[encoded data removed]",
      "text/html": [
       "<img src=\"data:image/png;base64,iVBORw0KGgoAAAANSUhEUgAAAIAAAACACAAAAADmVT4XAAAABGdBTUEAALGPC/xhBQAAAAFzUkdCAK7OHOkAAAAgY0hSTQAAeiYAAICEAAD6AAAAgOgAAHUwAADqYAAAOpgAABdwnLpRPAAAAy1JREFUeAHFwU+q1gUYBtADvtkWGgXRQIIQ3UGraWKDBoIQKQ2CcNBEkP5MXZCTQBpk4C4Sep6En3C5XeX7tOA9Z7yDbxEUQRAEQfHIuxnLxrKxbJzhAYKiCIIgKIrgDoKfnGcsG8vGsnHCAwTfO9xDEBRFUBRB8SV+ddpYNpaNZeOEoC48xF0UQVAERRHEecaysWwsGycUwT08xF0EQVAERRAEcZ6xbCwby8YJQVDcRRAERVAEQVDUecaysWwsGyf84O2+QhEERRHEecaysWwsG/9yH0FQBEEQFEERBEERBEEcXrjsY5eNZWPZWDZee4AiKIogCIIiKIKgKIIgiKuK4k984sJYNpaNZeOVByiKIgiCoCiCIiiKIAiCuqooiuIPfOowlo1lY9l4pSiCIAiKIgiKoAiCICiKuiwoiqKoC2PZWDaWzX0UQRAERRAERVEEQRAUQV1VFEVQh99xA2PZWDaWTREEQVEEQVAUQRAERRHUZU/wHEFRFEVRh7FsLBvLJgiKIgiCoiiCICiKIKjLnuA5gqIo6lDUYSwby8ayCYogCIIiKB4733N8h6AoiqIoijqMZWPZWDZFEARBERSP8cLbFUVRBEVR1KEoiqIOY9lYNpZNEARFERSP8cKbFUVRFEVRFEVRFEVR1GEsG8vGsgmKIiiKeLOiDkVQFEVRh6IoiqAobjmMZWPZWDY/4msERVDUVUVRFEVRFEVRFEVRFEVRF8aysWwsG68ERVAEcaGoQ1AURVHUoSiKoCiKumosG8vGsvHKI9xBEQRxKIqiKIqiKIqiKIqiKIq6cNuFsWwsG8vGa4+9WVAURVEUN/x3Y9lYNpaNE4qiKIqieIaiKIqiKG45bSwby8aycUJQFEVRh6AoiqKo841lY9lYNk6IQ1EURVEUxU0XnjrfWDaWjWXjhKIoiqIoiqLe31g2lo1l44QbeIaiKIoiDsVTl912nrFsLBvLxhk+w28oiqKoN7vtfGPZWDaWjTN97rKnDr/gZ+9vLBvLxrLxnm77f4xlY9lYNpaNZWPZWDZO+AYf4S9cw4e4hg/wEtfxEsFLXMffuIkvnDaWjWVj2T+Ch/H6G5nbxgAAAABJRU5ErkJg\">"
      ],
      "text/plain": [
       "32×32 Array{Gray{N0f8},2} with eltype Gray{N0f8}:\n",
       " Gray{N0f8}(0.0)    Gray{N0f8}(0.0)    …  Gray{N0f8}(0.0)    Gray{N0f8}(0.0)\n",
       " Gray{N0f8}(0.0)    Gray{N0f8}(0.0)       Gray{N0f8}(0.0)    Gray{N0f8}(0.0)\n",
       " Gray{N0f8}(0.0)    Gray{N0f8}(0.0)       Gray{N0f8}(0.0)    Gray{N0f8}(0.0)\n",
       " Gray{N0f8}(0.0)    Gray{N0f8}(0.0)       Gray{N0f8}(0.0)    Gray{N0f8}(0.0)\n",
       " Gray{N0f8}(0.0)    Gray{N0f8}(0.0)       Gray{N0f8}(0.0)    Gray{N0f8}(0.0)\n",
       " Gray{N0f8}(0.0)    Gray{N0f8}(0.0)    …  Gray{N0f8}(0.0)    Gray{N0f8}(0.0)\n",
       " Gray{N0f8}(0.0)    Gray{N0f8}(0.0)       Gray{N0f8}(0.0)    Gray{N0f8}(0.0)\n",
       " Gray{N0f8}(0.0)    Gray{N0f8}(0.0)       Gray{N0f8}(0.0)    Gray{N0f8}(0.0)\n",
       " Gray{N0f8}(0.0)    Gray{N0f8}(0.0)       Gray{N0f8}(0.0)    Gray{N0f8}(0.0)\n",
       " Gray{N0f8}(0.0)    Gray{N0f8}(0.494)     Gray{N0f8}(0.0)    Gray{N0f8}(0.0)\n",
       " Gray{N0f8}(0.0)    Gray{N0f8}(0.49)   …  Gray{N0f8}(0.0)    Gray{N0f8}(0.0)\n",
       " Gray{N0f8}(0.49)   Gray{N0f8}(0.486)     Gray{N0f8}(0.851)  Gray{N0f8}(0.0)\n",
       " Gray{N0f8}(0.486)  Gray{N0f8}(0.478)     Gray{N0f8}(0.843)  Gray{N0f8}(0.0)\n",
       " ⋮                                     ⋱  ⋮                  \n",
       " Gray{N0f8}(0.0)    Gray{N0f8}(0.0)    …  Gray{N0f8}(0.0)    Gray{N0f8}(0.0)\n",
       " Gray{N0f8}(0.0)    Gray{N0f8}(0.0)       Gray{N0f8}(0.0)    Gray{N0f8}(0.0)\n",
       " Gray{N0f8}(0.0)    Gray{N0f8}(0.0)       Gray{N0f8}(0.0)    Gray{N0f8}(0.0)\n",
       " Gray{N0f8}(0.0)    Gray{N0f8}(0.0)       Gray{N0f8}(0.0)    Gray{N0f8}(0.0)\n",
       " Gray{N0f8}(0.0)    Gray{N0f8}(0.0)       Gray{N0f8}(0.0)    Gray{N0f8}(0.0)\n",
       " Gray{N0f8}(0.0)    Gray{N0f8}(0.0)    …  Gray{N0f8}(0.0)    Gray{N0f8}(0.0)\n",
       " Gray{N0f8}(0.0)    Gray{N0f8}(0.0)       Gray{N0f8}(0.0)    Gray{N0f8}(0.0)\n",
       " Gray{N0f8}(0.0)    Gray{N0f8}(0.0)       Gray{N0f8}(0.0)    Gray{N0f8}(0.0)\n",
       " Gray{N0f8}(0.0)    Gray{N0f8}(0.0)       Gray{N0f8}(0.0)    Gray{N0f8}(0.0)\n",
       " Gray{N0f8}(0.0)    Gray{N0f8}(0.0)       Gray{N0f8}(0.0)    Gray{N0f8}(0.0)\n",
       " Gray{N0f8}(0.0)    Gray{N0f8}(0.0)    …  Gray{N0f8}(0.0)    Gray{N0f8}(0.0)\n",
       " Gray{N0f8}(0.0)    Gray{N0f8}(0.0)       Gray{N0f8}(0.0)    Gray{N0f8}(0.0)"
      ]
     },
     "execution_count": 106,
     "metadata": {},
     "output_type": "execute_result"
    }
   ],
   "source": [
    "img_resized_gray"
   ]
  },
  {
   "cell_type": "code",
   "execution_count": 107,
   "id": "d6f16929",
   "metadata": {},
   "outputs": [
    {
     "data": {
      "image/png": "[encoded data removed]",
      "text/html": [
       "<img src=\"data:image/png;base64,iVBORw0KGgoAAAANSUhEUgAAAGgAAABoCAAAAAA4d+p9AAAABGdBTUEAALGPC/xhBQAAAAFzUkdCAK7OHOkAAAAgY0hSTQAAeiYAAICEAAD6AAAAgOgAAHUwAADqYAAAOpgAABdwnLpRPAAAANtJREFUaAW9wTFqAEEMwEAZ9P8vO62bhUsCmpE/WI7hWI7hkIhEJCIRiUhEIhKRiEQkIhG5lpfhGH5PIhKRiEQkIhGJSEQiEpGIRFyO4WU5hmM5hmM5JCIRiUhEIhKRiEQkIhGJSEQiEpGIRCQiEYlIRCISkYhEJOJwLJ8sx/AyHBKRiEQkIhGJSEQiEpGIRCTi8jIcy8tyDMdySEQiEpGIRCQiEYlIRCISkYh8MxzLMRzLMRwSkYhEJCIRiUhEIhKRiEQk4vDJ8k8SkYhEJCIRiUhEIhKRiEQk8gMe3xGhBAPX8AAAAABJRU5ErkJg\">"
      ],
      "text/plain": [
       "8×8 Array{Gray{Bool},2} with eltype Gray{Bool}:\n",
       " Gray{Bool}(false)  Gray{Bool}(false)  …  Gray{Bool}(false)\n",
       " Gray{Bool}(false)  Gray{Bool}(true)      Gray{Bool}(false)\n",
       " Gray{Bool}(true)   Gray{Bool}(false)     Gray{Bool}(true)\n",
       " Gray{Bool}(true)   Gray{Bool}(false)     Gray{Bool}(true)\n",
       " Gray{Bool}(false)  Gray{Bool}(true)      Gray{Bool}(false)\n",
       " Gray{Bool}(true)   Gray{Bool}(true)   …  Gray{Bool}(true)\n",
       " Gray{Bool}(true)   Gray{Bool}(true)      Gray{Bool}(false)\n",
       " Gray{Bool}(false)  Gray{Bool}(false)     Gray{Bool}(false)"
      ]
     },
     "execution_count": 107,
     "metadata": {},
     "output_type": "execute_result"
    }
   ],
   "source": [
    "Gray.(perceptual_mathash(image))"
   ]
  },
  {
   "cell_type": "code",
   "execution_count": 119,
   "id": "2df14b74",
   "metadata": {},
   "outputs": [],
   "source": [
    "dct_image = dct(dct(reinterpret(UInt8, img_resized_gray),1),2);"
   ]
  },
  {
   "cell_type": "code",
   "execution_count": 120,
   "id": "a897777c",
   "metadata": {},
   "outputs": [
    {
     "name": "stdout",
     "output_type": "stream",
     "text": [
      "  35.959 μs (132 allocations: 32.75 KiB)\n"
     ]
    }
   ],
   "source": [
    "@btime dct_image = dct(dct(reinterpret(UInt8, img_resized_gray),1),2);"
   ]
  },
  {
   "cell_type": "code",
   "execution_count": 123,
   "id": "f6b98997",
   "metadata": {},
   "outputs": [
    {
     "name": "stdout",
     "output_type": "stream",
     "text": [
      "  38.042 μs (81 allocations: 21.66 KiB)\n"
     ]
    }
   ],
   "source": [
    "@btime dct(reinterpret(UInt8, img_resized_gray));"
   ]
  },
  {
   "cell_type": "code",
   "execution_count": 128,
   "id": "98cbe176",
   "metadata": {},
   "outputs": [
    {
     "name": "stdout",
     "output_type": "stream",
     "text": [
      "  28.375 μs (92 allocations: 6.42 KiB)\n"
     ]
    }
   ],
   "source": [
    "@btime dct(reinterpret(Float32, img_resized_gray));"
   ]
  },
  {
   "cell_type": "code",
   "execution_count": 145,
   "id": "6dbb9977",
   "metadata": {},
   "outputs": [
    {
     "name": "stdout",
     "output_type": "stream",
     "text": [
      "  38.792 μs (84 allocations: 13.48 KiB)\n"
     ]
    },
    {
     "data": {
      "text/plain": [
       "32×32 Matrix{Float32}:\n",
       " 11.3537     -0.720639    -4.3751     …   0.0450257    0.341382\n",
       " -0.0305912  -0.507326     1.6609        -0.214301    -0.0492652\n",
       " -5.77595     1.22348     -1.29944       -0.0800702   -0.139636\n",
       "  0.51947     0.652083    -3.05633        0.362778    -0.0231077\n",
       "  0.577119   -0.780919     1.13698        0.0419931   -0.099237\n",
       " -0.154298    0.12683      0.413655   …  -0.139527    -0.207534\n",
       " -0.229406    0.188777     0.770972      -0.0911417    0.0826901\n",
       "  1.23091    -0.161511    -0.222121       0.059485    -0.091432\n",
       "  0.465567    0.0642248   -0.595561      -0.120274    -0.0756889\n",
       " -1.36833    -0.138028     0.805843      -0.100858     0.0360554\n",
       "  0.416967   -0.104635    -0.239706   …   0.147469    -0.166508\n",
       " -0.776868    0.174823     0.0413108      0.12661     -0.0162699\n",
       "  0.284925    0.256628    -0.834935      -0.0501938   -0.0172999\n",
       "  ⋮                                   ⋱   ⋮           \n",
       "  0.0578128  -0.0301269   -0.255345   …  -0.0050545   -0.152151\n",
       " -0.69796     0.13084      0.328179      -0.00896852  -0.121103\n",
       "  0.186503   -0.225551     0.0756643     -0.0917274    0.0302126\n",
       " -0.19422     0.0565394    0.271652      -0.0192039    0.181162\n",
       "  0.165831    0.21632     -0.308383      -0.0667102    0.00962042\n",
       "  0.588179   -0.0670711   -0.378712   …   0.0479009   -0.00759506\n",
       "  0.126803   -0.00917977   0.0341282      0.159553    -0.00260353\n",
       " -0.6445      0.0246899    0.664434       0.116386     0.115975\n",
       "  0.550552   -0.143524    -0.402377      -0.0748647    0.160079\n",
       " -0.120158    0.0425175   -0.115339      -0.0911923   -0.0720823\n",
       " -0.565663    0.128245     0.205106   …   0.07317      0.0802097\n",
       " -0.138237   -0.254951     0.162124       0.109483    -0.0211721"
      ]
     },
     "execution_count": 145,
     "metadata": {},
     "output_type": "execute_result"
    }
   ],
   "source": [
    "@btime dct(Float32.(channelview(img_resized_gray)))"
   ]
  },
  {
   "cell_type": "code",
   "execution_count": 146,
   "id": "5da9833d",
   "metadata": {},
   "outputs": [
    {
     "name": "stdout",
     "output_type": "stream",
     "text": [
      "  37.000 μs (135 allocations: 20.58 KiB)\n"
     ]
    },
    {
     "data": {
      "text/plain": [
       "32×32 Matrix{Float32}:\n",
       " 11.3537     -0.720639    -4.3751     …   0.0450258    0.341382\n",
       " -0.0305912  -0.507326     1.6609        -0.214301    -0.0492652\n",
       " -5.77595     1.22348     -1.29944       -0.0800702   -0.139636\n",
       "  0.51947     0.652083    -3.05633        0.362778    -0.0231077\n",
       "  0.577119   -0.780919     1.13698        0.0419931   -0.099237\n",
       " -0.154298    0.12683      0.413655   …  -0.139527    -0.207534\n",
       " -0.229406    0.188777     0.770972      -0.0911417    0.0826901\n",
       "  1.23091    -0.161511    -0.222121       0.059485    -0.091432\n",
       "  0.465567    0.0642248   -0.595561      -0.120274    -0.0756889\n",
       " -1.36833    -0.138028     0.805843      -0.100858     0.0360554\n",
       "  0.416967   -0.104635    -0.239706   …   0.147469    -0.166508\n",
       " -0.776868    0.174823     0.0413108      0.12661     -0.0162699\n",
       "  0.284925    0.256628    -0.834935      -0.0501938   -0.0172999\n",
       "  ⋮                                   ⋱   ⋮           \n",
       "  0.0578128  -0.0301269   -0.255345   …  -0.0050545   -0.152151\n",
       " -0.69796     0.13084      0.328179      -0.00896852  -0.121103\n",
       "  0.186503   -0.225551     0.0756643     -0.0917274    0.0302126\n",
       " -0.19422     0.0565394    0.271652      -0.0192039    0.181162\n",
       "  0.165831    0.21632     -0.308383      -0.0667102    0.00962042\n",
       "  0.588179   -0.0670711   -0.378712   …   0.0479009   -0.00759506\n",
       "  0.126803   -0.00917977   0.0341282      0.159553    -0.00260353\n",
       " -0.6445      0.0246899    0.664434       0.116386     0.115975\n",
       "  0.550552   -0.143524    -0.402377      -0.0748647    0.160079\n",
       " -0.120158    0.0425175   -0.115339      -0.0911923   -0.0720823\n",
       " -0.565663    0.128245     0.205106   …   0.07317      0.0802097\n",
       " -0.138237   -0.254951     0.162124       0.109483    -0.0211721"
      ]
     },
     "execution_count": 146,
     "metadata": {},
     "output_type": "execute_result"
    }
   ],
   "source": [
    "@btime dct(dct(Float32.(channelview(img_resized_gray)),1),2)"
   ]
  },
  {
   "cell_type": "code",
   "execution_count": 144,
   "id": "4556c1f4",
   "metadata": {},
   "outputs": [
    {
     "data": {
      "image/png": "[encoded data removed]",
      "text/html": [
       "<img src=\"data:image/png;base64,iVBORw0KGgoAAAANSUhEUgAAAIAAAACACAAAAADmVT4XAAAABGdBTUEAALGPC/xhBQAAAAFzUkdCAK7OHOkAAAAgY0hSTQAAeiYAAICEAAD6AAAAgOgAAHUwAADqYAAAOpgAABdwnLpRPAAAAy1JREFUeAHFwU+q1gUYBtADvtkWGgXRQIIQ3UGraWKDBoIQKQ2CcNBEkP5MXZCTQBpk4C4Sep6En3C5XeX7tOA9Z7yDbxEUQRAEQfHIuxnLxrKxbJzhAYKiCIIgKIrgDoKfnGcsG8vGsnHCAwTfO9xDEBRFUBRB8SV+ddpYNpaNZeOEoC48xF0UQVAERRHEecaysWwsGycUwT08xF0EQVAERRAEcZ6xbCwby8YJQVDcRRAERVAEQVDUecaysWwsGyf84O2+QhEERRHEecaysWwsG/9yH0FQBEEQFEERBEERBEEcXrjsY5eNZWPZWDZee4AiKIogCIIiKIKgKIIgiKuK4k984sJYNpaNZeOVByiKIgiCoCiCIiiKIAiCuqooiuIPfOowlo1lY9l4pSiCIAiKIgiKoAiCICiKuiwoiqKoC2PZWDaWzX0UQRAERRAERVEEQRAUQV1VFEVQh99xA2PZWDaWTREEQVEEQVAUQRAERRHUZU/wHEFRFEVRh7FsLBvLJgiKIgiCoiiCICiKIKjLnuA5gqIo6lDUYSwby8ayCYogCIIiKB4733N8h6AoiqIoijqMZWPZWDZFEARBERSP8cLbFUVRBEVR1KEoiqIOY9lYNpZNEARFERSP8cKbFUVRFEVRFEVRFEVR1GEsG8vGsgmKIiiKeLOiDkVQFEVRh6IoiqAobjmMZWPZWDY/4msERVDUVUVRFEVRFEVRFEVRFEVRF8aysWwsG68ERVAEcaGoQ1AURVHUoSiKoCiKumosG8vGsvHKI9xBEQRxKIqiKIqiKIqiKIqiKIq6cNuFsWwsG8vGa4+9WVAURVEUN/x3Y9lYNpaNE4qiKIqieIaiKIqiKG45bSwby8aycUJQFEVRh6AoiqKo841lY9lYNk6IQ1EURVEUxU0XnjrfWDaWjWXjhKIoiqIoiqLe31g2lo1l44QbeIaiKIoiDsVTl912nrFsLBvLxhk+w28oiqKoN7vtfGPZWDaWjTN97rKnDr/gZ+9vLBvLxrLxnm77f4xlY9lYNpaNZWPZWDZO+AYf4S9cw4e4hg/wEtfxEsFLXMffuIkvnDaWjWVj2T+Ch/H6G5nbxgAAAABJRU5ErkJg\">"
      ],
      "text/plain": [
       "32×32 Array{Gray{Float32},2} with eltype Gray{Float32}:\n",
       " Gray{Float32}(0.0)       Gray{Float32}(0.0)       …  Gray{Float32}(0.0)\n",
       " Gray{Float32}(0.0)       Gray{Float32}(0.0)          Gray{Float32}(0.0)\n",
       " Gray{Float32}(0.0)       Gray{Float32}(0.0)          Gray{Float32}(0.0)\n",
       " Gray{Float32}(0.0)       Gray{Float32}(0.0)          Gray{Float32}(0.0)\n",
       " Gray{Float32}(0.0)       Gray{Float32}(0.0)          Gray{Float32}(0.0)\n",
       " Gray{Float32}(0.0)       Gray{Float32}(0.0)       …  Gray{Float32}(0.0)\n",
       " Gray{Float32}(0.0)       Gray{Float32}(0.0)          Gray{Float32}(0.0)\n",
       " Gray{Float32}(0.0)       Gray{Float32}(0.0)          Gray{Float32}(0.0)\n",
       " Gray{Float32}(0.0)       Gray{Float32}(0.0)          Gray{Float32}(0.0)\n",
       " Gray{Float32}(0.0)       Gray{Float32}(0.494118)     Gray{Float32}(0.0)\n",
       " Gray{Float32}(0.0)       Gray{Float32}(0.490196)  …  Gray{Float32}(0.0)\n",
       " Gray{Float32}(0.490196)  Gray{Float32}(0.486275)     Gray{Float32}(0.0)\n",
       " Gray{Float32}(0.486275)  Gray{Float32}(0.478431)     Gray{Float32}(0.0)\n",
       " ⋮                                                 ⋱  \n",
       " Gray{Float32}(0.0)       Gray{Float32}(0.0)       …  Gray{Float32}(0.0)\n",
       " Gray{Float32}(0.0)       Gray{Float32}(0.0)          Gray{Float32}(0.0)\n",
       " Gray{Float32}(0.0)       Gray{Float32}(0.0)          Gray{Float32}(0.0)\n",
       " Gray{Float32}(0.0)       Gray{Float32}(0.0)          Gray{Float32}(0.0)\n",
       " Gray{Float32}(0.0)       Gray{Float32}(0.0)          Gray{Float32}(0.0)\n",
       " Gray{Float32}(0.0)       Gray{Float32}(0.0)       …  Gray{Float32}(0.0)\n",
       " Gray{Float32}(0.0)       Gray{Float32}(0.0)          Gray{Float32}(0.0)\n",
       " Gray{Float32}(0.0)       Gray{Float32}(0.0)          Gray{Float32}(0.0)\n",
       " Gray{Float32}(0.0)       Gray{Float32}(0.0)          Gray{Float32}(0.0)\n",
       " Gray{Float32}(0.0)       Gray{Float32}(0.0)          Gray{Float32}(0.0)\n",
       " Gray{Float32}(0.0)       Gray{Float32}(0.0)       …  Gray{Float32}(0.0)\n",
       " Gray{Float32}(0.0)       Gray{Float32}(0.0)          Gray{Float32}(0.0)"
      ]
     },
     "execution_count": 144,
     "metadata": {},
     "output_type": "execute_result"
    }
   ],
   "source": [
    "Gray.(Float32.(channelview(img_resized_gray)))"
   ]
  },
  {
   "cell_type": "code",
   "execution_count": 137,
   "id": "45c214f2",
   "metadata": {},
   "outputs": [
    {
     "data": {
      "image/png": "[encoded data removed]",
      "text/html": [
       "<img src=\"data:image/png;base64,iVBORw0KGgoAAAANSUhEUgAAAIAAAACACAAAAADmVT4XAAAABGdBTUEAALGPC/xhBQAAAAFzUkdCAK7OHOkAAAAgY0hSTQAAeiYAAICEAAD6AAAAgOgAAHUwAADqYAAAOpgAABdwnLpRPAAAAy1JREFUeAHFwU+q1gUYBtADvtkWGgXRQIIQ3UGraWKDBoIQKQ2CcNBEkP5MXZCTQBpk4C4Sep6En3C5XeX7tOA9Z7yDbxEUQRAEQfHIuxnLxrKxbJzhAYKiCIIgKIrgDoKfnGcsG8vGsnHCAwTfO9xDEBRFUBRB8SV+ddpYNpaNZeOEoC48xF0UQVAERRHEecaysWwsGycUwT08xF0EQVAERRAEcZ6xbCwby8YJQVDcRRAERVAEQVDUecaysWwsGyf84O2+QhEERRHEecaysWwsG/9yH0FQBEEQFEERBEERBEEcXrjsY5eNZWPZWDZee4AiKIogCIIiKIKgKIIgiKuK4k984sJYNpaNZeOVByiKIgiCoCiCIiiKIAiCuqooiuIPfOowlo1lY9l4pSiCIAiKIgiKoAiCICiKuiwoiqKoC2PZWDaWzX0UQRAERRAERVEEQRAUQV1VFEVQh99xA2PZWDaWTREEQVEEQVAUQRAERRHUZU/wHEFRFEVRh7FsLBvLJgiKIgiCoiiCICiKIKjLnuA5gqIo6lDUYSwby8ayCYogCIIiKB4733N8h6AoiqIoijqMZWPZWDZFEARBERSP8cLbFUVRBEVR1KEoiqIOY9lYNpZNEARFERSP8cKbFUVRFEVRFEVRFEVR1GEsG8vGsgmKIiiKeLOiDkVQFEVRh6IoiqAobjmMZWPZWDY/4msERVDUVUVRFEVRFEVRFEVRFEVRF8aysWwsG68ERVAEcaGoQ1AURVHUoSiKoCiKumosG8vGsvHKI9xBEQRxKIqiKIqiKIqiKIqiKIq6cNuFsWwsG8vGa4+9WVAURVEUN/x3Y9lYNpaNE4qiKIqieIaiKIqiKG45bSwby8aycUJQFEVRh6AoiqKo841lY9lYNk6IQ1EURVEUxU0XnjrfWDaWjWXjhKIoiqIoiqLe31g2lo1l44QbeIaiKIoiDsVTl912nrFsLBvLxhk+w28oiqKoN7vtfGPZWDaWjTN97rKnDr/gZ+9vLBvLxrLxnm77f4xlY9lYNpaNZWPZWDZO+AYf4S9cw4e4hg/wEtfxEsFLXMffuIkvnDaWjWVj2T+Ch/H6G5nbxgAAAABJRU5ErkJg\">"
      ],
      "text/plain": [
       "32×32 Array{Gray{N0f8},2} with eltype Gray{N0f8}:\n",
       " Gray{N0f8}(0.0)    Gray{N0f8}(0.0)    …  Gray{N0f8}(0.0)    Gray{N0f8}(0.0)\n",
       " Gray{N0f8}(0.0)    Gray{N0f8}(0.0)       Gray{N0f8}(0.0)    Gray{N0f8}(0.0)\n",
       " Gray{N0f8}(0.0)    Gray{N0f8}(0.0)       Gray{N0f8}(0.0)    Gray{N0f8}(0.0)\n",
       " Gray{N0f8}(0.0)    Gray{N0f8}(0.0)       Gray{N0f8}(0.0)    Gray{N0f8}(0.0)\n",
       " Gray{N0f8}(0.0)    Gray{N0f8}(0.0)       Gray{N0f8}(0.0)    Gray{N0f8}(0.0)\n",
       " Gray{N0f8}(0.0)    Gray{N0f8}(0.0)    …  Gray{N0f8}(0.0)    Gray{N0f8}(0.0)\n",
       " Gray{N0f8}(0.0)    Gray{N0f8}(0.0)       Gray{N0f8}(0.0)    Gray{N0f8}(0.0)\n",
       " Gray{N0f8}(0.0)    Gray{N0f8}(0.0)       Gray{N0f8}(0.0)    Gray{N0f8}(0.0)\n",
       " Gray{N0f8}(0.0)    Gray{N0f8}(0.0)       Gray{N0f8}(0.0)    Gray{N0f8}(0.0)\n",
       " Gray{N0f8}(0.0)    Gray{N0f8}(0.494)     Gray{N0f8}(0.0)    Gray{N0f8}(0.0)\n",
       " Gray{N0f8}(0.0)    Gray{N0f8}(0.49)   …  Gray{N0f8}(0.0)    Gray{N0f8}(0.0)\n",
       " Gray{N0f8}(0.49)   Gray{N0f8}(0.486)     Gray{N0f8}(0.851)  Gray{N0f8}(0.0)\n",
       " Gray{N0f8}(0.486)  Gray{N0f8}(0.478)     Gray{N0f8}(0.843)  Gray{N0f8}(0.0)\n",
       " ⋮                                     ⋱  ⋮                  \n",
       " Gray{N0f8}(0.0)    Gray{N0f8}(0.0)    …  Gray{N0f8}(0.0)    Gray{N0f8}(0.0)\n",
       " Gray{N0f8}(0.0)    Gray{N0f8}(0.0)       Gray{N0f8}(0.0)    Gray{N0f8}(0.0)\n",
       " Gray{N0f8}(0.0)    Gray{N0f8}(0.0)       Gray{N0f8}(0.0)    Gray{N0f8}(0.0)\n",
       " Gray{N0f8}(0.0)    Gray{N0f8}(0.0)       Gray{N0f8}(0.0)    Gray{N0f8}(0.0)\n",
       " Gray{N0f8}(0.0)    Gray{N0f8}(0.0)       Gray{N0f8}(0.0)    Gray{N0f8}(0.0)\n",
       " Gray{N0f8}(0.0)    Gray{N0f8}(0.0)    …  Gray{N0f8}(0.0)    Gray{N0f8}(0.0)\n",
       " Gray{N0f8}(0.0)    Gray{N0f8}(0.0)       Gray{N0f8}(0.0)    Gray{N0f8}(0.0)\n",
       " Gray{N0f8}(0.0)    Gray{N0f8}(0.0)       Gray{N0f8}(0.0)    Gray{N0f8}(0.0)\n",
       " Gray{N0f8}(0.0)    Gray{N0f8}(0.0)       Gray{N0f8}(0.0)    Gray{N0f8}(0.0)\n",
       " Gray{N0f8}(0.0)    Gray{N0f8}(0.0)       Gray{N0f8}(0.0)    Gray{N0f8}(0.0)\n",
       " Gray{N0f8}(0.0)    Gray{N0f8}(0.0)    …  Gray{N0f8}(0.0)    Gray{N0f8}(0.0)\n",
       " Gray{N0f8}(0.0)    Gray{N0f8}(0.0)       Gray{N0f8}(0.0)    Gray{N0f8}(0.0)"
      ]
     },
     "execution_count": 137,
     "metadata": {},
     "output_type": "execute_result"
    }
   ],
   "source": [
    "img_resized_gray"
   ]
  },
  {
   "cell_type": "code",
   "execution_count": 125,
   "id": "3612f475",
   "metadata": {},
   "outputs": [],
   "source": [
    "#[x for x in eachindex(dct_image_top_n_hash)]"
   ]
  },
  {
   "cell_type": "code",
   "execution_count": 115,
   "id": "6dba2b23",
   "metadata": {},
   "outputs": [
    {
     "data": {
      "text/plain": [
       "reinterpret_bits_as_int_perceptual_hash (generic function with 1 method)"
      ]
     },
     "execution_count": 115,
     "metadata": {},
     "output_type": "execute_result"
    }
   ],
   "source": [
    "\n",
    "function perceptual_hash(image, n_size_side=8)\n",
    "    img_resized_gray, median_image_intensity = preprocess_image(image)\n",
    "    dct_image = dct(dct(reinterpret(UInt8, img_resized_gray),1),2);\n",
    "    # Option 1)\n",
    "    #dct_image_view = view(dct_image,1:n_size_side, 2:n_size_side+1)\n",
    "    #hash = reinterpret_bits_as_int_perceptual_hash(dct_image_view, median_image_intensity)\n",
    "    # Option 2)\n",
    "    #dct_image_view = view(dct_image,1:n_size_side, 2:n_size_side+1)\n",
    "    dct_image_top_n_hash = dct_image[1:n_size_side, 2:n_size_side+1]\n",
    "    hash = reinterpret_bits_as_int_perceptual_hash(dct_image_top_n_hash, median_image_intensity)\n",
    "    return hash\n",
    "end\n",
    "\n",
    "function reinterpret_bits_as_int_perceptual_hash(img_resized_gray, median_image_intensity)\n",
    "\n",
    "    n_bits = length(img_resized_gray)\n",
    "\n",
    "    if n_bits <= 64\n",
    "        z = zero(UInt64)\n",
    "    elseif n_bits <= 128\n",
    "        z = zero(UInt128)\n",
    "    else\n",
    "        z = zero(BigInt)\n",
    "    end\n",
    "\n",
    "    for k in eachindex(img_resized_gray)\n",
    "        z = (z <<1) | (img_resized_gray[k] > median_image_intensity)\n",
    "    end\n",
    "    return z\n",
    "end"
   ]
  },
  {
   "cell_type": "code",
   "execution_count": 118,
   "id": "cfdf8913",
   "metadata": {},
   "outputs": [
    {
     "name": "stdout",
     "output_type": "stream",
     "text": [
      "  56.291 μs (139 allocations: 39.62 KiB)\n"
     ]
    },
    {
     "data": {
      "text/plain": [
       "0x364e483d8f34c334"
      ]
     },
     "execution_count": 118,
     "metadata": {},
     "output_type": "execute_result"
    }
   ],
   "source": [
    "@btime perceptual_hash(image)"
   ]
  },
  {
   "cell_type": "code",
   "execution_count": 98,
   "id": "756c69f5",
   "metadata": {},
   "outputs": [
    {
     "data": {
      "text/plain": [
       "eachindex (generic function with 29 methods)"
      ]
     },
     "execution_count": 98,
     "metadata": {},
     "output_type": "execute_result"
    }
   ],
   "source": []
  },
  {
   "cell_type": "code",
   "execution_count": null,
   "id": "3d93f008",
   "metadata": {},
   "outputs": [],
   "source": []
  },
  {
   "cell_type": "code",
   "execution_count": null,
   "id": "46f4948f",
   "metadata": {},
   "outputs": [],
   "source": []
  },
  {
   "cell_type": "code",
   "execution_count": 42,
   "id": "3b999e04",
   "metadata": {},
   "outputs": [
    {
     "ename": "LoadError",
     "evalue": "syntax: unexpected \")\"",
     "output_type": "error",
     "traceback": [
      "syntax: unexpected \")\"",
      "",
      "Stacktrace:",
      " [1] top-level scope",
      "   @ In[42]:4",
      " [2] eval",
      "   @ ./boot.jl:368 [inlined]",
      " [3] include_string(mapexpr::typeof(REPL.softscope), mod::Module, code::String, filename::String)",
      "   @ Base ./loading.jl:1428"
     ]
    }
   ],
   "source": [
    "\n",
    "function perceptual_hash_slow(image, n_size_side=8; n_size_side_preprocess=32)\n",
    "    bit_matrix = perceptual_mathash(image, n_size_side; n_size_side_preprocess=n_size_side_preprocess)\n",
    "    hash = reinterpret_bits_as_int_perceptual_hash(bit_matrix.)\n",
    "    return hash\n",
    "end"
   ]
  },
  {
   "cell_type": "code",
   "execution_count": null,
   "id": "a7293e17",
   "metadata": {},
   "outputs": [],
   "source": []
  },
  {
   "cell_type": "code",
   "execution_count": 159,
   "id": "0485110f",
   "metadata": {},
   "outputs": [
    {
     "data": {
      "text/plain": [
       "32×32 Matrix{Float32}:\n",
       " 0.0       0.0       0.0       0.0       …  0.0       0.0       0.0       0.0\n",
       " 0.0       0.0       0.0       0.0          0.0       0.0       0.0       0.0\n",
       " 0.0       0.0       0.0       0.0          0.0       0.0       0.0       0.0\n",
       " 0.0       0.0       0.0       0.0          0.0       0.0       0.0       0.0\n",
       " 0.0       0.0       0.0       0.0          0.0       0.0       0.0       0.0\n",
       " 0.0       0.0       0.0       0.0       …  0.0       0.0       0.0       0.0\n",
       " 0.0       0.0       0.0       0.0          0.0       0.0       0.0       0.0\n",
       " 0.0       0.0       0.0       0.0          0.0       0.0       0.0       0.0\n",
       " 0.0       0.0       0.494118  0.490196     0.87451   0.0       0.0       0.0\n",
       " 0.0       0.494118  0.490196  0.486275     0.870588  0.866667  0.0       0.0\n",
       " 0.0       0.490196  0.486275  0.478431  …  0.862745  0.858824  0.0       0.0\n",
       " 0.490196  0.486275  0.478431  0.470588     0.854902  0.854902  0.85098   0.0\n",
       " 0.486275  0.478431  0.470588  0.462745     0.85098   0.847059  0.843137  0.0\n",
       " ⋮                                       ⋱                      ⋮         \n",
       " 0.0       0.0       0.419608  0.415686  …  0.811765  0.0       0.0       0.0\n",
       " 0.0       0.0       0.0       0.0          0.0       0.0       0.0       0.0\n",
       " 0.0       0.0       0.0       0.0          0.0       0.0       0.0       0.0\n",
       " 0.0       0.0       0.0       0.0          0.0       0.0       0.0       0.0\n",
       " 0.0       0.0       0.0       0.0          0.0       0.0       0.0       0.0\n",
       " 0.0       0.0       0.0       0.0       …  0.0       0.0       0.0       0.0\n",
       " 0.0       0.0       0.0       0.0          0.0       0.0       0.0       0.0\n",
       " 0.0       0.0       0.0       0.0          0.0       0.0       0.0       0.0\n",
       " 0.0       0.0       0.0       0.0          0.0       0.0       0.0       0.0\n",
       " 0.0       0.0       0.0       0.0          0.0       0.0       0.0       0.0\n",
       " 0.0       0.0       0.0       0.0       …  0.0       0.0       0.0       0.0\n",
       " 0.0       0.0       0.0       0.0          0.0       0.0       0.0       0.0"
      ]
     },
     "execution_count": 159,
     "metadata": {},
     "output_type": "execute_result"
    }
   ],
   "source": [
    "Float32.(channelview(img_resized_gray))"
   ]
  },
  {
   "cell_type": "code",
   "execution_count": 161,
   "id": "5ec0f22a",
   "metadata": {},
   "outputs": [
    {
     "data": {
      "text/plain": [
       "32×32 Matrix{Float64}:\n",
       "  2895.19     -183.763    -1115.65     …   84.0957    11.4815    87.0525\n",
       "    -7.80075  -129.368      423.53         -3.06383  -54.6467   -12.5626\n",
       " -1472.87      311.988     -331.356       -22.0447   -20.4179   -35.6073\n",
       "   132.465     166.281     -779.363        24.372     92.5083    -5.89247\n",
       "   147.165    -199.134      289.929       -47.3995    10.7082   -25.3054\n",
       "   -39.346      32.3416     105.482    …  -13.599    -35.5795   -52.9212\n",
       "   -58.4986     48.138      196.598         7.35105  -23.2411    21.086\n",
       "   313.883     -41.1853     -56.6407      -11.4261    15.1687   -23.3152\n",
       "   118.719      16.3773    -151.868        30.7012   -30.6698   -19.3007\n",
       "  -348.925     -35.1972     205.49        -36.0125   -25.7189     9.19414\n",
       "   106.327     -26.682      -61.1251   …   16.4692    37.6045   -42.4595\n",
       "  -198.101      44.5799      10.5342       -8.12146   32.2855    -4.14884\n",
       "    72.6558     65.4401    -212.909       -12.8637   -12.7994    -4.41149\n",
       "     ⋮                                 ⋱               ⋮        \n",
       "    14.7423     -7.68236    -65.113    …   -8.41665   -1.28889  -38.7985\n",
       "  -177.98       33.3643      83.6856       -9.26862   -2.28697  -30.8812\n",
       "    47.5582    -57.5154      19.2944       28.9599   -23.3905     7.7042\n",
       "   -49.5261     14.4176      69.2712       42.6168    -4.89699   46.1963\n",
       "    42.2869     55.1616     -78.6376      -12.1381   -17.0111     2.4532\n",
       "   149.986     -17.1031     -96.5715   …   -6.89785   12.2147    -1.93673\n",
       "    32.3347     -2.34084      8.70271     -16.9769    40.6859    -0.663898\n",
       "  -164.348       6.29592    169.431       -22.2471    29.6783    29.5737\n",
       "   140.391     -36.5985    -102.606        39.9336   -19.0905    40.8203\n",
       "   -30.6402     10.842      -29.4116      -18.2243   -23.254    -18.381\n",
       "  -144.244      32.7024      52.3019   …   -1.12995   18.6583    20.4535\n",
       "   -35.2505    -65.0124      41.3415       18.4148    27.918     -5.39889"
      ]
     },
     "execution_count": 161,
     "metadata": {},
     "output_type": "execute_result"
    }
   ],
   "source": [
    "dct(dct(reinterpret(UInt8, img_resized_gray),1),2)"
   ]
  },
  {
   "cell_type": "code",
   "execution_count": 171,
   "id": "21468449",
   "metadata": {},
   "outputs": [
    {
     "data": {
      "text/plain": [
       "32×32 Matrix{Float32}:\n",
       " 11.3537     -0.720639    -4.3751     …   0.0450258    0.341382\n",
       " -0.0305912  -0.507326     1.6609        -0.214301    -0.0492652\n",
       " -5.77595     1.22348     -1.29944       -0.0800702   -0.139636\n",
       "  0.51947     0.652083    -3.05633        0.362778    -0.0231077\n",
       "  0.577119   -0.780919     1.13698        0.0419931   -0.099237\n",
       " -0.154298    0.12683      0.413655   …  -0.139527    -0.207534\n",
       " -0.229406    0.188777     0.770972      -0.0911417    0.0826901\n",
       "  1.23091    -0.161511    -0.222121       0.059485    -0.091432\n",
       "  0.465567    0.0642248   -0.595561      -0.120274    -0.0756889\n",
       " -1.36833    -0.138028     0.805843      -0.100858     0.0360554\n",
       "  0.416967   -0.104635    -0.239706   …   0.147469    -0.166508\n",
       " -0.776868    0.174823     0.0413108      0.12661     -0.0162699\n",
       "  0.284925    0.256628    -0.834935      -0.0501938   -0.0172999\n",
       "  ⋮                                   ⋱   ⋮           \n",
       "  0.0578128  -0.0301269   -0.255345   …  -0.0050545   -0.152151\n",
       " -0.69796     0.13084      0.328179      -0.00896852  -0.121103\n",
       "  0.186503   -0.225551     0.0756643     -0.0917274    0.0302126\n",
       " -0.19422     0.0565394    0.271652      -0.0192039    0.181162\n",
       "  0.165831    0.21632     -0.308383      -0.0667102    0.00962042\n",
       "  0.588179   -0.0670711   -0.378712   …   0.0479009   -0.00759506\n",
       "  0.126803   -0.00917977   0.0341282      0.159553    -0.00260353\n",
       " -0.6445      0.0246899    0.664434       0.116386     0.115975\n",
       "  0.550552   -0.143524    -0.402377      -0.0748647    0.160079\n",
       " -0.120158    0.0425175   -0.115339      -0.0911923   -0.0720823\n",
       " -0.565663    0.128245     0.205106   …   0.07317      0.0802097\n",
       " -0.138237   -0.254951     0.162124       0.109483    -0.0211721"
      ]
     },
     "execution_count": 171,
     "metadata": {},
     "output_type": "execute_result"
    }
   ],
   "source": [
    "dct_image = dct(dct(Float32.(channelview(img_resized_gray)),1),2)"
   ]
  },
  {
   "cell_type": "code",
   "execution_count": null,
   "id": "7e2fbf0a",
   "metadata": {},
   "outputs": [],
   "source": []
  },
  {
   "cell_type": "code",
   "execution_count": null,
   "id": "7810af9b",
   "metadata": {},
   "outputs": [],
   "source": []
  },
  {
   "cell_type": "code",
   "execution_count": 154,
   "id": "56b6889f",
   "metadata": {},
   "outputs": [
    {
     "name": "stdout",
     "output_type": "stream",
     "text": [
      "search: \u001b[0m\u001b[1mr\u001b[22m\u001b[0m\u001b[1ma\u001b[22m\u001b[0m\u001b[1mw\u001b[22m\u001b[0m\u001b[1mv\u001b[22m\u001b[0m\u001b[1mi\u001b[22m\u001b[0m\u001b[1me\u001b[22m\u001b[0m\u001b[1mw\u001b[22m\n",
      "\n"
     ]
    },
    {
     "data": {
      "text/latex": [
       "\\begin{verbatim}\n",
       "rawview(img::AbstractArray{FixedPoint})\n",
       "\\end{verbatim}\n",
       "returns a \"view\" of \\texttt{img} where the values are interpreted in terms of their raw underlying storage. For example, if \\texttt{img} is an \\texttt{Array\\{N0f8\\}}, the view will act like an \\texttt{Array\\{UInt8\\}}.\n",
       "\n",
       "See also: \\href{@ref}{\\texttt{normedview}}\n",
       "\n"
      ],
      "text/markdown": [
       "```\n",
       "rawview(img::AbstractArray{FixedPoint})\n",
       "```\n",
       "\n",
       "returns a \"view\" of `img` where the values are interpreted in terms of their raw underlying storage. For example, if `img` is an `Array{N0f8}`, the view will act like an `Array{UInt8}`.\n",
       "\n",
       "See also: [`normedview`](@ref)\n"
      ],
      "text/plain": [
       "\u001b[36m  rawview(img::AbstractArray{FixedPoint})\u001b[39m\n",
       "\n",
       "  returns a \"view\" of \u001b[36mimg\u001b[39m where the values are interpreted in terms of their\n",
       "  raw underlying storage. For example, if \u001b[36mimg\u001b[39m is an \u001b[36mArray{N0f8}\u001b[39m, the view will\n",
       "  act like an \u001b[36mArray{UInt8}\u001b[39m.\n",
       "\n",
       "  See also: \u001b[36mnormedview\u001b[39m"
      ]
     },
     "execution_count": 154,
     "metadata": {},
     "output_type": "execute_result"
    }
   ],
   "source": [
    "?rawview"
   ]
  },
  {
   "cell_type": "code",
   "execution_count": null,
   "id": "0cf6ba4c",
   "metadata": {},
   "outputs": [],
   "source": []
  },
  {
   "cell_type": "code",
   "execution_count": null,
   "id": "974fc266",
   "metadata": {},
   "outputs": [],
   "source": []
  },
  {
   "cell_type": "code",
   "execution_count": null,
   "id": "d883854c",
   "metadata": {},
   "outputs": [],
   "source": []
  },
  {
   "cell_type": "markdown",
   "id": "1149a4e6",
   "metadata": {},
   "source": [
    "## Note on DCT in FFTW vs Python"
   ]
  },
  {
   "cell_type": "code",
   "execution_count": 76,
   "id": "e9a07fac",
   "metadata": {
    "ExecuteTime": {
     "end_time": "2023-02-05T16:46:50.156000+01:00",
     "start_time": "2023-02-05T15:46:50.153Z"
    }
   },
   "outputs": [],
   "source": [
    "using FFTW, Statistics, ImageTransformations, Images\n",
    "import ImageTransformations.Linear as Linear"
   ]
  },
  {
   "cell_type": "code",
   "execution_count": 2,
   "id": "df8b0ef0",
   "metadata": {
    "ExecuteTime": {
     "end_time": "2023-02-05T15:44:19.004000+01:00",
     "start_time": "2023-02-05T14:44:09.795Z"
    },
    "scrolled": true
   },
   "outputs": [
    {
     "data": {
      "text/latex": [
       "\\begin{verbatim}\n",
       "dct(A [, dims])\n",
       "\\end{verbatim}\n",
       "Performs a multidimensional type-II discrete cosine transform (DCT) of the array \\texttt{A}, using the unitary normalization of the DCT. The optional \\texttt{dims} argument specifies an iterable subset of dimensions (e.g. an integer, range, tuple, or array) to transform along.  Most efficient if the size of \\texttt{A} along the transformed dimensions is a product of small primes; see \\href{@ref}{\\texttt{nextprod}}. See also \\href{@ref}{\\texttt{plan\\_dct}} for even greater efficiency.\n",
       "\n"
      ],
      "text/markdown": [
       "```\n",
       "dct(A [, dims])\n",
       "```\n",
       "\n",
       "Performs a multidimensional type-II discrete cosine transform (DCT) of the array `A`, using the unitary normalization of the DCT. The optional `dims` argument specifies an iterable subset of dimensions (e.g. an integer, range, tuple, or array) to transform along.  Most efficient if the size of `A` along the transformed dimensions is a product of small primes; see [`nextprod`](@ref). See also [`plan_dct`](@ref) for even greater efficiency.\n"
      ],
      "text/plain": [
       "\u001b[36m  dct(A [, dims])\u001b[39m\n",
       "\n",
       "  Performs a multidimensional type-II discrete cosine transform (DCT) of the\n",
       "  array \u001b[36mA\u001b[39m, using the unitary normalization of the DCT. The optional \u001b[36mdims\u001b[39m\n",
       "  argument specifies an iterable subset of dimensions (e.g. an integer, range,\n",
       "  tuple, or array) to transform along. Most efficient if the size of \u001b[36mA\u001b[39m along\n",
       "  the transformed dimensions is a product of small primes; see \u001b[36mnextprod\u001b[39m. See\n",
       "  also \u001b[36mplan_dct\u001b[39m for even greater efficiency."
      ]
     },
     "execution_count": 2,
     "metadata": {},
     "output_type": "execute_result"
    }
   ],
   "source": [
    "?FFTW.dct"
   ]
  },
  {
   "cell_type": "code",
   "execution_count": 141,
   "id": "697e1839",
   "metadata": {
    "ExecuteTime": {
     "end_time": "2023-02-05T18:09:35.844000+01:00",
     "start_time": "2023-02-05T17:09:35.816Z"
    },
    "scrolled": true
   },
   "outputs": [
    {
     "data": {
      "text/plain": [
       "3-element Vector{Float64}:\n",
       "  3.4641016151377544\n",
       " -1.414213562373095\n",
       "  9.064933036736789e-17"
      ]
     },
     "execution_count": 141,
     "metadata": {},
     "output_type": "execute_result"
    }
   ],
   "source": [
    "# Equivalent to python scipy.fftpack.dct([1,2,3], norm='ortho')\n",
    "dct([1,2,3])"
   ]
  },
  {
   "cell_type": "code",
   "execution_count": 78,
   "id": "466d9b06",
   "metadata": {
    "ExecuteTime": {
     "end_time": "2023-02-05T18:09:56.653000+01:00",
     "start_time": "2023-02-05T17:09:56.643Z"
    }
   },
   "outputs": [
    {
     "data": {
      "text/plain": [
       "dct_custom (generic function with 2 methods)"
      ]
     },
     "execution_count": 78,
     "metadata": {},
     "output_type": "execute_result"
    }
   ],
   "source": [
    "import FFTW: dct\n",
    "function dct_custom(x, dims = 1; norm = nothing)\n",
    "    res = dct(x, dims)\n",
    "    if norm == \"ortho\"\n",
    "        res[1] = res[1] * 2 * sqrt(size(x, dims))\n",
    "        res[2:end] = res[2:end] * sqrt(2 * size(x, dims))\n",
    "    end\n",
    "    res\n",
    "end"
   ]
  },
  {
   "cell_type": "code",
   "execution_count": 80,
   "id": "19f4f8af",
   "metadata": {
    "ExecuteTime": {
     "end_time": "2023-02-05T18:09:56.897000+01:00",
     "start_time": "2023-02-05T17:09:56.888Z"
    }
   },
   "outputs": [
    {
     "name": "stdout",
     "output_type": "stream",
     "text": [
      "  17.625 μs (76 allocations: 3.95 KiB)\n"
     ]
    },
    {
     "data": {
      "text/plain": [
       "3-element Vector{Float64}:\n",
       " 11.999999999999998\n",
       " -3.464101615137754\n",
       "  2.2204460492503128e-16"
      ]
     },
     "execution_count": 80,
     "metadata": {},
     "output_type": "execute_result"
    }
   ],
   "source": [
    "@btime dct_custom([1,2,3], norm=\"ortho\")"
   ]
  },
  {
   "cell_type": "code",
   "execution_count": 16,
   "id": "b242a495",
   "metadata": {
    "scrolled": true
   },
   "outputs": [
    {
     "name": "stdout",
     "output_type": "stream",
     "text": [
      "  17.375 μs (68 allocations: 3.73 KiB)\n"
     ]
    },
    {
     "data": {
      "text/plain": [
       "3-element Vector{Float64}:\n",
       "  3.4641016151377544\n",
       " -1.414213562373095\n",
       "  9.064933036736789e-17"
      ]
     },
     "execution_count": 16,
     "metadata": {},
     "output_type": "execute_result"
    }
   ],
   "source": [
    "@btime dct([1,2,3])"
   ]
  },
  {
   "cell_type": "markdown",
   "id": "44c13bad",
   "metadata": {},
   "source": [
    "What would be the equivalent in 2d?"
   ]
  },
  {
   "cell_type": "code",
   "execution_count": 98,
   "id": "d5b9aba2",
   "metadata": {
    "ExecuteTime": {
     "end_time": "2023-02-05T16:26:00.843000+01:00",
     "start_time": "2023-02-05T15:26:00.822Z"
    }
   },
   "outputs": [
    {
     "data": {
      "text/plain": [
       "3×3 Matrix{Int64}:\n",
       " 1  4  7\n",
       " 2  5  8\n",
       " 3  6  9"
      ]
     },
     "execution_count": 98,
     "metadata": {},
     "output_type": "execute_result"
    }
   ],
   "source": [
    "X = [[1,2,3] [4,5,6] [7, 8, 9]]"
   ]
  },
  {
   "cell_type": "code",
   "execution_count": 105,
   "id": "f29a43c8",
   "metadata": {},
   "outputs": [
    {
     "data": {
      "text/plain": [
       "2×2 Matrix{Int64}:\n",
       " 4  7\n",
       " 5  8"
      ]
     },
     "execution_count": 105,
     "metadata": {},
     "output_type": "execute_result"
    }
   ],
   "source": [
    "X[1:2,2:3]"
   ]
  },
  {
   "cell_type": "code",
   "execution_count": 82,
   "id": "46efe611",
   "metadata": {},
   "outputs": [
    {
     "data": {
      "text/plain": [
       "3×3 Matrix{Float64}:\n",
       " 134.309        -38.0031  3.51472\n",
       " -14.6969         0.0     0.0\n",
       "   9.42055e-16    0.0     0.0"
      ]
     },
     "execution_count": 82,
     "metadata": {},
     "output_type": "execute_result"
    }
   ],
   "source": [
    "dct_custom(dct_custom(X,1,norm=\"ortho\"),2,norm=\"ortho\")"
   ]
  },
  {
   "cell_type": "code",
   "execution_count": 83,
   "id": "26c19912",
   "metadata": {},
   "outputs": [
    {
     "data": {
      "text/plain": [
       "3×3 Matrix{Float64}:\n",
       " 15.0          -7.34847  -3.62597e-16\n",
       " -2.44949       0.0       0.0\n",
       "  1.57009e-16   0.0       0.0"
      ]
     },
     "execution_count": 83,
     "metadata": {},
     "output_type": "execute_result"
    }
   ],
   "source": [
    "dct(dct(X,1),2)"
   ]
  },
  {
   "cell_type": "code",
   "execution_count": 50,
   "id": "2b57fd5a",
   "metadata": {
    "ExecuteTime": {
     "end_time": "2023-02-05T16:27:04.966000+01:00",
     "start_time": "2023-02-05T15:27:04.961Z"
    }
   },
   "outputs": [
    {
     "data": {
      "text/plain": [
       "3×3 Matrix{Float64}:\n",
       " 12.0          21.2132       33.9411\n",
       " -3.4641       -3.4641       -3.4641\n",
       "  2.22045e-16   2.22045e-16   2.22045e-16"
      ]
     },
     "execution_count": 50,
     "metadata": {},
     "output_type": "execute_result"
    }
   ],
   "source": [
    "dct_custom(X,1,norm=\"ortho\")"
   ]
  },
  {
   "cell_type": "code",
   "execution_count": 44,
   "id": "dc667eb0",
   "metadata": {
    "ExecuteTime": {
     "end_time": "2023-02-05T16:27:05.207000+01:00",
     "start_time": "2023-02-05T15:27:05.200Z"
    }
   },
   "outputs": [
    {
     "data": {
      "text/plain": [
       "3×3 Matrix{Float64}:\n",
       " 24.0     -10.3923  8.88178e-16\n",
       " 21.2132  -10.3923  8.88178e-16\n",
       " 25.4558  -10.3923  8.88178e-16"
      ]
     },
     "execution_count": 44,
     "metadata": {},
     "output_type": "execute_result"
    }
   ],
   "source": [
    "dct_custom(X,2,norm=\"ortho\")"
   ]
  },
  {
   "cell_type": "code",
   "execution_count": null,
   "id": "4fbcf1ca",
   "metadata": {},
   "outputs": [],
   "source": []
  },
  {
   "cell_type": "code",
   "execution_count": null,
   "id": "c21bb163",
   "metadata": {},
   "outputs": [],
   "source": []
  },
  {
   "cell_type": "code",
   "execution_count": 19,
   "id": "a0912330",
   "metadata": {
    "ExecuteTime": {
     "end_time": "2023-02-05T16:24:44.974000+01:00",
     "start_time": "2023-02-05T15:24:43.956Z"
    }
   },
   "outputs": [
    {
     "name": "stdout",
     "output_type": "stream",
     "text": [
      "search: \u001b[0m\u001b[1md\u001b[22m\u001b[0m\u001b[1mc\u001b[22m\u001b[0m\u001b[1mt\u001b[22m \u001b[0m\u001b[1md\u001b[22m\u001b[0m\u001b[1mc\u001b[22m\u001b[0m\u001b[1mt\u001b[22m! i\u001b[0m\u001b[1md\u001b[22m\u001b[0m\u001b[1mc\u001b[22m\u001b[0m\u001b[1mt\u001b[22m i\u001b[0m\u001b[1md\u001b[22m\u001b[0m\u001b[1mc\u001b[22m\u001b[0m\u001b[1mt\u001b[22m! \u001b[0m\u001b[1mD\u001b[22mi\u001b[0m\u001b[1mc\u001b[22m\u001b[0m\u001b[1mt\u001b[22m plan_\u001b[0m\u001b[1md\u001b[22m\u001b[0m\u001b[1mc\u001b[22m\u001b[0m\u001b[1mt\u001b[22m plan_\u001b[0m\u001b[1md\u001b[22m\u001b[0m\u001b[1mc\u001b[22m\u001b[0m\u001b[1mt\u001b[22m! plan_i\u001b[0m\u001b[1md\u001b[22m\u001b[0m\u001b[1mc\u001b[22m\u001b[0m\u001b[1mt\u001b[22m plan_i\u001b[0m\u001b[1md\u001b[22m\u001b[0m\u001b[1mc\u001b[22m\u001b[0m\u001b[1mt\u001b[22m! I\u001b[0m\u001b[1md\u001b[22mDi\u001b[0m\u001b[1mc\u001b[22m\u001b[0m\u001b[1mt\u001b[22m\n",
      "\n"
     ]
    },
    {
     "data": {
      "text/latex": [
       "\\begin{verbatim}\n",
       "dct(A [, dims])\n",
       "\\end{verbatim}\n",
       "Performs a multidimensional type-II discrete cosine transform (DCT) of the array \\texttt{A}, using the unitary normalization of the DCT. The optional \\texttt{dims} argument specifies an iterable subset of dimensions (e.g. an integer, range, tuple, or array) to transform along.  Most efficient if the size of \\texttt{A} along the transformed dimensions is a product of small primes; see \\href{@ref}{\\texttt{nextprod}}. See also \\href{@ref}{\\texttt{plan\\_dct}} for even greater efficiency.\n",
       "\n"
      ],
      "text/markdown": [
       "```\n",
       "dct(A [, dims])\n",
       "```\n",
       "\n",
       "Performs a multidimensional type-II discrete cosine transform (DCT) of the array `A`, using the unitary normalization of the DCT. The optional `dims` argument specifies an iterable subset of dimensions (e.g. an integer, range, tuple, or array) to transform along.  Most efficient if the size of `A` along the transformed dimensions is a product of small primes; see [`nextprod`](@ref). See also [`plan_dct`](@ref) for even greater efficiency.\n"
      ],
      "text/plain": [
       "\u001b[36m  dct(A [, dims])\u001b[39m\n",
       "\n",
       "  Performs a multidimensional type-II discrete cosine transform (DCT) of the\n",
       "  array \u001b[36mA\u001b[39m, using the unitary normalization of the DCT. The optional \u001b[36mdims\u001b[39m\n",
       "  argument specifies an iterable subset of dimensions (e.g. an integer, range,\n",
       "  tuple, or array) to transform along. Most efficient if the size of \u001b[36mA\u001b[39m along\n",
       "  the transformed dimensions is a product of small primes; see \u001b[36mnextprod\u001b[39m. See\n",
       "  also \u001b[36mplan_dct\u001b[39m for even greater efficiency."
      ]
     },
     "execution_count": 19,
     "metadata": {},
     "output_type": "execute_result"
    }
   ],
   "source": [
    "?dct"
   ]
  },
  {
   "cell_type": "code",
   "execution_count": 4,
   "id": "59666181",
   "metadata": {
    "ExecuteTime": {
     "end_time": "2023-02-05T15:44:23.042000+01:00",
     "start_time": "2023-02-05T14:44:10.318Z"
    }
   },
   "outputs": [
    {
     "data": {
      "text/plain": [
       "5×2 Matrix{Float64}:\n",
       " 10.1193      0.632456\n",
       " -4.1912      0.262866\n",
       " -0.58541    -0.58541\n",
       " -0.826948   -0.425325\n",
       "  0.0854102   0.0854102"
      ]
     },
     "execution_count": 4,
     "metadata": {},
     "output_type": "execute_result"
    }
   ],
   "source": [
    "dct([[1,3,4,4,5] [1,2,3,4,5]])"
   ]
  },
  {
   "cell_type": "code",
   "execution_count": 5,
   "id": "404a3591",
   "metadata": {
    "ExecuteTime": {
     "end_time": "2023-02-05T15:44:23.411000+01:00",
     "start_time": "2023-02-05T14:44:10.739Z"
    },
    "scrolled": true
   },
   "outputs": [
    {
     "data": {
      "text/plain": [
       "5×2 Matrix{Int64}:\n",
       " 1  1\n",
       " 3  2\n",
       " 4  3\n",
       " 4  4\n",
       " 5  5"
      ]
     },
     "execution_count": 5,
     "metadata": {},
     "output_type": "execute_result"
    }
   ],
   "source": [
    "[[1,3,4,4,5] [1,2,3,4,5]]"
   ]
  },
  {
   "cell_type": "code",
   "execution_count": 6,
   "id": "0e3286df",
   "metadata": {
    "ExecuteTime": {
     "end_time": "2023-02-05T15:44:23.414000+01:00",
     "start_time": "2023-02-05T14:44:11.053Z"
    },
    "scrolled": true
   },
   "outputs": [
    {
     "data": {
      "text/plain": [
       "3-element Vector{Float64}:\n",
       "  3.4641016151377544\n",
       " -1.414213562373095\n",
       "  9.064933036736789e-17"
      ]
     },
     "execution_count": 6,
     "metadata": {},
     "output_type": "execute_result"
    }
   ],
   "source": [
    "dct([1,2,3])"
   ]
  },
  {
   "cell_type": "code",
   "execution_count": 10,
   "id": "40b183e7",
   "metadata": {
    "scrolled": true
   },
   "outputs": [
    {
     "ename": "LoadError",
     "evalue": "UndefVarError: dct_custom not defined",
     "output_type": "error",
     "traceback": [
      "UndefVarError: dct_custom not defined",
      "",
      "Stacktrace:",
      " [1] top-level scope",
      "   @ In[10]:1",
      " [2] eval",
      "   @ ./boot.jl:368 [inlined]",
      " [3] include_string(mapexpr::typeof(REPL.softscope), mod::Module, code::String, filename::String)",
      "   @ Base ./loading.jl:1428"
     ]
    }
   ],
   "source": [
    "dct_image_ortho = dct_custom(dct_custom(reinterpret(UInt8, img_resized_gray),1, norm=\"orthogonal\"),2,norm=\"orthogonal\");"
   ]
  },
  {
   "cell_type": "code",
   "execution_count": 11,
   "id": "da2e0aea",
   "metadata": {
    "scrolled": true
   },
   "outputs": [
    {
     "ename": "LoadError",
     "evalue": "UndefVarError: dct_image_ortho not defined",
     "output_type": "error",
     "traceback": [
      "UndefVarError: dct_image_ortho not defined",
      "",
      "Stacktrace:",
      " [1] top-level scope",
      "   @ In[11]:1",
      " [2] eval",
      "   @ ./boot.jl:368 [inlined]",
      " [3] include_string(mapexpr::typeof(REPL.softscope), mod::Module, code::String, filename::String)",
      "   @ Base ./loading.jl:1428"
     ]
    }
   ],
   "source": [
    "plot(dct_image_ortho[:][1:100])"
   ]
  },
  {
   "cell_type": "code",
   "execution_count": 12,
   "id": "3b7fff37",
   "metadata": {
    "scrolled": true
   },
   "outputs": [
    {
     "ename": "LoadError",
     "evalue": "UndefVarError: dct_image_ortho not defined",
     "output_type": "error",
     "traceback": [
      "UndefVarError: dct_image_ortho not defined",
      "",
      "Stacktrace:",
      " [1] top-level scope",
      "   @ In[12]:1",
      " [2] eval",
      "   @ ./boot.jl:368 [inlined]",
      " [3] include_string(mapexpr::typeof(REPL.softscope), mod::Module, code::String, filename::String)",
      "   @ Base ./loading.jl:1428"
     ]
    }
   ],
   "source": [
    "plot(dct_image_ortho[1:8,2:9][:])\n",
    "#plot(dct_image_ortho[2:9,1:9][:])"
   ]
  }
 ],
 "metadata": {
  "kernelspec": {
   "display_name": "Julia 1.8.0",
   "language": "julia",
   "name": "julia-1.8"
  },
  "language_info": {
   "file_extension": ".jl",
   "mimetype": "application/julia",
   "name": "julia",
   "version": "1.8.3"
  },
  "toc": {
   "base_numbering": 1,
   "nav_menu": {},
   "number_sections": true,
   "sideBar": true,
   "skip_h1_title": false,
   "title_cell": "Table of Contents",
   "title_sidebar": "Contents",
   "toc_cell": false,
   "toc_position": {},
   "toc_section_display": true,
   "toc_window_display": false
  }
 },
 "nbformat": 4,
 "nbformat_minor": 5
}
