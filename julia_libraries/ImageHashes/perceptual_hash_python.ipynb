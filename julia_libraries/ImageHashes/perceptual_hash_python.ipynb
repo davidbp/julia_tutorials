{
 "cells": [
  {
   "cell_type": "code",
   "execution_count": 1,
   "id": "d87a600f",
   "metadata": {
    "ExecuteTime": {
     "end_time": "2023-02-05T15:22:04.691474Z",
     "start_time": "2023-02-05T15:22:04.686778Z"
    }
   },
   "outputs": [],
   "source": [
    "import numpy as np\n",
    "import scipy\n",
    "from PIL import Image\n",
    "from scipy import fftpack\n",
    "import scipy.fftpack"
   ]
  },
  {
   "cell_type": "code",
   "execution_count": 2,
   "id": "3f75328b",
   "metadata": {
    "ExecuteTime": {
     "end_time": "2023-02-05T15:37:32.519852Z",
     "start_time": "2023-02-05T15:37:32.516198Z"
    }
   },
   "outputs": [],
   "source": [
    "from PIL import Image, ImageFilter\n",
    "try:\n",
    "    ANTIALIAS = Image.Resampling.LANCZOS\n",
    "except AttributeError:\n",
    "    ANTIALIAS = Image.ANTIALIAS"
   ]
  },
  {
   "cell_type": "markdown",
   "id": "6dc7418d",
   "metadata": {},
   "source": [
    "# Perceptrual hashing"
   ]
  },
  {
   "cell_type": "code",
   "execution_count": 3,
   "id": "cf62dec8",
   "metadata": {
    "ExecuteTime": {
     "end_time": "2023-02-05T15:20:51.086093Z",
     "start_time": "2023-02-05T15:20:51.080430Z"
    }
   },
   "outputs": [],
   "source": [
    "def phash(image, hash_size=8, highfreq_factor=4):\n",
    "    import scipy.fftpack\n",
    "    img_size = hash_size * highfreq_factor\n",
    "    image = image.convert('L').resize((img_size, img_size), ANTIALIAS)\n",
    "    pixels = numpy.asarray(image)\n",
    "    dct = scipy.fftpack.dct(scipy.fftpack.dct(pixels, axis=0), axis=1)\n",
    "    dctlowfreq = dct[:hash_size, :hash_size]\n",
    "    med = numpy.median(dctlowfreq)\n",
    "    diff = dctlowfreq > med\n",
    "    return ImageHash(diff)"
   ]
  },
  {
   "cell_type": "code",
   "execution_count": 4,
   "id": "ba672d70",
   "metadata": {
    "ExecuteTime": {
     "end_time": "2023-02-05T15:13:03.002989Z",
     "start_time": "2023-02-05T15:13:02.998647Z"
    }
   },
   "outputs": [],
   "source": [
    "image = Image.open('./images/logo1.png')"
   ]
  },
  {
   "cell_type": "code",
   "execution_count": 8,
   "id": "fdf2d561",
   "metadata": {
    "ExecuteTime": {
     "end_time": "2023-02-05T15:13:03.564758Z",
     "start_time": "2023-02-05T15:13:03.297732Z"
    }
   },
   "outputs": [],
   "source": [
    "#image"
   ]
  },
  {
   "cell_type": "code",
   "execution_count": 9,
   "id": "0ac67627",
   "metadata": {
    "ExecuteTime": {
     "end_time": "2023-02-05T15:13:03.679022Z",
     "start_time": "2023-02-05T15:13:03.660832Z"
    }
   },
   "outputs": [],
   "source": [
    "hash_size = 8\n",
    "highfreq_factor=4\n",
    "img_size = hash_size * highfreq_factor\n",
    "image = image.convert('L').resize((img_size, img_size), ANTIALIAS)"
   ]
  },
  {
   "cell_type": "code",
   "execution_count": 10,
   "id": "ea3930bb",
   "metadata": {
    "ExecuteTime": {
     "end_time": "2023-02-05T15:41:21.254887Z",
     "start_time": "2023-02-05T15:41:21.249253Z"
    }
   },
   "outputs": [
    {
     "data": {
      "image/png": "[encoded data removed]",
      "text/plain": [
       "<PIL.Image.Image image mode=L size=32x32 at 0x7FBDC85F7790>"
      ]
     },
     "execution_count": 10,
     "metadata": {},
     "output_type": "execute_result"
    }
   ],
   "source": [
    "image"
   ]
  },
  {
   "cell_type": "code",
   "execution_count": 11,
   "id": "90599369",
   "metadata": {
    "ExecuteTime": {
     "end_time": "2023-02-05T15:22:07.976071Z",
     "start_time": "2023-02-05T15:22:07.970540Z"
    },
    "scrolled": true
   },
   "outputs": [
    {
     "name": "stdout",
     "output_type": "stream",
     "text": [
      "[[0 0 0 ... 0 0 0]\n",
      " [0 0 0 ... 0 0 0]\n",
      " [0 0 0 ... 0 0 0]\n",
      " ...\n",
      " [0 0 0 ... 0 0 0]\n",
      " [0 0 0 ... 0 0 0]\n",
      " [0 0 0 ... 0 0 0]]\n",
      "shape image: (32, 32)\n"
     ]
    }
   ],
   "source": [
    "pixels = np.asarray(image)\n",
    "dct = scipy.fftpack.dct(scipy.fftpack.dct(pixels, axis=0),\n",
    "                        axis=1)\n",
    "\n",
    "print(pixels)\n",
    "print('shape image:', pixels.shape)"
   ]
  },
  {
   "cell_type": "code",
   "execution_count": 13,
   "id": "2a9d016a",
   "metadata": {},
   "outputs": [
    {
     "data": {
      "text/plain": [
       "(32, 32)"
      ]
     },
     "execution_count": 13,
     "metadata": {},
     "output_type": "execute_result"
    }
   ],
   "source": [
    "scipy.fftpack.dct(pixels, axis=0).shape"
   ]
  },
  {
   "cell_type": "code",
   "execution_count": 14,
   "id": "a0c08024",
   "metadata": {},
   "outputs": [
    {
     "data": {
      "text/plain": [
       "(32, 32)"
      ]
     },
     "execution_count": 14,
     "metadata": {},
     "output_type": "execute_result"
    }
   ],
   "source": [
    "scipy.fftpack.dct(scipy.fftpack.dct(pixels, axis=0),\n",
    "                        axis=1).shape"
   ]
  },
  {
   "cell_type": "code",
   "execution_count": 37,
   "id": "b99d162f",
   "metadata": {
    "ExecuteTime": {
     "end_time": "2023-02-05T15:38:01.684744Z",
     "start_time": "2023-02-05T15:38:01.680343Z"
    }
   },
   "outputs": [],
   "source": [
    "dct = scipy.fftpack.dct(scipy.fftpack.dct(pixels, axis=0),\n",
    "                        axis=1)"
   ]
  },
  {
   "cell_type": "code",
   "execution_count": 10,
   "id": "f682ee11",
   "metadata": {
    "ExecuteTime": {
     "end_time": "2023-02-05T15:57:54.744630Z",
     "start_time": "2023-02-05T15:57:54.740193Z"
    }
   },
   "outputs": [
    {
     "data": {
      "text/plain": [
       "(32, 32)"
      ]
     },
     "execution_count": 10,
     "metadata": {},
     "output_type": "execute_result"
    }
   ],
   "source": [
    "dct.shape"
   ]
  },
  {
   "cell_type": "code",
   "execution_count": 11,
   "id": "559f9b27",
   "metadata": {
    "ExecuteTime": {
     "end_time": "2023-02-05T16:07:48.466856Z",
     "start_time": "2023-02-05T16:07:48.461391Z"
    }
   },
   "outputs": [
    {
     "data": {
      "text/plain": [
       "(146.18667350764204, 375096.0, 149695.15367182545)"
      ]
     },
     "execution_count": 11,
     "metadata": {},
     "output_type": "execute_result"
    }
   ],
   "source": [
    "dct.mean(), dct.max(), dct.sum()"
   ]
  },
  {
   "cell_type": "code",
   "execution_count": 12,
   "id": "7d523a23",
   "metadata": {
    "ExecuteTime": {
     "end_time": "2023-02-05T15:53:26.381397Z",
     "start_time": "2023-02-05T15:53:26.373225Z"
    }
   },
   "outputs": [
    {
     "data": {
      "text/plain": [
       "array([[ 3.75096000e+05, -1.52617593e+04, -1.05989169e+05, ...,\n",
       "         4.65561166e+03,  1.36677329e+03,  3.41341903e+03],\n",
       "       [-1.51843527e+03, -7.59554333e+03,  2.89126502e+04, ...,\n",
       "        -3.36232586e+02, -1.94454896e+03, -4.45915551e+01],\n",
       "       [-1.33936121e+05,  2.05412271e+04, -1.95056293e+04, ...,\n",
       "        -5.72255021e+02, -1.25484366e+03, -8.05389887e+02],\n",
       "       ...,\n",
       "       [-1.89624943e+03, -5.88628667e+01,  2.29353677e+02, ...,\n",
       "        -2.78752465e+02, -4.06513391e+02,  1.93393534e+02],\n",
       "       [-4.78401011e+03,  1.13939280e+03,  1.19998726e+03, ...,\n",
       "         3.21611692e+02,  4.18123789e+02,  4.32601041e+02],\n",
       "       [ 1.67329156e+03, -2.09623828e+03,  6.26572353e+02, ...,\n",
       "         5.18953425e+01,  4.48505268e+02, -3.01139650e+02]])"
      ]
     },
     "execution_count": 12,
     "metadata": {},
     "output_type": "execute_result"
    }
   ],
   "source": [
    "dct"
   ]
  },
  {
   "cell_type": "code",
   "execution_count": 13,
   "id": "179d6bba",
   "metadata": {
    "ExecuteTime": {
     "end_time": "2023-02-05T15:53:28.010640Z",
     "start_time": "2023-02-05T15:53:28.007205Z"
    }
   },
   "outputs": [],
   "source": [
    "dctlowfreq = dct[:hash_size, :hash_size]"
   ]
  },
  {
   "cell_type": "code",
   "execution_count": 14,
   "id": "bc9018ce",
   "metadata": {
    "ExecuteTime": {
     "end_time": "2023-02-05T15:54:32.046324Z",
     "start_time": "2023-02-05T15:54:31.939309Z"
    }
   },
   "outputs": [
    {
     "data": {
      "text/plain": [
       "[<matplotlib.lines.Line2D at 0x7fb6f90da0a0>]"
      ]
     },
     "execution_count": 14,
     "metadata": {},
     "output_type": "execute_result"
    },
    {
     "data": {
      "image/png": "[encoded data removed]",
      "text/plain": [
       "<Figure size 432x288 with 1 Axes>"
      ]
     },
     "metadata": {
      "needs_background": "light"
     },
     "output_type": "display_data"
    }
   ],
   "source": [
    "# We can see that the first term is quite big\n",
    "# Most implementations remove it from the procedure\n",
    "import matplotlib.pyplot as plt\n",
    "plt.plot(dctlowfreq.ravel())"
   ]
  },
  {
   "cell_type": "code",
   "execution_count": 15,
   "id": "9a9c17e7",
   "metadata": {
    "ExecuteTime": {
     "end_time": "2023-02-05T15:54:33.937986Z",
     "start_time": "2023-02-05T15:54:33.826883Z"
    }
   },
   "outputs": [
    {
     "data": {
      "text/plain": [
       "[<matplotlib.lines.Line2D at 0x7fb708103490>]"
      ]
     },
     "execution_count": 15,
     "metadata": {},
     "output_type": "execute_result"
    },
    {
     "data": {
      "image/png": "[encoded data removed]",
      "text/plain": [
       "<Figure size 432x288 with 1 Axes>"
      ]
     },
     "metadata": {
      "needs_background": "light"
     },
     "output_type": "display_data"
    }
   ],
   "source": [
    "plt.plot(dctlowfreq.ravel()[1:])"
   ]
  },
  {
   "cell_type": "code",
   "execution_count": 16,
   "id": "1abf87ac",
   "metadata": {
    "ExecuteTime": {
     "end_time": "2023-02-05T15:53:33.514459Z",
     "start_time": "2023-02-05T15:53:33.510696Z"
    }
   },
   "outputs": [
    {
     "data": {
      "text/plain": [
       "(8, 8)"
      ]
     },
     "execution_count": 16,
     "metadata": {},
     "output_type": "execute_result"
    }
   ],
   "source": [
    "dctlowfreq.shape"
   ]
  },
  {
   "cell_type": "code",
   "execution_count": 36,
   "id": "9f99ccbc",
   "metadata": {},
   "outputs": [
    {
     "data": {
      "text/plain": [
       "3.5"
      ]
     },
     "execution_count": 36,
     "metadata": {},
     "output_type": "execute_result"
    }
   ],
   "source": [
    "import numpy as np\n",
    "np.median([1,2,100,5])"
   ]
  },
  {
   "cell_type": "code",
   "execution_count": 32,
   "id": "0d74dc75",
   "metadata": {
    "ExecuteTime": {
     "end_time": "2023-02-05T15:40:37.617818Z",
     "start_time": "2023-02-05T15:40:37.611722Z"
    }
   },
   "outputs": [
    {
     "data": {
      "text/plain": [
       "array([[ True, False, False, False, False,  True, False,  True],\n",
       "       [False, False,  True,  True, False, False, False,  True],\n",
       "       [False,  True, False, False,  True, False,  True, False],\n",
       "       [ True,  True, False, False,  True, False,  True, False],\n",
       "       [ True, False,  True,  True,  True,  True, False, False],\n",
       "       [False,  True,  True, False,  True,  True,  True, False],\n",
       "       [False,  True,  True, False, False,  True, False,  True],\n",
       "       [ True, False,  True,  True, False,  True, False,  True]])"
      ]
     },
     "execution_count": 32,
     "metadata": {},
     "output_type": "execute_result"
    }
   ],
   "source": [
    "med = np.median(dctlowfreq)\n",
    "diff = dctlowfreq > med\n",
    "diff"
   ]
  },
  {
   "cell_type": "code",
   "execution_count": 19,
   "id": "00018ed3",
   "metadata": {
    "ExecuteTime": {
     "end_time": "2023-02-05T15:40:44.459941Z",
     "start_time": "2023-02-05T15:40:44.453418Z"
    }
   },
   "outputs": [
    {
     "data": {
      "text/plain": [
       "array([[ 2.14400000e+03,  1.65155802e+02, -1.79258891e+03, ...,\n",
       "         2.07009487e+00, -1.17719381e+01,  1.73517406e+01],\n",
       "       [ 3.12000000e+03,  2.85229068e+02, -2.26805346e+03, ...,\n",
       "        -3.05063319e+01,  6.59944155e+00, -3.38802751e+01],\n",
       "       [ 2.92000000e+03,  8.72601338e+01, -2.02401213e+03, ...,\n",
       "         6.78784517e+01,  5.24008740e+01,  1.57239813e+01],\n",
       "       ...,\n",
       "       [ 1.40000000e+01,  1.67940633e+00, -5.09211586e+00, ...,\n",
       "         3.16585424e-02, -1.76960841e+00,  1.68346577e+00],\n",
       "       [ 6.52000000e+02,  2.95664856e+01, -5.78066140e+02, ...,\n",
       "         1.49428214e+00, -2.67649692e+00,  3.21048875e+00],\n",
       "       [ 3.95600000e+03,  1.69652549e+02, -2.89079338e+03, ...,\n",
       "         2.35846538e+01,  1.46445421e+00,  1.96836250e+01]])"
      ]
     },
     "execution_count": 19,
     "metadata": {},
     "output_type": "execute_result"
    }
   ],
   "source": [
    "scipy.fftpack.dct(pixels)"
   ]
  },
  {
   "cell_type": "code",
   "execution_count": null,
   "id": "a1a669f0",
   "metadata": {},
   "outputs": [],
   "source": []
  },
  {
   "cell_type": "code",
   "execution_count": null,
   "id": "a907f587",
   "metadata": {},
   "outputs": [],
   "source": []
  },
  {
   "cell_type": "code",
   "execution_count": null,
   "id": "50d10df1",
   "metadata": {},
   "outputs": [],
   "source": []
  },
  {
   "cell_type": "code",
   "execution_count": null,
   "id": "0dfe8b34",
   "metadata": {},
   "outputs": [],
   "source": []
  },
  {
   "cell_type": "code",
   "execution_count": null,
   "id": "eefc45a2",
   "metadata": {},
   "outputs": [],
   "source": []
  },
  {
   "cell_type": "code",
   "execution_count": null,
   "id": "51a6f085",
   "metadata": {},
   "outputs": [],
   "source": []
  },
  {
   "cell_type": "markdown",
   "id": "6f7b8d12",
   "metadata": {},
   "source": [
    "#  dct equivalent in Julia"
   ]
  },
  {
   "cell_type": "code",
   "execution_count": 20,
   "id": "54a8b478",
   "metadata": {
    "ExecuteTime": {
     "end_time": "2023-02-05T17:29:23.225160Z",
     "start_time": "2023-02-05T17:29:23.219726Z"
    }
   },
   "outputs": [
    {
     "data": {
      "text/plain": [
       "array([ 3.46410162, -1.41421356,  0.        ])"
      ]
     },
     "execution_count": 20,
     "metadata": {},
     "output_type": "execute_result"
    }
   ],
   "source": [
    "scipy.fftpack.dct([1,2,3], norm='ortho')"
   ]
  },
  {
   "cell_type": "code",
   "execution_count": 21,
   "id": "32fb065c",
   "metadata": {
    "ExecuteTime": {
     "end_time": "2023-02-05T17:29:25.224647Z",
     "start_time": "2023-02-05T17:29:25.219655Z"
    }
   },
   "outputs": [
    {
     "data": {
      "text/plain": [
       "array([ 1.20000000e+01, -3.46410162e+00, -4.44089210e-16])"
      ]
     },
     "execution_count": 21,
     "metadata": {},
     "output_type": "execute_result"
    }
   ],
   "source": [
    "scipy.fftpack.dct([1,2,3])"
   ]
  },
  {
   "cell_type": "code",
   "execution_count": 22,
   "id": "b6331e81",
   "metadata": {
    "ExecuteTime": {
     "end_time": "2023-02-05T17:29:24.041971Z",
     "start_time": "2023-02-05T17:29:24.034707Z"
    }
   },
   "outputs": [
    {
     "data": {
      "text/plain": [
       "array([ 1.20000000e+01, -3.46410162e+00, -4.44089210e-16])"
      ]
     },
     "execution_count": 22,
     "metadata": {},
     "output_type": "execute_result"
    }
   ],
   "source": [
    "scipy.fftpack.dct([1,2,3], axis=0)"
   ]
  },
  {
   "cell_type": "code",
   "execution_count": 26,
   "id": "2e51e1c8",
   "metadata": {
    "ExecuteTime": {
     "end_time": "2023-02-05T15:28:44.647526Z",
     "start_time": "2023-02-05T15:28:44.641780Z"
    }
   },
   "outputs": [],
   "source": [
    "#?scipy.fftpack.dct"
   ]
  },
  {
   "cell_type": "code",
   "execution_count": 27,
   "id": "694ded40",
   "metadata": {
    "ExecuteTime": {
     "end_time": "2023-02-05T17:10:42.551534Z",
     "start_time": "2023-02-05T17:10:42.546578Z"
    }
   },
   "outputs": [
    {
     "data": {
      "text/plain": [
       "array([ 1.20000000e+01, -3.46410162e+00, -4.44089210e-16])"
      ]
     },
     "execution_count": 27,
     "metadata": {},
     "output_type": "execute_result"
    }
   ],
   "source": [
    "scipy.fftpack.dct([1,2,3], axis=0)"
   ]
  },
  {
   "cell_type": "code",
   "execution_count": 28,
   "id": "85dcdd4b",
   "metadata": {
    "ExecuteTime": {
     "end_time": "2023-02-05T15:26:16.112554Z",
     "start_time": "2023-02-05T15:26:16.107405Z"
    }
   },
   "outputs": [
    {
     "data": {
      "text/plain": [
       "array([ 1.20000000e+01, -3.46410162e+00, -4.44089210e-16])"
      ]
     },
     "execution_count": 28,
     "metadata": {},
     "output_type": "execute_result"
    }
   ],
   "source": [
    "scipy.fftpack.dct(np.array([1,2,3]))"
   ]
  },
  {
   "cell_type": "code",
   "execution_count": 49,
   "id": "fb485763",
   "metadata": {
    "ExecuteTime": {
     "end_time": "2023-02-05T15:27:17.628517Z",
     "start_time": "2023-02-05T15:27:17.622752Z"
    }
   },
   "outputs": [
    {
     "data": {
      "text/plain": [
       "array([[1, 4, 7],\n",
       "       [2, 5, 8],\n",
       "       [3, 6, 9]])"
      ]
     },
     "execution_count": 49,
     "metadata": {},
     "output_type": "execute_result"
    }
   ],
   "source": [
    "X = np.array([[1,2,3],[4,5,6],[7, 8, 9]]).T\n",
    "X"
   ]
  },
  {
   "cell_type": "code",
   "execution_count": 50,
   "id": "7e6a0fb5",
   "metadata": {
    "ExecuteTime": {
     "end_time": "2023-02-05T15:27:19.010211Z",
     "start_time": "2023-02-05T15:27:19.004055Z"
    }
   },
   "outputs": [
    {
     "data": {
      "text/plain": [
       "array([[ 1.20000000e+01,  3.00000000e+01,  4.80000000e+01],\n",
       "       [-3.46410162e+00, -3.46410162e+00, -3.46410162e+00],\n",
       "       [-4.44089210e-16, -4.44089210e-16, -4.44089210e-16]])"
      ]
     },
     "execution_count": 50,
     "metadata": {},
     "output_type": "execute_result"
    }
   ],
   "source": [
    "scipy.fftpack.dct(X, axis=0)"
   ]
  },
  {
   "cell_type": "code",
   "execution_count": 51,
   "id": "f1e97e51",
   "metadata": {
    "ExecuteTime": {
     "end_time": "2023-02-05T15:27:20.256339Z",
     "start_time": "2023-02-05T15:27:20.250658Z"
    }
   },
   "outputs": [
    {
     "data": {
      "text/plain": [
       "array([[ 24.        , -10.39230485,   0.        ],\n",
       "       [ 30.        , -10.39230485,   0.        ],\n",
       "       [ 36.        , -10.39230485,   0.        ]])"
      ]
     },
     "execution_count": 51,
     "metadata": {},
     "output_type": "execute_result"
    }
   ],
   "source": [
    "scipy.fftpack.dct(X, axis=1)"
   ]
  },
  {
   "cell_type": "code",
   "execution_count": 48,
   "id": "dc8e6742",
   "metadata": {
    "scrolled": false
   },
   "outputs": [
    {
     "data": {
      "text/plain": [
       "array([ 3.46410162, -1.41421356,  0.        ])"
      ]
     },
     "execution_count": 48,
     "metadata": {},
     "output_type": "execute_result"
    }
   ],
   "source": [
    "scipy.fftpack.dct([1,2,3], norm='ortho')"
   ]
  },
  {
   "cell_type": "code",
   "execution_count": null,
   "id": "7174c28e",
   "metadata": {},
   "outputs": [],
   "source": []
  }
 ],
 "metadata": {
  "kernelspec": {
   "display_name": "Python 3 (ipykernel)",
   "language": "python",
   "name": "python3"
  },
  "language_info": {
   "codemirror_mode": {
    "name": "ipython",
    "version": 3
   },
   "file_extension": ".py",
   "mimetype": "text/x-python",
   "name": "python",
   "nbconvert_exporter": "python",
   "pygments_lexer": "ipython3",
   "version": "3.9.12"
  },
  "toc": {
   "base_numbering": 1,
   "nav_menu": {},
   "number_sections": true,
   "sideBar": true,
   "skip_h1_title": false,
   "title_cell": "Table of Contents",
   "title_sidebar": "Contents",
   "toc_cell": false,
   "toc_position": {},
   "toc_section_display": true,
   "toc_window_display": false
  }
 },
 "nbformat": 4,
 "nbformat_minor": 5
}
