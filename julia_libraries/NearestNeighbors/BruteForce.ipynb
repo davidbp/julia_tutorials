{
 "cells": [
  {
   "cell_type": "code",
   "execution_count": 1,
   "id": "4597b2f3",
   "metadata": {},
   "outputs": [],
   "source": [
    "using NearestNeighbors\n",
    "using BenchmarkTools"
   ]
  },
  {
   "cell_type": "markdown",
   "id": "cfa3aa3a",
   "metadata": {},
   "source": [
    "Let us create some data"
   ]
  },
  {
   "cell_type": "code",
   "execution_count": 2,
   "id": "5091cfcd",
   "metadata": {},
   "outputs": [
    {
     "data": {
      "text/plain": [
       "128×1000000 Matrix{Float32}:\n",
       " 0.103815   0.359401   0.0542722  …  0.601437   0.0161192  0.613765\n",
       " 0.787693   0.0236868  0.335288      0.536818   0.906848   0.673667\n",
       " 0.474631   0.771912   0.864373      0.96388    0.4876     0.181068\n",
       " 0.0924482  0.214075   0.102792      0.0629652  0.248358   0.367585\n",
       " 0.411883   0.112835   0.735768      0.547558   0.164784   0.783969\n",
       " 0.574419   0.866531   0.332136   …  0.2064     0.226139   0.590548\n",
       " 0.254123   0.188232   0.538184      0.653873   0.80007    0.617379\n",
       " 0.844911   0.938796   0.696874      0.159127   0.987661   0.358852\n",
       " 0.552221   0.426752   0.962379      0.208436   0.512279   0.709651\n",
       " 0.62083    0.56921    0.252262      0.990145   0.486527   0.536565\n",
       " 0.129705   0.225983   0.951813   …  0.964453   0.0843336  0.670711\n",
       " 0.113989   0.27302    0.160227      0.826938   0.106803   0.633877\n",
       " 0.510465   0.635516   0.730226      0.260457   0.281112   0.0579612\n",
       " ⋮                                ⋱                        \n",
       " 0.477103   0.681787   0.883188      0.640169   0.461561   0.794182\n",
       " 0.814801   0.144326   0.445853      0.498905   0.291597   0.508489\n",
       " 0.0853976  0.134685   0.222146      0.723292   0.920325   0.664721\n",
       " 0.318482   0.33184    0.35698       0.316754   0.62154    0.324146\n",
       " 0.645085   0.286186   0.844711   …  0.624141   0.0641661  0.169051\n",
       " 0.709047   0.705072   0.920468      0.81947    0.5865     0.899397\n",
       " 0.598225   0.761134   0.564986      0.100268   0.210369   0.101676\n",
       " 0.553727   0.498083   0.287368      0.175746   0.204092   0.730436\n",
       " 0.61893    0.0071156  0.5495        0.358281   0.532401   0.271718\n",
       " 0.179742   0.257822   0.335923   …  0.0748146  0.0187929  0.855317\n",
       " 0.953136   0.735116   0.32705       0.981216   0.972677   0.625371\n",
       " 0.252827   0.972013   0.870388      0.926339   0.741591   0.088873"
      ]
     },
     "execution_count": 2,
     "metadata": {},
     "output_type": "execute_result"
    }
   ],
   "source": [
    "data = rand(Float32, 128, 10^6)"
   ]
  },
  {
   "cell_type": "markdown",
   "id": "2db81005",
   "metadata": {},
   "source": [
    "Then we can instanciate a tree with the data and use it for searching vectors to a query vector"
   ]
  },
  {
   "cell_type": "code",
   "execution_count": 3,
   "id": "b76f5eb9",
   "metadata": {},
   "outputs": [
    {
     "data": {
      "text/plain": [
       "BruteTree{StaticArraysCore.SVector{128, Float32}, Euclidean}\n",
       "  Number of points: 1000000\n",
       "  Dimensions: 128\n",
       "  Metric: Euclidean(0.0)\n",
       "  Reordered: false"
      ]
     },
     "execution_count": 3,
     "metadata": {},
     "output_type": "execute_result"
    }
   ],
   "source": [
    "brutetree = BruteTree(data)"
   ]
  },
  {
   "cell_type": "markdown",
   "id": "806b48aa",
   "metadata": {},
   "source": [
    "Let us consider a query vector"
   ]
  },
  {
   "cell_type": "code",
   "execution_count": 4,
   "id": "9d1d9e31",
   "metadata": {},
   "outputs": [],
   "source": [
    "query = data[:,4];"
   ]
  },
  {
   "cell_type": "markdown",
   "id": "b3ff3bc2",
   "metadata": {},
   "source": [
    "The method **`knn`** returns the top `k` items to the query"
   ]
  },
  {
   "cell_type": "code",
   "execution_count": 5,
   "id": "cd9edb0f",
   "metadata": {},
   "outputs": [
    {
     "data": {
      "text/plain": [
       "([672697, 263180, 968110, 435367, 30159, 334875, 810169, 100328, 301652, 4], Float32[3.611783, 3.6114755, 3.6000571, 3.581974, 3.5440912, 3.541534, 3.5718088, 3.5450552, 3.5250273, 0.0])"
      ]
     },
     "execution_count": 5,
     "metadata": {},
     "output_type": "execute_result"
    }
   ],
   "source": [
    "k = 10\n",
    "idx, distances = knn(brutetree, query, k) "
   ]
  },
  {
   "cell_type": "code",
   "execution_count": 6,
   "id": "1880f909",
   "metadata": {},
   "outputs": [
    {
     "data": {
      "text/plain": [
       "BenchmarkTools.Trial: 199 samples with 1 evaluation.\n",
       " Range \u001b[90m(\u001b[39m\u001b[36m\u001b[1mmin\u001b[22m\u001b[39m … \u001b[35mmax\u001b[39m\u001b[90m):  \u001b[39m\u001b[36m\u001b[1m24.899 ms\u001b[22m\u001b[39m … \u001b[35m 25.517 ms\u001b[39m  \u001b[90m┊\u001b[39m GC \u001b[90m(\u001b[39mmin … max\u001b[90m): \u001b[39m0.00% … 0.00%\n",
       " Time  \u001b[90m(\u001b[39m\u001b[34m\u001b[1mmedian\u001b[22m\u001b[39m\u001b[90m):     \u001b[39m\u001b[34m\u001b[1m25.129 ms               \u001b[22m\u001b[39m\u001b[90m┊\u001b[39m GC \u001b[90m(\u001b[39mmedian\u001b[90m):    \u001b[39m0.00%\n",
       " Time  \u001b[90m(\u001b[39m\u001b[32m\u001b[1mmean\u001b[22m\u001b[39m ± \u001b[32mσ\u001b[39m\u001b[90m):   \u001b[39m\u001b[32m\u001b[1m25.113 ms\u001b[22m\u001b[39m ± \u001b[32m102.701 μs\u001b[39m  \u001b[90m┊\u001b[39m GC \u001b[90m(\u001b[39mmean ± σ\u001b[90m):  \u001b[39m0.00% ± 0.00%\n",
       "\n",
       "  \u001b[39m \u001b[39m \u001b[39m \u001b[39m \u001b[39m \u001b[39m \u001b[39m▁\u001b[39m▄\u001b[39m▁\u001b[39m \u001b[39m▁\u001b[39m \u001b[39m \u001b[39m \u001b[39m \u001b[39m \u001b[39m \u001b[39m \u001b[39m \u001b[39m \u001b[39m▂\u001b[39m▁\u001b[39m▁\u001b[39m \u001b[39m \u001b[39m▁\u001b[39m \u001b[39m▁\u001b[39m \u001b[32m \u001b[39m\u001b[39m▄\u001b[34m█\u001b[39m\u001b[39m▇\u001b[39m▂\u001b[39m▅\u001b[39m \u001b[39m▁\u001b[39m▇\u001b[39m▂\u001b[39m▂\u001b[39m \u001b[39m \u001b[39m▄\u001b[39m▁\u001b[39m \u001b[39m \u001b[39m \u001b[39m \u001b[39m \u001b[39m \u001b[39m \u001b[39m \u001b[39m \u001b[39m \u001b[39m \u001b[39m \u001b[39m \u001b[39m \u001b[39m \u001b[39m \u001b[39m \u001b[39m \n",
       "  \u001b[39m▃\u001b[39m▁\u001b[39m▁\u001b[39m▃\u001b[39m▃\u001b[39m▆\u001b[39m█\u001b[39m█\u001b[39m█\u001b[39m▆\u001b[39m█\u001b[39m▅\u001b[39m▁\u001b[39m▃\u001b[39m█\u001b[39m▆\u001b[39m▆\u001b[39m▅\u001b[39m█\u001b[39m▆\u001b[39m█\u001b[39m█\u001b[39m█\u001b[39m▆\u001b[39m▆\u001b[39m█\u001b[39m▆\u001b[39m█\u001b[39m▆\u001b[32m▆\u001b[39m\u001b[39m█\u001b[34m█\u001b[39m\u001b[39m█\u001b[39m█\u001b[39m█\u001b[39m█\u001b[39m█\u001b[39m█\u001b[39m█\u001b[39m█\u001b[39m▅\u001b[39m▃\u001b[39m█\u001b[39m█\u001b[39m▁\u001b[39m▅\u001b[39m█\u001b[39m▆\u001b[39m▃\u001b[39m▁\u001b[39m▃\u001b[39m▅\u001b[39m▃\u001b[39m▁\u001b[39m▃\u001b[39m▁\u001b[39m▁\u001b[39m▁\u001b[39m▃\u001b[39m▅\u001b[39m \u001b[39m▃\n",
       "  24.9 ms\u001b[90m         Histogram: frequency by time\u001b[39m         25.3 ms \u001b[0m\u001b[1m<\u001b[22m\n",
       "\n",
       " Memory estimate\u001b[90m: \u001b[39m\u001b[33m272 bytes\u001b[39m, allocs estimate\u001b[90m: \u001b[39m\u001b[33m3\u001b[39m."
      ]
     },
     "execution_count": 6,
     "metadata": {},
     "output_type": "execute_result"
    }
   ],
   "source": [
    "@benchmark idx, distances = knn(brutetree, query, k) "
   ]
  },
  {
   "cell_type": "code",
   "execution_count": 10,
   "id": "1a08fd90",
   "metadata": {},
   "outputs": [],
   "source": [
    "query_batch = data[:,10:20];"
   ]
  },
  {
   "cell_type": "code",
   "execution_count": 11,
   "id": "fde0024b",
   "metadata": {},
   "outputs": [
    {
     "data": {
      "text/plain": [
       "BenchmarkTools.Trial: 19 samples with 1 evaluation.\n",
       " Range \u001b[90m(\u001b[39m\u001b[36m\u001b[1mmin\u001b[22m\u001b[39m … \u001b[35mmax\u001b[39m\u001b[90m):  \u001b[39m\u001b[36m\u001b[1m268.285 ms\u001b[22m\u001b[39m … \u001b[35m270.872 ms\u001b[39m  \u001b[90m┊\u001b[39m GC \u001b[90m(\u001b[39mmin … max\u001b[90m): \u001b[39m0.00% … 0.00%\n",
       " Time  \u001b[90m(\u001b[39m\u001b[34m\u001b[1mmedian\u001b[22m\u001b[39m\u001b[90m):     \u001b[39m\u001b[34m\u001b[1m270.028 ms               \u001b[22m\u001b[39m\u001b[90m┊\u001b[39m GC \u001b[90m(\u001b[39mmedian\u001b[90m):    \u001b[39m0.00%\n",
       " Time  \u001b[90m(\u001b[39m\u001b[32m\u001b[1mmean\u001b[22m\u001b[39m ± \u001b[32mσ\u001b[39m\u001b[90m):   \u001b[39m\u001b[32m\u001b[1m269.614 ms\u001b[22m\u001b[39m ± \u001b[32m942.168 μs\u001b[39m  \u001b[90m┊\u001b[39m GC \u001b[90m(\u001b[39mmean ± σ\u001b[90m):  \u001b[39m0.00% ± 0.00%\n",
       "\n",
       "  \u001b[39m█\u001b[39m \u001b[39m \u001b[39m▁\u001b[39m \u001b[39m█\u001b[39m \u001b[39m \u001b[39m \u001b[39m \u001b[39m█\u001b[39m \u001b[39m \u001b[39m \u001b[39m \u001b[39m \u001b[39m \u001b[39m \u001b[39m \u001b[39m \u001b[39m \u001b[39m \u001b[39m \u001b[39m \u001b[39m▁\u001b[39m \u001b[39m \u001b[39m \u001b[39m \u001b[39m \u001b[39m \u001b[32m \u001b[39m\u001b[34m▁\u001b[39m\u001b[39m \u001b[39m \u001b[39m \u001b[39m \u001b[39m \u001b[39m \u001b[39m \u001b[39m \u001b[39m▁\u001b[39m \u001b[39m▁\u001b[39m \u001b[39m \u001b[39m▁\u001b[39m▁\u001b[39m \u001b[39m▁\u001b[39m▁\u001b[39m▁\u001b[39m \u001b[39m▁\u001b[39m \u001b[39m \u001b[39m \u001b[39m \u001b[39m▁\u001b[39m \u001b[39m▁\u001b[39m \u001b[39m \n",
       "  \u001b[39m█\u001b[39m▁\u001b[39m▁\u001b[39m█\u001b[39m▁\u001b[39m█\u001b[39m▁\u001b[39m▁\u001b[39m▁\u001b[39m▁\u001b[39m█\u001b[39m▁\u001b[39m▁\u001b[39m▁\u001b[39m▁\u001b[39m▁\u001b[39m▁\u001b[39m▁\u001b[39m▁\u001b[39m▁\u001b[39m▁\u001b[39m▁\u001b[39m▁\u001b[39m▁\u001b[39m█\u001b[39m▁\u001b[39m▁\u001b[39m▁\u001b[39m▁\u001b[39m▁\u001b[39m▁\u001b[32m▁\u001b[39m\u001b[34m█\u001b[39m\u001b[39m▁\u001b[39m▁\u001b[39m▁\u001b[39m▁\u001b[39m▁\u001b[39m▁\u001b[39m▁\u001b[39m▁\u001b[39m█\u001b[39m▁\u001b[39m█\u001b[39m▁\u001b[39m▁\u001b[39m█\u001b[39m█\u001b[39m▁\u001b[39m█\u001b[39m█\u001b[39m█\u001b[39m▁\u001b[39m█\u001b[39m▁\u001b[39m▁\u001b[39m▁\u001b[39m▁\u001b[39m█\u001b[39m▁\u001b[39m█\u001b[39m \u001b[39m▁\n",
       "  268 ms\u001b[90m           Histogram: frequency by time\u001b[39m          271 ms \u001b[0m\u001b[1m<\u001b[22m\n",
       "\n",
       " Memory estimate\u001b[90m: \u001b[39m\u001b[33m7.34 KiB\u001b[39m, allocs estimate\u001b[90m: \u001b[39m\u001b[33m27\u001b[39m."
      ]
     },
     "execution_count": 11,
     "metadata": {},
     "output_type": "execute_result"
    }
   ],
   "source": [
    "@benchmark idx, distances = knn(brutetree, query_batch, 1) "
   ]
  },
  {
   "cell_type": "markdown",
   "id": "5978d2ed",
   "metadata": {},
   "source": [
    "The query can also be a batch of vectors"
   ]
  },
  {
   "cell_type": "code",
   "execution_count": 12,
   "id": "f12b4f6c",
   "metadata": {},
   "outputs": [
    {
     "data": {
      "text/plain": [
       "([[10], [11], [12], [13], [14], [15], [16], [17], [18], [19], [20]], Vector{Float32}[[0.0], [0.0], [0.0], [0.0], [0.0], [0.0], [0.0], [0.0], [0.0], [0.0], [0.0]])"
      ]
     },
     "execution_count": 12,
     "metadata": {},
     "output_type": "execute_result"
    }
   ],
   "source": [
    "idx, distances = knn(brutetree, query_batch, 1) "
   ]
  },
  {
   "cell_type": "markdown",
   "id": "362c7551",
   "metadata": {},
   "source": [
    "Here we can see that vectors from the query batch have the closest matches in indices 10 to 20 (which are the indices we used to select them!)"
   ]
  },
  {
   "cell_type": "code",
   "execution_count": 14,
   "id": "d2956d2c",
   "metadata": {},
   "outputs": [
    {
     "data": {
      "text/plain": [
       "11-element Vector{Vector{Int64}}:\n",
       " [10]\n",
       " [11]\n",
       " [12]\n",
       " [13]\n",
       " [14]\n",
       " [15]\n",
       " [16]\n",
       " [17]\n",
       " [18]\n",
       " [19]\n",
       " [20]"
      ]
     },
     "execution_count": 14,
     "metadata": {},
     "output_type": "execute_result"
    }
   ],
   "source": [
    "idx"
   ]
  },
  {
   "cell_type": "markdown",
   "id": "c942cc9a",
   "metadata": {},
   "source": [
    "Note that creating a `BruteTree` instance can take some time "
   ]
  },
  {
   "cell_type": "code",
   "execution_count": 39,
   "id": "dfc436c5",
   "metadata": {},
   "outputs": [
    {
     "data": {
      "text/plain": [
       "BenchmarkTools.Trial: 55 samples with 1 evaluation.\n",
       " Range \u001b[90m(\u001b[39m\u001b[36m\u001b[1mmin\u001b[22m\u001b[39m … \u001b[35mmax\u001b[39m\u001b[90m):  \u001b[39m\u001b[36m\u001b[1m90.668 ms\u001b[22m\u001b[39m … \u001b[35m 93.859 ms\u001b[39m  \u001b[90m┊\u001b[39m GC \u001b[90m(\u001b[39mmin … max\u001b[90m): \u001b[39m0.00% … 0.42%\n",
       " Time  \u001b[90m(\u001b[39m\u001b[34m\u001b[1mmedian\u001b[22m\u001b[39m\u001b[90m):     \u001b[39m\u001b[34m\u001b[1m91.376 ms               \u001b[22m\u001b[39m\u001b[90m┊\u001b[39m GC \u001b[90m(\u001b[39mmedian\u001b[90m):    \u001b[39m0.00%\n",
       " Time  \u001b[90m(\u001b[39m\u001b[32m\u001b[1mmean\u001b[22m\u001b[39m ± \u001b[32mσ\u001b[39m\u001b[90m):   \u001b[39m\u001b[32m\u001b[1m91.523 ms\u001b[22m\u001b[39m ± \u001b[32m615.101 μs\u001b[39m  \u001b[90m┊\u001b[39m GC \u001b[90m(\u001b[39mmean ± σ\u001b[90m):  \u001b[39m0.15% ± 0.21%\n",
       "\n",
       "  \u001b[39m \u001b[39m \u001b[39m \u001b[39m \u001b[39m \u001b[39m▂\u001b[39m \u001b[39m \u001b[39m \u001b[39m \u001b[39m \u001b[39m█\u001b[39m█\u001b[39m \u001b[34m \u001b[39m\u001b[39m \u001b[39m \u001b[39m \u001b[39m \u001b[32m \u001b[39m\u001b[39m \u001b[39m \u001b[39m \u001b[39m \u001b[39m \u001b[39m \u001b[39m \u001b[39m▅\u001b[39m \u001b[39m \u001b[39m \u001b[39m \u001b[39m \u001b[39m \u001b[39m \u001b[39m \u001b[39m \u001b[39m \u001b[39m \u001b[39m \u001b[39m \u001b[39m \u001b[39m \u001b[39m \u001b[39m \u001b[39m \u001b[39m \u001b[39m \u001b[39m \u001b[39m \u001b[39m \u001b[39m \u001b[39m \u001b[39m \u001b[39m \u001b[39m \u001b[39m \u001b[39m \u001b[39m \u001b[39m \u001b[39m \u001b[39m \n",
       "  \u001b[39m█\u001b[39m▅\u001b[39m▁\u001b[39m▁\u001b[39m█\u001b[39m█\u001b[39m▁\u001b[39m▅\u001b[39m█\u001b[39m▅\u001b[39m█\u001b[39m█\u001b[39m█\u001b[39m▅\u001b[34m█\u001b[39m\u001b[39m▁\u001b[39m█\u001b[39m▅\u001b[39m▅\u001b[32m█\u001b[39m\u001b[39m▅\u001b[39m▅\u001b[39m█\u001b[39m▅\u001b[39m▁\u001b[39m▅\u001b[39m▅\u001b[39m█\u001b[39m▅\u001b[39m▅\u001b[39m▅\u001b[39m▁\u001b[39m█\u001b[39m▅\u001b[39m▅\u001b[39m▁\u001b[39m▁\u001b[39m▁\u001b[39m▁\u001b[39m▁\u001b[39m▁\u001b[39m▁\u001b[39m▅\u001b[39m▁\u001b[39m▅\u001b[39m▁\u001b[39m▁\u001b[39m▁\u001b[39m▁\u001b[39m▁\u001b[39m▁\u001b[39m▁\u001b[39m▁\u001b[39m▁\u001b[39m▁\u001b[39m▁\u001b[39m▁\u001b[39m▁\u001b[39m▁\u001b[39m▅\u001b[39m \u001b[39m▁\n",
       "  90.7 ms\u001b[90m         Histogram: frequency by time\u001b[39m         93.3 ms \u001b[0m\u001b[1m<\u001b[22m\n",
       "\n",
       " Memory estimate\u001b[90m: \u001b[39m\u001b[33m488.28 MiB\u001b[39m, allocs estimate\u001b[90m: \u001b[39m\u001b[33m5\u001b[39m."
      ]
     },
     "execution_count": 39,
     "metadata": {},
     "output_type": "execute_result"
    }
   ],
   "source": [
    "@benchmark brutetree = BruteTree(data)"
   ]
  },
  {
   "cell_type": "markdown",
   "id": "46a901db",
   "metadata": {},
   "source": [
    "Note that even id data is not store the time is similar"
   ]
  },
  {
   "cell_type": "code",
   "execution_count": 40,
   "id": "ae942660",
   "metadata": {},
   "outputs": [
    {
     "data": {
      "text/plain": [
       "BenchmarkTools.Trial: 55 samples with 1 evaluation.\n",
       " Range \u001b[90m(\u001b[39m\u001b[36m\u001b[1mmin\u001b[22m\u001b[39m … \u001b[35mmax\u001b[39m\u001b[90m):  \u001b[39m\u001b[36m\u001b[1m90.756 ms\u001b[22m\u001b[39m … \u001b[35m95.558 ms\u001b[39m  \u001b[90m┊\u001b[39m GC \u001b[90m(\u001b[39mmin … max\u001b[90m): \u001b[39m0.00% … 0.44%\n",
       " Time  \u001b[90m(\u001b[39m\u001b[34m\u001b[1mmedian\u001b[22m\u001b[39m\u001b[90m):     \u001b[39m\u001b[34m\u001b[1m92.104 ms              \u001b[22m\u001b[39m\u001b[90m┊\u001b[39m GC \u001b[90m(\u001b[39mmedian\u001b[90m):    \u001b[39m0.00%\n",
       " Time  \u001b[90m(\u001b[39m\u001b[32m\u001b[1mmean\u001b[22m\u001b[39m ± \u001b[32mσ\u001b[39m\u001b[90m):   \u001b[39m\u001b[32m\u001b[1m92.291 ms\u001b[22m\u001b[39m ± \u001b[32m 1.142 ms\u001b[39m  \u001b[90m┊\u001b[39m GC \u001b[90m(\u001b[39mmean ± σ\u001b[90m):  \u001b[39m0.15% ± 0.21%\n",
       "\n",
       "  \u001b[39m \u001b[39m \u001b[39m \u001b[39m \u001b[39m \u001b[39m \u001b[39m \u001b[39m▁\u001b[39m▃\u001b[39m \u001b[39m▃\u001b[39m▁\u001b[39m \u001b[39m \u001b[39m \u001b[39m▁\u001b[34m▁\u001b[39m\u001b[39m█\u001b[39m \u001b[32m \u001b[39m\u001b[39m \u001b[39m \u001b[39m \u001b[39m \u001b[39m \u001b[39m \u001b[39m \u001b[39m \u001b[39m \u001b[39m \u001b[39m \u001b[39m \u001b[39m \u001b[39m \u001b[39m \u001b[39m \u001b[39m \u001b[39m \u001b[39m \u001b[39m \u001b[39m \u001b[39m \u001b[39m \u001b[39m \u001b[39m \u001b[39m \u001b[39m \u001b[39m \u001b[39m \u001b[39m \u001b[39m \u001b[39m \u001b[39m \u001b[39m \u001b[39m \u001b[39m \u001b[39m \u001b[39m \u001b[39m \u001b[39m \u001b[39m \n",
       "  \u001b[39m▇\u001b[39m▄\u001b[39m▁\u001b[39m▁\u001b[39m▄\u001b[39m▄\u001b[39m▄\u001b[39m█\u001b[39m█\u001b[39m▁\u001b[39m█\u001b[39m█\u001b[39m▄\u001b[39m▇\u001b[39m▄\u001b[39m█\u001b[34m█\u001b[39m\u001b[39m█\u001b[39m▇\u001b[32m▁\u001b[39m\u001b[39m▄\u001b[39m▇\u001b[39m▄\u001b[39m▄\u001b[39m▇\u001b[39m▁\u001b[39m▄\u001b[39m▁\u001b[39m▁\u001b[39m▄\u001b[39m▁\u001b[39m▁\u001b[39m▁\u001b[39m▁\u001b[39m▁\u001b[39m▄\u001b[39m▁\u001b[39m▁\u001b[39m▁\u001b[39m▁\u001b[39m▁\u001b[39m▁\u001b[39m▄\u001b[39m▄\u001b[39m▁\u001b[39m▁\u001b[39m▇\u001b[39m▁\u001b[39m▁\u001b[39m▁\u001b[39m▁\u001b[39m▁\u001b[39m▁\u001b[39m▄\u001b[39m▁\u001b[39m▁\u001b[39m▁\u001b[39m▁\u001b[39m▄\u001b[39m \u001b[39m▁\n",
       "  90.8 ms\u001b[90m         Histogram: frequency by time\u001b[39m        95.5 ms \u001b[0m\u001b[1m<\u001b[22m\n",
       "\n",
       " Memory estimate\u001b[90m: \u001b[39m\u001b[33m488.28 MiB\u001b[39m, allocs estimate\u001b[90m: \u001b[39m\u001b[33m6\u001b[39m."
      ]
     },
     "execution_count": 40,
     "metadata": {},
     "output_type": "execute_result"
    }
   ],
   "source": [
    "@benchmark brutetree2 = BruteTree(data; storedata=false)"
   ]
  },
  {
   "cell_type": "markdown",
   "id": "6ffdcf0c",
   "metadata": {},
   "source": [
    "If we want to decrease the constructiontime of the Brute tree we can use a single datapoint"
   ]
  },
  {
   "cell_type": "code",
   "execution_count": 64,
   "id": "91afb5fa",
   "metadata": {},
   "outputs": [
    {
     "data": {
      "text/plain": [
       "BenchmarkTools.Trial: 10000 samples with 91 evaluations.\n",
       " Range \u001b[90m(\u001b[39m\u001b[36m\u001b[1mmin\u001b[22m\u001b[39m … \u001b[35mmax\u001b[39m\u001b[90m):  \u001b[39m\u001b[36m\u001b[1m800.824 ns\u001b[22m\u001b[39m … \u001b[35m294.567 μs\u001b[39m  \u001b[90m┊\u001b[39m GC \u001b[90m(\u001b[39mmin … max\u001b[90m): \u001b[39m0.00% … 99.41%\n",
       " Time  \u001b[90m(\u001b[39m\u001b[34m\u001b[1mmedian\u001b[22m\u001b[39m\u001b[90m):     \u001b[39m\u001b[34m\u001b[1m822.352 ns               \u001b[22m\u001b[39m\u001b[90m┊\u001b[39m GC \u001b[90m(\u001b[39mmedian\u001b[90m):    \u001b[39m0.00%\n",
       " Time  \u001b[90m(\u001b[39m\u001b[32m\u001b[1mmean\u001b[22m\u001b[39m ± \u001b[32mσ\u001b[39m\u001b[90m):   \u001b[39m\u001b[32m\u001b[1m920.741 ns\u001b[22m\u001b[39m ± \u001b[32m  2.945 μs\u001b[39m  \u001b[90m┊\u001b[39m GC \u001b[90m(\u001b[39mmean ± σ\u001b[90m):  \u001b[39m3.18% ±  0.99%\n",
       "\n",
       "  \u001b[39m▅\u001b[39m█\u001b[39m█\u001b[34m▇\u001b[39m\u001b[39m▅\u001b[39m▄\u001b[39m▄\u001b[39m▃\u001b[39m▃\u001b[39m▂\u001b[39m▂\u001b[39m▁\u001b[39m▁\u001b[39m▁\u001b[39m▁\u001b[39m▁\u001b[39m▁\u001b[39m▁\u001b[39m▁\u001b[32m▂\u001b[39m\u001b[39m▁\u001b[39m▁\u001b[39m▁\u001b[39m \u001b[39m \u001b[39m \u001b[39m \u001b[39m \u001b[39m \u001b[39m \u001b[39m \u001b[39m \u001b[39m \u001b[39m \u001b[39m \u001b[39m \u001b[39m \u001b[39m▁\u001b[39m▂\u001b[39m▃\u001b[39m▃\u001b[39m▄\u001b[39m▃\u001b[39m▃\u001b[39m▃\u001b[39m▃\u001b[39m▂\u001b[39m▂\u001b[39m▁\u001b[39m▁\u001b[39m▁\u001b[39m▁\u001b[39m \u001b[39m \u001b[39m \u001b[39m \u001b[39m \u001b[39m \u001b[39m \u001b[39m \u001b[39m \u001b[39m \u001b[39m▂\n",
       "  \u001b[39m█\u001b[39m█\u001b[39m█\u001b[34m█\u001b[39m\u001b[39m█\u001b[39m█\u001b[39m█\u001b[39m█\u001b[39m█\u001b[39m█\u001b[39m█\u001b[39m█\u001b[39m█\u001b[39m█\u001b[39m█\u001b[39m█\u001b[39m█\u001b[39m█\u001b[39m█\u001b[32m█\u001b[39m\u001b[39m█\u001b[39m█\u001b[39m█\u001b[39m█\u001b[39m▇\u001b[39m▇\u001b[39m▇\u001b[39m▇\u001b[39m▆\u001b[39m▆\u001b[39m▅\u001b[39m▅\u001b[39m▅\u001b[39m▄\u001b[39m▄\u001b[39m▄\u001b[39m▇\u001b[39m█\u001b[39m█\u001b[39m█\u001b[39m█\u001b[39m█\u001b[39m█\u001b[39m█\u001b[39m█\u001b[39m█\u001b[39m█\u001b[39m█\u001b[39m█\u001b[39m█\u001b[39m█\u001b[39m█\u001b[39m▇\u001b[39m▇\u001b[39m▇\u001b[39m▇\u001b[39m▆\u001b[39m▆\u001b[39m▆\u001b[39m▆\u001b[39m▅\u001b[39m \u001b[39m█\n",
       "  801 ns\u001b[90m        \u001b[39m\u001b[90mHistogram: \u001b[39m\u001b[90m\u001b[1mlog(\u001b[22m\u001b[39m\u001b[90mfrequency\u001b[39m\u001b[90m\u001b[1m)\u001b[22m\u001b[39m\u001b[90m by time\u001b[39m       1.19 μs \u001b[0m\u001b[1m<\u001b[22m\n",
       "\n",
       " Memory estimate\u001b[90m: \u001b[39m\u001b[33m1.20 KiB\u001b[39m, allocs estimate\u001b[90m: \u001b[39m\u001b[33m5\u001b[39m."
      ]
     },
     "execution_count": 64,
     "metadata": {},
     "output_type": "execute_result"
    }
   ],
   "source": [
    "aux = data[:,1];\n",
    "@benchmark brutetree2 = BruteTree(aux;storedata=false)"
   ]
  },
  {
   "cell_type": "code",
   "execution_count": 66,
   "id": "e4731e8b",
   "metadata": {
    "scrolled": true
   },
   "outputs": [
    {
     "data": {
      "text/plain": [
       "BruteTree{StaticArraysCore.SVector{128, Float32}, Euclidean}\n",
       "  Number of points: 0\n",
       "  Dimensions: 128\n",
       "  Metric: Euclidean(0.0)\n",
       "  Reordered: false"
      ]
     },
     "execution_count": 66,
     "metadata": {},
     "output_type": "execute_result"
    }
   ],
   "source": [
    "brutetree2"
   ]
  },
  {
   "cell_type": "code",
   "execution_count": 69,
   "id": "4ca6dda5",
   "metadata": {},
   "outputs": [
    {
     "ename": "LoadError",
     "evalue": "MethodError: no method matching knn(::BruteTree{StaticArraysCore.SVector{128, Float32}, Euclidean}, ::Matrix{Float32}, ::Matrix{Float32}, ::Int64)\n\u001b[0mClosest candidates are:\n\u001b[0m  knn(::NNTree{V}, ::AbstractMatrix{T}, \u001b[91m::Int64\u001b[39m, ::Any) where {V, T<:Number} at ~/.julia/packages/NearestNeighbors/8gDgr/src/knn.jl:55\n\u001b[0m  knn(::NNTree{V}, ::AbstractMatrix{T}, \u001b[91m::Int64\u001b[39m, ::Any, \u001b[91m::F\u001b[39m) where {V, T<:Number, F<:Function} at ~/.julia/packages/NearestNeighbors/8gDgr/src/knn.jl:55\n\u001b[0m  knn(::NNTree{V}, \u001b[91m::Vector{T}\u001b[39m, \u001b[91m::Int64\u001b[39m, ::Any) where {V, T<:(AbstractVector)} at ~/.julia/packages/NearestNeighbors/8gDgr/src/knn.jl:17\n\u001b[0m  ...",
     "output_type": "error",
     "traceback": [
      "MethodError: no method matching knn(::BruteTree{StaticArraysCore.SVector{128, Float32}, Euclidean}, ::Matrix{Float32}, ::Matrix{Float32}, ::Int64)\n\u001b[0mClosest candidates are:\n\u001b[0m  knn(::NNTree{V}, ::AbstractMatrix{T}, \u001b[91m::Int64\u001b[39m, ::Any) where {V, T<:Number} at ~/.julia/packages/NearestNeighbors/8gDgr/src/knn.jl:55\n\u001b[0m  knn(::NNTree{V}, ::AbstractMatrix{T}, \u001b[91m::Int64\u001b[39m, ::Any, \u001b[91m::F\u001b[39m) where {V, T<:Number, F<:Function} at ~/.julia/packages/NearestNeighbors/8gDgr/src/knn.jl:55\n\u001b[0m  knn(::NNTree{V}, \u001b[91m::Vector{T}\u001b[39m, \u001b[91m::Int64\u001b[39m, ::Any) where {V, T<:(AbstractVector)} at ~/.julia/packages/NearestNeighbors/8gDgr/src/knn.jl:17\n\u001b[0m  ...",
      "",
      "Stacktrace:",
      " [1] top-level scope",
      "   @ In[69]:1",
      " [2] eval",
      "   @ ./boot.jl:368 [inlined]",
      " [3] include_string(mapexpr::typeof(REPL.softscope), mod::Module, code::String, filename::String)",
      "   @ Base ./loading.jl:1428"
     ]
    }
   ],
   "source": [
    "idx, distances = knn(brutetree2, data, query, 1) "
   ]
  },
  {
   "cell_type": "code",
   "execution_count": null,
   "id": "177720ea",
   "metadata": {},
   "outputs": [],
   "source": []
  }
 ],
 "metadata": {
  "kernelspec": {
   "display_name": "Julia 1.8.0",
   "language": "julia",
   "name": "julia-1.8"
  },
  "language_info": {
   "file_extension": ".jl",
   "mimetype": "application/julia",
   "name": "julia",
   "version": "1.8.3"
  }
 },
 "nbformat": 4,
 "nbformat_minor": 5
}
