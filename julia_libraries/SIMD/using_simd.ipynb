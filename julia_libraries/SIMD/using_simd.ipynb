{
 "cells": [
  {
   "cell_type": "markdown",
   "metadata": {},
   "source": [
    "\n",
    "## Simd examples\n",
    "\n",
    "\n",
    "Run \n",
    "```\n",
    "include(joinpath(dirname(JULIA_HOME),\"share\",\"julia\",\"build_sysimg.jl\")); build_sysimg(force=true)\n",
    "```\n",
    "if julia is not build in source.\n"
   ]
  },
  {
   "cell_type": "code",
   "execution_count": 2,
   "metadata": {
    "scrolled": true
   },
   "outputs": [
    {
     "name": "stderr",
     "output_type": "stream",
     "text": [
      "\u001b[1m\u001b[36mINFO: \u001b[39m\u001b[22m\u001b[36mRecompiling stale cache file /Users/macpro/.julia/lib/v0.6/HDF5.ji for module HDF5.\n",
      "\u001b[39m\u001b[1m\u001b[36mINFO: \u001b[39m\u001b[22m\u001b[36mRecompiling stale cache file /Users/macpro/.julia/lib/v0.6/JLD.ji for module JLD.\n",
      "\u001b[39m"
     ]
    }
   ],
   "source": [
    "using BenchmarkTools"
   ]
  },
  {
   "cell_type": "code",
   "execution_count": 3,
   "metadata": {},
   "outputs": [
    {
     "data": {
      "text/plain": [
       "mysum_simd (generic function with 1 method)"
      ]
     },
     "execution_count": 3,
     "metadata": {},
     "output_type": "execute_result"
    }
   ],
   "source": [
    "function mysum(a::Vector)\n",
    "    total = zero(eltype(a))\n",
    "    for x in a\n",
    "        total += x\n",
    "    end\n",
    "    return total\n",
    "end\n",
    "\n",
    "function mysum_simd(a::Vector)\n",
    "    total = zero(eltype(a))\n",
    "    @simd for x in a\n",
    "        total += x\n",
    "    end\n",
    "    return total\n",
    "end"
   ]
  },
  {
   "cell_type": "code",
   "execution_count": 4,
   "metadata": {
    "collapsed": true
   },
   "outputs": [],
   "source": [
    "x = rand(Float64 , 100000);"
   ]
  },
  {
   "cell_type": "code",
   "execution_count": 5,
   "metadata": {
    "scrolled": true
   },
   "outputs": [
    {
     "name": "stdout",
     "output_type": "stream",
     "text": [
      "\t.section\t__TEXT,__text,regular,pure_instructions\n",
      "Filename: In[3]\n",
      "Source line: 67\n",
      "\tmovq\t8(%rdi), %rax\n",
      "Source line: 64\n",
      "\tmovq\t24(%rdi), %rdx\n",
      "\txorl\t%ecx, %ecx\n",
      "Source line: 79\n",
      "\ttestq\t%rdx, %rdx\n",
      "\tcmovnsq\t%rdx, %rcx\n",
      "Source line: 68\n",
      "\ttestq\t%rax, %rax\n",
      "\tjle\tL305\n",
      "Source line: 79\n",
      "\tleaq\t-1(%rcx), %rsi\n",
      "\tcmpq\t%rdx, %rsi\n",
      "\tjae\tL313\n",
      "Source line: 50\n",
      "\tmovq\t(%rdi), %r9\n",
      "Source line: 66\n",
      "\tleaq\t96(%r9), %r8\n",
      "\tmovq\t%rax, %r10\n",
      "\tandq\t$-16, %r10\n",
      "\tvxorpd\t%xmm0, %xmm0, %xmm0\n",
      "\txorl\t%edi, %edi\n",
      "Source line: 50\n",
      "\tvxorpd\t%ymm1, %ymm1, %ymm1\n",
      "Source line: 66\n",
      "\tjmp\tL288\n",
      "\tnopw\t%cs:(%rax,%rax)\n",
      "Source line: 71\n",
      "L80:\n",
      "\ttestq\t%rax, %rax\n",
      "\tjle\tL288\n",
      "Source line: 50\n",
      "\tcmpq\t$16, %rax\n",
      "\tjae\tL102\n",
      "\txorl\t%edx, %edx\n",
      "\tjmp\tL253\n",
      "L102:\n",
      "\tmovq\t%rax, %rdx\n",
      "\tandq\t$-16, %rdx\n",
      "\tje\tL251\n",
      "\tvblendpd\t$1, %ymm0, %ymm1, %ymm0 ## ymm0 = ymm0[0],ymm1[1,2,3]\n",
      "\tvxorpd\t%ymm2, %ymm2, %ymm2\n",
      "Source line: 74\n",
      "\tmovq\t%r10, %rsi\n",
      "\tmovq\t%r8, %rcx\n",
      "\tvxorpd\t%ymm3, %ymm3, %ymm3\n",
      "\tvxorpd\t%ymm4, %ymm4, %ymm4\n",
      "\tnopl\t(%rax,%rax)\n",
      "Source line: 50\n",
      "L144:\n",
      "\tvmovupd\t-96(%rcx), %xmm5\n",
      "\tvmovupd\t-64(%rcx), %xmm6\n",
      "\tvmovupd\t-32(%rcx), %xmm7\n",
      "\tvmovupd\t(%rcx), %xmm8\n",
      "\tvinsertf128\t$1, -80(%rcx), %ymm5, %ymm5\n",
      "\tvinsertf128\t$1, -48(%rcx), %ymm6, %ymm6\n",
      "\tvinsertf128\t$1, -16(%rcx), %ymm7, %ymm7\n",
      "\tvinsertf128\t$1, 16(%rcx), %ymm8, %ymm8\n",
      "Source line: 12\n",
      "\tvaddpd\t%ymm5, %ymm0, %ymm0\n",
      "\tvaddpd\t%ymm6, %ymm2, %ymm2\n",
      "\tvaddpd\t%ymm7, %ymm3, %ymm3\n",
      "\tvaddpd\t%ymm8, %ymm4, %ymm4\n",
      "Source line: 50\n",
      "\tsubq\t$-128, %rcx\n",
      "\taddq\t$-16, %rsi\n",
      "\tjne\tL144\n",
      "Source line: 12\n",
      "\tvaddpd\t%ymm0, %ymm2, %ymm0\n",
      "\tvaddpd\t%ymm0, %ymm3, %ymm0\n",
      "\tvaddpd\t%ymm0, %ymm4, %ymm0\n",
      "\tvextractf128\t$1, %ymm0, %xmm2\n",
      "\tvaddpd\t%ymm2, %ymm0, %ymm0\n",
      "\tvhaddpd\t%ymm0, %ymm0, %ymm0\n",
      "\tcmpq\t%rdx, %rax\n",
      "\tje\tL288\n",
      "\tjmp\tL253\n",
      "L251:\n",
      "\txorl\t%edx, %edx\n",
      "Source line: 50\n",
      "L253:\n",
      "\tmovq\t%rax, %rcx\n",
      "\tsubq\t%rdx, %rcx\n",
      "\tleaq\t(%r9,%rdx,8), %rdx\n",
      "\tnopw\t(%rax,%rax)\n",
      "Source line: 12\n",
      "L272:\n",
      "\tvaddsd\t(%rdx), %xmm0, %xmm0\n",
      "Source line: 71\n",
      "\taddq\t$8, %rdx\n",
      "\tdecq\t%rcx\n",
      "\tjne\tL272\n",
      "\tnopl\t(%rax)\n",
      "Source line: 66\n",
      "L288:\n",
      "\tincq\t%rdi\n",
      "\tcmpq\t$2, %rdi\n",
      "\tjne\tL80\n",
      "Source line: 14\n",
      "\tvzeroupper\n",
      "\tretq\n",
      "L305:\n",
      "\tvxorps\t%xmm0, %xmm0, %xmm0\n",
      "\tvzeroupper\n",
      "\tretq\n",
      "L313:\n",
      "\tpushq\t%rbp\n",
      "\tmovq\t%rsp, %rbp\n",
      "Source line: 79\n",
      "\tmovq\t%rsp, %rax\n",
      "\tleaq\t-16(%rax), %rsi\n",
      "\tmovq\t%rsi, %rsp\n",
      "\tmovq\t%rcx, -16(%rax)\n",
      "\tmovabsq\t$jl_bounds_error_ints, %rax\n",
      "\tmovl\t$1, %edx\n",
      "\tcallq\t*%rax\n",
      "\tnopl\t(%rax)\n"
     ]
    }
   ],
   "source": [
    "@code_native mysum_simd(x)"
   ]
  },
  {
   "cell_type": "code",
   "execution_count": 6,
   "metadata": {
    "scrolled": true
   },
   "outputs": [
    {
     "name": "stdout",
     "output_type": "stream",
     "text": [
      "\t.section\t__TEXT,__text,regular,pure_instructions\n",
      "Filename: In[3]\n",
      "Source line: 3\n",
      "\tmovq\t8(%rdi), %rax\n",
      "\tvxorpd\t%xmm0, %xmm0, %xmm0\n",
      "\ttestq\t%rax, %rax\n",
      "\tje\tL50\n",
      "\tmovq\t(%rdi), %rdx\n",
      "\tmovq\t24(%rdi), %rsi\n",
      "\tvxorpd\t%xmm0, %xmm0, %xmm0\n",
      "\txorl\t%ecx, %ecx\n",
      "\tnopw\t(%rax,%rax)\n",
      "L32:\n",
      "\tcmpq\t%rsi, %rcx\n",
      "\tjae\tL51\n",
      "Source line: 4\n",
      "\tvaddsd\t(%rdx,%rcx,8), %xmm0, %xmm0\n",
      "Source line: 3\n",
      "\tincq\t%rcx\n",
      "\tcmpq\t%rcx, %rax\n",
      "\tjne\tL32\n",
      "Source line: 6\n",
      "L50:\n",
      "\tretq\n",
      "L51:\n",
      "\tpushq\t%rbp\n",
      "\tmovq\t%rsp, %rbp\n",
      "Source line: 3\n",
      "\tmovq\t%rsp, %rax\n",
      "\tleaq\t-16(%rax), %rsi\n",
      "\tmovq\t%rsi, %rsp\n",
      "\tincq\t%rcx\n",
      "\tmovq\t%rcx, -16(%rax)\n",
      "\tmovabsq\t$jl_bounds_error_ints, %rax\n",
      "\tmovl\t$1, %edx\n",
      "\tcallq\t*%rax\n",
      "\tnopl\t(%rax)\n"
     ]
    }
   ],
   "source": [
    "@code_native mysum(x)"
   ]
  },
  {
   "cell_type": "code",
   "execution_count": 7,
   "metadata": {
    "scrolled": true
   },
   "outputs": [
    {
     "data": {
      "text/plain": [
       "BenchmarkTools.Trial: \n",
       "  memory estimate:  16 bytes\n",
       "  allocs estimate:  1\n",
       "  --------------\n",
       "  minimum time:     77.029 μs (0.00% GC)\n",
       "  median time:      81.211 μs (0.00% GC)\n",
       "  mean time:        80.979 μs (0.00% GC)\n",
       "  maximum time:     187.244 μs (0.00% GC)\n",
       "  --------------\n",
       "  samples:          10000\n",
       "  evals/sample:     1"
      ]
     },
     "execution_count": 7,
     "metadata": {},
     "output_type": "execute_result"
    }
   ],
   "source": [
    "@benchmark mysum(x)"
   ]
  },
  {
   "cell_type": "code",
   "execution_count": 8,
   "metadata": {},
   "outputs": [
    {
     "data": {
      "text/plain": [
       "BenchmarkTools.Trial: \n",
       "  memory estimate:  16 bytes\n",
       "  allocs estimate:  1\n",
       "  --------------\n",
       "  minimum time:     21.962 μs (0.00% GC)\n",
       "  median time:      23.467 μs (0.00% GC)\n",
       "  mean time:        23.644 μs (0.00% GC)\n",
       "  maximum time:     91.863 μs (0.00% GC)\n",
       "  --------------\n",
       "  samples:          10000\n",
       "  evals/sample:     1"
      ]
     },
     "execution_count": 8,
     "metadata": {},
     "output_type": "execute_result"
    }
   ],
   "source": [
    "@benchmark mysum_simd(x)"
   ]
  },
  {
   "cell_type": "code",
   "execution_count": 9,
   "metadata": {},
   "outputs": [
    {
     "data": {
      "text/plain": [
       "400000"
      ]
     },
     "execution_count": 9,
     "metadata": {},
     "output_type": "execute_result"
    }
   ],
   "source": [
    "x = rand(Float32 , 100000);\n",
    "sizeof(x)"
   ]
  },
  {
   "cell_type": "code",
   "execution_count": 10,
   "metadata": {},
   "outputs": [
    {
     "data": {
      "text/plain": [
       "BenchmarkTools.Trial: \n",
       "  memory estimate:  16 bytes\n",
       "  allocs estimate:  1\n",
       "  --------------\n",
       "  minimum time:     77.042 μs (0.00% GC)\n",
       "  median time:      81.218 μs (0.00% GC)\n",
       "  mean time:        80.648 μs (0.00% GC)\n",
       "  maximum time:     243.196 μs (0.00% GC)\n",
       "  --------------\n",
       "  samples:          10000\n",
       "  evals/sample:     1"
      ]
     },
     "execution_count": 10,
     "metadata": {},
     "output_type": "execute_result"
    }
   ],
   "source": [
    "@benchmark mysum(x)"
   ]
  },
  {
   "cell_type": "code",
   "execution_count": 11,
   "metadata": {},
   "outputs": [
    {
     "data": {
      "text/plain": [
       "BenchmarkTools.Trial: \n",
       "  memory estimate:  16 bytes\n",
       "  allocs estimate:  1\n",
       "  --------------\n",
       "  minimum time:     10.893 μs (0.00% GC)\n",
       "  median time:      11.197 μs (0.00% GC)\n",
       "  mean time:        11.635 μs (0.00% GC)\n",
       "  maximum time:     65.019 μs (0.00% GC)\n",
       "  --------------\n",
       "  samples:          10000\n",
       "  evals/sample:     1"
      ]
     },
     "execution_count": 11,
     "metadata": {},
     "output_type": "execute_result"
    }
   ],
   "source": [
    "@benchmark mysum_simd(x)"
   ]
  },
  {
   "cell_type": "code",
   "execution_count": 12,
   "metadata": {
    "collapsed": true
   },
   "outputs": [],
   "source": [
    "x = rand(Float16, 100000);"
   ]
  },
  {
   "cell_type": "code",
   "execution_count": 13,
   "metadata": {},
   "outputs": [
    {
     "data": {
      "text/plain": [
       "BenchmarkTools.Trial: \n",
       "  memory estimate:  16 bytes\n",
       "  allocs estimate:  1\n",
       "  --------------\n",
       "  minimum time:     981.829 μs (0.00% GC)\n",
       "  median time:      1.036 ms (0.00% GC)\n",
       "  mean time:        1.043 ms (0.00% GC)\n",
       "  maximum time:     1.844 ms (0.00% GC)\n",
       "  --------------\n",
       "  samples:          4778\n",
       "  evals/sample:     1"
      ]
     },
     "execution_count": 13,
     "metadata": {},
     "output_type": "execute_result"
    }
   ],
   "source": [
    "# TO CHECK\n",
    "# much slower than Float32, why?\n",
    "# Can we make Float16 faster than Float32\n",
    "@benchmark mysum_simd(x)"
   ]
  },
  {
   "cell_type": "markdown",
   "metadata": {},
   "source": [
    "### Example cost function simd"
   ]
  },
  {
   "cell_type": "code",
   "execution_count": 22,
   "metadata": {
    "collapsed": true
   },
   "outputs": [],
   "source": [
    "y =  rand(Float32 , 100000);\n",
    "y_hat =  rand(Float32 , 100000);"
   ]
  },
  {
   "cell_type": "code",
   "execution_count": 36,
   "metadata": {},
   "outputs": [
    {
     "data": {
      "text/plain": [
       "MSE (generic function with 1 method)"
      ]
     },
     "execution_count": 36,
     "metadata": {},
     "output_type": "execute_result"
    }
   ],
   "source": [
    "function MSE_simd{T}(y::Vector{T},y_pred::Vector{T})\n",
    "   cost = zero(eltype(y))\n",
    "   @simd for i in 1:length(y)\n",
    "       @inbounds cost += (y[i] - y_pred[i])^2\n",
    "   end\n",
    "   return sqrt(cost)\n",
    "end\n",
    "\n",
    "function MSE{T}(y::Vector{T},y_pred::Vector{T})\n",
    "   cost = zero(eltype(y))\n",
    "    \n",
    "    @inbounds for i in 1:length(y)\n",
    "        cost += (y[i] - y_pred[i])^2\n",
    "    end\n",
    "    return sqrt(cost)\n",
    "end"
   ]
  },
  {
   "cell_type": "code",
   "execution_count": 49,
   "metadata": {
    "scrolled": true
   },
   "outputs": [
    {
     "data": {
      "text/plain": [
       "BenchmarkTools.Trial: \n",
       "  memory estimate:  16 bytes\n",
       "  allocs estimate:  1\n",
       "  --------------\n",
       "  minimum time:     77.087 μs (0.00% GC)\n",
       "  median time:      81.340 μs (0.00% GC)\n",
       "  mean time:        82.346 μs (0.00% GC)\n",
       "  maximum time:     310.952 μs (0.00% GC)\n",
       "  --------------\n",
       "  samples:          10000\n",
       "  evals/sample:     1"
      ]
     },
     "execution_count": 49,
     "metadata": {},
     "output_type": "execute_result"
    }
   ],
   "source": [
    "@benchmark MSE(y,y_hat)"
   ]
  },
  {
   "cell_type": "code",
   "execution_count": 289,
   "metadata": {
    "scrolled": false
   },
   "outputs": [
    {
     "data": {
      "text/plain": [
       "BenchmarkTools.Trial: \n",
       "  memory estimate:  16 bytes\n",
       "  allocs estimate:  1\n",
       "  --------------\n",
       "  minimum time:     21.102 μs (0.00% GC)\n",
       "  median time:      22.396 μs (0.00% GC)\n",
       "  mean time:        22.892 μs (0.00% GC)\n",
       "  maximum time:     295.311 μs (0.00% GC)\n",
       "  --------------\n",
       "  samples:          10000\n",
       "  evals/sample:     1"
      ]
     },
     "execution_count": 289,
     "metadata": {},
     "output_type": "execute_result"
    }
   ],
   "source": [
    "@benchmark MSE_simd(y, y_hat)"
   ]
  },
  {
   "cell_type": "markdown",
   "metadata": {},
   "source": [
    "### cross entropy minibatch"
   ]
  },
  {
   "cell_type": "code",
   "execution_count": 15,
   "metadata": {
    "collapsed": true
   },
   "outputs": [],
   "source": [
    "T = Float32\n",
    "p_y_given_x = rand(T, 10, 256);\n",
    "onehot_y = zeros(T, 10, 256);"
   ]
  },
  {
   "cell_type": "code",
   "execution_count": 16,
   "metadata": {},
   "outputs": [
    {
     "data": {
      "text/plain": [
       "10×256 Array{Float32,2}:\n",
       " 0.0  0.0  0.0  0.0  0.0  0.0  0.0  0.0  …  0.0  0.0  0.0  0.0  0.0  0.0  0.0\n",
       " 0.0  0.0  0.0  0.0  0.0  0.0  0.0  0.0     0.0  0.0  0.0  0.0  0.0  0.0  0.0\n",
       " 0.0  0.0  0.0  0.0  0.0  0.0  0.0  0.0     0.0  0.0  0.0  0.0  0.0  0.0  0.0\n",
       " 0.0  0.0  0.0  0.0  0.0  0.0  0.0  0.0     0.0  0.0  0.0  0.0  0.0  0.0  0.0\n",
       " 0.0  0.0  0.0  0.0  0.0  0.0  0.0  0.0     0.0  0.0  0.0  0.0  0.0  0.0  0.0\n",
       " 0.0  0.0  0.0  0.0  0.0  0.0  0.0  0.0  …  0.0  0.0  0.0  0.0  0.0  0.0  0.0\n",
       " 0.0  0.0  0.0  0.0  0.0  0.0  0.0  0.0     0.0  0.0  0.0  0.0  0.0  0.0  0.0\n",
       " 0.0  0.0  0.0  0.0  0.0  0.0  0.0  0.0     0.0  0.0  0.0  0.0  0.0  0.0  0.0\n",
       " 0.0  0.0  0.0  0.0  0.0  0.0  0.0  0.0     0.0  0.0  0.0  0.0  0.0  0.0  0.0\n",
       " 0.0  0.0  0.0  0.0  0.0  0.0  0.0  0.0     0.0  0.0  0.0  0.0  0.0  0.0  0.0"
      ]
     },
     "execution_count": 16,
     "metadata": {},
     "output_type": "execute_result"
    }
   ],
   "source": [
    "onehot_y"
   ]
  },
  {
   "cell_type": "markdown",
   "metadata": {},
   "source": [
    "## Explicit SIMD vectorization"
   ]
  },
  {
   "cell_type": "code",
   "execution_count": 14,
   "metadata": {},
   "outputs": [
    {
     "name": "stdout",
     "output_type": "stream",
     "text": [
      "simdwitdth Float16: 16\n",
      "simdwitdth Float32: 8\n",
      "simdwitdth Float64: 4\n",
      "\n",
      "simdwitdth Int16: 16\n",
      "simdwitdth Int32: 8\n",
      "simdwitdth Int64: 4\n"
     ]
    }
   ],
   "source": [
    "using SIMD\n",
    "Base.@pure simdwidth(::Type{T}) where {T} = Int(256/8/sizeof(T))\n",
    "\n",
    "println(\"simdwitdth Float16: \", simdwidth(Float16))\n",
    "println(\"simdwitdth Float32: \", simdwidth(Float32))\n",
    "println(\"simdwitdth Float64: \", simdwidth(Float64))\n",
    "\n",
    "println(\"\\nsimdwitdth Int16: \", simdwidth(Int16))\n",
    "println(\"simdwitdth Int32: \", simdwidth(Int32))\n",
    "println(\"simdwitdth Int64: \", simdwidth(Int64))"
   ]
  },
  {
   "cell_type": "code",
   "execution_count": 19,
   "metadata": {},
   "outputs": [
    {
     "data": {
      "text/plain": [
       "8-element SIMD.Vec{8,Float32}:\n",
       "Float32⟨1.0, 2.0, 3.0, 4.0, 5.0, 6.0, 7.0, 8.0⟩"
      ]
     },
     "execution_count": 19,
     "metadata": {},
     "output_type": "execute_result"
    }
   ],
   "source": [
    "v = Vec{8,Float32}((1,2,3,4,5,6,7,8))"
   ]
  },
  {
   "cell_type": "code",
   "execution_count": 23,
   "metadata": {},
   "outputs": [
    {
     "data": {
      "text/plain": [
       "8-element SIMD.Vec{8,Float64}:\n",
       "Float64⟨1.0, 2.0, 3.0, 4.0, 5.0, 6.0, 7.0, 8.0⟩"
      ]
     },
     "execution_count": 23,
     "metadata": {},
     "output_type": "execute_result"
    }
   ],
   "source": [
    "# This will should return an error on this machine?\n",
    "v = Vec{8,Float64}((1,2,3,4,5,6,7,8))"
   ]
  },
  {
   "cell_type": "code",
   "execution_count": 35,
   "metadata": {},
   "outputs": [
    {
     "data": {
      "text/plain": [
       "8-element SIMD.Vec{8,Float32}:\n",
       "Float32⟨1.0, 2.0, 3.0, 4.0, 5.0, 6.0, 7.0, 8.0⟩"
      ]
     },
     "execution_count": 35,
     "metadata": {},
     "output_type": "execute_result"
    }
   ],
   "source": [
    "v = Vec{8,Float32}((1,2,3,4,5,6,7,8))"
   ]
  },
  {
   "cell_type": "code",
   "execution_count": 29,
   "metadata": {},
   "outputs": [
    {
     "data": {
      "text/plain": [
       "(1.0f0, 2.0f0, 3.0f0, 4.0f0, 5.0f0, 6.0f0, 7.0f0, 8.0f0)"
      ]
     },
     "execution_count": 29,
     "metadata": {},
     "output_type": "execute_result"
    }
   ],
   "source": [
    "v_tuple = NTuple{8,Float32}(v)"
   ]
  },
  {
   "cell_type": "code",
   "execution_count": 34,
   "metadata": {},
   "outputs": [
    {
     "name": "stdout",
     "output_type": "stream",
     "text": [
      "NTuple{8,Float32}\n",
      "SIMD.Vec{8,Float32}\n"
     ]
    }
   ],
   "source": [
    "println(typeof(v_tuple))\n",
    "println(typeof(v))"
   ]
  },
  {
   "cell_type": "markdown",
   "metadata": {},
   "source": [
    "#### Operations on SIMD.Vec types\n",
    "\n",
    "\n",
    "SIMD.Vec types can contain elements from the following collection:\n",
    "```\n",
    "Bool Int{8,16,32,64,128} UInt{8,16,32,64,128} Float{16,32,64}\n",
    "```\n",
    "\n",
    "The following vector operations can be used\n",
    "\n",
    "```\n",
    "+ - * / % ^ ! ~ & | $ << >> >>> == != < <= > >=\n",
    "```\n",
    "\n",
    "The following reduction operations can be used\n",
    "\n",
    "```\n",
    "all any maximum minimum sum prod\n",
    "```\n"
   ]
  },
  {
   "cell_type": "code",
   "execution_count": 46,
   "metadata": {},
   "outputs": [
    {
     "data": {
      "text/plain": [
       "8-element SIMD.Vec{8,Float32}:\n",
       "Float32⟨1.0, 2.0, 3.0, 4.0, 5.0, 6.0, 7.0, 8.0⟩"
      ]
     },
     "execution_count": 46,
     "metadata": {},
     "output_type": "execute_result"
    }
   ],
   "source": [
    "v = Vec{8,Float32}((1,2,3,4,5,6,7,8))"
   ]
  },
  {
   "cell_type": "code",
   "execution_count": 60,
   "metadata": {},
   "outputs": [
    {
     "name": "stdout",
     "output_type": "stream",
     "text": [
      "sum(v): 36.0\n",
      "maximum(v): 8.0\n",
      "minimum(v): 1.0\n",
      "prod(v): 40320.0\n"
     ]
    }
   ],
   "source": [
    "#println(\"all(v): \", all(v))\n",
    "println(\"sum(v): \", sum(v))\n",
    "println(\"maximum(v): \", maximum(v))\n",
    "println(\"minimum(v): \", minimum(v))\n",
    "println(\"prod(v): \", prod(v))"
   ]
  },
  {
   "cell_type": "markdown",
   "metadata": {},
   "source": [
    "#### Accessing arrays: reading and writting from julia Arrays\n",
    "When using explicit SIMD vectorization, it is convenient to allocate arrays still as arrays of scalars, not as arrays of vectors. The vload and vstore functions allow reading vectors from and writing vectors into arrays, accessing several contiguous array elements."
   ]
  },
  {
   "cell_type": "code",
   "execution_count": 74,
   "metadata": {},
   "outputs": [],
   "source": [
    "arr = Vector{Float64}(100:200);"
   ]
  },
  {
   "cell_type": "code",
   "execution_count": 76,
   "metadata": {},
   "outputs": [
    {
     "data": {
      "text/plain": [
       "4-element SIMD.Vec{4,Float64}:\n",
       "Float64⟨100.0, 101.0, 102.0, 103.0⟩"
      ]
     },
     "execution_count": 76,
     "metadata": {},
     "output_type": "execute_result"
    }
   ],
   "source": [
    "# The vload call reads a vector of size 4 from the array, i.e. it reads arr[i:i+3]\n",
    "xs = vload(Vec{4,Float64}, arr, 1)"
   ]
  },
  {
   "cell_type": "code",
   "execution_count": 79,
   "metadata": {
    "collapsed": true
   },
   "outputs": [],
   "source": [
    "xs = 2*xs\n",
    "#Similarly, the vstore call writes the vector xs to the four array elements arr[i:i+3].\n",
    "vstore(xs, arr, 1)"
   ]
  },
  {
   "cell_type": "code",
   "execution_count": 101,
   "metadata": {},
   "outputs": [
    {
     "data": {
      "text/plain": [
       "10-element Array{Float64,1}:\n",
       " 200.0\n",
       " 202.0\n",
       " 204.0\n",
       " 206.0\n",
       " 104.0\n",
       " 105.0\n",
       " 106.0\n",
       " 107.0\n",
       " 108.0\n",
       " 109.0"
      ]
     },
     "execution_count": 101,
     "metadata": {},
     "output_type": "execute_result"
    }
   ],
   "source": [
    "arr[1:10]"
   ]
  },
  {
   "cell_type": "markdown",
   "metadata": {},
   "source": [
    "#### Making some easy functions"
   ]
  },
  {
   "cell_type": "code",
   "execution_count": 99,
   "metadata": {},
   "outputs": [
    {
     "data": {
      "text/plain": [
       "veuclid! (generic function with 2 methods)"
      ]
     },
     "execution_count": 99,
     "metadata": {},
     "output_type": "execute_result"
    }
   ],
   "source": [
    "x1 = rand(Float32, 512)\n",
    "x2 = rand(Float32, 512)\n",
    "y = similar(x1)\n",
    "\n",
    "function add!(y, x1,x2)\n",
    "    @inbounds for i=1:length(x1)\n",
    "        y[i] = x1[i] + x2[i] \n",
    "    end\n",
    "end\n",
    "\n",
    "function simd_add!(y, x1,x2)\n",
    "    @simd for i=1:length(x1)\n",
    "        @inbounds y[i] = x1[i] + x2[i] \n",
    "    end\n",
    "end\n",
    "\n",
    "function simd_add_no_inbounds!(y, x1,x2)\n",
    "    @simd for i=1:length(x1)\n",
    "        y[i] = x1[i] + x2[i] \n",
    "    end\n",
    "end\n",
    "\n",
    "function vadd!{N,T}(y::Vector{T}, xs::Vector{T}, ys::Vector{T}, ::Type{Vec{N,T}}=Vec{8,T})\n",
    "    @inbounds for i in 1:N:length(xs)\n",
    "        xv = vload(Vec{N,T}, xs, i)\n",
    "        yv = vload(Vec{N,T}, ys, i)\n",
    "        xv += yv \n",
    "        vstore(xv, y, i)\n",
    "    end\n",
    "end\n",
    "\n",
    "function euclid!(y, x1,x2)\n",
    "    @inbounds for i=1:length(x1)\n",
    "        y[i] = sqrt(x1[1] * x1[1]) + (x2[i] * x2[i])\n",
    "    end\n",
    "end\n",
    "\n",
    "function veuclid!{N,T}(y::Vector{T}, xs::Vector{T}, ys::Vector{T}, ::Type{Vec{N,T}}=Vec{8,T})\n",
    "    @inbounds for i in 1:N:length(xs)\n",
    "        xv = vload(Vec{N,T}, xs, i)\n",
    "        yv = vload(Vec{N,T}, ys, i)\n",
    "        xv = sqrt(xv*xv + yv*yv)\n",
    "        vstore(xv, y, i)\n",
    "    end\n",
    "end"
   ]
  },
  {
   "cell_type": "code",
   "execution_count": 86,
   "metadata": {},
   "outputs": [
    {
     "data": {
      "text/plain": [
       "BenchmarkTools.Trial: \n",
       "  memory estimate:  0 bytes\n",
       "  allocs estimate:  0\n",
       "  --------------\n",
       "  minimum time:     316.636 ns (0.00% GC)\n",
       "  median time:      339.911 ns (0.00% GC)\n",
       "  mean time:        348.751 ns (0.00% GC)\n",
       "  maximum time:     13.335 μs (0.00% GC)\n",
       "  --------------\n",
       "  samples:          10000\n",
       "  evals/sample:     236"
      ]
     },
     "execution_count": 86,
     "metadata": {},
     "output_type": "execute_result"
    }
   ],
   "source": [
    "@benchmark euclid!(y,x1,x2)"
   ]
  },
  {
   "cell_type": "code",
   "execution_count": 87,
   "metadata": {},
   "outputs": [
    {
     "data": {
      "text/plain": [
       "BenchmarkTools.Trial: \n",
       "  memory estimate:  0 bytes\n",
       "  allocs estimate:  0\n",
       "  --------------\n",
       "  minimum time:     335.747 ns (0.00% GC)\n",
       "  median time:      361.215 ns (0.00% GC)\n",
       "  mean time:        393.591 ns (0.00% GC)\n",
       "  maximum time:     1.545 μs (0.00% GC)\n",
       "  --------------\n",
       "  samples:          10000\n",
       "  evals/sample:     221"
      ]
     },
     "execution_count": 87,
     "metadata": {},
     "output_type": "execute_result"
    }
   ],
   "source": [
    " @benchmark veuclid!(y,x1,x2)"
   ]
  },
  {
   "cell_type": "code",
   "execution_count": 88,
   "metadata": {},
   "outputs": [
    {
     "data": {
      "text/plain": [
       "BenchmarkTools.Trial: \n",
       "  memory estimate:  0 bytes\n",
       "  allocs estimate:  0\n",
       "  --------------\n",
       "  minimum time:     65.874 ns (0.00% GC)\n",
       "  median time:      68.821 ns (0.00% GC)\n",
       "  mean time:        83.308 ns (0.00% GC)\n",
       "  maximum time:     196.249 ns (0.00% GC)\n",
       "  --------------\n",
       "  samples:          10000\n",
       "  evals/sample:     976"
      ]
     },
     "execution_count": 88,
     "metadata": {},
     "output_type": "execute_result"
    }
   ],
   "source": [
    " @benchmark add!(y,x1,x2)"
   ]
  },
  {
   "cell_type": "code",
   "execution_count": 89,
   "metadata": {},
   "outputs": [
    {
     "data": {
      "text/plain": [
       "BenchmarkTools.Trial: \n",
       "  memory estimate:  0 bytes\n",
       "  allocs estimate:  0\n",
       "  --------------\n",
       "  minimum time:     146.237 ns (0.00% GC)\n",
       "  median time:      148.293 ns (0.00% GC)\n",
       "  mean time:        186.955 ns (0.00% GC)\n",
       "  maximum time:     447.124 ns (0.00% GC)\n",
       "  --------------\n",
       "  samples:          10000\n",
       "  evals/sample:     839"
      ]
     },
     "execution_count": 89,
     "metadata": {},
     "output_type": "execute_result"
    }
   ],
   "source": [
    "@benchmark vadd!(y,x1,x2)"
   ]
  },
  {
   "cell_type": "code",
   "execution_count": 95,
   "metadata": {},
   "outputs": [
    {
     "data": {
      "text/plain": [
       "BenchmarkTools.Trial: \n",
       "  memory estimate:  0 bytes\n",
       "  allocs estimate:  0\n",
       "  --------------\n",
       "  minimum time:     44.431 ns (0.00% GC)\n",
       "  median time:      44.868 ns (0.00% GC)\n",
       "  mean time:        53.032 ns (0.00% GC)\n",
       "  maximum time:     196.486 ns (0.00% GC)\n",
       "  --------------\n",
       "  samples:          10000\n",
       "  evals/sample:     990"
      ]
     },
     "execution_count": 95,
     "metadata": {},
     "output_type": "execute_result"
    }
   ],
   "source": [
    "@benchmark simd_add!(y,x1,x2)"
   ]
  },
  {
   "cell_type": "code",
   "execution_count": 102,
   "metadata": {},
   "outputs": [
    {
     "data": {
      "text/plain": [
       "BenchmarkTools.Trial: \n",
       "  memory estimate:  0 bytes\n",
       "  allocs estimate:  0\n",
       "  --------------\n",
       "  minimum time:     539.552 ns (0.00% GC)\n",
       "  median time:      545.930 ns (0.00% GC)\n",
       "  mean time:        611.648 ns (0.00% GC)\n",
       "  maximum time:     1.293 μs (0.00% GC)\n",
       "  --------------\n",
       "  samples:          10000\n",
       "  evals/sample:     194"
      ]
     },
     "execution_count": 102,
     "metadata": {},
     "output_type": "execute_result"
    }
   ],
   "source": [
    "@benchmark simd_add_no_inbounds!(y,x1,x2)"
   ]
  },
  {
   "cell_type": "code",
   "execution_count": null,
   "metadata": {
    "collapsed": true
   },
   "outputs": [],
   "source": []
  },
  {
   "cell_type": "code",
   "execution_count": null,
   "metadata": {
    "collapsed": true
   },
   "outputs": [],
   "source": []
  },
  {
   "cell_type": "code",
   "execution_count": null,
   "metadata": {
    "collapsed": true
   },
   "outputs": [],
   "source": []
  },
  {
   "cell_type": "markdown",
   "metadata": {},
   "source": [
    "### median pooling"
   ]
  },
  {
   "cell_type": "code",
   "execution_count": 46,
   "metadata": {
    "collapsed": true
   },
   "outputs": [],
   "source": [
    "#https://discourse.julialang.org/t/make-this-code-fast-median-pooling/6405"
   ]
  },
  {
   "cell_type": "code",
   "execution_count": 8,
   "metadata": {},
   "outputs": [
    {
     "data": {
      "text/plain": [
       "medmedpool55! (generic function with 1 method)"
      ]
     },
     "execution_count": 8,
     "metadata": {},
     "output_type": "execute_result"
    }
   ],
   "source": [
    "@inline function median5_swap(a,b,c,d,e)\n",
    "    # https://github.com/JeffreySarnoff/SortingNetworks.jl/blob/master/src/swapsort.jl\n",
    "    a,b = minmax(a,b)\n",
    "    c,d = minmax(c,d)\n",
    "    a,c = minmax(a,c)\n",
    "    b,d = minmax(b,d)\n",
    "    c,e = minmax(e,c)\n",
    "    max(c, min(e,b))\n",
    "end\n",
    "\n",
    "@inline median5(args...) = median5_swap(args...)\n",
    "\n",
    "function medmedpool55!(out::AbstractMatrix, img::AbstractMatrix)\n",
    "    @assert size(out, 1) >= size(img, 1) ÷ 5\n",
    "    @assert size(out, 2) >= size(img, 2) ÷ 5\n",
    "    @inbounds for j ∈ indices(out)[2]\n",
    "        @simd for i ∈ indices(out)[1]\n",
    "            x11 = img[5i-4, 5j-4]\n",
    "            x21 = img[5i-3, 5j-4]\n",
    "            x31 = img[5i-2, 5j-4]\n",
    "            x41 = img[5i-1, 5j-4]\n",
    "            x51 = img[5i-0, 5j-4]\n",
    "            \n",
    "            x12 = img[5i-4, 5j-3]\n",
    "            x22 = img[5i-3, 5j-3]\n",
    "            x32 = img[5i-2, 5j-3]\n",
    "            x42 = img[5i-1, 5j-3]\n",
    "            x52 = img[5i-0, 5j-3]\n",
    "            \n",
    "            x13 = img[5i-4, 5j-2]\n",
    "            x23 = img[5i-3, 5j-2]\n",
    "            x33 = img[5i-2, 5j-2]\n",
    "            x43 = img[5i-1, 5j-2]\n",
    "            x53 = img[5i-0, 5j-2]\n",
    "            \n",
    "            x14 = img[5i-4, 5j-1]\n",
    "            x24 = img[5i-3, 5j-1]\n",
    "            x34 = img[5i-2, 5j-1]\n",
    "            x44 = img[5i-1, 5j-1]\n",
    "            x54 = img[5i-0, 5j-1]\n",
    "            \n",
    "            x15 = img[5i-4, 5j-0]\n",
    "            x25 = img[5i-3, 5j-0]\n",
    "            x35 = img[5i-2, 5j-0]\n",
    "            x45 = img[5i-1, 5j-0]\n",
    "            x55 = img[5i-0, 5j-0]\n",
    "            \n",
    "            y1 = median5(x11,x12,x13,x14,x15)\n",
    "            y2 = median5(x21,x22,x23,x24,x25)\n",
    "            y3 = median5(x31,x32,x33,x34,x35)\n",
    "            y4 = median5(x41,x42,x43,x44,x45)\n",
    "            y5 = median5(x51,x52,x53,x54,x55)\n",
    "            \n",
    "            z = median5(y1,y2,y3,y4,y5)\n",
    "            out[i,j] = z\n",
    "        end\n",
    "    end\n",
    "    out\n",
    "end"
   ]
  },
  {
   "cell_type": "code",
   "execution_count": 5,
   "metadata": {},
   "outputs": [
    {
     "data": {
      "text/plain": [
       "BenchmarkTools.Trial: \n",
       "  memory estimate:  0 bytes\n",
       "  allocs estimate:  0\n",
       "  --------------\n",
       "  minimum time:     8.746 ms (0.00% GC)\n",
       "  median time:      10.786 ms (0.00% GC)\n",
       "  mean time:        11.430 ms (0.00% GC)\n",
       "  maximum time:     47.553 ms (0.00% GC)\n",
       "  --------------\n",
       "  samples:          437\n",
       "  evals/sample:     1"
      ]
     },
     "execution_count": 5,
     "metadata": {},
     "output_type": "execute_result"
    }
   ],
   "source": [
    "using BenchmarkTools\n",
    "imgs = randn(Float32, 1024,1024, 10)\n",
    "img = view(imgs, :,:,1)\n",
    "out = similar(img, size(img) .÷ 5)\n",
    "@benchmark medmedpool55!(out, img)"
   ]
  },
  {
   "cell_type": "code",
   "execution_count": 13,
   "metadata": {},
   "outputs": [
    {
     "data": {
      "text/plain": [
       "((1024, 1024, 10), (6,))"
      ]
     },
     "execution_count": 13,
     "metadata": {},
     "output_type": "execute_result"
    }
   ],
   "source": [
    "size(imgs),size([rand(T,N) for _ in 1:6])"
   ]
  },
  {
   "cell_type": "code",
   "execution_count": null,
   "metadata": {
    "collapsed": true,
    "scrolled": true
   },
   "outputs": [],
   "source": [
    "Base.@pure simdwidth(::Type{T}) where {T} = Int(256/8/sizeof(T))\n",
    "\n",
    "@inline function median3(a,b,c)\n",
    "    max(min(a,b), min(c,max(a,b)))\n",
    "end\n",
    "\n",
    "@inline function median5(a,b,c,d,e)\n",
    "    # https://stackoverflow.com/questions/480960/code-to-calculate-median-of-five-in-c-sharp\n",
    "    f=max(min(a,b),min(c,d))\n",
    "    g=min(max(a,b),max(c,d))\n",
    "    median3(e,f,g)\n",
    "end\n",
    "\n",
    "@noinline function median5_vectors!(out, a,b,c,d,e)\n",
    "    K = simdwidth(eltype(out))\n",
    "    N = length(out)\n",
    "    T = eltype(out)\n",
    "    V = Vec{K,T}\n",
    "    @assert mod(N,K) == 0\n",
    "\n",
    "    @inbounds for i in 1:K:N\n",
    "        va = vload(V,a, i)\n",
    "        vb = vload(V,b, i)\n",
    "        vc = vload(V,c, i)\n",
    "        vd = vload(V,d, i)\n",
    "        ve = vload(V,e, i)\n",
    "        vo = median5(va,vb,vc,vd,ve)\n",
    "        vstore(vo,out, i)\n",
    "    end\n",
    "    out\n",
    "end\n",
    "\n",
    "using BenchmarkTools\n",
    "T = UInt8\n",
    "T = Float32\n",
    "N = 10^6\n",
    "N = N ÷ simdwidth(T) * simdwidth(T)\n",
    "out, a,b,c,d,e = [rand(T,N) for _ in 1:6]\n",
    "@benchmark median5_vectors!(out, a,b,c,d,e)\n"
   ]
  },
  {
   "cell_type": "code",
   "execution_count": 47,
   "metadata": {},
   "outputs": [
    {
     "data": {
      "text/plain": [
       "16"
      ]
     },
     "execution_count": 47,
     "metadata": {},
     "output_type": "execute_result"
    }
   ],
   "source": [
    "simdwidth(Float16)"
   ]
  },
  {
   "cell_type": "markdown",
   "metadata": {},
   "source": [
    "### Test views"
   ]
  },
  {
   "cell_type": "code",
   "execution_count": 304,
   "metadata": {},
   "outputs": [
    {
     "data": {
      "text/plain": [
       "10×5 Array{Float64,2}:\n",
       "  2.0   2.0   2.0   2.0   2.0\n",
       "  3.0   3.0   3.0   3.0   3.0\n",
       "  4.0   4.0   4.0   4.0   4.0\n",
       "  5.0   5.0   5.0   5.0   5.0\n",
       "  6.0   6.0   6.0   6.0   6.0\n",
       "  7.0   7.0   7.0   7.0   7.0\n",
       "  8.0   8.0   8.0   8.0   8.0\n",
       "  9.0   9.0   9.0   9.0   9.0\n",
       " 10.0  10.0  10.0  10.0  10.0\n",
       " 11.0  11.0  11.0  11.0  11.0"
      ]
     },
     "execution_count": 304,
     "metadata": {},
     "output_type": "execute_result"
    }
   ],
   "source": [
    "X = ones(10,5)\n",
    "x = Array(1:10);\n",
    "X2 = x.+X"
   ]
  },
  {
   "cell_type": "code",
   "execution_count": 305,
   "metadata": {},
   "outputs": [
    {
     "data": {
      "text/plain": [
       "10×5 Array{Float64,2}:\n",
       "  4.0   4.0   4.0   4.0   4.0\n",
       "  6.0   6.0   6.0   6.0   6.0\n",
       "  8.0   8.0   8.0   8.0   8.0\n",
       " 10.0  10.0  10.0  10.0  10.0\n",
       " 12.0  12.0  12.0  12.0  12.0\n",
       " 14.0  14.0  14.0  14.0  14.0\n",
       " 16.0  16.0  16.0  16.0  16.0\n",
       " 18.0  18.0  18.0  18.0  18.0\n",
       " 20.0  20.0  20.0  20.0  20.0\n",
       " 22.0  22.0  22.0  22.0  22.0"
      ]
     },
     "execution_count": 305,
     "metadata": {},
     "output_type": "execute_result"
    }
   ],
   "source": [
    "v = view(X2,1,:)\n",
    "for i in 1:size(X2,1)\n",
    "    v = view(X2,i,:)\n",
    "    X2[i,:] += v\n",
    "end\n",
    "X2"
   ]
  },
  {
   "cell_type": "code",
   "execution_count": 302,
   "metadata": {},
   "outputs": [
    {
     "data": {
      "text/plain": [
       "10×5 Array{Float64,2}:\n",
       "  2.0   2.0   2.0   2.0   2.0\n",
       "  3.0   3.0   3.0   3.0   3.0\n",
       "  4.0   4.0   4.0   4.0   4.0\n",
       "  5.0   5.0   5.0   5.0   5.0\n",
       "  6.0   6.0   6.0   6.0   6.0\n",
       "  7.0   7.0   7.0   7.0   7.0\n",
       "  8.0   8.0   8.0   8.0   8.0\n",
       "  9.0   9.0   9.0   9.0   9.0\n",
       " 10.0  10.0  10.0  10.0  10.0\n",
       " 11.0  11.0  11.0  11.0  11.0"
      ]
     },
     "execution_count": 302,
     "metadata": {},
     "output_type": "execute_result"
    }
   ],
   "source": [
    "X = ones(10,5)\n",
    "x = Array(1:10);\n",
    "X2 = x.+X"
   ]
  },
  {
   "cell_type": "code",
   "execution_count": 303,
   "metadata": {},
   "outputs": [
    {
     "data": {
      "text/plain": [
       "10×5 Array{Float64,2}:\n",
       " 11.0  11.0  11.0  11.0  11.0\n",
       "  6.0   6.0   6.0   6.0   6.0\n",
       "  8.0   8.0   8.0   8.0   8.0\n",
       " 10.0  10.0  10.0  10.0  10.0\n",
       " 12.0  12.0  12.0  12.0  12.0\n",
       " 14.0  14.0  14.0  14.0  14.0\n",
       " 16.0  16.0  16.0  16.0  16.0\n",
       " 18.0  18.0  18.0  18.0  18.0\n",
       " 20.0  20.0  20.0  20.0  20.0\n",
       " 22.0  22.0  22.0  22.0  22.0"
      ]
     },
     "execution_count": 303,
     "metadata": {},
     "output_type": "execute_result"
    }
   ],
   "source": [
    "v = view(X2,1,:)\n",
    "for i in 1:size(X2,1)\n",
    "    v .= view(X2,i,:)\n",
    "    X2[i,:] += v\n",
    "end\n",
    "\n",
    "X2"
   ]
  },
  {
   "cell_type": "code",
   "execution_count": 325,
   "metadata": {},
   "outputs": [
    {
     "data": {
      "text/plain": [
       "10×5 Array{Float64,2}:\n",
       "  4.0   4.0   4.0   4.0   4.0\n",
       "  6.0   6.0   6.0   6.0   6.0\n",
       "  8.0   8.0   8.0   8.0   8.0\n",
       " 10.0  10.0  10.0  10.0  10.0\n",
       " 12.0  12.0  12.0  12.0  12.0\n",
       " 14.0  14.0  14.0  14.0  14.0\n",
       " 16.0  16.0  16.0  16.0  16.0\n",
       " 18.0  18.0  18.0  18.0  18.0\n",
       " 20.0  20.0  20.0  20.0  20.0\n",
       " 22.0  22.0  22.0  22.0  22.0"
      ]
     },
     "execution_count": 325,
     "metadata": {},
     "output_type": "execute_result"
    }
   ],
   "source": [
    "X = ones(10,5)\n",
    "x = Array(1:10);\n",
    "X2 = x.+X\n",
    "\n",
    "v = deepcopy(view(X2,1,:))\n",
    "for i in 1:size(X2,1)\n",
    "    v .= view(X2,i,:)\n",
    "    X2[i,:] += v\n",
    "end\n",
    "X2"
   ]
  },
  {
   "cell_type": "code",
   "execution_count": 324,
   "metadata": {},
   "outputs": [
    {
     "data": {
      "text/plain": [
       "10×5 Array{Float64,2}:\n",
       "  4.0   4.0   4.0   4.0   4.0\n",
       "  6.0   6.0   6.0   6.0   6.0\n",
       "  8.0   8.0   8.0   8.0   8.0\n",
       " 10.0  10.0  10.0  10.0  10.0\n",
       " 12.0  12.0  12.0  12.0  12.0\n",
       " 14.0  14.0  14.0  14.0  14.0\n",
       " 16.0  16.0  16.0  16.0  16.0\n",
       " 18.0  18.0  18.0  18.0  18.0\n",
       " 20.0  20.0  20.0  20.0  20.0\n",
       " 22.0  22.0  22.0  22.0  22.0"
      ]
     },
     "execution_count": 324,
     "metadata": {},
     "output_type": "execute_result"
    }
   ],
   "source": [
    "X = ones(10,5)\n",
    "x = Array(1:10);\n",
    "X2 = x.+X\n",
    "\n",
    "v = zeros(X2[1,:])\n",
    "for i in 1:size(X2,1)\n",
    "    v .= view(X2,i,:)\n",
    "    X2[i,:] += v\n",
    "end\n",
    "X2"
   ]
  },
  {
   "cell_type": "code",
   "execution_count": 315,
   "metadata": {},
   "outputs": [
    {
     "name": "stdout",
     "output_type": "stream",
     "text": [
      "  0.000056 seconds (37 allocations: 1.813 KiB)\n"
     ]
    },
    {
     "data": {
      "text/plain": [
       "5-element SubArray{Float64,1,Array{Float64,2},Tuple{Int64,Base.Slice{Base.OneTo{Int64}}},true}:\n",
       " 4.0\n",
       " 4.0\n",
       " 4.0\n",
       " 4.0\n",
       " 4.0"
      ]
     },
     "execution_count": 315,
     "metadata": {},
     "output_type": "execute_result"
    }
   ],
   "source": [
    "@time v = deepcopy(view(X2,1,:))"
   ]
  },
  {
   "cell_type": "code",
   "execution_count": null,
   "metadata": {
    "collapsed": true
   },
   "outputs": [],
   "source": [
    "@time v = deepcopy(view(X2,1,:))"
   ]
  },
  {
   "cell_type": "code",
   "execution_count": 313,
   "metadata": {},
   "outputs": [
    {
     "name": "stdout",
     "output_type": "stream",
     "text": [
      "  0.000043 seconds (21 allocations: 512 bytes)\n"
     ]
    },
    {
     "data": {
      "text/plain": [
       "5-element SubArray{Float64,1,Array{Float64,2},Tuple{Int64,Base.Slice{Base.OneTo{Int64}}},true}:\n",
       " 4.0\n",
       " 4.0\n",
       " 4.0\n",
       " 4.0\n",
       " 4.0"
      ]
     },
     "execution_count": 313,
     "metadata": {},
     "output_type": "execute_result"
    }
   ],
   "source": [
    "@time auxiliar = view(X2,1,:)"
   ]
  },
  {
   "cell_type": "code",
   "execution_count": null,
   "metadata": {
    "collapsed": true
   },
   "outputs": [],
   "source": []
  },
  {
   "cell_type": "code",
   "execution_count": null,
   "metadata": {
    "collapsed": true
   },
   "outputs": [],
   "source": []
  }
 ],
 "metadata": {
  "kernelspec": {
   "display_name": "Julia 0.6.0",
   "language": "julia",
   "name": "julia-0.6"
  },
  "language_info": {
   "file_extension": ".jl",
   "mimetype": "application/julia",
   "name": "julia",
   "version": "0.6.0"
  }
 },
 "nbformat": 4,
 "nbformat_minor": 2
}
