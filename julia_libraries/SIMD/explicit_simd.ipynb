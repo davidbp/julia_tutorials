{
 "cells": [
  {
   "cell_type": "markdown",
   "metadata": {},
   "source": [
    "\n",
    "# Simd examples\n"
   ]
  },
  {
   "cell_type": "markdown",
   "metadata": {},
   "source": [
    "## Explicit SIMD vectorization"
   ]
  },
  {
   "cell_type": "code",
   "execution_count": 2,
   "metadata": {
    "ExecuteTime": {
     "end_time": "2022-08-30T17:33:05.185000+02:00",
     "start_time": "2022-08-30T15:33:04.474Z"
    }
   },
   "outputs": [
    {
     "name": "stdout",
     "output_type": "stream",
     "text": [
      "simdwitdth Float16: 16\n",
      "simdwitdth Float32: 8\n",
      "simdwitdth Float64: 4\n",
      "\n",
      "simdwitdth Int16: 16\n",
      "simdwitdth Int32: 8\n",
      "simdwitdth Int64: 4\n"
     ]
    }
   ],
   "source": [
    "using SIMD\n",
    "Base.@pure simdwidth(::Type{T}) where {T} = Int(256/8/sizeof(T))\n",
    "\n",
    "println(\"simdwitdth Float16: \", simdwidth(Float16))\n",
    "println(\"simdwitdth Float32: \", simdwidth(Float32))\n",
    "println(\"simdwitdth Float64: \", simdwidth(Float64))\n",
    "\n",
    "println(\"\\nsimdwitdth Int16: \", simdwidth(Int16))\n",
    "println(\"simdwitdth Int32: \", simdwidth(Int32))\n",
    "println(\"simdwitdth Int64: \", simdwidth(Int64))"
   ]
  },
  {
   "cell_type": "code",
   "execution_count": 3,
   "metadata": {
    "ExecuteTime": {
     "end_time": "2022-08-30T17:34:07.926000+02:00",
     "start_time": "2022-08-30T15:34:07.204Z"
    }
   },
   "outputs": [
    {
     "data": {
      "text/plain": [
       "<8 x Float32>[1.0, 2.0, 3.0, 4.0, 5.0, 6.0, 7.0, 8.0]"
      ]
     },
     "execution_count": 3,
     "metadata": {},
     "output_type": "execute_result"
    }
   ],
   "source": [
    "v = Vec{8,Float32}((1,2,3,4,5,6,7,8))"
   ]
  },
  {
   "cell_type": "code",
   "execution_count": 4,
   "metadata": {
    "ExecuteTime": {
     "end_time": "2022-08-30T17:34:08.792000+02:00",
     "start_time": "2022-08-30T15:34:08.387Z"
    }
   },
   "outputs": [
    {
     "data": {
      "text/plain": [
       "<8 x Float64>[1.0, 2.0, 3.0, 4.0, 5.0, 6.0, 7.0, 8.0]"
      ]
     },
     "execution_count": 4,
     "metadata": {},
     "output_type": "execute_result"
    }
   ],
   "source": [
    "# This will should return an error on this machine?\n",
    "v = Vec{8,Float64}((1,2,3,4,5,6,7,8))"
   ]
  },
  {
   "cell_type": "code",
   "execution_count": 5,
   "metadata": {
    "ExecuteTime": {
     "end_time": "2022-08-30T17:34:09.230000+02:00",
     "start_time": "2022-08-30T15:34:09.227Z"
    }
   },
   "outputs": [
    {
     "data": {
      "text/plain": [
       "<8 x Float32>[1.0, 2.0, 3.0, 4.0, 5.0, 6.0, 7.0, 8.0]"
      ]
     },
     "execution_count": 5,
     "metadata": {},
     "output_type": "execute_result"
    }
   ],
   "source": [
    "v = Vec{8,Float32}((1,2,3,4,5,6,7,8))"
   ]
  },
  {
   "cell_type": "code",
   "execution_count": 6,
   "metadata": {
    "ExecuteTime": {
     "end_time": "2022-08-30T17:34:10.069000+02:00",
     "start_time": "2022-08-30T15:34:09.637Z"
    }
   },
   "outputs": [
    {
     "data": {
      "text/plain": [
       "(1.0f0, 2.0f0, 3.0f0, 4.0f0, 5.0f0, 6.0f0, 7.0f0, 8.0f0)"
      ]
     },
     "execution_count": 6,
     "metadata": {},
     "output_type": "execute_result"
    }
   ],
   "source": [
    "v_tuple = NTuple{8,Float32}(v)"
   ]
  },
  {
   "cell_type": "code",
   "execution_count": 7,
   "metadata": {
    "ExecuteTime": {
     "end_time": "2022-08-30T17:34:11.124000+02:00",
     "start_time": "2022-08-30T15:34:10.006Z"
    }
   },
   "outputs": [
    {
     "name": "stdout",
     "output_type": "stream",
     "text": [
      "NTuple{8, Float32}\n",
      "Vec{8, Float32}\n"
     ]
    }
   ],
   "source": [
    "println(typeof(v_tuple))\n",
    "println(typeof(v))"
   ]
  },
  {
   "cell_type": "markdown",
   "metadata": {},
   "source": [
    "#### Operations on SIMD.Vec types\n",
    "\n",
    "\n",
    "SIMD.Vec types can contain elements from the following collection:\n",
    "```\n",
    "Bool Int{8,16,32,64,128} UInt{8,16,32,64,128} Float{16,32,64}\n",
    "```\n",
    "\n",
    "The following vector operations can be used\n",
    "\n",
    "```\n",
    "+ - * / % ^ ! ~ & | $ << >> >>> == != < <= > >=\n",
    "```\n"
   ]
  },
  {
   "cell_type": "code",
   "execution_count": 8,
   "metadata": {
    "ExecuteTime": {
     "end_time": "2022-08-30T17:34:11.294000+02:00",
     "start_time": "2022-08-30T15:34:11.284Z"
    }
   },
   "outputs": [],
   "source": [
    "using BenchmarkTools"
   ]
  },
  {
   "cell_type": "code",
   "execution_count": 9,
   "metadata": {
    "ExecuteTime": {
     "end_time": "2022-08-30T17:34:12.287000+02:00",
     "start_time": "2022-08-30T15:34:12.282Z"
    }
   },
   "outputs": [
    {
     "data": {
      "text/plain": [
       "<8 x Float32>[1.0, 2.0, 3.0, 4.0, 5.0, 6.0, 7.0, 8.0]"
      ]
     },
     "execution_count": 9,
     "metadata": {},
     "output_type": "execute_result"
    }
   ],
   "source": [
    "v1 = Vec{8,Float32}((1,2,3,4,5,6,7,8))\n",
    "v2 = Vec{8,Float32}((1,2,3,4,5,6,7,8))"
   ]
  },
  {
   "cell_type": "code",
   "execution_count": 10,
   "metadata": {
    "ExecuteTime": {
     "end_time": "2022-08-30T17:34:12.761000+02:00",
     "start_time": "2022-08-30T15:34:12.713Z"
    }
   },
   "outputs": [],
   "source": [
    "x1 = Array{Float32}([1,2,3,4,5,6,7,8])\n",
    "x2 = Array{Float32}([1,2,3,4,5,6,7,8]);"
   ]
  },
  {
   "cell_type": "code",
   "execution_count": 11,
   "metadata": {
    "ExecuteTime": {
     "end_time": "2022-08-30T17:34:18.499000+02:00",
     "start_time": "2022-08-30T15:34:13.468Z"
    }
   },
   "outputs": [
    {
     "data": {
      "text/plain": [
       "BenchmarkTools.Trial: 10000 samples with 997 evaluations.\n",
       " Range \u001b[90m(\u001b[39m\u001b[36m\u001b[1mmin\u001b[22m\u001b[39m … \u001b[35mmax\u001b[39m\u001b[90m):  \u001b[39m\u001b[36m\u001b[1m20.266 ns\u001b[22m\u001b[39m … \u001b[35m 2.256 μs\u001b[39m  \u001b[90m┊\u001b[39m GC \u001b[90m(\u001b[39mmin … max\u001b[90m): \u001b[39m0.00% … 96.98%\n",
       " Time  \u001b[90m(\u001b[39m\u001b[34m\u001b[1mmedian\u001b[22m\u001b[39m\u001b[90m):     \u001b[39m\u001b[34m\u001b[1m21.652 ns              \u001b[22m\u001b[39m\u001b[90m┊\u001b[39m GC \u001b[90m(\u001b[39mmedian\u001b[90m):    \u001b[39m0.00%\n",
       " Time  \u001b[90m(\u001b[39m\u001b[32m\u001b[1mmean\u001b[22m\u001b[39m ± \u001b[32mσ\u001b[39m\u001b[90m):   \u001b[39m\u001b[32m\u001b[1m24.759 ns\u001b[22m\u001b[39m ± \u001b[32m57.761 ns\u001b[39m  \u001b[90m┊\u001b[39m GC \u001b[90m(\u001b[39mmean ± σ\u001b[90m):  \u001b[39m6.79% ±  2.90%\n",
       "\n",
       "  \u001b[39m \u001b[39m▆\u001b[39m█\u001b[34m▅\u001b[39m\u001b[39m▂\u001b[39m▁\u001b[39m▃\u001b[39m▃\u001b[32m▂\u001b[39m\u001b[39m \u001b[39m \u001b[39m \u001b[39m \u001b[39m \u001b[39m \u001b[39m \u001b[39m \u001b[39m \u001b[39m \u001b[39m \u001b[39m \u001b[39m \u001b[39m \u001b[39m \u001b[39m \u001b[39m \u001b[39m \u001b[39m \u001b[39m \u001b[39m \u001b[39m \u001b[39m \u001b[39m \u001b[39m \u001b[39m \u001b[39m \u001b[39m \u001b[39m \u001b[39m \u001b[39m \u001b[39m \u001b[39m \u001b[39m \u001b[39m \u001b[39m \u001b[39m \u001b[39m \u001b[39m \u001b[39m \u001b[39m \u001b[39m \u001b[39m \u001b[39m \u001b[39m \u001b[39m \u001b[39m \u001b[39m \u001b[39m \u001b[39m \u001b[39m \u001b[39m▁\n",
       "  \u001b[39m▆\u001b[39m█\u001b[39m█\u001b[34m█\u001b[39m\u001b[39m█\u001b[39m█\u001b[39m█\u001b[39m█\u001b[32m█\u001b[39m\u001b[39m█\u001b[39m▇\u001b[39m▇\u001b[39m▇\u001b[39m▇\u001b[39m▇\u001b[39m▆\u001b[39m▆\u001b[39m▆\u001b[39m▅\u001b[39m▅\u001b[39m▅\u001b[39m▆\u001b[39m▅\u001b[39m▅\u001b[39m▅\u001b[39m▄\u001b[39m▄\u001b[39m▅\u001b[39m▅\u001b[39m▅\u001b[39m▅\u001b[39m▅\u001b[39m▅\u001b[39m▄\u001b[39m▅\u001b[39m▅\u001b[39m▃\u001b[39m▆\u001b[39m▆\u001b[39m▅\u001b[39m▃\u001b[39m▃\u001b[39m▅\u001b[39m▄\u001b[39m▄\u001b[39m▃\u001b[39m▃\u001b[39m▃\u001b[39m▄\u001b[39m▅\u001b[39m▆\u001b[39m▃\u001b[39m▅\u001b[39m▅\u001b[39m▅\u001b[39m▄\u001b[39m▅\u001b[39m▅\u001b[39m▇\u001b[39m \u001b[39m█\n",
       "  20.3 ns\u001b[90m      \u001b[39m\u001b[90mHistogram: \u001b[39m\u001b[90m\u001b[1mlog(\u001b[22m\u001b[39m\u001b[90mfrequency\u001b[39m\u001b[90m\u001b[1m)\u001b[22m\u001b[39m\u001b[90m by time\u001b[39m      52.9 ns \u001b[0m\u001b[1m<\u001b[22m\n",
       "\n",
       " Memory estimate\u001b[90m: \u001b[39m\u001b[33m48 bytes\u001b[39m, allocs estimate\u001b[90m: \u001b[39m\u001b[33m1\u001b[39m."
      ]
     },
     "execution_count": 11,
     "metadata": {},
     "output_type": "execute_result"
    }
   ],
   "source": [
    "@benchmark aux = v1 + v2"
   ]
  },
  {
   "cell_type": "code",
   "execution_count": 12,
   "metadata": {
    "ExecuteTime": {
     "end_time": "2022-08-30T17:34:20.186000+02:00",
     "start_time": "2022-08-30T15:34:17.719Z"
    }
   },
   "outputs": [
    {
     "data": {
      "text/plain": [
       "BenchmarkTools.Trial: 10000 samples with 986 evaluations.\n",
       " Range \u001b[90m(\u001b[39m\u001b[36m\u001b[1mmin\u001b[22m\u001b[39m … \u001b[35mmax\u001b[39m\u001b[90m):  \u001b[39m\u001b[36m\u001b[1m51.885 ns\u001b[22m\u001b[39m … \u001b[35m 1.382 μs\u001b[39m  \u001b[90m┊\u001b[39m GC \u001b[90m(\u001b[39mmin … max\u001b[90m): \u001b[39m0.00% … 90.60%\n",
       " Time  \u001b[90m(\u001b[39m\u001b[34m\u001b[1mmedian\u001b[22m\u001b[39m\u001b[90m):     \u001b[39m\u001b[34m\u001b[1m54.210 ns              \u001b[22m\u001b[39m\u001b[90m┊\u001b[39m GC \u001b[90m(\u001b[39mmedian\u001b[90m):    \u001b[39m0.00%\n",
       " Time  \u001b[90m(\u001b[39m\u001b[32m\u001b[1mmean\u001b[22m\u001b[39m ± \u001b[32mσ\u001b[39m\u001b[90m):   \u001b[39m\u001b[32m\u001b[1m61.950 ns\u001b[22m\u001b[39m ± \u001b[32m50.392 ns\u001b[39m  \u001b[90m┊\u001b[39m GC \u001b[90m(\u001b[39mmean ± σ\u001b[90m):  \u001b[39m3.31% ±  4.06%\n",
       "\n",
       "  \u001b[39m▄\u001b[39m█\u001b[34m▆\u001b[39m\u001b[39m▃\u001b[39m▃\u001b[39m▁\u001b[39m▃\u001b[39m▂\u001b[32m \u001b[39m\u001b[39m \u001b[39m \u001b[39m \u001b[39m \u001b[39m \u001b[39m \u001b[39m \u001b[39m \u001b[39m \u001b[39m \u001b[39m \u001b[39m \u001b[39m \u001b[39m▁\u001b[39m▁\u001b[39m \u001b[39m▁\u001b[39m▂\u001b[39m▁\u001b[39m \u001b[39m \u001b[39m \u001b[39m \u001b[39m \u001b[39m \u001b[39m \u001b[39m \u001b[39m \u001b[39m \u001b[39m \u001b[39m \u001b[39m \u001b[39m \u001b[39m \u001b[39m \u001b[39m \u001b[39m \u001b[39m \u001b[39m \u001b[39m \u001b[39m \u001b[39m \u001b[39m \u001b[39m \u001b[39m \u001b[39m \u001b[39m \u001b[39m \u001b[39m \u001b[39m \u001b[39m \u001b[39m▁\n",
       "  \u001b[39m█\u001b[39m█\u001b[34m█\u001b[39m\u001b[39m█\u001b[39m█\u001b[39m█\u001b[39m█\u001b[39m█\u001b[32m▇\u001b[39m\u001b[39m▆\u001b[39m▇\u001b[39m▅\u001b[39m▆\u001b[39m▆\u001b[39m▆\u001b[39m▅\u001b[39m▆\u001b[39m█\u001b[39m▅\u001b[39m▆\u001b[39m▆\u001b[39m▇\u001b[39m█\u001b[39m█\u001b[39m█\u001b[39m█\u001b[39m█\u001b[39m█\u001b[39m█\u001b[39m█\u001b[39m▇\u001b[39m▆\u001b[39m▆\u001b[39m▆\u001b[39m▄\u001b[39m▅\u001b[39m▄\u001b[39m▅\u001b[39m▅\u001b[39m▄\u001b[39m▅\u001b[39m▃\u001b[39m▄\u001b[39m▃\u001b[39m▃\u001b[39m▅\u001b[39m▆\u001b[39m▇\u001b[39m▇\u001b[39m▇\u001b[39m▇\u001b[39m▇\u001b[39m▆\u001b[39m▅\u001b[39m▅\u001b[39m▄\u001b[39m▃\u001b[39m▃\u001b[39m▄\u001b[39m \u001b[39m█\n",
       "  51.9 ns\u001b[90m      \u001b[39m\u001b[90mHistogram: \u001b[39m\u001b[90m\u001b[1mlog(\u001b[22m\u001b[39m\u001b[90mfrequency\u001b[39m\u001b[90m\u001b[1m)\u001b[22m\u001b[39m\u001b[90m by time\u001b[39m       126 ns \u001b[0m\u001b[1m<\u001b[22m\n",
       "\n",
       " Memory estimate\u001b[90m: \u001b[39m\u001b[33m96 bytes\u001b[39m, allocs estimate\u001b[90m: \u001b[39m\u001b[33m1\u001b[39m."
      ]
     },
     "execution_count": 12,
     "metadata": {},
     "output_type": "execute_result"
    }
   ],
   "source": [
    "@benchmark aux = x1 + x2"
   ]
  },
  {
   "cell_type": "code",
   "execution_count": 13,
   "metadata": {
    "ExecuteTime": {
     "end_time": "2022-08-30T17:34:31.758000+02:00",
     "start_time": "2022-08-30T15:34:31.515Z"
    }
   },
   "outputs": [
    {
     "data": {
      "text/plain": [
       "make_n_sums (generic function with 1 method)"
      ]
     },
     "execution_count": 13,
     "metadata": {},
     "output_type": "execute_result"
    }
   ],
   "source": [
    "\n",
    "function make_n_sums_simd(v1,v2,n)\n",
    "    n_v1 = length(v1)\n",
    "    aux = Vec{n_v1,eltype(v1)}(tuple(zeros(n_v1)...))\n",
    "    for i in 1:n\n",
    "        aux += v1 + v2\n",
    "    end\n",
    "    return aux\n",
    "end\n",
    "\n",
    "function make_n_sums(v1,v2,n)\n",
    "    aux = zeros(eltype(v1),length(v1))\n",
    "    \n",
    "    for i in 1:n\n",
    "        aux += v1 + v2\n",
    "    end\n",
    "    return aux\n",
    "end"
   ]
  },
  {
   "cell_type": "code",
   "execution_count": 14,
   "metadata": {
    "ExecuteTime": {
     "end_time": "2022-08-30T17:34:33.747000+02:00",
     "start_time": "2022-08-30T15:34:32.563Z"
    }
   },
   "outputs": [
    {
     "data": {
      "text/plain": [
       "8-element Vector{Float32}:\n",
       "  200.0\n",
       "  400.0\n",
       "  600.0\n",
       "  800.0\n",
       " 1000.0\n",
       " 1200.0\n",
       " 1400.0\n",
       " 1600.0"
      ]
     },
     "execution_count": 14,
     "metadata": {},
     "output_type": "execute_result"
    }
   ],
   "source": [
    " make_n_sums(x1,x2,100)"
   ]
  },
  {
   "cell_type": "code",
   "execution_count": 15,
   "metadata": {
    "ExecuteTime": {
     "end_time": "2022-08-30T17:34:35.607000+02:00",
     "start_time": "2022-08-30T15:34:35.575Z"
    }
   },
   "outputs": [
    {
     "data": {
      "text/plain": [
       "<8 x Float32>[200.0, 400.0, 600.0, 800.0, 1000.0, 1200.0, 1400.0, 1600.0]"
      ]
     },
     "execution_count": 15,
     "metadata": {},
     "output_type": "execute_result"
    }
   ],
   "source": [
    "make_n_sums_simd(v1,v2,100)"
   ]
  },
  {
   "cell_type": "code",
   "execution_count": 18,
   "metadata": {
    "ExecuteTime": {
     "end_time": "2022-08-30T17:34:51.094000+02:00",
     "start_time": "2022-08-30T15:34:49.173Z"
    }
   },
   "outputs": [
    {
     "data": {
      "text/plain": [
       "BenchmarkTools.Trial: 10000 samples with 10 evaluations.\n",
       " Range \u001b[90m(\u001b[39m\u001b[36m\u001b[1mmin\u001b[22m\u001b[39m … \u001b[35mmax\u001b[39m\u001b[90m):  \u001b[39m\u001b[36m\u001b[1m1.755 μs\u001b[22m\u001b[39m … \u001b[35m327.097 μs\u001b[39m  \u001b[90m┊\u001b[39m GC \u001b[90m(\u001b[39mmin … max\u001b[90m): \u001b[39m0.00% … 98.16%\n",
       " Time  \u001b[90m(\u001b[39m\u001b[34m\u001b[1mmedian\u001b[22m\u001b[39m\u001b[90m):     \u001b[39m\u001b[34m\u001b[1m1.815 μs               \u001b[22m\u001b[39m\u001b[90m┊\u001b[39m GC \u001b[90m(\u001b[39mmedian\u001b[90m):    \u001b[39m0.00%\n",
       " Time  \u001b[90m(\u001b[39m\u001b[32m\u001b[1mmean\u001b[22m\u001b[39m ± \u001b[32mσ\u001b[39m\u001b[90m):   \u001b[39m\u001b[32m\u001b[1m1.988 μs\u001b[22m\u001b[39m ± \u001b[32m  3.299 μs\u001b[39m  \u001b[90m┊\u001b[39m GC \u001b[90m(\u001b[39mmean ± σ\u001b[90m):  \u001b[39m1.62% ±  0.98%\n",
       "\n",
       "  \u001b[39m█\u001b[34m▇\u001b[39m\u001b[39m▆\u001b[39m▄\u001b[39m▂\u001b[32m▁\u001b[39m\u001b[39m▁\u001b[39m▁\u001b[39m▂\u001b[39m▂\u001b[39m▁\u001b[39m▁\u001b[39m \u001b[39m \u001b[39m \u001b[39m \u001b[39m \u001b[39m \u001b[39m \u001b[39m \u001b[39m \u001b[39m \u001b[39m \u001b[39m \u001b[39m \u001b[39m \u001b[39m \u001b[39m \u001b[39m \u001b[39m \u001b[39m \u001b[39m \u001b[39m \u001b[39m \u001b[39m \u001b[39m \u001b[39m \u001b[39m \u001b[39m \u001b[39m \u001b[39m \u001b[39m \u001b[39m \u001b[39m \u001b[39m \u001b[39m \u001b[39m \u001b[39m \u001b[39m \u001b[39m \u001b[39m \u001b[39m \u001b[39m \u001b[39m \u001b[39m \u001b[39m \u001b[39m \u001b[39m \u001b[39m \u001b[39m \u001b[39m▁\n",
       "  \u001b[39m█\u001b[34m█\u001b[39m\u001b[39m█\u001b[39m█\u001b[39m█\u001b[32m█\u001b[39m\u001b[39m█\u001b[39m█\u001b[39m█\u001b[39m█\u001b[39m█\u001b[39m█\u001b[39m█\u001b[39m█\u001b[39m█\u001b[39m▇\u001b[39m▇\u001b[39m▇\u001b[39m▆\u001b[39m▆\u001b[39m▆\u001b[39m▆\u001b[39m▅\u001b[39m▆\u001b[39m▅\u001b[39m▆\u001b[39m▅\u001b[39m▅\u001b[39m▄\u001b[39m▆\u001b[39m▄\u001b[39m▅\u001b[39m▆\u001b[39m▄\u001b[39m▅\u001b[39m▅\u001b[39m▅\u001b[39m▅\u001b[39m▅\u001b[39m▄\u001b[39m▆\u001b[39m▅\u001b[39m▅\u001b[39m▅\u001b[39m▅\u001b[39m▅\u001b[39m▄\u001b[39m▅\u001b[39m▅\u001b[39m▅\u001b[39m▅\u001b[39m▅\u001b[39m▄\u001b[39m▃\u001b[39m▅\u001b[39m▅\u001b[39m▅\u001b[39m▃\u001b[39m▅\u001b[39m \u001b[39m█\n",
       "  1.76 μs\u001b[90m      \u001b[39m\u001b[90mHistogram: \u001b[39m\u001b[90m\u001b[1mlog(\u001b[22m\u001b[39m\u001b[90mfrequency\u001b[39m\u001b[90m\u001b[1m)\u001b[22m\u001b[39m\u001b[90m by time\u001b[39m      4.59 μs \u001b[0m\u001b[1m<\u001b[22m\n",
       "\n",
       " Memory estimate\u001b[90m: \u001b[39m\u001b[33m384 bytes\u001b[39m, allocs estimate\u001b[90m: \u001b[39m\u001b[33m11\u001b[39m."
      ]
     },
     "execution_count": 18,
     "metadata": {},
     "output_type": "execute_result"
    }
   ],
   "source": [
    "@benchmark make_n_sums_simd($v1,$v2,1000)"
   ]
  },
  {
   "cell_type": "code",
   "execution_count": 19,
   "metadata": {
    "ExecuteTime": {
     "end_time": "2022-08-30T17:34:57.797000+02:00",
     "start_time": "2022-08-30T15:34:50.323Z"
    }
   },
   "outputs": [
    {
     "data": {
      "text/plain": [
       "BenchmarkTools.Trial: 10000 samples with 1 evaluation.\n",
       " Range \u001b[90m(\u001b[39m\u001b[36m\u001b[1mmin\u001b[22m\u001b[39m … \u001b[35mmax\u001b[39m\u001b[90m):  \u001b[39m\u001b[36m\u001b[1m72.617 μs\u001b[22m\u001b[39m … \u001b[35m 1.507 ms\u001b[39m  \u001b[90m┊\u001b[39m GC \u001b[90m(\u001b[39mmin … max\u001b[90m): \u001b[39m0.00% … 91.04%\n",
       " Time  \u001b[90m(\u001b[39m\u001b[34m\u001b[1mmedian\u001b[22m\u001b[39m\u001b[90m):     \u001b[39m\u001b[34m\u001b[1m75.562 μs              \u001b[22m\u001b[39m\u001b[90m┊\u001b[39m GC \u001b[90m(\u001b[39mmedian\u001b[90m):    \u001b[39m0.00%\n",
       " Time  \u001b[90m(\u001b[39m\u001b[32m\u001b[1mmean\u001b[22m\u001b[39m ± \u001b[32mσ\u001b[39m\u001b[90m):   \u001b[39m\u001b[32m\u001b[1m88.296 μs\u001b[22m\u001b[39m ± \u001b[32m69.757 μs\u001b[39m  \u001b[90m┊\u001b[39m GC \u001b[90m(\u001b[39mmean ± σ\u001b[90m):  \u001b[39m4.70% ±  5.72%\n",
       "\n",
       "  \u001b[39m▆\u001b[39m█\u001b[34m▅\u001b[39m\u001b[39m▄\u001b[39m▃\u001b[39m▃\u001b[39m▂\u001b[39m▁\u001b[39m \u001b[39m \u001b[32m▂\u001b[39m\u001b[39m▂\u001b[39m▁\u001b[39m▁\u001b[39m \u001b[39m \u001b[39m▁\u001b[39m▂\u001b[39m▂\u001b[39m▂\u001b[39m▂\u001b[39m▁\u001b[39m▁\u001b[39m \u001b[39m \u001b[39m \u001b[39m \u001b[39m \u001b[39m \u001b[39m \u001b[39m \u001b[39m \u001b[39m \u001b[39m \u001b[39m \u001b[39m \u001b[39m \u001b[39m \u001b[39m \u001b[39m \u001b[39m \u001b[39m \u001b[39m \u001b[39m \u001b[39m \u001b[39m \u001b[39m \u001b[39m \u001b[39m \u001b[39m \u001b[39m \u001b[39m \u001b[39m \u001b[39m \u001b[39m \u001b[39m \u001b[39m \u001b[39m \u001b[39m \u001b[39m \u001b[39m▁\n",
       "  \u001b[39m█\u001b[39m█\u001b[34m█\u001b[39m\u001b[39m█\u001b[39m█\u001b[39m█\u001b[39m█\u001b[39m█\u001b[39m█\u001b[39m█\u001b[32m█\u001b[39m\u001b[39m█\u001b[39m█\u001b[39m█\u001b[39m█\u001b[39m█\u001b[39m█\u001b[39m█\u001b[39m█\u001b[39m█\u001b[39m█\u001b[39m█\u001b[39m█\u001b[39m█\u001b[39m▇\u001b[39m▇\u001b[39m▇\u001b[39m▇\u001b[39m▇\u001b[39m▆\u001b[39m▆\u001b[39m▇\u001b[39m▆\u001b[39m▆\u001b[39m▆\u001b[39m▆\u001b[39m█\u001b[39m█\u001b[39m█\u001b[39m▇\u001b[39m▇\u001b[39m▆\u001b[39m▆\u001b[39m▆\u001b[39m▆\u001b[39m▃\u001b[39m▅\u001b[39m▂\u001b[39m▄\u001b[39m▃\u001b[39m▄\u001b[39m▃\u001b[39m▄\u001b[39m▅\u001b[39m▅\u001b[39m▆\u001b[39m▆\u001b[39m▅\u001b[39m▅\u001b[39m \u001b[39m█\n",
       "  72.6 μs\u001b[90m      \u001b[39m\u001b[90mHistogram: \u001b[39m\u001b[90m\u001b[1mlog(\u001b[22m\u001b[39m\u001b[90mfrequency\u001b[39m\u001b[90m\u001b[1m)\u001b[22m\u001b[39m\u001b[90m by time\u001b[39m       169 μs \u001b[0m\u001b[1m<\u001b[22m\n",
       "\n",
       " Memory estimate\u001b[90m: \u001b[39m\u001b[33m187.59 KiB\u001b[39m, allocs estimate\u001b[90m: \u001b[39m\u001b[33m2001\u001b[39m."
      ]
     },
     "execution_count": 19,
     "metadata": {},
     "output_type": "execute_result"
    }
   ],
   "source": [
    "@benchmark make_n_sums($x1,$x2,1000)"
   ]
  },
  {
   "cell_type": "code",
   "execution_count": 20,
   "metadata": {
    "ExecuteTime": {
     "end_time": "2022-08-30T17:34:58.112000+02:00",
     "start_time": "2022-08-30T15:34:54.437Z"
    },
    "scrolled": true
   },
   "outputs": [
    {
     "data": {
      "text/plain": [
       "<16 x Float32>[1.0, 2.0, 3.0, 4.0, 5.0, 6.0, 7.0, 8.0, 9.0, 10.0, 11.0, 12.0, 13.0, 14.0, 15.0, 16.0]"
      ]
     },
     "execution_count": 20,
     "metadata": {},
     "output_type": "execute_result"
    }
   ],
   "source": [
    "v1 = Vec{16,Float32}((1,2,3,4,5,6,7,8,9,10,11,12,13,14,15,16))\n",
    "v2 = Vec{16,Float32}((1,2,3,4,5,6,7,8,9,10,11,12,13,14,15,16))"
   ]
  },
  {
   "cell_type": "code",
   "execution_count": 21,
   "metadata": {
    "ExecuteTime": {
     "end_time": "2022-08-30T17:34:58.114000+02:00",
     "start_time": "2022-08-30T15:34:54.807Z"
    }
   },
   "outputs": [],
   "source": [
    "x1 = Array{Float32}([1,2,3,4,5,6,7,8,9,10,11,12,13,14,15,16])\n",
    "x2 = Array{Float32}([1,2,3,4,5,6,7,8,9,10,11,12,13,14,15,16]);"
   ]
  },
  {
   "cell_type": "code",
   "execution_count": 22,
   "metadata": {
    "ExecuteTime": {
     "end_time": "2022-08-30T17:34:58.116000+02:00",
     "start_time": "2022-08-30T15:34:54.984Z"
    }
   },
   "outputs": [
    {
     "data": {
      "text/plain": [
       "16-element Vector{Float32}:\n",
       "  20.0\n",
       "  40.0\n",
       "  60.0\n",
       "  80.0\n",
       " 100.0\n",
       " 120.0\n",
       " 140.0\n",
       " 160.0\n",
       " 180.0\n",
       " 200.0\n",
       " 220.0\n",
       " 240.0\n",
       " 260.0\n",
       " 280.0\n",
       " 300.0\n",
       " 320.0"
      ]
     },
     "execution_count": 22,
     "metadata": {},
     "output_type": "execute_result"
    }
   ],
   "source": [
    "make_n_sums(x1,x2,10)"
   ]
  },
  {
   "cell_type": "code",
   "execution_count": 28,
   "metadata": {
    "ExecuteTime": {
     "end_time": "2022-08-30T17:35:19.353000+02:00",
     "start_time": "2022-08-30T15:35:19.349Z"
    }
   },
   "outputs": [
    {
     "data": {
      "text/plain": [
       "<16 x Float32>[20.0, 40.0, 60.0, 80.0, 100.0, 120.0, 140.0, 160.0, 180.0, 200.0, 220.0, 240.0, 260.0, 280.0, 300.0, 320.0]"
      ]
     },
     "execution_count": 28,
     "metadata": {},
     "output_type": "execute_result"
    }
   ],
   "source": [
    "make_n_sums_simd(v1, v2, 10)"
   ]
  },
  {
   "cell_type": "code",
   "execution_count": 29,
   "metadata": {
    "ExecuteTime": {
     "end_time": "2022-08-30T17:35:29.294000+02:00",
     "start_time": "2022-08-30T15:35:26.992Z"
    }
   },
   "outputs": [
    {
     "data": {
      "text/plain": [
       "BenchmarkTools.Trial: 10000 samples with 10 evaluations.\n",
       " Range \u001b[90m(\u001b[39m\u001b[36m\u001b[1mmin\u001b[22m\u001b[39m … \u001b[35mmax\u001b[39m\u001b[90m):  \u001b[39m\u001b[36m\u001b[1m2.032 μs\u001b[22m\u001b[39m … \u001b[35m 11.462 μs\u001b[39m  \u001b[90m┊\u001b[39m GC \u001b[90m(\u001b[39mmin … max\u001b[90m): \u001b[39m0.00% … 0.00%\n",
       " Time  \u001b[90m(\u001b[39m\u001b[34m\u001b[1mmedian\u001b[22m\u001b[39m\u001b[90m):     \u001b[39m\u001b[34m\u001b[1m2.097 μs               \u001b[22m\u001b[39m\u001b[90m┊\u001b[39m GC \u001b[90m(\u001b[39mmedian\u001b[90m):    \u001b[39m0.00%\n",
       " Time  \u001b[90m(\u001b[39m\u001b[32m\u001b[1mmean\u001b[22m\u001b[39m ± \u001b[32mσ\u001b[39m\u001b[90m):   \u001b[39m\u001b[32m\u001b[1m2.277 μs\u001b[22m\u001b[39m ± \u001b[32m671.205 ns\u001b[39m  \u001b[90m┊\u001b[39m GC \u001b[90m(\u001b[39mmean ± σ\u001b[90m):  \u001b[39m0.00% ± 0.00%\n",
       "\n",
       "  \u001b[39m█\u001b[34m█\u001b[39m\u001b[39m▆\u001b[39m▃\u001b[39m▁\u001b[32m \u001b[39m\u001b[39m \u001b[39m \u001b[39m \u001b[39m \u001b[39m \u001b[39m \u001b[39m \u001b[39m \u001b[39m \u001b[39m \u001b[39m \u001b[39m \u001b[39m \u001b[39m \u001b[39m \u001b[39m \u001b[39m \u001b[39m \u001b[39m \u001b[39m \u001b[39m \u001b[39m \u001b[39m \u001b[39m \u001b[39m \u001b[39m \u001b[39m \u001b[39m \u001b[39m \u001b[39m \u001b[39m \u001b[39m \u001b[39m \u001b[39m \u001b[39m \u001b[39m \u001b[39m \u001b[39m \u001b[39m \u001b[39m \u001b[39m \u001b[39m \u001b[39m \u001b[39m \u001b[39m \u001b[39m \u001b[39m \u001b[39m \u001b[39m \u001b[39m \u001b[39m \u001b[39m \u001b[39m \u001b[39m \u001b[39m▁\n",
       "  \u001b[39m█\u001b[34m█\u001b[39m\u001b[39m█\u001b[39m█\u001b[39m█\u001b[32m█\u001b[39m\u001b[39m█\u001b[39m▇\u001b[39m█\u001b[39m▇\u001b[39m▆\u001b[39m▆\u001b[39m▇\u001b[39m▆\u001b[39m▆\u001b[39m▅\u001b[39m▆\u001b[39m▅\u001b[39m▆\u001b[39m▆\u001b[39m▅\u001b[39m▇\u001b[39m▆\u001b[39m▅\u001b[39m▆\u001b[39m▅\u001b[39m▆\u001b[39m▅\u001b[39m▅\u001b[39m▆\u001b[39m▆\u001b[39m▅\u001b[39m▆\u001b[39m▇\u001b[39m▆\u001b[39m▇\u001b[39m▆\u001b[39m▆\u001b[39m▇\u001b[39m▆\u001b[39m▆\u001b[39m▆\u001b[39m▅\u001b[39m▆\u001b[39m▆\u001b[39m▆\u001b[39m▆\u001b[39m▆\u001b[39m▆\u001b[39m▇\u001b[39m▆\u001b[39m▇\u001b[39m▆\u001b[39m▅\u001b[39m▅\u001b[39m▅\u001b[39m▅\u001b[39m▄\u001b[39m▆\u001b[39m \u001b[39m█\n",
       "  2.03 μs\u001b[90m      \u001b[39m\u001b[90mHistogram: \u001b[39m\u001b[90m\u001b[1mlog(\u001b[22m\u001b[39m\u001b[90mfrequency\u001b[39m\u001b[90m\u001b[1m)\u001b[22m\u001b[39m\u001b[90m by time\u001b[39m      5.22 μs \u001b[0m\u001b[1m<\u001b[22m\n",
       "\n",
       " Memory estimate\u001b[90m: \u001b[39m\u001b[33m672 bytes\u001b[39m, allocs estimate\u001b[90m: \u001b[39m\u001b[33m19\u001b[39m."
      ]
     },
     "execution_count": 29,
     "metadata": {},
     "output_type": "execute_result"
    }
   ],
   "source": [
    "@benchmark make_n_sums_simd($v1, $v2, 1000)"
   ]
  },
  {
   "cell_type": "code",
   "execution_count": 30,
   "metadata": {
    "ExecuteTime": {
     "end_time": "2022-08-30T17:35:39.703000+02:00",
     "start_time": "2022-08-30T15:35:32.946Z"
    }
   },
   "outputs": [
    {
     "data": {
      "text/plain": [
       "BenchmarkTools.Trial: 10000 samples with 1 evaluation.\n",
       " Range \u001b[90m(\u001b[39m\u001b[36m\u001b[1mmin\u001b[22m\u001b[39m … \u001b[35mmax\u001b[39m\u001b[90m):  \u001b[39m\u001b[36m\u001b[1m81.803 μs\u001b[22m\u001b[39m … \u001b[35m 1.245 ms\u001b[39m  \u001b[90m┊\u001b[39m GC \u001b[90m(\u001b[39mmin … max\u001b[90m): \u001b[39m0.00% … 91.11%\n",
       " Time  \u001b[90m(\u001b[39m\u001b[34m\u001b[1mmedian\u001b[22m\u001b[39m\u001b[90m):     \u001b[39m\u001b[34m\u001b[1m85.136 μs              \u001b[22m\u001b[39m\u001b[90m┊\u001b[39m GC \u001b[90m(\u001b[39mmedian\u001b[90m):    \u001b[39m0.00%\n",
       " Time  \u001b[90m(\u001b[39m\u001b[32m\u001b[1mmean\u001b[22m\u001b[39m ± \u001b[32mσ\u001b[39m\u001b[90m):   \u001b[39m\u001b[32m\u001b[1m98.285 μs\u001b[22m\u001b[39m ± \u001b[32m67.983 μs\u001b[39m  \u001b[90m┊\u001b[39m GC \u001b[90m(\u001b[39mmean ± σ\u001b[90m):  \u001b[39m4.73% ±  6.46%\n",
       "\n",
       "  \u001b[39m▆\u001b[39m█\u001b[34m▆\u001b[39m\u001b[39m▄\u001b[39m▃\u001b[39m▂\u001b[39m \u001b[39m \u001b[39m \u001b[32m \u001b[39m\u001b[39m \u001b[39m \u001b[39m▁\u001b[39m▁\u001b[39m \u001b[39m▂\u001b[39m▂\u001b[39m▂\u001b[39m▂\u001b[39m▁\u001b[39m \u001b[39m \u001b[39m \u001b[39m \u001b[39m \u001b[39m \u001b[39m \u001b[39m \u001b[39m \u001b[39m \u001b[39m \u001b[39m \u001b[39m▁\u001b[39m▁\u001b[39m \u001b[39m \u001b[39m \u001b[39m \u001b[39m \u001b[39m \u001b[39m \u001b[39m \u001b[39m \u001b[39m \u001b[39m \u001b[39m \u001b[39m \u001b[39m \u001b[39m \u001b[39m \u001b[39m \u001b[39m \u001b[39m \u001b[39m \u001b[39m \u001b[39m \u001b[39m \u001b[39m \u001b[39m \u001b[39m \u001b[39m▁\n",
       "  \u001b[39m█\u001b[39m█\u001b[34m█\u001b[39m\u001b[39m█\u001b[39m█\u001b[39m█\u001b[39m█\u001b[39m▇\u001b[39m▇\u001b[32m▆\u001b[39m\u001b[39m▇\u001b[39m▇\u001b[39m█\u001b[39m█\u001b[39m█\u001b[39m█\u001b[39m█\u001b[39m█\u001b[39m█\u001b[39m█\u001b[39m█\u001b[39m▇\u001b[39m▆\u001b[39m▆\u001b[39m▅\u001b[39m▅\u001b[39m▆\u001b[39m▆\u001b[39m▆\u001b[39m▆\u001b[39m▆\u001b[39m█\u001b[39m█\u001b[39m█\u001b[39m█\u001b[39m█\u001b[39m▇\u001b[39m▆\u001b[39m▅\u001b[39m▄\u001b[39m▃\u001b[39m▄\u001b[39m▃\u001b[39m▅\u001b[39m▅\u001b[39m▅\u001b[39m▆\u001b[39m▆\u001b[39m▇\u001b[39m▇\u001b[39m▇\u001b[39m▆\u001b[39m▅\u001b[39m▆\u001b[39m▄\u001b[39m▄\u001b[39m▂\u001b[39m▃\u001b[39m▃\u001b[39m \u001b[39m█\n",
       "  81.8 μs\u001b[90m      \u001b[39m\u001b[90mHistogram: \u001b[39m\u001b[90m\u001b[1mlog(\u001b[22m\u001b[39m\u001b[90mfrequency\u001b[39m\u001b[90m\u001b[1m)\u001b[22m\u001b[39m\u001b[90m by time\u001b[39m       193 μs \u001b[0m\u001b[1m<\u001b[22m\n",
       "\n",
       " Memory estimate\u001b[90m: \u001b[39m\u001b[33m250.12 KiB\u001b[39m, allocs estimate\u001b[90m: \u001b[39m\u001b[33m2001\u001b[39m."
      ]
     },
     "execution_count": 30,
     "metadata": {},
     "output_type": "execute_result"
    }
   ],
   "source": [
    "@benchmark make_n_sums($x1, $x2, 1000)"
   ]
  },
  {
   "cell_type": "markdown",
   "metadata": {},
   "source": [
    "\n",
    "#### Reduction operations\n",
    "\n",
    "The following reduction operations can be used\n",
    "\n",
    "```\n",
    "all any maximum minimum sum prod\n",
    "```\n",
    "\n"
   ]
  },
  {
   "cell_type": "code",
   "execution_count": 33,
   "metadata": {
    "ExecuteTime": {
     "end_time": "2022-08-30T17:44:04.742000+02:00",
     "start_time": "2022-08-30T15:44:04.738Z"
    }
   },
   "outputs": [
    {
     "data": {
      "text/plain": [
       "<8 x Float32>[1.0, 2.0, 3.0, 4.0, 5.0, 6.0, 7.0, 8.0]"
      ]
     },
     "execution_count": 33,
     "metadata": {},
     "output_type": "execute_result"
    }
   ],
   "source": [
    "v = Vec{8,Float32}((1,2,3,4,5,6,7,8))"
   ]
  },
  {
   "cell_type": "code",
   "execution_count": 34,
   "metadata": {
    "ExecuteTime": {
     "end_time": "2022-08-30T17:44:05.052000+02:00",
     "start_time": "2022-08-30T15:44:05.048Z"
    }
   },
   "outputs": [
    {
     "name": "stdout",
     "output_type": "stream",
     "text": [
      "sum(v): 36.0\n",
      "maximum(v): 8.0\n",
      "minimum(v): 1.0\n",
      "prod(v): 40320.0\n"
     ]
    }
   ],
   "source": [
    "#println(\"all(v): \", all(v))\n",
    "println(\"sum(v): \",     sum(v))\n",
    "println(\"maximum(v): \", maximum(v))\n",
    "println(\"minimum(v): \", minimum(v))\n",
    "println(\"prod(v): \",    prod(v))"
   ]
  },
  {
   "cell_type": "markdown",
   "metadata": {},
   "source": [
    "#### Accessing arrays: reading and writting from julia Arrays\n",
    "When using explicit SIMD vectorization, it is convenient to allocate arrays still as arrays of scalars, not as arrays of vectors. The vload and vstore functions allow reading vectors from and writing vectors into arrays, accessing several contiguous array elements."
   ]
  },
  {
   "cell_type": "code",
   "execution_count": 35,
   "metadata": {
    "ExecuteTime": {
     "end_time": "2022-08-30T17:44:06.867000+02:00",
     "start_time": "2022-08-30T15:44:06.841Z"
    }
   },
   "outputs": [],
   "source": [
    "arr = Vector{Float64}(100:200);"
   ]
  },
  {
   "cell_type": "code",
   "execution_count": 36,
   "metadata": {
    "ExecuteTime": {
     "end_time": "2022-08-30T17:44:07.655000+02:00",
     "start_time": "2022-08-30T15:44:07.316Z"
    }
   },
   "outputs": [
    {
     "data": {
      "text/plain": [
       "<4 x Float64>[100.0, 101.0, 102.0, 103.0]"
      ]
     },
     "execution_count": 36,
     "metadata": {},
     "output_type": "execute_result"
    }
   ],
   "source": [
    "# The vload call reads a vector of size 4 from the array, i.e. it reads arr[i:i+3]\n",
    "xs = vload(Vec{4,Float64 }, arr, 1)"
   ]
  },
  {
   "cell_type": "code",
   "execution_count": 37,
   "metadata": {
    "ExecuteTime": {
     "end_time": "2022-08-30T17:44:08.326000+02:00",
     "start_time": "2022-08-30T15:44:07.738Z"
    }
   },
   "outputs": [
    {
     "data": {
      "text/plain": [
       "101-element Vector{Float64}:\n",
       " 200.0\n",
       " 202.0\n",
       " 204.0\n",
       " 206.0\n",
       " 104.0\n",
       " 105.0\n",
       " 106.0\n",
       " 107.0\n",
       " 108.0\n",
       " 109.0\n",
       " 110.0\n",
       " 111.0\n",
       " 112.0\n",
       "   ⋮\n",
       " 189.0\n",
       " 190.0\n",
       " 191.0\n",
       " 192.0\n",
       " 193.0\n",
       " 194.0\n",
       " 195.0\n",
       " 196.0\n",
       " 197.0\n",
       " 198.0\n",
       " 199.0\n",
       " 200.0"
      ]
     },
     "execution_count": 37,
     "metadata": {},
     "output_type": "execute_result"
    }
   ],
   "source": [
    "xs = 2*xs\n",
    "#Similarly, the vstore call writes the vector xs to the four array elements arr[i:i+3].\n",
    "vstore(xs, arr, 1)"
   ]
  },
  {
   "cell_type": "markdown",
   "metadata": {},
   "source": [
    "#### Making some easy functions"
   ]
  },
  {
   "cell_type": "code",
   "execution_count": 39,
   "metadata": {
    "ExecuteTime": {
     "end_time": "2022-08-30T17:44:18.872000+02:00",
     "start_time": "2022-08-30T15:44:18.635Z"
    }
   },
   "outputs": [
    {
     "data": {
      "text/plain": [
       "simd_add_no_inbounds! (generic function with 1 method)"
      ]
     },
     "execution_count": 39,
     "metadata": {},
     "output_type": "execute_result"
    }
   ],
   "source": [
    "x1 = rand(Float32, 512)\n",
    "x2 = rand(Float32, 512)\n",
    "y = similar(x1)\n",
    "\n",
    "function add!(y, x1,x2)\n",
    "    @inbounds for i=1:length(x1)\n",
    "        y[i] = x1[i] + x2[i] \n",
    "    end\n",
    "end\n",
    "\n",
    "function simd_add!(y, x1,x2)\n",
    "    @simd for i=1:length(x1)\n",
    "        @inbounds y[i] = x1[i] + x2[i] \n",
    "    end\n",
    "end\n",
    "\n",
    "function simd_add_no_inbounds!(y, x1,x2)\n",
    "    @simd for i=1:length(x1)\n",
    "        y[i] = x1[i] + x2[i] \n",
    "    end\n",
    "end\n"
   ]
  },
  {
   "cell_type": "code",
   "execution_count": 40,
   "metadata": {
    "ExecuteTime": {
     "end_time": "2022-08-30T17:44:19.029000+02:00",
     "start_time": "2022-08-30T15:44:18.937Z"
    }
   },
   "outputs": [
    {
     "ename": "LoadError",
     "evalue": "UndefVarError: vadd! not defined",
     "output_type": "error",
     "traceback": [
      "UndefVarError: vadd! not defined",
      "",
      "Stacktrace:",
      " [1] top-level scope",
      "   @ In[40]:2",
      " [2] eval",
      "   @ ./boot.jl:368 [inlined]",
      " [3] include_string(mapexpr::typeof(REPL.softscope), mod::Module, code::String, filename::String)",
      "   @ Base ./loading.jl:1428"
     ]
    }
   ],
   "source": [
    "\n",
    "function vadd!{N,T}(y::Vector{T}, xs::Vector{T}, ys::Vector{T}, ::Type{Vec{N,T}}=Vec{8,T})\n",
    "    @inbounds for i in 1:N:length(xs)\n",
    "        xv = vload(Vec{N,T}, xs, i)\n",
    "        yv = vload(Vec{N,T}, ys, i)\n",
    "        xv += yv \n",
    "        vstore(xv, y, i)\n",
    "    end\n",
    "end\n",
    "\n",
    "\n",
    "function euclid!(y, x1,x2)\n",
    "    @inbounds for i=1:length(x1)\n",
    "        y[i] = sqrt(x1[1] * x1[1]) + (x2[i] * x2[i])\n",
    "    end\n",
    "end\n",
    "\n",
    "function veuclid!{N,T}(y::Vector{T}, xs::Vector{T}, ys::Vector{T}, ::Type{Vec{N,T}}=Vec{8,T})\n",
    "    @inbounds for i in 1:N:length(xs)\n",
    "        xv = vload(Vec{N,T}, xs, i)\n",
    "        yv = vload(Vec{N,T}, ys, i)\n",
    "        xv = sqrt(xv*xv + yv*yv)\n",
    "        vstore(xv, y, i)\n",
    "    end\n",
    "end"
   ]
  },
  {
   "cell_type": "code",
   "execution_count": 41,
   "metadata": {
    "ExecuteTime": {
     "end_time": "2022-08-30T17:44:19.793000+02:00",
     "start_time": "2022-08-30T15:44:19.676Z"
    }
   },
   "outputs": [
    {
     "ename": "LoadError",
     "evalue": "UndefVarError: euclid! not defined",
     "output_type": "error",
     "traceback": [
      "UndefVarError: euclid! not defined",
      "",
      "Stacktrace:",
      "  [1] var\"##core#361\"()",
      "    @ Main ~/.julia/packages/BenchmarkTools/7xSXH/src/execution.jl:489",
      "  [2] var\"##sample#362\"(::Tuple{}, __params::BenchmarkTools.Parameters)",
      "    @ Main ~/.julia/packages/BenchmarkTools/7xSXH/src/execution.jl:495",
      "  [3] _run(b::BenchmarkTools.Benchmark, p::BenchmarkTools.Parameters; verbose::Bool, pad::String, kwargs::Base.Pairs{Symbol, Integer, NTuple{4, Symbol}, NamedTuple{(:samples, :evals, :gctrial, :gcsample), Tuple{Int64, Int64, Bool, Bool}}})",
      "    @ BenchmarkTools ~/.julia/packages/BenchmarkTools/7xSXH/src/execution.jl:99",
      "  [4] #invokelatest#2",
      "    @ ./essentials.jl:731 [inlined]",
      "  [5] #run_result#45",
      "    @ ~/.julia/packages/BenchmarkTools/7xSXH/src/execution.jl:34 [inlined]",
      "  [6] run(b::BenchmarkTools.Benchmark, p::BenchmarkTools.Parameters; progressid::Nothing, nleaves::Float64, ndone::Float64, kwargs::Base.Pairs{Symbol, Integer, NTuple{5, Symbol}, NamedTuple{(:verbose, :samples, :evals, :gctrial, :gcsample), Tuple{Bool, Int64, Int64, Bool, Bool}}})",
      "    @ BenchmarkTools ~/.julia/packages/BenchmarkTools/7xSXH/src/execution.jl:117",
      "  [7] #warmup#54",
      "    @ ~/.julia/packages/BenchmarkTools/7xSXH/src/execution.jl:169 [inlined]",
      "  [8] warmup(item::BenchmarkTools.Benchmark)",
      "    @ BenchmarkTools ~/.julia/packages/BenchmarkTools/7xSXH/src/execution.jl:168",
      "  [9] top-level scope",
      "    @ ~/.julia/packages/BenchmarkTools/7xSXH/src/execution.jl:393",
      " [10] eval",
      "    @ ./boot.jl:368 [inlined]",
      " [11] include_string(mapexpr::typeof(REPL.softscope), mod::Module, code::String, filename::String)",
      "    @ Base ./loading.jl:1428"
     ]
    }
   ],
   "source": [
    "@benchmark euclid!(y,x1,x2)"
   ]
  },
  {
   "cell_type": "code",
   "execution_count": 87,
   "metadata": {},
   "outputs": [
    {
     "data": {
      "text/plain": [
       "BenchmarkTools.Trial: \n",
       "  memory estimate:  0 bytes\n",
       "  allocs estimate:  0\n",
       "  --------------\n",
       "  minimum time:     335.747 ns (0.00% GC)\n",
       "  median time:      361.215 ns (0.00% GC)\n",
       "  mean time:        393.591 ns (0.00% GC)\n",
       "  maximum time:     1.545 μs (0.00% GC)\n",
       "  --------------\n",
       "  samples:          10000\n",
       "  evals/sample:     221"
      ]
     },
     "execution_count": 87,
     "metadata": {},
     "output_type": "execute_result"
    }
   ],
   "source": [
    " @benchmark veuclid!(y,x1,x2)"
   ]
  },
  {
   "cell_type": "code",
   "execution_count": 88,
   "metadata": {},
   "outputs": [
    {
     "data": {
      "text/plain": [
       "BenchmarkTools.Trial: \n",
       "  memory estimate:  0 bytes\n",
       "  allocs estimate:  0\n",
       "  --------------\n",
       "  minimum time:     65.874 ns (0.00% GC)\n",
       "  median time:      68.821 ns (0.00% GC)\n",
       "  mean time:        83.308 ns (0.00% GC)\n",
       "  maximum time:     196.249 ns (0.00% GC)\n",
       "  --------------\n",
       "  samples:          10000\n",
       "  evals/sample:     976"
      ]
     },
     "execution_count": 88,
     "metadata": {},
     "output_type": "execute_result"
    }
   ],
   "source": [
    " @benchmark add!(y,x1,x2)"
   ]
  },
  {
   "cell_type": "code",
   "execution_count": 89,
   "metadata": {},
   "outputs": [
    {
     "data": {
      "text/plain": [
       "BenchmarkTools.Trial: \n",
       "  memory estimate:  0 bytes\n",
       "  allocs estimate:  0\n",
       "  --------------\n",
       "  minimum time:     146.237 ns (0.00% GC)\n",
       "  median time:      148.293 ns (0.00% GC)\n",
       "  mean time:        186.955 ns (0.00% GC)\n",
       "  maximum time:     447.124 ns (0.00% GC)\n",
       "  --------------\n",
       "  samples:          10000\n",
       "  evals/sample:     839"
      ]
     },
     "execution_count": 89,
     "metadata": {},
     "output_type": "execute_result"
    }
   ],
   "source": [
    "@benchmark vadd!(y,x1,x2)"
   ]
  },
  {
   "cell_type": "code",
   "execution_count": 44,
   "metadata": {
    "ExecuteTime": {
     "end_time": "2022-08-30T17:44:47.366000+02:00",
     "start_time": "2022-08-30T15:44:46.337Z"
    }
   },
   "outputs": [
    {
     "data": {
      "text/plain": [
       "BenchmarkTools.Trial: 10000 samples with 996 evaluations.\n",
       " Range \u001b[90m(\u001b[39m\u001b[36m\u001b[1mmin\u001b[22m\u001b[39m … \u001b[35mmax\u001b[39m\u001b[90m):  \u001b[39m\u001b[36m\u001b[1m23.123 ns\u001b[22m\u001b[39m … \u001b[35m139.196 ns\u001b[39m  \u001b[90m┊\u001b[39m GC \u001b[90m(\u001b[39mmin … max\u001b[90m): \u001b[39m0.00% … 0.00%\n",
       " Time  \u001b[90m(\u001b[39m\u001b[34m\u001b[1mmedian\u001b[22m\u001b[39m\u001b[90m):     \u001b[39m\u001b[34m\u001b[1m23.304 ns               \u001b[22m\u001b[39m\u001b[90m┊\u001b[39m GC \u001b[90m(\u001b[39mmedian\u001b[90m):    \u001b[39m0.00%\n",
       " Time  \u001b[90m(\u001b[39m\u001b[32m\u001b[1mmean\u001b[22m\u001b[39m ± \u001b[32mσ\u001b[39m\u001b[90m):   \u001b[39m\u001b[32m\u001b[1m23.856 ns\u001b[22m\u001b[39m ± \u001b[32m  3.182 ns\u001b[39m  \u001b[90m┊\u001b[39m GC \u001b[90m(\u001b[39mmean ± σ\u001b[90m):  \u001b[39m0.00% ± 0.00%\n",
       "\n",
       "  \u001b[39m█\u001b[34m▃\u001b[39m\u001b[39m \u001b[32m \u001b[39m\u001b[39m \u001b[39m \u001b[39m \u001b[39m \u001b[39m \u001b[39m \u001b[39m \u001b[39m \u001b[39m \u001b[39m \u001b[39m \u001b[39m \u001b[39m \u001b[39m \u001b[39m \u001b[39m \u001b[39m \u001b[39m \u001b[39m \u001b[39m \u001b[39m \u001b[39m \u001b[39m \u001b[39m \u001b[39m \u001b[39m \u001b[39m \u001b[39m \u001b[39m \u001b[39m \u001b[39m \u001b[39m \u001b[39m \u001b[39m \u001b[39m \u001b[39m \u001b[39m \u001b[39m \u001b[39m \u001b[39m \u001b[39m \u001b[39m \u001b[39m \u001b[39m \u001b[39m \u001b[39m \u001b[39m \u001b[39m \u001b[39m \u001b[39m \u001b[39m \u001b[39m \u001b[39m \u001b[39m \u001b[39m \u001b[39m \u001b[39m \u001b[39m▁\n",
       "  \u001b[39m█\u001b[34m█\u001b[39m\u001b[39m█\u001b[32m▇\u001b[39m\u001b[39m▆\u001b[39m▆\u001b[39m█\u001b[39m▇\u001b[39m▇\u001b[39m▆\u001b[39m▆\u001b[39m▆\u001b[39m▇\u001b[39m▇\u001b[39m▇\u001b[39m▆\u001b[39m▄\u001b[39m▅\u001b[39m▅\u001b[39m▄\u001b[39m▄\u001b[39m▅\u001b[39m▇\u001b[39m▄\u001b[39m▄\u001b[39m▅\u001b[39m▇\u001b[39m▄\u001b[39m▅\u001b[39m▃\u001b[39m▃\u001b[39m▃\u001b[39m▅\u001b[39m▅\u001b[39m▄\u001b[39m▄\u001b[39m▄\u001b[39m▃\u001b[39m▄\u001b[39m▄\u001b[39m▃\u001b[39m▄\u001b[39m▄\u001b[39m▃\u001b[39m▃\u001b[39m▂\u001b[39m▄\u001b[39m▂\u001b[39m▃\u001b[39m▃\u001b[39m▃\u001b[39m▂\u001b[39m▃\u001b[39m▃\u001b[39m▂\u001b[39m▂\u001b[39m▃\u001b[39m▃\u001b[39m▃\u001b[39m▃\u001b[39m \u001b[39m█\n",
       "  23.1 ns\u001b[90m       \u001b[39m\u001b[90mHistogram: \u001b[39m\u001b[90m\u001b[1mlog(\u001b[22m\u001b[39m\u001b[90mfrequency\u001b[39m\u001b[90m\u001b[1m)\u001b[22m\u001b[39m\u001b[90m by time\u001b[39m      37.6 ns \u001b[0m\u001b[1m<\u001b[22m\n",
       "\n",
       " Memory estimate\u001b[90m: \u001b[39m\u001b[33m0 bytes\u001b[39m, allocs estimate\u001b[90m: \u001b[39m\u001b[33m0\u001b[39m."
      ]
     },
     "execution_count": 44,
     "metadata": {},
     "output_type": "execute_result"
    }
   ],
   "source": [
    "@benchmark simd_add!($y,$x1,$x2)"
   ]
  },
  {
   "cell_type": "code",
   "execution_count": 102,
   "metadata": {},
   "outputs": [
    {
     "data": {
      "text/plain": [
       "BenchmarkTools.Trial: \n",
       "  memory estimate:  0 bytes\n",
       "  allocs estimate:  0\n",
       "  --------------\n",
       "  minimum time:     539.552 ns (0.00% GC)\n",
       "  median time:      545.930 ns (0.00% GC)\n",
       "  mean time:        611.648 ns (0.00% GC)\n",
       "  maximum time:     1.293 μs (0.00% GC)\n",
       "  --------------\n",
       "  samples:          10000\n",
       "  evals/sample:     194"
      ]
     },
     "execution_count": 102,
     "metadata": {},
     "output_type": "execute_result"
    }
   ],
   "source": [
    "@benchmark simd_add_no_inbounds!(y,x1,x2)"
   ]
  },
  {
   "cell_type": "code",
   "execution_count": null,
   "metadata": {
    "collapsed": true
   },
   "outputs": [],
   "source": []
  },
  {
   "cell_type": "code",
   "execution_count": null,
   "metadata": {
    "collapsed": true
   },
   "outputs": [],
   "source": []
  },
  {
   "cell_type": "markdown",
   "metadata": {},
   "source": [
    "### median pooling"
   ]
  },
  {
   "cell_type": "code",
   "execution_count": 46,
   "metadata": {
    "collapsed": true
   },
   "outputs": [],
   "source": [
    "#https://discourse.julialang.org/t/make-this-code-fast-median-pooling/6405"
   ]
  },
  {
   "cell_type": "code",
   "execution_count": 8,
   "metadata": {},
   "outputs": [
    {
     "data": {
      "text/plain": [
       "medmedpool55! (generic function with 1 method)"
      ]
     },
     "execution_count": 8,
     "metadata": {},
     "output_type": "execute_result"
    }
   ],
   "source": [
    "@inline function median5_swap(a,b,c,d,e)\n",
    "    # https://github.com/JeffreySarnoff/SortingNetworks.jl/blob/master/src/swapsort.jl\n",
    "    a,b = minmax(a,b)\n",
    "    c,d = minmax(c,d)\n",
    "    a,c = minmax(a,c)\n",
    "    b,d = minmax(b,d)\n",
    "    c,e = minmax(e,c)\n",
    "    max(c, min(e,b))\n",
    "end\n",
    "\n",
    "@inline median5(args...) = median5_swap(args...)\n",
    "\n",
    "function medmedpool55!(out::AbstractMatrix, img::AbstractMatrix)\n",
    "    @assert size(out, 1) >= size(img, 1) ÷ 5\n",
    "    @assert size(out, 2) >= size(img, 2) ÷ 5\n",
    "    @inbounds for j ∈ indices(out)[2]\n",
    "        @simd for i ∈ indices(out)[1]\n",
    "            x11 = img[5i-4, 5j-4]\n",
    "            x21 = img[5i-3, 5j-4]\n",
    "            x31 = img[5i-2, 5j-4]\n",
    "            x41 = img[5i-1, 5j-4]\n",
    "            x51 = img[5i-0, 5j-4]\n",
    "            \n",
    "            x12 = img[5i-4, 5j-3]\n",
    "            x22 = img[5i-3, 5j-3]\n",
    "            x32 = img[5i-2, 5j-3]\n",
    "            x42 = img[5i-1, 5j-3]\n",
    "            x52 = img[5i-0, 5j-3]\n",
    "            \n",
    "            x13 = img[5i-4, 5j-2]\n",
    "            x23 = img[5i-3, 5j-2]\n",
    "            x33 = img[5i-2, 5j-2]\n",
    "            x43 = img[5i-1, 5j-2]\n",
    "            x53 = img[5i-0, 5j-2]\n",
    "            \n",
    "            x14 = img[5i-4, 5j-1]\n",
    "            x24 = img[5i-3, 5j-1]\n",
    "            x34 = img[5i-2, 5j-1]\n",
    "            x44 = img[5i-1, 5j-1]\n",
    "            x54 = img[5i-0, 5j-1]\n",
    "            \n",
    "            x15 = img[5i-4, 5j-0]\n",
    "            x25 = img[5i-3, 5j-0]\n",
    "            x35 = img[5i-2, 5j-0]\n",
    "            x45 = img[5i-1, 5j-0]\n",
    "            x55 = img[5i-0, 5j-0]\n",
    "            \n",
    "            y1 = median5(x11,x12,x13,x14,x15)\n",
    "            y2 = median5(x21,x22,x23,x24,x25)\n",
    "            y3 = median5(x31,x32,x33,x34,x35)\n",
    "            y4 = median5(x41,x42,x43,x44,x45)\n",
    "            y5 = median5(x51,x52,x53,x54,x55)\n",
    "            \n",
    "            z = median5(y1,y2,y3,y4,y5)\n",
    "            out[i,j] = z\n",
    "        end\n",
    "    end\n",
    "    out\n",
    "end"
   ]
  },
  {
   "cell_type": "code",
   "execution_count": 5,
   "metadata": {},
   "outputs": [
    {
     "data": {
      "text/plain": [
       "BenchmarkTools.Trial: \n",
       "  memory estimate:  0 bytes\n",
       "  allocs estimate:  0\n",
       "  --------------\n",
       "  minimum time:     8.746 ms (0.00% GC)\n",
       "  median time:      10.786 ms (0.00% GC)\n",
       "  mean time:        11.430 ms (0.00% GC)\n",
       "  maximum time:     47.553 ms (0.00% GC)\n",
       "  --------------\n",
       "  samples:          437\n",
       "  evals/sample:     1"
      ]
     },
     "execution_count": 5,
     "metadata": {},
     "output_type": "execute_result"
    }
   ],
   "source": [
    "using BenchmarkTools\n",
    "imgs = randn(Float32, 1024,1024, 10)\n",
    "img = view(imgs, :,:,1)\n",
    "out = similar(img, size(img) .÷ 5)\n",
    "@benchmark medmedpool55!(out, img)"
   ]
  },
  {
   "cell_type": "code",
   "execution_count": 13,
   "metadata": {},
   "outputs": [
    {
     "data": {
      "text/plain": [
       "((1024, 1024, 10), (6,))"
      ]
     },
     "execution_count": 13,
     "metadata": {},
     "output_type": "execute_result"
    }
   ],
   "source": [
    "size(imgs),size([rand(T,N) for _ in 1:6])"
   ]
  },
  {
   "cell_type": "code",
   "execution_count": null,
   "metadata": {
    "collapsed": true,
    "scrolled": true
   },
   "outputs": [],
   "source": [
    "Base.@pure simdwidth(::Type{T}) where {T} = Int(256/8/sizeof(T))\n",
    "\n",
    "@inline function median3(a,b,c)\n",
    "    max(min(a,b), min(c,max(a,b)))\n",
    "end\n",
    "\n",
    "@inline function median5(a,b,c,d,e)\n",
    "    # https://stackoverflow.com/questions/480960/code-to-calculate-median-of-five-in-c-sharp\n",
    "    f=max(min(a,b),min(c,d))\n",
    "    g=min(max(a,b),max(c,d))\n",
    "    median3(e,f,g)\n",
    "end\n",
    "\n",
    "@noinline function median5_vectors!(out, a,b,c,d,e)\n",
    "    K = simdwidth(eltype(out))\n",
    "    N = length(out)\n",
    "    T = eltype(out)\n",
    "    V = Vec{K,T}\n",
    "    @assert mod(N,K) == 0\n",
    "\n",
    "    @inbounds for i in 1:K:N\n",
    "        va = vload(V,a, i)\n",
    "        vb = vload(V,b, i)\n",
    "        vc = vload(V,c, i)\n",
    "        vd = vload(V,d, i)\n",
    "        ve = vload(V,e, i)\n",
    "        vo = median5(va,vb,vc,vd,ve)\n",
    "        vstore(vo,out, i)\n",
    "    end\n",
    "    out\n",
    "end\n",
    "\n",
    "using BenchmarkTools\n",
    "T = UInt8\n",
    "T = Float32\n",
    "N = 10^6\n",
    "N = N ÷ simdwidth(T) * simdwidth(T)\n",
    "out, a,b,c,d,e = [rand(T,N) for _ in 1:6]\n",
    "@benchmark median5_vectors!(out, a,b,c,d,e)\n"
   ]
  },
  {
   "cell_type": "code",
   "execution_count": 47,
   "metadata": {},
   "outputs": [
    {
     "data": {
      "text/plain": [
       "16"
      ]
     },
     "execution_count": 47,
     "metadata": {},
     "output_type": "execute_result"
    }
   ],
   "source": [
    "simdwidth(Float16)"
   ]
  },
  {
   "cell_type": "markdown",
   "metadata": {},
   "source": [
    "### Test views"
   ]
  },
  {
   "cell_type": "code",
   "execution_count": 304,
   "metadata": {},
   "outputs": [
    {
     "data": {
      "text/plain": [
       "10×5 Array{Float64,2}:\n",
       "  2.0   2.0   2.0   2.0   2.0\n",
       "  3.0   3.0   3.0   3.0   3.0\n",
       "  4.0   4.0   4.0   4.0   4.0\n",
       "  5.0   5.0   5.0   5.0   5.0\n",
       "  6.0   6.0   6.0   6.0   6.0\n",
       "  7.0   7.0   7.0   7.0   7.0\n",
       "  8.0   8.0   8.0   8.0   8.0\n",
       "  9.0   9.0   9.0   9.0   9.0\n",
       " 10.0  10.0  10.0  10.0  10.0\n",
       " 11.0  11.0  11.0  11.0  11.0"
      ]
     },
     "execution_count": 304,
     "metadata": {},
     "output_type": "execute_result"
    }
   ],
   "source": [
    "X = ones(10,5)\n",
    "x = Array(1:10);\n",
    "X2 = x.+X"
   ]
  },
  {
   "cell_type": "code",
   "execution_count": 305,
   "metadata": {},
   "outputs": [
    {
     "data": {
      "text/plain": [
       "10×5 Array{Float64,2}:\n",
       "  4.0   4.0   4.0   4.0   4.0\n",
       "  6.0   6.0   6.0   6.0   6.0\n",
       "  8.0   8.0   8.0   8.0   8.0\n",
       " 10.0  10.0  10.0  10.0  10.0\n",
       " 12.0  12.0  12.0  12.0  12.0\n",
       " 14.0  14.0  14.0  14.0  14.0\n",
       " 16.0  16.0  16.0  16.0  16.0\n",
       " 18.0  18.0  18.0  18.0  18.0\n",
       " 20.0  20.0  20.0  20.0  20.0\n",
       " 22.0  22.0  22.0  22.0  22.0"
      ]
     },
     "execution_count": 305,
     "metadata": {},
     "output_type": "execute_result"
    }
   ],
   "source": [
    "v = view(X2,1,:)\n",
    "for i in 1:size(X2,1)\n",
    "    v = view(X2,i,:)\n",
    "    X2[i,:] += v\n",
    "end\n",
    "X2"
   ]
  },
  {
   "cell_type": "code",
   "execution_count": 302,
   "metadata": {},
   "outputs": [
    {
     "data": {
      "text/plain": [
       "10×5 Array{Float64,2}:\n",
       "  2.0   2.0   2.0   2.0   2.0\n",
       "  3.0   3.0   3.0   3.0   3.0\n",
       "  4.0   4.0   4.0   4.0   4.0\n",
       "  5.0   5.0   5.0   5.0   5.0\n",
       "  6.0   6.0   6.0   6.0   6.0\n",
       "  7.0   7.0   7.0   7.0   7.0\n",
       "  8.0   8.0   8.0   8.0   8.0\n",
       "  9.0   9.0   9.0   9.0   9.0\n",
       " 10.0  10.0  10.0  10.0  10.0\n",
       " 11.0  11.0  11.0  11.0  11.0"
      ]
     },
     "execution_count": 302,
     "metadata": {},
     "output_type": "execute_result"
    }
   ],
   "source": [
    "X = ones(10,5)\n",
    "x = Array(1:10);\n",
    "X2 = x.+X"
   ]
  },
  {
   "cell_type": "code",
   "execution_count": 303,
   "metadata": {},
   "outputs": [
    {
     "data": {
      "text/plain": [
       "10×5 Array{Float64,2}:\n",
       " 11.0  11.0  11.0  11.0  11.0\n",
       "  6.0   6.0   6.0   6.0   6.0\n",
       "  8.0   8.0   8.0   8.0   8.0\n",
       " 10.0  10.0  10.0  10.0  10.0\n",
       " 12.0  12.0  12.0  12.0  12.0\n",
       " 14.0  14.0  14.0  14.0  14.0\n",
       " 16.0  16.0  16.0  16.0  16.0\n",
       " 18.0  18.0  18.0  18.0  18.0\n",
       " 20.0  20.0  20.0  20.0  20.0\n",
       " 22.0  22.0  22.0  22.0  22.0"
      ]
     },
     "execution_count": 303,
     "metadata": {},
     "output_type": "execute_result"
    }
   ],
   "source": [
    "v = view(X2,1,:)\n",
    "for i in 1:size(X2,1)\n",
    "    v .= view(X2,i,:)\n",
    "    X2[i,:] += v\n",
    "end\n",
    "\n",
    "X2"
   ]
  },
  {
   "cell_type": "code",
   "execution_count": 325,
   "metadata": {},
   "outputs": [
    {
     "data": {
      "text/plain": [
       "10×5 Array{Float64,2}:\n",
       "  4.0   4.0   4.0   4.0   4.0\n",
       "  6.0   6.0   6.0   6.0   6.0\n",
       "  8.0   8.0   8.0   8.0   8.0\n",
       " 10.0  10.0  10.0  10.0  10.0\n",
       " 12.0  12.0  12.0  12.0  12.0\n",
       " 14.0  14.0  14.0  14.0  14.0\n",
       " 16.0  16.0  16.0  16.0  16.0\n",
       " 18.0  18.0  18.0  18.0  18.0\n",
       " 20.0  20.0  20.0  20.0  20.0\n",
       " 22.0  22.0  22.0  22.0  22.0"
      ]
     },
     "execution_count": 325,
     "metadata": {},
     "output_type": "execute_result"
    }
   ],
   "source": [
    "X = ones(10,5)\n",
    "x = Array(1:10);\n",
    "X2 = x.+X\n",
    "\n",
    "v = deepcopy(view(X2,1,:))\n",
    "for i in 1:size(X2,1)\n",
    "    v .= view(X2,i,:)\n",
    "    X2[i,:] += v\n",
    "end\n",
    "X2"
   ]
  },
  {
   "cell_type": "code",
   "execution_count": 324,
   "metadata": {},
   "outputs": [
    {
     "data": {
      "text/plain": [
       "10×5 Array{Float64,2}:\n",
       "  4.0   4.0   4.0   4.0   4.0\n",
       "  6.0   6.0   6.0   6.0   6.0\n",
       "  8.0   8.0   8.0   8.0   8.0\n",
       " 10.0  10.0  10.0  10.0  10.0\n",
       " 12.0  12.0  12.0  12.0  12.0\n",
       " 14.0  14.0  14.0  14.0  14.0\n",
       " 16.0  16.0  16.0  16.0  16.0\n",
       " 18.0  18.0  18.0  18.0  18.0\n",
       " 20.0  20.0  20.0  20.0  20.0\n",
       " 22.0  22.0  22.0  22.0  22.0"
      ]
     },
     "execution_count": 324,
     "metadata": {},
     "output_type": "execute_result"
    }
   ],
   "source": [
    "X = ones(10,5)\n",
    "x = Array(1:10);\n",
    "X2 = x.+X\n",
    "\n",
    "v = zeros(X2[1,:])\n",
    "for i in 1:size(X2,1)\n",
    "    v .= view(X2,i,:)\n",
    "    X2[i,:] += v\n",
    "end\n",
    "X2"
   ]
  },
  {
   "cell_type": "code",
   "execution_count": 315,
   "metadata": {},
   "outputs": [
    {
     "name": "stdout",
     "output_type": "stream",
     "text": [
      "  0.000056 seconds (37 allocations: 1.813 KiB)\n"
     ]
    },
    {
     "data": {
      "text/plain": [
       "5-element SubArray{Float64,1,Array{Float64,2},Tuple{Int64,Base.Slice{Base.OneTo{Int64}}},true}:\n",
       " 4.0\n",
       " 4.0\n",
       " 4.0\n",
       " 4.0\n",
       " 4.0"
      ]
     },
     "execution_count": 315,
     "metadata": {},
     "output_type": "execute_result"
    }
   ],
   "source": [
    "@time v = deepcopy(view(X2,1,:))"
   ]
  },
  {
   "cell_type": "code",
   "execution_count": null,
   "metadata": {
    "collapsed": true
   },
   "outputs": [],
   "source": [
    "@time v = deepcopy(view(X2,1,:))"
   ]
  },
  {
   "cell_type": "code",
   "execution_count": 313,
   "metadata": {},
   "outputs": [
    {
     "name": "stdout",
     "output_type": "stream",
     "text": [
      "  0.000043 seconds (21 allocations: 512 bytes)\n"
     ]
    },
    {
     "data": {
      "text/plain": [
       "5-element SubArray{Float64,1,Array{Float64,2},Tuple{Int64,Base.Slice{Base.OneTo{Int64}}},true}:\n",
       " 4.0\n",
       " 4.0\n",
       " 4.0\n",
       " 4.0\n",
       " 4.0"
      ]
     },
     "execution_count": 313,
     "metadata": {},
     "output_type": "execute_result"
    }
   ],
   "source": [
    "@time auxiliar = view(X2,1,:)"
   ]
  },
  {
   "cell_type": "code",
   "execution_count": null,
   "metadata": {
    "collapsed": true
   },
   "outputs": [],
   "source": []
  },
  {
   "cell_type": "code",
   "execution_count": null,
   "metadata": {
    "collapsed": true
   },
   "outputs": [],
   "source": []
  }
 ],
 "metadata": {
  "kernelspec": {
   "display_name": "Julia 1.8.0",
   "language": "julia",
   "name": "julia-1.8"
  },
  "language_info": {
   "file_extension": ".jl",
   "mimetype": "application/julia",
   "name": "julia",
   "version": "1.8.0"
  },
  "toc": {
   "base_numbering": 1,
   "nav_menu": {},
   "number_sections": true,
   "sideBar": true,
   "skip_h1_title": false,
   "title_cell": "Table of Contents",
   "title_sidebar": "Contents",
   "toc_cell": false,
   "toc_position": {},
   "toc_section_display": true,
   "toc_window_display": false
  }
 },
 "nbformat": 4,
 "nbformat_minor": 2
}
