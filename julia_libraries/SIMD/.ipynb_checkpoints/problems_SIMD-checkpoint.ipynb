{
 "cells": [
  {
   "cell_type": "code",
   "execution_count": 9,
   "id": "a54fb16d",
   "metadata": {
    "ExecuteTime": {
     "end_time": "2022-09-06T21:45:54.330000+02:00",
     "start_time": "2022-09-06T19:45:53.922Z"
    }
   },
   "outputs": [],
   "source": [
    "using SIMD"
   ]
  },
  {
   "cell_type": "code",
   "execution_count": 43,
   "id": "8c4f8549",
   "metadata": {
    "ExecuteTime": {
     "end_time": "2022-09-06T22:00:15.249000+02:00",
     "start_time": "2022-09-06T20:00:00.833Z"
    }
   },
   "outputs": [
    {
     "data": {
      "text/plain": [
       "BenchmarkTools.Trial: 374 samples with 1 evaluation.\n",
       " Range \u001b[90m(\u001b[39m\u001b[36m\u001b[1mmin\u001b[22m\u001b[39m … \u001b[35mmax\u001b[39m\u001b[90m):  \u001b[39m\u001b[36m\u001b[1m10.479 ms\u001b[22m\u001b[39m … \u001b[35m46.009 ms\u001b[39m  \u001b[90m┊\u001b[39m GC \u001b[90m(\u001b[39mmin … max\u001b[90m): \u001b[39m0.00% … 68.15%\n",
       " Time  \u001b[90m(\u001b[39m\u001b[34m\u001b[1mmedian\u001b[22m\u001b[39m\u001b[90m):     \u001b[39m\u001b[34m\u001b[1m13.209 ms              \u001b[22m\u001b[39m\u001b[90m┊\u001b[39m GC \u001b[90m(\u001b[39mmedian\u001b[90m):    \u001b[39m0.00%\n",
       " Time  \u001b[90m(\u001b[39m\u001b[32m\u001b[1mmean\u001b[22m\u001b[39m ± \u001b[32mσ\u001b[39m\u001b[90m):   \u001b[39m\u001b[32m\u001b[1m13.358 ms\u001b[22m\u001b[39m ± \u001b[32m 2.984 ms\u001b[39m  \u001b[90m┊\u001b[39m GC \u001b[90m(\u001b[39mmean ± σ\u001b[90m):  \u001b[39m1.80% ±  6.13%\n",
       "\n",
       "  \u001b[39m \u001b[39m \u001b[39m \u001b[39m \u001b[39m \u001b[39m \u001b[39m \u001b[39m \u001b[39m \u001b[39m \u001b[39m \u001b[39m▇\u001b[39m▇\u001b[39m▅\u001b[39m▃\u001b[39m \u001b[39m▂\u001b[39m \u001b[39m \u001b[39m \u001b[39m \u001b[39m \u001b[39m \u001b[39m \u001b[39m \u001b[39m▆\u001b[39m▁\u001b[34m▂\u001b[39m\u001b[39m▄\u001b[32m▅\u001b[39m\u001b[39m▂\u001b[39m▃\u001b[39m▂\u001b[39m█\u001b[39m \u001b[39m \u001b[39m▂\u001b[39m \u001b[39m \u001b[39m \u001b[39m \u001b[39m \u001b[39m \u001b[39m \u001b[39m \u001b[39m \u001b[39m \u001b[39m \u001b[39m \u001b[39m \u001b[39m \u001b[39m \u001b[39m \u001b[39m \u001b[39m \u001b[39m \u001b[39m \u001b[39m \u001b[39m \u001b[39m \u001b[39m \n",
       "  \u001b[39m▄\u001b[39m▃\u001b[39m▁\u001b[39m▅\u001b[39m▃\u001b[39m▆\u001b[39m▁\u001b[39m▁\u001b[39m▃\u001b[39m▃\u001b[39m▅\u001b[39m█\u001b[39m█\u001b[39m█\u001b[39m█\u001b[39m█\u001b[39m█\u001b[39m▇\u001b[39m▃\u001b[39m▆\u001b[39m▆\u001b[39m▃\u001b[39m█\u001b[39m█\u001b[39m█\u001b[39m█\u001b[39m█\u001b[34m█\u001b[39m\u001b[39m█\u001b[32m█\u001b[39m\u001b[39m█\u001b[39m█\u001b[39m█\u001b[39m█\u001b[39m█\u001b[39m▄\u001b[39m█\u001b[39m█\u001b[39m█\u001b[39m▆\u001b[39m▅\u001b[39m▄\u001b[39m▇\u001b[39m▆\u001b[39m▄\u001b[39m▃\u001b[39m▃\u001b[39m▃\u001b[39m▆\u001b[39m▄\u001b[39m▃\u001b[39m▁\u001b[39m▁\u001b[39m▃\u001b[39m▃\u001b[39m▃\u001b[39m▃\u001b[39m▁\u001b[39m▃\u001b[39m \u001b[39m▄\n",
       "  10.5 ms\u001b[90m         Histogram: frequency by time\u001b[39m        16.4 ms \u001b[0m\u001b[1m<\u001b[22m\n",
       "\n",
       " Memory estimate\u001b[90m: \u001b[39m\u001b[33m3.81 MiB\u001b[39m, allocs estimate\u001b[90m: \u001b[39m\u001b[33m2\u001b[39m."
      ]
     },
     "execution_count": 43,
     "metadata": {},
     "output_type": "execute_result"
    }
   ],
   "source": [
    "using BenchmarkTools\n",
    "using LoopVectorization\n",
    "\n",
    "n_clusters = 32\n",
    "n_examples = 1_000_000\n",
    "n_features = 128\n",
    "\n",
    "PQ = Int8.(rand(1:n_clusters, n_features, n_examples))   # PQcodes\n",
    "y =  Int8.(rand(1:n_clusters, n_features));\n",
    "\n",
    "\n",
    "@inline function abs_dist(y::Array{T}, X::Array{T}, j) where T\n",
    "    res = Int32(0)\n",
    "    @inbounds @simd  for k in eachindex(y)\n",
    "        res += abs(X[k, j] - y[k])\n",
    "    end\n",
    "    return res\n",
    "end\n",
    "\n",
    "function linear_scann_exact(dist, query, X)\n",
    "\n",
    "    n_features, n_examples = size(X)\n",
    "    distances = Array{Int32}(undef, n_examples)\n",
    "    \n",
    "    @inbounds for j in 1:n_examples\n",
    "        distances[j] = dist(query, X, j)    \n",
    "    end\n",
    "    return distances\n",
    "end\n",
    "\n",
    "PQ = Int8.(rand(1:n_clusters, n_features, n_examples))   # PQcodes\n",
    "y =  Int8.(rand(1:n_clusters, n_features));\n",
    "PQcols = [Array(x) for x in eachcol(PQ)];\n",
    "\n",
    "@benchmark linear_scann_exact(abs_dist, y, PQ)"
   ]
  },
  {
   "cell_type": "code",
   "execution_count": 44,
   "id": "0c1393f8",
   "metadata": {
    "ExecuteTime": {
     "end_time": "2022-09-06T22:00:16.365000+02:00",
     "start_time": "2022-09-06T20:00:03.217Z"
    }
   },
   "outputs": [],
   "source": [
    "PQ = Int8.(rand(1:n_clusters, n_features, n_examples))   # PQcodes\n",
    "y =  Int8.(rand(1:n_clusters, n_features));\n",
    "PQcols = [Array(x) for x in eachcol(PQ)];"
   ]
  },
  {
   "cell_type": "code",
   "execution_count": 45,
   "id": "04a9c58c",
   "metadata": {
    "ExecuteTime": {
     "end_time": "2022-09-06T22:00:16.368000+02:00",
     "start_time": "2022-09-06T20:00:05.218Z"
    }
   },
   "outputs": [
    {
     "name": "stdout",
     "output_type": "stream",
     "text": [
      "abs(x_vec - y_vec) = <128 x Int8>[3, 6, 6, 13, 11, 0, 5, 1, 15, 1, 4, 16, 0, 2, 8, 18, 2, 7, 15, 19, 5, 22, 2, 1, 16, 3, 7, 0, 14, 8, 17, 17, 5, 7, 16, 16, 11, 2, 4, 20, 15, 19, 2, 2, 2, 11, 10, 14, 7, 10, 6, 5, 8, 9, 13, 16, 3, 7, 14, 11, 15, 5, 22, 10, 10, 13, 13, 9, 6, 24, 3, 4, 22, 5, 25, 7, 12, 5, 17, 4, 20, 12, 8, 18, 9, 14, 4, 8, 25, 11, 5, 4, 8, 23, 9, 2, 4, 4, 22, 10, 26, 3, 11, 27, 1, 12, 17, 16, 20, 8, 2, 3, 4, 25, 26, 0, 7, 14, 25, 13, 3, 23, 1, 9, 2, 4, 7, 8]\n",
      "sum(abs(x_vec - y_vec)) = 17\n"
     ]
    },
    {
     "data": {
      "text/plain": [
       "17"
      ]
     },
     "execution_count": 45,
     "metadata": {},
     "output_type": "execute_result"
    }
   ],
   "source": [
    "x_vec = vload(Vec{128,Int8}, PQcols[1], 1);\n",
    "y_vec = vload(Vec{128,Int8}, y, 1)\n",
    "\n",
    "@show abs(x_vec - y_vec)\n",
    "@show sum(abs(x_vec - y_vec))"
   ]
  },
  {
   "cell_type": "code",
   "execution_count": 49,
   "id": "1e770443",
   "metadata": {
    "ExecuteTime": {
     "end_time": "2022-09-06T22:02:41.339000+02:00",
     "start_time": "2022-09-06T20:02:39.867Z"
    }
   },
   "outputs": [],
   "source": [
    "PQ_16 = Int16.(rand(1:n_clusters, n_features, n_examples))   # PQcodes\n",
    "y_16 =  Int16.(rand(1:n_clusters, n_features));\n",
    "PQcols_16 = [Array(x) for x in eachcol(PQ_16)];"
   ]
  },
  {
   "cell_type": "code",
   "execution_count": 50,
   "id": "75580629",
   "metadata": {
    "ExecuteTime": {
     "end_time": "2022-09-06T22:02:41.343000+02:00",
     "start_time": "2022-09-06T20:02:40.287Z"
    }
   },
   "outputs": [
    {
     "name": "stdout",
     "output_type": "stream",
     "text": [
      "abs(x_vec - y_vec) = <128 x Int16>[14, 9, 13, 3, 22, 18, 11, 1, 12, 0, 0, 10, 4, 18, 17, 19, 9, 3, 26, 1, 3, 4, 1, 5, 26, 9, 6, 1, 10, 20, 9, 11, 19, 26, 3, 6, 5, 19, 2, 10, 11, 7, 22, 19, 13, 3, 4, 4, 4, 9, 17, 5, 1, 1, 0, 21, 2, 1, 23, 26, 0, 7, 14, 13, 0, 11, 13, 1, 10, 21, 2, 6, 3, 18, 8, 23, 7, 11, 6, 4, 8, 6, 12, 6, 4, 3, 19, 21, 20, 19, 10, 4, 17, 14, 17, 24, 12, 6, 8, 1, 10, 3, 5, 1, 9, 4, 1, 7, 20, 4, 28, 0, 21, 11, 30, 15, 9, 5, 20, 10, 5, 20, 12, 18, 9, 5, 8, 1]\n",
      "sum(abs(x_vec - y_vec)) = 1298\n"
     ]
    },
    {
     "data": {
      "text/plain": [
       "1298"
      ]
     },
     "execution_count": 50,
     "metadata": {},
     "output_type": "execute_result"
    }
   ],
   "source": [
    "x_vec = vload(Vec{128,Int16}, PQcols_16[1], 1);\n",
    "y_vec = vload(Vec{128,Int16}, y, 1)\n",
    "\n",
    "@show abs(x_vec - y_vec)\n",
    "@show sum(abs(x_vec - y_vec))"
   ]
  },
  {
   "cell_type": "code",
   "execution_count": 51,
   "id": "73186c8c",
   "metadata": {
    "ExecuteTime": {
     "end_time": "2022-09-06T22:02:42.184000+02:00",
     "start_time": "2022-09-06T20:02:42.179Z"
    }
   },
   "outputs": [
    {
     "data": {
      "text/plain": [
       "abs_dist_vec (generic function with 1 method)"
      ]
     },
     "execution_count": 51,
     "metadata": {},
     "output_type": "execute_result"
    }
   ],
   "source": [
    "\n",
    "@inline function abs_dist_vec(y, X, j) where T\n",
    "\n",
    "    x_vec = vload(Vec{128,Int16}, X[j], 1);\n",
    "    return sum(abs(x_vec - y_vec))\n",
    "end"
   ]
  },
  {
   "cell_type": "code",
   "execution_count": 54,
   "id": "d61792e3",
   "metadata": {
    "ExecuteTime": {
     "end_time": "2022-09-06T22:03:02.858000+02:00",
     "start_time": "2022-09-06T20:02:57.488Z"
    }
   },
   "outputs": [
    {
     "data": {
      "text/plain": [
       "BenchmarkTools.Trial: 10000 samples with 939 evaluations.\n",
       " Range \u001b[90m(\u001b[39m\u001b[36m\u001b[1mmin\u001b[22m\u001b[39m … \u001b[35mmax\u001b[39m\u001b[90m):  \u001b[39m\u001b[36m\u001b[1m 99.111 ns\u001b[22m\u001b[39m … \u001b[35m129.707 μs\u001b[39m  \u001b[90m┊\u001b[39m GC \u001b[90m(\u001b[39mmin … max\u001b[90m): \u001b[39m 0.00% … 99.84%\n",
       " Time  \u001b[90m(\u001b[39m\u001b[34m\u001b[1mmedian\u001b[22m\u001b[39m\u001b[90m):     \u001b[39m\u001b[34m\u001b[1m152.240 ns               \u001b[22m\u001b[39m\u001b[90m┊\u001b[39m GC \u001b[90m(\u001b[39mmedian\u001b[90m):    \u001b[39m 0.00%\n",
       " Time  \u001b[90m(\u001b[39m\u001b[32m\u001b[1mmean\u001b[22m\u001b[39m ± \u001b[32mσ\u001b[39m\u001b[90m):   \u001b[39m\u001b[32m\u001b[1m268.637 ns\u001b[22m\u001b[39m ± \u001b[32m  3.397 μs\u001b[39m  \u001b[90m┊\u001b[39m GC \u001b[90m(\u001b[39mmean ± σ\u001b[90m):  \u001b[39m37.79% ±  2.99%\n",
       "\n",
       "  \u001b[39m▄\u001b[39m \u001b[39m▂\u001b[39m \u001b[39m \u001b[39m \u001b[39m \u001b[39m \u001b[39m \u001b[39m \u001b[39m█\u001b[34m▇\u001b[39m\u001b[39m▄\u001b[39m▄\u001b[39m▆\u001b[39m▃\u001b[39m▁\u001b[39m \u001b[39m \u001b[39m \u001b[39m \u001b[39m \u001b[39m \u001b[39m \u001b[39m \u001b[39m \u001b[39m \u001b[39m \u001b[39m \u001b[39m \u001b[39m \u001b[39m \u001b[39m \u001b[39m \u001b[39m \u001b[32m \u001b[39m\u001b[39m \u001b[39m \u001b[39m \u001b[39m \u001b[39m \u001b[39m \u001b[39m \u001b[39m \u001b[39m \u001b[39m \u001b[39m \u001b[39m \u001b[39m \u001b[39m \u001b[39m \u001b[39m \u001b[39m \u001b[39m \u001b[39m▁\u001b[39m▁\u001b[39m▁\u001b[39m \u001b[39m \u001b[39m \u001b[39m \u001b[39m \u001b[39m▂\n",
       "  \u001b[39m█\u001b[39m█\u001b[39m█\u001b[39m▆\u001b[39m▅\u001b[39m▅\u001b[39m▅\u001b[39m▄\u001b[39m▅\u001b[39m▅\u001b[39m█\u001b[34m█\u001b[39m\u001b[39m█\u001b[39m█\u001b[39m█\u001b[39m█\u001b[39m█\u001b[39m▇\u001b[39m█\u001b[39m█\u001b[39m█\u001b[39m▇\u001b[39m▆\u001b[39m▆\u001b[39m▅\u001b[39m▆\u001b[39m█\u001b[39m█\u001b[39m▇\u001b[39m▇\u001b[39m▇\u001b[39m▆\u001b[39m▆\u001b[39m▆\u001b[39m▆\u001b[32m▆\u001b[39m\u001b[39m▇\u001b[39m▅\u001b[39m▅\u001b[39m▅\u001b[39m▅\u001b[39m▅\u001b[39m▆\u001b[39m▄\u001b[39m▆\u001b[39m▅\u001b[39m▅\u001b[39m▅\u001b[39m▁\u001b[39m▄\u001b[39m▃\u001b[39m▇\u001b[39m▇\u001b[39m█\u001b[39m█\u001b[39m█\u001b[39m█\u001b[39m█\u001b[39m█\u001b[39m▇\u001b[39m█\u001b[39m \u001b[39m█\n",
       "  99.1 ns\u001b[90m       \u001b[39m\u001b[90mHistogram: \u001b[39m\u001b[90m\u001b[1mlog(\u001b[22m\u001b[39m\u001b[90mfrequency\u001b[39m\u001b[90m\u001b[1m)\u001b[22m\u001b[39m\u001b[90m by time\u001b[39m        392 ns \u001b[0m\u001b[1m<\u001b[22m\n",
       "\n",
       " Memory estimate\u001b[90m: \u001b[39m\u001b[33m832 bytes\u001b[39m, allocs estimate\u001b[90m: \u001b[39m\u001b[33m4\u001b[39m."
      ]
     },
     "execution_count": 54,
     "metadata": {},
     "output_type": "execute_result"
    }
   ],
   "source": [
    "y_vec = vload(Vec{128,Int16}, y, 1)\n",
    "\n",
    "@benchmark abs_dist_vec(y_vec, PQcols_16, 1)"
   ]
  },
  {
   "cell_type": "code",
   "execution_count": 66,
   "id": "e5e8032c",
   "metadata": {
    "ExecuteTime": {
     "end_time": "2022-09-06T22:06:42.614000+02:00",
     "start_time": "2022-09-06T20:06:40.741Z"
    }
   },
   "outputs": [
    {
     "data": {
      "text/plain": [
       "BenchmarkTools.Trial: 10000 samples with 999 evaluations.\n",
       " Range \u001b[90m(\u001b[39m\u001b[36m\u001b[1mmin\u001b[22m\u001b[39m … \u001b[35mmax\u001b[39m\u001b[90m):  \u001b[39m\u001b[36m\u001b[1m 9.571 ns\u001b[22m\u001b[39m … \u001b[35m171.335 ns\u001b[39m  \u001b[90m┊\u001b[39m GC \u001b[90m(\u001b[39mmin … max\u001b[90m): \u001b[39m0.00% … 0.00%\n",
       " Time  \u001b[90m(\u001b[39m\u001b[34m\u001b[1mmedian\u001b[22m\u001b[39m\u001b[90m):     \u001b[39m\u001b[34m\u001b[1m 9.651 ns               \u001b[22m\u001b[39m\u001b[90m┊\u001b[39m GC \u001b[90m(\u001b[39mmedian\u001b[90m):    \u001b[39m0.00%\n",
       " Time  \u001b[90m(\u001b[39m\u001b[32m\u001b[1mmean\u001b[22m\u001b[39m ± \u001b[32mσ\u001b[39m\u001b[90m):   \u001b[39m\u001b[32m\u001b[1m10.195 ns\u001b[22m\u001b[39m ± \u001b[32m  3.516 ns\u001b[39m  \u001b[90m┊\u001b[39m GC \u001b[90m(\u001b[39mmean ± σ\u001b[90m):  \u001b[39m0.00% ± 0.00%\n",
       "\n",
       "  \u001b[39m▆\u001b[39m█\u001b[34m▄\u001b[39m\u001b[39m▁\u001b[39m▁\u001b[39m \u001b[39m \u001b[39m \u001b[39m \u001b[39m \u001b[39m \u001b[39m \u001b[39m \u001b[39m \u001b[32m \u001b[39m\u001b[39m \u001b[39m \u001b[39m \u001b[39m \u001b[39m▃\u001b[39m▇\u001b[39m▅\u001b[39m▁\u001b[39m \u001b[39m \u001b[39m \u001b[39m \u001b[39m \u001b[39m \u001b[39m \u001b[39m \u001b[39m \u001b[39m \u001b[39m \u001b[39m \u001b[39m \u001b[39m \u001b[39m \u001b[39m \u001b[39m \u001b[39m \u001b[39m \u001b[39m \u001b[39m \u001b[39m \u001b[39m \u001b[39m \u001b[39m \u001b[39m \u001b[39m \u001b[39m \u001b[39m \u001b[39m \u001b[39m \u001b[39m \u001b[39m \u001b[39m \u001b[39m \u001b[39m \u001b[39m \u001b[39m \u001b[39m▂\n",
       "  \u001b[39m█\u001b[39m█\u001b[34m█\u001b[39m\u001b[39m█\u001b[39m█\u001b[39m▇\u001b[39m▅\u001b[39m▄\u001b[39m▅\u001b[39m▅\u001b[39m▄\u001b[39m▄\u001b[39m▁\u001b[39m▁\u001b[32m▁\u001b[39m\u001b[39m▁\u001b[39m▁\u001b[39m▁\u001b[39m▁\u001b[39m█\u001b[39m█\u001b[39m█\u001b[39m█\u001b[39m█\u001b[39m▇\u001b[39m▅\u001b[39m▃\u001b[39m▃\u001b[39m▁\u001b[39m▅\u001b[39m▃\u001b[39m▁\u001b[39m▃\u001b[39m▁\u001b[39m▁\u001b[39m▁\u001b[39m▄\u001b[39m▁\u001b[39m▁\u001b[39m▁\u001b[39m▁\u001b[39m▁\u001b[39m▁\u001b[39m▁\u001b[39m▁\u001b[39m▃\u001b[39m▃\u001b[39m▃\u001b[39m▁\u001b[39m▁\u001b[39m▁\u001b[39m▁\u001b[39m▄\u001b[39m▄\u001b[39m▁\u001b[39m▁\u001b[39m▃\u001b[39m▁\u001b[39m▁\u001b[39m▃\u001b[39m \u001b[39m█\n",
       "  9.57 ns\u001b[90m       \u001b[39m\u001b[90mHistogram: \u001b[39m\u001b[90m\u001b[1mlog(\u001b[22m\u001b[39m\u001b[90mfrequency\u001b[39m\u001b[90m\u001b[1m)\u001b[22m\u001b[39m\u001b[90m by time\u001b[39m      12.3 ns \u001b[0m\u001b[1m<\u001b[22m\n",
       "\n",
       " Memory estimate\u001b[90m: \u001b[39m\u001b[33m0 bytes\u001b[39m, allocs estimate\u001b[90m: \u001b[39m\u001b[33m0\u001b[39m."
      ]
     },
     "execution_count": 66,
     "metadata": {},
     "output_type": "execute_result"
    }
   ],
   "source": [
    "@benchmark abs_dist($y, $PQ, 2) "
   ]
  },
  {
   "cell_type": "code",
   "execution_count": 62,
   "id": "c6bdacb8",
   "metadata": {
    "ExecuteTime": {
     "end_time": "2022-09-06T22:06:03.514000+02:00",
     "start_time": "2022-09-06T20:06:03.480Z"
    }
   },
   "outputs": [
    {
     "name": "stdout",
     "output_type": "stream",
     "text": [
      "abs_dist(y, PQ, 1) = 1324\n",
      "abs_dist_vec(y_vec, PQcols_16, 1) = 1298\n"
     ]
    },
    {
     "data": {
      "text/plain": [
       "1298"
      ]
     },
     "execution_count": 62,
     "metadata": {},
     "output_type": "execute_result"
    }
   ],
   "source": [
    "@show abs_dist(y, PQ, 1) \n",
    "@show abs_dist_vec(y_vec, PQcols_16, 1)"
   ]
  },
  {
   "cell_type": "code",
   "execution_count": null,
   "id": "e24ca4f7",
   "metadata": {},
   "outputs": [],
   "source": []
  },
  {
   "cell_type": "code",
   "execution_count": null,
   "id": "33b893b3",
   "metadata": {},
   "outputs": [],
   "source": []
  },
  {
   "cell_type": "code",
   "execution_count": null,
   "id": "58393153",
   "metadata": {},
   "outputs": [],
   "source": [
    "@inline function abs_dist(y::Array{T}, X::Array{T}, j) where T\n",
    "    res = Int32(0)\n",
    "    @inbounds @simd  for k in eachindex(y)\n",
    "        res += abs(X[k, j] - y[k])\n",
    "    end\n",
    "    return res\n",
    "end\n",
    "\n"
   ]
  },
  {
   "cell_type": "code",
   "execution_count": null,
   "id": "0fd0cf7a",
   "metadata": {},
   "outputs": [],
   "source": []
  },
  {
   "cell_type": "code",
   "execution_count": null,
   "id": "52f8029d",
   "metadata": {},
   "outputs": [],
   "source": []
  },
  {
   "cell_type": "markdown",
   "id": "1b59da3e",
   "metadata": {},
   "source": [
    "## Problem: vgather does not work in int32"
   ]
  },
  {
   "cell_type": "code",
   "execution_count": 3,
   "id": "09e1b023",
   "metadata": {
    "ExecuteTime": {
     "end_time": "2022-09-06T21:43:32.536000+02:00",
     "start_time": "2022-09-06T19:43:32.531Z"
    }
   },
   "outputs": [
    {
     "data": {
      "text/plain": [
       "<4 x Float64>[0.8823653383057072, 0.8665864500605303, 0.2618289858895918, 0.20873656011552566]"
      ]
     },
     "execution_count": 3,
     "metadata": {},
     "output_type": "execute_result"
    }
   ],
   "source": [
    "reals = rand(32);\n",
    "idx = rand(1:32, 1000);\n",
    "idx_slice_int64 = vload(Vec{4,Int64}, idx, 1)\n",
    "vgather(reals, idx_slice_int64)"
   ]
  },
  {
   "cell_type": "code",
   "execution_count": 8,
   "id": "5eeb6016",
   "metadata": {
    "ExecuteTime": {
     "end_time": "2022-09-06T21:45:51.562000+02:00",
     "start_time": "2022-09-06T19:45:51.557Z"
    }
   },
   "outputs": [
    {
     "data": {
      "text/plain": [
       "<4 x Int32>[23, 19, 22, 25]"
      ]
     },
     "execution_count": 8,
     "metadata": {},
     "output_type": "execute_result"
    }
   ],
   "source": [
    "reals = rand(32);\n",
    "idx = Int32.(rand(1:32, 1000));\n",
    "idx_slice_int32 = vload(Vec{4,Int32}, idx, 1)\n",
    "# This does not work\n",
    "#vgather(reals, idx_slice_int32)"
   ]
  },
  {
   "cell_type": "code",
   "execution_count": null,
   "id": "08a6b14c",
   "metadata": {},
   "outputs": [],
   "source": []
  },
  {
   "cell_type": "code",
   "execution_count": null,
   "id": "523ca633",
   "metadata": {},
   "outputs": [],
   "source": []
  },
  {
   "cell_type": "code",
   "execution_count": null,
   "id": "ace642cf",
   "metadata": {},
   "outputs": [],
   "source": []
  },
  {
   "cell_type": "code",
   "execution_count": null,
   "id": "76186f37",
   "metadata": {},
   "outputs": [],
   "source": []
  },
  {
   "cell_type": "code",
   "execution_count": null,
   "id": "d33f6653",
   "metadata": {},
   "outputs": [],
   "source": []
  },
  {
   "cell_type": "code",
   "execution_count": 5,
   "id": "6dfb8310",
   "metadata": {
    "ExecuteTime": {
     "end_time": "2022-09-06T21:45:27.327000+02:00",
     "start_time": "2022-09-06T19:45:21.765Z"
    }
   },
   "outputs": [
    {
     "data": {
      "text/plain": [
       "lsh (generic function with 1 method)"
      ]
     },
     "execution_count": 5,
     "metadata": {},
     "output_type": "execute_result"
    }
   ],
   "source": [
    "using BenchmarkTools\n",
    "using LoopVectorization\n",
    "\n",
    "n_clusters = 32\n",
    "n_examples = 1_000_000\n",
    "n_features = 128\n",
    "\n",
    "T = Float32.(rand(n_clusters, n_features));                   # ADC table\n",
    "PQ = Int8.(rand(1:n_clusters, n_features, n_examples))    # PQcodes\n",
    "y = Float32.(rand(n_features));\n",
    "\n",
    "function lsh(PQ, T)\n",
    "    \n",
    "    n_features, n_examples = size(PQ)\n",
    "    d = zeros(eltype(T), n_examples)\n",
    "    \n",
    "    @inbounds @fastmath for n in 1:n_examples\n",
    "        res = zero(eltype(T))\n",
    "\n",
    "        for j in 1:n_features\n",
    "            res += T[PQ[j,n],j]    \n",
    "        end\n",
    "        d[n] = res\n",
    "    end\n",
    "    return d\n",
    "end\n",
    "\n"
   ]
  },
  {
   "cell_type": "code",
   "execution_count": 6,
   "id": "f641e978",
   "metadata": {
    "ExecuteTime": {
     "end_time": "2022-09-02T15:23:21.392000+02:00",
     "start_time": "2022-09-02T13:23:02.124Z"
    }
   },
   "outputs": [
    {
     "data": {
      "text/plain": [
       "BenchmarkTools.Trial: 107 samples with 1 evaluation.\n",
       " Range \u001b[90m(\u001b[39m\u001b[36m\u001b[1mmin\u001b[22m\u001b[39m … \u001b[35mmax\u001b[39m\u001b[90m):  \u001b[39m\u001b[36m\u001b[1m40.741 ms\u001b[22m\u001b[39m … \u001b[35m57.702 ms\u001b[39m  \u001b[90m┊\u001b[39m GC \u001b[90m(\u001b[39mmin … max\u001b[90m): \u001b[39m0.00% … 12.99%\n",
       " Time  \u001b[90m(\u001b[39m\u001b[34m\u001b[1mmedian\u001b[22m\u001b[39m\u001b[90m):     \u001b[39m\u001b[34m\u001b[1m47.008 ms              \u001b[22m\u001b[39m\u001b[90m┊\u001b[39m GC \u001b[90m(\u001b[39mmedian\u001b[90m):    \u001b[39m0.00%\n",
       " Time  \u001b[90m(\u001b[39m\u001b[32m\u001b[1mmean\u001b[22m\u001b[39m ± \u001b[32mσ\u001b[39m\u001b[90m):   \u001b[39m\u001b[32m\u001b[1m46.982 ms\u001b[22m\u001b[39m ± \u001b[32m 2.794 ms\u001b[39m  \u001b[90m┊\u001b[39m GC \u001b[90m(\u001b[39mmean ± σ\u001b[90m):  \u001b[39m0.56% ±  2.41%\n",
       "\n",
       "  \u001b[39m \u001b[39m \u001b[39m \u001b[39m \u001b[39m \u001b[39m▃\u001b[39m \u001b[39m \u001b[39m \u001b[39m \u001b[39m \u001b[39m \u001b[39m \u001b[39m \u001b[39m \u001b[39m \u001b[39m▃\u001b[39m▆\u001b[39m▁\u001b[39m \u001b[39m \u001b[39m▆\u001b[39m▆\u001b[39m▁\u001b[34m▆\u001b[39m\u001b[39m▁\u001b[39m▃\u001b[39m█\u001b[39m \u001b[39m \u001b[39m▆\u001b[39m \u001b[39m▁\u001b[39m \u001b[39m \u001b[39m \u001b[39m \u001b[39m \u001b[39m \u001b[39m \u001b[39m \u001b[39m \u001b[39m \u001b[39m \u001b[39m \u001b[39m \u001b[39m \u001b[39m \u001b[39m \u001b[39m \u001b[39m \u001b[39m \u001b[39m \u001b[39m \u001b[39m \u001b[39m \u001b[39m \u001b[39m \u001b[39m \u001b[39m \u001b[39m \n",
       "  \u001b[39m▄\u001b[39m▁\u001b[39m▄\u001b[39m▄\u001b[39m▁\u001b[39m█\u001b[39m▁\u001b[39m▄\u001b[39m▄\u001b[39m▄\u001b[39m▄\u001b[39m▁\u001b[39m▄\u001b[39m▄\u001b[39m▁\u001b[39m▇\u001b[39m█\u001b[39m█\u001b[39m█\u001b[39m▄\u001b[39m▆\u001b[39m█\u001b[39m█\u001b[39m█\u001b[34m█\u001b[39m\u001b[39m█\u001b[39m█\u001b[39m█\u001b[39m▄\u001b[39m▆\u001b[39m█\u001b[39m▇\u001b[39m█\u001b[39m▆\u001b[39m▄\u001b[39m▄\u001b[39m▄\u001b[39m▁\u001b[39m▄\u001b[39m▄\u001b[39m▁\u001b[39m▁\u001b[39m▄\u001b[39m▁\u001b[39m▄\u001b[39m▁\u001b[39m▁\u001b[39m▁\u001b[39m▁\u001b[39m▁\u001b[39m▁\u001b[39m▁\u001b[39m▁\u001b[39m▁\u001b[39m▁\u001b[39m▁\u001b[39m▁\u001b[39m▄\u001b[39m▄\u001b[39m \u001b[39m▄\n",
       "  40.7 ms\u001b[90m         Histogram: frequency by time\u001b[39m        56.2 ms \u001b[0m\u001b[1m<\u001b[22m\n",
       "\n",
       " Memory estimate\u001b[90m: \u001b[39m\u001b[33m3.81 MiB\u001b[39m, allocs estimate\u001b[90m: \u001b[39m\u001b[33m2\u001b[39m."
      ]
     },
     "execution_count": 6,
     "metadata": {},
     "output_type": "execute_result"
    }
   ],
   "source": [
    "@benchmark lsh($PQ, $T)"
   ]
  },
  {
   "cell_type": "code",
   "execution_count": 17,
   "id": "91a97fca",
   "metadata": {
    "ExecuteTime": {
     "end_time": "2022-09-02T15:26:12.090000+02:00",
     "start_time": "2022-09-02T13:26:10.837Z"
    }
   },
   "outputs": [
    {
     "name": "stderr",
     "output_type": "stream",
     "text": [
      "WARNING: redefinition of constant T. This may fail, cause incorrect answers, or produce other errors.\n",
      "WARNING: redefinition of constant PQ. This may fail, cause incorrect answers, or produce other errors.\n",
      "WARNING: redefinition of constant y. This may fail, cause incorrect answers, or produce other errors.\n"
     ]
    },
    {
     "data": {
      "text/plain": [
       "lsh (generic function with 1 method)"
      ]
     },
     "execution_count": 17,
     "metadata": {},
     "output_type": "execute_result"
    }
   ],
   "source": [
    "\n",
    "n_clusters = 32\n",
    "n_examples = 1_000_000\n",
    "n_features = 128\n",
    "\n",
    "T = Float32.(rand(n_clusters, n_features));                   # ADC table\n",
    "PQ = Int8.(rand(1:n_clusters, n_features, n_examples))    # PQcodes\n",
    "y = Float32.(rand(n_features));\n",
    "\n",
    "function lsh(PQ, T)\n",
    "    \n",
    "    n_features, n_examples = size(PQ)\n",
    "    d = zeros(eltype(T), n_examples)\n",
    "    \n",
    "    @inbounds @fastmath for n in 1:n_examples\n",
    "        res = zero(eltype(T))\n",
    "\n",
    "        for j in 1:n_features\n",
    "            res += T[PQ[j,n],j]    \n",
    "        end\n",
    "        d[n] = res\n",
    "    end\n",
    "    return d\n",
    "end\n",
    "\n",
    "\n"
   ]
  },
  {
   "cell_type": "code",
   "execution_count": 18,
   "id": "2d0ca8a1",
   "metadata": {
    "ExecuteTime": {
     "end_time": "2022-09-02T15:26:12.511000+02:00",
     "start_time": "2022-09-02T13:26:11.345Z"
    }
   },
   "outputs": [
    {
     "data": {
      "text/plain": [
       "32×128 Matrix{Float32}:\n",
       " 0.261508   0.119709   0.494325    …  0.199487   0.504201   0.0128225\n",
       " 0.878577   0.155021   0.672723       0.833461   0.0218257  0.346586\n",
       " 0.595066   0.143906   0.554177       0.216249   0.219969   0.385533\n",
       " 0.635224   0.937321   0.607402       0.688434   0.444384   0.53211\n",
       " 0.968566   0.0841903  0.70269        0.719249   0.951361   0.0479293\n",
       " 0.273914   0.109733   0.366922    …  0.130734   0.96038    0.906284\n",
       " 0.173745   0.62694    0.0451187      0.400976   0.417098   0.158388\n",
       " 0.147494   0.762203   0.14395        0.192883   0.889719   0.257744\n",
       " 0.276965   0.922209   0.521877       0.539143   0.619699   0.268971\n",
       " 0.377723   0.951114   0.675585       0.585497   0.384385   0.861055\n",
       " 0.650519   0.300227   0.0162584   …  0.521274   0.0160092  0.704236\n",
       " 0.459765   0.153149   0.587107       0.0908395  0.983381   0.790655\n",
       " 0.225926   0.281678   0.412811       0.460725   0.545153   0.880115\n",
       " ⋮                                 ⋱  ⋮                     \n",
       " 0.282486   0.901141   0.44975     …  0.201589   0.471834   0.921828\n",
       " 0.383024   0.0934043  0.886432       0.14377    0.110948   0.247879\n",
       " 0.631266   0.271651   0.303364       0.445128   0.517064   0.0286369\n",
       " 0.051496   0.651727   0.500234       0.881805   0.553133   0.196434\n",
       " 0.0346258  0.899872   0.219833       0.627108   0.353342   0.298783\n",
       " 0.812144   0.388696   0.721324    …  0.506896   0.283206   0.961392\n",
       " 0.707093   0.215044   0.297291       0.522663   0.437576   0.581878\n",
       " 0.489776   0.994238   0.716986       0.277895   0.851295   0.411883\n",
       " 0.31159    0.804746   0.00136833     0.17429    0.849783   0.168652\n",
       " 0.773884   0.29613    0.326692       0.753758   0.773606   0.603006\n",
       " 0.111527   0.235504   0.280558    …  0.166797   0.716764   0.0944042\n",
       " 0.884108   0.082501   0.916822       0.878042   0.676647   0.573944"
      ]
     },
     "execution_count": 18,
     "metadata": {},
     "output_type": "execute_result"
    }
   ],
   "source": [
    "T"
   ]
  },
  {
   "cell_type": "code",
   "execution_count": 16,
   "id": "829ea3e4",
   "metadata": {
    "ExecuteTime": {
     "end_time": "2022-09-02T15:25:53.913000+02:00",
     "start_time": "2022-09-02T13:25:53.698Z"
    }
   },
   "outputs": [
    {
     "ename": "LoadError",
     "evalue": "UndefVarError: j not defined",
     "output_type": "error",
     "traceback": [
      "UndefVarError: j not defined",
      "",
      "Stacktrace:",
      "  [1] lsh(PQ::Matrix{Int8}, T::Matrix{Float32})",
      "    @ Main ./In[15]:17",
      "  [2] var\"##core#336\"(PQ#334::Matrix{Int8}, T#335::Matrix{Float32})",
      "    @ Main ~/.julia/packages/BenchmarkTools/7xSXH/src/execution.jl:489",
      "  [3] var\"##sample#337\"(::Tuple{Matrix{Int8}, Matrix{Float32}}, __params::BenchmarkTools.Parameters)",
      "    @ Main ~/.julia/packages/BenchmarkTools/7xSXH/src/execution.jl:495",
      "  [4] _run(b::BenchmarkTools.Benchmark, p::BenchmarkTools.Parameters; verbose::Bool, pad::String, kwargs::Base.Pairs{Symbol, Integer, NTuple{4, Symbol}, NamedTuple{(:samples, :evals, :gctrial, :gcsample), Tuple{Int64, Int64, Bool, Bool}}})",
      "    @ BenchmarkTools ~/.julia/packages/BenchmarkTools/7xSXH/src/execution.jl:99",
      "  [5] #invokelatest#2",
      "    @ ./essentials.jl:731 [inlined]",
      "  [6] #run_result#45",
      "    @ ~/.julia/packages/BenchmarkTools/7xSXH/src/execution.jl:34 [inlined]",
      "  [7] run(b::BenchmarkTools.Benchmark, p::BenchmarkTools.Parameters; progressid::Nothing, nleaves::Float64, ndone::Float64, kwargs::Base.Pairs{Symbol, Integer, NTuple{5, Symbol}, NamedTuple{(:verbose, :samples, :evals, :gctrial, :gcsample), Tuple{Bool, Int64, Int64, Bool, Bool}}})",
      "    @ BenchmarkTools ~/.julia/packages/BenchmarkTools/7xSXH/src/execution.jl:117",
      "  [8] #warmup#54",
      "    @ ~/.julia/packages/BenchmarkTools/7xSXH/src/execution.jl:169 [inlined]",
      "  [9] warmup(item::BenchmarkTools.Benchmark)",
      "    @ BenchmarkTools ~/.julia/packages/BenchmarkTools/7xSXH/src/execution.jl:168",
      " [10] top-level scope",
      "    @ ~/.julia/packages/BenchmarkTools/7xSXH/src/execution.jl:393",
      " [11] eval",
      "    @ ./boot.jl:368 [inlined]",
      " [12] include_string(mapexpr::typeof(REPL.softscope), mod::Module, code::String, filename::String)",
      "    @ Base ./loading.jl:1428"
     ]
    }
   ],
   "source": [
    "@benchmark lsh($PQ, $T)"
   ]
  },
  {
   "cell_type": "code",
   "execution_count": null,
   "id": "ff58ec04",
   "metadata": {},
   "outputs": [],
   "source": []
  },
  {
   "cell_type": "code",
   "execution_count": null,
   "id": "5aac585f",
   "metadata": {
    "ExecuteTime": {
     "end_time": "2022-09-02T15:18:40.779000+02:00",
     "start_time": "2022-09-02T13:18:39.579Z"
    }
   },
   "outputs": [],
   "source": [
    "using BenchmarkTools\n",
    "using LoopVectorization\n",
    "\n",
    "n_clusters = 32\n",
    "n_examples = 1_000_000\n",
    "n_features = 128\n",
    "\n",
    "T = Float32.(rand(n_clusters, n_features));                   # ADC table\n",
    "T_int = Int8.(round.(T *100));\n",
    "PQ = Int8.(rand(1:n_clusters, n_features, n_examples))    # PQcodes\n",
    "y = Float32.(rand(n_features));\n",
    "\n",
    "function lsh_int(PQ, T)\n",
    "    \n",
    "    n_features, n_examples = size(PQ)\n",
    "    d = zeros(eltype(T), n_examples)\n",
    "    \n",
    "    @inbounds @fastmath for n in 1:n_examples\n",
    "        res = zero(eltype(T))\n",
    "\n",
    "        for j in 1:n_features\n",
    "            res += T[PQ[j,n],j]    \n",
    "        end\n",
    "        d[n] = res\n",
    "    end\n",
    "    return d\n",
    "end\n",
    "\n"
   ]
  },
  {
   "cell_type": "code",
   "execution_count": null,
   "id": "bbcb9e77",
   "metadata": {
    "ExecuteTime": {
     "end_time": "2022-09-02T15:18:52.880000+02:00",
     "start_time": "2022-09-02T13:18:40.997Z"
    }
   },
   "outputs": [],
   "source": [
    "@benchmark lsh_int($PQ, $T_int)"
   ]
  },
  {
   "cell_type": "code",
   "execution_count": null,
   "id": "f8020fc4",
   "metadata": {},
   "outputs": [],
   "source": []
  },
  {
   "cell_type": "code",
   "execution_count": null,
   "id": "8e9ddfc2",
   "metadata": {},
   "outputs": [],
   "source": []
  },
  {
   "cell_type": "code",
   "execution_count": null,
   "id": "c6271dac",
   "metadata": {},
   "outputs": [],
   "source": []
  },
  {
   "cell_type": "code",
   "execution_count": null,
   "id": "36aab680",
   "metadata": {
    "ExecuteTime": {
     "end_time": "2022-09-02T15:12:07.233000+02:00",
     "start_time": "2022-09-02T13:12:00.530Z"
    }
   },
   "outputs": [],
   "source": [
    "using BenchmarkTools\n",
    "using LoopVectorization\n",
    "\n",
    "n_clusters = 32\n",
    "n_examples = 1_000_000\n",
    "n_features = 128\n",
    "\n",
    "T = Float32.(rand(n_clusters, n_features));                   # ADC table\n",
    "PQ = Int8.(rand(1:n_clusters, n_features, n_examples))    # PQcodes\n",
    "y = Float32.(rand(n_features));\n",
    "\n",
    "function lsh_unrolled(PQ, T)\n",
    "    \n",
    "    n_features, n_examples = size(PQ)\n",
    "    d = zeros(eltype(T), n_examples)\n",
    "    \n",
    "    @inbounds @fastmath for n in 1:n_examples\n",
    "        res1 = zero(eltype(T))\n",
    "        res2 = zero(eltype(T))\n",
    "        res3 = zero(eltype(T))\n",
    "        res4 = zero(eltype(T))\n",
    "    \n",
    "        for j in 1:4:n_features\n",
    "            res1 += T[PQ[j,n],j] \n",
    "            res2 += T[PQ[j+1,n],j+1] \n",
    "            res3 += T[PQ[j+2,n],j+2] \n",
    "            res4 += T[PQ[j+3,n],j+3] \n",
    "            \n",
    "        end\n",
    "        d[n] = res1 + res2 + res3 + res4\n",
    "    end\n",
    "    return d\n",
    "end"
   ]
  },
  {
   "cell_type": "code",
   "execution_count": null,
   "id": "8886c2a6",
   "metadata": {
    "ExecuteTime": {
     "end_time": "2022-09-02T15:12:25.188000+02:00",
     "start_time": "2022-09-02T13:12:13.383Z"
    }
   },
   "outputs": [],
   "source": [
    "@benchmark lsh_unrolled($PQ, $T)"
   ]
  },
  {
   "cell_type": "code",
   "execution_count": null,
   "id": "4e8c457d",
   "metadata": {},
   "outputs": [],
   "source": []
  },
  {
   "cell_type": "code",
   "execution_count": null,
   "id": "1ccbb35a",
   "metadata": {
    "ExecuteTime": {
     "end_time": "2022-09-02T15:06:36.922000+02:00",
     "start_time": "2022-09-02T13:06:36.353Z"
    }
   },
   "outputs": [],
   "source": []
  },
  {
   "cell_type": "code",
   "execution_count": null,
   "id": "7f316b88",
   "metadata": {
    "ExecuteTime": {
     "end_time": "2022-09-02T14:32:21.960000+02:00",
     "start_time": "2022-09-02T12:32:19.776Z"
    }
   },
   "outputs": [],
   "source": [
    "T_int = UInt8.(round.(T *100));\n",
    "\n",
    "PQ_cols = [Vector(col) for col in eachrow(PQ)];\n",
    "T_cols_int = [Vector(col) for col in eachcol(T_int)];\n",
    "typemax(UInt16) > maximum(T *100)"
   ]
  },
  {
   "cell_type": "code",
   "execution_count": null,
   "id": "3d209aad",
   "metadata": {
    "ExecuteTime": {
     "end_time": "2022-09-02T14:35:28.803000+02:00",
     "start_time": "2022-09-02T12:35:28.797Z"
    }
   },
   "outputs": [],
   "source": [
    "function process_N_pqcodes(j, PQ_cols64, T_cols)\n",
    "    acc = Vec{8, UInt8}((0,0,0,0,0,0,0,0))\n",
    "    @inbounds for j in 1:128\n",
    "        pq_j_idx_vec = vload(Vec{8,Int64}, PQ_cols64[j], 1)\n",
    "        acc .=  acc + vgather(T_cols[j], pq_j_idx_vec)\n",
    "        #println(pq_j_idx_vec)\n",
    "    end\n",
    "    return acc\n",
    "end"
   ]
  },
  {
   "cell_type": "code",
   "execution_count": null,
   "id": "53defb51",
   "metadata": {
    "ExecuteTime": {
     "end_time": "2022-09-02T14:35:54.793000+02:00",
     "start_time": "2022-09-02T12:35:54.787Z"
    }
   },
   "outputs": [],
   "source": [
    "T_cols[1][[1,2,3]]"
   ]
  },
  {
   "cell_type": "code",
   "execution_count": null,
   "id": "1c01e4e6",
   "metadata": {
    "ExecuteTime": {
     "end_time": "2022-09-02T14:34:34.342000+02:00",
     "start_time": "2022-09-02T12:34:34.321Z"
    }
   },
   "outputs": [],
   "source": [
    "\n",
    "println(process_N_pqcodes(1, PQ_cols, T_cols_int) )\n",
    "#println(lsh(PQ_16, T))"
   ]
  },
  {
   "cell_type": "code",
   "execution_count": null,
   "id": "df25a1e5",
   "metadata": {
    "ExecuteTime": {
     "end_time": "2022-09-02T14:34:37.334000+02:00",
     "start_time": "2022-09-02T12:34:35.166Z"
    }
   },
   "outputs": [],
   "source": [
    "@benchmark process_N_pqcodes(1, PQ_cols, T_cols_int)"
   ]
  },
  {
   "cell_type": "code",
   "execution_count": null,
   "id": "55cf8547",
   "metadata": {},
   "outputs": [],
   "source": []
  },
  {
   "cell_type": "code",
   "execution_count": null,
   "id": "8fe7f7c1",
   "metadata": {},
   "outputs": [],
   "source": []
  }
 ],
 "metadata": {
  "kernelspec": {
   "display_name": "Julia 1.8.0",
   "language": "julia",
   "name": "julia-1.8"
  },
  "language_info": {
   "file_extension": ".jl",
   "mimetype": "application/julia",
   "name": "julia",
   "version": "1.8.0"
  },
  "toc": {
   "base_numbering": 1,
   "nav_menu": {},
   "number_sections": true,
   "sideBar": true,
   "skip_h1_title": false,
   "title_cell": "Table of Contents",
   "title_sidebar": "Contents",
   "toc_cell": false,
   "toc_position": {},
   "toc_section_display": true,
   "toc_window_display": false
  }
 },
 "nbformat": 4,
 "nbformat_minor": 5
}
