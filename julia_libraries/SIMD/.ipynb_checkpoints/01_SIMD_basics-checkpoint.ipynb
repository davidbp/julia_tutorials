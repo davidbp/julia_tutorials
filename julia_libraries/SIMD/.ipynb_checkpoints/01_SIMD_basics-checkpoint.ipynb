{
 "cells": [
  {
   "cell_type": "markdown",
   "metadata": {
    "toc": true
   },
   "source": [
    "<h1>Table of Contents<span class=\"tocSkip\"></span></h1>\n",
    "<div class=\"toc\"><ul class=\"toc-item\"><li><span><a href=\"#The-Vec-type\" data-toc-modified-id=\"The-Vec-type-1\"><span class=\"toc-item-num\">1&nbsp;&nbsp;</span>The <code>Vec</code> type</a></span><ul class=\"toc-item\"><li><span><a href=\"#Speedup-of-SIMD-vector-operations-vs-standard-arrays\" data-toc-modified-id=\"Speedup-of-SIMD-vector-operations-vs-standard-arrays-1.1\"><span class=\"toc-item-num\">1.1&nbsp;&nbsp;</span>Speedup of SIMD vector operations vs standard arrays</a></span></li></ul></li><li><span><a href=\"#Operations-from-Vec-types-to-Vec-types\" data-toc-modified-id=\"Operations-from-Vec-types-to-Vec-types-2\"><span class=\"toc-item-num\">2&nbsp;&nbsp;</span>Operations from <code>Vec</code> types to <code>Vec</code> types</a></span><ul class=\"toc-item\"><li><span><a href=\"#Vector-operations\" data-toc-modified-id=\"Vector-operations-2.1\"><span class=\"toc-item-num\">2.1&nbsp;&nbsp;</span>Vector operations</a></span><ul class=\"toc-item\"><li><span><a href=\"#Integer-operators:-[-+,--,-*,--&amp;,-|,-&lt;&lt;,-&gt;&gt;,-&gt;&gt;&gt;,-==,-!=,-&lt;,-&lt;=,-&gt;,-&gt;=]\" data-toc-modified-id=\"Integer-operators:-[-+,--,-*,--&amp;,-|,-<<,->>,->>>,-==,-!=,-<,-<=,->,->=]-2.1.1\"><span class=\"toc-item-num\">2.1.1&nbsp;&nbsp;</span>Integer operators: <code>[ +, -, *,  &amp;, |, &lt;&lt;, &gt;&gt;, &gt;&gt;&gt;, ==, !=, &lt;, &lt;=, &gt;, &gt;=]</code></a></span></li><li><span><a href=\"#Float-operators:-[-+,--,-*,--&amp;,-|,-&lt;&lt;,-&gt;&gt;,-&gt;&gt;&gt;,-==,-!=,-&lt;,-&lt;=,-&gt;,-&gt;=]\" data-toc-modified-id=\"Float-operators:-[-+,--,-*,--&amp;,-|,-<<,->>,->>>,-==,-!=,-<,-<=,->,->=]-2.1.2\"><span class=\"toc-item-num\">2.1.2&nbsp;&nbsp;</span>Float operators: <code>[ +, -, *,  &amp;, |, &lt;&lt;, &gt;&gt;, &gt;&gt;&gt;, ==, !=, &lt;, &lt;=, &gt;, &gt;=]</code></a></span></li></ul></li></ul></li><li><span><a href=\"#Elementwise-operation-in-Vec-elements\" data-toc-modified-id=\"Elementwise-operation-in-Vec-elements-3\"><span class=\"toc-item-num\">3&nbsp;&nbsp;</span>Elementwise operation in <code>Vec</code> elements</a></span></li><li><span><a href=\"#Reduction-operations\" data-toc-modified-id=\"Reduction-operations-4\"><span class=\"toc-item-num\">4&nbsp;&nbsp;</span>Reduction operations</a></span><ul class=\"toc-item\"><li><span><a href=\"#Shuffle\" data-toc-modified-id=\"Shuffle-4.1\"><span class=\"toc-item-num\">4.1&nbsp;&nbsp;</span>Shuffle</a></span></li></ul></li><li><span><a href=\"#Performance-gain-by-lowering-precission\" data-toc-modified-id=\"Performance-gain-by-lowering-precission-5\"><span class=\"toc-item-num\">5&nbsp;&nbsp;</span>Performance gain by lowering precission</a></span><ul class=\"toc-item\"><li><span><a href=\"#Example-automatic-vectorization\" data-toc-modified-id=\"Example-automatic-vectorization-5.1\"><span class=\"toc-item-num\">5.1&nbsp;&nbsp;</span>Example automatic vectorization</a></span></li><li><span><a href=\"#Exercise:-Algorithm-to-check-if-an-element-is-within-a-vector.\" data-toc-modified-id=\"Exercise:-Algorithm-to-check-if-an-element-is-within-a-vector.-5.2\"><span class=\"toc-item-num\">5.2&nbsp;&nbsp;</span>Exercise: Algorithm to check if an element is within a vector.</a></span></li><li><span><a href=\"#Exercise:-Algorithm-to-sum-over-indices-in-an-array\" data-toc-modified-id=\"Exercise:-Algorithm-to-sum-over-indices-in-an-array-5.3\"><span class=\"toc-item-num\">5.3&nbsp;&nbsp;</span>Exercise: Algorithm to sum over indices in an array</a></span></li></ul></li></ul></div>"
   ]
  },
  {
   "cell_type": "code",
   "execution_count": 2,
   "metadata": {
    "ExecuteTime": {
     "end_time": "2022-09-02T09:48:09.243000+02:00",
     "start_time": "2022-09-02T07:48:08.994Z"
    }
   },
   "outputs": [],
   "source": [
    "using SIMD\n",
    "using BenchmarkTools"
   ]
  },
  {
   "cell_type": "markdown",
   "metadata": {},
   "source": [
    "# The `Vec` type\n",
    "\n",
    "\n",
    "SIMD vectors are similar to small fixed-size arrays of \"simple\" types.  These element types are supportedin SIMD.jl are:\n",
    "\n",
    "```\n",
    "- Bool \n",
    "- Int{8,16,32,64,128} \n",
    "- UInt{8,16,32,64,128} \n",
    "- Float{16,32,64}\n",
    "```\n",
    "\n",
    "\n",
    "We can create vector types (or `SIMD.Vec` types) as follows:\n",
    "\n",
    "```\n",
    "my_vec = Vec(a_tuple)\n",
    "```\n",
    "\n",
    "Notice that `eltype(a_tuple)` has to be in \n",
    "\n",
    "`[Bool, Int8, Int16, Int32, Int64, Int128, UInt8, UInt16, UInt32, UInt128, Float16, Float32, Float64]`\n",
    "\n",
    "##### Examples:\n",
    "\n",
    "```\n",
    "a1_v = Vec(1,2,3,4,5,6,7,8)\n",
    "a2_v = Vec(9,10,11,12,13,14,15,16,17,18)\n",
    "```\n",
    "\n",
    "##### Breaking examples:\n",
    "\n",
    "```\n",
    "a = Vec((\"the\",\"house\")) # strings are not in the set of possible element types for a Vec\n",
    "a = Vec((1,23.231))      # All elements in the tuple constructing the Vec need to be of the same type\n",
    "```"
   ]
  },
  {
   "cell_type": "markdown",
   "metadata": {},
   "source": [
    "We can operate with the given vectors as if they were arrays"
   ]
  },
  {
   "cell_type": "code",
   "execution_count": 3,
   "metadata": {
    "ExecuteTime": {
     "end_time": "2022-09-02T09:48:11.849000+02:00",
     "start_time": "2022-09-02T07:48:10.508Z"
    }
   },
   "outputs": [
    {
     "data": {
      "text/plain": [
       "<8 x Int64>[10, 12, 14, 16, 18, 20, 22, 24]"
      ]
     },
     "execution_count": 3,
     "metadata": {},
     "output_type": "execute_result"
    }
   ],
   "source": [
    "a1_v = Vec((1,2,3,4,5,6,7,8))\n",
    "a2_v = Vec((9,10,11,12,13,14,15,16))\n",
    "res_v = a1_v + a2_v"
   ]
  },
  {
   "cell_type": "code",
   "execution_count": 4,
   "metadata": {
    "ExecuteTime": {
     "end_time": "2022-09-02T09:48:13.319000+02:00",
     "start_time": "2022-09-02T07:48:11.440Z"
    }
   },
   "outputs": [
    {
     "data": {
      "text/plain": [
       "8-element Vector{Int64}:\n",
       " 10\n",
       " 12\n",
       " 14\n",
       " 16\n",
       " 18\n",
       " 20\n",
       " 22\n",
       " 24"
      ]
     },
     "execution_count": 4,
     "metadata": {},
     "output_type": "execute_result"
    }
   ],
   "source": [
    "a1_a = [1,2,3,4,5,6,7,8]\n",
    "a2_a = [9,10,11,12,13,14,15,16];\n",
    "res_a = a1_a + a2_a"
   ]
  },
  {
   "cell_type": "markdown",
   "metadata": {},
   "source": [
    "Using operations between Vec types will be faster than the coutnerpart Array operations"
   ]
  },
  {
   "cell_type": "code",
   "execution_count": 4,
   "metadata": {
    "ExecuteTime": {
     "end_time": "2022-09-01T21:55:29.491000+02:00",
     "start_time": "2022-09-01T19:55:15.093Z"
    }
   },
   "outputs": [
    {
     "name": "stdout",
     "output_type": "stream",
     "text": [
      "Vector operation time: Trial(20.792 ns)\n",
      "Array operation time:  Trial(52.057 ns)\n"
     ]
    }
   ],
   "source": [
    "print(\"Vector operation time: \")\n",
    "println(@benchmark res_v = a1_v + a2_v)\n",
    "\n",
    "print(\"Array operation time:  \")\n",
    "println(@benchmark res_a = a1_a + a2_a)"
   ]
  },
  {
   "cell_type": "markdown",
   "metadata": {},
   "source": [
    "## Speedup of SIMD vector operations vs standard arrays"
   ]
  },
  {
   "cell_type": "code",
   "execution_count": 10,
   "metadata": {
    "ExecuteTime": {
     "end_time": "2022-08-30T17:51:10.780000+02:00",
     "start_time": "2022-08-30T15:51:08.242Z"
    }
   },
   "outputs": [
    {
     "name": "stdout",
     "output_type": "stream",
     "text": [
      "Vector operation time:   20.229 ns (1 allocation: 16 bytes)\n",
      "Array operation time:    42.905 ns (1 allocation: 96 bytes)\n"
     ]
    }
   ],
   "source": [
    "a1_v = Vec(Int8.((1,2,3,4)))\n",
    "a2_v = Vec(Int8.((1,2,3,4)))\n",
    "print(\"Vector operation time: \")\n",
    "@btime res = a1_v + a2_v\n",
    "\n",
    "a1_a = [1,2,3,4]\n",
    "a2_a = [1,2,3,4]\n",
    "print(\"Array operation time:  \")\n",
    "@btime res = a1_a + a2_a;"
   ]
  },
  {
   "cell_type": "code",
   "execution_count": 11,
   "metadata": {
    "ExecuteTime": {
     "end_time": "2022-08-30T17:51:13.395000+02:00",
     "start_time": "2022-08-30T15:51:09.159Z"
    }
   },
   "outputs": [
    {
     "name": "stdout",
     "output_type": "stream",
     "text": [
      "Vector operation time:   19.690 ns (1 allocation: 16 bytes)\n",
      "Array operation time:    46.040 ns (1 allocation: 128 bytes)\n"
     ]
    }
   ],
   "source": [
    "a1_v = Vec(Int8.((1,2,3,4,5,6,7,8)))\n",
    "a2_v = Vec(Int8.((1,2,3,4,5,6,7,8)))\n",
    "print(\"Vector operation time: \")\n",
    "@btime res = a1_v + a2_v;\n",
    "\n",
    "a1_a = [1,2,3,4,5,6,7,8]\n",
    "a2_a = [1,2,3,4,5,6,7,8]\n",
    "print(\"Array operation time:  \")\n",
    "@btime res = a1_a + a2_a;"
   ]
  },
  {
   "cell_type": "code",
   "execution_count": 12,
   "metadata": {
    "ExecuteTime": {
     "end_time": "2022-08-30T17:51:16.282000+02:00",
     "start_time": "2022-08-30T15:51:09.914Z"
    }
   },
   "outputs": [
    {
     "name": "stdout",
     "output_type": "stream",
     "text": [
      "Vector operation time:   30.034 ns (1 allocation: 272 bytes)\n",
      "Array operation time:   53.946 ns (1 allocation: 224 bytes)\n"
     ]
    }
   ],
   "source": [
    "a1_v = Vec(Int64.(Tuple(x for x in 1:20)))\n",
    "a2_v = Vec(Int64.(Tuple(x for x in 1:20)))\n",
    "    \n",
    "print(\"Vector operation time: \")\n",
    "@btime res = a1_v + a2_v;\n",
    "\n",
    "a1_a = [x for x in 1:20]\n",
    "a2_a = [x for x in 1:20]\n",
    "    \n",
    "print(\"Array operation time: \")\n",
    "@btime res = a1_a + a2_a;"
   ]
  },
  {
   "cell_type": "code",
   "execution_count": 13,
   "metadata": {
    "ExecuteTime": {
     "end_time": "2022-08-30T17:51:16.283000+02:00",
     "start_time": "2022-08-30T15:51:10.778Z"
    }
   },
   "outputs": [],
   "source": [
    "# error to be solved: If len is not even there can be some errors\n",
    "# Discussion about this in https://github.com/eschnett/SIMD.jl/issues/61\n",
    "\n",
    "#a1_v = Vec(Int64.((1,2,3,4,5,6,7)))\n",
    "#a2_v = Vec(Int64.((1,2,3,4,5,6,7)))\n",
    "#@btime res = a1_v + a2_v"
   ]
  },
  {
   "cell_type": "markdown",
   "metadata": {},
   "source": [
    "The main difference of using standard vectors and Vec types is the fact that Vec types can be easily mapped to instructions that operate on the whole Vec. \n"
   ]
  },
  {
   "cell_type": "code",
   "execution_count": 14,
   "metadata": {
    "ExecuteTime": {
     "end_time": "2022-08-30T17:51:16.852000+02:00",
     "start_time": "2022-08-30T15:51:12.372Z"
    },
    "scrolled": true
   },
   "outputs": [
    {
     "name": "stdout",
     "output_type": "stream",
     "text": [
      "\t\u001b[0m.section\t\u001b[0m__TEXT\u001b[0m,\u001b[0m__text\u001b[0m,\u001b[0mregular\u001b[0m,\u001b[0mpure_instructions\n",
      "\t\u001b[0m.build_version \u001b[0mmacos\u001b[0m, \u001b[33m11\u001b[39m\u001b[0m, \u001b[33m0\u001b[39m\n",
      "\t\u001b[0m.globl\t\u001b[0m\"_julia_+_2159\"                 \u001b[0m## \u001b[0m-- \u001b[0mBegin \u001b[0mfunction \u001b[0mjulia_+_2159\n",
      "\t\u001b[0m.p2align\t\u001b[33m4\u001b[39m\u001b[0m, \u001b[33m0x90\u001b[39m\n",
      "\u001b[91m\"_julia_+_2159\":\u001b[39m                        \u001b[0m## \u001b[0m@\"julia_+_2159\"\n",
      "\u001b[90m; ┌ @ /Users/davidbuchaca/.julia/packages/SIMD/myoU9/src/simdvec.jl:252 within `+`\u001b[39m\n",
      "\t\u001b[0m.cfi_startproc\n",
      "\u001b[0m## \u001b[0m%bb.0\u001b[0m:                               \u001b[0m## \u001b[0m%top\n",
      "\t\u001b[96m\u001b[1mmovq\u001b[22m\u001b[39m\t\u001b[0m%rdi\u001b[0m, \u001b[0m%rax\n",
      "\u001b[90m; │ @ /Users/davidbuchaca/.julia/packages/SIMD/myoU9/src/simdvec.jl:253 within `+`\u001b[39m\n",
      "\u001b[90m; │┌ @ /Users/davidbuchaca/.julia/packages/SIMD/myoU9/src/LLVM_intrinsics.jl:227 within `add`\u001b[39m\n",
      "\u001b[90m; ││┌ @ /Users/davidbuchaca/.julia/packages/SIMD/myoU9/src/LLVM_intrinsics.jl:235 within `macro expansion`\u001b[39m\n",
      "\t\u001b[96m\u001b[1mvmovdqu\u001b[22m\u001b[39m\t\u001b[33m128\u001b[39m\u001b[33m(\u001b[39m\u001b[0m%rdx\u001b[33m)\u001b[39m\u001b[0m, \u001b[0m%ymm0\n",
      "\t\u001b[96m\u001b[1mvmovdqu64\u001b[22m\u001b[39m\t\u001b[33m(\u001b[39m\u001b[0m%rdx\u001b[33m)\u001b[39m\u001b[0m, \u001b[0m%zmm1\n",
      "\t\u001b[96m\u001b[1mvmovdqu64\u001b[22m\u001b[39m\t\u001b[33m64\u001b[39m\u001b[33m(\u001b[39m\u001b[0m%rdx\u001b[33m)\u001b[39m\u001b[0m, \u001b[0m%zmm2\n",
      "\t\u001b[96m\u001b[1mvpaddq\u001b[22m\u001b[39m\t\u001b[33m(\u001b[39m\u001b[0m%rsi\u001b[33m)\u001b[39m\u001b[0m, \u001b[0m%zmm1\u001b[0m, \u001b[0m%zmm1\n",
      "\t\u001b[96m\u001b[1mvpaddq\u001b[22m\u001b[39m\t\u001b[33m64\u001b[39m\u001b[33m(\u001b[39m\u001b[0m%rsi\u001b[33m)\u001b[39m\u001b[0m, \u001b[0m%zmm2\u001b[0m, \u001b[0m%zmm2\n",
      "\u001b[90m; │└└\u001b[39m\n",
      "\t\u001b[96m\u001b[1mvpaddq\u001b[22m\u001b[39m\t\u001b[33m128\u001b[39m\u001b[33m(\u001b[39m\u001b[0m%rsi\u001b[33m)\u001b[39m\u001b[0m, \u001b[0m%ymm0\u001b[0m, \u001b[0m%ymm0\n",
      "\t\u001b[96m\u001b[1mvmovdqa64\u001b[22m\u001b[39m\t\u001b[0m%zmm2\u001b[0m, \u001b[33m64\u001b[39m\u001b[33m(\u001b[39m\u001b[0m%rdi\u001b[33m)\u001b[39m\n",
      "\t\u001b[96m\u001b[1mvmovdqa\u001b[22m\u001b[39m\t\u001b[0m%ymm0\u001b[0m, \u001b[33m128\u001b[39m\u001b[33m(\u001b[39m\u001b[0m%rdi\u001b[33m)\u001b[39m\n",
      "\t\u001b[96m\u001b[1mvmovdqa64\u001b[22m\u001b[39m\t\u001b[0m%zmm1\u001b[0m, \u001b[33m(\u001b[39m\u001b[0m%rdi\u001b[33m)\u001b[39m\n",
      "\t\u001b[96m\u001b[1mvzeroupper\u001b[22m\u001b[39m\n",
      "\t\u001b[96m\u001b[1mretq\u001b[22m\u001b[39m\n",
      "\t\u001b[0m.cfi_endproc\n",
      "\u001b[90m; └\u001b[39m\n",
      "                                        \u001b[0m## \u001b[0m-- \u001b[0mEnd \u001b[0mfunction\n",
      "\u001b[0m.subsections_via_symbols\n"
     ]
    }
   ],
   "source": [
    "@code_native a1_v + a2_v"
   ]
  },
  {
   "cell_type": "markdown",
   "metadata": {},
   "source": [
    "This does not happen in standard arrays (at least not as easily, the compiler could be smart enough to do it)."
   ]
  },
  {
   "cell_type": "code",
   "execution_count": 15,
   "metadata": {
    "ExecuteTime": {
     "end_time": "2022-08-30T17:51:17.217000+02:00",
     "start_time": "2022-08-30T15:51:12.962Z"
    }
   },
   "outputs": [
    {
     "name": "stdout",
     "output_type": "stream",
     "text": [
      "\t\u001b[0m.section\t\u001b[0m__TEXT\u001b[0m,\u001b[0m__text\u001b[0m,\u001b[0mregular\u001b[0m,\u001b[0mpure_instructions\n",
      "\t\u001b[0m.build_version \u001b[0mmacos\u001b[0m, \u001b[33m11\u001b[39m\u001b[0m, \u001b[33m0\u001b[39m\n",
      "\t\u001b[0m.globl\t\u001b[0m\"_julia_+_2195\"                 \u001b[0m## \u001b[0m-- \u001b[0mBegin \u001b[0mfunction \u001b[0mjulia_+_2195\n",
      "\t\u001b[0m.p2align\t\u001b[33m4\u001b[39m\u001b[0m, \u001b[33m0x90\u001b[39m\n",
      "\u001b[91m\"_julia_+_2195\":\u001b[39m                        \u001b[0m## \u001b[0m@\"julia_+_2195\"\n",
      "\u001b[90m; ┌ @ arraymath.jl:12 within `+`\u001b[39m\n",
      "\t\u001b[0m.cfi_startproc\n",
      "\u001b[0m## \u001b[0m%bb.0\u001b[0m:                               \u001b[0m## \u001b[0m%top\n",
      "\t\u001b[96m\u001b[1mpushq\u001b[22m\u001b[39m\t\u001b[0m%rbp\n",
      "\t\u001b[0m.cfi_def_cfa_offset \u001b[33m16\u001b[39m\n",
      "\t\u001b[0m.cfi_offset \u001b[0m%rbp\u001b[0m, \u001b[33m-16\u001b[39m\n",
      "\t\u001b[96m\u001b[1mmovq\u001b[22m\u001b[39m\t\u001b[0m%rsp\u001b[0m, \u001b[0m%rbp\n",
      "\t\u001b[0m.cfi_def_cfa_register \u001b[0m%rbp\n",
      "\t\u001b[96m\u001b[1mpushq\u001b[22m\u001b[39m\t\u001b[0m%r15\n",
      "\t\u001b[96m\u001b[1mpushq\u001b[22m\u001b[39m\t\u001b[0m%r14\n",
      "\t\u001b[96m\u001b[1mpushq\u001b[22m\u001b[39m\t\u001b[0m%r13\n",
      "\t\u001b[96m\u001b[1mpushq\u001b[22m\u001b[39m\t\u001b[0m%r12\n",
      "\t\u001b[96m\u001b[1mpushq\u001b[22m\u001b[39m\t\u001b[0m%rbx\n",
      "\t\u001b[96m\u001b[1mandq\u001b[22m\u001b[39m\t\u001b[33m$-32\u001b[39m\u001b[0m, \u001b[0m%rsp\n",
      "\t\u001b[96m\u001b[1msubq\u001b[22m\u001b[39m\t\u001b[33m$160\u001b[39m\u001b[0m, \u001b[0m%rsp\n",
      "\t\u001b[0m.cfi_offset \u001b[0m%rbx\u001b[0m, \u001b[33m-56\u001b[39m\n",
      "\t\u001b[0m.cfi_offset \u001b[0m%r12\u001b[0m, \u001b[33m-48\u001b[39m\n",
      "\t\u001b[0m.cfi_offset \u001b[0m%r13\u001b[0m, \u001b[33m-40\u001b[39m\n",
      "\t\u001b[0m.cfi_offset \u001b[0m%r14\u001b[0m, \u001b[33m-32\u001b[39m\n",
      "\t\u001b[0m.cfi_offset \u001b[0m%r15\u001b[0m, \u001b[33m-24\u001b[39m\n",
      "\t\u001b[96m\u001b[1mmovq\u001b[22m\u001b[39m\t\u001b[0m%rsi\u001b[0m, \u001b[0m%r12\n",
      "\t\u001b[96m\u001b[1mmovq\u001b[22m\u001b[39m\t\u001b[0m%rdi\u001b[0m, \u001b[0m%rbx\n",
      "\t\u001b[96m\u001b[1mmovabsq\u001b[22m\u001b[39m\t\u001b[33m$4538966752\u001b[39m\u001b[0m, \u001b[0m%r15               \u001b[0m## \u001b[0mimm \u001b[0m= \u001b[33m0x10E8B22E0\u001b[39m\n",
      "\t\u001b[96m\u001b[1mvpxor\u001b[22m\u001b[39m\t\u001b[0m%xmm0\u001b[0m, \u001b[0m%xmm0\u001b[0m, \u001b[0m%xmm0\n",
      "\t\u001b[96m\u001b[1mvmovdqa\u001b[22m\u001b[39m\t\u001b[0m%ymm0\u001b[0m, \u001b[33m32\u001b[39m\u001b[33m(\u001b[39m\u001b[0m%rsp\u001b[33m)\u001b[39m\n",
      "\t\u001b[96m\u001b[1mmovabsq\u001b[22m\u001b[39m\t\u001b[33m$140733734880429\u001b[39m\u001b[0m, \u001b[0m%rax          \u001b[0m## \u001b[0mimm \u001b[0m= \u001b[33m0x7FFF204684AD\u001b[39m\n",
      "\t\u001b[96m\u001b[1mmovl\u001b[22m\u001b[39m\t\u001b[33m$262\u001b[39m\u001b[0m, \u001b[0m%edi                      \u001b[0m## \u001b[0mimm \u001b[0m= \u001b[33m0x106\u001b[39m\n",
      "\t\u001b[96m\u001b[1mvzeroupper\u001b[22m\u001b[39m\n",
      "\t\u001b[96m\u001b[1mcallq\u001b[22m\u001b[39m\t\u001b[0m*\u001b[0m%rax\n",
      "\t\u001b[96m\u001b[1mmovq\u001b[22m\u001b[39m\t\u001b[0m%rax\u001b[0m, \u001b[0m%r14\n",
      "\u001b[90m; │ @ arraymath.jl:14 within `+`\u001b[39m\n",
      "\u001b[90m; │┌ @ indices.jl:169 within `promote_shape`\u001b[39m\n",
      "\u001b[90m; ││┌ @ abstractarray.jl:95 within `axes`\u001b[39m\n",
      "\u001b[90m; │││┌ @ array.jl:151 within `size`\u001b[39m\n",
      "\t\u001b[96m\u001b[1mmovq\u001b[22m\u001b[39m\t\u001b[33m$8\u001b[39m\u001b[0m, \u001b[33m32\u001b[39m\u001b[33m(\u001b[39m\u001b[0m%rsp\u001b[33m)\u001b[39m\n",
      "\t\u001b[96m\u001b[1mmovq\u001b[22m\u001b[39m\t\u001b[33m(\u001b[39m\u001b[0m%rax\u001b[33m)\u001b[39m\u001b[0m, \u001b[0m%rax\n",
      "\t\u001b[96m\u001b[1mmovq\u001b[22m\u001b[39m\t\u001b[0m%rax\u001b[0m, \u001b[33m40\u001b[39m\u001b[33m(\u001b[39m\u001b[0m%rsp\u001b[33m)\u001b[39m\n",
      "\t\u001b[96m\u001b[1mleaq\u001b[22m\u001b[39m\t\u001b[33m32\u001b[39m\u001b[33m(\u001b[39m\u001b[0m%rsp\u001b[33m)\u001b[39m\u001b[0m, \u001b[0m%rax\n",
      "\t\u001b[96m\u001b[1mmovq\u001b[22m\u001b[39m\t\u001b[0m%rax\u001b[0m, \u001b[33m(\u001b[39m\u001b[0m%r14\u001b[33m)\u001b[39m\n",
      "\t\u001b[96m\u001b[1mmovq\u001b[22m\u001b[39m\t\u001b[0m%rbx\u001b[0m, \u001b[33m24\u001b[39m\u001b[33m(\u001b[39m\u001b[0m%rsp\u001b[33m)\u001b[39m                  \u001b[0m## \u001b[0m8-byte \u001b[0mSpill\n",
      "\t\u001b[96m\u001b[1mmovq\u001b[22m\u001b[39m\t\u001b[33m8\u001b[39m\u001b[33m(\u001b[39m\u001b[0m%rbx\u001b[33m)\u001b[39m\u001b[0m, \u001b[0m%r13\n",
      "\t\u001b[96m\u001b[1mmovq\u001b[22m\u001b[39m\t\u001b[0m%r12\u001b[0m, \u001b[0m%rbx\n",
      "\t\u001b[96m\u001b[1mmovq\u001b[22m\u001b[39m\t\u001b[33m8\u001b[39m\u001b[33m(\u001b[39m\u001b[0m%r12\u001b[33m)\u001b[39m\u001b[0m, \u001b[0m%r12\n",
      "\u001b[90m; ││└└\u001b[39m\n",
      "\u001b[90m; ││ @ indices.jl:169 within `promote_shape` @ indices.jl:177\u001b[39m\n",
      "\u001b[90m; ││┌ @ operators.jl:282 within `!=`\u001b[39m\n",
      "\u001b[90m; │││┌ @ range.jl:1111 within `==` @ promotion.jl:477\u001b[39m\n",
      "\t\u001b[96m\u001b[1mcmpq\u001b[22m\u001b[39m\t\u001b[0m%r12\u001b[0m, \u001b[0m%r13\n",
      "\u001b[90m; ││└└\u001b[39m\n",
      "\t\u001b[96m\u001b[1mjne\u001b[22m\u001b[39m\t\u001b[91mLBB0_52\u001b[39m\n",
      "\u001b[0m## \u001b[0m%bb.1\u001b[0m:                               \u001b[0m## \u001b[0m%L58\n",
      "\u001b[90m; │└\u001b[39m\n",
      "\u001b[90m; │ @ arraymath.jl:16 within `+`\u001b[39m\n",
      "\u001b[90m; │┌ @ broadcast.jl:849 within `broadcast_preserving_zero_d`\u001b[39m\n",
      "\u001b[90m; ││┌ @ broadcast.jl:860 within `materialize`\u001b[39m\n",
      "\u001b[90m; │││┌ @ broadcast.jl:281 within `instantiate`\u001b[39m\n",
      "\u001b[90m; ││││┌ @ broadcast.jl:499 within `combine_axes`\u001b[39m\n",
      "\u001b[90m; │││││┌ @ broadcast.jl:504 within `broadcast_shape`\u001b[39m\n",
      "\u001b[90m; ││││││┌ @ broadcast.jl:510 within `_bcs`\u001b[39m\n",
      "\t\u001b[96m\u001b[1mmovq\u001b[22m\u001b[39m\t\u001b[0m%r13\u001b[0m, \u001b[33m128\u001b[39m\u001b[33m(\u001b[39m\u001b[0m%rsp\u001b[33m)\u001b[39m\n",
      "\u001b[90m; │││└└└└\u001b[39m\n",
      "\u001b[90m; │││┌ @ broadcast.jl:885 within `copy`\u001b[39m\n",
      "\u001b[90m; ││││┌ @ broadcast.jl:211 within `similar` @ broadcast.jl:212 @ abstractarray.jl:840 @ abstractarray.jl:841\u001b[39m\n",
      "\u001b[90m; │││││┌ @ boot.jl:476 within `Array` @ boot.jl:468 @ boot.jl:459\u001b[39m\n",
      "\t\u001b[96m\u001b[1mleaq\u001b[22m\u001b[39m\t\u001b[33m-13616\u001b[39m\u001b[33m(\u001b[39m\u001b[0m%r15\u001b[33m)\u001b[39m\u001b[0m, \u001b[0m%rax\n",
      "\t\u001b[96m\u001b[1mmovabsq\u001b[22m\u001b[39m\t\u001b[33m$4750882528\u001b[39m\u001b[0m, \u001b[0m%rdi               \u001b[0m## \u001b[0mimm \u001b[0m= \u001b[33m0x11B2CB6E0\u001b[39m\n",
      "\t\u001b[96m\u001b[1mmovq\u001b[22m\u001b[39m\t\u001b[0m%r13\u001b[0m, \u001b[0m%rsi\n",
      "\t\u001b[96m\u001b[1mcallq\u001b[22m\u001b[39m\t\u001b[0m*\u001b[0m%rax\n",
      "\t\u001b[96m\u001b[1mmovq\u001b[22m\u001b[39m\t\u001b[0m%rax\u001b[0m, \u001b[0m%r11\n",
      "\u001b[90m; ││││└└\u001b[39m\n",
      "\u001b[90m; ││││┌ @ broadcast.jl:913 within `copyto!` @ broadcast.jl:949\u001b[39m\n",
      "\u001b[90m; │││││┌ @ abstractarray.jl:95 within `axes`\u001b[39m\n",
      "\u001b[90m; ││││││┌ @ array.jl:151 within `size`\u001b[39m\n",
      "\t\u001b[96m\u001b[1mmovq\u001b[22m\u001b[39m\t\u001b[33m8\u001b[39m\u001b[33m(\u001b[39m\u001b[0m%rax\u001b[33m)\u001b[39m\u001b[0m, \u001b[0m%rax\n",
      "\u001b[90m; │││││└└\u001b[39m\n",
      "\u001b[90m; │││││┌ @ tuple.jl:398 within `==`\u001b[39m\n",
      "\u001b[90m; ││││││┌ @ tuple.jl:402 within `_eq`\u001b[39m\n",
      "\u001b[90m; │││││││┌ @ range.jl:1111 within `==` @ promotion.jl:477\u001b[39m\n",
      "\t\u001b[96m\u001b[1mcmpq\u001b[22m\u001b[39m\t\u001b[0m%r13\u001b[0m, \u001b[0m%rax\n",
      "\u001b[90m; │││││└└└\u001b[39m\n",
      "\t\u001b[96m\u001b[1mjne\u001b[22m\u001b[39m\t\u001b[91mLBB0_53\u001b[39m\n",
      "\u001b[0m## \u001b[0m%bb.2\u001b[0m:                               \u001b[0m## \u001b[0m%L82\n",
      "\t\u001b[96m\u001b[1mmovq\u001b[22m\u001b[39m\t\u001b[33m24\u001b[39m\u001b[33m(\u001b[39m\u001b[0m%rsp\u001b[33m)\u001b[39m\u001b[0m, \u001b[0m%r9                   \u001b[0m## \u001b[0m8-byte \u001b[0mReload\n",
      "\u001b[90m; │││││ @ broadcast.jl:913 within `copyto!` @ broadcast.jl:957\u001b[39m\n",
      "\u001b[90m; │││││┌ @ broadcast.jl:940 within `preprocess`\u001b[39m\n",
      "\u001b[90m; ││││││┌ @ broadcast.jl:943 within `preprocess_args`\u001b[39m\n",
      "\u001b[90m; │││││││┌ @ broadcast.jl:941 within `preprocess`\u001b[39m\n",
      "\u001b[90m; ││││││││┌ @ broadcast.jl:934 within `broadcast_unalias`\u001b[39m\n",
      "\t\u001b[96m\u001b[1mcmpq\u001b[22m\u001b[39m\t\u001b[0m%r9\u001b[0m, \u001b[0m%r11\n",
      "\t\u001b[96m\u001b[1mmovq\u001b[22m\u001b[39m\t\u001b[0m%r14\u001b[0m, \u001b[33m112\u001b[39m\u001b[33m(\u001b[39m\u001b[0m%rsp\u001b[33m)\u001b[39m                 \u001b[0m## \u001b[0m8-byte \u001b[0mSpill\n",
      "\t\u001b[96m\u001b[1mje\u001b[22m\u001b[39m\t\u001b[91mLBB0_3\u001b[39m\n",
      "\u001b[0m## \u001b[0m%bb.4\u001b[0m:                               \u001b[0m## \u001b[0m%L85\n",
      "\t\u001b[96m\u001b[1mmovabsq\u001b[22m\u001b[39m\t\u001b[33m$4538966752\u001b[39m\u001b[0m, \u001b[0m%rdx               \u001b[0m## \u001b[0mimm \u001b[0m= \u001b[33m0x10E8B22E0\u001b[39m\n",
      "\u001b[90m; │││││││││┌ @ abstractarray.jl:1427 within `unalias`\u001b[39m\n",
      "\u001b[90m; ││││││││││┌ @ abstractarray.jl:1462 within `mightalias`\u001b[39m\n",
      "\t\u001b[96m\u001b[1mtestb\u001b[22m\u001b[39m\t\u001b[33m$8\u001b[39m\u001b[0m, \u001b[33m211915832\u001b[39m\u001b[33m(\u001b[39m\u001b[0m%rdx\u001b[33m)\u001b[39m\n",
      "\t\u001b[96m\u001b[1mmovq\u001b[22m\u001b[39m\t\u001b[0m%r9\u001b[0m, \u001b[0m%r12\n",
      "\t\u001b[96m\u001b[1mjne\u001b[22m\u001b[39m\t\u001b[91mLBB0_7\u001b[39m\n",
      "\u001b[0m## \u001b[0m%bb.5\u001b[0m:                               \u001b[0m## \u001b[0m%L95\n",
      "\u001b[90m; │││││││││││┌ @ abstractarray.jl:1486 within `dataids`\u001b[39m\n",
      "\u001b[90m; ││││││││││││┌ @ abstractarray.jl:1187 within `pointer`\u001b[39m\n",
      "\u001b[90m; │││││││││││││┌ @ pointer.jl:65 within `unsafe_convert`\u001b[39m\n",
      "\t\u001b[96m\u001b[1mmovq\u001b[22m\u001b[39m\t\u001b[33m(\u001b[39m\u001b[0m%r11\u001b[33m)\u001b[39m\u001b[0m, \u001b[0m%rax\n",
      "\t\u001b[96m\u001b[1mmovq\u001b[22m\u001b[39m\t\u001b[0m%r9\u001b[0m, \u001b[0m%r12\n",
      "\u001b[90m; │││││││││││└└└\u001b[39m\n",
      "\u001b[90m; │││││││││││┌ @ abstractarray.jl:1469 within `_isdisjoint`\u001b[39m\n",
      "\u001b[90m; ││││││││││││┌ @ operators.jl:282 within `!=`\u001b[39m\n",
      "\u001b[90m; │││││││││││││┌ @ promotion.jl:477 within `==`\u001b[39m\n",
      "\t\u001b[96m\u001b[1mcmpq\u001b[22m\u001b[39m\t\u001b[33m(\u001b[39m\u001b[0m%r9\u001b[33m)\u001b[39m\u001b[0m, \u001b[0m%rax\n",
      "\u001b[90m; ││││││││││└└└└\u001b[39m\n",
      "\t\u001b[96m\u001b[1mjne\u001b[22m\u001b[39m\t\u001b[91mLBB0_7\u001b[39m\n",
      "\u001b[0m## \u001b[0m%bb.6\u001b[0m:                               \u001b[0m## \u001b[0m%L107\n",
      "\t\u001b[96m\u001b[1mmovq\u001b[22m\u001b[39m\t\u001b[0m%r11\u001b[0m, \u001b[33m56\u001b[39m\u001b[33m(\u001b[39m\u001b[0m%rsp\u001b[33m)\u001b[39m\n",
      "\u001b[90m; ││││││││││┌ @ abstractarray.jl:1443 within `unaliascopy`\u001b[39m\n",
      "\u001b[90m; │││││││││││┌ @ array.jl:369 within `copy`\u001b[39m\n",
      "\t\u001b[96m\u001b[1mmovq\u001b[22m\u001b[39m\t\u001b[0m%r9\u001b[0m, \u001b[0m%rdi\n",
      "\t\u001b[96m\u001b[1mmovq\u001b[22m\u001b[39m\t\u001b[0m%r11\u001b[0m, \u001b[0m%r14\n",
      "\t\u001b[96m\u001b[1mmovabsq\u001b[22m\u001b[39m\t\u001b[33m$4538966752\u001b[39m\u001b[0m, \u001b[0m%rax               \u001b[0m## \u001b[0mimm \u001b[0m= \u001b[33m0x10E8B22E0\u001b[39m\n",
      "\t\u001b[96m\u001b[1mcallq\u001b[22m\u001b[39m\t\u001b[0m*\u001b[0m%rax\n",
      "\t\u001b[96m\u001b[1mmovabsq\u001b[22m\u001b[39m\t\u001b[33m$4538966752\u001b[39m\u001b[0m, \u001b[0m%rdx               \u001b[0m## \u001b[0mimm \u001b[0m= \u001b[33m0x10E8B22E0\u001b[39m\n",
      "\t\u001b[96m\u001b[1mmovq\u001b[22m\u001b[39m\t\u001b[0m%r14\u001b[0m, \u001b[0m%r11\n",
      "\t\u001b[96m\u001b[1mmovq\u001b[22m\u001b[39m\t\u001b[33m24\u001b[39m\u001b[33m(\u001b[39m\u001b[0m%rsp\u001b[33m)\u001b[39m\u001b[0m, \u001b[0m%r9                   \u001b[0m## \u001b[0m8-byte \u001b[0mReload\n",
      "\t\u001b[96m\u001b[1mmovq\u001b[22m\u001b[39m\t\u001b[0m%rax\u001b[0m, \u001b[0m%r12\n",
      "\t\u001b[96m\u001b[1mjmp\u001b[22m\u001b[39m\t\u001b[91mLBB0_7\u001b[39m\n",
      "\u001b[91mLBB0_3:\u001b[39m\n",
      "\t\u001b[96m\u001b[1mmovq\u001b[22m\u001b[39m\t\u001b[0m%r9\u001b[0m, \u001b[0m%r12\n",
      "\t\u001b[96m\u001b[1mmovabsq\u001b[22m\u001b[39m\t\u001b[33m$4538966752\u001b[39m\u001b[0m, \u001b[0m%rdx               \u001b[0m## \u001b[0mimm \u001b[0m= \u001b[33m0x10E8B22E0\u001b[39m\n",
      "\u001b[91mLBB0_7:\u001b[39m                                 \u001b[0m## \u001b[0m%L112\n",
      "\u001b[90m; ││││││││└└└└\u001b[39m\n",
      "\u001b[90m; ││││││││┌ @ broadcast.jl:637 within `extrude`\u001b[39m\n",
      "\u001b[90m; │││││││││┌ @ broadcast.jl:586 within `newindexer`\u001b[39m\n",
      "\u001b[90m; ││││││││││┌ @ abstractarray.jl:95 within `axes`\u001b[39m\n",
      "\u001b[90m; │││││││││││┌ @ array.jl:151 within `size`\u001b[39m\n",
      "\t\u001b[96m\u001b[1mmovq\u001b[22m\u001b[39m\t\u001b[33m8\u001b[39m\u001b[33m(\u001b[39m\u001b[0m%r12\u001b[33m)\u001b[39m\u001b[0m, \u001b[0m%r14\n",
      "\t\u001b[96m\u001b[1mmovq\u001b[22m\u001b[39m\t\u001b[0m%rbx\u001b[0m, \u001b[0m%r15\n",
      "\u001b[90m; │││││││└└└└└\u001b[39m\n",
      "\u001b[90m; │││││││ @ broadcast.jl:943 within `preprocess_args` @ broadcast.jl:944\u001b[39m\n",
      "\u001b[90m; │││││││┌ @ broadcast.jl:941 within `preprocess`\u001b[39m\n",
      "\u001b[90m; ││││││││┌ @ broadcast.jl:934 within `broadcast_unalias`\u001b[39m\n",
      "\t\u001b[96m\u001b[1mcmpq\u001b[22m\u001b[39m\t\u001b[0m%rbx\u001b[0m, \u001b[0m%r11\n",
      "\t\u001b[96m\u001b[1mje\u001b[22m\u001b[39m\t\u001b[91mLBB0_8\u001b[39m\n",
      "\u001b[0m## \u001b[0m%bb.9\u001b[0m:                               \u001b[0m## \u001b[0m%L125\n",
      "\u001b[90m; │││││││││┌ @ abstractarray.jl:1427 within `unalias`\u001b[39m\n",
      "\u001b[90m; ││││││││││┌ @ abstractarray.jl:1462 within `mightalias`\u001b[39m\n",
      "\t\u001b[96m\u001b[1mtestb\u001b[22m\u001b[39m\t\u001b[33m$8\u001b[39m\u001b[0m, \u001b[33m211915832\u001b[39m\u001b[33m(\u001b[39m\u001b[0m%rdx\u001b[33m)\u001b[39m\n",
      "\t\u001b[96m\u001b[1mmovq\u001b[22m\u001b[39m\t\u001b[0m%r15\u001b[0m, \u001b[0m%rax\n",
      "\t\u001b[96m\u001b[1mjne\u001b[22m\u001b[39m\t\u001b[91mLBB0_12\u001b[39m\n",
      "\u001b[0m## \u001b[0m%bb.10\u001b[0m:                              \u001b[0m## \u001b[0m%L135\n",
      "\u001b[90m; │││││││││││┌ @ abstractarray.jl:1486 within `dataids`\u001b[39m\n",
      "\u001b[90m; ││││││││││││┌ @ abstractarray.jl:1187 within `pointer`\u001b[39m\n",
      "\u001b[90m; │││││││││││││┌ @ pointer.jl:65 within `unsafe_convert`\u001b[39m\n",
      "\t\u001b[96m\u001b[1mmovq\u001b[22m\u001b[39m\t\u001b[33m(\u001b[39m\u001b[0m%r11\u001b[33m)\u001b[39m\u001b[0m, \u001b[0m%rcx\n",
      "\t\u001b[96m\u001b[1mmovq\u001b[22m\u001b[39m\t\u001b[0m%r15\u001b[0m, \u001b[0m%rax\n",
      "\u001b[90m; │││││││││││└└└\u001b[39m\n",
      "\u001b[90m; │││││││││││┌ @ abstractarray.jl:1469 within `_isdisjoint`\u001b[39m\n",
      "\u001b[90m; ││││││││││││┌ @ operators.jl:282 within `!=`\u001b[39m\n",
      "\u001b[90m; │││││││││││││┌ @ promotion.jl:477 within `==`\u001b[39m\n",
      "\t\u001b[96m\u001b[1mcmpq\u001b[22m\u001b[39m\t\u001b[33m(\u001b[39m\u001b[0m%r15\u001b[33m)\u001b[39m\u001b[0m, \u001b[0m%rcx\n",
      "\u001b[90m; ││││││││││└└└└\u001b[39m\n",
      "\t\u001b[96m\u001b[1mjne\u001b[22m\u001b[39m\t\u001b[91mLBB0_12\u001b[39m\n",
      "\u001b[0m## \u001b[0m%bb.11\u001b[0m:                              \u001b[0m## \u001b[0m%L147\n",
      "\t\u001b[96m\u001b[1mmovq\u001b[22m\u001b[39m\t\u001b[0m%r11\u001b[0m, \u001b[33m56\u001b[39m\u001b[33m(\u001b[39m\u001b[0m%rsp\u001b[33m)\u001b[39m\n",
      "\t\u001b[96m\u001b[1mmovq\u001b[22m\u001b[39m\t\u001b[0m%r12\u001b[0m, \u001b[33m48\u001b[39m\u001b[33m(\u001b[39m\u001b[0m%rsp\u001b[33m)\u001b[39m\n",
      "\u001b[90m; ││││││││││┌ @ abstractarray.jl:1443 within `unaliascopy`\u001b[39m\n",
      "\u001b[90m; │││││││││││┌ @ array.jl:369 within `copy`\u001b[39m\n",
      "\t\u001b[96m\u001b[1mmovq\u001b[22m\u001b[39m\t\u001b[0m%r15\u001b[0m, \u001b[0m%rdi\n",
      "\t\u001b[96m\u001b[1mmovq\u001b[22m\u001b[39m\t\u001b[0m%r11\u001b[0m, \u001b[0m%rbx\n",
      "\t\u001b[96m\u001b[1mcallq\u001b[22m\u001b[39m\t\u001b[0m*\u001b[0m%rdx\n",
      "\t\u001b[96m\u001b[1mmovq\u001b[22m\u001b[39m\t\u001b[0m%rbx\u001b[0m, \u001b[0m%r11\n",
      "\t\u001b[96m\u001b[1mmovq\u001b[22m\u001b[39m\t\u001b[33m24\u001b[39m\u001b[33m(\u001b[39m\u001b[0m%rsp\u001b[33m)\u001b[39m\u001b[0m, \u001b[0m%r9                   \u001b[0m## \u001b[0m8-byte \u001b[0mReload\n",
      "\t\u001b[96m\u001b[1mjmp\u001b[22m\u001b[39m\t\u001b[91mLBB0_12\u001b[39m\n",
      "\u001b[91mLBB0_8:\u001b[39m\n",
      "\t\u001b[96m\u001b[1mmovq\u001b[22m\u001b[39m\t\u001b[0m%r15\u001b[0m, \u001b[0m%rax\n",
      "\u001b[91mLBB0_12:\u001b[39m                                \u001b[0m## \u001b[0m%L152\n",
      "\u001b[90m; │││││└└└└└└└\u001b[39m\n",
      "\u001b[90m; │││││ @ broadcast.jl:913 within `copyto!` @ broadcast.jl:960\u001b[39m\n",
      "\u001b[90m; │││││┌ @ simdloop.jl:72 within `macro expansion`\u001b[39m\n",
      "\u001b[90m; ││││││┌ @ int.jl:83 within `<`\u001b[39m\n",
      "\t\u001b[96m\u001b[1mtestq\u001b[22m\u001b[39m\t\u001b[0m%r13\u001b[0m, \u001b[0m%r13\n",
      "\u001b[90m; ││││││└\u001b[39m\n",
      "\t\u001b[96m\u001b[1mje\u001b[22m\u001b[39m\t\u001b[91mLBB0_48\u001b[39m\n",
      "\u001b[0m## \u001b[0m%bb.13\u001b[0m:                              \u001b[0m## \u001b[0m%L174.lr.ph\n",
      "\u001b[90m; │││││└\u001b[39m\n",
      "\u001b[90m; │││││ @ broadcast.jl:913 within `copyto!` @ broadcast.jl:957\u001b[39m\n",
      "\u001b[90m; │││││┌ @ broadcast.jl:940 within `preprocess`\u001b[39m\n",
      "\u001b[90m; ││││││┌ @ broadcast.jl:943 within `preprocess_args`\u001b[39m\n",
      "\u001b[90m; │││││││┌ @ array.jl within `size`\u001b[39m\n",
      "\t\u001b[96m\u001b[1mmovq\u001b[22m\u001b[39m\t\u001b[33m8\u001b[39m\u001b[33m(\u001b[39m\u001b[0m%rax\u001b[33m)\u001b[39m\u001b[0m, \u001b[0m%rsi\n",
      "\t\u001b[96m\u001b[1mmovq\u001b[22m\u001b[39m\t\u001b[33m(\u001b[39m\u001b[0m%r12\u001b[33m)\u001b[39m\u001b[0m, \u001b[0m%rcx\n",
      "\t\u001b[96m\u001b[1mmovq\u001b[22m\u001b[39m\t\u001b[33m(\u001b[39m\u001b[0m%rax\u001b[33m)\u001b[39m\u001b[0m, \u001b[0m%rax\n",
      "\t\u001b[96m\u001b[1mmovq\u001b[22m\u001b[39m\t\u001b[33m(\u001b[39m\u001b[0m%r11\u001b[33m)\u001b[39m\u001b[0m, \u001b[0m%rdx\n",
      "\u001b[90m; │││││││└\u001b[39m\n",
      "\u001b[90m; │││││││┌ @ broadcast.jl:941 within `preprocess`\u001b[39m\n",
      "\u001b[90m; ││││││││┌ @ broadcast.jl:637 within `extrude`\u001b[39m\n",
      "\u001b[90m; │││││││││┌ @ broadcast.jl:586 within `newindexer`\u001b[39m\n",
      "\u001b[90m; ││││││││││┌ @ broadcast.jl:587 within `shapeindexer`\u001b[39m\n",
      "\u001b[90m; │││││││││││┌ @ broadcast.jl:592 within `_newindexer`\u001b[39m\n",
      "\u001b[90m; ││││││││││││┌ @ operators.jl:282 within `!=`\u001b[39m\n",
      "\u001b[90m; │││││││││││││┌ @ promotion.jl:477 within `==`\u001b[39m\n",
      "\t\u001b[96m\u001b[1mcmpq\u001b[22m\u001b[39m\t\u001b[33m$1\u001b[39m\u001b[0m, \u001b[0m%r14\n",
      "\u001b[90m; │││││└└└└└└└└└\u001b[39m\n",
      "\u001b[90m; │││││ @ broadcast.jl:913 within `copyto!` @ broadcast.jl:960\u001b[39m\n",
      "\u001b[90m; │││││┌ @ simdloop.jl:75 within `macro expansion`\u001b[39m\n",
      "\t\u001b[96m\u001b[1mjne\u001b[22m\u001b[39m\t\u001b[91mLBB0_14\u001b[39m\n",
      "\u001b[0m## \u001b[0m%bb.31\u001b[0m:                              \u001b[0m## \u001b[0m%L174.lr.ph.split.us\n",
      "\u001b[90m; │││││└\u001b[39m\n",
      "\u001b[90m; │││││ @ broadcast.jl:913 within `copyto!` @ broadcast.jl:957\u001b[39m\n",
      "\u001b[90m; │││││┌ @ broadcast.jl:940 within `preprocess`\u001b[39m\n",
      "\u001b[90m; ││││││┌ @ broadcast.jl:943 within `preprocess_args` @ broadcast.jl:944\u001b[39m\n",
      "\u001b[90m; │││││││┌ @ broadcast.jl:941 within `preprocess`\u001b[39m\n",
      "\u001b[90m; ││││││││┌ @ broadcast.jl:637 within `extrude`\u001b[39m\n",
      "\u001b[90m; │││││││││┌ @ broadcast.jl:586 within `newindexer`\u001b[39m\n",
      "\u001b[90m; ││││││││││┌ @ broadcast.jl:587 within `shapeindexer`\u001b[39m\n",
      "\u001b[90m; │││││││││││┌ @ broadcast.jl:592 within `_newindexer`\u001b[39m\n",
      "\u001b[90m; ││││││││││││┌ @ operators.jl:282 within `!=`\u001b[39m\n",
      "\u001b[90m; │││││││││││││┌ @ promotion.jl:477 within `==`\u001b[39m\n",
      "\t\u001b[96m\u001b[1mcmpq\u001b[22m\u001b[39m\t\u001b[33m$1\u001b[39m\u001b[0m, \u001b[0m%rsi\n",
      "\u001b[90m; │││││└└└└└└└└└\u001b[39m\n",
      "\u001b[90m; │││││ @ broadcast.jl:913 within `copyto!` @ broadcast.jl:960\u001b[39m\n",
      "\u001b[90m; │││││┌ @ simdloop.jl:75 within `macro expansion`\u001b[39m\n",
      "\t\u001b[96m\u001b[1mjne\u001b[22m\u001b[39m\t\u001b[91mLBB0_32\u001b[39m\n",
      "\u001b[0m## \u001b[0m%bb.40\u001b[0m:                              \u001b[0m## \u001b[0m%L174.us.us.preheader\n",
      "\t\u001b[96m\u001b[1mcmpq\u001b[22m\u001b[39m\t\u001b[33m$16\u001b[39m\u001b[0m, \u001b[0m%r13\n",
      "\t\u001b[96m\u001b[1mjae\u001b[22m\u001b[39m\t\u001b[91mLBB0_42\u001b[39m\n",
      "\u001b[0m## \u001b[0m%bb.41\u001b[0m:\n",
      "\t\u001b[96m\u001b[1mxorl\u001b[22m\u001b[39m\t\u001b[0m%esi\u001b[0m, \u001b[0m%esi\n",
      "\t\u001b[96m\u001b[1mjmp\u001b[22m\u001b[39m\t\u001b[91mLBB0_47\u001b[39m\n",
      "\u001b[91mLBB0_14:\u001b[39m                                \u001b[0m## \u001b[0m%L174.lr.ph.L174.lr.ph.split_crit_edge\n",
      "\u001b[90m; │││││└\u001b[39m\n",
      "\u001b[90m; │││││ @ broadcast.jl:913 within `copyto!` @ broadcast.jl:957\u001b[39m\n",
      "\u001b[90m; │││││┌ @ broadcast.jl:940 within `preprocess`\u001b[39m\n",
      "\u001b[90m; ││││││┌ @ broadcast.jl:943 within `preprocess_args` @ broadcast.jl:944\u001b[39m\n",
      "\u001b[90m; │││││││┌ @ broadcast.jl:941 within `preprocess`\u001b[39m\n",
      "\u001b[90m; ││││││││┌ @ broadcast.jl:637 within `extrude`\u001b[39m\n",
      "\u001b[90m; │││││││││┌ @ broadcast.jl:586 within `newindexer`\u001b[39m\n",
      "\u001b[90m; ││││││││││┌ @ broadcast.jl:587 within `shapeindexer`\u001b[39m\n",
      "\u001b[90m; │││││││││││┌ @ broadcast.jl:592 within `_newindexer`\u001b[39m\n",
      "\u001b[90m; ││││││││││││┌ @ operators.jl:282 within `!=`\u001b[39m\n",
      "\u001b[90m; │││││││││││││┌ @ promotion.jl:477 within `==`\u001b[39m\n",
      "\t\u001b[96m\u001b[1mcmpq\u001b[22m\u001b[39m\t\u001b[33m$1\u001b[39m\u001b[0m, \u001b[0m%rsi\n",
      "\u001b[90m; │││││└└└└└└└└└\u001b[39m\n",
      "\u001b[90m; │││││ @ broadcast.jl:913 within `copyto!` @ broadcast.jl:960\u001b[39m\n",
      "\u001b[90m; │││││┌ @ simdloop.jl:75 within `macro expansion`\u001b[39m\n",
      "\t\u001b[96m\u001b[1mjne\u001b[22m\u001b[39m\t\u001b[91mLBB0_15\u001b[39m\n",
      "\u001b[0m## \u001b[0m%bb.23\u001b[0m:                              \u001b[0m## \u001b[0m%L174.us72.preheader\n",
      "\t\u001b[96m\u001b[1mcmpq\u001b[22m\u001b[39m\t\u001b[33m$16\u001b[39m\u001b[0m, \u001b[0m%r13\n",
      "\t\u001b[96m\u001b[1mjae\u001b[22m\u001b[39m\t\u001b[91mLBB0_25\u001b[39m\n",
      "\u001b[0m## \u001b[0m%bb.24\u001b[0m:\n",
      "\t\u001b[96m\u001b[1mxorl\u001b[22m\u001b[39m\t\u001b[0m%esi\u001b[0m, \u001b[0m%esi\n",
      "\t\u001b[96m\u001b[1mjmp\u001b[22m\u001b[39m\t\u001b[91mLBB0_30\u001b[39m\n",
      "\u001b[91mLBB0_32:\u001b[39m                                \u001b[0m## \u001b[0m%L174.us.preheader\n",
      "\t\u001b[96m\u001b[1mcmpq\u001b[22m\u001b[39m\t\u001b[33m$16\u001b[39m\u001b[0m, \u001b[0m%r13\n",
      "\t\u001b[96m\u001b[1mjae\u001b[22m\u001b[39m\t\u001b[91mLBB0_34\u001b[39m\n",
      "\u001b[0m## \u001b[0m%bb.33\u001b[0m:\n",
      "\t\u001b[96m\u001b[1mxorl\u001b[22m\u001b[39m\t\u001b[0m%esi\u001b[0m, \u001b[0m%esi\n"
     ]
    },
    {
     "name": "stdout",
     "output_type": "stream",
     "text": [
      "\t\u001b[96m\u001b[1mjmp\u001b[22m\u001b[39m\t\u001b[91mLBB0_39\u001b[39m\n",
      "\u001b[91mLBB0_15:\u001b[39m                                \u001b[0m## \u001b[0m%L174.preheader\n",
      "\t\u001b[96m\u001b[1mcmpq\u001b[22m\u001b[39m\t\u001b[33m$16\u001b[39m\u001b[0m, \u001b[0m%r13\n",
      "\t\u001b[96m\u001b[1mjae\u001b[22m\u001b[39m\t\u001b[91mLBB0_17\u001b[39m\n",
      "\u001b[0m## \u001b[0m%bb.16\u001b[0m:\n",
      "\t\u001b[96m\u001b[1mxorl\u001b[22m\u001b[39m\t\u001b[0m%esi\u001b[0m, \u001b[0m%esi\n",
      "\t\u001b[96m\u001b[1mjmp\u001b[22m\u001b[39m\t\u001b[91mLBB0_22\u001b[39m\n",
      "\u001b[91mLBB0_42:\u001b[39m                                \u001b[0m## \u001b[0m%vector.memcheck172\n",
      "\t\u001b[96m\u001b[1mleaq\u001b[22m\u001b[39m\t\u001b[33m(\u001b[39m\u001b[0m%rdx\u001b[0m,\u001b[0m%r13\u001b[0m,\u001b[33m8\u001b[39m\u001b[33m)\u001b[39m\u001b[0m, \u001b[0m%rsi\n",
      "\t\u001b[96m\u001b[1mleaq\u001b[22m\u001b[39m\t\u001b[33m8\u001b[39m\u001b[33m(\u001b[39m\u001b[0m%rcx\u001b[33m)\u001b[39m\u001b[0m, \u001b[0m%rdi\n",
      "\t\u001b[96m\u001b[1mleaq\u001b[22m\u001b[39m\t\u001b[33m8\u001b[39m\u001b[33m(\u001b[39m\u001b[0m%rax\u001b[33m)\u001b[39m\u001b[0m, \u001b[0m%r8\n",
      "\t\u001b[96m\u001b[1mcmpq\u001b[22m\u001b[39m\t\u001b[0m%rdi\u001b[0m, \u001b[0m%rdx\n",
      "\t\u001b[96m\u001b[1msetb\u001b[22m\u001b[39m\t\u001b[0m%bl\n",
      "\t\u001b[96m\u001b[1mcmpq\u001b[22m\u001b[39m\t\u001b[0m%rsi\u001b[0m, \u001b[0m%rcx\n",
      "\t\u001b[96m\u001b[1msetb\u001b[22m\u001b[39m\t\u001b[0m%r10b\n",
      "\t\u001b[96m\u001b[1mcmpq\u001b[22m\u001b[39m\t\u001b[0m%r8\u001b[0m, \u001b[0m%rdx\n",
      "\t\u001b[96m\u001b[1msetb\u001b[22m\u001b[39m\t\u001b[0m%dil\n",
      "\t\u001b[96m\u001b[1mcmpq\u001b[22m\u001b[39m\t\u001b[0m%rsi\u001b[0m, \u001b[0m%rax\n",
      "\t\u001b[96m\u001b[1msetb\u001b[22m\u001b[39m\t\u001b[0m%r8b\n",
      "\t\u001b[96m\u001b[1mxorl\u001b[22m\u001b[39m\t\u001b[0m%esi\u001b[0m, \u001b[0m%esi\n",
      "\t\u001b[96m\u001b[1mtestb\u001b[22m\u001b[39m\t\u001b[0m%r10b\u001b[0m, \u001b[0m%bl\n",
      "\t\u001b[96m\u001b[1mjne\u001b[22m\u001b[39m\t\u001b[91mLBB0_47\u001b[39m\n",
      "\u001b[0m## \u001b[0m%bb.43\u001b[0m:                              \u001b[0m## \u001b[0m%vector.memcheck172\n",
      "\t\u001b[96m\u001b[1mandb\u001b[22m\u001b[39m\t\u001b[0m%r8b\u001b[0m, \u001b[0m%dil\n",
      "\t\u001b[96m\u001b[1mjne\u001b[22m\u001b[39m\t\u001b[91mLBB0_47\u001b[39m\n",
      "\u001b[0m## \u001b[0m%bb.44\u001b[0m:                              \u001b[0m## \u001b[0m%vector.ph191\n",
      "\t\u001b[96m\u001b[1mmovq\u001b[22m\u001b[39m\t\u001b[0m%r13\u001b[0m, \u001b[0m%rsi\n",
      "\t\u001b[96m\u001b[1mandq\u001b[22m\u001b[39m\t\u001b[33m$-16\u001b[39m\u001b[0m, \u001b[0m%rsi\n",
      "\t\u001b[96m\u001b[1mxorl\u001b[22m\u001b[39m\t\u001b[0m%edi\u001b[0m, \u001b[0m%edi\n",
      "\t\u001b[0m.p2align\t\u001b[33m4\u001b[39m\u001b[0m, \u001b[33m0x90\u001b[39m\n",
      "\u001b[91mLBB0_45:\u001b[39m                                \u001b[0m## \u001b[0m%vector.body189\n",
      "                                        \u001b[0m## \u001b[0m=>This \u001b[0mInner \u001b[91mLoop\u001b[39m \u001b[0mHeader\u001b[0m: \u001b[0mDepth=1\n",
      "\u001b[90m; ││││││ @ simdloop.jl:78 within `macro expansion`\u001b[39m\n",
      "\u001b[90m; ││││││┌ @ int.jl:87 within `+`\u001b[39m\n",
      "\t\u001b[96m\u001b[1mvmovq\u001b[22m\u001b[39m\t\u001b[33m(\u001b[39m\u001b[0m%rcx\u001b[33m)\u001b[39m\u001b[0m, \u001b[0m%xmm0                   \u001b[0m## \u001b[0mxmm0 \u001b[0m= \u001b[0mmem\u001b[33m[\u001b[39m\u001b[33m0\u001b[39m\u001b[33m]\u001b[39m\u001b[0m,\u001b[0mzero\n",
      "\t\u001b[96m\u001b[1mvmovq\u001b[22m\u001b[39m\t\u001b[33m(\u001b[39m\u001b[0m%rax\u001b[33m)\u001b[39m\u001b[0m, \u001b[0m%xmm1                   \u001b[0m## \u001b[0mxmm1 \u001b[0m= \u001b[0mmem\u001b[33m[\u001b[39m\u001b[33m0\u001b[39m\u001b[33m]\u001b[39m\u001b[0m,\u001b[0mzero\n",
      "\t\u001b[96m\u001b[1mvpaddq\u001b[22m\u001b[39m\t\u001b[0m%xmm0\u001b[0m, \u001b[0m%xmm1\u001b[0m, \u001b[0m%xmm0\n",
      "\t\u001b[96m\u001b[1mvpbroadcastq\u001b[22m\u001b[39m\t\u001b[0m%xmm0\u001b[0m, \u001b[0m%ymm0\n",
      "\u001b[90m; ││││││└\u001b[39m\n",
      "\u001b[90m; ││││││ @ simdloop.jl:77 within `macro expansion` @ broadcast.jl:961\u001b[39m\n",
      "\u001b[90m; ││││││┌ @ array.jl:966 within `setindex!`\u001b[39m\n",
      "\t\u001b[96m\u001b[1mvmovdqu\u001b[22m\u001b[39m\t\u001b[0m%ymm0\u001b[0m, \u001b[33m(\u001b[39m\u001b[0m%rdx\u001b[0m,\u001b[0m%rdi\u001b[0m,\u001b[33m8\u001b[39m\u001b[33m)\u001b[39m\n",
      "\t\u001b[96m\u001b[1mvmovdqu\u001b[22m\u001b[39m\t\u001b[0m%ymm0\u001b[0m, \u001b[33m32\u001b[39m\u001b[33m(\u001b[39m\u001b[0m%rdx\u001b[0m,\u001b[0m%rdi\u001b[0m,\u001b[33m8\u001b[39m\u001b[33m)\u001b[39m\n",
      "\t\u001b[96m\u001b[1mvmovdqu\u001b[22m\u001b[39m\t\u001b[0m%ymm0\u001b[0m, \u001b[33m64\u001b[39m\u001b[33m(\u001b[39m\u001b[0m%rdx\u001b[0m,\u001b[0m%rdi\u001b[0m,\u001b[33m8\u001b[39m\u001b[33m)\u001b[39m\n",
      "\t\u001b[96m\u001b[1mvmovdqu\u001b[22m\u001b[39m\t\u001b[0m%ymm0\u001b[0m, \u001b[33m96\u001b[39m\u001b[33m(\u001b[39m\u001b[0m%rdx\u001b[0m,\u001b[0m%rdi\u001b[0m,\u001b[33m8\u001b[39m\u001b[33m)\u001b[39m\n",
      "\u001b[90m; ││││││└\u001b[39m\n",
      "\u001b[90m; ││││││ @ simdloop.jl:78 within `macro expansion`\u001b[39m\n",
      "\u001b[90m; ││││││┌ @ int.jl:87 within `+`\u001b[39m\n",
      "\t\u001b[96m\u001b[1maddq\u001b[22m\u001b[39m\t\u001b[33m$16\u001b[39m\u001b[0m, \u001b[0m%rdi\n",
      "\t\u001b[96m\u001b[1mcmpq\u001b[22m\u001b[39m\t\u001b[0m%rdi\u001b[0m, \u001b[0m%rsi\n",
      "\t\u001b[96m\u001b[1mjne\u001b[22m\u001b[39m\t\u001b[91mLBB0_45\u001b[39m\n",
      "\u001b[0m## \u001b[0m%bb.46\u001b[0m:                              \u001b[0m## \u001b[0m%middle.block187\n",
      "\u001b[90m; ││││││└\u001b[39m\n",
      "\u001b[90m; ││││││ @ simdloop.jl:75 within `macro expansion`\u001b[39m\n",
      "\t\u001b[96m\u001b[1mcmpq\u001b[22m\u001b[39m\t\u001b[0m%rsi\u001b[0m, \u001b[0m%r13\n",
      "\t\u001b[96m\u001b[1mje\u001b[22m\u001b[39m\t\u001b[91mLBB0_48\u001b[39m\n",
      "\t\u001b[0m.p2align\t\u001b[33m4\u001b[39m\u001b[0m, \u001b[33m0x90\u001b[39m\n",
      "\u001b[91mLBB0_47:\u001b[39m                                \u001b[0m## \u001b[0m%L174.us.us\n",
      "                                        \u001b[0m## \u001b[0m=>This \u001b[0mInner \u001b[91mLoop\u001b[39m \u001b[0mHeader\u001b[0m: \u001b[0mDepth=1\n",
      "\u001b[90m; ││││││ @ simdloop.jl:77 within `macro expansion` @ broadcast.jl:961\u001b[39m\n",
      "\u001b[90m; ││││││┌ @ broadcast.jl:597 within `getindex`\u001b[39m\n",
      "\u001b[90m; │││││││┌ @ broadcast.jl:642 within `_broadcast_getindex`\u001b[39m\n",
      "\u001b[90m; ││││││││┌ @ broadcast.jl:666 within `_getindex` @ broadcast.jl:667\u001b[39m\n",
      "\u001b[90m; │││││││││┌ @ broadcast.jl:636 within `_broadcast_getindex`\u001b[39m\n",
      "\u001b[90m; ││││││││││┌ @ array.jl:924 within `getindex`\u001b[39m\n",
      "\t\u001b[96m\u001b[1mmovq\u001b[22m\u001b[39m\t\u001b[33m(\u001b[39m\u001b[0m%rax\u001b[33m)\u001b[39m\u001b[0m, \u001b[0m%rdi\n",
      "\u001b[90m; ││││││││└└└\u001b[39m\n",
      "\u001b[90m; ││││││││ @ broadcast.jl:643 within `_broadcast_getindex`\u001b[39m\n",
      "\u001b[90m; ││││││││┌ @ broadcast.jl:670 within `_broadcast_getindex_evalf`\u001b[39m\n",
      "\u001b[90m; │││││││││┌ @ int.jl:87 within `+`\u001b[39m\n",
      "\t\u001b[96m\u001b[1maddq\u001b[22m\u001b[39m\t\u001b[33m(\u001b[39m\u001b[0m%rcx\u001b[33m)\u001b[39m\u001b[0m, \u001b[0m%rdi\n",
      "\u001b[90m; ││││││└└└└\u001b[39m\n",
      "\u001b[90m; ││││││┌ @ array.jl:966 within `setindex!`\u001b[39m\n",
      "\t\u001b[96m\u001b[1mmovq\u001b[22m\u001b[39m\t\u001b[0m%rdi\u001b[0m, \u001b[33m(\u001b[39m\u001b[0m%rdx\u001b[0m,\u001b[0m%rsi\u001b[0m,\u001b[33m8\u001b[39m\u001b[33m)\u001b[39m\n",
      "\u001b[90m; ││││││└\u001b[39m\n",
      "\u001b[90m; ││││││ @ simdloop.jl:78 within `macro expansion`\u001b[39m\n",
      "\u001b[90m; ││││││┌ @ int.jl:87 within `+`\u001b[39m\n",
      "\t\u001b[96m\u001b[1mincq\u001b[22m\u001b[39m\t\u001b[0m%rsi\n",
      "\u001b[90m; ││││││└\u001b[39m\n",
      "\u001b[90m; ││││││ @ simdloop.jl:75 within `macro expansion`\u001b[39m\n",
      "\u001b[90m; ││││││┌ @ int.jl:83 within `<`\u001b[39m\n",
      "\t\u001b[96m\u001b[1mcmpq\u001b[22m\u001b[39m\t\u001b[0m%rsi\u001b[0m, \u001b[0m%r13\n",
      "\u001b[90m; ││││││└\u001b[39m\n",
      "\t\u001b[96m\u001b[1mjne\u001b[22m\u001b[39m\t\u001b[91mLBB0_47\u001b[39m\n",
      "\t\u001b[96m\u001b[1mjmp\u001b[22m\u001b[39m\t\u001b[91mLBB0_48\u001b[39m\n",
      "\u001b[91mLBB0_25:\u001b[39m                                \u001b[0m## \u001b[0m%vector.memcheck98\n",
      "\t\u001b[96m\u001b[1mleaq\u001b[22m\u001b[39m\t\u001b[33m(\u001b[39m\u001b[0m%rdx\u001b[0m,\u001b[0m%r13\u001b[0m,\u001b[33m8\u001b[39m\u001b[33m)\u001b[39m\u001b[0m, \u001b[0m%rsi\n",
      "\t\u001b[96m\u001b[1mleaq\u001b[22m\u001b[39m\t\u001b[33m(\u001b[39m\u001b[0m%rcx\u001b[0m,\u001b[0m%r13\u001b[0m,\u001b[33m8\u001b[39m\u001b[33m)\u001b[39m\u001b[0m, \u001b[0m%rdi\n",
      "\t\u001b[96m\u001b[1mleaq\u001b[22m\u001b[39m\t\u001b[33m8\u001b[39m\u001b[33m(\u001b[39m\u001b[0m%rax\u001b[33m)\u001b[39m\u001b[0m, \u001b[0m%r8\n",
      "\t\u001b[96m\u001b[1mcmpq\u001b[22m\u001b[39m\t\u001b[0m%rdi\u001b[0m, \u001b[0m%rdx\n",
      "\t\u001b[96m\u001b[1msetb\u001b[22m\u001b[39m\t\u001b[0m%bl\n",
      "\t\u001b[96m\u001b[1mcmpq\u001b[22m\u001b[39m\t\u001b[0m%rsi\u001b[0m, \u001b[0m%rcx\n",
      "\t\u001b[96m\u001b[1msetb\u001b[22m\u001b[39m\t\u001b[0m%r10b\n",
      "\t\u001b[96m\u001b[1mcmpq\u001b[22m\u001b[39m\t\u001b[0m%r8\u001b[0m, \u001b[0m%rdx\n",
      "\t\u001b[96m\u001b[1msetb\u001b[22m\u001b[39m\t\u001b[0m%dil\n",
      "\t\u001b[96m\u001b[1mcmpq\u001b[22m\u001b[39m\t\u001b[0m%rsi\u001b[0m, \u001b[0m%rax\n",
      "\t\u001b[96m\u001b[1msetb\u001b[22m\u001b[39m\t\u001b[0m%r8b\n",
      "\t\u001b[96m\u001b[1mxorl\u001b[22m\u001b[39m\t\u001b[0m%esi\u001b[0m, \u001b[0m%esi\n",
      "\t\u001b[96m\u001b[1mtestb\u001b[22m\u001b[39m\t\u001b[0m%r10b\u001b[0m, \u001b[0m%bl\n",
      "\t\u001b[96m\u001b[1mjne\u001b[22m\u001b[39m\t\u001b[91mLBB0_30\u001b[39m\n",
      "\u001b[0m## \u001b[0m%bb.26\u001b[0m:                              \u001b[0m## \u001b[0m%vector.memcheck98\n",
      "\t\u001b[96m\u001b[1mandb\u001b[22m\u001b[39m\t\u001b[0m%r8b\u001b[0m, \u001b[0m%dil\n",
      "\t\u001b[96m\u001b[1mjne\u001b[22m\u001b[39m\t\u001b[91mLBB0_30\u001b[39m\n",
      "\u001b[0m## \u001b[0m%bb.27\u001b[0m:                              \u001b[0m## \u001b[0m%vector.ph117\n",
      "\t\u001b[96m\u001b[1mmovq\u001b[22m\u001b[39m\t\u001b[0m%r13\u001b[0m, \u001b[0m%rsi\n",
      "\t\u001b[96m\u001b[1mandq\u001b[22m\u001b[39m\t\u001b[33m$-16\u001b[39m\u001b[0m, \u001b[0m%rsi\n",
      "\t\u001b[96m\u001b[1mxorl\u001b[22m\u001b[39m\t\u001b[0m%edi\u001b[0m, \u001b[0m%edi\n",
      "\t\u001b[0m.p2align\t\u001b[33m4\u001b[39m\u001b[0m, \u001b[33m0x90\u001b[39m\n",
      "\u001b[91mLBB0_28:\u001b[39m                                \u001b[0m## \u001b[0m%vector.body115\n",
      "                                        \u001b[0m## \u001b[0m=>This \u001b[0mInner \u001b[91mLoop\u001b[39m \u001b[0mHeader\u001b[0m: \u001b[0mDepth=1\n",
      "\u001b[90m; ││││││ @ simdloop.jl:78 within `macro expansion`\u001b[39m\n",
      "\u001b[90m; ││││││┌ @ int.jl:87 within `+`\u001b[39m\n",
      "\t\u001b[96m\u001b[1mvpbroadcastq\u001b[22m\u001b[39m\t\u001b[33m(\u001b[39m\u001b[0m%rax\u001b[33m)\u001b[39m\u001b[0m, \u001b[0m%ymm0\n",
      "\t\u001b[96m\u001b[1mvpaddq\u001b[22m\u001b[39m\t\u001b[33m(\u001b[39m\u001b[0m%rcx\u001b[0m,\u001b[0m%rdi\u001b[0m,\u001b[33m8\u001b[39m\u001b[33m)\u001b[39m\u001b[0m, \u001b[0m%ymm0\u001b[0m, \u001b[0m%ymm1\n",
      "\t\u001b[96m\u001b[1mvpaddq\u001b[22m\u001b[39m\t\u001b[33m32\u001b[39m\u001b[33m(\u001b[39m\u001b[0m%rcx\u001b[0m,\u001b[0m%rdi\u001b[0m,\u001b[33m8\u001b[39m\u001b[33m)\u001b[39m\u001b[0m, \u001b[0m%ymm0\u001b[0m, \u001b[0m%ymm2\n",
      "\t\u001b[96m\u001b[1mvpaddq\u001b[22m\u001b[39m\t\u001b[33m64\u001b[39m\u001b[33m(\u001b[39m\u001b[0m%rcx\u001b[0m,\u001b[0m%rdi\u001b[0m,\u001b[33m8\u001b[39m\u001b[33m)\u001b[39m\u001b[0m, \u001b[0m%ymm0\u001b[0m, \u001b[0m%ymm3\n",
      "\t\u001b[96m\u001b[1mvpaddq\u001b[22m\u001b[39m\t\u001b[33m96\u001b[39m\u001b[33m(\u001b[39m\u001b[0m%rcx\u001b[0m,\u001b[0m%rdi\u001b[0m,\u001b[33m8\u001b[39m\u001b[33m)\u001b[39m\u001b[0m, \u001b[0m%ymm0\u001b[0m, \u001b[0m%ymm0\n",
      "\u001b[90m; ││││││└\u001b[39m\n",
      "\u001b[90m; ││││││ @ simdloop.jl:77 within `macro expansion` @ broadcast.jl:961\u001b[39m\n",
      "\u001b[90m; ││││││┌ @ array.jl:966 within `setindex!`\u001b[39m\n",
      "\t\u001b[96m\u001b[1mvmovdqu\u001b[22m\u001b[39m\t\u001b[0m%ymm1\u001b[0m, \u001b[33m(\u001b[39m\u001b[0m%rdx\u001b[0m,\u001b[0m%rdi\u001b[0m,\u001b[33m8\u001b[39m\u001b[33m)\u001b[39m\n",
      "\t\u001b[96m\u001b[1mvmovdqu\u001b[22m\u001b[39m\t\u001b[0m%ymm2\u001b[0m, \u001b[33m32\u001b[39m\u001b[33m(\u001b[39m\u001b[0m%rdx\u001b[0m,\u001b[0m%rdi\u001b[0m,\u001b[33m8\u001b[39m\u001b[33m)\u001b[39m\n",
      "\t\u001b[96m\u001b[1mvmovdqu\u001b[22m\u001b[39m\t\u001b[0m%ymm3\u001b[0m, \u001b[33m64\u001b[39m\u001b[33m(\u001b[39m\u001b[0m%rdx\u001b[0m,\u001b[0m%rdi\u001b[0m,\u001b[33m8\u001b[39m\u001b[33m)\u001b[39m\n",
      "\t\u001b[96m\u001b[1mvmovdqu\u001b[22m\u001b[39m\t\u001b[0m%ymm0\u001b[0m, \u001b[33m96\u001b[39m\u001b[33m(\u001b[39m\u001b[0m%rdx\u001b[0m,\u001b[0m%rdi\u001b[0m,\u001b[33m8\u001b[39m\u001b[33m)\u001b[39m\n",
      "\u001b[90m; ││││││└\u001b[39m\n",
      "\u001b[90m; ││││││ @ simdloop.jl:78 within `macro expansion`\u001b[39m\n",
      "\u001b[90m; ││││││┌ @ int.jl:87 within `+`\u001b[39m\n",
      "\t\u001b[96m\u001b[1maddq\u001b[22m\u001b[39m\t\u001b[33m$16\u001b[39m\u001b[0m, \u001b[0m%rdi\n",
      "\t\u001b[96m\u001b[1mcmpq\u001b[22m\u001b[39m\t\u001b[0m%rdi\u001b[0m, \u001b[0m%rsi\n",
      "\t\u001b[96m\u001b[1mjne\u001b[22m\u001b[39m\t\u001b[91mLBB0_28\u001b[39m\n",
      "\u001b[0m## \u001b[0m%bb.29\u001b[0m:                              \u001b[0m## \u001b[0m%middle.block113\n",
      "\u001b[90m; ││││││└\u001b[39m\n",
      "\u001b[90m; ││││││ @ simdloop.jl:75 within `macro expansion`\u001b[39m\n",
      "\t\u001b[96m\u001b[1mcmpq\u001b[22m\u001b[39m\t\u001b[0m%rsi\u001b[0m, \u001b[0m%r13\n",
      "\t\u001b[96m\u001b[1mje\u001b[22m\u001b[39m\t\u001b[91mLBB0_48\u001b[39m\n",
      "\t\u001b[0m.p2align\t\u001b[33m4\u001b[39m\u001b[0m, \u001b[33m0x90\u001b[39m\n",
      "\u001b[91mLBB0_30:\u001b[39m                                \u001b[0m## \u001b[0m%L174.us72\n",
      "                                        \u001b[0m## \u001b[0m=>This \u001b[0mInner \u001b[91mLoop\u001b[39m \u001b[0mHeader\u001b[0m: \u001b[0mDepth=1\n",
      "\u001b[90m; ││││││ @ simdloop.jl:77 within `macro expansion` @ broadcast.jl:961\u001b[39m\n",
      "\u001b[90m; ││││││┌ @ broadcast.jl:597 within `getindex`\u001b[39m\n",
      "\u001b[90m; │││││││┌ @ broadcast.jl:642 within `_broadcast_getindex`\u001b[39m\n",
      "\u001b[90m; ││││││││┌ @ broadcast.jl:666 within `_getindex` @ broadcast.jl:667\u001b[39m\n",
      "\u001b[90m; │││││││││┌ @ broadcast.jl:636 within `_broadcast_getindex`\u001b[39m\n",
      "\u001b[90m; ││││││││││┌ @ array.jl:924 within `getindex`\u001b[39m\n",
      "\t\u001b[96m\u001b[1mmovq\u001b[22m\u001b[39m\t\u001b[33m(\u001b[39m\u001b[0m%rax\u001b[33m)\u001b[39m\u001b[0m, \u001b[0m%rdi\n",
      "\u001b[90m; ││││││││└└└\u001b[39m\n",
      "\u001b[90m; ││││││││ @ broadcast.jl:643 within `_broadcast_getindex`\u001b[39m\n",
      "\u001b[90m; ││││││││┌ @ broadcast.jl:670 within `_broadcast_getindex_evalf`\u001b[39m\n",
      "\u001b[90m; │││││││││┌ @ int.jl:87 within `+`\u001b[39m\n",
      "\t\u001b[96m\u001b[1maddq\u001b[22m\u001b[39m\t\u001b[33m(\u001b[39m\u001b[0m%rcx\u001b[0m,\u001b[0m%rsi\u001b[0m,\u001b[33m8\u001b[39m\u001b[33m)\u001b[39m\u001b[0m, \u001b[0m%rdi\n",
      "\u001b[90m; ││││││└└└└\u001b[39m\n",
      "\u001b[90m; ││││││┌ @ array.jl:966 within `setindex!`\u001b[39m\n",
      "\t\u001b[96m\u001b[1mmovq\u001b[22m\u001b[39m\t\u001b[0m%rdi\u001b[0m, \u001b[33m(\u001b[39m\u001b[0m%rdx\u001b[0m,\u001b[0m%rsi\u001b[0m,\u001b[33m8\u001b[39m\u001b[33m)\u001b[39m\n",
      "\u001b[90m; ││││││└\u001b[39m\n",
      "\u001b[90m; ││││││ @ simdloop.jl:78 within `macro expansion`\u001b[39m\n",
      "\u001b[90m; ││││││┌ @ int.jl:87 within `+`\u001b[39m\n",
      "\t\u001b[96m\u001b[1mincq\u001b[22m\u001b[39m\t\u001b[0m%rsi\n",
      "\u001b[90m; ││││││└\u001b[39m\n",
      "\u001b[90m; ││││││ @ simdloop.jl:75 within `macro expansion`\u001b[39m\n",
      "\u001b[90m; ││││││┌ @ int.jl:83 within `<`\u001b[39m\n",
      "\t\u001b[96m\u001b[1mcmpq\u001b[22m\u001b[39m\t\u001b[0m%rsi\u001b[0m, \u001b[0m%r13\n",
      "\u001b[90m; ││││││└\u001b[39m\n",
      "\t\u001b[96m\u001b[1mjne\u001b[22m\u001b[39m\t\u001b[91mLBB0_30\u001b[39m\n",
      "\t\u001b[96m\u001b[1mjmp\u001b[22m\u001b[39m\t\u001b[91mLBB0_48\u001b[39m\n",
      "\u001b[91mLBB0_34:\u001b[39m                                \u001b[0m## \u001b[0m%vector.memcheck134\n",
      "\t\u001b[96m\u001b[1mleaq\u001b[22m\u001b[39m\t\u001b[33m(\u001b[39m\u001b[0m%rdx\u001b[0m,\u001b[0m%r13\u001b[0m,\u001b[33m8\u001b[39m\u001b[33m)\u001b[39m\u001b[0m, \u001b[0m%rsi\n",
      "\t\u001b[96m\u001b[1mleaq\u001b[22m\u001b[39m\t\u001b[33m8\u001b[39m\u001b[33m(\u001b[39m\u001b[0m%rcx\u001b[33m)\u001b[39m\u001b[0m, \u001b[0m%rdi\n",
      "\t\u001b[96m\u001b[1mleaq\u001b[22m\u001b[39m\t\u001b[33m(\u001b[39m\u001b[0m%rax\u001b[0m,\u001b[0m%r13\u001b[0m,\u001b[33m8\u001b[39m\u001b[33m)\u001b[39m\u001b[0m, \u001b[0m%r8\n",
      "\t\u001b[96m\u001b[1mcmpq\u001b[22m\u001b[39m\t\u001b[0m%rdi\u001b[0m, \u001b[0m%rdx\n",
      "\t\u001b[96m\u001b[1msetb\u001b[22m\u001b[39m\t\u001b[0m%bl\n",
      "\t\u001b[96m\u001b[1mcmpq\u001b[22m\u001b[39m\t\u001b[0m%rsi\u001b[0m, \u001b[0m%rcx\n",
      "\t\u001b[96m\u001b[1msetb\u001b[22m\u001b[39m\t\u001b[0m%r10b\n",
      "\t\u001b[96m\u001b[1mcmpq\u001b[22m\u001b[39m\t\u001b[0m%r8\u001b[0m, \u001b[0m%rdx\n",
      "\t\u001b[96m\u001b[1msetb\u001b[22m\u001b[39m\t\u001b[0m%dil\n",
      "\t\u001b[96m\u001b[1mcmpq\u001b[22m\u001b[39m\t\u001b[0m%rsi\u001b[0m, \u001b[0m%rax\n",
      "\t\u001b[96m\u001b[1msetb\u001b[22m\u001b[39m\t\u001b[0m%r8b\n",
      "\t\u001b[96m\u001b[1mxorl\u001b[22m\u001b[39m\t\u001b[0m%esi\u001b[0m, \u001b[0m%esi\n",
      "\t\u001b[96m\u001b[1mtestb\u001b[22m\u001b[39m\t\u001b[0m%r10b\u001b[0m, \u001b[0m%bl\n",
      "\t\u001b[96m\u001b[1mjne\u001b[22m\u001b[39m\t\u001b[91mLBB0_39\u001b[39m\n",
      "\u001b[0m## \u001b[0m%bb.35\u001b[0m:                              \u001b[0m## \u001b[0m%vector.memcheck134\n",
      "\t\u001b[96m\u001b[1mandb\u001b[22m\u001b[39m\t\u001b[0m%r8b\u001b[0m, \u001b[0m%dil\n",
      "\t\u001b[96m\u001b[1mjne\u001b[22m\u001b[39m\t\u001b[91mLBB0_39\u001b[39m\n",
      "\u001b[0m## \u001b[0m%bb.36\u001b[0m:                              \u001b[0m## \u001b[0m%vector.ph153\n",
      "\t\u001b[96m\u001b[1mmovq\u001b[22m\u001b[39m\t\u001b[0m%r13\u001b[0m, \u001b[0m%rsi\n",
      "\t\u001b[96m\u001b[1mandq\u001b[22m\u001b[39m\t\u001b[33m$-16\u001b[39m\u001b[0m, \u001b[0m%rsi\n",
      "\t\u001b[96m\u001b[1mxorl\u001b[22m\u001b[39m\t\u001b[0m%edi\u001b[0m, \u001b[0m%edi\n",
      "\t\u001b[0m.p2align\t\u001b[33m4\u001b[39m\u001b[0m, \u001b[33m0x90\u001b[39m\n",
      "\u001b[91mLBB0_37:\u001b[39m                                \u001b[0m## \u001b[0m%vector.body151\n",
      "                                        \u001b[0m## \u001b[0m=>This \u001b[0mInner \u001b[91mLoop\u001b[39m \u001b[0mHeader\u001b[0m: \u001b[0mDepth=1\n",
      "\u001b[90m; ││││││ @ simdloop.jl:78 within `macro expansion`\u001b[39m\n",
      "\u001b[90m; ││││││┌ @ int.jl:87 within `+`\u001b[39m\n",
      "\t\u001b[96m\u001b[1mvpbroadcastq\u001b[22m\u001b[39m\t\u001b[33m(\u001b[39m\u001b[0m%rcx\u001b[33m)\u001b[39m\u001b[0m, \u001b[0m%ymm0\n",
      "\t\u001b[96m\u001b[1mvpaddq\u001b[22m\u001b[39m\t\u001b[33m(\u001b[39m\u001b[0m%rax\u001b[0m,\u001b[0m%rdi\u001b[0m,\u001b[33m8\u001b[39m\u001b[33m)\u001b[39m\u001b[0m, \u001b[0m%ymm0\u001b[0m, \u001b[0m%ymm1\n",
      "\t\u001b[96m\u001b[1mvpaddq\u001b[22m\u001b[39m\t\u001b[33m32\u001b[39m\u001b[33m(\u001b[39m\u001b[0m%rax\u001b[0m,\u001b[0m%rdi\u001b[0m,\u001b[33m8\u001b[39m\u001b[33m)\u001b[39m\u001b[0m, \u001b[0m%ymm0\u001b[0m, \u001b[0m%ymm2\n",
      "\t\u001b[96m\u001b[1mvpaddq\u001b[22m\u001b[39m\t\u001b[33m64\u001b[39m\u001b[33m(\u001b[39m\u001b[0m%rax\u001b[0m,\u001b[0m%rdi\u001b[0m,\u001b[33m8\u001b[39m\u001b[33m)\u001b[39m\u001b[0m, \u001b[0m%ymm0\u001b[0m, \u001b[0m%ymm3\n",
      "\t\u001b[96m\u001b[1mvpaddq\u001b[22m\u001b[39m\t\u001b[33m96\u001b[39m\u001b[33m(\u001b[39m\u001b[0m%rax\u001b[0m,\u001b[0m%rdi\u001b[0m,\u001b[33m8\u001b[39m\u001b[33m)\u001b[39m\u001b[0m, \u001b[0m%ymm0\u001b[0m, \u001b[0m%ymm0\n",
      "\u001b[90m; ││││││└\u001b[39m\n",
      "\u001b[90m; ││││││ @ simdloop.jl:77 within `macro expansion` @ broadcast.jl:961\u001b[39m\n",
      "\u001b[90m; ││││││┌ @ array.jl:966 within `setindex!`\u001b[39m\n",
      "\t\u001b[96m\u001b[1mvmovdqu\u001b[22m\u001b[39m\t\u001b[0m%ymm1\u001b[0m, \u001b[33m(\u001b[39m\u001b[0m%rdx\u001b[0m,\u001b[0m%rdi\u001b[0m,\u001b[33m8\u001b[39m\u001b[33m)\u001b[39m\n",
      "\t\u001b[96m\u001b[1mvmovdqu\u001b[22m\u001b[39m\t\u001b[0m%ymm2\u001b[0m, \u001b[33m32\u001b[39m\u001b[33m(\u001b[39m\u001b[0m%rdx\u001b[0m,\u001b[0m%rdi\u001b[0m,\u001b[33m8\u001b[39m\u001b[33m)\u001b[39m\n",
      "\t\u001b[96m\u001b[1mvmovdqu\u001b[22m\u001b[39m\t\u001b[0m%ymm3\u001b[0m, \u001b[33m64\u001b[39m\u001b[33m(\u001b[39m\u001b[0m%rdx\u001b[0m,\u001b[0m%rdi\u001b[0m,\u001b[33m8\u001b[39m\u001b[33m)\u001b[39m\n",
      "\t\u001b[96m\u001b[1mvmovdqu\u001b[22m\u001b[39m\t\u001b[0m%ymm0\u001b[0m, \u001b[33m96\u001b[39m\u001b[33m(\u001b[39m\u001b[0m%rdx\u001b[0m,\u001b[0m%rdi\u001b[0m,\u001b[33m8\u001b[39m\u001b[33m)\u001b[39m\n",
      "\u001b[90m; ││││││└\u001b[39m\n",
      "\u001b[90m; ││││││ @ simdloop.jl:78 within `macro expansion`\u001b[39m\n",
      "\u001b[90m; ││││││┌ @ int.jl:87 within `+`\u001b[39m\n",
      "\t\u001b[96m\u001b[1maddq\u001b[22m\u001b[39m\t\u001b[33m$16\u001b[39m\u001b[0m, \u001b[0m%rdi\n",
      "\t\u001b[96m\u001b[1mcmpq\u001b[22m\u001b[39m\t\u001b[0m%rdi\u001b[0m, \u001b[0m%rsi\n",
      "\t\u001b[96m\u001b[1mjne\u001b[22m\u001b[39m\t\u001b[91mLBB0_37\u001b[39m\n",
      "\u001b[0m## \u001b[0m%bb.38\u001b[0m:                              \u001b[0m## \u001b[0m%middle.block149\n",
      "\u001b[90m; ││││││└\u001b[39m\n",
      "\u001b[90m; ││││││ @ simdloop.jl:75 within `macro expansion`\u001b[39m\n",
      "\t\u001b[96m\u001b[1mcmpq\u001b[22m\u001b[39m\t\u001b[0m%rsi\u001b[0m, \u001b[0m%r13\n",
      "\t\u001b[96m\u001b[1mje\u001b[22m\u001b[39m\t\u001b[91mLBB0_48\u001b[39m\n",
      "\t\u001b[0m.p2align\t\u001b[33m4\u001b[39m\u001b[0m, \u001b[33m0x90\u001b[39m\n",
      "\u001b[91mLBB0_39:\u001b[39m                                \u001b[0m## \u001b[0m%L174.us\n",
      "                                        \u001b[0m## \u001b[0m=>This \u001b[0mInner \u001b[91mLoop\u001b[39m \u001b[0mHeader\u001b[0m: \u001b[0mDepth=1\n",
      "\u001b[90m; ││││││ @ simdloop.jl:77 within `macro expansion` @ broadcast.jl:961\u001b[39m\n",
      "\u001b[90m; ││││││┌ @ broadcast.jl:597 within `getindex`\u001b[39m\n",
      "\u001b[90m; │││││││┌ @ broadcast.jl:642 within `_broadcast_getindex`\u001b[39m\n",
      "\u001b[90m; ││││││││┌ @ broadcast.jl:666 within `_getindex` @ broadcast.jl:667\u001b[39m\n",
      "\u001b[90m; │││││││││┌ @ broadcast.jl:636 within `_broadcast_getindex`\u001b[39m\n",
      "\u001b[90m; ││││││││││┌ @ array.jl:924 within `getindex`\u001b[39m\n",
      "\t\u001b[96m\u001b[1mmovq\u001b[22m\u001b[39m\t\u001b[33m(\u001b[39m\u001b[0m%rax\u001b[0m,\u001b[0m%rsi\u001b[0m,\u001b[33m8\u001b[39m\u001b[33m)\u001b[39m\u001b[0m, \u001b[0m%rdi\n",
      "\u001b[90m; ││││││││└└└\u001b[39m\n",
      "\u001b[90m; ││││││││ @ broadcast.jl:643 within `_broadcast_getindex`\u001b[39m\n",
      "\u001b[90m; ││││││││┌ @ broadcast.jl:670 within `_broadcast_getindex_evalf`\u001b[39m\n",
      "\u001b[90m; │││││││││┌ @ int.jl:87 within `+`\u001b[39m\n"
     ]
    },
    {
     "name": "stdout",
     "output_type": "stream",
     "text": [
      "\t\u001b[96m\u001b[1maddq\u001b[22m\u001b[39m\t\u001b[33m(\u001b[39m\u001b[0m%rcx\u001b[33m)\u001b[39m\u001b[0m, \u001b[0m%rdi\n",
      "\u001b[90m; ││││││└└└└\u001b[39m\n",
      "\u001b[90m; ││││││┌ @ array.jl:966 within `setindex!`\u001b[39m\n",
      "\t\u001b[96m\u001b[1mmovq\u001b[22m\u001b[39m\t\u001b[0m%rdi\u001b[0m, \u001b[33m(\u001b[39m\u001b[0m%rdx\u001b[0m,\u001b[0m%rsi\u001b[0m,\u001b[33m8\u001b[39m\u001b[33m)\u001b[39m\n",
      "\u001b[90m; ││││││└\u001b[39m\n",
      "\u001b[90m; ││││││ @ simdloop.jl:78 within `macro expansion`\u001b[39m\n",
      "\u001b[90m; ││││││┌ @ int.jl:87 within `+`\u001b[39m\n",
      "\t\u001b[96m\u001b[1mincq\u001b[22m\u001b[39m\t\u001b[0m%rsi\n",
      "\u001b[90m; ││││││└\u001b[39m\n",
      "\u001b[90m; ││││││ @ simdloop.jl:75 within `macro expansion`\u001b[39m\n",
      "\u001b[90m; ││││││┌ @ int.jl:83 within `<`\u001b[39m\n",
      "\t\u001b[96m\u001b[1mcmpq\u001b[22m\u001b[39m\t\u001b[0m%rsi\u001b[0m, \u001b[0m%r13\n",
      "\u001b[90m; ││││││└\u001b[39m\n",
      "\t\u001b[96m\u001b[1mjne\u001b[22m\u001b[39m\t\u001b[91mLBB0_39\u001b[39m\n",
      "\t\u001b[96m\u001b[1mjmp\u001b[22m\u001b[39m\t\u001b[91mLBB0_48\u001b[39m\n",
      "\u001b[91mLBB0_17:\u001b[39m                                \u001b[0m## \u001b[0m%vector.memcheck\n",
      "\t\u001b[96m\u001b[1mleaq\u001b[22m\u001b[39m\t\u001b[33m(\u001b[39m\u001b[0m%rdx\u001b[0m,\u001b[0m%r13\u001b[0m,\u001b[33m8\u001b[39m\u001b[33m)\u001b[39m\u001b[0m, \u001b[0m%rsi\n",
      "\t\u001b[96m\u001b[1mleaq\u001b[22m\u001b[39m\t\u001b[33m(\u001b[39m\u001b[0m%rcx\u001b[0m,\u001b[0m%r13\u001b[0m,\u001b[33m8\u001b[39m\u001b[33m)\u001b[39m\u001b[0m, \u001b[0m%rdi\n",
      "\t\u001b[96m\u001b[1mleaq\u001b[22m\u001b[39m\t\u001b[33m(\u001b[39m\u001b[0m%rax\u001b[0m,\u001b[0m%r13\u001b[0m,\u001b[33m8\u001b[39m\u001b[33m)\u001b[39m\u001b[0m, \u001b[0m%r8\n",
      "\t\u001b[96m\u001b[1mcmpq\u001b[22m\u001b[39m\t\u001b[0m%rdi\u001b[0m, \u001b[0m%rdx\n",
      "\t\u001b[96m\u001b[1msetb\u001b[22m\u001b[39m\t\u001b[0m%bl\n",
      "\t\u001b[96m\u001b[1mcmpq\u001b[22m\u001b[39m\t\u001b[0m%rsi\u001b[0m, \u001b[0m%rcx\n",
      "\t\u001b[96m\u001b[1msetb\u001b[22m\u001b[39m\t\u001b[0m%r10b\n",
      "\t\u001b[96m\u001b[1mcmpq\u001b[22m\u001b[39m\t\u001b[0m%r8\u001b[0m, \u001b[0m%rdx\n",
      "\t\u001b[96m\u001b[1msetb\u001b[22m\u001b[39m\t\u001b[0m%dil\n",
      "\t\u001b[96m\u001b[1mcmpq\u001b[22m\u001b[39m\t\u001b[0m%rsi\u001b[0m, \u001b[0m%rax\n",
      "\t\u001b[96m\u001b[1msetb\u001b[22m\u001b[39m\t\u001b[0m%r8b\n",
      "\t\u001b[96m\u001b[1mxorl\u001b[22m\u001b[39m\t\u001b[0m%esi\u001b[0m, \u001b[0m%esi\n",
      "\t\u001b[96m\u001b[1mtestb\u001b[22m\u001b[39m\t\u001b[0m%r10b\u001b[0m, \u001b[0m%bl\n",
      "\t\u001b[96m\u001b[1mjne\u001b[22m\u001b[39m\t\u001b[91mLBB0_22\u001b[39m\n",
      "\u001b[0m## \u001b[0m%bb.18\u001b[0m:                              \u001b[0m## \u001b[0m%vector.memcheck\n",
      "\t\u001b[96m\u001b[1mandb\u001b[22m\u001b[39m\t\u001b[0m%r8b\u001b[0m, \u001b[0m%dil\n",
      "\t\u001b[96m\u001b[1mjne\u001b[22m\u001b[39m\t\u001b[91mLBB0_22\u001b[39m\n",
      "\u001b[0m## \u001b[0m%bb.19\u001b[0m:                              \u001b[0m## \u001b[0m%vector.ph\n",
      "\t\u001b[96m\u001b[1mmovq\u001b[22m\u001b[39m\t\u001b[0m%r13\u001b[0m, \u001b[0m%rsi\n",
      "\t\u001b[96m\u001b[1mandq\u001b[22m\u001b[39m\t\u001b[33m$-16\u001b[39m\u001b[0m, \u001b[0m%rsi\n",
      "\t\u001b[96m\u001b[1mxorl\u001b[22m\u001b[39m\t\u001b[0m%edi\u001b[0m, \u001b[0m%edi\n",
      "\t\u001b[0m.p2align\t\u001b[33m4\u001b[39m\u001b[0m, \u001b[33m0x90\u001b[39m\n",
      "\u001b[91mLBB0_20:\u001b[39m                                \u001b[0m## \u001b[0m%vector.body\n",
      "                                        \u001b[0m## \u001b[0m=>This \u001b[0mInner \u001b[91mLoop\u001b[39m \u001b[0mHeader\u001b[0m: \u001b[0mDepth=1\n",
      "\u001b[90m; ││││││ @ simdloop.jl:77 within `macro expansion` @ broadcast.jl:961\u001b[39m\n",
      "\u001b[90m; ││││││┌ @ broadcast.jl:597 within `getindex`\u001b[39m\n",
      "\u001b[90m; │││││││┌ @ broadcast.jl:642 within `_broadcast_getindex`\u001b[39m\n",
      "\u001b[90m; ││││││││┌ @ broadcast.jl:666 within `_getindex` @ broadcast.jl:667\u001b[39m\n",
      "\u001b[90m; │││││││││┌ @ broadcast.jl:636 within `_broadcast_getindex`\u001b[39m\n",
      "\u001b[90m; ││││││││││┌ @ array.jl:924 within `getindex`\u001b[39m\n",
      "\t\u001b[96m\u001b[1mvmovdqu\u001b[22m\u001b[39m\t\u001b[33m(\u001b[39m\u001b[0m%rax\u001b[0m,\u001b[0m%rdi\u001b[0m,\u001b[33m8\u001b[39m\u001b[33m)\u001b[39m\u001b[0m, \u001b[0m%ymm0\n",
      "\t\u001b[96m\u001b[1mvmovdqu\u001b[22m\u001b[39m\t\u001b[33m32\u001b[39m\u001b[33m(\u001b[39m\u001b[0m%rax\u001b[0m,\u001b[0m%rdi\u001b[0m,\u001b[33m8\u001b[39m\u001b[33m)\u001b[39m\u001b[0m, \u001b[0m%ymm1\n",
      "\t\u001b[96m\u001b[1mvmovdqu\u001b[22m\u001b[39m\t\u001b[33m64\u001b[39m\u001b[33m(\u001b[39m\u001b[0m%rax\u001b[0m,\u001b[0m%rdi\u001b[0m,\u001b[33m8\u001b[39m\u001b[33m)\u001b[39m\u001b[0m, \u001b[0m%ymm2\n",
      "\t\u001b[96m\u001b[1mvmovdqu\u001b[22m\u001b[39m\t\u001b[33m96\u001b[39m\u001b[33m(\u001b[39m\u001b[0m%rax\u001b[0m,\u001b[0m%rdi\u001b[0m,\u001b[33m8\u001b[39m\u001b[33m)\u001b[39m\u001b[0m, \u001b[0m%ymm3\n",
      "\u001b[90m; ││││││││└└└\u001b[39m\n",
      "\u001b[90m; ││││││││ @ broadcast.jl:643 within `_broadcast_getindex`\u001b[39m\n",
      "\u001b[90m; ││││││││┌ @ broadcast.jl:670 within `_broadcast_getindex_evalf`\u001b[39m\n",
      "\u001b[90m; │││││││││┌ @ int.jl:87 within `+`\u001b[39m\n",
      "\t\u001b[96m\u001b[1mvpaddq\u001b[22m\u001b[39m\t\u001b[33m(\u001b[39m\u001b[0m%rcx\u001b[0m,\u001b[0m%rdi\u001b[0m,\u001b[33m8\u001b[39m\u001b[33m)\u001b[39m\u001b[0m, \u001b[0m%ymm0\u001b[0m, \u001b[0m%ymm0\n",
      "\t\u001b[96m\u001b[1mvpaddq\u001b[22m\u001b[39m\t\u001b[33m32\u001b[39m\u001b[33m(\u001b[39m\u001b[0m%rcx\u001b[0m,\u001b[0m%rdi\u001b[0m,\u001b[33m8\u001b[39m\u001b[33m)\u001b[39m\u001b[0m, \u001b[0m%ymm1\u001b[0m, \u001b[0m%ymm1\n",
      "\t\u001b[96m\u001b[1mvpaddq\u001b[22m\u001b[39m\t\u001b[33m64\u001b[39m\u001b[33m(\u001b[39m\u001b[0m%rcx\u001b[0m,\u001b[0m%rdi\u001b[0m,\u001b[33m8\u001b[39m\u001b[33m)\u001b[39m\u001b[0m, \u001b[0m%ymm2\u001b[0m, \u001b[0m%ymm2\n",
      "\t\u001b[96m\u001b[1mvpaddq\u001b[22m\u001b[39m\t\u001b[33m96\u001b[39m\u001b[33m(\u001b[39m\u001b[0m%rcx\u001b[0m,\u001b[0m%rdi\u001b[0m,\u001b[33m8\u001b[39m\u001b[33m)\u001b[39m\u001b[0m, \u001b[0m%ymm3\u001b[0m, \u001b[0m%ymm3\n",
      "\u001b[90m; ││││││└└└└\u001b[39m\n",
      "\u001b[90m; ││││││┌ @ array.jl:966 within `setindex!`\u001b[39m\n",
      "\t\u001b[96m\u001b[1mvmovdqu\u001b[22m\u001b[39m\t\u001b[0m%ymm0\u001b[0m, \u001b[33m(\u001b[39m\u001b[0m%rdx\u001b[0m,\u001b[0m%rdi\u001b[0m,\u001b[33m8\u001b[39m\u001b[33m)\u001b[39m\n",
      "\t\u001b[96m\u001b[1mvmovdqu\u001b[22m\u001b[39m\t\u001b[0m%ymm1\u001b[0m, \u001b[33m32\u001b[39m\u001b[33m(\u001b[39m\u001b[0m%rdx\u001b[0m,\u001b[0m%rdi\u001b[0m,\u001b[33m8\u001b[39m\u001b[33m)\u001b[39m\n",
      "\t\u001b[96m\u001b[1mvmovdqu\u001b[22m\u001b[39m\t\u001b[0m%ymm2\u001b[0m, \u001b[33m64\u001b[39m\u001b[33m(\u001b[39m\u001b[0m%rdx\u001b[0m,\u001b[0m%rdi\u001b[0m,\u001b[33m8\u001b[39m\u001b[33m)\u001b[39m\n",
      "\t\u001b[96m\u001b[1mvmovdqu\u001b[22m\u001b[39m\t\u001b[0m%ymm3\u001b[0m, \u001b[33m96\u001b[39m\u001b[33m(\u001b[39m\u001b[0m%rdx\u001b[0m,\u001b[0m%rdi\u001b[0m,\u001b[33m8\u001b[39m\u001b[33m)\u001b[39m\n",
      "\u001b[90m; ││││││└\u001b[39m\n",
      "\u001b[90m; ││││││ @ simdloop.jl:78 within `macro expansion`\u001b[39m\n",
      "\u001b[90m; ││││││┌ @ int.jl:87 within `+`\u001b[39m\n",
      "\t\u001b[96m\u001b[1maddq\u001b[22m\u001b[39m\t\u001b[33m$16\u001b[39m\u001b[0m, \u001b[0m%rdi\n",
      "\t\u001b[96m\u001b[1mcmpq\u001b[22m\u001b[39m\t\u001b[0m%rdi\u001b[0m, \u001b[0m%rsi\n",
      "\t\u001b[96m\u001b[1mjne\u001b[22m\u001b[39m\t\u001b[91mLBB0_20\u001b[39m\n",
      "\u001b[0m## \u001b[0m%bb.21\u001b[0m:                              \u001b[0m## \u001b[0m%middle.block\n",
      "\u001b[90m; ││││││└\u001b[39m\n",
      "\u001b[90m; ││││││ @ simdloop.jl:75 within `macro expansion`\u001b[39m\n",
      "\t\u001b[96m\u001b[1mcmpq\u001b[22m\u001b[39m\t\u001b[0m%rsi\u001b[0m, \u001b[0m%r13\n",
      "\t\u001b[96m\u001b[1mje\u001b[22m\u001b[39m\t\u001b[91mLBB0_48\u001b[39m\n",
      "\t\u001b[0m.p2align\t\u001b[33m4\u001b[39m\u001b[0m, \u001b[33m0x90\u001b[39m\n",
      "\u001b[91mLBB0_22:\u001b[39m                                \u001b[0m## \u001b[0m%L174\n",
      "                                        \u001b[0m## \u001b[0m=>This \u001b[0mInner \u001b[91mLoop\u001b[39m \u001b[0mHeader\u001b[0m: \u001b[0mDepth=1\n",
      "\u001b[90m; ││││││ @ simdloop.jl:77 within `macro expansion` @ broadcast.jl:961\u001b[39m\n",
      "\u001b[90m; ││││││┌ @ broadcast.jl:597 within `getindex`\u001b[39m\n",
      "\u001b[90m; │││││││┌ @ broadcast.jl:642 within `_broadcast_getindex`\u001b[39m\n",
      "\u001b[90m; ││││││││┌ @ broadcast.jl:666 within `_getindex` @ broadcast.jl:667\u001b[39m\n",
      "\u001b[90m; │││││││││┌ @ broadcast.jl:636 within `_broadcast_getindex`\u001b[39m\n",
      "\u001b[90m; ││││││││││┌ @ array.jl:924 within `getindex`\u001b[39m\n",
      "\t\u001b[96m\u001b[1mmovq\u001b[22m\u001b[39m\t\u001b[33m(\u001b[39m\u001b[0m%rax\u001b[0m,\u001b[0m%rsi\u001b[0m,\u001b[33m8\u001b[39m\u001b[33m)\u001b[39m\u001b[0m, \u001b[0m%rdi\n",
      "\u001b[90m; ││││││││└└└\u001b[39m\n",
      "\u001b[90m; ││││││││ @ broadcast.jl:643 within `_broadcast_getindex`\u001b[39m\n",
      "\u001b[90m; ││││││││┌ @ broadcast.jl:670 within `_broadcast_getindex_evalf`\u001b[39m\n",
      "\u001b[90m; │││││││││┌ @ int.jl:87 within `+`\u001b[39m\n",
      "\t\u001b[96m\u001b[1maddq\u001b[22m\u001b[39m\t\u001b[33m(\u001b[39m\u001b[0m%rcx\u001b[0m,\u001b[0m%rsi\u001b[0m,\u001b[33m8\u001b[39m\u001b[33m)\u001b[39m\u001b[0m, \u001b[0m%rdi\n",
      "\u001b[90m; ││││││└└└└\u001b[39m\n",
      "\u001b[90m; ││││││┌ @ array.jl:966 within `setindex!`\u001b[39m\n",
      "\t\u001b[96m\u001b[1mmovq\u001b[22m\u001b[39m\t\u001b[0m%rdi\u001b[0m, \u001b[33m(\u001b[39m\u001b[0m%rdx\u001b[0m,\u001b[0m%rsi\u001b[0m,\u001b[33m8\u001b[39m\u001b[33m)\u001b[39m\n",
      "\u001b[90m; ││││││└\u001b[39m\n",
      "\u001b[90m; ││││││ @ simdloop.jl:78 within `macro expansion`\u001b[39m\n",
      "\u001b[90m; ││││││┌ @ int.jl:87 within `+`\u001b[39m\n",
      "\t\u001b[96m\u001b[1mincq\u001b[22m\u001b[39m\t\u001b[0m%rsi\n",
      "\u001b[90m; ││││││└\u001b[39m\n",
      "\u001b[90m; ││││││ @ simdloop.jl:75 within `macro expansion`\u001b[39m\n",
      "\u001b[90m; ││││││┌ @ int.jl:83 within `<`\u001b[39m\n",
      "\t\u001b[96m\u001b[1mcmpq\u001b[22m\u001b[39m\t\u001b[0m%rsi\u001b[0m, \u001b[0m%r13\n",
      "\u001b[90m; ││││││└\u001b[39m\n",
      "\t\u001b[96m\u001b[1mjne\u001b[22m\u001b[39m\t\u001b[91mLBB0_22\u001b[39m\n",
      "\u001b[91mLBB0_48:\u001b[39m                                \u001b[0m## \u001b[0m%L222\n",
      "\u001b[90m; ││└└└└\u001b[39m\n",
      "\u001b[90m; ││ @ broadcast.jl:850 within `broadcast_preserving_zero_d`\u001b[39m\n",
      "\u001b[90m; ││┌ @ broadcast.jl:222 within `axes`\u001b[39m\n",
      "\u001b[90m; │││┌ @ broadcast.jl:224 within `_axes`\u001b[39m\n",
      "\u001b[90m; ││││┌ @ broadcast.jl:499 within `combine_axes`\u001b[39m\n",
      "\u001b[90m; │││││┌ @ abstractarray.jl:95 within `axes`\u001b[39m\n",
      "\u001b[90m; ││││││┌ @ array.jl:151 within `size`\u001b[39m\n",
      "\t\u001b[96m\u001b[1mmovq\u001b[22m\u001b[39m\t\u001b[33m8\u001b[39m\u001b[33m(\u001b[39m\u001b[0m%r9\u001b[33m)\u001b[39m\u001b[0m, \u001b[0m%rdi\n",
      "\u001b[90m; │││││└└\u001b[39m\n",
      "\u001b[90m; │││││┌ @ broadcast.jl:504 within `broadcast_shape`\u001b[39m\n",
      "\u001b[90m; ││││││┌ @ broadcast.jl:510 within `_bcs`\u001b[39m\n",
      "\u001b[90m; │││││││┌ @ broadcast.jl:516 within `_bcs1`\u001b[39m\n",
      "\u001b[90m; ││││││││┌ @ broadcast.jl:518 within `_bcsm`\u001b[39m\n",
      "\t\u001b[96m\u001b[1mcmpq\u001b[22m\u001b[39m\t\u001b[33m$1\u001b[39m\u001b[0m, \u001b[0m%rdi\n",
      "\u001b[90m; ││││││││└\u001b[39m\n",
      "\t\u001b[96m\u001b[1mje\u001b[22m\u001b[39m\t\u001b[91mLBB0_51\u001b[39m\n",
      "\u001b[0m## \u001b[0m%bb.49\u001b[0m:                              \u001b[0m## \u001b[0m%L222\n",
      "\u001b[90m; │││││└└└\u001b[39m\n",
      "\u001b[90m; │││││ @ broadcast.jl within `combine_axes`\u001b[39m\n",
      "\t\u001b[96m\u001b[1mmovq\u001b[22m\u001b[39m\t\u001b[33m8\u001b[39m\u001b[33m(\u001b[39m\u001b[0m%r15\u001b[33m)\u001b[39m\u001b[0m, \u001b[0m%rbx\n",
      "\u001b[90m; │││││ @ broadcast.jl:499 within `combine_axes`\u001b[39m\n",
      "\u001b[90m; │││││┌ @ broadcast.jl:504 within `broadcast_shape`\u001b[39m\n",
      "\u001b[90m; ││││││┌ @ broadcast.jl:510 within `_bcs`\u001b[39m\n",
      "\u001b[90m; │││││││┌ @ broadcast.jl:516 within `_bcs1`\u001b[39m\n",
      "\t\u001b[96m\u001b[1mcmpq\u001b[22m\u001b[39m\t\u001b[0m%rdi\u001b[0m, \u001b[0m%rbx\n",
      "\t\u001b[96m\u001b[1mje\u001b[22m\u001b[39m\t\u001b[91mLBB0_51\u001b[39m\n",
      "\u001b[0m## \u001b[0m%bb.50\u001b[0m:                              \u001b[0m## \u001b[0m%L222\n",
      "\t\u001b[96m\u001b[1mcmpq\u001b[22m\u001b[39m\t\u001b[33m$1\u001b[39m\u001b[0m, \u001b[0m%rbx\n",
      "\t\u001b[96m\u001b[1mjne\u001b[22m\u001b[39m\t\u001b[91mLBB0_54\u001b[39m\n",
      "\u001b[91mLBB0_51:\u001b[39m                                \u001b[0m## \u001b[0m%L256\n",
      "\t\u001b[96m\u001b[1mmovq\u001b[22m\u001b[39m\t\u001b[33m40\u001b[39m\u001b[33m(\u001b[39m\u001b[0m%rsp\u001b[33m)\u001b[39m\u001b[0m, \u001b[0m%rax\n",
      "\t\u001b[96m\u001b[1mmovq\u001b[22m\u001b[39m\t\u001b[33m112\u001b[39m\u001b[33m(\u001b[39m\u001b[0m%rsp\u001b[33m)\u001b[39m\u001b[0m, \u001b[0m%rcx                 \u001b[0m## \u001b[0m8-byte \u001b[0mReload\n",
      "\t\u001b[96m\u001b[1mmovq\u001b[22m\u001b[39m\t\u001b[0m%rax\u001b[0m, \u001b[33m(\u001b[39m\u001b[0m%rcx\u001b[33m)\u001b[39m\n",
      "\u001b[90m; │└└└└└└└\u001b[39m\n",
      "\t\u001b[96m\u001b[1mmovq\u001b[22m\u001b[39m\t\u001b[0m%r11\u001b[0m, \u001b[0m%rax\n",
      "\t\u001b[96m\u001b[1mleaq\u001b[22m\u001b[39m\t\u001b[33m-40\u001b[39m\u001b[33m(\u001b[39m\u001b[0m%rbp\u001b[33m)\u001b[39m\u001b[0m, \u001b[0m%rsp\n",
      "\t\u001b[96m\u001b[1mpopq\u001b[22m\u001b[39m\t\u001b[0m%rbx\n",
      "\t\u001b[96m\u001b[1mpopq\u001b[22m\u001b[39m\t\u001b[0m%r12\n",
      "\t\u001b[96m\u001b[1mpopq\u001b[22m\u001b[39m\t\u001b[0m%r13\n",
      "\t\u001b[96m\u001b[1mpopq\u001b[22m\u001b[39m\t\u001b[0m%r14\n",
      "\t\u001b[96m\u001b[1mpopq\u001b[22m\u001b[39m\t\u001b[0m%r15\n",
      "\t\u001b[96m\u001b[1mpopq\u001b[22m\u001b[39m\t\u001b[0m%rbp\n",
      "\t\u001b[96m\u001b[1mvzeroupper\u001b[22m\u001b[39m\n",
      "\t\u001b[96m\u001b[1mretq\u001b[22m\u001b[39m\n",
      "\u001b[91mLBB0_52:\u001b[39m                                \u001b[0m## \u001b[0m%L19\n",
      "\u001b[90m; │ @ arraymath.jl:14 within `+`\u001b[39m\n",
      "\u001b[90m; │┌ @ indices.jl:169 within `promote_shape` @ indices.jl:178\u001b[39m\n",
      "\u001b[90m; ││┌ @ strings/io.jl:185 within `string`\u001b[39m\n",
      "\t\u001b[96m\u001b[1mmovq\u001b[22m\u001b[39m\t\u001b[33m16\u001b[39m\u001b[33m(\u001b[39m\u001b[0m%r14\u001b[33m)\u001b[39m\u001b[0m, \u001b[0m%rdi\n",
      "\t\u001b[96m\u001b[1mmovabsq\u001b[22m\u001b[39m\t\u001b[93m$_ijl_gc_pool_alloc\u001b[39m\u001b[0m, \u001b[0m%rbx\n",
      "\t\u001b[96m\u001b[1mmovl\u001b[22m\u001b[39m\t\u001b[33m$1392\u001b[39m\u001b[0m, \u001b[0m%esi                     \u001b[0m## \u001b[0mimm \u001b[0m= \u001b[33m0x570\u001b[39m\n",
      "\t\u001b[96m\u001b[1mmovl\u001b[22m\u001b[39m\t\u001b[33m$16\u001b[39m\u001b[0m, \u001b[0m%edx\n",
      "\t\u001b[96m\u001b[1mcallq\u001b[22m\u001b[39m\t\u001b[0m*\u001b[0m%rbx\n",
      "\t\u001b[96m\u001b[1mmovq\u001b[22m\u001b[39m\t\u001b[0m%rbx\u001b[0m, \u001b[0m%rcx\n",
      "\t\u001b[96m\u001b[1mmovq\u001b[22m\u001b[39m\t\u001b[0m%r14\u001b[0m, \u001b[0m%rbx\n",
      "\t\u001b[96m\u001b[1mmovq\u001b[22m\u001b[39m\t\u001b[0m%rax\u001b[0m, \u001b[0m%r14\n",
      "\t\u001b[96m\u001b[1maddq\u001b[22m\u001b[39m\t\u001b[33m$215805696\u001b[39m\u001b[0m, \u001b[0m%r15                \u001b[0m## \u001b[0mimm \u001b[0m= \u001b[33m0xCDCEF00\u001b[39m\n",
      "\t\u001b[96m\u001b[1mmovq\u001b[22m\u001b[39m\t\u001b[0m%r15\u001b[0m, \u001b[33m-8\u001b[39m\u001b[33m(\u001b[39m\u001b[0m%rax\u001b[33m)\u001b[39m\n",
      "\t\u001b[96m\u001b[1mmovq\u001b[22m\u001b[39m\t\u001b[0m%r13\u001b[0m, \u001b[33m(\u001b[39m\u001b[0m%rax\u001b[33m)\u001b[39m\n",
      "\t\u001b[96m\u001b[1mmovq\u001b[22m\u001b[39m\t\u001b[0m%rax\u001b[0m, \u001b[33m56\u001b[39m\u001b[33m(\u001b[39m\u001b[0m%rsp\u001b[33m)\u001b[39m\n",
      "\t\u001b[96m\u001b[1mmovq\u001b[22m\u001b[39m\t\u001b[33m16\u001b[39m\u001b[33m(\u001b[39m\u001b[0m%rbx\u001b[33m)\u001b[39m\u001b[0m, \u001b[0m%rdi\n",
      "\t\u001b[96m\u001b[1mmovl\u001b[22m\u001b[39m\t\u001b[33m$1392\u001b[39m\u001b[0m, \u001b[0m%esi                     \u001b[0m## \u001b[0mimm \u001b[0m= \u001b[33m0x570\u001b[39m\n",
      "\t\u001b[96m\u001b[1mmovl\u001b[22m\u001b[39m\t\u001b[33m$16\u001b[39m\u001b[0m, \u001b[0m%edx\n",
      "\t\u001b[96m\u001b[1mcallq\u001b[22m\u001b[39m\t\u001b[0m*\u001b[0m%rcx\n",
      "\t\u001b[96m\u001b[1mmovq\u001b[22m\u001b[39m\t\u001b[0m%r15\u001b[0m, \u001b[33m-8\u001b[39m\u001b[33m(\u001b[39m\u001b[0m%rax\u001b[33m)\u001b[39m\n",
      "\t\u001b[96m\u001b[1mmovq\u001b[22m\u001b[39m\t\u001b[0m%r12\u001b[0m, \u001b[33m(\u001b[39m\u001b[0m%rax\u001b[33m)\u001b[39m\n",
      "\t\u001b[96m\u001b[1mmovq\u001b[22m\u001b[39m\t\u001b[0m%rax\u001b[0m, \u001b[33m48\u001b[39m\u001b[33m(\u001b[39m\u001b[0m%rsp\u001b[33m)\u001b[39m\n",
      "\t\u001b[96m\u001b[1mmovabsq\u001b[22m\u001b[39m\t\u001b[33m$4826744688\u001b[39m\u001b[0m, \u001b[0m%rcx               \u001b[0m## \u001b[0mimm \u001b[0m= \u001b[33m0x11FB24770\u001b[39m\n",
      "\t\u001b[96m\u001b[1mmovq\u001b[22m\u001b[39m\t\u001b[0m%rcx\u001b[0m, \u001b[33m64\u001b[39m\u001b[33m(\u001b[39m\u001b[0m%rsp\u001b[33m)\u001b[39m\n",
      "\t\u001b[96m\u001b[1mmovq\u001b[22m\u001b[39m\t\u001b[0m%r14\u001b[0m, \u001b[33m72\u001b[39m\u001b[33m(\u001b[39m\u001b[0m%rsp\u001b[33m)\u001b[39m\n",
      "\t\u001b[96m\u001b[1mmovabsq\u001b[22m\u001b[39m\t\u001b[33m$4826744656\u001b[39m\u001b[0m, \u001b[0m%rcx               \u001b[0m## \u001b[0mimm \u001b[0m= \u001b[33m0x11FB24750\u001b[39m\n",
      "\t\u001b[96m\u001b[1mmovq\u001b[22m\u001b[39m\t\u001b[0m%rcx\u001b[0m, \u001b[33m80\u001b[39m\u001b[33m(\u001b[39m\u001b[0m%rsp\u001b[33m)\u001b[39m\n",
      "\t\u001b[96m\u001b[1mmovq\u001b[22m\u001b[39m\t\u001b[0m%rax\u001b[0m, \u001b[33m88\u001b[39m\u001b[33m(\u001b[39m\u001b[0m%rsp\u001b[33m)\u001b[39m\n",
      "\t\u001b[96m\u001b[1mmovabsq\u001b[22m\u001b[39m\t\u001b[33m$4826744624\u001b[39m\u001b[0m, \u001b[0m%rax               \u001b[0m## \u001b[0mimm \u001b[0m= \u001b[33m0x11FB24730\u001b[39m\n",
      "\t\u001b[96m\u001b[1mmovq\u001b[22m\u001b[39m\t\u001b[0m%rax\u001b[0m, \u001b[33m96\u001b[39m\u001b[33m(\u001b[39m\u001b[0m%rsp\u001b[33m)\u001b[39m\n",
      "\t\u001b[96m\u001b[1mmovabsq\u001b[22m\u001b[39m\t\u001b[33m$4613603424\u001b[39m\u001b[0m, \u001b[0m%rax               \u001b[0m## \u001b[0mimm \u001b[0m= \u001b[33m0x112FE0060\u001b[39m\n",
      "\t\u001b[96m\u001b[1mmovq\u001b[22m\u001b[39m\t\u001b[0m%rax\u001b[0m, \u001b[33m104\u001b[39m\u001b[33m(\u001b[39m\u001b[0m%rsp\u001b[33m)\u001b[39m\n",
      "\t\u001b[96m\u001b[1mmovabsq\u001b[22m\u001b[39m\t\u001b[93m$_j1_print_to_string_2197\u001b[39m\u001b[0m, \u001b[0m%rax\n",
      "\t\u001b[96m\u001b[1mmovabsq\u001b[22m\u001b[39m\t\u001b[33m$4757498496\u001b[39m\u001b[0m, \u001b[0m%rdi               \u001b[0m## \u001b[0mimm \u001b[0m= \u001b[33m0x11B91AA80\u001b[39m\n",
      "\t\u001b[96m\u001b[1mleaq\u001b[22m\u001b[39m\t\u001b[33m64\u001b[39m\u001b[33m(\u001b[39m\u001b[0m%rsp\u001b[33m)\u001b[39m\u001b[0m, \u001b[0m%rbx\n",
      "\t\u001b[96m\u001b[1mmovq\u001b[22m\u001b[39m\t\u001b[0m%rbx\u001b[0m, \u001b[0m%rsi\n",
      "\t\u001b[96m\u001b[1mmovl\u001b[22m\u001b[39m\t\u001b[33m$6\u001b[39m\u001b[0m, \u001b[0m%edx\n",
      "\t\u001b[96m\u001b[1mcallq\u001b[22m\u001b[39m\t\u001b[0m*\u001b[0m%rax\n",
      "\t\u001b[96m\u001b[1mmovq\u001b[22m\u001b[39m\t\u001b[0m%rax\u001b[0m, \u001b[33m48\u001b[39m\u001b[33m(\u001b[39m\u001b[0m%rsp\u001b[33m)\u001b[39m\n",
      "\u001b[90m; ││└\u001b[39m\n",
      "\t\u001b[96m\u001b[1mmovq\u001b[22m\u001b[39m\t\u001b[0m%rax\u001b[0m, \u001b[33m64\u001b[39m\u001b[33m(\u001b[39m\u001b[0m%rsp\u001b[33m)\u001b[39m\n",
      "\t\u001b[96m\u001b[1mmovabsq\u001b[22m\u001b[39m\t\u001b[93m$_ijl_apply_generic\u001b[39m\u001b[0m, \u001b[0m%rax\n",
      "\t\u001b[96m\u001b[1mmovabsq\u001b[22m\u001b[39m\t\u001b[33m$4758457600\u001b[39m\u001b[0m, \u001b[0m%rdi               \u001b[0m## \u001b[0mimm \u001b[0m= \u001b[33m0x11BA04D00\u001b[39m\n",
      "\t\u001b[96m\u001b[1mmovq\u001b[22m\u001b[39m\t\u001b[0m%rbx\u001b[0m, \u001b[0m%rsi\n",
      "\t\u001b[96m\u001b[1mmovl\u001b[22m\u001b[39m\t\u001b[33m$1\u001b[39m\u001b[0m, \u001b[0m%edx\n",
      "\t\u001b[96m\u001b[1mcallq\u001b[22m\u001b[39m\t\u001b[0m*\u001b[0m%rax\n",
      "\t\u001b[96m\u001b[1mmovabsq\u001b[22m\u001b[39m\t\u001b[93m$_ijl_throw\u001b[39m\u001b[0m, \u001b[0m%rcx\n",
      "\t\u001b[96m\u001b[1mmovq\u001b[22m\u001b[39m\t\u001b[0m%rax\u001b[0m, \u001b[0m%rdi\n",
      "\t\u001b[96m\u001b[1mcallq\u001b[22m\u001b[39m\t\u001b[0m*\u001b[0m%rcx\n",
      "\u001b[91mLBB0_53:\u001b[39m                                \u001b[0m## \u001b[0m%L211\n",
      "\u001b[90m; │└\u001b[39m\n",
      "\u001b[90m; │ @ arraymath.jl:16 within `+`\u001b[39m\n",
      "\u001b[90m; │┌ @ broadcast.jl:849 within `broadcast_preserving_zero_d`\u001b[39m\n",
      "\u001b[90m; ││┌ @ broadcast.jl:860 within `materialize`\u001b[39m\n",
      "\u001b[90m; │││┌ @ broadcast.jl:885 within `copy`\u001b[39m\n",
      "\u001b[90m; ││││┌ @ broadcast.jl:913 within `copyto!` @ broadcast.jl:949\u001b[39m\n",
      "\u001b[90m; │││││┌ @ abstractarray.jl:95 within `axes`\u001b[39m\n",
      "\u001b[90m; ││││││┌ @ tuple.jl:221 within `map`\u001b[39m\n",
      "\t\u001b[96m\u001b[1mmovq\u001b[22m\u001b[39m\t\u001b[0m%rax\u001b[0m, \u001b[33m120\u001b[39m\u001b[33m(\u001b[39m\u001b[0m%rsp\u001b[33m)\u001b[39m\n",
      "\u001b[90m; │││││└└\u001b[39m\n",
      "\t\u001b[96m\u001b[1mmovabsq\u001b[22m\u001b[39m\t\u001b[93m$_j_throwdm_2201\u001b[39m\u001b[0m, \u001b[0m%rax\n",
      "\t\u001b[96m\u001b[1mleaq\u001b[22m\u001b[39m\t\u001b[33m120\u001b[39m\u001b[33m(\u001b[39m\u001b[0m%rsp\u001b[33m)\u001b[39m\u001b[0m, \u001b[0m%rdi\n",
      "\t\u001b[96m\u001b[1mleaq\u001b[22m\u001b[39m\t\u001b[33m128\u001b[39m\u001b[33m(\u001b[39m\u001b[0m%rsp\u001b[33m)\u001b[39m\u001b[0m, \u001b[0m%rsi\n",
      "\t\u001b[96m\u001b[1mcallq\u001b[22m\u001b[39m\t\u001b[0m*\u001b[0m%rax\n",
      "\t\u001b[96m\u001b[1mud2\u001b[22m\u001b[39m\n",
      "\u001b[91mLBB0_54:\u001b[39m                                \u001b[0m## \u001b[0m%L246\n",
      "\u001b[90m; ││└└└\u001b[39m\n",
      "\u001b[90m; ││ @ broadcast.jl:850 within `broadcast_preserving_zero_d`\u001b[39m\n",
      "\u001b[90m; ││┌ @ broadcast.jl:222 within `axes`\u001b[39m\n",
      "\u001b[90m; │││┌ @ broadcast.jl:224 within `_axes`\u001b[39m\n",
      "\u001b[90m; ││││┌ @ broadcast.jl:499 within `combine_axes`\u001b[39m\n",
      "\u001b[90m; │││││┌ @ broadcast.jl:504 within `broadcast_shape`\u001b[39m\n",
      "\u001b[90m; ││││││┌ @ broadcast.jl:510 within `_bcs`\u001b[39m\n"
     ]
    },
    {
     "name": "stdout",
     "output_type": "stream",
     "text": [
      "\u001b[90m; │││││││┌ @ broadcast.jl:516 within `_bcs1`\u001b[39m\n",
      "\u001b[90m; ││││││││┌ @ strings/io.jl:185 within `string`\u001b[39m\n",
      "\t\u001b[96m\u001b[1mmovabsq\u001b[22m\u001b[39m\t\u001b[93m$_ijl_box_int64\u001b[39m\u001b[0m, \u001b[0m%r15\n",
      "\t\u001b[96m\u001b[1mvzeroupper\u001b[22m\u001b[39m\n",
      "\t\u001b[96m\u001b[1mcallq\u001b[22m\u001b[39m\t\u001b[0m*\u001b[0m%r15\n",
      "\t\u001b[96m\u001b[1mmovq\u001b[22m\u001b[39m\t\u001b[0m%rax\u001b[0m, \u001b[0m%r14\n",
      "\t\u001b[96m\u001b[1mmovq\u001b[22m\u001b[39m\t\u001b[0m%rax\u001b[0m, \u001b[33m56\u001b[39m\u001b[33m(\u001b[39m\u001b[0m%rsp\u001b[33m)\u001b[39m\n",
      "\t\u001b[96m\u001b[1mmovq\u001b[22m\u001b[39m\t\u001b[0m%rbx\u001b[0m, \u001b[0m%rdi\n",
      "\t\u001b[96m\u001b[1mcallq\u001b[22m\u001b[39m\t\u001b[0m*\u001b[0m%r15\n",
      "\t\u001b[96m\u001b[1mmovq\u001b[22m\u001b[39m\t\u001b[0m%rax\u001b[0m, \u001b[33m48\u001b[39m\u001b[33m(\u001b[39m\u001b[0m%rsp\u001b[33m)\u001b[39m\n",
      "\t\u001b[96m\u001b[1mmovabsq\u001b[22m\u001b[39m\t\u001b[33m$4770284320\u001b[39m\u001b[0m, \u001b[0m%rcx               \u001b[0m## \u001b[0mimm \u001b[0m= \u001b[33m0x11C54C320\u001b[39m\n",
      "\t\u001b[96m\u001b[1mmovq\u001b[22m\u001b[39m\t\u001b[0m%rcx\u001b[0m, \u001b[33m64\u001b[39m\u001b[33m(\u001b[39m\u001b[0m%rsp\u001b[33m)\u001b[39m\n",
      "\t\u001b[96m\u001b[1mmovq\u001b[22m\u001b[39m\t\u001b[0m%r14\u001b[0m, \u001b[33m72\u001b[39m\u001b[33m(\u001b[39m\u001b[0m%rsp\u001b[33m)\u001b[39m\n",
      "\t\u001b[96m\u001b[1mmovabsq\u001b[22m\u001b[39m\t\u001b[33m$4770284288\u001b[39m\u001b[0m, \u001b[0m%rcx               \u001b[0m## \u001b[0mimm \u001b[0m= \u001b[33m0x11C54C300\u001b[39m\n",
      "\t\u001b[96m\u001b[1mmovq\u001b[22m\u001b[39m\t\u001b[0m%rcx\u001b[0m, \u001b[33m80\u001b[39m\u001b[33m(\u001b[39m\u001b[0m%rsp\u001b[33m)\u001b[39m\n",
      "\t\u001b[96m\u001b[1mmovq\u001b[22m\u001b[39m\t\u001b[0m%rax\u001b[0m, \u001b[33m88\u001b[39m\u001b[33m(\u001b[39m\u001b[0m%rsp\u001b[33m)\u001b[39m\n",
      "\t\u001b[96m\u001b[1mmovabsq\u001b[22m\u001b[39m\t\u001b[93m$_j1_print_to_string_2200\u001b[39m\u001b[0m, \u001b[0m%rax\n",
      "\t\u001b[96m\u001b[1mmovabsq\u001b[22m\u001b[39m\t\u001b[33m$4757498496\u001b[39m\u001b[0m, \u001b[0m%rdi               \u001b[0m## \u001b[0mimm \u001b[0m= \u001b[33m0x11B91AA80\u001b[39m\n",
      "\t\u001b[96m\u001b[1mleaq\u001b[22m\u001b[39m\t\u001b[33m64\u001b[39m\u001b[33m(\u001b[39m\u001b[0m%rsp\u001b[33m)\u001b[39m\u001b[0m, \u001b[0m%rbx\n",
      "\t\u001b[96m\u001b[1mmovq\u001b[22m\u001b[39m\t\u001b[0m%rbx\u001b[0m, \u001b[0m%rsi\n",
      "\t\u001b[96m\u001b[1mmovl\u001b[22m\u001b[39m\t\u001b[33m$4\u001b[39m\u001b[0m, \u001b[0m%edx\n",
      "\t\u001b[96m\u001b[1mcallq\u001b[22m\u001b[39m\t\u001b[0m*\u001b[0m%rax\n",
      "\t\u001b[96m\u001b[1mmovq\u001b[22m\u001b[39m\t\u001b[0m%rax\u001b[0m, \u001b[33m48\u001b[39m\u001b[33m(\u001b[39m\u001b[0m%rsp\u001b[33m)\u001b[39m\n",
      "\u001b[90m; ││││││││└\u001b[39m\n",
      "\t\u001b[96m\u001b[1mmovq\u001b[22m\u001b[39m\t\u001b[0m%rax\u001b[0m, \u001b[33m64\u001b[39m\u001b[33m(\u001b[39m\u001b[0m%rsp\u001b[33m)\u001b[39m\n",
      "\t\u001b[96m\u001b[1mmovabsq\u001b[22m\u001b[39m\t\u001b[93m$_ijl_apply_generic\u001b[39m\u001b[0m, \u001b[0m%rax\n",
      "\t\u001b[96m\u001b[1mmovabsq\u001b[22m\u001b[39m\t\u001b[33m$4758457600\u001b[39m\u001b[0m, \u001b[0m%rdi               \u001b[0m## \u001b[0mimm \u001b[0m= \u001b[33m0x11BA04D00\u001b[39m\n",
      "\t\u001b[96m\u001b[1mmovq\u001b[22m\u001b[39m\t\u001b[0m%rbx\u001b[0m, \u001b[0m%rsi\n",
      "\t\u001b[96m\u001b[1mmovl\u001b[22m\u001b[39m\t\u001b[33m$1\u001b[39m\u001b[0m, \u001b[0m%edx\n",
      "\t\u001b[96m\u001b[1mcallq\u001b[22m\u001b[39m\t\u001b[0m*\u001b[0m%rax\n",
      "\t\u001b[96m\u001b[1mmovabsq\u001b[22m\u001b[39m\t\u001b[93m$_ijl_throw\u001b[39m\u001b[0m, \u001b[0m%rcx\n",
      "\t\u001b[96m\u001b[1mmovq\u001b[22m\u001b[39m\t\u001b[0m%rax\u001b[0m, \u001b[0m%rdi\n",
      "\t\u001b[96m\u001b[1mcallq\u001b[22m\u001b[39m\t\u001b[0m*\u001b[0m%rcx\n",
      "\t\u001b[0m.cfi_endproc\n",
      "\u001b[90m; └└└└└└└└\u001b[39m\n",
      "                                        \u001b[0m## \u001b[0m-- \u001b[0mEnd \u001b[0mfunction\n",
      "\u001b[0m.subsections_via_symbols\n"
     ]
    }
   ],
   "source": [
    "@code_native a1_a + a2_a"
   ]
  },
  {
   "cell_type": "markdown",
   "metadata": {},
   "source": [
    "\n",
    "# Operations from `Vec` types to `Vec` types\n",
    "\n",
    "\n",
    "###### Operations between `Vec` elements\n",
    "\n",
    "\n",
    "Let $Vec\\{N,T\\}$ be a set where a `Vec` can be instanciated. For example `Vec{8,Int32}`.\n",
    "Here $N$ is the length of the vector and $T$ is the DataType. \n",
    "\n",
    "\n",
    "## Vector operations\n",
    "\n",
    "There are essentially two types of vector operations.\n",
    "\n",
    "###### Same data-type operators, where the input vectors have type $T$ and the output has type $T$\n",
    "\n",
    "$$\n",
    "Vec\\{N,T\\} \\times Vec\\{N,T\\}  \\longrightarrow Vec\\{N,T\\}\n",
    "$$\n",
    "Theese are `[+, -, *,  &, |, <<, >>, >>>,  / , ^]`\n",
    "\n",
    "\n",
    "###### Comparation  operators, where the output has a boolean datatype\n",
    "\n",
    "$$\n",
    "Vec\\{N,T\\} \\times Vec\\{N,T\\}  \\longrightarrow Vec\\{N,\\text{Bool}\\}\n",
    "$$\n",
    "\n",
    "Which are  `[==, !=, <, <=, >, >=]` and the output is a vector of booleans.\n",
    "\n",
    "\n",
    "\n",
    "##### Float operations\n",
    "\n",
    "\n",
    "Most operations between SIMD vector elements are functions of the form $Vec\\{N,T \\text{<:}\\text{Float}\\} \\times Vec\\{N,T\\text{<:}\\text{Float}\\}  \\longrightarrow Vec\\{N,T \\text{<:}\\text{Float} \\}$. We have the following methods in SIMD.jl:\n",
    "\n",
    "```\n",
    "+, -, *,  /,  ^\n",
    "```\n",
    "\n",
    "\n",
    "##### Integer operations\n",
    "\n",
    "Some vector operations return a boolen vector  $Vec\\{N,T\\text{<:}\\text{Int}\\} \\times Vec\\{N,T\\text{<:}\\text{Int}\\}  \\longrightarrow Vec\\{N,\\text{<:}\\text{Int}\\}$. We have the following methods in SIMD.jl:\n",
    "\n",
    "\n",
    "```\n",
    "+ - * / % ^ !  & | $ << >> >>> \n",
    "```\n",
    "\n",
    "##### Comparation operations\n",
    "\n",
    "Some vector operations return a boolen vector  $Vec\\{N,T\\text{<:}\\text{Int}\\} \\times Vec\\{N,T\\text{<:}\\text{Int}\\}  \\longrightarrow Vec\\{N,\\text{Bool}\\}$. We have the following methods in SIMD.jl:\n",
    "\n",
    "```\n",
    "== != < <= > >=\n",
    "```\n",
    "\n",
    "\n",
    "###### The \"~\" operator\n",
    "\n",
    "There is an example of an operator that does not apply to two Vec elements. The \"~\" operator is $Vec\\{N,T \\text{<:}\\text{Int}\\}  \\longrightarrow Vec\\{N,T \\text{<:} \\text{Int}\\}$.\n",
    "\n",
    "\n",
    "\n",
    "\n",
    "###### Note: Vector operations cannot operate with vectors containing different data types\n",
    "\n",
    "```julia\n",
    "x = Vec(Int.((1,2,3,4)))\n",
    "y = Vec(Float.((1,2,3,8)))\n",
    "x + y\n",
    "\n",
    "MethodError: no method matching +(::Vec{4,Int64}, ::Vec{4,Float64})\n",
    "```\n",
    "\n",
    "This is true even if both datatypes are subtypes of the same abstract type\n",
    "\n",
    "```julia\n",
    "x = Vec(Float32.((1,2,3,4)))\n",
    "y = Vec(Float64.((1,2,3,8)))\n",
    "x + y\n",
    "\n",
    "MethodError: no method matching +(::Vec{4,Float32}, ::Vec{4,Float64})\n",
    "```\n"
   ]
  },
  {
   "cell_type": "code",
   "execution_count": 52,
   "metadata": {
    "ExecuteTime": {
     "end_time": "2022-08-30T18:17:17.862000+02:00",
     "start_time": "2022-08-30T16:17:17.852Z"
    },
    "scrolled": true
   },
   "outputs": [
    {
     "data": {
      "text/plain": [
       "<4 x Int64>[0, 0, 2, 4]"
      ]
     },
     "execution_count": 52,
     "metadata": {},
     "output_type": "execute_result"
    }
   ],
   "source": [
    "x = Vec((1,2,6,4))\n",
    "y = Vec((1,2,4,8))\n",
    "x % y"
   ]
  },
  {
   "cell_type": "code",
   "execution_count": 17,
   "metadata": {
    "ExecuteTime": {
     "end_time": "2022-08-30T17:51:17.565000+02:00",
     "start_time": "2022-08-30T15:51:14.390Z"
    }
   },
   "outputs": [],
   "source": [
    "# Notice this does not work for Floats\n",
    "# x = Vec((1.,2.,3.,4.))\n",
    "# ~x"
   ]
  },
  {
   "cell_type": "markdown",
   "metadata": {},
   "source": [
    "### Integer operators: `[ +, -, *,  &, |, <<, >>, >>>, ==, !=, <, <=, >, >=]`"
   ]
  },
  {
   "cell_type": "code",
   "execution_count": 53,
   "metadata": {
    "ExecuteTime": {
     "end_time": "2022-08-30T18:19:18.313000+02:00",
     "start_time": "2022-08-30T16:19:18.289Z"
    }
   },
   "outputs": [
    {
     "name": "stdout",
     "output_type": "stream",
     "text": [
      "+\tx + y\t\t<4 x Int64>[2, 4, 6, 13]\n",
      "-\tx - y\t\t<4 x Int64>[0, 0, 0, -5]\n",
      "*\tx * y\t\t<4 x Int64>[1, 4, 9, 36]\n",
      "&\tx & y\t\t<4 x Int64>[1, 2, 3, 0]\n",
      "|\tx | y\t\t<4 x Int64>[1, 2, 3, 13]\n",
      "<<\tx << y\t\t<4 x Int64>[2, 8, 24, 2048]\n",
      ">>\tx >> y\t\t<4 x Int64>[0, 0, 0, 0]\n",
      ">>>\tx >>> y\t\t<4 x Int64>[0, 0, 0, 0]\n",
      "==\tx == y\t\t<4 x Bool>[1, 1, 1, 0]\n",
      "!=\tx != y\t\t<4 x Bool>[0, 0, 0, 1]\n",
      "<\tx < y\t\t<4 x Bool>[0, 0, 0, 1]\n",
      "<=\tx <= y\t\t<4 x Bool>[1, 1, 1, 1]\n",
      ">\tx > y\t\t<4 x Bool>[0, 0, 0, 0]\n",
      ">=\tx >= y\t\t<4 x Bool>[1, 1, 1, 0]\n"
     ]
    }
   ],
   "source": [
    "x = Vec((1,2,3,4))\n",
    "y = Vec((1,2,3,9))\n",
    "\n",
    "# I should add to this list % operator\n",
    "operations_integers = Symbol.([ +, -, *,  &, |, <<, >>, >>>, ==, !=, <, <=, >, >=])\n",
    "\n",
    "for op in operations_integers\n",
    "    println(op, \"\\tx $op y\\t\\t\", eval(Meta.parse(\"x $(op) y\"))) #, #eval(exp(x op y)))\n",
    "end"
   ]
  },
  {
   "cell_type": "markdown",
   "metadata": {
    "ExecuteTime": {
     "end_time": "2020-02-21T15:24:29.744000+01:00",
     "start_time": "2020-02-21T14:24:29.743Z"
    }
   },
   "source": [
    "###### Be carefull with operations because they can behave in a wrap-around (or modulus) fashion\n",
    "\n",
    "\n",
    "In the following cell we can see that 255+1 gives 0 as result and 255+2 gives 1 as result."
   ]
  },
  {
   "cell_type": "code",
   "execution_count": 69,
   "metadata": {
    "ExecuteTime": {
     "end_time": "2022-08-30T18:26:59.960000+02:00",
     "start_time": "2022-08-30T16:26:59.955Z"
    }
   },
   "outputs": [
    {
     "data": {
      "text/plain": [
       "<4 x UInt8>[0x00, 0x01, 0xff, 0xff]"
      ]
     },
     "execution_count": 69,
     "metadata": {},
     "output_type": "execute_result"
    }
   ],
   "source": [
    "x = Vec(UInt8.((255,255,255,255)))\n",
    "y = Vec(UInt8.((1,2,0,0)))\n",
    "x + y"
   ]
  },
  {
   "cell_type": "markdown",
   "metadata": {
    "ExecuteTime": {
     "end_time": "2022-08-30T18:27:22.407000+02:00",
     "start_time": "2022-08-30T16:27:22.396Z"
    }
   },
   "source": [
    "We can proactively avoid this using `add_saturate` operation.\n",
    "This operation keeps the `typemax` of the elementype if the result exceedds it (instead of doing a wrap around )"
   ]
  },
  {
   "cell_type": "code",
   "execution_count": 71,
   "metadata": {
    "ExecuteTime": {
     "end_time": "2022-08-30T18:27:25.010000+02:00",
     "start_time": "2022-08-30T16:27:25.005Z"
    }
   },
   "outputs": [
    {
     "data": {
      "text/plain": [
       "<4 x UInt8>[0xff, 0xff, 0xff, 0xff]"
      ]
     },
     "execution_count": 71,
     "metadata": {},
     "output_type": "execute_result"
    }
   ],
   "source": [
    "# Put Here a ceil version\n",
    "x = Vec(UInt8.((255,255,255,255)))\n",
    "y = Vec(UInt8.((1,0,0,0)))\n",
    "SIMD.add_saturate(x, y)"
   ]
  },
  {
   "cell_type": "markdown",
   "metadata": {},
   "source": [
    "### Float operators: `[ +, -, *,  &, |, <<, >>, >>>, ==, !=, <, <=, >, >=]`"
   ]
  },
  {
   "cell_type": "code",
   "execution_count": 21,
   "metadata": {
    "ExecuteTime": {
     "end_time": "2022-08-30T17:51:19.957000+02:00",
     "start_time": "2022-08-30T15:51:17.828Z"
    }
   },
   "outputs": [
    {
     "name": "stdout",
     "output_type": "stream",
     "text": [
      "+\tx + y\t\t<4 x Float64>[2.0, 4.0, 6.0, 13.0]\n",
      "-\tx - y\t\t<4 x Float64>[0.0, 0.0, 0.0, -5.0]\n",
      "*\tx * y\t\t<4 x Float64>[1.0, 4.0, 9.0, 36.0]\n",
      "/\tx / y\t\t<4 x Float64>[1.0, 1.0, 1.0, 0.4444444444444444]\n",
      "^\tx ^ y\t\t<4 x Float64>[1.0, 4.0, 27.0, 262144.0]\n",
      "==\tx == y\t\t<4 x Bool>[1, 1, 1, 0]\n",
      "!=\tx != y\t\t<4 x Bool>[0, 0, 0, 1]\n",
      "<\tx < y\t\t<4 x Bool>[0, 0, 0, 1]\n",
      "<=\tx <= y\t\t<4 x Bool>[1, 1, 1, 1]\n",
      ">\tx > y\t\t<4 x Bool>[0, 0, 0, 0]\n",
      ">=\tx >= y\t\t<4 x Bool>[1, 1, 1, 0]\n"
     ]
    }
   ],
   "source": [
    "x = Vec((1.,2.,3.,4.))\n",
    "y = Vec((1.,2.,3.,9.))\n",
    "\n",
    "operations_floats = Symbol.([ +, -, *,  /,  ^,  ==, !=, <, <=, >, >=])\n",
    "\n",
    "for op in operations_floats\n",
    "    println(op, \"\\tx $op y\\t\\t\", eval(Meta.parse(\"x $op y\"))) #, #eval(exp(x op y)))\n",
    "end"
   ]
  },
  {
   "cell_type": "markdown",
   "metadata": {},
   "source": [
    "\n",
    "# Elementwise operation in `Vec` elements\n",
    "\n",
    "An elementwise operation in a vec element is a function $Vec\\{N,T\\} \\longrightarrow Vec\\{N,T\\}$\n",
    "\n",
    "The following operations are available:\n",
    "\n",
    "```\n",
    "abs cbrt ceil copysign cos div exp exp10 exp2 flipsign floor fma inv isfinite isinf isnan issubnormal log log10 log2 muladd rem round sign signbit sin sqrt trunc vifelse\n",
    "```"
   ]
  },
  {
   "cell_type": "code",
   "execution_count": 22,
   "metadata": {
    "ExecuteTime": {
     "end_time": "2022-08-30T17:51:20.284000+02:00",
     "start_time": "2022-08-30T15:51:19.563Z"
    }
   },
   "outputs": [
    {
     "data": {
      "text/plain": [
       "<4 x Float64>[1.0, 2.0, 3.0, 4.0]"
      ]
     },
     "execution_count": 22,
     "metadata": {},
     "output_type": "execute_result"
    }
   ],
   "source": [
    "x = Vec((1.,2.,3.,4.))"
   ]
  },
  {
   "cell_type": "code",
   "execution_count": 23,
   "metadata": {
    "ExecuteTime": {
     "end_time": "2022-08-30T17:51:20.297000+02:00",
     "start_time": "2022-08-30T15:51:19.982Z"
    }
   },
   "outputs": [
    {
     "data": {
      "text/plain": [
       "<4 x Float64>[2.718281828459045, 7.38905609893065, 20.085536923187668, 54.598150033144236]"
      ]
     },
     "execution_count": 23,
     "metadata": {},
     "output_type": "execute_result"
    }
   ],
   "source": [
    "exp(x)"
   ]
  },
  {
   "cell_type": "code",
   "execution_count": 24,
   "metadata": {
    "ExecuteTime": {
     "end_time": "2022-08-30T17:51:34.379000+02:00",
     "start_time": "2022-08-30T15:51:34.361Z"
    }
   },
   "outputs": [
    {
     "data": {
      "text/plain": [
       "<4 x Float64>[1.0, 2.0, 3.0, 4.0]"
      ]
     },
     "execution_count": 24,
     "metadata": {},
     "output_type": "execute_result"
    }
   ],
   "source": [
    "ceil(x)"
   ]
  },
  {
   "cell_type": "markdown",
   "metadata": {},
   "source": [
    "\n",
    "\n",
    "# Reduction operations\n",
    "\n",
    "A reduction operation is a function of the form $Vec\\{N,T\\}  \\longrightarrow T$.\n",
    "\n",
    "Therefore reductions \"reduce\" a SIMD vector to a scalar. The following reduction operations are provided:\n",
    "\n",
    "```\n",
    "all any maximum minimum sum prod\n",
    "```"
   ]
  },
  {
   "cell_type": "code",
   "execution_count": 25,
   "metadata": {
    "ExecuteTime": {
     "end_time": "2022-08-30T17:51:37.004000+02:00",
     "start_time": "2022-08-30T15:51:36.707Z"
    }
   },
   "outputs": [
    {
     "data": {
      "text/plain": [
       "10.0"
      ]
     },
     "execution_count": 25,
     "metadata": {},
     "output_type": "execute_result"
    }
   ],
   "source": [
    "x = Vec((1.,2.,3.,4.))\n",
    "sum(x)"
   ]
  },
  {
   "cell_type": "code",
   "execution_count": 26,
   "metadata": {
    "ExecuteTime": {
     "end_time": "2022-08-30T17:51:37.642000+02:00",
     "start_time": "2022-08-30T15:51:37.403Z"
    }
   },
   "outputs": [
    {
     "data": {
      "text/plain": [
       "10"
      ]
     },
     "execution_count": 26,
     "metadata": {},
     "output_type": "execute_result"
    }
   ],
   "source": [
    "x = Vec((1,2,3,4))\n",
    "sum(x)"
   ]
  },
  {
   "cell_type": "markdown",
   "metadata": {},
   "source": [
    "## Shuffle\n",
    "\n",
    "`shufflevector` allows a mask to shuffle elements in a Vec"
   ]
  },
  {
   "cell_type": "code",
   "execution_count": 5,
   "metadata": {
    "ExecuteTime": {
     "end_time": "2022-09-01T21:55:30.379000+02:00",
     "start_time": "2022-09-01T19:55:29.573Z"
    }
   },
   "outputs": [
    {
     "data": {
      "text/plain": [
       "<4 x Int32>[1, 4, 2, 3]"
      ]
     },
     "execution_count": 5,
     "metadata": {},
     "output_type": "execute_result"
    }
   ],
   "source": [
    "a = Vec{4, Int32}((1,2,3,4))\n",
    "mask = (0,3,1,2)\n",
    "shufflevector(a, Val(mask))"
   ]
  },
  {
   "cell_type": "markdown",
   "metadata": {},
   "source": [
    "Note that the mask can take the same "
   ]
  },
  {
   "cell_type": "code",
   "execution_count": 8,
   "metadata": {
    "ExecuteTime": {
     "end_time": "2022-09-01T21:55:39.661000+02:00",
     "start_time": "2022-09-01T19:55:39.656Z"
    }
   },
   "outputs": [
    {
     "data": {
      "text/plain": [
       "<4 x Int32>[1, 1, 2, 3]"
      ]
     },
     "execution_count": 8,
     "metadata": {},
     "output_type": "execute_result"
    }
   ],
   "source": [
    "a = Vec{4, Int32}((1,2,3,4))\n",
    "mask = (0,0,1,2)\n",
    "shufflevector(a, Val(mask))"
   ]
  },
  {
   "cell_type": "code",
   "execution_count": 22,
   "metadata": {
    "ExecuteTime": {
     "end_time": "2022-09-01T21:58:29.912000+02:00",
     "start_time": "2022-09-01T19:58:29.910Z"
    }
   },
   "outputs": [],
   "source": [
    "#a[ Vec{4, Int32}((2,2,1,3))]"
   ]
  },
  {
   "cell_type": "code",
   "execution_count": 27,
   "metadata": {
    "ExecuteTime": {
     "end_time": "2022-09-01T22:02:16.169000+02:00",
     "start_time": "2022-09-01T20:02:14.593Z"
    }
   },
   "outputs": [
    {
     "data": {
      "text/plain": [
       "BenchmarkTools.Trial: 10000 samples with 986 evaluations.\n",
       " Range \u001b[90m(\u001b[39m\u001b[36m\u001b[1mmin\u001b[22m\u001b[39m … \u001b[35mmax\u001b[39m\u001b[90m):  \u001b[39m\u001b[36m\u001b[1m53.165 ns\u001b[22m\u001b[39m … \u001b[35m 1.889 μs\u001b[39m  \u001b[90m┊\u001b[39m GC \u001b[90m(\u001b[39mmin … max\u001b[90m): \u001b[39m0.00% … 92.86%\n",
       " Time  \u001b[90m(\u001b[39m\u001b[34m\u001b[1mmedian\u001b[22m\u001b[39m\u001b[90m):     \u001b[39m\u001b[34m\u001b[1m56.673 ns              \u001b[22m\u001b[39m\u001b[90m┊\u001b[39m GC \u001b[90m(\u001b[39mmedian\u001b[90m):    \u001b[39m0.00%\n",
       " Time  \u001b[90m(\u001b[39m\u001b[32m\u001b[1mmean\u001b[22m\u001b[39m ± \u001b[32mσ\u001b[39m\u001b[90m):   \u001b[39m\u001b[32m\u001b[1m70.859 ns\u001b[22m\u001b[39m ± \u001b[32m65.505 ns\u001b[39m  \u001b[90m┊\u001b[39m GC \u001b[90m(\u001b[39mmean ± σ\u001b[90m):  \u001b[39m3.59% ±  4.11%\n",
       "\n",
       "  \u001b[39m█\u001b[34m█\u001b[39m\u001b[39m▅\u001b[39m▄\u001b[39m▃\u001b[39m▂\u001b[39m▂\u001b[32m▂\u001b[39m\u001b[39m▂\u001b[39m▁\u001b[39m▁\u001b[39m▁\u001b[39m▁\u001b[39m▁\u001b[39m▁\u001b[39m▁\u001b[39m▁\u001b[39m▁\u001b[39m▁\u001b[39m▁\u001b[39m▁\u001b[39m▁\u001b[39m▁\u001b[39m▁\u001b[39m▁\u001b[39m \u001b[39m \u001b[39m \u001b[39m \u001b[39m \u001b[39m \u001b[39m \u001b[39m \u001b[39m \u001b[39m \u001b[39m \u001b[39m \u001b[39m \u001b[39m \u001b[39m \u001b[39m \u001b[39m \u001b[39m \u001b[39m \u001b[39m \u001b[39m \u001b[39m \u001b[39m \u001b[39m \u001b[39m \u001b[39m \u001b[39m \u001b[39m \u001b[39m \u001b[39m \u001b[39m \u001b[39m \u001b[39m \u001b[39m \u001b[39m \u001b[39m▂\n",
       "  \u001b[39m█\u001b[34m█\u001b[39m\u001b[39m█\u001b[39m█\u001b[39m█\u001b[39m█\u001b[39m█\u001b[32m█\u001b[39m\u001b[39m█\u001b[39m█\u001b[39m█\u001b[39m█\u001b[39m█\u001b[39m█\u001b[39m█\u001b[39m█\u001b[39m█\u001b[39m█\u001b[39m█\u001b[39m█\u001b[39m█\u001b[39m█\u001b[39m█\u001b[39m█\u001b[39m█\u001b[39m█\u001b[39m█\u001b[39m█\u001b[39m█\u001b[39m█\u001b[39m█\u001b[39m▇\u001b[39m▇\u001b[39m▆\u001b[39m▇\u001b[39m▇\u001b[39m▆\u001b[39m▆\u001b[39m▆\u001b[39m▆\u001b[39m▆\u001b[39m▆\u001b[39m▅\u001b[39m▅\u001b[39m▅\u001b[39m▅\u001b[39m▅\u001b[39m▅\u001b[39m▅\u001b[39m▅\u001b[39m▅\u001b[39m▆\u001b[39m▄\u001b[39m▅\u001b[39m▃\u001b[39m▅\u001b[39m▅\u001b[39m▄\u001b[39m▄\u001b[39m \u001b[39m█\n",
       "  53.2 ns\u001b[90m      \u001b[39m\u001b[90mHistogram: \u001b[39m\u001b[90m\u001b[1mlog(\u001b[22m\u001b[39m\u001b[90mfrequency\u001b[39m\u001b[90m\u001b[1m)\u001b[22m\u001b[39m\u001b[90m by time\u001b[39m       197 ns \u001b[0m\u001b[1m<\u001b[22m\n",
       "\n",
       " Memory estimate\u001b[90m: \u001b[39m\u001b[33m96 bytes\u001b[39m, allocs estimate\u001b[90m: \u001b[39m\u001b[33m1\u001b[39m."
      ]
     },
     "execution_count": 27,
     "metadata": {},
     "output_type": "execute_result"
    }
   ],
   "source": [
    "x = [1,2,3,4]\n",
    "id = [2,2,1,3]\n",
    "@benchmark x[id]"
   ]
  },
  {
   "cell_type": "code",
   "execution_count": 58,
   "metadata": {
    "ExecuteTime": {
     "end_time": "2022-09-01T22:18:52.440000+02:00",
     "start_time": "2022-09-01T20:18:52.435Z"
    }
   },
   "outputs": [
    {
     "data": {
      "text/plain": [
       "<4 x Float64>[5.0e-324, 1.0e-323, 5.0e-324, 2.5e-323]"
      ]
     },
     "execution_count": 58,
     "metadata": {},
     "output_type": "execute_result"
    }
   ],
   "source": [
    "arr = Vector{Float64}(undef, 100)\n",
    "xs = vload(Vec{4,Float64}, arr, 1)"
   ]
  },
  {
   "cell_type": "code",
   "execution_count": 34,
   "metadata": {
    "ExecuteTime": {
     "end_time": "2022-09-01T22:07:47.828000+02:00",
     "start_time": "2022-09-01T20:07:45.925Z"
    }
   },
   "outputs": [
    {
     "data": {
      "text/plain": [
       "BenchmarkTools.Trial: 10000 samples with 204 evaluations.\n",
       " Range \u001b[90m(\u001b[39m\u001b[36m\u001b[1mmin\u001b[22m\u001b[39m … \u001b[35mmax\u001b[39m\u001b[90m):  \u001b[39m\u001b[36m\u001b[1m377.373 ns\u001b[22m\u001b[39m … \u001b[35m 15.624 μs\u001b[39m  \u001b[90m┊\u001b[39m GC \u001b[90m(\u001b[39mmin … max\u001b[90m): \u001b[39m0.00% … 96.22%\n",
       " Time  \u001b[90m(\u001b[39m\u001b[34m\u001b[1mmedian\u001b[22m\u001b[39m\u001b[90m):     \u001b[39m\u001b[34m\u001b[1m386.458 ns               \u001b[22m\u001b[39m\u001b[90m┊\u001b[39m GC \u001b[90m(\u001b[39mmedian\u001b[90m):    \u001b[39m0.00%\n",
       " Time  \u001b[90m(\u001b[39m\u001b[32m\u001b[1mmean\u001b[22m\u001b[39m ± \u001b[32mσ\u001b[39m\u001b[90m):   \u001b[39m\u001b[32m\u001b[1m410.087 ns\u001b[22m\u001b[39m ± \u001b[32m352.750 ns\u001b[39m  \u001b[90m┊\u001b[39m GC \u001b[90m(\u001b[39mmean ± σ\u001b[90m):  \u001b[39m2.04% ±  2.34%\n",
       "\n",
       "  \u001b[39m▇\u001b[39m█\u001b[34m▇\u001b[39m\u001b[39m▄\u001b[39m▃\u001b[32m▂\u001b[39m\u001b[39m▁\u001b[39m \u001b[39m \u001b[39m \u001b[39m \u001b[39m \u001b[39m \u001b[39m \u001b[39m \u001b[39m \u001b[39m \u001b[39m \u001b[39m \u001b[39m \u001b[39m \u001b[39m \u001b[39m \u001b[39m \u001b[39m \u001b[39m \u001b[39m \u001b[39m \u001b[39m \u001b[39m \u001b[39m \u001b[39m \u001b[39m \u001b[39m \u001b[39m \u001b[39m \u001b[39m \u001b[39m \u001b[39m \u001b[39m \u001b[39m \u001b[39m \u001b[39m \u001b[39m \u001b[39m \u001b[39m \u001b[39m \u001b[39m \u001b[39m \u001b[39m \u001b[39m \u001b[39m \u001b[39m \u001b[39m \u001b[39m \u001b[39m \u001b[39m \u001b[39m \u001b[39m \u001b[39m \u001b[39m \u001b[39m \u001b[39m▁\n",
       "  \u001b[39m█\u001b[39m█\u001b[34m█\u001b[39m\u001b[39m█\u001b[39m█\u001b[32m█\u001b[39m\u001b[39m█\u001b[39m█\u001b[39m█\u001b[39m█\u001b[39m█\u001b[39m▇\u001b[39m▇\u001b[39m█\u001b[39m█\u001b[39m▇\u001b[39m▇\u001b[39m▆\u001b[39m▇\u001b[39m▇\u001b[39m▇\u001b[39m▅\u001b[39m▆\u001b[39m▆\u001b[39m▆\u001b[39m▅\u001b[39m▆\u001b[39m▅\u001b[39m▅\u001b[39m▆\u001b[39m▆\u001b[39m▆\u001b[39m▆\u001b[39m▅\u001b[39m▅\u001b[39m▄\u001b[39m▆\u001b[39m▅\u001b[39m▅\u001b[39m▄\u001b[39m▅\u001b[39m▅\u001b[39m▄\u001b[39m▅\u001b[39m▄\u001b[39m▅\u001b[39m▅\u001b[39m▅\u001b[39m▅\u001b[39m▄\u001b[39m▄\u001b[39m▅\u001b[39m▅\u001b[39m▅\u001b[39m▄\u001b[39m▅\u001b[39m▄\u001b[39m▄\u001b[39m▅\u001b[39m▄\u001b[39m▅\u001b[39m \u001b[39m█\n",
       "  377 ns\u001b[90m        \u001b[39m\u001b[90mHistogram: \u001b[39m\u001b[90m\u001b[1mlog(\u001b[22m\u001b[39m\u001b[90mfrequency\u001b[39m\u001b[90m\u001b[1m)\u001b[22m\u001b[39m\u001b[90m by time\u001b[39m        741 ns \u001b[0m\u001b[1m<\u001b[22m\n",
       "\n",
       " Memory estimate\u001b[90m: \u001b[39m\u001b[33m144 bytes\u001b[39m, allocs estimate\u001b[90m: \u001b[39m\u001b[33m4\u001b[39m."
      ]
     },
     "execution_count": 34,
     "metadata": {},
     "output_type": "execute_result"
    }
   ],
   "source": [
    "@benchmark  shufflevector($a, $Val(mask))"
   ]
  },
  {
   "cell_type": "code",
   "execution_count": 66,
   "metadata": {
    "ExecuteTime": {
     "end_time": "2022-09-01T22:27:34.784000+02:00",
     "start_time": "2022-09-01T20:27:34.778Z"
    }
   },
   "outputs": [
    {
     "data": {
      "text/plain": [
       "<4 x Int64>[1, 2, 3, 4]"
      ]
     },
     "execution_count": 66,
     "metadata": {},
     "output_type": "execute_result"
    }
   ],
   "source": [
    "arr = [i for i in 1:20]\n",
    "i = 1\n",
    "lane = VecRange{4}(0)\n",
    "v = arr[lane + i]             # vload"
   ]
  },
  {
   "cell_type": "code",
   "execution_count": 70,
   "metadata": {
    "ExecuteTime": {
     "end_time": "2022-09-01T22:33:44.264000+02:00",
     "start_time": "2022-09-01T20:33:43.137Z"
    }
   },
   "outputs": [
    {
     "data": {
      "text/plain": [
       "BenchmarkTools.Trial: 10000 samples with 1000 evaluations.\n",
       " Range \u001b[90m(\u001b[39m\u001b[36m\u001b[1mmin\u001b[22m\u001b[39m … \u001b[35mmax\u001b[39m\u001b[90m):  \u001b[39m\u001b[36m\u001b[1m3.682 ns\u001b[22m\u001b[39m … \u001b[35m41.142 ns\u001b[39m  \u001b[90m┊\u001b[39m GC \u001b[90m(\u001b[39mmin … max\u001b[90m): \u001b[39m0.00% … 0.00%\n",
       " Time  \u001b[90m(\u001b[39m\u001b[34m\u001b[1mmedian\u001b[22m\u001b[39m\u001b[90m):     \u001b[39m\u001b[34m\u001b[1m3.998 ns              \u001b[22m\u001b[39m\u001b[90m┊\u001b[39m GC \u001b[90m(\u001b[39mmedian\u001b[90m):    \u001b[39m0.00%\n",
       " Time  \u001b[90m(\u001b[39m\u001b[32m\u001b[1mmean\u001b[22m\u001b[39m ± \u001b[32mσ\u001b[39m\u001b[90m):   \u001b[39m\u001b[32m\u001b[1m4.192 ns\u001b[22m\u001b[39m ± \u001b[32m 1.674 ns\u001b[39m  \u001b[90m┊\u001b[39m GC \u001b[90m(\u001b[39mmean ± σ\u001b[90m):  \u001b[39m0.00% ± 0.00%\n",
       "\n",
       "  \u001b[39m▇\u001b[39m▄\u001b[39m▁\u001b[39m \u001b[34m█\u001b[39m\u001b[39m▄\u001b[39m▂\u001b[32m \u001b[39m\u001b[39m \u001b[39m \u001b[39m \u001b[39m \u001b[39m \u001b[39m \u001b[39m \u001b[39m \u001b[39m \u001b[39m \u001b[39m \u001b[39m \u001b[39m \u001b[39m \u001b[39m \u001b[39m \u001b[39m \u001b[39m \u001b[39m \u001b[39m \u001b[39m \u001b[39m \u001b[39m \u001b[39m \u001b[39m \u001b[39m \u001b[39m \u001b[39m \u001b[39m \u001b[39m \u001b[39m \u001b[39m \u001b[39m \u001b[39m \u001b[39m \u001b[39m \u001b[39m \u001b[39m \u001b[39m \u001b[39m \u001b[39m \u001b[39m \u001b[39m \u001b[39m \u001b[39m \u001b[39m \u001b[39m \u001b[39m \u001b[39m \u001b[39m \u001b[39m \u001b[39m▂\n",
       "  \u001b[39m█\u001b[39m█\u001b[39m█\u001b[39m▇\u001b[34m█\u001b[39m\u001b[39m█\u001b[39m█\u001b[32m▇\u001b[39m\u001b[39m▇\u001b[39m▆\u001b[39m▅\u001b[39m▆\u001b[39m▆\u001b[39m▆\u001b[39m▅\u001b[39m▆\u001b[39m▇\u001b[39m▆\u001b[39m▆\u001b[39m▇\u001b[39m▇\u001b[39m▇\u001b[39m▇\u001b[39m█\u001b[39m█\u001b[39m█\u001b[39m█\u001b[39m█\u001b[39m█\u001b[39m▇\u001b[39m█\u001b[39m▇\u001b[39m█\u001b[39m▇\u001b[39m▇\u001b[39m▆\u001b[39m▅\u001b[39m▅\u001b[39m▆\u001b[39m▄\u001b[39m▄\u001b[39m▄\u001b[39m▄\u001b[39m▁\u001b[39m▄\u001b[39m▄\u001b[39m▅\u001b[39m▄\u001b[39m▅\u001b[39m▃\u001b[39m▆\u001b[39m▅\u001b[39m▆\u001b[39m▇\u001b[39m▆\u001b[39m▇\u001b[39m▆\u001b[39m▆\u001b[39m \u001b[39m█\n",
       "  3.68 ns\u001b[90m      \u001b[39m\u001b[90mHistogram: \u001b[39m\u001b[90m\u001b[1mlog(\u001b[22m\u001b[39m\u001b[90mfrequency\u001b[39m\u001b[90m\u001b[1m)\u001b[22m\u001b[39m\u001b[90m by time\u001b[39m     8.02 ns \u001b[0m\u001b[1m<\u001b[22m\n",
       "\n",
       " Memory estimate\u001b[90m: \u001b[39m\u001b[33m0 bytes\u001b[39m, allocs estimate\u001b[90m: \u001b[39m\u001b[33m0\u001b[39m."
      ]
     },
     "execution_count": 70,
     "metadata": {},
     "output_type": "execute_result"
    }
   ],
   "source": [
    "idx = Vec((1, 3, 4, 7))\n",
    "@benchmark aux = $arr[$idx]  "
   ]
  },
  {
   "cell_type": "code",
   "execution_count": 7,
   "metadata": {
    "ExecuteTime": {
     "end_time": "2022-09-01T21:55:39.424000+02:00",
     "start_time": "2022-09-01T19:55:35.854Z"
    }
   },
   "outputs": [
    {
     "data": {
      "text/plain": [
       "BenchmarkTools.Trial: 10000 samples with 218 evaluations.\n",
       " Range \u001b[90m(\u001b[39m\u001b[36m\u001b[1mmin\u001b[22m\u001b[39m … \u001b[35mmax\u001b[39m\u001b[90m):  \u001b[39m\u001b[36m\u001b[1m341.514 ns\u001b[22m\u001b[39m … \u001b[35m 13.274 μs\u001b[39m  \u001b[90m┊\u001b[39m GC \u001b[90m(\u001b[39mmin … max\u001b[90m): \u001b[39m0.00% … 96.10%\n",
       " Time  \u001b[90m(\u001b[39m\u001b[34m\u001b[1mmedian\u001b[22m\u001b[39m\u001b[90m):     \u001b[39m\u001b[34m\u001b[1m354.904 ns               \u001b[22m\u001b[39m\u001b[90m┊\u001b[39m GC \u001b[90m(\u001b[39mmedian\u001b[90m):    \u001b[39m0.00%\n",
       " Time  \u001b[90m(\u001b[39m\u001b[32m\u001b[1mmean\u001b[22m\u001b[39m ± \u001b[32mσ\u001b[39m\u001b[90m):   \u001b[39m\u001b[32m\u001b[1m422.250 ns\u001b[22m\u001b[39m ± \u001b[32m257.726 ns\u001b[39m  \u001b[90m┊\u001b[39m GC \u001b[90m(\u001b[39mmean ± σ\u001b[90m):  \u001b[39m0.86% ±  1.65%\n",
       "\n",
       "  \u001b[39m█\u001b[34m▇\u001b[39m\u001b[39m▄\u001b[39m▃\u001b[39m▂\u001b[39m▂\u001b[39m▂\u001b[39m▂\u001b[32m▁\u001b[39m\u001b[39m▁\u001b[39m \u001b[39m \u001b[39m \u001b[39m▁\u001b[39m▁\u001b[39m▁\u001b[39m \u001b[39m \u001b[39m \u001b[39m▁\u001b[39m \u001b[39m \u001b[39m▁\u001b[39m \u001b[39m \u001b[39m▁\u001b[39m \u001b[39m \u001b[39m \u001b[39m \u001b[39m▁\u001b[39m \u001b[39m \u001b[39m \u001b[39m \u001b[39m \u001b[39m \u001b[39m \u001b[39m \u001b[39m \u001b[39m \u001b[39m \u001b[39m \u001b[39m \u001b[39m \u001b[39m \u001b[39m \u001b[39m \u001b[39m \u001b[39m \u001b[39m \u001b[39m \u001b[39m \u001b[39m \u001b[39m \u001b[39m \u001b[39m \u001b[39m \u001b[39m \u001b[39m \u001b[39m \u001b[39m \u001b[39m▁\n",
       "  \u001b[39m█\u001b[34m█\u001b[39m\u001b[39m█\u001b[39m█\u001b[39m█\u001b[39m█\u001b[39m█\u001b[39m█\u001b[32m█\u001b[39m\u001b[39m█\u001b[39m█\u001b[39m█\u001b[39m█\u001b[39m█\u001b[39m█\u001b[39m█\u001b[39m█\u001b[39m█\u001b[39m█\u001b[39m█\u001b[39m█\u001b[39m█\u001b[39m█\u001b[39m█\u001b[39m█\u001b[39m█\u001b[39m█\u001b[39m█\u001b[39m█\u001b[39m█\u001b[39m█\u001b[39m█\u001b[39m█\u001b[39m█\u001b[39m█\u001b[39m█\u001b[39m█\u001b[39m█\u001b[39m█\u001b[39m▇\u001b[39m▇\u001b[39m▇\u001b[39m▇\u001b[39m▇\u001b[39m▆\u001b[39m▇\u001b[39m▆\u001b[39m▇\u001b[39m▆\u001b[39m▇\u001b[39m▆\u001b[39m▆\u001b[39m▅\u001b[39m▅\u001b[39m▄\u001b[39m▅\u001b[39m▅\u001b[39m▅\u001b[39m▅\u001b[39m▄\u001b[39m▅\u001b[39m \u001b[39m█\n",
       "  342 ns\u001b[90m        \u001b[39m\u001b[90mHistogram: \u001b[39m\u001b[90m\u001b[1mlog(\u001b[22m\u001b[39m\u001b[90mfrequency\u001b[39m\u001b[90m\u001b[1m)\u001b[22m\u001b[39m\u001b[90m by time\u001b[39m        976 ns \u001b[0m\u001b[1m<\u001b[22m\n",
       "\n",
       " Memory estimate\u001b[90m: \u001b[39m\u001b[33m80 bytes\u001b[39m, allocs estimate\u001b[90m: \u001b[39m\u001b[33m2\u001b[39m."
      ]
     },
     "execution_count": 7,
     "metadata": {},
     "output_type": "execute_result"
    }
   ],
   "source": [
    "@benchmark sum(shufflevector(a, Val(mask)))"
   ]
  },
  {
   "cell_type": "markdown",
   "metadata": {},
   "source": [
    "The same function can be used with two input vectors, and the mask is applied to positions of both vectors"
   ]
  },
  {
   "cell_type": "code",
   "execution_count": 226,
   "metadata": {
    "ExecuteTime": {
     "end_time": "2022-08-31T23:07:24.391000+02:00",
     "start_time": "2022-08-31T21:07:24.387Z"
    }
   },
   "outputs": [
    {
     "data": {
      "text/plain": [
       "<4 x Int32>[3, 4, 5, 6]"
      ]
     },
     "execution_count": 226,
     "metadata": {},
     "output_type": "execute_result"
    }
   ],
   "source": [
    "                  #0,1,2,3\n",
    "a = Vec{4, Int32}((1,2,3,4))\n",
    "                  #4,5,6,7\n",
    "b = Vec{4, Int32}((5,6,7,8))\n",
    "mask = (2,3,4,5)\n",
    "shufflevector(a, b, Val(mask))"
   ]
  },
  {
   "cell_type": "markdown",
   "metadata": {},
   "source": [
    "# Performance gain by lowering precission"
   ]
  },
  {
   "cell_type": "markdown",
   "metadata": {},
   "source": [
    "The speed difference can be magnified if we do more operations than a single sum:"
   ]
  },
  {
   "cell_type": "code",
   "execution_count": 27,
   "metadata": {
    "ExecuteTime": {
     "end_time": "2022-08-30T17:56:56.540000+02:00",
     "start_time": "2022-08-30T15:56:56.288Z"
    }
   },
   "outputs": [
    {
     "data": {
      "text/plain": [
       "sum_vec (generic function with 1 method)"
      ]
     },
     "execution_count": 27,
     "metadata": {},
     "output_type": "execute_result"
    }
   ],
   "source": [
    "function sum_vec(a1, a2, b1, b2)\n",
    "    res1 = a1 + a2\n",
    "    res2 = b1 + b2\n",
    "    return res1, res2\n",
    "end"
   ]
  },
  {
   "cell_type": "code",
   "execution_count": 28,
   "metadata": {
    "ExecuteTime": {
     "end_time": "2022-08-30T17:57:00.350000+02:00",
     "start_time": "2022-08-30T15:56:57.820Z"
    }
   },
   "outputs": [
    {
     "name": "stdout",
     "output_type": "stream",
     "text": [
      "  107.177 ns (3 allocations: 480 bytes)\n"
     ]
    },
    {
     "data": {
      "text/plain": [
       "([2, 4, 6, 8, 10, 12, 14, 16, 18, 20, 22, 24, 26, 28, 30, 32, 34, 36, 38, 40], [2, 4, 6, 8, 10, 12, 14, 16, 18, 20, 22, 24, 26, 28, 30, 32, 34, 36, 38, 40])"
      ]
     },
     "execution_count": 28,
     "metadata": {},
     "output_type": "execute_result"
    }
   ],
   "source": [
    "@btime sum_vec(a1_a, a2_a, a1_a, a2_a)"
   ]
  },
  {
   "cell_type": "code",
   "execution_count": 29,
   "metadata": {
    "ExecuteTime": {
     "end_time": "2022-08-30T17:57:02.411000+02:00",
     "start_time": "2022-08-30T15:56:59.753Z"
    }
   },
   "outputs": [
    {
     "name": "stdout",
     "output_type": "stream",
     "text": [
      "  46.208 ns (1 allocation: 544 bytes)\n"
     ]
    },
    {
     "data": {
      "text/plain": [
       "(<20 x Int64>[2, 4, 6, 8, 10, 12, 14, 16, 18, 20, 22, 24, 26, 28, 30, 32, 34, 36, 38, 40], <20 x Int64>[2, 4, 6, 8, 10, 12, 14, 16, 18, 20, 22, 24, 26, 28, 30, 32, 34, 36, 38, 40])"
      ]
     },
     "execution_count": 29,
     "metadata": {},
     "output_type": "execute_result"
    }
   ],
   "source": [
    "@btime sum_vec(a1_v, a2_v, a1_v, a2_v)"
   ]
  },
  {
   "cell_type": "code",
   "execution_count": 31,
   "metadata": {
    "ExecuteTime": {
     "end_time": "2022-08-30T17:58:36.994000+02:00",
     "start_time": "2022-08-30T15:58:36.989Z"
    }
   },
   "outputs": [
    {
     "data": {
      "text/plain": [
       "sum_vec_4 (generic function with 1 method)"
      ]
     },
     "execution_count": 31,
     "metadata": {},
     "output_type": "execute_result"
    }
   ],
   "source": [
    "function sum_vec_4(a1,a2,b1,b2)\n",
    "    res1 = a1 + a2\n",
    "    res2 = b1 + b2\n",
    "    res3 = a1 + b1\n",
    "    res4 = a2 + b2\n",
    "\n",
    "    return res1, res2, res3, res4\n",
    "end"
   ]
  },
  {
   "cell_type": "code",
   "execution_count": 32,
   "metadata": {
    "ExecuteTime": {
     "end_time": "2022-08-30T17:58:40.190000+02:00",
     "start_time": "2022-08-30T15:58:37.652Z"
    }
   },
   "outputs": [
    {
     "name": "stdout",
     "output_type": "stream",
     "text": [
      "  78.090 ns (1 allocation: 1.06 KiB)\n"
     ]
    },
    {
     "data": {
      "text/plain": [
       "(<20 x Int64>[2, 4, 6, 8, 10, 12, 14, 16, 18, 20, 22, 24, 26, 28, 30, 32, 34, 36, 38, 40], <20 x Int64>[2, 4, 6, 8, 10, 12, 14, 16, 18, 20, 22, 24, 26, 28, 30, 32, 34, 36, 38, 40], <20 x Int64>[2, 4, 6, 8, 10, 12, 14, 16, 18, 20, 22, 24, 26, 28, 30, 32, 34, 36, 38, 40], <20 x Int64>[2, 4, 6, 8, 10, 12, 14, 16, 18, 20, 22, 24, 26, 28, 30, 32, 34, 36, 38, 40])"
      ]
     },
     "execution_count": 32,
     "metadata": {},
     "output_type": "execute_result"
    }
   ],
   "source": [
    "@btime sum_vec_4(a1_v,a2_v,a1_v,a2_v)"
   ]
  },
  {
   "cell_type": "code",
   "execution_count": 34,
   "metadata": {
    "ExecuteTime": {
     "end_time": "2022-08-30T18:00:07.063000+02:00",
     "start_time": "2022-08-30T16:00:04.526Z"
    }
   },
   "outputs": [
    {
     "name": "stdout",
     "output_type": "stream",
     "text": [
      "  170.673 ns (5 allocations: 944 bytes)\n"
     ]
    },
    {
     "data": {
      "text/plain": [
       "([2, 4, 6, 8, 10, 12, 14, 16, 18, 20, 22, 24, 26, 28, 30, 32, 34, 36, 38, 40], [2, 4, 6, 8, 10, 12, 14, 16, 18, 20, 22, 24, 26, 28, 30, 32, 34, 36, 38, 40], [2, 4, 6, 8, 10, 12, 14, 16, 18, 20, 22, 24, 26, 28, 30, 32, 34, 36, 38, 40], [2, 4, 6, 8, 10, 12, 14, 16, 18, 20, 22, 24, 26, 28, 30, 32, 34, 36, 38, 40])"
      ]
     },
     "execution_count": 34,
     "metadata": {},
     "output_type": "execute_result"
    }
   ],
   "source": [
    "@btime sum_vec_4(a1_a, a2_a, a1_a, a2_a)"
   ]
  },
  {
   "cell_type": "markdown",
   "metadata": {},
   "source": [
    "Notice that the speed gain between the prevoius two calls is, at most, 4X.\n",
    "\n",
    "We can increase the difference in speed using an integer type with less bits. For example Int32."
   ]
  },
  {
   "cell_type": "code",
   "execution_count": 35,
   "metadata": {
    "ExecuteTime": {
     "end_time": "2022-08-30T18:00:07.505000+02:00",
     "start_time": "2022-08-30T16:00:05.907Z"
    },
    "scrolled": false
   },
   "outputs": [
    {
     "data": {
      "text/plain": [
       "<20 x Int32>[1, 2, 3, 4, 5, 6, 7, 8, 9, 10, 11, 12, 13, 14, 15, 16, 17, 18, 19, 20]"
      ]
     },
     "execution_count": 35,
     "metadata": {},
     "output_type": "execute_result"
    }
   ],
   "source": [
    "a1_i8_v = Vec(tuple(Int32.(a1_a)...))\n",
    "a2_i8_v = Vec(tuple(Int32.(a2_a)...))"
   ]
  },
  {
   "cell_type": "code",
   "execution_count": 36,
   "metadata": {
    "ExecuteTime": {
     "end_time": "2022-08-30T18:00:11.671000+02:00",
     "start_time": "2022-08-30T16:00:09.593Z"
    },
    "scrolled": false
   },
   "outputs": [
    {
     "name": "stdout",
     "output_type": "stream",
     "text": [
      "  47.582 ns (1 allocation: 544 bytes)\n"
     ]
    },
    {
     "data": {
      "text/plain": [
       "(<20 x Int32>[2, 4, 6, 8, 10, 12, 14, 16, 18, 20, 22, 24, 26, 28, 30, 32, 34, 36, 38, 40], <20 x Int32>[2, 4, 6, 8, 10, 12, 14, 16, 18, 20, 22, 24, 26, 28, 30, 32, 34, 36, 38, 40], <20 x Int32>[2, 4, 6, 8, 10, 12, 14, 16, 18, 20, 22, 24, 26, 28, 30, 32, 34, 36, 38, 40], <20 x Int32>[2, 4, 6, 8, 10, 12, 14, 16, 18, 20, 22, 24, 26, 28, 30, 32, 34, 36, 38, 40])"
      ]
     },
     "execution_count": 36,
     "metadata": {},
     "output_type": "execute_result"
    }
   ],
   "source": [
    "@btime sum_vec_4(a1_i8_v,a2_i8_v,a1_i8_v,a2_i8_v)"
   ]
  },
  {
   "cell_type": "markdown",
   "metadata": {},
   "source": [
    "## Example automatic vectorization"
   ]
  },
  {
   "cell_type": "code",
   "execution_count": 37,
   "metadata": {
    "ExecuteTime": {
     "end_time": "2022-08-30T18:00:12.728000+02:00",
     "start_time": "2022-08-30T16:00:12.617Z"
    }
   },
   "outputs": [
    {
     "data": {
      "text/plain": [
       "c_a_times_b! (generic function with 1 method)"
      ]
     },
     "execution_count": 37,
     "metadata": {},
     "output_type": "execute_result"
    }
   ],
   "source": [
    "function c_a_times_b!(c::Array, a::Array, b::Array)\n",
    "    @assert length(a) == length(b) == length(c)\n",
    "    @inbounds for i in 1:length(a)\n",
    "        c[i] = a[i] * b[i]\n",
    "    end\n",
    "end"
   ]
  },
  {
   "cell_type": "code",
   "execution_count": 38,
   "metadata": {
    "ExecuteTime": {
     "end_time": "2022-08-30T18:00:13.364000+02:00",
     "start_time": "2022-08-30T16:00:12.924Z"
    }
   },
   "outputs": [
    {
     "data": {
      "text/plain": [
       "Vector{Float64}\u001b[90m (alias for \u001b[39m\u001b[90mArray{Float64, 1}\u001b[39m\u001b[90m)\u001b[39m"
      ]
     },
     "execution_count": 38,
     "metadata": {},
     "output_type": "execute_result"
    }
   ],
   "source": [
    " V64 = Vector{Float64}"
   ]
  },
  {
   "cell_type": "markdown",
   "metadata": {},
   "source": [
    "Inspecting `code_llvm` we can see\n",
    "\n",
    "```\n",
    " ┌ @ float.jl:399 within `*'\n",
    "   %55 = fmul <4 x double> %wide.load, %wide.load24\n",
    "   %56 = fmul <4 x double> %wide.load21, %wide.load25\n",
    "   %57 = fmul <4 x double> %wide.load22, %wide.load26\n",
    "   %58 = fmul <4 x double> %wide.load23, %wide.load27\n",
    "```"
   ]
  },
  {
   "cell_type": "code",
   "execution_count": 47,
   "metadata": {
    "ExecuteTime": {
     "end_time": "2022-08-30T18:01:22.181000+02:00",
     "start_time": "2022-08-30T16:01:22.179Z"
    }
   },
   "outputs": [],
   "source": [
    "# Uncomment the following line and run\n",
    "#code_llvm(c_a_times_b!, Tuple{V64, V64, V64})"
   ]
  },
  {
   "cell_type": "markdown",
   "metadata": {},
   "source": [
    "Inspecting `code_native`\n",
    "\n",
    "```\n",
    "\tvmovupd\t(%r10,%rcx,8), %ymm0\n",
    "\tvmovupd\t32(%r10,%rcx,8), %ymm1\n",
    "\tvmovupd\t64(%r10,%rcx,8), %ymm2\n",
    "\tvmovupd\t96(%r10,%rcx,8), %ymm3\n",
    "```"
   ]
  },
  {
   "cell_type": "code",
   "execution_count": 46,
   "metadata": {
    "ExecuteTime": {
     "end_time": "2022-08-30T18:01:19.595000+02:00",
     "start_time": "2022-08-30T16:01:19.592Z"
    },
    "scrolled": false
   },
   "outputs": [],
   "source": [
    "# Uncomment the following line and run\n",
    "#code_native(c_a_times_b!, Tuple{V64, V64, V64})"
   ]
  },
  {
   "cell_type": "markdown",
   "metadata": {},
   "source": [
    "## Exercise: Algorithm to check if an element is within a vector."
   ]
  },
  {
   "cell_type": "code",
   "execution_count": 77,
   "metadata": {
    "ExecuteTime": {
     "end_time": "2022-08-30T18:48:54.293000+02:00",
     "start_time": "2022-08-30T16:48:54.286Z"
    }
   },
   "outputs": [
    {
     "data": {
      "text/plain": [
       "find_val_in_array (generic function with 1 method)"
      ]
     },
     "execution_count": 77,
     "metadata": {},
     "output_type": "execute_result"
    }
   ],
   "source": [
    "function find_val_in_array(x, val)\n",
    "        \n",
    "    @inbounds for i in 1:length(x)\n",
    "        if x[i] == val\n",
    "            return true\n",
    "        end\n",
    "    end\n",
    "\n",
    "    return false\n",
    "end"
   ]
  },
  {
   "cell_type": "code",
   "execution_count": 78,
   "metadata": {
    "ExecuteTime": {
     "end_time": "2022-08-30T18:49:02.235000+02:00",
     "start_time": "2022-08-30T16:48:54.752Z"
    }
   },
   "outputs": [
    {
     "name": "stdout",
     "output_type": "stream",
     "text": [
      "  151.972 μs (0 allocations: 0 bytes)\n"
     ]
    },
    {
     "data": {
      "text/plain": [
       "true"
      ]
     },
     "execution_count": 78,
     "metadata": {},
     "output_type": "execute_result"
    }
   ],
   "source": [
    "x = Array{Int32}(1:1_000_000);\n",
    "va = Int32(500_000);\n",
    "@btime find_val_in_array(x, va)"
   ]
  },
  {
   "cell_type": "code",
   "execution_count": 75,
   "metadata": {
    "ExecuteTime": {
     "end_time": "2022-08-30T18:48:40.368000+02:00",
     "start_time": "2022-08-30T16:48:32.288Z"
    }
   },
   "outputs": [
    {
     "data": {
      "text/plain": [
       "find_val_in_array_simd (generic function with 1 method)"
      ]
     },
     "execution_count": 75,
     "metadata": {},
     "output_type": "execute_result"
    }
   ],
   "source": [
    "\n",
    "function find_val_in_array_simd(x, val)\n",
    "    n_simd = 32\n",
    "    last_pos_simd_chunk = length(x)-n_simd\n",
    "    @inbounds for i in 1:n_simd:last_pos_simd_chunk\n",
    "        vec_i = vload(Vec{n_simd, Int32}, x, i)\n",
    "        sum_equality = sum(vec_i == val)\n",
    "        if sum_equality >0\n",
    "            return true\n",
    "        end\n",
    "    end\n",
    "\n",
    "    @inbounds for i in last_pos_simd_chunk:length(x)\n",
    "        if x[i] == val\n",
    "            return true\n",
    "        end\n",
    "    end\n",
    "\n",
    "    return false\n",
    "end"
   ]
  },
  {
   "cell_type": "code",
   "execution_count": 76,
   "metadata": {
    "ExecuteTime": {
     "end_time": "2022-08-30T18:48:46.950000+02:00",
     "start_time": "2022-08-30T16:48:33.412Z"
    }
   },
   "outputs": [
    {
     "name": "stdout",
     "output_type": "stream",
     "text": [
      "  30.508 μs (0 allocations: 0 bytes)\n"
     ]
    },
    {
     "data": {
      "text/plain": [
       "true"
      ]
     },
     "execution_count": 76,
     "metadata": {},
     "output_type": "execute_result"
    }
   ],
   "source": [
    "x = Array{Int32}(1:1_000_000);\n",
    "va = Int32(500_000);\n",
    "@btime find_val_in_array_simd(x, va)"
   ]
  },
  {
   "cell_type": "markdown",
   "metadata": {
    "ExecuteTime": {
     "end_time": "2022-02-20T21:21:54.850000+01:00",
     "start_time": "2022-02-20T20:21:54.846Z"
    }
   },
   "source": [
    "Note that we implemented this function hardcoding the elementtype `Int32` as well as the vector length `n_simd`.\n",
    "\n",
    "We can avoid this."
   ]
  },
  {
   "cell_type": "code",
   "execution_count": 79,
   "metadata": {
    "ExecuteTime": {
     "end_time": "2022-08-30T18:51:51.372000+02:00",
     "start_time": "2022-08-30T16:51:51.363Z"
    }
   },
   "outputs": [
    {
     "data": {
      "text/plain": [
       "find_val_in_array_simd (generic function with 2 methods)"
      ]
     },
     "execution_count": 79,
     "metadata": {},
     "output_type": "execute_result"
    }
   ],
   "source": [
    "\n",
    "function find_val_in_array_simd(x::Array{T}, val::T) where {T}\n",
    "    n_simd = 64\n",
    "    last_pos_simd_chunk = length(x)-n_simd\n",
    "    @inbounds for i in 1:n_simd:last_pos_simd_chunk\n",
    "        vec_i = vload(Vec{n_simd, T}, x, i)\n",
    "        sum_equality = sum(vec_i == val)\n",
    "        if sum_equality > 0\n",
    "            return true\n",
    "        end\n",
    "    end\n",
    "\n",
    "    @inbounds for i in last_pos_simd_chunk:length(x)\n",
    "        if x[i] == val\n",
    "            return true\n",
    "        end\n",
    "    end\n",
    "\n",
    "    return false\n",
    "end"
   ]
  },
  {
   "cell_type": "code",
   "execution_count": 80,
   "metadata": {
    "ExecuteTime": {
     "end_time": "2022-08-30T18:51:58.274000+02:00",
     "start_time": "2022-08-30T16:51:52.064Z"
    }
   },
   "outputs": [
    {
     "name": "stdout",
     "output_type": "stream",
     "text": [
      "  30.447 μs (0 allocations: 0 bytes)\n"
     ]
    },
    {
     "data": {
      "text/plain": [
       "true"
      ]
     },
     "execution_count": 80,
     "metadata": {},
     "output_type": "execute_result"
    }
   ],
   "source": [
    "x = Array{Int32}(1:1_000_001);\n",
    "va = Int32(500_000);\n",
    "@btime  find_val_in_array_simd(x, va)"
   ]
  },
  {
   "cell_type": "markdown",
   "metadata": {
    "ExecuteTime": {
     "end_time": "2022-08-30T18:52:00.150000+02:00",
     "start_time": "2022-08-30T16:52:00.146Z"
    }
   },
   "source": [
    "## Exercise: Algorithm to sum over indices in an array"
   ]
  },
  {
   "cell_type": "code",
   "execution_count": 352,
   "metadata": {
    "ExecuteTime": {
     "end_time": "2022-09-02T14:47:29.975000+02:00",
     "start_time": "2022-09-02T12:47:27.843Z"
    }
   },
   "outputs": [
    {
     "data": {
      "text/plain": [
       "lsh (generic function with 1 method)"
      ]
     },
     "execution_count": 352,
     "metadata": {},
     "output_type": "execute_result"
    }
   ],
   "source": [
    "using BenchmarkTools\n",
    "using LoopVectorization\n",
    "\n",
    "n_clusters = 32\n",
    "n_examples = 1_000_000\n",
    "n_features = 128\n",
    "\n",
    "T = Float32.(rand(n_clusters, n_features));                   # ADC table\n",
    "PQ = UInt8.(rand(1:n_clusters, n_features, n_examples))    # PQcodes\n",
    "y = Float32.(rand(n_features));\n",
    "\n",
    "function lsh(PQ, T)\n",
    "    \n",
    "    n_features, n_examples = size(PQ)\n",
    "    d = zeros(eltype(T), n_examples)\n",
    "    \n",
    "    @turbo for n in 1:n_examples\n",
    "        res = zero(eltype(T))\n",
    "        for j in 1:n_features\n",
    "            res += T[PQ[j,n],j]    \n",
    "        end\n",
    "        d[n] = res\n",
    "    end\n",
    "    return d\n",
    "end\n"
   ]
  },
  {
   "cell_type": "code",
   "execution_count": 353,
   "metadata": {
    "ExecuteTime": {
     "end_time": "2022-09-02T14:47:43.663000+02:00",
     "start_time": "2022-09-02T12:47:29.081Z"
    }
   },
   "outputs": [
    {
     "data": {
      "text/plain": [
       "BenchmarkTools.Trial: 132 samples with 1 evaluation.\n",
       " Range \u001b[90m(\u001b[39m\u001b[36m\u001b[1mmin\u001b[22m\u001b[39m … \u001b[35mmax\u001b[39m\u001b[90m):  \u001b[39m\u001b[36m\u001b[1m32.239 ms\u001b[22m\u001b[39m … \u001b[35m40.976 ms\u001b[39m  \u001b[90m┊\u001b[39m GC \u001b[90m(\u001b[39mmin … max\u001b[90m): \u001b[39m0.00% … 0.00%\n",
       " Time  \u001b[90m(\u001b[39m\u001b[34m\u001b[1mmedian\u001b[22m\u001b[39m\u001b[90m):     \u001b[39m\u001b[34m\u001b[1m38.705 ms              \u001b[22m\u001b[39m\u001b[90m┊\u001b[39m GC \u001b[90m(\u001b[39mmedian\u001b[90m):    \u001b[39m0.00%\n",
       " Time  \u001b[90m(\u001b[39m\u001b[32m\u001b[1mmean\u001b[22m\u001b[39m ± \u001b[32mσ\u001b[39m\u001b[90m):   \u001b[39m\u001b[32m\u001b[1m38.102 ms\u001b[22m\u001b[39m ± \u001b[32m 1.890 ms\u001b[39m  \u001b[90m┊\u001b[39m GC \u001b[90m(\u001b[39mmean ± σ\u001b[90m):  \u001b[39m0.00% ± 0.00%\n",
       "\n",
       "  \u001b[39m \u001b[39m \u001b[39m \u001b[39m \u001b[39m \u001b[39m \u001b[39m \u001b[39m \u001b[39m \u001b[39m \u001b[39m \u001b[39m \u001b[39m \u001b[39m \u001b[39m \u001b[39m \u001b[39m \u001b[39m \u001b[39m \u001b[39m \u001b[39m \u001b[39m \u001b[39m \u001b[39m \u001b[39m \u001b[39m \u001b[39m▃\u001b[39m \u001b[39m \u001b[39m \u001b[39m \u001b[39m \u001b[39m \u001b[39m▄\u001b[39m \u001b[39m \u001b[39m \u001b[39m▁\u001b[39m \u001b[39m \u001b[39m \u001b[39m \u001b[32m \u001b[39m\u001b[39m \u001b[39m▁\u001b[39m \u001b[34m█\u001b[39m\u001b[39m▁\u001b[39m \u001b[39m▆\u001b[39m▄\u001b[39m▃\u001b[39m▃\u001b[39m█\u001b[39m▃\u001b[39m \u001b[39m▃\u001b[39m▃\u001b[39m \u001b[39m \u001b[39m \n",
       "  \u001b[39m▄\u001b[39m▁\u001b[39m▁\u001b[39m▁\u001b[39m▄\u001b[39m▁\u001b[39m▁\u001b[39m▁\u001b[39m▁\u001b[39m▁\u001b[39m▆\u001b[39m▄\u001b[39m▄\u001b[39m▄\u001b[39m▁\u001b[39m▄\u001b[39m▄\u001b[39m▄\u001b[39m▄\u001b[39m▁\u001b[39m▁\u001b[39m▁\u001b[39m▆\u001b[39m▇\u001b[39m▁\u001b[39m▆\u001b[39m█\u001b[39m▆\u001b[39m▄\u001b[39m▄\u001b[39m▁\u001b[39m▇\u001b[39m▇\u001b[39m█\u001b[39m▁\u001b[39m▆\u001b[39m▄\u001b[39m█\u001b[39m▇\u001b[39m▄\u001b[39m▆\u001b[39m▄\u001b[32m▇\u001b[39m\u001b[39m▇\u001b[39m█\u001b[39m▇\u001b[34m█\u001b[39m\u001b[39m█\u001b[39m▇\u001b[39m█\u001b[39m█\u001b[39m█\u001b[39m█\u001b[39m█\u001b[39m█\u001b[39m▇\u001b[39m█\u001b[39m█\u001b[39m▄\u001b[39m \u001b[39m▄\n",
       "  32.2 ms\u001b[90m         Histogram: frequency by time\u001b[39m        40.6 ms \u001b[0m\u001b[1m<\u001b[22m\n",
       "\n",
       " Memory estimate\u001b[90m: \u001b[39m\u001b[33m3.81 MiB\u001b[39m, allocs estimate\u001b[90m: \u001b[39m\u001b[33m2\u001b[39m."
      ]
     },
     "execution_count": 353,
     "metadata": {},
     "output_type": "execute_result"
    }
   ],
   "source": [
    "@benchmark lsh($PQ, $T)"
   ]
  },
  {
   "cell_type": "code",
   "execution_count": 73,
   "metadata": {
    "ExecuteTime": {
     "end_time": "2022-09-01T22:39:23.715000+02:00",
     "start_time": "2022-09-01T20:39:22.656Z"
    }
   },
   "outputs": [
    {
     "data": {
      "text/plain": [
       "BenchmarkTools.Trial: 10000 samples with 1000 evaluations.\n",
       " Range \u001b[90m(\u001b[39m\u001b[36m\u001b[1mmin\u001b[22m\u001b[39m … \u001b[35mmax\u001b[39m\u001b[90m):  \u001b[39m\u001b[36m\u001b[1m3.678 ns\u001b[22m\u001b[39m … \u001b[35m18.731 ns\u001b[39m  \u001b[90m┊\u001b[39m GC \u001b[90m(\u001b[39mmin … max\u001b[90m): \u001b[39m0.00% … 0.00%\n",
       " Time  \u001b[90m(\u001b[39m\u001b[34m\u001b[1mmedian\u001b[22m\u001b[39m\u001b[90m):     \u001b[39m\u001b[34m\u001b[1m3.696 ns              \u001b[22m\u001b[39m\u001b[90m┊\u001b[39m GC \u001b[90m(\u001b[39mmedian\u001b[90m):    \u001b[39m0.00%\n",
       " Time  \u001b[90m(\u001b[39m\u001b[32m\u001b[1mmean\u001b[22m\u001b[39m ± \u001b[32mσ\u001b[39m\u001b[90m):   \u001b[39m\u001b[32m\u001b[1m3.718 ns\u001b[22m\u001b[39m ± \u001b[32m 0.219 ns\u001b[39m  \u001b[90m┊\u001b[39m GC \u001b[90m(\u001b[39mmean ± σ\u001b[90m):  \u001b[39m0.00% ± 0.00%\n",
       "\n",
       "  \u001b[39m█\u001b[34m▇\u001b[39m\u001b[32m▃\u001b[39m\u001b[39m▂\u001b[39m \u001b[39m \u001b[39m \u001b[39m \u001b[39m \u001b[39m \u001b[39m \u001b[39m \u001b[39m \u001b[39m \u001b[39m \u001b[39m \u001b[39m \u001b[39m \u001b[39m \u001b[39m \u001b[39m \u001b[39m \u001b[39m \u001b[39m \u001b[39m \u001b[39m \u001b[39m \u001b[39m \u001b[39m \u001b[39m \u001b[39m \u001b[39m \u001b[39m \u001b[39m \u001b[39m \u001b[39m \u001b[39m \u001b[39m \u001b[39m \u001b[39m \u001b[39m \u001b[39m \u001b[39m \u001b[39m \u001b[39m \u001b[39m \u001b[39m \u001b[39m \u001b[39m \u001b[39m \u001b[39m \u001b[39m \u001b[39m \u001b[39m \u001b[39m \u001b[39m \u001b[39m \u001b[39m \u001b[39m \u001b[39m▁\n",
       "  \u001b[39m█\u001b[34m█\u001b[39m\u001b[32m█\u001b[39m\u001b[39m█\u001b[39m█\u001b[39m█\u001b[39m▆\u001b[39m▆\u001b[39m▆\u001b[39m▇\u001b[39m▅\u001b[39m▅\u001b[39m▅\u001b[39m▃\u001b[39m▃\u001b[39m▁\u001b[39m▁\u001b[39m▃\u001b[39m▄\u001b[39m▃\u001b[39m▁\u001b[39m▃\u001b[39m▁\u001b[39m▁\u001b[39m▁\u001b[39m▁\u001b[39m▁\u001b[39m▁\u001b[39m▁\u001b[39m▁\u001b[39m▁\u001b[39m▁\u001b[39m▁\u001b[39m▁\u001b[39m▁\u001b[39m▁\u001b[39m▁\u001b[39m▁\u001b[39m▁\u001b[39m▁\u001b[39m▁\u001b[39m▁\u001b[39m▁\u001b[39m▁\u001b[39m▁\u001b[39m▄\u001b[39m▁\u001b[39m▁\u001b[39m▁\u001b[39m▁\u001b[39m▁\u001b[39m▁\u001b[39m▁\u001b[39m▁\u001b[39m▁\u001b[39m▁\u001b[39m▁\u001b[39m█\u001b[39m \u001b[39m█\n",
       "  3.68 ns\u001b[90m      \u001b[39m\u001b[90mHistogram: \u001b[39m\u001b[90m\u001b[1mlog(\u001b[22m\u001b[39m\u001b[90mfrequency\u001b[39m\u001b[90m\u001b[1m)\u001b[22m\u001b[39m\u001b[90m by time\u001b[39m     4.87 ns \u001b[0m\u001b[1m<\u001b[22m\n",
       "\n",
       " Memory estimate\u001b[90m: \u001b[39m\u001b[33m0 bytes\u001b[39m, allocs estimate\u001b[90m: \u001b[39m\u001b[33m0\u001b[39m."
      ]
     },
     "execution_count": 73,
     "metadata": {},
     "output_type": "execute_result"
    }
   ],
   "source": [
    "idx = Vec((1, 3, 4, 7))\n",
    "@benchmark aux = $arr[$idx] "
   ]
  },
  {
   "cell_type": "code",
   "execution_count": 6,
   "metadata": {
    "ExecuteTime": {
     "end_time": "2022-09-02T09:48:34.497000+02:00",
     "start_time": "2022-09-02T07:48:33.524Z"
    }
   },
   "outputs": [
    {
     "data": {
      "text/plain": [
       "<4 x Float32>[0.7432008, 0.17963971, 0.0061912057, 0.50137603]"
      ]
     },
     "execution_count": 6,
     "metadata": {},
     "output_type": "execute_result"
    }
   ],
   "source": [
    "idx = Vec((1, 3, 4, 7))\n",
    "T[idx]"
   ]
  },
  {
   "cell_type": "code",
   "execution_count": 7,
   "metadata": {
    "ExecuteTime": {
     "end_time": "2022-09-02T09:48:39.199000+02:00",
     "start_time": "2022-09-02T07:48:37.845Z"
    }
   },
   "outputs": [],
   "source": [
    "PQt = Matrix(PQ');"
   ]
  },
  {
   "cell_type": "code",
   "execution_count": 74,
   "metadata": {
    "ExecuteTime": {
     "end_time": "2022-09-02T10:50:47.201000+02:00",
     "start_time": "2022-09-02T08:50:47.197Z"
    },
    "scrolled": true
   },
   "outputs": [
    {
     "data": {
      "text/plain": [
       "<10 x Int64>[1, 2, 3, 4, 5, 6, 7, 8, 9, 10]"
      ]
     },
     "execution_count": 74,
     "metadata": {},
     "output_type": "execute_result"
    }
   ],
   "source": [
    "idx = Vec(Tuple([i for i in 1:10]))"
   ]
  },
  {
   "cell_type": "code",
   "execution_count": 9,
   "metadata": {
    "ExecuteTime": {
     "end_time": "2022-09-02T09:48:40.471000+02:00",
     "start_time": "2022-09-02T07:48:40.019Z"
    }
   },
   "outputs": [
    {
     "data": {
      "text/plain": [
       "<10 x UInt8>[0x16, 0x03, 0x06, 0x04, 0x17, 0x20, 0x06, 0x15, 0x20, 0x0c]"
      ]
     },
     "execution_count": 9,
     "metadata": {},
     "output_type": "execute_result"
    }
   ],
   "source": [
    "PQt[idx]"
   ]
  },
  {
   "cell_type": "code",
   "execution_count": 94,
   "metadata": {
    "ExecuteTime": {
     "end_time": "2022-09-02T10:52:37.467000+02:00",
     "start_time": "2022-09-02T08:52:37.464Z"
    }
   },
   "outputs": [
    {
     "data": {
      "text/plain": [
       "<10 x UInt8>[0x16, 0x15, 0x16, 0x1b, 0x03, 0x06, 0x0e, 0x14, 0x18, 0x20]"
      ]
     },
     "execution_count": 94,
     "metadata": {},
     "output_type": "execute_result"
    }
   ],
   "source": [
    "PQ[idx]"
   ]
  },
  {
   "cell_type": "code",
   "execution_count": 33,
   "metadata": {
    "ExecuteTime": {
     "end_time": "2022-09-02T09:51:24.280000+02:00",
     "start_time": "2022-09-02T07:51:24.275Z"
    }
   },
   "outputs": [
    {
     "data": {
      "text/plain": [
       "5×5 Matrix{UInt8}:\n",
       " 0x16  0x03  0x06  0x04  0x17\n",
       " 0x15  0x10  0x19  0x0f  0x0e\n",
       " 0x16  0x01  0x1b  0x15  0x02\n",
       " 0x1b  0x0b  0x0d  0x0b  0x01\n",
       " 0x03  0x11  0x19  0x10  0x1f"
      ]
     },
     "execution_count": 33,
     "metadata": {},
     "output_type": "execute_result"
    }
   ],
   "source": [
    "PQ[1:5, 1:5]"
   ]
  },
  {
   "cell_type": "code",
   "execution_count": 34,
   "metadata": {
    "ExecuteTime": {
     "end_time": "2022-09-02T09:51:27.022000+02:00",
     "start_time": "2022-09-02T07:51:26.665Z"
    }
   },
   "outputs": [
    {
     "data": {
      "text/plain": [
       "(128, 1000000)"
      ]
     },
     "execution_count": 34,
     "metadata": {},
     "output_type": "execute_result"
    }
   ],
   "source": [
    "size(PQ)"
   ]
  },
  {
   "cell_type": "markdown",
   "metadata": {},
   "source": [
    "We can use values in `PQ` to index `T`, but to do this we need to load a `Vec` from values in `PQ`"
   ]
  },
  {
   "cell_type": "code",
   "execution_count": 49,
   "metadata": {
    "ExecuteTime": {
     "end_time": "2022-09-02T09:57:41.899000+02:00",
     "start_time": "2022-09-02T07:57:40.846Z"
    }
   },
   "outputs": [
    {
     "data": {
      "text/plain": [
       "Vector{UInt8}\u001b[90m (alias for \u001b[39m\u001b[90mArray{UInt8, 1}\u001b[39m\u001b[90m)\u001b[39m"
      ]
     },
     "execution_count": 49,
     "metadata": {},
     "output_type": "execute_result"
    }
   ],
   "source": [
    "PQ_cols = [Vector(col) for col in eachrow(PQ)];\n",
    "eltype(PQ_cols)"
   ]
  },
  {
   "cell_type": "code",
   "execution_count": 55,
   "metadata": {
    "ExecuteTime": {
     "end_time": "2022-09-02T10:44:03.616000+02:00",
     "start_time": "2022-09-02T08:44:03.572Z"
    }
   },
   "outputs": [
    {
     "data": {
      "text/plain": [
       "128"
      ]
     },
     "execution_count": 55,
     "metadata": {},
     "output_type": "execute_result"
    }
   ],
   "source": [
    "T_cols = [Vector(col) for col in eachcol(T)];\n",
    "length(T_cols)"
   ]
  },
  {
   "cell_type": "code",
   "execution_count": 186,
   "metadata": {
    "ExecuteTime": {
     "end_time": "2022-09-02T11:06:59.266000+02:00",
     "start_time": "2022-09-02T09:06:59.262Z"
    }
   },
   "outputs": [
    {
     "data": {
      "text/plain": [
       "<16 x UInt8>[0x16, 0x03, 0x06, 0x04, 0x17, 0x20, 0x06, 0x15, 0x20, 0x0c, 0x07, 0x04, 0x17, 0x08, 0x0d, 0x0b]"
      ]
     },
     "execution_count": 186,
     "metadata": {},
     "output_type": "execute_result"
    }
   ],
   "source": [
    "j = 1\n",
    "pq_j_idx_vec = vload(Vec{16,UInt8}, PQ_per_coord[j], 1)\n",
    "#pq_j_idx = PQ_per_coord[j][1:16];"
   ]
  },
  {
   "cell_type": "code",
   "execution_count": 187,
   "metadata": {
    "ExecuteTime": {
     "end_time": "2022-09-02T11:07:13.367000+02:00",
     "start_time": "2022-09-02T09:07:13.363Z"
    }
   },
   "outputs": [],
   "source": [
    "T_cols_j = T_cols[1];\n",
    "T_cols_j_vec = vload(Vec{32,Float32}, T_cols[1], 1);"
   ]
  },
  {
   "cell_type": "code",
   "execution_count": 188,
   "metadata": {
    "ExecuteTime": {
     "end_time": "2022-09-02T11:07:16.218000+02:00",
     "start_time": "2022-09-02T09:07:16.215Z"
    }
   },
   "outputs": [
    {
     "data": {
      "text/plain": [
       "<32 x Float32>[0.7432008, 0.58594626, 0.17963971, 0.0061912057, 0.845229, 0.0151418755, 0.50137603, 0.74285394, 0.16654709, 0.31553423, 0.75937486, 0.5785777, 0.7701414, 0.9977113, 0.35985947, 0.6442237, 0.24016194, 0.65202904, 0.22425988, 0.014705921, 0.38223788, 0.17157936, 0.4026203, 0.39046642, 0.8976286, 0.9663715, 0.4591865, 0.3941384, 0.61383337, 0.22689447, 0.9064843, 0.65431994]"
      ]
     },
     "execution_count": 188,
     "metadata": {},
     "output_type": "execute_result"
    }
   ],
   "source": [
    "T_cols_j_vec"
   ]
  },
  {
   "cell_type": "code",
   "execution_count": 183,
   "metadata": {
    "ExecuteTime": {
     "end_time": "2022-09-02T11:06:18.258000+02:00",
     "start_time": "2022-09-02T09:06:18.255Z"
    }
   },
   "outputs": [],
   "source": [
    "#@btime shufflevector(T_cols_j_vec, Val(Tuple(pq_j_idx_vec)))"
   ]
  },
  {
   "cell_type": "code",
   "execution_count": 191,
   "metadata": {
    "ExecuteTime": {
     "end_time": "2022-09-02T11:08:28.255000+02:00",
     "start_time": "2022-09-02T09:08:28.252Z"
    }
   },
   "outputs": [],
   "source": [
    "#@btime shufflevector(T_cols_j_vec, Val(Tuple(pq_j_idx)))"
   ]
  },
  {
   "cell_type": "code",
   "execution_count": 213,
   "metadata": {
    "ExecuteTime": {
     "end_time": "2022-09-02T11:11:31.157000+02:00",
     "start_time": "2022-09-02T09:11:31.147Z"
    }
   },
   "outputs": [
    {
     "data": {
      "text/plain": [
       "<16 x Float32>[0.17157936, 0.17963971, 0.0151418755, 0.0061912057, 0.4026203, 0.65431994, 0.0151418755, 0.38223788, 0.65431994, 0.5785777, 0.50137603, 0.0061912057, 0.4026203, 0.74285394, 0.7701414, 0.75937486]"
      ]
     },
     "execution_count": 213,
     "metadata": {},
     "output_type": "execute_result"
    }
   ],
   "source": [
    "# Why vgather only works with Int64 ??\n",
    "pq_j_idx_vec = vload(Vec{16,Int64}, Int64.(PQ_per_coord[j]), 1)\n",
    "vgather(T_cols_j, pq_j_idx_vec)"
   ]
  },
  {
   "cell_type": "code",
   "execution_count": 217,
   "metadata": {
    "ExecuteTime": {
     "end_time": "2022-09-02T11:12:12.013000+02:00",
     "start_time": "2022-09-02T09:12:10.292Z"
    }
   },
   "outputs": [
    {
     "name": "stdout",
     "output_type": "stream",
     "text": [
      "  28.057 ns (1 allocation: 80 bytes)\n"
     ]
    },
    {
     "data": {
      "text/plain": [
       "<16 x Float32>[0.17157936, 0.17963971, 0.0151418755, 0.0061912057, 0.4026203, 0.65431994, 0.0151418755, 0.38223788, 0.65431994, 0.5785777, 0.50137603, 0.0061912057, 0.4026203, 0.74285394, 0.7701414, 0.75937486]"
      ]
     },
     "execution_count": 217,
     "metadata": {},
     "output_type": "execute_result"
    }
   ],
   "source": [
    "@btime  vgather(T_cols_j, pq_j_idx_vec)"
   ]
  },
  {
   "cell_type": "code",
   "execution_count": null,
   "metadata": {},
   "outputs": [],
   "source": []
  },
  {
   "cell_type": "code",
   "execution_count": 219,
   "metadata": {
    "ExecuteTime": {
     "end_time": "2022-09-02T12:32:08.362000+02:00",
     "start_time": "2022-09-02T10:32:08.353Z"
    }
   },
   "outputs": [],
   "source": [
    "# Why vgather only works with Int64 ??\n",
    "# https://github.com/eschnett/SIMD.jl/issues/98\n",
    "#pq_j_idx_vec = vload(Vec{16,Int32}, Int32.(PQ_per_coord[j]), 1)\n",
    "#vgather(T_cols_j, pq_j_idx_vec)"
   ]
  },
  {
   "cell_type": "code",
   "execution_count": 221,
   "metadata": {
    "ExecuteTime": {
     "end_time": "2022-09-02T12:32:58.524000+02:00",
     "start_time": "2022-09-02T10:32:53.881Z"
    }
   },
   "outputs": [],
   "source": [
    "PQ_cols64 = [Vector(Int64.(col)) for col in eachcol(PQ)];"
   ]
  },
  {
   "cell_type": "code",
   "execution_count": 225,
   "metadata": {
    "ExecuteTime": {
     "end_time": "2022-09-02T12:33:49.872000+02:00",
     "start_time": "2022-09-02T10:33:49.868Z"
    }
   },
   "outputs": [
    {
     "data": {
      "text/plain": [
       "<16 x Float32>[0.17157936, 0.38223788, 0.17157936, 0.4591865, 0.17963971, 0.0151418755, 0.9977113, 0.014705921, 0.39046642, 0.65431994, 0.61383337, 0.9663715, 0.31553423, 0.61383337, 0.0061912057, 0.8976286]"
      ]
     },
     "execution_count": 225,
     "metadata": {},
     "output_type": "execute_result"
    }
   ],
   "source": [
    "j=1\n",
    "pq_j_idx_vec = vload(Vec{16,Int64}, PQ_cols64[j], 1)\n",
    "vgather(T_cols_j, pq_j_idx_vec)"
   ]
  },
  {
   "cell_type": "code",
   "execution_count": 346,
   "metadata": {
    "ExecuteTime": {
     "end_time": "2022-09-02T14:26:12.355000+02:00",
     "start_time": "2022-09-02T12:26:12.333Z"
    }
   },
   "outputs": [
    {
     "data": {
      "text/plain": [
       "process_N_pqcodes (generic function with 2 methods)"
      ]
     },
     "execution_count": 346,
     "metadata": {},
     "output_type": "execute_result"
    }
   ],
   "source": [
    "function process_N_pqcodes(j, PQ_cols64, T_cols)\n",
    "    acc = Vec{8, Float32}((0,0,0,0,0,0,0,0))\n",
    "    @inbounds for j in 1:128\n",
    "        pq_j_idx_vec = @inbounds vload(Vec{8,Int64}, PQ_cols64[j], 1)\n",
    "        acc += vgather(T_cols[j], pq_j_idx_vec)\n",
    "        #println(pq_j_idx_vec)\n",
    "    end\n",
    "    return acc\n",
    "end"
   ]
  },
  {
   "cell_type": "code",
   "execution_count": 348,
   "metadata": {
    "ExecuteTime": {
     "end_time": "2022-09-02T14:26:21.229000+02:00",
     "start_time": "2022-09-02T12:26:21.221Z"
    }
   },
   "outputs": [
    {
     "name": "stdout",
     "output_type": "stream",
     "text": [
      "<8 x Float32>[66.6573, 68.29665, 69.38001, 67.32883, 65.33147, 63.233086, 60.921135, 59.93974]\n",
      "Float32[66.21081, 60.81546, 67.543236, 59.01086, 64.59701, 64.47578, 66.44614, 67.383545]\n"
     ]
    }
   ],
   "source": [
    "PQ_16 = Int64.(PQ[:,1:8])\n",
    "\n",
    "println(process_N_pqcodes(1, PQ_cols64, T_cols) )\n",
    "println(lsh(PQ_16, T))"
   ]
  },
  {
   "cell_type": "code",
   "execution_count": 349,
   "metadata": {
    "ExecuteTime": {
     "end_time": "2022-09-02T14:26:21.948000+02:00",
     "start_time": "2022-09-02T12:26:21.942Z"
    }
   },
   "outputs": [
    {
     "data": {
      "text/plain": [
       "<4 x Int32>[1, 4, 2, 3]"
      ]
     },
     "execution_count": 349,
     "metadata": {},
     "output_type": "execute_result"
    }
   ],
   "source": [
    "a = Vec{4, Int32}((1,2,3,4))\n",
    "mask = (0,3,1,2)\n",
    "shufflevector(a, Val(mask))"
   ]
  },
  {
   "cell_type": "code",
   "execution_count": 340,
   "metadata": {
    "ExecuteTime": {
     "end_time": "2022-09-02T14:15:39.983000+02:00",
     "start_time": "2022-09-02T12:15:36.983Z"
    }
   },
   "outputs": [
    {
     "data": {
      "text/plain": [
       "BenchmarkTools.Trial: 10000 samples with 200 evaluations.\n",
       " Range \u001b[90m(\u001b[39m\u001b[36m\u001b[1mmin\u001b[22m\u001b[39m … \u001b[35mmax\u001b[39m\u001b[90m):  \u001b[39m\u001b[36m\u001b[1m397.385 ns\u001b[22m\u001b[39m … \u001b[35m 2.170 μs\u001b[39m  \u001b[90m┊\u001b[39m GC \u001b[90m(\u001b[39mmin … max\u001b[90m): \u001b[39m0.00% … 0.00%\n",
       " Time  \u001b[90m(\u001b[39m\u001b[34m\u001b[1mmedian\u001b[22m\u001b[39m\u001b[90m):     \u001b[39m\u001b[34m\u001b[1m406.373 ns              \u001b[22m\u001b[39m\u001b[90m┊\u001b[39m GC \u001b[90m(\u001b[39mmedian\u001b[90m):    \u001b[39m0.00%\n",
       " Time  \u001b[90m(\u001b[39m\u001b[32m\u001b[1mmean\u001b[22m\u001b[39m ± \u001b[32mσ\u001b[39m\u001b[90m):   \u001b[39m\u001b[32m\u001b[1m440.229 ns\u001b[22m\u001b[39m ± \u001b[32m79.869 ns\u001b[39m  \u001b[90m┊\u001b[39m GC \u001b[90m(\u001b[39mmean ± σ\u001b[90m):  \u001b[39m0.00% ± 0.00%\n",
       "\n",
       "  \u001b[39m█\u001b[34m▆\u001b[39m\u001b[39m▅\u001b[39m▄\u001b[39m▄\u001b[39m▃\u001b[39m▂\u001b[32m▂\u001b[39m\u001b[39m▂\u001b[39m▂\u001b[39m▁\u001b[39m▁\u001b[39m▁\u001b[39m▁\u001b[39m▁\u001b[39m▁\u001b[39m▁\u001b[39m▁\u001b[39m▁\u001b[39m▁\u001b[39m \u001b[39m▁\u001b[39m \u001b[39m \u001b[39m \u001b[39m \u001b[39m \u001b[39m \u001b[39m \u001b[39m \u001b[39m \u001b[39m \u001b[39m \u001b[39m \u001b[39m \u001b[39m \u001b[39m \u001b[39m \u001b[39m \u001b[39m \u001b[39m \u001b[39m \u001b[39m \u001b[39m \u001b[39m \u001b[39m \u001b[39m \u001b[39m \u001b[39m \u001b[39m \u001b[39m \u001b[39m \u001b[39m \u001b[39m \u001b[39m \u001b[39m \u001b[39m \u001b[39m \u001b[39m \u001b[39m \u001b[39m \u001b[39m▁\n",
       "  \u001b[39m█\u001b[34m█\u001b[39m\u001b[39m█\u001b[39m█\u001b[39m█\u001b[39m█\u001b[39m█\u001b[32m█\u001b[39m\u001b[39m█\u001b[39m█\u001b[39m█\u001b[39m█\u001b[39m█\u001b[39m█\u001b[39m█\u001b[39m█\u001b[39m█\u001b[39m█\u001b[39m█\u001b[39m█\u001b[39m█\u001b[39m█\u001b[39m█\u001b[39m█\u001b[39m█\u001b[39m█\u001b[39m█\u001b[39m█\u001b[39m█\u001b[39m█\u001b[39m▇\u001b[39m▇\u001b[39m█\u001b[39m▇\u001b[39m▇\u001b[39m▆\u001b[39m▇\u001b[39m▆\u001b[39m▇\u001b[39m▆\u001b[39m▇\u001b[39m▇\u001b[39m▆\u001b[39m▆\u001b[39m▆\u001b[39m▆\u001b[39m▆\u001b[39m▆\u001b[39m▅\u001b[39m▆\u001b[39m▅\u001b[39m▅\u001b[39m▆\u001b[39m▅\u001b[39m▄\u001b[39m▅\u001b[39m▅\u001b[39m▅\u001b[39m▃\u001b[39m▄\u001b[39m \u001b[39m█\n",
       "  397 ns\u001b[90m        \u001b[39m\u001b[90mHistogram: \u001b[39m\u001b[90m\u001b[1mlog(\u001b[22m\u001b[39m\u001b[90mfrequency\u001b[39m\u001b[90m\u001b[1m)\u001b[22m\u001b[39m\u001b[90m by time\u001b[39m       768 ns \u001b[0m\u001b[1m<\u001b[22m\n",
       "\n",
       " Memory estimate\u001b[90m: \u001b[39m\u001b[33m32 bytes\u001b[39m, allocs estimate\u001b[90m: \u001b[39m\u001b[33m1\u001b[39m."
      ]
     },
     "execution_count": 340,
     "metadata": {},
     "output_type": "execute_result"
    }
   ],
   "source": [
    "@benchmark process_N_pqcodes(1, PQ_cols64, T_cols)"
   ]
  },
  {
   "cell_type": "code",
   "execution_count": 337,
   "metadata": {
    "ExecuteTime": {
     "end_time": "2022-09-02T14:14:48.799000+02:00",
     "start_time": "2022-09-02T12:14:45.431Z"
    },
    "scrolled": true
   },
   "outputs": [
    {
     "data": {
      "text/plain": [
       "BenchmarkTools.Trial: 10000 samples with 482 evaluations.\n",
       " Range \u001b[90m(\u001b[39m\u001b[36m\u001b[1mmin\u001b[22m\u001b[39m … \u001b[35mmax\u001b[39m\u001b[90m):  \u001b[39m\u001b[36m\u001b[1m225.683 ns\u001b[22m\u001b[39m … \u001b[35m 1.976 μs\u001b[39m  \u001b[90m┊\u001b[39m GC \u001b[90m(\u001b[39mmin … max\u001b[90m): \u001b[39m0.00% … 0.00%\n",
       " Time  \u001b[90m(\u001b[39m\u001b[34m\u001b[1mmedian\u001b[22m\u001b[39m\u001b[90m):     \u001b[39m\u001b[34m\u001b[1m283.249 ns              \u001b[22m\u001b[39m\u001b[90m┊\u001b[39m GC \u001b[90m(\u001b[39mmedian\u001b[90m):    \u001b[39m0.00%\n",
       " Time  \u001b[90m(\u001b[39m\u001b[32m\u001b[1mmean\u001b[22m\u001b[39m ± \u001b[32mσ\u001b[39m\u001b[90m):   \u001b[39m\u001b[32m\u001b[1m301.109 ns\u001b[22m\u001b[39m ± \u001b[32m87.334 ns\u001b[39m  \u001b[90m┊\u001b[39m GC \u001b[90m(\u001b[39mmean ± σ\u001b[90m):  \u001b[39m0.00% ± 0.00%\n",
       "\n",
       "  \u001b[39m▆\u001b[39m█\u001b[39m▅\u001b[39m▃\u001b[39m▂\u001b[39m▁\u001b[39m▁\u001b[39m▁\u001b[39m▂\u001b[39m▃\u001b[34m▃\u001b[39m\u001b[39m▂\u001b[39m▁\u001b[32m▁\u001b[39m\u001b[39m▃\u001b[39m▄\u001b[39m▄\u001b[39m▄\u001b[39m▄\u001b[39m▄\u001b[39m▃\u001b[39m▃\u001b[39m▂\u001b[39m▂\u001b[39m▂\u001b[39m▂\u001b[39m▂\u001b[39m▂\u001b[39m▁\u001b[39m▁\u001b[39m▁\u001b[39m▁\u001b[39m▁\u001b[39m▁\u001b[39m▁\u001b[39m \u001b[39m▁\u001b[39m \u001b[39m \u001b[39m \u001b[39m \u001b[39m \u001b[39m \u001b[39m \u001b[39m \u001b[39m \u001b[39m \u001b[39m \u001b[39m \u001b[39m \u001b[39m \u001b[39m \u001b[39m \u001b[39m \u001b[39m \u001b[39m \u001b[39m \u001b[39m \u001b[39m \u001b[39m \u001b[39m \u001b[39m▂\n",
       "  \u001b[39m█\u001b[39m█\u001b[39m█\u001b[39m█\u001b[39m█\u001b[39m█\u001b[39m█\u001b[39m█\u001b[39m█\u001b[39m█\u001b[34m█\u001b[39m\u001b[39m█\u001b[39m█\u001b[32m█\u001b[39m\u001b[39m█\u001b[39m█\u001b[39m█\u001b[39m█\u001b[39m█\u001b[39m█\u001b[39m█\u001b[39m█\u001b[39m█\u001b[39m█\u001b[39m█\u001b[39m█\u001b[39m█\u001b[39m█\u001b[39m█\u001b[39m█\u001b[39m█\u001b[39m█\u001b[39m█\u001b[39m█\u001b[39m█\u001b[39m█\u001b[39m█\u001b[39m█\u001b[39m█\u001b[39m█\u001b[39m█\u001b[39m█\u001b[39m█\u001b[39m█\u001b[39m▇\u001b[39m▇\u001b[39m▇\u001b[39m█\u001b[39m▆\u001b[39m▆\u001b[39m▆\u001b[39m▆\u001b[39m▅\u001b[39m▆\u001b[39m▅\u001b[39m▆\u001b[39m▆\u001b[39m▆\u001b[39m▆\u001b[39m▆\u001b[39m \u001b[39m█\n",
       "  226 ns\u001b[90m        \u001b[39m\u001b[90mHistogram: \u001b[39m\u001b[90m\u001b[1mlog(\u001b[22m\u001b[39m\u001b[90mfrequency\u001b[39m\u001b[90m\u001b[1m)\u001b[22m\u001b[39m\u001b[90m by time\u001b[39m       574 ns \u001b[0m\u001b[1m<\u001b[22m\n",
       "\n",
       " Memory estimate\u001b[90m: \u001b[39m\u001b[33m80 bytes\u001b[39m, allocs estimate\u001b[90m: \u001b[39m\u001b[33m1\u001b[39m."
      ]
     },
     "execution_count": 337,
     "metadata": {},
     "output_type": "execute_result"
    }
   ],
   "source": [
    "@benchmark lsh(PQ_16, T)"
   ]
  },
  {
   "cell_type": "markdown",
   "metadata": {},
   "source": [
    "We can use `shuffle` instead of `mvgather`"
   ]
  },
  {
   "cell_type": "code",
   "execution_count": null,
   "metadata": {},
   "outputs": [],
   "source": []
  },
  {
   "cell_type": "markdown",
   "metadata": {
    "ExecuteTime": {
     "end_time": "2022-09-02T14:04:17.489000+02:00",
     "start_time": "2022-09-02T12:04:17.484Z"
    }
   },
   "source": [
    "Acessing with `T_col[j][pq_j_idx_vec]` is really slow"
   ]
  },
  {
   "cell_type": "code",
   "execution_count": 321,
   "metadata": {
    "ExecuteTime": {
     "end_time": "2022-09-02T14:04:02.226000+02:00",
     "start_time": "2022-09-02T12:04:02.126Z"
    }
   },
   "outputs": [
    {
     "data": {
      "text/plain": [
       "process_N_pqcodes_v2 (generic function with 1 method)"
      ]
     },
     "execution_count": 321,
     "metadata": {},
     "output_type": "execute_result"
    }
   ],
   "source": [
    "function process_N_pqcodes_v2(j, PQ_cols64, T_cols)\n",
    "    acc = Vec{16, Float32}((0,0,0,0,0,0,0,0,0,0,0,0,0,0,0,0))\n",
    "    @fastmath for j in 1:128\n",
    "        pq_j_idx_vec = vload(Vec{16,Int64}, PQ_cols64[j], 1)\n",
    "        acc += T_col[j][pq_j_idx_vec]\n",
    "        #println(pq_j_idx_vec)\n",
    "    end\n",
    "    return acc\n",
    "end"
   ]
  },
  {
   "cell_type": "code",
   "execution_count": 322,
   "metadata": {
    "ExecuteTime": {
     "end_time": "2022-09-02T14:04:10.901000+02:00",
     "start_time": "2022-09-02T12:04:03.101Z"
    }
   },
   "outputs": [
    {
     "data": {
      "text/plain": [
       "BenchmarkTools.Trial: 10000 samples with 4 evaluations.\n",
       " Range \u001b[90m(\u001b[39m\u001b[36m\u001b[1mmin\u001b[22m\u001b[39m … \u001b[35mmax\u001b[39m\u001b[90m):  \u001b[39m\u001b[36m\u001b[1m 7.058 μs\u001b[22m\u001b[39m … \u001b[35m 49.442 ms\u001b[39m  \u001b[90m┊\u001b[39m GC \u001b[90m(\u001b[39mmin … max\u001b[90m): \u001b[39m 0.00% … 99.94%\n",
       " Time  \u001b[90m(\u001b[39m\u001b[34m\u001b[1mmedian\u001b[22m\u001b[39m\u001b[90m):     \u001b[39m\u001b[34m\u001b[1m 9.838 μs               \u001b[22m\u001b[39m\u001b[90m┊\u001b[39m GC \u001b[90m(\u001b[39mmedian\u001b[90m):    \u001b[39m 0.00%\n",
       " Time  \u001b[90m(\u001b[39m\u001b[32m\u001b[1mmean\u001b[22m\u001b[39m ± \u001b[32mσ\u001b[39m\u001b[90m):   \u001b[39m\u001b[32m\u001b[1m15.892 μs\u001b[22m\u001b[39m ± \u001b[32m494.320 μs\u001b[39m  \u001b[90m┊\u001b[39m GC \u001b[90m(\u001b[39mmean ± σ\u001b[90m):  \u001b[39m31.09% ±  1.00%\n",
       "\n",
       "  \u001b[39m▁\u001b[39m▃\u001b[39m▂\u001b[39m \u001b[39m▃\u001b[39m▄\u001b[39m▂\u001b[39m▁\u001b[39m▇\u001b[34m█\u001b[39m\u001b[39m▅\u001b[39m▃\u001b[39m▂\u001b[39m▁\u001b[39m▁\u001b[39m \u001b[39m \u001b[39m \u001b[39m \u001b[39m \u001b[39m \u001b[39m \u001b[39m \u001b[39m \u001b[39m \u001b[39m \u001b[39m \u001b[39m \u001b[39m \u001b[32m \u001b[39m\u001b[39m▁\u001b[39m▂\u001b[39m▁\u001b[39m \u001b[39m▂\u001b[39m▂\u001b[39m▁\u001b[39m \u001b[39m \u001b[39m \u001b[39m \u001b[39m \u001b[39m \u001b[39m \u001b[39m \u001b[39m \u001b[39m \u001b[39m \u001b[39m \u001b[39m \u001b[39m \u001b[39m \u001b[39m \u001b[39m \u001b[39m \u001b[39m \u001b[39m \u001b[39m \u001b[39m \u001b[39m \u001b[39m \u001b[39m▁\n",
       "  \u001b[39m█\u001b[39m█\u001b[39m█\u001b[39m▇\u001b[39m█\u001b[39m█\u001b[39m█\u001b[39m█\u001b[39m█\u001b[34m█\u001b[39m\u001b[39m█\u001b[39m█\u001b[39m█\u001b[39m█\u001b[39m█\u001b[39m█\u001b[39m█\u001b[39m▇\u001b[39m█\u001b[39m▇\u001b[39m▇\u001b[39m█\u001b[39m▇\u001b[39m▇\u001b[39m█\u001b[39m█\u001b[39m█\u001b[39m█\u001b[39m█\u001b[32m▇\u001b[39m\u001b[39m█\u001b[39m█\u001b[39m█\u001b[39m█\u001b[39m█\u001b[39m█\u001b[39m█\u001b[39m█\u001b[39m▇\u001b[39m▇\u001b[39m▇\u001b[39m▇\u001b[39m▆\u001b[39m▅\u001b[39m▆\u001b[39m▆\u001b[39m▆\u001b[39m▅\u001b[39m▇\u001b[39m▅\u001b[39m▅\u001b[39m▅\u001b[39m▆\u001b[39m▅\u001b[39m▄\u001b[39m▅\u001b[39m▅\u001b[39m▆\u001b[39m▅\u001b[39m▅\u001b[39m \u001b[39m█\n",
       "  7.06 μs\u001b[90m       \u001b[39m\u001b[90mHistogram: \u001b[39m\u001b[90m\u001b[1mlog(\u001b[22m\u001b[39m\u001b[90mfrequency\u001b[39m\u001b[90m\u001b[1m)\u001b[22m\u001b[39m\u001b[90m by time\u001b[39m        25 μs \u001b[0m\u001b[1m<\u001b[22m\n",
       "\n",
       " Memory estimate\u001b[90m: \u001b[39m\u001b[33m38.00 KiB\u001b[39m, allocs estimate\u001b[90m: \u001b[39m\u001b[33m384\u001b[39m."
      ]
     },
     "execution_count": 322,
     "metadata": {},
     "output_type": "execute_result"
    }
   ],
   "source": [
    "@benchmark process_N_pqcodes_shuff(1, PQ_cols64, T_cols)"
   ]
  },
  {
   "cell_type": "code",
   "execution_count": null,
   "metadata": {},
   "outputs": [],
   "source": []
  },
  {
   "cell_type": "code",
   "execution_count": null,
   "metadata": {},
   "outputs": [],
   "source": []
  },
  {
   "cell_type": "code",
   "execution_count": null,
   "metadata": {},
   "outputs": [],
   "source": []
  },
  {
   "cell_type": "code",
   "execution_count": null,
   "metadata": {},
   "outputs": [],
   "source": []
  },
  {
   "cell_type": "code",
   "execution_count": null,
   "metadata": {},
   "outputs": [],
   "source": []
  },
  {
   "cell_type": "code",
   "execution_count": null,
   "metadata": {},
   "outputs": [],
   "source": [
    "function lsh_vec(PQ_cols::Vector, T_cols::Vector, n_batch = 1024)\n",
    "    \n",
    "    n_features = legnth(PQ_cols)\n",
    "    n_examples = length(PQ_cols[1])\n",
    "    n_batch = zeros(eltype(T), n_examples)\n",
    "    \n",
    "    for j in 1:n_features\n",
    "        \n",
    "        res = zero(n_bach, eltype(T))\n",
    "            res += T[PQ[j,n],j]    \n",
    "        end\n",
    "        d[n] = res\n",
    "    end\n",
    "    return d\n",
    "end"
   ]
  },
  {
   "cell_type": "code",
   "execution_count": null,
   "metadata": {},
   "outputs": [],
   "source": []
  },
  {
   "cell_type": "code",
   "execution_count": null,
   "metadata": {},
   "outputs": [],
   "source": []
  },
  {
   "cell_type": "code",
   "execution_count": 133,
   "metadata": {
    "ExecuteTime": {
     "end_time": "2022-09-01T23:09:23.866000+02:00",
     "start_time": "2022-09-01T21:09:23.739Z"
    }
   },
   "outputs": [
    {
     "ename": "LoadError",
     "evalue": "MethodError: no method matching iterate(::Vec{10, UInt8})\n\u001b[0mClosest candidates are:\n\u001b[0m  iterate(\u001b[91m::Union{LinRange, StepRangeLen}\u001b[39m) at range.jl:872\n\u001b[0m  iterate(\u001b[91m::Union{LinRange, StepRangeLen}\u001b[39m, \u001b[91m::Integer\u001b[39m) at range.jl:872\n\u001b[0m  iterate(\u001b[91m::T\u001b[39m) where T<:Union{Base.KeySet{<:Any, <:Dict}, Base.ValueIterator{<:Dict}} at dict.jl:712\n\u001b[0m  ...",
     "output_type": "error",
     "traceback": [
      "MethodError: no method matching iterate(::Vec{10, UInt8})\n\u001b[0mClosest candidates are:\n\u001b[0m  iterate(\u001b[91m::Union{LinRange, StepRangeLen}\u001b[39m) at range.jl:872\n\u001b[0m  iterate(\u001b[91m::Union{LinRange, StepRangeLen}\u001b[39m, \u001b[91m::Integer\u001b[39m) at range.jl:872\n\u001b[0m  iterate(\u001b[91m::T\u001b[39m) where T<:Union{Base.KeySet{<:Any, <:Dict}, Base.ValueIterator{<:Dict}} at dict.jl:712\n\u001b[0m  ...",
      "",
      "Stacktrace:",
      " [1] copyto!(dest::Vector{UInt8}, src::Vec{10, UInt8})",
      "   @ Base ./abstractarray.jl:901",
      " [2] _collect(cont::UnitRange{Int64}, itr::Vec{10, UInt8}, #unused#::Base.HasEltype, isz::Base.HasLength)",
      "   @ Base ./array.jl:718",
      " [3] collect(itr::Vec{10, UInt8})",
      "   @ Base ./array.jl:712",
      " [4] broadcastable(x::Vec{10, UInt8})",
      "   @ Base.Broadcast ./broadcast.jl:704",
      " [5] broadcasted(::Type, ::Vec{10, UInt8})",
      "   @ Base.Broadcast ./broadcast.jl:1296",
      " [6] top-level scope",
      "   @ In[133]:1",
      " [7] eval",
      "   @ ./boot.jl:368 [inlined]",
      " [8] include_string(mapexpr::typeof(REPL.softscope), mod::Module, code::String, filename::String)",
      "   @ Base ./loading.jl:1428"
     ]
    }
   ],
   "source": [
    "Int.(PQt[idx])"
   ]
  },
  {
   "cell_type": "code",
   "execution_count": null,
   "metadata": {},
   "outputs": [],
   "source": []
  },
  {
   "cell_type": "code",
   "execution_count": null,
   "metadata": {},
   "outputs": [],
   "source": []
  },
  {
   "cell_type": "code",
   "execution_count": null,
   "metadata": {},
   "outputs": [],
   "source": []
  },
  {
   "cell_type": "code",
   "execution_count": 318,
   "metadata": {
    "ExecuteTime": {
     "end_time": "2022-09-01T00:04:51.019000+02:00",
     "start_time": "2022-08-31T22:04:51.015Z"
    }
   },
   "outputs": [
    {
     "data": {
      "text/plain": [
       "<128 x UInt8>[0x01, 0x14, 0x0e, 0x09, 0x11, 0x1c, 0x09, 0x17, 0x02, 0x0f, 0x0e, 0x19, 0x17, 0x07, 0x1c, 0x04, 0x08, 0x03, 0x19, 0x04, 0x04, 0x06, 0x18, 0x01, 0x10, 0x16, 0x0b, 0x0a, 0x0f, 0x17, 0x19, 0x1a, 0x04, 0x0a, 0x0a, 0x0f, 0x1a, 0x0b, 0x07, 0x03, 0x1d, 0x01, 0x08, 0x14, 0x1c, 0x14, 0x02, 0x18, 0x0c, 0x18, 0x12, 0x18, 0x12, 0x13, 0x0b, 0x02, 0x0c, 0x01, 0x13, 0x0d, 0x14, 0x03, 0x15, 0x06, 0x04, 0x1e, 0x0f, 0x03, 0x05, 0x1e, 0x07, 0x1a, 0x02, 0x1f, 0x1e, 0x09, 0x13, 0x06, 0x01, 0x0f, 0x13, 0x10, 0x0f, 0x17, 0x1e, 0x13, 0x13, 0x1f, 0x20, 0x11, 0x11, 0x0b, 0x0c, 0x20, 0x12, 0x10, 0x13, 0x15, 0x1c, 0x07, 0x0b, 0x07, 0x11, 0x05, 0x12, 0x16, 0x11, 0x17, 0x0a, 0x12, 0x02, 0x20, 0x06, 0x1f, 0x1f, 0x0b, 0x11, 0x09, 0x09, 0x0b, 0x1b, 0x0d, 0x0b, 0x08, 0x09, 0x11, 0x08, 0x05]"
      ]
     },
     "execution_count": 318,
     "metadata": {},
     "output_type": "execute_result"
    }
   ],
   "source": [
    "v = PQ[:,1]\n",
    "pq_1 = PQ[:,1]\n",
    "pq_1_vec = vload(Vec{128,UInt8}, v, 1)"
   ]
  },
  {
   "cell_type": "code",
   "execution_count": 328,
   "metadata": {
    "ExecuteTime": {
     "end_time": "2022-09-01T00:17:01.714000+02:00",
     "start_time": "2022-08-31T22:17:01.710Z"
    }
   },
   "outputs": [
    {
     "data": {
      "text/plain": [
       "<8 x Float32>[0.5049787, 0.5049787, 0.5049787, 0.5049787, 0.5049787, 0.5049787, 0.5049787, 0.673387]"
      ]
     },
     "execution_count": 328,
     "metadata": {},
     "output_type": "execute_result"
    }
   ],
   "source": [
    "T_v = Vec((1.,2.,3.,4.,5.,6.,7.,8.))\n",
    "pq_idx = Vec(Int.((3, 3, 3, 3, 3, 3, 3, 2)))\n",
    "x_idx = vgather(x, idx)"
   ]
  },
  {
   "cell_type": "code",
   "execution_count": 371,
   "metadata": {
    "ExecuteTime": {
     "end_time": "2022-09-01T00:23:46.616000+02:00",
     "start_time": "2022-08-31T22:23:46.613Z"
    }
   },
   "outputs": [],
   "source": [
    "T_v = vload(Vec{32,Float32}, T[:,1], 1)\n",
    "pq_idx = vload(Vec{128,UInt8}, PQ[:,1], 1);\n",
    "pq_decoded = vgather(T_1, Vec(Int.(PQ[:,1])...));"
   ]
  },
  {
   "cell_type": "code",
   "execution_count": 370,
   "metadata": {
    "ExecuteTime": {
     "end_time": "2022-09-01T00:23:33.346000+02:00",
     "start_time": "2022-08-31T22:23:31.775Z"
    }
   },
   "outputs": [
    {
     "data": {
      "text/plain": [
       "BenchmarkTools.Trial: 10000 samples with 995 evaluations.\n",
       " Range \u001b[90m(\u001b[39m\u001b[36m\u001b[1mmin\u001b[22m\u001b[39m … \u001b[35mmax\u001b[39m\u001b[90m):  \u001b[39m\u001b[36m\u001b[1m27.642 ns\u001b[22m\u001b[39m … \u001b[35m206.458 ns\u001b[39m  \u001b[90m┊\u001b[39m GC \u001b[90m(\u001b[39mmin … max\u001b[90m): \u001b[39m0.00% … 0.00%\n",
       " Time  \u001b[90m(\u001b[39m\u001b[34m\u001b[1mmedian\u001b[22m\u001b[39m\u001b[90m):     \u001b[39m\u001b[34m\u001b[1m29.426 ns               \u001b[22m\u001b[39m\u001b[90m┊\u001b[39m GC \u001b[90m(\u001b[39mmedian\u001b[90m):    \u001b[39m0.00%\n",
       " Time  \u001b[90m(\u001b[39m\u001b[32m\u001b[1mmean\u001b[22m\u001b[39m ± \u001b[32mσ\u001b[39m\u001b[90m):   \u001b[39m\u001b[32m\u001b[1m32.122 ns\u001b[22m\u001b[39m ± \u001b[32m  8.975 ns\u001b[39m  \u001b[90m┊\u001b[39m GC \u001b[90m(\u001b[39mmean ± σ\u001b[90m):  \u001b[39m0.00% ± 0.00%\n",
       "\n",
       "  \u001b[39m▂\u001b[39m▄\u001b[34m█\u001b[39m\u001b[39m▄\u001b[39m▂\u001b[39m▁\u001b[32m▁\u001b[39m\u001b[39m▁\u001b[39m \u001b[39m \u001b[39m \u001b[39m \u001b[39m \u001b[39m \u001b[39m \u001b[39m \u001b[39m \u001b[39m \u001b[39m \u001b[39m \u001b[39m \u001b[39m \u001b[39m \u001b[39m \u001b[39m \u001b[39m \u001b[39m \u001b[39m \u001b[39m \u001b[39m \u001b[39m \u001b[39m \u001b[39m \u001b[39m \u001b[39m \u001b[39m \u001b[39m \u001b[39m \u001b[39m \u001b[39m \u001b[39m \u001b[39m \u001b[39m \u001b[39m \u001b[39m \u001b[39m \u001b[39m \u001b[39m \u001b[39m \u001b[39m \u001b[39m \u001b[39m \u001b[39m \u001b[39m \u001b[39m \u001b[39m \u001b[39m \u001b[39m \u001b[39m \u001b[39m \u001b[39m \u001b[39m▁\n",
       "  \u001b[39m█\u001b[39m█\u001b[34m█\u001b[39m\u001b[39m█\u001b[39m█\u001b[39m█\u001b[32m█\u001b[39m\u001b[39m█\u001b[39m█\u001b[39m█\u001b[39m█\u001b[39m▇\u001b[39m▇\u001b[39m▇\u001b[39m▇\u001b[39m▇\u001b[39m▇\u001b[39m▆\u001b[39m▇\u001b[39m▇\u001b[39m▇\u001b[39m▇\u001b[39m▇\u001b[39m▇\u001b[39m▇\u001b[39m▇\u001b[39m▆\u001b[39m▇\u001b[39m▇\u001b[39m▇\u001b[39m▇\u001b[39m█\u001b[39m█\u001b[39m█\u001b[39m█\u001b[39m▇\u001b[39m█\u001b[39m█\u001b[39m▇\u001b[39m█\u001b[39m█\u001b[39m█\u001b[39m▇\u001b[39m▇\u001b[39m▆\u001b[39m▆\u001b[39m▅\u001b[39m▄\u001b[39m▄\u001b[39m▅\u001b[39m▄\u001b[39m▅\u001b[39m▅\u001b[39m▅\u001b[39m▅\u001b[39m▁\u001b[39m▃\u001b[39m▅\u001b[39m▄\u001b[39m▅\u001b[39m \u001b[39m█\n",
       "  27.6 ns\u001b[90m       \u001b[39m\u001b[90mHistogram: \u001b[39m\u001b[90m\u001b[1mlog(\u001b[22m\u001b[39m\u001b[90mfrequency\u001b[39m\u001b[90m\u001b[1m)\u001b[22m\u001b[39m\u001b[90m by time\u001b[39m      72.1 ns \u001b[0m\u001b[1m<\u001b[22m\n",
       "\n",
       " Memory estimate\u001b[90m: \u001b[39m\u001b[33m16 bytes\u001b[39m, allocs estimate\u001b[90m: \u001b[39m\u001b[33m1\u001b[39m."
      ]
     },
     "execution_count": 370,
     "metadata": {},
     "output_type": "execute_result"
    }
   ],
   "source": [
    "@benchmark sum(pq_decoded)"
   ]
  },
  {
   "cell_type": "code",
   "execution_count": 377,
   "metadata": {
    "ExecuteTime": {
     "end_time": "2022-09-01T00:42:54.802000+02:00",
     "start_time": "2022-08-31T22:42:54.756Z"
    },
    "scrolled": true
   },
   "outputs": [
    {
     "ename": "LoadError",
     "evalue": "MethodError: no method matching round(::Vector{Float32})\n\u001b[0mClosest candidates are:\n\u001b[0m  round(\u001b[91m::Union{Float16, Float32, Float64}\u001b[39m, \u001b[91m::RoundingMode{:ToZero}\u001b[39m) at float.jl:367\n\u001b[0m  round(\u001b[91m::Union{Float16, Float32, Float64}\u001b[39m, \u001b[91m::RoundingMode{:Down}\u001b[39m) at float.jl:368\n\u001b[0m  round(\u001b[91m::Union{Float16, Float32, Float64}\u001b[39m, \u001b[91m::RoundingMode{:Up}\u001b[39m) at float.jl:369\n\u001b[0m  ...",
     "output_type": "error",
     "traceback": [
      "MethodError: no method matching round(::Vector{Float32})\n\u001b[0mClosest candidates are:\n\u001b[0m  round(\u001b[91m::Union{Float16, Float32, Float64}\u001b[39m, \u001b[91m::RoundingMode{:ToZero}\u001b[39m) at float.jl:367\n\u001b[0m  round(\u001b[91m::Union{Float16, Float32, Float64}\u001b[39m, \u001b[91m::RoundingMode{:Down}\u001b[39m) at float.jl:368\n\u001b[0m  round(\u001b[91m::Union{Float16, Float32, Float64}\u001b[39m, \u001b[91m::RoundingMode{:Up}\u001b[39m) at float.jl:369\n\u001b[0m  ...",
      "",
      "Stacktrace:",
      " [1] top-level scope",
      "   @ In[377]:1",
      " [2] eval",
      "   @ ./boot.jl:368 [inlined]",
      " [3] include_string(mapexpr::typeof(REPL.softscope), mod::Module, code::String, filename::String)",
      "   @ Base ./loading.jl:1428"
     ]
    }
   ],
   "source": [
    "Int.(round(T[:,1]*1000))"
   ]
  },
  {
   "cell_type": "code",
   "execution_count": 256,
   "metadata": {
    "ExecuteTime": {
     "end_time": "2022-08-31T23:28:21.318000+02:00",
     "start_time": "2022-08-31T21:28:19.988Z"
    }
   },
   "outputs": [
    {
     "data": {
      "text/plain": [
       "BenchmarkTools.Trial: 10000 samples with 998 evaluations.\n",
       " Range \u001b[90m(\u001b[39m\u001b[36m\u001b[1mmin\u001b[22m\u001b[39m … \u001b[35mmax\u001b[39m\u001b[90m):  \u001b[39m\u001b[36m\u001b[1m12.668 ns\u001b[22m\u001b[39m … \u001b[35m135.888 ns\u001b[39m  \u001b[90m┊\u001b[39m GC \u001b[90m(\u001b[39mmin … max\u001b[90m): \u001b[39m0.00% … 0.00%\n",
       " Time  \u001b[90m(\u001b[39m\u001b[34m\u001b[1mmedian\u001b[22m\u001b[39m\u001b[90m):     \u001b[39m\u001b[34m\u001b[1m13.988 ns               \u001b[22m\u001b[39m\u001b[90m┊\u001b[39m GC \u001b[90m(\u001b[39mmedian\u001b[90m):    \u001b[39m0.00%\n",
       " Time  \u001b[90m(\u001b[39m\u001b[32m\u001b[1mmean\u001b[22m\u001b[39m ± \u001b[32mσ\u001b[39m\u001b[90m):   \u001b[39m\u001b[32m\u001b[1m14.474 ns\u001b[22m\u001b[39m ± \u001b[32m  4.001 ns\u001b[39m  \u001b[90m┊\u001b[39m GC \u001b[90m(\u001b[39mmean ± σ\u001b[90m):  \u001b[39m0.00% ± 0.00%\n",
       "\n",
       "  \u001b[39m▅\u001b[39m▂\u001b[39m \u001b[39m▁\u001b[39m█\u001b[34m▅\u001b[39m\u001b[32m▂\u001b[39m\u001b[39m \u001b[39m \u001b[39m \u001b[39m \u001b[39m \u001b[39m \u001b[39m \u001b[39m \u001b[39m \u001b[39m \u001b[39m \u001b[39m \u001b[39m \u001b[39m \u001b[39m \u001b[39m \u001b[39m \u001b[39m \u001b[39m \u001b[39m \u001b[39m \u001b[39m \u001b[39m \u001b[39m \u001b[39m \u001b[39m \u001b[39m \u001b[39m \u001b[39m \u001b[39m \u001b[39m \u001b[39m \u001b[39m \u001b[39m \u001b[39m \u001b[39m \u001b[39m \u001b[39m \u001b[39m \u001b[39m \u001b[39m \u001b[39m \u001b[39m \u001b[39m \u001b[39m \u001b[39m \u001b[39m \u001b[39m \u001b[39m \u001b[39m \u001b[39m \u001b[39m \u001b[39m \u001b[39m \u001b[39m▁\n",
       "  \u001b[39m█\u001b[39m█\u001b[39m▆\u001b[39m█\u001b[39m█\u001b[34m█\u001b[39m\u001b[32m█\u001b[39m\u001b[39m▇\u001b[39m▆\u001b[39m▇\u001b[39m▇\u001b[39m▇\u001b[39m▇\u001b[39m▆\u001b[39m▆\u001b[39m▅\u001b[39m▆\u001b[39m▆\u001b[39m▅\u001b[39m█\u001b[39m▆\u001b[39m▆\u001b[39m▅\u001b[39m▅\u001b[39m▅\u001b[39m▆\u001b[39m▄\u001b[39m▃\u001b[39m▅\u001b[39m▄\u001b[39m▄\u001b[39m▄\u001b[39m▅\u001b[39m▄\u001b[39m▅\u001b[39m▄\u001b[39m▄\u001b[39m▆\u001b[39m▅\u001b[39m▅\u001b[39m▄\u001b[39m▅\u001b[39m▅\u001b[39m▅\u001b[39m▄\u001b[39m▅\u001b[39m▅\u001b[39m▅\u001b[39m▄\u001b[39m▅\u001b[39m▅\u001b[39m▅\u001b[39m▁\u001b[39m▄\u001b[39m▄\u001b[39m▅\u001b[39m▅\u001b[39m▃\u001b[39m▄\u001b[39m▄\u001b[39m \u001b[39m█\n",
       "  12.7 ns\u001b[90m       \u001b[39m\u001b[90mHistogram: \u001b[39m\u001b[90m\u001b[1mlog(\u001b[22m\u001b[39m\u001b[90mfrequency\u001b[39m\u001b[90m\u001b[1m)\u001b[22m\u001b[39m\u001b[90m by time\u001b[39m      30.1 ns \u001b[0m\u001b[1m<\u001b[22m\n",
       "\n",
       " Memory estimate\u001b[90m: \u001b[39m\u001b[33m0 bytes\u001b[39m, allocs estimate\u001b[90m: \u001b[39m\u001b[33m0\u001b[39m."
      ]
     },
     "execution_count": 256,
     "metadata": {},
     "output_type": "execute_result"
    }
   ],
   "source": [
    "@benchmark sum(pq_1_vec)"
   ]
  },
  {
   "cell_type": "code",
   "execution_count": 257,
   "metadata": {
    "ExecuteTime": {
     "end_time": "2022-08-31T23:28:22.965000+02:00",
     "start_time": "2022-08-31T21:28:20.380Z"
    }
   },
   "outputs": [
    {
     "data": {
      "text/plain": [
       "BenchmarkTools.Trial: 10000 samples with 993 evaluations.\n",
       " Range \u001b[90m(\u001b[39m\u001b[36m\u001b[1mmin\u001b[22m\u001b[39m … \u001b[35mmax\u001b[39m\u001b[90m):  \u001b[39m\u001b[36m\u001b[1m33.901 ns\u001b[22m\u001b[39m … \u001b[35m246.870 ns\u001b[39m  \u001b[90m┊\u001b[39m GC \u001b[90m(\u001b[39mmin … max\u001b[90m): \u001b[39m0.00% … 0.00%\n",
       " Time  \u001b[90m(\u001b[39m\u001b[34m\u001b[1mmedian\u001b[22m\u001b[39m\u001b[90m):     \u001b[39m\u001b[34m\u001b[1m35.841 ns               \u001b[22m\u001b[39m\u001b[90m┊\u001b[39m GC \u001b[90m(\u001b[39mmedian\u001b[90m):    \u001b[39m0.00%\n",
       " Time  \u001b[90m(\u001b[39m\u001b[32m\u001b[1mmean\u001b[22m\u001b[39m ± \u001b[32mσ\u001b[39m\u001b[90m):   \u001b[39m\u001b[32m\u001b[1m41.170 ns\u001b[22m\u001b[39m ± \u001b[32m 12.795 ns\u001b[39m  \u001b[90m┊\u001b[39m GC \u001b[90m(\u001b[39mmean ± σ\u001b[90m):  \u001b[39m0.00% ± 0.00%\n",
       "\n",
       "  \u001b[39m▃\u001b[39m█\u001b[34m▆\u001b[39m\u001b[39m▅\u001b[39m▃\u001b[39m▁\u001b[39m▁\u001b[39m \u001b[32m \u001b[39m\u001b[39m \u001b[39m \u001b[39m \u001b[39m \u001b[39m \u001b[39m \u001b[39m \u001b[39m \u001b[39m \u001b[39m \u001b[39m \u001b[39m \u001b[39m \u001b[39m \u001b[39m \u001b[39m \u001b[39m▁\u001b[39m▁\u001b[39m▁\u001b[39m▁\u001b[39m▁\u001b[39m▁\u001b[39m▁\u001b[39m▁\u001b[39m \u001b[39m \u001b[39m \u001b[39m \u001b[39m \u001b[39m \u001b[39m \u001b[39m \u001b[39m \u001b[39m \u001b[39m \u001b[39m \u001b[39m \u001b[39m \u001b[39m \u001b[39m \u001b[39m \u001b[39m \u001b[39m \u001b[39m \u001b[39m \u001b[39m \u001b[39m \u001b[39m \u001b[39m \u001b[39m \u001b[39m \u001b[39m \u001b[39m▁\n",
       "  \u001b[39m█\u001b[39m█\u001b[34m█\u001b[39m\u001b[39m█\u001b[39m█\u001b[39m█\u001b[39m█\u001b[39m█\u001b[32m█\u001b[39m\u001b[39m█\u001b[39m▇\u001b[39m█\u001b[39m▇\u001b[39m▇\u001b[39m▇\u001b[39m▇\u001b[39m▇\u001b[39m▇\u001b[39m█\u001b[39m█\u001b[39m█\u001b[39m▇\u001b[39m█\u001b[39m█\u001b[39m█\u001b[39m█\u001b[39m█\u001b[39m█\u001b[39m█\u001b[39m█\u001b[39m█\u001b[39m█\u001b[39m█\u001b[39m█\u001b[39m▇\u001b[39m▇\u001b[39m▆\u001b[39m▆\u001b[39m▅\u001b[39m▅\u001b[39m▅\u001b[39m▅\u001b[39m▄\u001b[39m▅\u001b[39m▄\u001b[39m▄\u001b[39m▅\u001b[39m▅\u001b[39m▆\u001b[39m▄\u001b[39m▅\u001b[39m▃\u001b[39m▅\u001b[39m▆\u001b[39m▆\u001b[39m▅\u001b[39m▆\u001b[39m▅\u001b[39m▆\u001b[39m▆\u001b[39m \u001b[39m█\n",
       "  33.9 ns\u001b[90m       \u001b[39m\u001b[90mHistogram: \u001b[39m\u001b[90m\u001b[1mlog(\u001b[22m\u001b[39m\u001b[90mfrequency\u001b[39m\u001b[90m\u001b[1m)\u001b[22m\u001b[39m\u001b[90m by time\u001b[39m      91.8 ns \u001b[0m\u001b[1m<\u001b[22m\n",
       "\n",
       " Memory estimate\u001b[90m: \u001b[39m\u001b[33m16 bytes\u001b[39m, allocs estimate\u001b[90m: \u001b[39m\u001b[33m1\u001b[39m."
      ]
     },
     "execution_count": 257,
     "metadata": {},
     "output_type": "execute_result"
    }
   ],
   "source": [
    "@benchmark sum(pq_1)"
   ]
  },
  {
   "cell_type": "markdown",
   "metadata": {},
   "source": [
    "We could"
   ]
  },
  {
   "cell_type": "code",
   "execution_count": 267,
   "metadata": {
    "ExecuteTime": {
     "end_time": "2022-08-31T23:36:45.813000+02:00",
     "start_time": "2022-08-31T21:36:45.810Z"
    },
    "scrolled": true
   },
   "outputs": [
    {
     "data": {
      "text/plain": [
       "<32 x Float32>[0.95423836, 0.673387, 0.5049787, 0.48568603, 0.3124652, 0.65885574, 0.5401918, 0.623749, 0.40774092, 0.94546694, 0.47636735, 0.89755404, 0.5313211, 0.04663205, 0.61256987, 0.4160553, 0.9608643, 0.1554406, 0.9803495, 0.9772245, 0.35994515, 0.22976878, 0.5784012, 0.12941517, 0.33469325, 0.92864996, 0.6486976, 0.41019225, 0.90692693, 0.8520791, 0.87212634, 0.012455661]"
      ]
     },
     "execution_count": 267,
     "metadata": {},
     "output_type": "execute_result"
    }
   ],
   "source": [
    "table_vec = vload(Vec{32,Float32}, T[:,1], 1)"
   ]
  },
  {
   "cell_type": "code",
   "execution_count": 279,
   "metadata": {
    "ExecuteTime": {
     "end_time": "2022-08-31T23:39:10.111000+02:00",
     "start_time": "2022-08-31T21:39:10.108Z"
    }
   },
   "outputs": [],
   "source": [
    "#vload(Vec{32,Float32}, T[:,1], 1)\n",
    "#pq_1_vec"
   ]
  },
  {
   "cell_type": "code",
   "execution_count": 283,
   "metadata": {
    "ExecuteTime": {
     "end_time": "2022-08-31T23:45:10.982000+02:00",
     "start_time": "2022-08-31T21:45:10.978Z"
    }
   },
   "outputs": [
    {
     "data": {
      "text/plain": [
       "<32 x Float32>[0.95423836, 0.673387, 0.5049787, 0.48568603, 0.3124652, 0.65885574, 0.5401918, 0.623749, 0.40774092, 0.94546694, 0.47636735, 0.89755404, 0.5313211, 0.04663205, 0.61256987, 0.4160553, 0.9608643, 0.1554406, 0.9803495, 0.9772245, 0.35994515, 0.22976878, 0.5784012, 0.12941517, 0.33469325, 0.92864996, 0.6486976, 0.41019225, 0.90692693, 0.8520791, 0.87212634, 0.012455661]"
      ]
     },
     "execution_count": 283,
     "metadata": {},
     "output_type": "execute_result"
    }
   ],
   "source": [
    "#T[:,1]\n",
    "vload(Vec{32,Float32}, T[:,1], 1)"
   ]
  },
  {
   "cell_type": "code",
   "execution_count": 284,
   "metadata": {
    "ExecuteTime": {
     "end_time": "2022-08-31T23:47:04.186000+02:00",
     "start_time": "2022-08-31T21:47:04.183Z"
    }
   },
   "outputs": [],
   "source": [
    "#vload(Vec{32,Float32}, T[:,1], 1)"
   ]
  },
  {
   "cell_type": "code",
   "execution_count": 314,
   "metadata": {
    "ExecuteTime": {
     "end_time": "2022-09-01T00:02:13.663000+02:00",
     "start_time": "2022-08-31T22:02:13.660Z"
    }
   },
   "outputs": [],
   "source": [
    "idx = PQ[:,1];"
   ]
  },
  {
   "cell_type": "code",
   "execution_count": null,
   "metadata": {},
   "outputs": [],
   "source": []
  },
  {
   "cell_type": "code",
   "execution_count": 302,
   "metadata": {
    "ExecuteTime": {
     "end_time": "2022-08-31T23:49:59.400000+02:00",
     "start_time": "2022-08-31T21:49:59.397Z"
    }
   },
   "outputs": [
    {
     "data": {
      "text/plain": [
       "32"
      ]
     },
     "execution_count": 302,
     "metadata": {},
     "output_type": "execute_result"
    }
   ],
   "source": [
    "Int(maximum(idx))"
   ]
  },
  {
   "cell_type": "code",
   "execution_count": 310,
   "metadata": {
    "ExecuteTime": {
     "end_time": "2022-08-31T23:55:36.373000+02:00",
     "start_time": "2022-08-31T21:55:36.370Z"
    }
   },
   "outputs": [],
   "source": [
    "#vgather(T[:,1], idx)"
   ]
  },
  {
   "cell_type": "code",
   "execution_count": 313,
   "metadata": {
    "ExecuteTime": {
     "end_time": "2022-08-31T23:55:54.841000+02:00",
     "start_time": "2022-08-31T21:55:54.838Z"
    }
   },
   "outputs": [],
   "source": [
    "# T[:,1]"
   ]
  },
  {
   "cell_type": "code",
   "execution_count": null,
   "metadata": {},
   "outputs": [],
   "source": []
  },
  {
   "cell_type": "code",
   "execution_count": null,
   "metadata": {
    "ExecuteTime": {
     "end_time": "2022-08-31T23:55:26.808000+02:00",
     "start_time": "2022-08-31T21:55:26.804Z"
    }
   },
   "outputs": [],
   "source": []
  },
  {
   "cell_type": "code",
   "execution_count": null,
   "metadata": {
    "ExecuteTime": {
     "end_time": "2022-08-31T23:48:26.894000+02:00",
     "start_time": "2022-08-31T21:48:26.888Z"
    }
   },
   "outputs": [],
   "source": []
  },
  {
   "cell_type": "code",
   "execution_count": null,
   "metadata": {},
   "outputs": [],
   "source": []
  },
  {
   "cell_type": "code",
   "execution_count": null,
   "metadata": {},
   "outputs": [],
   "source": []
  },
  {
   "cell_type": "code",
   "execution_count": 176,
   "metadata": {
    "ExecuteTime": {
     "end_time": "2022-08-31T22:34:02.223000+02:00",
     "start_time": "2022-08-31T20:34:02.220Z"
    }
   },
   "outputs": [],
   "source": [
    "x = T[:,1] ;"
   ]
  },
  {
   "cell_type": "code",
   "execution_count": 214,
   "metadata": {
    "ExecuteTime": {
     "end_time": "2022-08-31T23:01:23.478000+02:00",
     "start_time": "2022-08-31T21:01:23.474Z"
    }
   },
   "outputs": [
    {
     "data": {
      "text/plain": [
       "<8 x Float32>[0.5049787, 0.5049787, 0.5049787, 0.5049787, 0.5049787, 0.5049787, 0.5049787, 0.673387]"
      ]
     },
     "execution_count": 214,
     "metadata": {},
     "output_type": "execute_result"
    }
   ],
   "source": [
    "a1_v = Vec((1.,2.,3.,4.,5.,6.,7.,8.))\n",
    "idx = Vec(Int.((3, 3, 3, 3, 3, 3, 3, 2)))\n",
    "x_idx = vgather(x, idx)"
   ]
  },
  {
   "cell_type": "code",
   "execution_count": 211,
   "metadata": {
    "ExecuteTime": {
     "end_time": "2022-08-31T22:59:12.259000+02:00",
     "start_time": "2022-08-31T20:59:12.257Z"
    }
   },
   "outputs": [],
   "source": [
    "#vgather(x, idx)"
   ]
  },
  {
   "cell_type": "code",
   "execution_count": null,
   "metadata": {},
   "outputs": [],
   "source": []
  },
  {
   "cell_type": "code",
   "execution_count": 190,
   "metadata": {
    "ExecuteTime": {
     "end_time": "2022-08-31T22:37:51.873000+02:00",
     "start_time": "2022-08-31T20:37:51.870Z"
    }
   },
   "outputs": [
    {
     "data": {
      "text/plain": [
       "<32 x Float32>[0.95423836, 0.673387, 0.5049787, 0.48568603, 0.3124652, 0.65885574, 0.5401918, 0.623749, 0.40774092, 0.94546694, 0.47636735, 0.89755404, 0.5313211, 0.04663205, 0.61256987, 0.4160553, 0.9608643, 0.1554406, 0.9803495, 0.9772245, 0.35994515, 0.22976878, 0.5784012, 0.12941517, 0.33469325, 0.92864996, 0.6486976, 0.41019225, 0.90692693, 0.8520791, 0.87212634, 0.012455661]"
      ]
     },
     "execution_count": 190,
     "metadata": {},
     "output_type": "execute_result"
    }
   ],
   "source": [
    "table_vec = vload(Vec{32,Float32}, T[:,1], 1)"
   ]
  },
  {
   "cell_type": "code",
   "execution_count": 193,
   "metadata": {
    "ExecuteTime": {
     "end_time": "2022-08-31T22:38:33.374000+02:00",
     "start_time": "2022-08-31T20:38:33.371Z"
    }
   },
   "outputs": [
    {
     "data": {
      "text/plain": [
       "<8 x Int64>[3, 3, 3, 3, 3, 3, 3, 2]"
      ]
     },
     "execution_count": 193,
     "metadata": {},
     "output_type": "execute_result"
    }
   ],
   "source": [
    "dd"
   ]
  },
  {
   "cell_type": "code",
   "execution_count": null,
   "metadata": {},
   "outputs": [],
   "source": []
  },
  {
   "cell_type": "code",
   "execution_count": 147,
   "metadata": {
    "ExecuteTime": {
     "end_time": "2022-08-31T22:18:15.754000+02:00",
     "start_time": "2022-08-31T20:18:15.750Z"
    }
   },
   "outputs": [
    {
     "data": {
      "text/plain": [
       "<4 x Float64>[0.0, 0.0, 0.0, 0.0]"
      ]
     },
     "execution_count": 147,
     "metadata": {},
     "output_type": "execute_result"
    }
   ],
   "source": [
    "i = 1\n",
    "arr = Vector{Float64}(undef, 100)\n",
    "xs = vload(Vec{4,Float64}, arr, i)"
   ]
  },
  {
   "cell_type": "code",
   "execution_count": 146,
   "metadata": {
    "ExecuteTime": {
     "end_time": "2022-08-31T22:17:57.448000+02:00",
     "start_time": "2022-08-31T20:17:57.443Z"
    }
   },
   "outputs": [
    {
     "data": {
      "text/plain": [
       "<4 x Float64>[0.0, 0.0, 0.0, 0.0]"
      ]
     },
     "execution_count": 146,
     "metadata": {},
     "output_type": "execute_result"
    }
   ],
   "source": [
    "xs + xs"
   ]
  },
  {
   "cell_type": "code",
   "execution_count": null,
   "metadata": {},
   "outputs": [],
   "source": []
  },
  {
   "cell_type": "code",
   "execution_count": null,
   "metadata": {},
   "outputs": [],
   "source": []
  },
  {
   "cell_type": "code",
   "execution_count": null,
   "metadata": {},
   "outputs": [],
   "source": []
  }
 ],
 "metadata": {
  "kernelspec": {
   "display_name": "Julia 1.8.0",
   "language": "julia",
   "name": "julia-1.8"
  },
  "language_info": {
   "file_extension": ".jl",
   "mimetype": "application/julia",
   "name": "julia",
   "version": "1.8.0"
  },
  "toc": {
   "base_numbering": 1,
   "nav_menu": {},
   "number_sections": true,
   "sideBar": true,
   "skip_h1_title": false,
   "title_cell": "Table of Contents",
   "title_sidebar": "Contents",
   "toc_cell": true,
   "toc_position": {},
   "toc_section_display": true,
   "toc_window_display": false
  }
 },
 "nbformat": 4,
 "nbformat_minor": 2
}
