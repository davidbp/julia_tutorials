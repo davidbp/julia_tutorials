{
 "cells": [
  {
   "cell_type": "code",
   "execution_count": 4,
   "id": "9514e9b4",
   "metadata": {
    "ExecuteTime": {
     "end_time": "2022-05-29T16:11:45.038691Z",
     "start_time": "2022-05-29T16:11:45.034947Z"
    }
   },
   "outputs": [],
   "source": [
    "import juliacall"
   ]
  },
  {
   "cell_type": "code",
   "execution_count": 6,
   "id": "0d3a1307",
   "metadata": {
    "ExecuteTime": {
     "end_time": "2022-05-29T16:15:10.156935Z",
     "start_time": "2022-05-29T16:15:10.153867Z"
    }
   },
   "outputs": [],
   "source": [
    "from juliacall import Main as jl"
   ]
  },
  {
   "cell_type": "code",
   "execution_count": 23,
   "id": "c21f5fdc",
   "metadata": {
    "ExecuteTime": {
     "end_time": "2022-05-29T16:32:19.270922Z",
     "start_time": "2022-05-29T16:32:19.266757Z"
    }
   },
   "outputs": [],
   "source": [
    "import numpy as np\n",
    "x = np.array([1,2,3])"
   ]
  },
  {
   "cell_type": "code",
   "execution_count": 25,
   "id": "8e67a8b7",
   "metadata": {
    "ExecuteTime": {
     "end_time": "2022-05-29T16:32:31.388561Z",
     "start_time": "2022-05-29T16:32:31.383591Z"
    }
   },
   "outputs": [
    {
     "data": {
      "text/plain": [
       "6"
      ]
     },
     "execution_count": 25,
     "metadata": {},
     "output_type": "execute_result"
    }
   ],
   "source": [
    "jl.sum(x)"
   ]
  },
  {
   "cell_type": "code",
   "execution_count": 10,
   "id": "b88f815c",
   "metadata": {
    "ExecuteTime": {
     "end_time": "2022-05-29T16:16:16.461230Z",
     "start_time": "2022-05-29T16:16:09.981630Z"
    }
   },
   "outputs": [
    {
     "name": "stdout",
     "output_type": "stream",
     "text": [
      "79.4 µs ± 6.88 µs per loop (mean ± std. dev. of 7 runs, 10000 loops each)\n"
     ]
    }
   ],
   "source": [
    "%timeit jl.sum(x)"
   ]
  },
  {
   "cell_type": "code",
   "execution_count": 11,
   "id": "02cd4c03",
   "metadata": {
    "ExecuteTime": {
     "end_time": "2022-05-29T16:16:25.449800Z",
     "start_time": "2022-05-29T16:16:23.731716Z"
    }
   },
   "outputs": [
    {
     "name": "stdout",
     "output_type": "stream",
     "text": [
      "2.08 µs ± 60.9 ns per loop (mean ± std. dev. of 7 runs, 100000 loops each)\n"
     ]
    }
   ],
   "source": [
    "%timeit x.sum()"
   ]
  },
  {
   "cell_type": "code",
   "execution_count": 19,
   "id": "deef6ebb",
   "metadata": {
    "ExecuteTime": {
     "end_time": "2022-05-29T16:24:45.559613Z",
     "start_time": "2022-05-29T16:24:45.538772Z"
    }
   },
   "outputs": [],
   "source": [
    "x = np.random.rand(1_000_000)"
   ]
  },
  {
   "cell_type": "code",
   "execution_count": 20,
   "id": "ef927435",
   "metadata": {
    "ExecuteTime": {
     "end_time": "2022-05-29T16:25:03.057617Z",
     "start_time": "2022-05-29T16:24:49.585841Z"
    }
   },
   "outputs": [
    {
     "name": "stdout",
     "output_type": "stream",
     "text": [
      "1.63 ms ± 38.4 µs per loop (mean ± std. dev. of 7 runs, 1000 loops each)\n"
     ]
    }
   ],
   "source": [
    "%timeit jl.sum(x)"
   ]
  },
  {
   "cell_type": "code",
   "execution_count": 21,
   "id": "4d41f43c",
   "metadata": {
    "ExecuteTime": {
     "end_time": "2022-05-29T16:25:09.887646Z",
     "start_time": "2022-05-29T16:25:04.723889Z"
    }
   },
   "outputs": [
    {
     "name": "stdout",
     "output_type": "stream",
     "text": [
      "637 µs ± 8.89 µs per loop (mean ± std. dev. of 7 runs, 1000 loops each)\n"
     ]
    }
   ],
   "source": [
    "%timeit x.sum()"
   ]
  },
  {
   "cell_type": "markdown",
   "id": "91f96308",
   "metadata": {
    "ExecuteTime": {
     "end_time": "2022-05-29T16:31:27.333493Z",
     "start_time": "2022-05-29T16:31:27.082859Z"
    }
   },
   "source": [
    "#### import function defined in test.jl"
   ]
  },
  {
   "cell_type": "code",
   "execution_count": 30,
   "id": "c7bd9ea8",
   "metadata": {
    "ExecuteTime": {
     "end_time": "2022-05-29T16:46:28.547563Z",
     "start_time": "2022-05-29T16:46:28.468211Z"
    }
   },
   "outputs": [
    {
     "data": {
      "text/plain": [
       "Main.MyModule"
      ]
     },
     "execution_count": 30,
     "metadata": {},
     "output_type": "execute_result"
    }
   ],
   "source": [
    "jl.include('test.jl')"
   ]
  },
  {
   "cell_type": "code",
   "execution_count": 34,
   "id": "41de01ae",
   "metadata": {
    "ExecuteTime": {
     "end_time": "2022-05-29T16:46:47.804410Z",
     "start_time": "2022-05-29T16:46:47.762311Z"
    }
   },
   "outputs": [
    {
     "data": {
      "text/plain": [
       "5050.0"
      ]
     },
     "execution_count": 34,
     "metadata": {},
     "output_type": "execute_result"
    }
   ],
   "source": [
    "jl.MyModule.sum_up_to(100)"
   ]
  },
  {
   "cell_type": "code",
   "execution_count": 37,
   "id": "81e4bd6d",
   "metadata": {
    "ExecuteTime": {
     "end_time": "2022-05-29T16:46:59.520416Z",
     "start_time": "2022-05-29T16:46:59.375421Z"
    }
   },
   "outputs": [
    {
     "name": "stdout",
     "output_type": "stream",
     "text": [
      "module MyModule\r\n",
      "\r\n",
      "function sum_up_to(n)\r\n",
      "    aux = 0.\r\n",
      "    for i in 1:n\r\n",
      "        aux += i\r\n",
      "    end \r\n",
      "    return aux\r\n",
      "end\r\n",
      "\r\n",
      "end\r\n"
     ]
    }
   ],
   "source": [
    "!cat test.jl"
   ]
  },
  {
   "cell_type": "code",
   "execution_count": 38,
   "id": "5220e8e8",
   "metadata": {
    "ExecuteTime": {
     "end_time": "2022-05-29T16:47:44.739814Z",
     "start_time": "2022-05-29T16:47:40.000243Z"
    }
   },
   "outputs": [
    {
     "name": "stdout",
     "output_type": "stream",
     "text": [
      "5.6 µs ± 414 ns per loop (mean ± std. dev. of 7 runs, 100000 loops each)\n"
     ]
    }
   ],
   "source": [
    "%timeit jl.MyModule.sum_up_to(100)"
   ]
  },
  {
   "cell_type": "code",
   "execution_count": 42,
   "id": "e9f27723",
   "metadata": {
    "ExecuteTime": {
     "end_time": "2022-05-29T16:49:40.510629Z",
     "start_time": "2022-05-29T16:49:40.506839Z"
    }
   },
   "outputs": [],
   "source": [
    "def sum_up_to(n):\n",
    "    aux = 0.\n",
    "    for i in range(n):\n",
    "        aux += i\n",
    "    return aux"
   ]
  },
  {
   "cell_type": "code",
   "execution_count": 43,
   "id": "e20a30e2",
   "metadata": {
    "ExecuteTime": {
     "end_time": "2022-05-29T16:49:51.612595Z",
     "start_time": "2022-05-29T16:49:48.242738Z"
    }
   },
   "outputs": [
    {
     "name": "stdout",
     "output_type": "stream",
     "text": [
      "4.17 µs ± 250 ns per loop (mean ± std. dev. of 7 runs, 100000 loops each)\n"
     ]
    }
   ],
   "source": [
    "%timeit sum_up_to(100)"
   ]
  },
  {
   "cell_type": "code",
   "execution_count": null,
   "id": "da37a397",
   "metadata": {},
   "outputs": [],
   "source": []
  },
  {
   "cell_type": "code",
   "execution_count": null,
   "id": "6b7f291b",
   "metadata": {},
   "outputs": [],
   "source": []
  },
  {
   "cell_type": "code",
   "execution_count": null,
   "id": "6c27ec3c",
   "metadata": {},
   "outputs": [],
   "source": []
  },
  {
   "cell_type": "code",
   "execution_count": null,
   "id": "505b186b",
   "metadata": {},
   "outputs": [],
   "source": []
  },
  {
   "cell_type": "code",
   "execution_count": null,
   "id": "878ff14f",
   "metadata": {},
   "outputs": [],
   "source": []
  }
 ],
 "metadata": {
  "kernelspec": {
   "display_name": "Python 3 (ipykernel)",
   "language": "python",
   "name": "python3"
  },
  "language_info": {
   "codemirror_mode": {
    "name": "ipython",
    "version": 3
   },
   "file_extension": ".py",
   "mimetype": "text/x-python",
   "name": "python",
   "nbconvert_exporter": "python",
   "pygments_lexer": "ipython3",
   "version": "3.8.12"
  },
  "toc": {
   "base_numbering": 1,
   "nav_menu": {},
   "number_sections": true,
   "sideBar": true,
   "skip_h1_title": false,
   "title_cell": "Table of Contents",
   "title_sidebar": "Contents",
   "toc_cell": false,
   "toc_position": {},
   "toc_section_display": true,
   "toc_window_display": false
  }
 },
 "nbformat": 4,
 "nbformat_minor": 5
}
