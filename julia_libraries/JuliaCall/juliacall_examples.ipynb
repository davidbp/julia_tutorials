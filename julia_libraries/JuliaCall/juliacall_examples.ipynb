{
 "cells": [
  {
   "cell_type": "code",
   "execution_count": 4,
   "id": "f280a647",
   "metadata": {
    "ExecuteTime": {
     "end_time": "2022-05-29T16:11:45.038691Z",
     "start_time": "2022-05-29T16:11:45.034947Z"
    }
   },
   "outputs": [],
   "source": [
    "import juliacall"
   ]
  },
  {
   "cell_type": "code",
   "execution_count": 6,
   "id": "5794afaf",
   "metadata": {
    "ExecuteTime": {
     "end_time": "2022-05-29T16:15:10.156935Z",
     "start_time": "2022-05-29T16:15:10.153867Z"
    }
   },
   "outputs": [],
   "source": [
    "from juliacall import Main as jl"
   ]
  },
  {
   "cell_type": "code",
   "execution_count": 23,
   "id": "aca65567",
   "metadata": {
    "ExecuteTime": {
     "end_time": "2022-05-29T16:32:19.270922Z",
     "start_time": "2022-05-29T16:32:19.266757Z"
    }
   },
   "outputs": [],
   "source": [
    "import numpy as np\n",
    "x = np.array([1,2,3])"
   ]
  },
  {
   "cell_type": "code",
   "execution_count": 25,
   "id": "cddecadd",
   "metadata": {
    "ExecuteTime": {
     "end_time": "2022-05-29T16:32:31.388561Z",
     "start_time": "2022-05-29T16:32:31.383591Z"
    }
   },
   "outputs": [
    {
     "data": {
      "text/plain": [
       "6"
      ]
     },
     "execution_count": 25,
     "metadata": {},
     "output_type": "execute_result"
    }
   ],
   "source": [
    "jl.sum(x)"
   ]
  },
  {
   "cell_type": "code",
   "execution_count": 10,
   "id": "6f6f15d1",
   "metadata": {
    "ExecuteTime": {
     "end_time": "2022-05-29T16:16:16.461230Z",
     "start_time": "2022-05-29T16:16:09.981630Z"
    }
   },
   "outputs": [
    {
     "name": "stdout",
     "output_type": "stream",
     "text": [
      "79.4 µs ± 6.88 µs per loop (mean ± std. dev. of 7 runs, 10000 loops each)\n"
     ]
    }
   ],
   "source": [
    "%timeit jl.sum(x)"
   ]
  },
  {
   "cell_type": "code",
   "execution_count": 11,
   "id": "230aecb3",
   "metadata": {
    "ExecuteTime": {
     "end_time": "2022-05-29T16:16:25.449800Z",
     "start_time": "2022-05-29T16:16:23.731716Z"
    }
   },
   "outputs": [
    {
     "name": "stdout",
     "output_type": "stream",
     "text": [
      "2.08 µs ± 60.9 ns per loop (mean ± std. dev. of 7 runs, 100000 loops each)\n"
     ]
    }
   ],
   "source": [
    "%timeit x.sum()"
   ]
  },
  {
   "cell_type": "code",
   "execution_count": 19,
   "id": "fa58fb81",
   "metadata": {
    "ExecuteTime": {
     "end_time": "2022-05-29T16:24:45.559613Z",
     "start_time": "2022-05-29T16:24:45.538772Z"
    }
   },
   "outputs": [],
   "source": [
    "x = np.random.rand(1_000_000)"
   ]
  },
  {
   "cell_type": "code",
   "execution_count": 20,
   "id": "e1b7b57f",
   "metadata": {
    "ExecuteTime": {
     "end_time": "2022-05-29T16:25:03.057617Z",
     "start_time": "2022-05-29T16:24:49.585841Z"
    }
   },
   "outputs": [
    {
     "name": "stdout",
     "output_type": "stream",
     "text": [
      "1.63 ms ± 38.4 µs per loop (mean ± std. dev. of 7 runs, 1000 loops each)\n"
     ]
    }
   ],
   "source": [
    "%timeit jl.sum(x)"
   ]
  },
  {
   "cell_type": "code",
   "execution_count": 21,
   "id": "5818d44a",
   "metadata": {
    "ExecuteTime": {
     "end_time": "2022-05-29T16:25:09.887646Z",
     "start_time": "2022-05-29T16:25:04.723889Z"
    }
   },
   "outputs": [
    {
     "name": "stdout",
     "output_type": "stream",
     "text": [
      "637 µs ± 8.89 µs per loop (mean ± std. dev. of 7 runs, 1000 loops each)\n"
     ]
    }
   ],
   "source": [
    "%timeit x.sum()"
   ]
  },
  {
   "cell_type": "markdown",
   "id": "88cf040c",
   "metadata": {
    "ExecuteTime": {
     "end_time": "2022-05-29T16:31:27.333493Z",
     "start_time": "2022-05-29T16:31:27.082859Z"
    }
   },
   "source": [
    "#### import function defined in test.jl"
   ]
  },
  {
   "cell_type": "code",
   "execution_count": 30,
   "id": "6a205584",
   "metadata": {
    "ExecuteTime": {
     "end_time": "2022-05-29T16:46:28.547563Z",
     "start_time": "2022-05-29T16:46:28.468211Z"
    }
   },
   "outputs": [
    {
     "data": {
      "text/plain": [
       "Main.MyModule"
      ]
     },
     "execution_count": 30,
     "metadata": {},
     "output_type": "execute_result"
    }
   ],
   "source": [
    "jl.include('test.jl')"
   ]
  },
  {
   "cell_type": "code",
   "execution_count": 34,
   "id": "4556eac2",
   "metadata": {
    "ExecuteTime": {
     "end_time": "2022-05-29T16:46:47.804410Z",
     "start_time": "2022-05-29T16:46:47.762311Z"
    }
   },
   "outputs": [
    {
     "data": {
      "text/plain": [
       "5050.0"
      ]
     },
     "execution_count": 34,
     "metadata": {},
     "output_type": "execute_result"
    }
   ],
   "source": [
    "jl.MyModule.sum_up_to(100)"
   ]
  },
  {
   "cell_type": "code",
   "execution_count": 37,
   "id": "e34810ab",
   "metadata": {
    "ExecuteTime": {
     "end_time": "2022-05-29T16:46:59.520416Z",
     "start_time": "2022-05-29T16:46:59.375421Z"
    }
   },
   "outputs": [
    {
     "name": "stdout",
     "output_type": "stream",
     "text": [
      "module MyModule\r\n",
      "\r\n",
      "function sum_up_to(n)\r\n",
      "    aux = 0.\r\n",
      "    for i in 1:n\r\n",
      "        aux += i\r\n",
      "    end \r\n",
      "    return aux\r\n",
      "end\r\n",
      "\r\n",
      "end\r\n"
     ]
    }
   ],
   "source": [
    "!cat test.jl"
   ]
  },
  {
   "cell_type": "code",
   "execution_count": 45,
   "id": "8923a45b",
   "metadata": {
    "ExecuteTime": {
     "end_time": "2022-05-29T16:50:19.657442Z",
     "start_time": "2022-05-29T16:50:12.994747Z"
    }
   },
   "outputs": [
    {
     "name": "stdout",
     "output_type": "stream",
     "text": [
      "8.1 µs ± 406 ns per loop (mean ± std. dev. of 7 runs, 100000 loops each)\n"
     ]
    }
   ],
   "source": [
    "%timeit jl.MyModule.sum_up_to(1000)"
   ]
  },
  {
   "cell_type": "code",
   "execution_count": 60,
   "id": "8c91b493",
   "metadata": {
    "ExecuteTime": {
     "end_time": "2022-05-29T16:52:02.989077Z",
     "start_time": "2022-05-29T16:52:02.985951Z"
    }
   },
   "outputs": [],
   "source": [
    "def sum_up_to(n):\n",
    "    aux = 0.\n",
    "    for i in range(1,n+1):\n",
    "        aux += i\n",
    "    return aux"
   ]
  },
  {
   "cell_type": "code",
   "execution_count": null,
   "id": "24a4bbf1",
   "metadata": {
    "ExecuteTime": {
     "start_time": "2022-05-29T16:52:03.788Z"
    }
   },
   "outputs": [],
   "source": [
    "%timeit sum_up_to(1000)"
   ]
  },
  {
   "cell_type": "code",
   "execution_count": null,
   "id": "71a6d28a",
   "metadata": {
    "ExecuteTime": {
     "start_time": "2022-05-29T16:52:03.992Z"
    }
   },
   "outputs": [],
   "source": [
    "sum_up_to(1000)"
   ]
  },
  {
   "cell_type": "code",
   "execution_count": null,
   "id": "1df1a313",
   "metadata": {
    "ExecuteTime": {
     "start_time": "2022-05-29T16:52:04.172Z"
    }
   },
   "outputs": [],
   "source": [
    "jl.MyModule.sum_up_to(1000)"
   ]
  },
  {
   "cell_type": "code",
   "execution_count": null,
   "id": "bc747ffb",
   "metadata": {},
   "outputs": [],
   "source": []
  },
  {
   "cell_type": "code",
   "execution_count": null,
   "id": "abd963f4",
   "metadata": {},
   "outputs": [],
   "source": []
  },
  {
   "cell_type": "code",
   "execution_count": null,
   "id": "96d9a649",
   "metadata": {},
   "outputs": [],
   "source": []
  }
 ],
 "metadata": {
  "kernelspec": {
   "display_name": "Python 3 (ipykernel)",
   "language": "python",
   "name": "python3"
  },
  "language_info": {
   "codemirror_mode": {
    "name": "ipython",
    "version": 3
   },
   "file_extension": ".py",
   "mimetype": "text/x-python",
   "name": "python",
   "nbconvert_exporter": "python",
   "pygments_lexer": "ipython3",
   "version": "3.8.12"
  },
  "toc": {
   "base_numbering": 1,
   "nav_menu": {},
   "number_sections": true,
   "sideBar": true,
   "skip_h1_title": false,
   "title_cell": "Table of Contents",
   "title_sidebar": "Contents",
   "toc_cell": false,
   "toc_position": {},
   "toc_section_display": true,
   "toc_window_display": false
  }
 },
 "nbformat": 4,
 "nbformat_minor": 5
}
