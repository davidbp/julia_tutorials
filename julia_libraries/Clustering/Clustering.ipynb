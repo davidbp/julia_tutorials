{
 "cells": [
  {
   "cell_type": "code",
   "execution_count": 2,
   "id": "0f3c6d1e",
   "metadata": {},
   "outputs": [
    {
     "name": "stdout",
     "output_type": "stream",
     "text": [
      "number of centroids 20\n"
     ]
    }
   ],
   "source": [
    "using Clustering\n",
    "\n",
    "n_clusters = 20\n",
    "\n",
    "# make a random dataset with 1000 random 5-dimensional points\n",
    "X = rand(5, 100)\n",
    "\n",
    "# cluster X into 20 clusters using K-means\n",
    "R = kmeans(X, n_clusters; maxiter=200)\n",
    "\n",
    "@assert nclusters(R) == 20 # verify the number of clusters\n",
    "\n",
    "a = assignments(R) # get the assignments of points to clusters\n",
    "c = counts(R) # get the cluster sizes\n",
    "M = R.centers # get the cluster centers\n",
    "\n",
    "println(\"number of centroids \", size(M,2))"
   ]
  },
  {
   "cell_type": "markdown",
   "id": "a46bdaee",
   "metadata": {},
   "source": [
    "We can find cluster assingments for new data using the following code "
   ]
  },
  {
   "cell_type": "code",
   "execution_count": 5,
   "id": "d175c24e",
   "metadata": {
    "scrolled": true
   },
   "outputs": [
    {
     "data": {
      "text/plain": [
       "get_cluster_assignments (generic function with 2 methods)"
      ]
     },
     "execution_count": 5,
     "metadata": {},
     "output_type": "execute_result"
    }
   ],
   "source": [
    "using Distances \n",
    "\n",
    "function get_cluster_assignments(\n",
    "    X::Matrix{T}, \n",
    "    R::KmeansResult, \n",
    "    distance::SemiMetric=SqEuclidean()) where {F<:Function, T}\n",
    "\n",
    "    cluster_assignments = zeros(Int, size(X,2))\n",
    "    \n",
    "    Threads.@threads for n in axes(X,2)\n",
    "        min_dist = typemax(T)\n",
    "        cluster_assignment = 0\n",
    "        \n",
    "        for k in axes(R.centers, 2)\n",
    "            dist = distance(@view(X[:,n]),@view(R.centers[:,k]))\n",
    "            if dist < min_dist\n",
    "                min_dist = dist\n",
    "                cluster_assignment = k\n",
    "            end\n",
    "        end\n",
    "        cluster_assignments[n] = cluster_assignment\n",
    "    end\n",
    "    \n",
    "    return cluster_assignments\n",
    "end"
   ]
  },
  {
   "cell_type": "code",
   "execution_count": 7,
   "id": "cab8551d",
   "metadata": {},
   "outputs": [],
   "source": [
    "clusters = get_cluster_assignments(X, R);"
   ]
  },
  {
   "cell_type": "code",
   "execution_count": 8,
   "id": "ac37e5a9",
   "metadata": {},
   "outputs": [
    {
     "data": {
      "text/plain": [
       "true"
      ]
     },
     "execution_count": 8,
     "metadata": {},
     "output_type": "execute_result"
    }
   ],
   "source": [
    "R.assignments == clusters"
   ]
  },
  {
   "cell_type": "code",
   "execution_count": null,
   "id": "30a04a78",
   "metadata": {},
   "outputs": [],
   "source": [
    "using Distances\n",
    "\n",
    "function get_cluster_assignments(\n",
    "    X::Matrix{T}, \n",
    "    centers::Matrix{T}, \n",
    "    distance::SemiMetric=SqEuclidean(),       # in: function to calculate distance with\n",
    "    ) where {F<:Function,T}\n",
    "\n",
    "\n",
    "    cluster_assignments = zeros(Int, size(X,2))\n",
    "\n",
    "    Threads.@threads for n in axes(X,2)\n",
    "        min_dist = typemax(T)\n",
    "        cluster_assignment = 0\n",
    "        for k in axes(centers, 2)\n",
    "            dist = distance(@view(X[:,n]),@view(centers[:,k]))\n",
    "            if dist < min_dist\n",
    "                min_dist = dist\n",
    "                cluster_assignment = k\n",
    "            end\n",
    "        end\n",
    "        cluster_assignments[n] = cluster_assignment\n",
    "    end\n",
    "    return cluster_assignments\n",
    "end\n"
   ]
  },
  {
   "cell_type": "code",
   "execution_count": null,
   "id": "dd410474",
   "metadata": {},
   "outputs": [],
   "source": [
    "clusters = get_cluster_assignments(X, R);"
   ]
  },
  {
   "cell_type": "code",
   "execution_count": null,
   "id": "a99d14b4",
   "metadata": {},
   "outputs": [],
   "source": [
    "R.assignments == clusters"
   ]
  },
  {
   "cell_type": "code",
   "execution_count": null,
   "id": "6a95ffc6",
   "metadata": {},
   "outputs": [],
   "source": []
  },
  {
   "cell_type": "code",
   "execution_count": null,
   "id": "0f203fd9",
   "metadata": {},
   "outputs": [],
   "source": []
  },
  {
   "cell_type": "code",
   "execution_count": null,
   "id": "f17c1e13",
   "metadata": {},
   "outputs": [],
   "source": [
    "using RDatasets, Clustering, Plots\n",
    "iris = dataset(\"datasets\", \"iris\"); # load the data\n",
    "\n",
    "features = collect(Matrix(iris[:, 1:4])'); # features to use for clustering\n",
    "result = kmeans(features, 3); # run K-means for the 3 clusters\n",
    "\n",
    "# plot with the point color mapped to the assigned cluster index\n",
    "scatter(iris.PetalLength, iris.PetalWidth, marker_z=result.assignments,\n",
    "        color=:lightrainbow, legend=false)"
   ]
  },
  {
   "cell_type": "code",
   "execution_count": null,
   "id": "fd9af6ef",
   "metadata": {},
   "outputs": [],
   "source": []
  }
 ],
 "metadata": {
  "kernelspec": {
   "display_name": "Julia 1.8.0",
   "language": "julia",
   "name": "julia-1.8"
  },
  "language_info": {
   "file_extension": ".jl",
   "mimetype": "application/julia",
   "name": "julia",
   "version": "1.8.0"
  }
 },
 "nbformat": 4,
 "nbformat_minor": 5
}
