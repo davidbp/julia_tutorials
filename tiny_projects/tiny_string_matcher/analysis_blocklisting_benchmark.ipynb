{
 "cells": [
  {
   "cell_type": "code",
   "execution_count": 11,
   "id": "d10338ac",
   "metadata": {},
   "outputs": [
    {
     "name": "stdout",
     "output_type": "stream",
     "text": [
      "result has to be length 100000 and is lenght 100000\n",
      "  14.006 ms (19 allocations: 7.91 MiB)\n"
     ]
    },
    {
     "data": {
      "text/plain": [
       "100000-element Vector{AsinID}:\n",
       " AsinID(String15(\"pt6LtvmoNv\"))\n",
       " AsinID(String15(\"j3VyvCVpl2\"))\n",
       " AsinID(String15(\"8G2coY9PvV\"))\n",
       " AsinID(String15(\"1pdnni0baG\"))\n",
       " AsinID(String15(\"yrqUf2RVM0\"))\n",
       " AsinID(String15(\"TVC8ShVK2w\"))\n",
       " AsinID(String15(\"mwA7yc2VHe\"))\n",
       " AsinID(String15(\"ah4JNIjySc\"))\n",
       " AsinID(String15(\"YnUx9g9o16\"))\n",
       " AsinID(String15(\"yL0dMy9HuB\"))\n",
       " AsinID(String15(\"HE4CSDtquY\"))\n",
       " AsinID(String15(\"FCe2eEGdnn\"))\n",
       " AsinID(String15(\"9fKLOeQLCN\"))\n",
       " ⋮\n",
       " AsinID(String15(\"Q58QkjZbsE\"))\n",
       " AsinID(String15(\"b7J6bKJlmc\"))\n",
       " AsinID(String15(\"Fg0y5kqwk9\"))\n",
       " AsinID(String15(\"Yeb0hIQGsv\"))\n",
       " AsinID(String15(\"XxJjDHn8va\"))\n",
       " AsinID(String15(\"f7RMlwBPNS\"))\n",
       " AsinID(String15(\"R9S61SvpZq\"))\n",
       " AsinID(String15(\"fpsahIF77i\"))\n",
       " AsinID(String15(\"BZbKROgT3u\"))\n",
       " AsinID(String15(\"dHCJox06hy\"))\n",
       " AsinID(String15(\"1tyW4qzBMy\"))\n",
       " AsinID(String15(\"QFOoXeerOW\"))"
      ]
     },
     "execution_count": 11,
     "metadata": {},
     "output_type": "execute_result"
    }
   ],
   "source": [
    "\n",
    "using BenchmarkTools, InlineStrings, JSON, Random\n",
    "\n",
    "n_list = 1_000_000\n",
    "n_blocklist = 100_000\n",
    "list = [randstring(10) for i in 1:n_list];\n",
    "blocklist = list[1:n_blocklist];\n",
    "\n",
    "struct AsinID\n",
    "    x::InlineString15\n",
    " end\n",
    " \n",
    " Base.:(==)(x::AsinID, y::AsinID) = x.x == y.x\n",
    " aword(x::AsinID) = (bswap(reinterpret(UInt128, x.x)) % UInt)\n",
    " Base.hash(x::AsinID, h::UInt64) = hash(aword(x),h)\n",
    " \n",
    " function check_list_in_blocklist3(list, blocklist)\n",
    "     blocklist_set = Set{AsinID}(blocklist)\n",
    "     result = Array{AsinID}([])\n",
    "     for l in list\n",
    "         if l in blocklist_set\n",
    "             push!(result,l)\n",
    "         end\n",
    "     end\n",
    "     return result\n",
    " end\n",
    " \n",
    " list_asin_id = AsinID.(list)\n",
    " blocklist_asin_id = AsinID.(blocklist);\n",
    " \n",
    "result = check_list_in_blocklist3(list_asin_id, blocklist_asin_id)\n",
    "println(\"result has to be length $n_blocklist and is lenght $(length(result))\")\n",
    "@btime check_list_in_blocklist3(list_asin_id, blocklist_asin_id)"
   ]
  },
  {
   "cell_type": "code",
   "execution_count": null,
   "id": "e8d55426",
   "metadata": {},
   "outputs": [],
   "source": []
  },
  {
   "cell_type": "code",
   "execution_count": null,
   "id": "fb4ec412",
   "metadata": {},
   "outputs": [],
   "source": [
    "using Random\n",
    "\n",
    "n_list = 50_000_000\n",
    "n_blocklist = 100_000\n",
    "list = [randstring(10) for i in 1:n_list];\n",
    "blocklist = [randstring(10) for i in 1:n_blocklist];"
   ]
  },
  {
   "cell_type": "code",
   "execution_count": null,
   "id": "28fe310a",
   "metadata": {},
   "outputs": [],
   "source": [
    "function check_list_in_blocklist(list, blocklist)\n",
    "    blocklist_set = Set{String}(blocklist)\n",
    "    result = Array{String}([])\n",
    "    for l in list\n",
    "        if l in blocklist_set\n",
    "            push!(result,l)\n",
    "        end\n",
    "    end\n",
    "    return result\n",
    "end\n",
    "\n",
    "\n",
    "check_list_in_blocklist(list[1:10], blocklist[1:4]);\n",
    "@btime check_list_in_blocklist(list, blocklist)"
   ]
  },
  {
   "cell_type": "code",
   "execution_count": null,
   "id": "82a323b7",
   "metadata": {},
   "outputs": [],
   "source": [
    "function check_list_in_blocklist2(list, blocklist)\n",
    "    blocklist_set = Set{InlineString15}(blocklist)\n",
    "    result = Array{InlineString15}([])\n",
    "    for l in list\n",
    "        if l in blocklist_set\n",
    "            push!(result,l)\n",
    "        end\n",
    "    end\n",
    "    return result\n",
    "end\n",
    "\n",
    "list_inline = InlineString15.(list)\n",
    "blocklist_inline = InlineString15.(blocklist);\n",
    "\n",
    "check_list_in_blocklist2(list_inline[1:10], blocklist_inline[1:4]);\n",
    "@btime check_list_in_blocklist2(list_inline, blocklist_inline)"
   ]
  },
  {
   "cell_type": "code",
   "execution_count": null,
   "id": "b412d8fb",
   "metadata": {},
   "outputs": [],
   "source": [
    "using BenchmarkTools, InlineStrings, JSON, Random\n",
    "\n",
    "n_list = 50_000_000\n",
    "n_blocklist = 100_000\n",
    "list = [randstring(10) for i in 1:n_list];\n",
    "blocklist = [randstring(10) for i in 1:n_blocklist];\n",
    "#append!(blocklist, list[1])"
   ]
  },
  {
   "cell_type": "code",
   "execution_count": null,
   "id": "c3b79f41",
   "metadata": {},
   "outputs": [],
   "source": [
    "\n",
    "struct AsinID\n",
    "   x::InlineString15\n",
    "end\n",
    "\n",
    "Base.:(==)(x::AsinID, y::AsinID) = x.x == y.x\n",
    "aword(x::AsinID) = (bswap(reinterpret(UInt128, x.x)) % UInt)\n",
    "Base.hash(x::AsinID, h::UInt64) = hash(aword(x),h)\n",
    "\n",
    "function check_list_in_blocklist3(list, blocklist)\n",
    "    blocklist_set = Set{AsinID}(blocklist)\n",
    "    result = Array{AsinID}([])\n",
    "    for l in list\n",
    "        if l in blocklist_set\n",
    "            push!(result,l)\n",
    "        end\n",
    "    end\n",
    "    return result\n",
    "end\n",
    "\n",
    "list_asin_id = AsinID.(list)\n",
    "blocklist_asin_id = AsinID.(blocklist);\n",
    "\n",
    "check_list_in_blocklist3(list_asin_id[1:10], blocklist_asin_id[1:4]);\n",
    "@btime check_list_in_blocklist3(list_asin_id, blocklist_asin_id)"
   ]
  },
  {
   "cell_type": "code",
   "execution_count": null,
   "id": "b39972c0",
   "metadata": {
    "scrolled": true
   },
   "outputs": [],
   "source": [
    "using InlineStrings\n",
    "\n",
    "struct AsinID\n",
    "   x::InlineString15\n",
    "end\n",
    "\n",
    "Base.:(==)(x::AsinID, y::AsinID) = x.x == y.x\n",
    "aword(x::AsinID) = (bswap(reinterpret(UInt128, x.x)) % UInt)\n",
    "Base.hash(x::AsinID, h::UInt64) = hash(aword(x),h)\n",
    "\n",
    "function check_list_in_blocklist3(list, blocklist)\n",
    "    blocklist_set = Set{AsinID}(blocklist)\n",
    "    result = Array{AsinID}([])\n",
    "    for l in list\n",
    "        if l in blocklist_set\n",
    "            push!(result,l)\n",
    "        end\n",
    "    end\n",
    "    return result\n",
    "end\n",
    "\n",
    "list_asin_id = AsinID.(list)\n",
    "blocklist_asin_id = AsinID.(blocklist);\n",
    "\n",
    "check_list_in_blocklist3(list_asin_id[1:10], blocklist_asin_id[1:4]);\n",
    "@btime check_list_in_blocklist3(list_asin_id, blocklist_asin_id)"
   ]
  },
  {
   "cell_type": "code",
   "execution_count": null,
   "id": "bfc08686",
   "metadata": {},
   "outputs": [],
   "source": []
  },
  {
   "cell_type": "code",
   "execution_count": null,
   "id": "600ed175",
   "metadata": {},
   "outputs": [],
   "source": []
  },
  {
   "cell_type": "code",
   "execution_count": null,
   "id": "0c57eee6",
   "metadata": {},
   "outputs": [],
   "source": []
  },
  {
   "cell_type": "code",
   "execution_count": null,
   "id": "2a143469",
   "metadata": {},
   "outputs": [],
   "source": []
  }
 ],
 "metadata": {
  "kernelspec": {
   "display_name": "Julia 1.9.0-beta3",
   "language": "julia",
   "name": "julia-1.9"
  },
  "language_info": {
   "file_extension": ".jl",
   "mimetype": "application/julia",
   "name": "julia",
   "version": "1.9.0"
  }
 },
 "nbformat": 4,
 "nbformat_minor": 5
}
