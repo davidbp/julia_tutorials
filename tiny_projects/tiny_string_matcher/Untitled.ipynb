{
 "cells": [
  {
   "cell_type": "code",
   "execution_count": 1,
   "id": "8fecdb31",
   "metadata": {},
   "outputs": [],
   "source": [
    "using DataFrames, JSON, BenchmarkTools, InlineStrings"
   ]
  },
  {
   "cell_type": "code",
   "execution_count": 2,
   "id": "9851377f",
   "metadata": {},
   "outputs": [],
   "source": [
    "json_source = \"/Users/dbuchaca/Datasets/amazon_product_data/Home_and_Kitchen_5.json\"\n",
    "asins = [String15(x[\"asin\"]) for x in JSON.parse.(readlines(open(json_source)))]\n",
    "\n",
    "# Make the dataset bigger for benchmarking purposes\n",
    "for i in 1:9\n",
    "    append!(asins, asins)\n",
    "end"
   ]
  },
  {
   "cell_type": "code",
   "execution_count": 6,
   "id": "861cbfb7",
   "metadata": {},
   "outputs": [
    {
     "data": {
      "text/plain": [
       "282461184"
      ]
     },
     "execution_count": 6,
     "metadata": {},
     "output_type": "execute_result"
    }
   ],
   "source": [
    "length(asins)"
   ]
  },
  {
   "cell_type": "code",
   "execution_count": 9,
   "id": "d12deca1",
   "metadata": {},
   "outputs": [
    {
     "data": {
      "text/plain": [
       "231780"
      ]
     },
     "execution_count": 9,
     "metadata": {},
     "output_type": "execute_result"
    }
   ],
   "source": [
    "json_source = \"/Users/dbuchaca/Datasets/amazon_product_data/Video_Games_5.json\"\n",
    "blocklist = [x[\"asin\"] for x in JSON.parse.(readlines(open(json_source)))];\n",
    "length(blocklist)"
   ]
  },
  {
   "cell_type": "code",
   "execution_count": 4,
   "id": "7604e6c8",
   "metadata": {},
   "outputs": [
    {
     "data": {
      "text/plain": [
       "check_list_in_blocklist2 (generic function with 1 method)"
      ]
     },
     "execution_count": 4,
     "metadata": {},
     "output_type": "execute_result"
    }
   ],
   "source": [
    "using InlineStrings\n",
    "\n",
    "function check_list_in_blocklist2(list, blocklist)\n",
    "    blocklist_set = Set{InlineString15}(blocklist)\n",
    "    result = Set{InlineString15}([])\n",
    "    for l in list\n",
    "        if l in blocklist_set\n",
    "            push!(result,l)\n",
    "        end\n",
    "    end\n",
    "    return result\n",
    "end"
   ]
  },
  {
   "cell_type": "code",
   "execution_count": 10,
   "id": "ddbe9209",
   "metadata": {},
   "outputs": [
    {
     "name": "stdout",
     "output_type": "stream",
     "text": [
      "  4.211 s (13 allocations: 8.50 MiB)\n"
     ]
    },
    {
     "data": {
      "text/plain": [
       "Set{String15}()"
      ]
     },
     "execution_count": 10,
     "metadata": {},
     "output_type": "execute_result"
    }
   ],
   "source": [
    "asins_s15 = InlineString15.(asins)\n",
    "asins2_s15 = InlineString15.(blocklist);\n",
    "\n",
    "@btime check_list_in_blocklist2(asins_s15,asins2_s15)"
   ]
  },
  {
   "cell_type": "code",
   "execution_count": 11,
   "id": "d3264c08",
   "metadata": {},
   "outputs": [
    {
     "name": "stdout",
     "output_type": "stream",
     "text": [
      "\u001b[90m;  @ /Users/dbuchaca/.julia/packages/InlineStrings/rlLZO/src/InlineStrings.jl:340 within `==`\u001b[39m\n",
      "\u001b[95mdefine\u001b[39m \u001b[36mi8\u001b[39m \u001b[93m@\"julia_\u001b[39m\u001b[0m=\u001b[0m=\u001b[0m_2024\"\u001b[33m(\u001b[39m\u001b[36mi128\u001b[39m \u001b[95mzeroext\u001b[39m \u001b[0m%0\u001b[0m, \u001b[36mi128\u001b[39m \u001b[95mzeroext\u001b[39m \u001b[0m%1\u001b[33m)\u001b[39m \u001b[0m#0 \u001b[33m{\u001b[39m\n",
      "\u001b[91mtop:\u001b[39m\n",
      "  \u001b[0m%2 \u001b[0m= \u001b[96m\u001b[1micmp\u001b[22m\u001b[39m \u001b[96m\u001b[1meq\u001b[22m\u001b[39m \u001b[36mi128\u001b[39m \u001b[0m%0\u001b[0m, \u001b[0m%1\n",
      "  \u001b[0m%3 \u001b[0m= \u001b[96m\u001b[1mzext\u001b[22m\u001b[39m \u001b[36mi1\u001b[39m \u001b[0m%2 \u001b[95mto\u001b[39m \u001b[36mi8\u001b[39m\n",
      "  \u001b[96m\u001b[1mret\u001b[22m\u001b[39m \u001b[36mi8\u001b[39m \u001b[0m%3\n",
      "\u001b[33m}\u001b[39m\n"
     ]
    }
   ],
   "source": [
    "@code_llvm asins_s15[1] == asins_s15[2]"
   ]
  },
  {
   "cell_type": "code",
   "execution_count": 12,
   "id": "b11af2ec",
   "metadata": {},
   "outputs": [
    {
     "name": "stdout",
     "output_type": "stream",
     "text": [
      "\t\u001b[0m.section\t\u001b[0m__TEXT\u001b[0m,\u001b[0m__text\u001b[0m,\u001b[0mregular\u001b[0m,\u001b[0mpure_instructions\n",
      "\t\u001b[0m.build_version \u001b[0mmacos\u001b[0m, \u001b[33m12\u001b[39m\u001b[0m, \u001b[33m0\u001b[39m\n",
      "\t\u001b[0m.globl\t\u001b[0m\"_julia_==_2061\"                \u001b[0m## \u001b[0m-- \u001b[0mBegin \u001b[0mfunction \u001b[0mjulia_==_2061\n",
      "\t\u001b[0m.p2align\t\u001b[33m4\u001b[39m\u001b[0m, \u001b[33m0x90\u001b[39m\n",
      "\u001b[91m\"_julia_==_2061\":\u001b[39m                       \u001b[0m## \u001b[0m@\"julia_==_2061\"\n",
      "\u001b[90m; ┌ @ /Users/dbuchaca/.julia/packages/InlineStrings/rlLZO/src/InlineStrings.jl:340 within `==`\u001b[39m\n",
      "\t\u001b[0m.cfi_startproc\n",
      "\u001b[0m## \u001b[0m%bb.0\u001b[0m:                               \u001b[0m## \u001b[0m%top\n",
      "\t\u001b[96m\u001b[1mxorq\u001b[22m\u001b[39m\t\u001b[0m%rcx\u001b[0m, \u001b[0m%rsi\n",
      "\t\u001b[96m\u001b[1mxorq\u001b[22m\u001b[39m\t\u001b[0m%rdx\u001b[0m, \u001b[0m%rdi\n",
      "\t\u001b[96m\u001b[1morq\u001b[22m\u001b[39m\t\u001b[0m%rsi\u001b[0m, \u001b[0m%rdi\n",
      "\t\u001b[96m\u001b[1msete\u001b[22m\u001b[39m\t\u001b[0m%al\n",
      "\t\u001b[96m\u001b[1mretq\u001b[22m\u001b[39m\n",
      "\t\u001b[0m.cfi_endproc\n",
      "\u001b[90m; └\u001b[39m\n",
      "                                        \u001b[0m## \u001b[0m-- \u001b[0mEnd \u001b[0mfunction\n",
      "\u001b[0m.subsections_via_symbols\n"
     ]
    }
   ],
   "source": [
    "# Note that this hardware will deal with 2 Xors for the 2 sets of 64 bits\n",
    "@code_native asins_s15[1] == asins_s15[2]"
   ]
  },
  {
   "cell_type": "code",
   "execution_count": null,
   "id": "8a788c44",
   "metadata": {},
   "outputs": [],
   "source": []
  },
  {
   "cell_type": "code",
   "execution_count": null,
   "id": "328badc9",
   "metadata": {},
   "outputs": [],
   "source": []
  },
  {
   "cell_type": "code",
   "execution_count": null,
   "id": "33f789a3",
   "metadata": {},
   "outputs": [],
   "source": []
  },
  {
   "cell_type": "code",
   "execution_count": null,
   "id": "bf5d0a23",
   "metadata": {},
   "outputs": [],
   "source": [
    "json_source = \"/Users/dbuchaca/Datasets/amazon_product_data/Home_and_Kitchen_5.json\"\n",
    "asins = [String15(x[\"asin\"]) for x in JSON.parse.(readlines(open(json_source)))]\n",
    "\n",
    "json_source = \"/Users/dbuchaca/Datasets/amazon_product_data/Video_Games_5.json\"\n",
    "asins_2 = [x[\"asin\"] for x in JSON.parse.(readlines(open(json_source)))]"
   ]
  },
  {
   "cell_type": "code",
   "execution_count": null,
   "id": "a18415b5",
   "metadata": {},
   "outputs": [],
   "source": [
    "@btime intersect(Set(asins_2), Set(asins))"
   ]
  },
  {
   "cell_type": "code",
   "execution_count": null,
   "id": "c6838baa",
   "metadata": {},
   "outputs": [],
   "source": [
    "@btime asins_2_set = Set(asins_2);"
   ]
  },
  {
   "cell_type": "code",
   "execution_count": null,
   "id": "e5da5f0d",
   "metadata": {},
   "outputs": [],
   "source": [
    "@btime asins_2_set = Set(asins_2);"
   ]
  },
  {
   "cell_type": "code",
   "execution_count": null,
   "id": "71409ebd",
   "metadata": {},
   "outputs": [],
   "source": [
    "function check_list_in_blocklist(list, blocklist)\n",
    "    blocklist_set = Set{String}(blocklist)\n",
    "    result = Set([])\n",
    "    for l in list\n",
    "        if l in blocklist_set\n",
    "            push!(result,l)\n",
    "        end\n",
    "    end\n",
    "    return result\n",
    "end"
   ]
  },
  {
   "cell_type": "code",
   "execution_count": null,
   "id": "280a62fc",
   "metadata": {},
   "outputs": [],
   "source": [
    "@btime check_list_in_blocklist(asins,asins_2)"
   ]
  },
  {
   "cell_type": "code",
   "execution_count": null,
   "id": "b7743a62",
   "metadata": {},
   "outputs": [],
   "source": [
    "using InlineStrings\n",
    "\n",
    "function check_list_in_blocklist2(list, blocklist)\n",
    "    blocklist_set = Set{InlineString15}(blocklist)\n",
    "    result = Set{InlineString15}([])\n",
    "    for l in list\n",
    "        if l in blocklist_set\n",
    "            push!(result,l)\n",
    "        end\n",
    "    end\n",
    "    return result\n",
    "end"
   ]
  },
  {
   "cell_type": "code",
   "execution_count": null,
   "id": "b458f3c7",
   "metadata": {},
   "outputs": [],
   "source": [
    "asins_s15 = InlineString15.(asins)\n",
    "asins2_s15 = InlineString15.(asins_2);\n",
    "\n",
    "@btime check_list_in_blocklist2(asins_s15,asins2_s15)"
   ]
  },
  {
   "cell_type": "code",
   "execution_count": null,
   "id": "6e56c06b",
   "metadata": {},
   "outputs": [],
   "source": [
    "asins_s15"
   ]
  },
  {
   "cell_type": "code",
   "execution_count": null,
   "id": "63da68e0",
   "metadata": {},
   "outputs": [],
   "source": []
  },
  {
   "cell_type": "code",
   "execution_count": null,
   "id": "dfdce265",
   "metadata": {},
   "outputs": [],
   "source": [
    "function check_list_in_blocklist2(list, blocklist)\n",
    "    blocklist_set = Set{String}(blocklist)\n",
    "    return intersect(Set{String}(list),blocklist_set )\n",
    "end"
   ]
  },
  {
   "cell_type": "code",
   "execution_count": null,
   "id": "4b368975",
   "metadata": {},
   "outputs": [],
   "source": [
    "@btime check_list_in_blocklist2($asins, $asins_2)"
   ]
  },
  {
   "cell_type": "code",
   "execution_count": null,
   "id": "f252305a",
   "metadata": {},
   "outputs": [],
   "source": []
  },
  {
   "cell_type": "code",
   "execution_count": null,
   "id": "868fab00",
   "metadata": {},
   "outputs": [],
   "source": []
  },
  {
   "cell_type": "code",
   "execution_count": null,
   "id": "8780aa7b",
   "metadata": {},
   "outputs": [],
   "source": []
  },
  {
   "cell_type": "code",
   "execution_count": null,
   "id": "a0aaf5ed",
   "metadata": {},
   "outputs": [],
   "source": [
    "function get_chars(list_of_strings)\n",
    "    unique_chars = Dict{Char, Int}([])\n",
    "    for s in list_of_strings\n",
    "        for c in s\n",
    "            if haskey(unique_chars, c) == false\n",
    "                unique_chars[c] = length(unique_chars) +1\n",
    "            end\n",
    "        end\n",
    "    end\n",
    "    return unique_chars\n",
    "end"
   ]
  },
  {
   "cell_type": "code",
   "execution_count": null,
   "id": "21669041",
   "metadata": {},
   "outputs": [],
   "source": [
    "symbol_to_int = get_chars(asins)"
   ]
  },
  {
   "cell_type": "code",
   "execution_count": null,
   "id": "e9c16ede",
   "metadata": {},
   "outputs": [],
   "source": [
    "sort([x for x in values(symbol_to_int)])"
   ]
  },
  {
   "cell_type": "markdown",
   "id": "8d59dad0",
   "metadata": {},
   "source": [
    "### Embedding each possible asin to an integer"
   ]
  },
  {
   "cell_type": "code",
   "execution_count": null,
   "id": "f76f88d8",
   "metadata": {},
   "outputs": [],
   "source": [
    "function hash_value(str, symbol_to_int)\n",
    "    result = 0\n",
    "    n_symbols = length(symbol_to_int)\n",
    "    for (i,c) in enumerate(str)\n",
    "        result += symbol_to_int[c]^i\n",
    "    end\n",
    "    return result\n",
    "end"
   ]
  },
  {
   "cell_type": "code",
   "execution_count": null,
   "id": "c1d655d9",
   "metadata": {},
   "outputs": [],
   "source": [
    "@btime hash_value(\"1111111111\", symbol_to_int)"
   ]
  },
  {
   "cell_type": "code",
   "execution_count": null,
   "id": "725594b5",
   "metadata": {},
   "outputs": [],
   "source": [
    "max_hash = hash_value(\"HHHHHHHHHH\", symbol_to_int)"
   ]
  },
  {
   "cell_type": "code",
   "execution_count": null,
   "id": "4c3eee28",
   "metadata": {},
   "outputs": [],
   "source": [
    "max_hash < typemax(Int64)"
   ]
  },
  {
   "cell_type": "code",
   "execution_count": null,
   "id": "cdf0fe6a",
   "metadata": {},
   "outputs": [],
   "source": [
    "hash_value(\"1111111111\", symbol_to_int)"
   ]
  },
  {
   "cell_type": "code",
   "execution_count": null,
   "id": "7a84fd59",
   "metadata": {},
   "outputs": [],
   "source": [
    "@btime max_hash == asins[10]"
   ]
  },
  {
   "cell_type": "markdown",
   "id": "e57de5e9",
   "metadata": {},
   "source": [
    "How much faster could we do comparison between strings and Ints?"
   ]
  },
  {
   "cell_type": "code",
   "execution_count": null,
   "id": "090a9858",
   "metadata": {},
   "outputs": [],
   "source": [
    "a1 = asins[1]\n",
    "a2 = asins[2]\n",
    "@btime a1 == a2"
   ]
  },
  {
   "cell_type": "code",
   "execution_count": null,
   "id": "d5680aa5",
   "metadata": {},
   "outputs": [],
   "source": [
    "ha1 = hash_value(asins[1],symbol_to_int)\n",
    "ha2 = hash_value(asins[2],symbol_to_int)\n",
    "@btime ha1 == ha2"
   ]
  },
  {
   "cell_type": "markdown",
   "id": "102811cf",
   "metadata": {},
   "source": [
    "Note that the cost of converting the strings to ints is already higher than the comparison cost, making this irrelevant unless data is already stored with hashes"
   ]
  },
  {
   "cell_type": "code",
   "execution_count": null,
   "id": "5c4ed7d5",
   "metadata": {},
   "outputs": [],
   "source": [
    "function hash_value_ascii(str)\n",
    "    result = 0\n",
    "    for (i,c) in enumerate(str)\n",
    "        result += Int(c)^i\n",
    "        println(i, \"-->\", c, ' ', result)\n",
    "    end\n",
    "    return result\n",
    "end"
   ]
  },
  {
   "cell_type": "code",
   "execution_count": null,
   "id": "f792df4b",
   "metadata": {},
   "outputs": [],
   "source": [
    "hash_value_ascii(asins[4])"
   ]
  },
  {
   "cell_type": "code",
   "execution_count": null,
   "id": "d0713a69",
   "metadata": {},
   "outputs": [],
   "source": [
    "function hash_value_ascii(s)\n",
    "    result = 0\n",
    "    for (i,c) in enumerate(s)\n",
    "        result += Int(c)^i\n",
    "    end\n",
    "    return result\n",
    "end"
   ]
  },
  {
   "cell_type": "code",
   "execution_count": null,
   "id": "8c8d1eba",
   "metadata": {},
   "outputs": [],
   "source": [
    "a = asins[100]\n",
    "@btime hash_value_ascii($a) "
   ]
  },
  {
   "cell_type": "code",
   "execution_count": null,
   "id": "8de13041",
   "metadata": {},
   "outputs": [],
   "source": [
    "function hash_value_ascii(s)\n",
    "\n",
    "    a1 =  Int(s[1])\n",
    "    a2 =  Int(s[2])^1\n",
    "    a3 =  Int(s[3])^2\n",
    "    a4 =  Int(s[4])^3\n",
    "    a5 =  Int(s[5])^4\n",
    "    a6 =  Int(s[6])^5\n",
    "    a7 =  Int(s[7])^6\n",
    "    a8 =  Int(s[8])^7\n",
    "    a9 =  Int(s[9])^8\n",
    "    a10 =  Int(s[10])^9\n",
    "\n",
    "    return a1+a2+a3+a4+a5+a6+a7+a8+a9+a10\n",
    "end"
   ]
  },
  {
   "cell_type": "code",
   "execution_count": null,
   "id": "d64e10ff",
   "metadata": {},
   "outputs": [],
   "source": [
    "a = \"474829382az\"\n",
    "@btime hash_value_ascii($a)"
   ]
  },
  {
   "cell_type": "code",
   "execution_count": null,
   "id": "9e14be8f",
   "metadata": {},
   "outputs": [],
   "source": []
  },
  {
   "cell_type": "code",
   "execution_count": null,
   "id": "859fa586",
   "metadata": {},
   "outputs": [],
   "source": [
    "aux = Int8.(codeunits(a))"
   ]
  },
  {
   "cell_type": "code",
   "execution_count": null,
   "id": "f2ad3f0f",
   "metadata": {},
   "outputs": [],
   "source": [
    "@btime aux == aux"
   ]
  },
  {
   "cell_type": "code",
   "execution_count": null,
   "id": "cce3c987",
   "metadata": {},
   "outputs": [],
   "source": [
    "a1 = ascii(\"HHHHHHHHHH\")"
   ]
  },
  {
   "cell_type": "code",
   "execution_count": null,
   "id": "494d5065",
   "metadata": {},
   "outputs": [],
   "source": [
    "b\"HHHHHHHHHH\""
   ]
  },
  {
   "cell_type": "code",
   "execution_count": null,
   "id": "818fdd98",
   "metadata": {},
   "outputs": [],
   "source": [
    "a1 = asins[1]\n",
    "a2 = asins[1000]\n",
    "\n",
    "@btime aux = codeunits($a1) == codeunits($a2) "
   ]
  },
  {
   "cell_type": "code",
   "execution_count": null,
   "id": "d814c703",
   "metadata": {},
   "outputs": [],
   "source": [
    "a1 = asins[1]\n",
    "a2 = asins[1000]\n",
    "\n",
    "function check_equal_str(a1,a2)\n",
    "    return a1 == a2\n",
    "end\n",
    "\n",
    "@btime check_equal_str($a1,$a2)\n",
    "@btime check_equal_str(a1,a2)"
   ]
  },
  {
   "cell_type": "code",
   "execution_count": null,
   "id": "c71413c6",
   "metadata": {},
   "outputs": [],
   "source": [
    "a1 = asins[1]\n",
    "a2 = asins[1000]\n",
    "\n",
    "function check_equal_codeunits(a1,a2)\n",
    "    return codeunits(a1) == codeunits(a2) \n",
    "end\n",
    "\n",
    "@btime check_equal_codeunits($a1,$a2)\n",
    "@btime check_equal_codeunits(a1,a2)"
   ]
  },
  {
   "cell_type": "code",
   "execution_count": null,
   "id": "1ce60b6b",
   "metadata": {},
   "outputs": [],
   "source": []
  },
  {
   "cell_type": "code",
   "execution_count": null,
   "id": "ad8effb9",
   "metadata": {},
   "outputs": [],
   "source": [
    "\n",
    "sum([127^i for i in 0:9])"
   ]
  },
  {
   "cell_type": "code",
   "execution_count": null,
   "id": "2c3abf99",
   "metadata": {},
   "outputs": [],
   "source": [
    "sum([127^i for i in 0:9])<typemax(Int64)"
   ]
  },
  {
   "cell_type": "code",
   "execution_count": null,
   "id": "f9d6bea0",
   "metadata": {},
   "outputs": [],
   "source": []
  },
  {
   "cell_type": "code",
   "execution_count": null,
   "id": "17f37a46",
   "metadata": {},
   "outputs": [],
   "source": [
    "function hash_value_ascii(str)\n",
    "    result = 0\n",
    "    for (i,c) in enumerate(str)\n",
    "        result += Int(c)^i\n",
    "        println(i, \"-->\", c, ' ', result)\n",
    "    end\n",
    "    return result\n",
    "end"
   ]
  },
  {
   "cell_type": "code",
   "execution_count": null,
   "id": "fe9fdde2",
   "metadata": {},
   "outputs": [],
   "source": []
  },
  {
   "cell_type": "code",
   "execution_count": null,
   "id": "0d188ed1",
   "metadata": {},
   "outputs": [],
   "source": []
  },
  {
   "cell_type": "code",
   "execution_count": null,
   "id": "96aed2a5",
   "metadata": {},
   "outputs": [],
   "source": []
  },
  {
   "cell_type": "code",
   "execution_count": null,
   "id": "26dbf4f9",
   "metadata": {},
   "outputs": [],
   "source": []
  }
 ],
 "metadata": {
  "kernelspec": {
   "display_name": "Julia 1.8.0",
   "language": "julia",
   "name": "julia-1.8"
  },
  "language_info": {
   "file_extension": ".jl",
   "mimetype": "application/julia",
   "name": "julia",
   "version": "1.8.3"
  }
 },
 "nbformat": 4,
 "nbformat_minor": 5
}
