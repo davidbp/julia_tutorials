{
 "cells": [
  {
   "cell_type": "code",
   "execution_count": 3,
   "id": "8fecdb31",
   "metadata": {},
   "outputs": [],
   "source": [
    "using BenchmarkTools, InlineStrings, JSON"
   ]
  },
  {
   "cell_type": "code",
   "execution_count": 4,
   "id": "98b69d2f",
   "metadata": {},
   "outputs": [
    {
     "data": {
      "text/plain": [
       "Set{Foo} with 2 elements:\n",
       "  Foo(String15(\"hello\"))\n",
       "  Foo(String15(\"hallo\"))"
      ]
     },
     "execution_count": 4,
     "metadata": {},
     "output_type": "execute_result"
    }
   ],
   "source": [
    "using InlineStrings\n",
    "\n",
    "struct Foo\n",
    "   x::InlineString15\n",
    "end\n",
    "\n",
    "Set{Foo}([Foo(\"hello\"), Foo(\"hallo\")])"
   ]
  },
  {
   "cell_type": "code",
   "execution_count": 98,
   "id": "8417f5a6",
   "metadata": {},
   "outputs": [],
   "source": [
    "using InlineStrings\n",
    "\n",
    "struct Foo\n",
    "   x::InlineString15\n",
    "end\n",
    "\n",
    "Base.:(==)(x::Foo, y::Foo) = x.x == y.x\n",
    "#aword(x::Foo) = first(reinterpret(Tuple{UInt64,UInt64}, x))\n",
    "aword(x::Foo) = first(reinterpret(Tuple{UInt64,UInt64}, x))\n",
    "Base.hash(x::Foo, h::UInt64) = hash(aword(x),h)\n",
    "\n",
    "#Set{Foo}([Foo(\"ahwhdjwodl\"), Foo(\"ahwhdjwodl\")])"
   ]
  },
  {
   "cell_type": "code",
   "execution_count": 100,
   "id": "daa69e3c",
   "metadata": {},
   "outputs": [
    {
     "ename": "LoadError",
     "evalue": "bitcast: target type not a leaf primitive type",
     "output_type": "error",
     "traceback": [
      "bitcast: target type not a leaf primitive type",
      "",
      "Stacktrace:",
      " [1] reinterpret",
      "   @ ./essentials.jl:513 [inlined]",
      " [2] aword(x::Foo)",
      "   @ Main ./In[98]:9",
      " [3] top-level scope",
      "   @ In[100]:2"
     ]
    }
   ],
   "source": [
    "a = Foo(\"0123456789\")\n",
    "aword(a)"
   ]
  },
  {
   "cell_type": "code",
   "execution_count": 132,
   "id": "b84d4477",
   "metadata": {},
   "outputs": [
    {
     "ename": "LoadError",
     "evalue": "bitcast: target type not a leaf primitive type",
     "output_type": "error",
     "traceback": [
      "bitcast: target type not a leaf primitive type",
      "",
      "Stacktrace:",
      " [1] reinterpret(#unused#::Type{Tuple{UInt64, UInt64}}, x::Int64)",
      "   @ Base ./essentials.jl:513",
      " [2] top-level scope",
      "   @ In[132]:1"
     ]
    }
   ],
   "source": [
    "a = Foo(\"0123456789\")\n",
    "\n",
    "reinterpret(Tuple{UInt64,UInt64}, x)"
   ]
  },
  {
   "cell_type": "code",
   "execution_count": null,
   "id": "f72e3c7d",
   "metadata": {},
   "outputs": [],
   "source": []
  },
  {
   "cell_type": "code",
   "execution_count": 158,
   "id": "002b8263",
   "metadata": {},
   "outputs": [
    {
     "data": {
      "text/plain": [
       "Set{Foo} with 2 elements:\n",
       "  Foo(String15(\"ahwhdjwodl\"))\n",
       "  Foo(String15(\"ahwhdjwod2\"))"
      ]
     },
     "execution_count": 158,
     "metadata": {},
     "output_type": "execute_result"
    }
   ],
   "source": [
    "using InlineStrings\n",
    "\n",
    "struct Foo\n",
    "   x::InlineString15\n",
    "end\n",
    "\n",
    "Base.:(==)(x::Foo, y::Foo) = x.x == y.x\n",
    "aword(x::Foo) = reinterpret(UInt128, x.x)\n",
    "Base.hash(x::Foo, h::UInt64) = hash(aword(x),h)\n",
    "#aword(x::Foo) = (bswap(reinterpret(UInt128, x.x))  % UInt)\n",
    "Set{Foo}([Foo(\"ahwhdjwodl\"), Foo(\"ahwhdjwod2\")])"
   ]
  },
  {
   "cell_type": "code",
   "execution_count": 127,
   "id": "a34a53c4",
   "metadata": {},
   "outputs": [
    {
     "name": "stdout",
     "output_type": "stream",
     "text": [
      "9071360169666062368\n"
     ]
    }
   ],
   "source": [
    "Base.hash(x::Foo, h::UInt64) = hash(aword(x),h)\n",
    "println(hash(a))"
   ]
  },
  {
   "cell_type": "code",
   "execution_count": 159,
   "id": "78650d55",
   "metadata": {},
   "outputs": [
    {
     "data": {
      "text/plain": [
       "Set{Foo} with 2 elements:\n",
       "  Foo(String15(\"ahwhdjwodl\"))\n",
       "  Foo(String15(\"ahwhdjwod2\"))"
      ]
     },
     "execution_count": 159,
     "metadata": {},
     "output_type": "execute_result"
    }
   ],
   "source": [
    "Set{Foo}([Foo(\"ahwhdjwodl\"), Foo(\"ahwhdjwod2\")])"
   ]
  },
  {
   "cell_type": "code",
   "execution_count": null,
   "id": "15ab733a",
   "metadata": {},
   "outputs": [],
   "source": [
    "\"\""
   ]
  },
  {
   "cell_type": "code",
   "execution_count": 153,
   "id": "5a79f4dc",
   "metadata": {},
   "outputs": [],
   "source": [
    "#ascii(\"hello\")"
   ]
  },
  {
   "cell_type": "code",
   "execution_count": 182,
   "id": "fb4ec412",
   "metadata": {},
   "outputs": [],
   "source": [
    "using Random\n",
    "\n",
    "n_list = 10_000_000\n",
    "n_blocklist = 100_000\n",
    "list = [randstring(10) for i in 1:n_list];\n",
    "blocklist = [randstring(10) for i in 1:n_blocklist];"
   ]
  },
  {
   "cell_type": "code",
   "execution_count": 183,
   "id": "28fe310a",
   "metadata": {},
   "outputs": [
    {
     "name": "stdout",
     "output_type": "stream",
     "text": [
      "  267.123 ms (9 allocations: 2.25 MiB)\n"
     ]
    },
    {
     "data": {
      "text/plain": [
       "String[]"
      ]
     },
     "execution_count": 183,
     "metadata": {},
     "output_type": "execute_result"
    }
   ],
   "source": [
    "function check_list_in_blocklist(list, blocklist)\n",
    "    blocklist_set = Set{String}(blocklist)\n",
    "    result = Array{String}([])\n",
    "    for l in list\n",
    "        if l in blocklist_set\n",
    "            push!(result,l)\n",
    "        end\n",
    "    end\n",
    "    return result\n",
    "end\n",
    "\n",
    "\n",
    "check_list_in_blocklist(list[1:10], blocklist[1:4]);\n",
    "@btime check_list_in_blocklist(list, blocklist)"
   ]
  },
  {
   "cell_type": "code",
   "execution_count": 184,
   "id": "82a323b7",
   "metadata": {},
   "outputs": [
    {
     "name": "stdout",
     "output_type": "stream",
     "text": [
      "  253.570 ms (9 allocations: 4.25 MiB)\n"
     ]
    },
    {
     "data": {
      "text/plain": [
       "String15[]"
      ]
     },
     "execution_count": 184,
     "metadata": {},
     "output_type": "execute_result"
    }
   ],
   "source": [
    "function check_list_in_blocklist2(list, blocklist)\n",
    "    blocklist_set = Set{InlineString15}(blocklist)\n",
    "    result = Array{InlineString15}([])\n",
    "    for l in list\n",
    "        if l in blocklist_set\n",
    "            push!(result,l)\n",
    "        end\n",
    "    end\n",
    "    return result\n",
    "end\n",
    "\n",
    "list_inline = InlineString15.(list)\n",
    "blocklist_inline = InlineString15.(blocklist);\n",
    "\n",
    "check_list_in_blocklist2(list_inline[1:10], blocklist_inline[1:4]);\n",
    "\n",
    "@btime check_list_in_blocklist2(list_inline, blocklist_inline)"
   ]
  },
  {
   "cell_type": "code",
   "execution_count": null,
   "id": "56b79795",
   "metadata": {},
   "outputs": [],
   "source": []
  },
  {
   "cell_type": "code",
   "execution_count": 189,
   "id": "b39972c0",
   "metadata": {},
   "outputs": [
    {
     "name": "stdout",
     "output_type": "stream",
     "text": [
      "  129.024 ms (9 allocations: 4.25 MiB)\n"
     ]
    },
    {
     "data": {
      "text/plain": [
       "Foo[]"
      ]
     },
     "execution_count": 189,
     "metadata": {},
     "output_type": "execute_result"
    }
   ],
   "source": [
    "using InlineStrings\n",
    "\n",
    "struct Foo\n",
    "   x::InlineString15\n",
    "end\n",
    "\n",
    "Base.:(==)(x::Foo, y::Foo) = x.x == y.x\n",
    "#aword(x::Foo) = reinterpret(UInt128, x.x)\n",
    "aword(x::Foo) = (bswap(reinterpret(UInt128, x.x))  % UInt)\n",
    "Base.hash(x::Foo, h::UInt64) = hash(aword(x),h)\n",
    "\n",
    "function check_list_in_blocklist3(list, blocklist)\n",
    "    blocklist_set = Set{Foo}(blocklist)\n",
    "    result = Array{Foo}([])\n",
    "    for l in list\n",
    "        if l in blocklist_set\n",
    "            push!(result,l)\n",
    "        end\n",
    "    end\n",
    "    return result\n",
    "end\n",
    "\n",
    "list_foo = Foo.(list)\n",
    "blocklist_foo = Foo.(blocklist);\n",
    "\n",
    "check_list_in_blocklist3(list_foo[1:10], blocklist_foo[1:4]);\n",
    "\n",
    "@btime check_list_in_blocklist3(list_foo, blocklist_foo)"
   ]
  },
  {
   "cell_type": "code",
   "execution_count": 188,
   "id": "1a8d6c31",
   "metadata": {},
   "outputs": [
    {
     "data": {
      "text/plain": [
       "Foo[]"
      ]
     },
     "execution_count": 188,
     "metadata": {},
     "output_type": "execute_result"
    }
   ],
   "source": [
    "check_list_in_blocklist3(list_foo, blocklist_foo)"
   ]
  },
  {
   "cell_type": "code",
   "execution_count": null,
   "id": "b3276771",
   "metadata": {},
   "outputs": [],
   "source": []
  },
  {
   "cell_type": "code",
   "execution_count": null,
   "id": "0b87de1b",
   "metadata": {},
   "outputs": [],
   "source": []
  },
  {
   "cell_type": "code",
   "execution_count": null,
   "id": "710b9cef",
   "metadata": {},
   "outputs": [],
   "source": []
  },
  {
   "cell_type": "code",
   "execution_count": null,
   "id": "8689e928",
   "metadata": {},
   "outputs": [],
   "source": [
    "reinterpret(UInt64, 1231231231231)"
   ]
  },
  {
   "cell_type": "code",
   "execution_count": 45,
   "id": "3a8c7e8a",
   "metadata": {},
   "outputs": [
    {
     "data": {
      "text/plain": [
       "first (generic function with 27 methods)"
      ]
     },
     "execution_count": 45,
     "metadata": {},
     "output_type": "execute_result"
    }
   ],
   "source": [
    "first"
   ]
  },
  {
   "cell_type": "code",
   "execution_count": null,
   "id": "b94b6199",
   "metadata": {},
   "outputs": [],
   "source": []
  },
  {
   "cell_type": "code",
   "execution_count": 35,
   "id": "836a2b22",
   "metadata": {},
   "outputs": [
    {
     "name": "stdout",
     "output_type": "stream",
     "text": [
      "  11.052 ns (0 allocations: 0 bytes)\n"
     ]
    },
    {
     "data": {
      "text/plain": [
       "false"
      ]
     },
     "execution_count": 35,
     "metadata": {},
     "output_type": "execute_result"
    }
   ],
   "source": [
    "a = Foo(\"0123456789\")\n",
    "b = Foo(\"0123456781\")\n",
    "@btime a == b"
   ]
  },
  {
   "cell_type": "code",
   "execution_count": 38,
   "id": "8783ce7e",
   "metadata": {},
   "outputs": [
    {
     "name": "stdout",
     "output_type": "stream",
     "text": [
      "  15.697 ns (0 allocations: 0 bytes)\n"
     ]
    },
    {
     "data": {
      "text/plain": [
       "false"
      ]
     },
     "execution_count": 38,
     "metadata": {},
     "output_type": "execute_result"
    }
   ],
   "source": [
    "a = \"0123456789\"\n",
    "b = \"0123456781\"\n",
    "\n",
    "@btime a == b"
   ]
  },
  {
   "cell_type": "code",
   "execution_count": 28,
   "id": "69d9755c",
   "metadata": {},
   "outputs": [
    {
     "ename": "LoadError",
     "evalue": "bitcast: target type not a leaf primitive type",
     "output_type": "error",
     "traceback": [
      "bitcast: target type not a leaf primitive type",
      "",
      "Stacktrace:",
      " [1] reinterpret(#unused#::Type{Tuple{UInt64, UInt64}}, x::String15)",
      "   @ Base ./essentials.jl:513",
      " [2] top-level scope",
      "   @ In[28]:1"
     ]
    }
   ],
   "source": [
    "first(reinterpret(Tuple{UInt64,UInt64}, Foo(\"0123456789\").x))"
   ]
  },
  {
   "cell_type": "code",
   "execution_count": 29,
   "id": "d0446303",
   "metadata": {},
   "outputs": [
    {
     "data": {
      "text/plain": [
       "String15"
      ]
     },
     "execution_count": 29,
     "metadata": {},
     "output_type": "execute_result"
    }
   ],
   "source": [
    "typeof(Foo(\"0123456789\").x)"
   ]
  },
  {
   "cell_type": "code",
   "execution_count": null,
   "id": "46006e67",
   "metadata": {},
   "outputs": [],
   "source": []
  },
  {
   "cell_type": "code",
   "execution_count": null,
   "id": "6c1f6f04",
   "metadata": {},
   "outputs": [],
   "source": []
  },
  {
   "cell_type": "code",
   "execution_count": null,
   "id": "8ac298ce",
   "metadata": {},
   "outputs": [],
   "source": [
    "aword(Foo(\"0123456789\"))"
   ]
  },
  {
   "cell_type": "code",
   "execution_count": 8,
   "id": "020508fd",
   "metadata": {},
   "outputs": [
    {
     "ename": "LoadError",
     "evalue": "bitcast: target type not a leaf primitive type",
     "output_type": "error",
     "traceback": [
      "bitcast: target type not a leaf primitive type",
      "",
      "Stacktrace:",
      " [1] reinterpret",
      "   @ ./essentials.jl:513 [inlined]",
      " [2] aword",
      "   @ ./In[6]:9 [inlined]",
      " [3] hash",
      "   @ ./In[6]:10 [inlined]",
      " [4] hash(x::Foo)",
      "   @ Base ./hashing.jl:28",
      " [5] top-level scope",
      "   @ In[8]:1"
     ]
    }
   ],
   "source": [
    "Base.hash(Foo(\"hello\"))"
   ]
  },
  {
   "cell_type": "code",
   "execution_count": 10,
   "id": "4c489ee3",
   "metadata": {},
   "outputs": [
    {
     "ename": "LoadError",
     "evalue": "bitcast: target type not a leaf primitive type",
     "output_type": "error",
     "traceback": [
      "bitcast: target type not a leaf primitive type",
      "",
      "Stacktrace:",
      " [1] reinterpret",
      "   @ ./essentials.jl:513 [inlined]",
      " [2] aword",
      "   @ ./In[6]:9 [inlined]",
      " [3] hash",
      "   @ ./In[6]:10 [inlined]",
      " [4] hash(x::Foo)",
      "   @ Base ./hashing.jl:28",
      " [5] top-level scope",
      "   @ In[10]:1"
     ]
    }
   ],
   "source": [
    "hash(Foo(\"hello\"))"
   ]
  },
  {
   "cell_type": "code",
   "execution_count": null,
   "id": "86c65c85",
   "metadata": {},
   "outputs": [],
   "source": []
  },
  {
   "cell_type": "code",
   "execution_count": null,
   "id": "a42951e1",
   "metadata": {},
   "outputs": [],
   "source": []
  },
  {
   "cell_type": "code",
   "execution_count": null,
   "id": "40ede3c8",
   "metadata": {},
   "outputs": [],
   "source": []
  },
  {
   "cell_type": "code",
   "execution_count": null,
   "id": "9851377f",
   "metadata": {},
   "outputs": [],
   "source": [
    "json_source = \"/Users/dbuchaca/Datasets/amazon_product_data/Home_and_Kitchen_5.json\"\n",
    "#asins = [String15(x[\"asin\"]) for x in JSON.parse.(readlines(open(json_source)))]\n",
    "asins = [x[\"asin\"] for x in JSON.parse.(readlines(open(json_source)))]\n",
    "\n",
    "\n",
    "# Make the dataset bigger for benchmarking purposes\n",
    "for i in 1:9\n",
    "    append!(asins, asins)\n",
    "end"
   ]
  },
  {
   "cell_type": "code",
   "execution_count": null,
   "id": "f2552f36",
   "metadata": {},
   "outputs": [],
   "source": [
    "length(asins)"
   ]
  },
  {
   "cell_type": "code",
   "execution_count": null,
   "id": "78cd7185",
   "metadata": {},
   "outputs": [],
   "source": [
    "asins"
   ]
  },
  {
   "cell_type": "code",
   "execution_count": null,
   "id": "b775ab5c",
   "metadata": {},
   "outputs": [],
   "source": [
    "json_source = \"/Users/dbuchaca/Datasets/amazon_product_data/Video_Games_5.json\"\n",
    "blocklist = [x[\"asin\"] for x in JSON.parse.(readlines(open(json_source)))];\n",
    "length(blocklist)"
   ]
  },
  {
   "cell_type": "code",
   "execution_count": null,
   "id": "6ab423b9",
   "metadata": {},
   "outputs": [],
   "source": [
    "function check_list_in_blocklist(list, blocklist)\n",
    "    blocklist_set = Set{String}(blocklist)\n",
    "    result = Array{String}([])\n",
    "    for l in list\n",
    "        if l in blocklist_set\n",
    "            push!(result,l)\n",
    "        end\n",
    "    end\n",
    "    return result\n",
    "end\n",
    "\n",
    "asins_str = asins\n",
    "blocklist_str = blocklist"
   ]
  },
  {
   "cell_type": "code",
   "execution_count": null,
   "id": "11afb866",
   "metadata": {},
   "outputs": [],
   "source": [
    "@time check_list_in_blocklist(asins_str, blocklist_str)"
   ]
  },
  {
   "cell_type": "code",
   "execution_count": null,
   "id": "f7b2bb00",
   "metadata": {},
   "outputs": [],
   "source": [
    "@btime check_list_in_blocklist(asins_str, blocklist_str)"
   ]
  },
  {
   "cell_type": "code",
   "execution_count": null,
   "id": "d740508e",
   "metadata": {},
   "outputs": [],
   "source": [
    "function check_list_in_blocklist2(list, blocklist)\n",
    "    blocklist_set = Set{InlineString15}(blocklist)\n",
    "    result = Array{InlineString15}([])\n",
    "    for l in list\n",
    "        if l in blocklist_set\n",
    "            push!(result,l)\n",
    "        end\n",
    "    end\n",
    "    return result\n",
    "end\n",
    "\n",
    "asins_s15 = InlineString15.(asins)\n",
    "asins2_s15 = InlineString15.(blocklist);\n",
    "\n",
    "@btime check_list_in_blocklist2(asins_s15,asins2_s15)"
   ]
  },
  {
   "cell_type": "code",
   "execution_count": null,
   "id": "2f771680",
   "metadata": {},
   "outputs": [],
   "source": [
    "function check_list_in_blocklistset(list, blocklist_set)\n",
    "    result = Array{InlineString15}([])\n",
    "    for l in list\n",
    "        if l in blocklist_set\n",
    "            push!(result,l)\n",
    "        end\n",
    "    end\n",
    "    return result\n",
    "end"
   ]
  },
  {
   "cell_type": "code",
   "execution_count": 121,
   "id": "08783a6a",
   "metadata": {},
   "outputs": [
    {
     "ename": "LoadError",
     "evalue": "UndefVarError: `asins` not defined",
     "output_type": "error",
     "traceback": [
      "UndefVarError: `asins` not defined",
      "",
      "Stacktrace:",
      " [1] top-level scope",
      "   @ In[121]:1"
     ]
    }
   ],
   "source": [
    "asins_s15 = InlineString15.(asins)\n",
    "blocklist_set = Set{InlineString15}(blocklist);\n",
    "\n",
    "@btime check_list_in_blocklistset(asins_s15,blocklist_set)"
   ]
  },
  {
   "cell_type": "code",
   "execution_count": null,
   "id": "7f430753",
   "metadata": {},
   "outputs": [],
   "source": []
  },
  {
   "cell_type": "code",
   "execution_count": null,
   "id": "02ebf22f",
   "metadata": {},
   "outputs": [],
   "source": []
  },
  {
   "cell_type": "code",
   "execution_count": null,
   "id": "299ee318",
   "metadata": {},
   "outputs": [],
   "source": []
  },
  {
   "cell_type": "code",
   "execution_count": null,
   "id": "97634342",
   "metadata": {},
   "outputs": [],
   "source": []
  },
  {
   "cell_type": "code",
   "execution_count": null,
   "id": "64306381",
   "metadata": {},
   "outputs": [],
   "source": []
  },
  {
   "cell_type": "code",
   "execution_count": null,
   "id": "dcf8dc5c",
   "metadata": {},
   "outputs": [],
   "source": [
    "@code_llvm asins_s15[1] == asins_s15[2]"
   ]
  },
  {
   "cell_type": "code",
   "execution_count": null,
   "id": "c800bb61",
   "metadata": {},
   "outputs": [],
   "source": [
    "@code_native asins_s15[1] == asins_s15[2]"
   ]
  },
  {
   "cell_type": "code",
   "execution_count": null,
   "id": "b9842616",
   "metadata": {},
   "outputs": [],
   "source": []
  },
  {
   "cell_type": "code",
   "execution_count": null,
   "id": "fdb27625",
   "metadata": {},
   "outputs": [],
   "source": []
  },
  {
   "cell_type": "code",
   "execution_count": null,
   "id": "97b0d401",
   "metadata": {},
   "outputs": [],
   "source": []
  },
  {
   "cell_type": "code",
   "execution_count": null,
   "id": "d1d7a36c",
   "metadata": {},
   "outputs": [],
   "source": []
  },
  {
   "cell_type": "code",
   "execution_count": null,
   "id": "9744d1f7",
   "metadata": {},
   "outputs": [],
   "source": [
    "using InlineStrings\n",
    "\n",
    "struct Foo\n",
    "    x::InlineString15\n",
    "end\n",
    "\n",
    "aword(x::Foo) = first(reinterpret(Tuple{UInt64,UInt64}, x))\n",
    "Base.hash(x::Foo, h::UInt64) = hash(aword(x),h)\n",
    "Base.:(==)(x::Foo, y::Foo) = x.x == y.x"
   ]
  },
  {
   "cell_type": "code",
   "execution_count": null,
   "id": "b5731b88",
   "metadata": {
    "scrolled": true
   },
   "outputs": [],
   "source": [
    "blocklist_set = Set{Foo}([Foo(\"a\"),Foo(\"b\")])"
   ]
  },
  {
   "cell_type": "code",
   "execution_count": null,
   "id": "6363df0f",
   "metadata": {},
   "outputs": [],
   "source": [
    "Foo(x ::InlineString15) = reinterpret(Foo, x)\n",
    "Foo(x ::Foo) = reinterpret(InlineString15, x)"
   ]
  },
  {
   "cell_type": "code",
   "execution_count": null,
   "id": "3a2239df",
   "metadata": {},
   "outputs": [],
   "source": [
    "using InlineStrings\n",
    "\n",
    "struct ASCII10\n",
    "    x::InlineString\n",
    "end\n",
    "\n",
    "aword(x::ASCII10) = first(reinterpret(Tuple{UInt64,UInt64}, x))\n",
    "Base.hash(x::ASCII10, h::UInt64) = hash(aword(x),h)\n",
    "Base.:(==)(x::ASCII10, y::ASCII10) = x.x == y.x"
   ]
  },
  {
   "cell_type": "code",
   "execution_count": null,
   "id": "524ed14d",
   "metadata": {
    "scrolled": true
   },
   "outputs": [],
   "source": [
    "blocklist_set = Set{ASCII10}([ASCII10(\"asdasda\"),ASCII10(\"basdasd\")])"
   ]
  },
  {
   "cell_type": "code",
   "execution_count": null,
   "id": "e8cd9456",
   "metadata": {},
   "outputs": [],
   "source": []
  },
  {
   "cell_type": "code",
   "execution_count": null,
   "id": "8f6c8ffb",
   "metadata": {},
   "outputs": [],
   "source": []
  },
  {
   "cell_type": "code",
   "execution_count": null,
   "id": "bca56697",
   "metadata": {},
   "outputs": [],
   "source": []
  },
  {
   "cell_type": "code",
   "execution_count": null,
   "id": "5df76971",
   "metadata": {},
   "outputs": [],
   "source": []
  },
  {
   "cell_type": "code",
   "execution_count": null,
   "id": "569a463f",
   "metadata": {},
   "outputs": [],
   "source": []
  },
  {
   "cell_type": "code",
   "execution_count": null,
   "id": "c3f42551",
   "metadata": {},
   "outputs": [],
   "source": [
    "\n",
    "blocklist_set = Set{Foo}([Foo(\"a\"),Foo(\"b\")])"
   ]
  },
  {
   "cell_type": "code",
   "execution_count": null,
   "id": "e89b5b6d",
   "metadata": {},
   "outputs": [],
   "source": [
    "x = Foo(\"a\")\n",
    "reinterpret(x)"
   ]
  },
  {
   "cell_type": "code",
   "execution_count": null,
   "id": "324e5cea",
   "metadata": {},
   "outputs": [],
   "source": []
  },
  {
   "cell_type": "code",
   "execution_count": null,
   "id": "2572ead3",
   "metadata": {},
   "outputs": [],
   "source": []
  },
  {
   "cell_type": "code",
   "execution_count": null,
   "id": "31a6adca",
   "metadata": {},
   "outputs": [],
   "source": [
    "struct Foo2\n",
    "    x::Float64\n",
    "end\n",
    "blocklist_set = Set{Foo2}([Foo2(32.),Foo2(32.2)])"
   ]
  },
  {
   "cell_type": "code",
   "execution_count": null,
   "id": "2cd75e0f",
   "metadata": {},
   "outputs": [],
   "source": [
    "using InlineStrings\n",
    "struct Foo\n",
    "    x::InlineString15\n",
    "end\n",
    "blocklist_set = Set{Foo}([Foo(\"house\"),Foo(\"hause\")])"
   ]
  },
  {
   "cell_type": "code",
   "execution_count": null,
   "id": "3c3e018d",
   "metadata": {},
   "outputs": [],
   "source": []
  },
  {
   "cell_type": "code",
   "execution_count": null,
   "id": "b49d3d3e",
   "metadata": {},
   "outputs": [],
   "source": [
    "blocklist_set = Set([[\"house\"],[\"hause\"]])"
   ]
  },
  {
   "cell_type": "code",
   "execution_count": null,
   "id": "d1216b94",
   "metadata": {},
   "outputs": [],
   "source": [
    "Foo(\"house\")"
   ]
  },
  {
   "cell_type": "code",
   "execution_count": null,
   "id": "51f521ea",
   "metadata": {},
   "outputs": [],
   "source": [
    "jl_bitcast"
   ]
  },
  {
   "cell_type": "code",
   "execution_count": null,
   "id": "e938989d",
   "metadata": {},
   "outputs": [],
   "source": []
  },
  {
   "cell_type": "code",
   "execution_count": null,
   "id": "d45cda23",
   "metadata": {},
   "outputs": [],
   "source": [
    "using InlineStrings\n",
    "struct Foo3\n",
    "    x::InlineString\n",
    "end\n",
    "blocklist_set = Set{Foo3}([Foo3(\"house\"),Foo3(\"hause\")])"
   ]
  },
  {
   "cell_type": "code",
   "execution_count": null,
   "id": "24854753",
   "metadata": {},
   "outputs": [],
   "source": [
    "typeof(InlineString)"
   ]
  },
  {
   "cell_type": "code",
   "execution_count": null,
   "id": "15bba42f",
   "metadata": {},
   "outputs": [],
   "source": [
    "typeof(Float64)"
   ]
  },
  {
   "cell_type": "code",
   "execution_count": null,
   "id": "50a41a98",
   "metadata": {},
   "outputs": [],
   "source": []
  },
  {
   "cell_type": "code",
   "execution_count": null,
   "id": "bc6dd298",
   "metadata": {},
   "outputs": [],
   "source": []
  },
  {
   "cell_type": "code",
   "execution_count": null,
   "id": "45c3979d",
   "metadata": {},
   "outputs": [],
   "source": []
  },
  {
   "cell_type": "code",
   "execution_count": null,
   "id": "13b09503",
   "metadata": {},
   "outputs": [],
   "source": []
  },
  {
   "cell_type": "code",
   "execution_count": null,
   "id": "d3410ea9",
   "metadata": {},
   "outputs": [],
   "source": [
    "function check_list_in_blocklist(list, blocklist)\n",
    "    blocklist_set = Set{String15}(blocklist)\n",
    "    result = Array{Foo}([])\n",
    "    for l in list\n",
    "        if l in blocklist_set\n",
    "            push!(result,l)\n",
    "        end\n",
    "    end\n",
    "    return result\n",
    "end"
   ]
  },
  {
   "cell_type": "code",
   "execution_count": null,
   "id": "94ae04bf",
   "metadata": {},
   "outputs": [],
   "source": [
    "asins_Foo = Foo.(asins)\n",
    "blocklist_Foo = Foo.(blocklist);\n",
    "#@btime check_list_in_blocklist2(asins_s15,asins2_s15)"
   ]
  },
  {
   "cell_type": "code",
   "execution_count": null,
   "id": "0dde2e83",
   "metadata": {},
   "outputs": [],
   "source": [
    "blocklist_Foo[1]"
   ]
  },
  {
   "cell_type": "code",
   "execution_count": null,
   "id": "e0509c72",
   "metadata": {
    "scrolled": false
   },
   "outputs": [],
   "source": [
    "blocklist_set = Set{String15}([\"a\",\"b\"])"
   ]
  },
  {
   "cell_type": "code",
   "execution_count": null,
   "id": "316c6959",
   "metadata": {},
   "outputs": [],
   "source": [
    "blocklist_set = Set{Foo}([\"a\",\"b\"])"
   ]
  },
  {
   "cell_type": "code",
   "execution_count": null,
   "id": "5028a7ab",
   "metadata": {},
   "outputs": [],
   "source": []
  },
  {
   "cell_type": "code",
   "execution_count": null,
   "id": "00b47ecf",
   "metadata": {},
   "outputs": [],
   "source": [
    "Set{Foo}()"
   ]
  },
  {
   "cell_type": "code",
   "execution_count": null,
   "id": "20d0baeb",
   "metadata": {},
   "outputs": [],
   "source": []
  },
  {
   "cell_type": "code",
   "execution_count": null,
   "id": "5a1437a8",
   "metadata": {},
   "outputs": [],
   "source": []
  },
  {
   "cell_type": "code",
   "execution_count": null,
   "id": "6fb39e78",
   "metadata": {},
   "outputs": [],
   "source": [
    "blocklist_set = Set{Foo}(blocklist_Foo)"
   ]
  },
  {
   "cell_type": "code",
   "execution_count": null,
   "id": "8bdcf4e2",
   "metadata": {},
   "outputs": [],
   "source": []
  }
 ],
 "metadata": {
  "kernelspec": {
   "display_name": "Julia 1.9.0-beta3",
   "language": "julia",
   "name": "julia-1.9"
  },
  "language_info": {
   "file_extension": ".jl",
   "mimetype": "application/julia",
   "name": "julia",
   "version": "1.9.0"
  }
 },
 "nbformat": 4,
 "nbformat_minor": 5
}
