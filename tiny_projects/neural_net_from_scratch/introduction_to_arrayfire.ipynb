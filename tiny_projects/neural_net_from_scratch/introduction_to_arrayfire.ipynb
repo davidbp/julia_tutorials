{
 "cells": [
  {
   "cell_type": "markdown",
   "metadata": {},
   "source": [
    "# ArrayFire"
   ]
  },
  {
   "cell_type": "code",
   "execution_count": 1,
   "metadata": {
    "collapsed": true
   },
   "outputs": [],
   "source": [
    "using ArrayFire\n",
    "using BenchmarkTools"
   ]
  },
  {
   "cell_type": "code",
   "execution_count": 2,
   "metadata": {
    "collapsed": false
   },
   "outputs": [
    {
     "name": "stdout",
     "output_type": "stream",
     "text": [
      "CPU and OpenCL\n"
     ]
    }
   ],
   "source": [
    "getAvailableBackends()"
   ]
  },
  {
   "cell_type": "code",
   "execution_count": 3,
   "metadata": {
    "collapsed": false
   },
   "outputs": [
    {
     "name": "stdout",
     "output_type": "stream",
     "text": [
      "ArrayFire v3.3.2 (OpenCL, 64-bit Mac OSX, build f65dd97)\n",
      "[0] APPLE   : AMD Radeon HD - FirePro D300 Compute Engine, 2048 MB\n",
      "-1- APPLE   : AMD Radeon HD - FirePro D300 Compute Engine, 2048 MB\n"
     ]
    }
   ],
   "source": [
    "ArrayFire.AFInfo()"
   ]
  },
  {
   "cell_type": "code",
   "execution_count": 4,
   "metadata": {
    "collapsed": false
   },
   "outputs": [
    {
     "data": {
      "text/plain": [
       "(0x00000000,0x00000001,0x00000004)"
      ]
     },
     "execution_count": 4,
     "metadata": {},
     "output_type": "execute_result"
    }
   ],
   "source": [
    "ArrayFire.AF_BACKEND_DEFAULT, ArrayFire.AF_BACKEND_CPU, ArrayFire.AF_BACKEND_OPENCL"
   ]
  },
  {
   "cell_type": "markdown",
   "metadata": {},
   "source": [
    "#### Switch backends for computations during execution:  ```setBackend``` method"
   ]
  },
  {
   "cell_type": "code",
   "execution_count": 5,
   "metadata": {
    "collapsed": false
   },
   "outputs": [
    {
     "name": "stdout",
     "output_type": "stream",
     "text": [
      "CPU Backend\n"
     ]
    }
   ],
   "source": [
    "setBackend(AF_BACKEND_CPU) #Switch back to CPU backend\n",
    "getActiveBackend()"
   ]
  },
  {
   "cell_type": "code",
   "execution_count": 6,
   "metadata": {
    "collapsed": false,
    "scrolled": false
   },
   "outputs": [
    {
     "name": "stdout",
     "output_type": "stream",
     "text": [
      "ArrayFire v3.3.2 (CPU, 64-bit Mac OSX, build f65dd97)\n",
      "[0] Unknown: Unknown, 32768 MB, Max threads(1) \n"
     ]
    }
   ],
   "source": [
    "ArrayFire.AFInfo()"
   ]
  },
  {
   "cell_type": "code",
   "execution_count": 7,
   "metadata": {
    "collapsed": false
   },
   "outputs": [
    {
     "name": "stdout",
     "output_type": "stream",
     "text": [
      "OpenCL Backend\n"
     ]
    }
   ],
   "source": [
    "setBackend(AF_BACKEND_OPENCL) #Switch to OPENCL backend\n",
    "getActiveBackend()"
   ]
  },
  {
   "cell_type": "code",
   "execution_count": 8,
   "metadata": {
    "collapsed": false
   },
   "outputs": [
    {
     "name": "stdout",
     "output_type": "stream",
     "text": [
      "ArrayFire v3.3.2 (OpenCL, 64-bit Mac OSX, build f65dd97)\n",
      "[0] APPLE   : AMD Radeon HD - FirePro D300 Compute Engine, 2048 MB\n",
      "-1- APPLE   : AMD Radeon HD - FirePro D300 Compute Engine, 2048 MB\n"
     ]
    }
   ],
   "source": [
    "ArrayFire.AFInfo()"
   ]
  },
  {
   "cell_type": "markdown",
   "metadata": {},
   "source": [
    "## Using AFArray Arrays"
   ]
  },
  {
   "cell_type": "code",
   "execution_count": 9,
   "metadata": {
    "collapsed": false
   },
   "outputs": [
    {
     "data": {
      "text/plain": [
       "1000×1000 Array{Float32,2}:\n",
       " 0.991526   0.905353   0.414237  …  0.00187583  0.487111   0.393964 \n",
       " 0.686738   0.541147   0.902407     0.975978    0.0705317  0.840541 \n",
       " 0.914216   0.507185   0.189814     0.705462    0.124437   0.254265 \n",
       " 0.618367   0.933544   0.440262     0.135589    0.0250456  0.533915 \n",
       " 0.485341   0.660695   0.10388      0.312015    0.0337241  0.116335 \n",
       " 0.820546   0.511828   0.444231  …  0.644758    0.897743   0.788075 \n",
       " 0.202777   0.744868   0.483767     0.470155    0.972139   0.450529 \n",
       " 0.559522   0.364542   0.884492     0.118107    0.165076   0.499278 \n",
       " 0.940412   0.466941   0.996051     0.162097    0.955392   0.63116  \n",
       " 0.614052   0.548663   0.674687     0.414027    0.289061   0.961085 \n",
       " 0.343558   0.400573   0.142486  …  0.0420587   0.0338375  0.713605 \n",
       " 0.838507   0.254263   0.933234     0.584956    0.506654   0.929596 \n",
       " 0.29988    0.555391   0.342497     0.130637    0.240383   0.790352 \n",
       " ⋮                               ⋱                                  \n",
       " 0.708239   0.325364   0.796467     0.954528    0.542884   0.14374  \n",
       " 0.478606   0.722786   0.897932     0.163929    0.615753   0.693486 \n",
       " 0.0349036  0.941269   0.719339  …  0.681305    0.660272   0.875423 \n",
       " 0.506374   0.0966714  0.101637     0.0341033   0.082415   0.516241 \n",
       " 0.318076   0.869562   0.150842     0.228532    0.811523   0.484056 \n",
       " 0.0587091  0.939516   0.774751     0.462465    0.351048   0.749998 \n",
       " 0.284119   0.155947   0.21592      0.476284    0.265981   0.179952 \n",
       " 0.713553   0.426014   0.839433  …  0.306368    0.584155   0.0788787\n",
       " 0.22808    0.689099   0.932166     0.872376    0.66421    0.443818 \n",
       " 0.126227   0.322523   0.581768     0.482498    0.204722   0.257329 \n",
       " 0.862472   0.172159   0.134656     0.372757    0.419355   0.041742 \n",
       " 0.331716   0.845544   0.644358     0.186515    0.523584   0.545218 "
      ]
     },
     "execution_count": 9,
     "metadata": {},
     "output_type": "execute_result"
    }
   ],
   "source": [
    "A = Array{Float32}(rand(1000,1000))"
   ]
  },
  {
   "cell_type": "code",
   "execution_count": 10,
   "metadata": {
    "collapsed": false,
    "scrolled": false
   },
   "outputs": [
    {
     "data": {
      "text/plain": [
       "1000×1000 ArrayFire.AFArray{Float32,2}:\n",
       " 0.991526   0.905353   0.414237  …  0.00187583  0.487111   0.393964 \n",
       " 0.686738   0.541147   0.902407     0.975978    0.0705317  0.840541 \n",
       " 0.914216   0.507185   0.189814     0.705462    0.124437   0.254265 \n",
       " 0.618367   0.933544   0.440262     0.135589    0.0250456  0.533915 \n",
       " 0.485341   0.660695   0.10388      0.312015    0.0337241  0.116335 \n",
       " 0.820546   0.511828   0.444231  …  0.644758    0.897743   0.788075 \n",
       " 0.202777   0.744868   0.483767     0.470155    0.972139   0.450529 \n",
       " 0.559522   0.364542   0.884492     0.118107    0.165076   0.499278 \n",
       " 0.940412   0.466941   0.996051     0.162097    0.955392   0.63116  \n",
       " 0.614052   0.548663   0.674687     0.414027    0.289061   0.961085 \n",
       " 0.343558   0.400573   0.142486  …  0.0420587   0.0338375  0.713605 \n",
       " 0.838507   0.254263   0.933234     0.584956    0.506654   0.929596 \n",
       " 0.29988    0.555391   0.342497     0.130637    0.240383   0.790352 \n",
       " ⋮                               ⋱                                  \n",
       " 0.708239   0.325364   0.796467     0.954528    0.542884   0.14374  \n",
       " 0.478606   0.722786   0.897932     0.163929    0.615753   0.693486 \n",
       " 0.0349036  0.941269   0.719339  …  0.681305    0.660272   0.875423 \n",
       " 0.506374   0.0966714  0.101637     0.0341033   0.082415   0.516241 \n",
       " 0.318076   0.869562   0.150842     0.228532    0.811523   0.484056 \n",
       " 0.0587091  0.939516   0.774751     0.462465    0.351048   0.749998 \n",
       " 0.284119   0.155947   0.21592      0.476284    0.265981   0.179952 \n",
       " 0.713553   0.426014   0.839433  …  0.306368    0.584155   0.0788787\n",
       " 0.22808    0.689099   0.932166     0.872376    0.66421    0.443818 \n",
       " 0.126227   0.322523   0.581768     0.482498    0.204722   0.257329 \n",
       " 0.862472   0.172159   0.134656     0.372757    0.419355   0.041742 \n",
       " 0.331716   0.845544   0.644358     0.186515    0.523584   0.545218 "
      ]
     },
     "execution_count": 10,
     "metadata": {},
     "output_type": "execute_result"
    }
   ],
   "source": [
    "Agpu = AFArray(A)"
   ]
  },
  {
   "cell_type": "code",
   "execution_count": 11,
   "metadata": {
    "collapsed": false,
    "scrolled": false
   },
   "outputs": [
    {
     "name": "stdout",
     "output_type": "stream",
     "text": [
      "  0.034877 seconds (9.38 k allocations: 4.189 MB, 16.35% gc time)\n"
     ]
    },
    {
     "data": {
      "text/plain": [
       "1000×1000 Array{Float32,2}:\n",
       " 247.688  242.083  244.167  243.93   …  245.74   239.54   239.448  245.992\n",
       " 250.886  252.541  247.229  242.474     246.704  241.226  249.206  249.052\n",
       " 250.833  254.152  253.98   244.952     250.773  245.19   248.663  254.309\n",
       " 245.709  249.344  243.36   244.452     251.729  237.674  246.609  252.106\n",
       " 258.94   256.044  253.564  250.503     258.55   250.522  256.52   262.778\n",
       " 254.162  254.218  249.47   241.176  …  254.408  244.913  250.947  247.674\n",
       " 254.587  253.329  254.237  248.94      251.282  242.236  252.369  255.994\n",
       " 253.114  258.378  255.489  253.147     259.558  255.118  262.077  259.47 \n",
       " 249.827  245.603  236.589  237.523     244.647  233.012  240.364  245.979\n",
       " 248.366  251.231  245.83   239.223     249.691  238.103  247.95   254.121\n",
       " 243.707  237.995  239.737  235.548  …  245.393  236.626  240.023  244.926\n",
       " 250.404  252.036  249.821  245.982     257.575  240.942  252.942  257.076\n",
       " 239.952  239.684  232.082  232.713     235.774  227.879  234.529  236.986\n",
       "   ⋮                                 ⋱                                    \n",
       " 249.343  249.949  246.88   245.077     249.753  243.743  247.452  245.875\n",
       " 246.817  247.365  246.512  240.178     248.891  236.019  246.137  243.425\n",
       " 249.063  251.626  243.673  244.299  …  252.25   241.438  249.168  255.535\n",
       " 249.342  247.655  247.434  240.227     250.263  237.805  246.923  252.408\n",
       " 253.095  261.664  253.355  254.368     257.182  251.765  250.234  259.091\n",
       " 248.875  249.793  250.354  243.637     254.859  244.27   251.418  253.021\n",
       " 251.716  250.216  252.539  247.783     249.548  237.995  246.47   256.331\n",
       " 246.562  249.895  246.575  243.843  …  247.74   244.698  248.143  252.648\n",
       " 246.674  249.111  248.245  246.227     253.088  241.29   243.143  248.336\n",
       " 243.103  251.982  251.316  255.683     250.701  247.209  251.654  254.222\n",
       " 250.481  253.217  250.019  247.642     248.433  238.576  249.121  248.657\n",
       " 258.079  252.248  251.468  244.765     257.955  247.648  256.661  254.314"
      ]
     },
     "execution_count": 11,
     "metadata": {},
     "output_type": "execute_result"
    }
   ],
   "source": [
    "@time res = Array(Agpu*Agpu)"
   ]
  },
  {
   "cell_type": "code",
   "execution_count": 12,
   "metadata": {
    "collapsed": false
   },
   "outputs": [
    {
     "name": "stdout",
     "output_type": "stream",
     "text": [
      "  0.474895 seconds (378.52 k allocations: 16.890 MB, 1.24% gc time)\n"
     ]
    }
   ],
   "source": [
    "@time res =A *A;"
   ]
  },
  {
   "cell_type": "markdown",
   "metadata": {},
   "source": [
    "#### Bring computation from the GPU to the CPU: Just Array(AFArray)"
   ]
  },
  {
   "cell_type": "code",
   "execution_count": 13,
   "metadata": {
    "collapsed": false
   },
   "outputs": [],
   "source": [
    "host_to_device = AFArray(rand(100,100));\n",
    "device_to_host = Array(host_to_device);"
   ]
  },
  {
   "cell_type": "markdown",
   "metadata": {},
   "source": [
    "# Little Example with MNIST and a softmax\n",
    "\n",
    "\n",
    "- More details about softmax http://cs231n.github.io/linear-classify/#softmax\n",
    "- http://cs231n.github.io/neural-networks-case-study/"
   ]
  },
  {
   "cell_type": "code",
   "execution_count": 14,
   "metadata": {
    "collapsed": true
   },
   "outputs": [],
   "source": [
    "using MNIST"
   ]
  },
  {
   "cell_type": "code",
   "execution_count": 15,
   "metadata": {
    "collapsed": true
   },
   "outputs": [],
   "source": [
    "X_train, y_train = MNIST.traindata()\n",
    "X_test, y_test = MNIST.testdata()\n",
    "n_features = size(X_train)[1]\n",
    "\n",
    "T = Float32\n",
    "X_train = Array{T}( (X_train - minimum(X_train))/(maximum(X_train) - minimum(X_train)) )\n",
    "y_train = Array{Int32}(y_train) + 1\n",
    "X_test = Array{T}(X_test - minimum(X_test))/(maximum(X_test) - minimum(X_test)) \n",
    "y_test = Array{Int32}(y_test) + 1 ;"
   ]
  },
  {
   "cell_type": "code",
   "execution_count": 16,
   "metadata": {
    "collapsed": false
   },
   "outputs": [
    {
     "data": {
      "text/plain": [
       "784"
      ]
     },
     "execution_count": 16,
     "metadata": {},
     "output_type": "execute_result"
    }
   ],
   "source": [
    "n_features"
   ]
  },
  {
   "cell_type": "code",
   "execution_count": 17,
   "metadata": {
    "collapsed": true
   },
   "outputs": [],
   "source": [
    "g_X_train = AFArray(X_train)\n",
    "g_y_train = AFArray(y_train)\n",
    "g_X_test = AFArray(X_test)\n",
    "g_y_test = AFArray(y_test);"
   ]
  },
  {
   "cell_type": "code",
   "execution_count": 18,
   "metadata": {
    "collapsed": false
   },
   "outputs": [],
   "source": [
    "type Softmax\n",
    "    W\n",
    "    b\n",
    "end"
   ]
  },
  {
   "cell_type": "code",
   "execution_count": 19,
   "metadata": {
    "collapsed": false
   },
   "outputs": [
    {
     "data": {
      "text/plain": [
       "Softmax(Float32[0.118046 -0.0414824 … -0.123881 0.0902521; -0.0550601 0.144616 … 0.0101098 0.105457; … ; -0.0110981 -0.0705758 … 0.00348977 -0.0848718; 0.160865 -0.0399483 … -0.0365819 0.0367972],Float32[0.0,0.0,0.0,0.0,0.0,0.0,0.0,0.0,0.0,0.0])"
      ]
     },
     "execution_count": 19,
     "metadata": {},
     "output_type": "execute_result"
    }
   ],
   "source": [
    "batch_size = 500\n",
    "n_classes = 10\n",
    "\n",
    "W = Array{T}(randn(n_classes, n_features)/10);\n",
    "b =  Array{T}(zeros(n_classes))\n",
    "\n",
    "g_W = AFArray(W)\n",
    "g_b = AFArray(b);\n",
    "\n",
    "s = Softmax(g_W,g_b)"
   ]
  },
  {
   "cell_type": "code",
   "execution_count": 20,
   "metadata": {
    "collapsed": false
   },
   "outputs": [
    {
     "data": {
      "text/plain": [
       "score (generic function with 1 method)"
      ]
     },
     "execution_count": 20,
     "metadata": {},
     "output_type": "execute_result"
    }
   ],
   "source": [
    "function score(s::Softmax, minibatch )\n",
    "    return s.W * minibatch .+ s.b\n",
    "end"
   ]
  },
  {
   "cell_type": "code",
   "execution_count": 21,
   "metadata": {
    "collapsed": false
   },
   "outputs": [
    {
     "data": {
      "text/plain": [
       "probability (generic function with 1 method)"
      ]
     },
     "execution_count": 21,
     "metadata": {},
     "output_type": "execute_result"
    }
   ],
   "source": [
    "function probability(scores)\n",
    "    return exp.(scores) ./ sum( exp.(scores), 2)\n",
    "end"
   ]
  },
  {
   "cell_type": "code",
   "execution_count": 22,
   "metadata": {
    "collapsed": false
   },
   "outputs": [
    {
     "data": {
      "text/plain": [
       "25"
      ]
     },
     "execution_count": 22,
     "metadata": {},
     "output_type": "execute_result"
    }
   ],
   "source": [
    "batch_size = 25"
   ]
  },
  {
   "cell_type": "code",
   "execution_count": 23,
   "metadata": {
    "collapsed": false
   },
   "outputs": [],
   "source": [
    "X_minibatch = g_X_train[:,1:batch_size]\n",
    "y_minibatch = g_y_train[1:batch_size];"
   ]
  },
  {
   "cell_type": "code",
   "execution_count": 24,
   "metadata": {
    "collapsed": false,
    "scrolled": true
   },
   "outputs": [
    {
     "data": {
      "text/plain": [
       "10×25 ArrayFire.AFArray{Float32,2}:\n",
       " -1.54075    -0.455529   0.0298911  …  -1.5243     -0.2878     -0.745876\n",
       "  0.0564713  -0.635052   0.856473      -0.730749   -0.62796    -0.642135\n",
       "  1.18439     1.13053    0.455516      -0.104623   -1.1595      0.754017\n",
       "  0.176526    1.07941   -0.0772081      0.137638   -0.175537   -0.232986\n",
       "  0.785931    0.513322  -0.982625      -0.55731    -0.247772    0.760794\n",
       "  1.60452    -0.504355  -0.75444    …   0.638736   -0.609212    1.02341 \n",
       "  0.377698    0.175181   0.367915       0.37969     0.899522    1.03421 \n",
       " -1.1851     -1.68758   -0.371822      -0.842797   -0.188103   -0.452986\n",
       " -0.327628    0.326841   0.591464      -0.414518    0.443976   -0.2453  \n",
       "  0.305432   -0.464481  -0.714248      -0.0383462   0.0561763   0.872214"
      ]
     },
     "execution_count": 24,
     "metadata": {},
     "output_type": "execute_result"
    }
   ],
   "source": [
    "sc = score(s, X_minibatch)"
   ]
  },
  {
   "cell_type": "code",
   "execution_count": 25,
   "metadata": {
    "collapsed": false,
    "scrolled": true
   },
   "outputs": [
    {
     "data": {
      "text/plain": [
       "10×25 ArrayFire.AFArray{Float32,2}:\n",
       " 0.0162     0.0479534  0.0779174  …  0.0164687  0.0567104   0.0358693\n",
       " 0.0486159  0.0243475  0.108197      0.0221255  0.0245207   0.0241756\n",
       " 0.0915028  0.0867048  0.0441455     0.0252128  0.00877998  0.059501 \n",
       " 0.0236964  0.0584522  0.018386      0.0227926  0.0166641   0.0157338\n",
       " 0.0851088  0.064801   0.0145178     0.0222133  0.0302721   0.0829961\n",
       " 0.107603   0.0130602  0.0101705  …  0.0409628  0.0117601   0.06018  \n",
       " 0.0361699  0.029539   0.0358178     0.0362421  0.0609499   0.0697377\n",
       " 0.0186809  0.0113024  0.0421308     0.0263062  0.0506277   0.0388464\n",
       " 0.0381182  0.073344   0.0955628     0.0349459  0.0824585   0.0413892\n",
       " 0.0425714  0.0197128  0.0153559     0.0301868  0.0331793   0.0750357"
      ]
     },
     "execution_count": 25,
     "metadata": {},
     "output_type": "execute_result"
    }
   ],
   "source": [
    "probs = probability(sc)"
   ]
  },
  {
   "cell_type": "markdown",
   "metadata": {},
   "source": [
    "We now have an array probs where each col now contains the class probabilities.\n",
    "\n",
    "In particular, since we’ve normalized them every row now sums to one. We can now query for the log probabilities assigned to the correct classes in each example:\n",
    "\n",
    "    [probs[i,j] for (i,j) in zip(minibatch_true_classes,minibatch_indicies)]"
   ]
  },
  {
   "cell_type": "code",
   "execution_count": 26,
   "metadata": {
    "collapsed": false,
    "scrolled": true
   },
   "outputs": [
    {
     "data": {
      "text/plain": [
       "10×4 ArrayFire.AFArray{Float32,2}:\n",
       " 0.0162     0.0479534  0.0779174  0.0486526 \n",
       " 0.0486159  0.0243475  0.108197   0.0271717 \n",
       " 0.0915028  0.0867048  0.0441455  0.00735118\n",
       " 0.0236964  0.0584522  0.018386   0.0161423 \n",
       " 0.0851088  0.064801   0.0145178  0.0254832 \n",
       " 0.107603   0.0130602  0.0101705  0.0134755 \n",
       " 0.0361699  0.029539   0.0358178  0.0468475 \n",
       " 0.0186809  0.0113024  0.0421308  0.0643172 \n",
       " 0.0381182  0.073344   0.0955628  0.0867942 \n",
       " 0.0425714  0.0197128  0.0153559  0.0391515 "
      ]
     },
     "execution_count": 26,
     "metadata": {},
     "output_type": "execute_result"
    }
   ],
   "source": [
    "probs[:,1:4]"
   ]
  },
  {
   "cell_type": "code",
   "execution_count": 27,
   "metadata": {
    "collapsed": false
   },
   "outputs": [
    {
     "data": {
      "text/plain": [
       "4-element Array{Int32,1}:\n",
       " 6\n",
       " 1\n",
       " 5\n",
       " 2"
      ]
     },
     "execution_count": 27,
     "metadata": {},
     "output_type": "execute_result"
    }
   ],
   "source": [
    "y_train[1:4]"
   ]
  },
  {
   "cell_type": "code",
   "execution_count": 28,
   "metadata": {
    "collapsed": false
   },
   "outputs": [
    {
     "data": {
      "text/plain": [
       "4-element Array{Float32,1}:\n",
       " 0.107603 \n",
       " 0.0479534\n",
       " 0.0145178\n",
       " 0.0271717"
      ]
     },
     "execution_count": 28,
     "metadata": {},
     "output_type": "execute_result"
    }
   ],
   "source": [
    "[probs[i,j] for (i,j) in zip(y_train[1:4],1:4)]"
   ]
  },
  {
   "cell_type": "markdown",
   "metadata": {},
   "source": [
    "- The array correct_logprobs is a Vector of just the probabilities assigned to the correct classes for each example.\n",
    "\n",
    "- The full loss is then the average of these log probabilities and the regularization loss:\n",
    "\n"
   ]
  },
  {
   "cell_type": "code",
   "execution_count": 29,
   "metadata": {
    "collapsed": false
   },
   "outputs": [
    {
     "data": {
      "text/plain": [
       "3.6681707f0"
      ]
     },
     "execution_count": 29,
     "metadata": {},
     "output_type": "execute_result"
    }
   ],
   "source": [
    "logprobs_correct_classes = [-log(probs[i,j]) for (i,j) in zip(y_minibatch, 1:length(y_minibatch))]\n",
    "data_loss = sum(logprobs_correct_classes)/length(logprobs_correct_classes)"
   ]
  },
  {
   "cell_type": "markdown",
   "metadata": {},
   "source": [
    "#### Gradient of the loss"
   ]
  },
  {
   "cell_type": "code",
   "execution_count": 30,
   "metadata": {
    "collapsed": false
   },
   "outputs": [],
   "source": [
    "n_classes = 10\n",
    "indicies_to_modify = [ y + n_classes*(i-1) for (i,y) in enumerate(y_minibatch)];"
   ]
  },
  {
   "cell_type": "code",
   "execution_count": 31,
   "metadata": {
    "collapsed": false,
    "scrolled": true
   },
   "outputs": [
    {
     "data": {
      "text/plain": [
       "1×25 Array{Int64,2}:\n",
       " 6  11  25  32  50  53  62  74  82  95  …  187  200  205  211  230  232  242"
      ]
     },
     "execution_count": 31,
     "metadata": {},
     "output_type": "execute_result"
    }
   ],
   "source": [
    "indicies_to_modify'"
   ]
  },
  {
   "cell_type": "code",
   "execution_count": 32,
   "metadata": {
    "collapsed": false,
    "scrolled": true
   },
   "outputs": [
    {
     "data": {
      "text/plain": [
       "10×25 Array{Float32,2}:\n",
       " 0.0162     0.0479534  0.0779174  …  0.0164687  0.0567104   0.0358693\n",
       " 0.0486159  0.0243475  0.108197      0.0221255  0.0245207   0.0241756\n",
       " 0.0915028  0.0867048  0.0441455     0.0252128  0.00877998  0.059501 \n",
       " 0.0236964  0.0584522  0.018386      0.0227926  0.0166641   0.0157338\n",
       " 0.0851088  0.064801   0.0145178     0.0222133  0.0302721   0.0829961\n",
       " 0.107603   0.0130602  0.0101705  …  0.0409628  0.0117601   0.06018  \n",
       " 0.0361699  0.029539   0.0358178     0.0362421  0.0609499   0.0697377\n",
       " 0.0186809  0.0113024  0.0421308     0.0263062  0.0506277   0.0388464\n",
       " 0.0381182  0.073344   0.0955628     0.0349459  0.0824585   0.0413892\n",
       " 0.0425714  0.0197128  0.0153559     0.0301868  0.0331793   0.0750357"
      ]
     },
     "execution_count": 32,
     "metadata": {},
     "output_type": "execute_result"
    }
   ],
   "source": [
    "dscores = zeros(probs)\n",
    "dscores .= probs"
   ]
  },
  {
   "cell_type": "code",
   "execution_count": 33,
   "metadata": {
    "collapsed": false
   },
   "outputs": [
    {
     "data": {
      "text/plain": [
       "0.03586931f0"
      ]
     },
     "execution_count": 33,
     "metadata": {},
     "output_type": "execute_result"
    }
   ],
   "source": [
    "dscores[24*10+1] # first position last example"
   ]
  },
  {
   "cell_type": "code",
   "execution_count": 34,
   "metadata": {
    "collapsed": false,
    "scrolled": true
   },
   "outputs": [
    {
     "data": {
      "text/plain": [
       "0.07503572f0"
      ]
     },
     "execution_count": 34,
     "metadata": {},
     "output_type": "execute_result"
    }
   ],
   "source": [
    "dscores[10*25] # last position from last example in the array"
   ]
  },
  {
   "cell_type": "markdown",
   "metadata": {},
   "source": [
    "Go to every position to be modified (the ones with the correct class) and substract 1"
   ]
  },
  {
   "cell_type": "code",
   "execution_count": 35,
   "metadata": {
    "collapsed": false,
    "scrolled": true
   },
   "outputs": [],
   "source": [
    "dscores[indicies_to_modify] -= 1;"
   ]
  },
  {
   "cell_type": "code",
   "execution_count": 36,
   "metadata": {
    "collapsed": false,
    "scrolled": false
   },
   "outputs": [
    {
     "data": {
      "text/plain": [
       "10×25 Array{Float32,2}:\n",
       "  0.000648     -0.0380819     0.0031167    …   0.00226842    0.00143477 \n",
       "  0.00194464    0.000973898   0.00432787      -0.0390192    -0.039033   \n",
       "  0.00366011    0.00346819    0.00176582       0.000351199   0.00238004 \n",
       "  0.000947855   0.00233809    0.000735439      0.000666565   0.000629351\n",
       "  0.00340435    0.00259204   -0.0394193        0.00121089    0.00331984 \n",
       " -0.0356959     0.00052241    0.000406818  …   0.000470405   0.0024072  \n",
       "  0.0014468     0.00118156    0.00143271       0.002438      0.00278951 \n",
       "  0.000747235   0.000452097   0.00168523       0.00202511    0.00155386 \n",
       "  0.00152473    0.00293376    0.00382251       0.00329834    0.00165557 \n",
       "  0.00170285    0.000788513   0.000614238      0.00132717    0.00300143 "
      ]
     },
     "execution_count": 36,
     "metadata": {},
     "output_type": "execute_result"
    }
   ],
   "source": [
    "dscores ./= length(y_minibatch)"
   ]
  },
  {
   "cell_type": "code",
   "execution_count": 37,
   "metadata": {
    "collapsed": false
   },
   "outputs": [
    {
     "data": {
      "text/plain": [
       "((784,25),(25,10),(784,10),(10,784))"
      ]
     },
     "execution_count": 37,
     "metadata": {},
     "output_type": "execute_result"
    }
   ],
   "source": [
    "size(X_minibatch), size(dscores'), size(X_minibatch*dscores'), size(s.W)"
   ]
  },
  {
   "cell_type": "code",
   "execution_count": 38,
   "metadata": {
    "collapsed": false
   },
   "outputs": [
    {
     "data": {
      "text/plain": [
       "((10,25),(25,784))"
      ]
     },
     "execution_count": 38,
     "metadata": {},
     "output_type": "execute_result"
    }
   ],
   "source": [
    "size(dscores),size(X_minibatch')"
   ]
  },
  {
   "cell_type": "code",
   "execution_count": 39,
   "metadata": {
    "collapsed": false
   },
   "outputs": [
    {
     "data": {
      "text/plain": [
       "10-element Array{Float32,1}:\n",
       " -0.04      \n",
       " -0.2       \n",
       " -0.04      \n",
       " -0.08      \n",
       " -0.08      \n",
       " -0.04      \n",
       " -0.04      \n",
       "  1.97906f-9\n",
       " -1.86265f-9\n",
       " -0.08      "
      ]
     },
     "execution_count": 39,
     "metadata": {},
     "output_type": "execute_result"
    }
   ],
   "source": [
    "nabla_W = A_mul_Bt(dscores, X_minibatch);\n",
    "nabla_b = vec(sum(dscores,2))"
   ]
  },
  {
   "cell_type": "code",
   "execution_count": 40,
   "metadata": {
    "collapsed": false
   },
   "outputs": [
    {
     "data": {
      "text/plain": [
       "(10,784)"
      ]
     },
     "execution_count": 40,
     "metadata": {},
     "output_type": "execute_result"
    }
   ],
   "source": [
    "size(nabla_W)"
   ]
  },
  {
   "cell_type": "code",
   "execution_count": 41,
   "metadata": {
    "collapsed": false,
    "scrolled": true
   },
   "outputs": [
    {
     "data": {
      "text/plain": [
       "gradient_softmax (generic function with 1 method)"
      ]
     },
     "execution_count": 41,
     "metadata": {},
     "output_type": "execute_result"
    }
   ],
   "source": [
    "function gradient_softmax(s::Softmax, X_minibatch, y_minibatch::AbstractVector)\n",
    "    n_classes = length(s.b)\n",
    "    n_samples = length(y_minibatch)\n",
    "    \n",
    "    scores = score(s, X_minibatch)\n",
    "    probs = probability(sc)\n",
    "\n",
    "    indicies_to_modify = [y + n_classes*(i-1) for (i,y) in enumerate(y_minibatch)]\n",
    "    dscores = probs\n",
    "    dscores[indicies_to_modify] -= 1;\n",
    "    dscores ./= length(y_minibatch)\n",
    "\n",
    "    nabla_W = A_mul_Bt(dscores, X_minibatch)\n",
    "    nabla_b = vec(sum(dscores,2))    \n",
    "    return nabla_W, nabla_b, data_loss\n",
    "end"
   ]
  },
  {
   "cell_type": "code",
   "execution_count": 42,
   "metadata": {
    "collapsed": false
   },
   "outputs": [
    {
     "name": "stdout",
     "output_type": "stream",
     "text": [
      "  0.465763 seconds (340.78 k allocations: 14.867 MB, 1.15% gc time)\n"
     ]
    }
   ],
   "source": [
    "@time  gradient_softmax(s, X_minibatch, y_minibatch);"
   ]
  },
  {
   "cell_type": "code",
   "execution_count": 96,
   "metadata": {
    "collapsed": false
   },
   "outputs": [
    {
     "name": "stderr",
     "output_type": "stream",
     "text": [
      "WARNING: Method definition gradient_softmax2(Main.Softmax, AbstractArray{T<:Any, 2}, AbstractArray{T<:Any, 2}) in module Main at In[94]:2 overwritten at In[96]:2.\n"
     ]
    },
    {
     "data": {
      "text/plain": [
       "gradient_softmax2 (generic function with 1 method)"
      ]
     },
     "execution_count": 96,
     "metadata": {},
     "output_type": "execute_result"
    }
   ],
   "source": [
    "function gradient_softmax2(s::Softmax, X_minibatch::AbstractMatrix, Y_minibatch::AbstractMatrix)\n",
    "    n_classes = length(s.b)\n",
    "    n_samples = length(y_minibatch)\n",
    "    \n",
    "    probs = probability(score(s, X_minibatch))\n",
    "    dscores = probs - Y_minibatch\n",
    "\n",
    "    data_loss = -sum( Y_minibatch.*log(probs))/n_samples\n",
    "    nabla_W = A_mul_Bt(dscores, X_minibatch)/n_samples\n",
    "    nabla_b = vec(sum(dscores,2))/n_samples\n",
    "    \n",
    "    return nabla_W, nabla_b, data_loss\n",
    "end"
   ]
  },
  {
   "cell_type": "code",
   "execution_count": 44,
   "metadata": {
    "collapsed": false
   },
   "outputs": [
    {
     "data": {
      "text/plain": [
       "one_hot_encoding (generic function with 1 method)"
      ]
     },
     "execution_count": 44,
     "metadata": {},
     "output_type": "execute_result"
    }
   ],
   "source": [
    "function one_hot_encoding(y_train)\n",
    "    unique_classes = sort(unique(y_train))\n",
    "    class_to_pos = Dict(class =>pos for (pos,class) in enumerate(unique_classes))    \n",
    "    encoded_classes = zeros(length(unique_classes), length(y_train))\n",
    "    for (i,y) in enumerate(y_train)\n",
    "        encoded_classes[class_to_pos[y],i] = 1\n",
    "    end\n",
    "    return encoded_classes\n",
    "end"
   ]
  },
  {
   "cell_type": "code",
   "execution_count": 45,
   "metadata": {
    "collapsed": false
   },
   "outputs": [],
   "source": [
    "Y_train = Array{Float32}(one_hot_encoding(y_train))\n",
    "Y_train = AFArray(Y_train);"
   ]
  },
  {
   "cell_type": "code",
   "execution_count": 48,
   "metadata": {
    "collapsed": false
   },
   "outputs": [
    {
     "name": "stdout",
     "output_type": "stream",
     "text": [
      "  0.002316 seconds (161 allocations: 4.000 KB)\n"
     ]
    }
   ],
   "source": [
    "@time  gradient_softmax(s, X_minibatch, Y_train[:,1:25]);"
   ]
  },
  {
   "cell_type": "markdown",
   "metadata": {},
   "source": [
    "### Learning with the gradient"
   ]
  },
  {
   "cell_type": "code",
   "execution_count": 89,
   "metadata": {
    "collapsed": false
   },
   "outputs": [
    {
     "data": {
      "text/plain": [
       "Softmax(Float32[-0.0736793 -0.114804 … -0.0415704 -0.0521807; -0.12795 -0.0562833 … 0.0377865 -0.00850028; … ; -0.00561452 -0.0683079 … -0.0322009 -0.0155293; 0.0947887 -0.036649 … 0.0755049 0.00797631],Float32[0.0,0.0,0.0,0.0,0.0,0.0,0.0,0.0,0.0,0.0])"
      ]
     },
     "execution_count": 89,
     "metadata": {},
     "output_type": "execute_result"
    }
   ],
   "source": [
    "batch_size = 500\n",
    "n_classes = 10\n",
    "\n",
    "W = Array{T}(randn(n_classes, n_features)/10);\n",
    "b =  Array{T}(zeros(n_classes))\n",
    "\n",
    "g_W = AFArray(W)\n",
    "g_b = AFArray(b);\n",
    "\n",
    "s = Softmax(g_W,g_b)"
   ]
  },
  {
   "cell_type": "code",
   "execution_count": 99,
   "metadata": {
    "collapsed": false
   },
   "outputs": [],
   "source": [
    "X_minibatch = X_train[:,1:100]\n",
    "Y_minibatch = Y_train[:,1:100];"
   ]
  },
  {
   "cell_type": "code",
   "execution_count": 113,
   "metadata": {
    "collapsed": false
   },
   "outputs": [
    {
     "name": "stdout",
     "output_type": "stream",
     "text": [
      "  2.821758 seconds (6.03 M allocations: 109.619 MB, 0.55% gc time)\n"
     ]
    },
    {
     "data": {
      "text/plain": [
       "(\n",
       "Float32[0.0 0.0 … 0.0 0.0; 0.0 0.0 … 0.0 0.0; … ; 0.0 0.0 … 0.0 0.0; 0.0 0.0 … 0.0 0.0],\n",
       "\n",
       "Float32[-0.48,-0.52,-0.2,-0.4,-0.4,-0.16,-0.4,-0.36,-0.28,-0.4],18.843307f0)"
      ]
     },
     "execution_count": 113,
     "metadata": {},
     "output_type": "execute_result"
    }
   ],
   "source": [
    "@time gradient_softmax2(s, X_minibatch, Y_minibatch)"
   ]
  },
  {
   "cell_type": "code",
   "execution_count": 91,
   "metadata": {
    "collapsed": false
   },
   "outputs": [
    {
     "name": "stdout",
     "output_type": "stream",
     "text": [
      "\n",
      "norm(s.W): 8.846954\n",
      "loss: 19.145744\n",
      "norm(s.W): 8.846323"
     ]
    }
   ],
   "source": [
    "print(\"\\nnorm(s.W): \", norm(s.W))\n",
    "nabla_W, nabla_b, data_loss = gradient_softmax(s, X_minibatch, Y_minibatch)\n",
    "s.W .-= lr .* nabla_W\n",
    "s.b .-= lr .* nabla_b\n",
    "print(\"\\nloss: \", data_loss)\n",
    "print(\"\\nnorm(s.W): \", norm(s.W))"
   ]
  },
  {
   "cell_type": "code",
   "execution_count": null,
   "metadata": {
    "collapsed": false
   },
   "outputs": [],
   "source": [
    "print(\"\\nnorm(s.W): \", norm(s.W))\n",
    "nabla_W, nabla_b, data_loss = gradient_softmax(s, X_minibatch, Y_minibatch)\n",
    "s.W .-= lr .* nabla_W\n",
    "s.b .-= lr .* nabla_b\n",
    "print(\"\\nloss: \", data_loss)\n",
    "print(\"\\nnorm(s.W): \", norm(s.W))"
   ]
  },
  {
   "cell_type": "code",
   "execution_count": null,
   "metadata": {
    "collapsed": false
   },
   "outputs": [],
   "source": [
    "batch_size = 500\n",
    "n_classes = 10\n",
    "\n",
    "W = Array{T}(randn(n_classes, n_features)/10);\n",
    "b =  Array{T}(zeros(n_classes))\n",
    "g_W = AFArray(W)\n",
    "g_b = AFArray(b);\n",
    "s = Softmax(g_W,g_b)\n",
    "\n",
    "lr = Float32(0.05)\n",
    "print_every = 10\n",
    "n_samples = size(X_minibatch)[2]\n",
    "\n",
    "for i in 1:15\n",
    "    nabla_W, nabla_b, data_loss = gradient_softmax(s, X_minibatch, Y_minibatch)\n",
    "    s.W .-= lr .* nabla_W\n",
    "    s.b .-= lr .* nabla_b\n",
    "    print(\"\\niter: \", i , \"  loss: \", data_loss)\n",
    "end"
   ]
  },
  {
   "cell_type": "markdown",
   "metadata": {},
   "source": [
    "### ?? What's up with the cost?"
   ]
  },
  {
   "cell_type": "code",
   "execution_count": 125,
   "metadata": {
    "collapsed": false
   },
   "outputs": [
    {
     "name": "stdout",
     "output_type": "stream",
     "text": [
      "  0.000827 seconds (154 allocations: 130.156 KB)\n"
     ]
    },
    {
     "data": {
      "text/plain": [
       "(\n",
       "Float32[0.0 0.0 … 0.0 0.0; 0.0 0.0 … 0.0 0.0; … ; 0.0 0.0 … 0.0 0.0; 0.0 0.0 … 0.0 0.0],\n",
       "\n",
       "Float32[-0.8,-1.0,-0.76,-0.8,-0.8,-0.48,-0.72,-0.8,-0.56,-0.88],39.98738f0)"
      ]
     },
     "execution_count": 125,
     "metadata": {},
     "output_type": "execute_result"
    }
   ],
   "source": [
    "@time gradient_softmax(s, X_minibatch, Y_minibatch)"
   ]
  },
  {
   "cell_type": "code",
   "execution_count": 123,
   "metadata": {
    "collapsed": false
   },
   "outputs": [
    {
     "name": "stdout",
     "output_type": "stream",
     "text": [
      "\n",
      "iter: 1  loss: 45.00461\n",
      "iter: 2  loss: 44.12252\n",
      "iter: 3  loss: 43.31262\n",
      "iter: 4  loss: 42.578476\n",
      "iter: 5  loss: 41.923416\n",
      "iter: 6  loss: 41.35017\n",
      "iter: 7  loss: 40.860565\n",
      "iter: 8  loss: 40.45524\n",
      "iter: 9  loss: 40.133533\n",
      "iter: 10  loss: 39.893642\n",
      "iter: 11  loss: 39.73279\n",
      "iter: 12  loss: 39.64762\n",
      "iter: 13  loss: 39.634396\n",
      "iter: 14  loss: 39.68924\n",
      "iter: 15  loss: 39.808212"
     ]
    }
   ],
   "source": [
    "batch_size = 200\n",
    "n_classes = 10\n",
    "\n",
    "W = Array{T}(randn(n_classes, n_features)/10);\n",
    "b =  Array{T}(zeros(n_classes))\n",
    "s = Softmax(W,b)\n",
    "\n",
    "X_minibatch = X_train[:,1:batch_size]\n",
    "Y_minibatch = Array{Float32}(one_hot_encoding(y_train))[:,1:batch_size];\n",
    "\n",
    "lr = Float32(0.01)\n",
    "print_every = 10 \n",
    "n_samples = size(X_minibatch)[2]\n",
    "\n",
    "for i in 1:15\n",
    "    nabla_W, nabla_b, data_loss = gradient_softmax(s, X_minibatch, Y_minibatch)\n",
    "    s.W .-= lr .* nabla_W\n",
    "    s.b .-= lr .* nabla_b\n",
    "    print(\"\\niter: \", i , \"  loss: \", data_loss)\n",
    "end"
   ]
  },
  {
   "cell_type": "markdown",
   "metadata": {},
   "source": [
    "### Spiral data"
   ]
  },
  {
   "cell_type": "code",
   "execution_count": null,
   "metadata": {
    "collapsed": false
   },
   "outputs": [],
   "source": [
    "N = 100 # number of points per class\n",
    "D = 2 # dimensionality\n",
    "K = 3 # number of classes\n",
    "X = np.zeros((N*K,D)) # data matrix (each row = single example)\n",
    "y = np.zeros(N*K, dtype='uint8') # class labels\n",
    "\n",
    "num_examples = X.shape[0]\n",
    "\n",
    "\n",
    "for j in range(K):\n",
    "  ix = range(N*j,N*(j+1))\n",
    "  r = np.linspace(0.0,1,N) # radius\n",
    "  t = np.linspace(j*4,(j+1)*4,N) + np.random.randn(N)*0.2 # theta\n",
    "  X[ix] = np.c_[r*np.sin(t), r*np.cos(t)]\n",
    "  y[ix] = j\n",
    "end\n",
    "# lets visualize the data:\n",
    "plt.scatter(X[:, 0], X[:, 1], c=y, s=40, cmap=plt.cm.Spectral)"
   ]
  }
 ],
 "metadata": {
  "anaconda-cloud": {},
  "kernelspec": {
   "display_name": "Julia 0.5.0",
   "language": "julia",
   "name": "julia-0.5"
  },
  "language_info": {
   "file_extension": ".jl",
   "mimetype": "application/julia",
   "name": "julia",
   "version": "0.5.0"
  }
 },
 "nbformat": 4,
 "nbformat_minor": 0
}
