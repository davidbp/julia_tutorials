{
 "cells": [
  {
   "cell_type": "markdown",
   "metadata": {},
   "source": [
    "# convolution operation"
   ]
  },
  {
   "cell_type": "code",
   "execution_count": 17,
   "metadata": {},
   "outputs": [],
   "source": [
    "using PyPlot\n",
    "using BenchmarkTools\n",
    "using StaticArrays\n",
    "using MLDatasets\n",
    "using Images\n",
    "#using TestImages\n",
    "#using ImageView"
   ]
  },
  {
   "cell_type": "code",
   "execution_count": 18,
   "metadata": {
    "collapsed": true
   },
   "outputs": [],
   "source": [
    "#Pkg.add(\"TestImages\")\n",
    "#Pkg.add(\"ImageView\")"
   ]
  },
  {
   "cell_type": "code",
   "execution_count": 19,
   "metadata": {
    "collapsed": true
   },
   "outputs": [],
   "source": [
    "#img = testimage(\"mandrill\")\n",
    "#imshow(img"
   ]
  },
  {
   "cell_type": "markdown",
   "metadata": {},
   "source": [
    "### Using StaticArrays"
   ]
  },
  {
   "cell_type": "code",
   "execution_count": 20,
   "metadata": {
    "collapsed": true
   },
   "outputs": [],
   "source": [
    "using StaticArrays"
   ]
  },
  {
   "cell_type": "code",
   "execution_count": 21,
   "metadata": {},
   "outputs": [
    {
     "data": {
      "text/plain": [
       "1-element SVector{1,DataType}:\n",
       " Tuple{2,3,4}"
      ]
     },
     "execution_count": 21,
     "metadata": {},
     "output_type": "execute_result"
    }
   ],
   "source": [
    "aux = SVector(Tuple{2,3,4})"
   ]
  },
  {
   "cell_type": "code",
   "execution_count": 22,
   "metadata": {},
   "outputs": [
    {
     "data": {
      "text/plain": [
       "3-element SVector{3,Int64}:\n",
       " 3\n",
       " 4\n",
       " 2"
      ]
     },
     "execution_count": 22,
     "metadata": {},
     "output_type": "execute_result"
    }
   ],
   "source": [
    "saux = SArray{Tuple{3}}(3,4,2)"
   ]
  },
  {
   "cell_type": "code",
   "execution_count": 23,
   "metadata": {
    "collapsed": true
   },
   "outputs": [],
   "source": [
    "aux = Array([3,4,2]);"
   ]
  },
  {
   "cell_type": "code",
   "execution_count": 24,
   "metadata": {},
   "outputs": [
    {
     "data": {
      "text/plain": [
       "BenchmarkTools.Trial: \n",
       "  memory estimate:  0 bytes\n",
       "  allocs estimate:  0\n",
       "  --------------\n",
       "  minimum time:     32.404 ns (0.00% GC)\n",
       "  median time:      32.432 ns (0.00% GC)\n",
       "  mean time:        32.899 ns (0.00% GC)\n",
       "  maximum time:     102.754 ns (0.00% GC)\n",
       "  --------------\n",
       "  samples:          10000\n",
       "  evals/sample:     994"
      ]
     },
     "execution_count": 24,
     "metadata": {},
     "output_type": "execute_result"
    }
   ],
   "source": [
    "@benchmark aux' * aux"
   ]
  },
  {
   "cell_type": "code",
   "execution_count": 25,
   "metadata": {},
   "outputs": [
    {
     "data": {
      "text/plain": [
       "BenchmarkTools.Trial: \n",
       "  memory estimate:  0 bytes\n",
       "  allocs estimate:  0\n",
       "  --------------\n",
       "  minimum time:     22.612 ns (0.00% GC)\n",
       "  median time:      22.619 ns (0.00% GC)\n",
       "  mean time:        22.866 ns (0.00% GC)\n",
       "  maximum time:     77.590 ns (0.00% GC)\n",
       "  --------------\n",
       "  samples:          10000\n",
       "  evals/sample:     996"
      ]
     },
     "execution_count": 25,
     "metadata": {},
     "output_type": "execute_result"
    }
   ],
   "source": [
    "@benchmark saux' * saux"
   ]
  },
  {
   "cell_type": "code",
   "execution_count": null,
   "metadata": {
    "collapsed": true
   },
   "outputs": [],
   "source": []
  },
  {
   "cell_type": "code",
   "execution_count": 26,
   "metadata": {},
   "outputs": [
    {
     "data": {
      "text/plain": [
       "3×3 StaticArrays.SArray{Tuple{3,3},Float64,2,9}:\n",
       " 1.0  1.0  0.0\n",
       " 1.0  2.0  0.0\n",
       " 1.0  2.0  0.0"
      ]
     },
     "execution_count": 26,
     "metadata": {},
     "output_type": "execute_result"
    }
   ],
   "source": [
    "filter = SArray{Tuple{3,3},Float64,2,9}((1, 1.0, 1, 1,2,2,0,0,0))"
   ]
  },
  {
   "cell_type": "code",
   "execution_count": 27,
   "metadata": {},
   "outputs": [
    {
     "data": {
      "text/plain": [
       "3×3 Array{Float64,2}:\n",
       " 0.0  0.0  0.0\n",
       " 0.0  0.0  0.0\n",
       " 0.0  0.0  0.0"
      ]
     },
     "execution_count": 27,
     "metadata": {},
     "output_type": "execute_result"
    }
   ],
   "source": [
    "res = zeros(3,3)"
   ]
  },
  {
   "cell_type": "code",
   "execution_count": 28,
   "metadata": {},
   "outputs": [
    {
     "data": {
      "text/plain": [
       "BenchmarkTools.Trial: \n",
       "  memory estimate:  96 bytes\n",
       "  allocs estimate:  3\n",
       "  --------------\n",
       "  minimum time:     256.696 ns (0.00% GC)\n",
       "  median time:      263.558 ns (0.00% GC)\n",
       "  mean time:        287.405 ns (5.21% GC)\n",
       "  maximum time:     11.603 μs (95.35% GC)\n",
       "  --------------\n",
       "  samples:          10000\n",
       "  evals/sample:     355"
      ]
     },
     "execution_count": 28,
     "metadata": {},
     "output_type": "execute_result"
    }
   ],
   "source": [
    "@benchmark res .= filter .* filter"
   ]
  },
  {
   "cell_type": "code",
   "execution_count": 29,
   "metadata": {},
   "outputs": [
    {
     "data": {
      "text/plain": [
       "3×3 Array{Float64,2}:\n",
       " 1.0  1.0  0.0\n",
       " 1.0  2.0  0.0\n",
       " 1.0  2.0  0.0"
      ]
     },
     "execution_count": 29,
     "metadata": {},
     "output_type": "execute_result"
    }
   ],
   "source": [
    "f = [1.0  1.0  0.0\n",
    "     1.0  2.0  0.0\n",
    "     1.0  2.0  0.0]"
   ]
  },
  {
   "cell_type": "code",
   "execution_count": 30,
   "metadata": {},
   "outputs": [
    {
     "data": {
      "text/plain": [
       "BenchmarkTools.Trial: \n",
       "  memory estimate:  96 bytes\n",
       "  allocs estimate:  3\n",
       "  --------------\n",
       "  minimum time:     279.517 ns (0.00% GC)\n",
       "  median time:      285.154 ns (0.00% GC)\n",
       "  mean time:        307.022 ns (5.04% GC)\n",
       "  maximum time:     14.539 μs (95.93% GC)\n",
       "  --------------\n",
       "  samples:          10000\n",
       "  evals/sample:     292"
      ]
     },
     "execution_count": 30,
     "metadata": {},
     "output_type": "execute_result"
    }
   ],
   "source": [
    "@benchmark res .= f .* f"
   ]
  },
  {
   "cell_type": "code",
   "execution_count": 31,
   "metadata": {
    "collapsed": true
   },
   "outputs": [],
   "source": [
    "#Mfilter = SMatrix{Float64}((1, 1.0, 1, 1,2,2,0,0,0))"
   ]
  },
  {
   "cell_type": "markdown",
   "metadata": {},
   "source": [
    "#### Playing with MNIST"
   ]
  },
  {
   "cell_type": "code",
   "execution_count": 32,
   "metadata": {},
   "outputs": [
    {
     "data": {
      "text/plain": [
       "([0.0 0.0 … 0.0 0.0; 0.0 0.0 … 0.0 0.0; … ; 0.0 0.0 … 0.0 0.0; 0.0 0.0 … 0.0 0.0]\n",
       "\n",
       "[0.0 0.0 … 0.0 0.0; 0.0 0.0 … 0.0 0.0; … ; 0.0 0.0 … 0.0 0.0; 0.0 0.0 … 0.0 0.0]\n",
       "\n",
       "[0.0 0.0 … 0.0 0.0; 0.0 0.0 … 0.0 0.0; … ; 0.0 0.0 … 0.0 0.0; 0.0 0.0 … 0.0 0.0]\n",
       "\n",
       "...\n",
       "\n",
       "[0.0 0.0 … 0.0 0.0; 0.0 0.0 … 0.0 0.0; … ; 0.0 0.0 … 0.0 0.0; 0.0 0.0 … 0.0 0.0]\n",
       "\n",
       "[0.0 0.0 … 0.0 0.0; 0.0 0.0 … 0.0 0.0; … ; 0.0 0.0 … 0.0 0.0; 0.0 0.0 … 0.0 0.0]\n",
       "\n",
       "[0.0 0.0 … 0.0 0.0; 0.0 0.0 … 0.0 0.0; … ; 0.0 0.0 … 0.0 0.0; 0.0 0.0 … 0.0 0.0], [5, 0, 4, 1, 9, 2, 1, 3, 1, 4  …  9, 2, 9, 5, 1, 8, 3, 5, 6, 8])"
      ]
     },
     "execution_count": 32,
     "metadata": {},
     "output_type": "execute_result"
    }
   ],
   "source": [
    "X_train = MLDatasets.MNIST.traindata()"
   ]
  },
  {
   "cell_type": "code",
   "execution_count": 33,
   "metadata": {
    "collapsed": true
   },
   "outputs": [],
   "source": [
    "im = X_train[1][:,:,2];"
   ]
  },
  {
   "cell_type": "code",
   "execution_count": 34,
   "metadata": {},
   "outputs": [
    {
     "data": {
      "text/plain": [
       "(28, 28)"
      ]
     },
     "execution_count": 34,
     "metadata": {},
     "output_type": "execute_result"
    }
   ],
   "source": [
    "size(im)"
   ]
  },
  {
   "cell_type": "code",
   "execution_count": 35,
   "metadata": {},
   "outputs": [
    {
     "data": {
      "image/png": "[encoded data removed]",
      "text/plain": [
       "PyPlot.Figure(PyObject <matplotlib.figure.Figure object at 0x122369b90>)"
      ]
     },
     "metadata": {},
     "output_type": "display_data"
    },
    {
     "data": {
      "text/plain": [
       "PyObject <matplotlib.image.AxesImage object at 0x12c982c10>"
      ]
     },
     "execution_count": 35,
     "metadata": {},
     "output_type": "execute_result"
    }
   ],
   "source": [
    "PyPlot.imshow(im, \"gray\")"
   ]
  },
  {
   "cell_type": "code",
   "execution_count": 36,
   "metadata": {},
   "outputs": [
    {
     "data": {
      "text/plain": [
       "28×28 Array{Float64,2}:\n",
       " 0.0  0.0  0.0  0.0  0.0       0.0       …  0.0        0.0  0.0  0.0  0.0\n",
       " 0.0  0.0  0.0  0.0  0.0       0.0          0.0        0.0  0.0  0.0  0.0\n",
       " 0.0  0.0  0.0  0.0  0.0       0.0          0.0        0.0  0.0  0.0  0.0\n",
       " 0.0  0.0  0.0  0.0  0.0       0.0          0.0        0.0  0.0  0.0  0.0\n",
       " 0.0  0.0  0.0  0.0  0.0       0.0          0.0        0.0  0.0  0.0  0.0\n",
       " 0.0  0.0  0.0  0.0  0.0       0.0       …  0.0        0.0  0.0  0.0  0.0\n",
       " 0.0  0.0  0.0  0.0  0.0       0.0          0.0        0.0  0.0  0.0  0.0\n",
       " 0.0  0.0  0.0  0.0  0.0       0.0          0.0980392  0.0  0.0  0.0  0.0\n",
       " 0.0  0.0  0.0  0.0  0.0       0.0          0.501961   0.0  0.0  0.0  0.0\n",
       " 0.0  0.0  0.0  0.0  0.0       0.0          0.988235   0.0  0.0  0.0  0.0\n",
       " 0.0  0.0  0.0  0.0  0.0       0.0       …  0.992157   0.0  0.0  0.0  0.0\n",
       " 0.0  0.0  0.0  0.0  0.0       0.0          0.988235   0.0  0.0  0.0  0.0\n",
       " 0.0  0.0  0.0  0.0  0.0       0.0          0.552941   0.0  0.0  0.0  0.0\n",
       " ⋮                             ⋮         ⋱                  ⋮            \n",
       " 0.0  0.0  0.0  0.0  0.623529  0.988235     0.0        0.0  0.0  0.0  0.0\n",
       " 0.0  0.0  0.0  0.0  0.992157  0.988235     0.0        0.0  0.0  0.0  0.0\n",
       " 0.0  0.0  0.0  0.0  0.623529  0.988235     0.0        0.0  0.0  0.0  0.0\n",
       " 0.0  0.0  0.0  0.0  0.196078  0.929412     0.0        0.0  0.0  0.0  0.0\n",
       " 0.0  0.0  0.0  0.0  0.0       0.0       …  0.0        0.0  0.0  0.0  0.0\n",
       " 0.0  0.0  0.0  0.0  0.0       0.0          0.0        0.0  0.0  0.0  0.0\n",
       " 0.0  0.0  0.0  0.0  0.0       0.0          0.0        0.0  0.0  0.0  0.0\n",
       " 0.0  0.0  0.0  0.0  0.0       0.0          0.0        0.0  0.0  0.0  0.0\n",
       " 0.0  0.0  0.0  0.0  0.0       0.0          0.0        0.0  0.0  0.0  0.0\n",
       " 0.0  0.0  0.0  0.0  0.0       0.0       …  0.0        0.0  0.0  0.0  0.0\n",
       " 0.0  0.0  0.0  0.0  0.0       0.0          0.0        0.0  0.0  0.0  0.0\n",
       " 0.0  0.0  0.0  0.0  0.0       0.0          0.0        0.0  0.0  0.0  0.0"
      ]
     },
     "execution_count": 36,
     "metadata": {},
     "output_type": "execute_result"
    }
   ],
   "source": [
    "aux = im"
   ]
  },
  {
   "cell_type": "code",
   "execution_count": 37,
   "metadata": {
    "scrolled": false
   },
   "outputs": [
    {
     "data": {
      "text/plain": [
       "3×3 Array{Float64,2}:\n",
       " 1.0  0.0  0.0\n",
       " 1.0  0.0  0.0\n",
       " 1.0  0.0  0.0"
      ]
     },
     "execution_count": 37,
     "metadata": {},
     "output_type": "execute_result"
    }
   ],
   "source": [
    "filter = [ [1. 0 0];\n",
    "           [1. 0 0];\n",
    "           [1. 0 0]]"
   ]
  },
  {
   "cell_type": "code",
   "execution_count": 38,
   "metadata": {
    "scrolled": true
   },
   "outputs": [
    {
     "data": {
      "text/plain": [
       "BenchmarkTools.Trial: \n",
       "  memory estimate:  1.36 KiB\n",
       "  allocs estimate:  29\n",
       "  --------------\n",
       "  minimum time:     9.687 μs (0.00% GC)\n",
       "  median time:      10.221 μs (0.00% GC)\n",
       "  mean time:        10.359 μs (0.00% GC)\n",
       "  maximum time:     70.820 μs (0.00% GC)\n",
       "  --------------\n",
       "  samples:          10000\n",
       "  evals/sample:     1"
      ]
     },
     "execution_count": 38,
     "metadata": {},
     "output_type": "execute_result"
    }
   ],
   "source": [
    "patch = view(aux,1:3,1:3)\n",
    "\n",
    "function convolve_filter_patch(filter, patch)\n",
    "    return sum(patch .* filter)\n",
    "end\n",
    "\n",
    "@benchmark convolve_filter_patch(filter, patch)"
   ]
  },
  {
   "cell_type": "code",
   "execution_count": 39,
   "metadata": {},
   "outputs": [
    {
     "data": {
      "text/plain": [
       "0.0"
      ]
     },
     "execution_count": 39,
     "metadata": {},
     "output_type": "execute_result"
    }
   ],
   "source": [
    "convolve_filter_patch(filter, patch)"
   ]
  },
  {
   "cell_type": "markdown",
   "metadata": {},
   "source": [
    "#### Allocating memory"
   ]
  },
  {
   "cell_type": "code",
   "execution_count": 41,
   "metadata": {
    "scrolled": true
   },
   "outputs": [
    {
     "data": {
      "text/plain": [
       "BenchmarkTools.Trial: \n",
       "  memory estimate:  144 bytes\n",
       "  allocs estimate:  5\n",
       "  --------------\n",
       "  minimum time:     361.957 ns (0.00% GC)\n",
       "  median time:      372.957 ns (0.00% GC)\n",
       "  mean time:        400.176 ns (3.90% GC)\n",
       "  maximum time:     14.476 μs (94.66% GC)\n",
       "  --------------\n",
       "  samples:          10000\n",
       "  evals/sample:     209"
      ]
     },
     "execution_count": 41,
     "metadata": {},
     "output_type": "execute_result"
    }
   ],
   "source": [
    "patch = view(aux,1:3,1:3)\n",
    "filter_elementwise_patch = zeros(3,3)\n",
    "\n",
    "function convolve_filter_patch!(filter_times_patch, filter, patch)\n",
    "    filter_times_patch .= patch .* filter\n",
    "    return sum(filter_times_patch)\n",
    "end\n",
    "\n",
    "@benchmark convolve_filter_patch!(filter_elementwise_patch, filter, patch)"
   ]
  },
  {
   "cell_type": "markdown",
   "metadata": {},
   "source": [
    "\n",
    "#### Apply convolution at all possible positions\n",
    "\n",
    "Our toy image is 10 x 10, our filter is size 3.\n",
    "\n",
    "- Do not use padding: The filter can be applied at 10-filter_size\n",
    "\n",
    "We will get a feature map that is "
   ]
  },
  {
   "cell_type": "code",
   "execution_count": 43,
   "metadata": {},
   "outputs": [
    {
     "data": {
      "text/plain": [
       "BenchmarkTools.Trial: \n",
       "  memory estimate:  187.14 KiB\n",
       "  allocs estimate:  5676\n",
       "  --------------\n",
       "  minimum time:     462.420 μs (0.00% GC)\n",
       "  median time:      474.745 μs (0.00% GC)\n",
       "  mean time:        521.909 μs (6.59% GC)\n",
       "  maximum time:     5.326 ms (88.48% GC)\n",
       "  --------------\n",
       "  samples:          9545\n",
       "  evals/sample:     1"
      ]
     },
     "execution_count": 43,
     "metadata": {},
     "output_type": "execute_result"
    }
   ],
   "source": [
    "filter = [ [1. 0 0];\n",
    "           [1. 0 0];\n",
    "           [1. 0 0]]\n",
    "\n",
    "height = size(aux,1)\n",
    "width = size(aux,2)\n",
    "filter_size = size(filter,1)\n",
    "filter_size_ = filter_size - 1\n",
    "filter_elemwise_patch = zeros(filter_size, filter_size)\n",
    "output_map = zeros(height - filter_size, width - filter_size)\n",
    "\n",
    "@benchmark begin\n",
    "    for h in 1:height - filter_size\n",
    "        for w in 1:width - filter_size\n",
    "            patch = view(aux,h:(h + filter_size_),w:(w + filter_size_))\n",
    "            output_map[w,h] = convolve_filter_patch!(filter_elemwise_patch, filter, patch)\n",
    "        end\n",
    "    end\n",
    "end"
   ]
  },
  {
   "cell_type": "code",
   "execution_count": 44,
   "metadata": {},
   "outputs": [
    {
     "data": {
      "text/plain": [
       "(25, 25)"
      ]
     },
     "execution_count": 44,
     "metadata": {},
     "output_type": "execute_result"
    }
   ],
   "source": [
    "size(output_map)"
   ]
  },
  {
   "cell_type": "code",
   "execution_count": 45,
   "metadata": {},
   "outputs": [
    {
     "data": {
      "image/png": "[encoded data removed]",
      "text/plain": [
       "PyPlot.Figure(PyObject <matplotlib.figure.Figure object at 0x10f520f90>)"
      ]
     },
     "metadata": {},
     "output_type": "display_data"
    },
    {
     "data": {
      "text/plain": [
       "PyObject <matplotlib.image.AxesImage object at 0x12ff5d810>"
      ]
     },
     "execution_count": 45,
     "metadata": {},
     "output_type": "execute_result"
    },
    {
     "name": "stderr",
     "output_type": "stream",
     "text": [
      "WARNING: both Images and PyPlot export \"axes\"; uses of it in module Main must be qualified\n",
      "WARNING: both Images and PyPlot export \"gray\"; uses of it in module Main must be qualified\n"
     ]
    }
   ],
   "source": [
    "PyPlot.imshow(im, \"gray\")"
   ]
  },
  {
   "cell_type": "code",
   "execution_count": 50,
   "metadata": {},
   "outputs": [
    {
     "data": {
      "image/png": "[encoded data removed]",
      "text/plain": [
       "PyPlot.Figure(PyObject <matplotlib.figure.Figure object at 0x13526a590>)"
      ]
     },
     "metadata": {},
     "output_type": "display_data"
    },
    {
     "data": {
      "text/plain": [
       "PyObject <matplotlib.image.AxesImage object at 0x135b28a90>"
      ]
     },
     "execution_count": 50,
     "metadata": {},
     "output_type": "execute_result"
    }
   ],
   "source": [
    "PyPlot.imshow(output_map, \"gray\")"
   ]
  },
  {
   "cell_type": "markdown",
   "metadata": {},
   "source": [
    "#### try with another filter"
   ]
  },
  {
   "cell_type": "code",
   "execution_count": 51,
   "metadata": {},
   "outputs": [
    {
     "data": {
      "text/plain": [
       "6×6 Array{Float64,2}:\n",
       " 1.0  1.0  1.0  1.0  1.0  1.0\n",
       " 0.0  0.0  0.0  0.0  0.0  0.0\n",
       " 0.0  0.0  0.0  0.0  0.0  0.0\n",
       " 0.0  0.0  0.0  0.0  0.0  0.0\n",
       " 0.0  0.0  0.0  0.0  0.0  0.0\n",
       " 0.0  0.0  0.0  0.0  0.0  0.0"
      ]
     },
     "execution_count": 51,
     "metadata": {},
     "output_type": "execute_result"
    }
   ],
   "source": [
    "filter = [ 1. 1 1 1 1 1\n",
    "           0  0 0 0 0 0\n",
    "           0  0 0 0 0 0\n",
    "           0  0 0 0 0 0\n",
    "           0  0 0 0 0 0    \n",
    "           0  0 0 0 0 0]"
   ]
  },
  {
   "cell_type": "code",
   "execution_count": null,
   "metadata": {},
   "outputs": [],
   "source": [
    "height = size(aux,1)\n",
    "width = size(aux,2)\n",
    "filter_size = size(filter,1)\n",
    "filter_size_ = filter_size - 1\n",
    "filter_elemwise_patch = zeros(filter_size, filter_size)\n",
    "output_map = zeros(height - filter_size, width - filter_size)\n",
    "\n",
    "@benchmark begin\n",
    "    for h in 1:height - filter_size\n",
    "        for w in 1:width - filter_size\n",
    "            patch = view(aux,h:(h + filter_size_),w:(w + filter_size_))\n",
    "            output_map[w,h] = convolve_filter_patch!(filter_elemwise_patch, filter, patch)\n",
    "        end\n",
    "    end\n",
    "end"
   ]
  },
  {
   "cell_type": "code",
   "execution_count": null,
   "metadata": {},
   "outputs": [],
   "source": [
    "size(output_map)"
   ]
  },
  {
   "cell_type": "code",
   "execution_count": null,
   "metadata": {},
   "outputs": [],
   "source": [
    "PyPlot.imshow(im, \"gray\")"
   ]
  },
  {
   "cell_type": "code",
   "execution_count": null,
   "metadata": {
    "collapsed": true
   },
   "outputs": [],
   "source": [
    "PyPlot.imshow(output_map, \"gray\")"
   ]
  },
  {
   "cell_type": "markdown",
   "metadata": {},
   "source": [
    "#### Generating a concrete function"
   ]
  },
  {
   "cell_type": "code",
   "execution_count": 368,
   "metadata": {},
   "outputs": [
    {
     "data": {
      "text/plain": [
       "3×3 SubArray{Float64,2,Array{Float64,2},Tuple{UnitRange{Int64},UnitRange{Int64}},false}:\n",
       " 0.920668  0.145526  0.240649\n",
       " 0.715469  0.488961  0.30598 \n",
       " 0.191562  0.703797  0.942663"
      ]
     },
     "execution_count": 368,
     "metadata": {},
     "output_type": "execute_result"
    }
   ],
   "source": [
    "patch"
   ]
  },
  {
   "cell_type": "code",
   "execution_count": 369,
   "metadata": {},
   "outputs": [
    {
     "data": {
      "text/plain": [
       "convolve_filter_patch2 (generic function with 1 method)"
      ]
     },
     "execution_count": 369,
     "metadata": {},
     "output_type": "execute_result"
    }
   ],
   "source": [
    "patch = view(aux,1:3,1:3)\n",
    "\n",
    "function convolve_filter_patch2(filter, patch)\n",
    "    return patch[1,1]* filter[1,1] + patch[1,2]* filter[1,2] + patch[1,3]* filter[1,3] + \n",
    "           patch[2,1]* filter[2,1] + patch[2,2]* filter[2,2] + patch[2,3]* filter[2,3] + \n",
    "           patch[3,1]* filter[3,1] + patch[3,2]* filter[3,2] + patch[3,3]* filter[3,3] \n",
    "end"
   ]
  },
  {
   "cell_type": "code",
   "execution_count": 370,
   "metadata": {
    "scrolled": true
   },
   "outputs": [
    {
     "data": {
      "text/plain": [
       "BenchmarkTools.Trial: \n",
       "  memory estimate:  656 bytes\n",
       "  allocs estimate:  38\n",
       "  --------------\n",
       "  minimum time:     1.432 μs (0.00% GC)\n",
       "  median time:      1.670 μs (0.00% GC)\n",
       "  mean time:        1.899 μs (5.27% GC)\n",
       "  maximum time:     410.241 μs (97.83% GC)\n",
       "  --------------\n",
       "  samples:          10000\n",
       "  evals/sample:     10"
      ]
     },
     "execution_count": 370,
     "metadata": {},
     "output_type": "execute_result"
    }
   ],
   "source": [
    "patch = view(aux,1:3,1:3)\n",
    "\n",
    "@benchmark convolve_filter_patch2(filter, patch)"
   ]
  },
  {
   "cell_type": "code",
   "execution_count": 94,
   "metadata": {},
   "outputs": [
    {
     "data": {
      "text/plain": [
       "1.1928532956396172"
      ]
     },
     "execution_count": 94,
     "metadata": {},
     "output_type": "execute_result"
    }
   ],
   "source": [
    "convolve_filter_patch2(filter, patch)"
   ]
  },
  {
   "cell_type": "markdown",
   "metadata": {},
   "source": [
    "#### Float32 test"
   ]
  },
  {
   "cell_type": "code",
   "execution_count": 95,
   "metadata": {
    "collapsed": true
   },
   "outputs": [],
   "source": [
    "aux32 = Array{Float32}(aux);"
   ]
  },
  {
   "cell_type": "code",
   "execution_count": 262,
   "metadata": {},
   "outputs": [
    {
     "data": {
      "text/plain": [
       "convolve_filter_patch2 (generic function with 1 method)"
      ]
     },
     "execution_count": 262,
     "metadata": {},
     "output_type": "execute_result"
    }
   ],
   "source": [
    "patch = view(aux32,1:3,1:3)\n",
    "function convolve_filter_patch2(filter, patch)\n",
    "    return patch[1,1]* filter[1,1] + patch[1,2]* filter[1,2] + patch[1,3]* filter[1,3] + \n",
    "           patch[2,1]* filter[2,1] + patch[2,2]* filter[2,2] + patch[2,3]* filter[2,3] + \n",
    "           patch[3,1]* filter[3,1] + patch[3,2]* filter[3,2] + patch[3,3]* filter[3,3] \n",
    "end"
   ]
  },
  {
   "cell_type": "code",
   "execution_count": 263,
   "metadata": {
    "scrolled": true
   },
   "outputs": [
    {
     "data": {
      "text/plain": [
       "BenchmarkTools.Trial: \n",
       "  memory estimate:  656 bytes\n",
       "  allocs estimate:  38\n",
       "  --------------\n",
       "  minimum time:     1.468 μs (0.00% GC)\n",
       "  median time:      1.523 μs (0.00% GC)\n",
       "  mean time:        1.832 μs (4.25% GC)\n",
       "  maximum time:     282.731 μs (95.85% GC)\n",
       "  --------------\n",
       "  samples:          10000\n",
       "  evals/sample:     10"
      ]
     },
     "execution_count": 263,
     "metadata": {},
     "output_type": "execute_result"
    }
   ],
   "source": [
    "@benchmark convolve_filter_patch2(filter, patch)"
   ]
  },
  {
   "cell_type": "markdown",
   "metadata": {},
   "source": [
    "#### Fixing filter values\n",
    "\n",
    "Accessing ```filter[i,j]``` takes some time, nevetheless the filter used at all positions in the image is the same. We could make the code more efficient by generating code that contains a fixed filter.\n",
    "\n",
    "Let us write an example where for every ```i,j``` values  ```filter[i,j]``` is substituted by a float number (which could actually be the ```filter[i,j]``` value)."
   ]
  },
  {
   "cell_type": "code",
   "execution_count": 284,
   "metadata": {},
   "outputs": [
    {
     "data": {
      "text/plain": [
       "convolve_filter_patch2_fixed_filter (generic function with 2 methods)"
      ]
     },
     "execution_count": 284,
     "metadata": {},
     "output_type": "execute_result"
    }
   ],
   "source": [
    "function convolve_filter_patch2_fixed_filter(filter, patch)\n",
    "    return patch[1,1]*1.1 + patch[1,2]*1.2 + patch[1,3]*1.3 + \n",
    "           patch[2,1]*2.1 + patch[2,2]*2.2 + patch[2,3]*2.3 + \n",
    "           patch[3,1]*3.1 + patch[3,2]*3.2 + patch[3,3]*3.3\n",
    "end"
   ]
  },
  {
   "cell_type": "code",
   "execution_count": 265,
   "metadata": {},
   "outputs": [
    {
     "data": {
      "text/plain": [
       "BenchmarkTools.Trial: \n",
       "  memory estimate:  512 bytes\n",
       "  allocs estimate:  29\n",
       "  --------------\n",
       "  minimum time:     1.207 μs (0.00% GC)\n",
       "  median time:      1.260 μs (0.00% GC)\n",
       "  mean time:        1.374 μs (1.71% GC)\n",
       "  maximum time:     243.593 μs (96.26% GC)\n",
       "  --------------\n",
       "  samples:          10000\n",
       "  evals/sample:     10"
      ]
     },
     "execution_count": 265,
     "metadata": {},
     "output_type": "execute_result"
    }
   ],
   "source": [
    "@benchmark convolve_filter_patch2_fixed_filter(filter, patch)"
   ]
  },
  {
   "cell_type": "code",
   "execution_count": 273,
   "metadata": {},
   "outputs": [
    {
     "data": {
      "text/plain": [
       "BenchmarkTools.Trial: \n",
       "  memory estimate:  512 bytes\n",
       "  allocs estimate:  29\n",
       "  --------------\n",
       "  minimum time:     1.146 μs (0.00% GC)\n",
       "  median time:      1.178 μs (0.00% GC)\n",
       "  mean time:        1.236 μs (2.25% GC)\n",
       "  maximum time:     287.574 μs (96.71% GC)\n",
       "  --------------\n",
       "  samples:          10000\n",
       "  evals/sample:     10"
      ]
     },
     "execution_count": 273,
     "metadata": {},
     "output_type": "execute_result"
    }
   ],
   "source": [
    "@benchmark convolve_filter_patch2_fixed_filter(filter, patched_array)"
   ]
  },
  {
   "cell_type": "markdown",
   "metadata": {},
   "source": [
    "Where does the overhead comes from? \n",
    "\n",
    "Notice that\n",
    "\n",
    "- A bunch of float multiplications and sums is very cheap to compute"
   ]
  },
  {
   "cell_type": "code",
   "execution_count": 337,
   "metadata": {
    "scrolled": true
   },
   "outputs": [
    {
     "data": {
      "text/plain": [
       "BenchmarkTools.Trial: \n",
       "  memory estimate:  112 bytes\n",
       "  allocs estimate:  7\n",
       "  --------------\n",
       "  minimum time:     37.857 ns (0.00% GC)\n",
       "  median time:      41.977 ns (0.00% GC)\n",
       "  mean time:        57.029 ns (21.31% GC)\n",
       "  maximum time:     3.387 μs (94.10% GC)\n",
       "  --------------\n",
       "  samples:          10000\n",
       "  evals/sample:     992"
      ]
     },
     "execution_count": 337,
     "metadata": {},
     "output_type": "execute_result"
    }
   ],
   "source": [
    "@benchmark  2.*2. + 2.*3. + 2.*12. + 2*2. + 2.*3. + 2.*12. + 2.*2. + 2.*3. + 2.*12."
   ]
  },
  {
   "cell_type": "markdown",
   "metadata": {},
   "source": [
    "Accessing and summing elements from an array is much more expensive"
   ]
  },
  {
   "cell_type": "code",
   "execution_count": 319,
   "metadata": {},
   "outputs": [
    {
     "data": {
      "text/plain": [
       "BenchmarkTools.Trial: \n",
       "  memory estimate:  336 bytes\n",
       "  allocs estimate:  20\n",
       "  --------------\n",
       "  minimum time:     931.292 ns (0.00% GC)\n",
       "  median time:      964.896 ns (0.00% GC)\n",
       "  mean time:        1.147 μs (3.53% GC)\n",
       "  maximum time:     154.198 μs (96.58% GC)\n",
       "  --------------\n",
       "  samples:          10000\n",
       "  evals/sample:     24"
      ]
     },
     "execution_count": 319,
     "metadata": {},
     "output_type": "execute_result"
    }
   ],
   "source": [
    "@benchmark patch[1,1] + patch[1,2] + patch[1,3]+ \n",
    "           patch[2,1] + patch[2,2] + patch[2,3]+\n",
    "           patch[3,1] + patch[3,2] + patch[3,3] "
   ]
  },
  {
   "cell_type": "code",
   "execution_count": 321,
   "metadata": {},
   "outputs": [
    {
     "data": {
      "text/plain": [
       "BenchmarkTools.Trial: \n",
       "  memory estimate:  192 bytes\n",
       "  allocs estimate:  3\n",
       "  --------------\n",
       "  minimum time:     103.218 ns (0.00% GC)\n",
       "  median time:      111.305 ns (0.00% GC)\n",
       "  mean time:        155.676 ns (16.07% GC)\n",
       "  maximum time:     5.320 μs (93.67% GC)\n",
       "  --------------\n",
       "  samples:          10000\n",
       "  evals/sample:     940"
      ]
     },
     "execution_count": 321,
     "metadata": {},
     "output_type": "execute_result"
    }
   ],
   "source": [
    "@benchmark patch[1:3,1:3]"
   ]
  },
  {
   "cell_type": "code",
   "execution_count": 327,
   "metadata": {},
   "outputs": [
    {
     "data": {
      "text/plain": [
       "BenchmarkTools.Trial: \n",
       "  memory estimate:  2.89 KiB\n",
       "  allocs estimate:  60\n",
       "  --------------\n",
       "  minimum time:     26.850 μs (0.00% GC)\n",
       "  median time:      27.901 μs (0.00% GC)\n",
       "  mean time:        31.284 μs (1.32% GC)\n",
       "  maximum time:     4.318 ms (95.72% GC)\n",
       "  --------------\n",
       "  samples:          10000\n",
       "  evals/sample:     1"
      ]
     },
     "execution_count": 327,
     "metadata": {},
     "output_type": "execute_result"
    }
   ],
   "source": [
    "@benchmark sum(patch[1:3,1:3] .* filter)"
   ]
  },
  {
   "cell_type": "code",
   "execution_count": 333,
   "metadata": {},
   "outputs": [
    {
     "data": {
      "text/plain": [
       "BenchmarkTools.Trial: \n",
       "  memory estimate:  336 bytes\n",
       "  allocs estimate:  8\n",
       "  --------------\n",
       "  minimum time:     480.799 ns (0.00% GC)\n",
       "  median time:      800.881 ns (0.00% GC)\n",
       "  mean time:        877.103 ns (7.47% GC)\n",
       "  maximum time:     29.499 μs (94.74% GC)\n",
       "  --------------\n",
       "  samples:          10000\n",
       "  evals/sample:     194"
      ]
     },
     "execution_count": 333,
     "metadata": {},
     "output_type": "execute_result"
    }
   ],
   "source": [
    "res = zeros(3,3)\n",
    "@benchmark begin \n",
    "               res .= patch[1:3,1:3] .* filter;\n",
    "               sum(res) \n",
    "           end"
   ]
  },
  {
   "cell_type": "markdown",
   "metadata": {},
   "source": [
    "The overhead comes from accessing the information in the patch!"
   ]
  },
  {
   "cell_type": "markdown",
   "metadata": {},
   "source": [
    "### Example generated code"
   ]
  },
  {
   "cell_type": "code",
   "execution_count": 178,
   "metadata": {},
   "outputs": [
    {
     "data": {
      "text/plain": [
       "prod_dim_gen_impl (generic function with 1 method)"
      ]
     },
     "execution_count": 178,
     "metadata": {},
     "output_type": "execute_result"
    }
   ],
   "source": [
    "@generated function prod_dim_gen_impl{T, N}(x::Array{T, N})\n",
    "        ex = :(1)\n",
    "        for i = 1:N\n",
    "             ex = :(size(x, $i) * $ex)\n",
    "        end\n",
    "        return ex \n",
    "end"
   ]
  },
  {
   "cell_type": "code",
   "execution_count": 180,
   "metadata": {},
   "outputs": [
    {
     "data": {
      "text/plain": [
       "prod_dim_gen_impl (generic function with 1 method)"
      ]
     },
     "execution_count": 180,
     "metadata": {},
     "output_type": "execute_result"
    }
   ],
   "source": [
    "function prod_dim_gen_impl{T, N}(x::Array{T, N})\n",
    "    ex = :(1)\n",
    "    for i = 1:N\n",
    "        ex = :(size(x, $i) * $ex)\n",
    "    end\n",
    "    return ex \n",
    "end"
   ]
  },
  {
   "cell_type": "code",
   "execution_count": 201,
   "metadata": {},
   "outputs": [
    {
     "data": {
      "text/plain": [
       ":(size(x, 2) * (size(x, 1) * 1))"
      ]
     },
     "execution_count": 201,
     "metadata": {},
     "output_type": "execute_result"
    }
   ],
   "source": [
    "prod_dim_gen_impl(rand(2,2))"
   ]
  },
  {
   "cell_type": "code",
   "execution_count": 251,
   "metadata": {},
   "outputs": [
    {
     "data": {
      "text/plain": [
       ":(size(x, 3) * (size(x, 2) * (size(x, 1) * 1)))"
      ]
     },
     "execution_count": 251,
     "metadata": {},
     "output_type": "execute_result"
    }
   ],
   "source": [
    "exp_ = prod_dim_gen_impl(rand(2,2,24))"
   ]
  },
  {
   "cell_type": "markdown",
   "metadata": {},
   "source": [
    "#### Playing with code generation"
   ]
  },
  {
   "cell_type": "code",
   "execution_count": 211,
   "metadata": {
    "collapsed": true
   },
   "outputs": [],
   "source": [
    "x = rand(4,3)\n",
    "n = size(x,1)\n",
    "ex = :(1)\n",
    "    for i = 1:n\n",
    "        ex = :(size(x, $i) * $ex)\n",
    "    end"
   ]
  },
  {
   "cell_type": "code",
   "execution_count": 212,
   "metadata": {},
   "outputs": [
    {
     "data": {
      "text/plain": [
       ":(size(x, 4) * (size(x, 3) * (size(x, 2) * (size(x, 1) * 1))))"
      ]
     },
     "execution_count": 212,
     "metadata": {},
     "output_type": "execute_result"
    }
   ],
   "source": [
    "ex"
   ]
  },
  {
   "cell_type": "code",
   "execution_count": 213,
   "metadata": {},
   "outputs": [
    {
     "data": {
      "text/plain": [
       "1"
      ]
     },
     "execution_count": 213,
     "metadata": {},
     "output_type": "execute_result"
    }
   ],
   "source": [
    "ex = :(1)"
   ]
  },
  {
   "cell_type": "code",
   "execution_count": 248,
   "metadata": {},
   "outputs": [
    {
     "data": {
      "text/plain": [
       ":(1 * get(x, 1, 1))"
      ]
     },
     "execution_count": 248,
     "metadata": {},
     "output_type": "execute_result"
    }
   ],
   "source": [
    ":($ex * get(x,1,1))"
   ]
  },
  {
   "cell_type": "code",
   "execution_count": 249,
   "metadata": {},
   "outputs": [
    {
     "data": {
      "text/plain": [
       "0.08125716248859183"
      ]
     },
     "execution_count": 249,
     "metadata": {},
     "output_type": "execute_result"
    }
   ],
   "source": [
    "get(x,1,1)"
   ]
  },
  {
   "cell_type": "code",
   "execution_count": 250,
   "metadata": {},
   "outputs": [
    {
     "data": {
      "text/plain": [
       "0.08125716248859183"
      ]
     },
     "execution_count": 250,
     "metadata": {},
     "output_type": "execute_result"
    }
   ],
   "source": [
    "x[1,1]"
   ]
  },
  {
   "cell_type": "markdown",
   "metadata": {},
   "source": [
    "## @generated convolution function for a given filter\n",
    "\n",
    "Recall that julia can use metaprograming to build code that generates code"
   ]
  },
  {
   "cell_type": "code",
   "execution_count": 175,
   "metadata": {},
   "outputs": [
    {
     "data": {
      "text/plain": [
       "gen_convolve_filter_patch (generic function with 2 methods)"
      ]
     },
     "execution_count": 175,
     "metadata": {},
     "output_type": "execute_result"
    }
   ],
   "source": [
    "@generated function gen_convolve_filter_patch{N}(filter::Array{N}, patch::Array{N})\n",
    "    ex = :(1)\n",
    "    for i = 1:N\n",
    "        for j = 1:N\n",
    "            ex = :($filter[i,j] * patch[i,j] * $ex)\n",
    "        end\n",
    "    end\n",
    "    return ex \n",
    "end"
   ]
  },
  {
   "cell_type": "code",
   "execution_count": 171,
   "metadata": {},
   "outputs": [
    {
     "ename": "LoadError",
     "evalue": "\u001b[91mMethodError: no method matching size(::Type{SubArray{Float64,2,Array{Float64,2},Tuple{UnitRange{Int64},UnitRange{Int64}},false}}, ::Int64)\u001b[0m\nClosest candidates are:\n  size(::Any, ::Integer, \u001b[91m::Integer\u001b[39m, \u001b[91m::Integer...\u001b[39m) where N at abstractarray.jl:30\n  size(\u001b[91m::Char\u001b[39m, ::Any) at char.jl:14\n  size(\u001b[91m::BitArray{1}\u001b[39m, ::Any) at bitarray.jl:66\n  ...\u001b[39m",
     "output_type": "error",
     "traceback": [
      "\u001b[91mMethodError: no method matching size(::Type{SubArray{Float64,2,Array{Float64,2},Tuple{UnitRange{Int64},UnitRange{Int64}},false}}, ::Int64)\u001b[0m\nClosest candidates are:\n  size(::Any, ::Integer, \u001b[91m::Integer\u001b[39m, \u001b[91m::Integer...\u001b[39m) where N at abstractarray.jl:30\n  size(\u001b[91m::Char\u001b[39m, ::Any) at char.jl:14\n  size(\u001b[91m::BitArray{1}\u001b[39m, ::Any) at bitarray.jl:66\n  ...\u001b[39m",
      "",
      "Stacktrace:",
      " [1] \u001b[1mgen_convolve_filter_patch(...)\u001b[22m\u001b[22m at \u001b[1m./In[134]:3\u001b[22m\u001b[22m",
      " [2] \u001b[1minclude_string\u001b[22m\u001b[22m\u001b[1m(\u001b[22m\u001b[22m::String, ::String\u001b[1m)\u001b[22m\u001b[22m at \u001b[1m./loading.jl:515\u001b[22m\u001b[22m"
     ]
    }
   ],
   "source": [
    "gen_convolve_filter_patch(filter, patch)"
   ]
  },
  {
   "cell_type": "code",
   "execution_count": 101,
   "metadata": {},
   "outputs": [
    {
     "data": {
      "text/plain": [
       "BenchmarkTools.Trial: \n",
       "  memory estimate:  656 bytes\n",
       "  allocs estimate:  38\n",
       "  --------------\n",
       "  minimum time:     1.436 μs (0.00% GC)\n",
       "  median time:      1.478 μs (0.00% GC)\n",
       "  mean time:        1.701 μs (4.21% GC)\n",
       "  maximum time:     280.962 μs (97.14% GC)\n",
       "  --------------\n",
       "  samples:          10000\n",
       "  evals/sample:     10"
      ]
     },
     "execution_count": 101,
     "metadata": {},
     "output_type": "execute_result"
    }
   ],
   "source": [
    "@benchmark convolve_filter_patch3(filter, patch)"
   ]
  },
  {
   "cell_type": "code",
   "execution_count": null,
   "metadata": {
    "collapsed": true
   },
   "outputs": [],
   "source": []
  }
 ],
 "metadata": {
  "kernelspec": {
   "display_name": "Julia 0.6.0",
   "language": "julia",
   "name": "julia-0.6"
  },
  "language_info": {
   "file_extension": ".jl",
   "mimetype": "application/julia",
   "name": "julia",
   "version": "0.6.0"
  }
 },
 "nbformat": 4,
 "nbformat_minor": 1
}
