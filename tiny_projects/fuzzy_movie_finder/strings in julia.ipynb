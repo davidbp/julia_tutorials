{
 "cells": [
  {
   "cell_type": "markdown",
   "metadata": {},
   "source": [
    "# Strings in Julia\n",
    "\n",
    "#### About fuzzywuzy python\n",
    "\n",
    "- http://chairnerd.seatgeek.com/fuzzywuzzy-fuzzy-string-matching-in-python/\n",
    "\n",
    "####  String distances\n",
    "\n",
    "- https://github.com/matthieugomez/StringDistances.jl\n",
    "- https://journal.r-project.org/archive/2014-1/loo.pdf"
   ]
  },
  {
   "cell_type": "code",
   "execution_count": 83,
   "metadata": {
    "collapsed": false,
    "scrolled": false
   },
   "outputs": [],
   "source": [
    "using DataFrames"
   ]
  },
  {
   "cell_type": "code",
   "execution_count": 84,
   "metadata": {
    "collapsed": false
   },
   "outputs": [
    {
     "data": {
      "text/html": [
       "<table class=\"data-frame\"><thead><tr><th></th><th>movies</th><th>year</th></tr></thead><tbody><tr><th>1</th><td>1</td><td>2011</td></tr><tr><th>2</th><td>2</td><td>2001</td></tr><tr><th>3</th><td>3</td><td>2009</td></tr><tr><th>4</th><td>3</td><td>2001</td></tr></tbody></table>"
      ],
      "text/plain": [
       "4×2 DataFrames.DataFrame\n",
       "│ Row │ movies │ year │\n",
       "├─────┼────────┼──────┤\n",
       "│ 1   │ 1      │ 2011 │\n",
       "│ 2   │ 2      │ 2001 │\n",
       "│ 3   │ 3      │ 2009 │\n",
       "│ 4   │ 3      │ 2001 │"
      ]
     },
     "execution_count": 84,
     "metadata": {},
     "output_type": "execute_result"
    }
   ],
   "source": [
    "DataFrame(Dict(\"movies\"=>[1,2,3,3], \"year\"=>[2011,2001,2009,2001]))"
   ]
  },
  {
   "cell_type": "markdown",
   "metadata": {},
   "source": [
    "## StringDistances"
   ]
  },
  {
   "cell_type": "code",
   "execution_count": 85,
   "metadata": {
    "collapsed": false
   },
   "outputs": [],
   "source": [
    "using StringDistances"
   ]
  },
  {
   "cell_type": "code",
   "execution_count": 86,
   "metadata": {
    "collapsed": false
   },
   "outputs": [
    {
     "data": {
      "text/plain": [
       "0.9444444444444445"
      ]
     },
     "execution_count": 86,
     "metadata": {},
     "output_type": "execute_result"
    }
   ],
   "source": [
    "compare(Jaro(), \"martha\", \"marhta\")"
   ]
  },
  {
   "cell_type": "code",
   "execution_count": 87,
   "metadata": {
    "collapsed": false
   },
   "outputs": [
    {
     "data": {
      "text/plain": [
       "0.9611111111111111"
      ]
     },
     "execution_count": 87,
     "metadata": {},
     "output_type": "execute_result"
    }
   ],
   "source": [
    "compare(Winkler(Jaro()), \"martha\", \"marhta\")"
   ]
  },
  {
   "cell_type": "code",
   "execution_count": 88,
   "metadata": {
    "collapsed": false
   },
   "outputs": [
    {
     "data": {
      "text/plain": [
       "0.9230769230769231"
      ]
     },
     "execution_count": 88,
     "metadata": {},
     "output_type": "execute_result"
    }
   ],
   "source": [
    "compare(QGram(2), \"william\", \"williams\")"
   ]
  },
  {
   "cell_type": "code",
   "execution_count": 89,
   "metadata": {
    "collapsed": false
   },
   "outputs": [
    {
     "data": {
      "text/plain": [
       "0.9538461538461539"
      ]
     },
     "execution_count": 89,
     "metadata": {},
     "output_type": "execute_result"
    }
   ],
   "source": [
    "compare(Winkler(QGram(2)), \"william\", \"williams\")"
   ]
  },
  {
   "cell_type": "code",
   "execution_count": 90,
   "metadata": {
    "collapsed": false
   },
   "outputs": [
    {
     "data": {
      "text/plain": [
       "0.4375"
      ]
     },
     "execution_count": 90,
     "metadata": {},
     "output_type": "execute_result"
    }
   ],
   "source": [
    "compare(Levenshtein(), \"New York Yankees\", \"Yankees\")"
   ]
  },
  {
   "cell_type": "code",
   "execution_count": 91,
   "metadata": {
    "collapsed": false
   },
   "outputs": [
    {
     "data": {
      "text/plain": [
       "1.0"
      ]
     },
     "execution_count": 91,
     "metadata": {},
     "output_type": "execute_result"
    }
   ],
   "source": [
    "compare(Partial(Levenshtein()), \"New York Yankees\", \"Yankees\")"
   ]
  },
  {
   "cell_type": "code",
   "execution_count": 92,
   "metadata": {
    "collapsed": false
   },
   "outputs": [
    {
     "data": {
      "text/plain": [
       "0.4444444444444444"
      ]
     },
     "execution_count": 92,
     "metadata": {},
     "output_type": "execute_result"
    }
   ],
   "source": [
    "compare(RatcliffObershelp(), \"mariners vs angels\", \"angels vs mariners\")"
   ]
  },
  {
   "cell_type": "code",
   "execution_count": 102,
   "metadata": {
    "collapsed": false
   },
   "outputs": [
    {
     "data": {
      "text/plain": [
       "1.0"
      ]
     },
     "execution_count": 102,
     "metadata": {},
     "output_type": "execute_result"
    }
   ],
   "source": [
    "compare(TokenSort(RatcliffObershelp()), \"mariners vs angels\", \"angels vs mariners\")"
   ]
  },
  {
   "cell_type": "code",
   "execution_count": 94,
   "metadata": {
    "collapsed": false
   },
   "outputs": [
    {
     "data": {
      "text/plain": [
       "0.5342630079472185"
      ]
     },
     "execution_count": 94,
     "metadata": {},
     "output_type": "execute_result"
    }
   ],
   "source": [
    "compare(Jaro(),\"mariners vs angels\", \"los angeles angels at seattle mariners\")"
   ]
  },
  {
   "cell_type": "code",
   "execution_count": 95,
   "metadata": {
    "collapsed": false
   },
   "outputs": [
    {
     "data": {
      "text/plain": [
       "0.9444444444444445"
      ]
     },
     "execution_count": 95,
     "metadata": {},
     "output_type": "execute_result"
    }
   ],
   "source": [
    "compare(TokenSet(Jaro()),\"mariners vs angels\", \"los angeles angels at seattle mariners\")"
   ]
  },
  {
   "cell_type": "code",
   "execution_count": 96,
   "metadata": {
    "collapsed": false
   },
   "outputs": [
    {
     "data": {
      "text/plain": [
       "0.855"
      ]
     },
     "execution_count": 96,
     "metadata": {},
     "output_type": "execute_result"
    }
   ],
   "source": [
    "compare(TokenMax(RatcliffObershelp()),\"mariners vs angels\", \"los angeles angels at seattle mariners\")"
   ]
  },
  {
   "cell_type": "markdown",
   "metadata": {},
   "source": [
    "### Get all names in a folder"
   ]
  },
  {
   "cell_type": "code",
   "execution_count": 97,
   "metadata": {
    "collapsed": false
   },
   "outputs": [
    {
     "data": {
      "text/plain": [
       "\"/Users/davidbuchacaprats/Documents/git_stuff/movies/notebook_functions_explained\""
      ]
     },
     "execution_count": 97,
     "metadata": {},
     "output_type": "execute_result"
    }
   ],
   "source": [
    "pwd()"
   ]
  },
  {
   "cell_type": "code",
   "execution_count": 101,
   "metadata": {
    "collapsed": false
   },
   "outputs": [
    {
     "ename": "LoadError",
     "evalue": "\u001b[91mSystemError (with /Users/davidbuchaca/Documents/git_stuff/movies/newfolder): mkdir: No such file or directory\u001b[39m",
     "output_type": "error",
     "traceback": [
      "\u001b[91mSystemError (with /Users/davidbuchaca/Documents/git_stuff/movies/newfolder): mkdir: No such file or directory\u001b[39m",
      "",
      "Stacktrace:",
      " [1] \u001b[1m#systemerror#44\u001b[22m\u001b[22m at \u001b[1m./error.jl:64\u001b[22m\u001b[22m [inlined]",
      " [2] \u001b[1m(::Base.#kw##systemerror)\u001b[22m\u001b[22m\u001b[1m(\u001b[22m\u001b[22m::Array{Any,1}, ::Base.#systemerror, ::Symbol, ::Bool\u001b[1m)\u001b[22m\u001b[22m at \u001b[1m./<missing>:0\u001b[22m\u001b[22m",
      " [3] \u001b[1mmkdir\u001b[22m\u001b[22m\u001b[1m(\u001b[22m\u001b[22m::String, ::UInt16\u001b[1m)\u001b[22m\u001b[22m at \u001b[1m./file.jl:99\u001b[22m\u001b[22m",
      " [4] \u001b[1mmkdir\u001b[22m\u001b[22m\u001b[1m(\u001b[22m\u001b[22m::String\u001b[1m)\u001b[22m\u001b[22m at \u001b[1m./file.jl:94\u001b[22m\u001b[22m",
      " [5] \u001b[1minclude_string\u001b[22m\u001b[22m\u001b[1m(\u001b[22m\u001b[22m::String, ::String\u001b[1m)\u001b[22m\u001b[22m at \u001b[1m./loading.jl:515\u001b[22m\u001b[22m"
     ]
    }
   ],
   "source": [
    "# Create folder\n",
    "mkdir(\"/Users/davidbuchaca/Documents/git_stuff/movies/newfolder\")"
   ]
  },
  {
   "cell_type": "code",
   "execution_count": 100,
   "metadata": {
    "collapsed": false
   },
   "outputs": [],
   "source": [
    "#cd(\"/Users/davidbuchaca/Documents/git_stuff/movies/newfolder\")"
   ]
  },
  {
   "cell_type": "code",
   "execution_count": 64,
   "metadata": {
    "collapsed": false
   },
   "outputs": [
    {
     "data": {
      "text/plain": [
       "\"/Users/davidbuchacaprats/Documents/git_stuff/movies/notebook_functions_explained\""
      ]
     },
     "execution_count": 64,
     "metadata": {},
     "output_type": "execute_result"
    }
   ],
   "source": [
    "pwd()"
   ]
  },
  {
   "cell_type": "code",
   "execution_count": 65,
   "metadata": {
    "collapsed": false
   },
   "outputs": [
    {
     "data": {
      "text/plain": [
       "2-element Array{String,1}:\n",
       " \".ipynb_checkpoints\"    \n",
       " \"strings in julia.ipynb\""
      ]
     },
     "execution_count": 65,
     "metadata": {},
     "output_type": "execute_result"
    }
   ],
   "source": [
    "readdir(pwd())"
   ]
  },
  {
   "cell_type": "code",
   "execution_count": 66,
   "metadata": {
    "collapsed": false
   },
   "outputs": [
    {
     "data": {
      "text/plain": [
       "Base.Filesystem.File(false, RawFD(-1))"
      ]
     },
     "execution_count": 66,
     "metadata": {},
     "output_type": "execute_result"
    }
   ],
   "source": [
    "# Create a file with a particular name\n",
    "touch(\"movies_list.csv\")"
   ]
  },
  {
   "cell_type": "code",
   "execution_count": 67,
   "metadata": {
    "collapsed": false
   },
   "outputs": [
    {
     "data": {
      "text/plain": [
       "3-element Array{String,1}:\n",
       " \".ipynb_checkpoints\"    \n",
       " \"movies_list.csv\"       \n",
       " \"strings in julia.ipynb\""
      ]
     },
     "execution_count": 67,
     "metadata": {},
     "output_type": "execute_result"
    }
   ],
   "source": [
    "readdir(pwd())"
   ]
  },
  {
   "cell_type": "code",
   "execution_count": 68,
   "metadata": {
    "collapsed": false
   },
   "outputs": [],
   "source": [
    "# Create a file with the name\n",
    "rm(\"movies_list.csv\")"
   ]
  },
  {
   "cell_type": "code",
   "execution_count": 69,
   "metadata": {
    "collapsed": false
   },
   "outputs": [
    {
     "data": {
      "text/plain": [
       "2-element Array{String,1}:\n",
       " \".ipynb_checkpoints\"    \n",
       " \"strings in julia.ipynb\""
      ]
     },
     "execution_count": 69,
     "metadata": {},
     "output_type": "execute_result"
    }
   ],
   "source": [
    "readdir(pwd())"
   ]
  },
  {
   "cell_type": "code",
   "execution_count": 70,
   "metadata": {
    "collapsed": false
   },
   "outputs": [
    {
     "data": {
      "text/plain": [
       "6-element Array{String,1}:\n",
       " \".localized\"       \n",
       " \"Deleted Users\"    \n",
       " \"Guest\"            \n",
       " \"Shared\"           \n",
       " \"davidbuchacaprats\"\n",
       " \"mire\"             "
      ]
     },
     "execution_count": 70,
     "metadata": {},
     "output_type": "execute_result"
    }
   ],
   "source": [
    "readdir(\"/Users/\")"
   ]
  },
  {
   "cell_type": "code",
   "execution_count": 71,
   "metadata": {
    "collapsed": false
   },
   "outputs": [
    {
     "data": {
      "text/plain": [
       "7-element Array{String,1}:\n",
       " \"bin\"       \n",
       " \"lib\"       \n",
       " \"libexec\"   \n",
       " \"local\"     \n",
       " \"sbin\"      \n",
       " \"share\"     \n",
       " \"standalone\""
      ]
     },
     "execution_count": 71,
     "metadata": {},
     "output_type": "execute_result"
    }
   ],
   "source": [
    "readdir(\"/usr\")"
   ]
  },
  {
   "cell_type": "markdown",
   "metadata": {},
   "source": [
    "# Load movie data\n",
    "\n",
    "- ml-20m in Datasets"
   ]
  },
  {
   "cell_type": "code",
   "execution_count": 72,
   "metadata": {
    "collapsed": false
   },
   "outputs": [],
   "source": [
    "movies = DataFrames.readtable(\"/Users/davidbuchacaprats/Datasets/ml-20m/movies.csv\");"
   ]
  },
  {
   "cell_type": "code",
   "execution_count": 111,
   "metadata": {
    "collapsed": false
   },
   "outputs": [
    {
     "data": {
      "text/plain": [
       "27278"
      ]
     },
     "execution_count": 111,
     "metadata": {},
     "output_type": "execute_result"
    }
   ],
   "source": [
    "nrow(movies)"
   ]
  },
  {
   "cell_type": "code",
   "execution_count": 74,
   "metadata": {
    "collapsed": false
   },
   "outputs": [],
   "source": [
    "## movies[:title]"
   ]
  },
  {
   "cell_type": "code",
   "execution_count": 103,
   "metadata": {
    "collapsed": false
   },
   "outputs": [
    {
     "data": {
      "text/html": [
       "<table class=\"data-frame\"><thead><tr><th></th><th>movieId</th><th>title</th><th>genres</th></tr></thead><tbody><tr><th>1</th><td>1</td><td>Toy Story (1995)</td><td>Adventure|Animation|Children|Comedy|Fantasy</td></tr><tr><th>2</th><td>2</td><td>Jumanji (1995)</td><td>Adventure|Children|Fantasy</td></tr><tr><th>3</th><td>3</td><td>Grumpier Old Men (1995)</td><td>Comedy|Romance</td></tr><tr><th>4</th><td>4</td><td>Waiting to Exhale (1995)</td><td>Comedy|Drama|Romance</td></tr><tr><th>5</th><td>5</td><td>Father of the Bride Part II (1995)</td><td>Comedy</td></tr><tr><th>6</th><td>6</td><td>Heat (1995)</td><td>Action|Crime|Thriller</td></tr><tr><th>7</th><td>7</td><td>Sabrina (1995)</td><td>Comedy|Romance</td></tr><tr><th>8</th><td>8</td><td>Tom and Huck (1995)</td><td>Adventure|Children</td></tr><tr><th>9</th><td>9</td><td>Sudden Death (1995)</td><td>Action</td></tr><tr><th>10</th><td>10</td><td>GoldenEye (1995)</td><td>Action|Adventure|Thriller</td></tr><tr><th>11</th><td>11</td><td>American President, The (1995)</td><td>Comedy|Drama|Romance</td></tr><tr><th>12</th><td>12</td><td>Dracula: Dead and Loving It (1995)</td><td>Comedy|Horror</td></tr><tr><th>13</th><td>13</td><td>Balto (1995)</td><td>Adventure|Animation|Children</td></tr><tr><th>14</th><td>14</td><td>Nixon (1995)</td><td>Drama</td></tr><tr><th>15</th><td>15</td><td>Cutthroat Island (1995)</td><td>Action|Adventure|Romance</td></tr><tr><th>16</th><td>16</td><td>Casino (1995)</td><td>Crime|Drama</td></tr><tr><th>17</th><td>17</td><td>Sense and Sensibility (1995)</td><td>Drama|Romance</td></tr><tr><th>18</th><td>18</td><td>Four Rooms (1995)</td><td>Comedy</td></tr><tr><th>19</th><td>19</td><td>Ace Ventura: When Nature Calls (1995)</td><td>Comedy</td></tr><tr><th>20</th><td>20</td><td>Money Train (1995)</td><td>Action|Comedy|Crime|Drama|Thriller</td></tr><tr><th>21</th><td>21</td><td>Get Shorty (1995)</td><td>Comedy|Crime|Thriller</td></tr><tr><th>22</th><td>22</td><td>Copycat (1995)</td><td>Crime|Drama|Horror|Mystery|Thriller</td></tr><tr><th>23</th><td>23</td><td>Assassins (1995)</td><td>Action|Crime|Thriller</td></tr><tr><th>24</th><td>24</td><td>Powder (1995)</td><td>Drama|Sci-Fi</td></tr><tr><th>25</th><td>25</td><td>Leaving Las Vegas (1995)</td><td>Drama|Romance</td></tr><tr><th>26</th><td>26</td><td>Othello (1995)</td><td>Drama</td></tr><tr><th>27</th><td>27</td><td>Now and Then (1995)</td><td>Children|Drama</td></tr><tr><th>28</th><td>28</td><td>Persuasion (1995)</td><td>Drama|Romance</td></tr><tr><th>29</th><td>29</td><td>City of Lost Children, The (Cité des enfants perdus, La) (1995)</td><td>Adventure|Drama|Fantasy|Mystery|Sci-Fi</td></tr><tr><th>30</th><td>30</td><td>Shanghai Triad (Yao a yao yao dao waipo qiao) (1995)</td><td>Crime|Drama</td></tr><tr><th>&vellip;</th><td>&vellip;</td><td>&vellip;</td><td>&vellip;</td></tr></tbody></table>"
      ],
      "text/plain": [
       "27278×3 DataFrames.DataFrame\n",
       "│ Row   │ movieId │ title                                                    │\n",
       "├───────┼─────────┼──────────────────────────────────────────────────────────┤\n",
       "│ 1     │ 1       │ \"Toy Story (1995)\"                                       │\n",
       "│ 2     │ 2       │ \"Jumanji (1995)\"                                         │\n",
       "│ 3     │ 3       │ \"Grumpier Old Men (1995)\"                                │\n",
       "│ 4     │ 4       │ \"Waiting to Exhale (1995)\"                               │\n",
       "│ 5     │ 5       │ \"Father of the Bride Part II (1995)\"                     │\n",
       "│ 6     │ 6       │ \"Heat (1995)\"                                            │\n",
       "│ 7     │ 7       │ \"Sabrina (1995)\"                                         │\n",
       "│ 8     │ 8       │ \"Tom and Huck (1995)\"                                    │\n",
       "│ 9     │ 9       │ \"Sudden Death (1995)\"                                    │\n",
       "│ 10    │ 10      │ \"GoldenEye (1995)\"                                       │\n",
       "│ 11    │ 11      │ \"American President, The (1995)\"                         │\n",
       "⋮\n",
       "│ 27267 │ 131237  │ \"What Men Talk About (2010)\"                             │\n",
       "│ 27268 │ 131239  │ \"Three Quarter Moon (2011)\"                              │\n",
       "│ 27269 │ 131241  │ \"Ants in the Pants (2000)\"                               │\n",
       "│ 27270 │ 131243  │ \"Werner - Gekotzt wird später (2003)\"                    │\n",
       "│ 27271 │ 131248  │ \"Brother Bear 2 (2006)\"                                  │\n",
       "│ 27272 │ 131250  │ \"No More School (2000)\"                                  │\n",
       "│ 27273 │ 131252  │ \"Forklift Driver Klaus: The First Day on the Job (2001)\" │\n",
       "│ 27274 │ 131254  │ \"Kein Bund für's Leben (2007)\"                           │\n",
       "│ 27275 │ 131256  │ \"Feuer, Eis & Dosenbier (2002)\"                          │\n",
       "│ 27276 │ 131258  │ \"The Pirates (2014)\"                                     │\n",
       "│ 27277 │ 131260  │ \"Rentun Ruusu (2001)\"                                    │\n",
       "│ 27278 │ 131262  │ \"Innocence (2014)\"                                       │\n",
       "\n",
       "│ Row   │ genres                                        │\n",
       "├───────┼───────────────────────────────────────────────┤\n",
       "│ 1     │ \"Adventure|Animation|Children|Comedy|Fantasy\" │\n",
       "│ 2     │ \"Adventure|Children|Fantasy\"                  │\n",
       "│ 3     │ \"Comedy|Romance\"                              │\n",
       "│ 4     │ \"Comedy|Drama|Romance\"                        │\n",
       "│ 5     │ \"Comedy\"                                      │\n",
       "│ 6     │ \"Action|Crime|Thriller\"                       │\n",
       "│ 7     │ \"Comedy|Romance\"                              │\n",
       "│ 8     │ \"Adventure|Children\"                          │\n",
       "│ 9     │ \"Action\"                                      │\n",
       "│ 10    │ \"Action|Adventure|Thriller\"                   │\n",
       "│ 11    │ \"Comedy|Drama|Romance\"                        │\n",
       "⋮\n",
       "│ 27267 │ \"Comedy\"                                      │\n",
       "│ 27268 │ \"Comedy|Drama\"                                │\n",
       "│ 27269 │ \"Comedy|Romance\"                              │\n",
       "│ 27270 │ \"Animation|Comedy\"                            │\n",
       "│ 27271 │ \"Adventure|Animation|Children|Comedy|Fantasy\" │\n",
       "│ 27272 │ \"Comedy\"                                      │\n",
       "│ 27273 │ \"Comedy|Horror\"                               │\n",
       "│ 27274 │ \"Comedy\"                                      │\n",
       "│ 27275 │ \"Comedy\"                                      │\n",
       "│ 27276 │ \"Adventure\"                                   │\n",
       "│ 27277 │ \"(no genres listed)\"                          │\n",
       "│ 27278 │ \"Adventure|Fantasy|Horror\"                    │"
      ]
     },
     "execution_count": 103,
     "metadata": {},
     "output_type": "execute_result"
    }
   ],
   "source": [
    "movies"
   ]
  },
  {
   "cell_type": "code",
   "execution_count": 104,
   "metadata": {
    "collapsed": false
   },
   "outputs": [],
   "source": [
    "movies_ = readcsv(\"/Users/davidbuchacaprats/Datasets/ml-20m/movies.csv\");"
   ]
  },
  {
   "cell_type": "code",
   "execution_count": 105,
   "metadata": {
    "collapsed": false
   },
   "outputs": [
    {
     "data": {
      "text/plain": [
       "3-element Array{Any,1}:\n",
       " \"movieId\"\n",
       " \"title\"  \n",
       " \"genres\" "
      ]
     },
     "execution_count": 105,
     "metadata": {},
     "output_type": "execute_result"
    }
   ],
   "source": [
    "movies_[1,:]"
   ]
  },
  {
   "cell_type": "code",
   "execution_count": 106,
   "metadata": {
    "collapsed": false
   },
   "outputs": [
    {
     "data": {
      "text/plain": [
       "true"
      ]
     },
     "execution_count": 106,
     "metadata": {},
     "output_type": "execute_result"
    }
   ],
   "source": [
    "\"Toy\" in Set(split(movies[:title][1]))"
   ]
  },
  {
   "cell_type": "code",
   "execution_count": 107,
   "metadata": {
    "collapsed": false
   },
   "outputs": [
    {
     "data": {
      "text/plain": [
       "false"
      ]
     },
     "execution_count": 107,
     "metadata": {},
     "output_type": "execute_result"
    }
   ],
   "source": [
    "\"toy\" in movies[:title]"
   ]
  },
  {
   "cell_type": "code",
   "execution_count": 108,
   "metadata": {
    "collapsed": false
   },
   "outputs": [],
   "source": [
    "#[\"toy\" in m for m in  movies[:title]]"
   ]
  },
  {
   "cell_type": "code",
   "execution_count": 109,
   "metadata": {
    "collapsed": false
   },
   "outputs": [
    {
     "data": {
      "text/plain": [
       "2"
      ]
     },
     "execution_count": 109,
     "metadata": {},
     "output_type": "execute_result"
    }
   ],
   "source": [
    "sum([ contains(m,\"toy\") for m in  movies[:title]])"
   ]
  },
  {
   "cell_type": "code",
   "execution_count": 110,
   "metadata": {
    "collapsed": false
   },
   "outputs": [
    {
     "data": {
      "text/plain": [
       "8-element Array{String,1}:\n",
       " \"Toy Story (1995)\"                         \n",
       " \"Toy Story 2 (1999)\"                       \n",
       " \"Toy Story 3 (2010)\"                       \n",
       " \"Toy Story of Terror (2013)\"               \n",
       " \"Toy Story Toons: Hawaiian Vacation (2011)\"\n",
       " \"Toy Story Toons: Small Fry (2011)\"        \n",
       " \"Toy Story Toons: Partysaurus Rex (2012)\"  \n",
       " \"Toy Story That Time Forgot (2014)\"        "
      ]
     },
     "execution_count": 110,
     "metadata": {},
     "output_type": "execute_result"
    }
   ],
   "source": [
    "[m  for m in  movies[:title] if contains(m,\"Toy Story\")]"
   ]
  },
  {
   "cell_type": "code",
   "execution_count": null,
   "metadata": {
    "collapsed": true
   },
   "outputs": [],
   "source": []
  },
  {
   "cell_type": "code",
   "execution_count": null,
   "metadata": {
    "collapsed": true
   },
   "outputs": [],
   "source": []
  },
  {
   "cell_type": "code",
   "execution_count": null,
   "metadata": {
    "collapsed": true
   },
   "outputs": [],
   "source": []
  }
 ],
 "metadata": {
  "kernelspec": {
   "display_name": "Julia 0.6.0",
   "language": "julia",
   "name": "julia-0.6"
  },
  "language_info": {
   "file_extension": ".jl",
   "mimetype": "application/julia",
   "name": "julia",
   "version": "0.6.0"
  }
 },
 "nbformat": 4,
 "nbformat_minor": 0
}
