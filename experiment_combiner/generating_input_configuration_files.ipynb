{
 "cells": [
  {
   "cell_type": "markdown",
   "metadata": {
    "toc": true
   },
   "source": [
    "<h1>Table of Contents<span class=\"tocSkip\"></span></h1>\n",
    "<div class=\"toc\"><ul class=\"toc-item\"><li><span><a href=\"#Minimal-example\" data-toc-modified-id=\"Minimal-example-1\"><span class=\"toc-item-num\">1&nbsp;&nbsp;</span>Minimal example</a></span></li><li><span><a href=\"#Defining-ranges-in-the-hyperparam_dict\" data-toc-modified-id=\"Defining-ranges-in-the-hyperparam_dict-2\"><span class=\"toc-item-num\">2&nbsp;&nbsp;</span>Defining ranges in the hyperparam_dict</a></span></li><li><span><a href=\"#Executing-an-experiment-for-a-given-input\" data-toc-modified-id=\"Executing-an-experiment-for-a-given-input-3\"><span class=\"toc-item-num\">3&nbsp;&nbsp;</span>Executing an experiment for a given input</a></span></li><li><span><a href=\"#Executing-all-jobs-independently\" data-toc-modified-id=\"Executing-all-jobs-independently-4\"><span class=\"toc-item-num\">4&nbsp;&nbsp;</span>Executing all jobs independently</a></span></li></ul></div>"
   ]
  },
  {
   "cell_type": "markdown",
   "metadata": {},
   "source": [
    "## Minimal example"
   ]
  },
  {
   "cell_type": "code",
   "execution_count": 123,
   "metadata": {
    "scrolled": true
   },
   "outputs": [],
   "source": [
    "push!(LOAD_PATH,pwd());\n",
    "using ExperimentCombiner"
   ]
  },
  {
   "cell_type": "markdown",
   "metadata": {},
   "source": [
    "We can read an input \"configuration file\" which assumes to have, on each row, a possible \"hyperparameter = value\" combination.\n",
    "\n",
    "Let us consider the following example"
   ]
  },
  {
   "cell_type": "code",
   "execution_count": 30,
   "metadata": {},
   "outputs": [],
   "source": [
    "file_input      = open(\"file_input.inp\",\"r\");\n",
    "file_as_string = read(file_input, String);\n",
    "close(file_input)"
   ]
  },
  {
   "cell_type": "code",
   "execution_count": 31,
   "metadata": {},
   "outputs": [
    {
     "name": "stdout",
     "output_type": "stream",
     "text": [
      "# inside file_input.inp\n",
      "n_loop   = 2\n",
      "n_stride = 2\n",
      "irrelevant_variable = 27\n"
     ]
    }
   ],
   "source": [
    "print(file_as_string)"
   ]
  },
  {
   "cell_type": "markdown",
   "metadata": {},
   "source": [
    "Now Let us assume we want to create input files with different values of `n_loop` and `n_stride` hyperparameters.\n",
    "\n",
    "All we want to do is define a dictionary of values that we want to test."
   ]
  },
  {
   "cell_type": "code",
   "execution_count": 33,
   "metadata": {
    "scrolled": true
   },
   "outputs": [
    {
     "data": {
      "text/plain": [
       "Dict{Symbol,Array{Int64,1}} with 2 entries:\n",
       "  :n_loop   => [100, 200, 300]\n",
       "  :n_stride => [2, 3]"
      ]
     },
     "execution_count": 33,
     "metadata": {},
     "output_type": "execute_result"
    }
   ],
   "source": [
    "# Define space to explore\n",
    "hyperparam_dict = Dict(:n_loop => [100,200,300], :n_stride => [2,3])"
   ]
  },
  {
   "cell_type": "markdown",
   "metadata": {},
   "source": [
    "Then we can call the function **`create_configuration_inputs`** which creates a folder in `folder_path` (by default it will be the path from which julia is running). Inside the folder `configuration_inputs` we can find a different input file for each combination of hyperparameters."
   ]
  },
  {
   "cell_type": "code",
   "execution_count": 20,
   "metadata": {},
   "outputs": [],
   "source": [
    "create_configuration_inputs(file_as_string, hyperparam_dict, folder_path= \"./\" )"
   ]
  },
  {
   "cell_type": "markdown",
   "metadata": {},
   "source": [
    "let us see that the folder was created"
   ]
  },
  {
   "cell_type": "code",
   "execution_count": 35,
   "metadata": {},
   "outputs": [
    {
     "name": "stdout",
     "output_type": "stream",
     "text": [
      "configuration_inputs\n",
      "ExperimentCombiner.jl\n",
      "file_input.inp\n",
      "lala\n",
      "README.md\n",
      "Untitled.ipynb\n"
     ]
    }
   ],
   "source": [
    ";ls"
   ]
  },
  {
   "cell_type": "markdown",
   "metadata": {},
   "source": [
    "Inside the folder we can see the different files"
   ]
  },
  {
   "cell_type": "code",
   "execution_count": 38,
   "metadata": {},
   "outputs": [
    {
     "name": "stdout",
     "output_type": "stream",
     "text": [
      "1__n_loop=100__n_stride=2.inp\n",
      "2__n_loop=200__n_stride=2.inp\n",
      "3__n_loop=300__n_stride=2.inp\n",
      "4__n_loop=100__n_stride=3.inp\n",
      "5__n_loop=200__n_stride=3.inp\n",
      "6__n_loop=300__n_stride=3.inp\n"
     ]
    }
   ],
   "source": [
    ";ls configuration_inputs"
   ]
  },
  {
   "cell_type": "markdown",
   "metadata": {},
   "source": [
    "Inside each file we can see a different configuration of of input variables"
   ]
  },
  {
   "cell_type": "code",
   "execution_count": 39,
   "metadata": {},
   "outputs": [
    {
     "name": "stdout",
     "output_type": "stream",
     "text": [
      "# inside file_input.inp\n",
      "n_loop = 100 \n",
      "n_stride = 2 \n",
      "irrelevant_variable = 27\n"
     ]
    }
   ],
   "source": [
    ";cat configuration_inputs/1__n_loop=100__n_stride=2.inp"
   ]
  },
  {
   "cell_type": "code",
   "execution_count": 40,
   "metadata": {},
   "outputs": [
    {
     "name": "stdout",
     "output_type": "stream",
     "text": [
      "# inside file_input.inp\n",
      "n_loop = 200 \n",
      "n_stride = 2 \n",
      "irrelevant_variable = 27\n"
     ]
    }
   ],
   "source": [
    ";cat configuration_inputs/2__n_loop=200__n_stride=2.inp"
   ]
  },
  {
   "cell_type": "markdown",
   "metadata": {},
   "source": [
    "## Defining ranges in the hyperparam_dict"
   ]
  },
  {
   "cell_type": "markdown",
   "metadata": {},
   "source": [
    "Sometimes, if there are lots of possible values for a hyperparameter that we want to test we might want to use ranges as values of `hyperparam_dict`.\n",
    "\n",
    "Notice though that you don't have to pass as value an array containing a range. Therefore if we want `n_loop` to take values 100,200, ... up to 1000 we have to do `:n_loop => 100:100:1000` but we don't want to do  `:n_loop =>[100:100:1000]` .\n",
    "\n",
    "\n"
   ]
  },
  {
   "cell_type": "code",
   "execution_count": 109,
   "metadata": {},
   "outputs": [
    {
     "data": {
      "text/plain": [
       "Dict{Symbol,AbstractArray{Int64,1}} with 2 entries:\n",
       "  :n_loop   => 100:100:1000\n",
       "  :n_stride => [2, 3]"
      ]
     },
     "execution_count": 109,
     "metadata": {},
     "output_type": "execute_result"
    }
   ],
   "source": [
    "# Define space to explore\n",
    "hyperparam_dict = Dict(:n_loop => 100:100:1000, :n_stride => [2,3])"
   ]
  },
  {
   "cell_type": "code",
   "execution_count": 110,
   "metadata": {},
   "outputs": [
    {
     "data": {
      "text/plain": [
       "2-element Array{Symbol,1}:\n",
       " :n_loop  \n",
       " :n_stride"
      ]
     },
     "execution_count": 110,
     "metadata": {},
     "output_type": "execute_result"
    }
   ],
   "source": [
    "hyperparams = [x for x in keys(hyperparam_dict)]"
   ]
  },
  {
   "cell_type": "code",
   "execution_count": 112,
   "metadata": {},
   "outputs": [],
   "source": [
    "create_configuration_inputs(file_as_string, hyperparam_dict, folder_path= \"./\", folder_name=\"configuration_inputs2\" )"
   ]
  },
  {
   "cell_type": "code",
   "execution_count": 113,
   "metadata": {},
   "outputs": [
    {
     "name": "stdout",
     "output_type": "stream",
     "text": [
      "configuration_inputs\n",
      "configuration_inputs2\n",
      "ExperimentCombiner.jl\n",
      "file_input.inp\n",
      "lala\n",
      "README.md\n",
      "Untitled.ipynb\n"
     ]
    }
   ],
   "source": [
    ";ls"
   ]
  },
  {
   "cell_type": "code",
   "execution_count": 114,
   "metadata": {},
   "outputs": [
    {
     "name": "stdout",
     "output_type": "stream",
     "text": [
      "01__n_loop=100__n_stride=2.inp\n",
      "02__n_loop=200__n_stride=2.inp\n",
      "03__n_loop=300__n_stride=2.inp\n",
      "04__n_loop=400__n_stride=2.inp\n",
      "05__n_loop=500__n_stride=2.inp\n",
      "06__n_loop=600__n_stride=2.inp\n",
      "07__n_loop=700__n_stride=2.inp\n",
      "08__n_loop=800__n_stride=2.inp\n",
      "09__n_loop=900__n_stride=2.inp\n",
      "10__n_loop=1000__n_stride=2.inp\n",
      "11__n_loop=100__n_stride=3.inp\n",
      "12__n_loop=200__n_stride=3.inp\n",
      "13__n_loop=300__n_stride=3.inp\n",
      "14__n_loop=400__n_stride=3.inp\n",
      "15__n_loop=500__n_stride=3.inp\n",
      "16__n_loop=600__n_stride=3.inp\n",
      "17__n_loop=700__n_stride=3.inp\n",
      "18__n_loop=800__n_stride=3.inp\n",
      "19__n_loop=900__n_stride=3.inp\n",
      "20__n_loop=1000__n_stride=3.inp\n"
     ]
    }
   ],
   "source": [
    ";ls configuration_inputs2"
   ]
  },
  {
   "cell_type": "code",
   "execution_count": 117,
   "metadata": {},
   "outputs": [
    {
     "name": "stdout",
     "output_type": "stream",
     "text": [
      "# inside file_input.inp\n",
      "n_loop = 100 \n",
      "n_stride = 2 \n",
      "irrelevant_variable = 27\n"
     ]
    }
   ],
   "source": [
    ";cat configuration_inputs2/01__n_loop=100__n_stride=2.inp"
   ]
  },
  {
   "cell_type": "markdown",
   "metadata": {},
   "source": [
    "## Executing an experiment for a given input\n",
    "\n",
    "\n",
    "\n",
    "\n",
    "You can try to run `main.jl` with the provided `file_input.inp` and you should get\n",
    "\n",
    "\n",
    "```bash\n",
    "julia main.jl file_input.inp\n",
    "\n",
    "#The hyperparam_values found in  file_input.inp are Dict{Any,Any}(:irrelevant_variable=>27,:n_loop=>2,:n_stride=>2)\n",
    "\n",
    "res=1\n",
    "```\n",
    "\n",
    "Let us use one of the generated configurations\n",
    "\n",
    "\n",
    "```bash\n",
    "julia main.jl configuration_inputs/1__n_loop\\=100__n_stride\\=2.inp \n",
    "\n",
    "#The hyperparam_values found in  configuration_inputs/1__n_loop=100__n_stride=2.inp are Dict{Any,Any}(:irrelevant_variable=>27,:n_loop=>100,:n_stride=>2)\n",
    "\n",
    "res=2500\n",
    "```"
   ]
  },
  {
   "cell_type": "code",
   "execution_count": 203,
   "metadata": {},
   "outputs": [
    {
     "name": "stdout",
     "output_type": "stream",
     "text": [
      "\n",
      "\targuments are: String[\"hi\"]\n"
     ]
    }
   ],
   "source": [
    ";julia main2.jl hi"
   ]
  },
  {
   "cell_type": "code",
   "execution_count": 205,
   "metadata": {},
   "outputs": [],
   "source": [
    "#;julia main.jl file_input.inp"
   ]
  },
  {
   "cell_type": "code",
   "execution_count": null,
   "metadata": {},
   "outputs": [],
   "source": []
  },
  {
   "cell_type": "markdown",
   "metadata": {},
   "source": [
    "## Executing all jobs independently\n",
    "\n",
    "TODO"
   ]
  },
  {
   "cell_type": "code",
   "execution_count": null,
   "metadata": {},
   "outputs": [],
   "source": []
  },
  {
   "cell_type": "code",
   "execution_count": null,
   "metadata": {},
   "outputs": [],
   "source": []
  }
 ],
 "metadata": {
  "kernelspec": {
   "display_name": "Julia 1.1.0",
   "language": "julia",
   "name": "julia-1.1"
  },
  "language_info": {
   "file_extension": ".jl",
   "mimetype": "application/julia",
   "name": "julia",
   "version": "1.1.0"
  },
  "toc": {
   "base_numbering": 1,
   "nav_menu": {},
   "number_sections": true,
   "sideBar": true,
   "skip_h1_title": false,
   "title_cell": "Table of Contents",
   "title_sidebar": "Contents",
   "toc_cell": true,
   "toc_position": {},
   "toc_section_display": true,
   "toc_window_display": false
  }
 },
 "nbformat": 4,
 "nbformat_minor": 2
}
