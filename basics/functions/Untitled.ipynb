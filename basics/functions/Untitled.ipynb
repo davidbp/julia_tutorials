{
 "cells": [
  {
   "cell_type": "markdown",
   "id": "cd71709f",
   "metadata": {},
   "source": [
    "# Function composition"
   ]
  },
  {
   "cell_type": "markdown",
   "id": "4686bb11",
   "metadata": {},
   "source": [
    "The operator `|>` can be used to create function composition that reads from left to right"
   ]
  },
  {
   "cell_type": "code",
   "execution_count": 21,
   "id": "1dc88e1f",
   "metadata": {},
   "outputs": [
    {
     "data": {
      "text/plain": [
       "5"
      ]
     },
     "execution_count": 21,
     "metadata": {},
     "output_type": "execute_result"
    }
   ],
   "source": [
    "f(x) = x + 1\n",
    "g(x) = x * 2\n",
    "h(x) = x - 1\n",
    "pipe(x) = x |> f |> g |> h\n",
    "pipe(2)"
   ]
  },
  {
   "cell_type": "markdown",
   "id": "7f7057f1",
   "metadata": {},
   "source": [
    "The same can be achieved using the operator `∘` (`\\circ + tab`).\n"
   ]
  },
  {
   "cell_type": "code",
   "execution_count": 23,
   "id": "a817cb71",
   "metadata": {},
   "outputs": [
    {
     "data": {
      "text/plain": [
       "5"
      ]
     },
     "execution_count": 23,
     "metadata": {},
     "output_type": "execute_result"
    }
   ],
   "source": [
    "f(x) = x + 1\n",
    "g(x) = x * 2\n",
    "h(x) = x - 1\n",
    "functions = [f, g, h]\n",
    "pipe2 = reduce(∘, reverse(functions))\n",
    "pipe2(2)"
   ]
  },
  {
   "cell_type": "code",
   "execution_count": null,
   "id": "51f0310e",
   "metadata": {},
   "outputs": [],
   "source": []
  }
 ],
 "metadata": {
  "kernelspec": {
   "display_name": "Julia 1.8.0",
   "language": "julia",
   "name": "julia-1.8"
  },
  "language_info": {
   "file_extension": ".jl",
   "mimetype": "application/julia",
   "name": "julia",
   "version": "1.8.2"
  }
 },
 "nbformat": 4,
 "nbformat_minor": 5
}
