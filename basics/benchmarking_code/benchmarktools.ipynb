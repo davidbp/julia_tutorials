{
 "cells": [
  {
   "cell_type": "markdown",
   "metadata": {},
   "source": [
    "\n",
    "# Benchmarking code"
   ]
  },
  {
   "cell_type": "code",
   "execution_count": 79,
   "metadata": {
    "ExecuteTime": {
     "end_time": "2020-03-15T18:11:00.156000+01:00",
     "start_time": "2020-03-15T17:11:00.155Z"
    }
   },
   "outputs": [],
   "source": [
    "using BenchmarkTools"
   ]
  },
  {
   "cell_type": "markdown",
   "metadata": {},
   "source": [
    "The package BenchmarkTools provides a basic macro `@benchmark` that can be used to find running statistics of our code."
   ]
  },
  {
   "cell_type": "code",
   "execution_count": 80,
   "metadata": {
    "ExecuteTime": {
     "end_time": "2020-03-15T18:11:50.084000+01:00",
     "start_time": "2020-03-15T17:11:49.092Z"
    }
   },
   "outputs": [
    {
     "data": {
      "text/plain": [
       "BenchmarkTools.Trial: \n",
       "  memory estimate:  112 bytes\n",
       "  allocs estimate:  1\n",
       "  --------------\n",
       "  minimum time:     43.302 ns (0.00% GC)\n",
       "  median time:      45.788 ns (0.00% GC)\n",
       "  mean time:        49.795 ns (6.04% GC)\n",
       "  maximum time:     1.425 μs (95.38% GC)\n",
       "  --------------\n",
       "  samples:          10000\n",
       "  evals/sample:     990"
      ]
     },
     "execution_count": 80,
     "metadata": {},
     "output_type": "execute_result"
    }
   ],
   "source": [
    "x = rand(4)\n",
    "res = @benchmark x+x"
   ]
  },
  {
   "cell_type": "markdown",
   "metadata": {
    "ExecuteTime": {
     "end_time": "2020-03-15T18:12:03.066000+01:00",
     "start_time": "2020-03-15T17:12:03.065Z"
    }
   },
   "source": [
    "Note that `res` here is an object that stores different data."
   ]
  },
  {
   "cell_type": "code",
   "execution_count": 87,
   "metadata": {
    "ExecuteTime": {
     "end_time": "2020-03-15T18:12:45.975000+01:00",
     "start_time": "2020-03-15T17:12:45.973Z"
    }
   },
   "outputs": [
    {
     "data": {
      "text/plain": [
       "(:params, :times, :gctimes, :memory, :allocs)"
      ]
     },
     "execution_count": 87,
     "metadata": {},
     "output_type": "execute_result"
    }
   ],
   "source": [
    "fieldnames(typeof(res))"
   ]
  },
  {
   "cell_type": "markdown",
   "metadata": {
    "ExecuteTime": {
     "end_time": "2020-03-15T18:12:55.064000+01:00",
     "start_time": "2020-03-15T17:12:54.928Z"
    }
   },
   "source": [
    "The `.times` attribute is an array containing the execution time of the runs done by the macro. The values are stored as **nanoseconds** (1 nanosecond is 10^(-9) seconds)"
   ]
  },
  {
   "cell_type": "code",
   "execution_count": 91,
   "metadata": {
    "ExecuteTime": {
     "end_time": "2020-03-15T18:14:12.989000+01:00",
     "start_time": "2020-03-15T17:14:10.462Z"
    }
   },
   "outputs": [
    {
     "name": "stdout",
     "output_type": "stream",
     "text": [
      "Previous experiment took 4.9794892828282856e-8 seconds"
     ]
    }
   ],
   "source": [
    "time_sec = mean(res.times) * 10^(-9)\n",
    "print(\"Previous experiment took $time_sec seconds\")"
   ]
  },
  {
   "cell_type": "code",
   "execution_count": 102,
   "metadata": {
    "ExecuteTime": {
     "end_time": "2020-03-15T18:21:33.007000+01:00",
     "start_time": "2020-03-15T17:21:20.331Z"
    }
   },
   "outputs": [
    {
     "data": {
      "text/plain": [
       "BenchmarkTools.Trial: \n",
       "  memory estimate:  68.66 MiB\n",
       "  allocs estimate:  2\n",
       "  --------------\n",
       "  minimum time:     275.903 ms (0.00% GC)\n",
       "  median time:      293.946 ms (0.16% GC)\n",
       "  mean time:        301.617 ms (2.90% GC)\n",
       "  maximum time:     375.714 ms (11.90% GC)\n",
       "  --------------\n",
       "  samples:          17\n",
       "  evals/sample:     1"
      ]
     },
     "execution_count": 102,
     "metadata": {},
     "output_type": "execute_result"
    }
   ],
   "source": [
    "x = rand(3000, 3000)\n",
    "res2 = @benchmark x*x"
   ]
  },
  {
   "cell_type": "code",
   "execution_count": 103,
   "metadata": {
    "ExecuteTime": {
     "end_time": "2020-03-15T18:21:33.009000+01:00",
     "start_time": "2020-03-15T17:21:21.252Z"
    }
   },
   "outputs": [
    {
     "name": "stdout",
     "output_type": "stream",
     "text": [
      "Previous experiment took 0.3016170511764707 seconds"
     ]
    }
   ],
   "source": [
    "time_sec = mean(res2.times) * 10^(-9)\n",
    "print(\"Previous experiment took $time_sec seconds\")"
   ]
  },
  {
   "cell_type": "code",
   "execution_count": null,
   "metadata": {},
   "outputs": [],
   "source": []
  }
 ],
 "metadata": {
  "kernelspec": {
   "display_name": "Julia 1.3.0",
   "language": "julia",
   "name": "julia-1.3"
  },
  "language_info": {
   "file_extension": ".jl",
   "mimetype": "application/julia",
   "name": "julia",
   "version": "1.3.0"
  },
  "toc": {
   "base_numbering": 1,
   "nav_menu": {},
   "number_sections": true,
   "sideBar": true,
   "skip_h1_title": false,
   "title_cell": "Table of Contents",
   "title_sidebar": "Contents",
   "toc_cell": false,
   "toc_position": {},
   "toc_section_display": true,
   "toc_window_display": false
  }
 },
 "nbformat": 4,
 "nbformat_minor": 2
}
