{
 "cells": [
  {
   "cell_type": "markdown",
   "metadata": {},
   "source": [
    "\n",
    "# Benchmarking code"
   ]
  },
  {
   "cell_type": "code",
   "execution_count": 1,
   "metadata": {
    "ExecuteTime": {
     "end_time": "2020-03-16T09:31:49.945000+01:00",
     "start_time": "2020-03-16T08:31:43.842Z"
    }
   },
   "outputs": [],
   "source": [
    "using BenchmarkTools"
   ]
  },
  {
   "cell_type": "markdown",
   "metadata": {},
   "source": [
    "The package BenchmarkTools provides a basic macro `@benchmark` that can be used to find running statistics of our code."
   ]
  },
  {
   "cell_type": "code",
   "execution_count": 9,
   "metadata": {
    "ExecuteTime": {
     "end_time": "2020-03-16T09:46:30.752000+01:00",
     "start_time": "2020-03-16T08:46:29.615Z"
    },
    "scrolled": true
   },
   "outputs": [
    {
     "data": {
      "text/plain": [
       "BenchmarkTools.Trial: \n",
       "  memory estimate:  112 bytes\n",
       "  allocs estimate:  1\n",
       "  --------------\n",
       "  minimum time:     44.135 ns (0.00% GC)\n",
       "  median time:      46.818 ns (0.00% GC)\n",
       "  mean time:        56.185 ns (5.84% GC)\n",
       "  maximum time:     1.972 μs (96.65% GC)\n",
       "  --------------\n",
       "  samples:          10000\n",
       "  evals/sample:     990"
      ]
     },
     "execution_count": 9,
     "metadata": {},
     "output_type": "execute_result"
    }
   ],
   "source": [
    "x = rand(4)\n",
    "res = @benchmark x+x"
   ]
  },
  {
   "cell_type": "markdown",
   "metadata": {
    "ExecuteTime": {
     "end_time": "2020-03-15T18:12:03.066000+01:00",
     "start_time": "2020-03-15T17:12:03.065Z"
    }
   },
   "source": [
    "Note that `res` here is an object that stores different data."
   ]
  },
  {
   "cell_type": "code",
   "execution_count": 3,
   "metadata": {
    "ExecuteTime": {
     "end_time": "2020-03-16T09:31:52.916000+01:00",
     "start_time": "2020-03-16T08:31:46.265Z"
    },
    "scrolled": true
   },
   "outputs": [
    {
     "data": {
      "text/plain": [
       "(:params, :times, :gctimes, :memory, :allocs)"
      ]
     },
     "execution_count": 3,
     "metadata": {},
     "output_type": "execute_result"
    }
   ],
   "source": [
    "fieldnames(typeof(res))"
   ]
  },
  {
   "cell_type": "markdown",
   "metadata": {
    "ExecuteTime": {
     "end_time": "2020-03-15T18:12:55.064000+01:00",
     "start_time": "2020-03-15T17:12:54.928Z"
    }
   },
   "source": [
    "The `.times` attribute is an array containing the execution time of the runs done by the macro. The values are stored as **nanoseconds** (1 nanosecond is 10^(-9) seconds)"
   ]
  },
  {
   "cell_type": "code",
   "execution_count": 4,
   "metadata": {
    "ExecuteTime": {
     "end_time": "2020-03-16T09:31:52.992000+01:00",
     "start_time": "2020-03-16T08:31:46.603Z"
    },
    "scrolled": true
   },
   "outputs": [
    {
     "name": "stdout",
     "output_type": "stream",
     "text": [
      "Previous experiment took 5.6237742121212156e-8 seconds"
     ]
    }
   ],
   "source": [
    "time_sec = mean(res.times) * 10^(-9)\n",
    "print(\"Previous experiment took $time_sec seconds\")"
   ]
  },
  {
   "cell_type": "code",
   "execution_count": 5,
   "metadata": {
    "ExecuteTime": {
     "end_time": "2020-03-16T09:32:05.849000+01:00",
     "start_time": "2020-03-16T08:31:46.774Z"
    },
    "scrolled": false
   },
   "outputs": [
    {
     "data": {
      "text/plain": [
       "BenchmarkTools.Trial: \n",
       "  memory estimate:  68.66 MiB\n",
       "  allocs estimate:  2\n",
       "  --------------\n",
       "  minimum time:     333.413 ms (0.09% GC)\n",
       "  median time:      367.961 ms (0.10% GC)\n",
       "  mean time:        374.576 ms (2.85% GC)\n",
       "  maximum time:     443.194 ms (11.06% GC)\n",
       "  --------------\n",
       "  samples:          14\n",
       "  evals/sample:     1"
      ]
     },
     "execution_count": 5,
     "metadata": {},
     "output_type": "execute_result"
    }
   ],
   "source": [
    "x = rand(3000, 3000)\n",
    "res2 = @benchmark x*x"
   ]
  },
  {
   "cell_type": "code",
   "execution_count": 6,
   "metadata": {
    "ExecuteTime": {
     "end_time": "2020-03-16T09:32:05.851000+01:00",
     "start_time": "2020-03-16T08:31:46.976Z"
    },
    "scrolled": true
   },
   "outputs": [
    {
     "name": "stdout",
     "output_type": "stream",
     "text": [
      "Previous experiment took 0.37457588100000017 seconds"
     ]
    }
   ],
   "source": [
    "time_sec = mean(res2.times) * 10^(-9)\n",
    "print(\"Previous experiment took $time_sec seconds\")"
   ]
  },
  {
   "cell_type": "markdown",
   "metadata": {
    "ExecuteTime": {
     "end_time": "2020-03-16T09:35:50.630000+01:00",
     "start_time": "2020-03-16T08:35:49.943Z"
    }
   },
   "source": [
    "## Controlling benchmark parameters"
   ]
  },
  {
   "cell_type": "markdown",
   "metadata": {},
   "source": [
    "The number of samples can be controlled with `samples`"
   ]
  },
  {
   "cell_type": "code",
   "execution_count": 13,
   "metadata": {
    "ExecuteTime": {
     "end_time": "2020-03-16T10:02:43.957000+01:00",
     "start_time": "2020-03-16T09:02:43.357Z"
    },
    "scrolled": false
   },
   "outputs": [
    {
     "data": {
      "text/plain": [
       "BenchmarkTools.Trial: \n",
       "  memory estimate:  112 bytes\n",
       "  allocs estimate:  1\n",
       "  --------------\n",
       "  minimum time:     45.513 ns (0.00% GC)\n",
       "  median time:      46.524 ns (0.00% GC)\n",
       "  mean time:        46.619 ns (0.00% GC)\n",
       "  maximum time:     48.790 ns (0.00% GC)\n",
       "  --------------\n",
       "  samples:          10\n",
       "  evals/sample:     989"
      ]
     },
     "execution_count": 13,
     "metadata": {},
     "output_type": "execute_result"
    }
   ],
   "source": [
    "res = @benchmark x+x samples=10"
   ]
  },
  {
   "cell_type": "code",
   "execution_count": null,
   "metadata": {},
   "outputs": [],
   "source": []
  }
 ],
 "metadata": {
  "kernelspec": {
   "display_name": "Julia 1.3.0",
   "language": "julia",
   "name": "julia-1.3"
  },
  "language_info": {
   "file_extension": ".jl",
   "mimetype": "application/julia",
   "name": "julia",
   "version": "1.3.0"
  },
  "toc": {
   "base_numbering": 1,
   "nav_menu": {},
   "number_sections": true,
   "sideBar": true,
   "skip_h1_title": false,
   "title_cell": "Table of Contents",
   "title_sidebar": "Contents",
   "toc_cell": false,
   "toc_position": {},
   "toc_section_display": true,
   "toc_window_display": false
  }
 },
 "nbformat": 4,
 "nbformat_minor": 2
}
