{
 "cells": [
  {
   "cell_type": "code",
   "execution_count": 5,
   "metadata": {},
   "outputs": [],
   "source": [
    "using LinearAlgebra\n",
    "using LinearAlgebra: mul!, Adjoint\n"
   ]
  },
  {
   "cell_type": "code",
   "execution_count": null,
   "metadata": {},
   "outputs": [],
   "source": []
  },
  {
   "cell_type": "code",
   "execution_count": null,
   "metadata": {},
   "outputs": [],
   "source": []
  },
  {
   "cell_type": "code",
   "execution_count": null,
   "metadata": {},
   "outputs": [],
   "source": []
  },
  {
   "cell_type": "code",
   "execution_count": null,
   "metadata": {},
   "outputs": [],
   "source": []
  },
  {
   "cell_type": "markdown",
   "metadata": {},
   "source": [
    "#### Adjoint"
   ]
  },
  {
   "cell_type": "code",
   "execution_count": 12,
   "metadata": {},
   "outputs": [
    {
     "data": {
      "text/plain": [
       "2×3 Array{Int64,2}:\n",
       " 1  2  3\n",
       " 4  5  6"
      ]
     },
     "execution_count": 12,
     "metadata": {},
     "output_type": "execute_result"
    }
   ],
   "source": [
    "X = [1 2 3; 4 5 6]"
   ]
  },
  {
   "cell_type": "code",
   "execution_count": 20,
   "metadata": {},
   "outputs": [
    {
     "data": {
      "text/plain": [
       "3×2 Adjoint{Int64,Array{Int64,2}}:\n",
       " 1  4\n",
       " 2  5\n",
       " 3  6"
      ]
     },
     "execution_count": 20,
     "metadata": {},
     "output_type": "execute_result"
    }
   ],
   "source": [
    "Adjoint(X) "
   ]
  },
  {
   "cell_type": "code",
   "execution_count": 23,
   "metadata": {},
   "outputs": [
    {
     "data": {
      "text/plain": [
       "3×2 Adjoint{Int64,Array{Int64,2}}:\n",
       " 1  4\n",
       " 2  5\n",
       " 3  6"
      ]
     },
     "execution_count": 23,
     "metadata": {},
     "output_type": "execute_result"
    }
   ],
   "source": [
    "X'"
   ]
  },
  {
   "cell_type": "code",
   "execution_count": 25,
   "metadata": {},
   "outputs": [
    {
     "data": {
      "text/plain": [
       "3×2 Array{Int64,2}:\n",
       " 1  4\n",
       " 2  5\n",
       " 3  6"
      ]
     },
     "execution_count": 25,
     "metadata": {},
     "output_type": "execute_result"
    }
   ],
   "source": [
    "X2 = permutedims(X)"
   ]
  },
  {
   "cell_type": "code",
   "execution_count": 31,
   "metadata": {},
   "outputs": [
    {
     "data": {
      "text/plain": [
       "3-element Array{Int64,1}:\n",
       " 1\n",
       " 2\n",
       " 3"
      ]
     },
     "execution_count": 31,
     "metadata": {},
     "output_type": "execute_result"
    }
   ],
   "source": [
    "X2[:,1]"
   ]
  },
  {
   "cell_type": "code",
   "execution_count": null,
   "metadata": {},
   "outputs": [],
   "source": []
  },
  {
   "cell_type": "code",
   "execution_count": 4,
   "metadata": {},
   "outputs": [
    {
     "name": "stdout",
     "output_type": "stream",
     "text": [
      "search: \u001b[0m\u001b[1mA\u001b[22m\u001b[0m\u001b[1md\u001b[22m\u001b[0m\u001b[1mj\u001b[22m\u001b[0m\u001b[1mo\u001b[22m\u001b[0m\u001b[1mi\u001b[22m\u001b[0m\u001b[1mn\u001b[22m\u001b[0m\u001b[1mt\u001b[22m \u001b[0m\u001b[1ma\u001b[22m\u001b[0m\u001b[1md\u001b[22m\u001b[0m\u001b[1mj\u001b[22m\u001b[0m\u001b[1mo\u001b[22m\u001b[0m\u001b[1mi\u001b[22m\u001b[0m\u001b[1mn\u001b[22m\u001b[0m\u001b[1mt\u001b[22m \u001b[0m\u001b[1ma\u001b[22m\u001b[0m\u001b[1md\u001b[22m\u001b[0m\u001b[1mj\u001b[22m\u001b[0m\u001b[1mo\u001b[22m\u001b[0m\u001b[1mi\u001b[22m\u001b[0m\u001b[1mn\u001b[22m\u001b[0m\u001b[1mt\u001b[22m!\n",
      "\n"
     ]
    },
    {
     "data": {
      "text/latex": [
       "\\begin{verbatim}\n",
       "Adjoint\n",
       "\\end{verbatim}\n",
       "Lazy wrapper type for an adjoint view of the underlying linear algebra object, usually an \\texttt{AbstractVector}/\\texttt{AbstractMatrix}, but also some \\texttt{Factorization}, for instance. Usually, the \\texttt{Adjoint} constructor should not be called directly, use \\href{@ref}{\\texttt{adjoint}} instead. To materialize the view use \\href{@ref}{\\texttt{copy}}.\n",
       "\n",
       "This type is intended for linear algebra usage - for general data manipulation see \\href{@ref Base.permutedims}{\\texttt{permutedims}}.\n",
       "\n",
       "\\section{Examples}\n",
       "\\begin{verbatim}\n",
       "julia> A = [3+2im 9+2im; 8+7im  4+6im]\n",
       "2×2 Array{Complex{Int64},2}:\n",
       " 3+2im  9+2im\n",
       " 8+7im  4+6im\n",
       "\n",
       "julia> adjoint(A)\n",
       "2×2 Adjoint{Complex{Int64},Array{Complex{Int64},2}}:\n",
       " 3-2im  8-7im\n",
       " 9-2im  4-6im\n",
       "\\end{verbatim}\n"
      ],
      "text/markdown": [
       "```\n",
       "Adjoint\n",
       "```\n",
       "\n",
       "Lazy wrapper type for an adjoint view of the underlying linear algebra object, usually an `AbstractVector`/`AbstractMatrix`, but also some `Factorization`, for instance. Usually, the `Adjoint` constructor should not be called directly, use [`adjoint`](@ref) instead. To materialize the view use [`copy`](@ref).\n",
       "\n",
       "This type is intended for linear algebra usage - for general data manipulation see [`permutedims`](@ref Base.permutedims).\n",
       "\n",
       "# Examples\n",
       "\n",
       "```jldoctest\n",
       "julia> A = [3+2im 9+2im; 8+7im  4+6im]\n",
       "2×2 Array{Complex{Int64},2}:\n",
       " 3+2im  9+2im\n",
       " 8+7im  4+6im\n",
       "\n",
       "julia> adjoint(A)\n",
       "2×2 Adjoint{Complex{Int64},Array{Complex{Int64},2}}:\n",
       " 3-2im  8-7im\n",
       " 9-2im  4-6im\n",
       "```\n"
      ],
      "text/plain": [
       "\u001b[36m  Adjoint\u001b[39m\n",
       "\n",
       "  Lazy wrapper type for an adjoint view of the underlying linear algebra\n",
       "  object, usually an \u001b[36mAbstractVector\u001b[39m/\u001b[36mAbstractMatrix\u001b[39m, but also some\n",
       "  \u001b[36mFactorization\u001b[39m, for instance. Usually, the \u001b[36mAdjoint\u001b[39m constructor should not be\n",
       "  called directly, use \u001b[36madjoint\u001b[39m instead. To materialize the view use \u001b[36mcopy\u001b[39m.\n",
       "\n",
       "  This type is intended for linear algebra usage - for general data\n",
       "  manipulation see \u001b[36mpermutedims\u001b[39m.\n",
       "\n",
       "\u001b[1m  Examples\u001b[22m\n",
       "\u001b[1m  ≡≡≡≡≡≡≡≡≡≡\u001b[22m\n",
       "\n",
       "\u001b[36m  julia> A = [3+2im 9+2im; 8+7im  4+6im]\u001b[39m\n",
       "\u001b[36m  2×2 Array{Complex{Int64},2}:\u001b[39m\n",
       "\u001b[36m   3+2im  9+2im\u001b[39m\n",
       "\u001b[36m   8+7im  4+6im\u001b[39m\n",
       "\u001b[36m  \u001b[39m\n",
       "\u001b[36m  julia> adjoint(A)\u001b[39m\n",
       "\u001b[36m  2×2 Adjoint{Complex{Int64},Array{Complex{Int64},2}}:\u001b[39m\n",
       "\u001b[36m   3-2im  8-7im\u001b[39m\n",
       "\u001b[36m   9-2im  4-6im\u001b[39m"
      ]
     },
     "execution_count": 4,
     "metadata": {},
     "output_type": "execute_result"
    }
   ],
   "source": [
    "??Adjoint"
   ]
  },
  {
   "cell_type": "code",
   "execution_count": null,
   "metadata": {},
   "outputs": [],
   "source": []
  }
 ],
 "metadata": {
  "kernelspec": {
   "display_name": "Julia 1.5.3",
   "language": "julia",
   "name": "julia-1.5"
  },
  "language_info": {
   "file_extension": ".jl",
   "mimetype": "application/julia",
   "name": "julia",
   "version": "1.5.3"
  }
 },
 "nbformat": 4,
 "nbformat_minor": 4
}
