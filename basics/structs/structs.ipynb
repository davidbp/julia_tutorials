{
 "cells": [
  {
   "cell_type": "markdown",
   "metadata": {},
   "source": [
    "## Structs"
   ]
  },
  {
   "cell_type": "markdown",
   "metadata": {
    "ExecuteTime": {
     "end_time": "2020-01-16T10:15:55.302000+01:00",
     "start_time": "2020-01-16T09:15:55.300Z"
    }
   },
   "source": [
    "We can define a `struct` specifiing the fields and the type they should be."
   ]
  },
  {
   "cell_type": "code",
   "execution_count": 1,
   "metadata": {
    "ExecuteTime": {
     "end_time": "2020-01-16T13:45:17.690000+01:00",
     "start_time": "2020-01-16T12:45:09.269Z"
    }
   },
   "outputs": [],
   "source": [
    "mutable struct Coly0\n",
    "    x :: Int32\n",
    "    y :: Float64\n",
    "    z :: Bool\n",
    "    t :: Int32\n",
    "    u :: Float32\n",
    "    v :: Bool\n",
    "    Coly0() = ( K = new())\n",
    "end;"
   ]
  },
  {
   "cell_type": "code",
   "execution_count": 2,
   "metadata": {
    "ExecuteTime": {
     "end_time": "2020-01-16T13:45:18.896000+01:00",
     "start_time": "2020-01-16T12:45:09.726Z"
    }
   },
   "outputs": [
    {
     "data": {
      "text/plain": [
       "Coly0(224220232, 0.0, false, 0, 0.0f0, false)"
      ]
     },
     "execution_count": 2,
     "metadata": {},
     "output_type": "execute_result"
    }
   ],
   "source": [
    "p = Coly0() "
   ]
  },
  {
   "cell_type": "markdown",
   "metadata": {
    "ExecuteTime": {
     "end_time": "2020-01-16T10:13:54.807000+01:00",
     "start_time": "2020-01-16T09:13:54.805Z"
    }
   },
   "source": [
    "Notice two important details:\n",
    "\n",
    "- We cannot chose to set one (or several) of the fields of `Coly0`\n",
    "- The values of the fields when you do   `Coly0()` are set randomly. "
   ]
  },
  {
   "cell_type": "markdown",
   "metadata": {
    "ExecuteTime": {
     "end_time": "2020-01-16T10:15:10.001000+01:00",
     "start_time": "2020-01-16T09:15:09.998Z"
    }
   },
   "source": [
    "To show that the values of the fields are set ramdonly we can create two different instances of `Coly0`\n",
    "and see that (probably) they will have different values.\n",
    "\n",
    "Here julia is just taking a slice of the memory (and whatever bytes are there are used to instanciate the fields)"
   ]
  },
  {
   "cell_type": "code",
   "execution_count": 3,
   "metadata": {
    "ExecuteTime": {
     "end_time": "2020-01-16T13:45:19.003000+01:00",
     "start_time": "2020-01-16T12:45:12.031Z"
    }
   },
   "outputs": [
    {
     "data": {
      "text/plain": [
       "Coly0(21, 1.04e-322, false, 1, 3.1f-44, false)"
      ]
     },
     "execution_count": 3,
     "metadata": {},
     "output_type": "execute_result"
    }
   ],
   "source": [
    "Coly0() "
   ]
  },
  {
   "cell_type": "code",
   "execution_count": 4,
   "metadata": {
    "ExecuteTime": {
     "end_time": "2020-01-16T13:45:19.005000+01:00",
     "start_time": "2020-01-16T12:45:12.203Z"
    }
   },
   "outputs": [
    {
     "data": {
      "text/plain": [
       "Coly0(52, 2.5e-322, false, 1, 7.4f-44, false)"
      ]
     },
     "execution_count": 4,
     "metadata": {},
     "output_type": "execute_result"
    }
   ],
   "source": [
    "Coly0() "
   ]
  },
  {
   "cell_type": "markdown",
   "metadata": {},
   "source": [
    "## Creating an instance of a struct specifying only a subset of the variables\n",
    "\n",
    "In Julia a function can have optional arguments. In particular, a constructor for a struct can also have optional  arguments. \n",
    "\n",
    "If we want to create a constructor for a struct with the capability to be instanciated only passing one of the values we can do as follows:"
   ]
  },
  {
   "cell_type": "code",
   "execution_count": 5,
   "metadata": {
    "ExecuteTime": {
     "end_time": "2020-01-16T13:45:19.493000+01:00",
     "start_time": "2020-01-16T12:45:14.587Z"
    }
   },
   "outputs": [
    {
     "data": {
      "text/plain": [
       "Coly1"
      ]
     },
     "execution_count": 5,
     "metadata": {},
     "output_type": "execute_result"
    }
   ],
   "source": [
    "mutable struct Coly1\n",
    "    x :: Int32\n",
    "    y :: Float64\n",
    "    z :: Bool\n",
    "    t :: Int32\n",
    "    u :: Float32\n",
    "    v :: Bool\n",
    "end;\n",
    "\n",
    "function Coly1(;x=0,y=0,z=false,t=0,u=0,v=false)\n",
    "    return Coly1(x,y,z,t,u,v)\n",
    "end"
   ]
  },
  {
   "cell_type": "markdown",
   "metadata": {
    "ExecuteTime": {
     "end_time": "2020-01-16T10:11:50.888000+01:00",
     "start_time": "2020-01-16T09:11:50.809Z"
    }
   },
   "source": [
    "Notice that we set some values for the fields of the constructor. In our case all is set to `0` and `false`.\n",
    "\n",
    "We can create a `Coly1` instance specifying only one of the arguments."
   ]
  },
  {
   "cell_type": "code",
   "execution_count": 6,
   "metadata": {
    "ExecuteTime": {
     "end_time": "2020-01-16T13:45:20.542000+01:00",
     "start_time": "2020-01-16T12:45:16.081Z"
    }
   },
   "outputs": [
    {
     "data": {
      "text/plain": [
       "Coly1(0, 3.14, false, 0, 0.0f0, false)"
      ]
     },
     "execution_count": 6,
     "metadata": {},
     "output_type": "execute_result"
    }
   ],
   "source": [
    "p = Coly1(y=3.14)"
   ]
  },
  {
   "cell_type": "markdown",
   "metadata": {
    "ExecuteTime": {
     "end_time": "2020-01-16T10:19:28.880000+01:00",
     "start_time": "2020-01-16T09:19:28.878Z"
    }
   },
   "source": [
    "Or a subset of the arguments"
   ]
  },
  {
   "cell_type": "code",
   "execution_count": 7,
   "metadata": {
    "ExecuteTime": {
     "end_time": "2020-01-16T13:45:20.579000+01:00",
     "start_time": "2020-01-16T12:45:16.441Z"
    },
    "scrolled": true
   },
   "outputs": [
    {
     "data": {
      "text/plain": [
       "Coly1(0, 3.14, true, 0, 0.0f0, false)"
      ]
     },
     "execution_count": 7,
     "metadata": {},
     "output_type": "execute_result"
    }
   ],
   "source": [
    "p2 = Coly1(y=3.14,z=true)"
   ]
  },
  {
   "cell_type": "markdown",
   "metadata": {},
   "source": [
    "Or none of the arguments\n"
   ]
  },
  {
   "cell_type": "code",
   "execution_count": 8,
   "metadata": {
    "ExecuteTime": {
     "end_time": "2020-01-16T13:45:20.591000+01:00",
     "start_time": "2020-01-16T12:45:17.532Z"
    }
   },
   "outputs": [
    {
     "data": {
      "text/plain": [
       "Coly1(0, 0.0, false, 0, 0.0f0, false)"
      ]
     },
     "execution_count": 8,
     "metadata": {},
     "output_type": "execute_result"
    }
   ],
   "source": [
    "p2 = Coly1()"
   ]
  },
  {
   "cell_type": "markdown",
   "metadata": {},
   "source": [
    "A question might arise. Once a `Coly1` instance is created, can we know which field was used to instanciate the object?\n",
    "\n",
    "For example after \n",
    "\n",
    "```\n",
    "p2 = Coly1(y=3.14,z=true)\n",
    "```\n",
    "\n",
    "Is called, can we know that we used `y` and `z` to create the instance?\n",
    "\n",
    "Well in this case we can know because the values passed are different than the default values but it could be  the case that we define\n",
    "```\n",
    "p2 = Coly1(y=0,z=true)\n",
    "```\n",
    "which would not allow us to know that `y` was set by the user.\n",
    "\n"
   ]
  },
  {
   "cell_type": "code",
   "execution_count": 9,
   "metadata": {
    "ExecuteTime": {
     "end_time": "2020-01-16T13:45:20.611000+01:00",
     "start_time": "2020-01-16T12:45:17.874Z"
    }
   },
   "outputs": [
    {
     "data": {
      "text/plain": [
       "Coly3"
      ]
     },
     "execution_count": 9,
     "metadata": {},
     "output_type": "execute_result"
    }
   ],
   "source": [
    "mutable struct Coly3\n",
    "    x :: Union{Int32,Missing}\n",
    "    y :: Union{Float64, Missing}\n",
    "    z :: Union{Bool,Missing}\n",
    "    t :: Union{Int32,Missing}\n",
    "    u :: Union{Float32,Missing}\n",
    "    v :: Union{Bool,Missing}\n",
    "    #coly8() = ( K = new())\n",
    "end;\n",
    "\n",
    "function Coly3(;x=missing,y=missing,z=missing,t=missing,u=missing,v=missing)\n",
    "    return Coly3(x,y,z,t,u,v)\n",
    "end"
   ]
  },
  {
   "cell_type": "markdown",
   "metadata": {
    "ExecuteTime": {
     "end_time": "2020-01-16T10:25:15.586000+01:00",
     "start_time": "2020-01-16T09:25:15.584Z"
    }
   },
   "source": [
    "Now we can create objects with default \"missing\" to explicitly know that users did not set a value, \n",
    "with the convention that argumetns will not be set to missing."
   ]
  },
  {
   "cell_type": "code",
   "execution_count": 10,
   "metadata": {
    "ExecuteTime": {
     "end_time": "2020-01-16T13:45:20.901000+01:00",
     "start_time": "2020-01-16T12:45:19.059Z"
    }
   },
   "outputs": [
    {
     "data": {
      "text/plain": [
       "Coly3(missing, missing, missing, missing, missing, missing)"
      ]
     },
     "execution_count": 10,
     "metadata": {},
     "output_type": "execute_result"
    }
   ],
   "source": [
    "p = Coly3()"
   ]
  },
  {
   "cell_type": "code",
   "execution_count": 11,
   "metadata": {
    "ExecuteTime": {
     "end_time": "2020-01-16T13:45:20.943000+01:00",
     "start_time": "2020-01-16T12:45:19.220Z"
    }
   },
   "outputs": [
    {
     "data": {
      "text/plain": [
       "Coly3(missing, 3.0, missing, missing, missing, missing)"
      ]
     },
     "execution_count": 11,
     "metadata": {},
     "output_type": "execute_result"
    }
   ],
   "source": [
    "p2 = Coly3(y=3)"
   ]
  },
  {
   "cell_type": "code",
   "execution_count": 12,
   "metadata": {
    "ExecuteTime": {
     "end_time": "2020-01-16T13:45:45.680000+01:00",
     "start_time": "2020-01-16T12:45:45.669Z"
    }
   },
   "outputs": [
    {
     "data": {
      "text/plain": [
       "Coly4"
      ]
     },
     "execution_count": 12,
     "metadata": {},
     "output_type": "execute_result"
    }
   ],
   "source": [
    "mutable struct Coly4\n",
    "    x :: Int32\n",
    "    y :: Float64\n",
    "    z :: Bool\n",
    "    t :: Int32\n",
    "    u :: Float32\n",
    "    v :: Bool\n",
    "end;\n",
    "\n",
    "function Coly4(x;y=0,z=false,t=0,u=0,v=false)\n",
    "    return Coly4(x,y,z,t,u,v)\n",
    "end"
   ]
  },
  {
   "cell_type": "code",
   "execution_count": 13,
   "metadata": {
    "ExecuteTime": {
     "end_time": "2020-01-16T13:45:46.219000+01:00",
     "start_time": "2020-01-16T12:45:46.208Z"
    }
   },
   "outputs": [
    {
     "data": {
      "text/plain": [
       "Coly4(4, 0.0, false, 0, 0.0f0, false)"
      ]
     },
     "execution_count": 13,
     "metadata": {},
     "output_type": "execute_result"
    }
   ],
   "source": [
    "Coly4(4)"
   ]
  },
  {
   "cell_type": "markdown",
   "metadata": {},
   "source": [
    "## Struct generation with random values in a set of predefined fields"
   ]
  },
  {
   "cell_type": "code",
   "execution_count": 14,
   "metadata": {
    "ExecuteTime": {
     "end_time": "2020-01-16T13:46:37.822000+01:00",
     "start_time": "2020-01-16T12:46:37.818Z"
    }
   },
   "outputs": [],
   "source": [
    "mutable struct Coly_xy\n",
    "           x :: Int32\n",
    "           y :: Float64\n",
    "           z :: Bool\n",
    "           t :: Int32\n",
    "           u :: Float32\n",
    "           v :: Bool\n",
    "           Coly_xy(x,y) = new(x,y)\n",
    "       end\n"
   ]
  },
  {
   "cell_type": "code",
   "execution_count": 15,
   "metadata": {
    "ExecuteTime": {
     "end_time": "2020-01-16T13:46:51.366000+01:00",
     "start_time": "2020-01-16T12:46:51.363Z"
    }
   },
   "outputs": [
    {
     "data": {
      "text/plain": [
       "Coly_xy(2, 3.0, false, 1, 1.5f-44, false)"
      ]
     },
     "execution_count": 15,
     "metadata": {},
     "output_type": "execute_result"
    }
   ],
   "source": [
    "Coly_xy(2,3)"
   ]
  },
  {
   "cell_type": "code",
   "execution_count": 16,
   "metadata": {
    "ExecuteTime": {
     "end_time": "2020-01-16T13:46:53.199000+01:00",
     "start_time": "2020-01-16T12:46:53.196Z"
    }
   },
   "outputs": [
    {
     "data": {
      "text/plain": [
       "Coly_xy(2, 4.0, false, 1, 1.0f-45, false)"
      ]
     },
     "execution_count": 16,
     "metadata": {},
     "output_type": "execute_result"
    }
   ],
   "source": [
    "Coly_xy(2,4)"
   ]
  },
  {
   "cell_type": "markdown",
   "metadata": {},
   "source": [
    "## Struct generation with random values in any set of fields"
   ]
  },
  {
   "cell_type": "code",
   "execution_count": 33,
   "metadata": {
    "ExecuteTime": {
     "end_time": "2020-01-16T13:51:34.927000+01:00",
     "start_time": "2020-01-16T12:51:34.891Z"
    }
   },
   "outputs": [],
   "source": [
    "mutable struct coly_rand\n",
    "    x :: Int32\n",
    "    y :: Float64\n",
    "    z :: Bool\n",
    "    t :: Int32\n",
    "    u :: Float32\n",
    "    v :: Bool\n",
    "    \n",
    "    function coly_rand(;kwargs...)\n",
    "        K = new()\n",
    "        for (key, value) in kwargs\n",
    "            setfield!(K, key, value)\n",
    "        end\n",
    "        return K\n",
    "    end\n",
    "    \n",
    "end"
   ]
  },
  {
   "cell_type": "code",
   "execution_count": 88,
   "metadata": {
    "ExecuteTime": {
     "end_time": "2020-01-16T14:02:04.631000+01:00",
     "start_time": "2020-01-16T13:02:04.628Z"
    }
   },
   "outputs": [
    {
     "data": {
      "text/plain": [
       "coly_rand(8388608, 3.0, false, 1, 2.6329966f-28, true)"
      ]
     },
     "execution_count": 88,
     "metadata": {},
     "output_type": "execute_result"
    }
   ],
   "source": [
    "p = coly_rand(y=Float64(3))"
   ]
  },
  {
   "cell_type": "markdown",
   "metadata": {},
   "source": [
    "Notice though that this is not working"
   ]
  },
  {
   "cell_type": "code",
   "execution_count": 90,
   "metadata": {
    "ExecuteTime": {
     "end_time": "2020-01-16T14:02:15.195000+01:00",
     "start_time": "2020-01-16T13:02:15.188Z"
    }
   },
   "outputs": [
    {
     "ename": "MethodError",
     "evalue": "MethodError: no method matching coly_rand(::Int64)\nClosest candidates are:\n  coly_rand(; kwargs...) at In[81]:10",
     "output_type": "error",
     "traceback": [
      "MethodError: no method matching coly_rand(::Int64)\nClosest candidates are:\n  coly_rand(; kwargs...) at In[81]:10",
      "",
      "Stacktrace:",
      " [1] top-level scope at In[90]:1"
     ]
    }
   ],
   "source": [
    "coly_rand(3)"
   ]
  },
  {
   "cell_type": "markdown",
   "metadata": {
    "ExecuteTime": {
     "end_time": "2020-01-16T14:02:36.244000+01:00",
     "start_time": "2020-01-16T13:02:36.242Z"
    }
   },
   "source": [
    "Since we want to use a constructor that is not the defautl we need to specify the conversion of the input types."
   ]
  },
  {
   "cell_type": "code",
   "execution_count": 96,
   "metadata": {
    "ExecuteTime": {
     "end_time": "2020-01-16T14:08:42.536000+01:00",
     "start_time": "2020-01-16T13:08:42.533Z"
    }
   },
   "outputs": [
    {
     "data": {
      "text/plain": [
       "(Int32, Float64, Bool, Int32, Float32, Bool)"
      ]
     },
     "execution_count": 96,
     "metadata": {},
     "output_type": "execute_result"
    }
   ],
   "source": [
    "field_types = fieldtypes(coly_rand)"
   ]
  },
  {
   "cell_type": "code",
   "execution_count": 93,
   "metadata": {
    "ExecuteTime": {
     "end_time": "2020-01-16T14:02:38.084000+01:00",
     "start_time": "2020-01-16T13:02:38.076Z"
    }
   },
   "outputs": [],
   "source": [
    "mutable struct coly_rand\n",
    "    x :: Int32\n",
    "    y :: Float64\n",
    "    z :: Bool\n",
    "    t :: Int32\n",
    "    u :: Float32\n",
    "    v :: Bool\n",
    "    \n",
    "    function coly_rand(;kwargs...)\n",
    "        K = new()\n",
    "        for (key, value) in kwargs\n",
    "            field_type_key = typeof(getfield(K,key))\n",
    "            setfield!(K, key, convert(field_type_key, value))\n",
    "        end\n",
    "        return K\n",
    "    end\n",
    "    \n",
    "end"
   ]
  },
  {
   "cell_type": "code",
   "execution_count": 94,
   "metadata": {
    "ExecuteTime": {
     "end_time": "2020-01-16T14:02:39.308000+01:00",
     "start_time": "2020-01-16T13:02:39.289Z"
    }
   },
   "outputs": [
    {
     "data": {
      "text/plain": [
       "coly_rand(2, 2.0, false, 1, 0.0f0, false)"
      ]
     },
     "execution_count": 94,
     "metadata": {},
     "output_type": "execute_result"
    }
   ],
   "source": [
    "coly_rand(x=2,y=2)"
   ]
  },
  {
   "cell_type": "code",
   "execution_count": 95,
   "metadata": {
    "ExecuteTime": {
     "end_time": "2020-01-16T14:02:39.463000+01:00",
     "start_time": "2020-01-16T13:02:39.446Z"
    }
   },
   "outputs": [
    {
     "data": {
      "text/plain": [
       "coly_rand(2, 2.2649842505e-314, false, 0, 3.0f-45, false)"
      ]
     },
     "execution_count": 95,
     "metadata": {},
     "output_type": "execute_result"
    }
   ],
   "source": [
    "coly_rand(x=2)"
   ]
  },
  {
   "cell_type": "code",
   "execution_count": null,
   "metadata": {},
   "outputs": [],
   "source": []
  }
 ],
 "metadata": {
  "kernelspec": {
   "display_name": "Julia 1.8.0",
   "language": "julia",
   "name": "julia-1.8"
  },
  "language_info": {
   "file_extension": ".jl",
   "mimetype": "application/julia",
   "name": "julia",
   "version": "1.8.0"
  },
  "toc": {
   "base_numbering": 1,
   "nav_menu": {},
   "number_sections": true,
   "sideBar": true,
   "skip_h1_title": false,
   "title_cell": "Table of Contents",
   "title_sidebar": "Contents",
   "toc_cell": false,
   "toc_position": {},
   "toc_section_display": true,
   "toc_window_display": false
  }
 },
 "nbformat": 4,
 "nbformat_minor": 2
}
