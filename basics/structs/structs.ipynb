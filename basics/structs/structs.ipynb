{
 "cells": [
  {
   "cell_type": "markdown",
   "metadata": {},
   "source": [
    "## Structs"
   ]
  },
  {
   "cell_type": "markdown",
   "metadata": {
    "ExecuteTime": {
     "end_time": "2020-01-16T10:15:55.302000+01:00",
     "start_time": "2020-01-16T09:15:55.300Z"
    }
   },
   "source": [
    "We can define a `struct` specifiing the fields and the type they should be."
   ]
  },
  {
   "cell_type": "code",
   "execution_count": 42,
   "metadata": {
    "ExecuteTime": {
     "end_time": "2020-01-16T10:12:30.255000+01:00",
     "start_time": "2020-01-16T09:12:30.252Z"
    }
   },
   "outputs": [],
   "source": [
    "mutable struct Coly0\n",
    "    x :: Int32\n",
    "    y :: Float64\n",
    "    z :: Bool\n",
    "    t :: Int32\n",
    "    u :: Float32\n",
    "    v :: Bool\n",
    "    Coly0() = ( K = new())\n",
    "end;"
   ]
  },
  {
   "cell_type": "code",
   "execution_count": 44,
   "metadata": {
    "ExecuteTime": {
     "end_time": "2020-01-16T10:12:41.831000+01:00",
     "start_time": "2020-01-16T09:12:41.828Z"
    }
   },
   "outputs": [
    {
     "data": {
      "text/plain": [
       "Coly0(2, 1.5e-323, true, 0, 8.0f-45, false)"
      ]
     },
     "execution_count": 44,
     "metadata": {},
     "output_type": "execute_result"
    }
   ],
   "source": [
    "p = Coly0() "
   ]
  },
  {
   "cell_type": "markdown",
   "metadata": {
    "ExecuteTime": {
     "end_time": "2020-01-16T10:13:54.807000+01:00",
     "start_time": "2020-01-16T09:13:54.805Z"
    }
   },
   "source": [
    "Notice two important details:\n",
    "\n",
    "- We cannot chose to set one (or several) of the fields of `Coly0`\n",
    "- The values of the fields when you do   `Coly0()` are set randomly. "
   ]
  },
  {
   "cell_type": "markdown",
   "metadata": {
    "ExecuteTime": {
     "end_time": "2020-01-16T10:15:10.001000+01:00",
     "start_time": "2020-01-16T09:15:09.998Z"
    }
   },
   "source": [
    "To show that the values of the fields are set ramdonly we can create two different instances of `Coly0`\n",
    "and see that (probably) they will have different values.\n",
    "\n",
    "Here julia is just taking a slice of the memory (and whatever bytes are there are used to instanciate the fields)"
   ]
  },
  {
   "cell_type": "code",
   "execution_count": 47,
   "metadata": {
    "ExecuteTime": {
     "end_time": "2020-01-16T10:14:01.140000+01:00",
     "start_time": "2020-01-16T09:14:01.137Z"
    }
   },
   "outputs": [
    {
     "data": {
      "text/plain": [
       "Coly0(301324896, 2.448410062e-314, false, 1, 0.0f0, false)"
      ]
     },
     "execution_count": 47,
     "metadata": {},
     "output_type": "execute_result"
    }
   ],
   "source": [
    "Coly0() "
   ]
  },
  {
   "cell_type": "code",
   "execution_count": 48,
   "metadata": {
    "ExecuteTime": {
     "end_time": "2020-01-16T10:14:02.919000+01:00",
     "start_time": "2020-01-16T09:14:02.916Z"
    }
   },
   "outputs": [
    {
     "data": {
      "text/plain": [
       "Coly0(660593152, 2.4483758886e-314, false, 1, 3.131037f-15, true)"
      ]
     },
     "execution_count": 48,
     "metadata": {},
     "output_type": "execute_result"
    }
   ],
   "source": [
    "Coly0() "
   ]
  },
  {
   "cell_type": "markdown",
   "metadata": {},
   "source": [
    "## Creating an instance of a struct specifying only a subset of the variables\n",
    "\n",
    "In Julia a function can have optional arguments. In particular, a constructor for a struct can also have optional  arguments. \n",
    "\n",
    "If we want to create a constructor for a struct with the capability to be instanciated only passing one of the values we can do as follows:"
   ]
  },
  {
   "cell_type": "code",
   "execution_count": 64,
   "metadata": {
    "ExecuteTime": {
     "end_time": "2020-01-16T10:20:26.160000+01:00",
     "start_time": "2020-01-16T09:20:26.151Z"
    }
   },
   "outputs": [
    {
     "data": {
      "text/plain": [
       "Coly1"
      ]
     },
     "execution_count": 64,
     "metadata": {},
     "output_type": "execute_result"
    }
   ],
   "source": [
    "mutable struct Coly1\n",
    "    x :: Int32\n",
    "    y :: Float64\n",
    "    z :: Bool\n",
    "    t :: Int32\n",
    "    u :: Float32\n",
    "    v :: Bool\n",
    "end;\n",
    "\n",
    "function Coly1(;x=0,y=0,z=false,t=0,u=0,v=false)\n",
    "    return Coly1(x,y,z,t,u,v)\n",
    "end"
   ]
  },
  {
   "cell_type": "markdown",
   "metadata": {
    "ExecuteTime": {
     "end_time": "2020-01-16T10:11:50.888000+01:00",
     "start_time": "2020-01-16T09:11:50.809Z"
    }
   },
   "source": [
    "Notice that we set some values for the fields of the constructor. In our case all is set to `0` and `false`.\n",
    "\n",
    "We can create a `Coly1` instance specifying only one of the arguments."
   ]
  },
  {
   "cell_type": "code",
   "execution_count": 65,
   "metadata": {
    "ExecuteTime": {
     "end_time": "2020-01-16T10:20:27.176000+01:00",
     "start_time": "2020-01-16T09:20:27.173Z"
    }
   },
   "outputs": [
    {
     "data": {
      "text/plain": [
       "coly1(0, 3.14, false, 0, 0.0f0, false)"
      ]
     },
     "execution_count": 65,
     "metadata": {},
     "output_type": "execute_result"
    }
   ],
   "source": [
    "p = Coly1(y=3.14)"
   ]
  },
  {
   "cell_type": "markdown",
   "metadata": {
    "ExecuteTime": {
     "end_time": "2020-01-16T10:19:28.880000+01:00",
     "start_time": "2020-01-16T09:19:28.878Z"
    }
   },
   "source": [
    "Or a subset of the arguments"
   ]
  },
  {
   "cell_type": "code",
   "execution_count": 62,
   "metadata": {
    "ExecuteTime": {
     "end_time": "2020-01-16T10:19:30.590000+01:00",
     "start_time": "2020-01-16T09:19:30.587Z"
    },
    "scrolled": true
   },
   "outputs": [
    {
     "data": {
      "text/plain": [
       "coly1(0, 3.14, true, 0, 0.0f0, false)"
      ]
     },
     "execution_count": 62,
     "metadata": {},
     "output_type": "execute_result"
    }
   ],
   "source": [
    "p2 = Coly1(y=3.14,z=true)"
   ]
  },
  {
   "cell_type": "markdown",
   "metadata": {},
   "source": [
    "Or none of the arguments\n"
   ]
  },
  {
   "cell_type": "code",
   "execution_count": 63,
   "metadata": {
    "ExecuteTime": {
     "end_time": "2020-01-16T10:19:43.016000+01:00",
     "start_time": "2020-01-16T09:19:43.007Z"
    }
   },
   "outputs": [
    {
     "data": {
      "text/plain": [
       "coly1(0, 0.0, false, 0, 0.0f0, false)"
      ]
     },
     "execution_count": 63,
     "metadata": {},
     "output_type": "execute_result"
    }
   ],
   "source": [
    "p2 = Coly1()"
   ]
  },
  {
   "cell_type": "markdown",
   "metadata": {},
   "source": [
    "A question might arise. Once a `Coly1` instance is created, can we know which field was used to instanciate the object?\n",
    "\n",
    "For example after \n",
    "\n",
    "```\n",
    "p2 = Coly1(y=3.14,z=true)\n",
    "```\n",
    "\n",
    "Is called, can we know that we used `y` and `z` to create the instance?\n",
    "\n",
    "Well in this case we can know because the values passed are different than the default values but it could be  the case that we define\n",
    "```\n",
    "p2 = Coly1(y=0,z=true)\n",
    "```\n",
    "which would not allow us to know that `y` was set by the user.\n",
    "\n"
   ]
  },
  {
   "cell_type": "code",
   "execution_count": 85,
   "metadata": {
    "ExecuteTime": {
     "end_time": "2020-01-16T10:26:28.436000+01:00",
     "start_time": "2020-01-16T09:26:28.426Z"
    }
   },
   "outputs": [
    {
     "data": {
      "text/plain": [
       "Coly3"
      ]
     },
     "execution_count": 85,
     "metadata": {},
     "output_type": "execute_result"
    }
   ],
   "source": [
    "mutable struct Coly3\n",
    "    x :: Union{Int32,Missing}\n",
    "    y :: Union{Float64, Missing}\n",
    "    z :: Union{Bool,Missing}\n",
    "    t :: Union{Int32,Missing}\n",
    "    u :: Union{Float32,Missing}\n",
    "    v :: Union{Bool,Missing}\n",
    "    #coly8() = ( K = new())\n",
    "end;\n",
    "\n",
    "function Coly3(;x=missing,y=missing,z=missing,t=missing,u=missing,v=missing)\n",
    "    return Coly3(x,y,z,t,u,v)\n",
    "end"
   ]
  },
  {
   "cell_type": "markdown",
   "metadata": {
    "ExecuteTime": {
     "end_time": "2020-01-16T10:25:15.586000+01:00",
     "start_time": "2020-01-16T09:25:15.584Z"
    }
   },
   "source": [
    "Now we can create objects with default \"missing\" to explicitly know that users did not set a value, \n",
    "with the convention that argumetns will not be set to missing."
   ]
  },
  {
   "cell_type": "code",
   "execution_count": 87,
   "metadata": {
    "ExecuteTime": {
     "end_time": "2020-01-16T10:26:56.575000+01:00",
     "start_time": "2020-01-16T09:26:56.572Z"
    }
   },
   "outputs": [
    {
     "data": {
      "text/plain": [
       "Coly3(missing, missing, missing, missing, missing, missing)"
      ]
     },
     "execution_count": 87,
     "metadata": {},
     "output_type": "execute_result"
    }
   ],
   "source": [
    "p = Coly3()"
   ]
  },
  {
   "cell_type": "code",
   "execution_count": 88,
   "metadata": {
    "ExecuteTime": {
     "end_time": "2020-01-16T10:26:56.755000+01:00",
     "start_time": "2020-01-16T09:26:56.741Z"
    }
   },
   "outputs": [
    {
     "data": {
      "text/plain": [
       "Coly3(missing, 3.0, missing, missing, missing, missing)"
      ]
     },
     "execution_count": 88,
     "metadata": {},
     "output_type": "execute_result"
    }
   ],
   "source": [
    "p2 = Coly3(y=3)"
   ]
  },
  {
   "cell_type": "code",
   "execution_count": null,
   "metadata": {},
   "outputs": [],
   "source": []
  },
  {
   "cell_type": "code",
   "execution_count": 93,
   "metadata": {
    "ExecuteTime": {
     "end_time": "2020-01-16T10:34:35.700000+01:00",
     "start_time": "2020-01-16T09:34:35.687Z"
    }
   },
   "outputs": [
    {
     "data": {
      "text/plain": [
       "Coly4"
      ]
     },
     "execution_count": 93,
     "metadata": {},
     "output_type": "execute_result"
    }
   ],
   "source": [
    "mutable struct Coly4\n",
    "    x :: Int32\n",
    "    y :: Float64\n",
    "    z :: Bool\n",
    "    t :: Int32\n",
    "    u :: Float32\n",
    "    v :: Bool\n",
    "end;\n",
    "\n",
    "function Coly4(x;y=0,z=false,t=0,u=0,v=false)\n",
    "    return Coly4(x,y,z,t,u,v)\n",
    "end"
   ]
  },
  {
   "cell_type": "code",
   "execution_count": 100,
   "metadata": {
    "ExecuteTime": {
     "end_time": "2020-01-16T10:36:11.486000+01:00",
     "start_time": "2020-01-16T09:36:11.479Z"
    }
   },
   "outputs": [
    {
     "ename": "MethodError",
     "evalue": "MethodError: no method matching Coly4()\nClosest candidates are:\n  Coly4(!Matched::Int32, !Matched::Float64, !Matched::Bool, !Matched::Int32, !Matched::Float32, !Matched::Bool) at In[93]:2\n  Coly4(!Matched::Any; y, z, t, u, v) at In[93]:11\n  Coly4(!Matched::Any, !Matched::Any, !Matched::Any, !Matched::Any, !Matched::Any, !Matched::Any) at In[93]:2",
     "output_type": "error",
     "traceback": [
      "MethodError: no method matching Coly4()\nClosest candidates are:\n  Coly4(!Matched::Int32, !Matched::Float64, !Matched::Bool, !Matched::Int32, !Matched::Float32, !Matched::Bool) at In[93]:2\n  Coly4(!Matched::Any; y, z, t, u, v) at In[93]:11\n  Coly4(!Matched::Any, !Matched::Any, !Matched::Any, !Matched::Any, !Matched::Any, !Matched::Any) at In[93]:2",
      "",
      "Stacktrace:",
      " [1] top-level scope at In[100]:1"
     ]
    }
   ],
   "source": [
    "Coly4()"
   ]
  },
  {
   "cell_type": "code",
   "execution_count": 101,
   "metadata": {
    "ExecuteTime": {
     "end_time": "2020-01-16T10:36:12.563000+01:00",
     "start_time": "2020-01-16T09:36:12.560Z"
    }
   },
   "outputs": [
    {
     "data": {
      "text/plain": [
       "Coly4(2, 0.0, false, 0, 0.0f0, false)"
      ]
     },
     "execution_count": 101,
     "metadata": {},
     "output_type": "execute_result"
    }
   ],
   "source": [
    "Coly4(2)"
   ]
  },
  {
   "cell_type": "code",
   "execution_count": null,
   "metadata": {},
   "outputs": [],
   "source": []
  }
 ],
 "metadata": {
  "kernelspec": {
   "display_name": "Julia 1.3.0",
   "language": "julia",
   "name": "julia-1.3"
  },
  "language_info": {
   "file_extension": ".jl",
   "mimetype": "application/julia",
   "name": "julia",
   "version": "1.3.0"
  },
  "toc": {
   "base_numbering": 1,
   "nav_menu": {},
   "number_sections": true,
   "sideBar": true,
   "skip_h1_title": false,
   "title_cell": "Table of Contents",
   "title_sidebar": "Contents",
   "toc_cell": false,
   "toc_position": {},
   "toc_section_display": true,
   "toc_window_display": false
  }
 },
 "nbformat": 4,
 "nbformat_minor": 2
}
