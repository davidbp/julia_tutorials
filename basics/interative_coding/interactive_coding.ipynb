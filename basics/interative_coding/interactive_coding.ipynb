{
 "cells": [
  {
   "cell_type": "markdown",
   "metadata": {},
   "source": [
    "# Interactive coding\n",
    "\n",
    "Sometimes, while coding in an interactive session we might want to edit, or know information, about methods or types that we have available. \n",
    "\n",
    "\n",
    "#### `InteractiveUtils` module\n",
    "\n",
    "We can do `using InteractiveUtils` to get acces to different usefull macros that give us interactive capabilities.\n",
    "\n",
    "\n"
   ]
  },
  {
   "cell_type": "markdown",
   "metadata": {},
   "source": [
    "Let us conside the case we are working on an interactive session.\n",
    "For testing pourposes we will use `Utilities.jl`.\n"
   ]
  },
  {
   "cell_type": "code",
   "execution_count": 13,
   "metadata": {},
   "outputs": [
    {
     "data": {
      "text/plain": [
       "4-element Array{String,1}:\n",
       " \"@\"      \n",
       " \"@v#.#\"  \n",
       " \"@stdlib\"\n",
       " \"./\"     "
      ]
     },
     "execution_count": 13,
     "metadata": {},
     "output_type": "execute_result"
    }
   ],
   "source": [
    "push!(LOAD_PATH, \"./\")"
   ]
  },
  {
   "cell_type": "code",
   "execution_count": 20,
   "metadata": {},
   "outputs": [],
   "source": [
    "using Utilities"
   ]
  },
  {
   "cell_type": "code",
   "execution_count": 21,
   "metadata": {},
   "outputs": [
    {
     "data": {
      "text/plain": [
       "double_num (generic function with 1 method)"
      ]
     },
     "execution_count": 21,
     "metadata": {},
     "output_type": "execute_result"
    }
   ],
   "source": [
    "Utilities.double_num"
   ]
  },
  {
   "cell_type": "markdown",
   "metadata": {},
   "source": [
    "The package exports the function `Utilities.double_num`. Let us assume, in our current session we don't recall where this method comes from. We can use the macro `@which` to tell us about the function."
   ]
  },
  {
   "cell_type": "markdown",
   "metadata": {},
   "source": [
    "### Find the module that contains an object of interest\n",
    "\n",
    "In interactive sessions where was defined a particular object.\n",
    "\n",
    "Let us try to find out from which module the function `double_num` comes from."
   ]
  },
  {
   "cell_type": "code",
   "execution_count": 22,
   "metadata": {},
   "outputs": [],
   "source": [
    "using InteractiveUtils"
   ]
  },
  {
   "cell_type": "code",
   "execution_count": 26,
   "metadata": {},
   "outputs": [
    {
     "data": {
      "text/latex": [
       "\\begin{verbatim}\n",
       "@which\n",
       "\\end{verbatim}\n",
       "Applied to a function or macro call, it evaluates the arguments to the specified call, and returns the \\texttt{Method} object for the method that would be called for those arguments. Applied to a variable, it returns the module in which the variable was bound. It calls out to the \\texttt{which} function.\n",
       "\n"
      ],
      "text/markdown": [
       "```\n",
       "@which\n",
       "```\n",
       "\n",
       "Applied to a function or macro call, it evaluates the arguments to the specified call, and returns the `Method` object for the method that would be called for those arguments. Applied to a variable, it returns the module in which the variable was bound. It calls out to the `which` function.\n"
      ],
      "text/plain": [
       "\u001b[36m  @which\u001b[39m\n",
       "\n",
       "  Applied to a function or macro call, it evaluates the arguments to the\n",
       "  specified call, and returns the \u001b[36mMethod\u001b[39m object for the method that would be\n",
       "  called for those arguments. Applied to a variable, it returns the module in\n",
       "  which the variable was bound. It calls out to the \u001b[36mwhich\u001b[39m function."
      ]
     },
     "execution_count": 26,
     "metadata": {},
     "output_type": "execute_result"
    }
   ],
   "source": [
    "?InteractiveUtils.@which"
   ]
  },
  {
   "cell_type": "code",
   "execution_count": 54,
   "metadata": {},
   "outputs": [
    {
     "data": {
      "text/plain": [
       "Utilities"
      ]
     },
     "execution_count": 54,
     "metadata": {},
     "output_type": "execute_result"
    }
   ],
   "source": [
    "@which double_num"
   ]
  },
  {
   "cell_type": "markdown",
   "metadata": {},
   "source": [
    "### Find the exact location of a function of interest\n",
    "\n",
    "We can use `@functionloc some_function(some_arguments)` to find where `some_function` is located.\n",
    "\n",
    "Notice that we need to pass arguments to the function since there can be different functions with the same name that apply to different types."
   ]
  },
  {
   "cell_type": "code",
   "execution_count": 58,
   "metadata": {},
   "outputs": [
    {
     "data": {
      "text/plain": [
       "(\"/Users/david/Documents/git_stuff/julia_tutorials/basics/interative_coding/Utilities.jl\", 5)"
      ]
     },
     "execution_count": 58,
     "metadata": {},
     "output_type": "execute_result"
    }
   ],
   "source": [
    "@functionloc double_num(2)"
   ]
  },
  {
   "cell_type": "markdown",
   "metadata": {},
   "source": [
    "Notice that we get the path of the file and the line (line 5) where the function starts. This is pretty handy to find out where is located the code we are using.\n",
    "\n",
    "Let us find out the file where the function `sin` is located."
   ]
  },
  {
   "cell_type": "code",
   "execution_count": 64,
   "metadata": {},
   "outputs": [
    {
     "data": {
      "text/plain": [
       "(\"/Applications/Julia-1.2.app/Contents/Resources/julia/bin/../share/julia/base/special/trig.jl\", 53)"
      ]
     },
     "execution_count": 64,
     "metadata": {},
     "output_type": "execute_result"
    }
   ],
   "source": [
    "@functionloc sin(2)"
   ]
  },
  {
   "cell_type": "markdown",
   "metadata": {},
   "source": [
    "### Open an editor with the file that contains an object of interest\n",
    "\n",
    "The `@edit ` macro opens an editor with the file that contains the object we pass as input.\n",
    "\n",
    "For example `@edit sin(2)` will open an editor with the file that has `sin` function we called."
   ]
  },
  {
   "cell_type": "code",
   "execution_count": 91,
   "metadata": {},
   "outputs": [
    {
     "name": "stdout",
     "output_type": "stream",
     "text": [
      "Unknown editor: no line number information passed.\n",
      "The method is defined at line 53.\n"
     ]
    }
   ],
   "source": [
    "@edit sin(2)"
   ]
  },
  {
   "cell_type": "code",
   "execution_count": null,
   "metadata": {},
   "outputs": [],
   "source": []
  }
 ],
 "metadata": {
  "kernelspec": {
   "display_name": "Julia 1.2.0",
   "language": "julia",
   "name": "julia-1.2"
  },
  "language_info": {
   "file_extension": ".jl",
   "mimetype": "application/julia",
   "name": "julia",
   "version": "1.2.0"
  }
 },
 "nbformat": 4,
 "nbformat_minor": 2
}
