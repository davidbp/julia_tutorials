{
 "cells": [
  {
   "cell_type": "markdown",
   "metadata": {
    "toc": true
   },
   "source": [
    "<h1>Table of Contents<span class=\"tocSkip\"></span></h1>\n",
    "<div class=\"toc\"><ul class=\"toc-item\"></ul></div>"
   ]
  },
  {
   "cell_type": "code",
   "execution_count": null,
   "metadata": {},
   "outputs": [],
   "source": []
  },
  {
   "cell_type": "code",
   "execution_count": 5,
   "metadata": {},
   "outputs": [
    {
     "name": "stderr",
     "output_type": "stream",
     "text": [
      "┌ Info: Recompiling stale cache file /home/david/.julia/compiled/v1.1/BenchmarkTools/ZXPQo.ji for BenchmarkTools [6e4b80f9-dd63-53aa-95a3-0cdb28fa8baf]\n",
      "└ @ Base loading.jl:1184\n"
     ]
    }
   ],
   "source": [
    "using BenchmarkTools"
   ]
  },
  {
   "cell_type": "code",
   "execution_count": 204,
   "metadata": {},
   "outputs": [],
   "source": [
    "function Log_Unnorm_Probs_B(x, W, Nh)\n",
    "    @inline Log_1_plus_Exp(x) = x > 50.0 ? x : log(1.0 + exp(x));\n",
    "    b     = view(W,:,1)\n",
    "    ww    = view(W,:,2:Nh+1);\n",
    "    x'*b .+ sum(Log_1_plus_Exp.(x'*ww),dims=2)\n",
    "end;"
   ]
  },
  {
   "cell_type": "code",
   "execution_count": 205,
   "metadata": {},
   "outputs": [],
   "source": [
    "Nsamples  = 1000\n",
    "NNv       = 300;\n",
    "NNh       = 600;\n",
    "WW        = randn(NNv+1,NNh+1);\n",
    "xxx       = rand([0.0,1.0],NNv+1,Nsamples)\n",
    "xxx[1,:] .= 1.0;\n"
   ]
  },
  {
   "cell_type": "code",
   "execution_count": 209,
   "metadata": {},
   "outputs": [
    {
     "data": {
      "text/plain": [
       "(1000, 1)"
      ]
     },
     "execution_count": 209,
     "metadata": {},
     "output_type": "execute_result"
    }
   ],
   "source": [
    "size(Log_Unnorm_Probs_B(xxx, WW, NNh))"
   ]
  },
  {
   "cell_type": "code",
   "execution_count": 176,
   "metadata": {},
   "outputs": [
    {
     "data": {
      "text/plain": [
       "(1000,)"
      ]
     },
     "execution_count": 176,
     "metadata": {},
     "output_type": "execute_result"
    }
   ],
   "source": [
    "size(xxx' * view(WW,:,1))"
   ]
  },
  {
   "cell_type": "code",
   "execution_count": 179,
   "metadata": {},
   "outputs": [
    {
     "data": {
      "text/plain": [
       "(1000,)"
      ]
     },
     "execution_count": 179,
     "metadata": {},
     "output_type": "execute_result"
    }
   ],
   "source": [
    "size(xxx' * view(WW,:,1))"
   ]
  },
  {
   "cell_type": "code",
   "execution_count": 33,
   "metadata": {},
   "outputs": [
    {
     "name": "stdout",
     "output_type": "stream",
     "text": [
      "  0.047082 seconds (19 allocations: 9.179 MiB)\n"
     ]
    }
   ],
   "source": [
    "@time Log_Unnorm_Probs_B(xxx,WW,NNh);"
   ]
  },
  {
   "cell_type": "code",
   "execution_count": 13,
   "metadata": {},
   "outputs": [
    {
     "name": "stdout",
     "output_type": "stream",
     "text": [
      "  34.335 ms (15 allocations: 9.18 MiB)\n"
     ]
    }
   ],
   "source": [
    "@btime Log_Unnorm_Probs_B(xxx,WW,NNh);"
   ]
  },
  {
   "cell_type": "code",
   "execution_count": 273,
   "metadata": {},
   "outputs": [
    {
     "data": {
      "text/plain": [
       "log_one_plus_exp_num (generic function with 1 method)"
      ]
     },
     "execution_count": 273,
     "metadata": {},
     "output_type": "execute_result"
    }
   ],
   "source": [
    "function log_one_plus_exp(X::AbstractArray)\n",
    "    Xnew = similar(X)\n",
    "    \n",
    "    for (i,x) in enumerate(X)\n",
    "        if x > 50\n",
    "            Xnew[i] = x\n",
    "        else\n",
    "             Xnew[i] =log(1.0 + exp(x))\n",
    "        end\n",
    "    end\n",
    "    return Xnew\n",
    "end\n",
    "\n",
    "function log_one_plus_exp2(X::AbstractArray)\n",
    "    Xnew = similar(X)\n",
    "    \n",
    "    for i in 1:length(X)\n",
    "        if X[i] > 50\n",
    "            Xnew[i] = X[i]\n",
    "        else\n",
    "            Xnew[i] =log(1.0 + exp(X[i]))\n",
    "        end\n",
    "    end\n",
    "    return Xnew\n",
    "end\n",
    "\n",
    "function log_one_plus_exp_num(x)\n",
    "    if x > 50 \n",
    "        return x\n",
    "    else\n",
    "        return log(1.0 + exp(x))\n",
    "    end\n",
    "end\n"
   ]
  },
  {
   "cell_type": "code",
   "execution_count": null,
   "metadata": {},
   "outputs": [],
   "source": []
  },
  {
   "cell_type": "code",
   "execution_count": 299,
   "metadata": {},
   "outputs": [
    {
     "data": {
      "text/plain": [
       "Log_Unnorm_Probs_B3 (generic function with 1 method)"
      ]
     },
     "execution_count": 299,
     "metadata": {},
     "output_type": "execute_result"
    }
   ],
   "source": [
    "@inline function log_one_plus_exp_num(x)\n",
    "    \n",
    "    if x > 50.0 \n",
    "        return x \n",
    "    else\n",
    "        return log(1.0 + exp(x))\n",
    "    end\n",
    "end\n",
    "\n",
    "function Log_Unnorm_Probs_B2(x, W, Nh)\n",
    "    #b     = view(W,:,1)\n",
    "    #ww    = view(W,:,2:Nh+1);\n",
    "    \n",
    "    b           = W[:,1]\n",
    "    ww          = W[:,2:Nh+1]    \n",
    "    propup      = x'*ww\n",
    "    n_result    = size(x,2)\n",
    "    result      = similar(1:n_result, Float64)\n",
    "    propup_bias = x'*b \n",
    "    n_cols      = size(propup,2)\n",
    "    \n",
    "    @inbounds  for i in 1:length(result)\n",
    "        sum_j = zero(eltype(result))\n",
    "        @simd for j in 1:n_cols\n",
    "            sum_j += log_one_plus_exp_num(propup[i,j])\n",
    "        end\n",
    "        result[i] = propup_bias[i] + sum_j\n",
    "    end\n",
    "    \n",
    "    return result\n",
    "    #return #x'*b .+ sum(log_one_plus_exp(x'*ww),dims=2)\n",
    "end\n",
    "\n",
    "function Log_Unnorm_Probs_B3(x, W, Nh)\n",
    "    #b     = view(W,:,1)\n",
    "    #ww    = view(W,:,2:Nh+1);\n",
    "    \n",
    "    b           = W[:,1]\n",
    "    ww          = W[:,2:Nh+1]    \n",
    "    propup      = x'*ww\n",
    "    n_result    = size(x,2)\n",
    "    result      = similar(1:n_result, Float64)\n",
    "    propup_bias = x'*b \n",
    "    n_cols      = size(propup,2)\n",
    "    \n",
    "    @inbounds  for i in 1:length(result)\n",
    "        sum_j = zero(eltype(result))\n",
    "        @simd for j in 1:n_cols\n",
    "            sum_j += exp(propup[i,j]) #log(1.0 + exp(propup[i,j]))\n",
    "        end\n",
    "        result[i] = propup_bias[i] + sum_j\n",
    "    end\n",
    "    \n",
    "    return result\n",
    "end"
   ]
  },
  {
   "cell_type": "code",
   "execution_count": 297,
   "metadata": {},
   "outputs": [
    {
     "name": "stdout",
     "output_type": "stream",
     "text": [
      "  0.097515 seconds (85.69 k allocations: 10.372 MiB)\n"
     ]
    }
   ],
   "source": [
    "@time Log_Unnorm_Probs_B2(xxx,WW,NNh);"
   ]
  },
  {
   "cell_type": "code",
   "execution_count": 300,
   "metadata": {},
   "outputs": [
    {
     "name": "stdout",
     "output_type": "stream",
     "text": [
      "  23.377 ms (7 allocations: 5.97 MiB)\n"
     ]
    }
   ],
   "source": [
    "@btime Log_Unnorm_Probs_B3(xxx,WW,NNh);"
   ]
  },
  {
   "cell_type": "code",
   "execution_count": 305,
   "metadata": {},
   "outputs": [
    {
     "ename": "DimensionMismatch",
     "evalue": "DimensionMismatch(\"matrix is not square: dimensions are (301, 1000)\")",
     "output_type": "error",
     "traceback": [
      "DimensionMismatch(\"matrix is not square: dimensions are (301, 1000)\")",
      "",
      "Stacktrace:",
      " [1] checksquare at /buildworker/worker/package_linux64/build/usr/share/julia/stdlib/v1.1/LinearAlgebra/src/LinearAlgebra.jl:214 [inlined]",
      " [2] exp!(::Array{Float64,2}) at /buildworker/worker/package_linux64/build/usr/share/julia/stdlib/v1.1/LinearAlgebra/src/dense.jl:513",
      " [3] exp(::Array{Float64,2}) at /buildworker/worker/package_linux64/build/usr/share/julia/stdlib/v1.1/LinearAlgebra/src/dense.jl:481",
      " [4] top-level scope at In[305]:1"
     ]
    }
   ],
   "source": [
    "exp(xxx)"
   ]
  },
  {
   "cell_type": "code",
   "execution_count": 333,
   "metadata": {},
   "outputs": [
    {
     "data": {
      "text/plain": [
       "custom_exp (generic function with 1 method)"
      ]
     },
     "execution_count": 333,
     "metadata": {},
     "output_type": "execute_result"
    }
   ],
   "source": [
    "custom_exp(x) = 1 + x + x^2/factorial(2) + x^3/factorial(3) + x^4/factorial(4) + x^5/factorial(5) +  x^6/factorial(6) +  x^7/factorial(7)"
   ]
  },
  {
   "cell_type": "code",
   "execution_count": 334,
   "metadata": {},
   "outputs": [
    {
     "data": {
      "text/plain": [
       "7.38905609893065"
      ]
     },
     "execution_count": 334,
     "metadata": {},
     "output_type": "execute_result"
    }
   ],
   "source": [
    "exp(2)"
   ]
  },
  {
   "cell_type": "code",
   "execution_count": 340,
   "metadata": {},
   "outputs": [
    {
     "data": {
      "text/plain": [
       "7.3809523809523805"
      ]
     },
     "execution_count": 340,
     "metadata": {},
     "output_type": "execute_result"
    }
   ],
   "source": [
    "custom_exp(2)"
   ]
  },
  {
   "cell_type": "code",
   "execution_count": 347,
   "metadata": {},
   "outputs": [
    {
     "name": "stdout",
     "output_type": "stream",
     "text": [
      "  29.803 ns (0 allocations: 0 bytes)\n"
     ]
    },
    {
     "data": {
      "text/plain": [
       "7.3809523809523805"
      ]
     },
     "execution_count": 347,
     "metadata": {},
     "output_type": "execute_result"
    }
   ],
   "source": [
    "@btime custom_exp(2)"
   ]
  },
  {
   "cell_type": "code",
   "execution_count": 346,
   "metadata": {},
   "outputs": [
    {
     "name": "stdout",
     "output_type": "stream",
     "text": [
      "  0.017 ns (0 allocations: 0 bytes)\n"
     ]
    },
    {
     "data": {
      "text/plain": [
       "7.38905609893065"
      ]
     },
     "execution_count": 346,
     "metadata": {},
     "output_type": "execute_result"
    }
   ],
   "source": [
    "@btime exp(2)"
   ]
  },
  {
   "cell_type": "code",
   "execution_count": 339,
   "metadata": {},
   "outputs": [
    {
     "data": {
      "text/plain": [
       "1.0"
      ]
     },
     "execution_count": 339,
     "metadata": {},
     "output_type": "execute_result"
    }
   ],
   "source": [
    "custom_exp(0)"
   ]
  },
  {
   "cell_type": "code",
   "execution_count": null,
   "metadata": {},
   "outputs": [],
   "source": []
  },
  {
   "cell_type": "code",
   "execution_count": null,
   "metadata": {},
   "outputs": [],
   "source": []
  },
  {
   "cell_type": "code",
   "execution_count": null,
   "metadata": {},
   "outputs": [],
   "source": []
  },
  {
   "cell_type": "code",
   "execution_count": 238,
   "metadata": {},
   "outputs": [],
   "source": [
    "aux = Log_Unnorm_Probs_B2(xxx,WW,NNh);"
   ]
  },
  {
   "cell_type": "code",
   "execution_count": 244,
   "metadata": {},
   "outputs": [],
   "source": [
    "aux2 = Log_Unnorm_Probs_B(xxx,WW,NNh);"
   ]
  },
  {
   "cell_type": "code",
   "execution_count": 270,
   "metadata": {},
   "outputs": [
    {
     "name": "stdout",
     "output_type": "stream",
     "text": [
      "  40.632 ms (7 allocations: 5.97 MiB)\n"
     ]
    }
   ],
   "source": [
    "@btime Log_Unnorm_Probs_B2(xxx,WW,NNh);"
   ]
  },
  {
   "cell_type": "code",
   "execution_count": 262,
   "metadata": {},
   "outputs": [
    {
     "name": "stdout",
     "output_type": "stream",
     "text": [
      "  34.444 ms (15 allocations: 9.18 MiB)\n"
     ]
    }
   ],
   "source": [
    "@btime Log_Unnorm_Probs_B(xxx,WW,NNh);"
   ]
  },
  {
   "cell_type": "code",
   "execution_count": null,
   "metadata": {},
   "outputs": [],
   "source": []
  },
  {
   "cell_type": "code",
   "execution_count": null,
   "metadata": {},
   "outputs": [],
   "source": []
  },
  {
   "cell_type": "code",
   "execution_count": null,
   "metadata": {},
   "outputs": [],
   "source": []
  },
  {
   "cell_type": "code",
   "execution_count": null,
   "metadata": {},
   "outputs": [],
   "source": []
  },
  {
   "cell_type": "code",
   "execution_count": null,
   "metadata": {},
   "outputs": [],
   "source": []
  },
  {
   "cell_type": "code",
   "execution_count": 277,
   "metadata": {},
   "outputs": [
    {
     "data": {
      "text/plain": [
       "5-element Array{Int64,1}:\n",
       " 1\n",
       " 3\n",
       " 5\n",
       " 7\n",
       " 9"
      ]
     },
     "execution_count": 277,
     "metadata": {},
     "output_type": "execute_result"
    }
   ],
   "source": [
    "[x for x in 1:2:10]"
   ]
  },
  {
   "cell_type": "code",
   "execution_count": null,
   "metadata": {},
   "outputs": [],
   "source": []
  },
  {
   "cell_type": "code",
   "execution_count": null,
   "metadata": {},
   "outputs": [],
   "source": []
  },
  {
   "cell_type": "code",
   "execution_count": 113,
   "metadata": {},
   "outputs": [
    {
     "name": "stdout",
     "output_type": "stream",
     "text": [
      "  6.766 ms (10 allocations: 4.59 MiB)\n"
     ]
    }
   ],
   "source": [
    "ww    = view(WW,:,2:NNh+1);\n",
    "@btime sum(xxx' * ww, dims=2);"
   ]
  },
  {
   "cell_type": "code",
   "execution_count": 127,
   "metadata": {},
   "outputs": [
    {
     "name": "stdout",
     "output_type": "stream",
     "text": [
      "  33.168 ms (14 allocations: 9.16 MiB)\n"
     ]
    }
   ],
   "source": [
    "@btime sum(log_one_plus_exp.(xxx'*ww),dims=2);"
   ]
  },
  {
   "cell_type": "code",
   "execution_count": 156,
   "metadata": {},
   "outputs": [
    {
     "name": "stdout",
     "output_type": "stream",
     "text": [
      "  34.367 ms (12 allocations: 9.16 MiB)\n"
     ]
    }
   ],
   "source": [
    "@btime sum(log_one_plus_exp2(xxx'*ww),dims=2);"
   ]
  },
  {
   "cell_type": "code",
   "execution_count": 159,
   "metadata": {},
   "outputs": [
    {
     "data": {
      "text/plain": [
       "(1000, 1)"
      ]
     },
     "execution_count": 159,
     "metadata": {},
     "output_type": "execute_result"
    }
   ],
   "source": [
    "size(sum(log_one_plus_exp(xxx'*ww),dims=2))"
   ]
  },
  {
   "cell_type": "code",
   "execution_count": 190,
   "metadata": {},
   "outputs": [
    {
     "data": {
      "text/plain": [
       "(1000,)"
      ]
     },
     "execution_count": 190,
     "metadata": {},
     "output_type": "execute_result"
    }
   ],
   "source": [
    "size(xxx'* view(WW,:,1))"
   ]
  },
  {
   "cell_type": "code",
   "execution_count": 191,
   "metadata": {},
   "outputs": [],
   "source": [
    "propup = xxx'*ww;"
   ]
  },
  {
   "cell_type": "code",
   "execution_count": 192,
   "metadata": {},
   "outputs": [
    {
     "data": {
      "text/plain": [
       "600"
      ]
     },
     "execution_count": 192,
     "metadata": {},
     "output_type": "execute_result"
    }
   ],
   "source": [
    "size(propup,2)"
   ]
  },
  {
   "cell_type": "code",
   "execution_count": null,
   "metadata": {},
   "outputs": [],
   "source": []
  },
  {
   "cell_type": "code",
   "execution_count": null,
   "metadata": {},
   "outputs": [],
   "source": []
  }
 ],
 "metadata": {
  "kernelspec": {
   "display_name": "Julia 1.1.0",
   "language": "julia",
   "name": "julia-1.1"
  },
  "language_info": {
   "file_extension": ".jl",
   "mimetype": "application/julia",
   "name": "julia",
   "version": "1.1.0"
  },
  "toc": {
   "base_numbering": 1,
   "nav_menu": {},
   "number_sections": true,
   "sideBar": true,
   "skip_h1_title": false,
   "title_cell": "Table of Contents",
   "title_sidebar": "Contents",
   "toc_cell": true,
   "toc_position": {},
   "toc_section_display": true,
   "toc_window_display": false
  }
 },
 "nbformat": 4,
 "nbformat_minor": 2
}
