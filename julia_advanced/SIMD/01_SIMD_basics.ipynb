{
 "cells": [
  {
   "cell_type": "markdown",
   "metadata": {
    "toc": true
   },
   "source": [
    "<h1>Table of Contents<span class=\"tocSkip\"></span></h1>\n",
    "<div class=\"toc\"><ul class=\"toc-item\"><li><span><a href=\"#The-Vec-type\" data-toc-modified-id=\"The-Vec-type-1\"><span class=\"toc-item-num\">1&nbsp;&nbsp;</span>The <code>Vec</code> type</a></span></li><li><span><a href=\"#Operations-on-Vec-types\" data-toc-modified-id=\"Operations-on-Vec-types-2\"><span class=\"toc-item-num\">2&nbsp;&nbsp;</span>Operations on <code>Vec</code> types</a></span><ul class=\"toc-item\"><li><span><a href=\"#Operations-between-Vec-elements\" data-toc-modified-id=\"Operations-between-Vec-elements-2.1\"><span class=\"toc-item-num\">2.1&nbsp;&nbsp;</span>Operations between <code>Vec</code> elements</a></span></li><li><span><a href=\"#Elementwise-operation-in-Vec-elements\" data-toc-modified-id=\"Elementwise-operation-in-Vec-elements-2.2\"><span class=\"toc-item-num\">2.2&nbsp;&nbsp;</span>Elementwise operation in <code>Vec</code> elements</a></span></li><li><span><a href=\"#Reduction-operations\" data-toc-modified-id=\"Reduction-operations-2.3\"><span class=\"toc-item-num\">2.3&nbsp;&nbsp;</span>Reduction operations</a></span></li><li><span><a href=\"#Performance-gain-by-lowering-precission\" data-toc-modified-id=\"Performance-gain-by-lowering-precission-2.4\"><span class=\"toc-item-num\">2.4&nbsp;&nbsp;</span>Performance gain by lowering precission</a></span></li><li><span><a href=\"#Example-automatic-vectorization\" data-toc-modified-id=\"Example-automatic-vectorization-2.5\"><span class=\"toc-item-num\">2.5&nbsp;&nbsp;</span>Example automatic vectorization</a></span></li></ul></li><li><span><a href=\"#Reading-and-writting-SIMD-vectors-from-arrays-using-vload-and-vstore\" data-toc-modified-id=\"Reading-and-writting-SIMD-vectors-from-arrays-using-vload-and-vstore-3\"><span class=\"toc-item-num\">3&nbsp;&nbsp;</span>Reading and writting SIMD vectors from arrays using <code>vload</code> and <code>vstore</code></a></span><ul class=\"toc-item\"><li><span><a href=\"#Translating-&quot;Array&quot;-code-to-&quot;SIMDVector&quot;-code\" data-toc-modified-id=\"Translating-&quot;Array&quot;-code-to-&quot;SIMDVector&quot;-code-3.1\"><span class=\"toc-item-num\">3.1&nbsp;&nbsp;</span>Translating \"Array\" code to \"SIMDVector\" code</a></span></li><li><span><a href=\"#Arrays-with-number-of-elements-not-divisible-by-simd-witdh\" data-toc-modified-id=\"Arrays-with-number-of-elements-not-divisible-by-simd-witdh-3.2\"><span class=\"toc-item-num\">3.2&nbsp;&nbsp;</span>Arrays with number of elements not divisible by simd witdh</a></span><ul class=\"toc-item\"><li><span><a href=\"#Another-example\" data-toc-modified-id=\"Another-example-3.2.1\"><span class=\"toc-item-num\">3.2.1&nbsp;&nbsp;</span>Another example</a></span></li></ul></li><li><span><a href=\"#vload-and-vstore-using-indexing-notation\" data-toc-modified-id=\"vload-and-vstore-using-indexing-notation-3.3\"><span class=\"toc-item-num\">3.3&nbsp;&nbsp;</span>vload and vstore using indexing notation</a></span></li></ul></li><li><span><a href=\"#Using-VecRange-objects\" data-toc-modified-id=\"Using-VecRange-objects-4\"><span class=\"toc-item-num\">4&nbsp;&nbsp;</span>Using <code>VecRange</code> objects</a></span></li><li><span><a href=\"#If-else-statements-in-SIMD\" data-toc-modified-id=\"If-else-statements-in-SIMD-5\"><span class=\"toc-item-num\">5&nbsp;&nbsp;</span>If else statements in SIMD</a></span></li></ul></div>"
   ]
  },
  {
   "cell_type": "code",
   "execution_count": 1,
   "metadata": {},
   "outputs": [],
   "source": [
    "using SIMD\n",
    "using BenchmarkTools"
   ]
  },
  {
   "cell_type": "markdown",
   "metadata": {},
   "source": [
    "# The `Vec` type\n",
    "\n",
    "\n",
    "SIMD vectors are similar to small fixed-size arrays of \"simple\" types.  These element types are supportedin SIMD.jl are:\n",
    "\n",
    "```\n",
    "- Bool \n",
    "- Int{8,16,32,64,128} \n",
    "- UInt{8,16,32,64,128} \n",
    "- Float{16,32,64}\n",
    "```\n",
    "\n",
    "\n",
    "We can create vector types (or `SIMD.Vec` types) as follows:\n",
    "\n",
    "```\n",
    "my_vec = Vec(a_tuple)\n",
    "```\n",
    "\n",
    "Notice that `eltype(a_tuple)` has to be in \n",
    "\n",
    "`[Bool, Int8, Int16, Int32, Int64, Int128, UInt8, UInt16, UInt32, UInt128, Float16, Float32, Float64]`\n",
    "\n",
    "##### Examples:\n",
    "\n",
    "```\n",
    "a1_v = Vec(1,2,3,4,5,6,7,8)\n",
    "a2_v = Vec(9,10,11,12,13,14,15,16,17,18)\n",
    "```\n",
    "\n",
    "##### Breaking examples:\n",
    "\n",
    "```\n",
    "a = Vec((\"the\",\"house\")) # strings are not in the set of possible element types for a Vec\n",
    "a = Vec((1,23.231))      # All elements in the tuple constructing the Vec need to be of the same type\n",
    "```"
   ]
  },
  {
   "cell_type": "code",
   "execution_count": 2,
   "metadata": {},
   "outputs": [
    {
     "data": {
      "text/plain": [
       "<8 x Int64>[9, 10, 11, 12, 13, 14, 15, 16]"
      ]
     },
     "execution_count": 2,
     "metadata": {},
     "output_type": "execute_result"
    }
   ],
   "source": [
    "a1_v = Vec((1,2,3,4,5,6,7,8))\n",
    "a2_v = Vec((9,10,11,12,13,14,15,16))"
   ]
  },
  {
   "cell_type": "markdown",
   "metadata": {},
   "source": [
    "We can operate with the given vectors as if they were arrays"
   ]
  },
  {
   "cell_type": "code",
   "execution_count": 3,
   "metadata": {},
   "outputs": [
    {
     "data": {
      "text/plain": [
       "<8 x Int64>[10, 12, 14, 16, 18, 20, 22, 24]"
      ]
     },
     "execution_count": 3,
     "metadata": {},
     "output_type": "execute_result"
    }
   ],
   "source": [
    "res_v = a1_v + a2_v"
   ]
  },
  {
   "cell_type": "code",
   "execution_count": 4,
   "metadata": {},
   "outputs": [],
   "source": [
    "a1_a = [1,2,3,4,5,6,7,8]\n",
    "a2_a = [9,10,11,12,13,14,15,16];"
   ]
  },
  {
   "cell_type": "code",
   "execution_count": 5,
   "metadata": {},
   "outputs": [
    {
     "data": {
      "text/plain": [
       "8-element Array{Int64,1}:\n",
       " 10\n",
       " 12\n",
       " 14\n",
       " 16\n",
       " 18\n",
       " 20\n",
       " 22\n",
       " 24"
      ]
     },
     "execution_count": 5,
     "metadata": {},
     "output_type": "execute_result"
    }
   ],
   "source": [
    "res_a = a1_a + a2_a"
   ]
  },
  {
   "cell_type": "markdown",
   "metadata": {},
   "source": [
    "Using operations between Vec types will be faster than the coutnerpart Array operations"
   ]
  },
  {
   "cell_type": "code",
   "execution_count": 6,
   "metadata": {},
   "outputs": [
    {
     "name": "stdout",
     "output_type": "stream",
     "text": [
      "  53.623 ns (1 allocation: 144 bytes)\n"
     ]
    },
    {
     "data": {
      "text/plain": [
       "8-element Array{Int64,1}:\n",
       " 10\n",
       " 12\n",
       " 14\n",
       " 16\n",
       " 18\n",
       " 20\n",
       " 22\n",
       " 24"
      ]
     },
     "execution_count": 6,
     "metadata": {},
     "output_type": "execute_result"
    }
   ],
   "source": [
    "@btime res_a = a1_a + a2_a"
   ]
  },
  {
   "cell_type": "code",
   "execution_count": 7,
   "metadata": {},
   "outputs": [
    {
     "name": "stdout",
     "output_type": "stream",
     "text": [
      "  23.833 ns (1 allocation: 80 bytes)\n"
     ]
    },
    {
     "data": {
      "text/plain": [
       "<8 x Int64>[10, 12, 14, 16, 18, 20, 22, 24]"
      ]
     },
     "execution_count": 7,
     "metadata": {},
     "output_type": "execute_result"
    }
   ],
   "source": [
    "@btime res_v = a1_v + a2_v"
   ]
  },
  {
   "cell_type": "markdown",
   "metadata": {},
   "source": [
    "The main difference of using standard vectors and Vec types is the fact that Vec types can be easily mapped to instructions that operate on the whole Vec. \n"
   ]
  },
  {
   "cell_type": "code",
   "execution_count": 8,
   "metadata": {},
   "outputs": [
    {
     "name": "stdout",
     "output_type": "stream",
     "text": [
      "\t.text\n",
      "; ┌ @ SIMD.jl:996 within `+'\n",
      "; │┌ @ SIMD.jl:583 within `llvmwrap' @ SIMD.jl:583\n",
      "; ││┌ @ SIMD.jl:996 within `macro expansion'\n",
      "\tvmovdqu\t(%rdx), %ymm0\n",
      "\tvmovdqu\t32(%rdx), %ymm1\n",
      "\tvpaddq\t(%rsi), %ymm0, %ymm0\n",
      "\tvpaddq\t32(%rsi), %ymm1, %ymm1\n",
      "; │└└\n",
      "\tvmovdqa\t%ymm1, 32(%rdi)\n",
      "\tvmovdqa\t%ymm0, (%rdi)\n",
      "\tmovq\t%rdi, %rax\n",
      "\tvzeroupper\n",
      "\tretq\n",
      "\tnopw\t%cs:(%rax,%rax)\n",
      "; └\n"
     ]
    }
   ],
   "source": [
    "@code_native a1_v + a2_v"
   ]
  },
  {
   "cell_type": "markdown",
   "metadata": {},
   "source": [
    "This does not happen in standard arrays (at least not as easily, the compiler could be smart enough to do it)."
   ]
  },
  {
   "cell_type": "code",
   "execution_count": 9,
   "metadata": {},
   "outputs": [
    {
     "name": "stdout",
     "output_type": "stream",
     "text": [
      "\t.text\n",
      "; ┌ @ arraymath.jl:44 within `+'\n",
      "\tpushq\t%r14\n",
      "\tpushq\t%rbx\n",
      "\tsubq\t$56, %rsp\n",
      "\tmovq\t%rsi, %r8\n",
      "\tvxorps\t%xmm0, %xmm0, %xmm0\n",
      "\tvmovaps\t%xmm0, (%rsp)\n",
      "\tmovq\t$0, 16(%rsp)\n",
      "\tmovq\t%r8, 48(%rsp)\n",
      "\tmovq\t%fs:0, %rcx\n",
      "\tmovq\t$2, (%rsp)\n",
      "\tmovq\t-15552(%rcx), %rsi\n",
      "\tmovq\t%rsi, 8(%rsp)\n",
      "\tmovq\t%rsp, %rsi\n",
      "\tmovq\t%rsi, -15552(%rcx)\n",
      "\tleaq\t-15552(%rcx), %r14\n",
      "\tmovq\t(%r8), %rcx\n",
      "; │┌ @ tuple.jl:43 within `iterate' @ tuple.jl:43\n",
      "; ││┌ @ tuple.jl:24 within `getindex'\n",
      "\tmovq\t8(%r8), %rsi\n",
      "; │└└\n",
      "; │ @ arraymath.jl:45 within `+'\n",
      "; │┌ @ indices.jl:145 within `promote_shape'\n",
      "; ││┌ @ abstractarray.jl:75 within `axes'\n",
      "; │││┌ @ array.jl:155 within `size'\n",
      "\tmovq\t24(%rcx), %rbx\n",
      "; │││└\n",
      "; │││┌ @ tuple.jl:165 within `map'\n",
      "; ││││┌ @ range.jl:317 within `Type' @ range.jl:308\n",
      "; │││││┌ @ promotion.jl:414 within `max'\n",
      "\tmovq\t%rbx, %rdi\n",
      "\tsarq\t$63, %rdi\n",
      "\tandnq\t%rbx, %rdi, %rdi\n",
      "; ││└└└└\n",
      "; ││┌ @ array.jl:155 within `axes'\n",
      "\tmovq\t24(%rsi), %rax\n",
      "; ││└\n",
      "; ││┌ @ abstractarray.jl:75 within `axes'\n",
      "; │││┌ @ tuple.jl:165 within `map'\n",
      "; ││││┌ @ range.jl:317 within `Type' @ range.jl:308\n",
      "; │││││┌ @ promotion.jl:414 within `max'\n",
      "\tmovq\t%rax, %rbx\n",
      "\tsarq\t$63, %rbx\n",
      "\tandnq\t%rax, %rbx, %rax\n",
      "; ││└└└└\n",
      "; ││ @ indices.jl:145 within `promote_shape' @ indices.jl:153\n",
      "; ││┌ @ operators.jl:185 within `!='\n",
      "; │││┌ @ range.jl:717 within `==' @ promotion.jl:403\n",
      "\tcmpq\t%rax, %rdi\n",
      "; ││└└\n",
      "\tjne\tL205\n",
      "; │└\n",
      "; │ @ arraymath.jl:47 within `+'\n",
      "\tcmpl\t$1, %edx\n",
      "\tje\tL277\n",
      "\tmovabsq\t$jl_system_image_data, %rax\n",
      "\tmovq\t%rax, 24(%rsp)\n",
      "\tmovq\t%rcx, 32(%rsp)\n",
      "\tmovq\t%rsi, 40(%rsp)\n",
      "\tmovabsq\t$japi1_broadcast_12797, %rax\n",
      "\tmovabsq\t$jl_system_image_data, %rdi\n",
      "\tleaq\t24(%rsp), %rsi\n",
      "\tmovl\t$3, %edx\n",
      "\tcallq\t*%rax\n",
      "\tmovq\t8(%rsp), %rcx\n",
      "\tmovq\t%rcx, (%r14)\n",
      "\taddq\t$56, %rsp\n",
      "\tpopq\t%rbx\n",
      "\tpopq\t%r14\n",
      "\tretq\n",
      "; │ @ arraymath.jl:45 within `+'\n",
      "; │┌ @ indices.jl:145 within `promote_shape' @ indices.jl:154\n",
      "; ││┌ @ array.jl:12 within `Type'\n",
      "L205:\n",
      "\tmovabsq\t$jl_gc_pool_alloc, %rax\n",
      "\tmovl\t$1664, %esi             # imm = 0x680\n",
      "\tmovl\t$16, %edx\n",
      "\tmovq\t%r14, %rdi\n",
      "\tcallq\t*%rax\n",
      "\tmovabsq\t$jl_system_image_data, %rcx\n",
      "\tmovq\t%rcx, -8(%rax)\n",
      "\tmovabsq\t$jl_system_image_data, %rcx\n",
      "\tmovq\t%rcx, (%rax)\n",
      "\tmovq\t%rax, 16(%rsp)\n",
      "; ││└\n",
      "\tmovabsq\t$jl_throw, %rcx\n",
      "\tmovq\t%rax, %rdi\n",
      "\tcallq\t*%rcx\n",
      "; └└\n",
      "; ┌ @ indices.jl within `+'\n",
      "L277:\n",
      "\taddq\t$8, %r8\n",
      "; └\n",
      "; ┌ @ arraymath.jl:47 within `+'\n",
      "\tmovabsq\t$jl_bounds_error_tuple_int, %rax\n",
      "\txorl\t%esi, %esi\n",
      "\tmovl\t$1, %edx\n",
      "\tmovq\t%r8, %rdi\n",
      "\tcallq\t*%rax\n",
      "\tnop\n",
      "; └\n"
     ]
    }
   ],
   "source": [
    "@code_native a1_a + a2_a"
   ]
  },
  {
   "cell_type": "markdown",
   "metadata": {},
   "source": [
    "\n",
    "# Operations on `Vec` types\n",
    "\n",
    "\n",
    "## Operations between `Vec` elements\n",
    "\n",
    "\n",
    "Let $Vec\\{N,T\\}$ be a set where a `Vec` can be instanciated. For example `Vec{8,Int32}`.\n",
    "\n",
    "Then a vector operation is a function $Vec\\{N,T\\} \\times Vec\\{N,T\\}  \\longrightarrow Vec\\{N,T\\}$. We have the following methods in SIMD.jl :\n",
    "\n",
    "\n",
    "```\n",
    "+ - * / % ^ ! ~ & | $ << >> >>> == != < <= > >=\n",
    "```\n"
   ]
  },
  {
   "cell_type": "code",
   "execution_count": 10,
   "metadata": {},
   "outputs": [
    {
     "data": {
      "text/plain": [
       "<4 x Float64>[1.0, 2.0, 3.0, 9.0]"
      ]
     },
     "execution_count": 10,
     "metadata": {},
     "output_type": "execute_result"
    }
   ],
   "source": [
    "x = Vec((1.,2.,3.,4.))\n",
    "y = Vec((1.,2.,3.,9.))"
   ]
  },
  {
   "cell_type": "code",
   "execution_count": 11,
   "metadata": {},
   "outputs": [
    {
     "data": {
      "text/plain": [
       "10-element Array{Symbol,1}:\n",
       " :+  \n",
       " :-  \n",
       " :*  \n",
       " :/  \n",
       " :rem\n",
       " :^  \n",
       " :!  \n",
       " :~  \n",
       " :&  \n",
       " :|  "
      ]
     },
     "execution_count": 11,
     "metadata": {},
     "output_type": "execute_result"
    }
   ],
   "source": [
    "operations = Symbol.([ +, -, *,  /,  %, ^, !, ~, &, |])"
   ]
  },
  {
   "cell_type": "code",
   "execution_count": null,
   "metadata": {},
   "outputs": [],
   "source": []
  },
  {
   "cell_type": "code",
   "execution_count": 12,
   "metadata": {},
   "outputs": [
    {
     "ename": "LoadError",
     "evalue": "syntax: line break in \":\" expression",
     "output_type": "error",
     "traceback": [
      "syntax: line break in \":\" expression",
      ""
     ]
    }
   ],
   "source": [
    "for op in operations:\n",
    "    println(op, \"x $op y\", eval(exp(x op y)))"
   ]
  },
  {
   "cell_type": "code",
   "execution_count": 13,
   "metadata": {},
   "outputs": [
    {
     "ename": "UndefVarError",
     "evalue": "UndefVarError: $ not defined",
     "output_type": "error",
     "traceback": [
      "UndefVarError: $ not defined",
      "",
      "Stacktrace:",
      " [1] top-level scope at In[13]:1"
     ]
    }
   ],
   "source": [
    "operations = Symbol.([ +, -, *,  /,  %, ^, !, ~, &, |, $, <<, >>, >>>, ==, !=, <, <=, >, >=])"
   ]
  },
  {
   "cell_type": "code",
   "execution_count": null,
   "metadata": {},
   "outputs": [],
   "source": []
  },
  {
   "cell_type": "markdown",
   "metadata": {},
   "source": [
    "\n",
    "## Elementwise operation in `Vec` elements\n",
    "\n",
    "An elementwise operation in a vec element is a function $Vec\\{N,T\\} \\longrightarrow Vec\\{N,T\\}$\n",
    "\n",
    "The following operations are available:\n",
    "\n",
    "```\n",
    "abs cbrt ceil copysign cos div exp exp10 exp2 flipsign floor fma inv isfinite isinf isnan issubnormal log log10 log2 muladd rem round sign signbit sin sqrt trunc vifelse\n",
    "```"
   ]
  },
  {
   "cell_type": "code",
   "execution_count": 14,
   "metadata": {},
   "outputs": [
    {
     "data": {
      "text/plain": [
       "<4 x Float64>[1.0, 2.0, 3.0, 4.0]"
      ]
     },
     "execution_count": 14,
     "metadata": {},
     "output_type": "execute_result"
    }
   ],
   "source": [
    "x = Vec((1.,2.,3.,4.))"
   ]
  },
  {
   "cell_type": "code",
   "execution_count": 15,
   "metadata": {},
   "outputs": [
    {
     "data": {
      "text/plain": [
       "<4 x Float64>[2.718281828459045, 7.38905609893065, 20.085536923187668, 54.598150033144236]"
      ]
     },
     "execution_count": 15,
     "metadata": {},
     "output_type": "execute_result"
    }
   ],
   "source": [
    "exp(x)"
   ]
  },
  {
   "cell_type": "code",
   "execution_count": 16,
   "metadata": {},
   "outputs": [
    {
     "data": {
      "text/plain": [
       "<4 x Float64>[1.0, 2.0, 3.0, 4.0]"
      ]
     },
     "execution_count": 16,
     "metadata": {},
     "output_type": "execute_result"
    }
   ],
   "source": [
    "ceil(x)"
   ]
  },
  {
   "cell_type": "markdown",
   "metadata": {},
   "source": [
    "\n",
    "\n",
    "## Reduction operations\n",
    "\n",
    "A reduction operation is a function of the form $Vec\\{N,T\\}  \\longrightarrow T$.\n",
    "\n",
    "Therefore reductions \"reduce\" a SIMD vector to a scalar. The following reduction operations are provided:\n",
    "\n",
    "```\n",
    "all any maximum minimum sum prod\n",
    "```"
   ]
  },
  {
   "cell_type": "code",
   "execution_count": 17,
   "metadata": {},
   "outputs": [
    {
     "data": {
      "text/plain": [
       "10.0"
      ]
     },
     "execution_count": 17,
     "metadata": {},
     "output_type": "execute_result"
    }
   ],
   "source": [
    "x = Vec((1.,2.,3.,4.))\n",
    "sum(x)"
   ]
  },
  {
   "cell_type": "code",
   "execution_count": 18,
   "metadata": {},
   "outputs": [
    {
     "data": {
      "text/plain": [
       "10"
      ]
     },
     "execution_count": 18,
     "metadata": {},
     "output_type": "execute_result"
    }
   ],
   "source": [
    "x = Vec((1,2,3,4))\n",
    "sum(x)"
   ]
  },
  {
   "cell_type": "markdown",
   "metadata": {},
   "source": [
    "## Performance gain by lowering precission"
   ]
  },
  {
   "cell_type": "markdown",
   "metadata": {},
   "source": [
    "The speed difference can be magnified if we do more operations than a single sum:"
   ]
  },
  {
   "cell_type": "code",
   "execution_count": 19,
   "metadata": {},
   "outputs": [
    {
     "data": {
      "text/plain": [
       "sum_vec (generic function with 1 method)"
      ]
     },
     "execution_count": 19,
     "metadata": {},
     "output_type": "execute_result"
    }
   ],
   "source": [
    "function sum_vec(a1,a2,b1,b2)\n",
    "    res1 = a1 + a2\n",
    "    res2 = b1 + b2\n",
    "    return res1, res2\n",
    "end"
   ]
  },
  {
   "cell_type": "code",
   "execution_count": 20,
   "metadata": {},
   "outputs": [
    {
     "name": "stdout",
     "output_type": "stream",
     "text": [
      "  99.499 ns (3 allocations: 320 bytes)\n"
     ]
    },
    {
     "data": {
      "text/plain": [
       "([10, 12, 14, 16, 18, 20, 22, 24], [10, 12, 14, 16, 18, 20, 22, 24])"
      ]
     },
     "execution_count": 20,
     "metadata": {},
     "output_type": "execute_result"
    }
   ],
   "source": [
    "@btime sum_vec(a1_a,a2_a,a1_a,a2_a)"
   ]
  },
  {
   "cell_type": "code",
   "execution_count": 21,
   "metadata": {},
   "outputs": [
    {
     "name": "stdout",
     "output_type": "stream",
     "text": [
      "  29.503 ns (1 allocation: 144 bytes)\n"
     ]
    },
    {
     "data": {
      "text/plain": [
       "(<8 x Int64>[10, 12, 14, 16, 18, 20, 22, 24], <8 x Int64>[10, 12, 14, 16, 18, 20, 22, 24])"
      ]
     },
     "execution_count": 21,
     "metadata": {},
     "output_type": "execute_result"
    }
   ],
   "source": [
    "@btime sum_vec(a1_v,a2_v,a1_v,a2_v)"
   ]
  },
  {
   "cell_type": "code",
   "execution_count": 22,
   "metadata": {},
   "outputs": [
    {
     "data": {
      "text/plain": [
       "sum_vec_4 (generic function with 1 method)"
      ]
     },
     "execution_count": 22,
     "metadata": {},
     "output_type": "execute_result"
    }
   ],
   "source": [
    "function sum_vec_4(a1,a2,b1,b2)\n",
    "    res1 = a1 + a2\n",
    "    res2 = b1 + b2\n",
    "    res3 = a1 + b1\n",
    "    res4 = a2 + b2\n",
    "\n",
    "    return res1, res2,res3, res4\n",
    "end"
   ]
  },
  {
   "cell_type": "code",
   "execution_count": 23,
   "metadata": {},
   "outputs": [
    {
     "name": "stdout",
     "output_type": "stream",
     "text": [
      "  40.785 ns (1 allocation: 272 bytes)\n"
     ]
    },
    {
     "data": {
      "text/plain": [
       "(<8 x Int64>[10, 12, 14, 16, 18, 20, 22, 24], <8 x Int64>[10, 12, 14, 16, 18, 20, 22, 24], <8 x Int64>[2, 4, 6, 8, 10, 12, 14, 16], <8 x Int64>[18, 20, 22, 24, 26, 28, 30, 32])"
      ]
     },
     "execution_count": 23,
     "metadata": {},
     "output_type": "execute_result"
    }
   ],
   "source": [
    "@btime sum_vec_4(a1_v,a2_v,a1_v,a2_v)"
   ]
  },
  {
   "cell_type": "code",
   "execution_count": 24,
   "metadata": {},
   "outputs": [
    {
     "name": "stdout",
     "output_type": "stream",
     "text": [
      "  172.576 ns (5 allocations: 624 bytes)\n"
     ]
    },
    {
     "data": {
      "text/plain": [
       "([10, 12, 14, 16, 18, 20, 22, 24], [10, 12, 14, 16, 18, 20, 22, 24], [2, 4, 6, 8, 10, 12, 14, 16], [18, 20, 22, 24, 26, 28, 30, 32])"
      ]
     },
     "execution_count": 24,
     "metadata": {},
     "output_type": "execute_result"
    }
   ],
   "source": [
    "@btime sum_vec_4(a1_a,a2_a,a1_a,a2_a)"
   ]
  },
  {
   "cell_type": "markdown",
   "metadata": {},
   "source": [
    "Notice that the speed gain between the prevoius two calls is, at most, 4X.\n",
    "\n",
    "We can increase the difference in speed using an integer type with less bits. For example Int32."
   ]
  },
  {
   "cell_type": "code",
   "execution_count": 25,
   "metadata": {
    "scrolled": false
   },
   "outputs": [
    {
     "data": {
      "text/plain": [
       "<8 x Int32>[9, 10, 11, 12, 13, 14, 15, 16]"
      ]
     },
     "execution_count": 25,
     "metadata": {},
     "output_type": "execute_result"
    }
   ],
   "source": [
    "a1_i8_v = Vec(tuple(Int32.(a1_a)...))\n",
    "a2_i8_v = Vec(tuple(Int32.(a2_a)...))"
   ]
  },
  {
   "cell_type": "code",
   "execution_count": 26,
   "metadata": {
    "scrolled": true
   },
   "outputs": [
    {
     "name": "stdout",
     "output_type": "stream",
     "text": [
      "  33.669 ns (1 allocation: 144 bytes)\n"
     ]
    },
    {
     "data": {
      "text/plain": [
       "(<8 x Int32>[10, 12, 14, 16, 18, 20, 22, 24], <8 x Int32>[10, 12, 14, 16, 18, 20, 22, 24], <8 x Int32>[2, 4, 6, 8, 10, 12, 14, 16], <8 x Int32>[18, 20, 22, 24, 26, 28, 30, 32])"
      ]
     },
     "execution_count": 26,
     "metadata": {},
     "output_type": "execute_result"
    }
   ],
   "source": [
    "@btime sum_vec_4(a1_i8_v,a2_i8_v,a1_i8_v,a2_i8_v)"
   ]
  },
  {
   "cell_type": "markdown",
   "metadata": {},
   "source": [
    "## Example automatic vectorization"
   ]
  },
  {
   "cell_type": "code",
   "execution_count": 27,
   "metadata": {},
   "outputs": [
    {
     "data": {
      "text/plain": [
       "c_a_times_b! (generic function with 1 method)"
      ]
     },
     "execution_count": 27,
     "metadata": {},
     "output_type": "execute_result"
    }
   ],
   "source": [
    "function c_a_times_b!(c::Array, a::Array, b::Array)\n",
    "    @assert length(a) == length(b) == length(c)\n",
    "    @inbounds for i in 1:length(a)\n",
    "        c[i] = a[i] * b[i]\n",
    "    end\n",
    "end"
   ]
  },
  {
   "cell_type": "code",
   "execution_count": 28,
   "metadata": {},
   "outputs": [
    {
     "data": {
      "text/plain": [
       "Array{Float64,1}"
      ]
     },
     "execution_count": 28,
     "metadata": {},
     "output_type": "execute_result"
    }
   ],
   "source": [
    " V64 = Vector{Float64}"
   ]
  },
  {
   "cell_type": "markdown",
   "metadata": {},
   "source": [
    "Inspecting `code_llvm` we can see\n",
    "\n",
    "```\n",
    " ┌ @ float.jl:399 within `*'\n",
    "   %55 = fmul <4 x double> %wide.load, %wide.load24\n",
    "   %56 = fmul <4 x double> %wide.load21, %wide.load25\n",
    "   %57 = fmul <4 x double> %wide.load22, %wide.load26\n",
    "   %58 = fmul <4 x double> %wide.load23, %wide.load27\n",
    "```"
   ]
  },
  {
   "cell_type": "code",
   "execution_count": 29,
   "metadata": {},
   "outputs": [
    {
     "name": "stdout",
     "output_type": "stream",
     "text": [
      "\n",
      ";  @ In[27]:2 within `c_a_times_b!'\n",
      "define nonnull %jl_value_t addrspace(10)* @\"japi1_c_a_times_b!_13563\"(%jl_value_t addrspace(10)*, %jl_value_t addrspace(10)**, i32) #0 {\n",
      "top:\n",
      "  %gcframe = alloca %jl_value_t addrspace(10)*, i32 3\n",
      "  %3 = bitcast %jl_value_t addrspace(10)** %gcframe to i8*\n",
      "  call void @llvm.memset.p0i8.i32(i8* %3, i8 0, i32 24, i32 0, i1 false)\n",
      "  %4 = alloca %jl_value_t addrspace(10)**, align 8\n",
      "  store volatile %jl_value_t addrspace(10)** %1, %jl_value_t addrspace(10)*** %4, align 8\n",
      "  %thread_ptr = call i8* asm \"movq %fs:0, $0\", \"=r\"()\n",
      "  %ptls_i8 = getelementptr i8, i8* %thread_ptr, i64 -15552\n",
      "  %ptls = bitcast i8* %ptls_i8 to %jl_value_t***\n",
      "  %5 = getelementptr %jl_value_t addrspace(10)*, %jl_value_t addrspace(10)** %gcframe, i32 0\n",
      "  %6 = bitcast %jl_value_t addrspace(10)** %5 to i64*\n",
      "  store i64 2, i64* %6\n",
      "  %7 = getelementptr %jl_value_t**, %jl_value_t*** %ptls, i32 0\n",
      "  %8 = getelementptr %jl_value_t addrspace(10)*, %jl_value_t addrspace(10)** %gcframe, i32 1\n",
      "  %9 = bitcast %jl_value_t addrspace(10)** %8 to %jl_value_t***\n",
      "  %10 = load %jl_value_t**, %jl_value_t*** %7\n",
      "  store %jl_value_t** %10, %jl_value_t*** %9\n",
      "  %11 = bitcast %jl_value_t*** %7 to %jl_value_t addrspace(10)***\n",
      "  store %jl_value_t addrspace(10)** %gcframe, %jl_value_t addrspace(10)*** %11\n",
      "  %12 = getelementptr inbounds %jl_value_t addrspace(10)*, %jl_value_t addrspace(10)** %1, i64 1\n",
      "  %13 = load %jl_value_t addrspace(10)*, %jl_value_t addrspace(10)** %12, align 8\n",
      "  %14 = getelementptr inbounds %jl_value_t addrspace(10)*, %jl_value_t addrspace(10)** %1, i64 2\n",
      "  %15 = load %jl_value_t addrspace(10)*, %jl_value_t addrspace(10)** %14, align 8\n",
      "; ┌ @ array.jl:199 within `length'\n",
      "   %16 = addrspacecast %jl_value_t addrspace(10)* %15 to %jl_value_t addrspace(11)*\n",
      "   %17 = bitcast %jl_value_t addrspace(11)* %16 to %jl_array_t addrspace(11)*\n",
      "   %18 = getelementptr inbounds %jl_array_t, %jl_array_t addrspace(11)* %17, i64 0, i32 1\n",
      "   %19 = load i64, i64 addrspace(11)* %18, align 8\n",
      "   %20 = addrspacecast %jl_value_t addrspace(10)* %13 to %jl_value_t addrspace(11)*\n",
      "   %21 = bitcast %jl_value_t addrspace(11)* %20 to %jl_array_t addrspace(11)*\n",
      "   %22 = getelementptr inbounds %jl_array_t, %jl_array_t addrspace(11)* %21, i64 0, i32 1\n",
      "   %23 = load i64, i64 addrspace(11)* %22, align 8\n",
      "; └\n",
      "; ┌ @ promotion.jl:403 within `=='\n",
      "   %24 = icmp eq i64 %23, %19\n",
      "; └\n",
      "  br i1 %24, label %L5, label %L42\n",
      "\n",
      "L5:                                               ; preds = %top\n",
      "  %25 = load %jl_value_t addrspace(10)*, %jl_value_t addrspace(10)** %1, align 8\n",
      "; ┌ @ array.jl:199 within `length'\n",
      "   %26 = addrspacecast %jl_value_t addrspace(10)* %25 to %jl_value_t addrspace(11)*\n",
      "   %27 = bitcast %jl_value_t addrspace(11)* %26 to %jl_array_t addrspace(11)*\n",
      "   %28 = getelementptr inbounds %jl_array_t, %jl_array_t addrspace(11)* %27, i64 0, i32 1\n",
      "   %29 = load i64, i64 addrspace(11)* %28, align 8\n",
      "; └\n",
      "; ┌ @ promotion.jl:403 within `=='\n",
      "   %30 = icmp eq i64 %19, %29\n",
      "; └\n",
      "  br i1 %30, label %L11, label %L42\n",
      "\n",
      "L11:                                              ; preds = %L5\n",
      ";  @ In[27]:3 within `c_a_times_b!'\n",
      "; ┌ @ range.jl:5 within `Colon'\n",
      "; │┌ @ range.jl:274 within `Type'\n",
      "; ││┌ @ range.jl:279 within `unitrange_last'\n",
      "; │││┌ @ operators.jl:333 within `>='\n",
      "; ││││┌ @ int.jl:428 within `<='\n",
      "       %31 = icmp sgt i64 %19, 0\n",
      "; └└└└└\n",
      "  br i1 %31, label %L19.L24_crit_edge, label %L41\n",
      "\n",
      "L19.L24_crit_edge:                                ; preds = %L11\n",
      "  %32 = bitcast %jl_value_t addrspace(11)* %20 to double addrspace(13)* addrspace(11)*\n",
      "  %33 = load double addrspace(13)*, double addrspace(13)* addrspace(11)* %32, align 8\n",
      "  %34 = bitcast %jl_value_t addrspace(11)* %16 to double addrspace(13)* addrspace(11)*\n",
      "  %35 = load double addrspace(13)*, double addrspace(13)* addrspace(11)* %34, align 8\n",
      "  %36 = bitcast %jl_value_t addrspace(11)* %26 to double addrspace(13)* addrspace(11)*\n",
      "  %37 = load double addrspace(13)*, double addrspace(13)* addrspace(11)* %36, align 8\n",
      "  %min.iters.check = icmp ult i64 %19, 16\n",
      "  br i1 %min.iters.check, label %scalar.ph, label %vector.memcheck\n",
      "\n",
      "vector.memcheck:                                  ; preds = %L19.L24_crit_edge\n",
      "  %scevgep = getelementptr double, double addrspace(13)* %37, i64 %19\n",
      "  %scevgep11 = getelementptr double, double addrspace(13)* %33, i64 %19\n",
      "  %scevgep13 = getelementptr double, double addrspace(13)* %35, i64 %19\n",
      "  %bound0 = icmp ult double addrspace(13)* %37, %scevgep11\n",
      "  %bound1 = icmp ult double addrspace(13)* %33, %scevgep\n",
      "  %found.conflict = and i1 %bound0, %bound1\n",
      "  %bound015 = icmp ult double addrspace(13)* %37, %scevgep13\n",
      "  %bound116 = icmp ult double addrspace(13)* %35, %scevgep\n",
      "  %found.conflict17 = and i1 %bound015, %bound116\n",
      "  %conflict.rdx = or i1 %found.conflict, %found.conflict17\n",
      "  br i1 %conflict.rdx, label %scalar.ph, label %vector.ph\n",
      "\n",
      "vector.ph:                                        ; preds = %vector.memcheck\n",
      "  %n.vec = and i64 %19, -16\n",
      "  %ind.end = or i64 %n.vec, 1\n",
      "  br label %vector.body\n",
      "\n",
      "vector.body:                                      ; preds = %vector.body, %vector.ph\n",
      "  %index = phi i64 [ 0, %vector.ph ], [ %index.next, %vector.body ]\n",
      "  %offset.idx = or i64 %index, 1\n",
      ";  @ In[27]:4 within `c_a_times_b!'\n",
      "; ┌ @ array.jl:729 within `getindex'\n",
      "   %38 = add nsw i64 %offset.idx, -1\n",
      "   %39 = getelementptr inbounds double, double addrspace(13)* %33, i64 %38\n",
      "   %40 = bitcast double addrspace(13)* %39 to <4 x double> addrspace(13)*\n",
      "   %wide.load = load <4 x double>, <4 x double> addrspace(13)* %40, align 8\n",
      "   %41 = getelementptr double, double addrspace(13)* %39, i64 4\n",
      "   %42 = bitcast double addrspace(13)* %41 to <4 x double> addrspace(13)*\n",
      "   %wide.load21 = load <4 x double>, <4 x double> addrspace(13)* %42, align 8\n",
      "   %43 = getelementptr double, double addrspace(13)* %39, i64 8\n",
      "   %44 = bitcast double addrspace(13)* %43 to <4 x double> addrspace(13)*\n",
      "   %wide.load22 = load <4 x double>, <4 x double> addrspace(13)* %44, align 8\n",
      "   %45 = getelementptr double, double addrspace(13)* %39, i64 12\n",
      "   %46 = bitcast double addrspace(13)* %45 to <4 x double> addrspace(13)*\n",
      "   %wide.load23 = load <4 x double>, <4 x double> addrspace(13)* %46, align 8\n",
      "   %47 = getelementptr inbounds double, double addrspace(13)* %35, i64 %38\n",
      "   %48 = bitcast double addrspace(13)* %47 to <4 x double> addrspace(13)*\n",
      "   %wide.load24 = load <4 x double>, <4 x double> addrspace(13)* %48, align 8\n",
      "   %49 = getelementptr double, double addrspace(13)* %47, i64 4\n",
      "   %50 = bitcast double addrspace(13)* %49 to <4 x double> addrspace(13)*\n",
      "   %wide.load25 = load <4 x double>, <4 x double> addrspace(13)* %50, align 8\n",
      "   %51 = getelementptr double, double addrspace(13)* %47, i64 8\n",
      "   %52 = bitcast double addrspace(13)* %51 to <4 x double> addrspace(13)*\n",
      "   %wide.load26 = load <4 x double>, <4 x double> addrspace(13)* %52, align 8\n",
      "   %53 = getelementptr double, double addrspace(13)* %47, i64 12\n",
      "   %54 = bitcast double addrspace(13)* %53 to <4 x double> addrspace(13)*\n",
      "   %wide.load27 = load <4 x double>, <4 x double> addrspace(13)* %54, align 8\n",
      "; └\n",
      "; ┌ @ float.jl:399 within `*'\n",
      "   %55 = fmul <4 x double> %wide.load, %wide.load24\n",
      "   %56 = fmul <4 x double> %wide.load21, %wide.load25\n",
      "   %57 = fmul <4 x double> %wide.load22, %wide.load26\n",
      "   %58 = fmul <4 x double> %wide.load23, %wide.load27\n",
      "; └\n",
      "; ┌ @ array.jl:767 within `setindex!'\n",
      "   %59 = getelementptr inbounds double, double addrspace(13)* %37, i64 %38\n",
      "   %60 = bitcast double addrspace(13)* %59 to <4 x double> addrspace(13)*\n",
      "   store <4 x double> %55, <4 x double> addrspace(13)* %60, align 8\n",
      "   %61 = getelementptr double, double addrspace(13)* %59, i64 4\n",
      "   %62 = bitcast double addrspace(13)* %61 to <4 x double> addrspace(13)*\n",
      "   store <4 x double> %56, <4 x double> addrspace(13)* %62, align 8\n",
      "   %63 = getelementptr double, double addrspace(13)* %59, i64 8\n",
      "   %64 = bitcast double addrspace(13)* %63 to <4 x double> addrspace(13)*\n",
      "   store <4 x double> %57, <4 x double> addrspace(13)* %64, align 8\n",
      "   %65 = getelementptr double, double addrspace(13)* %59, i64 12\n",
      "   %66 = bitcast double addrspace(13)* %65 to <4 x double> addrspace(13)*\n",
      "   store <4 x double> %58, <4 x double> addrspace(13)* %66, align 8\n",
      "   %index.next = add i64 %index, 16\n",
      "   %67 = icmp eq i64 %index.next, %n.vec\n",
      "   br i1 %67, label %middle.block, label %vector.body\n",
      "\n",
      "middle.block:                                     ; preds = %vector.body\n",
      "   %cmp.n = icmp eq i64 %19, %n.vec\n",
      "; └\n",
      ";  @ In[27]:3 within `c_a_times_b!'\n",
      "  br i1 %cmp.n, label %L41, label %scalar.ph\n",
      "\n",
      "scalar.ph:                                        ; preds = %middle.block, %vector.memcheck, %L19.L24_crit_edge\n",
      "  %bc.resume.val = phi i64 [ %ind.end, %middle.block ], [ 1, %L19.L24_crit_edge ], [ 1, %vector.memcheck ]\n",
      "  br label %L24\n",
      "\n",
      "L24:                                              ; preds = %L24, %scalar.ph\n",
      "  %value_phi4 = phi i64 [ %bc.resume.val, %scalar.ph ], [ %76, %L24 ]\n",
      ";  @ In[27]:4 within `c_a_times_b!'\n",
      "; ┌ @ array.jl:729 within `getindex'\n",
      "   %68 = add nsw i64 %value_phi4, -1\n",
      "   %69 = getelementptr inbounds double, double addrspace(13)* %33, i64 %68\n",
      "   %70 = load double, double addrspace(13)* %69, align 8\n",
      "   %71 = getelementptr inbounds double, double addrspace(13)* %35, i64 %68\n",
      "   %72 = load double, double addrspace(13)* %71, align 8\n",
      "; └\n",
      "; ┌ @ float.jl:399 within `*'\n",
      "   %73 = fmul double %70, %72\n",
      "; └\n",
      "; ┌ @ array.jl:767 within `setindex!'\n",
      "   %74 = getelementptr inbounds double, double addrspace(13)* %37, i64 %68\n",
      "   store double %73, double addrspace(13)* %74, align 8\n",
      "; └\n",
      "; ┌ @ range.jl:594 within `iterate'\n",
      "; │┌ @ promotion.jl:403 within `=='\n",
      "    %75 = icmp eq i64 %value_phi4, %19\n",
      "; │└\n",
      "; │ @ range.jl:595 within `iterate'\n",
      "; │┌ @ int.jl:53 within `+'\n",
      "    %76 = add nuw i64 %value_phi4, 1\n",
      "; └└\n",
      "  br i1 %75, label %L41, label %L24\n",
      "\n",
      "L41:                                              ; preds = %L24, %middle.block, %L11\n",
      "  %77 = getelementptr %jl_value_t addrspace(10)*, %jl_value_t addrspace(10)** %gcframe, i32 1\n",
      "  %78 = load %jl_value_t addrspace(10)*, %jl_value_t addrspace(10)** %77\n",
      "  %79 = getelementptr %jl_value_t**, %jl_value_t*** %ptls, i32 0\n",
      "  %80 = bitcast %jl_value_t*** %79 to %jl_value_t addrspace(10)**\n",
      "  store %jl_value_t addrspace(10)* %78, %jl_value_t addrspace(10)** %80\n",
      "  ret %jl_value_t addrspace(10)* addrspacecast (%jl_value_t* inttoptr (i64 139798610268168 to %jl_value_t*) to %jl_value_t addrspace(10)*)\n",
      "\n",
      "L42:                                              ; preds = %L5, %top\n",
      ";  @ In[27]:2 within `c_a_times_b!'\n",
      "; ┌ @ boot.jl:301 within `Type'\n",
      "   %81 = bitcast %jl_value_t*** %ptls to i8*\n",
      "   %82 = call noalias nonnull %jl_value_t addrspace(10)* @jl_gc_pool_alloc(i8* %81, i32 1664, i32 16) #1\n",
      "   %83 = bitcast %jl_value_t addrspace(10)* %82 to %jl_value_t addrspace(10)* addrspace(10)*\n",
      "   %84 = getelementptr %jl_value_t addrspace(10)*, %jl_value_t addrspace(10)* addrspace(10)* %83, i64 -1\n",
      "   store %jl_value_t addrspace(10)* addrspacecast (%jl_value_t* inttoptr (i64 139798708658864 to %jl_value_t*) to %jl_value_t addrspace(10)*), %jl_value_t addrspace(10)* addrspace(10)* %84\n",
      "   %85 = bitcast %jl_value_t addrspace(10)* %82 to %jl_value_t addrspace(10)* addrspace(10)*\n",
      "   store %jl_value_t addrspace(10)* addrspacecast (%jl_value_t* inttoptr (i64 139798637111248 to %jl_value_t*) to %jl_value_t addrspace(10)*), %jl_value_t addrspace(10)* addrspace(10)* %85, align 8\n",
      "; └\n",
      "  %86 = addrspacecast %jl_value_t addrspace(10)* %82 to %jl_value_t addrspace(12)*\n",
      "  %87 = getelementptr %jl_value_t addrspace(10)*, %jl_value_t addrspace(10)** %gcframe, i32 2\n",
      "  store %jl_value_t addrspace(10)* %82, %jl_value_t addrspace(10)** %87\n",
      "  call void @jl_throw(%jl_value_t addrspace(12)* %86)\n",
      "  unreachable\n",
      "}\n"
     ]
    }
   ],
   "source": [
    "code_llvm(c_a_times_b!, Tuple{V64, V64, V64})"
   ]
  },
  {
   "cell_type": "markdown",
   "metadata": {},
   "source": [
    "Inspecting `code_native`\n",
    "\n",
    "```\n",
    "\tvmovupd\t(%r10,%rcx,8), %ymm0\n",
    "\tvmovupd\t32(%r10,%rcx,8), %ymm1\n",
    "\tvmovupd\t64(%r10,%rcx,8), %ymm2\n",
    "\tvmovupd\t96(%r10,%rcx,8), %ymm3\n",
    "```"
   ]
  },
  {
   "cell_type": "code",
   "execution_count": 30,
   "metadata": {},
   "outputs": [
    {
     "name": "stdout",
     "output_type": "stream",
     "text": [
      "\t.text\n",
      "; ┌ @ In[27]:2 within `c_a_times_b!'\n",
      "\tpushq\t%rbx\n",
      "\tsubq\t$32, %rsp\n",
      "\tvxorpd\t%xmm0, %xmm0, %xmm0\n",
      "\tvmovapd\t%xmm0, (%rsp)\n",
      "\tmovq\t$0, 16(%rsp)\n",
      "\tmovq\t%rsi, 24(%rsp)\n",
      "\tmovq\t%fs:0, %rax\n",
      "\tmovq\t$2, (%rsp)\n",
      "\tmovq\t-15552(%rax), %rcx\n",
      "\tmovq\t%rcx, 8(%rsp)\n",
      "\tmovq\t%rsp, %rcx\n",
      "\tmovq\t%rcx, -15552(%rax)\n",
      "\tleaq\t-15552(%rax), %rdi\n",
      "\tmovq\t8(%rsi), %rax\n",
      "\tmovq\t16(%rsi), %rcx\n",
      "; │┌ @ array.jl:199 within `length'\n",
      "\tmovq\t8(%rcx), %r8\n",
      "; │└\n",
      "; │┌ @ promotion.jl:403 within `=='\n",
      "\tcmpq\t%r8, 8(%rax)\n",
      "; │└\n",
      "\tjne\tL368\n",
      "\tmovq\t(%rsi), %rsi\n",
      "; │ @ In[27]:2 within `c_a_times_b!'\n",
      "; │┌ @ promotion.jl:403 within `=='\n",
      "\tcmpq\t8(%rsi), %r8\n",
      "; │└\n",
      "\tjne\tL368\n",
      "; │ @ In[27]:3 within `c_a_times_b!'\n",
      "; │┌ @ range.jl:5 within `Colon'\n",
      "; ││┌ @ range.jl:274 within `Type'\n",
      "; │││┌ @ range.jl:279 within `unitrange_last'\n",
      "; ││││┌ @ operators.jl:333 within `>='\n",
      "; │││││┌ @ int.jl:428 within `<='\n",
      "\ttestq\t%r8, %r8\n",
      "; │└└└└└\n",
      "\tjle\tL169\n",
      "\tmovq\t(%rax), %r10\n",
      "\tmovq\t(%rcx), %rdx\n",
      "\tmovq\t(%rsi), %rsi\n",
      "; │ @ In[27]:3 within `c_a_times_b!'\n",
      "\tcmpq\t$16, %r8\n",
      "\tjae\tL196\n",
      "\tmovl\t$1, %eax\n",
      "; │ @ In[27]:3 within `c_a_times_b!'\n",
      "L134:\n",
      "\taddq\t$-1, %rax\n",
      "\tnopw\t(%rax,%rax)\n",
      "; │ @ In[27]:4 within `c_a_times_b!'\n",
      "; │┌ @ array.jl:729 within `getindex'\n",
      "L144:\n",
      "\tvmovsd\t(%r10,%rax,8), %xmm0    # xmm0 = mem[0],zero\n",
      "; │└\n",
      "; │┌ @ float.jl:399 within `*'\n",
      "\tvmulsd\t(%rdx,%rax,8), %xmm0, %xmm0\n",
      "; │└\n",
      "; │┌ @ array.jl:767 within `setindex!'\n",
      "\tvmovsd\t%xmm0, (%rsi,%rax,8)\n",
      "; │└\n",
      "; │┌ @ range.jl:594 within `iterate'\n",
      "; ││┌ @ promotion.jl:403 within `=='\n",
      "\taddq\t$1, %rax\n",
      "\tcmpq\t%rax, %r8\n",
      "; │└└\n",
      "\tjne\tL144\n",
      "L169:\n",
      "\tmovq\t8(%rsp), %rax\n",
      "\tmovq\t%rax, (%rdi)\n",
      "\tmovabsq\t$139798610268168, %rax  # imm = 0x7F2566815008\n",
      "\taddq\t$32, %rsp\n",
      "\tpopq\t%rbx\n",
      "\tvzeroupper\n",
      "\tretq\n",
      "; │ @ In[27]:3 within `c_a_times_b!'\n",
      "L196:\n",
      "\tleaq\t(%rsi,%r8,8), %rax\n",
      "\tleaq\t(%r10,%r8,8), %rcx\n",
      "\tleaq\t(%rdx,%r8,8), %r9\n",
      "\tcmpq\t%rcx, %rsi\n",
      "\tsetb\t%r11b\n",
      "\tcmpq\t%rax, %r10\n",
      "\tsetb\t%bl\n",
      "\tcmpq\t%r9, %rsi\n",
      "\tsetb\t%cl\n",
      "\tcmpq\t%rax, %rdx\n",
      "\tsetb\t%r9b\n",
      "\tmovl\t$1, %eax\n",
      "\ttestb\t%bl, %r11b\n",
      "\tjne\tL134\n",
      "\tandb\t%r9b, %cl\n",
      "\tjne\tL134\n",
      "\tmovq\t%r8, %r9\n",
      "\tandq\t$-16, %r9\n",
      "\tleaq\t1(%r9), %rax\n",
      "\txorl\t%ecx, %ecx\n",
      "\tnopw\t%cs:(%rax,%rax)\n",
      "; │ @ In[27]:4 within `c_a_times_b!'\n",
      "; │┌ @ array.jl:729 within `getindex'\n",
      "L272:\n",
      "\tvmovupd\t(%r10,%rcx,8), %ymm0\n",
      "\tvmovupd\t32(%r10,%rcx,8), %ymm1\n",
      "\tvmovupd\t64(%r10,%rcx,8), %ymm2\n",
      "\tvmovupd\t96(%r10,%rcx,8), %ymm3\n",
      "; │└\n",
      "; │┌ @ float.jl:399 within `*'\n",
      "\tvmulpd\t(%rdx,%rcx,8), %ymm0, %ymm0\n",
      "\tvmulpd\t32(%rdx,%rcx,8), %ymm1, %ymm1\n",
      "\tvmulpd\t64(%rdx,%rcx,8), %ymm2, %ymm2\n",
      "\tvmulpd\t96(%rdx,%rcx,8), %ymm3, %ymm3\n",
      "; │└\n",
      "; │┌ @ array.jl:767 within `setindex!'\n",
      "\tvmovupd\t%ymm0, (%rsi,%rcx,8)\n",
      "\tvmovupd\t%ymm1, 32(%rsi,%rcx,8)\n",
      "\tvmovupd\t%ymm2, 64(%rsi,%rcx,8)\n",
      "\tvmovupd\t%ymm3, 96(%rsi,%rcx,8)\n",
      "\taddq\t$16, %rcx\n",
      "\tcmpq\t%rcx, %r9\n",
      "\tjne\tL272\n",
      "; └└\n",
      "; ┌ @ array.jl within `c_a_times_b!'\n",
      "\tcmpq\t%r9, %r8\n",
      "; └\n",
      "; ┌ @ In[27]:3 within `c_a_times_b!'\n",
      "\tje\tL169\n",
      "\tjmp\tL134\n",
      "; │ @ In[27]:2 within `c_a_times_b!'\n",
      "; │┌ @ boot.jl:301 within `Type'\n",
      "L368:\n",
      "\tmovabsq\t$jl_gc_pool_alloc, %rax\n",
      "\tmovl\t$1664, %esi             # imm = 0x680\n",
      "\tmovl\t$16, %edx\n",
      "\tcallq\t*%rax\n",
      "\tmovabsq\t$jl_system_image_data, %rcx\n",
      "\tmovq\t%rcx, -8(%rax)\n",
      "\tmovabsq\t$139798637111248, %rcx  # imm = 0x7F25681AE7D0\n",
      "\tmovq\t%rcx, (%rax)\n",
      "\tmovq\t%rax, 16(%rsp)\n",
      "; │└\n",
      "\tmovabsq\t$jl_throw, %rcx\n",
      "\tmovq\t%rax, %rdi\n",
      "\tcallq\t*%rcx\n",
      "; └\n"
     ]
    }
   ],
   "source": [
    "code_native(c_a_times_b!, Tuple{V64, V64, V64})"
   ]
  },
  {
   "cell_type": "markdown",
   "metadata": {},
   "source": [
    "# Reading and writting SIMD vectors from arrays using `vload` and `vstore`\n",
    "\n",
    "\n",
    "- `vload`  reads to a SIMD vector from an array (reading from several contiguous array elements).\n",
    "- `vstore` writes to an array from a SIMD vector (writting to consecutive positions of an array) ."
   ]
  },
  {
   "cell_type": "markdown",
   "metadata": {},
   "source": [
    "Given an array `a` we can get a slice of size `N` as follows"
   ]
  },
  {
   "cell_type": "code",
   "execution_count": 31,
   "metadata": {},
   "outputs": [
    {
     "data": {
      "text/plain": [
       "Vec{4,Float64}"
      ]
     },
     "execution_count": 31,
     "metadata": {},
     "output_type": "execute_result"
    }
   ],
   "source": [
    "T = Float64\n",
    "N = 4\n",
    "a = rand(T, 10_000);\n",
    "v_type = Vec{N, T}"
   ]
  },
  {
   "cell_type": "markdown",
   "metadata": {},
   "source": [
    "Notice that `Vec{N,T}` is not a vector, is the type of a vector (that is why we named it `v_type`)."
   ]
  },
  {
   "cell_type": "code",
   "execution_count": 32,
   "metadata": {},
   "outputs": [
    {
     "data": {
      "text/plain": [
       "DataType"
      ]
     },
     "execution_count": 32,
     "metadata": {},
     "output_type": "execute_result"
    }
   ],
   "source": [
    "typeof(v_type)"
   ]
  },
  {
   "cell_type": "markdown",
   "metadata": {},
   "source": [
    "When we use the `vload(v_type,a,i)` function we actually generate a vector of type `v_type`"
   ]
  },
  {
   "cell_type": "code",
   "execution_count": 33,
   "metadata": {
    "scrolled": true
   },
   "outputs": [
    {
     "data": {
      "text/plain": [
       "<4 x Float64>[0.9357647892861083, 0.8605442359943398, 0.6671121286441688, 0.4117393532614202]"
      ]
     },
     "execution_count": 33,
     "metadata": {},
     "output_type": "execute_result"
    }
   ],
   "source": [
    "i = 1\n",
    "v = vload(v_type, a, i)"
   ]
  },
  {
   "cell_type": "code",
   "execution_count": 34,
   "metadata": {},
   "outputs": [
    {
     "data": {
      "text/plain": [
       "Vec{4,Float64}"
      ]
     },
     "execution_count": 34,
     "metadata": {},
     "output_type": "execute_result"
    }
   ],
   "source": [
    "typeof(v)"
   ]
  },
  {
   "cell_type": "markdown",
   "metadata": {},
   "source": [
    "In this case `v` contains the information from `a[1:4]` because `i=1`.\n",
    "\n",
    "More generally, **`vload(v_type, a, i)` will contain the same information as `a[i:(i+N-1)]`**"
   ]
  },
  {
   "cell_type": "code",
   "execution_count": 35,
   "metadata": {
    "scrolled": true
   },
   "outputs": [
    {
     "name": "stdout",
     "output_type": "stream",
     "text": [
      "v[1] == a[1] is true\n",
      "v[2] == a[2] is true\n",
      "v[3] == a[3] is true\n",
      "v[4] == a[4] is true\n"
     ]
    }
   ],
   "source": [
    "for i in 1:N\n",
    "    println( \"v[$i] == a[$i] is \", v[i] == a[i])\n",
    "end"
   ]
  },
  {
   "cell_type": "markdown",
   "metadata": {},
   "source": [
    "## Translating \"Array\" code to \"SIMDVector\" code \n",
    "\n",
    "What would happen if we want to translate\n",
    "\n",
    "```\n",
    "T = Float64\n",
    "a = rand(T, 1000)\n",
    "b = rand(T, 1000)\n",
    "c = zeros(T, 1000)\n",
    "\n",
    "c_a_times_b!(c,a,b)\n",
    "```\n",
    "\n",
    "Using SIMD instructions ?\n",
    "\n"
   ]
  },
  {
   "cell_type": "code",
   "execution_count": 36,
   "metadata": {},
   "outputs": [
    {
     "name": "stdout",
     "output_type": "stream",
     "text": [
      "  5.616 μs (0 allocations: 0 bytes)\n"
     ]
    }
   ],
   "source": [
    "T = Float64\n",
    "a = rand(T, 10_000)\n",
    "b = rand(T, 100_00)\n",
    "c = zeros(T, 100_00)\n",
    "\n",
    "@btime c_a_times_b!($c,$a,$b)"
   ]
  },
  {
   "cell_type": "markdown",
   "metadata": {},
   "source": [
    "Now let us convert the method `c_a_times_b!` manually to use SIMD instructions, to do so we need to decompose our problem into subproblems of size `SIMD_WIDTH`. \n",
    "\n",
    "Now we can assume, without any loss in generality, that `SIMD_WIDTH=4`. We will cover more details later on."
   ]
  },
  {
   "cell_type": "markdown",
   "metadata": {},
   "source": [
    "##### Example of `c_a_times_b!(c[1:8], a[1:8], b[1:8])`\n",
    "\n",
    "Now what can we do to, for example, sum the first 8 positions of `a` to the first 8 positions of `b` and then save the results into `c` ?"
   ]
  },
  {
   "cell_type": "code",
   "execution_count": 37,
   "metadata": {},
   "outputs": [
    {
     "data": {
      "text/plain": [
       "8-element Array{Float64,1}:\n",
       " 0.5016238777443504  \n",
       " 0.18793853104134334 \n",
       " 0.009747989525473767\n",
       " 0.14699073291223802 \n",
       " 0.3365845204622229  \n",
       " 0.20695896603027628 \n",
       " 0.18520153561321254 \n",
       " 0.19679010405495975 "
      ]
     },
     "execution_count": 37,
     "metadata": {},
     "output_type": "execute_result"
    }
   ],
   "source": [
    "c = zeros(8)\n",
    "i = 1\n",
    "c_chunk = vload(v_type, a, i) * vload(v_type, b, i)\n",
    "vstore(c_chunk,c,i)\n",
    "i = 1 + N\n",
    "c_chunk = vload(v_type, a, i) * vload(v_type, b, i)\n",
    "vstore(c_chunk,c,i)\n",
    "c"
   ]
  },
  {
   "cell_type": "markdown",
   "metadata": {},
   "source": [
    "This is equivalent to..."
   ]
  },
  {
   "cell_type": "code",
   "execution_count": 38,
   "metadata": {},
   "outputs": [
    {
     "data": {
      "text/plain": [
       "8-element Array{Float64,1}:\n",
       " 0.5016238777443504  \n",
       " 0.18793853104134334 \n",
       " 0.009747989525473767\n",
       " 0.14699073291223802 \n",
       " 0.3365845204622229  \n",
       " 0.20695896603027628 \n",
       " 0.18520153561321254 \n",
       " 0.19679010405495975 "
      ]
     },
     "execution_count": 38,
     "metadata": {},
     "output_type": "execute_result"
    }
   ],
   "source": [
    "c = zeros(8)\n",
    "c_a_times_b!(c, a[1:8], b[1:8])\n",
    "c"
   ]
  },
  {
   "cell_type": "markdown",
   "metadata": {},
   "source": [
    "Now, instead of doing this process twice, we can do it multiple times.\n",
    "This means that we can instead of iterating over all positions in the array we can do the operation as follows"
   ]
  },
  {
   "cell_type": "code",
   "execution_count": 39,
   "metadata": {},
   "outputs": [
    {
     "data": {
      "text/plain": [
       "c_a_times_b_SIMD! (generic function with 1 method)"
      ]
     },
     "execution_count": 39,
     "metadata": {},
     "output_type": "execute_result"
    }
   ],
   "source": [
    "function c_a_times_b_SIMD!(c::Array{T}, a::Array{T}, b::Array, v_type::Type{Vec{N,T}}) where {N, T}\n",
    "    #@assert length(a) == length(b) == length(c)\n",
    "    \n",
    "    @inbounds for i in 1:N:length(a)\n",
    "        a_chunk = vload(v_type, a, i) \n",
    "        b_chunk = vload(v_type, b, i) \n",
    "        a_chunk *=  b_chunk\n",
    "        vstore(a_chunk,c,i)\n",
    "    end\n",
    "end"
   ]
  },
  {
   "cell_type": "code",
   "execution_count": 40,
   "metadata": {},
   "outputs": [
    {
     "ename": "BoundsError",
     "evalue": "BoundsError",
     "output_type": "error",
     "traceback": [
      "BoundsError",
      "",
      "Stacktrace:",
      " [1] vstore at /home/david/.julia/packages/SIMD/nqizO/src/SIMD.jl:1488 [inlined] (repeats 3 times)",
      " [2] c_a_times_b_SIMD!(::Array{Float64,1}, ::Array{Float64,1}, ::Array{Float64,1}, ::Type{Vec{4,Float64}}) at ./In[39]:8",
      " [3] ##core#442(::Array{Float64,1}, ::Array{Float64,1}, ::Array{Float64,1}) at /home/david/.julia/packages/BenchmarkTools/mVOqg/src/execution.jl:297",
      " [4] ##sample#443(::BenchmarkTools.Parameters) at /home/david/.julia/packages/BenchmarkTools/mVOqg/src/execution.jl:303",
      " [5] #_run#11(::Bool, ::String, ::Base.Iterators.Pairs{Symbol,Integer,NTuple{4,Symbol},NamedTuple{(:samples, :evals, :gctrial, :gcsample),Tuple{Int64,Int64,Bool,Bool}}}, ::Function, ::BenchmarkTools.Benchmark{Symbol(\"##benchmark#441\")}, ::BenchmarkTools.Parameters) at /home/david/.julia/packages/BenchmarkTools/mVOqg/src/execution.jl:331",
      " [6] (::getfield(Base, Symbol(\"#inner#2\")){Base.Iterators.Pairs{Symbol,Integer,NTuple{5,Symbol},NamedTuple{(:verbose, :samples, :evals, :gctrial, :gcsample),Tuple{Bool,Int64,Int64,Bool,Bool}}},typeof(BenchmarkTools._run),Tuple{BenchmarkTools.Benchmark{Symbol(\"##benchmark#441\")},BenchmarkTools.Parameters}})() at ./none:0",
      " [7] #invokelatest#1 at ./essentials.jl:746 [inlined]",
      " [8] #invokelatest at ./none:0 [inlined]",
      " [9] #run_result#19 at /home/david/.julia/packages/BenchmarkTools/mVOqg/src/execution.jl:32 [inlined]",
      " [10] #run_result at ./none:0 [inlined]",
      " [11] #run#21(::Base.Iterators.Pairs{Symbol,Integer,NTuple{5,Symbol},NamedTuple{(:verbose, :samples, :evals, :gctrial, :gcsample),Tuple{Bool,Int64,Int64,Bool,Bool}}}, ::Function, ::BenchmarkTools.Benchmark{Symbol(\"##benchmark#441\")}, ::BenchmarkTools.Parameters) at /home/david/.julia/packages/BenchmarkTools/mVOqg/src/execution.jl:46",
      " [12] #run at ./none:0 [inlined] (repeats 2 times)",
      " [13] #warmup#24 at /home/david/.julia/packages/BenchmarkTools/mVOqg/src/execution.jl:79 [inlined]",
      " [14] warmup(::BenchmarkTools.Benchmark{Symbol(\"##benchmark#441\")}) at /home/david/.julia/packages/BenchmarkTools/mVOqg/src/execution.jl:79",
      " [15] top-level scope at /home/david/.julia/packages/BenchmarkTools/mVOqg/src/execution.jl:390",
      " [16] top-level scope at In[40]:1"
     ]
    }
   ],
   "source": [
    "@btime c_a_times_b_SIMD!($c,$a,$b,Vec{4,Float64})"
   ]
  },
  {
   "cell_type": "markdown",
   "metadata": {},
   "source": [
    "We could aso have the information of the SIMD width inside the function"
   ]
  },
  {
   "cell_type": "code",
   "execution_count": 41,
   "metadata": {
    "scrolled": true
   },
   "outputs": [
    {
     "data": {
      "text/plain": [
       "c_a_times_b_SIMD_2! (generic function with 1 method)"
      ]
     },
     "execution_count": 41,
     "metadata": {},
     "output_type": "execute_result"
    }
   ],
   "source": [
    "\n",
    "function c_a_times_b_SIMD_2!(c::Array{T}, a::Array{T}, b::Array{T})\n",
    "    #@assert length(a) == length(b) == length(c)\n",
    "    N = 4\n",
    "    @inbounds for i in 1:N:length(a)\n",
    "        a_chunk = vload(Vec{N,T}, a, i) \n",
    "        b_chunk = vload(Vec{N,T}, b, i) \n",
    "        a_chunk *=  b_chunk\n",
    "        vstore(a_chunk,c,i)\n",
    "    end\n",
    "end"
   ]
  },
  {
   "cell_type": "code",
   "execution_count": 42,
   "metadata": {},
   "outputs": [
    {
     "ename": "BoundsError",
     "evalue": "BoundsError",
     "output_type": "error",
     "traceback": [
      "BoundsError",
      "",
      "Stacktrace:",
      " [1] vstore at /home/david/.julia/packages/SIMD/nqizO/src/SIMD.jl:1488 [inlined] (repeats 3 times)",
      " [2] c_a_times_b_SIMD_2!(::Array{Float64,1}, ::Array{Float64,1}, ::Array{Float64,1}) at ./In[41]:9",
      " [3] ##core#456(::Array{Float64,1}, ::Array{Float64,1}, ::Array{Float64,1}) at /home/david/.julia/packages/BenchmarkTools/mVOqg/src/execution.jl:297",
      " [4] ##sample#457(::BenchmarkTools.Parameters) at /home/david/.julia/packages/BenchmarkTools/mVOqg/src/execution.jl:303",
      " [5] #_run#12(::Bool, ::String, ::Base.Iterators.Pairs{Symbol,Integer,NTuple{4,Symbol},NamedTuple{(:samples, :evals, :gctrial, :gcsample),Tuple{Int64,Int64,Bool,Bool}}}, ::Function, ::BenchmarkTools.Benchmark{Symbol(\"##benchmark#455\")}, ::BenchmarkTools.Parameters) at /home/david/.julia/packages/BenchmarkTools/mVOqg/src/execution.jl:331",
      " [6] (::getfield(Base, Symbol(\"#inner#2\")){Base.Iterators.Pairs{Symbol,Integer,NTuple{5,Symbol},NamedTuple{(:verbose, :samples, :evals, :gctrial, :gcsample),Tuple{Bool,Int64,Int64,Bool,Bool}}},typeof(BenchmarkTools._run),Tuple{BenchmarkTools.Benchmark{Symbol(\"##benchmark#455\")},BenchmarkTools.Parameters}})() at ./none:0",
      " [7] #invokelatest#1 at ./essentials.jl:746 [inlined]",
      " [8] #invokelatest at ./none:0 [inlined]",
      " [9] #run_result#19 at /home/david/.julia/packages/BenchmarkTools/mVOqg/src/execution.jl:32 [inlined]",
      " [10] #run_result at ./none:0 [inlined]",
      " [11] #run#21(::Base.Iterators.Pairs{Symbol,Integer,NTuple{5,Symbol},NamedTuple{(:verbose, :samples, :evals, :gctrial, :gcsample),Tuple{Bool,Int64,Int64,Bool,Bool}}}, ::Function, ::BenchmarkTools.Benchmark{Symbol(\"##benchmark#455\")}, ::BenchmarkTools.Parameters) at /home/david/.julia/packages/BenchmarkTools/mVOqg/src/execution.jl:46",
      " [12] #run at ./none:0 [inlined] (repeats 2 times)",
      " [13] #warmup#24 at /home/david/.julia/packages/BenchmarkTools/mVOqg/src/execution.jl:79 [inlined]",
      " [14] warmup(::BenchmarkTools.Benchmark{Symbol(\"##benchmark#455\")}) at /home/david/.julia/packages/BenchmarkTools/mVOqg/src/execution.jl:79",
      " [15] top-level scope at /home/david/.julia/packages/BenchmarkTools/mVOqg/src/execution.jl:390",
      " [16] top-level scope at In[42]:1"
     ]
    }
   ],
   "source": [
    "@btime c_a_times_b_SIMD_2!($c,$a,$b)"
   ]
  },
  {
   "cell_type": "markdown",
   "metadata": {},
   "source": [
    "In fact we could have the element type of the arrays and the SIMD width inside the function with the \n",
    "        same performance"
   ]
  },
  {
   "cell_type": "code",
   "execution_count": 43,
   "metadata": {},
   "outputs": [
    {
     "data": {
      "text/plain": [
       "c_a_times_b_SIMD_3! (generic function with 1 method)"
      ]
     },
     "execution_count": 43,
     "metadata": {},
     "output_type": "execute_result"
    }
   ],
   "source": [
    "function c_a_times_b_SIMD_3!(c, a, b)\n",
    "    N = 4\n",
    "    T = eltype(c)\n",
    "    @inbounds for i in 1:N:length(a)\n",
    "        a_chunk = vload(Vec{N,T}, a, i) \n",
    "        b_chunk = vload(Vec{N,T}, b, i) \n",
    "        a_chunk *=  b_chunk\n",
    "        vstore(a_chunk,c,i)\n",
    "    end\n",
    "end"
   ]
  },
  {
   "cell_type": "code",
   "execution_count": 44,
   "metadata": {},
   "outputs": [
    {
     "ename": "BoundsError",
     "evalue": "BoundsError",
     "output_type": "error",
     "traceback": [
      "BoundsError",
      "",
      "Stacktrace:",
      " [1] vstore at /home/david/.julia/packages/SIMD/nqizO/src/SIMD.jl:1488 [inlined] (repeats 3 times)",
      " [2] c_a_times_b_SIMD_3!(::Array{Float64,1}, ::Array{Float64,1}, ::Array{Float64,1}) at ./In[43]:8",
      " [3] ##core#470(::Array{Float64,1}, ::Array{Float64,1}, ::Array{Float64,1}) at /home/david/.julia/packages/BenchmarkTools/mVOqg/src/execution.jl:297",
      " [4] ##sample#471(::BenchmarkTools.Parameters) at /home/david/.julia/packages/BenchmarkTools/mVOqg/src/execution.jl:303",
      " [5] #_run#13(::Bool, ::String, ::Base.Iterators.Pairs{Symbol,Integer,NTuple{4,Symbol},NamedTuple{(:samples, :evals, :gctrial, :gcsample),Tuple{Int64,Int64,Bool,Bool}}}, ::Function, ::BenchmarkTools.Benchmark{Symbol(\"##benchmark#469\")}, ::BenchmarkTools.Parameters) at /home/david/.julia/packages/BenchmarkTools/mVOqg/src/execution.jl:331",
      " [6] (::getfield(Base, Symbol(\"#inner#2\")){Base.Iterators.Pairs{Symbol,Integer,NTuple{5,Symbol},NamedTuple{(:verbose, :samples, :evals, :gctrial, :gcsample),Tuple{Bool,Int64,Int64,Bool,Bool}}},typeof(BenchmarkTools._run),Tuple{BenchmarkTools.Benchmark{Symbol(\"##benchmark#469\")},BenchmarkTools.Parameters}})() at ./none:0",
      " [7] #invokelatest#1 at ./essentials.jl:746 [inlined]",
      " [8] #invokelatest at ./none:0 [inlined]",
      " [9] #run_result#19 at /home/david/.julia/packages/BenchmarkTools/mVOqg/src/execution.jl:32 [inlined]",
      " [10] #run_result at ./none:0 [inlined]",
      " [11] #run#21(::Base.Iterators.Pairs{Symbol,Integer,NTuple{5,Symbol},NamedTuple{(:verbose, :samples, :evals, :gctrial, :gcsample),Tuple{Bool,Int64,Int64,Bool,Bool}}}, ::Function, ::BenchmarkTools.Benchmark{Symbol(\"##benchmark#469\")}, ::BenchmarkTools.Parameters) at /home/david/.julia/packages/BenchmarkTools/mVOqg/src/execution.jl:46",
      " [12] #run at ./none:0 [inlined] (repeats 2 times)",
      " [13] #warmup#24 at /home/david/.julia/packages/BenchmarkTools/mVOqg/src/execution.jl:79 [inlined]",
      " [14] warmup(::BenchmarkTools.Benchmark{Symbol(\"##benchmark#469\")}) at /home/david/.julia/packages/BenchmarkTools/mVOqg/src/execution.jl:79",
      " [15] top-level scope at /home/david/.julia/packages/BenchmarkTools/mVOqg/src/execution.jl:390",
      " [16] top-level scope at In[44]:1"
     ]
    }
   ],
   "source": [
    "@btime c_a_times_b_SIMD_3!($c,$a,$b)"
   ]
  },
  {
   "cell_type": "markdown",
   "metadata": {},
   "source": [
    "## Arrays with number of elements not divisible by simd witdh\n",
    "\n",
    "What happens now if we use `c_a_times_b_SIMD_3!` with an array of **1010** elements?\n",
    "\n",
    "Our code assumed `length(a)%N==0` because if this is not true then the code crashes.\n",
    "\n"
   ]
  },
  {
   "cell_type": "code",
   "execution_count": 45,
   "metadata": {},
   "outputs": [],
   "source": [
    "T = Float64\n",
    "n_elements = 1010\n",
    "SIMD_WIDTH = 4\n",
    "a = rand(T, n_elements)\n",
    "b = rand(T, n_elements)\n",
    "c = zeros(T, n_elements);"
   ]
  },
  {
   "cell_type": "code",
   "execution_count": 46,
   "metadata": {},
   "outputs": [
    {
     "ename": "BoundsError",
     "evalue": "BoundsError",
     "output_type": "error",
     "traceback": [
      "BoundsError",
      "",
      "Stacktrace:",
      " [1] vstore at /home/david/.julia/packages/SIMD/nqizO/src/SIMD.jl:1488 [inlined] (repeats 3 times)",
      " [2] c_a_times_b_SIMD_3!(::Array{Float64,1}, ::Array{Float64,1}, ::Array{Float64,1}) at ./In[43]:8",
      " [3] top-level scope at In[46]:1"
     ]
    }
   ],
   "source": [
    "c_a_times_b_SIMD_3!(c,a,b)"
   ]
  },
  {
   "cell_type": "markdown",
   "metadata": {},
   "source": [
    "To solve this problem we can do the following: \n",
    "\n",
    "Split the problem into two subproblems.\n",
    "The first subproblem has a number of elements that is divisible by `N`, we can proceed as we did before.\n",
    "THe second subproblem has a number of elements that is not divisible by `N`, we can do those sequentially.\n",
    "\n",
    "Since `mod(1010,4) = 2` that means we can do the first `1008` elements using SIMD vectors and the remaining 2 using scalar operations.\n",
    "\n",
    "In general:\n",
    "\n",
    "```\n",
    "    n_remaining = mod(n_elements, N)\n",
    "    n_first = n_elements - n_remaining\n",
    "```\n"
   ]
  },
  {
   "cell_type": "code",
   "execution_count": 47,
   "metadata": {},
   "outputs": [
    {
     "data": {
      "text/plain": [
       "(2, 1008)"
      ]
     },
     "execution_count": 47,
     "metadata": {},
     "output_type": "execute_result"
    }
   ],
   "source": [
    "n_remaining = mod(1010,4)\n",
    "n_first = n_elements -n_remaining\n",
    "n_remaining, n_first"
   ]
  },
  {
   "cell_type": "code",
   "execution_count": 75,
   "metadata": {},
   "outputs": [
    {
     "data": {
      "text/plain": [
       "c_a_times_b_SIMD_4! (generic function with 1 method)"
      ]
     },
     "execution_count": 75,
     "metadata": {},
     "output_type": "execute_result"
    }
   ],
   "source": [
    "function c_a_times_b_SIMD_4!(c, a, b)\n",
    "    N = 4\n",
    "    T = eltype(c)\n",
    "    n_elements = length(a)\n",
    "    n_remaining = mod(n_elements, N)\n",
    "    n_first = n_elements - n_remaining\n",
    "    \n",
    "    for i in 1:N:length(n_first)\n",
    "        a_chunk = vload(Vec{N,T}, a, i) \n",
    "        b_chunk = vload(Vec{N,T}, b, i) \n",
    "        a_chunk *=  b_chunk\n",
    "        vstore(a_chunk,c,i)\n",
    "    end\n",
    "    \n",
    "    for i in n_first:n_elements\n",
    "        c[i] = a[i]*b[i]\n",
    "    end\n",
    "end"
   ]
  },
  {
   "cell_type": "code",
   "execution_count": 76,
   "metadata": {},
   "outputs": [],
   "source": [
    "c_a_times_b_SIMD_4!(c,a,b)"
   ]
  },
  {
   "cell_type": "code",
   "execution_count": 78,
   "metadata": {},
   "outputs": [
    {
     "data": {
      "text/plain": [
       "true"
      ]
     },
     "execution_count": 78,
     "metadata": {},
     "output_type": "execute_result"
    }
   ],
   "source": [
    "aux = zero(a)\n",
    "c_a_times_b!(aux,a,b)\n",
    "isapprox(aux,c)"
   ]
  },
  {
   "cell_type": "code",
   "execution_count": null,
   "metadata": {},
   "outputs": [],
   "source": []
  },
  {
   "cell_type": "code",
   "execution_count": 80,
   "metadata": {},
   "outputs": [
    {
     "name": "stdout",
     "output_type": "stream",
     "text": [
      "  18.109 ns (0 allocations: 0 bytes)\n"
     ]
    }
   ],
   "source": [
    "@btime c_a_times_b_SIMD_4!($c, $a, $b)"
   ]
  },
  {
   "cell_type": "code",
   "execution_count": 81,
   "metadata": {},
   "outputs": [
    {
     "name": "stdout",
     "output_type": "stream",
     "text": [
      "  4.864 μs (0 allocations: 0 bytes)\n"
     ]
    }
   ],
   "source": [
    "@btime c_a_times_b!($c, $a, $b)"
   ]
  },
  {
   "cell_type": "code",
   "execution_count": 82,
   "metadata": {},
   "outputs": [
    {
     "name": "stdout",
     "output_type": "stream",
     "text": [
      "  5.340 μs (0 allocations: 0 bytes)\n"
     ]
    }
   ],
   "source": [
    "@btime c_a_times_b_SIMD_3!(c,a,b)"
   ]
  },
  {
   "cell_type": "code",
   "execution_count": null,
   "metadata": {},
   "outputs": [],
   "source": []
  },
  {
   "cell_type": "code",
   "execution_count": 63,
   "metadata": {},
   "outputs": [],
   "source": [
    "T = Float64\n",
    "n_elements = 10_000\n",
    "SIMD_WIDTH = 4\n",
    "a = rand(T, n_elements)\n",
    "b = rand(T, n_elements)\n",
    "c = zeros(T, n_elements);"
   ]
  },
  {
   "cell_type": "code",
   "execution_count": 64,
   "metadata": {},
   "outputs": [
    {
     "name": "stdout",
     "output_type": "stream",
     "text": [
      "  20.807 ns (0 allocations: 0 bytes)\n"
     ]
    }
   ],
   "source": [
    "@btime c_a_times_b_SIMD_4!($c, $a, $b)"
   ]
  },
  {
   "cell_type": "code",
   "execution_count": 65,
   "metadata": {},
   "outputs": [
    {
     "name": "stdout",
     "output_type": "stream",
     "text": [
      "  5.050 μs (0 allocations: 0 bytes)\n"
     ]
    }
   ],
   "source": [
    "@btime c_a_times_b!($c, $a, $b)"
   ]
  },
  {
   "cell_type": "code",
   "execution_count": null,
   "metadata": {},
   "outputs": [],
   "source": []
  },
  {
   "cell_type": "code",
   "execution_count": null,
   "metadata": {},
   "outputs": [],
   "source": []
  },
  {
   "cell_type": "markdown",
   "metadata": {},
   "source": [
    "### Another example"
   ]
  },
  {
   "cell_type": "code",
   "execution_count": null,
   "metadata": {},
   "outputs": [],
   "source": [
    "using SIMD\n",
    "using BenchmarkTools\n",
    "\n",
    "x1 = rand(Float64, 64)\n",
    "x2 = rand(Float64, 64)\n",
    "y = similar(x1)\n",
    "\n",
    "function add!(y, x1,x2)\n",
    "    @inbounds for i=1:length(x1)\n",
    "        y[i] = x1[i] + x2[i] \n",
    "    end\n",
    "end\n",
    "\n",
    "function vadd!(y::Vector{T}, xs::Vector{T}, ys::Vector{T}, vec::Type{Vec{N,T}}=Vec{8,T}) \n",
    "    @inbounds for i in 1:N:length(xs)\n",
    "        xv = vload(Vec{N,T}, xs, i)\n",
    "        yv = vload(Vec{N,T}, ys, i)\n",
    "        xv += yv \n",
    "        vstore(xv, y, i)\n",
    "    end\n",
    "end\n"
   ]
  },
  {
   "cell_type": "code",
   "execution_count": null,
   "metadata": {},
   "outputs": [],
   "source": []
  },
  {
   "cell_type": "code",
   "execution_count": null,
   "metadata": {},
   "outputs": [],
   "source": []
  },
  {
   "cell_type": "markdown",
   "metadata": {},
   "source": [
    "## vload and vstore using indexing notation"
   ]
  },
  {
   "cell_type": "code",
   "execution_count": null,
   "metadata": {},
   "outputs": [],
   "source": [
    "function c_a_times_b_SIMD_2!(c::Array, a::Array, b::Array, N::Int)\n",
    "    @assert length(a) == length(b) == length(c)\n",
    "    \n",
    "    T      = eltype(c)\n",
    "    v_type = Vec{N, T}\n",
    "    a_chunk = zero(Vec{4,Float64})\n",
    "    b_chunk = zero(Vec{4,Float64})\n",
    "    \n",
    "    for i in 1:N:length(a)\n",
    "        c_chunk = vload(v_type, a, i) * vload(v_type, b, i)\n",
    "        vstore(c_chunk,c,i)\n",
    "    end\n",
    "end"
   ]
  },
  {
   "cell_type": "code",
   "execution_count": null,
   "metadata": {},
   "outputs": [],
   "source": [
    "@btime c_a_times_b_SIMD_2!($c,$a,$b,4)"
   ]
  },
  {
   "cell_type": "code",
   "execution_count": null,
   "metadata": {},
   "outputs": [],
   "source": []
  },
  {
   "cell_type": "code",
   "execution_count": null,
   "metadata": {},
   "outputs": [],
   "source": []
  },
  {
   "cell_type": "code",
   "execution_count": null,
   "metadata": {},
   "outputs": [],
   "source": []
  },
  {
   "cell_type": "markdown",
   "metadata": {},
   "source": [
    "# Using `VecRange` objects"
   ]
  },
  {
   "cell_type": "code",
   "execution_count": null,
   "metadata": {},
   "outputs": [],
   "source": [
    "using SIMD\n",
    "function vadd!(xs::Vector{T}, ys::Vector{T}, ::Type{Vec{N,T}}) where {N, T}\n",
    "    @assert length(ys) == length(xs)\n",
    "    @assert length(xs) % N == 0\n",
    "    lane = VecRange{N}(0)\n",
    "    @inbounds for i in 1:N:length(xs)\n",
    "        xs[lane + i] += ys[lane + i]\n",
    "    end\n",
    "end"
   ]
  },
  {
   "cell_type": "code",
   "execution_count": null,
   "metadata": {},
   "outputs": [],
   "source": [
    "x = rand(Float32, 1_000_000);\n",
    "y = rand(Float32, 1_000_000);"
   ]
  },
  {
   "cell_type": "code",
   "execution_count": null,
   "metadata": {
    "scrolled": true
   },
   "outputs": [],
   "source": [
    "@btime vadd!($x,$y,Vec{32,Float32})"
   ]
  },
  {
   "cell_type": "code",
   "execution_count": null,
   "metadata": {},
   "outputs": [],
   "source": [
    "@btime $x .+= $y;"
   ]
  },
  {
   "cell_type": "markdown",
   "metadata": {},
   "source": [
    "# If else statements in SIMD "
   ]
  },
  {
   "cell_type": "code",
   "execution_count": null,
   "metadata": {},
   "outputs": [],
   "source": [
    "function myfunc(a, b)\n",
    "    if a > b\n",
    "        return a - b\n",
    "    else\n",
    "        return a + b\n",
    "    end\n",
    "end\n",
    "x = rand(1_000_000);\n",
    "# do myfunc.(x, 2.) with explicit simd calls\n",
    "myfunc.(x, 2.);"
   ]
  },
  {
   "cell_type": "code",
   "execution_count": null,
   "metadata": {},
   "outputs": [],
   "source": [
    "function myfunc_simd(x::Vector{T}, value::T, ::Type{Vec{N,T}}) where {N, T}\n",
    "           @assert length(x) % N == 0\n",
    "           result = Array{T}(undef, length(x))\n",
    "           lane   = VecRange{N}(0)\n",
    "           @inbounds for i in 1:N:length(x)        \n",
    "               x_vslice    = vload(Vec{N, T}, x, i) # i = 2*k+1 where k=1,2,3,4,...\n",
    "               result[lane + i] = vifelse(x_vslice > 2, x_vslice - value, x_vslice + value)\n",
    "           end\n",
    "           return result\n",
    "       end"
   ]
  },
  {
   "cell_type": "code",
   "execution_count": null,
   "metadata": {},
   "outputs": [],
   "source": [
    "x = rand(Float32,1_000_000);"
   ]
  },
  {
   "cell_type": "code",
   "execution_count": null,
   "metadata": {},
   "outputs": [],
   "source": [
    "result_1 = myfunc.(x,1);\n",
    "result_2 = myfunc_simd(x, Float32(1), Vec{8,Float32});\n",
    "result_1 == result_2"
   ]
  },
  {
   "cell_type": "code",
   "execution_count": null,
   "metadata": {},
   "outputs": [],
   "source": [
    "@btime myfunc.(x,1);"
   ]
  },
  {
   "cell_type": "code",
   "execution_count": null,
   "metadata": {},
   "outputs": [],
   "source": [
    "@btime myfunc_simd(x, Float32(1), Vec{8,Float32});"
   ]
  },
  {
   "cell_type": "code",
   "execution_count": null,
   "metadata": {},
   "outputs": [],
   "source": []
  },
  {
   "cell_type": "code",
   "execution_count": null,
   "metadata": {},
   "outputs": [],
   "source": []
  }
 ],
 "metadata": {
  "kernelspec": {
   "display_name": "Julia 1.1.0",
   "language": "julia",
   "name": "julia-1.1"
  },
  "language_info": {
   "file_extension": ".jl",
   "mimetype": "application/julia",
   "name": "julia",
   "version": "1.1.0"
  },
  "toc": {
   "base_numbering": 1,
   "nav_menu": {},
   "number_sections": true,
   "sideBar": true,
   "skip_h1_title": false,
   "title_cell": "Table of Contents",
   "title_sidebar": "Contents",
   "toc_cell": true,
   "toc_position": {},
   "toc_section_display": true,
   "toc_window_display": false
  }
 },
 "nbformat": 4,
 "nbformat_minor": 2
}
