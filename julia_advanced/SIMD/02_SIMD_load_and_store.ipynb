{
 "cells": [
  {
   "cell_type": "markdown",
   "metadata": {
    "toc": true
   },
   "source": [
    "<h1>Table of Contents<span class=\"tocSkip\"></span></h1>\n",
    "<div class=\"toc\"><ul class=\"toc-item\"><li><span><a href=\"#Reading-and-writting-SIMD-vectors-from-arrays-using-vload-and-vstore\" data-toc-modified-id=\"Reading-and-writting-SIMD-vectors-from-arrays-using-vload-and-vstore-1\"><span class=\"toc-item-num\">1&nbsp;&nbsp;</span>Reading and writting SIMD vectors from arrays using <code>vload</code> and <code>vstore</code></a></span><ul class=\"toc-item\"><li><span><a href=\"#Translating-&quot;Array&quot;-code-to-&quot;SIMDVector&quot;-code\" data-toc-modified-id=\"Translating-&quot;Array&quot;-code-to-&quot;SIMDVector&quot;-code-1.1\"><span class=\"toc-item-num\">1.1&nbsp;&nbsp;</span>Translating \"Array\" code to \"SIMDVector\" code</a></span></li><li><span><a href=\"#Arrays-with-number-of-elements-not-divisible-by-simd-witdh\" data-toc-modified-id=\"Arrays-with-number-of-elements-not-divisible-by-simd-witdh-1.2\"><span class=\"toc-item-num\">1.2&nbsp;&nbsp;</span>Arrays with number of elements not divisible by simd witdh</a></span><ul class=\"toc-item\"><li><span><a href=\"#Another-example\" data-toc-modified-id=\"Another-example-1.2.1\"><span class=\"toc-item-num\">1.2.1&nbsp;&nbsp;</span>Another example</a></span></li></ul></li><li><span><a href=\"#vload-and-vstore-using-indexing-notation\" data-toc-modified-id=\"vload-and-vstore-using-indexing-notation-1.3\"><span class=\"toc-item-num\">1.3&nbsp;&nbsp;</span>vload and vstore using indexing notation</a></span></li></ul></li><li><span><a href=\"#Using-VecRange-objects\" data-toc-modified-id=\"Using-VecRange-objects-2\"><span class=\"toc-item-num\">2&nbsp;&nbsp;</span>Using <code>VecRange</code> objects</a></span></li><li><span><a href=\"#If-else-statements-in-SIMD\" data-toc-modified-id=\"If-else-statements-in-SIMD-3\"><span class=\"toc-item-num\">3&nbsp;&nbsp;</span>If else statements in SIMD</a></span></li></ul></div>"
   ]
  },
  {
   "cell_type": "code",
   "execution_count": 2,
   "metadata": {
    "ExecuteTime": {
     "end_time": "2020-02-21T14:02:50.240000+01:00",
     "start_time": "2020-02-21T13:02:49.889Z"
    }
   },
   "outputs": [],
   "source": [
    "using SIMD\n",
    "using BenchmarkTools"
   ]
  },
  {
   "cell_type": "markdown",
   "metadata": {},
   "source": [
    "# Reading and writting SIMD vectors from arrays using `vload` and `vstore`\n",
    "\n",
    "\n",
    "- `vload`  reads to a SIMD vector from an array (reading from several contiguous array elements).\n",
    "- `vstore` writes to an array from a SIMD vector (writting to consecutive positions of an array) ."
   ]
  },
  {
   "cell_type": "markdown",
   "metadata": {},
   "source": [
    "Given an array `a` we can get a slice of size `N` as follows"
   ]
  },
  {
   "cell_type": "code",
   "execution_count": 31,
   "metadata": {},
   "outputs": [
    {
     "data": {
      "text/plain": [
       "Vec{4,Float64}"
      ]
     },
     "execution_count": 31,
     "metadata": {},
     "output_type": "execute_result"
    }
   ],
   "source": [
    "T = Float64\n",
    "N = 4\n",
    "a = rand(T, 10_000);\n",
    "v_type = Vec{N, T}"
   ]
  },
  {
   "cell_type": "markdown",
   "metadata": {},
   "source": [
    "Notice that `Vec{N,T}` is not a vector, is the type of a vector (that is why we named it `v_type`)."
   ]
  },
  {
   "cell_type": "code",
   "execution_count": 32,
   "metadata": {},
   "outputs": [
    {
     "data": {
      "text/plain": [
       "DataType"
      ]
     },
     "execution_count": 32,
     "metadata": {},
     "output_type": "execute_result"
    }
   ],
   "source": [
    "typeof(v_type)"
   ]
  },
  {
   "cell_type": "markdown",
   "metadata": {},
   "source": [
    "When we use the `vload(v_type,a,i)` function we actually generate a vector of type `v_type`"
   ]
  },
  {
   "cell_type": "code",
   "execution_count": 33,
   "metadata": {
    "scrolled": true
   },
   "outputs": [
    {
     "data": {
      "text/plain": [
       "<4 x Float64>[0.9357647892861083, 0.8605442359943398, 0.6671121286441688, 0.4117393532614202]"
      ]
     },
     "execution_count": 33,
     "metadata": {},
     "output_type": "execute_result"
    }
   ],
   "source": [
    "i = 1\n",
    "v = vload(v_type, a, i)"
   ]
  },
  {
   "cell_type": "code",
   "execution_count": 34,
   "metadata": {},
   "outputs": [
    {
     "data": {
      "text/plain": [
       "Vec{4,Float64}"
      ]
     },
     "execution_count": 34,
     "metadata": {},
     "output_type": "execute_result"
    }
   ],
   "source": [
    "typeof(v)"
   ]
  },
  {
   "cell_type": "markdown",
   "metadata": {},
   "source": [
    "In this case `v` contains the information from `a[1:4]` because `i=1`.\n",
    "\n",
    "More generally, **`vload(v_type, a, i)` will contain the same information as `a[i:(i+N-1)]`**"
   ]
  },
  {
   "cell_type": "code",
   "execution_count": 35,
   "metadata": {
    "scrolled": true
   },
   "outputs": [
    {
     "name": "stdout",
     "output_type": "stream",
     "text": [
      "v[1] == a[1] is true\n",
      "v[2] == a[2] is true\n",
      "v[3] == a[3] is true\n",
      "v[4] == a[4] is true\n"
     ]
    }
   ],
   "source": [
    "for i in 1:N\n",
    "    println( \"v[$i] == a[$i] is \", v[i] == a[i])\n",
    "end"
   ]
  },
  {
   "cell_type": "markdown",
   "metadata": {},
   "source": [
    "## Translating \"Array\" code to \"SIMDVector\" code \n",
    "\n",
    "What would happen if we want to translate\n",
    "\n",
    "```\n",
    "T = Float64\n",
    "a = rand(T, 1000)\n",
    "b = rand(T, 1000)\n",
    "c = zeros(T, 1000)\n",
    "\n",
    "c_a_times_b!(c,a,b)\n",
    "```\n",
    "\n",
    "Using SIMD instructions ?\n",
    "\n"
   ]
  },
  {
   "cell_type": "code",
   "execution_count": 36,
   "metadata": {},
   "outputs": [
    {
     "name": "stdout",
     "output_type": "stream",
     "text": [
      "  5.616 μs (0 allocations: 0 bytes)\n"
     ]
    }
   ],
   "source": [
    "T = Float64\n",
    "a = rand(T, 10_000)\n",
    "b = rand(T, 100_00)\n",
    "c = zeros(T, 100_00)\n",
    "\n",
    "@btime c_a_times_b!($c,$a,$b)"
   ]
  },
  {
   "cell_type": "markdown",
   "metadata": {},
   "source": [
    "Now let us convert the method `c_a_times_b!` manually to use SIMD instructions, to do so we need to decompose our problem into subproblems of size `SIMD_WIDTH`. \n",
    "\n",
    "Now we can assume, without any loss in generality, that `SIMD_WIDTH=4`. We will cover more details later on."
   ]
  },
  {
   "cell_type": "markdown",
   "metadata": {},
   "source": [
    "##### Example of `c_a_times_b!(c[1:8], a[1:8], b[1:8])`\n",
    "\n",
    "Now what can we do to, for example, sum the first 8 positions of `a` to the first 8 positions of `b` and then save the results into `c` ?"
   ]
  },
  {
   "cell_type": "code",
   "execution_count": 37,
   "metadata": {},
   "outputs": [
    {
     "data": {
      "text/plain": [
       "8-element Array{Float64,1}:\n",
       " 0.5016238777443504  \n",
       " 0.18793853104134334 \n",
       " 0.009747989525473767\n",
       " 0.14699073291223802 \n",
       " 0.3365845204622229  \n",
       " 0.20695896603027628 \n",
       " 0.18520153561321254 \n",
       " 0.19679010405495975 "
      ]
     },
     "execution_count": 37,
     "metadata": {},
     "output_type": "execute_result"
    }
   ],
   "source": [
    "c = zeros(8)\n",
    "i = 1\n",
    "c_chunk = vload(v_type, a, i) * vload(v_type, b, i)\n",
    "vstore(c_chunk,c,i)\n",
    "i = 1 + N\n",
    "c_chunk = vload(v_type, a, i) * vload(v_type, b, i)\n",
    "vstore(c_chunk,c,i)\n",
    "c"
   ]
  },
  {
   "cell_type": "markdown",
   "metadata": {},
   "source": [
    "This is equivalent to..."
   ]
  },
  {
   "cell_type": "code",
   "execution_count": 38,
   "metadata": {},
   "outputs": [
    {
     "data": {
      "text/plain": [
       "8-element Array{Float64,1}:\n",
       " 0.5016238777443504  \n",
       " 0.18793853104134334 \n",
       " 0.009747989525473767\n",
       " 0.14699073291223802 \n",
       " 0.3365845204622229  \n",
       " 0.20695896603027628 \n",
       " 0.18520153561321254 \n",
       " 0.19679010405495975 "
      ]
     },
     "execution_count": 38,
     "metadata": {},
     "output_type": "execute_result"
    }
   ],
   "source": [
    "c = zeros(8)\n",
    "c_a_times_b!(c, a[1:8], b[1:8])\n",
    "c"
   ]
  },
  {
   "cell_type": "markdown",
   "metadata": {},
   "source": [
    "Now, instead of doing this process twice, we can do it multiple times.\n",
    "This means that we can instead of iterating over all positions in the array we can do the operation as follows"
   ]
  },
  {
   "cell_type": "code",
   "execution_count": 39,
   "metadata": {},
   "outputs": [
    {
     "data": {
      "text/plain": [
       "c_a_times_b_SIMD! (generic function with 1 method)"
      ]
     },
     "execution_count": 39,
     "metadata": {},
     "output_type": "execute_result"
    }
   ],
   "source": [
    "function c_a_times_b_SIMD!(c::Array{T}, a::Array{T}, b::Array, v_type::Type{Vec{N,T}}) where {N, T}\n",
    "    #@assert length(a) == length(b) == length(c)\n",
    "    \n",
    "    @inbounds for i in 1:N:length(a)\n",
    "        a_chunk = vload(v_type, a, i) \n",
    "        b_chunk = vload(v_type, b, i) \n",
    "        a_chunk *=  b_chunk\n",
    "        vstore(a_chunk,c,i)\n",
    "    end\n",
    "end"
   ]
  },
  {
   "cell_type": "code",
   "execution_count": 40,
   "metadata": {},
   "outputs": [
    {
     "ename": "BoundsError",
     "evalue": "BoundsError",
     "output_type": "error",
     "traceback": [
      "BoundsError",
      "",
      "Stacktrace:",
      " [1] vstore at /home/david/.julia/packages/SIMD/nqizO/src/SIMD.jl:1488 [inlined] (repeats 3 times)",
      " [2] c_a_times_b_SIMD!(::Array{Float64,1}, ::Array{Float64,1}, ::Array{Float64,1}, ::Type{Vec{4,Float64}}) at ./In[39]:8",
      " [3] ##core#442(::Array{Float64,1}, ::Array{Float64,1}, ::Array{Float64,1}) at /home/david/.julia/packages/BenchmarkTools/mVOqg/src/execution.jl:297",
      " [4] ##sample#443(::BenchmarkTools.Parameters) at /home/david/.julia/packages/BenchmarkTools/mVOqg/src/execution.jl:303",
      " [5] #_run#11(::Bool, ::String, ::Base.Iterators.Pairs{Symbol,Integer,NTuple{4,Symbol},NamedTuple{(:samples, :evals, :gctrial, :gcsample),Tuple{Int64,Int64,Bool,Bool}}}, ::Function, ::BenchmarkTools.Benchmark{Symbol(\"##benchmark#441\")}, ::BenchmarkTools.Parameters) at /home/david/.julia/packages/BenchmarkTools/mVOqg/src/execution.jl:331",
      " [6] (::getfield(Base, Symbol(\"#inner#2\")){Base.Iterators.Pairs{Symbol,Integer,NTuple{5,Symbol},NamedTuple{(:verbose, :samples, :evals, :gctrial, :gcsample),Tuple{Bool,Int64,Int64,Bool,Bool}}},typeof(BenchmarkTools._run),Tuple{BenchmarkTools.Benchmark{Symbol(\"##benchmark#441\")},BenchmarkTools.Parameters}})() at ./none:0",
      " [7] #invokelatest#1 at ./essentials.jl:746 [inlined]",
      " [8] #invokelatest at ./none:0 [inlined]",
      " [9] #run_result#19 at /home/david/.julia/packages/BenchmarkTools/mVOqg/src/execution.jl:32 [inlined]",
      " [10] #run_result at ./none:0 [inlined]",
      " [11] #run#21(::Base.Iterators.Pairs{Symbol,Integer,NTuple{5,Symbol},NamedTuple{(:verbose, :samples, :evals, :gctrial, :gcsample),Tuple{Bool,Int64,Int64,Bool,Bool}}}, ::Function, ::BenchmarkTools.Benchmark{Symbol(\"##benchmark#441\")}, ::BenchmarkTools.Parameters) at /home/david/.julia/packages/BenchmarkTools/mVOqg/src/execution.jl:46",
      " [12] #run at ./none:0 [inlined] (repeats 2 times)",
      " [13] #warmup#24 at /home/david/.julia/packages/BenchmarkTools/mVOqg/src/execution.jl:79 [inlined]",
      " [14] warmup(::BenchmarkTools.Benchmark{Symbol(\"##benchmark#441\")}) at /home/david/.julia/packages/BenchmarkTools/mVOqg/src/execution.jl:79",
      " [15] top-level scope at /home/david/.julia/packages/BenchmarkTools/mVOqg/src/execution.jl:390",
      " [16] top-level scope at In[40]:1"
     ]
    }
   ],
   "source": [
    "@btime c_a_times_b_SIMD!($c,$a,$b,Vec{4,Float64})"
   ]
  },
  {
   "cell_type": "markdown",
   "metadata": {},
   "source": [
    "We could aso have the information of the SIMD width inside the function"
   ]
  },
  {
   "cell_type": "code",
   "execution_count": 41,
   "metadata": {
    "scrolled": true
   },
   "outputs": [
    {
     "data": {
      "text/plain": [
       "c_a_times_b_SIMD_2! (generic function with 1 method)"
      ]
     },
     "execution_count": 41,
     "metadata": {},
     "output_type": "execute_result"
    }
   ],
   "source": [
    "\n",
    "function c_a_times_b_SIMD_2!(c::Array{T}, a::Array{T}, b::Array{T})\n",
    "    #@assert length(a) == length(b) == length(c)\n",
    "    N = 4\n",
    "    @inbounds for i in 1:N:length(a)\n",
    "        a_chunk = vload(Vec{N,T}, a, i) \n",
    "        b_chunk = vload(Vec{N,T}, b, i) \n",
    "        a_chunk *=  b_chunk\n",
    "        vstore(a_chunk,c,i)\n",
    "    end\n",
    "end"
   ]
  },
  {
   "cell_type": "code",
   "execution_count": 42,
   "metadata": {},
   "outputs": [
    {
     "ename": "BoundsError",
     "evalue": "BoundsError",
     "output_type": "error",
     "traceback": [
      "BoundsError",
      "",
      "Stacktrace:",
      " [1] vstore at /home/david/.julia/packages/SIMD/nqizO/src/SIMD.jl:1488 [inlined] (repeats 3 times)",
      " [2] c_a_times_b_SIMD_2!(::Array{Float64,1}, ::Array{Float64,1}, ::Array{Float64,1}) at ./In[41]:9",
      " [3] ##core#456(::Array{Float64,1}, ::Array{Float64,1}, ::Array{Float64,1}) at /home/david/.julia/packages/BenchmarkTools/mVOqg/src/execution.jl:297",
      " [4] ##sample#457(::BenchmarkTools.Parameters) at /home/david/.julia/packages/BenchmarkTools/mVOqg/src/execution.jl:303",
      " [5] #_run#12(::Bool, ::String, ::Base.Iterators.Pairs{Symbol,Integer,NTuple{4,Symbol},NamedTuple{(:samples, :evals, :gctrial, :gcsample),Tuple{Int64,Int64,Bool,Bool}}}, ::Function, ::BenchmarkTools.Benchmark{Symbol(\"##benchmark#455\")}, ::BenchmarkTools.Parameters) at /home/david/.julia/packages/BenchmarkTools/mVOqg/src/execution.jl:331",
      " [6] (::getfield(Base, Symbol(\"#inner#2\")){Base.Iterators.Pairs{Symbol,Integer,NTuple{5,Symbol},NamedTuple{(:verbose, :samples, :evals, :gctrial, :gcsample),Tuple{Bool,Int64,Int64,Bool,Bool}}},typeof(BenchmarkTools._run),Tuple{BenchmarkTools.Benchmark{Symbol(\"##benchmark#455\")},BenchmarkTools.Parameters}})() at ./none:0",
      " [7] #invokelatest#1 at ./essentials.jl:746 [inlined]",
      " [8] #invokelatest at ./none:0 [inlined]",
      " [9] #run_result#19 at /home/david/.julia/packages/BenchmarkTools/mVOqg/src/execution.jl:32 [inlined]",
      " [10] #run_result at ./none:0 [inlined]",
      " [11] #run#21(::Base.Iterators.Pairs{Symbol,Integer,NTuple{5,Symbol},NamedTuple{(:verbose, :samples, :evals, :gctrial, :gcsample),Tuple{Bool,Int64,Int64,Bool,Bool}}}, ::Function, ::BenchmarkTools.Benchmark{Symbol(\"##benchmark#455\")}, ::BenchmarkTools.Parameters) at /home/david/.julia/packages/BenchmarkTools/mVOqg/src/execution.jl:46",
      " [12] #run at ./none:0 [inlined] (repeats 2 times)",
      " [13] #warmup#24 at /home/david/.julia/packages/BenchmarkTools/mVOqg/src/execution.jl:79 [inlined]",
      " [14] warmup(::BenchmarkTools.Benchmark{Symbol(\"##benchmark#455\")}) at /home/david/.julia/packages/BenchmarkTools/mVOqg/src/execution.jl:79",
      " [15] top-level scope at /home/david/.julia/packages/BenchmarkTools/mVOqg/src/execution.jl:390",
      " [16] top-level scope at In[42]:1"
     ]
    }
   ],
   "source": [
    "@btime c_a_times_b_SIMD_2!($c,$a,$b)"
   ]
  },
  {
   "cell_type": "markdown",
   "metadata": {},
   "source": [
    "In fact we could have the element type of the arrays and the SIMD width inside the function with the \n",
    "        same performance"
   ]
  },
  {
   "cell_type": "code",
   "execution_count": 43,
   "metadata": {},
   "outputs": [
    {
     "data": {
      "text/plain": [
       "c_a_times_b_SIMD_3! (generic function with 1 method)"
      ]
     },
     "execution_count": 43,
     "metadata": {},
     "output_type": "execute_result"
    }
   ],
   "source": [
    "function c_a_times_b_SIMD_3!(c, a, b)\n",
    "    N = 4\n",
    "    T = eltype(c)\n",
    "    @inbounds for i in 1:N:length(a)\n",
    "        a_chunk = vload(Vec{N,T}, a, i) \n",
    "        b_chunk = vload(Vec{N,T}, b, i) \n",
    "        a_chunk *=  b_chunk\n",
    "        vstore(a_chunk,c,i)\n",
    "    end\n",
    "end"
   ]
  },
  {
   "cell_type": "code",
   "execution_count": 44,
   "metadata": {},
   "outputs": [
    {
     "ename": "BoundsError",
     "evalue": "BoundsError",
     "output_type": "error",
     "traceback": [
      "BoundsError",
      "",
      "Stacktrace:",
      " [1] vstore at /home/david/.julia/packages/SIMD/nqizO/src/SIMD.jl:1488 [inlined] (repeats 3 times)",
      " [2] c_a_times_b_SIMD_3!(::Array{Float64,1}, ::Array{Float64,1}, ::Array{Float64,1}) at ./In[43]:8",
      " [3] ##core#470(::Array{Float64,1}, ::Array{Float64,1}, ::Array{Float64,1}) at /home/david/.julia/packages/BenchmarkTools/mVOqg/src/execution.jl:297",
      " [4] ##sample#471(::BenchmarkTools.Parameters) at /home/david/.julia/packages/BenchmarkTools/mVOqg/src/execution.jl:303",
      " [5] #_run#13(::Bool, ::String, ::Base.Iterators.Pairs{Symbol,Integer,NTuple{4,Symbol},NamedTuple{(:samples, :evals, :gctrial, :gcsample),Tuple{Int64,Int64,Bool,Bool}}}, ::Function, ::BenchmarkTools.Benchmark{Symbol(\"##benchmark#469\")}, ::BenchmarkTools.Parameters) at /home/david/.julia/packages/BenchmarkTools/mVOqg/src/execution.jl:331",
      " [6] (::getfield(Base, Symbol(\"#inner#2\")){Base.Iterators.Pairs{Symbol,Integer,NTuple{5,Symbol},NamedTuple{(:verbose, :samples, :evals, :gctrial, :gcsample),Tuple{Bool,Int64,Int64,Bool,Bool}}},typeof(BenchmarkTools._run),Tuple{BenchmarkTools.Benchmark{Symbol(\"##benchmark#469\")},BenchmarkTools.Parameters}})() at ./none:0",
      " [7] #invokelatest#1 at ./essentials.jl:746 [inlined]",
      " [8] #invokelatest at ./none:0 [inlined]",
      " [9] #run_result#19 at /home/david/.julia/packages/BenchmarkTools/mVOqg/src/execution.jl:32 [inlined]",
      " [10] #run_result at ./none:0 [inlined]",
      " [11] #run#21(::Base.Iterators.Pairs{Symbol,Integer,NTuple{5,Symbol},NamedTuple{(:verbose, :samples, :evals, :gctrial, :gcsample),Tuple{Bool,Int64,Int64,Bool,Bool}}}, ::Function, ::BenchmarkTools.Benchmark{Symbol(\"##benchmark#469\")}, ::BenchmarkTools.Parameters) at /home/david/.julia/packages/BenchmarkTools/mVOqg/src/execution.jl:46",
      " [12] #run at ./none:0 [inlined] (repeats 2 times)",
      " [13] #warmup#24 at /home/david/.julia/packages/BenchmarkTools/mVOqg/src/execution.jl:79 [inlined]",
      " [14] warmup(::BenchmarkTools.Benchmark{Symbol(\"##benchmark#469\")}) at /home/david/.julia/packages/BenchmarkTools/mVOqg/src/execution.jl:79",
      " [15] top-level scope at /home/david/.julia/packages/BenchmarkTools/mVOqg/src/execution.jl:390",
      " [16] top-level scope at In[44]:1"
     ]
    }
   ],
   "source": [
    "@btime c_a_times_b_SIMD_3!($c,$a,$b)"
   ]
  },
  {
   "cell_type": "markdown",
   "metadata": {},
   "source": [
    "## Arrays with number of elements not divisible by simd witdh\n",
    "\n",
    "What happens now if we use `c_a_times_b_SIMD_3!` with an array of **1010** elements?\n",
    "\n",
    "Our code assumed `length(a)%N==0` because if this is not true then the code crashes.\n",
    "\n"
   ]
  },
  {
   "cell_type": "code",
   "execution_count": 45,
   "metadata": {},
   "outputs": [],
   "source": [
    "T = Float64\n",
    "n_elements = 1010\n",
    "SIMD_WIDTH = 4\n",
    "a = rand(T, n_elements)\n",
    "b = rand(T, n_elements)\n",
    "c = zeros(T, n_elements);"
   ]
  },
  {
   "cell_type": "code",
   "execution_count": 46,
   "metadata": {},
   "outputs": [
    {
     "ename": "BoundsError",
     "evalue": "BoundsError",
     "output_type": "error",
     "traceback": [
      "BoundsError",
      "",
      "Stacktrace:",
      " [1] vstore at /home/david/.julia/packages/SIMD/nqizO/src/SIMD.jl:1488 [inlined] (repeats 3 times)",
      " [2] c_a_times_b_SIMD_3!(::Array{Float64,1}, ::Array{Float64,1}, ::Array{Float64,1}) at ./In[43]:8",
      " [3] top-level scope at In[46]:1"
     ]
    }
   ],
   "source": [
    "c_a_times_b_SIMD_3!(c,a,b)"
   ]
  },
  {
   "cell_type": "markdown",
   "metadata": {},
   "source": [
    "To solve this problem we can do the following: \n",
    "\n",
    "Split the problem into two subproblems.\n",
    "The first subproblem has a number of elements that is divisible by `N`, we can proceed as we did before.\n",
    "THe second subproblem has a number of elements that is not divisible by `N`, we can do those sequentially.\n",
    "\n",
    "Since `mod(1010,4) = 2` that means we can do the first `1008` elements using SIMD vectors and the remaining 2 using scalar operations.\n",
    "\n",
    "In general:\n",
    "\n",
    "```\n",
    "    n_remaining = mod(n_elements, N)\n",
    "    n_first = n_elements - n_remaining\n",
    "```\n"
   ]
  },
  {
   "cell_type": "code",
   "execution_count": 47,
   "metadata": {},
   "outputs": [
    {
     "data": {
      "text/plain": [
       "(2, 1008)"
      ]
     },
     "execution_count": 47,
     "metadata": {},
     "output_type": "execute_result"
    }
   ],
   "source": [
    "n_remaining = mod(1010,4)\n",
    "n_first = n_elements -n_remaining\n",
    "n_remaining, n_first"
   ]
  },
  {
   "cell_type": "code",
   "execution_count": 75,
   "metadata": {},
   "outputs": [
    {
     "data": {
      "text/plain": [
       "c_a_times_b_SIMD_4! (generic function with 1 method)"
      ]
     },
     "execution_count": 75,
     "metadata": {},
     "output_type": "execute_result"
    }
   ],
   "source": [
    "function c_a_times_b_SIMD_4!(c, a, b)\n",
    "    N = 4\n",
    "    T = eltype(c)\n",
    "    n_elements = length(a)\n",
    "    n_remaining = mod(n_elements, N)\n",
    "    n_first = n_elements - n_remaining\n",
    "    \n",
    "    for i in 1:N:length(n_first)\n",
    "        a_chunk = vload(Vec{N,T}, a, i) \n",
    "        b_chunk = vload(Vec{N,T}, b, i) \n",
    "        a_chunk *=  b_chunk\n",
    "        vstore(a_chunk,c,i)\n",
    "    end\n",
    "    \n",
    "    for i in n_first:n_elements\n",
    "        c[i] = a[i]*b[i]\n",
    "    end\n",
    "end"
   ]
  },
  {
   "cell_type": "code",
   "execution_count": 76,
   "metadata": {},
   "outputs": [],
   "source": [
    "c_a_times_b_SIMD_4!(c,a,b)"
   ]
  },
  {
   "cell_type": "code",
   "execution_count": 78,
   "metadata": {},
   "outputs": [
    {
     "data": {
      "text/plain": [
       "true"
      ]
     },
     "execution_count": 78,
     "metadata": {},
     "output_type": "execute_result"
    }
   ],
   "source": [
    "aux = zero(a)\n",
    "c_a_times_b!(aux,a,b)\n",
    "isapprox(aux,c)"
   ]
  },
  {
   "cell_type": "code",
   "execution_count": null,
   "metadata": {},
   "outputs": [],
   "source": []
  },
  {
   "cell_type": "code",
   "execution_count": 80,
   "metadata": {},
   "outputs": [
    {
     "name": "stdout",
     "output_type": "stream",
     "text": [
      "  18.109 ns (0 allocations: 0 bytes)\n"
     ]
    }
   ],
   "source": [
    "@btime c_a_times_b_SIMD_4!($c, $a, $b)"
   ]
  },
  {
   "cell_type": "code",
   "execution_count": 81,
   "metadata": {},
   "outputs": [
    {
     "name": "stdout",
     "output_type": "stream",
     "text": [
      "  4.864 μs (0 allocations: 0 bytes)\n"
     ]
    }
   ],
   "source": [
    "@btime c_a_times_b!($c, $a, $b)"
   ]
  },
  {
   "cell_type": "code",
   "execution_count": 82,
   "metadata": {},
   "outputs": [
    {
     "name": "stdout",
     "output_type": "stream",
     "text": [
      "  5.340 μs (0 allocations: 0 bytes)\n"
     ]
    }
   ],
   "source": [
    "@btime c_a_times_b_SIMD_3!(c,a,b)"
   ]
  },
  {
   "cell_type": "code",
   "execution_count": null,
   "metadata": {},
   "outputs": [],
   "source": []
  },
  {
   "cell_type": "code",
   "execution_count": 63,
   "metadata": {},
   "outputs": [],
   "source": [
    "T = Float64\n",
    "n_elements = 10_000\n",
    "SIMD_WIDTH = 4\n",
    "a = rand(T, n_elements)\n",
    "b = rand(T, n_elements)\n",
    "c = zeros(T, n_elements);"
   ]
  },
  {
   "cell_type": "code",
   "execution_count": 64,
   "metadata": {},
   "outputs": [
    {
     "name": "stdout",
     "output_type": "stream",
     "text": [
      "  20.807 ns (0 allocations: 0 bytes)\n"
     ]
    }
   ],
   "source": [
    "@btime c_a_times_b_SIMD_4!($c, $a, $b)"
   ]
  },
  {
   "cell_type": "code",
   "execution_count": 65,
   "metadata": {},
   "outputs": [
    {
     "name": "stdout",
     "output_type": "stream",
     "text": [
      "  5.050 μs (0 allocations: 0 bytes)\n"
     ]
    }
   ],
   "source": [
    "@btime c_a_times_b!($c, $a, $b)"
   ]
  },
  {
   "cell_type": "code",
   "execution_count": null,
   "metadata": {},
   "outputs": [],
   "source": []
  },
  {
   "cell_type": "code",
   "execution_count": null,
   "metadata": {},
   "outputs": [],
   "source": []
  },
  {
   "cell_type": "markdown",
   "metadata": {},
   "source": [
    "### Another example"
   ]
  },
  {
   "cell_type": "code",
   "execution_count": null,
   "metadata": {},
   "outputs": [],
   "source": [
    "using SIMD\n",
    "using BenchmarkTools\n",
    "\n",
    "x1 = rand(Float64, 64)\n",
    "x2 = rand(Float64, 64)\n",
    "y = similar(x1)\n",
    "\n",
    "function add!(y, x1,x2)\n",
    "    @inbounds for i=1:length(x1)\n",
    "        y[i] = x1[i] + x2[i] \n",
    "    end\n",
    "end\n",
    "\n",
    "function vadd!(y::Vector{T}, xs::Vector{T}, ys::Vector{T}, vec::Type{Vec{N,T}}=Vec{8,T}) \n",
    "    @inbounds for i in 1:N:length(xs)\n",
    "        xv = vload(Vec{N,T}, xs, i)\n",
    "        yv = vload(Vec{N,T}, ys, i)\n",
    "        xv += yv \n",
    "        vstore(xv, y, i)\n",
    "    end\n",
    "end\n"
   ]
  },
  {
   "cell_type": "code",
   "execution_count": null,
   "metadata": {},
   "outputs": [],
   "source": []
  },
  {
   "cell_type": "code",
   "execution_count": null,
   "metadata": {},
   "outputs": [],
   "source": []
  },
  {
   "cell_type": "markdown",
   "metadata": {},
   "source": [
    "## vload and vstore using indexing notation"
   ]
  },
  {
   "cell_type": "code",
   "execution_count": null,
   "metadata": {},
   "outputs": [],
   "source": [
    "function c_a_times_b_SIMD_2!(c::Array, a::Array, b::Array, N::Int)\n",
    "    @assert length(a) == length(b) == length(c)\n",
    "    \n",
    "    T      = eltype(c)\n",
    "    v_type = Vec{N, T}\n",
    "    a_chunk = zero(Vec{4,Float64})\n",
    "    b_chunk = zero(Vec{4,Float64})\n",
    "    \n",
    "    for i in 1:N:length(a)\n",
    "        c_chunk = vload(v_type, a, i) * vload(v_type, b, i)\n",
    "        vstore(c_chunk,c,i)\n",
    "    end\n",
    "end"
   ]
  },
  {
   "cell_type": "code",
   "execution_count": null,
   "metadata": {},
   "outputs": [],
   "source": [
    "@btime c_a_times_b_SIMD_2!($c,$a,$b,4)"
   ]
  },
  {
   "cell_type": "code",
   "execution_count": null,
   "metadata": {},
   "outputs": [],
   "source": [
    "A[i,j:j+N]"
   ]
  },
  {
   "cell_type": "code",
   "execution_count": null,
   "metadata": {},
   "outputs": [],
   "source": []
  },
  {
   "cell_type": "code",
   "execution_count": null,
   "metadata": {},
   "outputs": [],
   "source": []
  },
  {
   "cell_type": "markdown",
   "metadata": {},
   "source": [
    "# Using `VecRange` objects"
   ]
  },
  {
   "cell_type": "code",
   "execution_count": null,
   "metadata": {},
   "outputs": [],
   "source": [
    "using SIMD\n",
    "function vadd!(xs::Vector{T}, ys::Vector{T}, ::Type{Vec{N,T}}) where {N, T}\n",
    "    @assert length(ys) == length(xs)\n",
    "    @assert length(xs) % N == 0\n",
    "    lane = VecRange{N}(0)\n",
    "    @inbounds for i in 1:N:length(xs)\n",
    "        xs[lane + i] += ys[lane + i]\n",
    "    end\n",
    "end"
   ]
  },
  {
   "cell_type": "code",
   "execution_count": null,
   "metadata": {},
   "outputs": [],
   "source": [
    "x = rand(Float32, 1_000_000);\n",
    "y = rand(Float32, 1_000_000);"
   ]
  },
  {
   "cell_type": "code",
   "execution_count": null,
   "metadata": {
    "scrolled": true
   },
   "outputs": [],
   "source": [
    "@btime vadd!($x,$y,Vec{32,Float32})"
   ]
  },
  {
   "cell_type": "code",
   "execution_count": null,
   "metadata": {},
   "outputs": [],
   "source": [
    "@btime $x .+= $y;"
   ]
  },
  {
   "cell_type": "markdown",
   "metadata": {},
   "source": [
    "# If else statements in SIMD "
   ]
  },
  {
   "cell_type": "code",
   "execution_count": null,
   "metadata": {},
   "outputs": [],
   "source": [
    "function myfunc(a, b)\n",
    "    if a > b\n",
    "        return a - b\n",
    "    else\n",
    "        return a + b\n",
    "    end\n",
    "end\n",
    "x = rand(1_000_000);\n",
    "# do myfunc.(x, 2.) with explicit simd calls\n",
    "myfunc.(x, 2.);"
   ]
  },
  {
   "cell_type": "code",
   "execution_count": null,
   "metadata": {},
   "outputs": [],
   "source": [
    "function myfunc_simd(x::Vector{T}, value::T, ::Type{Vec{N,T}}) where {N, T}\n",
    "           @assert length(x) % N == 0\n",
    "           result = Array{T}(undef, length(x))\n",
    "           lane   = VecRange{N}(0)\n",
    "           @inbounds for i in 1:N:length(x)        \n",
    "               x_vslice    = vload(Vec{N, T}, x, i) # i = 2*k+1 where k=1,2,3,4,...\n",
    "               result[lane + i] = vifelse(x_vslice > 2, x_vslice - value, x_vslice + value)\n",
    "           end\n",
    "           return result\n",
    "       end"
   ]
  },
  {
   "cell_type": "code",
   "execution_count": null,
   "metadata": {},
   "outputs": [],
   "source": [
    "x = rand(Float32,1_000_000);"
   ]
  },
  {
   "cell_type": "code",
   "execution_count": null,
   "metadata": {},
   "outputs": [],
   "source": [
    "result_1 = myfunc.(x,1);\n",
    "result_2 = myfunc_simd(x, Float32(1), Vec{8,Float32});\n",
    "result_1 == result_2"
   ]
  },
  {
   "cell_type": "code",
   "execution_count": null,
   "metadata": {},
   "outputs": [],
   "source": [
    "@btime myfunc.(x,1);"
   ]
  },
  {
   "cell_type": "code",
   "execution_count": null,
   "metadata": {},
   "outputs": [],
   "source": [
    "@btime myfunc_simd(x, Float32(1), Vec{8,Float32});"
   ]
  },
  {
   "cell_type": "code",
   "execution_count": null,
   "metadata": {},
   "outputs": [],
   "source": []
  },
  {
   "cell_type": "code",
   "execution_count": null,
   "metadata": {},
   "outputs": [],
   "source": []
  }
 ],
 "metadata": {
  "kernelspec": {
   "display_name": "Julia 1.3.0",
   "language": "julia",
   "name": "julia-1.3"
  },
  "language_info": {
   "file_extension": ".jl",
   "mimetype": "application/julia",
   "name": "julia",
   "version": "1.3.0"
  },
  "toc": {
   "base_numbering": 1,
   "nav_menu": {},
   "number_sections": true,
   "sideBar": true,
   "skip_h1_title": false,
   "title_cell": "Table of Contents",
   "title_sidebar": "Contents",
   "toc_cell": true,
   "toc_position": {},
   "toc_section_display": true,
   "toc_window_display": false
  }
 },
 "nbformat": 4,
 "nbformat_minor": 2
}
