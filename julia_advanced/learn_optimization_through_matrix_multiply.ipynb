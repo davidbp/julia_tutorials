{
 "cells": [
  {
   "cell_type": "code",
   "execution_count": 172,
   "metadata": {},
   "outputs": [],
   "source": [
    "# You should start your notebook with:  JULIA_NUM_THREADS=4 jupyter notebook\n",
    "# Base.Threads.nthreads()"
   ]
  },
  {
   "cell_type": "code",
   "execution_count": 613,
   "metadata": {},
   "outputs": [],
   "source": [
    "using BenchmarkTools\n",
    "using TimerOutputs"
   ]
  },
  {
   "cell_type": "code",
   "execution_count": 615,
   "metadata": {},
   "outputs": [],
   "source": [
    "N = 1000\n",
    "\n",
    "A = rand(N,N)\n",
    "B = rand(N,N)\n",
    "C = A *B;"
   ]
  },
  {
   "cell_type": "markdown",
   "metadata": {},
   "source": [
    "### Naive matrix multiply\n",
    "\n",
    "- select row `r` in A, let's call it `row_r`\n",
    "\n",
    "- select col `c` in B, let's call it `col_c`\n",
    "\n",
    "- compute element `C[r,c]` as the scalar product of `row_ by` `row_c`\n",
    "\n",
    "\n"
   ]
  },
  {
   "cell_type": "code",
   "execution_count": 617,
   "metadata": {},
   "outputs": [
    {
     "data": {
      "text/plain": [
       "dot_product_row_r_col_c (generic function with 1 method)"
      ]
     },
     "execution_count": 617,
     "metadata": {},
     "output_type": "execute_result"
    }
   ],
   "source": [
    "C2 = zeros(size(A));\n",
    "\n",
    "\n",
    "function dot_product_row_r_col_c(A,r,B,c, n_elements)\n",
    "    value = zero(eltype(A))\n",
    "    for i in 1:n_elements\n",
    "        value += A[r,i] * B[i,c] \n",
    "    end\n",
    "    return value    \n",
    "end \n"
   ]
  },
  {
   "cell_type": "code",
   "execution_count": 634,
   "metadata": {
    "scrolled": true
   },
   "outputs": [
    {
     "data": {
      "text/plain": [
       "naive_matmul! (generic function with 1 method)"
      ]
     },
     "execution_count": 634,
     "metadata": {},
     "output_type": "execute_result"
    }
   ],
   "source": [
    "\n",
    "\"\"\"\n",
    "Naive matrix multiply of A and B\n",
    "\"\"\"\n",
    "\n",
    "function naive_matmul!(A, B, C)\n",
    "    n_rows_A = size(A,1)\n",
    "    n_cols_B = size(B,2)\n",
    "    n_elements = n_cols_B\n",
    "    \n",
    "    for r in 1:n_rows_A\n",
    "        for c in 1:n_cols_B\n",
    "           C[r,c] = dot_product_row_r_col_c(A,r,B,c, n_elements)\n",
    "        end\n",
    "    end\n",
    "    \n",
    "end"
   ]
  },
  {
   "cell_type": "code",
   "execution_count": 635,
   "metadata": {
    "scrolled": true
   },
   "outputs": [
    {
     "name": "stdout",
     "output_type": "stream",
     "text": [
      "  2.574466 seconds (27.50 k allocations: 1.444 MiB)\n"
     ]
    }
   ],
   "source": [
    "@time naive_matmul!(A,B,C2)"
   ]
  },
  {
   "cell_type": "code",
   "execution_count": 636,
   "metadata": {},
   "outputs": [
    {
     "name": "stdout",
     "output_type": "stream",
     "text": [
      "  0.063270 seconds (6 allocations: 7.630 MiB, 14.74% gc time)\n"
     ]
    }
   ],
   "source": [
    "@time C = A * B;"
   ]
  },
  {
   "cell_type": "code",
   "execution_count": 637,
   "metadata": {
    "scrolled": true
   },
   "outputs": [
    {
     "data": {
      "text/plain": [
       "true"
      ]
     },
     "execution_count": 637,
     "metadata": {},
     "output_type": "execute_result"
    }
   ],
   "source": [
    "isapprox(C,C2;rtol=0.000001)"
   ]
  },
  {
   "cell_type": "markdown",
   "metadata": {},
   "source": [
    "### Accessing columns in the transposed of `A` instead of rows in `A`\n",
    "\n",
    "Notice that the elements of an Array in Julia are stroed in memory by column. \n",
    "\n",
    "This makes the memory access of `A[r,i]` in the function `dot_product_row_r_col_c` slow (where `i` is changing).\n",
    "\n",
    "We can improve this by by accessing `A[i,r]` in a new function `dot_product_col_r_col_c`. To have an equivalent computation we simply transpose `A` and then select a row of `A` (a column of `A_t`) and do the dot product with a column of `B`."
   ]
  },
  {
   "cell_type": "code",
   "execution_count": 638,
   "metadata": {},
   "outputs": [
    {
     "data": {
      "text/plain": [
       "dot_product_col_r_col_c (generic function with 1 method)"
      ]
     },
     "execution_count": 638,
     "metadata": {},
     "output_type": "execute_result"
    }
   ],
   "source": [
    "C2 = zeros(size(A));\n",
    "\n",
    "function dot_product_col_r_col_c(A,r,B,c, n_elements)\n",
    "    value = zero(eltype(A))\n",
    "    \n",
    "    for i in 1:n_elements\n",
    "        value += A[i,r] * B[i,c] \n",
    "    end\n",
    "    return value    \n",
    "end "
   ]
  },
  {
   "cell_type": "code",
   "execution_count": 639,
   "metadata": {},
   "outputs": [
    {
     "data": {
      "text/plain": [
       "naive_matmul_2!"
      ]
     },
     "execution_count": 639,
     "metadata": {},
     "output_type": "execute_result"
    }
   ],
   "source": [
    "\n",
    "\"\"\"\n",
    "Naive matrix multiply of A and B\n",
    "\"\"\"\n",
    "function naive_matmul_2!(A, B, C)\n",
    "    n_rows_A = size(A,1)\n",
    "    n_cols_B = size(B,2)\n",
    "    n_elements = n_cols_B\n",
    "    A_t = copy(transpose(A))\n",
    "    for r in 1:n_rows_A\n",
    "        for c in 1:n_cols_B\n",
    "           C[r,c] = dot_product_col_r_col_c(A_t,r,B,c, n_elements)\n",
    "        end\n",
    "    end\n",
    "    \n",
    "end"
   ]
  },
  {
   "cell_type": "code",
   "execution_count": 640,
   "metadata": {},
   "outputs": [
    {
     "name": "stdout",
     "output_type": "stream",
     "text": [
      "  1.285091 seconds (35.13 k allocations: 9.443 MiB, 0.42% gc time)\n"
     ]
    }
   ],
   "source": [
    "@time naive_matmul_2!(A,B,C2)"
   ]
  },
  {
   "cell_type": "code",
   "execution_count": 641,
   "metadata": {},
   "outputs": [
    {
     "data": {
      "text/plain": [
       "true"
      ]
     },
     "execution_count": 641,
     "metadata": {},
     "output_type": "execute_result"
    }
   ],
   "source": [
    "isapprox(C,C2;rtol=0.000001)"
   ]
  },
  {
   "cell_type": "markdown",
   "metadata": {},
   "source": [
    "Notice that even taking into account that we make a copy of A inside the function this version is twice as fast.\n",
    "\n",
    "We can profile the function with `TimeroOutputs.jl` to see the execution time spend in the generation of the transposed."
   ]
  },
  {
   "cell_type": "code",
   "execution_count": 656,
   "metadata": {},
   "outputs": [
    {
     "name": "stderr",
     "output_type": "stream",
     "text": [
      "WARNING: redefining constant timer\n"
     ]
    },
    {
     "data": {
      "text/plain": [
       "naive_matmul_2!"
      ]
     },
     "execution_count": 656,
     "metadata": {},
     "output_type": "execute_result"
    }
   ],
   "source": [
    "const timer = TimerOutput()\n",
    "\n",
    "\"\"\"\n",
    "Naive matrix multiply of A and B\n",
    "\"\"\"\n",
    "function naive_matmul_2!(A, B, C)\n",
    "    n_rows_A = size(A,1)\n",
    "    n_cols_B = size(B,2)\n",
    "    n_elements = n_cols_B\n",
    "    @timeit timer \"transposed\" A_t = copy(transpose(A))\n",
    "    @timeit timer \"nrows\" begin \n",
    "        for r in 1:n_rows_A\n",
    "            for c in 1:n_cols_B\n",
    "               @timeit timer \"dot product\" C[r,c] = dot_product_col_r_col_c(A_t,r,B,c, n_elements)\n",
    "            end\n",
    "        end\n",
    "    end\n",
    "    \n",
    "end"
   ]
  },
  {
   "cell_type": "code",
   "execution_count": 657,
   "metadata": {},
   "outputs": [
    {
     "name": "stdout",
     "output_type": "stream",
     "text": [
      "  1.664015 seconds (60.03 k allocations: 10.525 MiB)\n"
     ]
    }
   ],
   "source": [
    "@time naive_matmul_2!(A,B,C2)"
   ]
  },
  {
   "cell_type": "code",
   "execution_count": 664,
   "metadata": {},
   "outputs": [
    {
     "name": "stdout",
     "output_type": "stream",
     "text": [
      " \u001b[1m────────────────────────────────────────────────────────────────────────\u001b[22m\n",
      " \u001b[1m                        \u001b[22m        Time                   Allocations      \n",
      "                         ──────────────────────   ───────────────────────\n",
      "    Tot / % measured:         81.8s / 1.95%           46.2MiB / 16.5%    \n",
      "\n",
      " Section         ncalls     time   %tot     avg     alloc   %tot      avg\n",
      " ────────────────────────────────────────────────────────────────────────\n",
      " nrows                1    1.59s   100%   1.59s      864B  0.01%     864B\n",
      "   dot product    1.00M    1.52s  95.1%  1.52μs     0.00B  0.00%    0.00B\n",
      " transposed           1   5.78ms  0.36%  5.78ms   7.63MiB  100%   7.63MiB\n",
      " \u001b[1m────────────────────────────────────────────────────────────────────────\u001b[22m"
     ]
    }
   ],
   "source": [
    "print(timer)"
   ]
  },
  {
   "cell_type": "markdown",
   "metadata": {},
   "source": [
    "#### Using SIMD instructions\n",
    "\n",
    "The function `dot_product_col_r_col_c` can benefit from SIMD instructions"
   ]
  },
  {
   "cell_type": "code",
   "execution_count": 666,
   "metadata": {},
   "outputs": [
    {
     "data": {
      "text/plain": [
       "dot_product_col_r_col_c_simd (generic function with 1 method)"
      ]
     },
     "execution_count": 666,
     "metadata": {},
     "output_type": "execute_result"
    }
   ],
   "source": [
    "@inline function dot_product_col_r_col_c_simd(A,r,B,c, n_elements)\n",
    "    value = zero(eltype(A))\n",
    "    \n",
    "    @simd for i in 1:n_elements\n",
    "       @inbounds value += A[i,r] * B[i,c] \n",
    "    end\n",
    "    return value    \n",
    "end"
   ]
  },
  {
   "cell_type": "code",
   "execution_count": 667,
   "metadata": {
    "scrolled": true
   },
   "outputs": [
    {
     "data": {
      "text/plain": [
       "naive_matmul_3! (generic function with 1 method)"
      ]
     },
     "execution_count": 667,
     "metadata": {},
     "output_type": "execute_result"
    }
   ],
   "source": [
    "function naive_matmul_3!(A, B, C)\n",
    "    n_rows_A = size(A,1)\n",
    "    n_cols_B = size(B,2)\n",
    "    n_elements = n_cols_B\n",
    "    A_t = copy(transpose(A))\n",
    "    for r in 1:n_rows_A\n",
    "        for c in 1:n_cols_B\n",
    "           C[r,c] = dot_product_col_r_col_c_simd(A_t,r,B,c, n_elements)\n",
    "        end\n",
    "    end\n",
    "end"
   ]
  },
  {
   "cell_type": "code",
   "execution_count": 668,
   "metadata": {
    "scrolled": true
   },
   "outputs": [
    {
     "name": "stdout",
     "output_type": "stream",
     "text": [
      "  0.625690 seconds (78.14 k allocations: 11.712 MiB)\n"
     ]
    }
   ],
   "source": [
    "C2 = zeros(size(A));\n",
    "@time naive_matmul_3!(A,B,C2)"
   ]
  },
  {
   "cell_type": "code",
   "execution_count": 669,
   "metadata": {},
   "outputs": [
    {
     "data": {
      "text/plain": [
       "true"
      ]
     },
     "execution_count": 669,
     "metadata": {},
     "output_type": "execute_result"
    }
   ],
   "source": [
    "isapprox(C,C2;rtol=0.000001)"
   ]
  },
  {
   "cell_type": "markdown",
   "metadata": {},
   "source": [
    "Notice that A*B is still 10x faster"
   ]
  },
  {
   "cell_type": "code",
   "execution_count": 663,
   "metadata": {},
   "outputs": [
    {
     "name": "stdout",
     "output_type": "stream",
     "text": [
      "  0.048397 seconds (6 allocations: 7.630 MiB)\n"
     ]
    }
   ],
   "source": [
    "@time A*B;"
   ]
  },
  {
   "cell_type": "markdown",
   "metadata": {},
   "source": [
    "#### Blocked version version 1\n",
    "\n",
    "\n",
    "The approach presented here comes from http://csapp.cs.cmu.edu/public/waside/waside-blocking.pdf\n",
    "\n",
    "The key of this algorithm is to avoid data movenents and reuse the data in the cache. This version is known as a blocked version of matrix multiply.\n",
    "\n",
    "\n",
    "Let us consider we want to do `A * B`. We can get a block of size `bs x bs` from `B` and try to reuse it as much as possible without changing the block. To do this, after a block from `B` is selected, we will iterate over all slices of `A` of size `bs` (without changing B). Therefore, first we have a double for loop that gives us the left hand side coordinates of a block of size `bs x bs`.\n",
    "\n",
    "\n",
    "```julia\n",
    "# assume n is the width and heigh of A, B and C (we have squared matrices)\n",
    "\n",
    "for row in 1:bs:n\n",
    "    for col in 1:bs:n\n",
    "        # (row,col) are the coordinates of the top left hand block from B           \n",
    "    end\n",
    "end\n",
    "```\n",
    "\n",
    "Now that we know that a block we iterate over row slices from `A`.\n",
    "To do this  we will add a for loop that iterates over `i in 1:n`.\n",
    "\n",
    "\n",
    "```julia\n",
    "# assume n is the width and heigh of A, B and C (we have squared matrices)\n",
    "\n",
    "for kk in 1:bs:n       # iterates over cols of A (rows of B)\n",
    "    for jj in 1:bs:n   # iterates over rows of B\n",
    "    \n",
    "       # (kk,jj) are the coordinates of the top left hand block from B, B_block=B[kk:kk+bs, jj:jj+bs]\n",
    "       # [      |             |              |        ]\n",
    "       # [  B_block[:,1], B_block[:,2], B_block[:,bs] ]\n",
    "       # [      |             |              |        ]\n",
    "                       \n",
    "       for i in 1:n                       # pick slice A[i,kk:kk+bs]   \n",
    "           for j in jj:jj+bs              # Make dot product  A[i,kk:kk+bs] * B_block[:,j] for all j\n",
    "               s = C[i,j]\n",
    "               for k in kk:kk+bs\n",
    "                  s += A[i,k] * B[k,j]\n",
    "               end\n",
    "               C[i,j] =s\n",
    "           end\n",
    "        end\n",
    "    end\n",
    "end\n",
    "```\n",
    "\n",
    "\n",
    "```julia\n",
    "# scalar product of  A[i,kk:kk+bs] * B_block[:,j] for all j in the B_block\n",
    "\n",
    "function scalar_product\n",
    "\n",
    "    for j in jj:jj+bs\n",
    "        # Make dot product  A[i,kk:kk+bs] * B_block[:,j] for all j\n",
    "  \n",
    "        s = C[i,j]\n",
    "        for k in kk:kk+bs\n",
    "           s += A[i,k] * B[k,j]\n",
    "        end\n",
    "        C[i,j] =s\n",
    "    end\n",
    "    return s\n",
    "end\n",
    " ```\n",
    " \n",
    " \n",
    " \n"
   ]
  },
  {
   "cell_type": "code",
   "execution_count": 670,
   "metadata": {
    "scrolled": true
   },
   "outputs": [
    {
     "name": "stdout",
     "output_type": "stream",
     "text": [
      "1 1\n",
      "1 11\n",
      "11 1\n",
      "11 11\n"
     ]
    }
   ],
   "source": [
    "n = 10\n",
    "n=20\n",
    "for row in 1:bs:n\n",
    "    for col in 1:bs:n\n",
    "        # (row,col) are the coordinates of the top left hand block from B           \n",
    "        println(row, \" \",col)\n",
    "    end\n",
    "end"
   ]
  },
  {
   "cell_type": "code",
   "execution_count": 671,
   "metadata": {},
   "outputs": [
    {
     "data": {
      "text/plain": [
       "matmul_blocked_1! (generic function with 1 method)"
      ]
     },
     "execution_count": 671,
     "metadata": {},
     "output_type": "execute_result"
    }
   ],
   "source": [
    "function matmul_blocked_1!(A, B, C)\n",
    "    bs = 10\n",
    "    n = size(A,1)\n",
    "\n",
    "    @inbounds for kk in 1:bs:n               # iterates over cols of A (rows of B)\n",
    "        for jj in 1:bs:n                     # iterates over rows of B    \n",
    "\n",
    "            for i in 1:n                     # pick slice A[i,kk:kk+bs]\n",
    "               for j in jj:jj+bs-1           # Make dot product  A[i,kk:kk+bs] * B_block[:,j] for all j\n",
    "                   s = C[i,j]\n",
    "                   for k in kk:kk+bs-1\n",
    "                      s += A[i,k] * B[k,j]\n",
    "                   end\n",
    "                   C[i,j] =s\n",
    "               end\n",
    "            end\n",
    "        end\n",
    "    end\n",
    "    # nothing returned, C updated\n",
    "end"
   ]
  },
  {
   "cell_type": "code",
   "execution_count": 672,
   "metadata": {},
   "outputs": [
    {
     "data": {
      "text/plain": [
       "((1000, 1000), (1000, 1000))"
      ]
     },
     "execution_count": 672,
     "metadata": {},
     "output_type": "execute_result"
    }
   ],
   "source": [
    "size(A), size(B)"
   ]
  },
  {
   "cell_type": "code",
   "execution_count": 675,
   "metadata": {},
   "outputs": [
    {
     "name": "stdout",
     "output_type": "stream",
     "text": [
      "  0.943197 seconds (4 allocations: 160 bytes)\n"
     ]
    }
   ],
   "source": [
    "C2 = zeros(size(A));\n",
    "@time matmul_blocked_1!(A,B,C2)"
   ]
  },
  {
   "cell_type": "code",
   "execution_count": 676,
   "metadata": {},
   "outputs": [
    {
     "data": {
      "text/plain": [
       "true"
      ]
     },
     "execution_count": 676,
     "metadata": {},
     "output_type": "execute_result"
    }
   ],
   "source": [
    "isapprox(C,C2;rtol=0.000001)"
   ]
  },
  {
   "cell_type": "markdown",
   "metadata": {},
   "source": [
    "Profiling the funtion"
   ]
  },
  {
   "cell_type": "code",
   "execution_count": 710,
   "metadata": {},
   "outputs": [
    {
     "data": {
      "text/plain": [
       " \u001b[1m──────────────────────────────────────────────────────────────────\u001b[22m\n",
       " \u001b[1m                  \u001b[22m        Time                   Allocations      \n",
       "                   ──────────────────────   ───────────────────────\n",
       " Tot / % measured:      148μs / 0.00%           2.73KiB / 0.00%    \n",
       "\n",
       " Section   ncalls     time   %tot     avg     alloc   %tot      avg\n",
       " ──────────────────────────────────────────────────────────────────\n",
       " \u001b[1m──────────────────────────────────────────────────────────────────\u001b[22m"
      ]
     },
     "execution_count": 710,
     "metadata": {},
     "output_type": "execute_result"
    }
   ],
   "source": [
    "reset_timer!()"
   ]
  },
  {
   "cell_type": "code",
   "execution_count": 711,
   "metadata": {
    "scrolled": true
   },
   "outputs": [
    {
     "data": {
      "text/plain": [
       "matmul_blocked_1! (generic function with 1 method)"
      ]
     },
     "execution_count": 711,
     "metadata": {},
     "output_type": "execute_result"
    }
   ],
   "source": [
    "function matmul_blocked_1!(A, B, C)\n",
    "    bs = 10\n",
    "    n = size(A,1)\n",
    "\n",
    "    @inbounds for kk in 1:bs:n               # iterates over cols of A (rows of B)\n",
    "         for jj in 1:bs:n                     # iterates over rows of B    \n",
    "\n",
    "             @timeit \"for i\" for i in 1:n                     # pick slice A[i,kk:kk+bs]\n",
    "               @timeit \"for j\" for j in jj:jj+bs-1           # Make dot product  A[i,kk:kk+bs] * B_block[:,j] for all j\n",
    "                   s = C[i,j]\n",
    "                   @timeit \"scalar product\" for k in kk:kk+bs-1\n",
    "                      s += A[i,k] * B[k,j]\n",
    "                   end\n",
    "                   C[i,j] = s\n",
    "               end\n",
    "            end\n",
    "        end\n",
    "    end\n",
    "    # nothing returned, C updated\n",
    "end"
   ]
  },
  {
   "cell_type": "code",
   "execution_count": 712,
   "metadata": {},
   "outputs": [
    {
     "name": "stdout",
     "output_type": "stream",
     "text": [
      " 17.351815 seconds (20.11 M allocations: 310.127 MiB, 0.14% gc time)\n"
     ]
    }
   ],
   "source": [
    "C2 = zeros(size(A));\n",
    "@time matmul_blocked_1!(A,B,C2)"
   ]
  },
  {
   "cell_type": "code",
   "execution_count": 714,
   "metadata": {},
   "outputs": [
    {
     "name": "stdout",
     "output_type": "stream",
     "text": [
      " \u001b[1m─────────────────────────────────────────────────────────────────────────────\u001b[22m\n",
      " \u001b[1m                             \u001b[22m        Time                   Allocations      \n",
      "                              ──────────────────────   ───────────────────────\n",
      "       Tot / % measured:           36.1s / 47.8%            318MiB / 95.9%    \n",
      "\n",
      " Section              ncalls     time   %tot     avg     alloc   %tot      avg\n",
      " ─────────────────────────────────────────────────────────────────────────────\n",
      " for i                 10.0k    17.3s   100%  1.73ms    305MiB  100%   31.3KiB\n",
      "   for j               10.0M    16.1s  93.5%  1.61μs    153MiB  50.0%    16.0B\n",
      "     scalar product     100M    7.91s  45.9%  79.1ns     0.00B  0.00%    0.00B\n",
      " \u001b[1m─────────────────────────────────────────────────────────────────────────────\u001b[22m"
     ]
    }
   ],
   "source": [
    "print_timer()"
   ]
  },
  {
   "cell_type": "code",
   "execution_count": 735,
   "metadata": {},
   "outputs": [
    {
     "data": {
      "text/plain": [
       " \u001b[1m──────────────────────────────────────────────────────────────────\u001b[22m\n",
       " \u001b[1m                  \u001b[22m        Time                   Allocations      \n",
       "                   ──────────────────────   ───────────────────────\n",
       " Tot / % measured:      931μs / 0.00%           2.73KiB / 0.00%    \n",
       "\n",
       " Section   ncalls     time   %tot     avg     alloc   %tot      avg\n",
       " ──────────────────────────────────────────────────────────────────\n",
       " \u001b[1m──────────────────────────────────────────────────────────────────\u001b[22m"
      ]
     },
     "execution_count": 735,
     "metadata": {},
     "output_type": "execute_result"
    }
   ],
   "source": [
    "reset_timer!()"
   ]
  },
  {
   "cell_type": "code",
   "execution_count": 736,
   "metadata": {},
   "outputs": [
    {
     "data": {
      "text/plain": [
       "matmul_blocked_1! (generic function with 1 method)"
      ]
     },
     "execution_count": 736,
     "metadata": {},
     "output_type": "execute_result"
    }
   ],
   "source": [
    "function matmul_blocked_1!(A, B, C)\n",
    "    bs = 10\n",
    "    n = size(A,1)\n",
    "\n",
    "    @inbounds for kk in 1:bs:n               # iterates over cols of A (rows of B)\n",
    "         for jj in 1:bs:n                     # iterates over rows of B    \n",
    "\n",
    "             @timeit \"for i\" for i in 1:n                     # pick slice A[i,kk:kk+bs]\n",
    "               @timeit \"for j\" for j in jj:jj+bs-1           # Make dot product  A[i,kk:kk+bs] * B_block[:,j] for all j\n",
    "                   @timeit \"get C[i,j]\" s = C[i,j]\n",
    "                   @timeit \"scalar product\" for k in kk:kk+bs-1\n",
    "                      s += A[i,k] * B[k,j]\n",
    "                   end\n",
    "                   @timeit \"store s to C[i,j]\" C[i,j] = s\n",
    "               end\n",
    "            end\n",
    "        end\n",
    "    end\n",
    "    # nothing returned, C updated\n",
    "end"
   ]
  },
  {
   "cell_type": "code",
   "execution_count": 739,
   "metadata": {},
   "outputs": [],
   "source": [
    "reset_timer!()\n",
    "C2 = zeros(size(A));\n",
    "matmul_blocked_1!(A,B,C2)"
   ]
  },
  {
   "cell_type": "code",
   "execution_count": 742,
   "metadata": {
    "scrolled": true
   },
   "outputs": [
    {
     "name": "stdout",
     "output_type": "stream",
     "text": [
      " \u001b[1m──────────────────────────────────────────────────────────────────────────────\u001b[22m\n",
      " \u001b[1m                              \u001b[22m        Time                   Allocations      \n",
      "                               ──────────────────────   ───────────────────────\n",
      "       Tot / % measured:            1257s / 4.68%           4.63GiB / 100%     \n",
      "\n",
      " Section               ncalls     time   %tot     avg     alloc   %tot      avg\n",
      " ──────────────────────────────────────────────────────────────────────────────\n",
      " for i                  10.0k    58.8s   100%  5.88ms   4.62GiB  100%    484KiB\n",
      "   for j                10.0M    57.7s  98.1%  5.77μs   4.47GiB  96.8%     480B\n",
      "     scalar product      100M    8.47s  14.4%  84.7ns     0.00B  0.00%    0.00B\n",
      "     get C[i,j]          100M    7.43s  12.6%  74.3ns     0.00B  0.00%    0.00B\n",
      "     store s to C[i,j]   100M    6.78s  11.5%  67.8ns     0.00B  0.00%    0.00B\n",
      " \u001b[1m──────────────────────────────────────────────────────────────────────────────\u001b[22m"
     ]
    }
   ],
   "source": [
    "print_timer()"
   ]
  },
  {
   "cell_type": "code",
   "execution_count": null,
   "metadata": {},
   "outputs": [],
   "source": []
  },
  {
   "cell_type": "code",
   "execution_count": null,
   "metadata": {},
   "outputs": [],
   "source": []
  },
  {
   "cell_type": "markdown",
   "metadata": {},
   "source": [
    "#### Rewritting the code with dot products\n",
    "\n",
    "Notice that this version is actually slower than our previous version of matmul naive with simd.\n",
    "\n",
    "To ilustrate that the code inside the loop over `i in 1:n`.\n",
    "\n",
    "```\n",
    "  A[i,kk:kk+bs] * B_block[:,j] for all \n",
    "```"
   ]
  },
  {
   "cell_type": "code",
   "execution_count": 294,
   "metadata": {},
   "outputs": [
    {
     "data": {
      "text/plain": [
       "scalar_product_Arow_Bcol (generic function with 1 method)"
      ]
     },
     "execution_count": 294,
     "metadata": {},
     "output_type": "execute_result"
    }
   ],
   "source": [
    "@inline function scalar_product_Arow_Bcol(A,i,B,j,kk,bs)\n",
    "    s = 0.\n",
    "    for k in kk:kk+bs-1\n",
    "       @inbounds s += A[i,k] * B[k,j]\n",
    "    end\n",
    "    return s\n",
    "end"
   ]
  },
  {
   "cell_type": "code",
   "execution_count": 305,
   "metadata": {
    "scrolled": true
   },
   "outputs": [
    {
     "data": {
      "text/plain": [
       "matmul_blocked_2! (generic function with 1 method)"
      ]
     },
     "execution_count": 305,
     "metadata": {},
     "output_type": "execute_result"
    }
   ],
   "source": [
    "function matmul_blocked_2!(A, B, C)\n",
    "    bs = 10\n",
    "    n = size(A,1)\n",
    "\n",
    "    @inbounds for kk in 1:bs:n            # iterates over cols of A (rows of B)\n",
    "        for jj in 1:bs:n                  # iterates over rows of B    \n",
    "            \n",
    "            for j in jj:jj+bs-1           # Make dot product  A[i,kk:kk+bs] * B_block[:,j] for all j, store i C[i,j]\n",
    "               for i in 1:n               # pick slice A[i,kk:kk+bs]\n",
    "                   s = scalar_product_Arow_Bcol(A, i, B, j, kk, bs)\n",
    "                   C[i,j] +=s\n",
    "               end\n",
    "            end\n",
    "        end\n",
    "    end\n",
    "    # nothing returned, C updated\n",
    "end"
   ]
  },
  {
   "cell_type": "code",
   "execution_count": 314,
   "metadata": {},
   "outputs": [
    {
     "name": "stdout",
     "output_type": "stream",
     "text": [
      "  0.721783 seconds (4 allocations: 160 bytes)\n"
     ]
    }
   ],
   "source": [
    "C2 = zeros(size(A));\n",
    "@time matmul_blocked_2!(A,B,C2)"
   ]
  },
  {
   "cell_type": "code",
   "execution_count": 307,
   "metadata": {},
   "outputs": [
    {
     "data": {
      "text/plain": [
       "true"
      ]
     },
     "execution_count": 307,
     "metadata": {},
     "output_type": "execute_result"
    }
   ],
   "source": [
    "isapprox(C,C2;rtol=0.000001)"
   ]
  },
  {
   "cell_type": "code",
   "execution_count": 316,
   "metadata": {},
   "outputs": [
    {
     "name": "stdout",
     "output_type": "stream",
     "text": [
      "  0.047823 seconds (6 allocations: 7.630 MiB)\n"
     ]
    }
   ],
   "source": [
    "@time A*B;"
   ]
  },
  {
   "cell_type": "markdown",
   "metadata": {},
   "source": [
    "#### Blocked version version 3\n",
    "\n",
    "Using views "
   ]
  },
  {
   "cell_type": "code",
   "execution_count": 380,
   "metadata": {},
   "outputs": [
    {
     "data": {
      "text/plain": [
       "scalar_product (generic function with 1 method)"
      ]
     },
     "execution_count": 380,
     "metadata": {},
     "output_type": "execute_result"
    }
   ],
   "source": [
    "@inline function scalar_product(v1,v2)\n",
    "    s = 0.\n",
    "    for i in 1:length(v1)\n",
    "       @inbounds s += v1[i] * v2[i]\n",
    "    end\n",
    "    return s\n",
    "end"
   ]
  },
  {
   "cell_type": "code",
   "execution_count": 425,
   "metadata": {},
   "outputs": [
    {
     "data": {
      "text/plain": [
       "matmul_blocked_3! (generic function with 1 method)"
      ]
     },
     "execution_count": 425,
     "metadata": {},
     "output_type": "execute_result"
    }
   ],
   "source": [
    "function matmul_blocked_3!(A, B, C)\n",
    "    bs = 10\n",
    "    n = size(A,1)\n",
    "    @inbounds for kk in 1:bs:n            # iterates over cols of A (rows of B)\n",
    "        for jj in 1:bs:n                  # iterates over rows of B    \n",
    "            \n",
    "            for j in jj:jj+bs-1           # Make dot product  A[i,kk:kk+bs] * B_block[:,j] for all j, store i C[i,j]\n",
    "                B_block_col = @view B[kk:kk+bs-1,j]\n",
    "                for i in 1:n               # pick slice A[i,kk:kk+bs]\n",
    "                   A_slice =  @view A[i, kk:kk+bs-1]\n",
    "                   s = scalar_product(A_slice,B_block_col)\n",
    "                   C[i,j] +=s\n",
    "               end\n",
    "            end\n",
    "        end\n",
    "    end\n",
    "    # nothing returned, C updated\n",
    "end"
   ]
  },
  {
   "cell_type": "code",
   "execution_count": 427,
   "metadata": {},
   "outputs": [
    {
     "name": "stdout",
     "output_type": "stream",
     "text": [
      "  0.874477 seconds (4 allocations: 160 bytes)\n"
     ]
    }
   ],
   "source": [
    "C2 = zeros(size(A));\n",
    "@time matmul_blocked_3!(A,B,C2)"
   ]
  },
  {
   "cell_type": "code",
   "execution_count": 428,
   "metadata": {},
   "outputs": [
    {
     "data": {
      "text/plain": [
       "true"
      ]
     },
     "execution_count": 428,
     "metadata": {},
     "output_type": "execute_result"
    }
   ],
   "source": [
    "isapprox(C,C2;rtol=0.000001)"
   ]
  },
  {
   "cell_type": "markdown",
   "metadata": {},
   "source": [
    "What if we transpose A before so we can access rows (cols in the transposed) fast?"
   ]
  },
  {
   "cell_type": "code",
   "execution_count": 430,
   "metadata": {},
   "outputs": [
    {
     "data": {
      "text/plain": [
       "matmul_blocked_4! (generic function with 1 method)"
      ]
     },
     "execution_count": 430,
     "metadata": {},
     "output_type": "execute_result"
    }
   ],
   "source": [
    "function matmul_blocked_4!(A, B, C)\n",
    "    bs = 10\n",
    "    n = size(A,1)\n",
    "    At = transpose(A)\n",
    "    \n",
    "    @inbounds for kk in 1:bs:n            # iterates over cols of A (rows of B)\n",
    "        for jj in 1:bs:n                  # iterates over rows of B    \n",
    "            \n",
    "            for j in jj:jj+bs-1           # Make dot product  A[i,kk:kk+bs] * B_block[:,j] for all j, store i C[i,j]\n",
    "                B_block_col = @view B[kk:kk+bs-1,j]\n",
    "                for i in 1:n               # pick slice A[i,kk:kk+bs] which is At[kk:kk+bs-1,i]\n",
    "                   A_slice =  @view At[kk:kk+bs-1,i]\n",
    "                   s = scalar_product(A_slice,B_block_col)\n",
    "                   C[i,j] +=s\n",
    "               end\n",
    "            end\n",
    "        end\n",
    "    end\n",
    "    # nothing returned, C updated\n",
    "end"
   ]
  },
  {
   "cell_type": "code",
   "execution_count": 433,
   "metadata": {},
   "outputs": [
    {
     "name": "stdout",
     "output_type": "stream",
     "text": [
      "  0.888835 seconds (4 allocations: 160 bytes)\n"
     ]
    }
   ],
   "source": [
    "C2 = zeros(size(A));\n",
    "@time matmul_blocked_4!(A,B,C2)"
   ]
  },
  {
   "cell_type": "code",
   "execution_count": 434,
   "metadata": {},
   "outputs": [
    {
     "data": {
      "text/plain": [
       "true"
      ]
     },
     "execution_count": 434,
     "metadata": {},
     "output_type": "execute_result"
    }
   ],
   "source": [
    "isapprox(C,C2;rtol=0.000001)"
   ]
  },
  {
   "cell_type": "markdown",
   "metadata": {},
   "source": [
    "### Loading slices as SIMD vectors"
   ]
  },
  {
   "cell_type": "code",
   "execution_count": 605,
   "metadata": {},
   "outputs": [
    {
     "data": {
      "text/plain": [
       "scalar_product_vec (generic function with 1 method)"
      ]
     },
     "execution_count": 605,
     "metadata": {},
     "output_type": "execute_result"
    }
   ],
   "source": [
    "@inline function scalar_product_vec(v1,v2)\n",
    "    return sum(v1*v2)\n",
    "end"
   ]
  },
  {
   "cell_type": "code",
   "execution_count": 606,
   "metadata": {},
   "outputs": [
    {
     "data": {
      "text/plain": [
       "matmul_blocked_5! (generic function with 1 method)"
      ]
     },
     "execution_count": 606,
     "metadata": {},
     "output_type": "execute_result"
    }
   ],
   "source": [
    "function matmul_blocked_5!(A, B, C)\n",
    "    bs = 10\n",
    "    n = size(A,1)\n",
    "    T = eltype(A)\n",
    "    #v_type = Vec{bs, T}\n",
    "    vrange = VecRange{bs}(1)\n",
    "\n",
    "    @inbounds for kk in 1:bs:n            # iterates over cols of A (rows of B)\n",
    "        for jj in 1:bs:n                  # iterates over rows of B    \n",
    "            \n",
    "            for j in jj:jj+bs-1           # Make dot product  A[i,kk:kk+bs] * B_block[:,j] for all j, store i C[i,j]\n",
    "                B_block_col = B[kk+vrange, j]  #@view B[kk:kk+bs-1,j] \n",
    "                for i in 1:n               # pick slice A[i,kk:kk+bs]\n",
    "                   A_slice =   A[i, kk:kk+bs-1]\n",
    "                   s = scalar_product_vec(A_slice,B_block_col)\n",
    "                   C[i,j] +=s\n",
    "               end\n",
    "            end\n",
    "        end\n",
    "    end\n",
    "    # nothing returned, C updated\n",
    "end"
   ]
  },
  {
   "cell_type": "code",
   "execution_count": 607,
   "metadata": {},
   "outputs": [
    {
     "ename": "MethodError",
     "evalue": "MethodError: no method matching *(::Array{Float64,1}, ::Vec{10,Float64})\nClosest candidates are:\n  *(::Any, ::Any, !Matched::Any, !Matched::Any...) at operators.jl:529\n  *(!Matched::Union{Bool, Float16, Float32, Float64, Int128, Int16, Int32, Int64, Int8, UInt128, UInt16, UInt32, UInt64, UInt8, Ptr}, ::Vec{N,T<:Union{Float16, Float32, Float64}}) where {N, T<:Union{Float16, Float32, Float64}} at /Users/david/.julia/packages/SIMD/Am38N/src/SIMD.jl:1165\n  *(::Union{DenseArray{T,1}, DenseArray{T,2}, Base.ReinterpretArray{T,2,S,A} where S where A<:Union{SubArray{T,N,A,I,true} where I<:Union{Tuple{Vararg{Real,N} where N}, Tuple{AbstractUnitRange,Vararg{Any,N} where N}} where A<:DenseArray where N where T, DenseArray}, Base.ReinterpretArray{T,1,S,A} where S where A<:Union{SubArray{T,N,A,I,true} where I<:Union{Tuple{Vararg{Real,N} where N}, Tuple{AbstractUnitRange,Vararg{Any,N} where N}} where A<:DenseArray where N where T, DenseArray}, Base.ReshapedArray{T,1,A,MI} where MI<:Tuple{Vararg{Base.MultiplicativeInverses.SignedMultiplicativeInverse{Int64},N} where N} where A<:Union{Base.ReinterpretArray{T,N,S,A} where S where A<:Union{SubArray{T,N,A,I,true} where I<:Union{Tuple{Vararg{Real,N} where N}, Tuple{AbstractUnitRange,Vararg{Any,N} where N}} where A<:DenseArray where N where T, DenseArray} where N where T, SubArray{T,N,A,I,true} where I<:Union{Tuple{Vararg{Real,N} where N}, Tuple{AbstractUnitRange,Vararg{Any,N} where N}} where A<:DenseArray where N where T, DenseArray}, Base.ReshapedArray{T,2,A,MI} where MI<:Tuple{Vararg{Base.MultiplicativeInverses.SignedMultiplicativeInverse{Int64},N} where N} where A<:Union{Base.ReinterpretArray{T,N,S,A} where S where A<:Union{SubArray{T,N,A,I,true} where I<:Union{Tuple{Vararg{Real,N} where N}, Tuple{AbstractUnitRange,Vararg{Any,N} where N}} where A<:DenseArray where N where T, DenseArray} where N where T, SubArray{T,N,A,I,true} where I<:Union{Tuple{Vararg{Real,N} where N}, Tuple{AbstractUnitRange,Vararg{Any,N} where N}} where A<:DenseArray where N where T, DenseArray}, SubArray{T,1,A,I,L} where L where I<:Tuple{Vararg{Union{Int64, AbstractRange{Int64}, Base.AbstractCartesianIndex},N} where N} where A<:Union{Base.ReinterpretArray{T,N,S,A} where S where A<:Union{SubArray{T,N,A,I,true} where I<:Union{Tuple{Vararg{Real,N} where N}, Tuple{AbstractUnitRange,Vararg{Any,N} where N}} where A<:DenseArray where N where T, DenseArray} where N where T, Base.ReshapedArray{T,N,A,MI} where MI<:Tuple{Vararg{Base.MultiplicativeInverses.SignedMultiplicativeInverse{Int64},N} where N} where A<:Union{Base.ReinterpretArray{T,N,S,A} where S where A<:Union{SubArray{T,N,A,I,true} where I<:Union{Tuple{Vararg{Real,N} where N}, Tuple{AbstractUnitRange,Vararg{Any,N} where N}} where A<:DenseArray where N where T, DenseArray} where N where T, SubArray{T,N,A,I,true} where I<:Union{Tuple{Vararg{Real,N} where N}, Tuple{AbstractUnitRange,Vararg{Any,N} where N}} where A<:DenseArray where N where T, DenseArray} where N where T, DenseArray}, SubArray{T,2,A,I,L} where L where I<:Tuple{Vararg{Union{Int64, AbstractRange{Int64}, Base.AbstractCartesianIndex},N} where N} where A<:Union{Base.ReinterpretArray{T,N,S,A} where S where A<:Union{SubArray{T,N,A,I,true} where I<:Union{Tuple{Vararg{Real,N} where N}, Tuple{AbstractUnitRange,Vararg{Any,N} where N}} where A<:DenseArray where N where T, DenseArray} where N where T, Base.ReshapedArray{T,N,A,MI} where MI<:Tuple{Vararg{Base.MultiplicativeInverses.SignedMultiplicativeInverse{Int64},N} where N} where A<:Union{Base.ReinterpretArray{T,N,S,A} where S where A<:Union{SubArray{T,N,A,I,true} where I<:Union{Tuple{Vararg{Real,N} where N}, Tuple{AbstractUnitRange,Vararg{Any,N} where N}} where A<:DenseArray where N where T, DenseArray} where N where T, SubArray{T,N,A,I,true} where I<:Union{Tuple{Vararg{Real,N} where N}, Tuple{AbstractUnitRange,Vararg{Any,N} where N}} where A<:DenseArray where N where T, DenseArray} where N where T, DenseArray}} where T, !Matched::LinearAlgebra.Adjoint{#s617,#s616} where #s616<:LinearAlgebra.LQPackedQ where #s617) at /Users/sabae/buildbot/worker/package_macos64/build/usr/share/julia/stdlib/v1.2/LinearAlgebra/src/lq.jl:216\n  ...",
     "output_type": "error",
     "traceback": [
      "MethodError: no method matching *(::Array{Float64,1}, ::Vec{10,Float64})\nClosest candidates are:\n  *(::Any, ::Any, !Matched::Any, !Matched::Any...) at operators.jl:529\n  *(!Matched::Union{Bool, Float16, Float32, Float64, Int128, Int16, Int32, Int64, Int8, UInt128, UInt16, UInt32, UInt64, UInt8, Ptr}, ::Vec{N,T<:Union{Float16, Float32, Float64}}) where {N, T<:Union{Float16, Float32, Float64}} at /Users/david/.julia/packages/SIMD/Am38N/src/SIMD.jl:1165\n  *(::Union{DenseArray{T,1}, DenseArray{T,2}, Base.ReinterpretArray{T,2,S,A} where S where A<:Union{SubArray{T,N,A,I,true} where I<:Union{Tuple{Vararg{Real,N} where N}, Tuple{AbstractUnitRange,Vararg{Any,N} where N}} where A<:DenseArray where N where T, DenseArray}, Base.ReinterpretArray{T,1,S,A} where S where A<:Union{SubArray{T,N,A,I,true} where I<:Union{Tuple{Vararg{Real,N} where N}, Tuple{AbstractUnitRange,Vararg{Any,N} where N}} where A<:DenseArray where N where T, DenseArray}, Base.ReshapedArray{T,1,A,MI} where MI<:Tuple{Vararg{Base.MultiplicativeInverses.SignedMultiplicativeInverse{Int64},N} where N} where A<:Union{Base.ReinterpretArray{T,N,S,A} where S where A<:Union{SubArray{T,N,A,I,true} where I<:Union{Tuple{Vararg{Real,N} where N}, Tuple{AbstractUnitRange,Vararg{Any,N} where N}} where A<:DenseArray where N where T, DenseArray} where N where T, SubArray{T,N,A,I,true} where I<:Union{Tuple{Vararg{Real,N} where N}, Tuple{AbstractUnitRange,Vararg{Any,N} where N}} where A<:DenseArray where N where T, DenseArray}, Base.ReshapedArray{T,2,A,MI} where MI<:Tuple{Vararg{Base.MultiplicativeInverses.SignedMultiplicativeInverse{Int64},N} where N} where A<:Union{Base.ReinterpretArray{T,N,S,A} where S where A<:Union{SubArray{T,N,A,I,true} where I<:Union{Tuple{Vararg{Real,N} where N}, Tuple{AbstractUnitRange,Vararg{Any,N} where N}} where A<:DenseArray where N where T, DenseArray} where N where T, SubArray{T,N,A,I,true} where I<:Union{Tuple{Vararg{Real,N} where N}, Tuple{AbstractUnitRange,Vararg{Any,N} where N}} where A<:DenseArray where N where T, DenseArray}, SubArray{T,1,A,I,L} where L where I<:Tuple{Vararg{Union{Int64, AbstractRange{Int64}, Base.AbstractCartesianIndex},N} where N} where A<:Union{Base.ReinterpretArray{T,N,S,A} where S where A<:Union{SubArray{T,N,A,I,true} where I<:Union{Tuple{Vararg{Real,N} where N}, Tuple{AbstractUnitRange,Vararg{Any,N} where N}} where A<:DenseArray where N where T, DenseArray} where N where T, Base.ReshapedArray{T,N,A,MI} where MI<:Tuple{Vararg{Base.MultiplicativeInverses.SignedMultiplicativeInverse{Int64},N} where N} where A<:Union{Base.ReinterpretArray{T,N,S,A} where S where A<:Union{SubArray{T,N,A,I,true} where I<:Union{Tuple{Vararg{Real,N} where N}, Tuple{AbstractUnitRange,Vararg{Any,N} where N}} where A<:DenseArray where N where T, DenseArray} where N where T, SubArray{T,N,A,I,true} where I<:Union{Tuple{Vararg{Real,N} where N}, Tuple{AbstractUnitRange,Vararg{Any,N} where N}} where A<:DenseArray where N where T, DenseArray} where N where T, DenseArray}, SubArray{T,2,A,I,L} where L where I<:Tuple{Vararg{Union{Int64, AbstractRange{Int64}, Base.AbstractCartesianIndex},N} where N} where A<:Union{Base.ReinterpretArray{T,N,S,A} where S where A<:Union{SubArray{T,N,A,I,true} where I<:Union{Tuple{Vararg{Real,N} where N}, Tuple{AbstractUnitRange,Vararg{Any,N} where N}} where A<:DenseArray where N where T, DenseArray} where N where T, Base.ReshapedArray{T,N,A,MI} where MI<:Tuple{Vararg{Base.MultiplicativeInverses.SignedMultiplicativeInverse{Int64},N} where N} where A<:Union{Base.ReinterpretArray{T,N,S,A} where S where A<:Union{SubArray{T,N,A,I,true} where I<:Union{Tuple{Vararg{Real,N} where N}, Tuple{AbstractUnitRange,Vararg{Any,N} where N}} where A<:DenseArray where N where T, DenseArray} where N where T, SubArray{T,N,A,I,true} where I<:Union{Tuple{Vararg{Real,N} where N}, Tuple{AbstractUnitRange,Vararg{Any,N} where N}} where A<:DenseArray where N where T, DenseArray} where N where T, DenseArray}} where T, !Matched::LinearAlgebra.Adjoint{#s617,#s616} where #s616<:LinearAlgebra.LQPackedQ where #s617) at /Users/sabae/buildbot/worker/package_macos64/build/usr/share/julia/stdlib/v1.2/LinearAlgebra/src/lq.jl:216\n  ...",
      "",
      "Stacktrace:",
      " [1] scalar_product_vec at ./In[605]:2 [inlined]",
      " [2] matmul_blocked_5!(::Array{Float64,2}, ::Array{Float64,2}, ::Array{Float64,2}) at ./In[606]:15",
      " [3] top-level scope at util.jl:156",
      " [4] top-level scope at In[607]:2"
     ]
    }
   ],
   "source": [
    "C2 = zeros(size(A));\n",
    "@time matmul_blocked_5!(A,B,C2)"
   ]
  },
  {
   "cell_type": "code",
   "execution_count": null,
   "metadata": {},
   "outputs": [],
   "source": []
  },
  {
   "cell_type": "code",
   "execution_count": null,
   "metadata": {},
   "outputs": [],
   "source": []
  },
  {
   "cell_type": "code",
   "execution_count": null,
   "metadata": {},
   "outputs": [],
   "source": []
  },
  {
   "cell_type": "code",
   "execution_count": 438,
   "metadata": {},
   "outputs": [],
   "source": [
    "using SIMD"
   ]
  },
  {
   "cell_type": "code",
   "execution_count": 441,
   "metadata": {
    "scrolled": true
   },
   "outputs": [
    {
     "data": {
      "text/plain": [
       "Vec{4,Float64}"
      ]
     },
     "execution_count": 441,
     "metadata": {},
     "output_type": "execute_result"
    }
   ],
   "source": [
    "T = Float64\n",
    "N = 4\n",
    "a = rand(T, 10_000);\n",
    "v_type = Vec{N, T}"
   ]
  },
  {
   "cell_type": "code",
   "execution_count": 449,
   "metadata": {
    "scrolled": true
   },
   "outputs": [
    {
     "data": {
      "text/plain": [
       "<4 x Float64>[0.9209063615440263, 0.8689028116971553, 0.5137699213455982, 0.2980577029881102]"
      ]
     },
     "execution_count": 449,
     "metadata": {},
     "output_type": "execute_result"
    }
   ],
   "source": [
    "vload(v_type, A[:,1], 10)"
   ]
  },
  {
   "cell_type": "code",
   "execution_count": null,
   "metadata": {},
   "outputs": [],
   "source": [
    "vload(v_type, A, 10)"
   ]
  },
  {
   "cell_type": "code",
   "execution_count": null,
   "metadata": {},
   "outputs": [],
   "source": []
  },
  {
   "cell_type": "code",
   "execution_count": null,
   "metadata": {},
   "outputs": [],
   "source": []
  },
  {
   "cell_type": "code",
   "execution_count": null,
   "metadata": {},
   "outputs": [],
   "source": []
  },
  {
   "cell_type": "code",
   "execution_count": 475,
   "metadata": {},
   "outputs": [
    {
     "data": {
      "text/plain": [
       "<4 x Int64>[1, 2, 3, 4]"
      ]
     },
     "execution_count": 475,
     "metadata": {},
     "output_type": "execute_result"
    }
   ],
   "source": [
    "xs = Array([1,2,3,4,5,6,7,8])\n",
    "vrange = VecRange{4}(1)\n",
    "xs[vrange]  "
   ]
  },
  {
   "cell_type": "code",
   "execution_count": 478,
   "metadata": {},
   "outputs": [
    {
     "data": {
      "text/plain": [
       "<4 x Float64>[1.0, 2.0, 3.0, 4.0]"
      ]
     },
     "execution_count": 478,
     "metadata": {},
     "output_type": "execute_result"
    }
   ],
   "source": [
    "Xs = zeros(10,10)\n",
    "for i in 1:length(Xs)\n",
    "    Xs[i]=i\n",
    "end\n",
    "vrange = VecRange{4}(1)\n",
    "Xs[vrange,1]  "
   ]
  },
  {
   "cell_type": "code",
   "execution_count": 502,
   "metadata": {},
   "outputs": [
    {
     "data": {
      "text/plain": [
       "(<4 x Float64>[1.0, 2.0, 3.0, 4.0], [1.0, 2.0, 3.0, 4.0])"
      ]
     },
     "execution_count": 502,
     "metadata": {},
     "output_type": "execute_result"
    }
   ],
   "source": [
    "Xs = zeros(6,6)\n",
    "for i in 1:length(Xs)\n",
    "    Xs[i]=i\n",
    "end\n",
    "vrange = VecRange{4}(1)\n",
    "Xs[vrange,1], Xs[1:4,1]"
   ]
  },
  {
   "cell_type": "code",
   "execution_count": 586,
   "metadata": {},
   "outputs": [
    {
     "data": {
      "text/plain": [
       "(<4 x Float64>[7.0, 8.0, 9.0, 10.0], [7.0, 8.0, 9.0, 10.0])"
      ]
     },
     "execution_count": 586,
     "metadata": {},
     "output_type": "execute_result"
    }
   ],
   "source": [
    "Xs = zeros(6,6)\n",
    "for i in 1:length(Xs)\n",
    "    Xs[i]=i\n",
    "end\n",
    "vrange = VecRange{4}(1)\n",
    "Xs[vrange,2], Xs[1:4,2]"
   ]
  },
  {
   "cell_type": "code",
   "execution_count": 591,
   "metadata": {},
   "outputs": [
    {
     "data": {
      "text/plain": [
       "4-element Array{Float64,1}:\n",
       "  2.0\n",
       "  8.0\n",
       " 14.0\n",
       " 20.0"
      ]
     },
     "execution_count": 591,
     "metadata": {},
     "output_type": "execute_result"
    }
   ],
   "source": [
    "Xs[2,1:4], Xs[2,vrange]"
   ]
  },
  {
   "cell_type": "code",
   "execution_count": 584,
   "metadata": {},
   "outputs": [
    {
     "ename": "ArgumentError",
     "evalue": "ArgumentError: invalid index: VecRange{4}(1) of type VecRange{4}",
     "output_type": "error",
     "traceback": [
      "ArgumentError: invalid index: VecRange{4}(1) of type VecRange{4}",
      "",
      "Stacktrace:",
      " [1] to_index(::VecRange{4}) at ./indices.jl:270",
      " [2] to_index(::Array{Float64,2}, ::VecRange{4}) at ./indices.jl:247",
      " [3] to_indices at ./indices.jl:298 [inlined] (repeats 2 times)",
      " [4] to_indices at ./indices.jl:294 [inlined]",
      " [5] getindex(::Array{Float64,2}, ::Int64, ::VecRange{4}) at ./abstractarray.jl:981",
      " [6] top-level scope at In[584]:1"
     ]
    }
   ],
   "source": [
    "Xs[2,1:4], Xs[2,vrange]"
   ]
  },
  {
   "cell_type": "code",
   "execution_count": 580,
   "metadata": {},
   "outputs": [
    {
     "data": {
      "text/plain": [
       "(<4 x Float64>[7.0, 8.0, 9.0, 10.0], [7.0, 8.0, 9.0, 10.0])"
      ]
     },
     "execution_count": 580,
     "metadata": {},
     "output_type": "execute_result"
    }
   ],
   "source": [
    "Xs = zeros(6,6)\n",
    "for i in 1:length(Xs)\n",
    "    Xs[i]=i\n",
    "end\n",
    "vrange = VecRange{4}(1)\n",
    "p =1\n",
    "Xs[p-1+vrange,2], Xs[p:p+N-1,2]"
   ]
  },
  {
   "cell_type": "code",
   "execution_count": null,
   "metadata": {},
   "outputs": [],
   "source": []
  },
  {
   "cell_type": "code",
   "execution_count": null,
   "metadata": {},
   "outputs": [],
   "source": [
    "v = vload(v_type, a, i)"
   ]
  },
  {
   "cell_type": "code",
   "execution_count": null,
   "metadata": {},
   "outputs": [],
   "source": []
  },
  {
   "cell_type": "code",
   "execution_count": null,
   "metadata": {},
   "outputs": [],
   "source": []
  },
  {
   "cell_type": "code",
   "execution_count": null,
   "metadata": {},
   "outputs": [],
   "source": []
  },
  {
   "cell_type": "code",
   "execution_count": null,
   "metadata": {},
   "outputs": [],
   "source": []
  },
  {
   "cell_type": "code",
   "execution_count": null,
   "metadata": {},
   "outputs": [],
   "source": []
  },
  {
   "cell_type": "code",
   "execution_count": null,
   "metadata": {},
   "outputs": [],
   "source": []
  },
  {
   "cell_type": "code",
   "execution_count": null,
   "metadata": {},
   "outputs": [],
   "source": []
  },
  {
   "cell_type": "code",
   "execution_count": null,
   "metadata": {},
   "outputs": [],
   "source": []
  },
  {
   "cell_type": "code",
   "execution_count": 105,
   "metadata": {},
   "outputs": [
    {
     "data": {
      "text/plain": [
       "block_times_block (generic function with 1 method)"
      ]
     },
     "execution_count": 105,
     "metadata": {},
     "output_type": "execute_result"
    }
   ],
   "source": [
    "C2 = zeros(size(A));\n",
    "\n",
    "function block_times_block(A, r, B, c, block_size)\n",
    "    value = zero(eltype(A))\n",
    "    \n",
    "    for block_r in r:r+block_size\n",
    "        for block_c in c:c+block_size\n",
    "            @inbounds value += A[r,c] * B[r,c]  \n",
    "        end\n",
    "    end\n",
    "    return value    \n",
    "end "
   ]
  },
  {
   "cell_type": "code",
   "execution_count": 48,
   "metadata": {},
   "outputs": [
    {
     "name": "stdout",
     "output_type": "stream",
     "text": [
      "1 1\n",
      "1 11\n",
      "11 1\n",
      "11 11\n"
     ]
    }
   ],
   "source": [
    "n_rows_A=20\n",
    "n_cols_B=20\n",
    "bs=10\n",
    "for row in 1:bs:n_rows_A\n",
    "   for col in 1:bs:n_cols_B\n",
    "       println(row, \" \", col)\n",
    "    end\n",
    "end"
   ]
  },
  {
   "cell_type": "code",
   "execution_count": 55,
   "metadata": {},
   "outputs": [],
   "source": [
    "a = rand(20);"
   ]
  },
  {
   "cell_type": "code",
   "execution_count": 79,
   "metadata": {},
   "outputs": [
    {
     "name": "stdout",
     "output_type": "stream",
     "text": [
      "0\n",
      "10\n"
     ]
    }
   ],
   "source": [
    "for i in 0:10:19\n",
    "    imax = i+10-1\n",
    "    #print(i,\" \", i+10-1, \" \")\n",
    "    #println(length(a[i:imax]))\n",
    "    println(i)\n",
    "end"
   ]
  },
  {
   "cell_type": "code",
   "execution_count": 88,
   "metadata": {},
   "outputs": [
    {
     "name": "stdout",
     "output_type": "stream",
     "text": [
      "1 10\n",
      "2 20\n"
     ]
    }
   ],
   "source": [
    "k=0\n",
    "for i in 1:2\n",
    "    k += 10\n",
    "    imax = i+10-1\n",
    "    #print(i,\" \", i+10-1, \" \")\n",
    "    #println(length(a[i:imax]))\n",
    "    println(i, \" \", k)\n",
    "end"
   ]
  },
  {
   "cell_type": "code",
   "execution_count": null,
   "metadata": {},
   "outputs": [],
   "source": []
  },
  {
   "cell_type": "code",
   "execution_count": null,
   "metadata": {},
   "outputs": [],
   "source": []
  },
  {
   "cell_type": "code",
   "execution_count": 47,
   "metadata": {},
   "outputs": [],
   "source": [
    "#A[11:20]"
   ]
  },
  {
   "cell_type": "code",
   "execution_count": 172,
   "metadata": {},
   "outputs": [
    {
     "data": {
      "text/plain": [
       "naive_matmul_4! (generic function with 1 method)"
      ]
     },
     "execution_count": 172,
     "metadata": {},
     "output_type": "execute_result"
    }
   ],
   "source": [
    "\n",
    "function naive_matmul_4!(A, B, C)\n",
    "    n_rows_A = size(A,1)\n",
    "    n_cols_B = size(B,2)\n",
    "    n_elements = n_cols_B\n",
    "    bs = 10\n",
    "    n_elements_block = bs*bs\n",
    "    \n",
    "    for row in 1:bs:n_rows_A\n",
    "        for col in 1:bs:n_cols_B\n",
    "            for block_row in row:(row+bs)\n",
    "                for block_col in col:(col+bs)\n",
    "                    res = 0.0\n",
    "                    #C[row:row+bs,col:col+bs] = block_times_block(A, row, B, col, n_elements_block)\n",
    "                    for k in 1:n_elements_block\n",
    "                        res += A[k, block_row] * B[block_col, k]\n",
    "                    end\n",
    "                    C[row, col] = res\n",
    "                end\n",
    "            end\n",
    "        end\n",
    "    end\n",
    "    \n",
    "end"
   ]
  },
  {
   "cell_type": "code",
   "execution_count": 173,
   "metadata": {},
   "outputs": [
    {
     "name": "stdout",
     "output_type": "stream",
     "text": [
      "  0.175196 seconds (62.81 k allocations: 3.371 MiB)\n"
     ]
    }
   ],
   "source": [
    "C2 = zeros(size(A));\n",
    "\n",
    "@time naive_matmul_4!(A,B,C2)"
   ]
  },
  {
   "cell_type": "code",
   "execution_count": 174,
   "metadata": {},
   "outputs": [
    {
     "data": {
      "text/plain": [
       "false"
      ]
     },
     "execution_count": 174,
     "metadata": {},
     "output_type": "execute_result"
    }
   ],
   "source": [
    "isapprox(C,C2;rtol=0.000001)"
   ]
  },
  {
   "cell_type": "code",
   "execution_count": null,
   "metadata": {},
   "outputs": [],
   "source": []
  },
  {
   "cell_type": "code",
   "execution_count": null,
   "metadata": {},
   "outputs": [],
   "source": []
  },
  {
   "cell_type": "code",
   "execution_count": null,
   "metadata": {},
   "outputs": [],
   "source": [
    "B=10\n",
    "\n",
    "for (int r=0; i<j, i+=B)"
   ]
  }
 ],
 "metadata": {
  "kernelspec": {
   "display_name": "Julia 1.2.0",
   "language": "julia",
   "name": "julia-1.2"
  },
  "language_info": {
   "file_extension": ".jl",
   "mimetype": "application/julia",
   "name": "julia",
   "version": "1.2.0"
  }
 },
 "nbformat": 4,
 "nbformat_minor": 2
}
