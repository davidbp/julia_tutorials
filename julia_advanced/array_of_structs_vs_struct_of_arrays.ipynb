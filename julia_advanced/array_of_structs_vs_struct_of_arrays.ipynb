{
 "cells": [
  {
   "cell_type": "markdown",
   "metadata": {
    "toc": true
   },
   "source": [
    "<h1>Table of Contents<span class=\"tocSkip\"></span></h1>\n",
    "<div class=\"toc\"><ul class=\"toc-item\"><li><span><a href=\"#Vectorizing-code\" data-toc-modified-id=\"Vectorizing-code-1\"><span class=\"toc-item-num\">1&nbsp;&nbsp;</span>Vectorizing code</a></span></li><li><span><a href=\"#Structs-of-arrays-vs-arrays-of-structs\" data-toc-modified-id=\"Structs-of-arrays-vs-arrays-of-structs-2\"><span class=\"toc-item-num\">2&nbsp;&nbsp;</span>Structs of arrays vs arrays of structs</a></span><ul class=\"toc-item\"><li><span><a href=\"#Code-for-any-numerical-element--type\" data-toc-modified-id=\"Code-for-any-numerical-element--type-2.1\"><span class=\"toc-item-num\">2.1&nbsp;&nbsp;</span>Code for any numerical element  type</a></span></li><li><span><a href=\"#Adding-@simd\" data-toc-modified-id=\"Adding-@simd-2.2\"><span class=\"toc-item-num\">2.2&nbsp;&nbsp;</span>Adding <code>@simd</code></a></span></li></ul></li><li><span><a href=\"#Struct-of-static-arrays\" data-toc-modified-id=\"Struct-of-static-arrays-3\"><span class=\"toc-item-num\">3&nbsp;&nbsp;</span>Struct of static arrays</a></span><ul class=\"toc-item\"><li><span><a href=\"#Another-version\" data-toc-modified-id=\"Another-version-3.1\"><span class=\"toc-item-num\">3.1&nbsp;&nbsp;</span>Another version</a></span></li></ul></li></ul></div>"
   ]
  },
  {
   "cell_type": "code",
   "execution_count": 2,
   "metadata": {},
   "outputs": [],
   "source": [
    "using BenchmarkTools"
   ]
  },
  {
   "cell_type": "markdown",
   "metadata": {},
   "source": [
    "# Vectorizing code"
   ]
  },
  {
   "cell_type": "code",
   "execution_count": null,
   "metadata": {},
   "outputs": [],
   "source": []
  },
  {
   "cell_type": "code",
   "execution_count": null,
   "metadata": {},
   "outputs": [],
   "source": []
  },
  {
   "cell_type": "markdown",
   "metadata": {},
   "source": [
    "# Structs of arrays vs arrays of structs"
   ]
  },
  {
   "cell_type": "code",
   "execution_count": 3,
   "metadata": {},
   "outputs": [
    {
     "data": {
      "text/plain": [
       "ComplexSoA([0.516461, 0.469966, 0.219975, 0.788054, 0.211134, 0.438849, 0.264036, 0.291488, 0.362056, 0.614113  …  0.724571, 0.0794315, 0.670029, 0.778371, 0.987755, 0.900173, 0.393771, 0.757748, 0.0419546, 0.701018], [0.684288, 0.352884, 0.0522607, 0.722401, 0.156825, 0.627917, 0.729753, 0.721233, 0.289239, 0.45116  …  0.477383, 0.972271, 0.766809, 0.381621, 0.725287, 0.428688, 0.0923931, 0.741511, 0.458806, 0.816328])"
      ]
     },
     "execution_count": 3,
     "metadata": {},
     "output_type": "execute_result"
    }
   ],
   "source": [
    "\n",
    "struct ComplexAoS\n",
    "  real::Float64\n",
    "  imag::Float64\n",
    "end\n",
    "\n",
    "struct ComplexSoA\n",
    "  real::Vector{Float64}\n",
    "  imag::Vector{Float64}\n",
    "end\n",
    "\n",
    "N = 1000\n",
    "arrAoS = [ComplexAoS(rand(),rand()) for i in 1:N]\n",
    "arrSoA = ComplexSoA(rand(N),rand(N))"
   ]
  },
  {
   "cell_type": "code",
   "execution_count": 4,
   "metadata": {},
   "outputs": [
    {
     "data": {
      "text/plain": [
       "ComplexAoS(0.4524271922870875, 0.5183473176684523)"
      ]
     },
     "execution_count": 4,
     "metadata": {},
     "output_type": "execute_result"
    }
   ],
   "source": [
    "# Array of Structs\n",
    "arrAoS[1]"
   ]
  },
  {
   "cell_type": "code",
   "execution_count": 5,
   "metadata": {},
   "outputs": [
    {
     "data": {
      "text/plain": [
       "ComplexSoA([0.516461, 0.469966, 0.219975, 0.788054, 0.211134, 0.438849, 0.264036, 0.291488, 0.362056, 0.614113  …  0.724571, 0.0794315, 0.670029, 0.778371, 0.987755, 0.900173, 0.393771, 0.757748, 0.0419546, 0.701018], [0.684288, 0.352884, 0.0522607, 0.722401, 0.156825, 0.627917, 0.729753, 0.721233, 0.289239, 0.45116  …  0.477383, 0.972271, 0.766809, 0.381621, 0.725287, 0.428688, 0.0923931, 0.741511, 0.458806, 0.816328])"
      ]
     },
     "execution_count": 5,
     "metadata": {},
     "output_type": "execute_result"
    }
   ],
   "source": [
    "# Struct of arrays\n",
    "arrSoA"
   ]
  },
  {
   "cell_type": "markdown",
   "metadata": {},
   "source": [
    "There are two versions to do this"
   ]
  },
  {
   "cell_type": "code",
   "execution_count": 6,
   "metadata": {},
   "outputs": [
    {
     "data": {
      "text/plain": [
       "normAoS (generic function with 1 method)"
      ]
     },
     "execution_count": 6,
     "metadata": {},
     "output_type": "execute_result"
    }
   ],
   "source": [
    "function normSoA(x)\n",
    "  out = 0.0\n",
    "  for i in 1:length(x.real)\n",
    "    @inbounds out += sqrt(x.real[i]^2 + x.imag[i]^2)\n",
    "  end\n",
    "  out\n",
    "end\n",
    "\n",
    "function normAoS(x)\n",
    "  out = 0.0\n",
    "  for i in 1:length(x)\n",
    "    @inbounds out += sqrt(x[i].real^2 + x[i].imag^2)\n",
    "  end\n",
    "  out\n",
    "end"
   ]
  },
  {
   "cell_type": "code",
   "execution_count": 7,
   "metadata": {},
   "outputs": [
    {
     "name": "stdout",
     "output_type": "stream",
     "text": [
      "  4.255 μs (0 allocations: 0 bytes)\n"
     ]
    }
   ],
   "source": [
    "@btime normAoS($arrAoS);"
   ]
  },
  {
   "cell_type": "code",
   "execution_count": 8,
   "metadata": {},
   "outputs": [
    {
     "name": "stdout",
     "output_type": "stream",
     "text": [
      "  4.256 μs (0 allocations: 0 bytes)\n"
     ]
    }
   ],
   "source": [
    "@btime normSoA($arrSoA);"
   ]
  },
  {
   "cell_type": "code",
   "execution_count": null,
   "metadata": {},
   "outputs": [],
   "source": []
  },
  {
   "cell_type": "markdown",
   "metadata": {},
   "source": [
    "## Code for any numerical element  type"
   ]
  },
  {
   "cell_type": "code",
   "execution_count": 9,
   "metadata": {},
   "outputs": [
    {
     "data": {
      "text/plain": [
       "ComplexSoA_T{Float32}(Float32[0.145308, 0.264719, 0.680704, 0.265778, 0.240314, 0.371777, 0.571783, 0.659315, 0.163938, 0.387764  …  0.516052, 0.587327, 0.0729806, 0.586128, 0.962991, 0.675849, 0.806112, 0.0721002, 0.352715, 0.304008], Float32[0.452959, 0.126943, 0.43612, 0.749509, 0.736819, 0.83007, 0.965935, 0.963667, 0.0590758, 0.466277  …  0.303555, 0.70734, 0.407744, 0.331652, 0.519078, 0.387351, 0.602793, 0.929894, 0.581023, 0.861837])"
      ]
     },
     "execution_count": 9,
     "metadata": {},
     "output_type": "execute_result"
    }
   ],
   "source": [
    "\n",
    "struct ComplexAoS_T{T}\n",
    "  real::T\n",
    "  imag::T\n",
    "end\n",
    "struct ComplexSoA_T{T}\n",
    "  real::Vector{T}\n",
    "  imag::Vector{T}\n",
    "end\n",
    "\n",
    "N = 1000\n",
    "arrAoS = [ComplexAoS_T{Float32}(rand(),rand()) for i in 1:N]\n",
    "arrSoA = ComplexSoA_T{Float32}(rand(N),rand(N))"
   ]
  },
  {
   "cell_type": "code",
   "execution_count": 10,
   "metadata": {},
   "outputs": [
    {
     "data": {
      "text/plain": [
       "Float32"
      ]
     },
     "execution_count": 10,
     "metadata": {},
     "output_type": "execute_result"
    }
   ],
   "source": [
    "eltype(arrAoS[1].real)"
   ]
  },
  {
   "cell_type": "code",
   "execution_count": 11,
   "metadata": {},
   "outputs": [
    {
     "data": {
      "text/plain": [
       "ComplexAoS_T{Float32}"
      ]
     },
     "execution_count": 11,
     "metadata": {},
     "output_type": "execute_result"
    }
   ],
   "source": [
    "eltype(arrAoS)"
   ]
  },
  {
   "cell_type": "code",
   "execution_count": 12,
   "metadata": {
    "scrolled": false
   },
   "outputs": [
    {
     "data": {
      "text/plain": [
       "ComplexAoS_T{Float32}(0.36881328f0, 0.72662365f0)"
      ]
     },
     "execution_count": 12,
     "metadata": {},
     "output_type": "execute_result"
    }
   ],
   "source": [
    "arrAoS[1]"
   ]
  },
  {
   "cell_type": "code",
   "execution_count": 42,
   "metadata": {},
   "outputs": [
    {
     "data": {
      "text/plain": [
       "Float32"
      ]
     },
     "execution_count": 42,
     "metadata": {},
     "output_type": "execute_result"
    }
   ],
   "source": [
    "typeof(arrAoS[1].real)"
   ]
  },
  {
   "cell_type": "code",
   "execution_count": null,
   "metadata": {},
   "outputs": [],
   "source": []
  },
  {
   "cell_type": "code",
   "execution_count": 14,
   "metadata": {},
   "outputs": [
    {
     "data": {
      "text/plain": [
       "normAoS (generic function with 2 methods)"
      ]
     },
     "execution_count": 14,
     "metadata": {},
     "output_type": "execute_result"
    }
   ],
   "source": [
    "function normSoA(x::ComplexSoA_T)\n",
    "    out = zero(eltype(x.real))\n",
    "    for i in 1:length(x.real)\n",
    "        @inbounds out += sqrt(x.real[i]^2 + x.imag[i]^2)\n",
    "    end\n",
    "    return out\n",
    "end\n",
    "\n",
    "function normAoS(x::ComplexAoS_T)\n",
    "    out = zero(typeof(x[1].real))\n",
    "    for i in 1:length(x)\n",
    "       @inbounds out += sqrt(x[i].real^2 + x[i].imag^2)\n",
    "    end\n",
    "    return out\n",
    "end\n"
   ]
  },
  {
   "cell_type": "code",
   "execution_count": 15,
   "metadata": {},
   "outputs": [
    {
     "name": "stdout",
     "output_type": "stream",
     "text": [
      "  2.129 μs (0 allocations: 0 bytes)\n"
     ]
    }
   ],
   "source": [
    "@btime normSoA($arrSoA);"
   ]
  },
  {
   "cell_type": "code",
   "execution_count": 16,
   "metadata": {},
   "outputs": [
    {
     "name": "stdout",
     "output_type": "stream",
     "text": [
      "  2.280 μs (0 allocations: 0 bytes)\n"
     ]
    }
   ],
   "source": [
    "@btime normAoS($arrAoS);"
   ]
  },
  {
   "cell_type": "markdown",
   "metadata": {},
   "source": [
    "## Adding `@simd`\n",
    "\n",
    "Struct of Arrays are good when you want to SIMD across loop iterations.\n",
    "In this case it is straight forward to turn each access to `x.real[i]` and `x.imag[i]`  into a load of an entire SIMD vector of them, etc for each subsequent operation. This makes sense when your arrays  are of length bigger or equal to `SIMD_WIDTH{T}`.\n"
   ]
  },
  {
   "cell_type": "code",
   "execution_count": 60,
   "metadata": {},
   "outputs": [
    {
     "data": {
      "text/plain": [
       "ComplexSoA_T{Float32}(Float32[0.819406, 0.866079, 0.700487, 0.975528, 0.898571, 0.407571, 0.992901, 0.305007, 0.0740585, 0.361329  …  0.60909, 0.700431, 0.0809155, 0.163068, 0.354285, 0.496126, 0.749361, 0.221263, 0.415495, 0.0538045], Float32[0.585698, 0.921505, 0.501492, 0.383083, 0.975917, 0.758238, 0.661168, 0.0497383, 0.5924, 0.395759  …  0.504708, 0.536726, 0.81607, 0.645291, 0.882591, 0.00839603, 0.506446, 0.84836, 0.268614, 0.926723])"
      ]
     },
     "execution_count": 60,
     "metadata": {},
     "output_type": "execute_result"
    }
   ],
   "source": [
    "struct ComplexAoS_T{T}\n",
    "  real::T\n",
    "  imag::T\n",
    "end\n",
    "\n",
    "struct ComplexSoA_T{T}\n",
    "  real::Vector{T}\n",
    "  imag::Vector{T}\n",
    "end\n",
    "\n",
    "N = 1000\n",
    "arrAoS = [ComplexAoS_T{Float32}(rand(),rand()) for i in 1:N]\n",
    "arrSoA = ComplexSoA_T{Float32}(rand(N),rand(N))"
   ]
  },
  {
   "cell_type": "code",
   "execution_count": 114,
   "metadata": {
    "scrolled": true
   },
   "outputs": [
    {
     "data": {
      "text/plain": [
       "normAoS (generic function with 3 methods)"
      ]
     },
     "execution_count": 114,
     "metadata": {},
     "output_type": "execute_result"
    }
   ],
   "source": [
    "function normSoA(x::ComplexSoA_T)\n",
    "    out = zero(eltype(x.real))\n",
    "    @simd for i in 1:length(x.real)\n",
    "        @inbounds out += sqrt(x.real[i]^2 + x.imag[i]^2)\n",
    "    end\n",
    "    return out\n",
    "end\n",
    "\n",
    "function normAoS(x::Array{ComplexAoS_T})\n",
    "    out = zero(typeof(x[1].real))\n",
    "    @simd  for i in 1:length(x)\n",
    "       @inbounds out += sqrt(x[i].real^2 + x[i].imag^2)\n",
    "    end\n",
    "    return out\n",
    "end\n"
   ]
  },
  {
   "cell_type": "code",
   "execution_count": 115,
   "metadata": {},
   "outputs": [
    {
     "name": "stdout",
     "output_type": "stream",
     "text": [
      "  600.478 ns (0 allocations: 0 bytes)\n"
     ]
    }
   ],
   "source": [
    "@btime normSoA($arrSoA);"
   ]
  },
  {
   "cell_type": "code",
   "execution_count": 129,
   "metadata": {},
   "outputs": [
    {
     "name": "stdout",
     "output_type": "stream",
     "text": [
      "  2.280 μs (0 allocations: 0 bytes)\n"
     ]
    }
   ],
   "source": [
    "@btime normAoS($arrAoS);"
   ]
  },
  {
   "cell_type": "markdown",
   "metadata": {},
   "source": [
    "## Another version"
   ]
  },
  {
   "cell_type": "code",
   "execution_count": 109,
   "metadata": {},
   "outputs": [
    {
     "data": {
      "text/plain": [
       "normAoS_vec (generic function with 1 method)"
      ]
     },
     "execution_count": 109,
     "metadata": {},
     "output_type": "execute_result"
    }
   ],
   "source": [
    "function normAoS_vec(x)\n",
    "    out = zero(typeof(x[1].real))\n",
    "    \n",
    "    @simd  for i in 1:length(x)\n",
    "       @inbounds out +=   sqrt(x[i].real^2 + x[i].imag^2)\n",
    "    end\n",
    "    return out\n",
    "end"
   ]
  },
  {
   "cell_type": "code",
   "execution_count": 110,
   "metadata": {},
   "outputs": [
    {
     "data": {
      "text/plain": [
       "749.87445f0"
      ]
     },
     "execution_count": 110,
     "metadata": {},
     "output_type": "execute_result"
    }
   ],
   "source": [
    "normAoS_muladd(arrAoS)"
   ]
  },
  {
   "cell_type": "code",
   "execution_count": 111,
   "metadata": {},
   "outputs": [
    {
     "data": {
      "text/plain": [
       "749.8745259158313"
      ]
     },
     "execution_count": 111,
     "metadata": {},
     "output_type": "execute_result"
    }
   ],
   "source": [
    "normAoS(arrAoS)"
   ]
  },
  {
   "cell_type": "code",
   "execution_count": 113,
   "metadata": {},
   "outputs": [
    {
     "name": "stdout",
     "output_type": "stream",
     "text": [
      "  2.140 μs (0 allocations: 0 bytes)\n"
     ]
    }
   ],
   "source": [
    "@btime  normAoS_vec($arrAoS);"
   ]
  },
  {
   "cell_type": "code",
   "execution_count": null,
   "metadata": {},
   "outputs": [],
   "source": []
  },
  {
   "cell_type": "code",
   "execution_count": null,
   "metadata": {},
   "outputs": [],
   "source": []
  },
  {
   "cell_type": "code",
   "execution_count": null,
   "metadata": {},
   "outputs": [],
   "source": []
  },
  {
   "cell_type": "code",
   "execution_count": null,
   "metadata": {},
   "outputs": [],
   "source": []
  }
 ],
 "metadata": {
  "kernelspec": {
   "display_name": "Julia 1.1.0",
   "language": "julia",
   "name": "julia-1.1"
  },
  "language_info": {
   "file_extension": ".jl",
   "mimetype": "application/julia",
   "name": "julia",
   "version": "1.1.0"
  },
  "toc": {
   "base_numbering": 1,
   "nav_menu": {},
   "number_sections": true,
   "sideBar": true,
   "skip_h1_title": false,
   "title_cell": "Table of Contents",
   "title_sidebar": "Contents",
   "toc_cell": true,
   "toc_position": {},
   "toc_section_display": true,
   "toc_window_display": false
  }
 },
 "nbformat": 4,
 "nbformat_minor": 2
}
