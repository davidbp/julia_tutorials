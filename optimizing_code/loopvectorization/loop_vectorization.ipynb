{
 "cells": [
  {
   "cell_type": "code",
   "execution_count": 7,
   "id": "dc9675d9",
   "metadata": {
    "ExecuteTime": {
     "end_time": "2022-07-18T22:48:05.020000+02:00",
     "start_time": "2022-07-18T20:48:05.018Z"
    }
   },
   "outputs": [],
   "source": [
    "using LoopVectorization, BenchmarkTools\n"
   ]
  },
  {
   "cell_type": "markdown",
   "id": "9b6dbe3f",
   "metadata": {},
   "source": [
    "For simple loops like a dot product, LoopVectorization.jl's most important optimization is to handle these tails more efficiently:\n",
    "\n"
   ]
  },
  {
   "cell_type": "code",
   "execution_count": 8,
   "id": "b06c478c",
   "metadata": {
    "ExecuteTime": {
     "end_time": "2022-07-18T22:48:07.260000+02:00",
     "start_time": "2022-07-18T20:48:07.245Z"
    }
   },
   "outputs": [],
   "source": [
    "\n",
    "function mydot(a, b)\n",
    "          s = 0.0\n",
    "          @inbounds @simd for i ∈ eachindex(a,b)\n",
    "              s += a[i]*b[i]\n",
    "          end\n",
    "          s\n",
    "      end\n",
    "\n",
    "function mydotavx(a, b)\n",
    "          s = 0.0\n",
    "          @turbo for i ∈ eachindex(a,b)\n",
    "              s += a[i]*b[i]\n",
    "          end\n",
    "          s\n",
    "      end\n",
    "\n",
    "a = rand(256); b = rand(256);"
   ]
  },
  {
   "cell_type": "code",
   "execution_count": 4,
   "id": "fe30ea5b",
   "metadata": {
    "ExecuteTime": {
     "end_time": "2022-07-18T22:47:34.252000+02:00",
     "start_time": "2022-07-18T20:47:19.390Z"
    }
   },
   "outputs": [
    {
     "name": "stdout",
     "output_type": "stream",
     "text": [
      "  23.249 ns (0 allocations: 0 bytes)\n",
      "  16.429 ns (0 allocations: 0 bytes)\n"
     ]
    },
    {
     "data": {
      "text/plain": [
       "58.46030998684942"
      ]
     },
     "execution_count": 4,
     "metadata": {},
     "output_type": "execute_result"
    }
   ],
   "source": [
    "\n",
    "@btime mydot($a, $b)\n",
    "\n",
    "@btime mydotavx($a, $b) # performance is similar\n"
   ]
  },
  {
   "cell_type": "code",
   "execution_count": 5,
   "id": "b2792ff8",
   "metadata": {
    "ExecuteTime": {
     "end_time": "2022-07-18T22:47:36.443000+02:00",
     "start_time": "2022-07-18T20:47:25.945Z"
    }
   },
   "outputs": [
    {
     "name": "stdout",
     "output_type": "stream",
     "text": [
      "  34.661 ns (0 allocations: 0 bytes)\n",
      "  14.999 ns (0 allocations: 0 bytes)\n"
     ]
    },
    {
     "data": {
      "text/plain": [
       "71.31644264039625"
      ]
     },
     "execution_count": 5,
     "metadata": {},
     "output_type": "execute_result"
    }
   ],
   "source": [
    "\n",
    "a = rand(255); b = rand(255);\n",
    "\n",
    "@btime mydot($a, $b) # with loops shorter by 1, the remainder is now 32, and it is slow\n",
    "\n",
    "@btime mydotavx($a, $b) # performance remains mostly unchanged.\n"
   ]
  },
  {
   "cell_type": "markdown",
   "id": "e7701db2",
   "metadata": {},
   "source": [
    "Fancier loops can be optimized"
   ]
  },
  {
   "cell_type": "code",
   "execution_count": 9,
   "id": "b3f8d2d3",
   "metadata": {
    "ExecuteTime": {
     "end_time": "2022-07-18T22:48:51.376000+02:00",
     "start_time": "2022-07-18T20:48:50.852Z"
    }
   },
   "outputs": [
    {
     "data": {
      "text/plain": [
       "mygemm! (generic function with 1 method)"
      ]
     },
     "execution_count": 9,
     "metadata": {},
     "output_type": "execute_result"
    }
   ],
   "source": [
    "function mygemm!(C, A, B)\n",
    "           @inbounds @fastmath for m ∈ axes(A,1), n ∈ axes(B,2)\n",
    "               Cmn = zero(eltype(C))\n",
    "               for k ∈ axes(A,2)\n",
    "                   Cmn += A[m,k] * B[k,n]\n",
    "               end\n",
    "               C[m,n] = Cmn\n",
    "           end\n",
    "       end"
   ]
  },
  {
   "cell_type": "code",
   "execution_count": 10,
   "id": "0bf13813",
   "metadata": {
    "ExecuteTime": {
     "end_time": "2022-07-18T22:48:57.012000+02:00",
     "start_time": "2022-07-18T20:48:56.626Z"
    }
   },
   "outputs": [
    {
     "data": {
      "text/plain": [
       "mygemmavx! (generic function with 1 method)"
      ]
     },
     "execution_count": 10,
     "metadata": {},
     "output_type": "execute_result"
    }
   ],
   "source": [
    "function mygemmavx!(C, A, B)\n",
    "           @turbo for m ∈ axes(A,1), n ∈ axes(B,2)\n",
    "               Cmn = zero(eltype(C))\n",
    "               for k ∈ axes(A,2)\n",
    "                   Cmn += A[m,k] * B[k,n]\n",
    "               end\n",
    "               C[m,n] = Cmn\n",
    "           end\n",
    "       end"
   ]
  },
  {
   "cell_type": "code",
   "execution_count": 11,
   "id": "6214cbcf",
   "metadata": {
    "ExecuteTime": {
     "end_time": "2022-07-18T22:49:02.482000+02:00",
     "start_time": "2022-07-18T20:49:02.479Z"
    }
   },
   "outputs": [],
   "source": [
    "M, K, N = 191, 189, 171;"
   ]
  },
  {
   "cell_type": "code",
   "execution_count": 15,
   "id": "507caf3a",
   "metadata": {
    "ExecuteTime": {
     "end_time": "2022-07-18T22:49:43.385000+02:00",
     "start_time": "2022-07-18T20:49:43.376Z"
    }
   },
   "outputs": [],
   "source": [
    "C1 = Matrix{Float64}(undef, M, N);\n",
    "C2 = similar(C1); \n",
    "C3 = similar(C1);\n",
    "A = randn(M, K); \n",
    "B = randn(K, N);"
   ]
  },
  {
   "cell_type": "code",
   "execution_count": 16,
   "id": "49e088a7",
   "metadata": {
    "ExecuteTime": {
     "end_time": "2022-07-18T22:49:52.558000+02:00",
     "start_time": "2022-07-18T20:49:44.112Z"
    }
   },
   "outputs": [
    {
     "data": {
      "text/plain": [
       "BenchmarkTools.Trial: 10000 samples with 1 evaluation.\n",
       " Range \u001b[90m(\u001b[39m\u001b[36m\u001b[1mmin\u001b[22m\u001b[39m … \u001b[35mmax\u001b[39m\u001b[90m):  \u001b[39m\u001b[36m\u001b[1m237.173 μs\u001b[22m\u001b[39m … \u001b[35m 1.550 ms\u001b[39m  \u001b[90m┊\u001b[39m GC \u001b[90m(\u001b[39mmin … max\u001b[90m): \u001b[39m0.00% … 0.00%\n",
       " Time  \u001b[90m(\u001b[39m\u001b[34m\u001b[1mmedian\u001b[22m\u001b[39m\u001b[90m):     \u001b[39m\u001b[34m\u001b[1m240.360 μs              \u001b[22m\u001b[39m\u001b[90m┊\u001b[39m GC \u001b[90m(\u001b[39mmedian\u001b[90m):    \u001b[39m0.00%\n",
       " Time  \u001b[90m(\u001b[39m\u001b[32m\u001b[1mmean\u001b[22m\u001b[39m ± \u001b[32mσ\u001b[39m\u001b[90m):   \u001b[39m\u001b[32m\u001b[1m251.788 μs\u001b[22m\u001b[39m ± \u001b[32m34.283 μs\u001b[39m  \u001b[90m┊\u001b[39m GC \u001b[90m(\u001b[39mmean ± σ\u001b[90m):  \u001b[39m0.00% ± 0.00%\n",
       "\n",
       "  \u001b[39m█\u001b[34m▆\u001b[39m\u001b[39m▄\u001b[39m▄\u001b[39m▄\u001b[39m▃\u001b[32m▂\u001b[39m\u001b[39m▁\u001b[39m▁\u001b[39m▁\u001b[39m▁\u001b[39m▁\u001b[39m▁\u001b[39m▁\u001b[39m▁\u001b[39m▁\u001b[39m \u001b[39m \u001b[39m \u001b[39m \u001b[39m \u001b[39m \u001b[39m \u001b[39m \u001b[39m \u001b[39m \u001b[39m \u001b[39m \u001b[39m \u001b[39m \u001b[39m \u001b[39m \u001b[39m \u001b[39m \u001b[39m \u001b[39m \u001b[39m \u001b[39m \u001b[39m \u001b[39m \u001b[39m \u001b[39m \u001b[39m \u001b[39m \u001b[39m \u001b[39m \u001b[39m \u001b[39m \u001b[39m \u001b[39m \u001b[39m \u001b[39m \u001b[39m \u001b[39m \u001b[39m \u001b[39m \u001b[39m \u001b[39m \u001b[39m \u001b[39m \u001b[39m \u001b[39m▁\n",
       "  \u001b[39m█\u001b[34m█\u001b[39m\u001b[39m█\u001b[39m█\u001b[39m█\u001b[39m█\u001b[32m█\u001b[39m\u001b[39m█\u001b[39m█\u001b[39m█\u001b[39m█\u001b[39m█\u001b[39m█\u001b[39m█\u001b[39m█\u001b[39m█\u001b[39m█\u001b[39m█\u001b[39m█\u001b[39m▇\u001b[39m▇\u001b[39m▇\u001b[39m█\u001b[39m▇\u001b[39m▇\u001b[39m▇\u001b[39m▇\u001b[39m▇\u001b[39m▇\u001b[39m▇\u001b[39m▇\u001b[39m▇\u001b[39m▇\u001b[39m▆\u001b[39m▆\u001b[39m▇\u001b[39m▆\u001b[39m▇\u001b[39m▆\u001b[39m▆\u001b[39m▆\u001b[39m▆\u001b[39m▆\u001b[39m▆\u001b[39m▆\u001b[39m▅\u001b[39m▆\u001b[39m▅\u001b[39m▅\u001b[39m▅\u001b[39m▅\u001b[39m▅\u001b[39m▆\u001b[39m▄\u001b[39m▄\u001b[39m▅\u001b[39m▅\u001b[39m▄\u001b[39m▅\u001b[39m▅\u001b[39m \u001b[39m█\n",
       "  237 μs\u001b[90m        \u001b[39m\u001b[90mHistogram: \u001b[39m\u001b[90m\u001b[1mlog(\u001b[22m\u001b[39m\u001b[90mfrequency\u001b[39m\u001b[90m\u001b[1m)\u001b[22m\u001b[39m\u001b[90m by time\u001b[39m       389 μs \u001b[0m\u001b[1m<\u001b[22m\n",
       "\n",
       " Memory estimate\u001b[90m: \u001b[39m\u001b[33m0 bytes\u001b[39m, allocs estimate\u001b[90m: \u001b[39m\u001b[33m0\u001b[39m."
      ]
     },
     "execution_count": 16,
     "metadata": {},
     "output_type": "execute_result"
    }
   ],
   "source": [
    "@benchmark mygemmavx!($C1, $A, $B)"
   ]
  },
  {
   "cell_type": "code",
   "execution_count": 17,
   "id": "8235ae36",
   "metadata": {
    "ExecuteTime": {
     "end_time": "2022-07-18T22:50:03.768000+02:00",
     "start_time": "2022-07-18T20:49:44.633Z"
    }
   },
   "outputs": [
    {
     "data": {
      "text/plain": [
       "BenchmarkTools.Trial: 765 samples with 1 evaluation.\n",
       " Range \u001b[90m(\u001b[39m\u001b[36m\u001b[1mmin\u001b[22m\u001b[39m … \u001b[35mmax\u001b[39m\u001b[90m):  \u001b[39m\u001b[36m\u001b[1m5.891 ms\u001b[22m\u001b[39m … \u001b[35m 17.351 ms\u001b[39m  \u001b[90m┊\u001b[39m GC \u001b[90m(\u001b[39mmin … max\u001b[90m): \u001b[39m0.00% … 0.00%\n",
       " Time  \u001b[90m(\u001b[39m\u001b[34m\u001b[1mmedian\u001b[22m\u001b[39m\u001b[90m):     \u001b[39m\u001b[34m\u001b[1m6.402 ms               \u001b[22m\u001b[39m\u001b[90m┊\u001b[39m GC \u001b[90m(\u001b[39mmedian\u001b[90m):    \u001b[39m0.00%\n",
       " Time  \u001b[90m(\u001b[39m\u001b[32m\u001b[1mmean\u001b[22m\u001b[39m ± \u001b[32mσ\u001b[39m\u001b[90m):   \u001b[39m\u001b[32m\u001b[1m6.518 ms\u001b[22m\u001b[39m ± \u001b[32m665.667 μs\u001b[39m  \u001b[90m┊\u001b[39m GC \u001b[90m(\u001b[39mmean ± σ\u001b[90m):  \u001b[39m0.00% ± 0.00%\n",
       "\n",
       "  \u001b[39m \u001b[39m▁\u001b[39m▁\u001b[39m▄\u001b[39m█\u001b[39m▄\u001b[39m▂\u001b[39m▃\u001b[39m▂\u001b[39m▁\u001b[34m▅\u001b[39m\u001b[39m▂\u001b[32m▁\u001b[39m\u001b[39m▁\u001b[39m▁\u001b[39m▁\u001b[39m \u001b[39m \u001b[39m \u001b[39m \u001b[39m \u001b[39m \u001b[39m \u001b[39m \u001b[39m \u001b[39m \u001b[39m \u001b[39m \u001b[39m \u001b[39m \u001b[39m \u001b[39m \u001b[39m \u001b[39m \u001b[39m \u001b[39m \u001b[39m \u001b[39m \u001b[39m \u001b[39m \u001b[39m \u001b[39m \u001b[39m \u001b[39m \u001b[39m \u001b[39m \u001b[39m \u001b[39m \u001b[39m \u001b[39m \u001b[39m \u001b[39m \u001b[39m \u001b[39m \u001b[39m \u001b[39m \u001b[39m \u001b[39m \u001b[39m \u001b[39m \u001b[39m \n",
       "  \u001b[39m▇\u001b[39m█\u001b[39m█\u001b[39m█\u001b[39m█\u001b[39m█\u001b[39m█\u001b[39m█\u001b[39m█\u001b[39m█\u001b[34m█\u001b[39m\u001b[39m█\u001b[32m█\u001b[39m\u001b[39m█\u001b[39m█\u001b[39m█\u001b[39m█\u001b[39m▅\u001b[39m▇\u001b[39m▅\u001b[39m▄\u001b[39m▃\u001b[39m▃\u001b[39m▄\u001b[39m▃\u001b[39m▄\u001b[39m▃\u001b[39m▃\u001b[39m▃\u001b[39m▃\u001b[39m▂\u001b[39m▂\u001b[39m▁\u001b[39m▃\u001b[39m▃\u001b[39m▁\u001b[39m▂\u001b[39m▁\u001b[39m▂\u001b[39m▂\u001b[39m▁\u001b[39m▂\u001b[39m▁\u001b[39m▂\u001b[39m▂\u001b[39m▂\u001b[39m▃\u001b[39m▁\u001b[39m▂\u001b[39m▁\u001b[39m▁\u001b[39m▂\u001b[39m▂\u001b[39m▁\u001b[39m▁\u001b[39m▁\u001b[39m▁\u001b[39m▁\u001b[39m▂\u001b[39m \u001b[39m▄\n",
       "  5.89 ms\u001b[90m         Histogram: frequency by time\u001b[39m        8.95 ms \u001b[0m\u001b[1m<\u001b[22m\n",
       "\n",
       " Memory estimate\u001b[90m: \u001b[39m\u001b[33m0 bytes\u001b[39m, allocs estimate\u001b[90m: \u001b[39m\u001b[33m0\u001b[39m."
      ]
     },
     "execution_count": 17,
     "metadata": {},
     "output_type": "execute_result"
    }
   ],
   "source": [
    "@benchmark mygemm!($C2, $A, $B)"
   ]
  },
  {
   "cell_type": "code",
   "execution_count": 18,
   "id": "e2b6a610",
   "metadata": {
    "ExecuteTime": {
     "end_time": "2022-07-18T22:50:03.775000+02:00",
     "start_time": "2022-07-18T20:49:57.301Z"
    }
   },
   "outputs": [],
   "source": [
    "using LinearAlgebra, Test\n"
   ]
  },
  {
   "cell_type": "code",
   "execution_count": 19,
   "id": "87e0891f",
   "metadata": {
    "ExecuteTime": {
     "end_time": "2022-07-18T22:50:04.725000+02:00",
     "start_time": "2022-07-18T20:50:02.346Z"
    }
   },
   "outputs": [
    {
     "data": {
      "text/plain": [
       "\u001b[32m\u001b[1mTest Passed\u001b[22m\u001b[39m\n",
       "  Expression: all(C1 .≈ C2)"
      ]
     },
     "execution_count": 19,
     "metadata": {},
     "output_type": "execute_result"
    }
   ],
   "source": [
    " @test all(C1 .≈ C2)"
   ]
  },
  {
   "cell_type": "code",
   "execution_count": 21,
   "id": "c25873c2",
   "metadata": {
    "ExecuteTime": {
     "end_time": "2022-07-18T22:50:15.996000+02:00",
     "start_time": "2022-07-18T20:50:15.550Z"
    }
   },
   "outputs": [
    {
     "data": {
      "text/plain": [
       "LinearAlgebra.BLAS.LBTConfig\n",
       "Libraries: \n",
       "└ [ILP64] libopenblas64_.dylib"
      ]
     },
     "execution_count": 21,
     "metadata": {},
     "output_type": "execute_result"
    }
   ],
   "source": [
    "BLAS.set_num_threads(1); BLAS.get_config()"
   ]
  },
  {
   "cell_type": "code",
   "execution_count": 22,
   "id": "dff5cb03",
   "metadata": {
    "ExecuteTime": {
     "end_time": "2022-07-18T22:50:34.098000+02:00",
     "start_time": "2022-07-18T20:50:23.996Z"
    }
   },
   "outputs": [
    {
     "data": {
      "text/plain": [
       "BenchmarkTools.Trial: 10000 samples with 1 evaluation.\n",
       " Range \u001b[90m(\u001b[39m\u001b[36m\u001b[1mmin\u001b[22m\u001b[39m … \u001b[35mmax\u001b[39m\u001b[90m):  \u001b[39m\u001b[36m\u001b[1m298.538 μs\u001b[22m\u001b[39m … \u001b[35m737.886 μs\u001b[39m  \u001b[90m┊\u001b[39m GC \u001b[90m(\u001b[39mmin … max\u001b[90m): \u001b[39m0.00% … 0.00%\n",
       " Time  \u001b[90m(\u001b[39m\u001b[34m\u001b[1mmedian\u001b[22m\u001b[39m\u001b[90m):     \u001b[39m\u001b[34m\u001b[1m306.343 μs               \u001b[22m\u001b[39m\u001b[90m┊\u001b[39m GC \u001b[90m(\u001b[39mmedian\u001b[90m):    \u001b[39m0.00%\n",
       " Time  \u001b[90m(\u001b[39m\u001b[32m\u001b[1mmean\u001b[22m\u001b[39m ± \u001b[32mσ\u001b[39m\u001b[90m):   \u001b[39m\u001b[32m\u001b[1m327.389 μs\u001b[22m\u001b[39m ± \u001b[32m 43.791 μs\u001b[39m  \u001b[90m┊\u001b[39m GC \u001b[90m(\u001b[39mmean ± σ\u001b[90m):  \u001b[39m0.00% ± 0.00%\n",
       "\n",
       "  \u001b[39m█\u001b[39m▅\u001b[34m▅\u001b[39m\u001b[39m▄\u001b[39m▃\u001b[39m▃\u001b[39m▃\u001b[39m▃\u001b[39m▃\u001b[32m▃\u001b[39m\u001b[39m▃\u001b[39m▂\u001b[39m▂\u001b[39m▂\u001b[39m▂\u001b[39m▂\u001b[39m▂\u001b[39m▂\u001b[39m▂\u001b[39m▁\u001b[39m▂\u001b[39m▁\u001b[39m▁\u001b[39m▁\u001b[39m▁\u001b[39m▁\u001b[39m▁\u001b[39m▁\u001b[39m▁\u001b[39m \u001b[39m \u001b[39m \u001b[39m \u001b[39m \u001b[39m \u001b[39m \u001b[39m \u001b[39m \u001b[39m \u001b[39m \u001b[39m \u001b[39m \u001b[39m \u001b[39m \u001b[39m \u001b[39m \u001b[39m \u001b[39m \u001b[39m \u001b[39m \u001b[39m \u001b[39m \u001b[39m \u001b[39m \u001b[39m \u001b[39m \u001b[39m \u001b[39m \u001b[39m \u001b[39m \u001b[39m \u001b[39m \u001b[39m▁\n",
       "  \u001b[39m█\u001b[39m█\u001b[34m█\u001b[39m\u001b[39m█\u001b[39m█\u001b[39m█\u001b[39m█\u001b[39m█\u001b[39m█\u001b[32m█\u001b[39m\u001b[39m█\u001b[39m█\u001b[39m█\u001b[39m█\u001b[39m█\u001b[39m█\u001b[39m█\u001b[39m█\u001b[39m█\u001b[39m█\u001b[39m█\u001b[39m█\u001b[39m█\u001b[39m█\u001b[39m█\u001b[39m█\u001b[39m█\u001b[39m█\u001b[39m█\u001b[39m█\u001b[39m█\u001b[39m█\u001b[39m█\u001b[39m█\u001b[39m█\u001b[39m█\u001b[39m█\u001b[39m▇\u001b[39m▇\u001b[39m▇\u001b[39m▇\u001b[39m▇\u001b[39m▇\u001b[39m▇\u001b[39m▇\u001b[39m▇\u001b[39m▆\u001b[39m▆\u001b[39m▆\u001b[39m▆\u001b[39m▅\u001b[39m▆\u001b[39m▆\u001b[39m▆\u001b[39m▅\u001b[39m▆\u001b[39m▆\u001b[39m▄\u001b[39m▅\u001b[39m▅\u001b[39m▆\u001b[39m \u001b[39m█\n",
       "  299 μs\u001b[90m        \u001b[39m\u001b[90mHistogram: \u001b[39m\u001b[90m\u001b[1mlog(\u001b[22m\u001b[39m\u001b[90mfrequency\u001b[39m\u001b[90m\u001b[1m)\u001b[22m\u001b[39m\u001b[90m by time\u001b[39m        495 μs \u001b[0m\u001b[1m<\u001b[22m\n",
       "\n",
       " Memory estimate\u001b[90m: \u001b[39m\u001b[33m0 bytes\u001b[39m, allocs estimate\u001b[90m: \u001b[39m\u001b[33m0\u001b[39m."
      ]
     },
     "execution_count": 22,
     "metadata": {},
     "output_type": "execute_result"
    }
   ],
   "source": [
    "@benchmark mul!($C3, $A, $B)"
   ]
  },
  {
   "cell_type": "code",
   "execution_count": 23,
   "id": "51ff4018",
   "metadata": {
    "ExecuteTime": {
     "end_time": "2022-07-18T22:50:34.100000+02:00",
     "start_time": "2022-07-18T20:50:28.714Z"
    }
   },
   "outputs": [
    {
     "data": {
      "text/plain": [
       "\u001b[32m\u001b[1mTest Passed\u001b[22m\u001b[39m\n",
       "  Expression: all(C1 .≈ C3)"
      ]
     },
     "execution_count": 23,
     "metadata": {},
     "output_type": "execute_result"
    }
   ],
   "source": [
    "@test all(C1 .≈ C3)"
   ]
  },
  {
   "cell_type": "code",
   "execution_count": null,
   "id": "6d1d57f6",
   "metadata": {},
   "outputs": [],
   "source": []
  }
 ],
 "metadata": {
  "kernelspec": {
   "display_name": "Julia 1.7.0-beta2",
   "language": "julia",
   "name": "julia-1.7"
  },
  "language_info": {
   "file_extension": ".jl",
   "mimetype": "application/julia",
   "name": "julia",
   "version": "1.7.0"
  },
  "toc": {
   "base_numbering": 1,
   "nav_menu": {},
   "number_sections": true,
   "sideBar": true,
   "skip_h1_title": false,
   "title_cell": "Table of Contents",
   "title_sidebar": "Contents",
   "toc_cell": false,
   "toc_position": {},
   "toc_section_display": true,
   "toc_window_display": false
  }
 },
 "nbformat": 4,
 "nbformat_minor": 5
}
