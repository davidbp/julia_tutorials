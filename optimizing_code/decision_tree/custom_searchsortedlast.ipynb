{
 "cells": [
  {
   "cell_type": "code",
   "execution_count": 1,
   "id": "916c8f38",
   "metadata": {},
   "outputs": [],
   "source": [
    "using Random\n",
    "using StatsBase: sample, quantile\n",
    "using BenchmarkTools"
   ]
  },
  {
   "cell_type": "code",
   "execution_count": 2,
   "id": "a156c24a",
   "metadata": {
    "scrolled": true
   },
   "outputs": [
    {
     "data": {
      "text/plain": [
       "get_edges (generic function with 2 methods)"
      ]
     },
     "execution_count": 2,
     "metadata": {},
     "output_type": "execute_result"
    }
   ],
   "source": [
    "function get_edges(X::AbstractMatrix{T}, nbins, rng = Random.MersenneTwister()) where {T}\n",
    "    nobs = min(size(X, 1), 1000 * nbins)\n",
    "    obs = rand(rng, 1:size(X, 1), nobs)\n",
    "    edges = Vector{Vector{T}}(undef, size(X, 2))\n",
    "    for i = 1:size(X, 2)\n",
    "        edges[i] = quantile(view(X, obs, i), (1:nbins) / nbins)\n",
    "        if length(edges[i]) == 0\n",
    "            edges[i] = [minimum(view(X, obs, i))]\n",
    "        end\n",
    "    end\n",
    "    return edges\n",
    "end"
   ]
  },
  {
   "cell_type": "markdown",
   "id": "7491fe36",
   "metadata": {},
   "source": [
    "Let us create a dataset containing as rows examples and as columns features"
   ]
  },
  {
   "cell_type": "code",
   "execution_count": 3,
   "id": "a512b194",
   "metadata": {},
   "outputs": [],
   "source": [
    "n_obs = 1_000_000\n",
    "n_feat = 128\n",
    "\n",
    "X = Random.rand(Float32,(n_obs, n_feat));"
   ]
  },
  {
   "cell_type": "markdown",
   "id": "e5e00472",
   "metadata": {},
   "source": [
    "Note that we the function that creates the edges of the histogram does the following:\n",
    "\n",
    "- For each feature (`i` index) it takes `nobs` observations where the indices of those observations are shared across features. Then it uses `quantile` to get the `nbins` bins. \n",
    "\n",
    "Let us see how this is done for feature `i`."
   ]
  },
  {
   "cell_type": "code",
   "execution_count": 4,
   "id": "61461a23",
   "metadata": {},
   "outputs": [
    {
     "data": {
      "text/plain": [
       "64-element Vector{Float64}:\n",
       " 0.015942998230457306\n",
       " 0.03193836845457554\n",
       " 0.04804190155118704\n",
       " 0.06415528431534767\n",
       " 0.07991458475589752\n",
       " 0.0956811960786581\n",
       " 0.1104482663795352\n",
       " 0.1259417086839676\n",
       " 0.14037126395851374\n",
       " 0.155155211687088\n",
       " 0.17153337504714727\n",
       " 0.1877315305173397\n",
       " 0.2034794483333826\n",
       " ⋮\n",
       " 0.8292878717184067\n",
       " 0.8454529084265232\n",
       " 0.8618549490347505\n",
       " 0.8770863637328148\n",
       " 0.8922181064262986\n",
       " 0.9079647399485111\n",
       " 0.9230346521362662\n",
       " 0.9396149516105652\n",
       " 0.9547119196504354\n",
       " 0.9699439462274313\n",
       " 0.9846006790176034\n",
       " 0.9999920725822449"
      ]
     },
     "execution_count": 4,
     "metadata": {},
     "output_type": "execute_result"
    }
   ],
   "source": [
    "i = 1\n",
    "rng = Random.MersenneTwister()\n",
    "nbins = 64\n",
    "nobs = min(size(X, 1), 1000 * nbins)\n",
    "obs = rand(rng, 1:size(X, 1), nobs);\n",
    "edges = quantile(view(X, obs, i), (1:nbins) / nbins)"
   ]
  },
  {
   "cell_type": "markdown",
   "id": "53d0effe",
   "metadata": {},
   "source": [
    "The reader can note that, if the number of features is fixed, the cost of `get_edges` does not increase with more data (after a minimum threshold). This happens because the number of observations used in the function is cut at `1000 * nbins`. \n",
    "\n",
    "```\n",
    "nobs = min(size(X, 1), 1000 * nbins)\n",
    "```\n",
    "\n",
    "So unless the dataset is quite small, the computation cost will not scale after reaching `1000 * nbins` examples in the training data.\n"
   ]
  },
  {
   "cell_type": "code",
   "execution_count": 5,
   "id": "d964f7ea",
   "metadata": {},
   "outputs": [
    {
     "name": "stdout",
     "output_type": "stream",
     "text": [
      "Observations used with X with 10000 data points is 10000\n",
      "Observations used with X with 100000 data points is 64000\n",
      "Observations used with X with 1000000 data points is 64000\n"
     ]
    }
   ],
   "source": [
    "n_obs = 10_000\n",
    "X = Random.rand(Float32,(n_obs, n_feat));\n",
    "nobs = min(size(X, 1), 1000 * nbins)\n",
    "println(\"Observations used with X with $n_obs data points is $nobs\")\n",
    "\n",
    "n_obs = 100_000\n",
    "X = Random.rand(Float32,(n_obs, n_feat));\n",
    "nobs = min(size(X, 1), 1000 * nbins)\n",
    "println(\"Observations used with X with $n_obs data points is $nobs\")\n",
    "\n",
    "n_obs = 1000_000\n",
    "X = Random.rand(Float32,(n_obs, n_feat));\n",
    "nobs = min(size(X, 1), 1000 * nbins)\n",
    "println(\"Observations used with X with $n_obs data points is $nobs\")"
   ]
  },
  {
   "cell_type": "markdown",
   "id": "ffa0ee1a",
   "metadata": {},
   "source": [
    "## Feature quantization \n",
    "\n",
    "Once the edges for each feature are found then the data in X can be quantized or discretized. "
   ]
  },
  {
   "cell_type": "code",
   "execution_count": 6,
   "id": "ff3ed0dd",
   "metadata": {
    "scrolled": true
   },
   "outputs": [
    {
     "data": {
      "text/plain": [
       "binarize2 (generic function with 1 method)"
      ]
     },
     "execution_count": 6,
     "metadata": {},
     "output_type": "execute_result"
    }
   ],
   "source": [
    "function binarize(X, edges)\n",
    "    x_bin = zeros(UInt8, size(X))\n",
    "    for i = 1:size(X, 2)\n",
    "        # Why is here ommited the last bin?\n",
    "        @inbounds x_bin[:, i] .=\n",
    "            searchsortedlast.(Ref(edges[i][1:end-1]), view(X, :, i)) .+ 1\n",
    "    end\n",
    "    return x_bin\n",
    "end\n",
    "\n",
    "function binarize2(X, edges)\n",
    "    n_examples, n_features = size(X)\n",
    "    x_bin = zeros(UInt8, (n_examples, n_features))\n",
    "    @inbounds for j = 1:n_features\n",
    "        edge_view = view(edges[j], 1:length(edges[j]) -1)\n",
    "        for n in 1:n_examples\n",
    "            x_bin[n, j] = searchsortedlast(edge_view, X[n, j]) + 1\n",
    "        end\n",
    "    end\n",
    "    return x_bin\n",
    "end"
   ]
  },
  {
   "cell_type": "markdown",
   "id": "e7485dc5",
   "metadata": {},
   "source": [
    "#### Understanding **`searchsortedlast`** method\n",
    "\n",
    "This method returns the index of the last value in `thresholds` that is less than or equal to the input, according to the specified order.\n"
   ]
  },
  {
   "cell_type": "code",
   "execution_count": 7,
   "id": "092121f6",
   "metadata": {},
   "outputs": [
    {
     "name": "stdout",
     "output_type": "stream",
     "text": [
      "searchsortedlast(thresholds, 0.07) = 0\n",
      "searchsortedlast(thresholds, 0.12) = 1\n",
      "searchsortedlast(thresholds, 0.2) = 2\n",
      "searchsortedlast(thresholds, 0.96) = 9\n"
     ]
    },
    {
     "ename": "LoadError",
     "evalue": "UndefVarError: custom_searchsortedlast not defined",
     "output_type": "error",
     "traceback": [
      "UndefVarError: custom_searchsortedlast not defined",
      "",
      "Stacktrace:",
      " [1] top-level scope",
      "   @ show.jl:1047",
      " [2] eval",
      "   @ ./boot.jl:368 [inlined]",
      " [3] include_string(mapexpr::typeof(REPL.softscope), mod::Module, code::String, filename::String)",
      "   @ Base ./loading.jl:1428"
     ]
    }
   ],
   "source": [
    "thresholds = [x for x in (1:10)/10]\n",
    "# returns 0 because 0.07 is < than threshold[1] \n",
    "@show searchsortedlast(thresholds, 0.07) \n",
    "\n",
    "# returns 1 because 0.12 is >= than threshold[1] but lower than threshold[2]\n",
    "@show searchsortedlast(thresholds, 0.12) \n",
    "\n",
    "# returns 2 because 0.2 is >= than threshold[2] but lower than threshold[1]\n",
    "@show searchsortedlast(thresholds, 0.2) \n",
    "\n",
    "\n",
    "# returns 2 because 0.2 is >= than threshold[2] but lower than threshold[1]\n",
    "@show searchsortedlast(thresholds, 0.96) \n",
    "\n",
    "@show custom_searchsortedlast(thresholds, 1.0) "
   ]
  },
  {
   "cell_type": "code",
   "execution_count": 8,
   "id": "3251df66",
   "metadata": {},
   "outputs": [
    {
     "data": {
      "text/plain": [
       "custom_searchsortedlast (generic function with 1 method)"
      ]
     },
     "execution_count": 8,
     "metadata": {},
     "output_type": "execute_result"
    }
   ],
   "source": [
    "function custom_searchsortedlast(sorted_values, new_value)\n",
    "    if new_value < sorted_values[1]\n",
    "        return 0\n",
    "    end\n",
    "    \n",
    "    @inbounds for k in 1:length(sorted_values)-1\n",
    "        if new_value >= sorted_values[k] && new_value < sorted_values[k+1]\n",
    "            return k\n",
    "        end\n",
    "    end\n",
    "    return length(sorted_values)\n",
    "end"
   ]
  },
  {
   "cell_type": "code",
   "execution_count": 9,
   "id": "9bd956b6",
   "metadata": {},
   "outputs": [
    {
     "name": "stdout",
     "output_type": "stream",
     "text": [
      "custom_searchsortedlast(thresholds, 0.07) = 0\n",
      "custom_searchsortedlast(thresholds, 0.12) = 1\n",
      "custom_searchsortedlast(thresholds, 0.2) = 2\n",
      "custom_searchsortedlast(thresholds, 0.96) = 9\n",
      "custom_searchsortedlast(thresholds, 1.0) = 10\n"
     ]
    },
    {
     "data": {
      "text/plain": [
       "10"
      ]
     },
     "execution_count": 9,
     "metadata": {},
     "output_type": "execute_result"
    }
   ],
   "source": [
    "@show custom_searchsortedlast(thresholds, 0.07) \n",
    "\n",
    "# returns 1 because 0.12 is >= than threshold[1] but lower than threshold[2]\n",
    "@show custom_searchsortedlast(thresholds, 0.12) \n",
    "\n",
    "# returns 2 because 0.2 is >= than threshold[2] but lower than threshold[1]\n",
    "@show custom_searchsortedlast(thresholds, 0.2) \n",
    "\n",
    "# returns 2 because 0.2 is >= than threshold[2] but lower than threshold[1]\n",
    "@show custom_searchsortedlast(thresholds, 0.96) \n",
    "\n",
    "@show custom_searchsortedlast(thresholds, 1.0) "
   ]
  },
  {
   "cell_type": "markdown",
   "id": "71b8fa5e",
   "metadata": {},
   "source": [
    "Note that our custom method is  slower than the original"
   ]
  },
  {
   "cell_type": "code",
   "execution_count": 10,
   "id": "40c7521a",
   "metadata": {},
   "outputs": [
    {
     "name": "stdout",
     "output_type": "stream",
     "text": [
      "original method\n",
      "  12.638 ns (0 allocations: 0 bytes)\n",
      "  13.889 ns (0 allocations: 0 bytes)\n",
      "custom method\n",
      "  19.140 ns (0 allocations: 0 bytes)\n",
      "  47.318 ns (0 allocations: 0 bytes)\n"
     ]
    },
    {
     "data": {
      "text/plain": [
       "64"
      ]
     },
     "execution_count": 10,
     "metadata": {},
     "output_type": "execute_result"
    }
   ],
   "source": [
    "thresholds = [x for x in (1:64)/100]\n",
    "\n",
    "println(\"original method\")\n",
    "@btime searchsortedlast($thresholds, 0.17) \n",
    "@btime searchsortedlast($thresholds, 0.97)\n",
    "\n",
    "println(\"custom method\")\n",
    "@btime custom_searchsortedlast($thresholds, 0.17) \n",
    "@btime custom_searchsortedlast($thresholds, 0.97) "
   ]
  },
  {
   "cell_type": "markdown",
   "id": "b59c2ff3",
   "metadata": {},
   "source": [
    "Can we make `custom_searchsortedlast` faster? Investigate same solution as in metaprograming folder with printing balls function"
   ]
  },
  {
   "cell_type": "code",
   "execution_count": null,
   "id": "0a0050cf",
   "metadata": {},
   "outputs": [],
   "source": []
  },
  {
   "cell_type": "code",
   "execution_count": null,
   "id": "19d335d3",
   "metadata": {},
   "outputs": [],
   "source": []
  }
 ],
 "metadata": {
  "kernelspec": {
   "display_name": "Julia 1.8.0",
   "language": "julia",
   "name": "julia-1.8"
  },
  "language_info": {
   "file_extension": ".jl",
   "mimetype": "application/julia",
   "name": "julia",
   "version": "1.8.3"
  }
 },
 "nbformat": 4,
 "nbformat_minor": 5
}
