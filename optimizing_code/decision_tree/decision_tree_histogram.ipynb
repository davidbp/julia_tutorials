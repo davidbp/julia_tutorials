{
 "cells": [
  {
   "cell_type": "code",
   "execution_count": 5,
   "id": "916c8f38",
   "metadata": {},
   "outputs": [],
   "source": [
    "using Random\n",
    "using StatsBase: sample, quantile\n",
    "using BenchmarkTools"
   ]
  },
  {
   "cell_type": "code",
   "execution_count": 43,
   "id": "a156c24a",
   "metadata": {
    "scrolled": true
   },
   "outputs": [
    {
     "data": {
      "text/plain": [
       "get_edges (generic function with 2 methods)"
      ]
     },
     "execution_count": 43,
     "metadata": {},
     "output_type": "execute_result"
    }
   ],
   "source": [
    "function get_edges(X::AbstractMatrix{T}, nbins, rng = Random.MersenneTwister()) where {T}\n",
    "    nobs = min(size(X, 1), 1000 * nbins)\n",
    "    obs = rand(rng, 1:size(X, 1), nobs)\n",
    "    edges = Vector{Vector{T}}(undef, size(X, 2))\n",
    "    for i = 1:size(X, 2)\n",
    "        edges[i] = quantile(view(X, obs, i), (1:nbins) / nbins)\n",
    "        if length(edges[i]) == 0\n",
    "            edges[i] = [minimum(view(X, obs, i))]\n",
    "        end\n",
    "    end\n",
    "    return edges\n",
    "end"
   ]
  },
  {
   "cell_type": "markdown",
   "id": "7491fe36",
   "metadata": {},
   "source": [
    "Let us create a dataset containing as rows examples and as columns features"
   ]
  },
  {
   "cell_type": "code",
   "execution_count": 7,
   "id": "a512b194",
   "metadata": {},
   "outputs": [],
   "source": [
    "n_obs = 1_000_000\n",
    "n_feat = 128\n",
    "\n",
    "X = Random.rand(Float32,(n_obs, n_feat));"
   ]
  },
  {
   "cell_type": "markdown",
   "id": "e5e00472",
   "metadata": {},
   "source": [
    "Note that we the function that creates the edges of the histogram does the following:\n",
    "\n",
    "- For each feature (`i` index) it takes `nobs` observations where the indices of those observations are shared across features. Then it uses `quantile` to get the `nbins` bins. \n",
    "\n",
    "Let us see how this is done for feature `i`."
   ]
  },
  {
   "cell_type": "code",
   "execution_count": 8,
   "id": "61461a23",
   "metadata": {},
   "outputs": [
    {
     "data": {
      "text/plain": [
       "64-element Vector{Float64}:\n",
       " 0.015616481192409992\n",
       " 0.03124706633388996\n",
       " 0.04708057828247547\n",
       " 0.06305253878235817\n",
       " 0.0787111148238182\n",
       " 0.09383239969611168\n",
       " 0.10966158472001553\n",
       " 0.1262708231806755\n",
       " 0.14198730792850256\n",
       " 0.15775251388549805\n",
       " 0.17343730572611094\n",
       " 0.1880575492978096\n",
       " 0.2040867004543543\n",
       " ⋮\n",
       " 0.8283856455236673\n",
       " 0.8434279188513756\n",
       " 0.858756854198873\n",
       " 0.8750673457980156\n",
       " 0.8907013712450862\n",
       " 0.9065513703972101\n",
       " 0.9229941554367542\n",
       " 0.9390546642243862\n",
       " 0.9537015976384282\n",
       " 0.969012301415205\n",
       " 0.9844628907740116\n",
       " 0.999945342540741"
      ]
     },
     "execution_count": 8,
     "metadata": {},
     "output_type": "execute_result"
    }
   ],
   "source": [
    "i = 1\n",
    "rng = Random.MersenneTwister()\n",
    "nbins = 64\n",
    "nobs = min(size(X, 1), 1000 * nbins)\n",
    "obs = rand(rng, 1:size(X, 1), nobs);\n",
    "edges = quantile(view(X, obs, i), (1:nbins) / nbins)"
   ]
  },
  {
   "cell_type": "markdown",
   "id": "53d0effe",
   "metadata": {},
   "source": [
    "The reader can note that, if the number of features is fixed, the cost of `get_edges` does not increase with more data (after a minimum threshold). This happens because the number of observations used in the function is cut at `1000 * nbins`. \n",
    "\n",
    "```\n",
    "nobs = min(size(X, 1), 1000 * nbins)\n",
    "```\n",
    "\n",
    "So unless the dataset is quite small, the computation cost will not scale after reaching `1000 * nbins` examples in the training data.\n"
   ]
  },
  {
   "cell_type": "code",
   "execution_count": 9,
   "id": "d964f7ea",
   "metadata": {},
   "outputs": [
    {
     "name": "stdout",
     "output_type": "stream",
     "text": [
      "Observations used with X with 10000 data points is 10000\n",
      "Observations used with X with 100000 data points is 64000\n",
      "Observations used with X with 1000000 data points is 64000\n"
     ]
    }
   ],
   "source": [
    "n_obs = 10_000\n",
    "X = Random.rand(Float32,(n_obs, n_feat));\n",
    "nobs = min(size(X, 1), 1000 * nbins)\n",
    "println(\"Observations used with X with $n_obs data points is $nobs\")\n",
    "\n",
    "n_obs = 100_000\n",
    "X = Random.rand(Float32,(n_obs, n_feat));\n",
    "nobs = min(size(X, 1), 1000 * nbins)\n",
    "println(\"Observations used with X with $n_obs data points is $nobs\")\n",
    "\n",
    "n_obs = 1000_000\n",
    "X = Random.rand(Float32,(n_obs, n_feat));\n",
    "nobs = min(size(X, 1), 1000 * nbins)\n",
    "println(\"Observations used with X with $n_obs data points is $nobs\")"
   ]
  },
  {
   "cell_type": "markdown",
   "id": "accce77f",
   "metadata": {},
   "source": [
    "We can time the routine with 10x the data and see very similar execution times"
   ]
  },
  {
   "cell_type": "code",
   "execution_count": 10,
   "id": "36215655",
   "metadata": {},
   "outputs": [
    {
     "name": "stdout",
     "output_type": "stream",
     "text": [
      "  590.855 ms (527 allocations: 31.89 MiB)\n"
     ]
    }
   ],
   "source": [
    "n_obs = 100_000\n",
    "n_feat = 128\n",
    "nbins = 64\n",
    "\n",
    "X = Random.rand(Float32,(n_obs, n_feat));\n",
    "@btime get_edges($X, $nbins);"
   ]
  },
  {
   "cell_type": "code",
   "execution_count": 11,
   "id": "629f9214",
   "metadata": {},
   "outputs": [
    {
     "name": "stdout",
     "output_type": "stream",
     "text": [
      "  607.097 ms (527 allocations: 31.89 MiB)\n"
     ]
    }
   ],
   "source": [
    "n_obs = 1_000_000\n",
    "n_feat = 128\n",
    "nbins = 64\n",
    "\n",
    "X = Random.rand(Float32,(n_obs, n_feat));\n",
    "@btime get_edges($X, $nbins);"
   ]
  },
  {
   "cell_type": "markdown",
   "id": "ffa0ee1a",
   "metadata": {},
   "source": [
    "## Feature quantization \n",
    "\n",
    "Once the edges for each feature are found then the data in X can be quantized or discretized. "
   ]
  },
  {
   "cell_type": "code",
   "execution_count": 12,
   "id": "ff3ed0dd",
   "metadata": {
    "scrolled": true
   },
   "outputs": [
    {
     "data": {
      "text/plain": [
       "binarize2 (generic function with 1 method)"
      ]
     },
     "execution_count": 12,
     "metadata": {},
     "output_type": "execute_result"
    }
   ],
   "source": [
    "function binarize(X, edges)\n",
    "    x_bin = zeros(UInt8, size(X))\n",
    "    for i = 1:size(X, 2)\n",
    "        # Why is here ommited the last bin?\n",
    "        @inbounds x_bin[:, i] .=\n",
    "            searchsortedlast.(Ref(edges[i][1:end-1]), view(X, :, i)) .+ 1\n",
    "    end\n",
    "    return x_bin\n",
    "end\n",
    "\n",
    "function binarize2(X, edges)\n",
    "    n_examples, n_features = size(X)\n",
    "    x_bin = zeros(UInt8, (n_examples, n_features))\n",
    "    @inbounds for j = 1:n_features\n",
    "        edge_view = view(edges[j], 1:length(edges[j]) -1)\n",
    "        for n in 1:n_examples\n",
    "            x_bin[n, j] = searchsortedlast(edge_view, X[n, j]) + 1\n",
    "        end\n",
    "    end\n",
    "    return x_bin\n",
    "end"
   ]
  },
  {
   "cell_type": "markdown",
   "id": "e7485dc5",
   "metadata": {},
   "source": [
    "#### Understanding **`searchsortedlast`** method\n",
    "\n",
    "This method returns the index of the last value in `thresholds` that is less than or equal to the input, according to the specified order.\n"
   ]
  },
  {
   "cell_type": "code",
   "execution_count": 142,
   "id": "092121f6",
   "metadata": {},
   "outputs": [
    {
     "name": "stdout",
     "output_type": "stream",
     "text": [
      "searchsortedlast(thresholds, 0.07) = 0\n",
      "searchsortedlast(thresholds, 0.12) = 1\n",
      "searchsortedlast(thresholds, 0.2) = 2\n",
      "searchsortedlast(thresholds, 0.96) = 9\n",
      "custom_searchsortedlast(thresholds, 1.0) = 10\n"
     ]
    },
    {
     "data": {
      "text/plain": [
       "10"
      ]
     },
     "execution_count": 142,
     "metadata": {},
     "output_type": "execute_result"
    }
   ],
   "source": [
    "thresholds = [x for x in (1:10)/10]\n",
    "# returns 0 because 0.07 is < than threshold[1] \n",
    "@show searchsortedlast(thresholds, 0.07) \n",
    "\n",
    "# returns 1 because 0.12 is >= than threshold[1] but lower than threshold[2]\n",
    "@show searchsortedlast(thresholds, 0.12) \n",
    "\n",
    "# returns 2 because 0.2 is >= than threshold[2] but lower than threshold[1]\n",
    "@show searchsortedlast(thresholds, 0.2) \n",
    "\n",
    "\n",
    "# returns 2 because 0.2 is >= than threshold[2] but lower than threshold[1]\n",
    "@show searchsortedlast(thresholds, 0.96) \n",
    "\n",
    "@show custom_searchsortedlast(thresholds, 1.0) "
   ]
  },
  {
   "cell_type": "code",
   "execution_count": 158,
   "id": "3251df66",
   "metadata": {},
   "outputs": [
    {
     "data": {
      "text/plain": [
       "custom_searchsortedlast (generic function with 1 method)"
      ]
     },
     "execution_count": 158,
     "metadata": {},
     "output_type": "execute_result"
    }
   ],
   "source": [
    "function custom_searchsortedlast(sorted_values, new_value)\n",
    "    if new_value < sorted_values[1]\n",
    "        return 0\n",
    "    end\n",
    "    \n",
    "    @inbounds for k in 1:length(sorted_values)-1\n",
    "        if new_value >= sorted_values[k] && new_value < sorted_values[k+1]\n",
    "            return k\n",
    "        end\n",
    "    end\n",
    "    return length(sorted_values)\n",
    "end"
   ]
  },
  {
   "cell_type": "code",
   "execution_count": 159,
   "id": "9bd956b6",
   "metadata": {},
   "outputs": [
    {
     "name": "stdout",
     "output_type": "stream",
     "text": [
      "custom_searchsortedlast(thresholds, 0.07) = 0\n",
      "custom_searchsortedlast(thresholds, 0.12) = 1\n",
      "custom_searchsortedlast(thresholds, 0.2) = 2\n",
      "custom_searchsortedlast(thresholds, 0.96) = 9\n",
      "custom_searchsortedlast(thresholds, 1.0) = 10\n"
     ]
    },
    {
     "data": {
      "text/plain": [
       "10"
      ]
     },
     "execution_count": 159,
     "metadata": {},
     "output_type": "execute_result"
    }
   ],
   "source": [
    "@show custom_searchsortedlast(thresholds, 0.07) \n",
    "\n",
    "# returns 1 because 0.12 is >= than threshold[1] but lower than threshold[2]\n",
    "@show custom_searchsortedlast(thresholds, 0.12) \n",
    "\n",
    "# returns 2 because 0.2 is >= than threshold[2] but lower than threshold[1]\n",
    "@show custom_searchsortedlast(thresholds, 0.2) \n",
    "\n",
    "# returns 2 because 0.2 is >= than threshold[2] but lower than threshold[1]\n",
    "@show custom_searchsortedlast(thresholds, 0.96) \n",
    "\n",
    "@show custom_searchsortedlast(thresholds, 1.0) "
   ]
  },
  {
   "cell_type": "markdown",
   "id": "71b8fa5e",
   "metadata": {},
   "source": [
    "Note that our custom method is  slower than the original"
   ]
  },
  {
   "cell_type": "code",
   "execution_count": 171,
   "id": "40c7521a",
   "metadata": {},
   "outputs": [
    {
     "name": "stdout",
     "output_type": "stream",
     "text": [
      "original method\n",
      "  9.259 ns (0 allocations: 0 bytes)\n",
      "  11.637 ns (0 allocations: 0 bytes)\n",
      "custom method\n",
      "  16.950 ns (0 allocations: 0 bytes)\n",
      "  52.358 ns (0 allocations: 0 bytes)\n"
     ]
    },
    {
     "data": {
      "text/plain": [
       "64"
      ]
     },
     "execution_count": 171,
     "metadata": {},
     "output_type": "execute_result"
    }
   ],
   "source": [
    "thresholds = [x for x in (1:64)/100]\n",
    "\n",
    "println(\"original method\")\n",
    "@btime searchsortedlast($thresholds, 0.17) \n",
    "@btime searchsortedlast($thresholds, 0.97)\n",
    "\n",
    "println(\"custom method\")\n",
    "@btime custom_searchsortedlast($thresholds, 0.17) \n",
    "@btime custom_searchsortedlast($thresholds, 0.97) "
   ]
  },
  {
   "cell_type": "code",
   "execution_count": 82,
   "id": "f142f444",
   "metadata": {},
   "outputs": [
    {
     "name": "stdout",
     "output_type": "stream",
     "text": [
      "  10.468 ns (0 allocations: 0 bytes)\n"
     ]
    },
    {
     "data": {
      "text/plain": [
       "95"
      ]
     },
     "execution_count": 82,
     "metadata": {},
     "output_type": "execute_result"
    }
   ],
   "source": [
    "thresholds = [x for x in (1:100)/100]\n",
    "@btime searchsortedlast($thresholds, 0.95) "
   ]
  },
  {
   "cell_type": "code",
   "execution_count": 84,
   "id": "7554697a",
   "metadata": {},
   "outputs": [
    {
     "name": "stdout",
     "output_type": "stream",
     "text": [
      "  7.925 ns (0 allocations: 0 bytes)\n"
     ]
    },
    {
     "data": {
      "text/plain": [
       "19"
      ]
     },
     "execution_count": 84,
     "metadata": {},
     "output_type": "execute_result"
    }
   ],
   "source": [
    "thresholds = [x for x in (1:20)/20]\n",
    "@btime searchsortedlast($thresholds, 0.95) "
   ]
  },
  {
   "cell_type": "code",
   "execution_count": 44,
   "id": "b9d17376",
   "metadata": {},
   "outputs": [
    {
     "name": "stdout",
     "output_type": "stream",
     "text": [
      "thresholds = [0.1, 0.2, 0.3, 0.4, 0.5, 0.6, 0.7, 0.8, 0.9, 1.0]\n",
      "values_to_discretize = [0.12, 0.19, 0.2, 0.29, 0.989, 1.2]\n",
      "searchsortedlast(thresholds, 0.12) \t=1\n",
      "searchsortedlast(thresholds, 0.19) \t=1\n",
      "searchsortedlast(thresholds, 0.2) \t=2\n",
      "searchsortedlast(thresholds, 0.29) \t=2\n",
      "searchsortedlast(thresholds, 0.989) \t=9\n",
      "searchsortedlast(thresholds, 1.2) \t=10\n"
     ]
    }
   ],
   "source": [
    "thresholds = [x for x in (1:10)/10]\n",
    "values_to_discretize = [0.12, 0.19, 0.2, 0.29, 0.989, 1.2]\n",
    "\n",
    "@show thresholds;\n",
    "@show values_to_discretize;\n",
    "for value in values_to_discretize\n",
    "    println(\"searchsortedlast(thresholds, $value) \\t=$(searchsortedlast(thresholds, value))\")\n",
    "end"
   ]
  },
  {
   "cell_type": "markdown",
   "id": "8d00d4a1",
   "metadata": {},
   "source": [
    "We can broadcast using `.` with `searchsortedlast.` but doing this requires `thresholds` to have a single element"
   ]
  },
  {
   "cell_type": "code",
   "execution_count": 408,
   "id": "e05d4205",
   "metadata": {},
   "outputs": [
    {
     "data": {
      "text/plain": [
       "(100, 1, 1)"
      ]
     },
     "execution_count": 408,
     "metadata": {},
     "output_type": "execute_result"
    }
   ],
   "source": [
    "length(thresholds), length([thresholds]), length(Ref(thresholds))"
   ]
  },
  {
   "cell_type": "code",
   "execution_count": 411,
   "id": "eb8a1464",
   "metadata": {},
   "outputs": [],
   "source": [
    "# won't work \n",
    "# @show searchsortedlast.(thresholds, values_to_discretize);"
   ]
  },
  {
   "cell_type": "code",
   "execution_count": 393,
   "id": "cbf2e7bc",
   "metadata": {},
   "outputs": [
    {
     "name": "stdout",
     "output_type": "stream",
     "text": [
      "thresholds = [0.1, 0.2, 0.3, 0.4, 0.5, 0.6, 0.7, 0.8, 0.9, 1.0]\n",
      "values_to_discretize = [0.12, 0.19, 0.2, 0.29, 0.989, 1.2]\n",
      "searchsortedlast.(Ref(thresholds), values_to_discretize) = [1, 1, 2, 2, 9, 10]\n"
     ]
    }
   ],
   "source": [
    "thresholds = [x for x in (1:10)/10]\n",
    "values_to_discretize = [0.12, 0.19, 0.2, 0.29, 0.989, 1.2]\n",
    "\n",
    "@show thresholds;\n",
    "@show values_to_discretize;\n",
    "@show searchsortedlast.(Ref(thresholds), values_to_discretize);"
   ]
  },
  {
   "cell_type": "code",
   "execution_count": 572,
   "id": "3dee8feb",
   "metadata": {},
   "outputs": [
    {
     "name": "stdout",
     "output_type": "stream",
     "text": [
      "thresholds = [0.1, 0.2, 0.3, 0.4, 0.5, 0.6, 0.7, 0.8, 0.9, 1.0]\n",
      "values_to_discretize = [0.12, 0.19, 0.2, 0.29, 0.989, 1.2]\n",
      "searchsortedlast.([thresholds], values_to_discretize) = [1, 1, 2, 2, 9, 10]\n"
     ]
    }
   ],
   "source": [
    "thresholds = [x for x in (1:10)/10]\n",
    "values_to_discretize = [0.12, 0.19, 0.2, 0.29, 0.989, 1.2]\n",
    "\n",
    "@show thresholds;\n",
    "@show values_to_discretize;\n",
    "@show searchsortedlast.([thresholds], values_to_discretize);"
   ]
  },
  {
   "cell_type": "markdown",
   "id": "dc306405",
   "metadata": {},
   "source": [
    "Timings are preety similar"
   ]
  },
  {
   "cell_type": "code",
   "execution_count": 402,
   "id": "d0c0cd7d",
   "metadata": {
    "scrolled": false
   },
   "outputs": [
    {
     "name": "stdout",
     "output_type": "stream",
     "text": [
      "  523.624 ns (4 allocations: 240 bytes)\n"
     ]
    }
   ],
   "source": [
    "@btime searchsortedlast.([thresholds], values_to_discretize);"
   ]
  },
  {
   "cell_type": "code",
   "execution_count": 403,
   "id": "9d04f8c6",
   "metadata": {},
   "outputs": [
    {
     "name": "stdout",
     "output_type": "stream",
     "text": [
      "  569.220 ns (4 allocations: 192 bytes)\n"
     ]
    }
   ],
   "source": [
    "@btime searchsortedlast.(Ref(thresholds), values_to_discretize);"
   ]
  },
  {
   "cell_type": "code",
   "execution_count": 475,
   "id": "7b95fbc0",
   "metadata": {},
   "outputs": [
    {
     "data": {
      "text/plain": [
       "384"
      ]
     },
     "execution_count": 475,
     "metadata": {},
     "output_type": "execute_result"
    }
   ],
   "source": [
    "@allocated Ref(edges[i][1:end-1])"
   ]
  },
  {
   "cell_type": "code",
   "execution_count": 479,
   "id": "2a18648a",
   "metadata": {},
   "outputs": [
    {
     "data": {
      "text/plain": [
       "80"
      ]
     },
     "execution_count": 479,
     "metadata": {},
     "output_type": "execute_result"
    }
   ],
   "source": [
    "@allocated view(edges[i],1:length(edges[i])-1)"
   ]
  },
  {
   "cell_type": "markdown",
   "id": "7eb8b879",
   "metadata": {},
   "source": [
    "Now let us benchmark binarize and binarize2"
   ]
  },
  {
   "cell_type": "code",
   "execution_count": 594,
   "id": "062d69d0",
   "metadata": {},
   "outputs": [],
   "source": [
    "n_obs = 100_000\n",
    "n_feat = 128\n",
    "nbins = 64\n",
    "\n",
    "X = Random.rand(Float32,(n_obs, n_feat));\n",
    "edges = get_edges(X, nbins);"
   ]
  },
  {
   "cell_type": "code",
   "execution_count": 595,
   "id": "4561a9f4",
   "metadata": {},
   "outputs": [
    {
     "name": "stdout",
     "output_type": "stream",
     "text": [
      "isequal(Xbin1, Xbin2) = true\n",
      "mean(Xbin1 .== Xbin2) = 1.0\n"
     ]
    },
    {
     "data": {
      "text/plain": [
       "1.0"
      ]
     },
     "execution_count": 595,
     "metadata": {},
     "output_type": "execute_result"
    }
   ],
   "source": [
    "Xbin1 = binarize(X, edges)\n",
    "Xbin2 = binarize2(X, edges);\n",
    "\n",
    "@show isequal(Xbin1, Xbin2)\n",
    "@show mean(Xbin1 .== Xbin2)"
   ]
  },
  {
   "cell_type": "code",
   "execution_count": 596,
   "id": "9d1d85e2",
   "metadata": {},
   "outputs": [
    {
     "data": {
      "text/plain": [
       "BenchmarkTools.Trial: 12 samples with 1 evaluation.\n",
       " Range \u001b[90m(\u001b[39m\u001b[36m\u001b[1mmin\u001b[22m\u001b[39m … \u001b[35mmax\u001b[39m\u001b[90m):  \u001b[39m\u001b[36m\u001b[1m452.612 ms\u001b[22m\u001b[39m … \u001b[35m457.228 ms\u001b[39m  \u001b[90m┊\u001b[39m GC \u001b[90m(\u001b[39mmin … max\u001b[90m): \u001b[39m0.00% … 0.00%\n",
       " Time  \u001b[90m(\u001b[39m\u001b[34m\u001b[1mmedian\u001b[22m\u001b[39m\u001b[90m):     \u001b[39m\u001b[34m\u001b[1m453.720 ms               \u001b[22m\u001b[39m\u001b[90m┊\u001b[39m GC \u001b[90m(\u001b[39mmedian\u001b[90m):    \u001b[39m0.00%\n",
       " Time  \u001b[90m(\u001b[39m\u001b[32m\u001b[1mmean\u001b[22m\u001b[39m ± \u001b[32mσ\u001b[39m\u001b[90m):   \u001b[39m\u001b[32m\u001b[1m454.266 ms\u001b[22m\u001b[39m ± \u001b[32m  1.462 ms\u001b[39m  \u001b[90m┊\u001b[39m GC \u001b[90m(\u001b[39mmean ± σ\u001b[90m):  \u001b[39m0.00% ± 0.00%\n",
       "\n",
       "  \u001b[39m▁\u001b[39m▁\u001b[39m \u001b[39m \u001b[39m \u001b[39m \u001b[39m \u001b[39m \u001b[39m \u001b[39m \u001b[39m \u001b[39m█\u001b[39m \u001b[39m▁\u001b[34m▁\u001b[39m\u001b[39m▁\u001b[39m \u001b[39m \u001b[39m \u001b[39m \u001b[39m▁\u001b[39m \u001b[32m \u001b[39m\u001b[39m \u001b[39m \u001b[39m▁\u001b[39m \u001b[39m \u001b[39m \u001b[39m \u001b[39m \u001b[39m▁\u001b[39m \u001b[39m \u001b[39m \u001b[39m \u001b[39m \u001b[39m \u001b[39m \u001b[39m \u001b[39m \u001b[39m \u001b[39m \u001b[39m \u001b[39m \u001b[39m \u001b[39m \u001b[39m \u001b[39m \u001b[39m \u001b[39m \u001b[39m \u001b[39m \u001b[39m \u001b[39m \u001b[39m \u001b[39m▁\u001b[39m \u001b[39m \u001b[39m \u001b[39m▁\u001b[39m \u001b[39m \n",
       "  \u001b[39m█\u001b[39m█\u001b[39m▁\u001b[39m▁\u001b[39m▁\u001b[39m▁\u001b[39m▁\u001b[39m▁\u001b[39m▁\u001b[39m▁\u001b[39m▁\u001b[39m█\u001b[39m▁\u001b[39m█\u001b[34m█\u001b[39m\u001b[39m█\u001b[39m▁\u001b[39m▁\u001b[39m▁\u001b[39m▁\u001b[39m█\u001b[39m▁\u001b[32m▁\u001b[39m\u001b[39m▁\u001b[39m▁\u001b[39m█\u001b[39m▁\u001b[39m▁\u001b[39m▁\u001b[39m▁\u001b[39m▁\u001b[39m█\u001b[39m▁\u001b[39m▁\u001b[39m▁\u001b[39m▁\u001b[39m▁\u001b[39m▁\u001b[39m▁\u001b[39m▁\u001b[39m▁\u001b[39m▁\u001b[39m▁\u001b[39m▁\u001b[39m▁\u001b[39m▁\u001b[39m▁\u001b[39m▁\u001b[39m▁\u001b[39m▁\u001b[39m▁\u001b[39m▁\u001b[39m▁\u001b[39m▁\u001b[39m▁\u001b[39m▁\u001b[39m█\u001b[39m▁\u001b[39m▁\u001b[39m▁\u001b[39m█\u001b[39m \u001b[39m▁\n",
       "  453 ms\u001b[90m           Histogram: frequency by time\u001b[39m          457 ms \u001b[0m\u001b[1m<\u001b[22m\n",
       "\n",
       " Memory estimate\u001b[90m: \u001b[39m\u001b[33m12.25 MiB\u001b[39m, allocs estimate\u001b[90m: \u001b[39m\u001b[33m258\u001b[39m."
      ]
     },
     "execution_count": 596,
     "metadata": {},
     "output_type": "execute_result"
    }
   ],
   "source": [
    "@benchmark Xbin1 = binarize(X, edges)"
   ]
  },
  {
   "cell_type": "code",
   "execution_count": 4,
   "id": "8b58cb6a",
   "metadata": {},
   "outputs": [
    {
     "ename": "LoadError",
     "evalue": "LoadError: UndefVarError: @benchmark not defined\nin expression starting at In[4]:1",
     "output_type": "error",
     "traceback": [
      "LoadError: UndefVarError: @benchmark not defined\nin expression starting at In[4]:1",
      "",
      "Stacktrace:",
      " [1] top-level scope",
      "   @ :0",
      " [2] eval",
      "   @ ./boot.jl:368 [inlined]",
      " [3] include_string(mapexpr::typeof(REPL.softscope), mod::Module, code::String, filename::String)",
      "   @ Base ./loading.jl:1428"
     ]
    }
   ],
   "source": [
    "@benchmark Xbin2 = binarize2(X, edges)"
   ]
  },
  {
   "cell_type": "markdown",
   "id": "73d2c705",
   "metadata": {},
   "source": [
    "#### Here a question arise, is it faster to use Ref vs view?"
   ]
  },
  {
   "cell_type": "code",
   "execution_count": 199,
   "id": "78d50018",
   "metadata": {},
   "outputs": [
    {
     "data": {
      "text/plain": [
       "64-element Vector{Float32}:\n",
       " 0.016003508\n",
       " 0.031283252\n",
       " 0.046730824\n",
       " 0.06210843\n",
       " 0.0771625\n",
       " 0.09262016\n",
       " 0.10782797\n",
       " 0.12365594\n",
       " 0.13976175\n",
       " 0.1546368\n",
       " 0.16915064\n",
       " 0.18447052\n",
       " 0.20031089\n",
       " ⋮\n",
       " 0.82807434\n",
       " 0.8436005\n",
       " 0.85880005\n",
       " 0.8746571\n",
       " 0.8899226\n",
       " 0.9054942\n",
       " 0.9215226\n",
       " 0.9376114\n",
       " 0.9524945\n",
       " 0.9682254\n",
       " 0.9840777\n",
       " 0.9999978"
      ]
     },
     "execution_count": 199,
     "metadata": {},
     "output_type": "execute_result"
    }
   ],
   "source": [
    "view(edges,4)[1]"
   ]
  },
  {
   "cell_type": "code",
   "execution_count": 180,
   "id": "819d9b65",
   "metadata": {},
   "outputs": [
    {
     "name": "stdout",
     "output_type": "stream",
     "text": [
      "  202.422 ns (2 allocations: 352 bytes)\n"
     ]
    }
   ],
   "source": [
    "@btime aux = Ref(edges[1][1:64]);"
   ]
  },
  {
   "cell_type": "code",
   "execution_count": 182,
   "id": "52abe9a6",
   "metadata": {},
   "outputs": [
    {
     "name": "stdout",
     "output_type": "stream",
     "text": [
      "  78.173 ns (3 allocations: 160 bytes)\n"
     ]
    }
   ],
   "source": [
    "@btime aux = view(edges,1:64,1);"
   ]
  },
  {
   "cell_type": "code",
   "execution_count": null,
   "id": "30740db8",
   "metadata": {},
   "outputs": [],
   "source": []
  },
  {
   "cell_type": "code",
   "execution_count": null,
   "id": "0a0050cf",
   "metadata": {},
   "outputs": [],
   "source": []
  },
  {
   "cell_type": "code",
   "execution_count": null,
   "id": "19d335d3",
   "metadata": {},
   "outputs": [],
   "source": []
  }
 ],
 "metadata": {
  "kernelspec": {
   "display_name": "Julia 1.8.0",
   "language": "julia",
   "name": "julia-1.8"
  },
  "language_info": {
   "file_extension": ".jl",
   "mimetype": "application/julia",
   "name": "julia",
   "version": "1.8.3"
  }
 },
 "nbformat": 4,
 "nbformat_minor": 5
}
