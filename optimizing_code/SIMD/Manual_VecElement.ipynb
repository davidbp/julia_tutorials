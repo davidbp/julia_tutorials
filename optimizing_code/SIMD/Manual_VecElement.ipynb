{
 "cells": [
  {
   "cell_type": "markdown",
   "id": "48bcc7d2",
   "metadata": {},
   "source": [
    "## SIMD JULIA"
   ]
  },
  {
   "cell_type": "code",
   "execution_count": 19,
   "id": "d4e84a2a",
   "metadata": {},
   "outputs": [],
   "source": [
    "struct VecElement{T}\n",
    "    value::T\n",
    "end"
   ]
  },
  {
   "cell_type": "code",
   "execution_count": 20,
   "id": "29cbebe7",
   "metadata": {},
   "outputs": [
    {
     "data": {
      "text/plain": [
       "add (generic function with 1 method)"
      ]
     },
     "execution_count": 20,
     "metadata": {},
     "output_type": "execute_result"
    }
   ],
   "source": [
    "const m128 = NTuple{4,VecElement{Float32}}\n",
    "\n",
    "function add(a::m128, b::m128)\n",
    "    (VecElement(a[1].value+b[1].value),\n",
    "     VecElement(a[2].value+b[2].value),\n",
    "     VecElement(a[3].value+b[3].value),\n",
    "     VecElement(a[4].value+b[4].value))\n",
    "end"
   ]
  },
  {
   "cell_type": "code",
   "execution_count": 5,
   "id": "7375273d",
   "metadata": {},
   "outputs": [
    {
     "name": "stdout",
     "output_type": "stream",
     "text": [
      "\t\u001b[0m.section\t\u001b[0m__TEXT\u001b[0m,\u001b[0m__text\u001b[0m,\u001b[0mregular\u001b[0m,\u001b[0mpure_instructions\n",
      "\t\u001b[0m.build_version \u001b[0mmacos\u001b[0m, \u001b[33m12\u001b[39m\u001b[0m, \u001b[33m0\u001b[39m\n",
      "\t\u001b[0m.globl\t\u001b[0m_julia_add_1328                 \u001b[90m; -- Begin function julia_add_1328\u001b[39m\n",
      "\t\u001b[0m.p2align\t\u001b[33m2\u001b[39m\n",
      "\u001b[91m_julia_add_1328:\u001b[39m                        \u001b[90m; @julia_add_1328\u001b[39m\n",
      "\u001b[90m; ┌ @ In[2]:3 within `add`\u001b[39m\n",
      "\t\u001b[0m.cfi_startproc\n",
      "\u001b[90m; %bb.0:                                ; %top\u001b[39m\n",
      "\u001b[90m; │ @ In[2]:4 within `add`\u001b[39m\n",
      "\u001b[90m; │┌ @ float.jl:383 within `+`\u001b[39m\n",
      "\t\u001b[96m\u001b[1mldr\u001b[22m\u001b[39m\t\u001b[0mq0\u001b[0m, \u001b[33m[\u001b[39m\u001b[0mx0\u001b[33m]\u001b[39m\n",
      "\t\u001b[96m\u001b[1mldr\u001b[22m\u001b[39m\t\u001b[0mq1\u001b[0m, \u001b[33m[\u001b[39m\u001b[0mx1\u001b[33m]\u001b[39m\n",
      "\t\u001b[96m\u001b[1mfadd\u001b[22m\u001b[39m\t\u001b[0mv0.4s\u001b[0m, \u001b[0mv0.4s\u001b[0m, \u001b[0mv1.4s\n",
      "\u001b[90m; │└\u001b[39m\n",
      "\t\u001b[96m\u001b[1mstr\u001b[22m\u001b[39m\t\u001b[0mq0\u001b[0m, \u001b[33m[\u001b[39m\u001b[0mx8\u001b[33m]\u001b[39m\n",
      "\t\u001b[96m\u001b[1mret\u001b[22m\u001b[39m\n",
      "\t\u001b[0m.cfi_endproc\n",
      "\u001b[90m; └\u001b[39m\n",
      "                                        \u001b[90m; -- End function\u001b[39m\n",
      "\u001b[0m.subsections_via_symbols\n"
     ]
    }
   ],
   "source": [
    "code_native(add, (m128, m128))"
   ]
  },
  {
   "cell_type": "code",
   "execution_count": 25,
   "id": "e63912dd",
   "metadata": {},
   "outputs": [
    {
     "data": {
      "text/plain": [
       "(VecElement{Float32}(2.0f0), VecElement{Float32}(2.0f0), VecElement{Float32}(4.0f0), VecElement{Float32}(5.0f0))"
      ]
     },
     "execution_count": 25,
     "metadata": {},
     "output_type": "execute_result"
    }
   ],
   "source": [
    "v = m128(VecElement.(Float32.((2,2,4,5))))"
   ]
  },
  {
   "cell_type": "code",
   "execution_count": 29,
   "id": "0aa5fca2",
   "metadata": {},
   "outputs": [
    {
     "data": {
      "text/plain": [
       "(2.0f0, 2.0f0, 4.0f0, 5.0f0)"
      ]
     },
     "execution_count": 29,
     "metadata": {},
     "output_type": "execute_result"
    }
   ],
   "source": [
    "x = Float32.((2,2,4,5))"
   ]
  },
  {
   "cell_type": "code",
   "execution_count": 30,
   "id": "9eda59c6",
   "metadata": {},
   "outputs": [],
   "source": [
    "using BenchmarkTools"
   ]
  },
  {
   "cell_type": "code",
   "execution_count": 32,
   "id": "2db5e646",
   "metadata": {},
   "outputs": [
    {
     "data": {
      "text/plain": [
       "BenchmarkTools.Trial: 10000 samples with 455 evaluations.\n",
       " Range \u001b[90m(\u001b[39m\u001b[36m\u001b[1mmin\u001b[22m\u001b[39m … \u001b[35mmax\u001b[39m\u001b[90m):  \u001b[39m\u001b[36m\u001b[1m231.136 ns\u001b[22m\u001b[39m … \u001b[35m  3.518 μs\u001b[39m  \u001b[90m┊\u001b[39m GC \u001b[90m(\u001b[39mmin … max\u001b[90m): \u001b[39m0.00% … 90.43%\n",
       " Time  \u001b[90m(\u001b[39m\u001b[34m\u001b[1mmedian\u001b[22m\u001b[39m\u001b[90m):     \u001b[39m\u001b[34m\u001b[1m238.187 ns               \u001b[22m\u001b[39m\u001b[90m┊\u001b[39m GC \u001b[90m(\u001b[39mmedian\u001b[90m):    \u001b[39m0.00%\n",
       " Time  \u001b[90m(\u001b[39m\u001b[32m\u001b[1mmean\u001b[22m\u001b[39m ± \u001b[32mσ\u001b[39m\u001b[90m):   \u001b[39m\u001b[32m\u001b[1m243.758 ns\u001b[22m\u001b[39m ± \u001b[32m109.795 ns\u001b[39m  \u001b[90m┊\u001b[39m GC \u001b[90m(\u001b[39mmean ± σ\u001b[90m):  \u001b[39m1.52% ±  3.14%\n",
       "\n",
       "  \u001b[39m \u001b[39m \u001b[39m \u001b[39m▁\u001b[39m█\u001b[39m▄\u001b[39m▂\u001b[39m \u001b[39m \u001b[39m \u001b[39m \u001b[39m \u001b[34m \u001b[39m\u001b[39m \u001b[39m \u001b[39m \u001b[39m \u001b[39m \u001b[39m \u001b[39m \u001b[39m \u001b[32m \u001b[39m\u001b[39m \u001b[39m \u001b[39m \u001b[39m \u001b[39m \u001b[39m \u001b[39m \u001b[39m \u001b[39m \u001b[39m \u001b[39m \u001b[39m \u001b[39m \u001b[39m \u001b[39m \u001b[39m \u001b[39m \u001b[39m \u001b[39m \u001b[39m \u001b[39m \u001b[39m \u001b[39m \u001b[39m \u001b[39m \u001b[39m \u001b[39m \u001b[39m \u001b[39m \u001b[39m \u001b[39m \u001b[39m \u001b[39m \u001b[39m \u001b[39m \u001b[39m \u001b[39m \u001b[39m \u001b[39m \u001b[39m \u001b[39m \n",
       "  \u001b[39m▁\u001b[39m▂\u001b[39m▃\u001b[39m█\u001b[39m█\u001b[39m█\u001b[39m█\u001b[39m▇\u001b[39m▅\u001b[39m▃\u001b[39m▂\u001b[39m▃\u001b[34m▃\u001b[39m\u001b[39m▃\u001b[39m▅\u001b[39m▅\u001b[39m█\u001b[39m▇\u001b[39m▅\u001b[39m▄\u001b[39m▄\u001b[32m▃\u001b[39m\u001b[39m▂\u001b[39m▂\u001b[39m▃\u001b[39m▂\u001b[39m▂\u001b[39m▂\u001b[39m▃\u001b[39m▃\u001b[39m▃\u001b[39m▂\u001b[39m▂\u001b[39m▂\u001b[39m▂\u001b[39m▁\u001b[39m▂\u001b[39m▁\u001b[39m▁\u001b[39m▁\u001b[39m▁\u001b[39m▁\u001b[39m▁\u001b[39m▁\u001b[39m▁\u001b[39m▁\u001b[39m▁\u001b[39m▁\u001b[39m▁\u001b[39m▁\u001b[39m▁\u001b[39m▁\u001b[39m▁\u001b[39m▁\u001b[39m▁\u001b[39m▁\u001b[39m▁\u001b[39m▁\u001b[39m▁\u001b[39m▁\u001b[39m▁\u001b[39m \u001b[39m▂\n",
       "  231 ns\u001b[90m           Histogram: frequency by time\u001b[39m          267 ns \u001b[0m\u001b[1m<\u001b[22m\n",
       "\n",
       " Memory estimate\u001b[90m: \u001b[39m\u001b[33m128 bytes\u001b[39m, allocs estimate\u001b[90m: \u001b[39m\u001b[33m3\u001b[39m."
      ]
     },
     "execution_count": 32,
     "metadata": {},
     "output_type": "execute_result"
    }
   ],
   "source": [
    "@benchmark x.+x"
   ]
  },
  {
   "cell_type": "code",
   "execution_count": 36,
   "id": "330dde09",
   "metadata": {},
   "outputs": [
    {
     "data": {
      "text/plain": [
       "BenchmarkTools.Trial: 10000 samples with 1000 evaluations.\n",
       " Range \u001b[90m(\u001b[39m\u001b[36m\u001b[1mmin\u001b[22m\u001b[39m … \u001b[35mmax\u001b[39m\u001b[90m):  \u001b[39m\u001b[36m\u001b[1m2.084 ns\u001b[22m\u001b[39m … \u001b[35m23.459 ns\u001b[39m  \u001b[90m┊\u001b[39m GC \u001b[90m(\u001b[39mmin … max\u001b[90m): \u001b[39m0.00% … 0.00%\n",
       " Time  \u001b[90m(\u001b[39m\u001b[34m\u001b[1mmedian\u001b[22m\u001b[39m\u001b[90m):     \u001b[39m\u001b[34m\u001b[1m2.167 ns              \u001b[22m\u001b[39m\u001b[90m┊\u001b[39m GC \u001b[90m(\u001b[39mmedian\u001b[90m):    \u001b[39m0.00%\n",
       " Time  \u001b[90m(\u001b[39m\u001b[32m\u001b[1mmean\u001b[22m\u001b[39m ± \u001b[32mσ\u001b[39m\u001b[90m):   \u001b[39m\u001b[32m\u001b[1m2.212 ns\u001b[22m\u001b[39m ± \u001b[32m 0.401 ns\u001b[39m  \u001b[90m┊\u001b[39m GC \u001b[90m(\u001b[39mmean ± σ\u001b[90m):  \u001b[39m0.00% ± 0.00%\n",
       "\n",
       "  \u001b[39m \u001b[39m \u001b[39m \u001b[39m \u001b[39m▁\u001b[39m \u001b[39m \u001b[39m \u001b[39m \u001b[39m█\u001b[34m \u001b[39m\u001b[39m \u001b[39m \u001b[39m \u001b[39m▇\u001b[32m \u001b[39m\u001b[39m \u001b[39m \u001b[39m \u001b[39m▄\u001b[39m \u001b[39m \u001b[39m \u001b[39m \u001b[39m▂\u001b[39m \u001b[39m \u001b[39m \u001b[39m▂\u001b[39m \u001b[39m \u001b[39m \u001b[39m \u001b[39m▁\u001b[39m \u001b[39m \u001b[39m \u001b[39m \u001b[39m▁\u001b[39m \u001b[39m \u001b[39m \u001b[39m \u001b[39m \u001b[39m \u001b[39m \u001b[39m \u001b[39m \u001b[39m \u001b[39m \u001b[39m \u001b[39m \u001b[39m \u001b[39m \u001b[39m \u001b[39m \u001b[39m \u001b[39m \u001b[39m \u001b[39m▁\n",
       "  \u001b[39m▃\u001b[39m▁\u001b[39m▁\u001b[39m▁\u001b[39m█\u001b[39m▁\u001b[39m▁\u001b[39m▁\u001b[39m▁\u001b[39m█\u001b[34m▁\u001b[39m\u001b[39m▁\u001b[39m▁\u001b[39m▁\u001b[39m█\u001b[32m▁\u001b[39m\u001b[39m▁\u001b[39m▁\u001b[39m▁\u001b[39m█\u001b[39m▁\u001b[39m▁\u001b[39m▁\u001b[39m▁\u001b[39m█\u001b[39m▁\u001b[39m▁\u001b[39m▁\u001b[39m█\u001b[39m▁\u001b[39m▁\u001b[39m▁\u001b[39m▁\u001b[39m█\u001b[39m▁\u001b[39m▁\u001b[39m▁\u001b[39m▁\u001b[39m█\u001b[39m▁\u001b[39m▁\u001b[39m▁\u001b[39m▁\u001b[39m▇\u001b[39m▁\u001b[39m▁\u001b[39m▁\u001b[39m▁\u001b[39m▇\u001b[39m▁\u001b[39m▁\u001b[39m▁\u001b[39m▁\u001b[39m▆\u001b[39m▁\u001b[39m▁\u001b[39m▁\u001b[39m▇\u001b[39m \u001b[39m█\n",
       "  2.08 ns\u001b[90m      \u001b[39m\u001b[90mHistogram: \u001b[39m\u001b[90m\u001b[1mlog(\u001b[22m\u001b[39m\u001b[90mfrequency\u001b[39m\u001b[90m\u001b[1m)\u001b[22m\u001b[39m\u001b[90m by time\u001b[39m     2.58 ns \u001b[0m\u001b[1m<\u001b[22m\n",
       "\n",
       " Memory estimate\u001b[90m: \u001b[39m\u001b[33m0 bytes\u001b[39m, allocs estimate\u001b[90m: \u001b[39m\u001b[33m0\u001b[39m."
      ]
     },
     "execution_count": 36,
     "metadata": {},
     "output_type": "execute_result"
    }
   ],
   "source": [
    "@benchmark add($v,$v)"
   ]
  },
  {
   "cell_type": "code",
   "execution_count": 37,
   "id": "7105cf23",
   "metadata": {},
   "outputs": [],
   "source": [
    "using SIMD"
   ]
  },
  {
   "cell_type": "code",
   "execution_count": 41,
   "id": "3d3773e8",
   "metadata": {},
   "outputs": [
    {
     "data": {
      "text/plain": [
       "<4 x Float32>[2.0, 2.0, 4.0, 5.0]"
      ]
     },
     "execution_count": 41,
     "metadata": {},
     "output_type": "execute_result"
    }
   ],
   "source": [
    "v_vec = Vec( Float32.((2,2,4,5)))"
   ]
  },
  {
   "cell_type": "code",
   "execution_count": 43,
   "id": "846aca63",
   "metadata": {},
   "outputs": [
    {
     "data": {
      "text/plain": [
       "BenchmarkTools.Trial: 10000 samples with 998 evaluations.\n",
       " Range \u001b[90m(\u001b[39m\u001b[36m\u001b[1mmin\u001b[22m\u001b[39m … \u001b[35mmax\u001b[39m\u001b[90m):  \u001b[39m\u001b[36m\u001b[1m18.119 ns\u001b[22m\u001b[39m … \u001b[35m 1.249 μs\u001b[39m  \u001b[90m┊\u001b[39m GC \u001b[90m(\u001b[39mmin … max\u001b[90m): \u001b[39m0.00% … 95.09%\n",
       " Time  \u001b[90m(\u001b[39m\u001b[34m\u001b[1mmedian\u001b[22m\u001b[39m\u001b[90m):     \u001b[39m\u001b[34m\u001b[1m18.662 ns              \u001b[22m\u001b[39m\u001b[90m┊\u001b[39m GC \u001b[90m(\u001b[39mmedian\u001b[90m):    \u001b[39m0.00%\n",
       " Time  \u001b[90m(\u001b[39m\u001b[32m\u001b[1mmean\u001b[22m\u001b[39m ± \u001b[32mσ\u001b[39m\u001b[90m):   \u001b[39m\u001b[32m\u001b[1m19.728 ns\u001b[22m\u001b[39m ± \u001b[32m27.836 ns\u001b[39m  \u001b[90m┊\u001b[39m GC \u001b[90m(\u001b[39mmean ± σ\u001b[90m):  \u001b[39m3.36% ±  2.35%\n",
       "\n",
       "  \u001b[39m▅\u001b[39m▇\u001b[39m▆\u001b[39m█\u001b[34m█\u001b[39m\u001b[39m▅\u001b[39m▂\u001b[39m▂\u001b[39m▂\u001b[39m▁\u001b[39m▂\u001b[32m▅\u001b[39m\u001b[39m▄\u001b[39m▃\u001b[39m▂\u001b[39m▁\u001b[39m \u001b[39m \u001b[39m \u001b[39m \u001b[39m \u001b[39m \u001b[39m \u001b[39m \u001b[39m \u001b[39m \u001b[39m \u001b[39m \u001b[39m \u001b[39m \u001b[39m \u001b[39m \u001b[39m \u001b[39m \u001b[39m \u001b[39m \u001b[39m \u001b[39m \u001b[39m \u001b[39m \u001b[39m \u001b[39m \u001b[39m \u001b[39m \u001b[39m \u001b[39m \u001b[39m \u001b[39m \u001b[39m \u001b[39m \u001b[39m \u001b[39m \u001b[39m \u001b[39m \u001b[39m \u001b[39m \u001b[39m \u001b[39m \u001b[39m \u001b[39m \u001b[39m▂\n",
       "  \u001b[39m█\u001b[39m█\u001b[39m█\u001b[39m█\u001b[34m█\u001b[39m\u001b[39m█\u001b[39m█\u001b[39m█\u001b[39m█\u001b[39m█\u001b[39m█\u001b[32m█\u001b[39m\u001b[39m█\u001b[39m█\u001b[39m█\u001b[39m█\u001b[39m█\u001b[39m▇\u001b[39m▇\u001b[39m▇\u001b[39m█\u001b[39m█\u001b[39m█\u001b[39m█\u001b[39m▇\u001b[39m▇\u001b[39m▇\u001b[39m█\u001b[39m▇\u001b[39m█\u001b[39m▇\u001b[39m▆\u001b[39m▆\u001b[39m▆\u001b[39m▅\u001b[39m▄\u001b[39m▄\u001b[39m▅\u001b[39m▆\u001b[39m▅\u001b[39m▅\u001b[39m▄\u001b[39m▄\u001b[39m▄\u001b[39m▄\u001b[39m▄\u001b[39m▃\u001b[39m▅\u001b[39m▃\u001b[39m▅\u001b[39m▄\u001b[39m▃\u001b[39m▄\u001b[39m▃\u001b[39m▃\u001b[39m▃\u001b[39m▁\u001b[39m▄\u001b[39m▄\u001b[39m \u001b[39m█\n",
       "  18.1 ns\u001b[90m      \u001b[39m\u001b[90mHistogram: \u001b[39m\u001b[90m\u001b[1mlog(\u001b[22m\u001b[39m\u001b[90mfrequency\u001b[39m\u001b[90m\u001b[1m)\u001b[22m\u001b[39m\u001b[90m by time\u001b[39m      26.6 ns \u001b[0m\u001b[1m<\u001b[22m\n",
       "\n",
       " Memory estimate\u001b[90m: \u001b[39m\u001b[33m32 bytes\u001b[39m, allocs estimate\u001b[90m: \u001b[39m\u001b[33m1\u001b[39m."
      ]
     },
     "execution_count": 43,
     "metadata": {},
     "output_type": "execute_result"
    }
   ],
   "source": [
    "@benchmark v_vec + v_vec"
   ]
  },
  {
   "cell_type": "code",
   "execution_count": 44,
   "id": "501bf7d3",
   "metadata": {},
   "outputs": [
    {
     "name": "stdout",
     "output_type": "stream",
     "text": [
      "\u001b[90m;  @ In[20]:3 within `add`\u001b[39m\n",
      "\u001b[95mdefine\u001b[39m \u001b[36mvoid\u001b[39m \u001b[93m@julia_add_2810\u001b[39m\u001b[33m(\u001b[39m\u001b[33m[\u001b[39m\u001b[33m4\u001b[39m \u001b[0mx \u001b[33m[\u001b[39m\u001b[33m1\u001b[39m \u001b[0mx \u001b[36mfloat\u001b[39m\u001b[33m]\u001b[39m\u001b[33m]\u001b[39m\u001b[0m* \u001b[95mnoalias\u001b[39m \u001b[95mnocapture\u001b[39m \u001b[95msret\u001b[39m\u001b[33m(\u001b[39m\u001b[33m[\u001b[39m\u001b[33m4\u001b[39m \u001b[0mx \u001b[33m[\u001b[39m\u001b[33m1\u001b[39m \u001b[0mx \u001b[36mfloat\u001b[39m\u001b[33m]\u001b[39m\u001b[33m]\u001b[39m\u001b[33m)\u001b[39m \u001b[0m%0\u001b[0m, \u001b[33m[\u001b[39m\u001b[33m4\u001b[39m \u001b[0mx \u001b[33m[\u001b[39m\u001b[33m1\u001b[39m \u001b[0mx \u001b[36mfloat\u001b[39m\u001b[33m]\u001b[39m\u001b[33m]\u001b[39m\u001b[0m* \u001b[95mnocapture\u001b[39m \u001b[95mnonnull\u001b[39m \u001b[95mreadonly\u001b[39m \u001b[95malign\u001b[39m \u001b[33m4\u001b[39m \u001b[95mdereferenceable\u001b[39m\u001b[33m(\u001b[39m\u001b[33m16\u001b[39m\u001b[33m)\u001b[39m \u001b[0m%1\u001b[0m, \u001b[33m[\u001b[39m\u001b[33m4\u001b[39m \u001b[0mx \u001b[33m[\u001b[39m\u001b[33m1\u001b[39m \u001b[0mx \u001b[36mfloat\u001b[39m\u001b[33m]\u001b[39m\u001b[33m]\u001b[39m\u001b[0m* \u001b[95mnocapture\u001b[39m \u001b[95mnonnull\u001b[39m \u001b[95mreadonly\u001b[39m \u001b[95malign\u001b[39m \u001b[33m4\u001b[39m \u001b[95mdereferenceable\u001b[39m\u001b[33m(\u001b[39m\u001b[33m16\u001b[39m\u001b[33m)\u001b[39m \u001b[0m%2\u001b[33m)\u001b[39m \u001b[0m#0 \u001b[33m{\u001b[39m\n",
      "\u001b[91mtop:\u001b[39m\n",
      "\u001b[90m;  @ In[20]:4 within `add`\u001b[39m\n",
      "\u001b[90m; ┌ @ float.jl:383 within `+`\u001b[39m\n",
      "   \u001b[0m%3 \u001b[0m= \u001b[96m\u001b[1mbitcast\u001b[22m\u001b[39m \u001b[33m[\u001b[39m\u001b[33m4\u001b[39m \u001b[0mx \u001b[33m[\u001b[39m\u001b[33m1\u001b[39m \u001b[0mx \u001b[36mfloat\u001b[39m\u001b[33m]\u001b[39m\u001b[33m]\u001b[39m\u001b[0m* \u001b[0m%1 \u001b[95mto\u001b[39m \u001b[33m<\u001b[39m\u001b[33m4\u001b[39m \u001b[0mx \u001b[36mfloat\u001b[39m\u001b[33m>\u001b[39m\u001b[0m*\n",
      "   \u001b[0m%4 \u001b[0m= \u001b[96m\u001b[1mload\u001b[22m\u001b[39m \u001b[33m<\u001b[39m\u001b[33m4\u001b[39m \u001b[0mx \u001b[36mfloat\u001b[39m\u001b[33m>\u001b[39m\u001b[0m, \u001b[33m<\u001b[39m\u001b[33m4\u001b[39m \u001b[0mx \u001b[36mfloat\u001b[39m\u001b[33m>\u001b[39m\u001b[0m* \u001b[0m%3\u001b[0m, \u001b[95malign\u001b[39m \u001b[33m4\u001b[39m\n",
      "   \u001b[0m%5 \u001b[0m= \u001b[96m\u001b[1mbitcast\u001b[22m\u001b[39m \u001b[33m[\u001b[39m\u001b[33m4\u001b[39m \u001b[0mx \u001b[33m[\u001b[39m\u001b[33m1\u001b[39m \u001b[0mx \u001b[36mfloat\u001b[39m\u001b[33m]\u001b[39m\u001b[33m]\u001b[39m\u001b[0m* \u001b[0m%2 \u001b[95mto\u001b[39m \u001b[33m<\u001b[39m\u001b[33m4\u001b[39m \u001b[0mx \u001b[36mfloat\u001b[39m\u001b[33m>\u001b[39m\u001b[0m*\n",
      "   \u001b[0m%6 \u001b[0m= \u001b[96m\u001b[1mload\u001b[22m\u001b[39m \u001b[33m<\u001b[39m\u001b[33m4\u001b[39m \u001b[0mx \u001b[36mfloat\u001b[39m\u001b[33m>\u001b[39m\u001b[0m, \u001b[33m<\u001b[39m\u001b[33m4\u001b[39m \u001b[0mx \u001b[36mfloat\u001b[39m\u001b[33m>\u001b[39m\u001b[0m* \u001b[0m%5\u001b[0m, \u001b[95malign\u001b[39m \u001b[33m4\u001b[39m\n",
      "   \u001b[0m%7 \u001b[0m= \u001b[96m\u001b[1mfadd\u001b[22m\u001b[39m \u001b[33m<\u001b[39m\u001b[33m4\u001b[39m \u001b[0mx \u001b[36mfloat\u001b[39m\u001b[33m>\u001b[39m \u001b[0m%4\u001b[0m, \u001b[0m%6\n",
      "\u001b[90m; └\u001b[39m\n",
      "  \u001b[0m%8 \u001b[0m= \u001b[96m\u001b[1mbitcast\u001b[22m\u001b[39m \u001b[33m[\u001b[39m\u001b[33m4\u001b[39m \u001b[0mx \u001b[33m[\u001b[39m\u001b[33m1\u001b[39m \u001b[0mx \u001b[36mfloat\u001b[39m\u001b[33m]\u001b[39m\u001b[33m]\u001b[39m\u001b[0m* \u001b[0m%0 \u001b[95mto\u001b[39m \u001b[33m<\u001b[39m\u001b[33m4\u001b[39m \u001b[0mx \u001b[36mfloat\u001b[39m\u001b[33m>\u001b[39m\u001b[0m*\n",
      "  \u001b[96m\u001b[1mstore\u001b[22m\u001b[39m \u001b[33m<\u001b[39m\u001b[33m4\u001b[39m \u001b[0mx \u001b[36mfloat\u001b[39m\u001b[33m>\u001b[39m \u001b[0m%7\u001b[0m, \u001b[33m<\u001b[39m\u001b[33m4\u001b[39m \u001b[0mx \u001b[36mfloat\u001b[39m\u001b[33m>\u001b[39m\u001b[0m* \u001b[0m%8\u001b[0m, \u001b[95malign\u001b[39m \u001b[33m4\u001b[39m\n",
      "  \u001b[96m\u001b[1mret\u001b[22m\u001b[39m \u001b[36mvoid\u001b[39m\n",
      "\u001b[33m}\u001b[39m\n"
     ]
    }
   ],
   "source": [
    "@code_llvm add(v,v)"
   ]
  },
  {
   "cell_type": "code",
   "execution_count": 45,
   "id": "071b2986",
   "metadata": {},
   "outputs": [
    {
     "name": "stdout",
     "output_type": "stream",
     "text": [
      "\u001b[90m;  @ /Users/dbuchaca/.julia/packages/SIMD/myoU9/src/simdvec.jl:252 within `+`\u001b[39m\n",
      "\u001b[95mdefine\u001b[39m \u001b[36mvoid\u001b[39m \u001b[93m@\"julia_+_2812\"\u001b[39m\u001b[33m(\u001b[39m\u001b[33m[\u001b[39m\u001b[33m1\u001b[39m \u001b[0mx \u001b[33m<\u001b[39m\u001b[33m4\u001b[39m \u001b[0mx \u001b[36mfloat\u001b[39m\u001b[33m>\u001b[39m\u001b[33m]\u001b[39m\u001b[0m* \u001b[95mnoalias\u001b[39m \u001b[95mnocapture\u001b[39m \u001b[95msret\u001b[39m\u001b[33m(\u001b[39m\u001b[33m[\u001b[39m\u001b[33m1\u001b[39m \u001b[0mx \u001b[33m<\u001b[39m\u001b[33m4\u001b[39m \u001b[0mx \u001b[36mfloat\u001b[39m\u001b[33m>\u001b[39m\u001b[33m]\u001b[39m\u001b[33m)\u001b[39m \u001b[0m%0\u001b[0m, \u001b[33m[\u001b[39m\u001b[33m1\u001b[39m \u001b[0mx \u001b[33m<\u001b[39m\u001b[33m4\u001b[39m \u001b[0mx \u001b[36mfloat\u001b[39m\u001b[33m>\u001b[39m\u001b[33m]\u001b[39m\u001b[0m* \u001b[95mnocapture\u001b[39m \u001b[95mnonnull\u001b[39m \u001b[95mreadonly\u001b[39m \u001b[95malign\u001b[39m \u001b[33m16\u001b[39m \u001b[95mdereferenceable\u001b[39m\u001b[33m(\u001b[39m\u001b[33m16\u001b[39m\u001b[33m)\u001b[39m \u001b[0m%1\u001b[0m, \u001b[33m[\u001b[39m\u001b[33m1\u001b[39m \u001b[0mx \u001b[33m<\u001b[39m\u001b[33m4\u001b[39m \u001b[0mx \u001b[36mfloat\u001b[39m\u001b[33m>\u001b[39m\u001b[33m]\u001b[39m\u001b[0m* \u001b[95mnocapture\u001b[39m \u001b[95mnonnull\u001b[39m \u001b[95mreadonly\u001b[39m \u001b[95malign\u001b[39m \u001b[33m16\u001b[39m \u001b[95mdereferenceable\u001b[39m\u001b[33m(\u001b[39m\u001b[33m16\u001b[39m\u001b[33m)\u001b[39m \u001b[0m%2\u001b[33m)\u001b[39m \u001b[0m#0 \u001b[33m{\u001b[39m\n",
      "\u001b[91mtop:\u001b[39m\n",
      "\u001b[90m;  @ /Users/dbuchaca/.julia/packages/SIMD/myoU9/src/simdvec.jl:253 within `+`\u001b[39m\n",
      "\u001b[90m; ┌ @ Base.jl:38 within `getproperty`\u001b[39m\n",
      "   \u001b[0m%3 \u001b[0m= \u001b[96m\u001b[1mgetelementptr\u001b[22m\u001b[39m \u001b[95minbounds\u001b[39m \u001b[33m[\u001b[39m\u001b[33m1\u001b[39m \u001b[0mx \u001b[33m<\u001b[39m\u001b[33m4\u001b[39m \u001b[0mx \u001b[36mfloat\u001b[39m\u001b[33m>\u001b[39m\u001b[33m]\u001b[39m\u001b[0m, \u001b[33m[\u001b[39m\u001b[33m1\u001b[39m \u001b[0mx \u001b[33m<\u001b[39m\u001b[33m4\u001b[39m \u001b[0mx \u001b[36mfloat\u001b[39m\u001b[33m>\u001b[39m\u001b[33m]\u001b[39m\u001b[0m* \u001b[0m%1\u001b[0m, \u001b[36mi64\u001b[39m \u001b[33m0\u001b[39m\u001b[0m, \u001b[36mi64\u001b[39m \u001b[33m0\u001b[39m\n",
      "   \u001b[0m%4 \u001b[0m= \u001b[96m\u001b[1mgetelementptr\u001b[22m\u001b[39m \u001b[95minbounds\u001b[39m \u001b[33m[\u001b[39m\u001b[33m1\u001b[39m \u001b[0mx \u001b[33m<\u001b[39m\u001b[33m4\u001b[39m \u001b[0mx \u001b[36mfloat\u001b[39m\u001b[33m>\u001b[39m\u001b[33m]\u001b[39m\u001b[0m, \u001b[33m[\u001b[39m\u001b[33m1\u001b[39m \u001b[0mx \u001b[33m<\u001b[39m\u001b[33m4\u001b[39m \u001b[0mx \u001b[36mfloat\u001b[39m\u001b[33m>\u001b[39m\u001b[33m]\u001b[39m\u001b[0m* \u001b[0m%2\u001b[0m, \u001b[36mi64\u001b[39m \u001b[33m0\u001b[39m\u001b[0m, \u001b[36mi64\u001b[39m \u001b[33m0\u001b[39m\n",
      "\u001b[90m; └\u001b[39m\n",
      "\u001b[90m; ┌ @ /Users/dbuchaca/.julia/packages/SIMD/myoU9/src/LLVM_intrinsics.jl:212 within `fadd` @ /Users/dbuchaca/.julia/packages/SIMD/myoU9/src/LLVM_intrinsics.jl:212\u001b[39m\n",
      "\u001b[90m; │┌ @ /Users/dbuchaca/.julia/packages/SIMD/myoU9/src/LLVM_intrinsics.jl:221 within `macro expansion`\u001b[39m\n",
      "    \u001b[0m%5 \u001b[0m= \u001b[96m\u001b[1mload\u001b[22m\u001b[39m \u001b[33m<\u001b[39m\u001b[33m4\u001b[39m \u001b[0mx \u001b[36mfloat\u001b[39m\u001b[33m>\u001b[39m\u001b[0m, \u001b[33m<\u001b[39m\u001b[33m4\u001b[39m \u001b[0mx \u001b[36mfloat\u001b[39m\u001b[33m>\u001b[39m\u001b[0m* \u001b[0m%3\u001b[0m, \u001b[95malign\u001b[39m \u001b[33m16\u001b[39m\n",
      "    \u001b[0m%6 \u001b[0m= \u001b[96m\u001b[1mload\u001b[22m\u001b[39m \u001b[33m<\u001b[39m\u001b[33m4\u001b[39m \u001b[0mx \u001b[36mfloat\u001b[39m\u001b[33m>\u001b[39m\u001b[0m, \u001b[33m<\u001b[39m\u001b[33m4\u001b[39m \u001b[0mx \u001b[36mfloat\u001b[39m\u001b[33m>\u001b[39m\u001b[0m* \u001b[0m%4\u001b[0m, \u001b[95malign\u001b[39m \u001b[33m16\u001b[39m\n",
      "    \u001b[0m%7 \u001b[0m= \u001b[96m\u001b[1mfadd\u001b[22m\u001b[39m \u001b[33m<\u001b[39m\u001b[33m4\u001b[39m \u001b[0mx \u001b[36mfloat\u001b[39m\u001b[33m>\u001b[39m \u001b[0m%5\u001b[0m, \u001b[0m%6\n",
      "\u001b[90m; └└\u001b[39m\n",
      "  \u001b[0m%8 \u001b[0m= \u001b[96m\u001b[1mgetelementptr\u001b[22m\u001b[39m \u001b[95minbounds\u001b[39m \u001b[33m[\u001b[39m\u001b[33m1\u001b[39m \u001b[0mx \u001b[33m<\u001b[39m\u001b[33m4\u001b[39m \u001b[0mx \u001b[36mfloat\u001b[39m\u001b[33m>\u001b[39m\u001b[33m]\u001b[39m\u001b[0m, \u001b[33m[\u001b[39m\u001b[33m1\u001b[39m \u001b[0mx \u001b[33m<\u001b[39m\u001b[33m4\u001b[39m \u001b[0mx \u001b[36mfloat\u001b[39m\u001b[33m>\u001b[39m\u001b[33m]\u001b[39m\u001b[0m* \u001b[0m%0\u001b[0m, \u001b[36mi64\u001b[39m \u001b[33m0\u001b[39m\u001b[0m, \u001b[36mi64\u001b[39m \u001b[33m0\u001b[39m\n",
      "  \u001b[96m\u001b[1mstore\u001b[22m\u001b[39m \u001b[33m<\u001b[39m\u001b[33m4\u001b[39m \u001b[0mx \u001b[36mfloat\u001b[39m\u001b[33m>\u001b[39m \u001b[0m%7\u001b[0m, \u001b[33m<\u001b[39m\u001b[33m4\u001b[39m \u001b[0mx \u001b[36mfloat\u001b[39m\u001b[33m>\u001b[39m\u001b[0m* \u001b[0m%8\u001b[0m, \u001b[95malign\u001b[39m \u001b[33m16\u001b[39m\n",
      "  \u001b[96m\u001b[1mret\u001b[22m\u001b[39m \u001b[36mvoid\u001b[39m\n",
      "\u001b[33m}\u001b[39m\n"
     ]
    }
   ],
   "source": [
    "@code_llvm v_vec + v_vec"
   ]
  },
  {
   "cell_type": "code",
   "execution_count": null,
   "id": "998c8e65",
   "metadata": {},
   "outputs": [],
   "source": []
  },
  {
   "cell_type": "code",
   "execution_count": null,
   "id": "4e0ac469",
   "metadata": {},
   "outputs": [],
   "source": []
  }
 ],
 "metadata": {
  "kernelspec": {
   "display_name": "Julia 1.8.0",
   "language": "julia",
   "name": "julia-1.8"
  },
  "language_info": {
   "file_extension": ".jl",
   "mimetype": "application/julia",
   "name": "julia",
   "version": "1.8.0"
  }
 },
 "nbformat": 4,
 "nbformat_minor": 5
}
