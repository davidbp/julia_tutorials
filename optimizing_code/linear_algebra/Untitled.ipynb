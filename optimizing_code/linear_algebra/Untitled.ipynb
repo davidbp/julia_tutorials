{
 "cells": [
  {
   "cell_type": "code",
   "execution_count": 46,
   "id": "dae2e7f9",
   "metadata": {},
   "outputs": [],
   "source": [
    "using BenchmarkTools\n",
    "using LoopVectorization"
   ]
  },
  {
   "cell_type": "code",
   "execution_count": 78,
   "id": "132888ec",
   "metadata": {},
   "outputs": [],
   "source": [
    "W = zeros(256,10);\n",
    "y_hat = 10\n",
    "learning_rate = 0.000001\n",
    "x = rand(256);\n",
    "x_view = view(x,1:length(x));"
   ]
  },
  {
   "cell_type": "code",
   "execution_count": 100,
   "id": "01e24a2e",
   "metadata": {},
   "outputs": [
    {
     "data": {
      "text/plain": [
       "Wj_eq_Wj_plus_lr_x_vectorized! (generic function with 1 method)"
      ]
     },
     "execution_count": 100,
     "metadata": {},
     "output_type": "execute_result"
    }
   ],
   "source": [
    "function Wj_eq_Wj_plus_lr_x_vectorized!(W, j, x, learning_rate)\n",
    "   @turbo W[:, j] .= view(W,:, j) .- learning_rate .* x;\n",
    "end"
   ]
  },
  {
   "cell_type": "code",
   "execution_count": 101,
   "id": "1ac259ae",
   "metadata": {},
   "outputs": [
    {
     "name": "stdout",
     "output_type": "stream",
     "text": [
      "  56.021 ns (0 allocations: 0 bytes)\n",
      "  56.318 ns (0 allocations: 0 bytes)\n"
     ]
    }
   ],
   "source": [
    "@btime Wj_eq_Wj_plus_lr_x_vectorized!($W, $y_hat, $x, $learning_rate);\n",
    "@btime Wj_eq_Wj_plus_lr_x_vectorized!($W, $y_hat, $x_view, $learning_rate);"
   ]
  },
  {
   "cell_type": "code",
   "execution_count": 98,
   "id": "6fe058dd",
   "metadata": {},
   "outputs": [
    {
     "data": {
      "text/plain": [
       "Wj_eq_Wj_plus_lr_x! (generic function with 1 method)"
      ]
     },
     "execution_count": 98,
     "metadata": {},
     "output_type": "execute_result"
    }
   ],
   "source": [
    "\n",
    "function Wj_eq_Wj_plus_lr_x!(W, j, x, learning_rate)\n",
    "    #h.W[:, j ]  .= view(h.W,:, j )  .+ learning_rate .* x\n",
    "    @turbo for i in eachindex(axes(W,1))     \n",
    "        W[i, j] = W[i,j] + learning_rate * x[i]\n",
    "    end\n",
    "end"
   ]
  },
  {
   "cell_type": "code",
   "execution_count": 99,
   "id": "8036ab87",
   "metadata": {},
   "outputs": [
    {
     "name": "stdout",
     "output_type": "stream",
     "text": [
      "  31.648 ns (0 allocations: 0 bytes)\n",
      "  32.612 ns (0 allocations: 0 bytes)\n"
     ]
    }
   ],
   "source": [
    "@btime Wj_eq_Wj_plus_lr_x!($W, $y_hat, $x, $learning_rate)\n",
    "@btime Wj_eq_Wj_plus_lr_x!($W, $y_hat, $x_view, $learning_rate)"
   ]
  },
  {
   "cell_type": "code",
   "execution_count": null,
   "id": "660f94ba",
   "metadata": {},
   "outputs": [],
   "source": []
  },
  {
   "cell_type": "code",
   "execution_count": null,
   "id": "c37cbb35",
   "metadata": {},
   "outputs": [],
   "source": []
  },
  {
   "cell_type": "code",
   "execution_count": null,
   "id": "d71dfaac",
   "metadata": {},
   "outputs": [],
   "source": []
  },
  {
   "cell_type": "code",
   "execution_count": null,
   "id": "d7fa48c7",
   "metadata": {},
   "outputs": [],
   "source": []
  },
  {
   "cell_type": "code",
   "execution_count": null,
   "id": "b3d2f891",
   "metadata": {},
   "outputs": [],
   "source": []
  },
  {
   "cell_type": "code",
   "execution_count": null,
   "id": "29291996",
   "metadata": {},
   "outputs": [],
   "source": []
  },
  {
   "cell_type": "code",
   "execution_count": null,
   "id": "15ab8e05",
   "metadata": {},
   "outputs": [],
   "source": []
  },
  {
   "cell_type": "code",
   "execution_count": 43,
   "id": "0e043a9c",
   "metadata": {},
   "outputs": [
    {
     "data": {
      "text/plain": [
       "update_W_col_j_with_x! (generic function with 1 method)"
      ]
     },
     "execution_count": 43,
     "metadata": {},
     "output_type": "execute_result"
    }
   ],
   "source": [
    "\n",
    "function update_W_col_j_with_x!(W, j, x, learning_rate)\n",
    "    #h.W[:, j ]  .= view(h.W,:, j )  .+ learning_rate .* x\n",
    "    W[:,j] .= muladd(x, learning_rate, x)\n",
    "end"
   ]
  },
  {
   "cell_type": "code",
   "execution_count": 45,
   "id": "97cc4f0d",
   "metadata": {},
   "outputs": [
    {
     "name": "stdout",
     "output_type": "stream",
     "text": [
      "  237.033 ns (3 allocations: 4.30 KiB)\n"
     ]
    }
   ],
   "source": [
    "@btime update_W_col_j_with_x!(W, y_hat, x, learning_rate);"
   ]
  },
  {
   "cell_type": "code",
   "execution_count": null,
   "id": "743e69ee",
   "metadata": {},
   "outputs": [],
   "source": []
  },
  {
   "cell_type": "code",
   "execution_count": null,
   "id": "bbcd6f9e",
   "metadata": {},
   "outputs": [],
   "source": []
  }
 ],
 "metadata": {
  "kernelspec": {
   "display_name": "Julia 1.9.0-beta3",
   "language": "julia",
   "name": "julia-1.9"
  },
  "language_info": {
   "file_extension": ".jl",
   "mimetype": "application/julia",
   "name": "julia",
   "version": "1.9.0"
  }
 },
 "nbformat": 4,
 "nbformat_minor": 5
}
