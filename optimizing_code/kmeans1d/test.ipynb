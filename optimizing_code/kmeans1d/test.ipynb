{
 "cells": [
  {
   "cell_type": "code",
   "execution_count": 1,
   "metadata": {},
   "outputs": [],
   "source": [
    "using HDF5\n",
    "using BenchmarkTools\n",
    "using Revise \n",
    "using OwnTime\n",
    "using Profile\n",
    "using TimerOutputs"
   ]
  },
  {
   "cell_type": "code",
   "execution_count": 2,
   "metadata": {},
   "outputs": [],
   "source": [
    "include(\"core.jl\")\n",
    "using .Kmeans1D"
   ]
  },
  {
   "cell_type": "code",
   "execution_count": 3,
   "metadata": {},
   "outputs": [
    {
     "data": {
      "text/plain": [
       "128×1000000 Matrix{Float32}:\n",
       "  0.0   14.0    0.0   12.0   1.0   48.0  …   59.0   3.0  30.0    0.0  114.0\n",
       " 16.0   35.0    1.0   47.0   1.0   69.0      17.0  12.0  12.0    5.0   31.0\n",
       " 35.0   19.0    5.0   14.0   0.0    9.0      16.0   2.0  12.0   12.0    0.0\n",
       "  5.0   20.0    3.0   25.0   0.0    6.0      34.0   0.0  15.0    0.0    0.0\n",
       " 32.0    3.0   44.0    2.0  14.0    2.0       4.0   1.0   5.0    0.0    0.0\n",
       " 31.0    1.0   40.0    3.0  16.0    3.0  …    1.0  26.0   2.0   54.0    0.0\n",
       " 14.0   13.0   20.0    4.0  30.0    7.0       0.0  32.0   0.0  115.0    0.0\n",
       " 10.0   11.0   14.0    7.0  50.0   25.0       2.0   3.0   8.0    0.0   10.0\n",
       " 11.0   16.0   10.0   14.0   2.0   64.0       0.0  15.0   6.0    0.0  129.0\n",
       " 78.0  119.0  100.0  122.0  40.0  130.0       9.0  46.0  18.0    4.0   48.0\n",
       " 55.0   85.0   63.0   90.0  81.0   33.0  …  102.0  34.0  24.0   13.0    5.0\n",
       " 10.0    5.0    7.0    7.0  25.0    4.0     121.0   0.0  19.0    2.0   13.0\n",
       " 45.0    0.0   44.0    0.0  65.0    0.0       9.0   0.0   5.0   15.0   13.0\n",
       "  ⋮                                 ⋮    ⋱    ⋮                       \n",
       "  9.0    3.0    1.0    3.0   0.0    0.0     111.0  12.0  42.0   22.0    0.0\n",
       " 17.0   52.0   14.0   69.0  25.0   35.0     105.0   1.0  77.0    5.0   74.0\n",
       " 23.0  119.0   34.0  122.0  70.0  130.0      29.0   7.0  18.0    0.0   88.0\n",
       " 41.0   52.0   31.0   43.0  48.0   31.0      13.0  13.0   2.0    7.0    3.0\n",
       "  0.0   15.0    0.0   15.0   0.0   20.0  …   95.0   0.0   0.0   90.0    4.0\n",
       "  0.0    2.0    1.0    1.0   0.0    8.0      15.0   0.0   0.0   14.0   16.0\n",
       "  2.0    0.0    6.0    0.0   2.0    2.0       1.0  24.0   0.0    7.0   66.0\n",
       "  8.0    0.0   10.0    0.0   0.0    0.0       0.0  46.0   3.0   13.0   31.0\n",
       " 19.0    0.0   12.0    0.0   1.0    0.0       3.0  27.0  54.0   17.0    3.0\n",
       " 25.0   11.0    4.0   27.0   4.0   30.0  …    7.0   1.0  50.0    1.0   25.0\n",
       " 23.0   21.0   23.0   29.0  28.0   26.0      11.0   1.0  10.0    2.0   16.0\n",
       "  1.0   33.0   10.0   21.0  34.0    4.0      26.0   0.0   0.0   13.0    0.0"
      ]
     },
     "execution_count": 3,
     "metadata": {},
     "output_type": "execute_result"
    }
   ],
   "source": [
    "#path = joinpath(homedir(), \"TFM\", \"ann-benchmarks\",  \"sift-128-euclidean.hdf5\")\n",
    "path = joinpath(homedir(), \"Datasets\", \"SIFT1M\", \"sift-128-euclidean.hdf5\")\n",
    "\n",
    "f = h5open(path, \"r\")\n",
    "X_tr_vecs = read(f[\"train\"])"
   ]
  },
  {
   "cell_type": "code",
   "execution_count": 4,
   "metadata": {},
   "outputs": [
    {
     "data": {
      "text/plain": [
       "(clusters = [1, 8, 1, 7, 1, 17, 1, 8, 5, 10  …  2, 6, 21, 4, 3, 1, 1, 15, 7, 10], centroids = [0.33333333333333337, 2.482352941176472, 4.355932203389829, 6.5, 8.419354838709676, 10.488372093023257, 12.477272727272728, 15.06896551724138, 17.8125, 21.151515151515152  …  78.83333333333334, 83.91666666666667, 89.14285714285715, 96.28571428571429, 100.57142857142857, 107.25, 115.4, 119.99999999999999, 127.8, 136.0])"
      ]
     },
     "execution_count": 4,
     "metadata": {},
     "output_type": "execute_result"
    }
   ],
   "source": [
    "X = X_tr_vecs[1,1:1000]\n",
    "k = 32\n",
    "Kmeans1D.cluster_julia(X,k)"
   ]
  },
  {
   "cell_type": "code",
   "execution_count": 5,
   "metadata": {},
   "outputs": [
    {
     "data": {
      "text/plain": [
       "([0.33333333333333337, 2.482352941176472, 4.355932203389829, 6.5, 8.419354838709676, 10.488372093023257, 12.477272727272728, 15.06896551724138, 17.8125, 21.151515151515152  …  78.83333333333334, 83.91666666666667, 89.14285714285715, 96.28571428571429, 100.57142857142857, 107.25, 115.4, 119.99999999999999, 127.8, 136.0], [1, 8, 1, 7, 1, 17, 1, 8, 5, 10  …  2, 6, 21, 4, 3, 1, 1, 15, 7, 10])"
      ]
     },
     "execution_count": 5,
     "metadata": {},
     "output_type": "execute_result"
    }
   ],
   "source": [
    "include(\"_core_trans.jl\")\n",
    "using ._Kmeans1D\n",
    "\n",
    "centroids, clusters = _Kmeans1D.cluster(X, length(X), k)"
   ]
  },
  {
   "cell_type": "code",
   "execution_count": 6,
   "metadata": {
    "scrolled": false
   },
   "outputs": [
    {
     "name": "stdout",
     "output_type": "stream",
     "text": [
      "MethodInstance for Main._Kmeans1D.cluster(::Vector{Float32}, ::Int64, ::Int64)\n",
      "  from cluster(array, n, k) in Main._Kmeans1D at /Users/dbuchaca/personal/git_stuff/julia_tutorials/optimizing_code/kmeans1d/_core_trans.jl:117\n",
      "Arguments\n",
      "  #self#\u001b[36m::Core.Const(Main._Kmeans1D.cluster)\u001b[39m\n",
      "  array\u001b[36m::Vector{Float32}\u001b[39m\n",
      "  n\u001b[36m::Int64\u001b[39m\n",
      "  k\u001b[36m::Int64\u001b[39m\n",
      "Locals\n",
      "  @_5\u001b[33m\u001b[1m::Union{Nothing, Tuple{Int64, Int64}}\u001b[22m\u001b[39m\n",
      "  @_6\u001b[33m\u001b[1m::Union{Nothing, Tuple{Int64, Int64}}\u001b[22m\u001b[39m\n",
      "  @_7\u001b[33m\u001b[1m::Union{Nothing, Tuple{Int64, Int64}}\u001b[22m\u001b[39m\n",
      "  @_8\u001b[33m\u001b[1m::Union{Nothing, Tuple{Int64, Int64}}\u001b[22m\u001b[39m\n",
      "  clusters\u001b[36m::Vector{Int64}\u001b[39m\n",
      "  n_\u001b[36m::Int64\u001b[39m\n",
      "  k_@_11\u001b[36m::Int64\u001b[39m\n",
      "  t\u001b[36m::Int64\u001b[39m\n",
      "  sorted_clusters\u001b[36m::Vector{Int64}\u001b[39m\n",
      "  centroids\u001b[36m::Vector{Float64}\u001b[39m\n",
      "  row_argmins\u001b[91m\u001b[1m::Union{Dict{Any, Any}, Dict{Int64, Int64}}\u001b[22m\u001b[39m\n",
      "  C\u001b[36m::Matrix{Float64}\u001b[39m\n",
      "  T\u001b[36m::Matrix{Int64}\u001b[39m\n",
      "  D\u001b[36m::Matrix{Float64}\u001b[39m\n",
      "  cost_calculator\u001b[36m::Main._Kmeans1D.CostCalculator\u001b[39m\n",
      "  sorted_array\u001b[36m::Vector{Float64}\u001b[39m\n",
      "  undo_sort_lookup\u001b[36m::Vector{Int64}\u001b[39m\n",
      "  sort_idx\u001b[36m::Vector{Int64}\u001b[39m\n",
      "  i@_23\u001b[36m::Int64\u001b[39m\n",
      "  i@_24\u001b[36m::Int64\u001b[39m\n",
      "  @_25\u001b[33m\u001b[1m::Union{Nothing, Tuple{Int64, Int64}}\u001b[22m\u001b[39m\n",
      "  k_@_26\u001b[36m::Int64\u001b[39m\n",
      "  min\u001b[91m\u001b[1m::Any\u001b[22m\u001b[39m\n",
      "  argmin\u001b[91m\u001b[1m::Any\u001b[22m\u001b[39m\n",
      "  i@_29\u001b[36m::Int64\u001b[39m\n",
      "  @_30\u001b[33m\u001b[1m::Union{Nothing, Tuple{Int64, Int64}}\u001b[22m\u001b[39m\n",
      "  centroid\u001b[36m::Float64\u001b[39m\n",
      "  t_\u001b[36m::Int64\u001b[39m\n",
      "  i@_33\u001b[36m::Int64\u001b[39m\n",
      "  i@_34\u001b[36m::Int64\u001b[39m\n",
      "Body\u001b[36m::Tuple{Vector{Float64}, Vector{Int64}}\u001b[39m\n",
      "\u001b[90m1 ──\u001b[39m        Core.NewvarNode(:(@_5))\n",
      "\u001b[90m│   \u001b[39m        Core.NewvarNode(:(@_6))\n",
      "\u001b[90m│   \u001b[39m        Core.NewvarNode(:(@_7))\n",
      "\u001b[90m│   \u001b[39m        Core.NewvarNode(:(clusters))\n",
      "\u001b[90m│   \u001b[39m        Core.NewvarNode(:(n_))\n",
      "\u001b[90m│   \u001b[39m        Core.NewvarNode(:(k_@_11))\n",
      "\u001b[90m│   \u001b[39m        Core.NewvarNode(:(t))\n",
      "\u001b[90m│   \u001b[39m        Core.NewvarNode(:(sorted_clusters))\n",
      "\u001b[90m│   \u001b[39m        Core.NewvarNode(:(centroids))\n",
      "\u001b[90m│   \u001b[39m        Core.NewvarNode(:(row_argmins))\n",
      "\u001b[90m│   \u001b[39m        Core.NewvarNode(:(C))\n",
      "\u001b[90m│   \u001b[39m        Core.NewvarNode(:(T))\n",
      "\u001b[90m│   \u001b[39m        Core.NewvarNode(:(D))\n",
      "\u001b[90m│   \u001b[39m        Core.NewvarNode(:(cost_calculator))\n",
      "\u001b[90m│   \u001b[39m        (sort_idx = Main._Kmeans1D.sortperm(array))\n",
      "\u001b[90m│   \u001b[39m %16  = Core.apply_type(Main._Kmeans1D.Vector, Main._Kmeans1D.Int64)\u001b[36m::Core.Const(Vector{Int64})\u001b[39m\n",
      "\u001b[90m│   \u001b[39m        (undo_sort_lookup = (%16)(Main._Kmeans1D.undef, n))\n",
      "\u001b[90m│   \u001b[39m %18  = Core.apply_type(Main._Kmeans1D.Vector, Main._Kmeans1D.Float64)\u001b[36m::Core.Const(Vector{Float64})\u001b[39m\n",
      "\u001b[90m│   \u001b[39m        (sorted_array = (%18)(Main._Kmeans1D.undef, n))\n",
      "\u001b[90m│   \u001b[39m %20  = (1:n)\u001b[36m::Core.PartialStruct(UnitRange{Int64}, Any[Core.Const(1), Int64])\u001b[39m\n",
      "\u001b[90m│   \u001b[39m        (@_8 = Base.iterate(%20))\n",
      "\u001b[90m│   \u001b[39m %22  = (@_8 === nothing)\u001b[36m::Bool\u001b[39m\n",
      "\u001b[90m│   \u001b[39m %23  = Base.not_int(%22)\u001b[36m::Bool\u001b[39m\n",
      "\u001b[90m└───\u001b[39m        goto #4 if not %23\n",
      "\u001b[90m2 ┄─\u001b[39m %25  = @_8\u001b[36m::Tuple{Int64, Int64}\u001b[39m\n",
      "\u001b[90m│   \u001b[39m        (i@_23 = Core.getfield(%25, 1))\n",
      "\u001b[90m│   \u001b[39m %27  = Core.getfield(%25, 2)\u001b[36m::Int64\u001b[39m\n",
      "\u001b[90m│   \u001b[39m %28  = Base.getindex(sort_idx, i@_23)\u001b[36m::Int64\u001b[39m\n",
      "\u001b[90m│   \u001b[39m %29  = Base.getindex(array, %28)\u001b[36m::Float32\u001b[39m\n",
      "\u001b[90m│   \u001b[39m        Base.setindex!(sorted_array, %29, i@_23)\n",
      "\u001b[90m│   \u001b[39m %31  = undo_sort_lookup\u001b[36m::Vector{Int64}\u001b[39m\n",
      "\u001b[90m│   \u001b[39m %32  = i@_23\u001b[36m::Int64\u001b[39m\n",
      "\u001b[90m│   \u001b[39m %33  = Base.getindex(sort_idx, i@_23)\u001b[36m::Int64\u001b[39m\n",
      "\u001b[90m│   \u001b[39m        Base.setindex!(%31, %32, %33)\n",
      "\u001b[90m│   \u001b[39m        (@_8 = Base.iterate(%20, %27))\n",
      "\u001b[90m│   \u001b[39m %36  = (@_8 === nothing)\u001b[36m::Bool\u001b[39m\n",
      "\u001b[90m│   \u001b[39m %37  = Base.not_int(%36)\u001b[36m::Bool\u001b[39m\n",
      "\u001b[90m└───\u001b[39m        goto #4 if not %37\n",
      "\u001b[90m3 ──\u001b[39m        goto #2\n",
      "\u001b[90m4 ┄─\u001b[39m        (cost_calculator = Main._Kmeans1D.CostCalculator())\n",
      "\u001b[90m│   \u001b[39m        Main._Kmeans1D.build_cumsum(cost_calculator, sorted_array, n)\n",
      "\u001b[90m│   \u001b[39m %42  = Core.apply_type(Main._Kmeans1D.Matrix, Main._Kmeans1D.Float64)\u001b[36m::Core.Const(Matrix{Float64})\u001b[39m\n",
      "\u001b[90m│   \u001b[39m        (D = (%42)(Main._Kmeans1D.undef, k, n))\n",
      "\u001b[90m│   \u001b[39m %44  = Core.apply_type(Main._Kmeans1D.Matrix, Main._Kmeans1D.Int64)\u001b[36m::Core.Const(Matrix{Int64})\u001b[39m\n",
      "\u001b[90m│   \u001b[39m        (T = (%44)(Main._Kmeans1D.undef, k, n))\n",
      "\u001b[90m│   \u001b[39m %46  = (1:n)\u001b[36m::Core.PartialStruct(UnitRange{Int64}, Any[Core.Const(1), Int64])\u001b[39m\n",
      "\u001b[90m│   \u001b[39m        (@_7 = Base.iterate(%46))\n",
      "\u001b[90m│   \u001b[39m %48  = (@_7 === nothing)\u001b[36m::Bool\u001b[39m\n",
      "\u001b[90m│   \u001b[39m %49  = Base.not_int(%48)\u001b[36m::Bool\u001b[39m\n",
      "\u001b[90m└───\u001b[39m        goto #7 if not %49\n",
      "\u001b[90m5 ┄─\u001b[39m %51  = @_7\u001b[36m::Tuple{Int64, Int64}\u001b[39m\n",
      "\u001b[90m│   \u001b[39m        (i@_24 = Core.getfield(%51, 1))\n",
      "\u001b[90m│   \u001b[39m %53  = Core.getfield(%51, 2)\u001b[36m::Int64\u001b[39m\n",
      "\u001b[90m│   \u001b[39m %54  = Main._Kmeans1D.calc(cost_calculator, 1, i@_24)\u001b[36m::Float64\u001b[39m\n",
      "\u001b[90m│   \u001b[39m        Base.setindex!(D, %54, 1, i@_24)\n",
      "\u001b[90m│   \u001b[39m        Base.setindex!(T, 1, 1, i@_24)\n",
      "\u001b[90m│   \u001b[39m        (@_7 = Base.iterate(%46, %53))\n",
      "\u001b[90m│   \u001b[39m %58  = (@_7 === nothing)\u001b[36m::Bool\u001b[39m\n",
      "\u001b[90m│   \u001b[39m %59  = Base.not_int(%58)\u001b[36m::Bool\u001b[39m\n",
      "\u001b[90m└───\u001b[39m        goto #7 if not %59\n",
      "\u001b[90m6 ──\u001b[39m        goto #5\n",
      "\u001b[90m7 ┄─\u001b[39m %62  = Core.apply_type(Main._Kmeans1D.Matrix, Main._Kmeans1D.Float64)\u001b[36m::Core.Const(Matrix{Float64})\u001b[39m\n",
      "\u001b[90m│   \u001b[39m        (C = (%62)(Main._Kmeans1D.undef, n, n))\n",
      "\u001b[90m│   \u001b[39m %64  = Core.apply_type(Main._Kmeans1D.Dict, Main._Kmeans1D.Int64, Main._Kmeans1D.Int64)\u001b[36m::Core.Const(Dict{Int64, Int64})\u001b[39m\n",
      "\u001b[90m│   \u001b[39m        (row_argmins = (%64)())\n",
      "\u001b[90m│   \u001b[39m %66  = (2:k)\u001b[36m::Core.PartialStruct(UnitRange{Int64}, Any[Core.Const(2), Int64])\u001b[39m\n",
      "\u001b[90m│   \u001b[39m        (@_6 = Base.iterate(%66))\n",
      "\u001b[90m│   \u001b[39m %68  = (@_6 === nothing)\u001b[36m::Bool\u001b[39m\n",
      "\u001b[90m│   \u001b[39m %69  = Base.not_int(%68)\u001b[36m::Bool\u001b[39m\n",
      "\u001b[90m└───\u001b[39m        goto #13 if not %69\n",
      "\u001b[90m8 ┄─\u001b[39m %71  = @_6\u001b[36m::Tuple{Int64, Int64}\u001b[39m\n",
      "\u001b[90m│   \u001b[39m        (k_@_26 = Core.getfield(%71, 1))\n",
      "\u001b[90m│   \u001b[39m %73  = Core.getfield(%71, 2)\u001b[36m::Int64\u001b[39m\n",
      "\u001b[90m│   \u001b[39m        (C = Main._Kmeans1D.C_builder(C, D, k_@_26, n, cost_calculator))\n",
      "\u001b[90m│   \u001b[39m %75  = (1:n)\u001b[36m::Core.PartialStruct(UnitRange{Int64}, Any[Core.Const(1), Int64])\u001b[39m\n",
      "\u001b[90m│   \u001b[39m %76  = Main._Kmeans1D.collect(%75)\u001b[36m::Vector{Int64}\u001b[39m\n",
      "\u001b[90m│   \u001b[39m %77  = (1:n)\u001b[36m::Core.PartialStruct(UnitRange{Int64}, Any[Core.Const(1), Int64])\u001b[39m\n",
      "\u001b[90m│   \u001b[39m %78  = Main._Kmeans1D.collect(%77)\u001b[36m::Vector{Int64}\u001b[39m\n",
      "\u001b[90m│   \u001b[39m        (row_argmins = Main._Kmeans1D.smawk(%76, %78, C))\n",
      "\u001b[90m│   \u001b[39m %80  = Main._Kmeans1D.length(row_argmins::Dict{Any, Any})\u001b[36m::Int64\u001b[39m\n",
      "\u001b[90m│   \u001b[39m %81  = (1:%80)\u001b[36m::Core.PartialStruct(UnitRange{Int64}, Any[Core.Const(1), Int64])\u001b[39m\n",
      "\u001b[90m│   \u001b[39m        (@_25 = Base.iterate(%81))\n",
      "\u001b[90m│   \u001b[39m %83  = (@_25 === nothing)\u001b[36m::Bool\u001b[39m\n",
      "\u001b[90m│   \u001b[39m %84  = Base.not_int(%83)\u001b[36m::Bool\u001b[39m\n",
      "\u001b[90m└───\u001b[39m        goto #11 if not %84\n",
      "\u001b[90m9 ┄─\u001b[39m %86  = @_25\u001b[36m::Tuple{Int64, Int64}\u001b[39m\n",
      "\u001b[90m│   \u001b[39m        (i@_29 = Core.getfield(%86, 1))\n",
      "\u001b[90m│   \u001b[39m %88  = Core.getfield(%86, 2)\u001b[36m::Int64\u001b[39m\n",
      "\u001b[90m│   \u001b[39m        (argmin = Base.getindex(row_argmins::Dict{Any, Any}, i@_29))\n",
      "\u001b[90m│   \u001b[39m        (min = Base.getindex(C, i@_29, argmin))\n",
      "\u001b[90m│   \u001b[39m        Base.setindex!(D, min, k_@_26, i@_29)\n",
      "\u001b[90m│   \u001b[39m        Base.setindex!(T, argmin, k_@_26, i@_29)\n",
      "\u001b[90m│   \u001b[39m        (@_25 = Base.iterate(%81, %88))\n",
      "\u001b[90m│   \u001b[39m %94  = (@_25 === nothing)\u001b[36m::Bool\u001b[39m\n",
      "\u001b[90m│   \u001b[39m %95  = Base.not_int(%94)\u001b[36m::Bool\u001b[39m\n",
      "\u001b[90m└───\u001b[39m        goto #11 if not %95\n",
      "\u001b[90m10 ─\u001b[39m        goto #9\n",
      "\u001b[90m11 ┄\u001b[39m        (@_6 = Base.iterate(%66, %73))\n",
      "\u001b[90m│   \u001b[39m %99  = (@_6 === nothing)\u001b[36m::Bool\u001b[39m\n",
      "\u001b[90m│   \u001b[39m %100 = Base.not_int(%99)\u001b[36m::Bool\u001b[39m\n",
      "\u001b[90m└───\u001b[39m        goto #13 if not %100\n",
      "\u001b[90m12 ─\u001b[39m        goto #8\n",
      "\u001b[90m13 ┄\u001b[39m        (centroids = Main._Kmeans1D.zeros(k))\n",
      "\u001b[90m│   \u001b[39m %104 = Core.apply_type(Main._Kmeans1D.Vector, Main._Kmeans1D.Int64)\u001b[36m::Core.Const(Vector{Int64})\u001b[39m\n",
      "\u001b[90m│   \u001b[39m        (sorted_clusters = (%104)(Main._Kmeans1D.undef, n))\n",
      "\u001b[90m│   \u001b[39m        (t = n + 1)\n",
      "\u001b[90m│   \u001b[39m        (k_@_11 = k)\n",
      "\u001b[90m└───\u001b[39m        (n_ = n)\n",
      "\u001b[90m14 ┄\u001b[39m %109 = (t > 1)\u001b[36m::Bool\u001b[39m\n",
      "\u001b[90m└───\u001b[39m        goto #19 if not %109\n",
      "\u001b[90m15 ─\u001b[39m        (t_ = t)\n",
      "\u001b[90m│   \u001b[39m        (t = Base.getindex(T, k_@_11, n_))\n",
      "\u001b[90m│   \u001b[39m        (centroid = 0.0)\n",
      "\u001b[90m│   \u001b[39m %114 = t\u001b[36m::Int64\u001b[39m\n",
      "\u001b[90m│   \u001b[39m %115 = (t_ - 1)\u001b[36m::Int64\u001b[39m\n",
      "\u001b[90m│   \u001b[39m %116 = (%114:%115)\u001b[36m::UnitRange{Int64}\u001b[39m\n",
      "\u001b[90m│   \u001b[39m        (@_30 = Base.iterate(%116))\n",
      "\u001b[90m│   \u001b[39m %118 = (@_30 === nothing)\u001b[36m::Bool\u001b[39m\n",
      "\u001b[90m│   \u001b[39m %119 = Base.not_int(%118)\u001b[36m::Bool\u001b[39m\n",
      "\u001b[90m└───\u001b[39m        goto #18 if not %119\n",
      "\u001b[90m16 ┄\u001b[39m %121 = @_30\u001b[36m::Tuple{Int64, Int64}\u001b[39m\n",
      "\u001b[90m│   \u001b[39m        (i@_33 = Core.getfield(%121, 1))\n",
      "\u001b[90m│   \u001b[39m %123 = Core.getfield(%121, 2)\u001b[36m::Int64\u001b[39m\n",
      "\u001b[90m│   \u001b[39m        Base.setindex!(sorted_clusters, k_@_11, i@_33)\n",
      "\u001b[90m│   \u001b[39m %125 = centroid\u001b[36m::Float64\u001b[39m\n",
      "\u001b[90m│   \u001b[39m %126 = Base.getindex(sorted_array, i@_33)\u001b[36m::Float64\u001b[39m\n",
      "\u001b[90m│   \u001b[39m %127 = (%126 - centroid)\u001b[36m::Float64\u001b[39m\n",
      "\u001b[90m│   \u001b[39m %128 = (i@_33 - t)\u001b[36m::Int64\u001b[39m\n",
      "\u001b[90m│   \u001b[39m %129 = (%128 + 1)\u001b[36m::Int64\u001b[39m\n",
      "\u001b[90m│   \u001b[39m %130 = (%127 / %129)\u001b[36m::Float64\u001b[39m\n",
      "\u001b[90m│   \u001b[39m        (centroid = %125 + %130)\n",
      "\u001b[90m│   \u001b[39m        (@_30 = Base.iterate(%116, %123))\n",
      "\u001b[90m│   \u001b[39m %133 = (@_30 === nothing)\u001b[36m::Bool\u001b[39m\n",
      "\u001b[90m│   \u001b[39m %134 = Base.not_int(%133)\u001b[36m::Bool\u001b[39m\n",
      "\u001b[90m└───\u001b[39m        goto #18 if not %134\n",
      "\u001b[90m17 ─\u001b[39m        goto #16\n",
      "\u001b[90m18 ┄\u001b[39m        Base.setindex!(centroids, centroid, k_@_11)\n",
      "\u001b[90m│   \u001b[39m        (k_@_11 = k_@_11 - 1)\n",
      "\u001b[90m│   \u001b[39m        (n_ = t - 1)\n",
      "\u001b[90m└───\u001b[39m        goto #14\n",
      "\u001b[90m19 ─\u001b[39m %141 = Core.apply_type(Main._Kmeans1D.Vector, Main._Kmeans1D.Int64)\u001b[36m::Core.Const(Vector{Int64})\u001b[39m\n",
      "\u001b[90m│   \u001b[39m        (clusters = (%141)(Main._Kmeans1D.undef, n))\n",
      "\u001b[90m│   \u001b[39m %143 = (1:n)\u001b[36m::Core.PartialStruct(UnitRange{Int64}, Any[Core.Const(1), Int64])\u001b[39m\n",
      "\u001b[90m│   \u001b[39m        (@_5 = Base.iterate(%143))\n",
      "\u001b[90m│   \u001b[39m %145 = (@_5 === nothing)\u001b[36m::Bool\u001b[39m\n",
      "\u001b[90m│   \u001b[39m %146 = Base.not_int(%145)\u001b[36m::Bool\u001b[39m\n",
      "\u001b[90m└───\u001b[39m        goto #22 if not %146\n",
      "\u001b[90m20 ┄\u001b[39m %148 = @_5\u001b[36m::Tuple{Int64, Int64}\u001b[39m\n",
      "\u001b[90m│   \u001b[39m        (i@_34 = Core.getfield(%148, 1))\n",
      "\u001b[90m│   \u001b[39m %150 = Core.getfield(%148, 2)\u001b[36m::Int64\u001b[39m\n",
      "\u001b[90m│   \u001b[39m %151 = sorted_clusters\u001b[36m::Vector{Int64}\u001b[39m\n",
      "\u001b[90m│   \u001b[39m %152 = Base.getindex(undo_sort_lookup, i@_34)\u001b[36m::Int64\u001b[39m\n",
      "\u001b[90m│   \u001b[39m %153 = Base.getindex(%151, %152)\u001b[36m::Int64\u001b[39m\n",
      "\u001b[90m│   \u001b[39m        Base.setindex!(clusters, %153, i@_34)\n",
      "\u001b[90m│   \u001b[39m        (@_5 = Base.iterate(%143, %150))\n",
      "\u001b[90m│   \u001b[39m %156 = (@_5 === nothing)\u001b[36m::Bool\u001b[39m\n",
      "\u001b[90m│   \u001b[39m %157 = Base.not_int(%156)\u001b[36m::Bool\u001b[39m\n",
      "\u001b[90m└───\u001b[39m        goto #22 if not %157\n",
      "\u001b[90m21 ─\u001b[39m        goto #20\n",
      "\u001b[90m22 ┄\u001b[39m %160 = Core.tuple(centroids, clusters)\u001b[36m::Tuple{Vector{Float64}, Vector{Int64}}\u001b[39m\n",
      "\u001b[90m└───\u001b[39m        return %160\n",
      "\n"
     ]
    }
   ],
   "source": [
    "@code_warntype _Kmeans1D.cluster(X, length(X), k)"
   ]
  },
  {
   "cell_type": "code",
   "execution_count": 7,
   "metadata": {},
   "outputs": [
    {
     "data": {
      "text/plain": [
       "BenchmarkTools.Trial: 2 samples with 1 evaluation.\n",
       " Range \u001b[90m(\u001b[39m\u001b[36m\u001b[1mmin\u001b[22m\u001b[39m … \u001b[35mmax\u001b[39m\u001b[90m):  \u001b[39m\u001b[36m\u001b[1m3.165 s\u001b[22m\u001b[39m … \u001b[35m 3.167 s\u001b[39m  \u001b[90m┊\u001b[39m GC \u001b[90m(\u001b[39mmin … max\u001b[90m): \u001b[39m3.66% … 3.41%\n",
       " Time  \u001b[90m(\u001b[39m\u001b[34m\u001b[1mmedian\u001b[22m\u001b[39m\u001b[90m):     \u001b[39m\u001b[34m\u001b[1m3.166 s             \u001b[22m\u001b[39m\u001b[90m┊\u001b[39m GC \u001b[90m(\u001b[39mmedian\u001b[90m):    \u001b[39m3.53%\n",
       " Time  \u001b[90m(\u001b[39m\u001b[32m\u001b[1mmean\u001b[22m\u001b[39m ± \u001b[32mσ\u001b[39m\u001b[90m):   \u001b[39m\u001b[32m\u001b[1m3.166 s\u001b[22m\u001b[39m ± \u001b[32m1.682 ms\u001b[39m  \u001b[90m┊\u001b[39m GC \u001b[90m(\u001b[39mmean ± σ\u001b[90m):  \u001b[39m3.53% ± 0.18%\n",
       "\n",
       "  \u001b[34m█\u001b[39m\u001b[39m \u001b[39m \u001b[39m \u001b[39m \u001b[39m \u001b[39m \u001b[39m \u001b[39m \u001b[39m \u001b[39m \u001b[39m \u001b[39m \u001b[39m \u001b[39m \u001b[39m \u001b[39m \u001b[39m \u001b[39m \u001b[39m \u001b[39m \u001b[39m \u001b[39m \u001b[39m \u001b[39m \u001b[39m \u001b[39m \u001b[39m \u001b[32m \u001b[39m\u001b[39m \u001b[39m \u001b[39m \u001b[39m \u001b[39m \u001b[39m \u001b[39m \u001b[39m \u001b[39m \u001b[39m \u001b[39m \u001b[39m \u001b[39m \u001b[39m \u001b[39m \u001b[39m \u001b[39m \u001b[39m \u001b[39m \u001b[39m \u001b[39m \u001b[39m \u001b[39m \u001b[39m \u001b[39m \u001b[39m \u001b[39m█\u001b[39m \u001b[39m \n",
       "  \u001b[34m█\u001b[39m\u001b[39m▁\u001b[39m▁\u001b[39m▁\u001b[39m▁\u001b[39m▁\u001b[39m▁\u001b[39m▁\u001b[39m▁\u001b[39m▁\u001b[39m▁\u001b[39m▁\u001b[39m▁\u001b[39m▁\u001b[39m▁\u001b[39m▁\u001b[39m▁\u001b[39m▁\u001b[39m▁\u001b[39m▁\u001b[39m▁\u001b[39m▁\u001b[39m▁\u001b[39m▁\u001b[39m▁\u001b[39m▁\u001b[39m▁\u001b[39m▁\u001b[32m▁\u001b[39m\u001b[39m▁\u001b[39m▁\u001b[39m▁\u001b[39m▁\u001b[39m▁\u001b[39m▁\u001b[39m▁\u001b[39m▁\u001b[39m▁\u001b[39m▁\u001b[39m▁\u001b[39m▁\u001b[39m▁\u001b[39m▁\u001b[39m▁\u001b[39m▁\u001b[39m▁\u001b[39m▁\u001b[39m▁\u001b[39m▁\u001b[39m▁\u001b[39m▁\u001b[39m▁\u001b[39m▁\u001b[39m▁\u001b[39m▁\u001b[39m█\u001b[39m \u001b[39m▁\n",
       "  3.16 s\u001b[90m        Histogram: frequency by time\u001b[39m        3.17 s \u001b[0m\u001b[1m<\u001b[22m\n",
       "\n",
       " Memory estimate\u001b[90m: \u001b[39m\u001b[33m1.41 GiB\u001b[39m, allocs estimate\u001b[90m: \u001b[39m\u001b[33m93307738\u001b[39m."
      ]
     },
     "execution_count": 7,
     "metadata": {},
     "output_type": "execute_result"
    }
   ],
   "source": [
    "@benchmark Kmeans1D.cluster_julia(X, k)"
   ]
  },
  {
   "cell_type": "code",
   "execution_count": 8,
   "metadata": {},
   "outputs": [],
   "source": [
    "#@profile Kmeans1D.cluster_julia(X,k)"
   ]
  },
  {
   "cell_type": "code",
   "execution_count": 9,
   "metadata": {},
   "outputs": [],
   "source": [
    "#aux = Kmeans1D.cluster_julia(X,k)"
   ]
  },
  {
   "cell_type": "code",
   "execution_count": 10,
   "metadata": {},
   "outputs": [],
   "source": [
    "#owntime()"
   ]
  },
  {
   "cell_type": "code",
   "execution_count": 11,
   "metadata": {},
   "outputs": [],
   "source": [
    "#totaltime(stackframe_filter=filecontains(\"_core_trans.jl\"))"
   ]
  },
  {
   "cell_type": "code",
   "execution_count": 12,
   "metadata": {},
   "outputs": [],
   "source": [
    "#totaltime()"
   ]
  },
  {
   "cell_type": "code",
   "execution_count": 13,
   "metadata": {
    "scrolled": false
   },
   "outputs": [],
   "source": [
    "#Profile.print(format=:flat)"
   ]
  },
  {
   "cell_type": "code",
   "execution_count": null,
   "metadata": {},
   "outputs": [],
   "source": []
  },
  {
   "cell_type": "code",
   "execution_count": null,
   "metadata": {},
   "outputs": [],
   "source": []
  },
  {
   "cell_type": "code",
   "execution_count": null,
   "metadata": {},
   "outputs": [],
   "source": []
  }
 ],
 "metadata": {
  "kernelspec": {
   "display_name": "Julia 1.8.0",
   "language": "julia",
   "name": "julia-1.8"
  },
  "language_info": {
   "file_extension": ".jl",
   "mimetype": "application/julia",
   "name": "julia",
   "version": "1.8.0"
  }
 },
 "nbformat": 4,
 "nbformat_minor": 2
}
