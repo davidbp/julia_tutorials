{
 "cells": [
  {
   "cell_type": "markdown",
   "id": "7c2e3113",
   "metadata": {},
   "source": [
    "# Part 1: Ensure PQLinearscann with a shared quantizer works\n",
    "\n",
    "# Read SIFT 1 million "
   ]
  },
  {
   "cell_type": "code",
   "execution_count": 1,
   "id": "88c8c554",
   "metadata": {
    "ExecuteTime": {
     "end_time": "2022-08-25T22:20:57.787000+02:00",
     "start_time": "2022-08-25T20:20:50.054Z"
    }
   },
   "outputs": [],
   "source": [
    "using HDF5\n",
    "using BenchmarkTools\n",
    "using Distances\n",
    "using LoopVectorization\n",
    "using SIMD\n",
    "using Clustering\n",
    "using ProgressMeter\n",
    "using StaticArrays\n",
    "using DataFrames\n",
    "using Plots"
   ]
  },
  {
   "cell_type": "code",
   "execution_count": 2,
   "id": "5c8425bb",
   "metadata": {
    "ExecuteTime": {
     "end_time": "2022-08-25T22:20:59.059000+02:00",
     "start_time": "2022-08-25T20:20:50.603Z"
    }
   },
   "outputs": [
    {
     "data": {
      "text/plain": [
       "\"Apple M1 Pro\""
      ]
     },
     "execution_count": 2,
     "metadata": {},
     "output_type": "execute_result"
    }
   ],
   "source": [
    "profile_flag = false\n",
    "Sys.cpu_info()[1].model"
   ]
  },
  {
   "cell_type": "code",
   "execution_count": 3,
   "id": "cece13ba",
   "metadata": {
    "ExecuteTime": {
     "end_time": "2022-08-25T22:20:59.063000+02:00",
     "start_time": "2022-08-25T20:20:51.188Z"
    }
   },
   "outputs": [
    {
     "data": {
      "text/plain": [
       "\"/Users/dbuchaca/Datasets/SIFT1M/sift-128-euclidean.hdf5\""
      ]
     },
     "execution_count": 3,
     "metadata": {},
     "output_type": "execute_result"
    }
   ],
   "source": [
    "path = joinpath(homedir(), \"Datasets\", \"SIFT1M\",  \"sift-128-euclidean.hdf5\")"
   ]
  },
  {
   "cell_type": "code",
   "execution_count": 4,
   "id": "c1e88b49",
   "metadata": {
    "ExecuteTime": {
     "end_time": "2022-08-25T22:21:03.628000+02:00",
     "start_time": "2022-08-25T20:20:53.263Z"
    },
    "scrolled": true
   },
   "outputs": [
    {
     "name": "stdout",
     "output_type": "stream",
     "text": [
      "size(X_tr_vecs) = (128, 1000000)\n",
      "size(X_te_vecs) = (128, 10000)\n",
      "size(true_neighbors) = (100, 10000)\n",
      "size(true_distances) = (100, 10000)\n"
     ]
    },
    {
     "data": {
      "text/plain": [
       "(100, 10000)"
      ]
     },
     "execution_count": 4,
     "metadata": {},
     "output_type": "execute_result"
    }
   ],
   "source": [
    "f = h5open(path, \"r\")\n",
    "\n",
    "X_tr_vecs = read(f[\"train\"])\n",
    "X_te_vecs = read(f[\"test\"]);\n",
    "true_neighbors = read(f[\"neighbors\"])\n",
    "true_distances = read(f[\"distances\"])\n",
    "\n",
    "true_neighbors .= true_neighbors .+ 1;\n",
    "\n",
    "@show size(X_tr_vecs)\n",
    "@show size(X_te_vecs)\n",
    "@show size(true_neighbors)\n",
    "@show size(true_distances)"
   ]
  },
  {
   "cell_type": "markdown",
   "id": "0c076291",
   "metadata": {},
   "source": [
    "## Clustering.jl\n",
    "\n",
    "Create the pqcodes for the training points"
   ]
  },
  {
   "cell_type": "code",
   "execution_count": 5,
   "id": "dd3d08ab",
   "metadata": {
    "ExecuteTime": {
     "end_time": "2022-08-25T22:21:03.876000+02:00",
     "start_time": "2022-08-25T20:20:54.505Z"
    }
   },
   "outputs": [
    {
     "name": "stderr",
     "output_type": "stream",
     "text": [
      "\u001b[32mProgress: 100%|█████████████████████████████████████████| Time: 0:02:43\u001b[39m\n"
     ]
    }
   ],
   "source": [
    "n_features = size(X_tr_vecs,1)\n",
    "n_clusters = 32\n",
    "R_per_feature = []\n",
    "\n",
    "@showprogress for j in  1:n_features\n",
    "    R = kmeans(X_tr_vecs[[j],:], n_clusters; maxiter=200)\n",
    "    push!(R_per_feature, R)\n",
    "end"
   ]
  },
  {
   "cell_type": "code",
   "execution_count": 6,
   "id": "369efb23",
   "metadata": {
    "ExecuteTime": {
     "end_time": "2022-08-25T22:23:55.337000+02:00",
     "start_time": "2022-08-25T20:21:11.967Z"
    },
    "scrolled": true
   },
   "outputs": [
    {
     "name": "stdout",
     "output_type": "stream",
     "text": [
      "Float32[0.49666122, 80.90828, 32.94114, 43.903812, 119.045685, 21.973886, 8.950528, 145.65755, 37.948563, 134.67995, 63.98707, 74.986145, 14.96987, 18.451147, 94.42536, 70.46136, 50.41857, 60.48038, 28.983364, 126.29258, 112.17338, 3.9273367, 11.48651, 87.93994, 24.492191, 26.49079, 105.47092, 66.97982, 55.959335, 6.483061, 99.9554, 13.0]\n",
      "(32, 128)\n"
     ]
    }
   ],
   "source": [
    "P = hcat([r.centers[:] for r in R_per_feature]...);\n",
    "println(P[:,1])\n",
    "println(size(P))"
   ]
  },
  {
   "cell_type": "code",
   "execution_count": 7,
   "id": "09b3d2b6",
   "metadata": {
    "ExecuteTime": {
     "end_time": "2022-08-25T22:23:55.393000+02:00",
     "start_time": "2022-08-25T20:21:12.860Z"
    }
   },
   "outputs": [
    {
     "name": "stdout",
     "output_type": "stream",
     "text": [
      "Float32[0.49666122, 80.90828, 32.94114, 43.903812, 119.045685, 21.973886, 8.950528, 145.65755, 37.948563, 134.67995, 63.98707, 74.986145, 14.96987, 18.451147, 94.42536, 70.46136, 50.41857, 60.48038, 28.983364, 126.29258, 112.17338, 3.9273367, 11.48651, 87.93994, 24.492191, 26.49079, 105.47092, 66.97982, 55.959335, 6.483061, 99.9554, 13.0]\n",
      "(32, 128)\n"
     ]
    }
   ],
   "source": [
    "P = hcat([r.centers[:] for r in R_per_feature]...);\n",
    "println(P[:,1])\n",
    "println(size(P))"
   ]
  },
  {
   "cell_type": "code",
   "execution_count": 8,
   "id": "30f62137",
   "metadata": {
    "ExecuteTime": {
     "end_time": "2022-08-25T22:24:07.151000+02:00",
     "start_time": "2022-08-25T20:21:13.512Z"
    }
   },
   "outputs": [],
   "source": [
    "if profile_flag\n",
    "    @benchmark P = hcat([r.centers[:] for r in R_per_feature]...)\n",
    "end"
   ]
  },
  {
   "cell_type": "markdown",
   "id": "7c259328",
   "metadata": {},
   "source": [
    "Another way to construct the matrix would be"
   ]
  },
  {
   "cell_type": "code",
   "execution_count": 9,
   "id": "2d1b602a",
   "metadata": {
    "ExecuteTime": {
     "end_time": "2022-08-25T22:24:07.372000+02:00",
     "start_time": "2022-08-25T20:21:14.349Z"
    }
   },
   "outputs": [],
   "source": [
    "function build_prototype_matrix(R, n_clusters, n_features)\n",
    "    \n",
    "    prototypes = Array{Float32}(undef, n_clusters, n_features);\n",
    "    for j in 1:n_features\n",
    "        prototypes[:,j] .= vec(R_per_feature[j].centers)\n",
    "    end\n",
    "    return prototypes\n",
    "end\n",
    "\n",
    "if profile_flag\n",
    "    @benchmark P = build_prototype_matrix(R_per_feature, n_clusters, n_features)\n",
    "end"
   ]
  },
  {
   "cell_type": "code",
   "execution_count": 10,
   "id": "7eae2159",
   "metadata": {
    "ExecuteTime": {
     "end_time": "2022-08-25T22:24:14.829000+02:00",
     "start_time": "2022-08-25T20:21:15.659Z"
    }
   },
   "outputs": [
    {
     "data": {
      "text/plain": [
       "true"
      ]
     },
     "execution_count": 10,
     "metadata": {},
     "output_type": "execute_result"
    }
   ],
   "source": [
    "P2 = build_prototype_matrix(R_per_feature, n_clusters, n_features);\n",
    "isapprox(P, P2)"
   ]
  },
  {
   "cell_type": "markdown",
   "id": "254cc3af",
   "metadata": {},
   "source": [
    "We can generate the PQcodes for the data as follows:"
   ]
  },
  {
   "cell_type": "code",
   "execution_count": 11,
   "id": "0fc26f97",
   "metadata": {
    "ExecuteTime": {
     "end_time": "2022-08-25T22:24:18.056000+02:00",
     "start_time": "2022-08-25T20:21:17.062Z"
    }
   },
   "outputs": [
    {
     "data": {
      "text/plain": [
       "(128, 1000000)"
      ]
     },
     "execution_count": 11,
     "metadata": {},
     "output_type": "execute_result"
    }
   ],
   "source": [
    "PQcodes = hcat([Int32.(r.assignments[:]) for r in R_per_feature]...)';\n",
    "size(PQcodes)"
   ]
  },
  {
   "cell_type": "markdown",
   "id": "25820db5",
   "metadata": {},
   "source": [
    "Here each vector prototype is in fact a single scalar (because subvectors have a single coordinate)"
   ]
  },
  {
   "cell_type": "code",
   "execution_count": 12,
   "id": "68865753",
   "metadata": {
    "ExecuteTime": {
     "end_time": "2022-08-25T22:24:18.066000+02:00",
     "start_time": "2022-08-25T20:21:18.602Z"
    }
   },
   "outputs": [
    {
     "data": {
      "text/plain": [
       "(32, 128)"
      ]
     },
     "execution_count": 12,
     "metadata": {},
     "output_type": "execute_result"
    }
   ],
   "source": [
    "size(P)"
   ]
  },
  {
   "cell_type": "markdown",
   "id": "695f9699",
   "metadata": {},
   "source": [
    "We need a method to, given a vector and a collection of prototypes per feature, find which are the closest"
   ]
  },
  {
   "cell_type": "code",
   "execution_count": 13,
   "id": "3a9070eb",
   "metadata": {
    "ExecuteTime": {
     "end_time": "2022-08-25T22:24:18.768000+02:00",
     "start_time": "2022-08-25T20:21:21.230Z"
    }
   },
   "outputs": [],
   "source": [
    "\n",
    "@inline function seuclidean(x::T,y::T) where {T}\n",
    "    aux::T = (x - y)\n",
    "    return aux * aux\n",
    "end\n",
    "\n",
    "@inline function euclidean(x::T,y::T) where {T}\n",
    "    aux::T = (x - y)\n",
    "    return sqrt(aux * aux)\n",
    "end\n",
    "\n",
    "function find_closest_coordinate(dist, \n",
    "                                 value::T,\n",
    "                                 vector) where T\n",
    "    best_coordinate = 1\n",
    "    min_distance::T = typemax(T)\n",
    "    for (j,x) in enumerate(vector)\n",
    "        current_dist = dist(x, value)\n",
    "        if current_dist < min_distance\n",
    "            best_coordinate = j\n",
    "            min_distance = current_dist\n",
    "        end\n",
    "    end\n",
    "    return best_coordinate\n",
    "end\n",
    "\n",
    "query = X_te_vecs[:,1];\n",
    "closest_prototypes = Array{UInt8}(undef, n_features, 1);\n",
    "\n",
    "if profile_flag\n",
    "    @benchmark find_closest_coordinate(euclidean, Float32(48.), query)\n",
    "end"
   ]
  },
  {
   "cell_type": "code",
   "execution_count": 14,
   "id": "80e21b6a",
   "metadata": {
    "ExecuteTime": {
     "end_time": "2022-08-25T22:24:21.713000+02:00",
     "start_time": "2022-08-25T20:21:23.040Z"
    }
   },
   "outputs": [],
   "source": [
    "@assert 3 == find_closest_coordinate(euclidean, 2., [3.,5,2,1])\n",
    "\n",
    "@assert 4 == find_closest_coordinate(euclidean, 1., [3.,5,2,1])"
   ]
  },
  {
   "cell_type": "code",
   "execution_count": 15,
   "id": "7599adc7",
   "metadata": {
    "ExecuteTime": {
     "end_time": "2022-08-25T22:24:21.809000+02:00",
     "start_time": "2022-08-25T20:21:23.849Z"
    }
   },
   "outputs": [],
   "source": [
    "function encode(dist, vector, prototypes)\n",
    "    closest_prototypes = Array{Int8}(undef, n_features, 1);\n",
    "    @inbounds for (j,x) in enumerate(vector)\n",
    "        closest_prototypes[j] = find_closest_coordinate(dist, x, prototypes[:,j])\n",
    "    end\n",
    "    return closest_prototypes\n",
    "end\n",
    "\n",
    "if profile_flag\n",
    "    @benchmark encode(euclidean, query, P)\n",
    "end"
   ]
  },
  {
   "cell_type": "code",
   "execution_count": 16,
   "id": "88812357",
   "metadata": {},
   "outputs": [],
   "source": [
    "n_features, n_examples_test = size(X_te_vecs)\n",
    "\n",
    "PQcodes_test = Array{Int16}(undef, n_features, n_examples_test);\n",
    "\n",
    "for j in 1:n_examples_test\n",
    "    PQcodes_test[:,j] = encode(euclidean, X_te_vecs[:,j] , P)  \n",
    "end"
   ]
  },
  {
   "cell_type": "code",
   "execution_count": 17,
   "id": "493cb742",
   "metadata": {
    "ExecuteTime": {
     "end_time": "2022-08-25T22:24:29.056000+02:00",
     "start_time": "2022-08-25T20:21:27.795Z"
    }
   },
   "outputs": [],
   "source": [
    "function encode_fast(dist, vector::Array{T}, prototypes::Array{T}) where T\n",
    "    \n",
    "    n_clusters, n_features = size(prototypes)\n",
    "    closest_prototypes = Array{Int8}(undef, n_features, 1);\n",
    "    \n",
    "    @inbounds for (j,x) in enumerate(vector)\n",
    "        best_coordinate = 1\n",
    "        min_distance::T = typemax(T)\n",
    "        for k in 1:n_clusters\n",
    "           current_dist = dist(prototypes[k,j], x)\n",
    "           if current_dist < min_distance\n",
    "               best_coordinate = k\n",
    "               min_distance = current_dist\n",
    "           end\n",
    "           #println(k, ' ', j, ' ', best_coordinate, ' ',min_distance )\n",
    "        end            \n",
    "        closest_prototypes[j] = best_coordinate\n",
    "    end\n",
    "    return closest_prototypes\n",
    "end\n",
    "\n",
    "@assert isapprox(encode(euclidean, query, P),\n",
    "                 encode_fast(euclidean, query, P))\n",
    "\n",
    "if profile_flag\n",
    "    @benchmark encode_fast(euclidean, query, P)\n",
    "end"
   ]
  },
  {
   "cell_type": "code",
   "execution_count": 18,
   "id": "aba9fbbf",
   "metadata": {
    "ExecuteTime": {
     "end_time": "2022-08-25T22:24:29.196000+02:00",
     "start_time": "2022-08-25T20:21:29.446Z"
    }
   },
   "outputs": [
    {
     "name": "stdout",
     "output_type": "stream",
     "text": [
      "1\n",
      "28\n",
      "29\n"
     ]
    }
   ],
   "source": [
    "println(find_closest_coordinate(euclidean, query[1], P[:,1]))\n",
    "println(find_closest_coordinate(euclidean, query[2], P[:,2]))\n",
    "println(find_closest_coordinate(euclidean, query[3], P[:,3]))"
   ]
  },
  {
   "cell_type": "code",
   "execution_count": 19,
   "id": "9c42b292",
   "metadata": {
    "ExecuteTime": {
     "end_time": "2022-08-25T22:24:33.029000+02:00",
     "start_time": "2022-08-25T20:21:32.733Z"
    }
   },
   "outputs": [],
   "source": [
    "function SEuclidean0(x, query)\n",
    "    @assert length(x) == length(query)\n",
    "    res = zero(eltype(x))\n",
    "    @inbounds   for j in eachindex(x)\n",
    "        aux = (query[j] - x[j])\n",
    "        res += aux * aux\n",
    "    end\n",
    "    return res\n",
    "end\n",
    "\n",
    "function Euclidean0(x, query)\n",
    "    @assert length(x) == length(query)\n",
    "    res = zero(eltype(x))\n",
    "    @inbounds   for j in eachindex(x)\n",
    "        aux = (query[j] - x[j])\n",
    "        res += aux * aux\n",
    "    end\n",
    "    return sqrt(res)\n",
    "end\n",
    "\n",
    "function compute_ADC(query, prototypes, dist)\n",
    "    n_clusters, n_features = size(prototypes)\n",
    "    \n",
    "    ADC_table = Array{Float32}(undef, n_clusters, n_features)\n",
    "    \n",
    "    for j in 1:n_features\n",
    "        for p in 1:n_clusters\n",
    "            ADC_table[p,j] = dist(query[j], prototypes[p,j] )\n",
    "        end\n",
    "    end\n",
    "    return  ADC_table\n",
    "end\n",
    "\n",
    "adc_table = compute_ADC(query, P, euclidean)\n",
    "\n",
    "if profile_flag\n",
    "    @benchmark compute_ADC(query, P, euclidean)\n",
    "end"
   ]
  },
  {
   "cell_type": "code",
   "execution_count": 20,
   "id": "845a1a68",
   "metadata": {
    "ExecuteTime": {
     "end_time": "2022-08-25T22:24:56.443000+02:00",
     "start_time": "2022-08-25T20:21:37.841Z"
    }
   },
   "outputs": [
    {
     "name": "stdout",
     "output_type": "stream",
     "text": [
      "5177.5645"
     ]
    }
   ],
   "source": [
    "function adc_dist(x_code,  adc_table)\n",
    "    res = zero(eltype(adc_table))\n",
    "    @inbounds @fastmath for j in eachindex(x_code)\n",
    "        res+= adc_table[x_code[j], j]\n",
    "    end\n",
    "    return res\n",
    "end\n",
    "\n",
    "query_code = encode_fast(euclidean, query, P)\n",
    "x_code = PQcodes[:,1];\n",
    "adc_table = compute_ADC(query, P, euclidean);\n",
    "print(adc_dist(x_code,  adc_table))\n",
    "\n",
    "if profile_flag\n",
    "    @benchmark adc_dist(query_code, x_code,  adc_table)\n",
    "end"
   ]
  },
  {
   "cell_type": "code",
   "execution_count": 21,
   "id": "12a19a80",
   "metadata": {},
   "outputs": [],
   "source": [
    "function linear_scann(query, PQcodes, adc_table, P)\n",
    "    \n",
    "    query_code = encode_fast(sqeuclidean, query, P)\n",
    "    n_features, n_examples = size(PQcodes)\n",
    "    distances = Array{eltype(query)}(undef, n_examples)\n",
    "    \n",
    "    @inbounds @fastmath for j in 1:n_examples\n",
    "        distances[j] = adc_dist( view(PQcodes,:,j) ,  adc_table)    \n",
    "    end\n",
    "    return distances\n",
    "end\n",
    "\n",
    "if profile_flag\n",
    "    @benchmark distances = linear_scann($query, $PQcodes, $adc_table, $P)\n",
    "end"
   ]
  },
  {
   "cell_type": "markdown",
   "id": "6b330669",
   "metadata": {},
   "source": [
    "### Compute Recall PQLinearScann "
   ]
  },
  {
   "cell_type": "code",
   "execution_count": 22,
   "id": "9cdd3562",
   "metadata": {},
   "outputs": [
    {
     "name": "stdout",
     "output_type": "stream",
     "text": [
      "recall(top_k_pq, query_true_neighbors, 100) = 0.69\n"
     ]
    }
   ],
   "source": [
    "function recall(predicted, relevant, eval_at)\n",
    "    \"\"\"\n",
    "    fraction of the relevant documents that are successfully retrieved\n",
    "    \"\"\"\n",
    "    if eval_at == 0\n",
    "        return 0.0\n",
    "    end\n",
    "    \n",
    "    predicted_at_k = predicted[1:eval_at]\n",
    "    n_predicted_and_relevant =  length(intersect( Set(predicted_at_k), Set(relevant))) \n",
    "    return n_predicted_and_relevant/ length(relevant)\n",
    "end\n",
    "\n",
    "query_id = 1\n",
    "query = X_te_vecs[:,query_id];\n",
    "query_true_neighbors = true_neighbors[:,query_id]\n",
    "top_k = 100\n",
    "\n",
    "query_code = encode_fast(euclidean, query, P)\n",
    "x_code = PQcodes[:,1];\n",
    "adc_table = compute_ADC(query, P, euclidean);\n",
    "pq_distances = linear_scann(query, PQcodes, adc_table, P);\n",
    "top_k_pq = sortperm(pq_distances)[1:top_k];\n",
    "\n",
    "@show recall(top_k_pq, query_true_neighbors, 100);"
   ]
  },
  {
   "cell_type": "markdown",
   "id": "39ffcec3",
   "metadata": {},
   "source": [
    "### Decoding vectors from pqcode"
   ]
  },
  {
   "cell_type": "code",
   "execution_count": 23,
   "id": "c1a97352",
   "metadata": {},
   "outputs": [],
   "source": [
    "PQcodes = hcat([Int32.(r.assignments[:]) for r in R_per_feature]...)';"
   ]
  },
  {
   "cell_type": "code",
   "execution_count": 24,
   "id": "f8e4d367",
   "metadata": {},
   "outputs": [],
   "source": [
    "function get_top_k_from_distances(X, distances, top_k)\n",
    "    top_k_pq = sortperm(distances)[1:top_k];\n",
    "    X_top = X[:,top_k_pq]\n",
    "    return X_top\n",
    "end\n",
    "\n",
    "function decode(x_pqcode, P)\n",
    "    n_features = length(x_pqcode)\n",
    "    x_decoded = zeros(eltype(P), n_features)\n",
    "    \n",
    "    for j in eachindex(x_pqcode)\n",
    "        x_decoded[j] = P[x_pqcode[j], j]\n",
    "    end\n",
    "    return x_decoded\n",
    "end\n",
    "\n",
    "x = X_te_vecs[:,1]\n",
    "x_pqcode = vec(encode(Euclidean0, x, P));\n",
    "x_decoded = decode(x_pqcode, P);"
   ]
  },
  {
   "cell_type": "code",
   "execution_count": 25,
   "id": "34798496",
   "metadata": {},
   "outputs": [
    {
     "data": {
      "text/html": [
       "<div class=\"data-frame\"><p>5 rows × 4 columns</p><table class=\"data-frame\"><thead><tr><th></th><th>x</th><th>x_closest</th><th>x_decoded</th><th>x_pqcode</th></tr><tr><th></th><th title=\"Float32\">Float32</th><th title=\"Float32\">Float32</th><th title=\"Float32\">Float32</th><th title=\"Int8\">Int8</th></tr></thead><tbody><tr><th>1</th><td>1.0</td><td>1.0</td><td>0.496661</td><td>1</td></tr><tr><th>2</th><td>3.0</td><td>3.0</td><td>3.0</td><td>28</td></tr><tr><th>3</th><td>11.0</td><td>11.0</td><td>10.4715</td><td>29</td></tr><tr><th>4</th><td>110.0</td><td>110.0</td><td>110.286</td><td>20</td></tr><tr><th>5</th><td>62.0</td><td>62.0</td><td>60.3883</td><td>3</td></tr></tbody></table></div>"
      ],
      "text/latex": [
       "\\begin{tabular}{r|cccc}\n",
       "\t& x & x\\_closest & x\\_decoded & x\\_pqcode\\\\\n",
       "\t\\hline\n",
       "\t& Float32 & Float32 & Float32 & Int8\\\\\n",
       "\t\\hline\n",
       "\t1 & 1.0 & 1.0 & 0.496661 & 1 \\\\\n",
       "\t2 & 3.0 & 3.0 & 3.0 & 28 \\\\\n",
       "\t3 & 11.0 & 11.0 & 10.4715 & 29 \\\\\n",
       "\t4 & 110.0 & 110.0 & 110.286 & 20 \\\\\n",
       "\t5 & 62.0 & 62.0 & 60.3883 & 3 \\\\\n",
       "\\end{tabular}\n"
      ],
      "text/plain": [
       "\u001b[1m5×4 DataFrame\u001b[0m\n",
       "\u001b[1m Row \u001b[0m│\u001b[1m x       \u001b[0m\u001b[1m x_closest \u001b[0m\u001b[1m x_decoded  \u001b[0m\u001b[1m x_pqcode \u001b[0m\n",
       "\u001b[1m     \u001b[0m│\u001b[90m Float32 \u001b[0m\u001b[90m Float32   \u001b[0m\u001b[90m Float32    \u001b[0m\u001b[90m Int8     \u001b[0m\n",
       "─────┼──────────────────────────────────────────\n",
       "   1 │     1.0        1.0    0.496661         1\n",
       "   2 │     3.0        3.0    3.0             28\n",
       "   3 │    11.0       11.0   10.4715          29\n",
       "   4 │   110.0      110.0  110.286           20\n",
       "   5 │    62.0       62.0   60.3883           3"
      ]
     },
     "execution_count": 25,
     "metadata": {},
     "output_type": "execute_result"
    }
   ],
   "source": [
    "query = X_te_vecs[:,1]\n",
    "adc_table = compute_ADC(query, P, Euclidean0)\n",
    "pq_distances = linear_scann(query, PQcodes_test, adc_table, P);\n",
    "x_closest = vec(get_top_k_from_distances(X_te_vecs, pq_distances, 1));\n",
    "df_x = DataFrame(Dict(:x => x, \n",
    "                      :x_decoded => x_decoded,\n",
    "                      :x_pqcode => x_pqcode,\n",
    "                      :x_closest => x_closest\n",
    "                      ))\n",
    "first(df_x, 5)"
   ]
  },
  {
   "cell_type": "markdown",
   "id": "95bd0d20",
   "metadata": {},
   "source": [
    "##  PQLinearscann Sharing prototypes across features\n",
    "\n",
    "https://groups.google.com/g/julia-users/c/xBcQRebyi_o\n",
    "\n"
   ]
  },
  {
   "cell_type": "code",
   "execution_count": 26,
   "id": "9b14e473",
   "metadata": {
    "ExecuteTime": {
     "end_time": "2022-08-25T22:25:03.638000+02:00",
     "start_time": "2022-08-25T20:21:40.923Z"
    }
   },
   "outputs": [
    {
     "data": {
      "text/plain": [
       "KmeansResult{Matrix{Float32}, Float32, Int64}(Float32[0.49666122 80.90828 … 99.9554 13.0], [1, 13, 1, 23, 1, 17, 1, 13, 7, 6  …  9, 7, 7, 3, 3, 18, 22, 19, 1, 21], Float32[0.24667236, 0.9406433, 0.24667236, 0.26367188, 0.25334996, 5.8496094, 0.24667236, 1.0611572, 0.9035034, 0.9484253  …  1.1054688, 1.1013947, 0.0024414062, 0.0034179688, 4.2390137, 2.1914062, 0.8599529, 1.0335693, 0.24667236, 3.3378906], [238559, 17880, 37868, 39963, 16548, 31708, 56274, 2742, 32797, 11123  …  32024, 15651, 19275, 18295, 9764, 10207, 21615, 43568, 8654, 15201], [238559, 17880, 37868, 39963, 16548, 31708, 56274, 2742, 32797, 11123  …  32024, 15651, 19275, 18295, 9764, 10207, 21615, 43568, 8654, 15201], 1.4650838f6, 6, true)"
      ]
     },
     "execution_count": 26,
     "metadata": {},
     "output_type": "execute_result"
    }
   ],
   "source": [
    "n_clusters = 32\n",
    "#R_shared = kmeans(Matrix(vec(X_tr_vecs)'), n_clusters; maxiter=200)\n",
    "#R_shared = kmeans(X_tr_vecs[[1],:], n_clusters; maxiter=200)\n",
    "R_shared = R_per_feature[1]"
   ]
  },
  {
   "cell_type": "code",
   "execution_count": 27,
   "id": "2323ab73",
   "metadata": {
    "ExecuteTime": {
     "end_time": "2022-08-25T23:00:55.815000+02:00",
     "start_time": "2022-08-25T21:00:55.807Z"
    },
    "scrolled": true
   },
   "outputs": [
    {
     "data": {
      "text/html": [
       "<div class=\"data-frame\"><p>5 rows × 4 columns</p><table class=\"data-frame\"><thead><tr><th></th><th>x</th><th>x_decoded</th><th>x_pqcode</th><th>x_pqcode_shared</th></tr><tr><th></th><th title=\"Float32\">Float32</th><th title=\"Float32\">Float32</th><th title=\"Int8\">Int8</th><th title=\"Int8\">Int8</th></tr></thead><tbody><tr><th>1</th><td>0.0</td><td>0.496661</td><td>1</td><td>1</td></tr><tr><th>2</th><td>1.0</td><td>0.496661</td><td>1</td><td>1</td></tr><tr><th>3</th><td>5.0</td><td>3.92734</td><td>22</td><td>22</td></tr><tr><th>4</th><td>3.0</td><td>3.92734</td><td>22</td><td>22</td></tr><tr><th>5</th><td>44.0</td><td>43.9038</td><td>4</td><td>4</td></tr></tbody></table></div>"
      ],
      "text/latex": [
       "\\begin{tabular}{r|cccc}\n",
       "\t& x & x\\_decoded & x\\_pqcode & x\\_pqcode\\_shared\\\\\n",
       "\t\\hline\n",
       "\t& Float32 & Float32 & Int8 & Int8\\\\\n",
       "\t\\hline\n",
       "\t1 & 0.0 & 0.496661 & 1 & 1 \\\\\n",
       "\t2 & 1.0 & 0.496661 & 1 & 1 \\\\\n",
       "\t3 & 5.0 & 3.92734 & 22 & 22 \\\\\n",
       "\t4 & 3.0 & 3.92734 & 22 & 22 \\\\\n",
       "\t5 & 44.0 & 43.9038 & 4 & 4 \\\\\n",
       "\\end{tabular}\n"
      ],
      "text/plain": [
       "\u001b[1m5×4 DataFrame\u001b[0m\n",
       "\u001b[1m Row \u001b[0m│\u001b[1m x       \u001b[0m\u001b[1m x_decoded \u001b[0m\u001b[1m x_pqcode \u001b[0m\u001b[1m x_pqcode_shared \u001b[0m\n",
       "\u001b[1m     \u001b[0m│\u001b[90m Float32 \u001b[0m\u001b[90m Float32   \u001b[0m\u001b[90m Int8     \u001b[0m\u001b[90m Int8            \u001b[0m\n",
       "─────┼───────────────────────────────────────────────\n",
       "   1 │     0.0   0.496661         1                1\n",
       "   2 │     1.0   0.496661         1                1\n",
       "   3 │     5.0   3.92734         22               22\n",
       "   4 │     3.0   3.92734         22               22\n",
       "   5 │    44.0  43.9038           4                4"
      ]
     },
     "execution_count": 27,
     "metadata": {},
     "output_type": "execute_result"
    }
   ],
   "source": [
    "function encode_shared(dist, vector::Array{T}, shared_prototypes::Array{T}) where T\n",
    "    n_clusters = length(shared_prototypes)\n",
    "    closest_prototypes = Array{Int8}(undef, n_features, 1);\n",
    "    \n",
    "    @inbounds for (j,x) in enumerate(vector)\n",
    "        best_coordinate = 1\n",
    "        min_distance::T = typemax(T)\n",
    "        for k in 1:n_clusters\n",
    "           current_dist = dist(shared_prototypes[k], x)\n",
    "           if current_dist < min_distance\n",
    "               best_coordinate = k\n",
    "               min_distance = current_dist\n",
    "           end\n",
    "           #println(k, ' ', j, ' ', best_coordinate, ' ',min_distance )\n",
    "        end            \n",
    "        closest_prototypes[j] = best_coordinate\n",
    "    end\n",
    "    return closest_prototypes\n",
    "end\n",
    "\n",
    "\"\"\"\n",
    "function encode_fast_shared(dist, vector::Array{T}, prototypes::Array{T}) where T\n",
    "    \n",
    "    n_features = length(vector)\n",
    "    n_clusters = length(prototypes)\n",
    "    closest_prototypes = Array{Int32}(undef, n_features, 1);\n",
    "    \n",
    "    @inbounds @fastmath for (j,x) in enumerate(vector)\n",
    "        best_coordinate = 1\n",
    "        min_distance::T = typemax(T)\n",
    "        for k in 1:n_clusters\n",
    "           current_dist = dist(prototypes[k], x)\n",
    "           if current_dist < min_distance\n",
    "               best_coordinate = k\n",
    "               min_distance = current_dist\n",
    "           end\n",
    "        end            \n",
    "        closest_prototypes[j] = best_coordinate\n",
    "    end\n",
    "    return closest_prototypes\n",
    "end\n",
    "\n",
    "if profile_flag\n",
    "    @benchmark encode_fast_shared(euclidean, query, P_shared)\n",
    "end\n",
    "\"\"\"\n",
    "\n",
    "P_shared = vec(R_shared.centers)\n",
    "\n",
    "j = 3\n",
    "x = X_tr_vecs[:,j]\n",
    "x_pqcode_shared = encode_shared(sqeuclidean, x, P_shared);\n",
    "\n",
    "\n",
    "P_shared_copied = hcat( [P_shared for i in 1:128]...);\n",
    "@assert P_shared_copied[:,1] == P_shared\n",
    "x_pqcode = encode(sqeuclidean, x, P_shared_copied);\n",
    "x_decoded = decode(x_pqcode, P_shared_copied);\n",
    "\n",
    "@assert x_pqcode_shared == x_pqcode\n",
    "\n",
    "df_x = DataFrame(Dict(:x => x, \n",
    "                      :x_pqcode => vec(x_pqcode),\n",
    "                      :x_pqcode_shared => vec(x_pqcode_shared),\n",
    "                      :x_decoded => x_decoded,\n",
    "                      #:centroid => vec(P_shared[x_pqcode])\n",
    "                      ))\n",
    "\n",
    "first(df_x, 5)"
   ]
  },
  {
   "cell_type": "code",
   "execution_count": 28,
   "id": "9b2c5db9",
   "metadata": {
    "ExecuteTime": {
     "end_time": "2022-08-25T23:30:11.491000+02:00",
     "start_time": "2022-08-25T21:30:04.975Z"
    }
   },
   "outputs": [
    {
     "name": "stdout",
     "output_type": "stream",
     "text": [
      "(maximum(PQcodes), maximum(PQcodes_shared)) = (32, 32)\n"
     ]
    },
    {
     "data": {
      "text/plain": [
       "(32, 32)"
      ]
     },
     "execution_count": 28,
     "metadata": {},
     "output_type": "execute_result"
    }
   ],
   "source": [
    "n_features, n_examples = size(X_tr_vecs)\n",
    "\n",
    "PQcodes_shared = Array{Int32}(undef, n_features, n_examples);\n",
    "\n",
    "for j in 1:n_examples\n",
    "    PQcodes_shared[:,j] = encode_shared(euclidean, X_tr_vecs[:,j], P_shared)  \n",
    "    #PQcodes_shared[:,j] = encode(euclidean, X_tr_vecs[:,j] ,P_shared_copied)  \n",
    "end\n",
    "\n",
    "@show maximum(PQcodes), maximum(PQcodes_shared)"
   ]
  },
  {
   "cell_type": "markdown",
   "id": "6ba1d91c",
   "metadata": {},
   "source": [
    "Because we have created the shared quantizer from the quantizer of the PQquantizer of the first feature the following assertion must hold.\n",
    "\n",
    "In other words, all encoded elements from the first feature (and there are 1 million items) must be mapped to the same integer"
   ]
  },
  {
   "cell_type": "code",
   "execution_count": 29,
   "id": "279f8737",
   "metadata": {
    "scrolled": true
   },
   "outputs": [],
   "source": [
    "@assert PQcodes_shared[1,:] == PQcodes[1,:]"
   ]
  },
  {
   "cell_type": "markdown",
   "id": "43f85b8b",
   "metadata": {},
   "source": [
    "Now we need a new encoding function that uses a single vector of prototypes"
   ]
  },
  {
   "cell_type": "code",
   "execution_count": 30,
   "id": "51c61c45",
   "metadata": {
    "ExecuteTime": {
     "end_time": "2022-08-25T23:02:51.209000+02:00",
     "start_time": "2022-08-25T21:02:51.201Z"
    }
   },
   "outputs": [],
   "source": [
    "function encode_fast_shared(dist, vector::Array{T}, prototypes::Array{T}) where T\n",
    "    \n",
    "    n_features = length(vector)\n",
    "    n_clusters = length(prototypes)\n",
    "    closest_prototypes = Array{Int32}(undef, n_features, 1);\n",
    "    \n",
    "    @inbounds @fastmath for (j,x) in enumerate(vector)\n",
    "        best_coordinate = 1\n",
    "        min_distance::T = typemax(T)\n",
    "        for k in 1:n_clusters\n",
    "           current_dist = dist(prototypes[k], x)\n",
    "           if current_dist < min_distance\n",
    "               best_coordinate = k\n",
    "               min_distance = current_dist\n",
    "           end\n",
    "        end            \n",
    "        closest_prototypes[j] = best_coordinate\n",
    "    end\n",
    "    return closest_prototypes\n",
    "end\n",
    "\n",
    "if profile_flag\n",
    "    @benchmark encode_fast_shared(euclidean, query, P_shared)\n",
    "end\n",
    "\n",
    "@assert encode_fast_shared(euclidean, x ,vec(P_shared)) ==  encode(euclidean, x ,P_shared_copied);\n",
    "@assert encode_fast_shared(euclidean, x ,vec(P_shared)) ==  encode(sqeuclidean, x ,P_shared_copied);"
   ]
  },
  {
   "cell_type": "markdown",
   "id": "1121e884",
   "metadata": {},
   "source": [
    "Now we will ensure that `compute_ADC_shared` provides the same ADC table computation as `compute_ADC`\n",
    "in the case where `compute_ADC` is called with all prototypes being copies of column vector used in `compute_ADC_shared` "
   ]
  },
  {
   "cell_type": "code",
   "execution_count": 31,
   "id": "817b19c2",
   "metadata": {
    "ExecuteTime": {
     "end_time": "2022-08-25T22:25:25.075000+02:00",
     "start_time": "2022-08-25T20:25:21.948Z"
    }
   },
   "outputs": [],
   "source": [
    "function compute_ADC_shared(query, prototypes, dist)\n",
    "    \"\"\"\n",
    "    Computes the distance between each query[k] and prototype[k]\n",
    "    \n",
    "    Arguments:\n",
    "    \n",
    "    - y (Array{T}): vector of n_features components.\n",
    "    - prototypes (Array{T}): vector of n_cluster components.\n",
    "    - dist (function): distance to be used to compare prototypes and query.\n",
    "    \n",
    "    \"\"\"\n",
    "    #@assert ndims(prototypes) ==1\n",
    "    \n",
    "    n_features = length(query)\n",
    "    n_clusters = length(prototypes)\n",
    "    ADC_table = Array{Float32}(undef, n_clusters, n_features)\n",
    "    \n",
    "    for j in 1:n_features       # 128\n",
    "        for p in 1:n_clusters   # 32\n",
    "            ADC_table[p,j] = dist(query[j], prototypes[p] )\n",
    "        end\n",
    "    end\n",
    "    @assert ndims(ADC_table)==2\n",
    "    return  ADC_table\n",
    "end\n",
    "\n",
    "query = X_tr_vecs[:,1]\n",
    "adc_table_shared = compute_ADC_shared(query, P_shared, euclidean);\n",
    "adc_table = compute_ADC(query, P_shared_copied, euclidean);\n",
    "\n",
    "@assert isapprox(adc_table, adc_table_shared)"
   ]
  },
  {
   "cell_type": "markdown",
   "id": "de46410a",
   "metadata": {},
   "source": [
    "Now we need to verify that the ADC distance `adc_dist_shared` is equal to `adc_dist`"
   ]
  },
  {
   "cell_type": "code",
   "execution_count": 114,
   "id": "f82edeed",
   "metadata": {},
   "outputs": [],
   "source": [
    "function adc_dist_shared(x_code,  adc_table::Vector) \n",
    "    res = zero(eltype(adc_table))\n",
    "    @inbounds @simd for j in eachindex(x_code)\n",
    "        res+= adc_table[x_code[j]]\n",
    "    end\n",
    "    return res\n",
    "end\n",
    "\n",
    "\n",
    "function adc_dist_shared( x_code,  adc_table::Matrix)\n",
    "    res = zero(eltype(adc_table))\n",
    "    @inbounds @simd for j in eachindex(x_code)\n",
    "        res+= adc_table[x_code[j], j]\n",
    "    end\n",
    "    return res\n",
    "end\n",
    "\n",
    "query = X_tr_vecs[:,1]\n",
    "adc_table_shared = compute_ADC_shared(query, P_shared, euclidean);\n",
    "\n",
    "#query_code = encode_fast_shared(sqeuclidean, query, P_shared)\n",
    "distance_adc = adc_dist(view(PQcodes,:,j) ,  adc_table_shared)  \n",
    "distance_adc_shared = adc_dist_shared(view(PQcodes,:,j) ,  adc_table_shared)  \n",
    "\n",
    "@assert distance_adc == distance_adc_shared"
   ]
  },
  {
   "cell_type": "markdown",
   "id": "835d64a5",
   "metadata": {},
   "source": [
    "Now we need to verify that scanning over the database we get the same results with `linear_scann_shared` and with `linear_scann`"
   ]
  },
  {
   "cell_type": "code",
   "execution_count": 33,
   "id": "4364eddd",
   "metadata": {},
   "outputs": [],
   "source": [
    "\n",
    "function linear_scann_shared(query, PQcodes, adc_table_shared, P_shared)\n",
    "    \n",
    "    \n",
    "    query_code = encode_fast_shared(sqeuclidean, query, P_shared)\n",
    "    n_features, n_examples = size(PQcodes)\n",
    "    distances = Array{eltype(query)}(undef, n_examples)\n",
    "    \n",
    "    @inbounds @fastmath for j in 1:n_examples\n",
    "        distances[j] = adc_dist_shared( view(PQcodes,:,j) ,  adc_table_shared)    \n",
    "    end\n",
    "    return distances\n",
    "end\n",
    "\n",
    "if profile_flag\n",
    "    @benchmark distances = linear_scann($query, $PQcodes, $adc_table_shared, $P_shared)\n",
    "end\n",
    "\n",
    "distances = linear_scann(query, PQcodes, adc_table, P_shared_copied);\n",
    "distances_shared = linear_scann_shared(query, PQcodes, adc_table_shared, P_shared);\n",
    "\n",
    "@assert isapprox(distances, distances_shared)"
   ]
  },
  {
   "cell_type": "code",
   "execution_count": 34,
   "id": "d6bd0e78",
   "metadata": {},
   "outputs": [
    {
     "name": "stdout",
     "output_type": "stream",
     "text": [
      "adc_dist(view(PQcodes, :, j), adc_table_shared) = 6531.5146f0\n",
      "adc_dist_shared(view(PQcodes, :, j), adc_table_shared) = 6531.5146f0\n"
     ]
    }
   ],
   "source": [
    "j=1\n",
    "@show adc_dist(  view(PQcodes,:,j) ,  adc_table_shared)\n",
    "@show adc_dist_shared( view(PQcodes,:,j) ,  adc_table_shared);"
   ]
  },
  {
   "cell_type": "markdown",
   "id": "56b36c39",
   "metadata": {},
   "source": [
    "It is important to recall\n",
    "\n",
    "- `PQcodes` will not be the same as `PQcodes_shared`:\n",
    "\n",
    "    - `PQcodes` is constructed form a `n_features` codebooks.\n",
    "    - `PQcodes_shared` is constructed form a single codebook.\n",
    "    "
   ]
  },
  {
   "cell_type": "code",
   "execution_count": 35,
   "id": "bbea0bf4",
   "metadata": {},
   "outputs": [
    {
     "data": {
      "text/html": [
       "<div class=\"data-frame\"><p>5 rows × 3 columns</p><table class=\"data-frame\"><thead><tr><th></th><th>x</th><th>x_closest</th><th>x_pqcode</th></tr><tr><th></th><th title=\"Float32\">Float32</th><th title=\"Float32\">Float32</th><th title=\"Int8\">Int8</th></tr></thead><tbody><tr><th>1</th><td>0.0</td><td>0.0</td><td>1</td></tr><tr><th>2</th><td>1.0</td><td>16.0</td><td>1</td></tr><tr><th>3</th><td>5.0</td><td>35.0</td><td>22</td></tr><tr><th>4</th><td>3.0</td><td>5.0</td><td>22</td></tr><tr><th>5</th><td>44.0</td><td>32.0</td><td>4</td></tr></tbody></table></div>"
      ],
      "text/latex": [
       "\\begin{tabular}{r|ccc}\n",
       "\t& x & x\\_closest & x\\_pqcode\\\\\n",
       "\t\\hline\n",
       "\t& Float32 & Float32 & Int8\\\\\n",
       "\t\\hline\n",
       "\t1 & 0.0 & 0.0 & 1 \\\\\n",
       "\t2 & 1.0 & 16.0 & 1 \\\\\n",
       "\t3 & 5.0 & 35.0 & 22 \\\\\n",
       "\t4 & 3.0 & 5.0 & 22 \\\\\n",
       "\t5 & 44.0 & 32.0 & 4 \\\\\n",
       "\\end{tabular}\n"
      ],
      "text/plain": [
       "\u001b[1m5×3 DataFrame\u001b[0m\n",
       "\u001b[1m Row \u001b[0m│\u001b[1m x       \u001b[0m\u001b[1m x_closest \u001b[0m\u001b[1m x_pqcode \u001b[0m\n",
       "\u001b[1m     \u001b[0m│\u001b[90m Float32 \u001b[0m\u001b[90m Float32   \u001b[0m\u001b[90m Int8     \u001b[0m\n",
       "─────┼──────────────────────────────\n",
       "   1 │     0.0        0.0         1\n",
       "   2 │     1.0       16.0         1\n",
       "   3 │     5.0       35.0        22\n",
       "   4 │     3.0        5.0        22\n",
       "   5 │    44.0       32.0         4"
      ]
     },
     "execution_count": 35,
     "metadata": {},
     "output_type": "execute_result"
    }
   ],
   "source": [
    "pq_distances = linear_scann(query, PQcodes_shared, adc_table, P);\n",
    "#pq_distances = linear_scann_shared(query, PQcodes_shared, adc_table_shared, P_shared);\n",
    "\n",
    "x_closest = vec(get_top_k_from_distances(X_tr_vecs, pq_distances, 1));\n",
    "\n",
    "df_x = DataFrame(Dict(:x => x, \n",
    "                      :x_pqcode => vec(x_pqcode),\n",
    "                      :x_closest => vec(x_closest)\n",
    "                        \n",
    "                      ))\n",
    "\n",
    "first(df_x, 5)"
   ]
  },
  {
   "cell_type": "markdown",
   "id": "4f21f649",
   "metadata": {},
   "source": [
    "### Recall PQlinearscann Sharing a copies Quantizer\n",
    "\n",
    "Here we just verify that if we copy a quantizer many times we still get similar quality"
   ]
  },
  {
   "cell_type": "code",
   "execution_count": 36,
   "id": "0caf0d5c",
   "metadata": {},
   "outputs": [
    {
     "name": "stdout",
     "output_type": "stream",
     "text": [
      "recall(top_k_pq, query_true_neighbors, 100) = 0.67\n"
     ]
    }
   ],
   "source": [
    "query_id = 1\n",
    "query = X_te_vecs[:,query_id];\n",
    "query_true_neighbors = true_neighbors[:,query_id]\n",
    "top_k = 100\n",
    "\n",
    "x_code = PQcodes_shared[:,query_id];\n",
    "adc_table = compute_ADC(query, P_shared_copied, euclidean);\n",
    "pq_distances = linear_scann(query, PQcodes_shared, adc_table, P_shared_copied);\n",
    "top_k_pq = sortperm(pq_distances)[1:top_k];\n",
    "\n",
    "@show recall(top_k_pq, query_true_neighbors, 100);"
   ]
  },
  {
   "cell_type": "code",
   "execution_count": 67,
   "id": "572254e9",
   "metadata": {},
   "outputs": [
    {
     "data": {
      "text/plain": [
       "0.642"
      ]
     },
     "execution_count": 67,
     "metadata": {},
     "output_type": "execute_result"
    }
   ],
   "source": [
    "\n",
    "function compute_mean_recall(X, PQcodes_shared, true_neighbors,\n",
    "                             P_shared,P_shared_copied, top_k::Int, dist::Function)\n",
    "\n",
    "    n_features, n_examples = size(X)\n",
    "\n",
    "    average = 0.\n",
    "    for query_id in 1:n_examples\n",
    "        query = X[:, query_id]\n",
    "        adc_table_shared = compute_ADC(query, P_shared_copied, dist);\n",
    "        pq_distances = linear_scann(query, PQcodes_shared, adc_table_shared, P_shared_copied);\n",
    "        top_k_pq = sortperm(pq_distances)[1:top_k];\n",
    "        r = recall(top_k_pq, true_neighbors[:,query_id], 100)\n",
    "        average += r;\n",
    "    end\n",
    "    return average / n_examples\n",
    "\n",
    "end\n",
    "\n",
    "avg_recall = compute_mean_recall(X_te_vecs[:, 1:10], PQcodes_shared, true_neighbors,\n",
    "                                 P_shared, P_shared_copied, top_k, euclidean)"
   ]
  },
  {
   "cell_type": "markdown",
   "id": "ab304c6a",
   "metadata": {},
   "source": [
    "### Recall PQlinearscann Sharing a Quantizer\n",
    "\n",
    "We don´t want to have copies of a quantizer, but have specific methods that use a single vector across features"
   ]
  },
  {
   "cell_type": "code",
   "execution_count": 38,
   "id": "199abbd4",
   "metadata": {
    "scrolled": true
   },
   "outputs": [
    {
     "name": "stdout",
     "output_type": "stream",
     "text": [
      "(maximum(PQcodes), maximum(PQcodes_shared)) = (32, 32)\n"
     ]
    }
   ],
   "source": [
    "function build_PQ_code_shared_copied(X_tr_vecs, P_shared_copied)\n",
    "    n_features, n_examples = size(X_tr_vecs)\n",
    "\n",
    "    PQcodes_shared = Array{Int32}(undef, n_features, n_examples);\n",
    "\n",
    "    for j in 1:n_examples\n",
    "        PQcodes_shared[:,j] = encode(euclidean, view(X_tr_vecs,:,j), P_shared_copied)  \n",
    "    end\n",
    "\n",
    "    @show maximum(PQcodes), maximum(PQcodes_shared)\n",
    "    return PQcodes_shared\n",
    "end\n",
    "\n",
    "PQcodes_shared = build_PQ_code_shared_copied(X_tr_vecs, P_shared_copied);"
   ]
  },
  {
   "cell_type": "code",
   "execution_count": 39,
   "id": "e4a6111d",
   "metadata": {},
   "outputs": [
    {
     "name": "stdout",
     "output_type": "stream",
     "text": [
      "recall(top_k_pq, query_true_neighbors, 100) = 0.67\n"
     ]
    }
   ],
   "source": [
    "query_id = 1\n",
    "query = X_te_vecs[:,query_id];\n",
    "query_true_neighbors = true_neighbors[:,query_id]\n",
    "top_k = 100\n",
    "\n",
    "adc_table = compute_ADC(query, P_shared_copied, euclidean);\n",
    "pq_distances = linear_scann_shared(query, PQcodes_shared, adc_table, P_shared);\n",
    "top_k_pq = sortperm(pq_distances)[1:top_k];\n",
    "\n",
    "@show recall(top_k_pq, query_true_neighbors, 100);"
   ]
  },
  {
   "cell_type": "markdown",
   "id": "7214bb21",
   "metadata": {},
   "source": [
    "we can see that we can use `compute_ADC_shared` insead of `compute_ADC` and we get the same results"
   ]
  },
  {
   "cell_type": "code",
   "execution_count": 40,
   "id": "fb71f185",
   "metadata": {},
   "outputs": [
    {
     "name": "stdout",
     "output_type": "stream",
     "text": [
      "recall(top_k_pq, query_true_neighbors, 100) = 0.6\n"
     ]
    }
   ],
   "source": [
    "query_id = 3\n",
    "query = X_te_vecs[:,query_id];\n",
    "query_true_neighbors = true_neighbors[:,query_id]\n",
    "top_k = 100\n",
    "\n",
    "adc_table_shared = compute_ADC_shared(query, P_shared, euclidean);\n",
    "pq_distances = linear_scann_shared(query, PQcodes_shared, adc_table_shared, P_shared);\n",
    "top_k_pq = sortperm(pq_distances)[1:top_k];\n",
    "\n",
    "@show recall(top_k_pq, query_true_neighbors, 100);"
   ]
  },
  {
   "cell_type": "markdown",
   "id": "793fb6b0",
   "metadata": {},
   "source": [
    "## Recall `linear_scann_shared`"
   ]
  },
  {
   "cell_type": "code",
   "execution_count": 41,
   "id": "95fec791",
   "metadata": {
    "scrolled": true
   },
   "outputs": [
    {
     "data": {
      "text/plain": [
       "0.629"
      ]
     },
     "execution_count": 41,
     "metadata": {},
     "output_type": "execute_result"
    }
   ],
   "source": [
    "function compute_mean_recall_shared(X, PQcodes, true_neighbors, P_shared, top_k::Int, dist::Function)\n",
    "    n_features, n_examples = size(X)\n",
    "    average = 0.\n",
    "    for j in 1:n_examples\n",
    "        query = X[:, j]\n",
    "        query_true_neighbors = true_neighbors[:,j]\n",
    "        table = compute_ADC_shared(query, P_shared, dist);\n",
    "        pq_distances = linear_scann_shared(query, PQcodes, table, P_shared)\n",
    "        top_k_pq = sortperm(pq_distances)[1:top_k];\n",
    "        r = recall(top_k_pq, query_true_neighbors, 100);\n",
    "        average +=r\n",
    "    end\n",
    "    return average / n_examples\n",
    "end\n",
    "\n",
    "avg_recall = compute_mean_recall_shared(X_te_vecs[:, 1:100], PQcodes_shared, true_neighbors,\n",
    "                                        P_shared, top_k, euclidean)"
   ]
  },
  {
   "cell_type": "code",
   "execution_count": 42,
   "id": "a102ad51",
   "metadata": {
    "scrolled": true
   },
   "outputs": [
    {
     "data": {
      "text/plain": [
       "BenchmarkTools.Trial: 116 samples with 1 evaluation.\n",
       " Range \u001b[90m(\u001b[39m\u001b[36m\u001b[1mmin\u001b[22m\u001b[39m … \u001b[35mmax\u001b[39m\u001b[90m):  \u001b[39m\u001b[36m\u001b[1m42.215 ms\u001b[22m\u001b[39m … \u001b[35m 47.720 ms\u001b[39m  \u001b[90m┊\u001b[39m GC \u001b[90m(\u001b[39mmin … max\u001b[90m): \u001b[39m0.00% … 0.00%\n",
       " Time  \u001b[90m(\u001b[39m\u001b[34m\u001b[1mmedian\u001b[22m\u001b[39m\u001b[90m):     \u001b[39m\u001b[34m\u001b[1m43.066 ms               \u001b[22m\u001b[39m\u001b[90m┊\u001b[39m GC \u001b[90m(\u001b[39mmedian\u001b[90m):    \u001b[39m0.00%\n",
       " Time  \u001b[90m(\u001b[39m\u001b[32m\u001b[1mmean\u001b[22m\u001b[39m ± \u001b[32mσ\u001b[39m\u001b[90m):   \u001b[39m\u001b[32m\u001b[1m43.128 ms\u001b[22m\u001b[39m ± \u001b[32m553.047 μs\u001b[39m  \u001b[90m┊\u001b[39m GC \u001b[90m(\u001b[39mmean ± σ\u001b[90m):  \u001b[39m0.00% ± 0.00%\n",
       "\n",
       "  \u001b[39m \u001b[39m \u001b[39m \u001b[39m \u001b[39m \u001b[39m \u001b[39m \u001b[39m \u001b[39m \u001b[39m \u001b[39m \u001b[39m█\u001b[39m \u001b[39m \u001b[39m \u001b[39m▁\u001b[39m▁\u001b[39m \u001b[39m▄\u001b[39m▃\u001b[39m▄\u001b[39m▃\u001b[39m \u001b[39m█\u001b[34m▃\u001b[39m\u001b[39m \u001b[32m \u001b[39m\u001b[39m▄\u001b[39m \u001b[39m \u001b[39m▁\u001b[39m \u001b[39m▁\u001b[39m▁\u001b[39m \u001b[39m \u001b[39m \u001b[39m \u001b[39m \u001b[39m \u001b[39m \u001b[39m \u001b[39m \u001b[39m \u001b[39m \u001b[39m \u001b[39m \u001b[39m \u001b[39m \u001b[39m \u001b[39m \u001b[39m \u001b[39m \u001b[39m \u001b[39m \u001b[39m \u001b[39m \u001b[39m \u001b[39m \u001b[39m \u001b[39m \u001b[39m \n",
       "  \u001b[39m▄\u001b[39m▁\u001b[39m▁\u001b[39m▁\u001b[39m▁\u001b[39m▁\u001b[39m▄\u001b[39m▁\u001b[39m▄\u001b[39m▇\u001b[39m▄\u001b[39m█\u001b[39m▇\u001b[39m▁\u001b[39m▁\u001b[39m█\u001b[39m█\u001b[39m▄\u001b[39m█\u001b[39m█\u001b[39m█\u001b[39m█\u001b[39m▆\u001b[39m█\u001b[34m█\u001b[39m\u001b[39m▇\u001b[32m▆\u001b[39m\u001b[39m█\u001b[39m▇\u001b[39m▇\u001b[39m█\u001b[39m▆\u001b[39m█\u001b[39m█\u001b[39m▇\u001b[39m▆\u001b[39m▆\u001b[39m▇\u001b[39m▄\u001b[39m▇\u001b[39m▄\u001b[39m▆\u001b[39m▁\u001b[39m▆\u001b[39m▁\u001b[39m▁\u001b[39m▁\u001b[39m▁\u001b[39m▁\u001b[39m▁\u001b[39m▁\u001b[39m▁\u001b[39m▁\u001b[39m▁\u001b[39m▁\u001b[39m▁\u001b[39m▁\u001b[39m▁\u001b[39m▁\u001b[39m▄\u001b[39m \u001b[39m▄\n",
       "  42.2 ms\u001b[90m         Histogram: frequency by time\u001b[39m         44.3 ms \u001b[0m\u001b[1m<\u001b[22m\n",
       "\n",
       " Memory estimate\u001b[90m: \u001b[39m\u001b[33m3.82 MiB\u001b[39m, allocs estimate\u001b[90m: \u001b[39m\u001b[33m3\u001b[39m."
      ]
     },
     "execution_count": 42,
     "metadata": {},
     "output_type": "execute_result"
    }
   ],
   "source": [
    "@benchmark linear_scann_shared($query, $PQcodes_shared, $adc_table_shared, $P_shared)"
   ]
  },
  {
   "cell_type": "markdown",
   "id": "e7f57e6e",
   "metadata": {},
   "source": [
    "## Recall  `linear_scann_shared` with `adc_table_shared_vector`"
   ]
  },
  {
   "cell_type": "code",
   "execution_count": 89,
   "id": "4231532a",
   "metadata": {},
   "outputs": [
    {
     "data": {
      "text/plain": [
       "0.629"
      ]
     },
     "execution_count": 89,
     "metadata": {},
     "output_type": "execute_result"
    }
   ],
   "source": [
    "function compute_mean_recall_shared(X, PQcodes, true_neighbors, P_shared, top_k::Int, dist::Function)\n",
    "    n_features, n_examples = size(X)\n",
    "    average = 0.\n",
    "    for j in 1:n_examples\n",
    "        query = X[:, j]\n",
    "        query_true_neighbors = true_neighbors[:,j]\n",
    "        table = compute_ADC_shared(query, P_shared, dist);\n",
    "        pq_distances = linear_scann_shared(query, PQcodes, table, P_shared)\n",
    "        top_k_pq = sortperm(pq_distances)[1:top_k];\n",
    "        r = recall(top_k_pq, query_true_neighbors, 100);\n",
    "        average +=r\n",
    "    end\n",
    "    return average / n_examples\n",
    "end\n",
    "\n",
    "avg_recall = compute_mean_recall_shared(X_te_vecs[:, 1:100], PQcodes_shared, true_neighbors,\n",
    "                                        P_shared, top_k, euclidean)"
   ]
  },
  {
   "cell_type": "code",
   "execution_count": 113,
   "id": "f3cdf0a1",
   "metadata": {
    "scrolled": true
   },
   "outputs": [
    {
     "data": {
      "text/plain": [
       "adc_dist_shared (generic function with 2 methods)"
      ]
     },
     "execution_count": 113,
     "metadata": {},
     "output_type": "execute_result"
    }
   ],
   "source": [
    "function adc_dist_shared(x_code,  adc_table::Vector) \n",
    "    res = zero(eltype(adc_table))\n",
    "    @inbounds @simd for j in eachindex(x_code)\n",
    "        res+= adc_table[x_code[j]]\n",
    "    end\n",
    "    return res\n",
    "end\n"
   ]
  },
  {
   "cell_type": "markdown",
   "id": "1a94b1e9",
   "metadata": {},
   "source": [
    "# Transposing  `linear_scann_shared` \n",
    "\n",
    "Note that the implementation of adc requires acesses to row and col changing values in `adc_table[x_code[j], j]`.\n",
    "\n",
    "```julia\n",
    "function adc_dist_shared( x_code,  adc_table::Matrix)\n",
    "    res = zero(eltype(adc_table))\n",
    "    @inbounds @simd for j in eachindex(x_code)\n",
    "        res+= adc_table[x_code[j], j]              #### j is a different at every loop interation\n",
    "    end\n",
    "    return res\n",
    "end\n",
    "```\n",
    "\n",
    "we could process data differently, dealing with `n_example` points for each of the `n_clusters` coordinates.\n",
    "This means: perform a for loop over `n_cluster` coordinates and for each coordinate process `n_example` code values."
   ]
  },
  {
   "cell_type": "code",
   "execution_count": 135,
   "id": "bc06e77d",
   "metadata": {},
   "outputs": [
    {
     "data": {
      "text/plain": [
       "BenchmarkTools.Trial: 119 samples with 1 evaluation.\n",
       " Range \u001b[90m(\u001b[39m\u001b[36m\u001b[1mmin\u001b[22m\u001b[39m … \u001b[35mmax\u001b[39m\u001b[90m):  \u001b[39m\u001b[36m\u001b[1m41.648 ms\u001b[22m\u001b[39m … \u001b[35m53.329 ms\u001b[39m  \u001b[90m┊\u001b[39m GC \u001b[90m(\u001b[39mmin … max\u001b[90m): \u001b[39m0.00% … 0.00%\n",
       " Time  \u001b[90m(\u001b[39m\u001b[34m\u001b[1mmedian\u001b[22m\u001b[39m\u001b[90m):     \u001b[39m\u001b[34m\u001b[1m42.008 ms              \u001b[22m\u001b[39m\u001b[90m┊\u001b[39m GC \u001b[90m(\u001b[39mmedian\u001b[90m):    \u001b[39m0.00%\n",
       " Time  \u001b[90m(\u001b[39m\u001b[32m\u001b[1mmean\u001b[22m\u001b[39m ± \u001b[32mσ\u001b[39m\u001b[90m):   \u001b[39m\u001b[32m\u001b[1m42.339 ms\u001b[22m\u001b[39m ± \u001b[32m 1.519 ms\u001b[39m  \u001b[90m┊\u001b[39m GC \u001b[90m(\u001b[39mmean ± σ\u001b[90m):  \u001b[39m0.11% ± 0.39%\n",
       "\n",
       "  \u001b[39m█\u001b[39m \u001b[39m▂\u001b[34m \u001b[39m\u001b[39m \u001b[32m \u001b[39m\u001b[39m \u001b[39m \u001b[39m \u001b[39m \u001b[39m \u001b[39m \u001b[39m \u001b[39m \u001b[39m \u001b[39m \u001b[39m \u001b[39m \u001b[39m \u001b[39m \u001b[39m \u001b[39m \u001b[39m \u001b[39m \u001b[39m \u001b[39m \u001b[39m \u001b[39m \u001b[39m \u001b[39m \u001b[39m \u001b[39m \u001b[39m \u001b[39m \u001b[39m \u001b[39m \u001b[39m \u001b[39m \u001b[39m \u001b[39m \u001b[39m \u001b[39m \u001b[39m \u001b[39m \u001b[39m \u001b[39m \u001b[39m \u001b[39m \u001b[39m \u001b[39m \u001b[39m \u001b[39m \u001b[39m \u001b[39m \u001b[39m \u001b[39m \u001b[39m \u001b[39m \u001b[39m \u001b[39m \u001b[39m \n",
       "  \u001b[39m█\u001b[39m▇\u001b[39m█\u001b[34m▇\u001b[39m\u001b[39m▄\u001b[32m▅\u001b[39m\u001b[39m▅\u001b[39m▄\u001b[39m▁\u001b[39m▃\u001b[39m▃\u001b[39m▁\u001b[39m▁\u001b[39m▁\u001b[39m▁\u001b[39m▁\u001b[39m▂\u001b[39m▁\u001b[39m▁\u001b[39m▁\u001b[39m▁\u001b[39m▁\u001b[39m▁\u001b[39m▁\u001b[39m▁\u001b[39m▁\u001b[39m▁\u001b[39m▁\u001b[39m▁\u001b[39m▁\u001b[39m▁\u001b[39m▁\u001b[39m▁\u001b[39m▁\u001b[39m▁\u001b[39m▁\u001b[39m▁\u001b[39m▁\u001b[39m▁\u001b[39m▁\u001b[39m▁\u001b[39m▂\u001b[39m▁\u001b[39m▁\u001b[39m▁\u001b[39m▁\u001b[39m▁\u001b[39m▁\u001b[39m▁\u001b[39m▁\u001b[39m▁\u001b[39m▁\u001b[39m▁\u001b[39m▂\u001b[39m▁\u001b[39m▁\u001b[39m▁\u001b[39m▁\u001b[39m▂\u001b[39m \u001b[39m▂\n",
       "  41.6 ms\u001b[90m         Histogram: frequency by time\u001b[39m        49.8 ms \u001b[0m\u001b[1m<\u001b[22m\n",
       "\n",
       " Memory estimate\u001b[90m: \u001b[39m\u001b[33m3.82 MiB\u001b[39m, allocs estimate\u001b[90m: \u001b[39m\u001b[33m3\u001b[39m."
      ]
     },
     "execution_count": 135,
     "metadata": {},
     "output_type": "execute_result"
    }
   ],
   "source": [
    "@benchmark linear_scann_shared($query, $PQcodes_shared, $adc_table_shared, $P_shared)"
   ]
  },
  {
   "cell_type": "code",
   "execution_count": 354,
   "id": "f7447b06",
   "metadata": {},
   "outputs": [
    {
     "data": {
      "text/plain": [
       "linear_scann_shared_transposed (generic function with 1 method)"
      ]
     },
     "execution_count": 354,
     "metadata": {},
     "output_type": "execute_result"
    }
   ],
   "source": [
    "\n",
    "function linear_scann_shared_transposed(query, PQcodes_trans, adc_table_shared, P_shared)\n",
    "    \n",
    "    n_examples, n_features = size(PQcodes_trans)\n",
    "    distances = zeros(eltype(query), n_examples)\n",
    "    @inbounds @fastmath for j in 1:n_features\n",
    "        adc_table_j = adc_table_shared[:,j]\n",
    "         for n in 1:n_examples\n",
    "            distances[n] += adc_table_j[PQcodes_trans[n, j]]\n",
    "        end\n",
    "    end\n",
    "    return distances\n",
    "end"
   ]
  },
  {
   "cell_type": "code",
   "execution_count": 356,
   "id": "2d8b9f48",
   "metadata": {},
   "outputs": [],
   "source": [
    "PQcodes_trans = Matrix(PQcodes')\n",
    "\n",
    "distances_linear_scann_trans = linear_scann_shared_transposed(query, PQcodes_trans, \n",
    "                                                              adc_table_shared, P_shared);\n",
    "\n",
    "distances_linear_scann = linear_scann_shared(query, PQcodes, adc_table_shared, P_shared)\n",
    "distances_linear_scann_fast = linear_scann_shared_fast(query, PQcodes, adc_table_shared, P_shared);\n",
    "distances_linear_scann_trans = linear_scann_shared_transposed(query, PQcodes_trans, \n",
    "                                                              adc_table_shared, P_shared);\n",
    "\n",
    "@assert isapprox(distances_linear_scann ,distances_linear_scann_fast)\n",
    "@assert isapprox(distances_linear_scann ,distances_linear_scann_trans)"
   ]
  },
  {
   "cell_type": "markdown",
   "id": "44e86a61",
   "metadata": {},
   "source": [
    "Turns out this version is slower ?"
   ]
  },
  {
   "cell_type": "code",
   "execution_count": 359,
   "id": "a71bf474",
   "metadata": {
    "scrolled": false
   },
   "outputs": [
    {
     "data": {
      "text/plain": [
       "BenchmarkTools.Trial: 78 samples with 1 evaluation.\n",
       " Range \u001b[90m(\u001b[39m\u001b[36m\u001b[1mmin\u001b[22m\u001b[39m … \u001b[35mmax\u001b[39m\u001b[90m):  \u001b[39m\u001b[36m\u001b[1m63.867 ms\u001b[22m\u001b[39m … \u001b[35m 67.648 ms\u001b[39m  \u001b[90m┊\u001b[39m GC \u001b[90m(\u001b[39mmin … max\u001b[90m): \u001b[39m0.00% … 0.00%\n",
       " Time  \u001b[90m(\u001b[39m\u001b[34m\u001b[1mmedian\u001b[22m\u001b[39m\u001b[90m):     \u001b[39m\u001b[34m\u001b[1m64.495 ms               \u001b[22m\u001b[39m\u001b[90m┊\u001b[39m GC \u001b[90m(\u001b[39mmedian\u001b[90m):    \u001b[39m0.00%\n",
       " Time  \u001b[90m(\u001b[39m\u001b[32m\u001b[1mmean\u001b[22m\u001b[39m ± \u001b[32mσ\u001b[39m\u001b[90m):   \u001b[39m\u001b[32m\u001b[1m64.658 ms\u001b[22m\u001b[39m ± \u001b[32m579.565 μs\u001b[39m  \u001b[90m┊\u001b[39m GC \u001b[90m(\u001b[39mmean ± σ\u001b[90m):  \u001b[39m0.12% ± 0.42%\n",
       "\n",
       "  \u001b[39m \u001b[39m \u001b[39m \u001b[39m \u001b[39m \u001b[39m \u001b[39m \u001b[39m \u001b[39m▄\u001b[39m▁\u001b[39m \u001b[39m█\u001b[39m▁\u001b[34m▅\u001b[39m\u001b[39m \u001b[39m \u001b[32m \u001b[39m\u001b[39m \u001b[39m \u001b[39m \u001b[39m \u001b[39m \u001b[39m \u001b[39m \u001b[39m \u001b[39m \u001b[39m \u001b[39m \u001b[39m \u001b[39m \u001b[39m \u001b[39m \u001b[39m \u001b[39m \u001b[39m \u001b[39m \u001b[39m \u001b[39m \u001b[39m \u001b[39m \u001b[39m \u001b[39m \u001b[39m \u001b[39m \u001b[39m \u001b[39m \u001b[39m \u001b[39m \u001b[39m \u001b[39m \u001b[39m \u001b[39m \u001b[39m \u001b[39m \u001b[39m \u001b[39m \u001b[39m \u001b[39m \u001b[39m \u001b[39m \u001b[39m \u001b[39m \n",
       "  \u001b[39m▃\u001b[39m▁\u001b[39m▅\u001b[39m▃\u001b[39m▃\u001b[39m▅\u001b[39m▃\u001b[39m▁\u001b[39m█\u001b[39m█\u001b[39m▆\u001b[39m█\u001b[39m█\u001b[34m█\u001b[39m\u001b[39m▆\u001b[39m▃\u001b[32m▅\u001b[39m\u001b[39m▁\u001b[39m█\u001b[39m▅\u001b[39m▆\u001b[39m▆\u001b[39m▅\u001b[39m▃\u001b[39m▃\u001b[39m▅\u001b[39m▁\u001b[39m▁\u001b[39m▁\u001b[39m▃\u001b[39m▁\u001b[39m▃\u001b[39m▁\u001b[39m▃\u001b[39m▃\u001b[39m▁\u001b[39m▁\u001b[39m▁\u001b[39m▁\u001b[39m▁\u001b[39m▁\u001b[39m▃\u001b[39m▁\u001b[39m▃\u001b[39m▁\u001b[39m▁\u001b[39m▁\u001b[39m▁\u001b[39m▁\u001b[39m▁\u001b[39m▁\u001b[39m▁\u001b[39m▁\u001b[39m▁\u001b[39m▁\u001b[39m▁\u001b[39m▁\u001b[39m▁\u001b[39m▁\u001b[39m▃\u001b[39m \u001b[39m▁\n",
       "  63.9 ms\u001b[90m         Histogram: frequency by time\u001b[39m         66.8 ms \u001b[0m\u001b[1m<\u001b[22m\n",
       "\n",
       " Memory estimate\u001b[90m: \u001b[39m\u001b[33m3.84 MiB\u001b[39m, allocs estimate\u001b[90m: \u001b[39m\u001b[33m130\u001b[39m."
      ]
     },
     "execution_count": 359,
     "metadata": {},
     "output_type": "execute_result"
    }
   ],
   "source": [
    "@benchmark linear_scann_shared_transposed(query, PQcodes_trans, adc_table_shared, P_shared)"
   ]
  },
  {
   "cell_type": "markdown",
   "id": "b049fe6b",
   "metadata": {},
   "source": [
    "using StaticArrays"
   ]
  },
  {
   "cell_type": "code",
   "execution_count": 382,
   "id": "3be7ee7a",
   "metadata": {},
   "outputs": [
    {
     "data": {
      "text/plain": [
       "linear_scann_shared_transposed (generic function with 1 method)"
      ]
     },
     "execution_count": 382,
     "metadata": {},
     "output_type": "execute_result"
    }
   ],
   "source": [
    "\n",
    "using StaticArrays\n",
    "\n",
    "function linear_scann_shared_transposed(query, PQcodes_trans, adc_table_shared, P_shared)\n",
    "    \n",
    "    n_examples, n_features = size(PQcodes_trans)\n",
    "    distances = zeros(eltype(query), n_examples)\n",
    "    @inbounds for j in 1:n_features\n",
    "        #adc_table_j = SVector{32,Float32}([adc_table_shared[:,1]...])\n",
    "        @fastmath for n in 1:n_examples\n",
    "            #@show j,n, PQcodes_trans[n, j]\n",
    "            distances[n] += adc_table_j[PQcodes_trans[n,j]]\n",
    "            \n",
    "        end\n",
    "    end\n",
    "    return distances\n",
    "end"
   ]
  },
  {
   "cell_type": "code",
   "execution_count": 383,
   "id": "c5bc2c63",
   "metadata": {},
   "outputs": [],
   "source": [
    "adc_table_j = SVector{32,Float32}([adc_table_shared[:,1]...]);"
   ]
  },
  {
   "cell_type": "code",
   "execution_count": 384,
   "id": "f57a4b28",
   "metadata": {},
   "outputs": [
    {
     "data": {
      "text/plain": [
       "BenchmarkTools.Trial: 69 samples with 1 evaluation.\n",
       " Range \u001b[90m(\u001b[39m\u001b[36m\u001b[1mmin\u001b[22m\u001b[39m … \u001b[35mmax\u001b[39m\u001b[90m):  \u001b[39m\u001b[36m\u001b[1m70.776 ms\u001b[22m\u001b[39m … \u001b[35m81.577 ms\u001b[39m  \u001b[90m┊\u001b[39m GC \u001b[90m(\u001b[39mmin … max\u001b[90m): \u001b[39m0.00% … 0.00%\n",
       " Time  \u001b[90m(\u001b[39m\u001b[34m\u001b[1mmedian\u001b[22m\u001b[39m\u001b[90m):     \u001b[39m\u001b[34m\u001b[1m72.139 ms              \u001b[22m\u001b[39m\u001b[90m┊\u001b[39m GC \u001b[90m(\u001b[39mmedian\u001b[90m):    \u001b[39m0.00%\n",
       " Time  \u001b[90m(\u001b[39m\u001b[32m\u001b[1mmean\u001b[22m\u001b[39m ± \u001b[32mσ\u001b[39m\u001b[90m):   \u001b[39m\u001b[32m\u001b[1m73.343 ms\u001b[22m\u001b[39m ± \u001b[32m 2.552 ms\u001b[39m  \u001b[90m┊\u001b[39m GC \u001b[90m(\u001b[39mmean ± σ\u001b[90m):  \u001b[39m0.15% ± 0.59%\n",
       "\n",
       "  \u001b[39m \u001b[39m \u001b[39m \u001b[39m▃\u001b[39m \u001b[39m▃\u001b[39m▂\u001b[34m█\u001b[39m\u001b[39m \u001b[39m \u001b[39m \u001b[39m \u001b[39m \u001b[39m \u001b[32m \u001b[39m\u001b[39m \u001b[39m \u001b[39m \u001b[39m \u001b[39m \u001b[39m \u001b[39m \u001b[39m \u001b[39m \u001b[39m \u001b[39m \u001b[39m \u001b[39m \u001b[39m \u001b[39m \u001b[39m \u001b[39m \u001b[39m \u001b[39m \u001b[39m \u001b[39m \u001b[39m \u001b[39m \u001b[39m \u001b[39m \u001b[39m \u001b[39m \u001b[39m \u001b[39m \u001b[39m \u001b[39m \u001b[39m \u001b[39m \u001b[39m \u001b[39m \u001b[39m \u001b[39m \u001b[39m \u001b[39m \u001b[39m \u001b[39m \u001b[39m \u001b[39m \u001b[39m \u001b[39m \u001b[39m \n",
       "  \u001b[39m▅\u001b[39m▅\u001b[39m█\u001b[39m█\u001b[39m▇\u001b[39m█\u001b[39m█\u001b[34m█\u001b[39m\u001b[39m▇\u001b[39m▅\u001b[39m▁\u001b[39m▄\u001b[39m▇\u001b[39m▄\u001b[32m▁\u001b[39m\u001b[39m▄\u001b[39m▁\u001b[39m▅\u001b[39m▄\u001b[39m▄\u001b[39m▄\u001b[39m▄\u001b[39m▁\u001b[39m▄\u001b[39m▁\u001b[39m▅\u001b[39m▁\u001b[39m▄\u001b[39m▄\u001b[39m▁\u001b[39m▁\u001b[39m▄\u001b[39m▁\u001b[39m▁\u001b[39m▁\u001b[39m▄\u001b[39m▅\u001b[39m▄\u001b[39m▁\u001b[39m▄\u001b[39m▁\u001b[39m▁\u001b[39m▁\u001b[39m▁\u001b[39m▁\u001b[39m▄\u001b[39m▄\u001b[39m▁\u001b[39m▁\u001b[39m▁\u001b[39m▁\u001b[39m▁\u001b[39m▁\u001b[39m▁\u001b[39m▁\u001b[39m▁\u001b[39m▁\u001b[39m▁\u001b[39m▄\u001b[39m \u001b[39m▁\n",
       "  70.8 ms\u001b[90m         Histogram: frequency by time\u001b[39m        81.5 ms \u001b[0m\u001b[1m<\u001b[22m\n",
       "\n",
       " Memory estimate\u001b[90m: \u001b[39m\u001b[33m3.92 MiB\u001b[39m, allocs estimate\u001b[90m: \u001b[39m\u001b[33m4354\u001b[39m."
      ]
     },
     "execution_count": 384,
     "metadata": {},
     "output_type": "execute_result"
    }
   ],
   "source": [
    "@benchmark linear_scann_shared_transposed($query, $PQcodes_trans, $adc_table_shared, $P_shared)"
   ]
  },
  {
   "cell_type": "code",
   "execution_count": 387,
   "id": "b933ae7b",
   "metadata": {},
   "outputs": [
    {
     "data": {
      "text/plain": [
       "32-element SVector{32, Float32} with indices SOneTo(32):\n",
       "   0.49666122\n",
       "  80.90828\n",
       "  32.94114\n",
       "  43.903812\n",
       " 119.045685\n",
       "  21.973886\n",
       "   8.950528\n",
       " 145.65755\n",
       "  37.948563\n",
       " 134.67995\n",
       "  63.98707\n",
       "  74.986145\n",
       "  14.96987\n",
       "   ⋮\n",
       " 112.17338\n",
       "   3.9273367\n",
       "  11.48651\n",
       "  87.93994\n",
       "  24.492191\n",
       "  26.49079\n",
       " 105.47092\n",
       "  66.97982\n",
       "  55.959335\n",
       "   6.483061\n",
       "  99.9554\n",
       "  13.0"
      ]
     },
     "execution_count": 387,
     "metadata": {},
     "output_type": "execute_result"
    }
   ],
   "source": [
    "\n",
    "adc_table_j"
   ]
  },
  {
   "cell_type": "code",
   "execution_count": null,
   "id": "2de0d9f9",
   "metadata": {},
   "outputs": [],
   "source": []
  }
 ],
 "metadata": {
  "kernelspec": {
   "display_name": "Julia 1.8.0",
   "language": "julia",
   "name": "julia-1.8"
  },
  "language_info": {
   "file_extension": ".jl",
   "mimetype": "application/julia",
   "name": "julia",
   "version": "1.8.0"
  },
  "toc": {
   "base_numbering": 1,
   "nav_menu": {},
   "number_sections": true,
   "sideBar": true,
   "skip_h1_title": false,
   "title_cell": "Table of Contents",
   "title_sidebar": "Contents",
   "toc_cell": false,
   "toc_position": {},
   "toc_section_display": true,
   "toc_window_display": false
  }
 },
 "nbformat": 4,
 "nbformat_minor": 5
}
