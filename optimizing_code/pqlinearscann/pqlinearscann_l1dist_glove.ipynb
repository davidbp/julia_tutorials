{
 "cells": [
  {
   "cell_type": "markdown",
   "id": "94d35626",
   "metadata": {},
   "source": [
    "# PQ Linearscann on GloVe dataset"
   ]
  },
  {
   "cell_type": "code",
   "execution_count": 13,
   "id": "88c8c554",
   "metadata": {
    "ExecuteTime": {
     "end_time": "2022-09-06T08:20:46.130000+02:00",
     "start_time": "2022-09-06T06:20:26.999Z"
    }
   },
   "outputs": [],
   "source": [
    "using HDF5\n",
    "using BenchmarkTools\n",
    "using Distances\n",
    "using SIMD\n",
    "using Clustering\n",
    "using ProgressMeter\n",
    "using StaticArrays\n",
    "using DataFrames\n",
    "using Plots\n",
    "using NPZ\n",
    "using LSHFunctions\n",
    "using LinearAlgebra"
   ]
  },
  {
   "cell_type": "code",
   "execution_count": 2,
   "id": "5c8425bb",
   "metadata": {
    "ExecuteTime": {
     "end_time": "2022-09-06T08:20:47.980000+02:00",
     "start_time": "2022-09-06T06:20:27.187Z"
    }
   },
   "outputs": [
    {
     "data": {
      "text/plain": [
       "\"Intel(R) Core(TM) i7-10750H CPU @ 2.60GHz\""
      ]
     },
     "metadata": {},
     "output_type": "display_data"
    }
   ],
   "source": [
    "profile_flag = false\n",
    "Sys.cpu_info()[1].model"
   ]
  },
  {
   "cell_type": "markdown",
   "id": "278fc6b2",
   "metadata": {},
   "source": [
    "We load the GloVe dataset:"
   ]
  },
  {
   "cell_type": "code",
   "execution_count": 14,
   "id": "611a6e0d",
   "metadata": {},
   "outputs": [
    {
     "name": "stdout",
     "output_type": "stream",
     "text": [
      "size(X_tr_vecs) = (100, 1183514)\n",
      "size(X_te_vecs) = (100, 10000)\n",
      "size(true_neighbors) = (100, 10000)\n",
      "size(true_distances) = (100, 10000)\n"
     ]
    },
    {
     "data": {
      "text/plain": [
       "(100, 10000)"
      ]
     },
     "metadata": {},
     "output_type": "display_data"
    }
   ],
   "source": [
    "path = joinpath(homedir(), \"TFM\", \"ann-benchmarks\", \"glove-100-angular.hdf5\")\n",
    "\n",
    "f = h5open(path, \"r\")\n",
    "\n",
    "X_tr_vecs = read(f[\"train\"])\n",
    "X_te_vecs = read(f[\"test\"]);\n",
    "true_neighbors = read(f[\"neighbors\"])\n",
    "true_distances = read(f[\"distances\"])\n",
    "\n",
    "true_neighbors .= true_neighbors .+ 1;\n",
    "\n",
    "@show size(X_tr_vecs)\n",
    "@show size(X_te_vecs)\n",
    "@show size(true_neighbors)\n",
    "@show size(true_distances)"
   ]
  },
  {
   "cell_type": "code",
   "execution_count": 15,
   "id": "d4b973eb",
   "metadata": {},
   "outputs": [
    {
     "data": {
      "text/plain": [
       "(100, 1183514)"
      ]
     },
     "metadata": {},
     "output_type": "display_data"
    }
   ],
   "source": [
    "n_features, n_examples = size(X_tr_vecs)"
   ]
  },
  {
   "cell_type": "markdown",
   "id": "7c2e3113",
   "metadata": {},
   "source": [
    "## Replacing ADC table by pairwise distance between PQ codes +  Shared Quantizer"
   ]
  },
  {
   "cell_type": "markdown",
   "id": "b76f5bc1",
   "metadata": {},
   "source": [
    "We will be using a fastest approach instead of ADC table to compute distances, L1 distances, which we are allowed to use thanks to the application of a shared quantizer.In a shared quantizer we consider a single vector of prototypes or centroids (instead of one per each feature/group of features). This way, we can calculate L1 distance between each encoded query and each encoded vector instead of computing a distance table."
   ]
  },
  {
   "cell_type": "markdown",
   "id": "a2442ff0",
   "metadata": {},
   "source": [
    "We define some functions relevant to the process:"
   ]
  },
  {
   "cell_type": "code",
   "execution_count": 16,
   "id": "184e4e00",
   "metadata": {
    "ExecuteTime": {
     "end_time": "2022-09-06T08:21:16.642000+02:00",
     "start_time": "2022-09-06T06:21:16.403Z"
    }
   },
   "outputs": [
    {
     "data": {
      "text/plain": [
       "euclidean_mat2 (generic function with 1 method)"
      ]
     },
     "metadata": {},
     "output_type": "display_data"
    }
   ],
   "source": [
    "function recall(predicted, relevant, eval_at)\n",
    "    \"\"\"\n",
    "    fraction of the relevant documents that are successfully retrieved\n",
    "    \"\"\"\n",
    "    if eval_at == 0\n",
    "        return 0.0\n",
    "    end\n",
    "    \n",
    "    predicted_at_k = predicted[1:eval_at]\n",
    "    n_predicted_and_relevant =  length(intersect( Set(predicted_at_k), Set(relevant))) \n",
    "    return n_predicted_and_relevant/ length(relevant)\n",
    "end\n",
    "\n",
    "function encode_shared(dist, vector::Array{T}, shared_prototypes::Array{T}) where T\n",
    "    n_clusters = length(shared_prototypes)\n",
    "    n_features = size(vector)[1]\n",
    "    closest_prototypes = Array{Int32}(undef, n_features, 1);\n",
    "    \n",
    "    @inbounds for (j,x) in enumerate(vector)\n",
    "        best_coordinate = 1\n",
    "        min_distance::T = typemax(T)\n",
    "        for k in 1:n_clusters\n",
    "           current_dist = dist(shared_prototypes[k], x)\n",
    "           if current_dist < min_distance\n",
    "               best_coordinate = k\n",
    "               min_distance = current_dist\n",
    "           end\n",
    "           #println(k, ' ', j, ' ', best_coordinate, ' ',min_distance )\n",
    "        end            \n",
    "        closest_prototypes[j] = best_coordinate\n",
    "    end\n",
    "    return closest_prototypes\n",
    "end\n",
    "\n",
    "function abs_dist(y::Array{T}, X::Array{T}, j) where T\n",
    "    # Here I use a bigger Int type than 8 due to avoid\n",
    "    # res beeing overflowed\n",
    "    res = Int16(0)\n",
    "    @inbounds @fastmath  for k in eachindex(y)\n",
    "        res += abs(X[k, j] - y[k])\n",
    "    end\n",
    "    return res\n",
    "end\n",
    "\n",
    "function linear_scann_exact(dist, query, X)\n",
    "\n",
    "    n_features, n_examples = size(X)\n",
    "    distances = Array{Float32}(undef, n_examples)\n",
    "    \n",
    "    @inbounds for j in 1:n_examples\n",
    "        distances[j] = dist(query, X, j)    \n",
    "    end\n",
    "    return distances\n",
    "end\n",
    "\n",
    "function linear_scann_exact_pq(dist, query, X, top_k, extra_factor)\n",
    "\n",
    "    n_features, n_examples = size(X)\n",
    "    distances = Array{Float32}(undef, n_examples)\n",
    "    \n",
    "    @inbounds for j in 1:n_examples\n",
    "        distances[j] = dist(query, X, j)    \n",
    "    end\n",
    "\n",
    "    top_result_pos = sortperm(distances)[1:top_k*extra_factor];\n",
    "    \n",
    "    return top_result_pos\n",
    "end\n",
    "\n",
    "function euclidean_mat2(y, X, j) where T\n",
    "    # Here I use a bigger Int type than 8 due to avoid\n",
    "    # res beeing overflowed\n",
    "    res = zero(eltype(y))\n",
    "    @inbounds @fastmath  for k in eachindex(y)\n",
    "        partial = X[k, j] - y[k]\n",
    "        res += partial * partial\n",
    "    end\n",
    "    return res\n",
    "end"
   ]
  },
  {
   "cell_type": "markdown",
   "id": "601891ce",
   "metadata": {},
   "source": [
    "We load the centroids resulting of performing 1d-kmeans over the first feature of the train dataset. Notice that these centroids are sorted, resulting in a sorted codification. We will take advantage of shared quantization. We do tests with different sets of prototypes to check which one produces a better recall after the shared quantization: "
   ]
  },
  {
   "cell_type": "code",
   "execution_count": 17,
   "id": "5bf440ec",
   "metadata": {},
   "outputs": [
    {
     "data": {
      "text/plain": [
       "128-element Vector{Float32}:\n",
       " -3.3792334\n",
       " -2.893548\n",
       " -2.5925786\n",
       " -2.3798368\n",
       " -2.2132785\n",
       " -2.0744526\n",
       " -1.9516637\n",
       " -1.8409548\n",
       " -1.7442269\n",
       " -1.6597183\n",
       "  ⋮\n",
       "  1.7391312\n",
       "  1.8250538\n",
       "  1.9321226\n",
       "  2.0490065\n",
       "  2.18139\n",
       "  2.3596976\n",
       "  2.590493\n",
       "  2.9266334\n",
       "  3.47945"
      ]
     },
     "metadata": {},
     "output_type": "display_data"
    }
   ],
   "source": [
    "#P_shared = vec(Float32.(npzread(\"1dkmeans_prototypes/1dkmeans_shared_prototypes_GloVe.npy\")))\n",
    "#P_shared = vec(Float32.(npzread(\"1dkmeans_prototypes/1dkmeans_shared_prototypes_GloVe_5feat.npy\")))\n",
    "P_shared = vec(Float32.(npzread(\"1dkmeans_prototypes/1dkmeans_shared_prototypes_GloVe_128c.npy\")))\n",
    "#P_shared = vec(Float32.(npzread(\"1dkmeans_prototypes/1dkmeans_shared_prototypes_GloVe_64c_3feat.npy\")))\n",
    "#P_shared = vec(Float32.(npzread(\"1dkmeans_prototypes/1dkmeans_shared_prototypes_GloVe_256c.npy\")))\n",
    "#P_shared = vec(Float32.(npzread(\"1dkmeans_prototypes/1dkmeans_shared_prototypes_GloVe_normalized_128.npy\")))"
   ]
  },
  {
   "cell_type": "markdown",
   "id": "91bb39c4",
   "metadata": {},
   "source": [
    "We can use normalized vectors, although we have checked that the performance does not vary."
   ]
  },
  {
   "cell_type": "code",
   "execution_count": 10,
   "id": "8cc7e6f4",
   "metadata": {},
   "outputs": [],
   "source": [
    "X_tr_normed = Array{Float32}(undef, n_features, n_examples);\n",
    "for j in 1:n_examples\n",
    "    X_tr_normed[:,j] = X_tr_vecs[:,j]/norm(X_tr_vecs[:,j])\n",
    "end"
   ]
  },
  {
   "cell_type": "code",
   "execution_count": 18,
   "id": "c8d0febe",
   "metadata": {},
   "outputs": [],
   "source": [
    "PQcodes_shared = Array{Int16}(undef, n_features, n_examples);\n",
    "\n",
    "for j in 1:n_examples\n",
    "    PQcodes_shared[:,j] = encode_shared(euclidean, X_tr_vecs[:,j], P_shared)\n",
    "    #PQcodes_shared[:,j] = encode_shared(euclidean, X_tr_normed[:,j], P_shared)\n",
    "end"
   ]
  },
  {
   "cell_type": "markdown",
   "id": "2b9209c0",
   "metadata": {},
   "source": [
    "### Cosine distance"
   ]
  },
  {
   "cell_type": "markdown",
   "id": "a59e2a5b",
   "metadata": {},
   "source": [
    "GloVe dataset NNs are measured with an angular distance, so we define both cosine similarity and dot product functions in order to measure distances between the query code and the vector code"
   ]
  },
  {
   "cell_type": "code",
   "execution_count": 19,
   "id": "3148cd5c",
   "metadata": {},
   "outputs": [
    {
     "data": {
      "text/plain": [
       "dot_product (generic function with 1 method)"
      ]
     },
     "metadata": {},
     "output_type": "display_data"
    }
   ],
   "source": [
    "function cos_sim(y::Array{T}, X::Array{T}, j) where T\n",
    "    sim = Int16(0)\n",
    "    pq_norm_squared = Int16(0)\n",
    "    q_norm = norm(y)\n",
    "    @inbounds @fastmath  for k in eachindex(y)\n",
    "        sim += X[k, j]*y[k]\n",
    "        pq_norm_squared += X[k, j]*X[k, j]\n",
    "    end\n",
    "    return sim/(q_norm*sqrt(pq_norm_squared))\n",
    "end\n",
    "\n",
    "function dot_product(y::Array{T}, X::Array{T}, j) where T\n",
    "    sim = Int16(0)\n",
    "    @inbounds @fastmath  for k in eachindex(y)\n",
    "        sim += X[k, j]*y[k]\n",
    "    end\n",
    "    return sim\n",
    "end"
   ]
  },
  {
   "cell_type": "markdown",
   "id": "e2e65da0",
   "metadata": {},
   "source": [
    "Again, we encounter problems for Int8 and Int16 query types"
   ]
  },
  {
   "cell_type": "code",
   "execution_count": 28,
   "id": "07c23405",
   "metadata": {},
   "outputs": [
    {
     "name": "stdout",
     "output_type": "stream",
     "text": [
      "recall(top_k_pq_cos, query_true_neighbors, top_k) = 0.33\n",
      "recall(top_k_pq_dot, query_true_neighbors, top_k) = 0.0\n"
     ]
    }
   ],
   "source": [
    "query_id = 1\n",
    "query = X_te_vecs[:,query_id];\n",
    "query_true_neighbors = true_neighbors[:,query_id]\n",
    "top_k = 100\n",
    "\n",
    "query_code = encode_shared(euclidean, query, P_shared)\n",
    "query_code = Int32.(vec(query_code))\n",
    "\n",
    "PQcodes_int8 = Int32.(PQcodes_shared);\n",
    "\n",
    "pq_distances_cos = linear_scann_exact(cos_sim, query_code, PQcodes_int8)\n",
    "pq_distances_dot = linear_scann_exact(dot_product, query_code, PQcodes_int8)\n",
    "\n",
    "top_k_pq_cos = sortperm(pq_distances_cos)[length(pq_distances_cos)-top_k+1:length(pq_distances_cos)];\n",
    "top_k_pq_dot = sortperm(pq_distances_dot)[length(pq_distances_dot)-top_k+1:length(pq_distances_dot)];\n",
    "\n",
    "@show recall(top_k_pq_cos, query_true_neighbors, top_k);\n",
    "@show recall(top_k_pq_dot, query_true_neighbors, top_k);"
   ]
  },
  {
   "cell_type": "markdown",
   "id": "b8436a13",
   "metadata": {},
   "source": [
    "We obtain relatively low recall for the cosine distance and 0 recall for the dot product distance (which is logical due to the fact that pqcodes are ints - non normalized)"
   ]
  },
  {
   "cell_type": "markdown",
   "id": "8b6e10ab",
   "metadata": {},
   "source": [
    "#### Top_k_expansion + finetunning"
   ]
  },
  {
   "cell_type": "code",
   "execution_count": 21,
   "id": "8c1cd22a",
   "metadata": {},
   "outputs": [
    {
     "data": {
      "text/plain": [
       "linear_scann_exact_pq_cos (generic function with 1 method)"
      ]
     },
     "metadata": {},
     "output_type": "display_data"
    }
   ],
   "source": [
    "function linear_scann_exact_pq_cos(dist, query, X, top_k, extra_factor)\n",
    "\n",
    "    n_features, n_examples = size(X)\n",
    "    distances = Array{Float32}(undef, n_examples)\n",
    "    \n",
    "    @inbounds for j in 1:n_examples\n",
    "        distances[j] = dist(query, X, j)    \n",
    "    end\n",
    "\n",
    "    top_result_pos = sortperm(distances)[length(distances)-top_k+1:length(distances)];\n",
    "    \n",
    "    return top_result_pos\n",
    "end"
   ]
  },
  {
   "cell_type": "code",
   "execution_count": 22,
   "id": "4a0492cc",
   "metadata": {},
   "outputs": [
    {
     "name": "stdout",
     "output_type": "stream",
     "text": [
      "recall(best_ids[permutation_expanded], query_true_neighbors, top_k) = 0.35\n"
     ]
    }
   ],
   "source": [
    "query_id = 5\n",
    "query = X_te_vecs[:,query_id];\n",
    "query_true_neighbors = true_neighbors[:,query_id]\n",
    "top_k = 100\n",
    "\n",
    "query_code = encode_shared(euclidean, query, P_shared)\n",
    "query_code = Int32.(vec(query_code))\n",
    "\n",
    "PQcodes_int8 = Int32.(PQcodes_shared);\n",
    "best_ids = linear_scann_exact_pq_cos(cos_sim, query_code, PQcodes_int8, top_k, 10);\n",
    "\n",
    "#linear_scann_exact(euclidean_mat, query, view(X_tr_vecs,:,best_ids))\n",
    "distances_candidates_expanded = linear_scann_exact(cos_sim, query, X_tr_vecs[:,best_ids]);\n",
    "permutation_expanded = sortperm(distances_candidates_expanded)[length(distances_candidates_expanded)-top_k+1:length(distances_candidates_expanded)];\n",
    "@show recall(best_ids[permutation_expanded], query_true_neighbors, top_k);"
   ]
  },
  {
   "cell_type": "markdown",
   "id": "83c4332b",
   "metadata": {},
   "source": [
    "(Augments from 0.33 to 0.37 when building the shared prototypes out of 5 feats.)"
   ]
  },
  {
   "cell_type": "code",
   "execution_count": 23,
   "id": "57884b20",
   "metadata": {},
   "outputs": [
    {
     "data": {
      "text/plain": [
       "0.5043000000000002"
      ]
     },
     "metadata": {},
     "output_type": "display_data"
    }
   ],
   "source": [
    "function compute_mean_recall_extra(X, PQcodes_shared, true_neighbors, P_shared, extra_factor, top_k::Int, dist::Function)\n",
    "\n",
    "    n_features, n_examples = size(X)\n",
    "    PQcodes_int8 = Int32.(PQcodes_shared);\n",
    "    average = 0.\n",
    "    for query_id in 1:n_examples\n",
    "        query = X[:, query_id]\n",
    "        query_code = encode_shared(euclidean, query, P_shared)\n",
    "        query_code = Int32.(vec(query_code))\n",
    "        best_ids = linear_scann_exact_pq_cos(dist, query_code, PQcodes_int8, top_k, extra_factor);\n",
    "        distances_candidates_expanded = linear_scann_exact(dist, query, X_tr_vecs[:,best_ids]);\n",
    "        permutation_expanded = sortperm(distances_candidates_expanded)[length(distances_candidates_expanded)-top_k+1:length(distances_candidates_expanded)];\n",
    "        r = recall(best_ids[permutation_expanded], true_neighbors[:,query_id], top_k);\n",
    "        average += r;\n",
    "        end\n",
    "    return average / n_examples\n",
    "    end\n",
    "\n",
    "extra_factor = 10\n",
    "top_k = 100\n",
    "avg_recall = compute_mean_recall_extra(X_te_vecs[:, 1:100], PQcodes_shared, true_neighbors, P_shared, extra_factor, top_k, cos_sim) "
   ]
  },
  {
   "cell_type": "markdown",
   "id": "fad50f99",
   "metadata": {},
   "source": [
    "The average recall when considering 100 queries and finetunning is around 0.5."
   ]
  },
  {
   "cell_type": "markdown",
   "id": "9a24720b",
   "metadata": {},
   "source": [
    "We check that we obtain perfect recall with the exact search and the cosine distance:"
   ]
  },
  {
   "cell_type": "code",
   "execution_count": 24,
   "id": "d9cc20f4",
   "metadata": {},
   "outputs": [
    {
     "data": {
      "text/plain": [
       "linear_scann_exact (generic function with 1 method)"
      ]
     },
     "metadata": {},
     "output_type": "display_data"
    }
   ],
   "source": [
    "function cos_dist(y::Array{T}, X::Array{T}, j) where T\n",
    "    dist = cossim(y,X[:,j])\n",
    "    return dist\n",
    "end\n",
    "\n",
    "function linear_scann_exact(dist, query, X)\n",
    "\n",
    "    n_features, n_examples = size(X)\n",
    "    distances = Array{Float32}(undef, n_examples)\n",
    "    \n",
    "    @inbounds for j in 1:n_examples\n",
    "        distances[j] = dist(query, X, j)     \n",
    "    end\n",
    "    return distances\n",
    "end"
   ]
  },
  {
   "cell_type": "code",
   "execution_count": 25,
   "id": "c0b22454",
   "metadata": {},
   "outputs": [
    {
     "name": "stdout",
     "output_type": "stream",
     "text": [
      "recall(top_k_pq_cos, query_true_neighbors, top_k) = 1.0\n"
     ]
    }
   ],
   "source": [
    "exact_distances = linear_scann_exact(cos_dist, query, X_tr_vecs)\n",
    "top_k_pq_cos = sortperm(exact_distances)[length(exact_distances)-top_k+1:length(exact_distances)];\n",
    "\n",
    "@show recall(top_k_pq_cos, query_true_neighbors, top_k);"
   ]
  },
  {
   "cell_type": "markdown",
   "id": "404e1189",
   "metadata": {},
   "source": [
    "### L1 distance"
   ]
  },
  {
   "cell_type": "markdown",
   "id": "1d593798",
   "metadata": {},
   "source": [
    "We also check the results using plain L1 distance"
   ]
  },
  {
   "cell_type": "code",
   "execution_count": 26,
   "id": "8de1c5d9",
   "metadata": {},
   "outputs": [
    {
     "name": "stdout",
     "output_type": "stream",
     "text": [
      "recall(top_k_pq_l1, query_true_neighbors, top_k) = 0.33\n"
     ]
    }
   ],
   "source": [
    "query_id = 1\n",
    "query = X_te_vecs[:,query_id];\n",
    "query_true_neighbors = true_neighbors[:,query_id]\n",
    "top_k = 100\n",
    "\n",
    "query_code = encode_shared(euclidean, query, P_shared)\n",
    "query_code = Int16.(vec(query_code))\n",
    "\n",
    "PQcodes_int8 = Int16.(PQcodes_shared);\n",
    "\n",
    "pq_distances = linear_scann_exact(abs_dist, query_code, PQcodes_int8)\n",
    "top_k_pq_l1 = sortperm(pq_distances)[1:top_k];\n",
    "\n",
    "@show recall(top_k_pq_l1, query_true_neighbors, top_k);"
   ]
  },
  {
   "cell_type": "markdown",
   "id": "488cad73",
   "metadata": {},
   "source": [
    "#### Top_k_pq_cos vs. top_k_pq_l1"
   ]
  },
  {
   "cell_type": "code",
   "execution_count": 29,
   "id": "95020d8e",
   "metadata": {},
   "outputs": [
    {
     "data": {
      "text/plain": [
       "58-element Vector{Int64}:\n",
       "  100207\n",
       "  689946\n",
       " 1051873\n",
       "  327721\n",
       "  547335\n",
       "  117206\n",
       "  292552\n",
       "  904717\n",
       "  427586\n",
       "  660542\n",
       "       ⋮\n",
       "  914909\n",
       "  989331\n",
       "  926742\n",
       "  402217\n",
       " 1133490\n",
       "  995276\n",
       "   93439\n",
       "   97479\n",
       "  660282"
      ]
     },
     "metadata": {},
     "output_type": "display_data"
    }
   ],
   "source": [
    "inter_top = intersect(top_k_pq_cos, top_k_pq_l1)"
   ]
  },
  {
   "cell_type": "markdown",
   "id": "b876a294",
   "metadata": {},
   "source": [
    "58 common indices in top100"
   ]
  },
  {
   "cell_type": "code",
   "execution_count": 30,
   "id": "ed0081cb",
   "metadata": {},
   "outputs": [
    {
     "data": {
      "text/plain": [
       "27-element Vector{Int64}:\n",
       "  100207\n",
       "  547335\n",
       "  979283\n",
       "  265227\n",
       "  647844\n",
       "   51822\n",
       "  817758\n",
       "  368656\n",
       "  834700\n",
       "  264603\n",
       "       ⋮\n",
       "  242798\n",
       "  914909\n",
       "  989331\n",
       "  402217\n",
       " 1133490\n",
       "  995276\n",
       "   93439\n",
       "   97479\n",
       "  660282"
      ]
     },
     "metadata": {},
     "output_type": "display_data"
    }
   ],
   "source": [
    "intersect(inter_top, query_true_neighbors)"
   ]
  },
  {
   "cell_type": "markdown",
   "id": "84eefee9",
   "metadata": {},
   "source": [
    "27 elements out of the total 33 that l1/cos dists get right are common."
   ]
  },
  {
   "cell_type": "markdown",
   "id": "00305c3a",
   "metadata": {},
   "source": [
    "#### Top_k_expansion + finetunning"
   ]
  },
  {
   "cell_type": "code",
   "execution_count": 31,
   "id": "65c3f109",
   "metadata": {},
   "outputs": [
    {
     "name": "stdout",
     "output_type": "stream",
     "text": [
      "recall(best_ids[permutation_expanded], query_true_neighbors, top_k) = 0.38\n"
     ]
    }
   ],
   "source": [
    "query_id = 5\n",
    "query = X_te_vecs[:,query_id];\n",
    "query_true_neighbors = true_neighbors[:,query_id]\n",
    "top_k = 100\n",
    "\n",
    "query_code = encode_shared(euclidean, query, P_shared)\n",
    "query_code = Int16.(vec(query_code))\n",
    "\n",
    "PQcodes_int8 = Int16.(PQcodes_shared);\n",
    "best_ids = linear_scann_exact_pq(abs_dist, query_code, PQcodes_int8, top_k, 10);\n",
    "\n",
    "#linear_scann_exact(euclidean_mat, query, view(X_tr_vecs,:,best_ids))\n",
    "distances_candidates_expanded = linear_scann_exact(euclidean_mat2, query, X_tr_vecs[:,best_ids]);\n",
    "permutation_expanded = sortperm(distances_candidates_expanded)[1:top_k];\n",
    "@show recall(best_ids[permutation_expanded], query_true_neighbors, top_k);"
   ]
  },
  {
   "cell_type": "code",
   "execution_count": 32,
   "id": "d3fc56e7",
   "metadata": {},
   "outputs": [
    {
     "data": {
      "text/plain": [
       "0.4922000000000001"
      ]
     },
     "metadata": {},
     "output_type": "display_data"
    }
   ],
   "source": [
    "function compute_mean_recall_extra(X, PQcodes_shared, true_neighbors, P_shared, extra_factor, top_k::Int, dist::Function)\n",
    "\n",
    "    n_features, n_examples = size(X)\n",
    "    PQcodes_int8 = Int16.(PQcodes_shared);\n",
    "    average = 0.\n",
    "    for query_id in 1:n_examples\n",
    "        query = X[:, query_id]\n",
    "        query_code = encode_shared(euclidean, query, P_shared)\n",
    "        query_code = Int16.(vec(query_code))\n",
    "        best_ids = linear_scann_exact_pq(dist, query_code, PQcodes_int8, top_k, extra_factor);\n",
    "        distances_candidates_expanded = linear_scann_exact(euclidean_mat2, query, X_tr_vecs[:,best_ids]);\n",
    "        permutation_expanded = sortperm(distances_candidates_expanded)[1:top_k]\n",
    "        r = recall(best_ids[permutation_expanded], true_neighbors[:,query_id], top_k);\n",
    "        average += r;\n",
    "        end\n",
    "    return average / n_examples\n",
    "    end\n",
    "\n",
    "extra_factor = 10\n",
    "top_k = 100\n",
    "avg_recall = compute_mean_recall_extra(X_te_vecs[:, 1:100], PQcodes_shared, true_neighbors, P_shared, extra_factor, top_k, abs_dist) "
   ]
  },
  {
   "cell_type": "markdown",
   "id": "17a04cd9",
   "metadata": {},
   "source": [
    "The final recall is similar including the finetunning."
   ]
  },
  {
   "cell_type": "code",
   "execution_count": 33,
   "id": "e93844a4",
   "metadata": {},
   "outputs": [
    {
     "data": {
      "text/plain": [
       "linear_scann_exact (generic function with 1 method)"
      ]
     },
     "metadata": {},
     "output_type": "display_data"
    }
   ],
   "source": [
    "@inline function Euclidean0(x, query)\n",
    "    res = zero(eltype(x))\n",
    "    @inbounds @fastmath  for j in eachindex(x)\n",
    "        aux = (query[j] - x[j])\n",
    "        res += aux * aux\n",
    "    end\n",
    "    return sqrt(res)\n",
    "end\n",
    "\n",
    "function linear_scann_exact(dist, query, X)\n",
    "\n",
    "    n_features, n_examples = size(X)\n",
    "    distances = Array{Float32}(undef, n_examples)\n",
    "    \n",
    "    @inbounds for j in 1:n_examples\n",
    "        distances[j] = dist(query, view(X,:,j))    \n",
    "    end\n",
    "    return distances\n",
    "end\n"
   ]
  },
  {
   "cell_type": "code",
   "execution_count": 34,
   "id": "449218c2",
   "metadata": {},
   "outputs": [
    {
     "name": "stdout",
     "output_type": "stream",
     "text": [
      "recall(top_k_pq_l1, query_true_neighbors, top_k) = 0.37\n"
     ]
    }
   ],
   "source": [
    "exact_distances = linear_scann_exact(Euclidean0, query, X_tr_vecs)\n",
    "top_k_pq_l1 = sortperm(exact_distances)[1:top_k];\n",
    "\n",
    "@show recall(top_k_pq_l1, query_true_neighbors, top_k);"
   ]
  },
  {
   "cell_type": "markdown",
   "id": "f1a6e493",
   "metadata": {},
   "source": [
    "Notice that we do not get perfect recall in exact search when using l1 distance"
   ]
  },
  {
   "cell_type": "markdown",
   "id": "a6d7a938",
   "metadata": {},
   "source": [
    "## Standard Quantization with ADC table"
   ]
  },
  {
   "cell_type": "markdown",
   "id": "3832adcd",
   "metadata": {},
   "source": [
    "Given the poor recall results obtained with the previous approach, we apply standard quantization to our dataset to see if we get improvements:"
   ]
  },
  {
   "cell_type": "code",
   "execution_count": 3,
   "id": "84aa3086",
   "metadata": {},
   "outputs": [
    {
     "name": "stdout",
     "output_type": "stream",
     "text": [
      "Feature 1\n",
      "Feature "
     ]
    },
    {
     "name": "stdout",
     "output_type": "stream",
     "text": [
      "2\n"
     ]
    },
    {
     "name": "stdout",
     "output_type": "stream",
     "text": [
      "Feature 3\n",
      "Feature "
     ]
    },
    {
     "name": "stdout",
     "output_type": "stream",
     "text": [
      "4\n"
     ]
    },
    {
     "name": "stdout",
     "output_type": "stream",
     "text": [
      "Feature 5\n",
      "Feature "
     ]
    },
    {
     "name": "stdout",
     "output_type": "stream",
     "text": [
      "6\n"
     ]
    },
    {
     "name": "stdout",
     "output_type": "stream",
     "text": [
      "Feature 7\n",
      "Feature "
     ]
    },
    {
     "name": "stdout",
     "output_type": "stream",
     "text": [
      "8\n"
     ]
    },
    {
     "name": "stdout",
     "output_type": "stream",
     "text": [
      "Feature 9\n",
      "Feature "
     ]
    },
    {
     "name": "stdout",
     "output_type": "stream",
     "text": [
      "10\n"
     ]
    },
    {
     "name": "stdout",
     "output_type": "stream",
     "text": [
      "Feature 11\n",
      "Feature "
     ]
    },
    {
     "name": "stdout",
     "output_type": "stream",
     "text": [
      "12\n"
     ]
    },
    {
     "name": "stdout",
     "output_type": "stream",
     "text": [
      "Feature 13\n",
      "Feature "
     ]
    },
    {
     "name": "stdout",
     "output_type": "stream",
     "text": [
      "14\n"
     ]
    },
    {
     "name": "stdout",
     "output_type": "stream",
     "text": [
      "Feature 15\n",
      "Feature "
     ]
    },
    {
     "name": "stdout",
     "output_type": "stream",
     "text": [
      "16\n"
     ]
    },
    {
     "name": "stdout",
     "output_type": "stream",
     "text": [
      "Feature 17\n",
      "Feature "
     ]
    },
    {
     "name": "stdout",
     "output_type": "stream",
     "text": [
      "18\n"
     ]
    },
    {
     "name": "stdout",
     "output_type": "stream",
     "text": [
      "Feature 19\n",
      "Feature "
     ]
    },
    {
     "name": "stdout",
     "output_type": "stream",
     "text": [
      "20\n"
     ]
    },
    {
     "name": "stdout",
     "output_type": "stream",
     "text": [
      "Feature 21\n",
      "Feature "
     ]
    },
    {
     "name": "stdout",
     "output_type": "stream",
     "text": [
      "22\n"
     ]
    },
    {
     "name": "stdout",
     "output_type": "stream",
     "text": [
      "Feature 23\n",
      "Feature "
     ]
    },
    {
     "name": "stdout",
     "output_type": "stream",
     "text": [
      "24\n"
     ]
    },
    {
     "name": "stdout",
     "output_type": "stream",
     "text": [
      "Feature 25\n",
      "Feature "
     ]
    },
    {
     "name": "stdout",
     "output_type": "stream",
     "text": [
      "26\n"
     ]
    },
    {
     "name": "stdout",
     "output_type": "stream",
     "text": [
      "Feature 27\n",
      "Feature "
     ]
    },
    {
     "name": "stdout",
     "output_type": "stream",
     "text": [
      "28\n"
     ]
    },
    {
     "name": "stdout",
     "output_type": "stream",
     "text": [
      "Feature 29\n",
      "Feature "
     ]
    },
    {
     "name": "stdout",
     "output_type": "stream",
     "text": [
      "30\n"
     ]
    },
    {
     "name": "stdout",
     "output_type": "stream",
     "text": [
      "Feature 31\n",
      "Feature "
     ]
    },
    {
     "name": "stdout",
     "output_type": "stream",
     "text": [
      "32\n"
     ]
    },
    {
     "name": "stderr",
     "output_type": "stream",
     "text": [
      "┌ Warning: The clustering cost increased at iteration #154\n",
      "└ @ Clustering /home/adegaray/.julia/packages/Clustering/tt9vc/src/kmeans.jl:188\n",
      "┌ Warning: The clustering cost increased at iteration #163\n",
      "└ @ Clustering /home/adegaray/.julia/packages/Clustering/tt9vc/src/kmeans.jl:188\n"
     ]
    },
    {
     "name": "stderr",
     "output_type": "stream",
     "text": [
      "┌ Warning: The clustering cost increased at iteration #168\n",
      "└ @ Clustering /home/adegaray/.julia/packages/Clustering/tt9vc/src/kmeans.jl:188\n",
      "┌ Warning: The clustering cost increased at iteration #171\n",
      "└ @ Clustering /home/adegaray/.julia/packages/Clustering/tt9vc/src/kmeans.jl:188\n"
     ]
    },
    {
     "name": "stderr",
     "output_type": "stream",
     "text": [
      "┌ Warning: The clustering cost increased at iteration #174\n",
      "└ @ Clustering /home/adegaray/.julia/packages/Clustering/tt9vc/src/kmeans.jl:188\n"
     ]
    },
    {
     "name": "stdout",
     "output_type": "stream",
     "text": [
      "Feature 33\n",
      "Feature "
     ]
    },
    {
     "name": "stdout",
     "output_type": "stream",
     "text": [
      "34\n"
     ]
    },
    {
     "name": "stdout",
     "output_type": "stream",
     "text": [
      "Feature 35\n",
      "Feature "
     ]
    },
    {
     "name": "stdout",
     "output_type": "stream",
     "text": [
      "36\n"
     ]
    },
    {
     "name": "stdout",
     "output_type": "stream",
     "text": [
      "Feature 37\n",
      "Feature "
     ]
    },
    {
     "name": "stdout",
     "output_type": "stream",
     "text": [
      "38\n"
     ]
    },
    {
     "name": "stdout",
     "output_type": "stream",
     "text": [
      "Feature 39\n",
      "Feature "
     ]
    },
    {
     "name": "stdout",
     "output_type": "stream",
     "text": [
      "40\n"
     ]
    },
    {
     "name": "stdout",
     "output_type": "stream",
     "text": [
      "Feature 41\n",
      "Feature "
     ]
    },
    {
     "name": "stdout",
     "output_type": "stream",
     "text": [
      "42\n"
     ]
    },
    {
     "name": "stdout",
     "output_type": "stream",
     "text": [
      "Feature 43\n",
      "Feature "
     ]
    },
    {
     "name": "stdout",
     "output_type": "stream",
     "text": [
      "44\n"
     ]
    },
    {
     "name": "stdout",
     "output_type": "stream",
     "text": [
      "Feature 45\n",
      "Feature "
     ]
    },
    {
     "name": "stdout",
     "output_type": "stream",
     "text": [
      "46\n"
     ]
    },
    {
     "name": "stderr",
     "output_type": "stream",
     "text": [
      "┌ Warning: The clustering cost increased at iteration #169\n",
      "└ @ Clustering /home/adegaray/.julia/packages/Clustering/tt9vc/src/kmeans.jl:188\n"
     ]
    },
    {
     "name": "stdout",
     "output_type": "stream",
     "text": [
      "Feature 47\n",
      "Feature "
     ]
    },
    {
     "name": "stdout",
     "output_type": "stream",
     "text": [
      "48\n"
     ]
    },
    {
     "name": "stdout",
     "output_type": "stream",
     "text": [
      "Feature 49\n",
      "Feature "
     ]
    },
    {
     "name": "stdout",
     "output_type": "stream",
     "text": [
      "50\n"
     ]
    },
    {
     "name": "stdout",
     "output_type": "stream",
     "text": [
      "Feature 51\n",
      "Feature "
     ]
    },
    {
     "name": "stdout",
     "output_type": "stream",
     "text": [
      "52\n"
     ]
    },
    {
     "name": "stdout",
     "output_type": "stream",
     "text": [
      "Feature 53\n",
      "Feature "
     ]
    },
    {
     "name": "stdout",
     "output_type": "stream",
     "text": [
      "54\n"
     ]
    },
    {
     "name": "stdout",
     "output_type": "stream",
     "text": [
      "Feature 55\n",
      "Feature "
     ]
    },
    {
     "name": "stdout",
     "output_type": "stream",
     "text": [
      "56\n"
     ]
    },
    {
     "name": "stdout",
     "output_type": "stream",
     "text": [
      "Feature 57\n",
      "Feature "
     ]
    },
    {
     "name": "stdout",
     "output_type": "stream",
     "text": [
      "58\n"
     ]
    },
    {
     "name": "stdout",
     "output_type": "stream",
     "text": [
      "Feature 59\n",
      "Feature "
     ]
    },
    {
     "name": "stdout",
     "output_type": "stream",
     "text": [
      "60\n"
     ]
    },
    {
     "name": "stderr",
     "output_type": "stream",
     "text": [
      "┌ Warning: The clustering cost increased at iteration #78\n",
      "└ @ Clustering /home/adegaray/.julia/packages/Clustering/tt9vc/src/kmeans.jl:188\n",
      "┌ Warning: The clustering cost increased at iteration #89\n",
      "└ @ Clustering /home/adegaray/.julia/packages/Clustering/tt9vc/src/kmeans.jl:188\n"
     ]
    },
    {
     "name": "stderr",
     "output_type": "stream",
     "text": [
      "┌ Warning: The clustering cost increased at iteration #94\n",
      "└ @ Clustering /home/adegaray/.julia/packages/Clustering/tt9vc/src/kmeans.jl:188\n",
      "┌ Warning: The clustering cost increased at iteration #96\n",
      "└ @ Clustering /home/adegaray/.julia/packages/Clustering/tt9vc/src/kmeans.jl:188\n"
     ]
    },
    {
     "name": "stderr",
     "output_type": "stream",
     "text": [
      "┌ Warning: The clustering cost increased at iteration #104\n",
      "└ @ Clustering /home/adegaray/.julia/packages/Clustering/tt9vc/src/kmeans.jl:188\n",
      "┌ Warning: The clustering cost increased at iteration #113\n",
      "└ @ Clustering /home/adegaray/.julia/packages/Clustering/tt9vc/src/kmeans.jl:188\n"
     ]
    },
    {
     "name": "stderr",
     "output_type": "stream",
     "text": [
      "┌ Warning: The clustering cost increased at iteration #115\n",
      "└ @ Clustering /home/adegaray/.julia/packages/Clustering/tt9vc/src/kmeans.jl:188\n",
      "┌ Warning: The clustering cost increased at iteration #118\n",
      "└ @ Clustering /home/adegaray/.julia/packages/Clustering/tt9vc/src/kmeans.jl:188\n"
     ]
    },
    {
     "name": "stderr",
     "output_type": "stream",
     "text": [
      "┌ Warning: The clustering cost increased at iteration #122\n",
      "└ @ Clustering /home/adegaray/.julia/packages/Clustering/tt9vc/src/kmeans.jl:188\n",
      "┌ Warning: The clustering cost increased at iteration #126\n",
      "└ @ Clustering /home/adegaray/.julia/packages/Clustering/tt9vc/src/kmeans.jl:188\n"
     ]
    },
    {
     "name": "stderr",
     "output_type": "stream",
     "text": [
      "┌ Warning: The clustering cost increased at iteration #129\n",
      "└ @ Clustering /home/adegaray/.julia/packages/Clustering/tt9vc/src/kmeans.jl:188\n",
      "┌ Warning: The clustering cost increased at iteration #133\n",
      "└ @ Clustering /home/adegaray/.julia/packages/Clustering/tt9vc/src/kmeans.jl:188\n"
     ]
    },
    {
     "name": "stderr",
     "output_type": "stream",
     "text": [
      "┌ Warning: The clustering cost increased at iteration #139\n",
      "└ @ Clustering /home/adegaray/.julia/packages/Clustering/tt9vc/src/kmeans.jl:188\n",
      "┌ Warning: The clustering cost increased at iteration #140\n",
      "└ @ Clustering /home/adegaray/.julia/packages/Clustering/tt9vc/src/kmeans.jl:188\n"
     ]
    },
    {
     "name": "stderr",
     "output_type": "stream",
     "text": [
      "┌ Warning: The clustering cost increased at iteration #143\n",
      "└ @ Clustering /home/adegaray/.julia/packages/Clustering/tt9vc/src/kmeans.jl:188\n"
     ]
    },
    {
     "name": "stdout",
     "output_type": "stream",
     "text": [
      "Feature 61\n",
      "Feature "
     ]
    },
    {
     "name": "stdout",
     "output_type": "stream",
     "text": [
      "62\n"
     ]
    },
    {
     "name": "stdout",
     "output_type": "stream",
     "text": [
      "Feature 63\n",
      "Feature "
     ]
    },
    {
     "name": "stdout",
     "output_type": "stream",
     "text": [
      "64\n"
     ]
    },
    {
     "name": "stdout",
     "output_type": "stream",
     "text": [
      "Feature 65\n",
      "Feature "
     ]
    },
    {
     "name": "stdout",
     "output_type": "stream",
     "text": [
      "66\n"
     ]
    },
    {
     "name": "stderr",
     "output_type": "stream",
     "text": [
      "┌ Warning: The clustering cost increased at iteration #195\n",
      "└ @ Clustering /home/adegaray/.julia/packages/Clustering/tt9vc/src/kmeans.jl:188\n"
     ]
    },
    {
     "name": "stdout",
     "output_type": "stream",
     "text": [
      "Feature 67\n",
      "Feature "
     ]
    },
    {
     "name": "stdout",
     "output_type": "stream",
     "text": [
      "68\n"
     ]
    },
    {
     "name": "stdout",
     "output_type": "stream",
     "text": [
      "Feature 69\n"
     ]
    },
    {
     "name": "stderr",
     "output_type": "stream",
     "text": [
      "┌ Warning: The clustering cost increased at iteration #175\n",
      "└ @ Clustering /home/adegaray/.julia/packages/Clustering/tt9vc/src/kmeans.jl:188\n",
      "┌ Warning: The clustering cost increased at iteration #191\n",
      "└ @ Clustering /home/adegaray/.julia/packages/Clustering/tt9vc/src/kmeans.jl:188\n"
     ]
    },
    {
     "name": "stdout",
     "output_type": "stream",
     "text": [
      "Feature 70\n"
     ]
    },
    {
     "name": "stderr",
     "output_type": "stream",
     "text": [
      "┌ Warning: The clustering cost increased at iteration #175\n",
      "└ @ Clustering /home/adegaray/.julia/packages/Clustering/tt9vc/src/kmeans.jl:188\n",
      "┌ Warning: The clustering cost increased at iteration #200\n",
      "└ @ Clustering /home/adegaray/.julia/packages/Clustering/tt9vc/src/kmeans.jl:188\n"
     ]
    },
    {
     "name": "stdout",
     "output_type": "stream",
     "text": [
      "Feature 71\n",
      "Feature "
     ]
    },
    {
     "name": "stdout",
     "output_type": "stream",
     "text": [
      "72\n"
     ]
    },
    {
     "name": "stdout",
     "output_type": "stream",
     "text": [
      "Feature 73\n"
     ]
    },
    {
     "name": "stderr",
     "output_type": "stream",
     "text": [
      "┌ Warning: The clustering cost increased at iteration #164\n",
      "└ @ Clustering /home/adegaray/.julia/packages/Clustering/tt9vc/src/kmeans.jl:188\n",
      "┌ Warning: The clustering cost increased at iteration #169\n",
      "└ @ Clustering /home/adegaray/.julia/packages/Clustering/tt9vc/src/kmeans.jl:188\n"
     ]
    },
    {
     "name": "stderr",
     "output_type": "stream",
     "text": [
      "┌ Warning: The clustering cost increased at iteration #172\n",
      "└ @ Clustering /home/adegaray/.julia/packages/Clustering/tt9vc/src/kmeans.jl:188\n",
      "┌ Warning: The clustering cost increased at iteration #174\n",
      "└ @ Clustering /home/adegaray/.julia/packages/Clustering/tt9vc/src/kmeans.jl:188\n"
     ]
    },
    {
     "name": "stderr",
     "output_type": "stream",
     "text": [
      "┌ Warning: The clustering cost increased at iteration #181\n",
      "└ @ Clustering /home/adegaray/.julia/packages/Clustering/tt9vc/src/kmeans.jl:188\n",
      "┌ Warning: The clustering cost increased at iteration #183\n",
      "└ @ Clustering /home/adegaray/.julia/packages/Clustering/tt9vc/src/kmeans.jl:188\n"
     ]
    },
    {
     "name": "stderr",
     "output_type": "stream",
     "text": [
      "┌ Warning: The clustering cost increased at iteration #194\n",
      "└ @ Clustering /home/adegaray/.julia/packages/Clustering/tt9vc/src/kmeans.jl:188\n",
      "┌ Warning: The clustering cost increased at iteration #196\n",
      "└ @ Clustering /home/adegaray/.julia/packages/Clustering/tt9vc/src/kmeans.jl:188\n"
     ]
    },
    {
     "name": "stdout",
     "output_type": "stream",
     "text": [
      "Feature 74\n",
      "Feature "
     ]
    },
    {
     "name": "stdout",
     "output_type": "stream",
     "text": [
      "75\n"
     ]
    },
    {
     "name": "stderr",
     "output_type": "stream",
     "text": [
      "┌ Warning: The clustering cost increased at iteration #197\n",
      "└ @ Clustering /home/adegaray/.julia/packages/Clustering/tt9vc/src/kmeans.jl:188\n"
     ]
    },
    {
     "name": "stdout",
     "output_type": "stream",
     "text": [
      "Feature 76\n",
      "Feature "
     ]
    },
    {
     "name": "stdout",
     "output_type": "stream",
     "text": [
      "77\n"
     ]
    },
    {
     "name": "stderr",
     "output_type": "stream",
     "text": [
      "┌ Warning: The clustering cost increased at iteration #193\n",
      "└ @ Clustering /home/adegaray/.julia/packages/Clustering/tt9vc/src/kmeans.jl:188\n",
      "┌ Warning: The clustering cost increased at iteration #197\n",
      "└ @ Clustering /home/adegaray/.julia/packages/Clustering/tt9vc/src/kmeans.jl:188\n"
     ]
    },
    {
     "name": "stdout",
     "output_type": "stream",
     "text": [
      "Feature 78\n"
     ]
    },
    {
     "name": "stderr",
     "output_type": "stream",
     "text": [
      "┌ Warning: The clustering cost increased at iteration #142\n",
      "└ @ Clustering /home/adegaray/.julia/packages/Clustering/tt9vc/src/kmeans.jl:188\n",
      "┌ Warning: The clustering cost increased at iteration #145\n",
      "└ @ Clustering /home/adegaray/.julia/packages/Clustering/tt9vc/src/kmeans.jl:188\n"
     ]
    },
    {
     "name": "stderr",
     "output_type": "stream",
     "text": [
      "┌ Warning: The clustering cost increased at iteration #149\n",
      "└ @ Clustering /home/adegaray/.julia/packages/Clustering/tt9vc/src/kmeans.jl:188\n",
      "┌ Warning: The clustering cost increased at iteration #156\n",
      "└ @ Clustering /home/adegaray/.julia/packages/Clustering/tt9vc/src/kmeans.jl:188\n"
     ]
    },
    {
     "name": "stderr",
     "output_type": "stream",
     "text": [
      "┌ Warning: The clustering cost increased at iteration #158\n",
      "└ @ Clustering /home/adegaray/.julia/packages/Clustering/tt9vc/src/kmeans.jl:188\n",
      "┌ Warning: The clustering cost increased at iteration #163\n",
      "└ @ Clustering /home/adegaray/.julia/packages/Clustering/tt9vc/src/kmeans.jl:188\n"
     ]
    },
    {
     "name": "stdout",
     "output_type": "stream",
     "text": [
      "Feature 79\n",
      "Feature "
     ]
    },
    {
     "name": "stdout",
     "output_type": "stream",
     "text": [
      "80\n"
     ]
    },
    {
     "name": "stdout",
     "output_type": "stream",
     "text": [
      "Feature 81\n",
      "Feature "
     ]
    },
    {
     "name": "stdout",
     "output_type": "stream",
     "text": [
      "82\n"
     ]
    },
    {
     "name": "stdout",
     "output_type": "stream",
     "text": [
      "Feature 83\n"
     ]
    },
    {
     "name": "stderr",
     "output_type": "stream",
     "text": [
      "┌ Warning: The clustering cost increased at iteration #183\n",
      "└ @ Clustering /home/adegaray/.julia/packages/Clustering/tt9vc/src/kmeans.jl:188\n",
      "┌ Warning: The clustering cost increased at iteration #186\n",
      "└ @ Clustering /home/adegaray/.julia/packages/Clustering/tt9vc/src/kmeans.jl:188\n"
     ]
    },
    {
     "name": "stderr",
     "output_type": "stream",
     "text": [
      "┌ Warning: The clustering cost increased at iteration #189\n",
      "└ @ Clustering /home/adegaray/.julia/packages/Clustering/tt9vc/src/kmeans.jl:188\n",
      "┌ Warning: The clustering cost increased at iteration #193\n",
      "└ @ Clustering /home/adegaray/.julia/packages/Clustering/tt9vc/src/kmeans.jl:188\n"
     ]
    },
    {
     "name": "stderr",
     "output_type": "stream",
     "text": [
      "┌ Warning: The clustering cost increased at iteration #196\n",
      "└ @ Clustering /home/adegaray/.julia/packages/Clustering/tt9vc/src/kmeans.jl:188\n",
      "┌ Warning: The clustering cost increased at iteration #197\n",
      "└ @ Clustering /home/adegaray/.julia/packages/Clustering/tt9vc/src/kmeans.jl:188\n"
     ]
    },
    {
     "name": "stdout",
     "output_type": "stream",
     "text": [
      "Feature 84\n",
      "Feature "
     ]
    },
    {
     "name": "stdout",
     "output_type": "stream",
     "text": [
      "85\n"
     ]
    },
    {
     "name": "stdout",
     "output_type": "stream",
     "text": [
      "Feature 86\n",
      "Feature "
     ]
    },
    {
     "name": "stdout",
     "output_type": "stream",
     "text": [
      "87\n"
     ]
    },
    {
     "name": "stdout",
     "output_type": "stream",
     "text": [
      "Feature 88\n"
     ]
    },
    {
     "name": "stderr",
     "output_type": "stream",
     "text": [
      "┌ Warning: The clustering cost increased at iteration #188\n",
      "└ @ Clustering /home/adegaray/.julia/packages/Clustering/tt9vc/src/kmeans.jl:188\n"
     ]
    },
    {
     "name": "stdout",
     "output_type": "stream",
     "text": [
      "Feature 89\n"
     ]
    },
    {
     "name": "stderr",
     "output_type": "stream",
     "text": [
      "┌ Warning: The clustering cost increased at iteration #87\n",
      "└ @ Clustering /home/adegaray/.julia/packages/Clustering/tt9vc/src/kmeans.jl:188\n",
      "┌ Warning: The clustering cost increased at iteration #91\n",
      "└ @ Clustering /home/adegaray/.julia/packages/Clustering/tt9vc/src/kmeans.jl:188\n"
     ]
    },
    {
     "name": "stderr",
     "output_type": "stream",
     "text": [
      "┌ Warning: The clustering cost increased at iteration #95\n",
      "└ @ Clustering /home/adegaray/.julia/packages/Clustering/tt9vc/src/kmeans.jl:188\n",
      "┌ Warning: The clustering cost increased at iteration #96\n",
      "└ @ Clustering /home/adegaray/.julia/packages/Clustering/tt9vc/src/kmeans.jl:188\n"
     ]
    },
    {
     "name": "stderr",
     "output_type": "stream",
     "text": [
      "┌ Warning: The clustering cost increased at iteration #100\n",
      "└ @ Clustering /home/adegaray/.julia/packages/Clustering/tt9vc/src/kmeans.jl:188\n",
      "┌ Warning: The clustering cost increased at iteration #103\n",
      "└ @ Clustering /home/adegaray/.julia/packages/Clustering/tt9vc/src/kmeans.jl:188\n"
     ]
    },
    {
     "name": "stderr",
     "output_type": "stream",
     "text": [
      "┌ Warning: The clustering cost increased at iteration #109\n",
      "└ @ Clustering /home/adegaray/.julia/packages/Clustering/tt9vc/src/kmeans.jl:188\n",
      "┌ Warning: The clustering cost increased at iteration #112\n",
      "└ @ Clustering /home/adegaray/.julia/packages/Clustering/tt9vc/src/kmeans.jl:188\n"
     ]
    },
    {
     "name": "stderr",
     "output_type": "stream",
     "text": [
      "┌ Warning: The clustering cost increased at iteration #114\n",
      "└ @ Clustering /home/adegaray/.julia/packages/Clustering/tt9vc/src/kmeans.jl:188\n",
      "┌ Warning: The clustering cost increased at iteration #116\n",
      "└ @ Clustering /home/adegaray/.julia/packages/Clustering/tt9vc/src/kmeans.jl:188\n"
     ]
    },
    {
     "name": "stderr",
     "output_type": "stream",
     "text": [
      "┌ Warning: The clustering cost increased at iteration #117\n",
      "└ @ Clustering /home/adegaray/.julia/packages/Clustering/tt9vc/src/kmeans.jl:188\n"
     ]
    },
    {
     "name": "stdout",
     "output_type": "stream",
     "text": [
      "Feature 90\n",
      "Feature "
     ]
    },
    {
     "name": "stdout",
     "output_type": "stream",
     "text": [
      "91\n"
     ]
    },
    {
     "name": "stdout",
     "output_type": "stream",
     "text": [
      "Feature 92\n"
     ]
    },
    {
     "name": "stderr",
     "output_type": "stream",
     "text": [
      "┌ Warning: The clustering cost increased at iteration #198\n",
      "└ @ Clustering /home/adegaray/.julia/packages/Clustering/tt9vc/src/kmeans.jl:188\n"
     ]
    },
    {
     "name": "stdout",
     "output_type": "stream",
     "text": [
      "Feature 93\n"
     ]
    },
    {
     "name": "stderr",
     "output_type": "stream",
     "text": [
      "┌ Warning: The clustering cost increased at iteration #160\n",
      "└ @ Clustering /home/adegaray/.julia/packages/Clustering/tt9vc/src/kmeans.jl:188\n"
     ]
    },
    {
     "name": "stdout",
     "output_type": "stream",
     "text": [
      "Feature 94\n",
      "Feature "
     ]
    },
    {
     "name": "stdout",
     "output_type": "stream",
     "text": [
      "95\n"
     ]
    },
    {
     "name": "stdout",
     "output_type": "stream",
     "text": [
      "Feature 96\n",
      "Feature "
     ]
    },
    {
     "name": "stdout",
     "output_type": "stream",
     "text": [
      "97\n"
     ]
    },
    {
     "name": "stdout",
     "output_type": "stream",
     "text": [
      "Feature 98\n",
      "Feature "
     ]
    },
    {
     "name": "stdout",
     "output_type": "stream",
     "text": [
      "99\n"
     ]
    },
    {
     "name": "stdout",
     "output_type": "stream",
     "text": [
      "Feature 100\n"
     ]
    },
    {
     "name": "stderr",
     "output_type": "stream",
     "text": [
      "┌ Warning: The clustering cost increased at iteration #171\n",
      "└ @ Clustering /home/adegaray/.julia/packages/Clustering/tt9vc/src/kmeans.jl:188\n",
      "┌ Warning: The clustering cost increased at iteration #192\n",
      "└ @ Clustering /home/adegaray/.julia/packages/Clustering/tt9vc/src/kmeans.jl:188\n"
     ]
    },
    {
     "name": "stderr",
     "output_type": "stream",
     "text": [
      "┌ Warning: The clustering cost increased at iteration #194\n",
      "└ @ Clustering /home/adegaray/.julia/packages/Clustering/tt9vc/src/kmeans.jl:188\n"
     ]
    },
    {
     "name": "stdout",
     "output_type": "stream",
     "text": [
      "recall(top_k_pq, query_true_neighbors, top_k) = 0.35\n"
     ]
    }
   ],
   "source": [
    "### Function definition\n",
    "\n",
    "function compute_ADC(query, prototypes, dist)\n",
    "    n_clusters, n_features = size(P)\n",
    "    \n",
    "    ADC_table = Array{Float32}(undef, n_clusters, n_features)\n",
    "    \n",
    "    for j in 1:n_features\n",
    "        for p in 1:n_clusters\n",
    "            ADC_table[p,j] = dist(query[j], @view prototypes[p,j] )\n",
    "        end\n",
    "    end\n",
    "    return  ADC_table\n",
    "end\n",
    "\n",
    "function SEuclidean0(x, query)\n",
    "    res = zero(eltype(x))\n",
    "    @inbounds   for j in eachindex(x)\n",
    "        aux = (query[j] - x[j])\n",
    "        res += aux * aux\n",
    "    end\n",
    "    return res\n",
    "end\n",
    "\n",
    "@inline function euclidean(x::T,y::T) where {T}\n",
    "    aux::T = (x - y)\n",
    "    return sqrt(aux * aux)\n",
    "end\n",
    "\n",
    "\n",
    "function find_closest_coordinate(dist, \n",
    "                                 value::T,\n",
    "                                 vector) where T\n",
    "    best_coordinate = 1\n",
    "    min_distance::T = typemax(T)\n",
    "    for (j,x) in enumerate(vector)\n",
    "        current_dist = dist(x, value)\n",
    "        if current_dist < min_distance\n",
    "            best_coordinate = j\n",
    "            min_distance = current_dist\n",
    "        end\n",
    "    end\n",
    "    return best_coordinate\n",
    "end\n",
    "\n",
    "function encode(dist, vector, prototypes)\n",
    "    closest_prototypes = Array{Int8}(undef, n_features, 1);\n",
    "    @inbounds for (j,x) in enumerate(vector)\n",
    "        closest_prototypes[j] = find_closest_coordinate(dist, x, prototypes[:,j])\n",
    "    end\n",
    "    return closest_prototypes\n",
    "end\n",
    "\n",
    "function adc_dist(query_code, x_code,  adc_table)\n",
    "    res = zero(eltype(adc_table))\n",
    "    @inbounds @fastmath for j in eachindex(x_code)\n",
    "        res+= adc_table[x_code[j], j]\n",
    "    end\n",
    "    return res\n",
    "end\n",
    "\n",
    "function linear_scann(query, PQcodes, adc_table, P)\n",
    "    \n",
    "    query_code = encode(sqeuclidean, query, P)\n",
    "    n_features, n_examples = size(PQcodes)\n",
    "    distances = Array{eltype(query)}(undef, n_examples)\n",
    "    \n",
    "    @inbounds @fastmath for j in 1:n_examples\n",
    "        distances[j] = adc_dist(query_code,  view(PQcodes,:,j) ,  adc_table)    \n",
    "    end\n",
    "    return distances\n",
    "end\n",
    "\n",
    "### Loading the dataset\n",
    "\n",
    "\n",
    "path = joinpath(homedir(), \"TFM\", \"ann-benchmarks\", \"glove-100-angular.hdf5\")\n",
    "f = h5open(path, \"r\")\n",
    "\n",
    "X_tr_vecs = read(f[\"train\"])\n",
    "X_te_vecs = read(f[\"test\"]);\n",
    "true_neighbors = read(f[\"neighbors\"])\n",
    "true_distances = read(f[\"distances\"])\n",
    "\n",
    "true_neighbors .= true_neighbors .+ 1;\n",
    "\n",
    "n_features, n_examples = size(X_tr_vecs)\n",
    "\n",
    "#Feature clusterization\n",
    "\n",
    "n_clusters = 32\n",
    "R_per_feature = []\n",
    "for j in  1:n_features\n",
    "    println(\"Feature \", j)\n",
    "    R = kmeans(X_tr_vecs[[j],:], n_clusters; maxiter=200)\n",
    "    push!(R_per_feature, R)\n",
    "end\n",
    "\n",
    "#Encoding vectors\n",
    "P = hcat([r.centers[:] for r in R_per_feature]...);\n",
    "PQcodes = Array{Int32}(undef, n_features, n_examples);\n",
    "for j in 1:n_examples\n",
    "    PQcodes[:,j] = encode(euclidean, X_tr_vecs[:,j] , P)  \n",
    "end\n",
    "\n",
    "# Linearscann +  recall\n",
    "query_id = 1\n",
    "query = X_te_vecs[:,query_id];\n",
    "query_true_neighbors = true_neighbors[:,query_id]\n",
    "top_k = 100\n",
    "\n",
    "\n",
    "adc_table = compute_ADC(query, P, SEuclidean0);\n",
    "distances = linear_scann(query, PQcodes, adc_table, P)\n",
    "top_k_pq = sortperm(distances)[1:top_k];\n",
    "@show recall(top_k_pq, query_true_neighbors, top_k);"
   ]
  },
  {
   "cell_type": "markdown",
   "id": "497b5a44",
   "metadata": {},
   "source": [
    "Same recall as before. How to apply cosine distance here??? Due to our specific type of quantization (1d subvectors), each element of the ADC table is calculated as the distance between 2 scalars, so there is no point on using any type of angular distance. "
   ]
  }
 ],
 "metadata": {
  "kernelspec": {
   "display_name": "Julia 1.8.0",
   "language": "julia",
   "name": "julia-1.8"
  },
  "language_info": {
   "file_extension": ".jl",
   "mimetype": "application/julia",
   "name": "julia",
   "version": "1.8.0"
  },
  "toc": {
   "base_numbering": 1,
   "nav_menu": {},
   "number_sections": true,
   "sideBar": true,
   "skip_h1_title": false,
   "title_cell": "Table of Contents",
   "title_sidebar": "Contents",
   "toc_cell": false,
   "toc_position": {},
   "toc_section_display": true,
   "toc_window_display": false
  }
 },
 "nbformat": 4,
 "nbformat_minor": 5
}
