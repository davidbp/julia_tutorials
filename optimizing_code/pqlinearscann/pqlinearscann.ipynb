{
 "cells": [
  {
   "cell_type": "markdown",
   "id": "7c2e3113",
   "metadata": {},
   "source": [
    "# Read SIFT 1 million "
   ]
  },
  {
   "cell_type": "code",
   "execution_count": 8,
   "id": "88c8c554",
   "metadata": {
    "ExecuteTime": {
     "end_time": "2022-08-24T22:41:22.091000+02:00",
     "start_time": "2022-08-24T20:41:11.745Z"
    }
   },
   "outputs": [],
   "source": [
    "using HDF5\n",
    "using BenchmarkTools\n",
    "using Distances\n",
    "using LoopVectorization\n",
    "using SIMD\n",
    "using Clustering\n",
    "using ProgressMeter\n",
    "using StaticArrays"
   ]
  },
  {
   "cell_type": "code",
   "execution_count": 9,
   "id": "5c8425bb",
   "metadata": {
    "ExecuteTime": {
     "end_time": "2022-08-24T22:41:22.093000+02:00",
     "start_time": "2022-08-24T20:41:12.280Z"
    }
   },
   "outputs": [
    {
     "data": {
      "text/plain": [
       "\"Intel(R) Core(TM) i5-1038NG7 CPU @ 2.00GHz\""
      ]
     },
     "execution_count": 9,
     "metadata": {},
     "output_type": "execute_result"
    }
   ],
   "source": [
    "Sys.cpu_info()[1].model"
   ]
  },
  {
   "cell_type": "code",
   "execution_count": 10,
   "id": "cece13ba",
   "metadata": {
    "ExecuteTime": {
     "end_time": "2022-08-24T22:41:22.095000+02:00",
     "start_time": "2022-08-24T20:41:12.608Z"
    }
   },
   "outputs": [
    {
     "data": {
      "text/plain": [
       "\"/Users/davidbuchaca/Datasets/SIFT1M/sift-128-euclidean.hdf5\""
      ]
     },
     "execution_count": 10,
     "metadata": {},
     "output_type": "execute_result"
    }
   ],
   "source": [
    "path = joinpath(homedir(), \"Datasets\", \"SIFT1M\",\n",
    "                \"sift-128-euclidean.hdf5\")"
   ]
  },
  {
   "cell_type": "code",
   "execution_count": 11,
   "id": "1cfb292b",
   "metadata": {
    "ExecuteTime": {
     "end_time": "2022-08-24T22:41:22.098000+02:00",
     "start_time": "2022-08-24T20:41:12.862Z"
    }
   },
   "outputs": [
    {
     "data": {
      "text/plain": [
       "🗂️ HDF5.File: (read-only) /Users/davidbuchaca/Datasets/SIFT1M/sift-128-euclidean.hdf5\n",
       "├─ 🏷️ distance\n",
       "├─ 🔢 distances\n",
       "├─ 🔢 neighbors\n",
       "├─ 🔢 test\n",
       "└─ 🔢 train"
      ]
     },
     "execution_count": 11,
     "metadata": {},
     "output_type": "execute_result"
    }
   ],
   "source": [
    "f = h5open(path, \"r\")"
   ]
  },
  {
   "cell_type": "code",
   "execution_count": 12,
   "id": "c1e88b49",
   "metadata": {
    "ExecuteTime": {
     "end_time": "2022-08-24T22:41:23.011000+02:00",
     "start_time": "2022-08-24T20:41:13.153Z"
    },
    "scrolled": true
   },
   "outputs": [
    {
     "name": "stdout",
     "output_type": "stream",
     "text": [
      "size(X_tr_vecs) = (128, 1000000)\n",
      "size(X_te_vecs) = (128, 10000)\n",
      "size(neighbors) = (100, 10000)\n",
      "size(distances) = (100, 10000)\n"
     ]
    },
    {
     "data": {
      "text/plain": [
       "(100, 10000)"
      ]
     },
     "execution_count": 12,
     "metadata": {},
     "output_type": "execute_result"
    }
   ],
   "source": [
    "X_tr_vecs = read(f[\"train\"])\n",
    "X_te_vecs = read(f[\"test\"]);\n",
    "neighbors = read(f[\"neighbors\"])\n",
    "distances = read(f[\"distances\"])\n",
    "\n",
    "@show size(X_tr_vecs)\n",
    "@show size(X_te_vecs)\n",
    "@show size(neighbors)\n",
    "@show size(distances)"
   ]
  },
  {
   "cell_type": "markdown",
   "id": "0c076291",
   "metadata": {},
   "source": [
    "## Clustering.jl\n",
    "\n",
    "Create the pqcodes for the training points"
   ]
  },
  {
   "cell_type": "code",
   "execution_count": 13,
   "id": "dd3d08ab",
   "metadata": {
    "ExecuteTime": {
     "end_time": "2022-08-24T22:41:23.014000+02:00",
     "start_time": "2022-08-24T20:41:13.933Z"
    }
   },
   "outputs": [
    {
     "data": {
      "text/plain": [
       "128"
      ]
     },
     "execution_count": 13,
     "metadata": {},
     "output_type": "execute_result"
    }
   ],
   "source": [
    "n_features = size(X_tr_vecs,1)\n",
    "n_features"
   ]
  },
  {
   "cell_type": "code",
   "execution_count": 14,
   "id": "31a7c067",
   "metadata": {
    "ExecuteTime": {
     "end_time": "2022-08-24T22:41:24.763000+02:00",
     "start_time": "2022-08-24T20:41:15.029Z"
    }
   },
   "outputs": [
    {
     "data": {
      "text/plain": [
       "213-element Vector{Float32}:\n",
       "   0.0\n",
       "   1.0\n",
       "   2.0\n",
       "   3.0\n",
       "   4.0\n",
       "   5.0\n",
       "   6.0\n",
       "   7.0\n",
       "   8.0\n",
       "   9.0\n",
       "  10.0\n",
       "  11.0\n",
       "  12.0\n",
       "   ⋮\n",
       " 202.0\n",
       " 204.0\n",
       " 205.0\n",
       " 206.0\n",
       " 207.0\n",
       " 208.0\n",
       " 210.0\n",
       " 211.0\n",
       " 212.0\n",
       " 214.0\n",
       " 216.0\n",
       " 218.0"
      ]
     },
     "execution_count": 14,
     "metadata": {},
     "output_type": "execute_result"
    }
   ],
   "source": [
    "unique_values = sort(unique(X_tr_vecs))"
   ]
  },
  {
   "cell_type": "code",
   "execution_count": 15,
   "id": "fd39c3dc",
   "metadata": {
    "ExecuteTime": {
     "end_time": "2022-08-24T22:44:02.089000+02:00",
     "start_time": "2022-08-24T20:41:15.607Z"
    }
   },
   "outputs": [
    {
     "name": "stderr",
     "output_type": "stream",
     "text": [
      "\u001b[32mProgress: 100%|█████████████████████████████████████████| Time: 0:02:36\u001b[39m\n"
     ]
    }
   ],
   "source": [
    "n_clusters = 16\n",
    "R_per_feature = []\n",
    "@showprogress for j in  1:n_features\n",
    "    R = kmeans(X_tr_vecs[[j],:], n_clusters; maxiter=200)\n",
    "    push!(R_per_feature, R)\n",
    "end"
   ]
  },
  {
   "cell_type": "code",
   "execution_count": 16,
   "id": "369efb23",
   "metadata": {
    "ExecuteTime": {
     "end_time": "2022-08-24T22:44:03.076000+02:00",
     "start_time": "2022-08-24T20:43:48.655Z"
    },
    "scrolled": true
   },
   "outputs": [
    {
     "name": "stdout",
     "output_type": "stream",
     "text": [
      "Float32[0.49666122, 137.62012, 11.801707, 65.22103, 107.01379, 33.809605, 5.2500305, 125.62709, 25.328632, 43.77468, 97.311646, 87.348625, 76.83099, 116.23137, 54.338634, 18.393635]\n",
      "(16, 128)\n"
     ]
    }
   ],
   "source": [
    "P = hcat([r.centers[:] for r in R_per_feature]...);\n",
    "println(P[:,1])\n",
    "println(size(P))"
   ]
  },
  {
   "cell_type": "code",
   "execution_count": 17,
   "id": "09b3d2b6",
   "metadata": {
    "ExecuteTime": {
     "end_time": "2022-08-24T22:44:30.298000+02:00",
     "start_time": "2022-08-24T20:44:30.143Z"
    }
   },
   "outputs": [
    {
     "name": "stdout",
     "output_type": "stream",
     "text": [
      "Float32[0.49666122, 137.62012, 11.801707, 65.22103, 107.01379, 33.809605, 5.2500305, 125.62709, 25.328632, 43.77468, 97.311646, 87.348625, 76.83099, 116.23137, 54.338634, 18.393635]\n",
      "(16, 128)\n"
     ]
    }
   ],
   "source": [
    "P = hcat([r.centers[:] for r in R_per_feature]...);\n",
    "println(P[:,1])\n",
    "println(size(P))"
   ]
  },
  {
   "cell_type": "code",
   "execution_count": 18,
   "id": "30f62137",
   "metadata": {
    "ExecuteTime": {
     "end_time": "2022-08-24T22:44:45.286000+02:00",
     "start_time": "2022-08-24T20:44:32.608Z"
    }
   },
   "outputs": [
    {
     "data": {
      "text/plain": [
       "BenchmarkTools.Trial: 10000 samples with 1 evaluation.\n",
       " Range \u001b[90m(\u001b[39m\u001b[36m\u001b[1mmin\u001b[22m\u001b[39m … \u001b[35mmax\u001b[39m\u001b[90m):  \u001b[39m\u001b[36m\u001b[1m12.808 μs\u001b[22m\u001b[39m … \u001b[35m119.344 μs\u001b[39m  \u001b[90m┊\u001b[39m GC \u001b[90m(\u001b[39mmin … max\u001b[90m): \u001b[39m0.00% … 0.00%\n",
       " Time  \u001b[90m(\u001b[39m\u001b[34m\u001b[1mmedian\u001b[22m\u001b[39m\u001b[90m):     \u001b[39m\u001b[34m\u001b[1m14.019 μs               \u001b[22m\u001b[39m\u001b[90m┊\u001b[39m GC \u001b[90m(\u001b[39mmedian\u001b[90m):    \u001b[39m0.00%\n",
       " Time  \u001b[90m(\u001b[39m\u001b[32m\u001b[1mmean\u001b[22m\u001b[39m ± \u001b[32mσ\u001b[39m\u001b[90m):   \u001b[39m\u001b[32m\u001b[1m15.906 μs\u001b[22m\u001b[39m ± \u001b[32m  7.082 μs\u001b[39m  \u001b[90m┊\u001b[39m GC \u001b[90m(\u001b[39mmean ± σ\u001b[90m):  \u001b[39m0.00% ± 0.00%\n",
       "\n",
       "  \u001b[39m▅\u001b[39m█\u001b[34m█\u001b[39m\u001b[39m▆\u001b[39m▃\u001b[39m▂\u001b[32m▂\u001b[39m\u001b[39m▃\u001b[39m▂\u001b[39m▁\u001b[39m \u001b[39m \u001b[39m \u001b[39m \u001b[39m \u001b[39m \u001b[39m \u001b[39m \u001b[39m \u001b[39m \u001b[39m \u001b[39m \u001b[39m \u001b[39m \u001b[39m \u001b[39m \u001b[39m \u001b[39m \u001b[39m \u001b[39m \u001b[39m \u001b[39m \u001b[39m \u001b[39m \u001b[39m \u001b[39m \u001b[39m \u001b[39m \u001b[39m \u001b[39m \u001b[39m \u001b[39m \u001b[39m \u001b[39m \u001b[39m \u001b[39m \u001b[39m \u001b[39m \u001b[39m \u001b[39m \u001b[39m \u001b[39m \u001b[39m \u001b[39m \u001b[39m \u001b[39m \u001b[39m \u001b[39m \u001b[39m \u001b[39m \u001b[39m \u001b[39m▁\n",
       "  \u001b[39m█\u001b[39m█\u001b[34m█\u001b[39m\u001b[39m█\u001b[39m█\u001b[39m█\u001b[32m█\u001b[39m\u001b[39m█\u001b[39m█\u001b[39m█\u001b[39m█\u001b[39m▇\u001b[39m▇\u001b[39m▆\u001b[39m▆\u001b[39m▅\u001b[39m▆\u001b[39m▅\u001b[39m▅\u001b[39m▄\u001b[39m▅\u001b[39m▄\u001b[39m▅\u001b[39m▄\u001b[39m▄\u001b[39m▃\u001b[39m▄\u001b[39m▄\u001b[39m▄\u001b[39m▄\u001b[39m▅\u001b[39m▅\u001b[39m▆\u001b[39m▅\u001b[39m▄\u001b[39m▄\u001b[39m▄\u001b[39m▄\u001b[39m▅\u001b[39m▄\u001b[39m▃\u001b[39m▅\u001b[39m▅\u001b[39m▆\u001b[39m▆\u001b[39m▆\u001b[39m▆\u001b[39m▇\u001b[39m▇\u001b[39m▇\u001b[39m▇\u001b[39m▇\u001b[39m▆\u001b[39m▇\u001b[39m▇\u001b[39m▇\u001b[39m▇\u001b[39m▇\u001b[39m▇\u001b[39m▇\u001b[39m \u001b[39m█\n",
       "  12.8 μs\u001b[90m       \u001b[39m\u001b[90mHistogram: \u001b[39m\u001b[90m\u001b[1mlog(\u001b[22m\u001b[39m\u001b[90mfrequency\u001b[39m\u001b[90m\u001b[1m)\u001b[22m\u001b[39m\u001b[90m by time\u001b[39m      45.9 μs \u001b[0m\u001b[1m<\u001b[22m\n",
       "\n",
       " Memory estimate\u001b[90m: \u001b[39m\u001b[33m28.47 KiB\u001b[39m, allocs estimate\u001b[90m: \u001b[39m\u001b[33m137\u001b[39m."
      ]
     },
     "execution_count": 18,
     "metadata": {},
     "output_type": "execute_result"
    }
   ],
   "source": [
    "@benchmark P = hcat([r.centers[:] for r in R_per_feature]...)"
   ]
  },
  {
   "cell_type": "markdown",
   "id": "7c259328",
   "metadata": {},
   "source": [
    "Another way to construct the matrix would be"
   ]
  },
  {
   "cell_type": "code",
   "execution_count": 19,
   "id": "2d1b602a",
   "metadata": {
    "ExecuteTime": {
     "end_time": "2022-08-24T22:44:45.564000+02:00",
     "start_time": "2022-08-24T20:44:33.315Z"
    }
   },
   "outputs": [
    {
     "data": {
      "text/plain": [
       "build_prototype_matrix (generic function with 1 method)"
      ]
     },
     "execution_count": 19,
     "metadata": {},
     "output_type": "execute_result"
    }
   ],
   "source": [
    "function build_prototype_matrix(R, n_clusters, n_features)\n",
    "    \n",
    "    prototypes = Array{Float32}(undef, n_clusters, n_features);\n",
    "    for j in 1:n_features\n",
    "        prototypes[:,j] .= vec(R_per_feature[j].centers)\n",
    "    end\n",
    "    return prototypes\n",
    "end"
   ]
  },
  {
   "cell_type": "code",
   "execution_count": 20,
   "id": "7970c448",
   "metadata": {
    "ExecuteTime": {
     "end_time": "2022-08-24T22:44:52.958000+02:00",
     "start_time": "2022-08-24T20:44:33.694Z"
    }
   },
   "outputs": [
    {
     "data": {
      "text/plain": [
       "BenchmarkTools.Trial: 10000 samples with 1 evaluation.\n",
       " Range \u001b[90m(\u001b[39m\u001b[36m\u001b[1mmin\u001b[22m\u001b[39m … \u001b[35mmax\u001b[39m\u001b[90m):  \u001b[39m\u001b[36m\u001b[1m57.854 μs\u001b[22m\u001b[39m … \u001b[35m419.584 μs\u001b[39m  \u001b[90m┊\u001b[39m GC \u001b[90m(\u001b[39mmin … max\u001b[90m): \u001b[39m0.00% … 0.00%\n",
       " Time  \u001b[90m(\u001b[39m\u001b[34m\u001b[1mmedian\u001b[22m\u001b[39m\u001b[90m):     \u001b[39m\u001b[34m\u001b[1m63.972 μs               \u001b[22m\u001b[39m\u001b[90m┊\u001b[39m GC \u001b[90m(\u001b[39mmedian\u001b[90m):    \u001b[39m0.00%\n",
       " Time  \u001b[90m(\u001b[39m\u001b[32m\u001b[1mmean\u001b[22m\u001b[39m ± \u001b[32mσ\u001b[39m\u001b[90m):   \u001b[39m\u001b[32m\u001b[1m72.375 μs\u001b[22m\u001b[39m ± \u001b[32m 21.272 μs\u001b[39m  \u001b[90m┊\u001b[39m GC \u001b[90m(\u001b[39mmean ± σ\u001b[90m):  \u001b[39m0.00% ± 0.00%\n",
       "\n",
       "  \u001b[39m▅\u001b[39m█\u001b[39m█\u001b[39m█\u001b[34m▇\u001b[39m\u001b[39m▅\u001b[39m▄\u001b[39m▃\u001b[39m▃\u001b[32m▂\u001b[39m\u001b[39m▁\u001b[39m▁\u001b[39m▁\u001b[39m▂\u001b[39m▂\u001b[39m▂\u001b[39m▂\u001b[39m▃\u001b[39m▂\u001b[39m▂\u001b[39m▂\u001b[39m▂\u001b[39m▁\u001b[39m▁\u001b[39m \u001b[39m▁\u001b[39m \u001b[39m \u001b[39m \u001b[39m▁\u001b[39m▁\u001b[39m \u001b[39m \u001b[39m▁\u001b[39m \u001b[39m \u001b[39m \u001b[39m \u001b[39m \u001b[39m \u001b[39m \u001b[39m \u001b[39m \u001b[39m \u001b[39m \u001b[39m \u001b[39m \u001b[39m \u001b[39m \u001b[39m \u001b[39m \u001b[39m \u001b[39m \u001b[39m \u001b[39m \u001b[39m \u001b[39m \u001b[39m \u001b[39m \u001b[39m \u001b[39m \u001b[39m▂\n",
       "  \u001b[39m█\u001b[39m█\u001b[39m█\u001b[39m█\u001b[34m█\u001b[39m\u001b[39m█\u001b[39m█\u001b[39m█\u001b[39m█\u001b[32m█\u001b[39m\u001b[39m█\u001b[39m█\u001b[39m█\u001b[39m█\u001b[39m█\u001b[39m█\u001b[39m█\u001b[39m█\u001b[39m█\u001b[39m█\u001b[39m█\u001b[39m█\u001b[39m█\u001b[39m█\u001b[39m█\u001b[39m█\u001b[39m█\u001b[39m█\u001b[39m█\u001b[39m█\u001b[39m█\u001b[39m█\u001b[39m█\u001b[39m█\u001b[39m█\u001b[39m█\u001b[39m█\u001b[39m█\u001b[39m█\u001b[39m█\u001b[39m█\u001b[39m▇\u001b[39m▇\u001b[39m█\u001b[39m▇\u001b[39m▇\u001b[39m▆\u001b[39m▇\u001b[39m▅\u001b[39m▆\u001b[39m▆\u001b[39m▅\u001b[39m▆\u001b[39m▆\u001b[39m▄\u001b[39m▆\u001b[39m▅\u001b[39m▆\u001b[39m▄\u001b[39m▆\u001b[39m \u001b[39m█\n",
       "  57.9 μs\u001b[90m       \u001b[39m\u001b[90mHistogram: \u001b[39m\u001b[90m\u001b[1mlog(\u001b[22m\u001b[39m\u001b[90mfrequency\u001b[39m\u001b[90m\u001b[1m)\u001b[22m\u001b[39m\u001b[90m by time\u001b[39m       158 μs \u001b[0m\u001b[1m<\u001b[22m\n",
       "\n",
       " Memory estimate\u001b[90m: \u001b[39m\u001b[33m44.12 KiB\u001b[39m, allocs estimate\u001b[90m: \u001b[39m\u001b[33m897\u001b[39m."
      ]
     },
     "execution_count": 20,
     "metadata": {},
     "output_type": "execute_result"
    }
   ],
   "source": [
    "@benchmark P = build_prototype_matrix(R_per_feature, n_clusters, n_features)"
   ]
  },
  {
   "cell_type": "code",
   "execution_count": 21,
   "id": "7eae2159",
   "metadata": {
    "ExecuteTime": {
     "end_time": "2022-08-24T22:44:52.959000+02:00",
     "start_time": "2022-08-24T20:44:34.052Z"
    }
   },
   "outputs": [],
   "source": [
    "P2 = build_prototype_matrix(R_per_feature, n_clusters, n_features);"
   ]
  },
  {
   "cell_type": "code",
   "execution_count": 22,
   "id": "9c35a301",
   "metadata": {
    "ExecuteTime": {
     "end_time": "2022-08-24T22:44:53.594000+02:00",
     "start_time": "2022-08-24T20:44:35.436Z"
    }
   },
   "outputs": [
    {
     "data": {
      "text/plain": [
       "true"
      ]
     },
     "execution_count": 22,
     "metadata": {},
     "output_type": "execute_result"
    }
   ],
   "source": [
    "isapprox(P, P2)"
   ]
  },
  {
   "cell_type": "markdown",
   "id": "254cc3af",
   "metadata": {},
   "source": [
    "We can generate the PQcodes for the data as follows:"
   ]
  },
  {
   "cell_type": "code",
   "execution_count": 23,
   "id": "0fc26f97",
   "metadata": {
    "ExecuteTime": {
     "end_time": "2022-08-24T22:44:58.459000+02:00",
     "start_time": "2022-08-24T20:44:42.651Z"
    }
   },
   "outputs": [],
   "source": [
    "PQcodes = hcat([Int8.(r.assignments[:]) for r in R_per_feature]...)';"
   ]
  },
  {
   "cell_type": "code",
   "execution_count": 24,
   "id": "0b15fb3a",
   "metadata": {
    "ExecuteTime": {
     "end_time": "2022-08-24T22:44:58.471000+02:00",
     "start_time": "2022-08-24T20:44:43.992Z"
    }
   },
   "outputs": [
    {
     "data": {
      "text/plain": [
       "(128, 1000000)"
      ]
     },
     "execution_count": 24,
     "metadata": {},
     "output_type": "execute_result"
    }
   ],
   "source": [
    "size(PQcodes)"
   ]
  },
  {
   "cell_type": "markdown",
   "id": "25820db5",
   "metadata": {},
   "source": [
    "Here each vector prototype is in fact a single scalar (vecause subvectors have a single coordinate)"
   ]
  },
  {
   "cell_type": "code",
   "execution_count": 25,
   "id": "68865753",
   "metadata": {
    "ExecuteTime": {
     "end_time": "2022-08-24T22:44:58.473000+02:00",
     "start_time": "2022-08-24T20:44:44.481Z"
    }
   },
   "outputs": [
    {
     "data": {
      "text/plain": [
       "(16, 128)"
      ]
     },
     "execution_count": 25,
     "metadata": {},
     "output_type": "execute_result"
    }
   ],
   "source": [
    "size(P)"
   ]
  },
  {
   "cell_type": "markdown",
   "id": "695f9699",
   "metadata": {},
   "source": [
    "We need a method to, given a vector and a collection of prototypes per feature, find which are the closest"
   ]
  },
  {
   "cell_type": "code",
   "execution_count": 26,
   "id": "3b4051c4",
   "metadata": {
    "ExecuteTime": {
     "end_time": "2022-08-24T22:44:58.476000+02:00",
     "start_time": "2022-08-24T20:44:45.989Z"
    }
   },
   "outputs": [],
   "source": [
    "query = X_te_vecs[:,1];"
   ]
  },
  {
   "cell_type": "code",
   "execution_count": 27,
   "id": "a4d845f9",
   "metadata": {
    "ExecuteTime": {
     "end_time": "2022-08-24T22:45:01.937000+02:00",
     "start_time": "2022-08-24T20:45:01.927Z"
    }
   },
   "outputs": [],
   "source": [
    "closest_prototypes = Array{UInt8}(undef, n_features, 1);"
   ]
  },
  {
   "cell_type": "code",
   "execution_count": 28,
   "id": "93018786",
   "metadata": {
    "ExecuteTime": {
     "end_time": "2022-08-24T22:45:03.290000+02:00",
     "start_time": "2022-08-24T20:45:02.734Z"
    }
   },
   "outputs": [
    {
     "data": {
      "text/plain": [
       "Float32"
      ]
     },
     "execution_count": 28,
     "metadata": {},
     "output_type": "execute_result"
    }
   ],
   "source": [
    "typeof(typemax(Float32))"
   ]
  },
  {
   "cell_type": "code",
   "execution_count": 29,
   "id": "3a9070eb",
   "metadata": {
    "ExecuteTime": {
     "end_time": "2022-08-24T22:45:04.281000+02:00",
     "start_time": "2022-08-24T20:45:04.166Z"
    }
   },
   "outputs": [
    {
     "data": {
      "text/plain": [
       "find_closest_coordinate (generic function with 1 method)"
      ]
     },
     "execution_count": 29,
     "metadata": {},
     "output_type": "execute_result"
    }
   ],
   "source": [
    "@inline function seuclidean(x::T,y::T) where {T}\n",
    "    aux::T = (x -y)\n",
    "    return aux * aux\n",
    "end\n",
    "\n",
    "function find_closest_coordinate(dist, \n",
    "                                 value::T,\n",
    "                                 vector) where T\n",
    "    best_coordinate = 1\n",
    "    min_distance::T = typemax(T)\n",
    "    for (j,x) in enumerate(vector)\n",
    "        current_dist = dist(x, value)\n",
    "        if current_dist < min_distance\n",
    "            best_coordinate = j\n",
    "            min_distance = current_dist\n",
    "        end\n",
    "    end\n",
    "    return best_coordinate\n",
    "end"
   ]
  },
  {
   "cell_type": "code",
   "execution_count": 30,
   "id": "044e152c",
   "metadata": {
    "ExecuteTime": {
     "end_time": "2022-08-24T22:45:10.799000+02:00",
     "start_time": "2022-08-24T20:45:10.763Z"
    },
    "scrolled": true
   },
   "outputs": [
    {
     "name": "stdout",
     "output_type": "stream",
     "text": [
      "Float32[1.0, 3.0, 11.0, 110.0, 62.0, 22.0, 4.0, 0.0, 43.0, 21.0, 22.0, 18.0, 6.0, 28.0, 64.0, 9.0, 11.0, 1.0, 0.0, 0.0, 1.0, 40.0, 101.0, 21.0, 20.0, 2.0, 4.0, 2.0, 2.0, 9.0, 18.0, 35.0, 1.0, 1.0, 7.0, 25.0, 108.0, 116.0, 63.0, 2.0, 0.0, 0.0, 11.0, 74.0, 40.0, 101.0, 116.0, 3.0, 33.0, 1.0, 1.0, 11.0, 14.0, 18.0, 116.0, 116.0, 68.0, 12.0, 5.0, 4.0, 2.0, 2.0, 9.0, 102.0, 17.0, 3.0, 10.0, 18.0, 8.0, 15.0, 67.0, 63.0, 15.0, 0.0, 14.0, 116.0, 80.0, 0.0, 2.0, 22.0, 96.0, 37.0, 28.0, 88.0, 43.0, 1.0, 4.0, 18.0, 116.0, 51.0, 5.0, 11.0, 32.0, 14.0, 8.0, 23.0, 44.0, 17.0, 12.0, 9.0, 0.0, 0.0, 19.0, 37.0, 85.0, 18.0, 16.0, 104.0, 22.0, 6.0, 2.0, 26.0, 12.0, 58.0, 67.0, 82.0, 25.0, 12.0, 2.0, 2.0, 25.0, 18.0, 8.0, 2.0, 19.0, 42.0, 48.0, 11.0]"
     ]
    }
   ],
   "source": [
    "find_closest_coordinate(seuclidean, Float32(48.), query)\n",
    "print(query)"
   ]
  },
  {
   "cell_type": "code",
   "execution_count": 31,
   "id": "472cbb22",
   "metadata": {
    "ExecuteTime": {
     "end_time": "2022-08-24T22:45:14.132000+02:00",
     "start_time": "2022-08-24T20:45:11.094Z"
    }
   },
   "outputs": [
    {
     "data": {
      "text/plain": [
       "BenchmarkTools.Trial: 10000 samples with 755 evaluations.\n",
       " Range \u001b[90m(\u001b[39m\u001b[36m\u001b[1mmin\u001b[22m\u001b[39m … \u001b[35mmax\u001b[39m\u001b[90m):  \u001b[39m\u001b[36m\u001b[1m161.446 ns\u001b[22m\u001b[39m … \u001b[35m484.444 ns\u001b[39m  \u001b[90m┊\u001b[39m GC \u001b[90m(\u001b[39mmin … max\u001b[90m): \u001b[39m0.00% … 0.00%\n",
       " Time  \u001b[90m(\u001b[39m\u001b[34m\u001b[1mmedian\u001b[22m\u001b[39m\u001b[90m):     \u001b[39m\u001b[34m\u001b[1m169.287 ns               \u001b[22m\u001b[39m\u001b[90m┊\u001b[39m GC \u001b[90m(\u001b[39mmedian\u001b[90m):    \u001b[39m0.00%\n",
       " Time  \u001b[90m(\u001b[39m\u001b[32m\u001b[1mmean\u001b[22m\u001b[39m ± \u001b[32mσ\u001b[39m\u001b[90m):   \u001b[39m\u001b[32m\u001b[1m175.063 ns\u001b[22m\u001b[39m ± \u001b[32m 20.058 ns\u001b[39m  \u001b[90m┊\u001b[39m GC \u001b[90m(\u001b[39mmean ± σ\u001b[90m):  \u001b[39m0.00% ± 0.00%\n",
       "\n",
       "  \u001b[39m▅\u001b[39m▃\u001b[39m \u001b[39m▆\u001b[39m█\u001b[34m▆\u001b[39m\u001b[39m▃\u001b[39m▂\u001b[32m▂\u001b[39m\u001b[39m▂\u001b[39m▁\u001b[39m \u001b[39m \u001b[39m \u001b[39m \u001b[39m \u001b[39m \u001b[39m \u001b[39m \u001b[39m \u001b[39m \u001b[39m \u001b[39m \u001b[39m \u001b[39m \u001b[39m \u001b[39m \u001b[39m \u001b[39m \u001b[39m \u001b[39m \u001b[39m \u001b[39m \u001b[39m \u001b[39m \u001b[39m \u001b[39m \u001b[39m \u001b[39m \u001b[39m \u001b[39m \u001b[39m \u001b[39m \u001b[39m \u001b[39m \u001b[39m \u001b[39m \u001b[39m \u001b[39m \u001b[39m \u001b[39m \u001b[39m \u001b[39m \u001b[39m \u001b[39m \u001b[39m \u001b[39m \u001b[39m \u001b[39m \u001b[39m \u001b[39m \u001b[39m \u001b[39m▁\n",
       "  \u001b[39m█\u001b[39m█\u001b[39m█\u001b[39m█\u001b[39m█\u001b[34m█\u001b[39m\u001b[39m█\u001b[39m█\u001b[32m█\u001b[39m\u001b[39m█\u001b[39m█\u001b[39m█\u001b[39m█\u001b[39m█\u001b[39m█\u001b[39m█\u001b[39m█\u001b[39m█\u001b[39m█\u001b[39m█\u001b[39m█\u001b[39m█\u001b[39m█\u001b[39m█\u001b[39m▇\u001b[39m█\u001b[39m▇\u001b[39m█\u001b[39m█\u001b[39m▇\u001b[39m█\u001b[39m█\u001b[39m▇\u001b[39m▇\u001b[39m▇\u001b[39m▆\u001b[39m▇\u001b[39m▆\u001b[39m▆\u001b[39m▆\u001b[39m▅\u001b[39m▇\u001b[39m▆\u001b[39m▆\u001b[39m▅\u001b[39m▆\u001b[39m▅\u001b[39m▄\u001b[39m▄\u001b[39m▅\u001b[39m▅\u001b[39m▅\u001b[39m▅\u001b[39m▄\u001b[39m▄\u001b[39m▅\u001b[39m▅\u001b[39m▃\u001b[39m▄\u001b[39m▄\u001b[39m▄\u001b[39m \u001b[39m█\n",
       "  161 ns\u001b[90m        \u001b[39m\u001b[90mHistogram: \u001b[39m\u001b[90m\u001b[1mlog(\u001b[22m\u001b[39m\u001b[90mfrequency\u001b[39m\u001b[90m\u001b[1m)\u001b[22m\u001b[39m\u001b[90m by time\u001b[39m        266 ns \u001b[0m\u001b[1m<\u001b[22m\n",
       "\n",
       " Memory estimate\u001b[90m: \u001b[39m\u001b[33m0 bytes\u001b[39m, allocs estimate\u001b[90m: \u001b[39m\u001b[33m0\u001b[39m."
      ]
     },
     "execution_count": 31,
     "metadata": {},
     "output_type": "execute_result"
    }
   ],
   "source": [
    "@benchmark find_closest_coordinate(seuclidean, Float32(48.), query)\n"
   ]
  },
  {
   "cell_type": "code",
   "execution_count": 32,
   "id": "80e21b6a",
   "metadata": {
    "ExecuteTime": {
     "end_time": "2022-08-24T22:45:14.197000+02:00",
     "start_time": "2022-08-24T20:45:12.617Z"
    }
   },
   "outputs": [],
   "source": [
    "@assert 3 == find_closest_coordinate(seuclidean, 2., [3.,5,2,1])\n",
    "\n",
    "@assert 4 == find_closest_coordinate(seuclidean, 1., [3.,5,2,1])"
   ]
  },
  {
   "cell_type": "code",
   "execution_count": 33,
   "id": "7599adc7",
   "metadata": {
    "ExecuteTime": {
     "end_time": "2022-08-24T22:45:14.304000+02:00",
     "start_time": "2022-08-24T20:45:12.986Z"
    }
   },
   "outputs": [
    {
     "data": {
      "text/plain": [
       "encode (generic function with 1 method)"
      ]
     },
     "execution_count": 33,
     "metadata": {},
     "output_type": "execute_result"
    }
   ],
   "source": [
    "function encode(dist, vector, prototypes)\n",
    "    closest_prototypes = Array{Int8}(undef, n_features, 1);\n",
    "    @inbounds for (j,x) in enumerate(vector)\n",
    "            closest_prototypes[j] = find_closest_coordinate(dist, x, prototypes[:,j])\n",
    "    end\n",
    "    return closest_prototypes\n",
    "end"
   ]
  },
  {
   "cell_type": "code",
   "execution_count": 34,
   "id": "45e39911",
   "metadata": {
    "ExecuteTime": {
     "end_time": "2022-08-24T22:45:23.482000+02:00",
     "start_time": "2022-08-24T20:45:23.460Z"
    }
   },
   "outputs": [
    {
     "data": {
      "text/plain": [
       "1"
      ]
     },
     "execution_count": 34,
     "metadata": {},
     "output_type": "execute_result"
    }
   ],
   "source": [
    "find_closest_coordinate(sqeuclidean, query[1], P[:,1])"
   ]
  },
  {
   "cell_type": "code",
   "execution_count": 35,
   "id": "9ff9f7fb",
   "metadata": {
    "ExecuteTime": {
     "end_time": "2022-08-24T22:45:25.159000+02:00",
     "start_time": "2022-08-24T20:45:24.070Z"
    }
   },
   "outputs": [
    {
     "data": {
      "text/plain": [
       "128×1 Matrix{Int8}:\n",
       "  1\n",
       " 15\n",
       " 12\n",
       "  2\n",
       "  9\n",
       "  7\n",
       " 13\n",
       "  4\n",
       "  8\n",
       " 12\n",
       "  7\n",
       " 15\n",
       " 15\n",
       "  ⋮\n",
       "  9\n",
       " 12\n",
       "  1\n",
       "  2\n",
       "  6\n",
       "  4\n",
       "  1\n",
       " 13\n",
       "  8\n",
       " 11\n",
       " 12\n",
       " 12"
      ]
     },
     "execution_count": 35,
     "metadata": {},
     "output_type": "execute_result"
    }
   ],
   "source": [
    "encode(sqeuclidean, query, P)"
   ]
  },
  {
   "cell_type": "code",
   "execution_count": 36,
   "id": "4f8f3a27",
   "metadata": {
    "ExecuteTime": {
     "end_time": "2022-08-24T22:45:33.025000+02:00",
     "start_time": "2022-08-24T20:45:26.078Z"
    }
   },
   "outputs": [
    {
     "data": {
      "text/plain": [
       "BenchmarkTools.Trial: 10000 samples with 4 evaluations.\n",
       " Range \u001b[90m(\u001b[39m\u001b[36m\u001b[1mmin\u001b[22m\u001b[39m … \u001b[35mmax\u001b[39m\u001b[90m):  \u001b[39m\u001b[36m\u001b[1m7.986 μs\u001b[22m\u001b[39m … \u001b[35m36.839 μs\u001b[39m  \u001b[90m┊\u001b[39m GC \u001b[90m(\u001b[39mmin … max\u001b[90m): \u001b[39m0.00% … 0.00%\n",
       " Time  \u001b[90m(\u001b[39m\u001b[34m\u001b[1mmedian\u001b[22m\u001b[39m\u001b[90m):     \u001b[39m\u001b[34m\u001b[1m8.342 μs              \u001b[22m\u001b[39m\u001b[90m┊\u001b[39m GC \u001b[90m(\u001b[39mmedian\u001b[90m):    \u001b[39m0.00%\n",
       " Time  \u001b[90m(\u001b[39m\u001b[32m\u001b[1mmean\u001b[22m\u001b[39m ± \u001b[32mσ\u001b[39m\u001b[90m):   \u001b[39m\u001b[32m\u001b[1m9.141 μs\u001b[22m\u001b[39m ± \u001b[32m 2.309 μs\u001b[39m  \u001b[90m┊\u001b[39m GC \u001b[90m(\u001b[39mmean ± σ\u001b[90m):  \u001b[39m0.00% ± 0.00%\n",
       "\n",
       "  \u001b[39m▄\u001b[39m█\u001b[34m▇\u001b[39m\u001b[39m▅\u001b[39m▃\u001b[39m▂\u001b[39m▂\u001b[32m▁\u001b[39m\u001b[39m▁\u001b[39m▁\u001b[39m▁\u001b[39m \u001b[39m \u001b[39m \u001b[39m \u001b[39m \u001b[39m \u001b[39m \u001b[39m \u001b[39m \u001b[39m \u001b[39m \u001b[39m \u001b[39m \u001b[39m \u001b[39m \u001b[39m \u001b[39m \u001b[39m \u001b[39m \u001b[39m \u001b[39m \u001b[39m \u001b[39m \u001b[39m \u001b[39m \u001b[39m \u001b[39m \u001b[39m \u001b[39m▁\u001b[39m \u001b[39m \u001b[39m \u001b[39m \u001b[39m \u001b[39m \u001b[39m \u001b[39m \u001b[39m▁\u001b[39m \u001b[39m \u001b[39m \u001b[39m \u001b[39m \u001b[39m \u001b[39m \u001b[39m \u001b[39m \u001b[39m \u001b[39m▁\n",
       "  \u001b[39m█\u001b[39m█\u001b[34m█\u001b[39m\u001b[39m█\u001b[39m█\u001b[39m█\u001b[39m█\u001b[32m█\u001b[39m\u001b[39m█\u001b[39m█\u001b[39m█\u001b[39m█\u001b[39m▇\u001b[39m▇\u001b[39m▇\u001b[39m▆\u001b[39m▇\u001b[39m▇\u001b[39m▆\u001b[39m▇\u001b[39m▅\u001b[39m▇\u001b[39m▇\u001b[39m▇\u001b[39m▇\u001b[39m▇\u001b[39m█\u001b[39m▆\u001b[39m▇\u001b[39m▇\u001b[39m▇\u001b[39m▇\u001b[39m▇\u001b[39m▆\u001b[39m▇\u001b[39m▆\u001b[39m▆\u001b[39m▆\u001b[39m█\u001b[39m█\u001b[39m█\u001b[39m█\u001b[39m▆\u001b[39m▆\u001b[39m▅\u001b[39m▅\u001b[39m▆\u001b[39m▇\u001b[39m█\u001b[39m█\u001b[39m▇\u001b[39m▇\u001b[39m▇\u001b[39m▅\u001b[39m▄\u001b[39m▅\u001b[39m▄\u001b[39m▄\u001b[39m \u001b[39m█\n",
       "  7.99 μs\u001b[90m      \u001b[39m\u001b[90mHistogram: \u001b[39m\u001b[90m\u001b[1mlog(\u001b[22m\u001b[39m\u001b[90mfrequency\u001b[39m\u001b[90m\u001b[1m)\u001b[22m\u001b[39m\u001b[90m by time\u001b[39m     17.6 μs \u001b[0m\u001b[1m<\u001b[22m\n",
       "\n",
       " Memory estimate\u001b[90m: \u001b[39m\u001b[33m16.19 KiB\u001b[39m, allocs estimate\u001b[90m: \u001b[39m\u001b[33m129\u001b[39m."
      ]
     },
     "execution_count": 36,
     "metadata": {},
     "output_type": "execute_result"
    }
   ],
   "source": [
    "@benchmark encode(sqeuclidean, query, P)"
   ]
  },
  {
   "cell_type": "code",
   "execution_count": 37,
   "id": "493cb742",
   "metadata": {
    "ExecuteTime": {
     "end_time": "2022-08-24T22:45:33.135000+02:00",
     "start_time": "2022-08-24T20:45:27.688Z"
    }
   },
   "outputs": [
    {
     "data": {
      "text/plain": [
       "encode_fast (generic function with 1 method)"
      ]
     },
     "execution_count": 37,
     "metadata": {},
     "output_type": "execute_result"
    }
   ],
   "source": [
    "function encode_fast(dist, vector::Array{T}, prototypes::Array{T}) where T\n",
    "    n_clusters, n_features = size(prototypes)\n",
    "    closest_prototypes = Array{Int8}(undef, n_features, 1);\n",
    "    \n",
    "    @inbounds for (j,x) in enumerate(vector)\n",
    "        best_coordinate = 1\n",
    "        min_distance::T = typemax(T)\n",
    "        for k in 1:n_clusters\n",
    "           current_dist = dist(prototypes[k,j],x )\n",
    "           if current_dist < min_distance\n",
    "               best_coordinate = k\n",
    "               min_distance = current_dist\n",
    "           end\n",
    "           #println(k, ' ', j, ' ', best_coordinate, ' ',min_distance )\n",
    "        end            \n",
    "        closest_prototypes[j] = best_coordinate\n",
    "    end\n",
    "    return closest_prototypes\n",
    "end"
   ]
  },
  {
   "cell_type": "code",
   "execution_count": 38,
   "id": "903e11d2",
   "metadata": {
    "ExecuteTime": {
     "end_time": "2022-08-24T22:45:33.250000+02:00",
     "start_time": "2022-08-24T20:45:28.016Z"
    }
   },
   "outputs": [
    {
     "data": {
      "text/plain": [
       "16-element Vector{Float32}:\n",
       "     0.25334996\n",
       " 18665.057\n",
       "   116.67688\n",
       "  4124.341\n",
       " 11238.923\n",
       "  1076.4702\n",
       "    18.06276\n",
       " 15531.912\n",
       "   591.8823\n",
       "  1829.6733\n",
       "  9275.933\n",
       "  7456.085\n",
       "  5750.3394\n",
       " 13278.269\n",
       "  2845.01\n",
       "   302.53854"
      ]
     },
     "execution_count": 38,
     "metadata": {},
     "output_type": "execute_result"
    }
   ],
   "source": [
    "(query[1] .- P[:,1]) .* (query[1] .- P[:,1])"
   ]
  },
  {
   "cell_type": "code",
   "execution_count": 39,
   "id": "aba9fbbf",
   "metadata": {
    "ExecuteTime": {
     "end_time": "2022-08-24T22:45:33.295000+02:00",
     "start_time": "2022-08-24T20:45:28.365Z"
    }
   },
   "outputs": [
    {
     "name": "stdout",
     "output_type": "stream",
     "text": [
      "1\n",
      "15\n"
     ]
    }
   ],
   "source": [
    "println(find_closest_coordinate(sqeuclidean, query[1], P[:,1]))\n",
    "println(find_closest_coordinate(sqeuclidean, query[2], P[:,2]))"
   ]
  },
  {
   "cell_type": "code",
   "execution_count": 40,
   "id": "4ec40d6b",
   "metadata": {
    "ExecuteTime": {
     "end_time": "2022-08-24T22:45:33.871000+02:00",
     "start_time": "2022-08-24T20:45:28.704Z"
    }
   },
   "outputs": [
    {
     "data": {
      "text/plain": [
       "4-element Vector{Int8}:\n",
       "  1\n",
       " 15\n",
       " 12\n",
       "  2"
      ]
     },
     "execution_count": 40,
     "metadata": {},
     "output_type": "execute_result"
    }
   ],
   "source": [
    "encode_fast(sqeuclidean, query, P)[1:4]"
   ]
  },
  {
   "cell_type": "code",
   "execution_count": 41,
   "id": "e96095e5",
   "metadata": {
    "ExecuteTime": {
     "end_time": "2022-08-24T22:45:34.312000+02:00",
     "start_time": "2022-08-24T20:45:30.830Z"
    }
   },
   "outputs": [],
   "source": [
    "@assert isapprox(encode(sqeuclidean, query, P),\n",
    "                 encode_fast(sqeuclidean, query, P))"
   ]
  },
  {
   "cell_type": "code",
   "execution_count": 42,
   "id": "e07e11e3",
   "metadata": {
    "ExecuteTime": {
     "end_time": "2022-08-24T22:45:37.104000+02:00",
     "start_time": "2022-08-24T20:45:31.422Z"
    }
   },
   "outputs": [
    {
     "data": {
      "text/plain": [
       "BenchmarkTools.Trial: 10000 samples with 9 evaluations.\n",
       " Range \u001b[90m(\u001b[39m\u001b[36m\u001b[1mmin\u001b[22m\u001b[39m … \u001b[35mmax\u001b[39m\u001b[90m):  \u001b[39m\u001b[36m\u001b[1m2.116 μs\u001b[22m\u001b[39m … \u001b[35m 14.892 μs\u001b[39m  \u001b[90m┊\u001b[39m GC \u001b[90m(\u001b[39mmin … max\u001b[90m): \u001b[39m0.00% … 0.00%\n",
       " Time  \u001b[90m(\u001b[39m\u001b[34m\u001b[1mmedian\u001b[22m\u001b[39m\u001b[90m):     \u001b[39m\u001b[34m\u001b[1m2.164 μs               \u001b[22m\u001b[39m\u001b[90m┊\u001b[39m GC \u001b[90m(\u001b[39mmedian\u001b[90m):    \u001b[39m0.00%\n",
       " Time  \u001b[90m(\u001b[39m\u001b[32m\u001b[1mmean\u001b[22m\u001b[39m ± \u001b[32mσ\u001b[39m\u001b[90m):   \u001b[39m\u001b[32m\u001b[1m2.318 μs\u001b[22m\u001b[39m ± \u001b[32m604.987 ns\u001b[39m  \u001b[90m┊\u001b[39m GC \u001b[90m(\u001b[39mmean ± σ\u001b[90m):  \u001b[39m0.00% ± 0.00%\n",
       "\n",
       "  \u001b[39m█\u001b[34m▇\u001b[39m\u001b[39m▅\u001b[39m▃\u001b[32m▁\u001b[39m\u001b[39m▁\u001b[39m \u001b[39m \u001b[39m \u001b[39m \u001b[39m \u001b[39m \u001b[39m \u001b[39m \u001b[39m \u001b[39m \u001b[39m \u001b[39m \u001b[39m \u001b[39m \u001b[39m \u001b[39m \u001b[39m \u001b[39m \u001b[39m \u001b[39m \u001b[39m \u001b[39m \u001b[39m \u001b[39m \u001b[39m \u001b[39m \u001b[39m \u001b[39m \u001b[39m \u001b[39m \u001b[39m \u001b[39m \u001b[39m \u001b[39m \u001b[39m \u001b[39m \u001b[39m \u001b[39m \u001b[39m \u001b[39m \u001b[39m \u001b[39m \u001b[39m \u001b[39m \u001b[39m \u001b[39m \u001b[39m \u001b[39m \u001b[39m \u001b[39m \u001b[39m \u001b[39m \u001b[39m \u001b[39m \u001b[39m▁\n",
       "  \u001b[39m█\u001b[34m█\u001b[39m\u001b[39m█\u001b[39m█\u001b[32m█\u001b[39m\u001b[39m█\u001b[39m█\u001b[39m█\u001b[39m█\u001b[39m█\u001b[39m█\u001b[39m▇\u001b[39m▇\u001b[39m▇\u001b[39m█\u001b[39m▇\u001b[39m▇\u001b[39m█\u001b[39m▇\u001b[39m▆\u001b[39m▆\u001b[39m▆\u001b[39m▇\u001b[39m▇\u001b[39m▆\u001b[39m▅\u001b[39m▅\u001b[39m▆\u001b[39m▅\u001b[39m▅\u001b[39m▅\u001b[39m▅\u001b[39m▅\u001b[39m▆\u001b[39m▄\u001b[39m▅\u001b[39m▅\u001b[39m▄\u001b[39m▅\u001b[39m▅\u001b[39m▅\u001b[39m▄\u001b[39m▅\u001b[39m▅\u001b[39m▅\u001b[39m▄\u001b[39m▄\u001b[39m▄\u001b[39m▅\u001b[39m▅\u001b[39m▄\u001b[39m▄\u001b[39m▅\u001b[39m▅\u001b[39m▄\u001b[39m▅\u001b[39m▄\u001b[39m▅\u001b[39m▄\u001b[39m \u001b[39m█\n",
       "  2.12 μs\u001b[90m      \u001b[39m\u001b[90mHistogram: \u001b[39m\u001b[90m\u001b[1mlog(\u001b[22m\u001b[39m\u001b[90mfrequency\u001b[39m\u001b[90m\u001b[1m)\u001b[22m\u001b[39m\u001b[90m by time\u001b[39m      5.15 μs \u001b[0m\u001b[1m<\u001b[22m\n",
       "\n",
       " Memory estimate\u001b[90m: \u001b[39m\u001b[33m192 bytes\u001b[39m, allocs estimate\u001b[90m: \u001b[39m\u001b[33m1\u001b[39m."
      ]
     },
     "execution_count": 42,
     "metadata": {},
     "output_type": "execute_result"
    }
   ],
   "source": [
    "@benchmark encode_fast(sqeuclidean, query, P)"
   ]
  },
  {
   "cell_type": "code",
   "execution_count": 43,
   "id": "9c42b292",
   "metadata": {
    "ExecuteTime": {
     "end_time": "2022-08-24T22:45:37.215000+02:00",
     "start_time": "2022-08-24T20:45:32.643Z"
    }
   },
   "outputs": [
    {
     "data": {
      "text/plain": [
       "compute_ADC (generic function with 1 method)"
      ]
     },
     "execution_count": 43,
     "metadata": {},
     "output_type": "execute_result"
    }
   ],
   "source": [
    "function compute_ADC(query, prototypes, dist)\n",
    "    n_clusters, n_features = size(P)\n",
    "    \n",
    "    ADC_table = Array{Float32}(undef, n_clusters, n_features)\n",
    "    \n",
    "    for j in 1:n_features\n",
    "        for p in 1:n_clusters\n",
    "            ADC_table[p,j] = dist(query[j], @view prototypes[p,:] )\n",
    "        end\n",
    "    end\n",
    "    return  ADC_table\n",
    "end"
   ]
  },
  {
   "cell_type": "code",
   "execution_count": 44,
   "id": "852758de",
   "metadata": {
    "ExecuteTime": {
     "end_time": "2022-08-24T22:45:37.217000+02:00",
     "start_time": "2022-08-24T20:45:33.906Z"
    }
   },
   "outputs": [
    {
     "data": {
      "text/plain": [
       "(16, 128)"
      ]
     },
     "execution_count": 44,
     "metadata": {},
     "output_type": "execute_result"
    }
   ],
   "source": [
    "size(P)"
   ]
  },
  {
   "cell_type": "code",
   "execution_count": 45,
   "id": "4b7cfe4d",
   "metadata": {
    "ExecuteTime": {
     "end_time": "2022-08-24T22:45:37.323000+02:00",
     "start_time": "2022-08-24T20:45:34.626Z"
    }
   },
   "outputs": [
    {
     "data": {
      "text/plain": [
       "SEuclidean0 (generic function with 1 method)"
      ]
     },
     "execution_count": 45,
     "metadata": {},
     "output_type": "execute_result"
    }
   ],
   "source": [
    "function SEuclidean0(x, query)\n",
    "    res = zero(eltype(x))\n",
    "    @inbounds   for j in eachindex(x)\n",
    "        aux = (query[j] - x[j])\n",
    "        res += aux * aux\n",
    "    end\n",
    "    return res\n",
    "end"
   ]
  },
  {
   "cell_type": "code",
   "execution_count": 46,
   "id": "98986bfe",
   "metadata": {
    "ExecuteTime": {
     "end_time": "2022-08-24T22:45:48.863000+02:00",
     "start_time": "2022-08-24T20:45:36.436Z"
    },
    "scrolled": true
   },
   "outputs": [
    {
     "data": {
      "text/plain": [
       "BenchmarkTools.Trial: 6167 samples with 1 evaluation.\n",
       " Range \u001b[90m(\u001b[39m\u001b[36m\u001b[1mmin\u001b[22m\u001b[39m … \u001b[35mmax\u001b[39m\u001b[90m):  \u001b[39m\u001b[36m\u001b[1m640.650 μs\u001b[22m\u001b[39m … \u001b[35m218.623 ms\u001b[39m  \u001b[90m┊\u001b[39m GC \u001b[90m(\u001b[39mmin … max\u001b[90m): \u001b[39m0.00% … 99.65%\n",
       " Time  \u001b[90m(\u001b[39m\u001b[34m\u001b[1mmedian\u001b[22m\u001b[39m\u001b[90m):     \u001b[39m\u001b[34m\u001b[1m730.490 μs               \u001b[22m\u001b[39m\u001b[90m┊\u001b[39m GC \u001b[90m(\u001b[39mmedian\u001b[90m):    \u001b[39m0.00%\n",
       " Time  \u001b[90m(\u001b[39m\u001b[32m\u001b[1mmean\u001b[22m\u001b[39m ± \u001b[32mσ\u001b[39m\u001b[90m):   \u001b[39m\u001b[32m\u001b[1m802.631 μs\u001b[22m\u001b[39m ± \u001b[32m  2.777 ms\u001b[39m  \u001b[90m┊\u001b[39m GC \u001b[90m(\u001b[39mmean ± σ\u001b[90m):  \u001b[39m4.40% ±  1.27%\n",
       "\n",
       "  \u001b[39m \u001b[39m \u001b[39m▇\u001b[39m█\u001b[39m█\u001b[39m▇\u001b[39m▆\u001b[39m▄\u001b[39m▃\u001b[34m▁\u001b[39m\u001b[39m \u001b[39m▁\u001b[39m \u001b[39m \u001b[39m \u001b[39m \u001b[32m \u001b[39m\u001b[39m \u001b[39m \u001b[39m \u001b[39m \u001b[39m \u001b[39m \u001b[39m \u001b[39m \u001b[39m \u001b[39m \u001b[39m \u001b[39m \u001b[39m \u001b[39m \u001b[39m \u001b[39m \u001b[39m \u001b[39m \u001b[39m \u001b[39m \u001b[39m \u001b[39m \u001b[39m \u001b[39m \u001b[39m \u001b[39m \u001b[39m \u001b[39m \u001b[39m \u001b[39m \u001b[39m \u001b[39m \u001b[39m \u001b[39m \u001b[39m \u001b[39m \u001b[39m \u001b[39m \u001b[39m \u001b[39m \u001b[39m \u001b[39m \u001b[39m \u001b[39m \u001b[39m \u001b[39m \n",
       "  \u001b[39m▂\u001b[39m▅\u001b[39m█\u001b[39m█\u001b[39m█\u001b[39m█\u001b[39m█\u001b[39m█\u001b[39m█\u001b[34m█\u001b[39m\u001b[39m█\u001b[39m█\u001b[39m▇\u001b[39m▇\u001b[39m▇\u001b[39m▆\u001b[32m▆\u001b[39m\u001b[39m▅\u001b[39m▅\u001b[39m▄\u001b[39m▄\u001b[39m▃\u001b[39m▄\u001b[39m▃\u001b[39m▃\u001b[39m▂\u001b[39m▃\u001b[39m▃\u001b[39m▂\u001b[39m▂\u001b[39m▂\u001b[39m▂\u001b[39m▂\u001b[39m▂\u001b[39m▂\u001b[39m▂\u001b[39m▂\u001b[39m▂\u001b[39m▁\u001b[39m▂\u001b[39m▂\u001b[39m▁\u001b[39m▂\u001b[39m▂\u001b[39m▁\u001b[39m▁\u001b[39m▁\u001b[39m▁\u001b[39m▁\u001b[39m▁\u001b[39m▁\u001b[39m▁\u001b[39m▁\u001b[39m▁\u001b[39m▁\u001b[39m▁\u001b[39m▁\u001b[39m▁\u001b[39m▁\u001b[39m▁\u001b[39m▁\u001b[39m \u001b[39m▃\n",
       "  641 μs\u001b[90m           Histogram: frequency by time\u001b[39m         1.25 ms \u001b[0m\u001b[1m<\u001b[22m\n",
       "\n",
       " Memory estimate\u001b[90m: \u001b[39m\u001b[33m272.25 KiB\u001b[39m, allocs estimate\u001b[90m: \u001b[39m\u001b[33m10501\u001b[39m."
      ]
     },
     "execution_count": 46,
     "metadata": {},
     "output_type": "execute_result"
    }
   ],
   "source": [
    "@benchmark compute_ADC(query, P, SEuclidean0)"
   ]
  },
  {
   "cell_type": "code",
   "execution_count": 47,
   "id": "02508649",
   "metadata": {
    "ExecuteTime": {
     "end_time": "2022-08-24T22:45:48.865000+02:00",
     "start_time": "2022-08-24T20:45:36.695Z"
    }
   },
   "outputs": [],
   "source": [
    "adc_table = compute_ADC(query, P, SEuclidean0);"
   ]
  },
  {
   "cell_type": "code",
   "execution_count": 202,
   "id": "6b7e612f",
   "metadata": {
    "ExecuteTime": {
     "end_time": "2022-08-25T00:30:53.271000+02:00",
     "start_time": "2022-08-24T22:30:53.266Z"
    }
   },
   "outputs": [
    {
     "data": {
      "text/plain": [
       "compute_ADC_fast (generic function with 1 method)"
      ]
     },
     "execution_count": 202,
     "metadata": {},
     "output_type": "execute_result"
    }
   ],
   "source": [
    "function compute_ADC_fast(query, prototypes, dist)\n",
    "    n_clusters, n_features = size(P)\n",
    "    \n",
    "    ADC_table = Array{Float32}(undef, n_clusters, n_features)\n",
    "    \n",
    "    for j in 1:n_features\n",
    "        for p in 1:n_clusters\n",
    "            \n",
    "            ADC_table[p,j] = dist(query[j],  prototypes[p,:] )\n",
    "        end\n",
    "    end\n",
    "    return  ADC_table\n",
    "end"
   ]
  },
  {
   "cell_type": "code",
   "execution_count": 203,
   "id": "35984e43",
   "metadata": {
    "ExecuteTime": {
     "end_time": "2022-08-25T00:31:16.674000+02:00",
     "start_time": "2022-08-24T22:31:05.080Z"
    }
   },
   "outputs": [
    {
     "data": {
      "text/plain": [
       "BenchmarkTools.Trial: 4390 samples with 1 evaluation.\n",
       " Range \u001b[90m(\u001b[39m\u001b[36m\u001b[1mmin\u001b[22m\u001b[39m … \u001b[35mmax\u001b[39m\u001b[90m):  \u001b[39m\u001b[36m\u001b[1m856.282 μs\u001b[22m\u001b[39m … \u001b[35m  6.059 ms\u001b[39m  \u001b[90m┊\u001b[39m GC \u001b[90m(\u001b[39mmin … max\u001b[90m): \u001b[39m 0.00% … 79.34%\n",
       " Time  \u001b[90m(\u001b[39m\u001b[34m\u001b[1mmedian\u001b[22m\u001b[39m\u001b[90m):     \u001b[39m\u001b[34m\u001b[1m975.866 μs               \u001b[22m\u001b[39m\u001b[90m┊\u001b[39m GC \u001b[90m(\u001b[39mmedian\u001b[90m):    \u001b[39m 0.00%\n",
       " Time  \u001b[90m(\u001b[39m\u001b[32m\u001b[1mmean\u001b[22m\u001b[39m ± \u001b[32mσ\u001b[39m\u001b[90m):   \u001b[39m\u001b[32m\u001b[1m  1.132 ms\u001b[22m\u001b[39m ± \u001b[32m717.565 μs\u001b[39m  \u001b[90m┊\u001b[39m GC \u001b[90m(\u001b[39mmean ± σ\u001b[90m):  \u001b[39m11.48% ± 14.16%\n",
       "\n",
       "  \u001b[39m█\u001b[39m█\u001b[34m▇\u001b[39m\u001b[39m▆\u001b[32m▅\u001b[39m\u001b[39m▃\u001b[39m▂\u001b[39m▁\u001b[39m \u001b[39m \u001b[39m \u001b[39m \u001b[39m \u001b[39m \u001b[39m \u001b[39m \u001b[39m \u001b[39m \u001b[39m \u001b[39m \u001b[39m \u001b[39m \u001b[39m \u001b[39m \u001b[39m \u001b[39m \u001b[39m \u001b[39m \u001b[39m \u001b[39m \u001b[39m \u001b[39m \u001b[39m \u001b[39m \u001b[39m \u001b[39m \u001b[39m \u001b[39m \u001b[39m \u001b[39m \u001b[39m \u001b[39m \u001b[39m \u001b[39m \u001b[39m \u001b[39m \u001b[39m \u001b[39m \u001b[39m \u001b[39m \u001b[39m \u001b[39m \u001b[39m \u001b[39m \u001b[39m \u001b[39m \u001b[39m \u001b[39m \u001b[39m \u001b[39m \u001b[39m \u001b[39m \u001b[39m▁\n",
       "  \u001b[39m█\u001b[39m█\u001b[34m█\u001b[39m\u001b[39m█\u001b[32m█\u001b[39m\u001b[39m█\u001b[39m█\u001b[39m█\u001b[39m▇\u001b[39m▆\u001b[39m▆\u001b[39m▆\u001b[39m▅\u001b[39m▅\u001b[39m▃\u001b[39m▁\u001b[39m▁\u001b[39m▃\u001b[39m▁\u001b[39m▁\u001b[39m▁\u001b[39m▃\u001b[39m▁\u001b[39m▁\u001b[39m▁\u001b[39m▁\u001b[39m▁\u001b[39m▁\u001b[39m▁\u001b[39m▁\u001b[39m▁\u001b[39m▁\u001b[39m▁\u001b[39m▁\u001b[39m▁\u001b[39m▁\u001b[39m▁\u001b[39m▁\u001b[39m▁\u001b[39m▁\u001b[39m▁\u001b[39m▁\u001b[39m▁\u001b[39m▁\u001b[39m▁\u001b[39m▁\u001b[39m▁\u001b[39m▁\u001b[39m▃\u001b[39m▄\u001b[39m▅\u001b[39m▆\u001b[39m▅\u001b[39m▇\u001b[39m▇\u001b[39m▇\u001b[39m▇\u001b[39m▇\u001b[39m▇\u001b[39m▇\u001b[39m▇\u001b[39m \u001b[39m█\n",
       "  856 μs\u001b[90m        \u001b[39m\u001b[90mHistogram: \u001b[39m\u001b[90m\u001b[1mlog(\u001b[22m\u001b[39m\u001b[90mfrequency\u001b[39m\u001b[90m\u001b[1m)\u001b[22m\u001b[39m\u001b[90m by time\u001b[39m       5.05 ms \u001b[0m\u001b[1m<\u001b[22m\n",
       "\n",
       " Memory estimate\u001b[90m: \u001b[39m\u001b[33m1.48 MiB\u001b[39m, allocs estimate\u001b[90m: \u001b[39m\u001b[33m18693\u001b[39m."
      ]
     },
     "execution_count": 203,
     "metadata": {},
     "output_type": "execute_result"
    }
   ],
   "source": [
    "@benchmark compute_ADC_fast(query, P, SEuclidean0)"
   ]
  },
  {
   "cell_type": "code",
   "execution_count": 214,
   "id": "845a1a68",
   "metadata": {
    "ExecuteTime": {
     "end_time": "2022-08-25T00:40:46.462000+02:00",
     "start_time": "2022-08-24T22:40:46.456Z"
    }
   },
   "outputs": [
    {
     "data": {
      "text/plain": [
       "adc_dist (generic function with 1 method)"
      ]
     },
     "execution_count": 214,
     "metadata": {},
     "output_type": "execute_result"
    }
   ],
   "source": [
    "function adc_dist(query_code, x_code,  adc_table)\n",
    "    res = zero(eltype(adc_table))\n",
    "    @inbounds @fastmath for j in eachindex(x_code)\n",
    "        res+= adc_table[x_code[j], j]\n",
    "    end\n",
    "    return res\n",
    "end"
   ]
  },
  {
   "cell_type": "code",
   "execution_count": 215,
   "id": "3a22e48b",
   "metadata": {
    "ExecuteTime": {
     "end_time": "2022-08-25T00:40:47.357000+02:00",
     "start_time": "2022-08-24T22:40:47.327Z"
    }
   },
   "outputs": [
    {
     "data": {
      "text/plain": [
       "473463.53f0"
      ]
     },
     "execution_count": 215,
     "metadata": {},
     "output_type": "execute_result"
    }
   ],
   "source": [
    "query_code = encode_fast(sqeuclidean, query, P)\n",
    "x_code = PQcodes[:,1];\n",
    "adc_table = compute_ADC(query, P, SEuclidean0);\n",
    "adc_dist(query_code, x_code,  adc_table)"
   ]
  },
  {
   "cell_type": "code",
   "execution_count": 51,
   "id": "83943855",
   "metadata": {
    "ExecuteTime": {
     "end_time": "2022-08-24T22:46:06.301000+02:00",
     "start_time": "2022-08-24T20:46:04.070Z"
    }
   },
   "outputs": [
    {
     "data": {
      "text/plain": [
       "BenchmarkTools.Trial: 10000 samples with 981 evaluations.\n",
       " Range \u001b[90m(\u001b[39m\u001b[36m\u001b[1mmin\u001b[22m\u001b[39m … \u001b[35mmax\u001b[39m\u001b[90m):  \u001b[39m\u001b[36m\u001b[1m55.314 ns\u001b[22m\u001b[39m … \u001b[35m478.893 ns\u001b[39m  \u001b[90m┊\u001b[39m GC \u001b[90m(\u001b[39mmin … max\u001b[90m): \u001b[39m0.00% … 0.00%\n",
       " Time  \u001b[90m(\u001b[39m\u001b[34m\u001b[1mmedian\u001b[22m\u001b[39m\u001b[90m):     \u001b[39m\u001b[34m\u001b[1m62.940 ns               \u001b[22m\u001b[39m\u001b[90m┊\u001b[39m GC \u001b[90m(\u001b[39mmedian\u001b[90m):    \u001b[39m0.00%\n",
       " Time  \u001b[90m(\u001b[39m\u001b[32m\u001b[1mmean\u001b[22m\u001b[39m ± \u001b[32mσ\u001b[39m\u001b[90m):   \u001b[39m\u001b[32m\u001b[1m67.565 ns\u001b[22m\u001b[39m ± \u001b[32m 15.739 ns\u001b[39m  \u001b[90m┊\u001b[39m GC \u001b[90m(\u001b[39mmean ± σ\u001b[90m):  \u001b[39m0.00% ± 0.00%\n",
       "\n",
       "  \u001b[39m▂\u001b[39m \u001b[39m \u001b[39m▄\u001b[39m▃\u001b[39m█\u001b[34m█\u001b[39m\u001b[39m▄\u001b[39m▂\u001b[39m▂\u001b[32m▂\u001b[39m\u001b[39m▁\u001b[39m \u001b[39m \u001b[39m \u001b[39m \u001b[39m \u001b[39m \u001b[39m \u001b[39m▁\u001b[39m▁\u001b[39m \u001b[39m \u001b[39m▁\u001b[39m \u001b[39m \u001b[39m \u001b[39m \u001b[39m \u001b[39m \u001b[39m \u001b[39m \u001b[39m \u001b[39m \u001b[39m \u001b[39m \u001b[39m \u001b[39m \u001b[39m \u001b[39m \u001b[39m \u001b[39m \u001b[39m \u001b[39m \u001b[39m \u001b[39m \u001b[39m \u001b[39m \u001b[39m \u001b[39m \u001b[39m \u001b[39m \u001b[39m \u001b[39m \u001b[39m \u001b[39m \u001b[39m \u001b[39m \u001b[39m \u001b[39m \u001b[39m \u001b[39m▁\n",
       "  \u001b[39m█\u001b[39m▆\u001b[39m▄\u001b[39m█\u001b[39m█\u001b[39m█\u001b[34m█\u001b[39m\u001b[39m█\u001b[39m█\u001b[39m█\u001b[32m█\u001b[39m\u001b[39m█\u001b[39m█\u001b[39m▇\u001b[39m▇\u001b[39m▇\u001b[39m█\u001b[39m▇\u001b[39m▇\u001b[39m█\u001b[39m█\u001b[39m█\u001b[39m█\u001b[39m█\u001b[39m█\u001b[39m█\u001b[39m█\u001b[39m█\u001b[39m█\u001b[39m▇\u001b[39m▇\u001b[39m█\u001b[39m▆\u001b[39m▆\u001b[39m▆\u001b[39m▆\u001b[39m▆\u001b[39m▆\u001b[39m█\u001b[39m▆\u001b[39m▆\u001b[39m▅\u001b[39m▆\u001b[39m▆\u001b[39m▆\u001b[39m▆\u001b[39m▅\u001b[39m▅\u001b[39m▅\u001b[39m█\u001b[39m▇\u001b[39m▄\u001b[39m▅\u001b[39m▄\u001b[39m▅\u001b[39m▆\u001b[39m▅\u001b[39m▅\u001b[39m▅\u001b[39m▅\u001b[39m \u001b[39m█\n",
       "  55.3 ns\u001b[90m       \u001b[39m\u001b[90mHistogram: \u001b[39m\u001b[90m\u001b[1mlog(\u001b[22m\u001b[39m\u001b[90mfrequency\u001b[39m\u001b[90m\u001b[1m)\u001b[22m\u001b[39m\u001b[90m by time\u001b[39m       131 ns \u001b[0m\u001b[1m<\u001b[22m\n",
       "\n",
       " Memory estimate\u001b[90m: \u001b[39m\u001b[33m16 bytes\u001b[39m, allocs estimate\u001b[90m: \u001b[39m\u001b[33m1\u001b[39m."
      ]
     },
     "execution_count": 51,
     "metadata": {},
     "output_type": "execute_result"
    }
   ],
   "source": [
    "@benchmark adc_dist(query_code, x_code,  adc_table)"
   ]
  },
  {
   "cell_type": "code",
   "execution_count": 52,
   "id": "6aa74d81",
   "metadata": {
    "ExecuteTime": {
     "end_time": "2022-08-24T22:46:09.065000+02:00",
     "start_time": "2022-08-24T20:46:04.334Z"
    }
   },
   "outputs": [
    {
     "data": {
      "text/plain": [
       "BenchmarkTools.Trial: 10000 samples with 800 evaluations.\n",
       " Range \u001b[90m(\u001b[39m\u001b[36m\u001b[1mmin\u001b[22m\u001b[39m … \u001b[35mmax\u001b[39m\u001b[90m):  \u001b[39m\u001b[36m\u001b[1m156.260 ns\u001b[22m\u001b[39m … \u001b[35m 1.843 μs\u001b[39m  \u001b[90m┊\u001b[39m GC \u001b[90m(\u001b[39mmin … max\u001b[90m): \u001b[39m0.00% … 0.00%\n",
       " Time  \u001b[90m(\u001b[39m\u001b[34m\u001b[1mmedian\u001b[22m\u001b[39m\u001b[90m):     \u001b[39m\u001b[34m\u001b[1m158.925 ns              \u001b[22m\u001b[39m\u001b[90m┊\u001b[39m GC \u001b[90m(\u001b[39mmedian\u001b[90m):    \u001b[39m0.00%\n",
       " Time  \u001b[90m(\u001b[39m\u001b[32m\u001b[1mmean\u001b[22m\u001b[39m ± \u001b[32mσ\u001b[39m\u001b[90m):   \u001b[39m\u001b[32m\u001b[1m168.599 ns\u001b[22m\u001b[39m ± \u001b[32m42.504 ns\u001b[39m  \u001b[90m┊\u001b[39m GC \u001b[90m(\u001b[39mmean ± σ\u001b[90m):  \u001b[39m0.00% ± 0.00%\n",
       "\n",
       "  \u001b[39m▅\u001b[39m█\u001b[34m▅\u001b[39m\u001b[39m▃\u001b[39m▂\u001b[39m▂\u001b[39m▂\u001b[32m▁\u001b[39m\u001b[39m▁\u001b[39m▁\u001b[39m▁\u001b[39m▁\u001b[39m▁\u001b[39m▁\u001b[39m▁\u001b[39m▁\u001b[39m▁\u001b[39m▁\u001b[39m▁\u001b[39m \u001b[39m \u001b[39m \u001b[39m \u001b[39m \u001b[39m \u001b[39m \u001b[39m \u001b[39m \u001b[39m \u001b[39m \u001b[39m \u001b[39m \u001b[39m \u001b[39m \u001b[39m \u001b[39m \u001b[39m \u001b[39m \u001b[39m \u001b[39m \u001b[39m \u001b[39m \u001b[39m \u001b[39m \u001b[39m \u001b[39m \u001b[39m \u001b[39m \u001b[39m \u001b[39m \u001b[39m \u001b[39m \u001b[39m \u001b[39m \u001b[39m \u001b[39m \u001b[39m \u001b[39m \u001b[39m \u001b[39m \u001b[39m \u001b[39m▁\n",
       "  \u001b[39m█\u001b[39m█\u001b[34m█\u001b[39m\u001b[39m█\u001b[39m█\u001b[39m█\u001b[39m█\u001b[32m█\u001b[39m\u001b[39m█\u001b[39m█\u001b[39m█\u001b[39m█\u001b[39m█\u001b[39m█\u001b[39m█\u001b[39m█\u001b[39m█\u001b[39m█\u001b[39m█\u001b[39m█\u001b[39m█\u001b[39m█\u001b[39m█\u001b[39m█\u001b[39m█\u001b[39m▇\u001b[39m█\u001b[39m▇\u001b[39m█\u001b[39m▇\u001b[39m▇\u001b[39m▇\u001b[39m▇\u001b[39m▇\u001b[39m▆\u001b[39m▆\u001b[39m▇\u001b[39m▆\u001b[39m▆\u001b[39m▆\u001b[39m▆\u001b[39m▆\u001b[39m▅\u001b[39m▆\u001b[39m▅\u001b[39m▅\u001b[39m▆\u001b[39m▆\u001b[39m▅\u001b[39m▄\u001b[39m▄\u001b[39m▄\u001b[39m▅\u001b[39m▄\u001b[39m▅\u001b[39m▅\u001b[39m▄\u001b[39m▄\u001b[39m▄\u001b[39m▄\u001b[39m \u001b[39m█\n",
       "  156 ns\u001b[90m        \u001b[39m\u001b[90mHistogram: \u001b[39m\u001b[90m\u001b[1mlog(\u001b[22m\u001b[39m\u001b[90mfrequency\u001b[39m\u001b[90m\u001b[1m)\u001b[22m\u001b[39m\u001b[90m by time\u001b[39m       258 ns \u001b[0m\u001b[1m<\u001b[22m\n",
       "\n",
       " Memory estimate\u001b[90m: \u001b[39m\u001b[33m16 bytes\u001b[39m, allocs estimate\u001b[90m: \u001b[39m\u001b[33m1\u001b[39m."
      ]
     },
     "execution_count": 52,
     "metadata": {},
     "output_type": "execute_result"
    }
   ],
   "source": [
    "x = X_tr_vecs[:,1];\n",
    "@benchmark SEuclidean0(x, query)"
   ]
  },
  {
   "cell_type": "markdown",
   "id": "a3702306",
   "metadata": {},
   "source": [
    "##  Share prototypes across features\n",
    "\n",
    "https://groups.google.com/g/julia-users/c/xBcQRebyi_o\n",
    "\n"
   ]
  },
  {
   "cell_type": "code",
   "execution_count": 148,
   "id": "f73b00d9",
   "metadata": {
    "ExecuteTime": {
     "end_time": "2022-08-24T23:14:18.516000+02:00",
     "start_time": "2022-08-24T21:14:11.075Z"
    }
   },
   "outputs": [
    {
     "data": {
      "text/plain": [
       "KmeansResult{Matrix{Float32}, Float32, Int64}(Float32[9.485008 65.47876 … 23.976738 13.485671], [3, 32, 3, 28, 3, 30, 3, 12, 24, 4  …  16, 1, 1, 15, 15, 22, 7, 18, 3, 21], Float32[0.05256829, 0.26455688, 0.05256829, 0.26367188, 0.5940128, 0.21679688, 0.05256829, 0.20184326, 1.0723343, 0.28729248  …  1.0510254, 0.265213, 0.23522949, 2.144043, 0.28686523, 3.8291016, 0.8599529, 0.2175293, 0.05256829, 0.037109375], [36020, 14055, 202536, 44210, 14355, 22456, 82724, 14273, 18570, 16753  …  26892, 63822, 13070, 10719, 36023, 32024, 18610, 20469, 29447, 29555], [36020, 14055, 202536, 44210, 14355, 22456, 82724, 14273, 18570, 16753  …  26892, 63822, 13070, 10719, 36023, 32024, 18610, 20469, 29447, 29555], 1.2977016f6, 3, true)"
      ]
     },
     "execution_count": 148,
     "metadata": {},
     "output_type": "execute_result"
    }
   ],
   "source": [
    "n_clusters = 32\n",
    "#R_shared = kmeans(Matrix(vec(X_tr_vecs)'), n_clusters; maxiter=200)\n",
    "R_shared = kmeans(X_tr_vecs[[1],:], n_clusters; maxiter=200)"
   ]
  },
  {
   "cell_type": "code",
   "execution_count": 152,
   "id": "d645e0c7",
   "metadata": {
    "ExecuteTime": {
     "end_time": "2022-08-24T23:14:40.097000+02:00",
     "start_time": "2022-08-24T21:14:40.094Z"
    }
   },
   "outputs": [
    {
     "data": {
      "text/plain": [
       "32"
      ]
     },
     "execution_count": 152,
     "metadata": {},
     "output_type": "execute_result"
    }
   ],
   "source": [
    "length(unique(R_shared.centers))"
   ]
  },
  {
   "cell_type": "code",
   "execution_count": 159,
   "id": "140b5873",
   "metadata": {
    "ExecuteTime": {
     "end_time": "2022-08-24T23:22:39.897000+02:00",
     "start_time": "2022-08-24T21:22:39.879Z"
    }
   },
   "outputs": [
    {
     "name": "stdout",
     "output_type": "stream",
     "text": [
      "142.66107\n",
      "172.0\n"
     ]
    }
   ],
   "source": [
    "println(maximum(R_shared.centers))\n",
    "println(maximum(X_tr_vecs[[1],:]))"
   ]
  },
  {
   "cell_type": "code",
   "execution_count": 166,
   "id": "19d3dd30",
   "metadata": {
    "ExecuteTime": {
     "end_time": "2022-08-24T23:51:31.426000+02:00",
     "start_time": "2022-08-24T21:51:31.421Z"
    }
   },
   "outputs": [
    {
     "data": {
      "text/plain": [
       "1×32 Matrix{Float32}:\n",
       " 9.48501  65.4788  0.229278  20.4641  …  70.424  48.4661  23.9767  13.4857"
      ]
     },
     "execution_count": 166,
     "metadata": {},
     "output_type": "execute_result"
    }
   ],
   "source": [
    "P_shared = R_shared.centers"
   ]
  },
  {
   "cell_type": "markdown",
   "id": "5d0c16d1",
   "metadata": {},
   "source": [
    "Now we need a new encoding function that uses a single vector of prototypes"
   ]
  },
  {
   "cell_type": "code",
   "execution_count": 186,
   "id": "ab3715a4",
   "metadata": {
    "ExecuteTime": {
     "end_time": "2022-08-24T23:57:46.107000+02:00",
     "start_time": "2022-08-24T21:57:46.099Z"
    }
   },
   "outputs": [
    {
     "data": {
      "text/plain": [
       "encode_fast_shared (generic function with 1 method)"
      ]
     },
     "execution_count": 186,
     "metadata": {},
     "output_type": "execute_result"
    }
   ],
   "source": [
    "function encode_fast_shared(dist, vector::Array{T}, prototypes::Array{T}) where T\n",
    "    \n",
    "    n_features = length(vector)\n",
    "    n_clusters = length(prototypes)\n",
    "    closest_prototypes = Array{Int8}(undef, n_features, 1);\n",
    "    \n",
    "    @inbounds @fastmath for (j,x) in enumerate(vector)\n",
    "        best_coordinate = 1\n",
    "        min_distance::T = typemax(T)\n",
    "        for k in 1:n_clusters\n",
    "           current_dist = dist(prototypes[k],x )\n",
    "           if current_dist < min_distance\n",
    "               best_coordinate = k\n",
    "               min_distance = current_dist\n",
    "           end\n",
    "        end            \n",
    "        closest_prototypes[j] = best_coordinate\n",
    "    end\n",
    "    return closest_prototypes\n",
    "end"
   ]
  },
  {
   "cell_type": "code",
   "execution_count": 187,
   "id": "9d52ff36",
   "metadata": {
    "ExecuteTime": {
     "end_time": "2022-08-24T23:57:50.746000+02:00",
     "start_time": "2022-08-24T21:57:47.089Z"
    }
   },
   "outputs": [
    {
     "data": {
      "text/plain": [
       "BenchmarkTools.Trial: 10000 samples with 8 evaluations.\n",
       " Range \u001b[90m(\u001b[39m\u001b[36m\u001b[1mmin\u001b[22m\u001b[39m … \u001b[35mmax\u001b[39m\u001b[90m):  \u001b[39m\u001b[36m\u001b[1m3.932 μs\u001b[22m\u001b[39m … \u001b[35m 14.147 μs\u001b[39m  \u001b[90m┊\u001b[39m GC \u001b[90m(\u001b[39mmin … max\u001b[90m): \u001b[39m0.00% … 0.00%\n",
       " Time  \u001b[90m(\u001b[39m\u001b[34m\u001b[1mmedian\u001b[22m\u001b[39m\u001b[90m):     \u001b[39m\u001b[34m\u001b[1m3.959 μs               \u001b[22m\u001b[39m\u001b[90m┊\u001b[39m GC \u001b[90m(\u001b[39mmedian\u001b[90m):    \u001b[39m0.00%\n",
       " Time  \u001b[90m(\u001b[39m\u001b[32m\u001b[1mmean\u001b[22m\u001b[39m ± \u001b[32mσ\u001b[39m\u001b[90m):   \u001b[39m\u001b[32m\u001b[1m4.058 μs\u001b[22m\u001b[39m ± \u001b[32m449.637 ns\u001b[39m  \u001b[90m┊\u001b[39m GC \u001b[90m(\u001b[39mmean ± σ\u001b[90m):  \u001b[39m0.00% ± 0.00%\n",
       "\n",
       "  \u001b[39m█\u001b[34m▆\u001b[39m\u001b[39m▄\u001b[32m \u001b[39m\u001b[39m \u001b[39m \u001b[39m \u001b[39m \u001b[39m \u001b[39m \u001b[39m \u001b[39m \u001b[39m \u001b[39m \u001b[39m \u001b[39m \u001b[39m \u001b[39m \u001b[39m \u001b[39m \u001b[39m \u001b[39m \u001b[39m \u001b[39m \u001b[39m \u001b[39m \u001b[39m \u001b[39m \u001b[39m \u001b[39m \u001b[39m \u001b[39m \u001b[39m \u001b[39m \u001b[39m \u001b[39m \u001b[39m \u001b[39m \u001b[39m \u001b[39m \u001b[39m \u001b[39m \u001b[39m \u001b[39m \u001b[39m \u001b[39m \u001b[39m \u001b[39m \u001b[39m \u001b[39m \u001b[39m \u001b[39m \u001b[39m \u001b[39m \u001b[39m \u001b[39m \u001b[39m \u001b[39m \u001b[39m \u001b[39m \u001b[39m▁\n",
       "  \u001b[39m█\u001b[34m█\u001b[39m\u001b[39m█\u001b[32m▇\u001b[39m\u001b[39m▇\u001b[39m▆\u001b[39m▇\u001b[39m▆\u001b[39m▆\u001b[39m▅\u001b[39m▅\u001b[39m▆\u001b[39m▇\u001b[39m▆\u001b[39m▄\u001b[39m▅\u001b[39m▅\u001b[39m▅\u001b[39m▇\u001b[39m▆\u001b[39m▅\u001b[39m▇\u001b[39m▆\u001b[39m▅\u001b[39m▅\u001b[39m▄\u001b[39m▃\u001b[39m▄\u001b[39m▅\u001b[39m▂\u001b[39m▄\u001b[39m▄\u001b[39m▃\u001b[39m▄\u001b[39m▄\u001b[39m▄\u001b[39m▄\u001b[39m▄\u001b[39m▄\u001b[39m▄\u001b[39m▄\u001b[39m▄\u001b[39m▃\u001b[39m▅\u001b[39m▄\u001b[39m▃\u001b[39m▅\u001b[39m▅\u001b[39m▄\u001b[39m▄\u001b[39m▄\u001b[39m▄\u001b[39m▄\u001b[39m▅\u001b[39m▂\u001b[39m▄\u001b[39m▅\u001b[39m▃\u001b[39m▄\u001b[39m \u001b[39m█\n",
       "  3.93 μs\u001b[90m      \u001b[39m\u001b[90mHistogram: \u001b[39m\u001b[90m\u001b[1mlog(\u001b[22m\u001b[39m\u001b[90mfrequency\u001b[39m\u001b[90m\u001b[1m)\u001b[22m\u001b[39m\u001b[90m by time\u001b[39m      6.63 μs \u001b[0m\u001b[1m<\u001b[22m\n",
       "\n",
       " Memory estimate\u001b[90m: \u001b[39m\u001b[33m192 bytes\u001b[39m, allocs estimate\u001b[90m: \u001b[39m\u001b[33m1\u001b[39m."
      ]
     },
     "execution_count": 187,
     "metadata": {},
     "output_type": "execute_result"
    }
   ],
   "source": [
    "@benchmark encode_fast_shared(sqeuclidean, query, P_shared)"
   ]
  },
  {
   "cell_type": "code",
   "execution_count": 208,
   "id": "472b8578",
   "metadata": {
    "ExecuteTime": {
     "end_time": "2022-08-25T00:32:26.278000+02:00",
     "start_time": "2022-08-24T22:32:26.273Z"
    }
   },
   "outputs": [
    {
     "data": {
      "text/plain": [
       "compute_ADC_shared (generic function with 1 method)"
      ]
     },
     "execution_count": 208,
     "metadata": {},
     "output_type": "execute_result"
    }
   ],
   "source": [
    "function compute_ADC_shared(query, prototypes, dist)\n",
    "    n_clusters = length(prototypes)\n",
    "    ADC_table = Array{Float32}(undef, n_clusters)\n",
    "    \n",
    "    @inbounds  for p in 1:n_clusters            \n",
    "        ADC_table[p] = dist(query[p],  prototypes[p] )\n",
    "    end\n",
    "    return  ADC_table\n",
    "end"
   ]
  },
  {
   "cell_type": "code",
   "execution_count": 216,
   "id": "c4a9af71",
   "metadata": {
    "ExecuteTime": {
     "end_time": "2022-08-25T00:41:09.880000+02:00",
     "start_time": "2022-08-24T22:41:09.875Z"
    }
   },
   "outputs": [],
   "source": [
    "query_code = encode_fast_shared(sqeuclidean, query, P_shared)\n",
    "x_code = PQcodes[:,1];\n",
    "adc_table_shared = compute_ADC_shared(query, P_shared, SEuclidean0);\n",
    "#adc_dist(query_code, x_code,  adc_table)"
   ]
  },
  {
   "cell_type": "code",
   "execution_count": 212,
   "id": "2e393cea",
   "metadata": {
    "ExecuteTime": {
     "end_time": "2022-08-25T00:32:41.144000+02:00",
     "start_time": "2022-08-24T22:32:39.054Z"
    }
   },
   "outputs": [
    {
     "data": {
      "text/plain": [
       "BenchmarkTools.Trial: 10000 samples with 985 evaluations.\n",
       " Range \u001b[90m(\u001b[39m\u001b[36m\u001b[1mmin\u001b[22m\u001b[39m … \u001b[35mmax\u001b[39m\u001b[90m):  \u001b[39m\u001b[36m\u001b[1m54.020 ns\u001b[22m\u001b[39m … \u001b[35m  2.673 μs\u001b[39m  \u001b[90m┊\u001b[39m GC \u001b[90m(\u001b[39mmin … max\u001b[90m): \u001b[39m 0.00% … 93.48%\n",
       " Time  \u001b[90m(\u001b[39m\u001b[34m\u001b[1mmedian\u001b[22m\u001b[39m\u001b[90m):     \u001b[39m\u001b[34m\u001b[1m56.176 ns               \u001b[22m\u001b[39m\u001b[90m┊\u001b[39m GC \u001b[90m(\u001b[39mmedian\u001b[90m):    \u001b[39m 0.00%\n",
       " Time  \u001b[90m(\u001b[39m\u001b[32m\u001b[1mmean\u001b[22m\u001b[39m ± \u001b[32mσ\u001b[39m\u001b[90m):   \u001b[39m\u001b[32m\u001b[1m73.164 ns\u001b[22m\u001b[39m ± \u001b[32m142.865 ns\u001b[39m  \u001b[90m┊\u001b[39m GC \u001b[90m(\u001b[39mmean ± σ\u001b[90m):  \u001b[39m11.84% ±  5.94%\n",
       "\n",
       "  \u001b[39m▇\u001b[34m█\u001b[39m\u001b[39m▅\u001b[39m▄\u001b[39m▂\u001b[39m▁\u001b[39m \u001b[39m \u001b[39m▁\u001b[39m▂\u001b[39m▂\u001b[39m \u001b[32m \u001b[39m\u001b[39m \u001b[39m \u001b[39m \u001b[39m \u001b[39m▂\u001b[39m▂\u001b[39m▁\u001b[39m \u001b[39m▃\u001b[39m▂\u001b[39m▁\u001b[39m \u001b[39m \u001b[39m \u001b[39m \u001b[39m \u001b[39m \u001b[39m \u001b[39m \u001b[39m \u001b[39m \u001b[39m \u001b[39m \u001b[39m \u001b[39m \u001b[39m▁\u001b[39m \u001b[39m \u001b[39m \u001b[39m \u001b[39m \u001b[39m \u001b[39m \u001b[39m \u001b[39m \u001b[39m \u001b[39m \u001b[39m \u001b[39m \u001b[39m \u001b[39m \u001b[39m \u001b[39m \u001b[39m \u001b[39m \u001b[39m \u001b[39m \u001b[39m \u001b[39m▁\n",
       "  \u001b[39m█\u001b[34m█\u001b[39m\u001b[39m█\u001b[39m█\u001b[39m█\u001b[39m█\u001b[39m█\u001b[39m█\u001b[39m█\u001b[39m█\u001b[39m█\u001b[39m█\u001b[32m█\u001b[39m\u001b[39m█\u001b[39m█\u001b[39m█\u001b[39m█\u001b[39m█\u001b[39m█\u001b[39m█\u001b[39m█\u001b[39m█\u001b[39m█\u001b[39m█\u001b[39m█\u001b[39m▇\u001b[39m▆\u001b[39m▇\u001b[39m▇\u001b[39m▆\u001b[39m▆\u001b[39m▆\u001b[39m▆\u001b[39m▅\u001b[39m▆\u001b[39m▆\u001b[39m▅\u001b[39m█\u001b[39m█\u001b[39m█\u001b[39m█\u001b[39m▇\u001b[39m▇\u001b[39m▆\u001b[39m▇\u001b[39m▆\u001b[39m▄\u001b[39m▅\u001b[39m▄\u001b[39m▄\u001b[39m▂\u001b[39m▅\u001b[39m▅\u001b[39m▄\u001b[39m▅\u001b[39m▅\u001b[39m▅\u001b[39m▅\u001b[39m▅\u001b[39m▅\u001b[39m \u001b[39m█\n",
       "  54 ns\u001b[90m         \u001b[39m\u001b[90mHistogram: \u001b[39m\u001b[90m\u001b[1mlog(\u001b[22m\u001b[39m\u001b[90mfrequency\u001b[39m\u001b[90m\u001b[1m)\u001b[22m\u001b[39m\u001b[90m by time\u001b[39m       146 ns \u001b[0m\u001b[1m<\u001b[22m\n",
       "\n",
       " Memory estimate\u001b[90m: \u001b[39m\u001b[33m192 bytes\u001b[39m, allocs estimate\u001b[90m: \u001b[39m\u001b[33m1\u001b[39m."
      ]
     },
     "execution_count": 212,
     "metadata": {},
     "output_type": "execute_result"
    }
   ],
   "source": [
    "@benchmark adc_table = compute_ADC_shared(query, P_shared, SEuclidean0)"
   ]
  },
  {
   "cell_type": "code",
   "execution_count": 225,
   "id": "fd4f5757",
   "metadata": {
    "ExecuteTime": {
     "end_time": "2022-08-25T00:42:15.148000+02:00",
     "start_time": "2022-08-24T22:42:15.143Z"
    }
   },
   "outputs": [
    {
     "data": {
      "text/plain": [
       "adc_dist_shared (generic function with 1 method)"
      ]
     },
     "execution_count": 225,
     "metadata": {},
     "output_type": "execute_result"
    }
   ],
   "source": [
    "function adc_dist_shared(query_code, x_code,  adc_table)\n",
    "    res = zero(eltype(adc_table))\n",
    "    @inbounds  @simd for j in eachindex(x_code)\n",
    "        res+= adc_table[x_code[j]]\n",
    "    end\n",
    "    return res\n",
    "end"
   ]
  },
  {
   "cell_type": "code",
   "execution_count": 226,
   "id": "6bad334c",
   "metadata": {
    "ExecuteTime": {
     "end_time": "2022-08-25T00:42:17.649000+02:00",
     "start_time": "2022-08-24T22:42:15.903Z"
    }
   },
   "outputs": [
    {
     "data": {
      "text/plain": [
       "BenchmarkTools.Trial: 10000 samples with 992 evaluations.\n",
       " Range \u001b[90m(\u001b[39m\u001b[36m\u001b[1mmin\u001b[22m\u001b[39m … \u001b[35mmax\u001b[39m\u001b[90m):  \u001b[39m\u001b[36m\u001b[1m38.895 ns\u001b[22m\u001b[39m … \u001b[35m167.028 ns\u001b[39m  \u001b[90m┊\u001b[39m GC \u001b[90m(\u001b[39mmin … max\u001b[90m): \u001b[39m0.00% … 0.00%\n",
       " Time  \u001b[90m(\u001b[39m\u001b[34m\u001b[1mmedian\u001b[22m\u001b[39m\u001b[90m):     \u001b[39m\u001b[34m\u001b[1m38.920 ns               \u001b[22m\u001b[39m\u001b[90m┊\u001b[39m GC \u001b[90m(\u001b[39mmedian\u001b[90m):    \u001b[39m0.00%\n",
       " Time  \u001b[90m(\u001b[39m\u001b[32m\u001b[1mmean\u001b[22m\u001b[39m ± \u001b[32mσ\u001b[39m\u001b[90m):   \u001b[39m\u001b[32m\u001b[1m39.520 ns\u001b[22m\u001b[39m ± \u001b[32m  4.430 ns\u001b[39m  \u001b[90m┊\u001b[39m GC \u001b[90m(\u001b[39mmean ± σ\u001b[90m):  \u001b[39m0.00% ± 0.00%\n",
       "\n",
       "  \u001b[34m█\u001b[39m\u001b[39m▅\u001b[32m \u001b[39m\u001b[39m \u001b[39m▁\u001b[39m \u001b[39m \u001b[39m \u001b[39m \u001b[39m \u001b[39m \u001b[39m \u001b[39m \u001b[39m \u001b[39m \u001b[39m \u001b[39m \u001b[39m \u001b[39m \u001b[39m \u001b[39m \u001b[39m \u001b[39m \u001b[39m \u001b[39m \u001b[39m \u001b[39m \u001b[39m \u001b[39m \u001b[39m \u001b[39m \u001b[39m \u001b[39m \u001b[39m \u001b[39m \u001b[39m \u001b[39m \u001b[39m \u001b[39m \u001b[39m \u001b[39m \u001b[39m \u001b[39m \u001b[39m \u001b[39m \u001b[39m \u001b[39m \u001b[39m \u001b[39m \u001b[39m \u001b[39m \u001b[39m \u001b[39m \u001b[39m \u001b[39m \u001b[39m \u001b[39m \u001b[39m \u001b[39m \u001b[39m \u001b[39m \u001b[39m▁\n",
       "  \u001b[34m█\u001b[39m\u001b[39m█\u001b[32m█\u001b[39m\u001b[39m█\u001b[39m█\u001b[39m▇\u001b[39m▇\u001b[39m▇\u001b[39m█\u001b[39m▇\u001b[39m▆\u001b[39m▆\u001b[39m▇\u001b[39m▆\u001b[39m▆\u001b[39m▆\u001b[39m▅\u001b[39m▅\u001b[39m▄\u001b[39m▅\u001b[39m▅\u001b[39m▅\u001b[39m▃\u001b[39m▅\u001b[39m▆\u001b[39m▅\u001b[39m▅\u001b[39m▅\u001b[39m▁\u001b[39m▃\u001b[39m▁\u001b[39m▁\u001b[39m▅\u001b[39m▄\u001b[39m▆\u001b[39m▆\u001b[39m▄\u001b[39m▃\u001b[39m▄\u001b[39m▃\u001b[39m▅\u001b[39m▁\u001b[39m▅\u001b[39m▁\u001b[39m▄\u001b[39m▅\u001b[39m▄\u001b[39m▃\u001b[39m▃\u001b[39m▃\u001b[39m▄\u001b[39m▁\u001b[39m▃\u001b[39m▅\u001b[39m▃\u001b[39m▁\u001b[39m▃\u001b[39m▄\u001b[39m▁\u001b[39m▄\u001b[39m \u001b[39m█\n",
       "  38.9 ns\u001b[90m       \u001b[39m\u001b[90mHistogram: \u001b[39m\u001b[90m\u001b[1mlog(\u001b[22m\u001b[39m\u001b[90mfrequency\u001b[39m\u001b[90m\u001b[1m)\u001b[22m\u001b[39m\u001b[90m by time\u001b[39m        54 ns \u001b[0m\u001b[1m<\u001b[22m\n",
       "\n",
       " Memory estimate\u001b[90m: \u001b[39m\u001b[33m0 bytes\u001b[39m, allocs estimate\u001b[90m: \u001b[39m\u001b[33m0\u001b[39m."
      ]
     },
     "execution_count": 226,
     "metadata": {},
     "output_type": "execute_result"
    }
   ],
   "source": [
    "@benchmark adc_dist_shared($query_code, $x_code,  $adc_table_shared)"
   ]
  },
  {
   "cell_type": "code",
   "execution_count": 228,
   "id": "6542fd92",
   "metadata": {
    "ExecuteTime": {
     "end_time": "2022-08-25T00:43:23.996000+02:00",
     "start_time": "2022-08-24T22:43:23.991Z"
    }
   },
   "outputs": [
    {
     "data": {
      "text/plain": [
       "128-element Vector{Int8}:\n",
       "  1\n",
       " 12\n",
       "  3\n",
       " 13\n",
       " 12\n",
       "  8\n",
       " 12\n",
       "  6\n",
       " 14\n",
       " 15\n",
       "  3\n",
       "  2\n",
       " 12\n",
       "  ⋮\n",
       " 10\n",
       "  6\n",
       " 16\n",
       " 14\n",
       " 10\n",
       "  2\n",
       "  2\n",
       "  1\n",
       "  8\n",
       " 16\n",
       " 13\n",
       "  4"
      ]
     },
     "execution_count": 228,
     "metadata": {},
     "output_type": "execute_result"
    }
   ],
   "source": [
    "x_code"
   ]
  },
  {
   "cell_type": "code",
   "execution_count": null,
   "id": "65d416d6",
   "metadata": {},
   "outputs": [],
   "source": []
  },
  {
   "cell_type": "markdown",
   "id": "ad237b8d",
   "metadata": {},
   "source": [
    "## Euclidean  Squared Distance"
   ]
  },
  {
   "cell_type": "code",
   "execution_count": null,
   "id": "33faf602",
   "metadata": {
    "ExecuteTime": {
     "end_time": "2022-08-21T22:43:50.828000+02:00",
     "start_time": "2022-08-21T20:43:40.329Z"
    }
   },
   "outputs": [],
   "source": [
    "function SEuclidean(X, query)\n",
    "    d = (query .- X) .* (query .- X)\n",
    "    return sum(d, dims=1)\n",
    "end"
   ]
  },
  {
   "cell_type": "code",
   "execution_count": null,
   "id": "724c7634",
   "metadata": {
    "ExecuteTime": {
     "end_time": "2022-08-23T00:25:06.450000+02:00",
     "start_time": "2022-08-22T22:25:06.339Z"
    }
   },
   "outputs": [],
   "source": [
    "function SEuclidean_2(X, query)\n",
    "    n_features, n_examples = size(X)\n",
    "    result = zeros(n_examples)\n",
    "    for m in 1:n_examples\n",
    "        res = zero(eltype(X))\n",
    "        for j in 1:n_features\n",
    "            aux = (query[j] .- X[j,m])\n",
    "            res += aux * aux\n",
    "        end\n",
    "        result[m] = res\n",
    "    end\n",
    "    return result\n",
    "end"
   ]
  },
  {
   "cell_type": "code",
   "execution_count": null,
   "id": "37ccaf60",
   "metadata": {
    "ExecuteTime": {
     "end_time": "2022-08-21T22:43:50.982000+02:00",
     "start_time": "2022-08-21T20:43:40.334Z"
    }
   },
   "outputs": [],
   "source": [
    "query = X_te_vecs[:,1];"
   ]
  },
  {
   "cell_type": "code",
   "execution_count": null,
   "id": "63c38b24",
   "metadata": {
    "ExecuteTime": {
     "end_time": "2022-08-21T22:44:07.309000+02:00",
     "start_time": "2022-08-21T20:43:40.337Z"
    }
   },
   "outputs": [],
   "source": [
    "@benchmark SEuclidean(X_te_vecs, query)"
   ]
  },
  {
   "cell_type": "code",
   "execution_count": null,
   "id": "48e06d68",
   "metadata": {
    "ExecuteTime": {
     "end_time": "2022-08-21T22:44:18.676000+02:00",
     "start_time": "2022-08-21T20:43:40.340Z"
    }
   },
   "outputs": [],
   "source": [
    "@benchmark SEuclidean_2(X_te_vecs, query)"
   ]
  },
  {
   "cell_type": "code",
   "execution_count": null,
   "id": "393ca973",
   "metadata": {
    "ExecuteTime": {
     "end_time": "2022-08-21T22:44:33.330000+02:00",
     "start_time": "2022-08-21T20:43:40.342Z"
    }
   },
   "outputs": [],
   "source": [
    "@benchmark SEuclidean(X_tr_vecs, query)"
   ]
  },
  {
   "cell_type": "code",
   "execution_count": null,
   "id": "162cc947",
   "metadata": {
    "ExecuteTime": {
     "end_time": "2022-08-21T22:44:45.423000+02:00",
     "start_time": "2022-08-21T20:43:40.344Z"
    }
   },
   "outputs": [],
   "source": [
    "@benchmark SEuclidean_2(X_tr_vecs, query)"
   ]
  },
  {
   "cell_type": "markdown",
   "id": "25eab1bd",
   "metadata": {},
   "source": [
    "## Finding top k distances (and their ids)\n",
    "\n",
    "\n",
    "The first naive thing we can do consist on computing all distances and then sorting them to get the top k closest vectors to the query vector"
   ]
  },
  {
   "cell_type": "code",
   "execution_count": null,
   "id": "35aa29a0",
   "metadata": {
    "ExecuteTime": {
     "end_time": "2022-08-21T22:44:45.530000+02:00",
     "start_time": "2022-08-21T20:43:40.347Z"
    }
   },
   "outputs": [],
   "source": [
    "function top_k_ids(X, query)\n",
    "    distances = SEuclidean_2(X, query)\n",
    "    top_k_indices = sortperm(distances)\n",
    "    return top_k_indices\n",
    "end"
   ]
  },
  {
   "cell_type": "code",
   "execution_count": null,
   "id": "419fe8f4",
   "metadata": {
    "ExecuteTime": {
     "end_time": "2022-08-21T22:44:56.949000+02:00",
     "start_time": "2022-08-21T20:43:40.350Z"
    }
   },
   "outputs": [],
   "source": [
    "@benchmark top_k_ids(X_te_vecs, query)[1:10]"
   ]
  },
  {
   "cell_type": "markdown",
   "id": "52713791",
   "metadata": {},
   "source": [
    "A slightly better approach consist on using `partialsortperm` to simply sort a subset of the distances vector."
   ]
  },
  {
   "cell_type": "code",
   "execution_count": null,
   "id": "dc886ca6",
   "metadata": {
    "ExecuteTime": {
     "end_time": "2022-08-21T22:44:57.064000+02:00",
     "start_time": "2022-08-21T20:43:40.354Z"
    },
    "scrolled": true
   },
   "outputs": [],
   "source": [
    "function top_k_ids_2(X, query, k)\n",
    "    distances = SEuclidean_2(X, query)\n",
    "    top_k_indices = partialsortperm(distances, 1:k)\n",
    "    return top_k_indices\n",
    "end"
   ]
  },
  {
   "cell_type": "code",
   "execution_count": null,
   "id": "af71f04b",
   "metadata": {
    "ExecuteTime": {
     "end_time": "2022-08-21T22:45:09.155000+02:00",
     "start_time": "2022-08-21T20:43:40.356Z"
    },
    "scrolled": true
   },
   "outputs": [],
   "source": [
    "@benchmark top_k_ids_2(X_te_vecs, query, 10)"
   ]
  },
  {
   "cell_type": "markdown",
   "id": "4ad73a18",
   "metadata": {},
   "source": [
    "### Storing top k distances in a priority queue\n",
    "\n",
    "A better alternative consists on using a priority queue. This. queue will keep only k distances in memory (no need to store all distances between the query point and all possible candidates)."
   ]
  },
  {
   "cell_type": "code",
   "execution_count": null,
   "id": "22936250",
   "metadata": {
    "ExecuteTime": {
     "end_time": "2022-08-21T22:45:10.625000+02:00",
     "start_time": "2022-08-21T20:43:40.359Z"
    }
   },
   "outputs": [],
   "source": [
    "sort!([1,54,3,24,10])"
   ]
  },
  {
   "cell_type": "code",
   "execution_count": null,
   "id": "2ddd66a9",
   "metadata": {
    "ExecuteTime": {
     "end_time": "2022-08-21T22:45:10.628000+02:00",
     "start_time": "2022-08-21T20:43:40.361Z"
    }
   },
   "outputs": [],
   "source": [
    "a = [1,2,3,4,5]"
   ]
  },
  {
   "cell_type": "code",
   "execution_count": null,
   "id": "55e6429d",
   "metadata": {
    "ExecuteTime": {
     "end_time": "2022-08-21T22:45:10.736000+02:00",
     "start_time": "2022-08-21T20:43:40.363Z"
    }
   },
   "outputs": [],
   "source": [
    "function SEuclidean_3(X, query, top_k)\n",
    "    result = sort(SEuclidean_2(X[:, 1:top_k], query))\n",
    "    n_features, n_examples = size(X)\n",
    "    \n",
    "    for m in top_k:n_examples\n",
    "        res = zero(eltype(X))\n",
    "        for j in 1:n_features\n",
    "            aux = (query[j] .- X[j,m])\n",
    "            res += aux * aux\n",
    "        end\n",
    "        dist = res/n_features\n",
    "        \n",
    "        # see if current mse is in the top pile\n",
    "        if dist < result[end]\n",
    "            j = top_k \n",
    "            #revisamos la lista resultado de izq a derecha\n",
    "            while dist < result[j-1]\n",
    "                j = j-1\n",
    "                if j == 1\n",
    "                    break\n",
    "                end\n",
    "            end\n",
    "            \n",
    "            result[j+1:end] .= result[j:end-1]\n",
    "            result[j] = dist\n",
    "         end\n",
    "\n",
    "    end\n",
    "    return result\n",
    "end"
   ]
  },
  {
   "cell_type": "code",
   "execution_count": null,
   "id": "e7e04d31",
   "metadata": {
    "ExecuteTime": {
     "end_time": "2022-08-21T22:45:22.967000+02:00",
     "start_time": "2022-08-21T20:43:40.365Z"
    }
   },
   "outputs": [],
   "source": [
    "@benchmark SEuclidean_3(X_tr_vecs, query, 10) "
   ]
  },
  {
   "cell_type": "code",
   "execution_count": null,
   "id": "7d8bf421",
   "metadata": {
    "ExecuteTime": {
     "end_time": "2022-08-21T22:45:35.596000+02:00",
     "start_time": "2022-08-21T20:43:40.368Z"
    }
   },
   "outputs": [],
   "source": [
    "@benchmark top_k_ids_2(X_tr_vecs, query, 10)"
   ]
  },
  {
   "cell_type": "code",
   "execution_count": null,
   "id": "e9af1fba",
   "metadata": {
    "ExecuteTime": {
     "end_time": "2022-08-21T22:45:35.709000+02:00",
     "start_time": "2022-08-21T20:43:40.372Z"
    }
   },
   "outputs": [],
   "source": [
    "function SEuclidean_4(X, query, top_k)\n",
    "    \n",
    "    result = sort(SEuclidean_2(X[:, 1:top_k], query))\n",
    "    n_features, n_examples = size(X)\n",
    "    \n",
    "    @inbounds @fastmath for m in top_k:n_examples\n",
    "        res = zero(eltype(X))\n",
    "        @simd for j in 1:n_features\n",
    "            aux = (query[j] .- X[j,m])\n",
    "            res += aux * aux\n",
    "        end\n",
    "        dist = res\n",
    "        \n",
    "        # see if current mse is in the top pile\n",
    "        if dist < result[end]\n",
    "            j = top_k \n",
    "            #revisamos la lista resultado de izq a derecha\n",
    "            while dist < result[j-1]\n",
    "                j = j-1\n",
    "                if j == 1\n",
    "                    break\n",
    "                end\n",
    "            end            \n",
    "            result[j+1:end] .= result[j:end-1]\n",
    "            result[j] = dist\n",
    "         end\n",
    "    end\n",
    "    return result\n",
    "end\n"
   ]
  },
  {
   "cell_type": "code",
   "execution_count": null,
   "id": "d7244a94",
   "metadata": {
    "ExecuteTime": {
     "end_time": "2022-08-21T22:45:47.475000+02:00",
     "start_time": "2022-08-21T20:43:40.374Z"
    }
   },
   "outputs": [],
   "source": [
    "@benchmark SEuclidean_4(X_tr_vecs, query, 10) "
   ]
  },
  {
   "cell_type": "code",
   "execution_count": null,
   "id": "fc0fa386",
   "metadata": {
    "ExecuteTime": {
     "end_time": "2022-08-21T22:45:58.767000+02:00",
     "start_time": "2022-08-21T20:43:40.376Z"
    }
   },
   "outputs": [],
   "source": [
    "X_tr_200k = X_tr_vecs[:,1:200_000]\n",
    "@benchmark SEuclidean_4(X_tr_200k, query, 10) "
   ]
  },
  {
   "cell_type": "code",
   "execution_count": null,
   "id": "e1a8902b",
   "metadata": {
    "ExecuteTime": {
     "end_time": "2022-08-21T22:45:59.322000+02:00",
     "start_time": "2022-08-21T20:43:40.378Z"
    },
    "scrolled": true
   },
   "outputs": [],
   "source": [
    "SEuclidean_4(X_tr_vecs, query, 10)"
   ]
  },
  {
   "cell_type": "code",
   "execution_count": null,
   "id": "e0309ffe",
   "metadata": {
    "ExecuteTime": {
     "end_time": "2022-08-21T22:46:05.344000+02:00",
     "start_time": "2022-08-21T20:43:40.381Z"
    },
    "scrolled": true
   },
   "outputs": [],
   "source": [
    "function SEuclidean_5(X, query, top_k)\n",
    "    \n",
    "    result = sort(SEuclidean_2(X[:, 1:top_k], query))\n",
    "    n_features, n_examples = size(X)\n",
    "    \n",
    "    for m in top_k:n_examples\n",
    "        res = zero(eltype(X))\n",
    "        @turbo  for j in 1:n_features\n",
    "            aux = (query[j] - X[j,m])\n",
    "            res += aux * aux\n",
    "        end\n",
    "        dist = res\n",
    "        \n",
    "        # see if current mse is in the top pile\n",
    "        if dist < result[end]\n",
    "            j = top_k \n",
    "            #revisamos la lista resultado de izq a derecha\n",
    "            while dist < result[j-1]\n",
    "                j = j-1\n",
    "                if j == 1\n",
    "                    break\n",
    "                end\n",
    "            end            \n",
    "            result[j+1:end] .= result[j:end-1]\n",
    "            result[j] = dist\n",
    "         end\n",
    "    end\n",
    "    return result\n",
    "end"
   ]
  },
  {
   "cell_type": "code",
   "execution_count": null,
   "id": "46172a52",
   "metadata": {
    "ExecuteTime": {
     "end_time": "2022-08-21T22:46:29.789000+02:00",
     "start_time": "2022-08-21T20:43:40.383Z"
    },
    "scrolled": true
   },
   "outputs": [],
   "source": [
    "@benchmark SEuclidean_5(X_tr_200k, query, 10) "
   ]
  },
  {
   "cell_type": "markdown",
   "id": "bad1d4a7",
   "metadata": {},
   "source": [
    "# Comparison with Distances.jl\n",
    "\n",
    "\n",
    "Distances.jl provides the method 'pairwise' to compute pairwise distances between two matrices."
   ]
  },
  {
   "cell_type": "code",
   "execution_count": null,
   "id": "7b260685",
   "metadata": {
    "ExecuteTime": {
     "end_time": "2022-08-21T22:46:29.822000+02:00",
     "start_time": "2022-08-21T20:43:40.387Z"
    },
    "scrolled": true
   },
   "outputs": [],
   "source": [
    "@show typeof(query)\n",
    "@show size(query)\n",
    "@show typeof(X_tr_vecs)\n",
    "@show size(X_tr_vecs)"
   ]
  },
  {
   "cell_type": "code",
   "execution_count": null,
   "id": "3f89e423",
   "metadata": {
    "ExecuteTime": {
     "end_time": "2022-08-21T22:46:30.937000+02:00",
     "start_time": "2022-08-21T20:43:40.389Z"
    }
   },
   "outputs": [],
   "source": [
    "v1 = [1,2,3]\n",
    "v2 = [0,0,1]\n",
    "\n",
    "y = [0,0,2]\n",
    "X = [v1 v2]"
   ]
  },
  {
   "cell_type": "code",
   "execution_count": null,
   "id": "f3a85adc",
   "metadata": {
    "ExecuteTime": {
     "end_time": "2022-08-21T22:46:30.946000+02:00",
     "start_time": "2022-08-21T20:43:40.391Z"
    }
   },
   "outputs": [],
   "source": [
    "function SEuclidean_5(X, query, top_k)\n",
    "    \n",
    "    result = sort(SEuclidean_5(X[:, 1:top_k], query))\n",
    "    n_features, n_examples = size(X)\n",
    "    \n",
    "    for m in top_k:n_examples\n",
    "        dist = zero(eltype(X))\n",
    "        @turbo  for j in 1:n_features\n",
    "            dist = (query[j] - X[j,m])\n",
    "            dist += aux * aux\n",
    "        end\n",
    "        \n",
    "        # see if current mse is in the top pile\n",
    "        if dist < result[end]\n",
    "            j = top_k \n",
    "            #revisamos la lista resultado de izq a derecha\n",
    "            while dist < result[j-1]\n",
    "                j = j-1\n",
    "                if j == 1\n",
    "                    break\n",
    "                end\n",
    "            end            \n",
    "            result[j+1:end] .= result[j:end-1]\n",
    "            result[j] = dist\n",
    "         end\n",
    "    end\n",
    "    return result\n",
    "end"
   ]
  },
  {
   "cell_type": "code",
   "execution_count": null,
   "id": "fb6acc9f",
   "metadata": {
    "ExecuteTime": {
     "end_time": "2022-08-21T22:46:30.950000+02:00",
     "start_time": "2022-08-21T20:43:40.393Z"
    }
   },
   "outputs": [],
   "source": [
    "function SEuclidean_2(X, query)\n",
    "    n_features, n_examples = size(X)\n",
    "    result = zeros(eltype(X), n_examples)\n",
    "    for m in 1:n_examples\n",
    "        res = zero(eltype(X))\n",
    "        for j in 1:n_features\n",
    "            aux = (query[j] .- X[j,m])\n",
    "            res += aux * aux\n",
    "        end\n",
    "        result[m] = res\n",
    "    end\n",
    "    return result\n",
    "end"
   ]
  },
  {
   "cell_type": "code",
   "execution_count": null,
   "id": "430436b6",
   "metadata": {
    "ExecuteTime": {
     "end_time": "2022-08-23T23:24:45.697000+02:00",
     "start_time": "2022-08-23T21:24:45.677Z"
    }
   },
   "outputs": [],
   "source": [
    "y_colvec = [y y][:,[1]]\n",
    "query_mat = [query query][:,[1]];"
   ]
  },
  {
   "cell_type": "code",
   "execution_count": null,
   "id": "3d6f4686",
   "metadata": {
    "ExecuteTime": {
     "end_time": "2022-08-21T22:46:31.146000+02:00",
     "start_time": "2022-08-21T20:43:40.397Z"
    }
   },
   "outputs": [],
   "source": [
    "SEuclidean_2(X, y)"
   ]
  },
  {
   "cell_type": "code",
   "execution_count": null,
   "id": "6a8f17f8",
   "metadata": {
    "ExecuteTime": {
     "end_time": "2022-08-21T22:46:32.220000+02:00",
     "start_time": "2022-08-21T20:43:40.399Z"
    }
   },
   "outputs": [],
   "source": [
    "pairwise(SqEuclidean(), y_colvec, X)"
   ]
  },
  {
   "cell_type": "code",
   "execution_count": null,
   "id": "f83dc2f1",
   "metadata": {
    "ExecuteTime": {
     "end_time": "2022-08-21T22:46:48.093000+02:00",
     "start_time": "2022-08-21T20:43:40.406Z"
    }
   },
   "outputs": [],
   "source": [
    "@benchmark pairwise(SqEuclidean(), query_mat, X_tr_vecs)"
   ]
  },
  {
   "cell_type": "code",
   "execution_count": null,
   "id": "676611a3",
   "metadata": {
    "ExecuteTime": {
     "end_time": "2022-08-21T22:47:00.160000+02:00",
     "start_time": "2022-08-21T20:43:40.408Z"
    }
   },
   "outputs": [],
   "source": [
    "@benchmark SEuclidean_2(X_tr_vecs, query)"
   ]
  },
  {
   "cell_type": "code",
   "execution_count": null,
   "id": "944731d5",
   "metadata": {
    "ExecuteTime": {
     "end_time": "2022-08-21T22:47:12.235000+02:00",
     "start_time": "2022-08-21T20:43:40.410Z"
    },
    "scrolled": true
   },
   "outputs": [],
   "source": [
    "@benchmark SEuclidean_4(X_tr_vecs, query, 10)"
   ]
  },
  {
   "cell_type": "markdown",
   "id": "887de048",
   "metadata": {},
   "source": [
    "We can verify that the sorted distances by `SEuclidean_4` are the same as the results provided with `pairwise` from `Distances.jl`"
   ]
  },
  {
   "cell_type": "code",
   "execution_count": null,
   "id": "a5ebdbeb",
   "metadata": {
    "ExecuteTime": {
     "end_time": "2022-08-21T22:47:12.965000+02:00",
     "start_time": "2022-08-21T20:43:40.412Z"
    }
   },
   "outputs": [],
   "source": [
    "res2 = SEuclidean_4(X_tr_vecs, query, 10);\n",
    "res = pairwise(SqEuclidean(), query_mat, X_tr_vecs)\n",
    "res = sort(res, dims=2)[1:10]\n",
    "res == res2"
   ]
  },
  {
   "cell_type": "markdown",
   "id": "844364e0",
   "metadata": {
    "ExecuteTime": {
     "end_time": "2022-08-21T22:20:19.731000+02:00",
     "start_time": "2022-08-21T20:20:19.269Z"
    }
   },
   "source": [
    "## Parallel implementation"
   ]
  },
  {
   "cell_type": "code",
   "execution_count": null,
   "id": "30d1267b",
   "metadata": {},
   "outputs": [],
   "source": []
  },
  {
   "cell_type": "code",
   "execution_count": null,
   "id": "2ec67e5c",
   "metadata": {},
   "outputs": [],
   "source": []
  },
  {
   "cell_type": "code",
   "execution_count": null,
   "id": "7af757b8",
   "metadata": {},
   "outputs": [],
   "source": []
  },
  {
   "cell_type": "markdown",
   "id": "8bd05788",
   "metadata": {},
   "source": [
    "# SIMD tests"
   ]
  },
  {
   "cell_type": "code",
   "execution_count": null,
   "id": "2cd82b22",
   "metadata": {
    "ExecuteTime": {
     "end_time": "2022-08-21T22:47:13.063000+02:00",
     "start_time": "2022-08-21T20:43:40.419Z"
    }
   },
   "outputs": [],
   "source": [
    "\n",
    "function find_val_in_array_simd(x::Array{T}, val::T) where {T}\n",
    "    n_simd = 64\n",
    "    last_pos_simd_chunk = length(x)-n_simd\n",
    "    @inbounds for i in 1:n_simd:last_pos_simd_chunk\n",
    "        vec_i = vload(Vec{n_simd, T}, x, i)\n",
    "        sum_equality = sum(vec_i == val)\n",
    "        if sum_equality >0\n",
    "            return true\n",
    "        end\n",
    "    end\n",
    "\n",
    "    @inbounds for i in last_pos_simd_chunk:length(x)\n",
    "        if x[i] == val\n",
    "            return true\n",
    "        end\n",
    "    end\n",
    "\n",
    "    return false\n",
    "end"
   ]
  },
  {
   "cell_type": "code",
   "execution_count": null,
   "id": "35ecee2b",
   "metadata": {
    "ExecuteTime": {
     "end_time": "2022-08-21T22:47:13.183000+02:00",
     "start_time": "2022-08-21T20:43:40.422Z"
    }
   },
   "outputs": [],
   "source": [
    "function jdotavx(a, b)\n",
    "    s = zero(eltype(a))\n",
    "    @turbo for i ∈ eachindex(a, b)\n",
    "        s += a[i] * b[i]\n",
    "    end\n",
    "    s\n",
    "end"
   ]
  },
  {
   "cell_type": "code",
   "execution_count": null,
   "id": "b53ce65a",
   "metadata": {},
   "outputs": [],
   "source": []
  }
 ],
 "metadata": {
  "kernelspec": {
   "display_name": "Julia 1.8.0",
   "language": "julia",
   "name": "julia-1.8"
  },
  "language_info": {
   "file_extension": ".jl",
   "mimetype": "application/julia",
   "name": "julia",
   "version": "1.8.0"
  },
  "toc": {
   "base_numbering": 1,
   "nav_menu": {},
   "number_sections": true,
   "sideBar": true,
   "skip_h1_title": false,
   "title_cell": "Table of Contents",
   "title_sidebar": "Contents",
   "toc_cell": false,
   "toc_position": {},
   "toc_section_display": true,
   "toc_window_display": false
  }
 },
 "nbformat": 4,
 "nbformat_minor": 5
}
