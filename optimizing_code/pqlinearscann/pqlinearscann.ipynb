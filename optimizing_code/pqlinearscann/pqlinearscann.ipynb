{
 "cells": [
  {
   "cell_type": "markdown",
   "id": "7c2e3113",
   "metadata": {},
   "source": [
    "# Read SIFT 1 million "
   ]
  },
  {
   "cell_type": "code",
   "execution_count": 1,
   "id": "88c8c554",
   "metadata": {
    "ExecuteTime": {
     "end_time": "2022-08-24T22:41:22.091000+02:00",
     "start_time": "2022-08-24T20:41:11.745Z"
    }
   },
   "outputs": [],
   "source": [
    "using HDF5\n",
    "using BenchmarkTools\n",
    "using Distances\n",
    "using LoopVectorization\n",
    "using SIMD\n",
    "using Clustering\n",
    "using ProgressMeter\n",
    "using StaticArrays"
   ]
  },
  {
   "cell_type": "code",
   "execution_count": 2,
   "id": "5c8425bb",
   "metadata": {
    "ExecuteTime": {
     "end_time": "2022-08-24T22:41:22.093000+02:00",
     "start_time": "2022-08-24T20:41:12.280Z"
    }
   },
   "outputs": [
    {
     "data": {
      "text/plain": [
       "\"Apple M1 Pro\""
      ]
     },
     "execution_count": 2,
     "metadata": {},
     "output_type": "execute_result"
    }
   ],
   "source": [
    "Sys.cpu_info()[1].model"
   ]
  },
  {
   "cell_type": "code",
   "execution_count": 3,
   "id": "cece13ba",
   "metadata": {
    "ExecuteTime": {
     "end_time": "2022-08-24T22:41:22.095000+02:00",
     "start_time": "2022-08-24T20:41:12.608Z"
    }
   },
   "outputs": [
    {
     "data": {
      "text/plain": [
       "\"/Users/dbuchaca/Datasets/SIFT1M/sift-128-euclidean.hdf5\""
      ]
     },
     "execution_count": 3,
     "metadata": {},
     "output_type": "execute_result"
    }
   ],
   "source": [
    "path = joinpath(homedir(), \"Datasets\", \"SIFT1M\",\n",
    "                \"sift-128-euclidean.hdf5\")"
   ]
  },
  {
   "cell_type": "code",
   "execution_count": 4,
   "id": "1cfb292b",
   "metadata": {
    "ExecuteTime": {
     "end_time": "2022-08-24T22:41:22.098000+02:00",
     "start_time": "2022-08-24T20:41:12.862Z"
    }
   },
   "outputs": [
    {
     "data": {
      "text/plain": [
       "🗂️ HDF5.File: (read-only) /Users/dbuchaca/Datasets/SIFT1M/sift-128-euclidean.hdf5\n",
       "├─ 🏷️ distance\n",
       "├─ 🔢 distances\n",
       "├─ 🔢 neighbors\n",
       "├─ 🔢 test\n",
       "└─ 🔢 train"
      ]
     },
     "execution_count": 4,
     "metadata": {},
     "output_type": "execute_result"
    }
   ],
   "source": [
    "f = h5open(path, \"r\")"
   ]
  },
  {
   "cell_type": "code",
   "execution_count": 5,
   "id": "c1e88b49",
   "metadata": {
    "ExecuteTime": {
     "end_time": "2022-08-24T22:41:23.011000+02:00",
     "start_time": "2022-08-24T20:41:13.153Z"
    },
    "scrolled": true
   },
   "outputs": [
    {
     "name": "stdout",
     "output_type": "stream",
     "text": [
      "size(X_tr_vecs) = (128, 1000000)\n",
      "size(X_te_vecs) = (128, 10000)\n",
      "size(neighbors) = (100, 10000)\n",
      "size(distances) = (100, 10000)\n"
     ]
    },
    {
     "data": {
      "text/plain": [
       "(100, 10000)"
      ]
     },
     "execution_count": 5,
     "metadata": {},
     "output_type": "execute_result"
    }
   ],
   "source": [
    "X_tr_vecs = read(f[\"train\"])\n",
    "X_te_vecs = read(f[\"test\"]);\n",
    "neighbors = read(f[\"neighbors\"])\n",
    "distances = read(f[\"distances\"])\n",
    "\n",
    "@show size(X_tr_vecs)\n",
    "@show size(X_te_vecs)\n",
    "@show size(neighbors)\n",
    "@show size(distances)"
   ]
  },
  {
   "cell_type": "markdown",
   "id": "0c076291",
   "metadata": {},
   "source": [
    "## Clustering.jl\n",
    "\n",
    "Create the pqcodes for the training points"
   ]
  },
  {
   "cell_type": "code",
   "execution_count": 6,
   "id": "dd3d08ab",
   "metadata": {
    "ExecuteTime": {
     "end_time": "2022-08-24T22:41:23.014000+02:00",
     "start_time": "2022-08-24T20:41:13.933Z"
    }
   },
   "outputs": [
    {
     "data": {
      "text/plain": [
       "128"
      ]
     },
     "execution_count": 6,
     "metadata": {},
     "output_type": "execute_result"
    }
   ],
   "source": [
    "n_features = size(X_tr_vecs,1)\n",
    "n_features"
   ]
  },
  {
   "cell_type": "code",
   "execution_count": 7,
   "id": "faad9ea3",
   "metadata": {
    "ExecuteTime": {
     "end_time": "2022-08-24T22:41:24.763000+02:00",
     "start_time": "2022-08-24T20:41:15.029Z"
    }
   },
   "outputs": [
    {
     "data": {
      "text/plain": [
       "213-element Vector{Float32}:\n",
       "   0.0\n",
       "   1.0\n",
       "   2.0\n",
       "   3.0\n",
       "   4.0\n",
       "   5.0\n",
       "   6.0\n",
       "   7.0\n",
       "   8.0\n",
       "   9.0\n",
       "  10.0\n",
       "  11.0\n",
       "  12.0\n",
       "   ⋮\n",
       " 202.0\n",
       " 204.0\n",
       " 205.0\n",
       " 206.0\n",
       " 207.0\n",
       " 208.0\n",
       " 210.0\n",
       " 211.0\n",
       " 212.0\n",
       " 214.0\n",
       " 216.0\n",
       " 218.0"
      ]
     },
     "execution_count": 7,
     "metadata": {},
     "output_type": "execute_result"
    }
   ],
   "source": [
    "unique_values = sort(unique(X_tr_vecs))"
   ]
  },
  {
   "cell_type": "code",
   "execution_count": 8,
   "id": "fd39c3dc",
   "metadata": {
    "ExecuteTime": {
     "end_time": "2022-08-24T22:44:02.089000+02:00",
     "start_time": "2022-08-24T20:41:15.607Z"
    }
   },
   "outputs": [
    {
     "name": "stderr",
     "output_type": "stream",
     "text": [
      "\u001b[32mProgress: 100%|█████████████████████████████████████████| Time: 0:01:32\u001b[39m\n"
     ]
    }
   ],
   "source": [
    "n_clusters = 16\n",
    "R_per_feature = []\n",
    "@showprogress for j in  1:n_features\n",
    "    R = kmeans(X_tr_vecs[[j],:], n_clusters; maxiter=200)\n",
    "    push!(R_per_feature, R)\n",
    "end"
   ]
  },
  {
   "cell_type": "code",
   "execution_count": 9,
   "id": "369efb23",
   "metadata": {
    "ExecuteTime": {
     "end_time": "2022-08-24T22:44:03.076000+02:00",
     "start_time": "2022-08-24T20:43:48.655Z"
    },
    "scrolled": true
   },
   "outputs": [
    {
     "name": "stdout",
     "output_type": "stream",
     "text": [
      "Float32[99.267654, 5.2500305, 47.840622, 88.36083, 28.804195, 38.28978, 123.6862, 0.49666122, 12.244287, 111.930756, 20.320831, 64.371445, 79.39354, 136.85092, 56.391323, 71.9072]\n",
      "(16, 128)\n"
     ]
    }
   ],
   "source": [
    "P = hcat([r.centers[:] for r in R_per_feature]...);\n",
    "println(P[:,1])\n",
    "println(size(P))"
   ]
  },
  {
   "cell_type": "code",
   "execution_count": 10,
   "id": "09b3d2b6",
   "metadata": {
    "ExecuteTime": {
     "end_time": "2022-08-24T22:44:30.298000+02:00",
     "start_time": "2022-08-24T20:44:30.143Z"
    }
   },
   "outputs": [
    {
     "name": "stdout",
     "output_type": "stream",
     "text": [
      "Float32[99.267654, 5.2500305, 47.840622, 88.36083, 28.804195, 38.28978, 123.6862, 0.49666122, 12.244287, 111.930756, 20.320831, 64.371445, 79.39354, 136.85092, 56.391323, 71.9072]\n",
      "(16, 128)\n"
     ]
    }
   ],
   "source": [
    "P = hcat([r.centers[:] for r in R_per_feature]...);\n",
    "println(P[:,1])\n",
    "println(size(P))"
   ]
  },
  {
   "cell_type": "code",
   "execution_count": 11,
   "id": "30f62137",
   "metadata": {
    "ExecuteTime": {
     "end_time": "2022-08-24T22:44:45.286000+02:00",
     "start_time": "2022-08-24T20:44:32.608Z"
    }
   },
   "outputs": [
    {
     "data": {
      "text/plain": [
       "BenchmarkTools.Trial: 10000 samples with 1 evaluation.\n",
       " Range \u001b[90m(\u001b[39m\u001b[36m\u001b[1mmin\u001b[22m\u001b[39m … \u001b[35mmax\u001b[39m\u001b[90m):  \u001b[39m\u001b[36m\u001b[1m11.625 μs\u001b[22m\u001b[39m … \u001b[35m43.334 μs\u001b[39m  \u001b[90m┊\u001b[39m GC \u001b[90m(\u001b[39mmin … max\u001b[90m): \u001b[39m0.00% … 0.00%\n",
       " Time  \u001b[90m(\u001b[39m\u001b[34m\u001b[1mmedian\u001b[22m\u001b[39m\u001b[90m):     \u001b[39m\u001b[34m\u001b[1m12.916 μs              \u001b[22m\u001b[39m\u001b[90m┊\u001b[39m GC \u001b[90m(\u001b[39mmedian\u001b[90m):    \u001b[39m0.00%\n",
       " Time  \u001b[90m(\u001b[39m\u001b[32m\u001b[1mmean\u001b[22m\u001b[39m ± \u001b[32mσ\u001b[39m\u001b[90m):   \u001b[39m\u001b[32m\u001b[1m13.280 μs\u001b[22m\u001b[39m ± \u001b[32m 1.536 μs\u001b[39m  \u001b[90m┊\u001b[39m GC \u001b[90m(\u001b[39mmean ± σ\u001b[90m):  \u001b[39m0.00% ± 0.00%\n",
       "\n",
       "  \u001b[39m \u001b[39m \u001b[39m \u001b[39m \u001b[39m▇\u001b[39m█\u001b[39m▁\u001b[39m \u001b[39m▂\u001b[39m█\u001b[34m▆\u001b[39m\u001b[39m▁\u001b[39m \u001b[32m \u001b[39m\u001b[39m \u001b[39m \u001b[39m \u001b[39m \u001b[39m \u001b[39m \u001b[39m \u001b[39m \u001b[39m \u001b[39m \u001b[39m \u001b[39m \u001b[39m \u001b[39m \u001b[39m \u001b[39m \u001b[39m \u001b[39m \u001b[39m \u001b[39m \u001b[39m \u001b[39m \u001b[39m \u001b[39m \u001b[39m \u001b[39m \u001b[39m \u001b[39m \u001b[39m \u001b[39m \u001b[39m \u001b[39m \u001b[39m \u001b[39m \u001b[39m \u001b[39m \u001b[39m \u001b[39m \u001b[39m \u001b[39m \u001b[39m \u001b[39m \u001b[39m \u001b[39m \u001b[39m \u001b[39m \u001b[39m \n",
       "  \u001b[39m▂\u001b[39m▂\u001b[39m▂\u001b[39m▅\u001b[39m█\u001b[39m█\u001b[39m█\u001b[39m▆\u001b[39m█\u001b[39m█\u001b[34m█\u001b[39m\u001b[39m█\u001b[39m▇\u001b[32m▆\u001b[39m\u001b[39m▆\u001b[39m▆\u001b[39m▆\u001b[39m▅\u001b[39m▅\u001b[39m▃\u001b[39m▃\u001b[39m▃\u001b[39m▃\u001b[39m▃\u001b[39m▃\u001b[39m▃\u001b[39m▃\u001b[39m▃\u001b[39m▃\u001b[39m▃\u001b[39m▃\u001b[39m▂\u001b[39m▃\u001b[39m▃\u001b[39m▂\u001b[39m▂\u001b[39m▂\u001b[39m▂\u001b[39m▂\u001b[39m▂\u001b[39m▂\u001b[39m▂\u001b[39m▂\u001b[39m▂\u001b[39m▂\u001b[39m▂\u001b[39m▂\u001b[39m▂\u001b[39m▂\u001b[39m▂\u001b[39m▂\u001b[39m▂\u001b[39m▂\u001b[39m▂\u001b[39m▂\u001b[39m▁\u001b[39m▂\u001b[39m▂\u001b[39m▂\u001b[39m \u001b[39m▃\n",
       "  11.6 μs\u001b[90m         Histogram: frequency by time\u001b[39m          19 μs \u001b[0m\u001b[1m<\u001b[22m\n",
       "\n",
       " Memory estimate\u001b[90m: \u001b[39m\u001b[33m28.47 KiB\u001b[39m, allocs estimate\u001b[90m: \u001b[39m\u001b[33m137\u001b[39m."
      ]
     },
     "execution_count": 11,
     "metadata": {},
     "output_type": "execute_result"
    }
   ],
   "source": [
    "@benchmark P = hcat([r.centers[:] for r in R_per_feature]...)"
   ]
  },
  {
   "cell_type": "markdown",
   "id": "7c259328",
   "metadata": {},
   "source": [
    "Another way to construct the matrix would be"
   ]
  },
  {
   "cell_type": "code",
   "execution_count": 12,
   "id": "2d1b602a",
   "metadata": {
    "ExecuteTime": {
     "end_time": "2022-08-24T22:44:45.564000+02:00",
     "start_time": "2022-08-24T20:44:33.315Z"
    }
   },
   "outputs": [
    {
     "data": {
      "text/plain": [
       "build_prototype_matrix (generic function with 1 method)"
      ]
     },
     "execution_count": 12,
     "metadata": {},
     "output_type": "execute_result"
    }
   ],
   "source": [
    "function build_prototype_matrix(R, n_clusters, n_features)\n",
    "    \n",
    "    prototypes = Array{Float32}(undef, n_clusters, n_features);\n",
    "    for j in 1:n_features\n",
    "        prototypes[:,j] .= vec(R_per_feature[j].centers)\n",
    "    end\n",
    "    return prototypes\n",
    "end"
   ]
  },
  {
   "cell_type": "code",
   "execution_count": 13,
   "id": "7970c448",
   "metadata": {
    "ExecuteTime": {
     "end_time": "2022-08-24T22:44:52.958000+02:00",
     "start_time": "2022-08-24T20:44:33.694Z"
    }
   },
   "outputs": [
    {
     "data": {
      "text/plain": [
       "BenchmarkTools.Trial: 10000 samples with 1 evaluation.\n",
       " Range \u001b[90m(\u001b[39m\u001b[36m\u001b[1mmin\u001b[22m\u001b[39m … \u001b[35mmax\u001b[39m\u001b[90m):  \u001b[39m\u001b[36m\u001b[1m57.333 μs\u001b[22m\u001b[39m … \u001b[35m162.583 μs\u001b[39m  \u001b[90m┊\u001b[39m GC \u001b[90m(\u001b[39mmin … max\u001b[90m): \u001b[39m0.00% … 0.00%\n",
       " Time  \u001b[90m(\u001b[39m\u001b[34m\u001b[1mmedian\u001b[22m\u001b[39m\u001b[90m):     \u001b[39m\u001b[34m\u001b[1m60.833 μs               \u001b[22m\u001b[39m\u001b[90m┊\u001b[39m GC \u001b[90m(\u001b[39mmedian\u001b[90m):    \u001b[39m0.00%\n",
       " Time  \u001b[90m(\u001b[39m\u001b[32m\u001b[1mmean\u001b[22m\u001b[39m ± \u001b[32mσ\u001b[39m\u001b[90m):   \u001b[39m\u001b[32m\u001b[1m61.130 μs\u001b[22m\u001b[39m ± \u001b[32m  2.240 μs\u001b[39m  \u001b[90m┊\u001b[39m GC \u001b[90m(\u001b[39mmean ± σ\u001b[90m):  \u001b[39m0.00% ± 0.00%\n",
       "\n",
       "  \u001b[39m \u001b[39m \u001b[39m \u001b[39m \u001b[39m \u001b[39m \u001b[39m \u001b[39m \u001b[39m \u001b[39m \u001b[39m▁\u001b[39m▃\u001b[39m▅\u001b[39m▆\u001b[39m▆\u001b[39m█\u001b[39m▆\u001b[39m▆\u001b[39m▆\u001b[39m▆\u001b[34m▅\u001b[39m\u001b[39m▅\u001b[32m█\u001b[39m\u001b[39m▄\u001b[39m▄\u001b[39m▃\u001b[39m▃\u001b[39m▃\u001b[39m \u001b[39m \u001b[39m \u001b[39m \u001b[39m \u001b[39m \u001b[39m \u001b[39m \u001b[39m \u001b[39m \u001b[39m \u001b[39m \u001b[39m \u001b[39m \u001b[39m \u001b[39m \u001b[39m \u001b[39m \u001b[39m \u001b[39m \u001b[39m \u001b[39m \u001b[39m \u001b[39m \u001b[39m \u001b[39m \u001b[39m \u001b[39m \u001b[39m \u001b[39m \u001b[39m \u001b[39m \u001b[39m \u001b[39m \n",
       "  \u001b[39m▁\u001b[39m▂\u001b[39m▂\u001b[39m▂\u001b[39m▃\u001b[39m▃\u001b[39m▄\u001b[39m▅\u001b[39m▅\u001b[39m▇\u001b[39m█\u001b[39m█\u001b[39m█\u001b[39m█\u001b[39m█\u001b[39m█\u001b[39m█\u001b[39m█\u001b[39m█\u001b[39m█\u001b[34m█\u001b[39m\u001b[39m█\u001b[32m█\u001b[39m\u001b[39m█\u001b[39m█\u001b[39m█\u001b[39m█\u001b[39m█\u001b[39m█\u001b[39m▇\u001b[39m█\u001b[39m▆\u001b[39m▅\u001b[39m▅\u001b[39m▅\u001b[39m▄\u001b[39m▄\u001b[39m▄\u001b[39m▃\u001b[39m▂\u001b[39m▂\u001b[39m▃\u001b[39m▂\u001b[39m▂\u001b[39m▂\u001b[39m▂\u001b[39m▂\u001b[39m▂\u001b[39m▂\u001b[39m▁\u001b[39m▂\u001b[39m▁\u001b[39m▁\u001b[39m▁\u001b[39m▁\u001b[39m▁\u001b[39m▁\u001b[39m▁\u001b[39m▁\u001b[39m▁\u001b[39m \u001b[39m▄\n",
       "  57.3 μs\u001b[90m         Histogram: frequency by time\u001b[39m         67.7 μs \u001b[0m\u001b[1m<\u001b[22m\n",
       "\n",
       " Memory estimate\u001b[90m: \u001b[39m\u001b[33m44.12 KiB\u001b[39m, allocs estimate\u001b[90m: \u001b[39m\u001b[33m897\u001b[39m."
      ]
     },
     "execution_count": 13,
     "metadata": {},
     "output_type": "execute_result"
    }
   ],
   "source": [
    "@benchmark P = build_prototype_matrix(R_per_feature, n_clusters, n_features)"
   ]
  },
  {
   "cell_type": "code",
   "execution_count": 14,
   "id": "7eae2159",
   "metadata": {
    "ExecuteTime": {
     "end_time": "2022-08-24T22:44:52.959000+02:00",
     "start_time": "2022-08-24T20:44:34.052Z"
    }
   },
   "outputs": [],
   "source": [
    "P2 = build_prototype_matrix(R_per_feature, n_clusters, n_features);"
   ]
  },
  {
   "cell_type": "code",
   "execution_count": 531,
   "id": "9c35a301",
   "metadata": {
    "ExecuteTime": {
     "end_time": "2022-08-24T22:44:53.594000+02:00",
     "start_time": "2022-08-24T20:44:35.436Z"
    }
   },
   "outputs": [
    {
     "data": {
      "text/plain": [
       "true"
      ]
     },
     "execution_count": 531,
     "metadata": {},
     "output_type": "execute_result"
    }
   ],
   "source": [
    "isapprox(P, P2)"
   ]
  },
  {
   "cell_type": "markdown",
   "id": "254cc3af",
   "metadata": {},
   "source": [
    "We can generate the PQcodes for the data as follows:"
   ]
  },
  {
   "cell_type": "code",
   "execution_count": 525,
   "id": "0fc26f97",
   "metadata": {
    "ExecuteTime": {
     "end_time": "2022-08-24T22:44:58.459000+02:00",
     "start_time": "2022-08-24T20:44:42.651Z"
    }
   },
   "outputs": [],
   "source": [
    "PQcodes = hcat([Int32.(r.assignments[:]) for r in R_per_feature]...)';"
   ]
  },
  {
   "cell_type": "code",
   "execution_count": 527,
   "id": "0b15fb3a",
   "metadata": {
    "ExecuteTime": {
     "end_time": "2022-08-24T22:44:58.471000+02:00",
     "start_time": "2022-08-24T20:44:43.992Z"
    },
    "scrolled": true
   },
   "outputs": [
    {
     "data": {
      "text/plain": [
       "(128, 1000000)"
      ]
     },
     "execution_count": 527,
     "metadata": {},
     "output_type": "execute_result"
    }
   ],
   "source": [
    "size(PQcodes)"
   ]
  },
  {
   "cell_type": "markdown",
   "id": "25820db5",
   "metadata": {},
   "source": [
    "Here each vector prototype is in fact a single scalar (vecause subvectors have a single coordinate)"
   ]
  },
  {
   "cell_type": "code",
   "execution_count": 18,
   "id": "68865753",
   "metadata": {
    "ExecuteTime": {
     "end_time": "2022-08-24T22:44:58.473000+02:00",
     "start_time": "2022-08-24T20:44:44.481Z"
    }
   },
   "outputs": [
    {
     "data": {
      "text/plain": [
       "(16, 128)"
      ]
     },
     "execution_count": 18,
     "metadata": {},
     "output_type": "execute_result"
    }
   ],
   "source": [
    "size(P)"
   ]
  },
  {
   "cell_type": "markdown",
   "id": "695f9699",
   "metadata": {},
   "source": [
    "We need a method to, given a vector and a collection of prototypes per feature, find which are the closest"
   ]
  },
  {
   "cell_type": "code",
   "execution_count": 19,
   "id": "3b4051c4",
   "metadata": {
    "ExecuteTime": {
     "end_time": "2022-08-24T22:44:58.476000+02:00",
     "start_time": "2022-08-24T20:44:45.989Z"
    }
   },
   "outputs": [],
   "source": [
    "query = X_te_vecs[:,1];"
   ]
  },
  {
   "cell_type": "code",
   "execution_count": 20,
   "id": "a4d845f9",
   "metadata": {
    "ExecuteTime": {
     "end_time": "2022-08-24T22:45:01.937000+02:00",
     "start_time": "2022-08-24T20:45:01.927Z"
    }
   },
   "outputs": [],
   "source": [
    "closest_prototypes = Array{UInt8}(undef, n_features, 1);"
   ]
  },
  {
   "cell_type": "code",
   "execution_count": 21,
   "id": "93018786",
   "metadata": {
    "ExecuteTime": {
     "end_time": "2022-08-24T22:45:03.290000+02:00",
     "start_time": "2022-08-24T20:45:02.734Z"
    }
   },
   "outputs": [
    {
     "data": {
      "text/plain": [
       "Float32"
      ]
     },
     "execution_count": 21,
     "metadata": {},
     "output_type": "execute_result"
    }
   ],
   "source": [
    "typeof(typemax(Float32))"
   ]
  },
  {
   "cell_type": "code",
   "execution_count": 22,
   "id": "3a9070eb",
   "metadata": {
    "ExecuteTime": {
     "end_time": "2022-08-24T22:45:04.281000+02:00",
     "start_time": "2022-08-24T20:45:04.166Z"
    }
   },
   "outputs": [
    {
     "data": {
      "text/plain": [
       "find_closest_coordinate (generic function with 1 method)"
      ]
     },
     "execution_count": 22,
     "metadata": {},
     "output_type": "execute_result"
    }
   ],
   "source": [
    "@inline function seuclidean(x::T,y::T) where {T}\n",
    "    aux::T = (x -y)\n",
    "    return aux * aux\n",
    "end\n",
    "\n",
    "function find_closest_coordinate(dist, \n",
    "                                 value::T,\n",
    "                                 vector) where T\n",
    "    best_coordinate = 1\n",
    "    min_distance::T = typemax(T)\n",
    "    for (j,x) in enumerate(vector)\n",
    "        current_dist = dist(x, value)\n",
    "        if current_dist < min_distance\n",
    "            best_coordinate = j\n",
    "            min_distance = current_dist\n",
    "        end\n",
    "    end\n",
    "    return best_coordinate\n",
    "end"
   ]
  },
  {
   "cell_type": "code",
   "execution_count": 23,
   "id": "044e152c",
   "metadata": {
    "ExecuteTime": {
     "end_time": "2022-08-24T22:45:10.799000+02:00",
     "start_time": "2022-08-24T20:45:10.763Z"
    },
    "scrolled": true
   },
   "outputs": [
    {
     "name": "stdout",
     "output_type": "stream",
     "text": [
      "Float32[1.0, 3.0, 11.0, 110.0, 62.0, 22.0, 4.0, 0.0, 43.0, 21.0, 22.0, 18.0, 6.0, 28.0, 64.0, 9.0, 11.0, 1.0, 0.0, 0.0, 1.0, 40.0, 101.0, 21.0, 20.0, 2.0, 4.0, 2.0, 2.0, 9.0, 18.0, 35.0, 1.0, 1.0, 7.0, 25.0, 108.0, 116.0, 63.0, 2.0, 0.0, 0.0, 11.0, 74.0, 40.0, 101.0, 116.0, 3.0, 33.0, 1.0, 1.0, 11.0, 14.0, 18.0, 116.0, 116.0, 68.0, 12.0, 5.0, 4.0, 2.0, 2.0, 9.0, 102.0, 17.0, 3.0, 10.0, 18.0, 8.0, 15.0, 67.0, 63.0, 15.0, 0.0, 14.0, 116.0, 80.0, 0.0, 2.0, 22.0, 96.0, 37.0, 28.0, 88.0, 43.0, 1.0, 4.0, 18.0, 116.0, 51.0, 5.0, 11.0, 32.0, 14.0, 8.0, 23.0, 44.0, 17.0, 12.0, 9.0, 0.0, 0.0, 19.0, 37.0, 85.0, 18.0, 16.0, 104.0, 22.0, 6.0, 2.0, 26.0, 12.0, 58.0, 67.0, 82.0, 25.0, 12.0, 2.0, 2.0, 25.0, 18.0, 8.0, 2.0, 19.0, 42.0, 48.0, 11.0]"
     ]
    }
   ],
   "source": [
    "find_closest_coordinate(seuclidean, Float32(48.), query)\n",
    "print(query)"
   ]
  },
  {
   "cell_type": "code",
   "execution_count": 24,
   "id": "472cbb22",
   "metadata": {
    "ExecuteTime": {
     "end_time": "2022-08-24T22:45:14.132000+02:00",
     "start_time": "2022-08-24T20:45:11.094Z"
    }
   },
   "outputs": [
    {
     "data": {
      "text/plain": [
       "BenchmarkTools.Trial: 10000 samples with 776 evaluations.\n",
       " Range \u001b[90m(\u001b[39m\u001b[36m\u001b[1mmin\u001b[22m\u001b[39m … \u001b[35mmax\u001b[39m\u001b[90m):  \u001b[39m\u001b[36m\u001b[1m162.532 ns\u001b[22m\u001b[39m … \u001b[35m325.709 ns\u001b[39m  \u001b[90m┊\u001b[39m GC \u001b[90m(\u001b[39mmin … max\u001b[90m): \u001b[39m0.00% … 0.00%\n",
       " Time  \u001b[90m(\u001b[39m\u001b[34m\u001b[1mmedian\u001b[22m\u001b[39m\u001b[90m):     \u001b[39m\u001b[34m\u001b[1m162.747 ns               \u001b[22m\u001b[39m\u001b[90m┊\u001b[39m GC \u001b[90m(\u001b[39mmedian\u001b[90m):    \u001b[39m0.00%\n",
       " Time  \u001b[90m(\u001b[39m\u001b[32m\u001b[1mmean\u001b[22m\u001b[39m ± \u001b[32mσ\u001b[39m\u001b[90m):   \u001b[39m\u001b[32m\u001b[1m164.051 ns\u001b[22m\u001b[39m ± \u001b[32m  3.392 ns\u001b[39m  \u001b[90m┊\u001b[39m GC \u001b[90m(\u001b[39mmean ± σ\u001b[90m):  \u001b[39m0.00% ± 0.00%\n",
       "\n",
       "  \u001b[39m█\u001b[34m▆\u001b[39m\u001b[39m▃\u001b[39m▃\u001b[39m▁\u001b[39m \u001b[39m \u001b[32m \u001b[39m\u001b[39m \u001b[39m \u001b[39m \u001b[39m \u001b[39m \u001b[39m \u001b[39m \u001b[39m \u001b[39m \u001b[39m▃\u001b[39m▁\u001b[39m \u001b[39m \u001b[39m \u001b[39m \u001b[39m▂\u001b[39m▁\u001b[39m \u001b[39m \u001b[39m \u001b[39m \u001b[39m \u001b[39m \u001b[39m▁\u001b[39m \u001b[39m \u001b[39m \u001b[39m \u001b[39m \u001b[39m \u001b[39m \u001b[39m \u001b[39m \u001b[39m \u001b[39m \u001b[39m \u001b[39m \u001b[39m \u001b[39m \u001b[39m \u001b[39m \u001b[39m \u001b[39m \u001b[39m \u001b[39m \u001b[39m \u001b[39m \u001b[39m \u001b[39m \u001b[39m \u001b[39m \u001b[39m \u001b[39m \u001b[39m \u001b[39m▁\n",
       "  \u001b[39m█\u001b[34m█\u001b[39m\u001b[39m█\u001b[39m█\u001b[39m█\u001b[39m█\u001b[39m█\u001b[32m▇\u001b[39m\u001b[39m█\u001b[39m▇\u001b[39m█\u001b[39m▇\u001b[39m█\u001b[39m█\u001b[39m▇\u001b[39m▇\u001b[39m█\u001b[39m█\u001b[39m█\u001b[39m█\u001b[39m▇\u001b[39m█\u001b[39m█\u001b[39m█\u001b[39m█\u001b[39m█\u001b[39m█\u001b[39m█\u001b[39m█\u001b[39m█\u001b[39m█\u001b[39m█\u001b[39m█\u001b[39m█\u001b[39m▇\u001b[39m▆\u001b[39m▆\u001b[39m▅\u001b[39m▅\u001b[39m▆\u001b[39m▅\u001b[39m▆\u001b[39m▆\u001b[39m▅\u001b[39m▅\u001b[39m▅\u001b[39m▅\u001b[39m▆\u001b[39m▅\u001b[39m▅\u001b[39m▅\u001b[39m▆\u001b[39m▄\u001b[39m▅\u001b[39m▅\u001b[39m▄\u001b[39m▅\u001b[39m▅\u001b[39m▅\u001b[39m▅\u001b[39m▅\u001b[39m \u001b[39m█\n",
       "  163 ns\u001b[90m        \u001b[39m\u001b[90mHistogram: \u001b[39m\u001b[90m\u001b[1mlog(\u001b[22m\u001b[39m\u001b[90mfrequency\u001b[39m\u001b[90m\u001b[1m)\u001b[22m\u001b[39m\u001b[90m by time\u001b[39m        176 ns \u001b[0m\u001b[1m<\u001b[22m\n",
       "\n",
       " Memory estimate\u001b[90m: \u001b[39m\u001b[33m0 bytes\u001b[39m, allocs estimate\u001b[90m: \u001b[39m\u001b[33m0\u001b[39m."
      ]
     },
     "execution_count": 24,
     "metadata": {},
     "output_type": "execute_result"
    }
   ],
   "source": [
    "@benchmark find_closest_coordinate(seuclidean, Float32(48.), query)\n"
   ]
  },
  {
   "cell_type": "code",
   "execution_count": 25,
   "id": "80e21b6a",
   "metadata": {
    "ExecuteTime": {
     "end_time": "2022-08-24T22:45:14.197000+02:00",
     "start_time": "2022-08-24T20:45:12.617Z"
    }
   },
   "outputs": [],
   "source": [
    "@assert 3 == find_closest_coordinate(seuclidean, 2., [3.,5,2,1])\n",
    "\n",
    "@assert 4 == find_closest_coordinate(seuclidean, 1., [3.,5,2,1])"
   ]
  },
  {
   "cell_type": "code",
   "execution_count": 26,
   "id": "7599adc7",
   "metadata": {
    "ExecuteTime": {
     "end_time": "2022-08-24T22:45:14.304000+02:00",
     "start_time": "2022-08-24T20:45:12.986Z"
    }
   },
   "outputs": [
    {
     "data": {
      "text/plain": [
       "encode (generic function with 1 method)"
      ]
     },
     "execution_count": 26,
     "metadata": {},
     "output_type": "execute_result"
    }
   ],
   "source": [
    "function encode(dist, vector, prototypes)\n",
    "    closest_prototypes = Array{Int8}(undef, n_features, 1);\n",
    "    @inbounds for (j,x) in enumerate(vector)\n",
    "            closest_prototypes[j] = find_closest_coordinate(dist, x, prototypes[:,j])\n",
    "    end\n",
    "    return closest_prototypes\n",
    "end"
   ]
  },
  {
   "cell_type": "code",
   "execution_count": 27,
   "id": "45e39911",
   "metadata": {
    "ExecuteTime": {
     "end_time": "2022-08-24T22:45:23.482000+02:00",
     "start_time": "2022-08-24T20:45:23.460Z"
    }
   },
   "outputs": [
    {
     "data": {
      "text/plain": [
       "8"
      ]
     },
     "execution_count": 27,
     "metadata": {},
     "output_type": "execute_result"
    }
   ],
   "source": [
    "find_closest_coordinate(sqeuclidean, query[1], P[:,1])"
   ]
  },
  {
   "cell_type": "code",
   "execution_count": 28,
   "id": "9ff9f7fb",
   "metadata": {
    "ExecuteTime": {
     "end_time": "2022-08-24T22:45:25.159000+02:00",
     "start_time": "2022-08-24T20:45:24.070Z"
    }
   },
   "outputs": [
    {
     "data": {
      "text/plain": [
       "128×1 Matrix{Int8}:\n",
       "  8\n",
       " 16\n",
       "  5\n",
       "  3\n",
       " 13\n",
       " 12\n",
       "  8\n",
       "  7\n",
       "  7\n",
       " 11\n",
       " 10\n",
       "  4\n",
       " 14\n",
       "  ⋮\n",
       " 11\n",
       " 10\n",
       "  2\n",
       "  4\n",
       "  8\n",
       "  1\n",
       " 11\n",
       "  8\n",
       "  9\n",
       "  6\n",
       "  3\n",
       " 13"
      ]
     },
     "execution_count": 28,
     "metadata": {},
     "output_type": "execute_result"
    }
   ],
   "source": [
    "encode(sqeuclidean, query, P)"
   ]
  },
  {
   "cell_type": "code",
   "execution_count": 29,
   "id": "4f8f3a27",
   "metadata": {
    "ExecuteTime": {
     "end_time": "2022-08-24T22:45:33.025000+02:00",
     "start_time": "2022-08-24T20:45:26.078Z"
    }
   },
   "outputs": [
    {
     "data": {
      "text/plain": [
       "BenchmarkTools.Trial: 10000 samples with 7 evaluations.\n",
       " Range \u001b[90m(\u001b[39m\u001b[36m\u001b[1mmin\u001b[22m\u001b[39m … \u001b[35mmax\u001b[39m\u001b[90m):  \u001b[39m\u001b[36m\u001b[1m4.030 μs\u001b[22m\u001b[39m … \u001b[35m 12.721 ms\u001b[39m  \u001b[90m┊\u001b[39m GC \u001b[90m(\u001b[39mmin … max\u001b[90m): \u001b[39m 0.00% … 99.93%\n",
       " Time  \u001b[90m(\u001b[39m\u001b[34m\u001b[1mmedian\u001b[22m\u001b[39m\u001b[90m):     \u001b[39m\u001b[34m\u001b[1m5.137 μs               \u001b[22m\u001b[39m\u001b[90m┊\u001b[39m GC \u001b[90m(\u001b[39mmedian\u001b[90m):    \u001b[39m 0.00%\n",
       " Time  \u001b[90m(\u001b[39m\u001b[32m\u001b[1mmean\u001b[22m\u001b[39m ± \u001b[32mσ\u001b[39m\u001b[90m):   \u001b[39m\u001b[32m\u001b[1m6.503 μs\u001b[22m\u001b[39m ± \u001b[32m127.162 μs\u001b[39m  \u001b[90m┊\u001b[39m GC \u001b[90m(\u001b[39mmean ± σ\u001b[90m):  \u001b[39m19.55% ±  1.00%\n",
       "\n",
       "  \u001b[39m \u001b[39m \u001b[39m \u001b[39m \u001b[39m \u001b[39m \u001b[39m \u001b[39m \u001b[39m \u001b[39m \u001b[39m \u001b[39m▂\u001b[39m▆\u001b[39m▆\u001b[39m▅\u001b[39m▅\u001b[39m▅\u001b[39m█\u001b[34m▆\u001b[39m\u001b[39m▄\u001b[39m▂\u001b[39m \u001b[39m \u001b[39m \u001b[39m \u001b[39m \u001b[39m \u001b[39m \u001b[39m \u001b[39m \u001b[39m \u001b[39m \u001b[39m \u001b[39m \u001b[39m \u001b[39m \u001b[39m \u001b[39m \u001b[39m \u001b[32m \u001b[39m\u001b[39m \u001b[39m \u001b[39m \u001b[39m \u001b[39m \u001b[39m \u001b[39m \u001b[39m \u001b[39m \u001b[39m \u001b[39m \u001b[39m \u001b[39m \u001b[39m \u001b[39m \u001b[39m \u001b[39m \u001b[39m \u001b[39m \u001b[39m \u001b[39m \n",
       "  \u001b[39m▁\u001b[39m▂\u001b[39m▃\u001b[39m▁\u001b[39m▂\u001b[39m▂\u001b[39m▁\u001b[39m▁\u001b[39m▁\u001b[39m▂\u001b[39m▄\u001b[39m█\u001b[39m█\u001b[39m█\u001b[39m█\u001b[39m█\u001b[39m█\u001b[39m█\u001b[34m█\u001b[39m\u001b[39m█\u001b[39m█\u001b[39m█\u001b[39m█\u001b[39m▅\u001b[39m▆\u001b[39m▅\u001b[39m▅\u001b[39m▄\u001b[39m▃\u001b[39m▃\u001b[39m▂\u001b[39m▃\u001b[39m▂\u001b[39m▂\u001b[39m▂\u001b[39m▂\u001b[39m▁\u001b[39m▁\u001b[39m▁\u001b[32m▁\u001b[39m\u001b[39m▁\u001b[39m▁\u001b[39m▁\u001b[39m▁\u001b[39m▁\u001b[39m▁\u001b[39m▁\u001b[39m▁\u001b[39m▁\u001b[39m▁\u001b[39m▁\u001b[39m▁\u001b[39m▁\u001b[39m▁\u001b[39m▁\u001b[39m▁\u001b[39m▁\u001b[39m▁\u001b[39m▁\u001b[39m \u001b[39m▃\n",
       "  4.03 μs\u001b[90m         Histogram: frequency by time\u001b[39m        7.74 μs \u001b[0m\u001b[1m<\u001b[22m\n",
       "\n",
       " Memory estimate\u001b[90m: \u001b[39m\u001b[33m16.19 KiB\u001b[39m, allocs estimate\u001b[90m: \u001b[39m\u001b[33m129\u001b[39m."
      ]
     },
     "execution_count": 29,
     "metadata": {},
     "output_type": "execute_result"
    }
   ],
   "source": [
    "@benchmark encode(sqeuclidean, query, P)"
   ]
  },
  {
   "cell_type": "code",
   "execution_count": 30,
   "id": "493cb742",
   "metadata": {
    "ExecuteTime": {
     "end_time": "2022-08-24T22:45:33.135000+02:00",
     "start_time": "2022-08-24T20:45:27.688Z"
    }
   },
   "outputs": [
    {
     "data": {
      "text/plain": [
       "encode_fast (generic function with 1 method)"
      ]
     },
     "execution_count": 30,
     "metadata": {},
     "output_type": "execute_result"
    }
   ],
   "source": [
    "function encode_fast(dist, vector::Array{T}, prototypes::Array{T}) where T\n",
    "    n_clusters, n_features = size(prototypes)\n",
    "    closest_prototypes = Array{Int8}(undef, n_features, 1);\n",
    "    \n",
    "    @inbounds for (j,x) in enumerate(vector)\n",
    "        best_coordinate = 1\n",
    "        min_distance::T = typemax(T)\n",
    "        for k in 1:n_clusters\n",
    "           current_dist = dist(prototypes[k,j],x )\n",
    "           if current_dist < min_distance\n",
    "               best_coordinate = k\n",
    "               min_distance = current_dist\n",
    "           end\n",
    "           #println(k, ' ', j, ' ', best_coordinate, ' ',min_distance )\n",
    "        end            \n",
    "        closest_prototypes[j] = best_coordinate\n",
    "    end\n",
    "    return closest_prototypes\n",
    "end"
   ]
  },
  {
   "cell_type": "code",
   "execution_count": 31,
   "id": "903e11d2",
   "metadata": {
    "ExecuteTime": {
     "end_time": "2022-08-24T22:45:33.250000+02:00",
     "start_time": "2022-08-24T20:45:28.016Z"
    }
   },
   "outputs": [
    {
     "data": {
      "text/plain": [
       "16-element Vector{Float32}:\n",
       "  9656.532\n",
       "    18.06276\n",
       "  2194.044\n",
       "  7631.915\n",
       "   773.0733\n",
       "  1390.5277\n",
       " 15051.904\n",
       "     0.25334996\n",
       "   126.43398\n",
       " 12305.633\n",
       "   373.29453\n",
       "  4015.94\n",
       "  6145.547\n",
       " 18455.473\n",
       "  3068.1987\n",
       "  5027.8315"
      ]
     },
     "execution_count": 31,
     "metadata": {},
     "output_type": "execute_result"
    }
   ],
   "source": [
    "(query[1] .- P[:,1]) .* (query[1] .- P[:,1])"
   ]
  },
  {
   "cell_type": "code",
   "execution_count": 32,
   "id": "aba9fbbf",
   "metadata": {
    "ExecuteTime": {
     "end_time": "2022-08-24T22:45:33.295000+02:00",
     "start_time": "2022-08-24T20:45:28.365Z"
    }
   },
   "outputs": [
    {
     "name": "stdout",
     "output_type": "stream",
     "text": [
      "8\n",
      "16\n"
     ]
    }
   ],
   "source": [
    "println(find_closest_coordinate(sqeuclidean, query[1], P[:,1]))\n",
    "println(find_closest_coordinate(sqeuclidean, query[2], P[:,2]))"
   ]
  },
  {
   "cell_type": "code",
   "execution_count": 33,
   "id": "4ec40d6b",
   "metadata": {
    "ExecuteTime": {
     "end_time": "2022-08-24T22:45:33.871000+02:00",
     "start_time": "2022-08-24T20:45:28.704Z"
    }
   },
   "outputs": [
    {
     "data": {
      "text/plain": [
       "4-element Vector{Int8}:\n",
       "  8\n",
       " 16\n",
       "  5\n",
       "  3"
      ]
     },
     "execution_count": 33,
     "metadata": {},
     "output_type": "execute_result"
    }
   ],
   "source": [
    "encode_fast(sqeuclidean, query, P)[1:4]"
   ]
  },
  {
   "cell_type": "code",
   "execution_count": 34,
   "id": "e96095e5",
   "metadata": {
    "ExecuteTime": {
     "end_time": "2022-08-24T22:45:34.312000+02:00",
     "start_time": "2022-08-24T20:45:30.830Z"
    }
   },
   "outputs": [],
   "source": [
    "@assert isapprox(encode(sqeuclidean, query, P),\n",
    "                 encode_fast(sqeuclidean, query, P))"
   ]
  },
  {
   "cell_type": "code",
   "execution_count": 35,
   "id": "e07e11e3",
   "metadata": {
    "ExecuteTime": {
     "end_time": "2022-08-24T22:45:37.104000+02:00",
     "start_time": "2022-08-24T20:45:31.422Z"
    }
   },
   "outputs": [
    {
     "data": {
      "text/plain": [
       "BenchmarkTools.Trial: 10000 samples with 19 evaluations.\n",
       " Range \u001b[90m(\u001b[39m\u001b[36m\u001b[1mmin\u001b[22m\u001b[39m … \u001b[35mmax\u001b[39m\u001b[90m):  \u001b[39m\u001b[36m\u001b[1m953.947 ns\u001b[22m\u001b[39m … \u001b[35m 5.230 μs\u001b[39m  \u001b[90m┊\u001b[39m GC \u001b[90m(\u001b[39mmin … max\u001b[90m): \u001b[39m0.00% … 0.00%\n",
       " Time  \u001b[90m(\u001b[39m\u001b[34m\u001b[1mmedian\u001b[22m\u001b[39m\u001b[90m):     \u001b[39m\u001b[34m\u001b[1m984.684 ns              \u001b[22m\u001b[39m\u001b[90m┊\u001b[39m GC \u001b[90m(\u001b[39mmedian\u001b[90m):    \u001b[39m0.00%\n",
       " Time  \u001b[90m(\u001b[39m\u001b[32m\u001b[1mmean\u001b[22m\u001b[39m ± \u001b[32mσ\u001b[39m\u001b[90m):   \u001b[39m\u001b[32m\u001b[1m  1.005 μs\u001b[22m\u001b[39m ± \u001b[32m94.458 ns\u001b[39m  \u001b[90m┊\u001b[39m GC \u001b[90m(\u001b[39mmean ± σ\u001b[90m):  \u001b[39m0.00% ± 0.00%\n",
       "\n",
       "  \u001b[39m \u001b[39m \u001b[39m \u001b[39m \u001b[39m \u001b[39m█\u001b[34m \u001b[39m\u001b[39m \u001b[39m \u001b[39m \u001b[39m \u001b[32m \u001b[39m\u001b[39m \u001b[39m \u001b[39m \u001b[39m \u001b[39m \u001b[39m \u001b[39m \u001b[39m \u001b[39m \u001b[39m \u001b[39m \u001b[39m \u001b[39m \u001b[39m \u001b[39m \u001b[39m \u001b[39m \u001b[39m \u001b[39m \u001b[39m \u001b[39m \u001b[39m \u001b[39m \u001b[39m \u001b[39m \u001b[39m \u001b[39m \u001b[39m \u001b[39m \u001b[39m \u001b[39m \u001b[39m \u001b[39m \u001b[39m \u001b[39m \u001b[39m \u001b[39m \u001b[39m \u001b[39m \u001b[39m \u001b[39m \u001b[39m \u001b[39m \u001b[39m \u001b[39m \u001b[39m \u001b[39m \u001b[39m \u001b[39m \u001b[39m \n",
       "  \u001b[39m▃\u001b[39m▆\u001b[39m▃\u001b[39m▂\u001b[39m▆\u001b[39m█\u001b[34m▆\u001b[39m\u001b[39m▆\u001b[39m▃\u001b[39m▂\u001b[39m▂\u001b[32m▂\u001b[39m\u001b[39m▂\u001b[39m▃\u001b[39m▃\u001b[39m▃\u001b[39m▄\u001b[39m▃\u001b[39m▂\u001b[39m▂\u001b[39m▂\u001b[39m▁\u001b[39m▁\u001b[39m▁\u001b[39m▁\u001b[39m▁\u001b[39m▁\u001b[39m▁\u001b[39m▁\u001b[39m▁\u001b[39m▁\u001b[39m▁\u001b[39m▁\u001b[39m▁\u001b[39m▁\u001b[39m▁\u001b[39m▁\u001b[39m▁\u001b[39m▁\u001b[39m▁\u001b[39m▁\u001b[39m▁\u001b[39m▁\u001b[39m▁\u001b[39m▁\u001b[39m▁\u001b[39m▁\u001b[39m▁\u001b[39m▁\u001b[39m▁\u001b[39m▁\u001b[39m▁\u001b[39m▁\u001b[39m▁\u001b[39m▁\u001b[39m▁\u001b[39m▁\u001b[39m▁\u001b[39m▁\u001b[39m▁\u001b[39m \u001b[39m▂\n",
       "  954 ns\u001b[90m          Histogram: frequency by time\u001b[39m         1.24 μs \u001b[0m\u001b[1m<\u001b[22m\n",
       "\n",
       " Memory estimate\u001b[90m: \u001b[39m\u001b[33m192 bytes\u001b[39m, allocs estimate\u001b[90m: \u001b[39m\u001b[33m1\u001b[39m."
      ]
     },
     "execution_count": 35,
     "metadata": {},
     "output_type": "execute_result"
    }
   ],
   "source": [
    "@benchmark encode_fast(sqeuclidean, query, P)"
   ]
  },
  {
   "cell_type": "code",
   "execution_count": 36,
   "id": "9c42b292",
   "metadata": {
    "ExecuteTime": {
     "end_time": "2022-08-24T22:45:37.215000+02:00",
     "start_time": "2022-08-24T20:45:32.643Z"
    }
   },
   "outputs": [
    {
     "data": {
      "text/plain": [
       "compute_ADC (generic function with 1 method)"
      ]
     },
     "execution_count": 36,
     "metadata": {},
     "output_type": "execute_result"
    }
   ],
   "source": [
    "function compute_ADC(query, prototypes, dist)\n",
    "    n_clusters, n_features = size(P)\n",
    "    \n",
    "    ADC_table = Array{Float32}(undef, n_clusters, n_features)\n",
    "    \n",
    "    for j in 1:n_features\n",
    "        for p in 1:n_clusters\n",
    "            ADC_table[p,j] = dist(query[j], @view prototypes[p,:] )\n",
    "        end\n",
    "    end\n",
    "    return  ADC_table\n",
    "end"
   ]
  },
  {
   "cell_type": "code",
   "execution_count": 37,
   "id": "852758de",
   "metadata": {
    "ExecuteTime": {
     "end_time": "2022-08-24T22:45:37.217000+02:00",
     "start_time": "2022-08-24T20:45:33.906Z"
    }
   },
   "outputs": [
    {
     "data": {
      "text/plain": [
       "(16, 128)"
      ]
     },
     "execution_count": 37,
     "metadata": {},
     "output_type": "execute_result"
    }
   ],
   "source": [
    "size(P)"
   ]
  },
  {
   "cell_type": "code",
   "execution_count": 38,
   "id": "4b7cfe4d",
   "metadata": {
    "ExecuteTime": {
     "end_time": "2022-08-24T22:45:37.323000+02:00",
     "start_time": "2022-08-24T20:45:34.626Z"
    }
   },
   "outputs": [
    {
     "data": {
      "text/plain": [
       "SEuclidean0 (generic function with 1 method)"
      ]
     },
     "execution_count": 38,
     "metadata": {},
     "output_type": "execute_result"
    }
   ],
   "source": [
    "function SEuclidean0(x, query)\n",
    "    res = zero(eltype(x))\n",
    "    @inbounds   for j in eachindex(x)\n",
    "        aux = (query[j] - x[j])\n",
    "        res += aux * aux\n",
    "    end\n",
    "    return res\n",
    "end"
   ]
  },
  {
   "cell_type": "code",
   "execution_count": 39,
   "id": "98986bfe",
   "metadata": {
    "ExecuteTime": {
     "end_time": "2022-08-24T22:45:48.863000+02:00",
     "start_time": "2022-08-24T20:45:36.436Z"
    },
    "scrolled": true
   },
   "outputs": [
    {
     "data": {
      "text/plain": [
       "BenchmarkTools.Trial: 7920 samples with 1 evaluation.\n",
       " Range \u001b[90m(\u001b[39m\u001b[36m\u001b[1mmin\u001b[22m\u001b[39m … \u001b[35mmax\u001b[39m\u001b[90m):  \u001b[39m\u001b[36m\u001b[1m586.000 μs\u001b[22m\u001b[39m … \u001b[35m95.076 ms\u001b[39m  \u001b[90m┊\u001b[39m GC \u001b[90m(\u001b[39mmin … max\u001b[90m): \u001b[39m0.00% … 99.30%\n",
       " Time  \u001b[90m(\u001b[39m\u001b[34m\u001b[1mmedian\u001b[22m\u001b[39m\u001b[90m):     \u001b[39m\u001b[34m\u001b[1m613.041 μs              \u001b[22m\u001b[39m\u001b[90m┊\u001b[39m GC \u001b[90m(\u001b[39mmedian\u001b[90m):    \u001b[39m0.00%\n",
       " Time  \u001b[90m(\u001b[39m\u001b[32m\u001b[1mmean\u001b[22m\u001b[39m ± \u001b[32mσ\u001b[39m\u001b[90m):   \u001b[39m\u001b[32m\u001b[1m630.068 μs\u001b[22m\u001b[39m ± \u001b[32m 1.062 ms\u001b[39m  \u001b[90m┊\u001b[39m GC \u001b[90m(\u001b[39mmean ± σ\u001b[90m):  \u001b[39m1.89% ±  1.12%\n",
       "\n",
       "  \u001b[39m \u001b[39m \u001b[39m \u001b[39m \u001b[39m \u001b[39m \u001b[39m \u001b[39m \u001b[39m \u001b[39m \u001b[39m▂\u001b[39m▃\u001b[39m▇\u001b[39m█\u001b[39m▇\u001b[34m▅\u001b[39m\u001b[39m▃\u001b[39m▁\u001b[39m \u001b[39m \u001b[39m \u001b[39m \u001b[39m \u001b[39m \u001b[39m \u001b[32m \u001b[39m\u001b[39m \u001b[39m \u001b[39m \u001b[39m \u001b[39m \u001b[39m \u001b[39m \u001b[39m \u001b[39m \u001b[39m \u001b[39m \u001b[39m \u001b[39m \u001b[39m \u001b[39m \u001b[39m \u001b[39m \u001b[39m \u001b[39m \u001b[39m \u001b[39m \u001b[39m \u001b[39m \u001b[39m \u001b[39m \u001b[39m \u001b[39m \u001b[39m \u001b[39m \u001b[39m \u001b[39m \u001b[39m \u001b[39m \u001b[39m \u001b[39m \u001b[39m \n",
       "  \u001b[39m▁\u001b[39m▂\u001b[39m▂\u001b[39m▂\u001b[39m▂\u001b[39m▃\u001b[39m▃\u001b[39m▅\u001b[39m▇\u001b[39m█\u001b[39m█\u001b[39m█\u001b[39m█\u001b[39m█\u001b[39m█\u001b[34m█\u001b[39m\u001b[39m█\u001b[39m█\u001b[39m▇\u001b[39m▅\u001b[39m▅\u001b[39m▅\u001b[39m▅\u001b[39m▅\u001b[39m▄\u001b[32m▄\u001b[39m\u001b[39m▄\u001b[39m▄\u001b[39m▃\u001b[39m▃\u001b[39m▂\u001b[39m▃\u001b[39m▂\u001b[39m▂\u001b[39m▂\u001b[39m▂\u001b[39m▂\u001b[39m▂\u001b[39m▂\u001b[39m▂\u001b[39m▂\u001b[39m▁\u001b[39m▁\u001b[39m▁\u001b[39m▂\u001b[39m▁\u001b[39m▁\u001b[39m▁\u001b[39m▁\u001b[39m▁\u001b[39m▁\u001b[39m▁\u001b[39m▁\u001b[39m▁\u001b[39m▁\u001b[39m▁\u001b[39m▁\u001b[39m▁\u001b[39m▁\u001b[39m▁\u001b[39m \u001b[39m▃\n",
       "  586 μs\u001b[90m          Histogram: frequency by time\u001b[39m          692 μs \u001b[0m\u001b[1m<\u001b[22m\n",
       "\n",
       " Memory estimate\u001b[90m: \u001b[39m\u001b[33m272.25 KiB\u001b[39m, allocs estimate\u001b[90m: \u001b[39m\u001b[33m10501\u001b[39m."
      ]
     },
     "execution_count": 39,
     "metadata": {},
     "output_type": "execute_result"
    }
   ],
   "source": [
    "@benchmark compute_ADC(query, P, SEuclidean0)"
   ]
  },
  {
   "cell_type": "code",
   "execution_count": 40,
   "id": "02508649",
   "metadata": {
    "ExecuteTime": {
     "end_time": "2022-08-24T22:45:48.865000+02:00",
     "start_time": "2022-08-24T20:45:36.695Z"
    }
   },
   "outputs": [],
   "source": [
    "adc_table = compute_ADC(query, P, SEuclidean0);"
   ]
  },
  {
   "cell_type": "code",
   "execution_count": 41,
   "id": "6b7e612f",
   "metadata": {
    "ExecuteTime": {
     "end_time": "2022-08-25T00:30:53.271000+02:00",
     "start_time": "2022-08-24T22:30:53.266Z"
    }
   },
   "outputs": [
    {
     "data": {
      "text/plain": [
       "compute_ADC_fast (generic function with 1 method)"
      ]
     },
     "execution_count": 41,
     "metadata": {},
     "output_type": "execute_result"
    }
   ],
   "source": [
    "function compute_ADC_fast(query, prototypes, dist)\n",
    "    n_clusters, n_features = size(P)\n",
    "    \n",
    "    ADC_table = Array{Float32}(undef, n_clusters, n_features)\n",
    "    \n",
    "    for j in 1:n_features\n",
    "        for p in 1:n_clusters\n",
    "            \n",
    "            ADC_table[p,j] = dist(query[j],  prototypes[p,:] )\n",
    "        end\n",
    "    end\n",
    "    return  ADC_table\n",
    "end"
   ]
  },
  {
   "cell_type": "code",
   "execution_count": 42,
   "id": "963cf568",
   "metadata": {
    "ExecuteTime": {
     "end_time": "2022-08-25T00:31:16.674000+02:00",
     "start_time": "2022-08-24T22:31:05.080Z"
    }
   },
   "outputs": [
    {
     "data": {
      "text/plain": [
       "BenchmarkTools.Trial: 4789 samples with 1 evaluation.\n",
       " Range \u001b[90m(\u001b[39m\u001b[36m\u001b[1mmin\u001b[22m\u001b[39m … \u001b[35mmax\u001b[39m\u001b[90m):  \u001b[39m\u001b[36m\u001b[1m828.000 μs\u001b[22m\u001b[39m … \u001b[35m105.093 ms\u001b[39m  \u001b[90m┊\u001b[39m GC \u001b[90m(\u001b[39mmin … max\u001b[90m): \u001b[39m 0.00% … 99.04%\n",
       " Time  \u001b[90m(\u001b[39m\u001b[34m\u001b[1mmedian\u001b[22m\u001b[39m\u001b[90m):     \u001b[39m\u001b[34m\u001b[1m913.167 μs               \u001b[22m\u001b[39m\u001b[90m┊\u001b[39m GC \u001b[90m(\u001b[39mmedian\u001b[90m):    \u001b[39m 0.00%\n",
       " Time  \u001b[90m(\u001b[39m\u001b[32m\u001b[1mmean\u001b[22m\u001b[39m ± \u001b[32mσ\u001b[39m\u001b[90m):   \u001b[39m\u001b[32m\u001b[1m  1.043 ms\u001b[22m\u001b[39m ± \u001b[32m  3.478 ms\u001b[39m  \u001b[90m┊\u001b[39m GC \u001b[90m(\u001b[39mmean ± σ\u001b[90m):  \u001b[39m11.80% ±  3.50%\n",
       "\n",
       "  \u001b[39m \u001b[39m \u001b[39m \u001b[39m \u001b[39m \u001b[39m \u001b[39m \u001b[39m \u001b[39m \u001b[39m \u001b[39m \u001b[39m \u001b[39m \u001b[39m \u001b[39m \u001b[39m \u001b[39m \u001b[39m \u001b[39m \u001b[39m \u001b[39m▂\u001b[39m▆\u001b[39m█\u001b[39m█\u001b[39m▇\u001b[39m▅\u001b[34m▅\u001b[39m\u001b[39m▃\u001b[39m▃\u001b[39m▁\u001b[39m \u001b[39m \u001b[39m \u001b[39m \u001b[39m \u001b[39m \u001b[39m \u001b[39m \u001b[39m \u001b[39m \u001b[39m \u001b[39m \u001b[39m \u001b[39m \u001b[39m \u001b[39m \u001b[39m \u001b[39m \u001b[39m \u001b[39m \u001b[39m \u001b[39m \u001b[39m \u001b[39m \u001b[39m \u001b[39m \u001b[39m \u001b[39m \u001b[39m \u001b[39m \u001b[39m \u001b[39m \u001b[39m \n",
       "  \u001b[39m▂\u001b[39m▂\u001b[39m▂\u001b[39m▂\u001b[39m▃\u001b[39m▂\u001b[39m▃\u001b[39m▄\u001b[39m▃\u001b[39m▃\u001b[39m▃\u001b[39m▂\u001b[39m▂\u001b[39m▂\u001b[39m▂\u001b[39m▁\u001b[39m▃\u001b[39m▃\u001b[39m▅\u001b[39m▇\u001b[39m█\u001b[39m█\u001b[39m█\u001b[39m█\u001b[39m█\u001b[39m█\u001b[34m█\u001b[39m\u001b[39m█\u001b[39m█\u001b[39m█\u001b[39m█\u001b[39m█\u001b[39m▇\u001b[39m▆\u001b[39m▆\u001b[39m▅\u001b[39m▅\u001b[39m▄\u001b[39m▄\u001b[39m▄\u001b[39m▄\u001b[39m▄\u001b[39m▄\u001b[39m▄\u001b[39m▃\u001b[39m▃\u001b[39m▃\u001b[39m▃\u001b[39m▂\u001b[39m▃\u001b[39m▃\u001b[39m▃\u001b[39m▂\u001b[39m▃\u001b[39m▂\u001b[39m▃\u001b[39m▂\u001b[39m▂\u001b[39m▃\u001b[39m▂\u001b[39m▂\u001b[39m \u001b[39m▄\n",
       "  828 μs\u001b[90m           Histogram: frequency by time\u001b[39m         1.03 ms \u001b[0m\u001b[1m<\u001b[22m\n",
       "\n",
       " Memory estimate\u001b[90m: \u001b[39m\u001b[33m1.48 MiB\u001b[39m, allocs estimate\u001b[90m: \u001b[39m\u001b[33m18693\u001b[39m."
      ]
     },
     "execution_count": 42,
     "metadata": {},
     "output_type": "execute_result"
    }
   ],
   "source": [
    "@benchmark compute_ADC_fast(query, P, SEuclidean0)"
   ]
  },
  {
   "cell_type": "code",
   "execution_count": 43,
   "id": "845a1a68",
   "metadata": {
    "ExecuteTime": {
     "end_time": "2022-08-25T00:40:46.462000+02:00",
     "start_time": "2022-08-24T22:40:46.456Z"
    }
   },
   "outputs": [
    {
     "data": {
      "text/plain": [
       "adc_dist (generic function with 1 method)"
      ]
     },
     "execution_count": 43,
     "metadata": {},
     "output_type": "execute_result"
    }
   ],
   "source": [
    "function adc_dist(query_code, x_code,  adc_table)\n",
    "    res = zero(eltype(adc_table))\n",
    "    @inbounds @fastmath for j in eachindex(x_code)\n",
    "        res+= adc_table[x_code[j], j]\n",
    "    end\n",
    "    return res\n",
    "end"
   ]
  },
  {
   "cell_type": "code",
   "execution_count": 44,
   "id": "3a22e48b",
   "metadata": {
    "ExecuteTime": {
     "end_time": "2022-08-25T00:40:47.357000+02:00",
     "start_time": "2022-08-24T22:40:47.327Z"
    }
   },
   "outputs": [
    {
     "data": {
      "text/plain": [
       "549694.4f0"
      ]
     },
     "execution_count": 44,
     "metadata": {},
     "output_type": "execute_result"
    }
   ],
   "source": [
    "query_code = encode_fast(sqeuclidean, query, P)\n",
    "x_code = PQcodes[:,1];\n",
    "adc_table = compute_ADC(query, P, SEuclidean0);\n",
    "adc_dist(query_code, x_code,  adc_table)"
   ]
  },
  {
   "cell_type": "code",
   "execution_count": 45,
   "id": "83943855",
   "metadata": {
    "ExecuteTime": {
     "end_time": "2022-08-24T22:46:06.301000+02:00",
     "start_time": "2022-08-24T20:46:04.070Z"
    }
   },
   "outputs": [
    {
     "data": {
      "text/plain": [
       "BenchmarkTools.Trial: 10000 samples with 970 evaluations.\n",
       " Range \u001b[90m(\u001b[39m\u001b[36m\u001b[1mmin\u001b[22m\u001b[39m … \u001b[35mmax\u001b[39m\u001b[90m):  \u001b[39m\u001b[36m\u001b[1m77.835 ns\u001b[22m\u001b[39m … \u001b[35m146.865 ns\u001b[39m  \u001b[90m┊\u001b[39m GC \u001b[90m(\u001b[39mmin … max\u001b[90m): \u001b[39m0.00% … 0.00%\n",
       " Time  \u001b[90m(\u001b[39m\u001b[34m\u001b[1mmedian\u001b[22m\u001b[39m\u001b[90m):     \u001b[39m\u001b[34m\u001b[1m80.068 ns               \u001b[22m\u001b[39m\u001b[90m┊\u001b[39m GC \u001b[90m(\u001b[39mmedian\u001b[90m):    \u001b[39m0.00%\n",
       " Time  \u001b[90m(\u001b[39m\u001b[32m\u001b[1mmean\u001b[22m\u001b[39m ± \u001b[32mσ\u001b[39m\u001b[90m):   \u001b[39m\u001b[32m\u001b[1m80.770 ns\u001b[22m\u001b[39m ± \u001b[32m  2.474 ns\u001b[39m  \u001b[90m┊\u001b[39m GC \u001b[90m(\u001b[39mmean ± σ\u001b[90m):  \u001b[39m0.00% ± 0.00%\n",
       "\n",
       "  \u001b[39m▁\u001b[39m▃\u001b[39m▃\u001b[39m \u001b[39m▃\u001b[39m▃\u001b[39m▁\u001b[39m▄\u001b[39m█\u001b[39m█\u001b[34m▇\u001b[39m\u001b[39m▄\u001b[39m▃\u001b[32m▂\u001b[39m\u001b[39m▁\u001b[39m▁\u001b[39m▁\u001b[39m▂\u001b[39m▄\u001b[39m▄\u001b[39m▃\u001b[39m▃\u001b[39m▂\u001b[39m▁\u001b[39m▁\u001b[39m \u001b[39m▁\u001b[39m▁\u001b[39m▁\u001b[39m \u001b[39m \u001b[39m \u001b[39m \u001b[39m \u001b[39m \u001b[39m \u001b[39m \u001b[39m \u001b[39m \u001b[39m \u001b[39m \u001b[39m \u001b[39m \u001b[39m \u001b[39m \u001b[39m \u001b[39m \u001b[39m \u001b[39m \u001b[39m \u001b[39m \u001b[39m \u001b[39m \u001b[39m \u001b[39m \u001b[39m \u001b[39m \u001b[39m \u001b[39m \u001b[39m \u001b[39m \u001b[39m▂\n",
       "  \u001b[39m█\u001b[39m█\u001b[39m█\u001b[39m▇\u001b[39m█\u001b[39m█\u001b[39m█\u001b[39m█\u001b[39m█\u001b[39m█\u001b[34m█\u001b[39m\u001b[39m█\u001b[39m█\u001b[32m█\u001b[39m\u001b[39m█\u001b[39m█\u001b[39m█\u001b[39m█\u001b[39m█\u001b[39m█\u001b[39m█\u001b[39m█\u001b[39m█\u001b[39m█\u001b[39m█\u001b[39m█\u001b[39m█\u001b[39m█\u001b[39m█\u001b[39m█\u001b[39m█\u001b[39m█\u001b[39m█\u001b[39m▇\u001b[39m▆\u001b[39m▇\u001b[39m▆\u001b[39m▆\u001b[39m▅\u001b[39m▆\u001b[39m▅\u001b[39m▆\u001b[39m▅\u001b[39m▆\u001b[39m▅\u001b[39m▅\u001b[39m▆\u001b[39m▅\u001b[39m▃\u001b[39m▅\u001b[39m▃\u001b[39m▄\u001b[39m▅\u001b[39m▃\u001b[39m▅\u001b[39m▅\u001b[39m▄\u001b[39m▄\u001b[39m▄\u001b[39m▄\u001b[39m \u001b[39m█\n",
       "  77.8 ns\u001b[90m       \u001b[39m\u001b[90mHistogram: \u001b[39m\u001b[90m\u001b[1mlog(\u001b[22m\u001b[39m\u001b[90mfrequency\u001b[39m\u001b[90m\u001b[1m)\u001b[22m\u001b[39m\u001b[90m by time\u001b[39m      91.7 ns \u001b[0m\u001b[1m<\u001b[22m\n",
       "\n",
       " Memory estimate\u001b[90m: \u001b[39m\u001b[33m16 bytes\u001b[39m, allocs estimate\u001b[90m: \u001b[39m\u001b[33m1\u001b[39m."
      ]
     },
     "execution_count": 45,
     "metadata": {},
     "output_type": "execute_result"
    }
   ],
   "source": [
    "@benchmark adc_dist(query_code, x_code,  adc_table)"
   ]
  },
  {
   "cell_type": "code",
   "execution_count": 46,
   "id": "6aa74d81",
   "metadata": {
    "ExecuteTime": {
     "end_time": "2022-08-24T22:46:09.065000+02:00",
     "start_time": "2022-08-24T20:46:04.334Z"
    }
   },
   "outputs": [
    {
     "data": {
      "text/plain": [
       "BenchmarkTools.Trial: 10000 samples with 923 evaluations.\n",
       " Range \u001b[90m(\u001b[39m\u001b[36m\u001b[1mmin\u001b[22m\u001b[39m … \u001b[35mmax\u001b[39m\u001b[90m):  \u001b[39m\u001b[36m\u001b[1m112.495 ns\u001b[22m\u001b[39m … \u001b[35m235.193 ns\u001b[39m  \u001b[90m┊\u001b[39m GC \u001b[90m(\u001b[39mmin … max\u001b[90m): \u001b[39m0.00% … 0.00%\n",
       " Time  \u001b[90m(\u001b[39m\u001b[34m\u001b[1mmedian\u001b[22m\u001b[39m\u001b[90m):     \u001b[39m\u001b[34m\u001b[1m114.166 ns               \u001b[22m\u001b[39m\u001b[90m┊\u001b[39m GC \u001b[90m(\u001b[39mmedian\u001b[90m):    \u001b[39m0.00%\n",
       " Time  \u001b[90m(\u001b[39m\u001b[32m\u001b[1mmean\u001b[22m\u001b[39m ± \u001b[32mσ\u001b[39m\u001b[90m):   \u001b[39m\u001b[32m\u001b[1m115.594 ns\u001b[22m\u001b[39m ± \u001b[32m  4.273 ns\u001b[39m  \u001b[90m┊\u001b[39m GC \u001b[90m(\u001b[39mmean ± σ\u001b[90m):  \u001b[39m0.00% ± 0.00%\n",
       "\n",
       "  \u001b[39m▂\u001b[39m▆\u001b[39m▁\u001b[39m▃\u001b[39m▇\u001b[39m█\u001b[34m▇\u001b[39m\u001b[39m▆\u001b[39m▄\u001b[39m▂\u001b[39m▂\u001b[39m▂\u001b[32m▂\u001b[39m\u001b[39m▄\u001b[39m▄\u001b[39m▃\u001b[39m▃\u001b[39m▄\u001b[39m▃\u001b[39m▃\u001b[39m▂\u001b[39m▂\u001b[39m▁\u001b[39m▁\u001b[39m▁\u001b[39m▁\u001b[39m▂\u001b[39m▁\u001b[39m▁\u001b[39m▁\u001b[39m▁\u001b[39m▃\u001b[39m▂\u001b[39m▁\u001b[39m \u001b[39m▁\u001b[39m \u001b[39m \u001b[39m \u001b[39m \u001b[39m \u001b[39m \u001b[39m \u001b[39m \u001b[39m \u001b[39m \u001b[39m \u001b[39m \u001b[39m \u001b[39m \u001b[39m \u001b[39m \u001b[39m \u001b[39m \u001b[39m \u001b[39m \u001b[39m \u001b[39m \u001b[39m \u001b[39m \u001b[39m \u001b[39m \u001b[39m▂\n",
       "  \u001b[39m█\u001b[39m█\u001b[39m█\u001b[39m█\u001b[39m█\u001b[39m█\u001b[34m█\u001b[39m\u001b[39m█\u001b[39m█\u001b[39m█\u001b[39m█\u001b[39m█\u001b[32m█\u001b[39m\u001b[39m█\u001b[39m█\u001b[39m█\u001b[39m█\u001b[39m█\u001b[39m█\u001b[39m█\u001b[39m█\u001b[39m█\u001b[39m█\u001b[39m█\u001b[39m█\u001b[39m█\u001b[39m█\u001b[39m█\u001b[39m█\u001b[39m█\u001b[39m█\u001b[39m█\u001b[39m█\u001b[39m█\u001b[39m█\u001b[39m█\u001b[39m█\u001b[39m▇\u001b[39m▇\u001b[39m▆\u001b[39m▇\u001b[39m▇\u001b[39m▆\u001b[39m▇\u001b[39m▆\u001b[39m▆\u001b[39m▆\u001b[39m▅\u001b[39m▆\u001b[39m▅\u001b[39m▄\u001b[39m▅\u001b[39m▅\u001b[39m▆\u001b[39m▅\u001b[39m▄\u001b[39m▅\u001b[39m▄\u001b[39m▅\u001b[39m▄\u001b[39m▅\u001b[39m \u001b[39m█\n",
       "  112 ns\u001b[90m        \u001b[39m\u001b[90mHistogram: \u001b[39m\u001b[90m\u001b[1mlog(\u001b[22m\u001b[39m\u001b[90mfrequency\u001b[39m\u001b[90m\u001b[1m)\u001b[22m\u001b[39m\u001b[90m by time\u001b[39m        129 ns \u001b[0m\u001b[1m<\u001b[22m\n",
       "\n",
       " Memory estimate\u001b[90m: \u001b[39m\u001b[33m16 bytes\u001b[39m, allocs estimate\u001b[90m: \u001b[39m\u001b[33m1\u001b[39m."
      ]
     },
     "execution_count": 46,
     "metadata": {},
     "output_type": "execute_result"
    }
   ],
   "source": [
    "x = X_tr_vecs[:,1];\n",
    "@benchmark SEuclidean0(x, query)"
   ]
  },
  {
   "cell_type": "markdown",
   "id": "95bd0d20",
   "metadata": {},
   "source": [
    "##  Share prototypes across features\n",
    "\n",
    "https://groups.google.com/g/julia-users/c/xBcQRebyi_o\n",
    "\n"
   ]
  },
  {
   "cell_type": "code",
   "execution_count": 543,
   "id": "9b14e473",
   "metadata": {
    "ExecuteTime": {
     "end_time": "2022-08-24T23:14:18.516000+02:00",
     "start_time": "2022-08-24T21:14:11.075Z"
    }
   },
   "outputs": [
    {
     "data": {
      "text/plain": [
       "KmeansResult{Matrix{Float32}, Float32, Int64}(Float32[8.419607 137.42932 … 29.992058 40.49322], [16, 30, 16, 15, 16, 4, 16, 30, 1, 27  …  8, 1, 1, 26, 5, 29, 19, 31, 16, 7], Float32[0.05256829, 0.9406433, 0.05256829, 0.0007019043, 0.5940128, 0.0034179688, 0.05256829, 1.0611572, 0.17607117, 2.107788  …  0.2590332, 2.497635, 0.33685303, 0.0, 0.9626465, 2.2998047, 0.2913227, 0.00012207031, 0.05256829, 8.056641], [77320, 7852, 15690, 25974, 20854, 1463, 12399, 12794, 36379, 74528  …  12937, 17030, 11698, 22548, 41496, 11602, 16793, 41154, 24681, 12463], [77320, 7852, 15690, 25974, 20854, 1463, 12399, 12794, 36379, 74528  …  12937, 17030, 11698, 22548, 41496, 11602, 16793, 41154, 24681, 12463], 1.2748595f6, 6, true)"
      ]
     },
     "execution_count": 543,
     "metadata": {},
     "output_type": "execute_result"
    }
   ],
   "source": [
    "n_clusters = 32\n",
    "#R_shared = kmeans(Matrix(vec(X_tr_vecs)'), n_clusters; maxiter=200)\n",
    "R_shared = kmeans(X_tr_vecs[[1],:], n_clusters; maxiter=200)"
   ]
  },
  {
   "cell_type": "code",
   "execution_count": null,
   "id": "2323ab73",
   "metadata": {},
   "outputs": [],
   "source": [
    "function encode_shared(dist, vector::Array{T}, shared_prototypes::Array{T}) where T\n",
    "    n_clusters = legnth(shared_prototypes)\n",
    "    \n",
    "    closest_prototypes = Array{Int8}(undef, n_features, 1);\n",
    "    \n",
    "    @inbounds for (j,x) in enumerate(vector)\n",
    "        best_coordinate = 1\n",
    "        min_distance::T = typemax(T)\n",
    "        for k in 1:n_clusters\n",
    "           current_dist = dist(prototypes[k,j],x )\n",
    "           if current_dist < min_distance\n",
    "               best_coordinate = k\n",
    "               min_distance = current_dist\n",
    "           end\n",
    "           #println(k, ' ', j, ' ', best_coordinate, ' ',min_distance )\n",
    "        end            \n",
    "        closest_prototypes[j] = best_coordinate\n",
    "    end\n",
    "    return closest_prototypes\n",
    "end"
   ]
  },
  {
   "cell_type": "code",
   "execution_count": 542,
   "id": "bbef8ae0",
   "metadata": {},
   "outputs": [
    {
     "data": {
      "text/plain": [
       "32"
      ]
     },
     "execution_count": 542,
     "metadata": {},
     "output_type": "execute_result"
    }
   ],
   "source": [
    "maximum(R_shared.assignments)"
   ]
  },
  {
   "cell_type": "code",
   "execution_count": 536,
   "id": "0bce129f",
   "metadata": {},
   "outputs": [
    {
     "ename": "LoadError",
     "evalue": "MethodError: no method matching length(::KmeansResult{Matrix{Float32}, Float32, Int64})\n\u001b[0mClosest candidates are:\n\u001b[0m  length(\u001b[91m::Union{Base.KeySet, Base.ValueIterator}\u001b[39m) at abstractdict.jl:58\n\u001b[0m  length(\u001b[91m::Union{ZMQ._Message, Base.RefValue{ZMQ._Message}}\u001b[39m) at ~/.julia/packages/ZMQ/R3wSD/src/_message.jl:31\n\u001b[0m  length(\u001b[91m::Union{HDF5.Attribute, HDF5.Dataset}\u001b[39m) at ~/.julia/packages/HDF5/T4H0V/src/dataspaces.jl:196\n\u001b[0m  ...",
     "output_type": "error",
     "traceback": [
      "MethodError: no method matching length(::KmeansResult{Matrix{Float32}, Float32, Int64})\n\u001b[0mClosest candidates are:\n\u001b[0m  length(\u001b[91m::Union{Base.KeySet, Base.ValueIterator}\u001b[39m) at abstractdict.jl:58\n\u001b[0m  length(\u001b[91m::Union{ZMQ._Message, Base.RefValue{ZMQ._Message}}\u001b[39m) at ~/.julia/packages/ZMQ/R3wSD/src/_message.jl:31\n\u001b[0m  length(\u001b[91m::Union{HDF5.Attribute, HDF5.Dataset}\u001b[39m) at ~/.julia/packages/HDF5/T4H0V/src/dataspaces.jl:196\n\u001b[0m  ...",
      "",
      "Stacktrace:",
      " [1] length(g::Base.Generator{KmeansResult{Matrix{Float32}, Float32, Int64}, var\"#73#74\"})",
      "   @ Base ./generator.jl:50",
      " [2] _similar_shape(itr::Base.Generator{KmeansResult{Matrix{Float32}, Float32, Int64}, var\"#73#74\"}, #unused#::Base.HasLength)",
      "   @ Base ./array.jl:663",
      " [3] collect(itr::Base.Generator{KmeansResult{Matrix{Float32}, Float32, Int64}, var\"#73#74\"})",
      "   @ Base ./array.jl:786",
      " [4] top-level scope",
      "   @ In[536]:1",
      " [5] eval",
      "   @ ./boot.jl:368 [inlined]",
      " [6] include_string(mapexpr::typeof(REPL.softscope), mod::Module, code::String, filename::String)",
      "   @ Base ./loading.jl:1428"
     ]
    }
   ],
   "source": [
    "PQcodesShared = hcat([Int32.(r.assignments[:]) for r in R_shared]...)';"
   ]
  },
  {
   "cell_type": "code",
   "execution_count": null,
   "id": "dd8d4743",
   "metadata": {},
   "outputs": [],
   "source": []
  },
  {
   "cell_type": "code",
   "execution_count": 48,
   "id": "b0cbb21e",
   "metadata": {
    "ExecuteTime": {
     "end_time": "2022-08-24T23:14:40.097000+02:00",
     "start_time": "2022-08-24T21:14:40.094Z"
    }
   },
   "outputs": [
    {
     "data": {
      "text/plain": [
       "32"
      ]
     },
     "execution_count": 48,
     "metadata": {},
     "output_type": "execute_result"
    }
   ],
   "source": [
    "length(unique(R_shared.centers))"
   ]
  },
  {
   "cell_type": "code",
   "execution_count": 49,
   "id": "e88a8f09",
   "metadata": {
    "ExecuteTime": {
     "end_time": "2022-08-24T23:22:39.897000+02:00",
     "start_time": "2022-08-24T21:22:39.879Z"
    }
   },
   "outputs": [
    {
     "name": "stdout",
     "output_type": "stream",
     "text": [
      "153.08621\n",
      "172.0\n"
     ]
    }
   ],
   "source": [
    "println(maximum(R_shared.centers))\n",
    "println(maximum(X_tr_vecs[[1],:]))"
   ]
  },
  {
   "cell_type": "code",
   "execution_count": 50,
   "id": "ca31632f",
   "metadata": {
    "ExecuteTime": {
     "end_time": "2022-08-24T23:51:31.426000+02:00",
     "start_time": "2022-08-24T21:51:31.421Z"
    }
   },
   "outputs": [
    {
     "data": {
      "text/plain": [
       "1×32 Matrix{Float32}:\n",
       " 44.9633  100.415  2.90723  128.883  …  114.634  15.9686  124.474  26.4908"
      ]
     },
     "execution_count": 50,
     "metadata": {},
     "output_type": "execute_result"
    }
   ],
   "source": [
    "P_shared = R_shared.centers"
   ]
  },
  {
   "cell_type": "markdown",
   "id": "43f85b8b",
   "metadata": {},
   "source": [
    "Now we need a new encoding function that uses a single vector of prototypes"
   ]
  },
  {
   "cell_type": "code",
   "execution_count": 51,
   "id": "51c61c45",
   "metadata": {
    "ExecuteTime": {
     "end_time": "2022-08-24T23:57:46.107000+02:00",
     "start_time": "2022-08-24T21:57:46.099Z"
    }
   },
   "outputs": [
    {
     "data": {
      "text/plain": [
       "encode_fast_shared (generic function with 1 method)"
      ]
     },
     "execution_count": 51,
     "metadata": {},
     "output_type": "execute_result"
    }
   ],
   "source": [
    "function encode_fast_shared(dist, vector::Array{T}, prototypes::Array{T}) where T\n",
    "    \n",
    "    n_features = length(vector)\n",
    "    n_clusters = length(prototypes)\n",
    "    closest_prototypes = Array{Int8}(undef, n_features, 1);\n",
    "    \n",
    "    @inbounds @fastmath for (j,x) in enumerate(vector)\n",
    "        best_coordinate = 1\n",
    "        min_distance::T = typemax(T)\n",
    "        for k in 1:n_clusters\n",
    "           current_dist = dist(prototypes[k],x )\n",
    "           if current_dist < min_distance\n",
    "               best_coordinate = k\n",
    "               min_distance = current_dist\n",
    "           end\n",
    "        end            \n",
    "        closest_prototypes[j] = best_coordinate\n",
    "    end\n",
    "    return closest_prototypes\n",
    "end"
   ]
  },
  {
   "cell_type": "code",
   "execution_count": 52,
   "id": "8024a24b",
   "metadata": {
    "ExecuteTime": {
     "end_time": "2022-08-24T23:57:50.746000+02:00",
     "start_time": "2022-08-24T21:57:47.089Z"
    }
   },
   "outputs": [
    {
     "data": {
      "text/plain": [
       "BenchmarkTools.Trial: 10000 samples with 10 evaluations.\n",
       " Range \u001b[90m(\u001b[39m\u001b[36m\u001b[1mmin\u001b[22m\u001b[39m … \u001b[35mmax\u001b[39m\u001b[90m):  \u001b[39m\u001b[36m\u001b[1m1.729 μs\u001b[22m\u001b[39m … \u001b[35m 3.554 μs\u001b[39m  \u001b[90m┊\u001b[39m GC \u001b[90m(\u001b[39mmin … max\u001b[90m): \u001b[39m0.00% … 0.00%\n",
       " Time  \u001b[90m(\u001b[39m\u001b[34m\u001b[1mmedian\u001b[22m\u001b[39m\u001b[90m):     \u001b[39m\u001b[34m\u001b[1m1.771 μs              \u001b[22m\u001b[39m\u001b[90m┊\u001b[39m GC \u001b[90m(\u001b[39mmedian\u001b[90m):    \u001b[39m0.00%\n",
       " Time  \u001b[90m(\u001b[39m\u001b[32m\u001b[1mmean\u001b[22m\u001b[39m ± \u001b[32mσ\u001b[39m\u001b[90m):   \u001b[39m\u001b[32m\u001b[1m1.783 μs\u001b[22m\u001b[39m ± \u001b[32m86.371 ns\u001b[39m  \u001b[90m┊\u001b[39m GC \u001b[90m(\u001b[39mmean ± σ\u001b[90m):  \u001b[39m0.00% ± 0.00%\n",
       "\n",
       "  \u001b[39m▅\u001b[39m█\u001b[39m▄\u001b[39m▃\u001b[39m▂\u001b[39m█\u001b[34m▆\u001b[39m\u001b[39m▄\u001b[32m▅\u001b[39m\u001b[39m▂\u001b[39m▂\u001b[39m▂\u001b[39m▁\u001b[39m▁\u001b[39m▁\u001b[39m▂\u001b[39m▁\u001b[39m▂\u001b[39m▂\u001b[39m▁\u001b[39m▂\u001b[39m▂\u001b[39m \u001b[39m▂\u001b[39m▁\u001b[39m \u001b[39m \u001b[39m \u001b[39m \u001b[39m \u001b[39m \u001b[39m \u001b[39m \u001b[39m \u001b[39m \u001b[39m \u001b[39m \u001b[39m \u001b[39m \u001b[39m \u001b[39m \u001b[39m \u001b[39m \u001b[39m \u001b[39m \u001b[39m \u001b[39m \u001b[39m \u001b[39m \u001b[39m \u001b[39m \u001b[39m \u001b[39m \u001b[39m \u001b[39m \u001b[39m \u001b[39m \u001b[39m \u001b[39m \u001b[39m▂\n",
       "  \u001b[39m█\u001b[39m█\u001b[39m█\u001b[39m█\u001b[39m█\u001b[39m█\u001b[34m█\u001b[39m\u001b[39m█\u001b[32m█\u001b[39m\u001b[39m█\u001b[39m█\u001b[39m█\u001b[39m█\u001b[39m█\u001b[39m█\u001b[39m█\u001b[39m█\u001b[39m█\u001b[39m█\u001b[39m█\u001b[39m█\u001b[39m█\u001b[39m█\u001b[39m█\u001b[39m█\u001b[39m▇\u001b[39m█\u001b[39m▆\u001b[39m▅\u001b[39m▃\u001b[39m▅\u001b[39m▃\u001b[39m▁\u001b[39m▅\u001b[39m▁\u001b[39m▄\u001b[39m▃\u001b[39m▃\u001b[39m▃\u001b[39m▃\u001b[39m▄\u001b[39m▄\u001b[39m▄\u001b[39m▄\u001b[39m▁\u001b[39m▁\u001b[39m▃\u001b[39m▅\u001b[39m▅\u001b[39m▇\u001b[39m█\u001b[39m▆\u001b[39m█\u001b[39m█\u001b[39m▆\u001b[39m█\u001b[39m█\u001b[39m▇\u001b[39m \u001b[39m█\n",
       "  1.73 μs\u001b[90m      \u001b[39m\u001b[90mHistogram: \u001b[39m\u001b[90m\u001b[1mlog(\u001b[22m\u001b[39m\u001b[90mfrequency\u001b[39m\u001b[90m\u001b[1m)\u001b[22m\u001b[39m\u001b[90m by time\u001b[39m     2.14 μs \u001b[0m\u001b[1m<\u001b[22m\n",
       "\n",
       " Memory estimate\u001b[90m: \u001b[39m\u001b[33m192 bytes\u001b[39m, allocs estimate\u001b[90m: \u001b[39m\u001b[33m1\u001b[39m."
      ]
     },
     "execution_count": 52,
     "metadata": {},
     "output_type": "execute_result"
    }
   ],
   "source": [
    "@benchmark encode_fast_shared(sqeuclidean, query, P_shared)"
   ]
  },
  {
   "cell_type": "code",
   "execution_count": 53,
   "id": "817b19c2",
   "metadata": {
    "ExecuteTime": {
     "end_time": "2022-08-25T00:32:26.278000+02:00",
     "start_time": "2022-08-24T22:32:26.273Z"
    }
   },
   "outputs": [
    {
     "data": {
      "text/plain": [
       "compute_ADC_shared (generic function with 1 method)"
      ]
     },
     "execution_count": 53,
     "metadata": {},
     "output_type": "execute_result"
    }
   ],
   "source": [
    "function compute_ADC_shared(query, prototypes, dist)\n",
    "    n_clusters = length(prototypes)\n",
    "    ADC_table = Array{Float32}(undef, n_clusters)\n",
    "    \n",
    "    @inbounds  for p in 1:n_clusters            \n",
    "        ADC_table[p] = dist(query[p],  prototypes[p] )\n",
    "    end\n",
    "    return  ADC_table\n",
    "end"
   ]
  },
  {
   "cell_type": "code",
   "execution_count": 54,
   "id": "b23440e2",
   "metadata": {
    "ExecuteTime": {
     "end_time": "2022-08-25T00:48:02.296000+02:00",
     "start_time": "2022-08-24T22:48:02.240Z"
    }
   },
   "outputs": [],
   "source": [
    "query_code = encode_fast_shared(sqeuclidean, query, P_shared)\n",
    "x_code = PQcodes[:,1];\n",
    "adc_table_shared = Float32.(compute_ADC_shared(query, P_shared, SEuclidean0));\n",
    "#adc_dist(query_code, x_code,  adc_table)"
   ]
  },
  {
   "cell_type": "code",
   "execution_count": 55,
   "id": "e580d519",
   "metadata": {
    "ExecuteTime": {
     "end_time": "2022-08-25T00:48:10.950000+02:00",
     "start_time": "2022-08-24T22:48:08.893Z"
    },
    "scrolled": true
   },
   "outputs": [
    {
     "data": {
      "text/plain": [
       "BenchmarkTools.Trial: 10000 samples with 981 evaluations.\n",
       " Range \u001b[90m(\u001b[39m\u001b[36m\u001b[1mmin\u001b[22m\u001b[39m … \u001b[35mmax\u001b[39m\u001b[90m):  \u001b[39m\u001b[36m\u001b[1m63.710 ns\u001b[22m\u001b[39m … \u001b[35m 97.715 μs\u001b[39m  \u001b[90m┊\u001b[39m GC \u001b[90m(\u001b[39mmin … max\u001b[90m): \u001b[39m 0.00% … 99.89%\n",
       " Time  \u001b[90m(\u001b[39m\u001b[34m\u001b[1mmedian\u001b[22m\u001b[39m\u001b[90m):     \u001b[39m\u001b[34m\u001b[1m73.989 ns               \u001b[22m\u001b[39m\u001b[90m┊\u001b[39m GC \u001b[90m(\u001b[39mmedian\u001b[90m):    \u001b[39m 0.00%\n",
       " Time  \u001b[90m(\u001b[39m\u001b[32m\u001b[1mmean\u001b[22m\u001b[39m ± \u001b[32mσ\u001b[39m\u001b[90m):   \u001b[39m\u001b[32m\u001b[1m84.853 ns\u001b[22m\u001b[39m ± \u001b[32m976.411 ns\u001b[39m  \u001b[90m┊\u001b[39m GC \u001b[90m(\u001b[39mmean ± σ\u001b[90m):  \u001b[39m11.50% ±  1.00%\n",
       "\n",
       "  \u001b[39m \u001b[39m \u001b[39m \u001b[39m \u001b[39m \u001b[39m \u001b[39m \u001b[39m \u001b[39m \u001b[39m \u001b[39m \u001b[39m \u001b[39m \u001b[39m▁\u001b[39m▇\u001b[39m█\u001b[39m▃\u001b[39m▁\u001b[39m▃\u001b[34m▃\u001b[39m\u001b[39m▁\u001b[39m \u001b[39m \u001b[39m \u001b[39m \u001b[39m \u001b[39m \u001b[39m \u001b[39m \u001b[39m \u001b[39m \u001b[39m \u001b[39m \u001b[39m \u001b[39m \u001b[39m \u001b[39m \u001b[39m \u001b[32m \u001b[39m\u001b[39m \u001b[39m \u001b[39m \u001b[39m \u001b[39m \u001b[39m \u001b[39m \u001b[39m \u001b[39m \u001b[39m \u001b[39m \u001b[39m \u001b[39m \u001b[39m \u001b[39m \u001b[39m \u001b[39m \u001b[39m \u001b[39m \u001b[39m \u001b[39m \u001b[39m \u001b[39m \n",
       "  \u001b[39m▃\u001b[39m▂\u001b[39m▂\u001b[39m▂\u001b[39m▂\u001b[39m▂\u001b[39m▂\u001b[39m▂\u001b[39m▂\u001b[39m▂\u001b[39m▂\u001b[39m▁\u001b[39m▅\u001b[39m█\u001b[39m█\u001b[39m█\u001b[39m█\u001b[39m█\u001b[39m█\u001b[34m█\u001b[39m\u001b[39m█\u001b[39m█\u001b[39m▇\u001b[39m▇\u001b[39m▆\u001b[39m▅\u001b[39m▄\u001b[39m▄\u001b[39m▄\u001b[39m▃\u001b[39m▃\u001b[39m▃\u001b[39m▃\u001b[39m▃\u001b[39m▃\u001b[39m▃\u001b[39m▃\u001b[39m▃\u001b[32m▂\u001b[39m\u001b[39m▂\u001b[39m▂\u001b[39m▂\u001b[39m▂\u001b[39m▂\u001b[39m▂\u001b[39m▂\u001b[39m▂\u001b[39m▂\u001b[39m▂\u001b[39m▂\u001b[39m▂\u001b[39m▂\u001b[39m▂\u001b[39m▂\u001b[39m▂\u001b[39m▂\u001b[39m▂\u001b[39m▂\u001b[39m▂\u001b[39m▂\u001b[39m \u001b[39m▃\n",
       "  63.7 ns\u001b[90m         Histogram: frequency by time\u001b[39m         96.9 ns \u001b[0m\u001b[1m<\u001b[22m\n",
       "\n",
       " Memory estimate\u001b[90m: \u001b[39m\u001b[33m192 bytes\u001b[39m, allocs estimate\u001b[90m: \u001b[39m\u001b[33m1\u001b[39m."
      ]
     },
     "execution_count": 55,
     "metadata": {},
     "output_type": "execute_result"
    }
   ],
   "source": [
    "@benchmark adc_table = compute_ADC_shared(query, P_shared, SEuclidean0)"
   ]
  },
  {
   "cell_type": "markdown",
   "id": "f5acea50",
   "metadata": {},
   "source": [
    "## Improving distance between vectors with ADC_distance"
   ]
  },
  {
   "cell_type": "code",
   "execution_count": 207,
   "id": "c001e190",
   "metadata": {},
   "outputs": [
    {
     "data": {
      "text/plain": [
       "SEuclidean0 (generic function with 1 method)"
      ]
     },
     "execution_count": 207,
     "metadata": {},
     "output_type": "execute_result"
    }
   ],
   "source": [
    "function SEuclidean0(x, query)\n",
    "    res = zero(eltype(x))\n",
    "    @inbounds   for j in eachindex(x)\n",
    "        aux = (query[j] - x[j])\n",
    "        res += aux * aux\n",
    "    end\n",
    "    return res\n",
    "end"
   ]
  },
  {
   "cell_type": "code",
   "execution_count": 208,
   "id": "23287918",
   "metadata": {
    "scrolled": true
   },
   "outputs": [
    {
     "data": {
      "text/plain": [
       "BenchmarkTools.Trial: 10000 samples with 969 evaluations.\n",
       " Range \u001b[90m(\u001b[39m\u001b[36m\u001b[1mmin\u001b[22m\u001b[39m … \u001b[35mmax\u001b[39m\u001b[90m):  \u001b[39m\u001b[36m\u001b[1m77.442 ns\u001b[22m\u001b[39m … \u001b[35m178.277 ns\u001b[39m  \u001b[90m┊\u001b[39m GC \u001b[90m(\u001b[39mmin … max\u001b[90m): \u001b[39m0.00% … 0.00%\n",
       " Time  \u001b[90m(\u001b[39m\u001b[34m\u001b[1mmedian\u001b[22m\u001b[39m\u001b[90m):     \u001b[39m\u001b[34m\u001b[1m77.615 ns               \u001b[22m\u001b[39m\u001b[90m┊\u001b[39m GC \u001b[90m(\u001b[39mmedian\u001b[90m):    \u001b[39m0.00%\n",
       " Time  \u001b[90m(\u001b[39m\u001b[32m\u001b[1mmean\u001b[22m\u001b[39m ± \u001b[32mσ\u001b[39m\u001b[90m):   \u001b[39m\u001b[32m\u001b[1m79.027 ns\u001b[22m\u001b[39m ± \u001b[32m  3.064 ns\u001b[39m  \u001b[90m┊\u001b[39m GC \u001b[90m(\u001b[39mmean ± σ\u001b[90m):  \u001b[39m0.00% ± 0.00%\n",
       "\n",
       "  \u001b[39m█\u001b[34m▄\u001b[39m\u001b[39m▁\u001b[39m \u001b[39m \u001b[39m \u001b[32m \u001b[39m\u001b[39m \u001b[39m \u001b[39m▄\u001b[39m▆\u001b[39m▂\u001b[39m▂\u001b[39m \u001b[39m \u001b[39m \u001b[39m \u001b[39m \u001b[39m \u001b[39m \u001b[39m▁\u001b[39m▁\u001b[39m \u001b[39m \u001b[39m \u001b[39m \u001b[39m \u001b[39m \u001b[39m \u001b[39m \u001b[39m \u001b[39m \u001b[39m \u001b[39m \u001b[39m \u001b[39m \u001b[39m \u001b[39m \u001b[39m \u001b[39m \u001b[39m \u001b[39m \u001b[39m \u001b[39m \u001b[39m \u001b[39m \u001b[39m \u001b[39m \u001b[39m \u001b[39m \u001b[39m \u001b[39m \u001b[39m \u001b[39m \u001b[39m \u001b[39m \u001b[39m \u001b[39m \u001b[39m \u001b[39m \u001b[39m \u001b[39m▁\n",
       "  \u001b[39m█\u001b[34m█\u001b[39m\u001b[39m█\u001b[39m▇\u001b[39m▆\u001b[39m▆\u001b[32m▇\u001b[39m\u001b[39m▆\u001b[39m▇\u001b[39m█\u001b[39m█\u001b[39m█\u001b[39m█\u001b[39m█\u001b[39m▇\u001b[39m▇\u001b[39m▇\u001b[39m▇\u001b[39m▇\u001b[39m▇\u001b[39m█\u001b[39m█\u001b[39m▇\u001b[39m▇\u001b[39m▆\u001b[39m▇\u001b[39m▇\u001b[39m▅\u001b[39m▅\u001b[39m▆\u001b[39m▆\u001b[39m▆\u001b[39m▅\u001b[39m▅\u001b[39m▅\u001b[39m▅\u001b[39m▄\u001b[39m▅\u001b[39m▄\u001b[39m▅\u001b[39m▄\u001b[39m▃\u001b[39m▃\u001b[39m▅\u001b[39m▃\u001b[39m▃\u001b[39m▂\u001b[39m▅\u001b[39m▅\u001b[39m▄\u001b[39m▅\u001b[39m▅\u001b[39m▄\u001b[39m▄\u001b[39m▅\u001b[39m▄\u001b[39m▅\u001b[39m▄\u001b[39m▂\u001b[39m▄\u001b[39m \u001b[39m█\n",
       "  77.4 ns\u001b[90m       \u001b[39m\u001b[90mHistogram: \u001b[39m\u001b[90m\u001b[1mlog(\u001b[22m\u001b[39m\u001b[90mfrequency\u001b[39m\u001b[90m\u001b[1m)\u001b[22m\u001b[39m\u001b[90m by time\u001b[39m      92.4 ns \u001b[0m\u001b[1m<\u001b[22m\n",
       "\n",
       " Memory estimate\u001b[90m: \u001b[39m\u001b[33m0 bytes\u001b[39m, allocs estimate\u001b[90m: \u001b[39m\u001b[33m0\u001b[39m."
      ]
     },
     "execution_count": 208,
     "metadata": {},
     "output_type": "execute_result"
    }
   ],
   "source": [
    "@benchmark SEuclidean0($x, $query)"
   ]
  },
  {
   "cell_type": "code",
   "execution_count": 339,
   "id": "10111c02",
   "metadata": {},
   "outputs": [
    {
     "data": {
      "text/plain": [
       "adc_dist_shared (generic function with 1 method)"
      ]
     },
     "execution_count": 339,
     "metadata": {},
     "output_type": "execute_result"
    }
   ],
   "source": [
    "function adc_dist_shared(query_code, x_code,  adc_table)\n",
    "    res = zero(eltype(adc_table))\n",
    "    @inbounds @simd for j in eachindex(x_code)\n",
    "        res+= adc_table[x_code[j]]\n",
    "    end\n",
    "    return res\n",
    "end"
   ]
  },
  {
   "cell_type": "code",
   "execution_count": 340,
   "id": "4297ee97",
   "metadata": {},
   "outputs": [
    {
     "data": {
      "text/plain": [
       "BenchmarkTools.Trial: 10000 samples with 992 evaluations.\n",
       " Range \u001b[90m(\u001b[39m\u001b[36m\u001b[1mmin\u001b[22m\u001b[39m … \u001b[35mmax\u001b[39m\u001b[90m):  \u001b[39m\u001b[36m\u001b[1m38.978 ns\u001b[22m\u001b[39m … \u001b[35m83.459 ns\u001b[39m  \u001b[90m┊\u001b[39m GC \u001b[90m(\u001b[39mmin … max\u001b[90m): \u001b[39m0.00% … 0.00%\n",
       " Time  \u001b[90m(\u001b[39m\u001b[34m\u001b[1mmedian\u001b[22m\u001b[39m\u001b[90m):     \u001b[39m\u001b[34m\u001b[1m39.231 ns              \u001b[22m\u001b[39m\u001b[90m┊\u001b[39m GC \u001b[90m(\u001b[39mmedian\u001b[90m):    \u001b[39m0.00%\n",
       " Time  \u001b[90m(\u001b[39m\u001b[32m\u001b[1mmean\u001b[22m\u001b[39m ± \u001b[32mσ\u001b[39m\u001b[90m):   \u001b[39m\u001b[32m\u001b[1m39.488 ns\u001b[22m\u001b[39m ± \u001b[32m 1.096 ns\u001b[39m  \u001b[90m┊\u001b[39m GC \u001b[90m(\u001b[39mmean ± σ\u001b[90m):  \u001b[39m0.00% ± 0.00%\n",
       "\n",
       "  \u001b[39m \u001b[39m▁\u001b[39m▆\u001b[39m▇\u001b[34m█\u001b[39m\u001b[39m█\u001b[39m▄\u001b[39m▃\u001b[39m▄\u001b[32m▁\u001b[39m\u001b[39m \u001b[39m \u001b[39m \u001b[39m \u001b[39m \u001b[39m \u001b[39m \u001b[39m \u001b[39m \u001b[39m \u001b[39m \u001b[39m \u001b[39m \u001b[39m \u001b[39m▁\u001b[39m▂\u001b[39m \u001b[39m \u001b[39m▁\u001b[39m \u001b[39m \u001b[39m \u001b[39m \u001b[39m \u001b[39m \u001b[39m \u001b[39m \u001b[39m \u001b[39m \u001b[39m \u001b[39m \u001b[39m \u001b[39m \u001b[39m \u001b[39m \u001b[39m \u001b[39m \u001b[39m \u001b[39m \u001b[39m \u001b[39m \u001b[39m \u001b[39m \u001b[39m \u001b[39m \u001b[39m \u001b[39m \u001b[39m \u001b[39m \u001b[39m \u001b[39m▂\n",
       "  \u001b[39m█\u001b[39m█\u001b[39m█\u001b[39m█\u001b[34m█\u001b[39m\u001b[39m█\u001b[39m█\u001b[39m█\u001b[39m█\u001b[32m█\u001b[39m\u001b[39m█\u001b[39m█\u001b[39m▇\u001b[39m▇\u001b[39m█\u001b[39m▆\u001b[39m▇\u001b[39m▇\u001b[39m▇\u001b[39m█\u001b[39m▆\u001b[39m▆\u001b[39m█\u001b[39m█\u001b[39m█\u001b[39m█\u001b[39m█\u001b[39m█\u001b[39m█\u001b[39m▇\u001b[39m▇\u001b[39m▅\u001b[39m▆\u001b[39m▇\u001b[39m▆\u001b[39m▅\u001b[39m▆\u001b[39m▅\u001b[39m▅\u001b[39m▇\u001b[39m▆\u001b[39m▆\u001b[39m▆\u001b[39m▆\u001b[39m▆\u001b[39m▅\u001b[39m▅\u001b[39m▇\u001b[39m▆\u001b[39m▆\u001b[39m▇\u001b[39m▆\u001b[39m▅\u001b[39m█\u001b[39m▅\u001b[39m▆\u001b[39m▇\u001b[39m▆\u001b[39m▆\u001b[39m \u001b[39m█\n",
       "  39 ns\u001b[90m        \u001b[39m\u001b[90mHistogram: \u001b[39m\u001b[90m\u001b[1mlog(\u001b[22m\u001b[39m\u001b[90mfrequency\u001b[39m\u001b[90m\u001b[1m)\u001b[22m\u001b[39m\u001b[90m by time\u001b[39m      42.3 ns \u001b[0m\u001b[1m<\u001b[22m\n",
       "\n",
       " Memory estimate\u001b[90m: \u001b[39m\u001b[33m0 bytes\u001b[39m, allocs estimate\u001b[90m: \u001b[39m\u001b[33m0\u001b[39m."
      ]
     },
     "execution_count": 340,
     "metadata": {},
     "output_type": "execute_result"
    }
   ],
   "source": [
    "@benchmark adc_dist_shared($query_code, $x_code, $adc_table_shared)"
   ]
  },
  {
   "cell_type": "code",
   "execution_count": 329,
   "id": "82d9eb4a",
   "metadata": {},
   "outputs": [
    {
     "data": {
      "text/plain": [
       "adc_dist_shared_unrolled (generic function with 1 method)"
      ]
     },
     "execution_count": 329,
     "metadata": {},
     "output_type": "execute_result"
    }
   ],
   "source": [
    "function adc_dist_shared_unrolled(query_code, x_code,  adc_table)\n",
    "    res1 = zero(eltype(adc_table))\n",
    "    res2 = zero(eltype(adc_table))\n",
    "    res3 = zero(eltype(adc_table))\n",
    "    res4 = zero(eltype(adc_table))\n",
    "    \n",
    "    @inbounds @fastmath for j in 1:4:length(x_code)\n",
    "        res1 += adc_table[x_code[j]]\n",
    "        res2 += adc_table[x_code[j+1]]\n",
    "        res3 += adc_table[x_code[j+2]]\n",
    "        res4 += adc_table[x_code[j+3]]\n",
    "    end\n",
    "    \n",
    "    return res1 + res2 + res3 + res4\n",
    "end"
   ]
  },
  {
   "cell_type": "code",
   "execution_count": 330,
   "id": "8a36d9be",
   "metadata": {
    "scrolled": true
   },
   "outputs": [
    {
     "data": {
      "text/plain": [
       "BenchmarkTools.Trial: 10000 samples with 995 evaluations.\n",
       " Range \u001b[90m(\u001b[39m\u001b[36m\u001b[1mmin\u001b[22m\u001b[39m … \u001b[35mmax\u001b[39m\u001b[90m):  \u001b[39m\u001b[36m\u001b[1m30.694 ns\u001b[22m\u001b[39m … \u001b[35m86.307 ns\u001b[39m  \u001b[90m┊\u001b[39m GC \u001b[90m(\u001b[39mmin … max\u001b[90m): \u001b[39m0.00% … 0.00%\n",
       " Time  \u001b[90m(\u001b[39m\u001b[34m\u001b[1mmedian\u001b[22m\u001b[39m\u001b[90m):     \u001b[39m\u001b[34m\u001b[1m30.905 ns              \u001b[22m\u001b[39m\u001b[90m┊\u001b[39m GC \u001b[90m(\u001b[39mmedian\u001b[90m):    \u001b[39m0.00%\n",
       " Time  \u001b[90m(\u001b[39m\u001b[32m\u001b[1mmean\u001b[22m\u001b[39m ± \u001b[32mσ\u001b[39m\u001b[90m):   \u001b[39m\u001b[32m\u001b[1m31.661 ns\u001b[22m\u001b[39m ± \u001b[32m 2.603 ns\u001b[39m  \u001b[90m┊\u001b[39m GC \u001b[90m(\u001b[39mmean ± σ\u001b[90m):  \u001b[39m0.00% ± 0.00%\n",
       "\n",
       "  \u001b[39m█\u001b[34m▆\u001b[39m\u001b[39m▁\u001b[39m▁\u001b[32m▅\u001b[39m\u001b[39m▄\u001b[39m▂\u001b[39m▁\u001b[39m▃\u001b[39m▃\u001b[39m▂\u001b[39m \u001b[39m▁\u001b[39m▁\u001b[39m \u001b[39m \u001b[39m \u001b[39m \u001b[39m \u001b[39m \u001b[39m \u001b[39m \u001b[39m \u001b[39m \u001b[39m \u001b[39m \u001b[39m \u001b[39m \u001b[39m \u001b[39m \u001b[39m \u001b[39m \u001b[39m \u001b[39m \u001b[39m \u001b[39m \u001b[39m \u001b[39m \u001b[39m \u001b[39m \u001b[39m \u001b[39m \u001b[39m \u001b[39m \u001b[39m \u001b[39m \u001b[39m \u001b[39m \u001b[39m \u001b[39m \u001b[39m \u001b[39m \u001b[39m \u001b[39m \u001b[39m \u001b[39m \u001b[39m \u001b[39m \u001b[39m \u001b[39m \u001b[39m▂\n",
       "  \u001b[39m█\u001b[34m█\u001b[39m\u001b[39m█\u001b[39m█\u001b[32m█\u001b[39m\u001b[39m█\u001b[39m█\u001b[39m█\u001b[39m█\u001b[39m█\u001b[39m█\u001b[39m█\u001b[39m█\u001b[39m█\u001b[39m▇\u001b[39m▇\u001b[39m▆\u001b[39m▇\u001b[39m▇\u001b[39m▆\u001b[39m▇\u001b[39m▇\u001b[39m▇\u001b[39m▆\u001b[39m▆\u001b[39m▆\u001b[39m▇\u001b[39m▅\u001b[39m▆\u001b[39m▆\u001b[39m▆\u001b[39m▅\u001b[39m▁\u001b[39m▅\u001b[39m▅\u001b[39m▅\u001b[39m▄\u001b[39m▅\u001b[39m▅\u001b[39m▅\u001b[39m▃\u001b[39m▆\u001b[39m▄\u001b[39m▄\u001b[39m▄\u001b[39m▃\u001b[39m▁\u001b[39m▁\u001b[39m▃\u001b[39m▄\u001b[39m▅\u001b[39m▅\u001b[39m▅\u001b[39m▄\u001b[39m▄\u001b[39m▅\u001b[39m▃\u001b[39m▅\u001b[39m▅\u001b[39m \u001b[39m█\n",
       "  30.7 ns\u001b[90m      \u001b[39m\u001b[90mHistogram: \u001b[39m\u001b[90m\u001b[1mlog(\u001b[22m\u001b[39m\u001b[90mfrequency\u001b[39m\u001b[90m\u001b[1m)\u001b[22m\u001b[39m\u001b[90m by time\u001b[39m      44.2 ns \u001b[0m\u001b[1m<\u001b[22m\n",
       "\n",
       " Memory estimate\u001b[90m: \u001b[39m\u001b[33m0 bytes\u001b[39m, allocs estimate\u001b[90m: \u001b[39m\u001b[33m0\u001b[39m."
      ]
     },
     "execution_count": 330,
     "metadata": {},
     "output_type": "execute_result"
    }
   ],
   "source": [
    "@benchmark adc_dist_shared_unrolled($query_code, $x_code,  $adc_table_shared)"
   ]
  },
  {
   "cell_type": "code",
   "execution_count": 288,
   "id": "fe7efa90",
   "metadata": {
    "scrolled": true
   },
   "outputs": [
    {
     "data": {
      "text/plain": [
       "430293.53f0"
      ]
     },
     "execution_count": 288,
     "metadata": {},
     "output_type": "execute_result"
    }
   ],
   "source": [
    "adc_dist_shared(query_code, x_code,  adc_table_shared)"
   ]
  },
  {
   "cell_type": "code",
   "execution_count": 318,
   "id": "28a0e16c",
   "metadata": {
    "scrolled": true
   },
   "outputs": [
    {
     "data": {
      "text/plain": [
       "430293.47f0"
      ]
     },
     "execution_count": 318,
     "metadata": {},
     "output_type": "execute_result"
    }
   ],
   "source": [
    "adc_dist_shared_unrolled(query_code, x_code,  adc_table_shared)"
   ]
  },
  {
   "cell_type": "markdown",
   "id": "105beb80",
   "metadata": {},
   "source": [
    "Note that euclidean squared distance with `@fastmath` is still faster"
   ]
  },
  {
   "cell_type": "code",
   "execution_count": 212,
   "id": "3e2a2da7",
   "metadata": {},
   "outputs": [
    {
     "data": {
      "text/plain": [
       "SEuclidean0 (generic function with 1 method)"
      ]
     },
     "execution_count": 212,
     "metadata": {},
     "output_type": "execute_result"
    }
   ],
   "source": [
    "function SEuclidean0(x, query)\n",
    "    res = zero(eltype(x))\n",
    "    @inbounds @fastmath  for j in eachindex(x)\n",
    "        aux = (query[j] - x[j])\n",
    "        res += aux * aux\n",
    "    end\n",
    "    return res\n",
    "end"
   ]
  },
  {
   "cell_type": "code",
   "execution_count": 213,
   "id": "338f915f",
   "metadata": {
    "scrolled": true
   },
   "outputs": [
    {
     "data": {
      "text/plain": [
       "BenchmarkTools.Trial: 10000 samples with 999 evaluations.\n",
       " Range \u001b[90m(\u001b[39m\u001b[36m\u001b[1mmin\u001b[22m\u001b[39m … \u001b[35mmax\u001b[39m\u001b[90m):  \u001b[39m\u001b[36m\u001b[1m9.510 ns\u001b[22m\u001b[39m … \u001b[35m22.480 ns\u001b[39m  \u001b[90m┊\u001b[39m GC \u001b[90m(\u001b[39mmin … max\u001b[90m): \u001b[39m0.00% … 0.00%\n",
       " Time  \u001b[90m(\u001b[39m\u001b[34m\u001b[1mmedian\u001b[22m\u001b[39m\u001b[90m):     \u001b[39m\u001b[34m\u001b[1m9.635 ns              \u001b[22m\u001b[39m\u001b[90m┊\u001b[39m GC \u001b[90m(\u001b[39mmedian\u001b[90m):    \u001b[39m0.00%\n",
       " Time  \u001b[90m(\u001b[39m\u001b[32m\u001b[1mmean\u001b[22m\u001b[39m ± \u001b[32mσ\u001b[39m\u001b[90m):   \u001b[39m\u001b[32m\u001b[1m9.771 ns\u001b[22m\u001b[39m ± \u001b[32m 0.512 ns\u001b[39m  \u001b[90m┊\u001b[39m GC \u001b[90m(\u001b[39mmean ± σ\u001b[90m):  \u001b[39m0.00% ± 0.00%\n",
       "\n",
       "  \u001b[39m \u001b[39m▁\u001b[39m▅\u001b[39m█\u001b[34m \u001b[39m\u001b[39m▄\u001b[39m▂\u001b[39m▄\u001b[32m \u001b[39m\u001b[39m▂\u001b[39m \u001b[39m▂\u001b[39m▆\u001b[39m \u001b[39m▂\u001b[39m▁\u001b[39m▂\u001b[39m \u001b[39m▁\u001b[39m \u001b[39m▁\u001b[39m \u001b[39m \u001b[39m \u001b[39m \u001b[39m \u001b[39m \u001b[39m \u001b[39m \u001b[39m \u001b[39m \u001b[39m \u001b[39m \u001b[39m \u001b[39m \u001b[39m \u001b[39m \u001b[39m \u001b[39m \u001b[39m \u001b[39m \u001b[39m \u001b[39m \u001b[39m \u001b[39m \u001b[39m \u001b[39m \u001b[39m \u001b[39m \u001b[39m \u001b[39m \u001b[39m \u001b[39m \u001b[39m \u001b[39m \u001b[39m \u001b[39m \u001b[39m \u001b[39m \u001b[39m▂\n",
       "  \u001b[39m▃\u001b[39m█\u001b[39m█\u001b[39m█\u001b[34m▁\u001b[39m\u001b[39m█\u001b[39m█\u001b[39m█\u001b[32m▁\u001b[39m\u001b[39m█\u001b[39m▇\u001b[39m█\u001b[39m█\u001b[39m▁\u001b[39m█\u001b[39m█\u001b[39m█\u001b[39m▁\u001b[39m█\u001b[39m█\u001b[39m█\u001b[39m█\u001b[39m▁\u001b[39m█\u001b[39m▇\u001b[39m▇\u001b[39m▁\u001b[39m█\u001b[39m▇\u001b[39m▆\u001b[39m▆\u001b[39m▁\u001b[39m▆\u001b[39m▆\u001b[39m▇\u001b[39m▁\u001b[39m▆\u001b[39m▆\u001b[39m▄\u001b[39m▅\u001b[39m▁\u001b[39m▆\u001b[39m▅\u001b[39m▄\u001b[39m▁\u001b[39m▄\u001b[39m▅\u001b[39m▄\u001b[39m▄\u001b[39m▁\u001b[39m▅\u001b[39m▄\u001b[39m▃\u001b[39m▁\u001b[39m▅\u001b[39m▄\u001b[39m▅\u001b[39m▄\u001b[39m \u001b[39m█\n",
       "  9.51 ns\u001b[90m      \u001b[39m\u001b[90mHistogram: \u001b[39m\u001b[90m\u001b[1mlog(\u001b[22m\u001b[39m\u001b[90mfrequency\u001b[39m\u001b[90m\u001b[1m)\u001b[22m\u001b[39m\u001b[90m by time\u001b[39m     11.4 ns \u001b[0m\u001b[1m<\u001b[22m\n",
       "\n",
       " Memory estimate\u001b[90m: \u001b[39m\u001b[33m0 bytes\u001b[39m, allocs estimate\u001b[90m: \u001b[39m\u001b[33m0\u001b[39m."
      ]
     },
     "execution_count": 213,
     "metadata": {},
     "output_type": "execute_result"
    }
   ],
   "source": [
    "@benchmark SEuclidean0($x, $query)"
   ]
  },
  {
   "cell_type": "markdown",
   "id": "6e665b43",
   "metadata": {},
   "source": [
    "What if we use an adctable cotaining only integers?"
   ]
  },
  {
   "cell_type": "code",
   "execution_count": 415,
   "id": "752b9231",
   "metadata": {},
   "outputs": [
    {
     "data": {
      "text/plain": [
       "adc_dist_shared (generic function with 1 method)"
      ]
     },
     "execution_count": 415,
     "metadata": {},
     "output_type": "execute_result"
    }
   ],
   "source": [
    "function adc_dist_shared(query_code, x_code,  adc_table)\n",
    "    res = zero(eltype(adc_table))\n",
    "    @inbounds @simd for j in eachindex(x_code)\n",
    "        res+= adc_table[x_code[j]]\n",
    "    end\n",
    "    return res\n",
    "end"
   ]
  },
  {
   "cell_type": "code",
   "execution_count": 439,
   "id": "4012d213",
   "metadata": {},
   "outputs": [],
   "source": [
    "adc_table_shared_int = Int32.(round.(adc_table_shared));"
   ]
  },
  {
   "cell_type": "code",
   "execution_count": 431,
   "id": "76dfcb5b",
   "metadata": {},
   "outputs": [
    {
     "data": {
      "text/plain": [
       "BenchmarkTools.Trial: 10000 samples with 992 evaluations.\n",
       " Range \u001b[90m(\u001b[39m\u001b[36m\u001b[1mmin\u001b[22m\u001b[39m … \u001b[35mmax\u001b[39m\u001b[90m):  \u001b[39m\u001b[36m\u001b[1m37.341 ns\u001b[22m\u001b[39m … \u001b[35m111.350 ns\u001b[39m  \u001b[90m┊\u001b[39m GC \u001b[90m(\u001b[39mmin … max\u001b[90m): \u001b[39m0.00% … 0.00%\n",
       " Time  \u001b[90m(\u001b[39m\u001b[34m\u001b[1mmedian\u001b[22m\u001b[39m\u001b[90m):     \u001b[39m\u001b[34m\u001b[1m37.676 ns               \u001b[22m\u001b[39m\u001b[90m┊\u001b[39m GC \u001b[90m(\u001b[39mmedian\u001b[90m):    \u001b[39m0.00%\n",
       " Time  \u001b[90m(\u001b[39m\u001b[32m\u001b[1mmean\u001b[22m\u001b[39m ± \u001b[32mσ\u001b[39m\u001b[90m):   \u001b[39m\u001b[32m\u001b[1m38.597 ns\u001b[22m\u001b[39m ± \u001b[32m  3.020 ns\u001b[39m  \u001b[90m┊\u001b[39m GC \u001b[90m(\u001b[39mmean ± σ\u001b[90m):  \u001b[39m0.00% ± 0.00%\n",
       "\n",
       "  \u001b[39m▆\u001b[34m█\u001b[39m\u001b[39m▃\u001b[39m▂\u001b[39m▂\u001b[32m▄\u001b[39m\u001b[39m▅\u001b[39m▂\u001b[39m▁\u001b[39m▁\u001b[39m▁\u001b[39m▂\u001b[39m▂\u001b[39m▂\u001b[39m▁\u001b[39m \u001b[39m \u001b[39m \u001b[39m \u001b[39m \u001b[39m \u001b[39m \u001b[39m \u001b[39m \u001b[39m \u001b[39m \u001b[39m \u001b[39m \u001b[39m \u001b[39m \u001b[39m \u001b[39m \u001b[39m \u001b[39m \u001b[39m \u001b[39m \u001b[39m \u001b[39m \u001b[39m \u001b[39m \u001b[39m \u001b[39m \u001b[39m \u001b[39m \u001b[39m \u001b[39m \u001b[39m \u001b[39m \u001b[39m \u001b[39m \u001b[39m \u001b[39m \u001b[39m \u001b[39m \u001b[39m \u001b[39m \u001b[39m \u001b[39m \u001b[39m \u001b[39m \u001b[39m \u001b[39m▁\n",
       "  \u001b[39m█\u001b[34m█\u001b[39m\u001b[39m█\u001b[39m█\u001b[39m█\u001b[32m█\u001b[39m\u001b[39m█\u001b[39m█\u001b[39m█\u001b[39m█\u001b[39m█\u001b[39m█\u001b[39m█\u001b[39m█\u001b[39m█\u001b[39m▇\u001b[39m█\u001b[39m▆\u001b[39m█\u001b[39m▇\u001b[39m▇\u001b[39m▇\u001b[39m█\u001b[39m█\u001b[39m▇\u001b[39m▇\u001b[39m▇\u001b[39m▇\u001b[39m▇\u001b[39m▇\u001b[39m▇\u001b[39m▆\u001b[39m▆\u001b[39m▆\u001b[39m▆\u001b[39m▅\u001b[39m▆\u001b[39m▆\u001b[39m▆\u001b[39m▆\u001b[39m▆\u001b[39m▅\u001b[39m▅\u001b[39m▅\u001b[39m▅\u001b[39m▅\u001b[39m▅\u001b[39m▅\u001b[39m▅\u001b[39m▅\u001b[39m▅\u001b[39m▅\u001b[39m▆\u001b[39m▅\u001b[39m▅\u001b[39m▄\u001b[39m▄\u001b[39m▅\u001b[39m▁\u001b[39m▅\u001b[39m \u001b[39m█\n",
       "  37.3 ns\u001b[90m       \u001b[39m\u001b[90mHistogram: \u001b[39m\u001b[90m\u001b[1mlog(\u001b[22m\u001b[39m\u001b[90mfrequency\u001b[39m\u001b[90m\u001b[1m)\u001b[22m\u001b[39m\u001b[90m by time\u001b[39m      51.3 ns \u001b[0m\u001b[1m<\u001b[22m\n",
       "\n",
       " Memory estimate\u001b[90m: \u001b[39m\u001b[33m0 bytes\u001b[39m, allocs estimate\u001b[90m: \u001b[39m\u001b[33m0\u001b[39m."
      ]
     },
     "execution_count": 431,
     "metadata": {},
     "output_type": "execute_result"
    }
   ],
   "source": [
    "@benchmark adc_dist_shared($query_code, $x_code,  $adc_table_shared_int)"
   ]
  },
  {
   "cell_type": "markdown",
   "id": "a0c336a4",
   "metadata": {},
   "source": [
    "## BWcode\n",
    "\n",
    "Since different the same value on a pqcode found in different coordinates, refers to the same real number  when using a SharedQuantizer, we can iterate over the 128 vector coordinates of a pqcode and add up the value sin the `adc_table_shared`  or.... we can iterate over a `K`-dimensional vector that we call the BW code and add the values in `adc_table_shared` weighted by the amount of each prototype has been seen in a pqcode, which is precisely what the BW code stores."
   ]
  },
  {
   "cell_type": "code",
   "execution_count": 611,
   "id": "4d6e8adb",
   "metadata": {},
   "outputs": [],
   "source": [
    "n_examples = size(X_tr_vecs,2)\n",
    "BWcodes = Array{Int16}(undef, n_clusters, n_examples);\n",
    "bw_code = pq_code_to_bw_code(x_code, n_clusters);"
   ]
  },
  {
   "cell_type": "code",
   "execution_count": 612,
   "id": "dda1ca3c",
   "metadata": {},
   "outputs": [
    {
     "data": {
      "text/plain": [
       "pq_code_to_bw_code (generic function with 1 method)"
      ]
     },
     "execution_count": 612,
     "metadata": {},
     "output_type": "execute_result"
    }
   ],
   "source": [
    "function pq_code_to_bw_code(pqcode, n_clusters)\n",
    "    bw_code = zeros(eltype(pqcode), n_clusters)\n",
    "    for c in pqcode\n",
    "        bw_code[c] += 1\n",
    "    end\n",
    "    return bw_code\n",
    "end"
   ]
  },
  {
   "cell_type": "markdown",
   "id": "820b36d2",
   "metadata": {},
   "source": [
    "Now let´s verify that the distance between a query"
   ]
  },
  {
   "cell_type": "code",
   "execution_count": 609,
   "id": "d387608f",
   "metadata": {},
   "outputs": [
    {
     "data": {
      "text/plain": [
       "bw_adc_dist_shared (generic function with 1 method)"
      ]
     },
     "execution_count": 609,
     "metadata": {},
     "output_type": "execute_result"
    }
   ],
   "source": [
    "function bw_adc_dist_shared(query_code, bw_code,  adc_table)\n",
    "    res = zero(eltype(adc_table))\n",
    "    @inbounds @simd for j in eachindex(bw_code)\n",
    "        res+= adc_table[j] * bw_code[j]\n",
    "    end\n",
    "    return res\n",
    "end"
   ]
  },
  {
   "cell_type": "code",
   "execution_count": 610,
   "id": "013ed6c7",
   "metadata": {},
   "outputs": [
    {
     "data": {
      "text/plain": [
       "BenchmarkTools.Trial: 10000 samples with 1000 evaluations.\n",
       " Range \u001b[90m(\u001b[39m\u001b[36m\u001b[1mmin\u001b[22m\u001b[39m … \u001b[35mmax\u001b[39m\u001b[90m):  \u001b[39m\u001b[36m\u001b[1m4.875 ns\u001b[22m\u001b[39m … \u001b[35m9.834 ns\u001b[39m  \u001b[90m┊\u001b[39m GC \u001b[90m(\u001b[39mmin … max\u001b[90m): \u001b[39m0.00% … 0.00%\n",
       " Time  \u001b[90m(\u001b[39m\u001b[34m\u001b[1mmedian\u001b[22m\u001b[39m\u001b[90m):     \u001b[39m\u001b[34m\u001b[1m5.000 ns             \u001b[22m\u001b[39m\u001b[90m┊\u001b[39m GC \u001b[90m(\u001b[39mmedian\u001b[90m):    \u001b[39m0.00%\n",
       " Time  \u001b[90m(\u001b[39m\u001b[32m\u001b[1mmean\u001b[22m\u001b[39m ± \u001b[32mσ\u001b[39m\u001b[90m):   \u001b[39m\u001b[32m\u001b[1m4.995 ns\u001b[22m\u001b[39m ± \u001b[32m0.085 ns\u001b[39m  \u001b[90m┊\u001b[39m GC \u001b[90m(\u001b[39mmean ± σ\u001b[90m):  \u001b[39m0.00% ± 0.00%\n",
       "\n",
       "  \u001b[39m \u001b[39m \u001b[39m \u001b[39m \u001b[39m \u001b[39m \u001b[39m \u001b[39m \u001b[39m \u001b[39m \u001b[39m \u001b[39m \u001b[39m \u001b[39m \u001b[39m \u001b[39m \u001b[39m \u001b[39m \u001b[39m▂\u001b[39m \u001b[39m \u001b[39m \u001b[39m \u001b[39m \u001b[39m \u001b[39m \u001b[39m \u001b[32m \u001b[39m\u001b[34m█\u001b[39m\u001b[39m \u001b[39m \u001b[39m \u001b[39m \u001b[39m \u001b[39m \u001b[39m \u001b[39m \u001b[39m \u001b[39m \u001b[39m \u001b[39m \u001b[39m \u001b[39m \u001b[39m \u001b[39m \u001b[39m \u001b[39m \u001b[39m \u001b[39m \u001b[39m \u001b[39m \u001b[39m \u001b[39m \u001b[39m \u001b[39m \u001b[39m \u001b[39m \u001b[39m \u001b[39m \n",
       "  \u001b[39m▂\u001b[39m▁\u001b[39m▁\u001b[39m▁\u001b[39m▁\u001b[39m▁\u001b[39m▁\u001b[39m▁\u001b[39m▁\u001b[39m▂\u001b[39m▁\u001b[39m▁\u001b[39m▁\u001b[39m▁\u001b[39m▁\u001b[39m▁\u001b[39m▁\u001b[39m▁\u001b[39m█\u001b[39m▆\u001b[39m▁\u001b[39m▁\u001b[39m▁\u001b[39m▁\u001b[39m▁\u001b[39m▁\u001b[39m▁\u001b[32m▁\u001b[39m\u001b[34m█\u001b[39m\u001b[39m▁\u001b[39m▁\u001b[39m▁\u001b[39m▁\u001b[39m▁\u001b[39m▁\u001b[39m▁\u001b[39m▁\u001b[39m▃\u001b[39m▃\u001b[39m▁\u001b[39m▁\u001b[39m▁\u001b[39m▁\u001b[39m▁\u001b[39m▁\u001b[39m▁\u001b[39m▁\u001b[39m▄\u001b[39m▁\u001b[39m▁\u001b[39m▁\u001b[39m▁\u001b[39m▁\u001b[39m▁\u001b[39m▁\u001b[39m▁\u001b[39m▂\u001b[39m \u001b[39m▂\n",
       "  4.88 ns\u001b[90m        Histogram: frequency by time\u001b[39m       5.12 ns \u001b[0m\u001b[1m<\u001b[22m\n",
       "\n",
       " Memory estimate\u001b[90m: \u001b[39m\u001b[33m0 bytes\u001b[39m, allocs estimate\u001b[90m: \u001b[39m\u001b[33m0\u001b[39m."
      ]
     },
     "execution_count": 610,
     "metadata": {},
     "output_type": "execute_result"
    }
   ],
   "source": [
    "@benchmark bw_adc_dist_shared($query_code, $bw_code, $adc_table_shared)"
   ]
  },
  {
   "cell_type": "code",
   "execution_count": 613,
   "id": "8e60fd49",
   "metadata": {},
   "outputs": [
    {
     "data": {
      "text/plain": [
       "430293.53f0"
      ]
     },
     "execution_count": 613,
     "metadata": {},
     "output_type": "execute_result"
    }
   ],
   "source": [
    "bw_adc_dist_shared(query_code, bw_code, adc_table_shared)"
   ]
  },
  {
   "cell_type": "code",
   "execution_count": 614,
   "id": "1bb6908b",
   "metadata": {},
   "outputs": [
    {
     "data": {
      "text/plain": [
       "430293.53f0"
      ]
     },
     "execution_count": 614,
     "metadata": {},
     "output_type": "execute_result"
    }
   ],
   "source": [
    "adc_dist_shared(query_code, x_code, adc_table_shared)"
   ]
  },
  {
   "cell_type": "markdown",
   "id": "1c36b085",
   "metadata": {},
   "source": [
    "## Linear scann study"
   ]
  },
  {
   "cell_type": "code",
   "execution_count": null,
   "id": "a74c51c7",
   "metadata": {},
   "outputs": [],
   "source": []
  },
  {
   "cell_type": "markdown",
   "id": "832eb410",
   "metadata": {},
   "source": [
    "### Exact version"
   ]
  },
  {
   "cell_type": "code",
   "execution_count": 303,
   "id": "e9f22dc5",
   "metadata": {},
   "outputs": [
    {
     "data": {
      "text/plain": [
       "BenchmarkTools.Trial: 27 samples with 1 evaluation.\n",
       " Range \u001b[90m(\u001b[39m\u001b[36m\u001b[1mmin\u001b[22m\u001b[39m … \u001b[35mmax\u001b[39m\u001b[90m):  \u001b[39m\u001b[36m\u001b[1m140.659 ms\u001b[22m\u001b[39m … \u001b[35m242.125 ms\u001b[39m  \u001b[90m┊\u001b[39m GC \u001b[90m(\u001b[39mmin … max\u001b[90m): \u001b[39m 0.00% … 41.35%\n",
       " Time  \u001b[90m(\u001b[39m\u001b[34m\u001b[1mmedian\u001b[22m\u001b[39m\u001b[90m):     \u001b[39m\u001b[34m\u001b[1m149.052 ms               \u001b[22m\u001b[39m\u001b[90m┊\u001b[39m GC \u001b[90m(\u001b[39mmedian\u001b[90m):    \u001b[39m 0.00%\n",
       " Time  \u001b[90m(\u001b[39m\u001b[32m\u001b[1mmean\u001b[22m\u001b[39m ± \u001b[32mσ\u001b[39m\u001b[90m):   \u001b[39m\u001b[32m\u001b[1m189.397 ms\u001b[22m\u001b[39m ± \u001b[32m 47.933 ms\u001b[39m  \u001b[90m┊\u001b[39m GC \u001b[90m(\u001b[39mmean ± σ\u001b[90m):  \u001b[39m24.96% ± 21.00%\n",
       "\n",
       "  \u001b[39m \u001b[39m█\u001b[39m▂\u001b[34m▂\u001b[39m\u001b[39m \u001b[39m \u001b[39m \u001b[39m \u001b[39m \u001b[39m \u001b[39m \u001b[39m \u001b[39m \u001b[39m \u001b[39m \u001b[39m \u001b[39m \u001b[39m \u001b[39m \u001b[39m \u001b[39m \u001b[39m \u001b[39m \u001b[39m \u001b[39m \u001b[39m \u001b[39m \u001b[39m \u001b[39m \u001b[32m \u001b[39m\u001b[39m \u001b[39m \u001b[39m \u001b[39m \u001b[39m \u001b[39m \u001b[39m \u001b[39m \u001b[39m \u001b[39m \u001b[39m \u001b[39m \u001b[39m \u001b[39m \u001b[39m \u001b[39m \u001b[39m \u001b[39m \u001b[39m \u001b[39m \u001b[39m \u001b[39m \u001b[39m \u001b[39m \u001b[39m \u001b[39m \u001b[39m \u001b[39m▂\u001b[39m \u001b[39m▅\u001b[39m \u001b[39m \u001b[39m \n",
       "  \u001b[39m█\u001b[39m█\u001b[39m█\u001b[34m█\u001b[39m\u001b[39m▁\u001b[39m▅\u001b[39m▁\u001b[39m▁\u001b[39m▁\u001b[39m▁\u001b[39m▁\u001b[39m▁\u001b[39m▁\u001b[39m▁\u001b[39m▁\u001b[39m▁\u001b[39m▁\u001b[39m▁\u001b[39m▁\u001b[39m▁\u001b[39m▁\u001b[39m▁\u001b[39m▁\u001b[39m▁\u001b[39m▁\u001b[39m▁\u001b[39m▁\u001b[39m▁\u001b[39m▁\u001b[32m▁\u001b[39m\u001b[39m▁\u001b[39m▁\u001b[39m▁\u001b[39m▁\u001b[39m▁\u001b[39m▁\u001b[39m▁\u001b[39m▁\u001b[39m▁\u001b[39m▁\u001b[39m▁\u001b[39m▁\u001b[39m▁\u001b[39m▁\u001b[39m▁\u001b[39m▁\u001b[39m▁\u001b[39m▁\u001b[39m▁\u001b[39m▁\u001b[39m▁\u001b[39m▁\u001b[39m▁\u001b[39m▁\u001b[39m▁\u001b[39m▅\u001b[39m▅\u001b[39m█\u001b[39m█\u001b[39m█\u001b[39m█\u001b[39m \u001b[39m▁\n",
       "  141 ms\u001b[90m           Histogram: frequency by time\u001b[39m          242 ms \u001b[0m\u001b[1m<\u001b[22m\n",
       "\n",
       " Memory estimate\u001b[90m: \u001b[39m\u001b[33m553.13 MiB\u001b[39m, allocs estimate\u001b[90m: \u001b[39m\u001b[33m1000002\u001b[39m."
      ]
     },
     "execution_count": 303,
     "metadata": {},
     "output_type": "execute_result"
    }
   ],
   "source": [
    "function SEuclidean0(x, query)\n",
    "    res = zero(eltype(x))\n",
    "    @inbounds @fastmath  for j in eachindex(x)\n",
    "        aux = (query[j] - x[j])\n",
    "        res += aux * aux\n",
    "    end\n",
    "    return res\n",
    "end\n",
    "\n",
    "function linear_scann_exact(query, X)\n",
    "\n",
    "    n_features, n_examples = size(X)\n",
    "    distances = Array{eltype(query)}(undef, n_examples)\n",
    "    \n",
    "    @inbounds @fastmath  for j in 1:n_examples\n",
    "        distances[j] = SEuclidean0(query, X[:,j])    \n",
    "    end\n",
    "    return distances\n",
    "end\n",
    "\n",
    "@benchmark linear_scann_exact(query, X_tr_vecs)"
   ]
  },
  {
   "cell_type": "code",
   "execution_count": 297,
   "id": "4c6f17ac",
   "metadata": {},
   "outputs": [
    {
     "data": {
      "text/plain": [
       "BenchmarkTools.Trial: 58 samples with 1 evaluation.\n",
       " Range \u001b[90m(\u001b[39m\u001b[36m\u001b[1mmin\u001b[22m\u001b[39m … \u001b[35mmax\u001b[39m\u001b[90m):  \u001b[39m\u001b[36m\u001b[1m45.220 ms\u001b[22m\u001b[39m … \u001b[35m   1.013 s\u001b[39m  \u001b[90m┊\u001b[39m GC \u001b[90m(\u001b[39mmin … max\u001b[90m): \u001b[39m 0.00% … 95.17%\n",
       " Time  \u001b[90m(\u001b[39m\u001b[34m\u001b[1mmedian\u001b[22m\u001b[39m\u001b[90m):     \u001b[39m\u001b[34m\u001b[1m49.153 ms               \u001b[22m\u001b[39m\u001b[90m┊\u001b[39m GC \u001b[90m(\u001b[39mmedian\u001b[90m):    \u001b[39m 0.00%\n",
       " Time  \u001b[90m(\u001b[39m\u001b[32m\u001b[1mmean\u001b[22m\u001b[39m ± \u001b[32mσ\u001b[39m\u001b[90m):   \u001b[39m\u001b[32m\u001b[1m98.816 ms\u001b[22m\u001b[39m ± \u001b[32m212.307 ms\u001b[39m  \u001b[90m┊\u001b[39m GC \u001b[90m(\u001b[39mmean ± σ\u001b[90m):  \u001b[39m49.78% ± 21.25%\n",
       "\n",
       "  \u001b[34m█\u001b[39m\u001b[39m \u001b[39m \u001b[32m \u001b[39m\u001b[39m \u001b[39m \u001b[39m \u001b[39m \u001b[39m \u001b[39m \u001b[39m \u001b[39m \u001b[39m \u001b[39m \u001b[39m \u001b[39m \u001b[39m \u001b[39m \u001b[39m \u001b[39m \u001b[39m \u001b[39m \u001b[39m \u001b[39m \u001b[39m \u001b[39m \u001b[39m \u001b[39m \u001b[39m \u001b[39m \u001b[39m \u001b[39m \u001b[39m \u001b[39m \u001b[39m \u001b[39m \u001b[39m \u001b[39m \u001b[39m \u001b[39m \u001b[39m \u001b[39m \u001b[39m \u001b[39m \u001b[39m \u001b[39m \u001b[39m \u001b[39m \u001b[39m \u001b[39m \u001b[39m \u001b[39m \u001b[39m \u001b[39m \u001b[39m \u001b[39m \u001b[39m \u001b[39m \u001b[39m \u001b[39m \u001b[39m \u001b[39m \n",
       "  \u001b[34m█\u001b[39m\u001b[39m▁\u001b[39m▁\u001b[32m▁\u001b[39m\u001b[39m▁\u001b[39m▁\u001b[39m▁\u001b[39m▁\u001b[39m▁\u001b[39m▁\u001b[39m▁\u001b[39m▁\u001b[39m▁\u001b[39m▁\u001b[39m▁\u001b[39m▁\u001b[39m▁\u001b[39m▁\u001b[39m▁\u001b[39m▁\u001b[39m▁\u001b[39m▁\u001b[39m▁\u001b[39m▁\u001b[39m▁\u001b[39m▁\u001b[39m▁\u001b[39m▁\u001b[39m▁\u001b[39m▁\u001b[39m▁\u001b[39m▁\u001b[39m▁\u001b[39m▁\u001b[39m▁\u001b[39m▁\u001b[39m▁\u001b[39m▁\u001b[39m▁\u001b[39m▁\u001b[39m▁\u001b[39m▁\u001b[39m▁\u001b[39m▁\u001b[39m▁\u001b[39m▁\u001b[39m▁\u001b[39m▁\u001b[39m▁\u001b[39m▁\u001b[39m▁\u001b[39m▁\u001b[39m▁\u001b[39m▁\u001b[39m▁\u001b[39m▁\u001b[39m▁\u001b[39m▁\u001b[39m▄\u001b[39m▄\u001b[39m \u001b[39m▁\n",
       "  45.2 ms\u001b[90m       \u001b[39m\u001b[90mHistogram: \u001b[39m\u001b[90m\u001b[1mlog(\u001b[22m\u001b[39m\u001b[90mfrequency\u001b[39m\u001b[90m\u001b[1m)\u001b[22m\u001b[39m\u001b[90m by time\u001b[39m       1.01 s \u001b[0m\u001b[1m<\u001b[22m\n",
       "\n",
       " Memory estimate\u001b[90m: \u001b[39m\u001b[33m553.14 MiB\u001b[39m, allocs estimate\u001b[90m: \u001b[39m\u001b[33m1000064\u001b[39m."
      ]
     },
     "execution_count": 297,
     "metadata": {},
     "output_type": "execute_result"
    }
   ],
   "source": [
    "function SEuclidean0(x, query)\n",
    "    res = zero(eltype(x))\n",
    "    @inbounds for j in eachindex(x)\n",
    "        aux = (query[j] - x[j])\n",
    "        res += aux * aux\n",
    "    end\n",
    "    return res\n",
    "end\n",
    "\n",
    "function linear_scann_exact(query, X)\n",
    "\n",
    "    n_features, n_examples = size(X)\n",
    "    distances = Array{eltype(query)}(undef, n_examples)\n",
    "    \n",
    "    @inbounds @fastmath Threads.@threads for j in 1:n_examples\n",
    "        distances[j] = SEuclidean0(query, X[:,j])    \n",
    "    end\n",
    "    return distances\n",
    "end\n",
    "\n",
    "@benchmark linear_scann_exact(query, X_tr_vecs)"
   ]
  },
  {
   "cell_type": "code",
   "execution_count": 471,
   "id": "4c20142e",
   "metadata": {},
   "outputs": [
    {
     "data": {
      "text/plain": [
       "BenchmarkTools.Trial: 488 samples with 1 evaluation.\n",
       " Range \u001b[90m(\u001b[39m\u001b[36m\u001b[1mmin\u001b[22m\u001b[39m … \u001b[35mmax\u001b[39m\u001b[90m):  \u001b[39m\u001b[36m\u001b[1m 9.681 ms\u001b[22m\u001b[39m … \u001b[35m36.988 ms\u001b[39m  \u001b[90m┊\u001b[39m GC \u001b[90m(\u001b[39mmin … max\u001b[90m): \u001b[39m0.00% … 72.23%\n",
       " Time  \u001b[90m(\u001b[39m\u001b[34m\u001b[1mmedian\u001b[22m\u001b[39m\u001b[90m):     \u001b[39m\u001b[34m\u001b[1m10.143 ms              \u001b[22m\u001b[39m\u001b[90m┊\u001b[39m GC \u001b[90m(\u001b[39mmedian\u001b[90m):    \u001b[39m0.00%\n",
       " Time  \u001b[90m(\u001b[39m\u001b[32m\u001b[1mmean\u001b[22m\u001b[39m ± \u001b[32mσ\u001b[39m\u001b[90m):   \u001b[39m\u001b[32m\u001b[1m10.247 ms\u001b[22m\u001b[39m ± \u001b[32m 1.226 ms\u001b[39m  \u001b[90m┊\u001b[39m GC \u001b[90m(\u001b[39mmean ± σ\u001b[90m):  \u001b[39m0.53% ±  3.27%\n",
       "\n",
       "  \u001b[39m \u001b[39m \u001b[39m \u001b[39m \u001b[39m \u001b[39m \u001b[39m \u001b[39m \u001b[39m \u001b[39m \u001b[39m \u001b[39m \u001b[39m \u001b[39m \u001b[39m \u001b[39m \u001b[39m \u001b[39m \u001b[39m▃\u001b[39m█\u001b[39m▅\u001b[39m▄\u001b[39m▂\u001b[39m \u001b[34m \u001b[39m\u001b[39m \u001b[39m \u001b[39m \u001b[39m \u001b[39m \u001b[32m \u001b[39m\u001b[39m \u001b[39m \u001b[39m \u001b[39m \u001b[39m▂\u001b[39m \u001b[39m \u001b[39m \u001b[39m \u001b[39m \u001b[39m \u001b[39m \u001b[39m \u001b[39m \u001b[39m \u001b[39m \u001b[39m \u001b[39m \u001b[39m \u001b[39m \u001b[39m \u001b[39m \u001b[39m \u001b[39m \u001b[39m \u001b[39m \u001b[39m \u001b[39m \u001b[39m \u001b[39m \n",
       "  \u001b[39m▂\u001b[39m▂\u001b[39m▂\u001b[39m▂\u001b[39m▂\u001b[39m▂\u001b[39m▄\u001b[39m▂\u001b[39m▃\u001b[39m▂\u001b[39m▂\u001b[39m▃\u001b[39m▃\u001b[39m▃\u001b[39m▃\u001b[39m▃\u001b[39m▃\u001b[39m▄\u001b[39m█\u001b[39m█\u001b[39m█\u001b[39m█\u001b[39m█\u001b[39m▅\u001b[34m▅\u001b[39m\u001b[39m▃\u001b[39m▄\u001b[39m▃\u001b[39m▅\u001b[39m▅\u001b[32m▆\u001b[39m\u001b[39m▆\u001b[39m▇\u001b[39m█\u001b[39m█\u001b[39m█\u001b[39m▇\u001b[39m▇\u001b[39m▅\u001b[39m▅\u001b[39m▃\u001b[39m▄\u001b[39m▃\u001b[39m▁\u001b[39m▃\u001b[39m▁\u001b[39m▁\u001b[39m▁\u001b[39m▁\u001b[39m▁\u001b[39m▁\u001b[39m▂\u001b[39m▂\u001b[39m▁\u001b[39m▁\u001b[39m▁\u001b[39m▁\u001b[39m▁\u001b[39m▂\u001b[39m \u001b[39m▃\n",
       "  9.68 ms\u001b[90m         Histogram: frequency by time\u001b[39m        10.8 ms \u001b[0m\u001b[1m<\u001b[22m\n",
       "\n",
       " Memory estimate\u001b[90m: \u001b[39m\u001b[33m3.81 MiB\u001b[39m, allocs estimate\u001b[90m: \u001b[39m\u001b[33m2\u001b[39m."
      ]
     },
     "execution_count": 471,
     "metadata": {},
     "output_type": "execute_result"
    }
   ],
   "source": [
    "function SEuclidean0(x, query)\n",
    "    res = zero(eltype(x))\n",
    "    @inbounds @fastmath  for j in eachindex(x)\n",
    "        aux = (query[j] - x[j])\n",
    "        res += aux * aux\n",
    "    end\n",
    "    return res\n",
    "end\n",
    "\n",
    "function linear_scann_exact(query, X)\n",
    "\n",
    "    n_features, n_examples = size(X)\n",
    "    distances = Array{eltype(query)}(undef, n_examples)\n",
    "    \n",
    "    @inbounds for j in 1:n_examples\n",
    "        distances[j] = SEuclidean0(query, view(X,:,j))    \n",
    "    end\n",
    "    return distances\n",
    "end\n",
    "\n",
    "@benchmark linear_scann_exact(query, X_tr_vecs)"
   ]
  },
  {
   "cell_type": "markdown",
   "id": "a4cd25b6",
   "metadata": {},
   "source": [
    "### ADC version"
   ]
  },
  {
   "cell_type": "code",
   "execution_count": 470,
   "id": "7a0b3199",
   "metadata": {},
   "outputs": [
    {
     "data": {
      "text/plain": [
       "BenchmarkTools.Trial: 63 samples with 1 evaluation.\n",
       " Range \u001b[90m(\u001b[39m\u001b[36m\u001b[1mmin\u001b[22m\u001b[39m … \u001b[35mmax\u001b[39m\u001b[90m):  \u001b[39m\u001b[36m\u001b[1m79.867 ms\u001b[22m\u001b[39m … \u001b[35m 83.343 ms\u001b[39m  \u001b[90m┊\u001b[39m GC \u001b[90m(\u001b[39mmin … max\u001b[90m): \u001b[39m0.00% … 0.00%\n",
       " Time  \u001b[90m(\u001b[39m\u001b[34m\u001b[1mmedian\u001b[22m\u001b[39m\u001b[90m):     \u001b[39m\u001b[34m\u001b[1m80.252 ms               \u001b[22m\u001b[39m\u001b[90m┊\u001b[39m GC \u001b[90m(\u001b[39mmedian\u001b[90m):    \u001b[39m0.00%\n",
       " Time  \u001b[90m(\u001b[39m\u001b[32m\u001b[1mmean\u001b[22m\u001b[39m ± \u001b[32mσ\u001b[39m\u001b[90m):   \u001b[39m\u001b[32m\u001b[1m80.596 ms\u001b[22m\u001b[39m ± \u001b[32m823.068 μs\u001b[39m  \u001b[90m┊\u001b[39m GC \u001b[90m(\u001b[39mmean ± σ\u001b[90m):  \u001b[39m0.00% ± 0.00%\n",
       "\n",
       "  \u001b[39m▁\u001b[39m▁\u001b[39m▆\u001b[39m▁\u001b[39m \u001b[39m▁\u001b[39m█\u001b[39m▆\u001b[34m▆\u001b[39m\u001b[39m▁\u001b[39m \u001b[39m \u001b[39m \u001b[39m \u001b[39m \u001b[39m▁\u001b[32m \u001b[39m\u001b[39m \u001b[39m \u001b[39m \u001b[39m \u001b[39m \u001b[39m \u001b[39m \u001b[39m \u001b[39m \u001b[39m \u001b[39m \u001b[39m \u001b[39m \u001b[39m \u001b[39m \u001b[39m \u001b[39m \u001b[39m \u001b[39m \u001b[39m \u001b[39m \u001b[39m \u001b[39m \u001b[39m \u001b[39m \u001b[39m \u001b[39m \u001b[39m \u001b[39m \u001b[39m \u001b[39m \u001b[39m \u001b[39m \u001b[39m \u001b[39m \u001b[39m \u001b[39m \u001b[39m \u001b[39m \u001b[39m \u001b[39m \u001b[39m \u001b[39m \u001b[39m \u001b[39m \n",
       "  \u001b[39m█\u001b[39m█\u001b[39m█\u001b[39m█\u001b[39m▇\u001b[39m█\u001b[39m█\u001b[39m█\u001b[34m█\u001b[39m\u001b[39m█\u001b[39m▄\u001b[39m▇\u001b[39m▄\u001b[39m▇\u001b[39m▁\u001b[39m█\u001b[32m▁\u001b[39m\u001b[39m▁\u001b[39m▁\u001b[39m▄\u001b[39m▄\u001b[39m▄\u001b[39m▁\u001b[39m▁\u001b[39m▄\u001b[39m▁\u001b[39m▄\u001b[39m▄\u001b[39m▁\u001b[39m▁\u001b[39m▁\u001b[39m▁\u001b[39m▁\u001b[39m▁\u001b[39m▁\u001b[39m▄\u001b[39m▁\u001b[39m▁\u001b[39m▁\u001b[39m▄\u001b[39m▁\u001b[39m▁\u001b[39m▁\u001b[39m▁\u001b[39m▄\u001b[39m▁\u001b[39m▁\u001b[39m▄\u001b[39m▁\u001b[39m▄\u001b[39m▁\u001b[39m▁\u001b[39m▄\u001b[39m▁\u001b[39m▄\u001b[39m▁\u001b[39m▁\u001b[39m▁\u001b[39m▁\u001b[39m▇\u001b[39m \u001b[39m▁\n",
       "  79.9 ms\u001b[90m         Histogram: frequency by time\u001b[39m         82.7 ms \u001b[0m\u001b[1m<\u001b[22m\n",
       "\n",
       " Memory estimate\u001b[90m: \u001b[39m\u001b[33m3.81 MiB\u001b[39m, allocs estimate\u001b[90m: \u001b[39m\u001b[33m3\u001b[39m."
      ]
     },
     "execution_count": 470,
     "metadata": {},
     "output_type": "execute_result"
    }
   ],
   "source": [
    "function linear_scann(query, PQcodes, adc_table_shared, P_shared)\n",
    "    \n",
    "    query_code = encode_fast_shared(sqeuclidean, query, P_shared)\n",
    "    n_features, n_examples = size(PQcodes)\n",
    "    distances = Array{eltype(query)}(undef, n_examples)\n",
    "    \n",
    "    @inbounds @fastmath for j in 1:n_examples\n",
    "        distances[j] = adc_dist_shared(query_code,  view(PQcodes,:,j) ,  adc_table_shared)    \n",
    "    end\n",
    "    return distances\n",
    "end\n",
    "\n",
    "@benchmark distances = linear_scann($query, $PQcodes, $adc_table_shared, $P_shared)"
   ]
  },
  {
   "cell_type": "code",
   "execution_count": 291,
   "id": "3ef8cb0e",
   "metadata": {
    "ExecuteTime": {
     "end_time": "2022-08-25T00:54:16.537000+02:00",
     "start_time": "2022-08-24T22:54:16.529Z"
    }
   },
   "outputs": [
    {
     "data": {
      "text/plain": [
       "BenchmarkTools.Trial: 126 samples with 1 evaluation.\n",
       " Range \u001b[90m(\u001b[39m\u001b[36m\u001b[1mmin\u001b[22m\u001b[39m … \u001b[35mmax\u001b[39m\u001b[90m):  \u001b[39m\u001b[36m\u001b[1m23.466 ms\u001b[22m\u001b[39m … \u001b[35m881.834 ms\u001b[39m  \u001b[90m┊\u001b[39m GC \u001b[90m(\u001b[39mmin … max\u001b[90m): \u001b[39m 0.00% … 96.80%\n",
       " Time  \u001b[90m(\u001b[39m\u001b[34m\u001b[1mmedian\u001b[22m\u001b[39m\u001b[90m):     \u001b[39m\u001b[34m\u001b[1m25.155 ms               \u001b[22m\u001b[39m\u001b[90m┊\u001b[39m GC \u001b[90m(\u001b[39mmedian\u001b[90m):    \u001b[39m 0.00%\n",
       " Time  \u001b[90m(\u001b[39m\u001b[32m\u001b[1mmean\u001b[22m\u001b[39m ± \u001b[32mσ\u001b[39m\u001b[90m):   \u001b[39m\u001b[32m\u001b[1m39.815 ms\u001b[22m\u001b[39m ± \u001b[32m107.178 ms\u001b[39m  \u001b[90m┊\u001b[39m GC \u001b[90m(\u001b[39mmean ± σ\u001b[90m):  \u001b[39m33.96% ± 12.15%\n",
       "\n",
       "  \u001b[34m█\u001b[39m\u001b[32m \u001b[39m\u001b[39m \u001b[39m \u001b[39m \u001b[39m \u001b[39m \u001b[39m \u001b[39m \u001b[39m \u001b[39m \u001b[39m \u001b[39m \u001b[39m \u001b[39m \u001b[39m \u001b[39m \u001b[39m \u001b[39m \u001b[39m \u001b[39m \u001b[39m \u001b[39m \u001b[39m \u001b[39m \u001b[39m \u001b[39m \u001b[39m \u001b[39m \u001b[39m \u001b[39m \u001b[39m \u001b[39m \u001b[39m \u001b[39m \u001b[39m \u001b[39m \u001b[39m \u001b[39m \u001b[39m \u001b[39m \u001b[39m \u001b[39m \u001b[39m \u001b[39m \u001b[39m \u001b[39m \u001b[39m \u001b[39m \u001b[39m \u001b[39m \u001b[39m \u001b[39m \u001b[39m \u001b[39m \u001b[39m \u001b[39m \u001b[39m \u001b[39m \u001b[39m \u001b[39m \u001b[39m \n",
       "  \u001b[34m█\u001b[39m\u001b[32m▅\u001b[39m\u001b[39m▁\u001b[39m▁\u001b[39m▁\u001b[39m▁\u001b[39m▁\u001b[39m▁\u001b[39m▁\u001b[39m▁\u001b[39m▁\u001b[39m▁\u001b[39m▁\u001b[39m▁\u001b[39m▁\u001b[39m▁\u001b[39m▁\u001b[39m▁\u001b[39m▁\u001b[39m▁\u001b[39m▁\u001b[39m▁\u001b[39m▁\u001b[39m▁\u001b[39m▁\u001b[39m▁\u001b[39m▁\u001b[39m▁\u001b[39m▁\u001b[39m▁\u001b[39m▁\u001b[39m▁\u001b[39m▁\u001b[39m▁\u001b[39m▁\u001b[39m▁\u001b[39m▁\u001b[39m▁\u001b[39m▁\u001b[39m▁\u001b[39m▁\u001b[39m▁\u001b[39m▁\u001b[39m▁\u001b[39m▁\u001b[39m▁\u001b[39m▁\u001b[39m▁\u001b[39m▁\u001b[39m▁\u001b[39m▁\u001b[39m▁\u001b[39m▁\u001b[39m▁\u001b[39m▁\u001b[39m▁\u001b[39m▁\u001b[39m▁\u001b[39m▁\u001b[39m▄\u001b[39m \u001b[39m▄\n",
       "  23.5 ms\u001b[90m       \u001b[39m\u001b[90mHistogram: \u001b[39m\u001b[90m\u001b[1mlog(\u001b[22m\u001b[39m\u001b[90mfrequency\u001b[39m\u001b[90m\u001b[1m)\u001b[22m\u001b[39m\u001b[90m by time\u001b[39m       878 ms \u001b[0m\u001b[1m<\u001b[22m\n",
       "\n",
       " Memory estimate\u001b[90m: \u001b[39m\u001b[33m186.93 MiB\u001b[39m, allocs estimate\u001b[90m: \u001b[39m\u001b[33m1000064\u001b[39m."
      ]
     },
     "execution_count": 291,
     "metadata": {},
     "output_type": "execute_result"
    }
   ],
   "source": [
    "function linear_scann(query, PQcodes, adc_table_shared, P_shared)\n",
    "    \n",
    "    query_code = encode_fast_shared(sqeuclidean, query, P_shared)\n",
    "    n_features, n_examples = size(PQcodes)\n",
    "    distances = Array{eltype(query)}(undef, n_examples)\n",
    "    \n",
    "    @inbounds @fastmath Threads.@threads for j in 1:n_examples\n",
    "        distances[j] = adc_dist_shared(query_code,  PQcodes[:,j] ,  adc_table_shared)    \n",
    "    end\n",
    "    return distances\n",
    "end"
   ]
  },
  {
   "cell_type": "code",
   "execution_count": 294,
   "id": "93cccac7",
   "metadata": {},
   "outputs": [
    {
     "data": {
      "text/plain": [
       "BenchmarkTools.Trial: 138 samples with 1 evaluation.\n",
       " Range \u001b[90m(\u001b[39m\u001b[36m\u001b[1mmin\u001b[22m\u001b[39m … \u001b[35mmax\u001b[39m\u001b[90m):  \u001b[39m\u001b[36m\u001b[1m22.545 ms\u001b[22m\u001b[39m … \u001b[35m847.083 ms\u001b[39m  \u001b[90m┊\u001b[39m GC \u001b[90m(\u001b[39mmin … max\u001b[90m): \u001b[39m 0.00% … 97.26%\n",
       " Time  \u001b[90m(\u001b[39m\u001b[34m\u001b[1mmedian\u001b[22m\u001b[39m\u001b[90m):     \u001b[39m\u001b[34m\u001b[1m23.738 ms               \u001b[22m\u001b[39m\u001b[90m┊\u001b[39m GC \u001b[90m(\u001b[39mmedian\u001b[90m):    \u001b[39m 0.00%\n",
       " Time  \u001b[90m(\u001b[39m\u001b[32m\u001b[1mmean\u001b[22m\u001b[39m ± \u001b[32mσ\u001b[39m\u001b[90m):   \u001b[39m\u001b[32m\u001b[1m36.216 ms\u001b[22m\u001b[39m ± \u001b[32m 98.161 ms\u001b[39m  \u001b[90m┊\u001b[39m GC \u001b[90m(\u001b[39mmean ± σ\u001b[90m):  \u001b[39m32.78% ± 11.67%\n",
       "\n",
       "  \u001b[34m█\u001b[39m\u001b[32m \u001b[39m\u001b[39m \u001b[39m \u001b[39m \u001b[39m \u001b[39m \u001b[39m \u001b[39m \u001b[39m \u001b[39m \u001b[39m \u001b[39m \u001b[39m \u001b[39m \u001b[39m \u001b[39m \u001b[39m \u001b[39m \u001b[39m \u001b[39m \u001b[39m \u001b[39m \u001b[39m \u001b[39m \u001b[39m \u001b[39m \u001b[39m \u001b[39m \u001b[39m \u001b[39m \u001b[39m \u001b[39m \u001b[39m \u001b[39m \u001b[39m \u001b[39m \u001b[39m \u001b[39m \u001b[39m \u001b[39m \u001b[39m \u001b[39m \u001b[39m \u001b[39m \u001b[39m \u001b[39m \u001b[39m \u001b[39m \u001b[39m \u001b[39m \u001b[39m \u001b[39m \u001b[39m \u001b[39m \u001b[39m \u001b[39m \u001b[39m \u001b[39m \u001b[39m \u001b[39m \u001b[39m \n",
       "  \u001b[34m█\u001b[39m\u001b[32m▄\u001b[39m\u001b[39m▄\u001b[39m▁\u001b[39m▁\u001b[39m▁\u001b[39m▁\u001b[39m▁\u001b[39m▁\u001b[39m▁\u001b[39m▁\u001b[39m▁\u001b[39m▁\u001b[39m▁\u001b[39m▁\u001b[39m▁\u001b[39m▁\u001b[39m▁\u001b[39m▁\u001b[39m▁\u001b[39m▁\u001b[39m▁\u001b[39m▁\u001b[39m▁\u001b[39m▁\u001b[39m▁\u001b[39m▁\u001b[39m▁\u001b[39m▁\u001b[39m▁\u001b[39m▁\u001b[39m▁\u001b[39m▁\u001b[39m▁\u001b[39m▁\u001b[39m▁\u001b[39m▁\u001b[39m▁\u001b[39m▁\u001b[39m▁\u001b[39m▁\u001b[39m▁\u001b[39m▁\u001b[39m▁\u001b[39m▁\u001b[39m▁\u001b[39m▁\u001b[39m▁\u001b[39m▁\u001b[39m▁\u001b[39m▁\u001b[39m▁\u001b[39m▁\u001b[39m▁\u001b[39m▁\u001b[39m▁\u001b[39m▁\u001b[39m▁\u001b[39m▁\u001b[39m▄\u001b[39m \u001b[39m▄\n",
       "  22.5 ms\u001b[90m       \u001b[39m\u001b[90mHistogram: \u001b[39m\u001b[90m\u001b[1mlog(\u001b[22m\u001b[39m\u001b[90mfrequency\u001b[39m\u001b[90m\u001b[1m)\u001b[22m\u001b[39m\u001b[90m by time\u001b[39m       837 ms \u001b[0m\u001b[1m<\u001b[22m\n",
       "\n",
       " Memory estimate\u001b[90m: \u001b[39m\u001b[33m186.93 MiB\u001b[39m, allocs estimate\u001b[90m: \u001b[39m\u001b[33m1000064\u001b[39m."
      ]
     },
     "execution_count": 294,
     "metadata": {},
     "output_type": "execute_result"
    }
   ],
   "source": [
    "function linear_scann_unrolled(query, PQcodes, adc_table_shared, P_shared)\n",
    "    \n",
    "    query_code = encode_fast_shared(sqeuclidean, query, P_shared)\n",
    "    n_features, n_examples = size(PQcodes)\n",
    "    distances = Array{eltype(query)}(undef, n_examples)\n",
    "    \n",
    "    @inbounds @fastmath Threads.@threads for j in 1:n_examples\n",
    "        distances[j] = adc_dist_shared_unrolled(query_code,  PQcodes[:,j] ,  adc_table_shared)    \n",
    "    end\n",
    "    return distances\n",
    "end\n",
    "\n",
    "@benchmark distances = linear_scann_unrolled($query, $PQcodes, $adc_table_shared, $P_shared)"
   ]
  },
  {
   "cell_type": "markdown",
   "id": "44ab161b",
   "metadata": {},
   "source": [
    "### ADC version with BW codes"
   ]
  },
  {
   "cell_type": "code",
   "execution_count": 627,
   "id": "925218ba",
   "metadata": {},
   "outputs": [],
   "source": [
    "n_examples = size(X_tr_vecs,2)\n",
    "BWcodes = Array{Int8}(undef, n_clusters, n_examples);\n",
    "bw_code = pq_code_to_bw_code(x_code, n_clusters);"
   ]
  },
  {
   "cell_type": "code",
   "execution_count": 628,
   "id": "d27c3628",
   "metadata": {},
   "outputs": [],
   "source": [
    "\n",
    "for j in 1:n_examples\n",
    "   BWcodes[:,j] .= pq_code_to_bw_code(PQcodes[:,j], n_clusters)\n",
    "end"
   ]
  },
  {
   "cell_type": "code",
   "execution_count": 691,
   "id": "ca14aa44",
   "metadata": {},
   "outputs": [
    {
     "data": {
      "text/plain": [
       "linear_scann_bw (generic function with 1 method)"
      ]
     },
     "execution_count": 691,
     "metadata": {},
     "output_type": "execute_result"
    }
   ],
   "source": [
    "function bw_adc_dist_shared(query_code, bw_code,  adc_table)\n",
    "    res = zero(eltype(adc_table))\n",
    "    @inbounds @simd for j in eachindex(bw_code)\n",
    "        res+= adc_table[j] * bw_code[j]\n",
    "    end\n",
    "    return res\n",
    "end\n",
    "\n",
    "function linear_scann_bw(query, BWcodes, adc_table_shared, P_shared)\n",
    "    \n",
    "    query_code = encode_fast_shared(sqeuclidean, query, P_shared)\n",
    "    n_features, n_examples = size(BWcodes)\n",
    "    distances = Array{eltype(query)}(undef, n_examples)\n",
    "    n_clusters = size(BWcodes,1)\n",
    "    #@show n_clusters\n",
    "    @inbounds for i in 1:n_examples\n",
    "        \n",
    "        # Following code is equivalent to bw_adc_dist_shared(query_code, BWcodes[:,i],  adc_table_shared)\n",
    "        res = zero(eltype(adc_table_shared))\n",
    "        @simd for j in 1:n_clusters\n",
    "            res+= adc_table_shared[j] * BWcodes[j,i]\n",
    "        end        \n",
    "        distances[i] = res  \n",
    "    \n",
    "    end\n",
    "    return distances\n",
    "end\n",
    "\n",
    "#@benchmark distances = linear_scann($query, $PQcodes, $adc_table_shared, $P_shared)"
   ]
  },
  {
   "cell_type": "code",
   "execution_count": 694,
   "id": "598a2184",
   "metadata": {},
   "outputs": [
    {
     "data": {
      "text/plain": [
       "BenchmarkTools.Trial: 1078 samples with 1 evaluation.\n",
       " Range \u001b[90m(\u001b[39m\u001b[36m\u001b[1mmin\u001b[22m\u001b[39m … \u001b[35mmax\u001b[39m\u001b[90m):  \u001b[39m\u001b[36m\u001b[1m3.622 ms\u001b[22m\u001b[39m … \u001b[35m  6.427 ms\u001b[39m  \u001b[90m┊\u001b[39m GC \u001b[90m(\u001b[39mmin … max\u001b[90m): \u001b[39m0.00% … 15.38%\n",
       " Time  \u001b[90m(\u001b[39m\u001b[34m\u001b[1mmedian\u001b[22m\u001b[39m\u001b[90m):     \u001b[39m\u001b[34m\u001b[1m4.494 ms               \u001b[22m\u001b[39m\u001b[90m┊\u001b[39m GC \u001b[90m(\u001b[39mmedian\u001b[90m):    \u001b[39m0.00%\n",
       " Time  \u001b[90m(\u001b[39m\u001b[32m\u001b[1mmean\u001b[22m\u001b[39m ± \u001b[32mσ\u001b[39m\u001b[90m):   \u001b[39m\u001b[32m\u001b[1m4.629 ms\u001b[22m\u001b[39m ± \u001b[32m432.548 μs\u001b[39m  \u001b[90m┊\u001b[39m GC \u001b[90m(\u001b[39mmean ± σ\u001b[90m):  \u001b[39m1.60% ±  4.52%\n",
       "\n",
       "  \u001b[39m \u001b[39m \u001b[39m \u001b[39m \u001b[39m \u001b[39m \u001b[39m \u001b[39m \u001b[39m \u001b[39m \u001b[39m \u001b[39m \u001b[39m \u001b[39m \u001b[39m \u001b[39m▅\u001b[39m█\u001b[39m▇\u001b[39m▇\u001b[39m▂\u001b[39m▃\u001b[39m \u001b[39m▂\u001b[34m \u001b[39m\u001b[39m▂\u001b[39m \u001b[32m \u001b[39m\u001b[39m \u001b[39m \u001b[39m \u001b[39m \u001b[39m \u001b[39m \u001b[39m \u001b[39m \u001b[39m \u001b[39m \u001b[39m \u001b[39m \u001b[39m \u001b[39m \u001b[39m \u001b[39m \u001b[39m \u001b[39m \u001b[39m \u001b[39m \u001b[39m \u001b[39m \u001b[39m \u001b[39m \u001b[39m \u001b[39m \u001b[39m \u001b[39m \u001b[39m \u001b[39m \u001b[39m \u001b[39m \u001b[39m \u001b[39m \n",
       "  \u001b[39m▂\u001b[39m▁\u001b[39m▂\u001b[39m▁\u001b[39m▁\u001b[39m▂\u001b[39m▃\u001b[39m▂\u001b[39m▁\u001b[39m▃\u001b[39m▂\u001b[39m▂\u001b[39m▂\u001b[39m▃\u001b[39m▅\u001b[39m█\u001b[39m█\u001b[39m█\u001b[39m█\u001b[39m█\u001b[39m█\u001b[39m█\u001b[39m█\u001b[34m█\u001b[39m\u001b[39m█\u001b[39m█\u001b[32m█\u001b[39m\u001b[39m▅\u001b[39m▅\u001b[39m▅\u001b[39m▄\u001b[39m▃\u001b[39m▅\u001b[39m▆\u001b[39m▅\u001b[39m▃\u001b[39m▅\u001b[39m█\u001b[39m▆\u001b[39m▄\u001b[39m▅\u001b[39m▄\u001b[39m▅\u001b[39m▃\u001b[39m▃\u001b[39m▂\u001b[39m▃\u001b[39m▄\u001b[39m▃\u001b[39m▃\u001b[39m▂\u001b[39m▂\u001b[39m▃\u001b[39m▃\u001b[39m▂\u001b[39m▂\u001b[39m▂\u001b[39m▃\u001b[39m▃\u001b[39m \u001b[39m▄\n",
       "  3.62 ms\u001b[90m         Histogram: frequency by time\u001b[39m        5.89 ms \u001b[0m\u001b[1m<\u001b[22m\n",
       "\n",
       " Memory estimate\u001b[90m: \u001b[39m\u001b[33m3.82 MiB\u001b[39m, allocs estimate\u001b[90m: \u001b[39m\u001b[33m64\u001b[39m."
      ]
     },
     "execution_count": 694,
     "metadata": {},
     "output_type": "execute_result"
    }
   ],
   "source": [
    "@benchmark linear_scann_bw($query, $BWcodes, $adc_table_shared, $P_shared)"
   ]
  },
  {
   "cell_type": "markdown",
   "id": "525bbc13",
   "metadata": {},
   "source": [
    "#### TODO\n",
    "How can we leverage a fast multithreaded Linearscann?\n"
   ]
  },
  {
   "cell_type": "code",
   "execution_count": 699,
   "id": "07cda987",
   "metadata": {},
   "outputs": [
    {
     "ename": "LoadError",
     "evalue": "UndefVarError: BWCode not defined",
     "output_type": "error",
     "traceback": [
      "UndefVarError: BWCode not defined",
      "",
      "Stacktrace:",
      " [1] top-level scope",
      "   @ :0",
      " [2] eval",
      "   @ ./boot.jl:368 [inlined]",
      " [3] include_string(mapexpr::typeof(REPL.softscope), mod::Module, code::String, filename::String)",
      "   @ Base ./loading.jl:1428"
     ]
    }
   ],
   "source": [
    "BWCodes"
   ]
  },
  {
   "cell_type": "code",
   "execution_count": 708,
   "id": "0676c2aa",
   "metadata": {},
   "outputs": [
    {
     "data": {
      "text/plain": [
       "BenchmarkTools.Trial: 4774 samples with 1 evaluation.\n",
       " Range \u001b[90m(\u001b[39m\u001b[36m\u001b[1mmin\u001b[22m\u001b[39m … \u001b[35mmax\u001b[39m\u001b[90m):  \u001b[39m\u001b[36m\u001b[1m674.583 μs\u001b[22m\u001b[39m … \u001b[35m87.179 ms\u001b[39m  \u001b[90m┊\u001b[39m GC \u001b[90m(\u001b[39mmin … max\u001b[90m): \u001b[39m 0.00% … 98.88%\n",
       " Time  \u001b[90m(\u001b[39m\u001b[34m\u001b[1mmedian\u001b[22m\u001b[39m\u001b[90m):     \u001b[39m\u001b[34m\u001b[1m858.750 μs              \u001b[22m\u001b[39m\u001b[90m┊\u001b[39m GC \u001b[90m(\u001b[39mmedian\u001b[90m):    \u001b[39m 0.00%\n",
       " Time  \u001b[90m(\u001b[39m\u001b[32m\u001b[1mmean\u001b[22m\u001b[39m ± \u001b[32mσ\u001b[39m\u001b[90m):   \u001b[39m\u001b[32m\u001b[1m  1.037 ms\u001b[22m\u001b[39m ± \u001b[32m 1.377 ms\u001b[39m  \u001b[90m┊\u001b[39m GC \u001b[90m(\u001b[39mmean ± σ\u001b[90m):  \u001b[39m12.79% ± 16.03%\n",
       "\n",
       "  \u001b[39m \u001b[39m▄\u001b[39m▆\u001b[39m█\u001b[39m█\u001b[34m▇\u001b[39m\u001b[39m▆\u001b[39m▅\u001b[39m▃\u001b[39m▂\u001b[32m▂\u001b[39m\u001b[39m▁\u001b[39m▁\u001b[39m▁\u001b[39m▁\u001b[39m \u001b[39m \u001b[39m \u001b[39m \u001b[39m \u001b[39m \u001b[39m \u001b[39m \u001b[39m \u001b[39m \u001b[39m \u001b[39m \u001b[39m \u001b[39m \u001b[39m \u001b[39m \u001b[39m \u001b[39m \u001b[39m \u001b[39m \u001b[39m \u001b[39m \u001b[39m \u001b[39m \u001b[39m \u001b[39m \u001b[39m \u001b[39m \u001b[39m \u001b[39m \u001b[39m \u001b[39m \u001b[39m \u001b[39m \u001b[39m \u001b[39m \u001b[39m \u001b[39m \u001b[39m \u001b[39m \u001b[39m \u001b[39m \u001b[39m \u001b[39m \u001b[39m \u001b[39m \u001b[39m▁\n",
       "  \u001b[39m▄\u001b[39m█\u001b[39m█\u001b[39m█\u001b[39m█\u001b[34m█\u001b[39m\u001b[39m█\u001b[39m█\u001b[39m█\u001b[39m█\u001b[32m█\u001b[39m\u001b[39m█\u001b[39m█\u001b[39m█\u001b[39m█\u001b[39m█\u001b[39m▇\u001b[39m█\u001b[39m▇\u001b[39m▇\u001b[39m▆\u001b[39m▆\u001b[39m▅\u001b[39m▆\u001b[39m▅\u001b[39m▇\u001b[39m▇\u001b[39m▇\u001b[39m▇\u001b[39m▇\u001b[39m█\u001b[39m█\u001b[39m█\u001b[39m▇\u001b[39m█\u001b[39m█\u001b[39m▇\u001b[39m▇\u001b[39m▇\u001b[39m▇\u001b[39m▅\u001b[39m▇\u001b[39m▇\u001b[39m▆\u001b[39m▆\u001b[39m▇\u001b[39m▆\u001b[39m▆\u001b[39m▇\u001b[39m▆\u001b[39m▅\u001b[39m▄\u001b[39m▄\u001b[39m▃\u001b[39m▄\u001b[39m▄\u001b[39m▄\u001b[39m▅\u001b[39m▃\u001b[39m▅\u001b[39m \u001b[39m█\n",
       "  675 μs\u001b[90m        \u001b[39m\u001b[90mHistogram: \u001b[39m\u001b[90m\u001b[1mlog(\u001b[22m\u001b[39m\u001b[90mfrequency\u001b[39m\u001b[90m\u001b[1m)\u001b[22m\u001b[39m\u001b[90m by time\u001b[39m      2.93 ms \u001b[0m\u001b[1m<\u001b[22m\n",
       "\n",
       " Memory estimate\u001b[90m: \u001b[39m\u001b[33m3.82 MiB\u001b[39m, allocs estimate\u001b[90m: \u001b[39m\u001b[33m64\u001b[39m."
      ]
     },
     "execution_count": 708,
     "metadata": {},
     "output_type": "execute_result"
    }
   ],
   "source": [
    "function bw_adc_dist_shared(query_code, bw_code,  adc_table)\n",
    "    res = zero(eltype(adc_table))\n",
    "    @inbounds @simd for j in eachindex(bw_code)\n",
    "        res+= adc_table[j] * bw_code[j]\n",
    "    end\n",
    "    return res\n",
    "end\n",
    "\n",
    "function linear_scann_bw_multithreaded(query, BWcodes, adc_table_shared, P_shared)\n",
    "    \n",
    "    query_code = encode_fast_shared(sqeuclidean, query, P_shared)\n",
    "    n_features, n_examples = size(BWcodes)\n",
    "    distances = Array{eltype(query)}(undef, n_examples)\n",
    "    n_clusters = size(BWcodes,1)\n",
    "    #@show n_clusters\n",
    "    @inbounds @fastmath Threads.@threads  for i in 1:n_examples\n",
    "       distances[i] = bw_adc_dist_shared(query_code, view(BWcodes,:,i),  adc_table_shared)\n",
    "    end    \n",
    "    \n",
    "    return distances\n",
    "end\n",
    "\n",
    "@benchmark distances = linear_scann_bw_multithreaded($query, $BWcodes, $adc_table_shared, $P_shared)"
   ]
  },
  {
   "cell_type": "code",
   "execution_count": 709,
   "id": "7196c5b2",
   "metadata": {},
   "outputs": [
    {
     "data": {
      "text/plain": [
       "1000000-element Vector{Float32}:\n",
       " 430293.53\n",
       " 409572.12\n",
       " 523334.03\n",
       " 411390.56\n",
       " 483739.44\n",
       " 465726.72\n",
       " 469184.3\n",
       " 465421.94\n",
       " 471216.94\n",
       " 472431.4\n",
       " 505966.56\n",
       " 441302.97\n",
       " 504491.28\n",
       "      ⋮\n",
       " 353777.56\n",
       " 407598.38\n",
       " 390484.38\n",
       " 529897.25\n",
       " 490457.53\n",
       " 362624.6\n",
       " 516215.8\n",
       " 429939.62\n",
       " 412462.94\n",
       " 407520.47\n",
       " 499928.0\n",
       " 393646.03"
      ]
     },
     "execution_count": 709,
     "metadata": {},
     "output_type": "execute_result"
    }
   ],
   "source": [
    "distances = linear_scann_bw_multithreaded(query, BWcodes, adc_table_shared, P_shared)\n",
    "distances"
   ]
  },
  {
   "cell_type": "code",
   "execution_count": null,
   "id": "aeb39ed4",
   "metadata": {},
   "outputs": [],
   "source": []
  },
  {
   "cell_type": "markdown",
   "id": "22f78a94",
   "metadata": {},
   "source": [
    "# Quality verification"
   ]
  },
  {
   "cell_type": "code",
   "execution_count": 689,
   "id": "b06e693c",
   "metadata": {},
   "outputs": [
    {
     "data": {
      "text/plain": [
       "1000000"
      ]
     },
     "execution_count": 689,
     "metadata": {},
     "output_type": "execute_result"
    }
   ],
   "source": [
    "length(linear_scann_bw(query, BWcodes, adc_table_shared, P_shared))"
   ]
  },
  {
   "cell_type": "code",
   "execution_count": null,
   "id": "eab5c9cb",
   "metadata": {},
   "outputs": [],
   "source": []
  },
  {
   "cell_type": "code",
   "execution_count": null,
   "id": "5c600670",
   "metadata": {},
   "outputs": [],
   "source": []
  },
  {
   "cell_type": "code",
   "execution_count": null,
   "id": "615bc2d2",
   "metadata": {},
   "outputs": [],
   "source": []
  },
  {
   "cell_type": "markdown",
   "id": "ad237b8d",
   "metadata": {},
   "source": [
    "## Euclidean  Squared Distance"
   ]
  },
  {
   "cell_type": "code",
   "execution_count": 440,
   "id": "33faf602",
   "metadata": {
    "ExecuteTime": {
     "end_time": "2022-08-21T22:43:50.828000+02:00",
     "start_time": "2022-08-21T20:43:40.329Z"
    }
   },
   "outputs": [
    {
     "data": {
      "text/plain": [
       "SEuclidean (generic function with 1 method)"
      ]
     },
     "execution_count": 440,
     "metadata": {},
     "output_type": "execute_result"
    }
   ],
   "source": [
    "function SEuclidean(X, query)\n",
    "    d = (query .- X) .* (query .- X)\n",
    "    return sum(d, dims=1)\n",
    "end"
   ]
  },
  {
   "cell_type": "code",
   "execution_count": 441,
   "id": "724c7634",
   "metadata": {
    "ExecuteTime": {
     "end_time": "2022-08-23T00:25:06.450000+02:00",
     "start_time": "2022-08-22T22:25:06.339Z"
    }
   },
   "outputs": [
    {
     "data": {
      "text/plain": [
       "SEuclidean_2 (generic function with 1 method)"
      ]
     },
     "execution_count": 441,
     "metadata": {},
     "output_type": "execute_result"
    }
   ],
   "source": [
    "function SEuclidean_2(X, query)\n",
    "    n_features, n_examples = size(X)\n",
    "    result = zeros(n_examples)\n",
    "    for m in 1:n_examples\n",
    "        res = zero(eltype(X))\n",
    "        for j in 1:n_features\n",
    "            aux = (query[j] .- X[j,m])\n",
    "            res += aux * aux\n",
    "        end\n",
    "        result[m] = res\n",
    "    end\n",
    "    return result\n",
    "end"
   ]
  },
  {
   "cell_type": "code",
   "execution_count": 442,
   "id": "37ccaf60",
   "metadata": {
    "ExecuteTime": {
     "end_time": "2022-08-21T22:43:50.982000+02:00",
     "start_time": "2022-08-21T20:43:40.334Z"
    }
   },
   "outputs": [],
   "source": [
    "query = X_te_vecs[:,1];"
   ]
  },
  {
   "cell_type": "code",
   "execution_count": 443,
   "id": "63c38b24",
   "metadata": {
    "ExecuteTime": {
     "end_time": "2022-08-21T22:44:07.309000+02:00",
     "start_time": "2022-08-21T20:43:40.337Z"
    }
   },
   "outputs": [
    {
     "data": {
      "text/plain": [
       "BenchmarkTools.Trial: 3753 samples with 1 evaluation.\n",
       " Range \u001b[90m(\u001b[39m\u001b[36m\u001b[1mmin\u001b[22m\u001b[39m … \u001b[35mmax\u001b[39m\u001b[90m):  \u001b[39m\u001b[36m\u001b[1m928.708 μs\u001b[22m\u001b[39m … \u001b[35m32.129 ms\u001b[39m  \u001b[90m┊\u001b[39m GC \u001b[90m(\u001b[39mmin … max\u001b[90m): \u001b[39m0.00% … 96.23%\n",
       " Time  \u001b[90m(\u001b[39m\u001b[34m\u001b[1mmedian\u001b[22m\u001b[39m\u001b[90m):     \u001b[39m\u001b[34m\u001b[1m  1.211 ms              \u001b[22m\u001b[39m\u001b[90m┊\u001b[39m GC \u001b[90m(\u001b[39mmedian\u001b[90m):    \u001b[39m0.00%\n",
       " Time  \u001b[90m(\u001b[39m\u001b[32m\u001b[1mmean\u001b[22m\u001b[39m ± \u001b[32mσ\u001b[39m\u001b[90m):   \u001b[39m\u001b[32m\u001b[1m  1.328 ms\u001b[22m\u001b[39m ± \u001b[32m 1.582 ms\u001b[39m  \u001b[90m┊\u001b[39m GC \u001b[90m(\u001b[39mmean ± σ\u001b[90m):  \u001b[39m7.66% ±  6.17%\n",
       "\n",
       "  \u001b[39m \u001b[39m \u001b[39m \u001b[39m \u001b[39m \u001b[39m \u001b[39m \u001b[39m \u001b[39m \u001b[39m \u001b[39m \u001b[39m \u001b[39m \u001b[39m \u001b[39m \u001b[39m \u001b[39m \u001b[39m \u001b[39m \u001b[39m \u001b[39m▅\u001b[39m▇\u001b[39m█\u001b[39m█\u001b[39m▇\u001b[39m▆\u001b[39m▆\u001b[39m▅\u001b[39m▅\u001b[34m▅\u001b[39m\u001b[39m▄\u001b[39m▂\u001b[39m \u001b[39m \u001b[39m \u001b[39m \u001b[39m \u001b[39m▂\u001b[39m▃\u001b[39m▃\u001b[39m▂\u001b[39m▂\u001b[32m▁\u001b[39m\u001b[39m▁\u001b[39m \u001b[39m \u001b[39m \u001b[39m \u001b[39m \u001b[39m \u001b[39m \u001b[39m \u001b[39m \u001b[39m \u001b[39m \u001b[39m \u001b[39m \u001b[39m \u001b[39m \u001b[39m \u001b[39m \u001b[39m \n",
       "  \u001b[39m▅\u001b[39m▅\u001b[39m▄\u001b[39m▃\u001b[39m▂\u001b[39m▂\u001b[39m▂\u001b[39m▂\u001b[39m▂\u001b[39m▂\u001b[39m▂\u001b[39m▂\u001b[39m▁\u001b[39m▂\u001b[39m▂\u001b[39m▂\u001b[39m▂\u001b[39m▂\u001b[39m▄\u001b[39m▇\u001b[39m█\u001b[39m█\u001b[39m█\u001b[39m█\u001b[39m█\u001b[39m█\u001b[39m█\u001b[39m█\u001b[39m█\u001b[34m█\u001b[39m\u001b[39m█\u001b[39m█\u001b[39m█\u001b[39m█\u001b[39m▇\u001b[39m▇\u001b[39m█\u001b[39m█\u001b[39m█\u001b[39m█\u001b[39m█\u001b[39m█\u001b[32m█\u001b[39m\u001b[39m█\u001b[39m▅\u001b[39m▅\u001b[39m▅\u001b[39m▄\u001b[39m▄\u001b[39m▃\u001b[39m▃\u001b[39m▃\u001b[39m▃\u001b[39m▃\u001b[39m▃\u001b[39m▂\u001b[39m▃\u001b[39m▂\u001b[39m▂\u001b[39m▂\u001b[39m \u001b[39m▅\n",
       "  929 μs\u001b[90m          Histogram: frequency by time\u001b[39m          1.5 ms \u001b[0m\u001b[1m<\u001b[22m\n",
       "\n",
       " Memory estimate\u001b[90m: \u001b[39m\u001b[33m4.92 MiB\u001b[39m, allocs estimate\u001b[90m: \u001b[39m\u001b[33m4\u001b[39m."
      ]
     },
     "execution_count": 443,
     "metadata": {},
     "output_type": "execute_result"
    }
   ],
   "source": [
    "@benchmark SEuclidean(X_te_vecs, query)"
   ]
  },
  {
   "cell_type": "code",
   "execution_count": 444,
   "id": "48e06d68",
   "metadata": {
    "ExecuteTime": {
     "end_time": "2022-08-21T22:44:18.676000+02:00",
     "start_time": "2022-08-21T20:43:40.340Z"
    }
   },
   "outputs": [
    {
     "data": {
      "text/plain": [
       "BenchmarkTools.Trial: 6369 samples with 1 evaluation.\n",
       " Range \u001b[90m(\u001b[39m\u001b[36m\u001b[1mmin\u001b[22m\u001b[39m … \u001b[35mmax\u001b[39m\u001b[90m):  \u001b[39m\u001b[36m\u001b[1m769.583 μs\u001b[22m\u001b[39m … \u001b[35m 2.304 ms\u001b[39m  \u001b[90m┊\u001b[39m GC \u001b[90m(\u001b[39mmin … max\u001b[90m): \u001b[39m0.00% … 0.00%\n",
       " Time  \u001b[90m(\u001b[39m\u001b[34m\u001b[1mmedian\u001b[22m\u001b[39m\u001b[90m):     \u001b[39m\u001b[34m\u001b[1m780.625 μs              \u001b[22m\u001b[39m\u001b[90m┊\u001b[39m GC \u001b[90m(\u001b[39mmedian\u001b[90m):    \u001b[39m0.00%\n",
       " Time  \u001b[90m(\u001b[39m\u001b[32m\u001b[1mmean\u001b[22m\u001b[39m ± \u001b[32mσ\u001b[39m\u001b[90m):   \u001b[39m\u001b[32m\u001b[1m783.792 μs\u001b[22m\u001b[39m ± \u001b[32m22.694 μs\u001b[39m  \u001b[90m┊\u001b[39m GC \u001b[90m(\u001b[39mmean ± σ\u001b[90m):  \u001b[39m0.00% ± 0.00%\n",
       "\n",
       "  \u001b[39m \u001b[39m \u001b[39m \u001b[39m \u001b[39m▂\u001b[39m▂\u001b[39m▄\u001b[39m▅\u001b[39m▆\u001b[39m█\u001b[39m▆\u001b[34m▇\u001b[39m\u001b[39m▆\u001b[39m▃\u001b[32m▁\u001b[39m\u001b[39m \u001b[39m \u001b[39m \u001b[39m \u001b[39m \u001b[39m \u001b[39m \u001b[39m \u001b[39m \u001b[39m \u001b[39m \u001b[39m \u001b[39m \u001b[39m \u001b[39m \u001b[39m \u001b[39m \u001b[39m \u001b[39m \u001b[39m \u001b[39m \u001b[39m \u001b[39m \u001b[39m \u001b[39m \u001b[39m \u001b[39m \u001b[39m \u001b[39m \u001b[39m \u001b[39m \u001b[39m \u001b[39m \u001b[39m \u001b[39m \u001b[39m \u001b[39m \u001b[39m \u001b[39m \u001b[39m \u001b[39m \u001b[39m \u001b[39m \u001b[39m \u001b[39m \u001b[39m \u001b[39m \n",
       "  \u001b[39m▃\u001b[39m▃\u001b[39m▃\u001b[39m█\u001b[39m█\u001b[39m█\u001b[39m█\u001b[39m█\u001b[39m█\u001b[39m█\u001b[39m█\u001b[34m█\u001b[39m\u001b[39m█\u001b[39m█\u001b[32m█\u001b[39m\u001b[39m▇\u001b[39m▅\u001b[39m▄\u001b[39m▄\u001b[39m▃\u001b[39m▃\u001b[39m▂\u001b[39m▂\u001b[39m▂\u001b[39m▂\u001b[39m▂\u001b[39m▂\u001b[39m▂\u001b[39m▂\u001b[39m▂\u001b[39m▂\u001b[39m▂\u001b[39m▂\u001b[39m▂\u001b[39m▂\u001b[39m▂\u001b[39m▂\u001b[39m▂\u001b[39m▁\u001b[39m▂\u001b[39m▁\u001b[39m▂\u001b[39m▂\u001b[39m▁\u001b[39m▁\u001b[39m▁\u001b[39m▁\u001b[39m▁\u001b[39m▁\u001b[39m▁\u001b[39m▁\u001b[39m▁\u001b[39m▁\u001b[39m▁\u001b[39m▁\u001b[39m▁\u001b[39m▁\u001b[39m▁\u001b[39m▁\u001b[39m▁\u001b[39m \u001b[39m▃\n",
       "  770 μs\u001b[90m          Histogram: frequency by time\u001b[39m          831 μs \u001b[0m\u001b[1m<\u001b[22m\n",
       "\n",
       " Memory estimate\u001b[90m: \u001b[39m\u001b[33m78.17 KiB\u001b[39m, allocs estimate\u001b[90m: \u001b[39m\u001b[33m2\u001b[39m."
      ]
     },
     "execution_count": 444,
     "metadata": {},
     "output_type": "execute_result"
    }
   ],
   "source": [
    "@benchmark SEuclidean_2(X_te_vecs, query)"
   ]
  },
  {
   "cell_type": "code",
   "execution_count": 445,
   "id": "393ca973",
   "metadata": {
    "ExecuteTime": {
     "end_time": "2022-08-21T22:44:33.330000+02:00",
     "start_time": "2022-08-21T20:43:40.342Z"
    }
   },
   "outputs": [
    {
     "data": {
      "text/plain": [
       "BenchmarkTools.Trial: 39 samples with 1 evaluation.\n",
       " Range \u001b[90m(\u001b[39m\u001b[36m\u001b[1mmin\u001b[22m\u001b[39m … \u001b[35mmax\u001b[39m\u001b[90m):  \u001b[39m\u001b[36m\u001b[1m115.288 ms\u001b[22m\u001b[39m … \u001b[35m213.858 ms\u001b[39m  \u001b[90m┊\u001b[39m GC \u001b[90m(\u001b[39mmin … max\u001b[90m): \u001b[39m0.00% … 0.00%\n",
       " Time  \u001b[90m(\u001b[39m\u001b[34m\u001b[1mmedian\u001b[22m\u001b[39m\u001b[90m):     \u001b[39m\u001b[34m\u001b[1m121.950 ms               \u001b[22m\u001b[39m\u001b[90m┊\u001b[39m GC \u001b[90m(\u001b[39mmedian\u001b[90m):    \u001b[39m0.00%\n",
       " Time  \u001b[90m(\u001b[39m\u001b[32m\u001b[1mmean\u001b[22m\u001b[39m ± \u001b[32mσ\u001b[39m\u001b[90m):   \u001b[39m\u001b[32m\u001b[1m131.411 ms\u001b[22m\u001b[39m ± \u001b[32m 21.901 ms\u001b[39m  \u001b[90m┊\u001b[39m GC \u001b[90m(\u001b[39mmean ± σ\u001b[90m):  \u001b[39m5.18% ± 6.91%\n",
       "\n",
       "  \u001b[39m▄\u001b[39m█\u001b[39m \u001b[34m \u001b[39m\u001b[39m \u001b[39m \u001b[39m \u001b[39m \u001b[39m \u001b[39m \u001b[32m \u001b[39m\u001b[39m \u001b[39m \u001b[39m▁\u001b[39m \u001b[39m \u001b[39m \u001b[39m \u001b[39m \u001b[39m \u001b[39m \u001b[39m \u001b[39m \u001b[39m \u001b[39m \u001b[39m \u001b[39m \u001b[39m \u001b[39m \u001b[39m \u001b[39m \u001b[39m \u001b[39m \u001b[39m \u001b[39m \u001b[39m \u001b[39m \u001b[39m \u001b[39m \u001b[39m \u001b[39m \u001b[39m \u001b[39m \u001b[39m \u001b[39m \u001b[39m \u001b[39m \u001b[39m \u001b[39m \u001b[39m \u001b[39m \u001b[39m \u001b[39m \u001b[39m \u001b[39m \u001b[39m \u001b[39m \u001b[39m \u001b[39m \u001b[39m \u001b[39m \u001b[39m \u001b[39m \n",
       "  \u001b[39m█\u001b[39m█\u001b[39m▇\u001b[34m▆\u001b[39m\u001b[39m▄\u001b[39m▆\u001b[39m▄\u001b[39m▄\u001b[39m▁\u001b[39m▁\u001b[32m▁\u001b[39m\u001b[39m▁\u001b[39m▄\u001b[39m█\u001b[39m▇\u001b[39m▆\u001b[39m▁\u001b[39m▄\u001b[39m▁\u001b[39m▁\u001b[39m▄\u001b[39m▁\u001b[39m▁\u001b[39m▁\u001b[39m▁\u001b[39m▁\u001b[39m▁\u001b[39m▁\u001b[39m▁\u001b[39m▁\u001b[39m▁\u001b[39m▁\u001b[39m▁\u001b[39m▁\u001b[39m▁\u001b[39m▁\u001b[39m▁\u001b[39m▄\u001b[39m▁\u001b[39m▁\u001b[39m▁\u001b[39m▁\u001b[39m▁\u001b[39m▁\u001b[39m▁\u001b[39m▁\u001b[39m▁\u001b[39m▁\u001b[39m▁\u001b[39m▁\u001b[39m▁\u001b[39m▁\u001b[39m▄\u001b[39m▁\u001b[39m▁\u001b[39m▁\u001b[39m▁\u001b[39m▁\u001b[39m▁\u001b[39m▁\u001b[39m▄\u001b[39m \u001b[39m▁\n",
       "  115 ms\u001b[90m           Histogram: frequency by time\u001b[39m          214 ms \u001b[0m\u001b[1m<\u001b[22m\n",
       "\n",
       " Memory estimate\u001b[90m: \u001b[39m\u001b[33m492.10 MiB\u001b[39m, allocs estimate\u001b[90m: \u001b[39m\u001b[33m4\u001b[39m."
      ]
     },
     "execution_count": 445,
     "metadata": {},
     "output_type": "execute_result"
    }
   ],
   "source": [
    "@benchmark SEuclidean(X_tr_vecs, query)"
   ]
  },
  {
   "cell_type": "code",
   "execution_count": 446,
   "id": "162cc947",
   "metadata": {
    "ExecuteTime": {
     "end_time": "2022-08-21T22:44:45.423000+02:00",
     "start_time": "2022-08-21T20:43:40.344Z"
    }
   },
   "outputs": [
    {
     "data": {
      "text/plain": [
       "BenchmarkTools.Trial: 65 samples with 1 evaluation.\n",
       " Range \u001b[90m(\u001b[39m\u001b[36m\u001b[1mmin\u001b[22m\u001b[39m … \u001b[35mmax\u001b[39m\u001b[90m):  \u001b[39m\u001b[36m\u001b[1m77.253 ms\u001b[22m\u001b[39m … \u001b[35m 79.056 ms\u001b[39m  \u001b[90m┊\u001b[39m GC \u001b[90m(\u001b[39mmin … max\u001b[90m): \u001b[39m0.00% … 0.00%\n",
       " Time  \u001b[90m(\u001b[39m\u001b[34m\u001b[1mmedian\u001b[22m\u001b[39m\u001b[90m):     \u001b[39m\u001b[34m\u001b[1m77.805 ms               \u001b[22m\u001b[39m\u001b[90m┊\u001b[39m GC \u001b[90m(\u001b[39mmedian\u001b[90m):    \u001b[39m0.00%\n",
       " Time  \u001b[90m(\u001b[39m\u001b[32m\u001b[1mmean\u001b[22m\u001b[39m ± \u001b[32mσ\u001b[39m\u001b[90m):   \u001b[39m\u001b[32m\u001b[1m77.872 ms\u001b[22m\u001b[39m ± \u001b[32m390.832 μs\u001b[39m  \u001b[90m┊\u001b[39m GC \u001b[90m(\u001b[39mmean ± σ\u001b[90m):  \u001b[39m0.00% ± 0.00%\n",
       "\n",
       "  \u001b[39m \u001b[39m \u001b[39m \u001b[39m \u001b[39m \u001b[39m \u001b[39m \u001b[39m \u001b[39m \u001b[39m▃\u001b[39m▆\u001b[39m█\u001b[39m \u001b[39m▆\u001b[39m \u001b[39m \u001b[39m \u001b[39m \u001b[34m \u001b[39m\u001b[39m \u001b[39m \u001b[39m \u001b[32m \u001b[39m\u001b[39m█\u001b[39m \u001b[39m \u001b[39m \u001b[39m \u001b[39m▁\u001b[39m \u001b[39m \u001b[39m \u001b[39m \u001b[39m \u001b[39m \u001b[39m \u001b[39m \u001b[39m \u001b[39m \u001b[39m \u001b[39m \u001b[39m \u001b[39m \u001b[39m \u001b[39m \u001b[39m \u001b[39m \u001b[39m \u001b[39m \u001b[39m \u001b[39m \u001b[39m \u001b[39m \u001b[39m \u001b[39m \u001b[39m \u001b[39m \u001b[39m \u001b[39m \u001b[39m \u001b[39m \u001b[39m \n",
       "  \u001b[39m▇\u001b[39m▁\u001b[39m▁\u001b[39m▁\u001b[39m▁\u001b[39m▁\u001b[39m▄\u001b[39m▁\u001b[39m▇\u001b[39m█\u001b[39m█\u001b[39m█\u001b[39m▇\u001b[39m█\u001b[39m▄\u001b[39m▄\u001b[39m▁\u001b[39m▇\u001b[34m▄\u001b[39m\u001b[39m▇\u001b[39m▄\u001b[39m▇\u001b[32m▁\u001b[39m\u001b[39m█\u001b[39m▇\u001b[39m▄\u001b[39m▇\u001b[39m▁\u001b[39m█\u001b[39m▄\u001b[39m▁\u001b[39m▁\u001b[39m▁\u001b[39m▄\u001b[39m▁\u001b[39m▁\u001b[39m▄\u001b[39m▁\u001b[39m▇\u001b[39m▄\u001b[39m▄\u001b[39m▄\u001b[39m▄\u001b[39m▁\u001b[39m▄\u001b[39m▁\u001b[39m▁\u001b[39m▁\u001b[39m▄\u001b[39m▁\u001b[39m▁\u001b[39m▁\u001b[39m▁\u001b[39m▁\u001b[39m▄\u001b[39m▁\u001b[39m▁\u001b[39m▁\u001b[39m▁\u001b[39m▄\u001b[39m \u001b[39m▁\n",
       "  77.3 ms\u001b[90m         Histogram: frequency by time\u001b[39m         78.9 ms \u001b[0m\u001b[1m<\u001b[22m\n",
       "\n",
       " Memory estimate\u001b[90m: \u001b[39m\u001b[33m7.63 MiB\u001b[39m, allocs estimate\u001b[90m: \u001b[39m\u001b[33m2\u001b[39m."
      ]
     },
     "execution_count": 446,
     "metadata": {},
     "output_type": "execute_result"
    }
   ],
   "source": [
    "@benchmark SEuclidean_2(X_tr_vecs, query)"
   ]
  },
  {
   "cell_type": "markdown",
   "id": "25eab1bd",
   "metadata": {},
   "source": [
    "## Finding top k distances (and their ids)\n",
    "\n",
    "\n",
    "The first naive thing we can do consist on computing all distances and then sorting them to get the top k closest vectors to the query vector"
   ]
  },
  {
   "cell_type": "code",
   "execution_count": 447,
   "id": "35aa29a0",
   "metadata": {
    "ExecuteTime": {
     "end_time": "2022-08-21T22:44:45.530000+02:00",
     "start_time": "2022-08-21T20:43:40.347Z"
    }
   },
   "outputs": [
    {
     "data": {
      "text/plain": [
       "top_k_ids (generic function with 1 method)"
      ]
     },
     "execution_count": 447,
     "metadata": {},
     "output_type": "execute_result"
    }
   ],
   "source": [
    "function top_k_ids(X, query)\n",
    "    distances = SEuclidean_2(X, query)\n",
    "    top_k_indices = sortperm(distances)\n",
    "    return top_k_indices\n",
    "end"
   ]
  },
  {
   "cell_type": "code",
   "execution_count": 448,
   "id": "419fe8f4",
   "metadata": {
    "ExecuteTime": {
     "end_time": "2022-08-21T22:44:56.949000+02:00",
     "start_time": "2022-08-21T20:43:40.350Z"
    }
   },
   "outputs": [
    {
     "data": {
      "text/plain": [
       "BenchmarkTools.Trial: 3988 samples with 1 evaluation.\n",
       " Range \u001b[90m(\u001b[39m\u001b[36m\u001b[1mmin\u001b[22m\u001b[39m … \u001b[35mmax\u001b[39m\u001b[90m):  \u001b[39m\u001b[36m\u001b[1m1.228 ms\u001b[22m\u001b[39m … \u001b[35m 1.796 ms\u001b[39m  \u001b[90m┊\u001b[39m GC \u001b[90m(\u001b[39mmin … max\u001b[90m): \u001b[39m0.00% … 0.00%\n",
       " Time  \u001b[90m(\u001b[39m\u001b[34m\u001b[1mmedian\u001b[22m\u001b[39m\u001b[90m):     \u001b[39m\u001b[34m\u001b[1m1.247 ms              \u001b[22m\u001b[39m\u001b[90m┊\u001b[39m GC \u001b[90m(\u001b[39mmedian\u001b[90m):    \u001b[39m0.00%\n",
       " Time  \u001b[90m(\u001b[39m\u001b[32m\u001b[1mmean\u001b[22m\u001b[39m ± \u001b[32mσ\u001b[39m\u001b[90m):   \u001b[39m\u001b[32m\u001b[1m1.252 ms\u001b[22m\u001b[39m ± \u001b[32m20.688 μs\u001b[39m  \u001b[90m┊\u001b[39m GC \u001b[90m(\u001b[39mmean ± σ\u001b[90m):  \u001b[39m0.00% ± 0.00%\n",
       "\n",
       "  \u001b[39m \u001b[39m \u001b[39m \u001b[39m \u001b[39m \u001b[39m▁\u001b[39m▅\u001b[39m▅\u001b[39m▇\u001b[39m█\u001b[39m▅\u001b[39m▆\u001b[34m▃\u001b[39m\u001b[39m▂\u001b[39m \u001b[32m \u001b[39m\u001b[39m \u001b[39m \u001b[39m \u001b[39m \u001b[39m \u001b[39m \u001b[39m \u001b[39m \u001b[39m \u001b[39m \u001b[39m \u001b[39m \u001b[39m \u001b[39m \u001b[39m \u001b[39m \u001b[39m \u001b[39m \u001b[39m \u001b[39m \u001b[39m \u001b[39m \u001b[39m \u001b[39m \u001b[39m \u001b[39m \u001b[39m \u001b[39m \u001b[39m \u001b[39m \u001b[39m \u001b[39m \u001b[39m \u001b[39m \u001b[39m \u001b[39m \u001b[39m \u001b[39m \u001b[39m \u001b[39m \u001b[39m \u001b[39m \u001b[39m \u001b[39m \n",
       "  \u001b[39m▂\u001b[39m▃\u001b[39m▃\u001b[39m▅\u001b[39m▆\u001b[39m█\u001b[39m█\u001b[39m█\u001b[39m█\u001b[39m█\u001b[39m█\u001b[39m█\u001b[34m█\u001b[39m\u001b[39m█\u001b[39m█\u001b[32m█\u001b[39m\u001b[39m▇\u001b[39m▅\u001b[39m▅\u001b[39m▅\u001b[39m▄\u001b[39m▄\u001b[39m▃\u001b[39m▃\u001b[39m▃\u001b[39m▃\u001b[39m▂\u001b[39m▃\u001b[39m▂\u001b[39m▂\u001b[39m▂\u001b[39m▂\u001b[39m▂\u001b[39m▂\u001b[39m▂\u001b[39m▂\u001b[39m▂\u001b[39m▂\u001b[39m▂\u001b[39m▂\u001b[39m▁\u001b[39m▂\u001b[39m▂\u001b[39m▁\u001b[39m▁\u001b[39m▁\u001b[39m▁\u001b[39m▁\u001b[39m▁\u001b[39m▁\u001b[39m▁\u001b[39m▁\u001b[39m▁\u001b[39m▁\u001b[39m▁\u001b[39m▁\u001b[39m▁\u001b[39m▁\u001b[39m \u001b[39m▃\n",
       "  1.23 ms\u001b[90m        Histogram: frequency by time\u001b[39m        1.32 ms \u001b[0m\u001b[1m<\u001b[22m\n",
       "\n",
       " Memory estimate\u001b[90m: \u001b[39m\u001b[33m156.50 KiB\u001b[39m, allocs estimate\u001b[90m: \u001b[39m\u001b[33m6\u001b[39m."
      ]
     },
     "execution_count": 448,
     "metadata": {},
     "output_type": "execute_result"
    }
   ],
   "source": [
    "@benchmark top_k_ids(X_te_vecs, query)[1:10]"
   ]
  },
  {
   "cell_type": "markdown",
   "id": "52713791",
   "metadata": {},
   "source": [
    "A slightly better approach consist on using `partialsortperm` to simply sort a subset of the distances vector."
   ]
  },
  {
   "cell_type": "code",
   "execution_count": 449,
   "id": "dc886ca6",
   "metadata": {
    "ExecuteTime": {
     "end_time": "2022-08-21T22:44:57.064000+02:00",
     "start_time": "2022-08-21T20:43:40.354Z"
    },
    "scrolled": true
   },
   "outputs": [
    {
     "data": {
      "text/plain": [
       "top_k_ids_2 (generic function with 1 method)"
      ]
     },
     "execution_count": 449,
     "metadata": {},
     "output_type": "execute_result"
    }
   ],
   "source": [
    "function top_k_ids_2(X, query, k)\n",
    "    distances = SEuclidean_2(X, query)\n",
    "    top_k_indices = partialsortperm(distances, 1:k)\n",
    "    return top_k_indices\n",
    "end"
   ]
  },
  {
   "cell_type": "code",
   "execution_count": 450,
   "id": "af71f04b",
   "metadata": {
    "ExecuteTime": {
     "end_time": "2022-08-21T22:45:09.155000+02:00",
     "start_time": "2022-08-21T20:43:40.356Z"
    },
    "scrolled": true
   },
   "outputs": [
    {
     "data": {
      "text/plain": [
       "BenchmarkTools.Trial: 6056 samples with 1 evaluation.\n",
       " Range \u001b[90m(\u001b[39m\u001b[36m\u001b[1mmin\u001b[22m\u001b[39m … \u001b[35mmax\u001b[39m\u001b[90m):  \u001b[39m\u001b[36m\u001b[1m785.709 μs\u001b[22m\u001b[39m … \u001b[35m 1.346 ms\u001b[39m  \u001b[90m┊\u001b[39m GC \u001b[90m(\u001b[39mmin … max\u001b[90m): \u001b[39m0.00% … 0.00%\n",
       " Time  \u001b[90m(\u001b[39m\u001b[34m\u001b[1mmedian\u001b[22m\u001b[39m\u001b[90m):     \u001b[39m\u001b[34m\u001b[1m808.042 μs              \u001b[22m\u001b[39m\u001b[90m┊\u001b[39m GC \u001b[90m(\u001b[39mmedian\u001b[90m):    \u001b[39m0.00%\n",
       " Time  \u001b[90m(\u001b[39m\u001b[32m\u001b[1mmean\u001b[22m\u001b[39m ± \u001b[32mσ\u001b[39m\u001b[90m):   \u001b[39m\u001b[32m\u001b[1m822.902 μs\u001b[22m\u001b[39m ± \u001b[32m37.672 μs\u001b[39m  \u001b[90m┊\u001b[39m GC \u001b[90m(\u001b[39mmean ± σ\u001b[90m):  \u001b[39m0.00% ± 0.00%\n",
       "\n",
       "  \u001b[39m \u001b[39m \u001b[39m \u001b[39m▁\u001b[39m▇\u001b[39m█\u001b[39m▄\u001b[39m▁\u001b[34m \u001b[39m\u001b[39m \u001b[39m \u001b[39m \u001b[39m \u001b[39m \u001b[32m \u001b[39m\u001b[39m \u001b[39m \u001b[39m \u001b[39m \u001b[39m \u001b[39m \u001b[39m \u001b[39m \u001b[39m \u001b[39m \u001b[39m \u001b[39m \u001b[39m \u001b[39m \u001b[39m \u001b[39m \u001b[39m \u001b[39m \u001b[39m \u001b[39m \u001b[39m \u001b[39m \u001b[39m \u001b[39m \u001b[39m \u001b[39m \u001b[39m \u001b[39m \u001b[39m \u001b[39m \u001b[39m \u001b[39m \u001b[39m \u001b[39m \u001b[39m \u001b[39m \u001b[39m \u001b[39m \u001b[39m \u001b[39m \u001b[39m \u001b[39m \u001b[39m \u001b[39m \u001b[39m \u001b[39m \u001b[39m \n",
       "  \u001b[39m▃\u001b[39m▃\u001b[39m▃\u001b[39m█\u001b[39m█\u001b[39m█\u001b[39m█\u001b[39m█\u001b[34m▇\u001b[39m\u001b[39m▆\u001b[39m▅\u001b[39m▄\u001b[39m▄\u001b[39m▃\u001b[32m▃\u001b[39m\u001b[39m▄\u001b[39m▄\u001b[39m▄\u001b[39m▄\u001b[39m▃\u001b[39m▃\u001b[39m▂\u001b[39m▃\u001b[39m▂\u001b[39m▂\u001b[39m▂\u001b[39m▂\u001b[39m▂\u001b[39m▂\u001b[39m▂\u001b[39m▂\u001b[39m▂\u001b[39m▂\u001b[39m▂\u001b[39m▂\u001b[39m▂\u001b[39m▂\u001b[39m▂\u001b[39m▁\u001b[39m▂\u001b[39m▂\u001b[39m▂\u001b[39m▁\u001b[39m▁\u001b[39m▁\u001b[39m▂\u001b[39m▁\u001b[39m▁\u001b[39m▁\u001b[39m▁\u001b[39m▁\u001b[39m▁\u001b[39m▁\u001b[39m▁\u001b[39m▁\u001b[39m▁\u001b[39m▁\u001b[39m▁\u001b[39m▁\u001b[39m▁\u001b[39m \u001b[39m▂\n",
       "  786 μs\u001b[90m          Histogram: frequency by time\u001b[39m          944 μs \u001b[0m\u001b[1m<\u001b[22m\n",
       "\n",
       " Memory estimate\u001b[90m: \u001b[39m\u001b[33m156.44 KiB\u001b[39m, allocs estimate\u001b[90m: \u001b[39m\u001b[33m7\u001b[39m."
      ]
     },
     "execution_count": 450,
     "metadata": {},
     "output_type": "execute_result"
    }
   ],
   "source": [
    "@benchmark top_k_ids_2(X_te_vecs, query, 10)"
   ]
  },
  {
   "cell_type": "markdown",
   "id": "4ad73a18",
   "metadata": {},
   "source": [
    "### Storing top k distances in a priority queue\n",
    "\n",
    "A better alternative consists on using a priority queue. This. queue will keep only k distances in memory (no need to store all distances between the query point and all possible candidates)."
   ]
  },
  {
   "cell_type": "code",
   "execution_count": 451,
   "id": "22936250",
   "metadata": {
    "ExecuteTime": {
     "end_time": "2022-08-21T22:45:10.625000+02:00",
     "start_time": "2022-08-21T20:43:40.359Z"
    }
   },
   "outputs": [
    {
     "data": {
      "text/plain": [
       "5-element Vector{Int64}:\n",
       "  1\n",
       "  3\n",
       " 10\n",
       " 24\n",
       " 54"
      ]
     },
     "execution_count": 451,
     "metadata": {},
     "output_type": "execute_result"
    }
   ],
   "source": [
    "sort!([1,54,3,24,10])"
   ]
  },
  {
   "cell_type": "code",
   "execution_count": 452,
   "id": "2ddd66a9",
   "metadata": {
    "ExecuteTime": {
     "end_time": "2022-08-21T22:45:10.628000+02:00",
     "start_time": "2022-08-21T20:43:40.361Z"
    }
   },
   "outputs": [
    {
     "data": {
      "text/plain": [
       "5-element Vector{Int64}:\n",
       " 1\n",
       " 2\n",
       " 3\n",
       " 4\n",
       " 5"
      ]
     },
     "execution_count": 452,
     "metadata": {},
     "output_type": "execute_result"
    }
   ],
   "source": [
    "a = [1,2,3,4,5]"
   ]
  },
  {
   "cell_type": "code",
   "execution_count": 453,
   "id": "55e6429d",
   "metadata": {
    "ExecuteTime": {
     "end_time": "2022-08-21T22:45:10.736000+02:00",
     "start_time": "2022-08-21T20:43:40.363Z"
    }
   },
   "outputs": [
    {
     "data": {
      "text/plain": [
       "SEuclidean_3 (generic function with 1 method)"
      ]
     },
     "execution_count": 453,
     "metadata": {},
     "output_type": "execute_result"
    }
   ],
   "source": [
    "function SEuclidean_3(X, query, top_k)\n",
    "    result = sort(SEuclidean_2(X[:, 1:top_k], query))\n",
    "    n_features, n_examples = size(X)\n",
    "    \n",
    "    for m in top_k:n_examples\n",
    "        res = zero(eltype(X))\n",
    "        for j in 1:n_features\n",
    "            aux = (query[j] .- X[j,m])\n",
    "            res += aux * aux\n",
    "        end\n",
    "        dist = res/n_features\n",
    "        \n",
    "        # see if current mse is in the top pile\n",
    "        if dist < result[end]\n",
    "            j = top_k \n",
    "            #revisamos la lista resultado de izq a derecha\n",
    "            while dist < result[j-1]\n",
    "                j = j-1\n",
    "                if j == 1\n",
    "                    break\n",
    "                end\n",
    "            end\n",
    "            \n",
    "            result[j+1:end] .= result[j:end-1]\n",
    "            result[j] = dist\n",
    "         end\n",
    "\n",
    "    end\n",
    "    return result\n",
    "end"
   ]
  },
  {
   "cell_type": "code",
   "execution_count": 454,
   "id": "e7e04d31",
   "metadata": {
    "ExecuteTime": {
     "end_time": "2022-08-21T22:45:22.967000+02:00",
     "start_time": "2022-08-21T20:43:40.365Z"
    }
   },
   "outputs": [
    {
     "data": {
      "text/plain": [
       "BenchmarkTools.Trial: 62 samples with 1 evaluation.\n",
       " Range \u001b[90m(\u001b[39m\u001b[36m\u001b[1mmin\u001b[22m\u001b[39m … \u001b[35mmax\u001b[39m\u001b[90m):  \u001b[39m\u001b[36m\u001b[1m79.984 ms\u001b[22m\u001b[39m … \u001b[35m90.506 ms\u001b[39m  \u001b[90m┊\u001b[39m GC \u001b[90m(\u001b[39mmin … max\u001b[90m): \u001b[39m0.00% … 0.00%\n",
       " Time  \u001b[90m(\u001b[39m\u001b[34m\u001b[1mmedian\u001b[22m\u001b[39m\u001b[90m):     \u001b[39m\u001b[34m\u001b[1m80.591 ms              \u001b[22m\u001b[39m\u001b[90m┊\u001b[39m GC \u001b[90m(\u001b[39mmedian\u001b[90m):    \u001b[39m0.00%\n",
       " Time  \u001b[90m(\u001b[39m\u001b[32m\u001b[1mmean\u001b[22m\u001b[39m ± \u001b[32mσ\u001b[39m\u001b[90m):   \u001b[39m\u001b[32m\u001b[1m81.169 ms\u001b[22m\u001b[39m ± \u001b[32m 1.771 ms\u001b[39m  \u001b[90m┊\u001b[39m GC \u001b[90m(\u001b[39mmean ± σ\u001b[90m):  \u001b[39m0.00% ± 0.00%\n",
       "\n",
       "  \u001b[39m \u001b[39m \u001b[39m \u001b[39m \u001b[39m \u001b[39m█\u001b[34m▂\u001b[39m\u001b[39m \u001b[39m \u001b[39m \u001b[39m \u001b[32m \u001b[39m\u001b[39m \u001b[39m \u001b[39m \u001b[39m \u001b[39m \u001b[39m \u001b[39m \u001b[39m \u001b[39m \u001b[39m \u001b[39m \u001b[39m \u001b[39m \u001b[39m \u001b[39m \u001b[39m \u001b[39m \u001b[39m \u001b[39m \u001b[39m \u001b[39m \u001b[39m \u001b[39m \u001b[39m \u001b[39m \u001b[39m \u001b[39m \u001b[39m \u001b[39m \u001b[39m \u001b[39m \u001b[39m \u001b[39m \u001b[39m \u001b[39m \u001b[39m \u001b[39m \u001b[39m \u001b[39m \u001b[39m \u001b[39m \u001b[39m \u001b[39m \u001b[39m \u001b[39m \u001b[39m \u001b[39m \u001b[39m \u001b[39m \n",
       "  \u001b[39m▆\u001b[39m▇\u001b[39m▇\u001b[39m▆\u001b[39m▇\u001b[39m█\u001b[34m█\u001b[39m\u001b[39m▁\u001b[39m▅\u001b[39m▁\u001b[39m▄\u001b[32m▁\u001b[39m\u001b[39m▃\u001b[39m▁\u001b[39m▃\u001b[39m▃\u001b[39m▁\u001b[39m▃\u001b[39m▃\u001b[39m▁\u001b[39m▃\u001b[39m▃\u001b[39m▁\u001b[39m▁\u001b[39m▁\u001b[39m▃\u001b[39m▃\u001b[39m▁\u001b[39m▁\u001b[39m▁\u001b[39m▁\u001b[39m▁\u001b[39m▁\u001b[39m▁\u001b[39m▁\u001b[39m▁\u001b[39m▁\u001b[39m▁\u001b[39m▁\u001b[39m▁\u001b[39m▁\u001b[39m▁\u001b[39m▃\u001b[39m▁\u001b[39m▁\u001b[39m▁\u001b[39m▃\u001b[39m▁\u001b[39m▁\u001b[39m▁\u001b[39m▁\u001b[39m▁\u001b[39m▁\u001b[39m▁\u001b[39m▃\u001b[39m▁\u001b[39m▁\u001b[39m▁\u001b[39m▃\u001b[39m \u001b[39m▁\n",
       "  80 ms\u001b[90m           Histogram: frequency by time\u001b[39m        86.2 ms \u001b[0m\u001b[1m<\u001b[22m\n",
       "\n",
       " Memory estimate\u001b[90m: \u001b[39m\u001b[33m16.67 KiB\u001b[39m, allocs estimate\u001b[90m: \u001b[39m\u001b[33m120\u001b[39m."
      ]
     },
     "execution_count": 454,
     "metadata": {},
     "output_type": "execute_result"
    }
   ],
   "source": [
    "@benchmark SEuclidean_3(X_tr_vecs, query, 10) "
   ]
  },
  {
   "cell_type": "code",
   "execution_count": 455,
   "id": "7d8bf421",
   "metadata": {
    "ExecuteTime": {
     "end_time": "2022-08-21T22:45:35.596000+02:00",
     "start_time": "2022-08-21T20:43:40.368Z"
    }
   },
   "outputs": [
    {
     "data": {
      "text/plain": [
       "BenchmarkTools.Trial: 54 samples with 1 evaluation.\n",
       " Range \u001b[90m(\u001b[39m\u001b[36m\u001b[1mmin\u001b[22m\u001b[39m … \u001b[35mmax\u001b[39m\u001b[90m):  \u001b[39m\u001b[36m\u001b[1m86.799 ms\u001b[22m\u001b[39m … \u001b[35m150.780 ms\u001b[39m  \u001b[90m┊\u001b[39m GC \u001b[90m(\u001b[39mmin … max\u001b[90m): \u001b[39m0.00% … 0.00%\n",
       " Time  \u001b[90m(\u001b[39m\u001b[34m\u001b[1mmedian\u001b[22m\u001b[39m\u001b[90m):     \u001b[39m\u001b[34m\u001b[1m89.566 ms               \u001b[22m\u001b[39m\u001b[90m┊\u001b[39m GC \u001b[90m(\u001b[39mmedian\u001b[90m):    \u001b[39m0.00%\n",
       " Time  \u001b[90m(\u001b[39m\u001b[32m\u001b[1mmean\u001b[22m\u001b[39m ± \u001b[32mσ\u001b[39m\u001b[90m):   \u001b[39m\u001b[32m\u001b[1m93.604 ms\u001b[22m\u001b[39m ± \u001b[32m 11.673 ms\u001b[39m  \u001b[90m┊\u001b[39m GC \u001b[90m(\u001b[39mmean ± σ\u001b[90m):  \u001b[39m0.00% ± 0.00%\n",
       "\n",
       "  \u001b[39m \u001b[39m▃\u001b[39m \u001b[39m▃\u001b[34m█\u001b[39m\u001b[39m \u001b[39m \u001b[39m \u001b[39m \u001b[39m \u001b[39m \u001b[32m \u001b[39m\u001b[39m \u001b[39m \u001b[39m \u001b[39m \u001b[39m \u001b[39m \u001b[39m \u001b[39m \u001b[39m \u001b[39m \u001b[39m \u001b[39m \u001b[39m \u001b[39m \u001b[39m \u001b[39m \u001b[39m \u001b[39m \u001b[39m \u001b[39m \u001b[39m \u001b[39m \u001b[39m \u001b[39m \u001b[39m \u001b[39m \u001b[39m \u001b[39m \u001b[39m \u001b[39m \u001b[39m \u001b[39m \u001b[39m \u001b[39m \u001b[39m \u001b[39m \u001b[39m \u001b[39m \u001b[39m \u001b[39m \u001b[39m \u001b[39m \u001b[39m \u001b[39m \u001b[39m \u001b[39m \u001b[39m \u001b[39m \u001b[39m \u001b[39m \n",
       "  \u001b[39m▄\u001b[39m█\u001b[39m█\u001b[39m█\u001b[34m█\u001b[39m\u001b[39m▇\u001b[39m▄\u001b[39m▁\u001b[39m▃\u001b[39m▁\u001b[39m▁\u001b[32m▁\u001b[39m\u001b[39m▄\u001b[39m▄\u001b[39m▁\u001b[39m▁\u001b[39m▁\u001b[39m▁\u001b[39m▁\u001b[39m▃\u001b[39m▁\u001b[39m▁\u001b[39m▁\u001b[39m▁\u001b[39m▃\u001b[39m▃\u001b[39m▁\u001b[39m▁\u001b[39m▁\u001b[39m▁\u001b[39m▁\u001b[39m▁\u001b[39m▁\u001b[39m▁\u001b[39m▁\u001b[39m▁\u001b[39m▁\u001b[39m▁\u001b[39m▃\u001b[39m▁\u001b[39m▁\u001b[39m▁\u001b[39m▁\u001b[39m▁\u001b[39m▁\u001b[39m▁\u001b[39m▁\u001b[39m▁\u001b[39m▁\u001b[39m▁\u001b[39m▁\u001b[39m▁\u001b[39m▁\u001b[39m▁\u001b[39m▃\u001b[39m▃\u001b[39m▁\u001b[39m▁\u001b[39m▁\u001b[39m▃\u001b[39m \u001b[39m▁\n",
       "  86.8 ms\u001b[90m         Histogram: frequency by time\u001b[39m          125 ms \u001b[0m\u001b[1m<\u001b[22m\n",
       "\n",
       " Memory estimate\u001b[90m: \u001b[39m\u001b[33m15.26 MiB\u001b[39m, allocs estimate\u001b[90m: \u001b[39m\u001b[33m7\u001b[39m."
      ]
     },
     "execution_count": 455,
     "metadata": {},
     "output_type": "execute_result"
    }
   ],
   "source": [
    "@benchmark top_k_ids_2(X_tr_vecs, query, 10)"
   ]
  },
  {
   "cell_type": "code",
   "execution_count": 456,
   "id": "e9af1fba",
   "metadata": {
    "ExecuteTime": {
     "end_time": "2022-08-21T22:45:35.709000+02:00",
     "start_time": "2022-08-21T20:43:40.372Z"
    }
   },
   "outputs": [
    {
     "data": {
      "text/plain": [
       "SEuclidean_4 (generic function with 1 method)"
      ]
     },
     "execution_count": 456,
     "metadata": {},
     "output_type": "execute_result"
    }
   ],
   "source": [
    "function SEuclidean_4(X, query, top_k)\n",
    "    \n",
    "    result = sort(SEuclidean_2(X[:, 1:top_k], query))\n",
    "    n_features, n_examples = size(X)\n",
    "    \n",
    "    @inbounds @fastmath for m in top_k:n_examples\n",
    "        res = zero(eltype(X))\n",
    "        @simd for j in 1:n_features\n",
    "            aux = (query[j] .- X[j,m])\n",
    "            res += aux * aux\n",
    "        end\n",
    "        dist = res\n",
    "        \n",
    "        # see if current mse is in the top pile\n",
    "        if dist < result[end]\n",
    "            j = top_k \n",
    "            #revisamos la lista resultado de izq a derecha\n",
    "            while dist < result[j-1]\n",
    "                j = j-1\n",
    "                if j == 1\n",
    "                    break\n",
    "                end\n",
    "            end            \n",
    "            result[j+1:end] .= result[j:end-1]\n",
    "            result[j] = dist\n",
    "         end\n",
    "    end\n",
    "    return result\n",
    "end\n"
   ]
  },
  {
   "cell_type": "code",
   "execution_count": 462,
   "id": "d7244a94",
   "metadata": {
    "ExecuteTime": {
     "end_time": "2022-08-21T22:45:47.475000+02:00",
     "start_time": "2022-08-21T20:43:40.374Z"
    }
   },
   "outputs": [
    {
     "data": {
      "text/plain": [
       "BenchmarkTools.Trial: 416 samples with 1 evaluation.\n",
       " Range \u001b[90m(\u001b[39m\u001b[36m\u001b[1mmin\u001b[22m\u001b[39m … \u001b[35mmax\u001b[39m\u001b[90m):  \u001b[39m\u001b[36m\u001b[1m11.872 ms\u001b[22m\u001b[39m … \u001b[35m 13.198 ms\u001b[39m  \u001b[90m┊\u001b[39m GC \u001b[90m(\u001b[39mmin … max\u001b[90m): \u001b[39m0.00% … 0.00%\n",
       " Time  \u001b[90m(\u001b[39m\u001b[34m\u001b[1mmedian\u001b[22m\u001b[39m\u001b[90m):     \u001b[39m\u001b[34m\u001b[1m11.996 ms               \u001b[22m\u001b[39m\u001b[90m┊\u001b[39m GC \u001b[90m(\u001b[39mmedian\u001b[90m):    \u001b[39m0.00%\n",
       " Time  \u001b[90m(\u001b[39m\u001b[32m\u001b[1mmean\u001b[22m\u001b[39m ± \u001b[32mσ\u001b[39m\u001b[90m):   \u001b[39m\u001b[32m\u001b[1m12.029 ms\u001b[22m\u001b[39m ± \u001b[32m161.525 μs\u001b[39m  \u001b[90m┊\u001b[39m GC \u001b[90m(\u001b[39mmean ± σ\u001b[90m):  \u001b[39m0.00% ± 0.00%\n",
       "\n",
       "  \u001b[39m▄\u001b[39m█\u001b[39m \u001b[39m \u001b[39m \u001b[39m \u001b[39m \u001b[39m \u001b[39m \u001b[34m \u001b[39m\u001b[39m \u001b[39m \u001b[32m \u001b[39m\u001b[39m \u001b[39m \u001b[39m \u001b[39m▁\u001b[39m \u001b[39m \u001b[39m▁\u001b[39m \u001b[39m \u001b[39m \u001b[39m \u001b[39m \u001b[39m \u001b[39m \u001b[39m \u001b[39m \u001b[39m \u001b[39m \u001b[39m \u001b[39m \u001b[39m \u001b[39m \u001b[39m \u001b[39m \u001b[39m \u001b[39m \u001b[39m \u001b[39m \u001b[39m \u001b[39m \u001b[39m \u001b[39m \u001b[39m \u001b[39m \u001b[39m \u001b[39m \u001b[39m \u001b[39m \u001b[39m \u001b[39m \u001b[39m \u001b[39m \u001b[39m \u001b[39m \u001b[39m \u001b[39m \u001b[39m \u001b[39m \u001b[39m \n",
       "  \u001b[39m█\u001b[39m█\u001b[39m█\u001b[39m▆\u001b[39m▅\u001b[39m▆\u001b[39m▅\u001b[39m▄\u001b[39m▃\u001b[34m▅\u001b[39m\u001b[39m▃\u001b[39m▄\u001b[32m▃\u001b[39m\u001b[39m▃\u001b[39m▃\u001b[39m▃\u001b[39m█\u001b[39m█\u001b[39m▇\u001b[39m█\u001b[39m▅\u001b[39m▄\u001b[39m▂\u001b[39m▃\u001b[39m▃\u001b[39m▃\u001b[39m▂\u001b[39m▃\u001b[39m▁\u001b[39m▂\u001b[39m▁\u001b[39m▁\u001b[39m▁\u001b[39m▂\u001b[39m▁\u001b[39m▂\u001b[39m▃\u001b[39m▁\u001b[39m▁\u001b[39m▂\u001b[39m▂\u001b[39m▁\u001b[39m▁\u001b[39m▁\u001b[39m▁\u001b[39m▁\u001b[39m▁\u001b[39m▁\u001b[39m▁\u001b[39m▁\u001b[39m▁\u001b[39m▁\u001b[39m▁\u001b[39m▁\u001b[39m▁\u001b[39m▁\u001b[39m▂\u001b[39m▁\u001b[39m▁\u001b[39m▂\u001b[39m \u001b[39m▃\n",
       "  11.9 ms\u001b[90m         Histogram: frequency by time\u001b[39m         12.7 ms \u001b[0m\u001b[1m<\u001b[22m\n",
       "\n",
       " Memory estimate\u001b[90m: \u001b[39m\u001b[33m15.97 KiB\u001b[39m, allocs estimate\u001b[90m: \u001b[39m\u001b[33m114\u001b[39m."
      ]
     },
     "execution_count": 462,
     "metadata": {},
     "output_type": "execute_result"
    }
   ],
   "source": [
    "@benchmark SEuclidean_4(X_tr_vecs, query, 10) "
   ]
  },
  {
   "cell_type": "code",
   "execution_count": 458,
   "id": "fc0fa386",
   "metadata": {
    "ExecuteTime": {
     "end_time": "2022-08-21T22:45:58.767000+02:00",
     "start_time": "2022-08-21T20:43:40.376Z"
    }
   },
   "outputs": [
    {
     "data": {
      "text/plain": [
       "BenchmarkTools.Trial: 2022 samples with 1 evaluation.\n",
       " Range \u001b[90m(\u001b[39m\u001b[36m\u001b[1mmin\u001b[22m\u001b[39m … \u001b[35mmax\u001b[39m\u001b[90m):  \u001b[39m\u001b[36m\u001b[1m2.424 ms\u001b[22m\u001b[39m … \u001b[35m 3.359 ms\u001b[39m  \u001b[90m┊\u001b[39m GC \u001b[90m(\u001b[39mmin … max\u001b[90m): \u001b[39m0.00% … 0.00%\n",
       " Time  \u001b[90m(\u001b[39m\u001b[34m\u001b[1mmedian\u001b[22m\u001b[39m\u001b[90m):     \u001b[39m\u001b[34m\u001b[1m2.448 ms              \u001b[22m\u001b[39m\u001b[90m┊\u001b[39m GC \u001b[90m(\u001b[39mmedian\u001b[90m):    \u001b[39m0.00%\n",
       " Time  \u001b[90m(\u001b[39m\u001b[32m\u001b[1mmean\u001b[22m\u001b[39m ± \u001b[32mσ\u001b[39m\u001b[90m):   \u001b[39m\u001b[32m\u001b[1m2.463 ms\u001b[22m\u001b[39m ± \u001b[32m52.802 μs\u001b[39m  \u001b[90m┊\u001b[39m GC \u001b[90m(\u001b[39mmean ± σ\u001b[90m):  \u001b[39m0.00% ± 0.00%\n",
       "\n",
       "  \u001b[39m▃\u001b[39m█\u001b[39m▅\u001b[39m▄\u001b[39m▁\u001b[39m \u001b[34m \u001b[39m\u001b[39m \u001b[39m \u001b[32m \u001b[39m\u001b[39m \u001b[39m \u001b[39m \u001b[39m \u001b[39m \u001b[39m \u001b[39m \u001b[39m \u001b[39m \u001b[39m \u001b[39m \u001b[39m \u001b[39m \u001b[39m \u001b[39m \u001b[39m \u001b[39m \u001b[39m \u001b[39m \u001b[39m \u001b[39m \u001b[39m \u001b[39m \u001b[39m \u001b[39m \u001b[39m \u001b[39m \u001b[39m \u001b[39m \u001b[39m \u001b[39m \u001b[39m \u001b[39m \u001b[39m \u001b[39m \u001b[39m \u001b[39m \u001b[39m \u001b[39m \u001b[39m \u001b[39m \u001b[39m \u001b[39m \u001b[39m \u001b[39m \u001b[39m \u001b[39m \u001b[39m \u001b[39m \u001b[39m \n",
       "  \u001b[39m█\u001b[39m█\u001b[39m█\u001b[39m█\u001b[39m█\u001b[39m█\u001b[34m▇\u001b[39m\u001b[39m▇\u001b[39m▆\u001b[32m▆\u001b[39m\u001b[39m▅\u001b[39m▆\u001b[39m▆\u001b[39m▆\u001b[39m▅\u001b[39m▄\u001b[39m▄\u001b[39m▄\u001b[39m▃\u001b[39m▃\u001b[39m▃\u001b[39m▃\u001b[39m▃\u001b[39m▂\u001b[39m▂\u001b[39m▂\u001b[39m▂\u001b[39m▂\u001b[39m▂\u001b[39m▂\u001b[39m▂\u001b[39m▂\u001b[39m▂\u001b[39m▂\u001b[39m▂\u001b[39m▂\u001b[39m▂\u001b[39m▂\u001b[39m▂\u001b[39m▂\u001b[39m▂\u001b[39m▁\u001b[39m▂\u001b[39m▂\u001b[39m▂\u001b[39m▂\u001b[39m▂\u001b[39m▁\u001b[39m▂\u001b[39m▂\u001b[39m▂\u001b[39m▂\u001b[39m▂\u001b[39m▂\u001b[39m▁\u001b[39m▁\u001b[39m▂\u001b[39m▂\u001b[39m \u001b[39m▃\n",
       "  2.42 ms\u001b[90m        Histogram: frequency by time\u001b[39m        2.68 ms \u001b[0m\u001b[1m<\u001b[22m\n",
       "\n",
       " Memory estimate\u001b[90m: \u001b[39m\u001b[33m13.94 KiB\u001b[39m, allocs estimate\u001b[90m: \u001b[39m\u001b[33m94\u001b[39m."
      ]
     },
     "execution_count": 458,
     "metadata": {},
     "output_type": "execute_result"
    }
   ],
   "source": [
    "X_tr_200k = X_tr_vecs[:,1:200_000]\n",
    "@benchmark SEuclidean_4(X_tr_200k, query, 10) "
   ]
  },
  {
   "cell_type": "code",
   "execution_count": null,
   "id": "e1a8902b",
   "metadata": {
    "ExecuteTime": {
     "end_time": "2022-08-21T22:45:59.322000+02:00",
     "start_time": "2022-08-21T20:43:40.378Z"
    },
    "scrolled": true
   },
   "outputs": [],
   "source": [
    "SEuclidean_4(X_tr_vecs, query, 10)"
   ]
  },
  {
   "cell_type": "code",
   "execution_count": 459,
   "id": "e0309ffe",
   "metadata": {
    "ExecuteTime": {
     "end_time": "2022-08-21T22:46:05.344000+02:00",
     "start_time": "2022-08-21T20:43:40.381Z"
    },
    "scrolled": true
   },
   "outputs": [
    {
     "data": {
      "text/plain": [
       "SEuclidean_5 (generic function with 1 method)"
      ]
     },
     "execution_count": 459,
     "metadata": {},
     "output_type": "execute_result"
    }
   ],
   "source": [
    "function SEuclidean_5(X, query, top_k)\n",
    "    \n",
    "    result = sort(SEuclidean_2(X[:, 1:top_k], query))\n",
    "    n_features, n_examples = size(X)\n",
    "    \n",
    "    for m in top_k:n_examples\n",
    "        res = zero(eltype(X))\n",
    "        @turbo  for j in 1:n_features\n",
    "            aux = (query[j] - X[j,m])\n",
    "            res += aux * aux\n",
    "        end\n",
    "        dist = res\n",
    "        \n",
    "        # see if current mse is in the top pile\n",
    "        if dist < result[end]\n",
    "            j = top_k \n",
    "            #revisamos la lista resultado de izq a derecha\n",
    "            while dist < result[j-1]\n",
    "                j = j-1\n",
    "                if j == 1\n",
    "                    break\n",
    "                end\n",
    "            end            \n",
    "            result[j+1:end] .= result[j:end-1]\n",
    "            result[j] = dist\n",
    "         end\n",
    "    end\n",
    "    return result\n",
    "end"
   ]
  },
  {
   "cell_type": "code",
   "execution_count": 460,
   "id": "46172a52",
   "metadata": {
    "ExecuteTime": {
     "end_time": "2022-08-21T22:46:29.789000+02:00",
     "start_time": "2022-08-21T20:43:40.383Z"
    },
    "scrolled": true
   },
   "outputs": [
    {
     "data": {
      "text/plain": [
       "BenchmarkTools.Trial: 2251 samples with 1 evaluation.\n",
       " Range \u001b[90m(\u001b[39m\u001b[36m\u001b[1mmin\u001b[22m\u001b[39m … \u001b[35mmax\u001b[39m\u001b[90m):  \u001b[39m\u001b[36m\u001b[1m2.148 ms\u001b[22m\u001b[39m … \u001b[35m 2.755 ms\u001b[39m  \u001b[90m┊\u001b[39m GC \u001b[90m(\u001b[39mmin … max\u001b[90m): \u001b[39m0.00% … 0.00%\n",
       " Time  \u001b[90m(\u001b[39m\u001b[34m\u001b[1mmedian\u001b[22m\u001b[39m\u001b[90m):     \u001b[39m\u001b[34m\u001b[1m2.197 ms              \u001b[22m\u001b[39m\u001b[90m┊\u001b[39m GC \u001b[90m(\u001b[39mmedian\u001b[90m):    \u001b[39m0.00%\n",
       " Time  \u001b[90m(\u001b[39m\u001b[32m\u001b[1mmean\u001b[22m\u001b[39m ± \u001b[32mσ\u001b[39m\u001b[90m):   \u001b[39m\u001b[32m\u001b[1m2.211 ms\u001b[22m\u001b[39m ± \u001b[32m58.715 μs\u001b[39m  \u001b[90m┊\u001b[39m GC \u001b[90m(\u001b[39mmean ± σ\u001b[90m):  \u001b[39m0.00% ± 0.00%\n",
       "\n",
       "  \u001b[39m \u001b[39m \u001b[39m▄\u001b[39m▇\u001b[39m█\u001b[39m█\u001b[39m▇\u001b[39m▆\u001b[34m▆\u001b[39m\u001b[39m▇\u001b[32m▇\u001b[39m\u001b[39m▆\u001b[39m▅\u001b[39m▄\u001b[39m▃\u001b[39m▂\u001b[39m▂\u001b[39m▁\u001b[39m▁\u001b[39m \u001b[39m \u001b[39m \u001b[39m \u001b[39m \u001b[39m \u001b[39m \u001b[39m \u001b[39m \u001b[39m \u001b[39m \u001b[39m \u001b[39m \u001b[39m \u001b[39m \u001b[39m \u001b[39m \u001b[39m \u001b[39m \u001b[39m \u001b[39m \u001b[39m \u001b[39m \u001b[39m \u001b[39m \u001b[39m \u001b[39m \u001b[39m \u001b[39m \u001b[39m \u001b[39m \u001b[39m \u001b[39m \u001b[39m \u001b[39m \u001b[39m \u001b[39m \u001b[39m \u001b[39m \u001b[39m \u001b[39m▂\n",
       "  \u001b[39m▄\u001b[39m▄\u001b[39m█\u001b[39m█\u001b[39m█\u001b[39m█\u001b[39m█\u001b[39m█\u001b[34m█\u001b[39m\u001b[39m█\u001b[32m█\u001b[39m\u001b[39m█\u001b[39m█\u001b[39m█\u001b[39m█\u001b[39m█\u001b[39m█\u001b[39m█\u001b[39m█\u001b[39m█\u001b[39m▆\u001b[39m█\u001b[39m▆\u001b[39m▆\u001b[39m▇\u001b[39m▇\u001b[39m▆\u001b[39m▇\u001b[39m▇\u001b[39m▆\u001b[39m█\u001b[39m▇\u001b[39m▆\u001b[39m▇\u001b[39m▅\u001b[39m▅\u001b[39m▅\u001b[39m▆\u001b[39m▄\u001b[39m▁\u001b[39m▄\u001b[39m▅\u001b[39m▁\u001b[39m▄\u001b[39m▁\u001b[39m▅\u001b[39m▄\u001b[39m▄\u001b[39m▅\u001b[39m▁\u001b[39m▄\u001b[39m▅\u001b[39m▁\u001b[39m▅\u001b[39m▅\u001b[39m▅\u001b[39m▁\u001b[39m▆\u001b[39m \u001b[39m█\n",
       "  2.15 ms\u001b[90m      \u001b[39m\u001b[90mHistogram: \u001b[39m\u001b[90m\u001b[1mlog(\u001b[22m\u001b[39m\u001b[90mfrequency\u001b[39m\u001b[90m\u001b[1m)\u001b[22m\u001b[39m\u001b[90m by time\u001b[39m     2.52 ms \u001b[0m\u001b[1m<\u001b[22m\n",
       "\n",
       " Memory estimate\u001b[90m: \u001b[39m\u001b[33m13.94 KiB\u001b[39m, allocs estimate\u001b[90m: \u001b[39m\u001b[33m94\u001b[39m."
      ]
     },
     "execution_count": 460,
     "metadata": {},
     "output_type": "execute_result"
    }
   ],
   "source": [
    "@benchmark SEuclidean_5(X_tr_200k, query, 10) "
   ]
  },
  {
   "cell_type": "markdown",
   "id": "bad1d4a7",
   "metadata": {},
   "source": [
    "# Comparison with Distances.jl\n",
    "\n",
    "\n",
    "Distances.jl provides the method 'pairwise' to compute pairwise distances between two matrices."
   ]
  },
  {
   "cell_type": "code",
   "execution_count": null,
   "id": "7b260685",
   "metadata": {
    "ExecuteTime": {
     "end_time": "2022-08-21T22:46:29.822000+02:00",
     "start_time": "2022-08-21T20:43:40.387Z"
    },
    "scrolled": true
   },
   "outputs": [],
   "source": [
    "@show typeof(query)\n",
    "@show size(query)\n",
    "@show typeof(X_tr_vecs)\n",
    "@show size(X_tr_vecs)"
   ]
  },
  {
   "cell_type": "code",
   "execution_count": null,
   "id": "3f89e423",
   "metadata": {
    "ExecuteTime": {
     "end_time": "2022-08-21T22:46:30.937000+02:00",
     "start_time": "2022-08-21T20:43:40.389Z"
    }
   },
   "outputs": [],
   "source": [
    "v1 = [1,2,3]\n",
    "v2 = [0,0,1]\n",
    "\n",
    "y = [0,0,2]\n",
    "X = [v1 v2]"
   ]
  },
  {
   "cell_type": "code",
   "execution_count": null,
   "id": "f3a85adc",
   "metadata": {
    "ExecuteTime": {
     "end_time": "2022-08-21T22:46:30.946000+02:00",
     "start_time": "2022-08-21T20:43:40.391Z"
    }
   },
   "outputs": [],
   "source": [
    "function SEuclidean_5(X, query, top_k)\n",
    "    \n",
    "    result = sort(SEuclidean_5(X[:, 1:top_k], query))\n",
    "    n_features, n_examples = size(X)\n",
    "    \n",
    "    for m in top_k:n_examples\n",
    "        dist = zero(eltype(X))\n",
    "        @turbo  for j in 1:n_features\n",
    "            dist = (query[j] - X[j,m])\n",
    "            dist += aux * aux\n",
    "        end\n",
    "        \n",
    "        # see if current mse is in the top pile\n",
    "        if dist < result[end]\n",
    "            j = top_k \n",
    "            #revisamos la lista resultado de izq a derecha\n",
    "            while dist < result[j-1]\n",
    "                j = j-1\n",
    "                if j == 1\n",
    "                    break\n",
    "                end\n",
    "            end            \n",
    "            result[j+1:end] .= result[j:end-1]\n",
    "            result[j] = dist\n",
    "         end\n",
    "    end\n",
    "    return result\n",
    "end"
   ]
  },
  {
   "cell_type": "code",
   "execution_count": null,
   "id": "fb6acc9f",
   "metadata": {
    "ExecuteTime": {
     "end_time": "2022-08-21T22:46:30.950000+02:00",
     "start_time": "2022-08-21T20:43:40.393Z"
    }
   },
   "outputs": [],
   "source": [
    "function SEuclidean_2(X, query)\n",
    "    n_features, n_examples = size(X)\n",
    "    result = zeros(eltype(X), n_examples)\n",
    "    for m in 1:n_examples\n",
    "        res = zero(eltype(X))\n",
    "        for j in 1:n_features\n",
    "            aux = (query[j] .- X[j,m])\n",
    "            res += aux * aux\n",
    "        end\n",
    "        result[m] = res\n",
    "    end\n",
    "    return result\n",
    "end"
   ]
  },
  {
   "cell_type": "code",
   "execution_count": null,
   "id": "430436b6",
   "metadata": {
    "ExecuteTime": {
     "end_time": "2022-08-23T23:24:45.697000+02:00",
     "start_time": "2022-08-23T21:24:45.677Z"
    }
   },
   "outputs": [],
   "source": [
    "y_colvec = [y y][:,[1]]\n",
    "query_mat = [query query][:,[1]];"
   ]
  },
  {
   "cell_type": "code",
   "execution_count": null,
   "id": "3d6f4686",
   "metadata": {
    "ExecuteTime": {
     "end_time": "2022-08-21T22:46:31.146000+02:00",
     "start_time": "2022-08-21T20:43:40.397Z"
    }
   },
   "outputs": [],
   "source": [
    "SEuclidean_2(X, y)"
   ]
  },
  {
   "cell_type": "code",
   "execution_count": null,
   "id": "6a8f17f8",
   "metadata": {
    "ExecuteTime": {
     "end_time": "2022-08-21T22:46:32.220000+02:00",
     "start_time": "2022-08-21T20:43:40.399Z"
    }
   },
   "outputs": [],
   "source": [
    "pairwise(SqEuclidean(), y_colvec, X)"
   ]
  },
  {
   "cell_type": "code",
   "execution_count": null,
   "id": "f83dc2f1",
   "metadata": {
    "ExecuteTime": {
     "end_time": "2022-08-21T22:46:48.093000+02:00",
     "start_time": "2022-08-21T20:43:40.406Z"
    }
   },
   "outputs": [],
   "source": [
    "@benchmark pairwise(SqEuclidean(), query_mat, X_tr_vecs)"
   ]
  },
  {
   "cell_type": "code",
   "execution_count": null,
   "id": "676611a3",
   "metadata": {
    "ExecuteTime": {
     "end_time": "2022-08-21T22:47:00.160000+02:00",
     "start_time": "2022-08-21T20:43:40.408Z"
    }
   },
   "outputs": [],
   "source": [
    "@benchmark SEuclidean_2(X_tr_vecs, query)"
   ]
  },
  {
   "cell_type": "code",
   "execution_count": null,
   "id": "944731d5",
   "metadata": {
    "ExecuteTime": {
     "end_time": "2022-08-21T22:47:12.235000+02:00",
     "start_time": "2022-08-21T20:43:40.410Z"
    },
    "scrolled": true
   },
   "outputs": [],
   "source": [
    "@benchmark SEuclidean_4(X_tr_vecs, query, 10)"
   ]
  },
  {
   "cell_type": "markdown",
   "id": "887de048",
   "metadata": {},
   "source": [
    "We can verify that the sorted distances by `SEuclidean_4` are the same as the results provided with `pairwise` from `Distances.jl`"
   ]
  },
  {
   "cell_type": "code",
   "execution_count": null,
   "id": "a5ebdbeb",
   "metadata": {
    "ExecuteTime": {
     "end_time": "2022-08-21T22:47:12.965000+02:00",
     "start_time": "2022-08-21T20:43:40.412Z"
    }
   },
   "outputs": [],
   "source": [
    "res2 = SEuclidean_4(X_tr_vecs, query, 10);\n",
    "res = pairwise(SqEuclidean(), query_mat, X_tr_vecs)\n",
    "res = sort(res, dims=2)[1:10]\n",
    "res == res2"
   ]
  },
  {
   "cell_type": "markdown",
   "id": "844364e0",
   "metadata": {
    "ExecuteTime": {
     "end_time": "2022-08-21T22:20:19.731000+02:00",
     "start_time": "2022-08-21T20:20:19.269Z"
    }
   },
   "source": [
    "## Parallel implementation"
   ]
  },
  {
   "cell_type": "code",
   "execution_count": null,
   "id": "30d1267b",
   "metadata": {},
   "outputs": [],
   "source": []
  },
  {
   "cell_type": "code",
   "execution_count": null,
   "id": "2ec67e5c",
   "metadata": {},
   "outputs": [],
   "source": []
  },
  {
   "cell_type": "code",
   "execution_count": null,
   "id": "7af757b8",
   "metadata": {},
   "outputs": [],
   "source": []
  },
  {
   "cell_type": "markdown",
   "id": "8bd05788",
   "metadata": {},
   "source": [
    "# SIMD tests"
   ]
  },
  {
   "cell_type": "code",
   "execution_count": null,
   "id": "2cd82b22",
   "metadata": {
    "ExecuteTime": {
     "end_time": "2022-08-21T22:47:13.063000+02:00",
     "start_time": "2022-08-21T20:43:40.419Z"
    }
   },
   "outputs": [],
   "source": [
    "\n",
    "function find_val_in_array_simd(x::Array{T}, val::T) where {T}\n",
    "    n_simd = 64\n",
    "    last_pos_simd_chunk = length(x)-n_simd\n",
    "    @inbounds for i in 1:n_simd:last_pos_simd_chunk\n",
    "        vec_i = vload(Vec{n_simd, T}, x, i)\n",
    "        sum_equality = sum(vec_i == val)\n",
    "        if sum_equality >0\n",
    "            return true\n",
    "        end\n",
    "    end\n",
    "\n",
    "    @inbounds for i in last_pos_simd_chunk:length(x)\n",
    "        if x[i] == val\n",
    "            return true\n",
    "        end\n",
    "    end\n",
    "\n",
    "    return false\n",
    "end"
   ]
  },
  {
   "cell_type": "code",
   "execution_count": null,
   "id": "35ecee2b",
   "metadata": {
    "ExecuteTime": {
     "end_time": "2022-08-21T22:47:13.183000+02:00",
     "start_time": "2022-08-21T20:43:40.422Z"
    }
   },
   "outputs": [],
   "source": [
    "function jdotavx(a, b)\n",
    "    s = zero(eltype(a))\n",
    "    @turbo for i ∈ eachindex(a, b)\n",
    "        s += a[i] * b[i]\n",
    "    end\n",
    "    s\n",
    "end"
   ]
  },
  {
   "cell_type": "code",
   "execution_count": null,
   "id": "b53ce65a",
   "metadata": {},
   "outputs": [],
   "source": []
  }
 ],
 "metadata": {
  "kernelspec": {
   "display_name": "Julia 1.8.0",
   "language": "julia",
   "name": "julia-1.8"
  },
  "language_info": {
   "file_extension": ".jl",
   "mimetype": "application/julia",
   "name": "julia",
   "version": "1.8.0"
  },
  "toc": {
   "base_numbering": 1,
   "nav_menu": {},
   "number_sections": true,
   "sideBar": true,
   "skip_h1_title": false,
   "title_cell": "Table of Contents",
   "title_sidebar": "Contents",
   "toc_cell": false,
   "toc_position": {},
   "toc_section_display": true,
   "toc_window_display": false
  }
 },
 "nbformat": 4,
 "nbformat_minor": 5
}
