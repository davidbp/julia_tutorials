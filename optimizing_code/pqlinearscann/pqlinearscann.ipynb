{
 "cells": [
  {
   "cell_type": "markdown",
   "id": "7c2e3113",
   "metadata": {},
   "source": [
    "# Read SIFT 1 million "
   ]
  },
  {
   "cell_type": "code",
   "execution_count": 1,
   "id": "cece13ba",
   "metadata": {
    "ExecuteTime": {
     "end_time": "2022-07-05T23:01:58.205000+02:00",
     "start_time": "2022-07-05T21:01:56.715Z"
    }
   },
   "outputs": [
    {
     "data": {
      "text/plain": [
       "\"/Users/davidbuchaca/Datasets/SIFT1M/sift-128-euclidean.hdf5\""
      ]
     },
     "execution_count": 1,
     "metadata": {},
     "output_type": "execute_result"
    }
   ],
   "source": [
    "path = joinpath(homedir(), \"Datasets\", \"SIFT1M\",\n",
    "    \"sift-128-euclidean.hdf5\")"
   ]
  },
  {
   "cell_type": "code",
   "execution_count": 2,
   "id": "fd54d328",
   "metadata": {
    "ExecuteTime": {
     "end_time": "2022-07-05T23:01:58.563000+02:00",
     "start_time": "2022-07-05T21:01:57.088Z"
    }
   },
   "outputs": [],
   "source": [
    "using HDF5"
   ]
  },
  {
   "cell_type": "code",
   "execution_count": 3,
   "id": "1cfb292b",
   "metadata": {
    "ExecuteTime": {
     "end_time": "2022-07-05T23:02:00.039000+02:00",
     "start_time": "2022-07-05T21:01:57.377Z"
    }
   },
   "outputs": [
    {
     "data": {
      "text/plain": [
       "🗂️ HDF5.File: (read-only) /Users/davidbuchaca/Datasets/SIFT1M/sift-128-euclidean.hdf5\n",
       "├─ 🏷️ distance\n",
       "├─ 🔢 distances\n",
       "├─ 🔢 neighbors\n",
       "├─ 🔢 test\n",
       "└─ 🔢 train"
      ]
     },
     "execution_count": 3,
     "metadata": {},
     "output_type": "execute_result"
    }
   ],
   "source": [
    "f = h5open(path, \"r\")"
   ]
  },
  {
   "cell_type": "code",
   "execution_count": 4,
   "id": "c1e88b49",
   "metadata": {
    "ExecuteTime": {
     "end_time": "2022-07-05T23:02:02.144000+02:00",
     "start_time": "2022-07-05T21:01:57.576Z"
    },
    "scrolled": true
   },
   "outputs": [
    {
     "name": "stdout",
     "output_type": "stream",
     "text": [
      "size(X_tr_vecs) = (128, 1000000)\n",
      "size(X_te_vecs) = (128, 10000)\n",
      "size(neighbors) = (100, 10000)\n",
      "size(distances) = (100, 10000)\n"
     ]
    },
    {
     "data": {
      "text/plain": [
       "(100, 10000)"
      ]
     },
     "execution_count": 4,
     "metadata": {},
     "output_type": "execute_result"
    }
   ],
   "source": [
    "X_tr_vecs = read(f[\"train\"])\n",
    "X_te_vecs = read(f[\"test\"]);\n",
    "neighbors = read(f[\"neighbors\"])\n",
    "distances = read(f[\"distances\"])\n",
    "\n",
    "@show size(X_tr_vecs)\n",
    "@show size(X_te_vecs)\n",
    "@show size(neighbors)\n",
    "@show size(distances)"
   ]
  },
  {
   "cell_type": "markdown",
   "id": "ad237b8d",
   "metadata": {},
   "source": [
    "### Mean Squared Error"
   ]
  },
  {
   "cell_type": "code",
   "execution_count": 5,
   "id": "2e5d8646",
   "metadata": {
    "ExecuteTime": {
     "end_time": "2022-07-05T23:02:02.147000+02:00",
     "start_time": "2022-07-05T21:01:58.164Z"
    }
   },
   "outputs": [],
   "source": [
    "using Statistics"
   ]
  },
  {
   "cell_type": "code",
   "execution_count": 152,
   "id": "33faf602",
   "metadata": {
    "ExecuteTime": {
     "end_time": "2022-07-05T23:45:17.300000+02:00",
     "start_time": "2022-07-05T21:45:17.294Z"
    }
   },
   "outputs": [
    {
     "data": {
      "text/plain": [
       "MSE (generic function with 1 method)"
      ]
     },
     "execution_count": 152,
     "metadata": {},
     "output_type": "execute_result"
    }
   ],
   "source": [
    "function MSE(X, query)\n",
    "    d = (query .- X) .* (query .- X)\n",
    "    res = d /length(query);\n",
    "    return sum(res, dims=1)\n",
    "end"
   ]
  },
  {
   "cell_type": "code",
   "execution_count": 173,
   "id": "9273d7b1",
   "metadata": {
    "ExecuteTime": {
     "end_time": "2022-07-05T23:47:33.066000+02:00",
     "start_time": "2022-07-05T21:47:33.059Z"
    }
   },
   "outputs": [
    {
     "data": {
      "text/plain": [
       "MSE_2 (generic function with 1 method)"
      ]
     },
     "execution_count": 173,
     "metadata": {},
     "output_type": "execute_result"
    }
   ],
   "source": [
    "function MSE_2(X, query)\n",
    "    n_features, n_examples = size(X)\n",
    "    result = zeros(n_examples)\n",
    "    for m in 1:n_examples\n",
    "        res = zero(eltype(X))\n",
    "        for j in 1:n_features\n",
    "            aux = (query[j] .- X[j,m])\n",
    "            res += aux * aux\n",
    "        end\n",
    "        result[m] = res/n_features\n",
    "    end\n",
    "    return result\n",
    "end"
   ]
  },
  {
   "cell_type": "code",
   "execution_count": 174,
   "id": "829c2733",
   "metadata": {
    "ExecuteTime": {
     "end_time": "2022-07-05T23:47:33.431000+02:00",
     "start_time": "2022-07-05T21:47:33.428Z"
    }
   },
   "outputs": [],
   "source": [
    "query = X_te_vecs[:,1];"
   ]
  },
  {
   "cell_type": "code",
   "execution_count": 175,
   "id": "b0358b9a",
   "metadata": {
    "ExecuteTime": {
     "end_time": "2022-07-05T23:47:33.616000+02:00",
     "start_time": "2022-07-05T21:47:33.614Z"
    }
   },
   "outputs": [],
   "source": [
    "using BenchmarkTools"
   ]
  },
  {
   "cell_type": "code",
   "execution_count": 179,
   "id": "107923a8",
   "metadata": {
    "ExecuteTime": {
     "end_time": "2022-07-05T23:48:35.119000+02:00",
     "start_time": "2022-07-05T21:48:24.135Z"
    }
   },
   "outputs": [
    {
     "data": {
      "text/plain": [
       "BenchmarkTools.Trial: 707 samples with 1 evaluation.\n",
       " Range \u001b[90m(\u001b[39m\u001b[36m\u001b[1mmin\u001b[22m\u001b[39m … \u001b[35mmax\u001b[39m\u001b[90m):  \u001b[39m\u001b[36m\u001b[1m2.326 ms\u001b[22m\u001b[39m … \u001b[35m52.709 ms\u001b[39m  \u001b[90m┊\u001b[39m GC \u001b[90m(\u001b[39mmin … max\u001b[90m): \u001b[39m 0.00% … 84.70%\n",
       " Time  \u001b[90m(\u001b[39m\u001b[34m\u001b[1mmedian\u001b[22m\u001b[39m\u001b[90m):     \u001b[39m\u001b[34m\u001b[1m6.383 ms              \u001b[22m\u001b[39m\u001b[90m┊\u001b[39m GC \u001b[90m(\u001b[39mmedian\u001b[90m):    \u001b[39m 0.00%\n",
       " Time  \u001b[90m(\u001b[39m\u001b[32m\u001b[1mmean\u001b[22m\u001b[39m ± \u001b[32mσ\u001b[39m\u001b[90m):   \u001b[39m\u001b[32m\u001b[1m7.055 ms\u001b[22m\u001b[39m ± \u001b[32m 6.344 ms\u001b[39m  \u001b[90m┊\u001b[39m GC \u001b[90m(\u001b[39mmean ± σ\u001b[90m):  \u001b[39m15.75% ± 14.95%\n",
       "\n",
       "  \u001b[39m▅\u001b[39m▃\u001b[39m \u001b[39m▂\u001b[39m▁\u001b[39m▇\u001b[34m█\u001b[39m\u001b[32m▆\u001b[39m\u001b[39m▃\u001b[39m \u001b[39m \u001b[39m \u001b[39m \u001b[39m \u001b[39m \u001b[39m \u001b[39m \u001b[39m \u001b[39m \u001b[39m \u001b[39m \u001b[39m \u001b[39m \u001b[39m \u001b[39m \u001b[39m \u001b[39m \u001b[39m \u001b[39m \u001b[39m \u001b[39m \u001b[39m \u001b[39m \u001b[39m \u001b[39m \u001b[39m \u001b[39m \u001b[39m \u001b[39m \u001b[39m \u001b[39m \u001b[39m \u001b[39m \u001b[39m \u001b[39m \u001b[39m \u001b[39m \u001b[39m \u001b[39m \u001b[39m \u001b[39m \u001b[39m \u001b[39m \u001b[39m \u001b[39m \u001b[39m \u001b[39m \u001b[39m \u001b[39m \u001b[39m \n",
       "  \u001b[39m█\u001b[39m█\u001b[39m█\u001b[39m█\u001b[39m█\u001b[39m█\u001b[34m█\u001b[39m\u001b[32m█\u001b[39m\u001b[39m█\u001b[39m▆\u001b[39m▄\u001b[39m▁\u001b[39m▁\u001b[39m▁\u001b[39m▁\u001b[39m▁\u001b[39m▁\u001b[39m▁\u001b[39m▁\u001b[39m▁\u001b[39m▁\u001b[39m▁\u001b[39m▁\u001b[39m▁\u001b[39m▁\u001b[39m▁\u001b[39m▁\u001b[39m▁\u001b[39m▁\u001b[39m▁\u001b[39m▁\u001b[39m▁\u001b[39m▁\u001b[39m▁\u001b[39m▁\u001b[39m▁\u001b[39m▁\u001b[39m▁\u001b[39m▁\u001b[39m▁\u001b[39m▁\u001b[39m▁\u001b[39m▁\u001b[39m▁\u001b[39m▁\u001b[39m▁\u001b[39m▁\u001b[39m▅\u001b[39m▁\u001b[39m▁\u001b[39m▄\u001b[39m▄\u001b[39m▆\u001b[39m▅\u001b[39m▆\u001b[39m▄\u001b[39m▁\u001b[39m▆\u001b[39m \u001b[39m▇\n",
       "  2.33 ms\u001b[90m      \u001b[39m\u001b[90mHistogram: \u001b[39m\u001b[90m\u001b[1mlog(\u001b[22m\u001b[39m\u001b[90mfrequency\u001b[39m\u001b[90m\u001b[1m)\u001b[22m\u001b[39m\u001b[90m by time\u001b[39m     40.8 ms \u001b[0m\u001b[1m<\u001b[22m\n",
       "\n",
       " Memory estimate\u001b[90m: \u001b[39m\u001b[33m9.80 MiB\u001b[39m, allocs estimate\u001b[90m: \u001b[39m\u001b[33m6\u001b[39m."
      ]
     },
     "execution_count": 179,
     "metadata": {},
     "output_type": "execute_result"
    }
   ],
   "source": [
    "@benchmark MSE(X_te_vecs, query)"
   ]
  },
  {
   "cell_type": "code",
   "execution_count": 180,
   "id": "60d6c3af",
   "metadata": {
    "ExecuteTime": {
     "end_time": "2022-07-05T23:48:45.925000+02:00",
     "start_time": "2022-07-05T21:48:24.328Z"
    }
   },
   "outputs": [
    {
     "data": {
      "text/plain": [
       "BenchmarkTools.Trial: 3442 samples with 1 evaluation.\n",
       " Range \u001b[90m(\u001b[39m\u001b[36m\u001b[1mmin\u001b[22m\u001b[39m … \u001b[35mmax\u001b[39m\u001b[90m):  \u001b[39m\u001b[36m\u001b[1m1.161 ms\u001b[22m\u001b[39m … \u001b[35m  2.891 ms\u001b[39m  \u001b[90m┊\u001b[39m GC \u001b[90m(\u001b[39mmin … max\u001b[90m): \u001b[39m0.00% … 0.00%\n",
       " Time  \u001b[90m(\u001b[39m\u001b[34m\u001b[1mmedian\u001b[22m\u001b[39m\u001b[90m):     \u001b[39m\u001b[34m\u001b[1m1.365 ms               \u001b[22m\u001b[39m\u001b[90m┊\u001b[39m GC \u001b[90m(\u001b[39mmedian\u001b[90m):    \u001b[39m0.00%\n",
       " Time  \u001b[90m(\u001b[39m\u001b[32m\u001b[1mmean\u001b[22m\u001b[39m ± \u001b[32mσ\u001b[39m\u001b[90m):   \u001b[39m\u001b[32m\u001b[1m1.440 ms\u001b[22m\u001b[39m ± \u001b[32m220.855 μs\u001b[39m  \u001b[90m┊\u001b[39m GC \u001b[90m(\u001b[39mmean ± σ\u001b[90m):  \u001b[39m0.00% ± 0.00%\n",
       "\n",
       "  \u001b[39m▆\u001b[39m \u001b[39m \u001b[39m \u001b[39m \u001b[39m \u001b[39m \u001b[39m \u001b[39m \u001b[39m \u001b[39m \u001b[39m \u001b[39m▃\u001b[39m█\u001b[34m \u001b[39m\u001b[39m \u001b[39m \u001b[39m \u001b[39m \u001b[32m \u001b[39m\u001b[39m \u001b[39m \u001b[39m \u001b[39m \u001b[39m \u001b[39m \u001b[39m \u001b[39m \u001b[39m \u001b[39m \u001b[39m \u001b[39m \u001b[39m \u001b[39m \u001b[39m \u001b[39m \u001b[39m \u001b[39m \u001b[39m \u001b[39m \u001b[39m \u001b[39m \u001b[39m \u001b[39m \u001b[39m \u001b[39m \u001b[39m \u001b[39m \u001b[39m \u001b[39m \u001b[39m \u001b[39m \u001b[39m \u001b[39m \u001b[39m \u001b[39m \u001b[39m \u001b[39m \u001b[39m \u001b[39m \u001b[39m \n",
       "  \u001b[39m█\u001b[39m▅\u001b[39m▂\u001b[39m▁\u001b[39m▂\u001b[39m▃\u001b[39m▂\u001b[39m▂\u001b[39m▁\u001b[39m▁\u001b[39m▁\u001b[39m▂\u001b[39m█\u001b[39m█\u001b[34m▇\u001b[39m\u001b[39m▄\u001b[39m▃\u001b[39m▃\u001b[39m▃\u001b[32m▃\u001b[39m\u001b[39m▂\u001b[39m▃\u001b[39m▂\u001b[39m▂\u001b[39m▃\u001b[39m▃\u001b[39m▃\u001b[39m▂\u001b[39m▂\u001b[39m▂\u001b[39m▂\u001b[39m▂\u001b[39m▂\u001b[39m▂\u001b[39m▂\u001b[39m▂\u001b[39m▂\u001b[39m▂\u001b[39m▂\u001b[39m▂\u001b[39m▂\u001b[39m▂\u001b[39m▂\u001b[39m▂\u001b[39m▂\u001b[39m▂\u001b[39m▂\u001b[39m▂\u001b[39m▂\u001b[39m▂\u001b[39m▂\u001b[39m▁\u001b[39m▂\u001b[39m▂\u001b[39m▁\u001b[39m▁\u001b[39m▁\u001b[39m▁\u001b[39m▁\u001b[39m \u001b[39m▂\n",
       "  1.16 ms\u001b[90m         Histogram: frequency by time\u001b[39m        2.01 ms \u001b[0m\u001b[1m<\u001b[22m\n",
       "\n",
       " Memory estimate\u001b[90m: \u001b[39m\u001b[33m78.20 KiB\u001b[39m, allocs estimate\u001b[90m: \u001b[39m\u001b[33m2\u001b[39m."
      ]
     },
     "execution_count": 180,
     "metadata": {},
     "output_type": "execute_result"
    }
   ],
   "source": [
    "@benchmark MSE_2(X_te_vecs, query)"
   ]
  },
  {
   "cell_type": "code",
   "execution_count": null,
   "id": "d88937a8",
   "metadata": {
    "ExecuteTime": {
     "start_time": "2022-07-05T21:49:00.487Z"
    }
   },
   "outputs": [],
   "source": [
    "@benchmark MSE(X_tr_vecs, query)"
   ]
  },
  {
   "cell_type": "code",
   "execution_count": null,
   "id": "02177cde",
   "metadata": {
    "ExecuteTime": {
     "start_time": "2022-07-05T21:49:08.794Z"
    }
   },
   "outputs": [],
   "source": [
    "@benchmark MSE_2(X_tr_vecs, query)"
   ]
  },
  {
   "cell_type": "code",
   "execution_count": null,
   "id": "d2ab4dd4",
   "metadata": {},
   "outputs": [],
   "source": []
  },
  {
   "cell_type": "code",
   "execution_count": null,
   "id": "7bb74650",
   "metadata": {},
   "outputs": [],
   "source": []
  },
  {
   "cell_type": "code",
   "execution_count": 9,
   "id": "35aa29a0",
   "metadata": {
    "ExecuteTime": {
     "end_time": "2022-07-05T23:02:03.058000+02:00",
     "start_time": "2022-07-05T21:01:59.400Z"
    }
   },
   "outputs": [
    {
     "data": {
      "text/plain": [
       "top_k (generic function with 1 method)"
      ]
     },
     "execution_count": 9,
     "metadata": {},
     "output_type": "execute_result"
    }
   ],
   "source": [
    "function top_k(X, query)\n",
    "    distances = MSE(X, query)\n",
    "    top_k_indices = sortperm(mse_dists)\n",
    "    return top_k_indices\n",
    "end"
   ]
  },
  {
   "cell_type": "code",
   "execution_count": 11,
   "id": "6322aae7",
   "metadata": {
    "ExecuteTime": {
     "end_time": "2022-07-05T23:02:17.559000+02:00",
     "start_time": "2022-07-05T21:02:00.004Z"
    }
   },
   "outputs": [
    {
     "data": {
      "text/plain": [
       "BenchmarkTools.Trial: 598 samples with 1 evaluation.\n",
       " Range \u001b[90m(\u001b[39m\u001b[36m\u001b[1mmin\u001b[22m\u001b[39m … \u001b[35mmax\u001b[39m\u001b[90m):  \u001b[39m\u001b[36m\u001b[1m2.864 ms\u001b[22m\u001b[39m … \u001b[35m60.283 ms\u001b[39m  \u001b[90m┊\u001b[39m GC \u001b[90m(\u001b[39mmin … max\u001b[90m): \u001b[39m 0.00% … 84.85%\n",
       " Time  \u001b[90m(\u001b[39m\u001b[34m\u001b[1mmedian\u001b[22m\u001b[39m\u001b[90m):     \u001b[39m\u001b[34m\u001b[1m7.485 ms              \u001b[22m\u001b[39m\u001b[90m┊\u001b[39m GC \u001b[90m(\u001b[39mmedian\u001b[90m):    \u001b[39m 0.00%\n",
       " Time  \u001b[90m(\u001b[39m\u001b[32m\u001b[1mmean\u001b[22m\u001b[39m ± \u001b[32mσ\u001b[39m\u001b[90m):   \u001b[39m\u001b[32m\u001b[1m8.387 ms\u001b[22m\u001b[39m ± \u001b[32m 6.359 ms\u001b[39m  \u001b[90m┊\u001b[39m GC \u001b[90m(\u001b[39mmean ± σ\u001b[90m):  \u001b[39m13.78% ± 15.13%\n",
       "\n",
       "  \u001b[39m \u001b[39m \u001b[39m \u001b[39m \u001b[39m \u001b[39m \u001b[39m█\u001b[34m▁\u001b[39m\u001b[32m \u001b[39m\u001b[39m \u001b[39m \u001b[39m \u001b[39m \u001b[39m \u001b[39m \u001b[39m \u001b[39m \u001b[39m \u001b[39m \u001b[39m \u001b[39m \u001b[39m \u001b[39m \u001b[39m \u001b[39m \u001b[39m \u001b[39m \u001b[39m \u001b[39m \u001b[39m \u001b[39m \u001b[39m \u001b[39m \u001b[39m \u001b[39m \u001b[39m \u001b[39m \u001b[39m \u001b[39m \u001b[39m \u001b[39m \u001b[39m \u001b[39m \u001b[39m \u001b[39m \u001b[39m \u001b[39m \u001b[39m \u001b[39m \u001b[39m \u001b[39m \u001b[39m \u001b[39m \u001b[39m \u001b[39m \u001b[39m \u001b[39m \u001b[39m \u001b[39m \u001b[39m \n",
       "  \u001b[39m▄\u001b[39m▄\u001b[39m▃\u001b[39m▃\u001b[39m▃\u001b[39m█\u001b[39m█\u001b[34m█\u001b[39m\u001b[32m▇\u001b[39m\u001b[39m▃\u001b[39m▃\u001b[39m▂\u001b[39m▁\u001b[39m▂\u001b[39m▁\u001b[39m▁\u001b[39m▁\u001b[39m▁\u001b[39m▁\u001b[39m▁\u001b[39m▁\u001b[39m▁\u001b[39m▁\u001b[39m▁\u001b[39m▁\u001b[39m▁\u001b[39m▁\u001b[39m▁\u001b[39m▁\u001b[39m▁\u001b[39m▁\u001b[39m▁\u001b[39m▁\u001b[39m▁\u001b[39m▁\u001b[39m▁\u001b[39m▁\u001b[39m▁\u001b[39m▁\u001b[39m▁\u001b[39m▁\u001b[39m▂\u001b[39m▂\u001b[39m▁\u001b[39m▂\u001b[39m▂\u001b[39m▂\u001b[39m▁\u001b[39m▂\u001b[39m▁\u001b[39m▂\u001b[39m▂\u001b[39m▁\u001b[39m▂\u001b[39m▂\u001b[39m▁\u001b[39m▁\u001b[39m▂\u001b[39m \u001b[39m▂\n",
       "  2.86 ms\u001b[90m        Histogram: frequency by time\u001b[39m        43.5 ms \u001b[0m\u001b[1m<\u001b[22m\n",
       "\n",
       " Memory estimate\u001b[90m: \u001b[39m\u001b[33m9.88 MiB\u001b[39m, allocs estimate\u001b[90m: \u001b[39m\u001b[33m9\u001b[39m."
      ]
     },
     "execution_count": 11,
     "metadata": {},
     "output_type": "execute_result"
    }
   ],
   "source": [
    "@benchmark top_k(X_te_vecs, query)"
   ]
  },
  {
   "cell_type": "code",
   "execution_count": 12,
   "id": "f0e7993e",
   "metadata": {
    "ExecuteTime": {
     "end_time": "2022-07-05T23:02:17.560000+02:00",
     "start_time": "2022-07-05T21:02:01.169Z"
    }
   },
   "outputs": [
    {
     "data": {
      "text/plain": [
       "(128, 10000)"
      ]
     },
     "execution_count": 12,
     "metadata": {},
     "output_type": "execute_result"
    }
   ],
   "source": [
    "size(X_te_vecs)"
   ]
  },
  {
   "cell_type": "code",
   "execution_count": 13,
   "id": "82cacde0",
   "metadata": {
    "ExecuteTime": {
     "end_time": "2022-07-05T23:02:33.257000+02:00",
     "start_time": "2022-07-05T21:02:01.440Z"
    }
   },
   "outputs": [
    {
     "data": {
      "text/plain": [
       "BenchmarkTools.Trial: 6 samples with 1 evaluation.\n",
       " Range \u001b[90m(\u001b[39m\u001b[36m\u001b[1mmin\u001b[22m\u001b[39m … \u001b[35mmax\u001b[39m\u001b[90m):  \u001b[39m\u001b[36m\u001b[1m727.858 ms\u001b[22m\u001b[39m … \u001b[35m991.942 ms\u001b[39m  \u001b[90m┊\u001b[39m GC \u001b[90m(\u001b[39mmin … max\u001b[90m): \u001b[39m 0.23% … 14.20%\n",
       " Time  \u001b[90m(\u001b[39m\u001b[34m\u001b[1mmedian\u001b[22m\u001b[39m\u001b[90m):     \u001b[39m\u001b[34m\u001b[1m825.413 ms               \u001b[22m\u001b[39m\u001b[90m┊\u001b[39m GC \u001b[90m(\u001b[39mmedian\u001b[90m):    \u001b[39m 9.00%\n",
       " Time  \u001b[90m(\u001b[39m\u001b[32m\u001b[1mmean\u001b[22m\u001b[39m ± \u001b[32mσ\u001b[39m\u001b[90m):   \u001b[39m\u001b[32m\u001b[1m841.582 ms\u001b[22m\u001b[39m ± \u001b[32m107.257 ms\u001b[39m  \u001b[90m┊\u001b[39m GC \u001b[90m(\u001b[39mmean ± σ\u001b[90m):  \u001b[39m10.12% ±  5.80%\n",
       "\n",
       "  \u001b[39m█\u001b[39m \u001b[39m \u001b[39m█\u001b[39m \u001b[39m \u001b[39m \u001b[39m \u001b[39m \u001b[39m \u001b[39m \u001b[39m \u001b[39m \u001b[39m \u001b[34m█\u001b[39m\u001b[39m \u001b[39m \u001b[39m \u001b[39m \u001b[39m \u001b[39m \u001b[39m \u001b[39m \u001b[39m \u001b[39m \u001b[39m \u001b[32m \u001b[39m\u001b[39m \u001b[39m \u001b[39m \u001b[39m█\u001b[39m \u001b[39m \u001b[39m \u001b[39m \u001b[39m \u001b[39m \u001b[39m \u001b[39m \u001b[39m \u001b[39m \u001b[39m \u001b[39m \u001b[39m \u001b[39m \u001b[39m \u001b[39m \u001b[39m \u001b[39m█\u001b[39m \u001b[39m \u001b[39m \u001b[39m \u001b[39m \u001b[39m \u001b[39m \u001b[39m \u001b[39m \u001b[39m \u001b[39m \u001b[39m█\u001b[39m \u001b[39m \n",
       "  \u001b[39m█\u001b[39m▁\u001b[39m▁\u001b[39m█\u001b[39m▁\u001b[39m▁\u001b[39m▁\u001b[39m▁\u001b[39m▁\u001b[39m▁\u001b[39m▁\u001b[39m▁\u001b[39m▁\u001b[39m▁\u001b[34m█\u001b[39m\u001b[39m▁\u001b[39m▁\u001b[39m▁\u001b[39m▁\u001b[39m▁\u001b[39m▁\u001b[39m▁\u001b[39m▁\u001b[39m▁\u001b[39m▁\u001b[39m▁\u001b[32m▁\u001b[39m\u001b[39m▁\u001b[39m▁\u001b[39m▁\u001b[39m█\u001b[39m▁\u001b[39m▁\u001b[39m▁\u001b[39m▁\u001b[39m▁\u001b[39m▁\u001b[39m▁\u001b[39m▁\u001b[39m▁\u001b[39m▁\u001b[39m▁\u001b[39m▁\u001b[39m▁\u001b[39m▁\u001b[39m▁\u001b[39m▁\u001b[39m▁\u001b[39m█\u001b[39m▁\u001b[39m▁\u001b[39m▁\u001b[39m▁\u001b[39m▁\u001b[39m▁\u001b[39m▁\u001b[39m▁\u001b[39m▁\u001b[39m▁\u001b[39m▁\u001b[39m█\u001b[39m \u001b[39m▁\n",
       "  728 ms\u001b[90m           Histogram: frequency by time\u001b[39m          992 ms \u001b[0m\u001b[1m<\u001b[22m\n",
       "\n",
       " Memory estimate\u001b[90m: \u001b[39m\u001b[33m980.45 MiB\u001b[39m, allocs estimate\u001b[90m: \u001b[39m\u001b[33m9\u001b[39m."
      ]
     },
     "execution_count": 13,
     "metadata": {},
     "output_type": "execute_result"
    }
   ],
   "source": [
    "@benchmark top_k(X_tr_vecs, query)"
   ]
  },
  {
   "cell_type": "code",
   "execution_count": 14,
   "id": "dc886ca6",
   "metadata": {
    "ExecuteTime": {
     "end_time": "2022-07-05T23:02:33.386000+02:00",
     "start_time": "2022-07-05T21:02:01.696Z"
    }
   },
   "outputs": [
    {
     "data": {
      "text/plain": [
       "top_k_2 (generic function with 1 method)"
      ]
     },
     "execution_count": 14,
     "metadata": {},
     "output_type": "execute_result"
    }
   ],
   "source": [
    "function top_k_2(X, query, k )\n",
    "    distances = MSE(X, query)\n",
    "    top_k_indices = partialsortperm(mse_dists, 1:k)\n",
    "    return top_k_indices\n",
    "end"
   ]
  },
  {
   "cell_type": "code",
   "execution_count": 15,
   "id": "34ad187b",
   "metadata": {
    "ExecuteTime": {
     "end_time": "2022-07-05T23:02:50.048000+02:00",
     "start_time": "2022-07-05T21:02:01.996Z"
    }
   },
   "outputs": [
    {
     "data": {
      "text/plain": [
       "BenchmarkTools.Trial: 7 samples with 1 evaluation.\n",
       " Range \u001b[90m(\u001b[39m\u001b[36m\u001b[1mmin\u001b[22m\u001b[39m … \u001b[35mmax\u001b[39m\u001b[90m):  \u001b[39m\u001b[36m\u001b[1m741.655 ms\u001b[22m\u001b[39m … \u001b[35m879.469 ms\u001b[39m  \u001b[90m┊\u001b[39m GC \u001b[90m(\u001b[39mmin … max\u001b[90m): \u001b[39m0.20% … 17.83%\n",
       " Time  \u001b[90m(\u001b[39m\u001b[34m\u001b[1mmedian\u001b[22m\u001b[39m\u001b[90m):     \u001b[39m\u001b[34m\u001b[1m817.105 ms               \u001b[22m\u001b[39m\u001b[90m┊\u001b[39m GC \u001b[90m(\u001b[39mmedian\u001b[90m):    \u001b[39m8.89%\n",
       " Time  \u001b[90m(\u001b[39m\u001b[32m\u001b[1mmean\u001b[22m\u001b[39m ± \u001b[32mσ\u001b[39m\u001b[90m):   \u001b[39m\u001b[32m\u001b[1m805.183 ms\u001b[22m\u001b[39m ± \u001b[32m 48.260 ms\u001b[39m  \u001b[90m┊\u001b[39m GC \u001b[90m(\u001b[39mmean ± σ\u001b[90m):  \u001b[39m9.57% ±  5.45%\n",
       "\n",
       "  \u001b[39m█\u001b[39m \u001b[39m \u001b[39m \u001b[39m \u001b[39m \u001b[39m█\u001b[39m \u001b[39m \u001b[39m \u001b[39m \u001b[39m \u001b[39m \u001b[39m \u001b[39m \u001b[39m \u001b[39m \u001b[39m \u001b[34m█\u001b[39m\u001b[39m \u001b[39m \u001b[39m \u001b[39m \u001b[39m \u001b[39m \u001b[39m \u001b[39m \u001b[39m \u001b[32m \u001b[39m\u001b[39m \u001b[39m \u001b[39m \u001b[39m \u001b[39m█\u001b[39m \u001b[39m \u001b[39m█\u001b[39m \u001b[39m \u001b[39m \u001b[39m \u001b[39m \u001b[39m█\u001b[39m \u001b[39m \u001b[39m \u001b[39m \u001b[39m \u001b[39m \u001b[39m \u001b[39m \u001b[39m \u001b[39m \u001b[39m \u001b[39m \u001b[39m \u001b[39m \u001b[39m \u001b[39m \u001b[39m \u001b[39m█\u001b[39m \u001b[39m \n",
       "  \u001b[39m█\u001b[39m▁\u001b[39m▁\u001b[39m▁\u001b[39m▁\u001b[39m▁\u001b[39m█\u001b[39m▁\u001b[39m▁\u001b[39m▁\u001b[39m▁\u001b[39m▁\u001b[39m▁\u001b[39m▁\u001b[39m▁\u001b[39m▁\u001b[39m▁\u001b[39m▁\u001b[34m█\u001b[39m\u001b[39m▁\u001b[39m▁\u001b[39m▁\u001b[39m▁\u001b[39m▁\u001b[39m▁\u001b[39m▁\u001b[39m▁\u001b[39m▁\u001b[32m▁\u001b[39m\u001b[39m▁\u001b[39m▁\u001b[39m▁\u001b[39m▁\u001b[39m█\u001b[39m▁\u001b[39m▁\u001b[39m█\u001b[39m▁\u001b[39m▁\u001b[39m▁\u001b[39m▁\u001b[39m▁\u001b[39m█\u001b[39m▁\u001b[39m▁\u001b[39m▁\u001b[39m▁\u001b[39m▁\u001b[39m▁\u001b[39m▁\u001b[39m▁\u001b[39m▁\u001b[39m▁\u001b[39m▁\u001b[39m▁\u001b[39m▁\u001b[39m▁\u001b[39m▁\u001b[39m▁\u001b[39m▁\u001b[39m█\u001b[39m \u001b[39m▁\n",
       "  742 ms\u001b[90m           Histogram: frequency by time\u001b[39m          879 ms \u001b[0m\u001b[1m<\u001b[22m\n",
       "\n",
       " Memory estimate\u001b[90m: \u001b[39m\u001b[33m980.38 MiB\u001b[39m, allocs estimate\u001b[90m: \u001b[39m\u001b[33m6\u001b[39m."
      ]
     },
     "execution_count": 15,
     "metadata": {},
     "output_type": "execute_result"
    }
   ],
   "source": [
    "@benchmark MSE(X_tr_vecs, query)"
   ]
  },
  {
   "cell_type": "code",
   "execution_count": 16,
   "id": "9db56323",
   "metadata": {
    "ExecuteTime": {
     "end_time": "2022-07-05T23:02:50.172000+02:00",
     "start_time": "2022-07-05T21:02:02.896Z"
    }
   },
   "outputs": [
    {
     "data": {
      "text/plain": [
       "MSE_2 (generic function with 1 method)"
      ]
     },
     "execution_count": 16,
     "metadata": {},
     "output_type": "execute_result"
    }
   ],
   "source": [
    "function MSE(X, query)\n",
    "    d = (query .- X) .* (query .- X)\n",
    "    res = d /mean(d);\n",
    "    return sum(res, dims=1)\n",
    "end\n",
    "\n",
    "function MSE_2(X, query)\n",
    "    result = zeros(size(X, 2))\n",
    "    n_features, n_examples = size(X)\n",
    "    for m in 1:n_examples\n",
    "        res = zero(eltype(X))\n",
    "        for j in 1:n_features\n",
    "            res += (query[j] .- X[j,m]) * (query[j] - X[j,m])\n",
    "        end\n",
    "        result[m] = res/n_features\n",
    "    end\n",
    "    return result\n",
    "end"
   ]
  },
  {
   "cell_type": "code",
   "execution_count": 17,
   "id": "aa2b75f5",
   "metadata": {
    "ExecuteTime": {
     "end_time": "2022-07-05T23:02:51.446000+02:00",
     "start_time": "2022-07-05T21:02:03.147Z"
    }
   },
   "outputs": [
    {
     "data": {
      "text/plain": [
       "1×10000 Matrix{Float32}:\n",
       " 0.0  63.749  179.758  52.4943  …  161.907  64.9257  127.166  96.1275"
      ]
     },
     "execution_count": 17,
     "metadata": {},
     "output_type": "execute_result"
    }
   ],
   "source": [
    " MSE(X_te_vecs, query)"
   ]
  },
  {
   "cell_type": "code",
   "execution_count": 30,
   "id": "492dbbbd",
   "metadata": {
    "ExecuteTime": {
     "end_time": "2022-07-05T23:13:38.470000+02:00",
     "start_time": "2022-07-05T21:13:38.465Z"
    },
    "scrolled": true
   },
   "outputs": [
    {
     "data": {
      "text/plain": [
       "100-element Vector{Float32}:\n",
       " 232.87122\n",
       " 234.71472\n",
       " 243.98976\n",
       " 255.46037\n",
       " 256.31427\n",
       " 258.86288\n",
       " 261.24127\n",
       " 264.28015\n",
       " 267.2845\n",
       " 268.06903\n",
       " 270.82098\n",
       " 271.17706\n",
       " 271.25818\n",
       "   ⋮\n",
       " 288.1302\n",
       " 288.151\n",
       " 288.23428\n",
       " 288.4025\n",
       " 288.47357\n",
       " 288.49435\n",
       " 288.62952\n",
       " 288.63992\n",
       " 288.68842\n",
       " 288.75076\n",
       " 288.81656\n",
       " 288.90482"
      ]
     },
     "execution_count": 30,
     "metadata": {},
     "output_type": "execute_result"
    }
   ],
   "source": [
    "distances[:,1] "
   ]
  },
  {
   "cell_type": "code",
   "execution_count": 36,
   "id": "4975f01b",
   "metadata": {
    "ExecuteTime": {
     "end_time": "2022-07-05T23:14:06.168000+02:00",
     "start_time": "2022-07-05T21:14:06.159Z"
    },
    "scrolled": true
   },
   "outputs": [
    {
     "data": {
      "text/plain": [
       "10000-element Vector{Float64}:\n",
       "    0.0\n",
       " 1157.09375\n",
       " 3262.75\n",
       "  952.8125\n",
       " 2840.6484375\n",
       " 1564.7421875\n",
       "  949.953125\n",
       " 2060.0\n",
       " 2916.0234375\n",
       " 2930.375\n",
       " 1766.53125\n",
       " 3001.5390625\n",
       " 1457.4453125\n",
       "    ⋮\n",
       " 1989.6640625\n",
       " 2857.4453125\n",
       " 1517.515625\n",
       " 1574.015625\n",
       " 1944.9453125\n",
       " 1570.890625\n",
       " 1905.3125\n",
       " 3282.9296875\n",
       " 2938.734375\n",
       " 1178.453125\n",
       " 2308.15625\n",
       " 1744.7890625"
      ]
     },
     "execution_count": 36,
     "metadata": {},
     "output_type": "execute_result"
    }
   ],
   "source": [
    "MSE_2(X_te_vecs, query)"
   ]
  },
  {
   "cell_type": "code",
   "execution_count": 20,
   "id": "ec53229e",
   "metadata": {
    "ExecuteTime": {
     "end_time": "2022-07-05T23:02:52.760000+02:00",
     "start_time": "2022-07-05T21:02:04.255Z"
    }
   },
   "outputs": [
    {
     "data": {
      "text/plain": [
       "10000-element Vector{Float64}:\n",
       "    0.0\n",
       " 1157.09375\n",
       " 3262.75\n",
       "  952.8125\n",
       " 2840.6484375\n",
       " 1564.7421875\n",
       "  949.953125\n",
       " 2060.0\n",
       " 2916.0234375\n",
       " 2930.375\n",
       " 1766.53125\n",
       " 3001.5390625\n",
       " 1457.4453125\n",
       "    ⋮\n",
       " 1989.6640625\n",
       " 2857.4453125\n",
       " 1517.515625\n",
       " 1574.015625\n",
       " 1944.9453125\n",
       " 1570.890625\n",
       " 1905.3125\n",
       " 3282.9296875\n",
       " 2938.734375\n",
       " 1178.453125\n",
       " 2308.15625\n",
       " 1744.7890625"
      ]
     },
     "execution_count": 20,
     "metadata": {},
     "output_type": "execute_result"
    }
   ],
   "source": [
    "MSE_2(X_te_vecs, query)"
   ]
  },
  {
   "cell_type": "code",
   "execution_count": null,
   "id": "1b4cae67",
   "metadata": {},
   "outputs": [],
   "source": []
  },
  {
   "cell_type": "code",
   "execution_count": 21,
   "id": "85d048fb",
   "metadata": {
    "ExecuteTime": {
     "end_time": "2022-07-05T23:02:52.775000+02:00",
     "start_time": "2022-07-05T21:02:05.060Z"
    }
   },
   "outputs": [
    {
     "data": {
      "text/plain": [
       "1×10000 Matrix{Float32}:\n",
       " 0.0  63.749  179.758  52.4943  …  161.907  64.9257  127.166  96.1275"
      ]
     },
     "execution_count": 21,
     "metadata": {},
     "output_type": "execute_result"
    }
   ],
   "source": [
    " MSE(X_te_vecs, query)\n",
    "\n"
   ]
  },
  {
   "cell_type": "code",
   "execution_count": null,
   "id": "26ebafc2",
   "metadata": {},
   "outputs": [],
   "source": []
  },
  {
   "cell_type": "code",
   "execution_count": null,
   "id": "3a708694",
   "metadata": {},
   "outputs": [],
   "source": []
  },
  {
   "cell_type": "code",
   "execution_count": null,
   "id": "de42112b",
   "metadata": {},
   "outputs": [],
   "source": []
  }
 ],
 "metadata": {
  "kernelspec": {
   "display_name": "Julia 1.7.0-beta2",
   "language": "julia",
   "name": "julia-1.7"
  },
  "language_info": {
   "file_extension": ".jl",
   "mimetype": "application/julia",
   "name": "julia",
   "version": "1.7.0"
  },
  "toc": {
   "base_numbering": 1,
   "nav_menu": {},
   "number_sections": true,
   "sideBar": true,
   "skip_h1_title": false,
   "title_cell": "Table of Contents",
   "title_sidebar": "Contents",
   "toc_cell": false,
   "toc_position": {},
   "toc_section_display": true,
   "toc_window_display": false
  }
 },
 "nbformat": 4,
 "nbformat_minor": 5
}
