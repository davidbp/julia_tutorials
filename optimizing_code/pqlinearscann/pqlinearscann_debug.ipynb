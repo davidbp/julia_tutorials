{
 "cells": [
  {
   "cell_type": "markdown",
   "id": "7c2e3113",
   "metadata": {},
   "source": [
    "# Part 1: Ensure PQLinearscann with a shared quantizer works\n",
    "\n",
    "# Read SIFT 1 million "
   ]
  },
  {
   "cell_type": "code",
   "execution_count": 1,
   "id": "88c8c554",
   "metadata": {
    "ExecuteTime": {
     "end_time": "2022-08-25T22:20:57.787000+02:00",
     "start_time": "2022-08-25T20:20:50.054Z"
    }
   },
   "outputs": [],
   "source": [
    "using HDF5\n",
    "using BenchmarkTools\n",
    "using Distances\n",
    "using LoopVectorization\n",
    "using SIMD\n",
    "using Clustering\n",
    "using ProgressMeter\n",
    "using StaticArrays\n",
    "using DataFrames\n",
    "using Plots"
   ]
  },
  {
   "cell_type": "code",
   "execution_count": 2,
   "id": "5c8425bb",
   "metadata": {
    "ExecuteTime": {
     "end_time": "2022-08-25T22:20:59.059000+02:00",
     "start_time": "2022-08-25T20:20:50.603Z"
    }
   },
   "outputs": [
    {
     "data": {
      "text/plain": [
       "\"Apple M1 Pro\""
      ]
     },
     "execution_count": 2,
     "metadata": {},
     "output_type": "execute_result"
    }
   ],
   "source": [
    "profile_flag = false\n",
    "Sys.cpu_info()[1].model"
   ]
  },
  {
   "cell_type": "code",
   "execution_count": 3,
   "id": "cece13ba",
   "metadata": {
    "ExecuteTime": {
     "end_time": "2022-08-25T22:20:59.063000+02:00",
     "start_time": "2022-08-25T20:20:51.188Z"
    }
   },
   "outputs": [
    {
     "data": {
      "text/plain": [
       "\"/Users/dbuchaca/Datasets/SIFT1M/sift-128-euclidean.hdf5\""
      ]
     },
     "execution_count": 3,
     "metadata": {},
     "output_type": "execute_result"
    }
   ],
   "source": [
    "path = joinpath(homedir(), \"Datasets\", \"SIFT1M\",  \"sift-128-euclidean.hdf5\")"
   ]
  },
  {
   "cell_type": "code",
   "execution_count": 4,
   "id": "c1e88b49",
   "metadata": {
    "ExecuteTime": {
     "end_time": "2022-08-25T22:21:03.628000+02:00",
     "start_time": "2022-08-25T20:20:53.263Z"
    },
    "scrolled": true
   },
   "outputs": [
    {
     "name": "stdout",
     "output_type": "stream",
     "text": [
      "size(X_tr_vecs) = (128, 1000000)\n",
      "size(X_te_vecs) = (128, 10000)\n",
      "size(true_neighbors) = (100, 10000)\n",
      "size(true_distances) = (100, 10000)\n"
     ]
    },
    {
     "data": {
      "text/plain": [
       "(100, 10000)"
      ]
     },
     "execution_count": 4,
     "metadata": {},
     "output_type": "execute_result"
    }
   ],
   "source": [
    "f = h5open(path, \"r\")\n",
    "\n",
    "X_tr_vecs = read(f[\"train\"])\n",
    "X_te_vecs = read(f[\"test\"]);\n",
    "true_neighbors = read(f[\"neighbors\"])\n",
    "true_distances = read(f[\"distances\"])\n",
    "\n",
    "true_neighbors .= true_neighbors .+ 1;\n",
    "\n",
    "@show size(X_tr_vecs)\n",
    "@show size(X_te_vecs)\n",
    "@show size(true_neighbors)\n",
    "@show size(true_distances)"
   ]
  },
  {
   "cell_type": "markdown",
   "id": "0c076291",
   "metadata": {},
   "source": [
    "## Clustering.jl\n",
    "\n",
    "Create the pqcodes for the training points"
   ]
  },
  {
   "cell_type": "code",
   "execution_count": 5,
   "id": "dd3d08ab",
   "metadata": {
    "ExecuteTime": {
     "end_time": "2022-08-25T22:21:03.876000+02:00",
     "start_time": "2022-08-25T20:20:54.505Z"
    }
   },
   "outputs": [
    {
     "name": "stderr",
     "output_type": "stream",
     "text": [
      "\u001b[32mProgress: 100%|█████████████████████████████████████████| Time: 0:02:38\u001b[39m\n"
     ]
    }
   ],
   "source": [
    "n_features = size(X_tr_vecs,1)\n",
    "n_clusters = 32\n",
    "R_per_feature = []\n",
    "\n",
    "@showprogress for j in  1:n_features\n",
    "    R = kmeans(X_tr_vecs[[j],:], n_clusters; maxiter=200)\n",
    "    push!(R_per_feature, R)\n",
    "end"
   ]
  },
  {
   "cell_type": "code",
   "execution_count": 61,
   "id": "369efb23",
   "metadata": {
    "ExecuteTime": {
     "end_time": "2022-08-25T22:23:55.337000+02:00",
     "start_time": "2022-08-25T20:21:11.967Z"
    },
    "scrolled": false
   },
   "outputs": [
    {
     "name": "stdout",
     "output_type": "stream",
     "text": [
      "Float32[0.49666122, 119.53114, 20.938398, 7.958296, 86.49272, 40.98656, 105.99004, 16.449253, 29.477432, 56.444336, 37.459274, 66.954384, 4.370874, 25.465425, 151.02773, 129.87004, 44.963314, 94.461555, 134.80888, 113.2137, 140.51195, 124.93925, 12.972837, 50.41857, 81.94982, 76.971436, 90.48426, 33.473732, 10.484874, 61.95653, 99.44512, 71.96046]\n",
      "(32, 128)\n"
     ]
    }
   ],
   "source": [
    "P = hcat([r.centers[:] for r in R_per_feature]...);\n",
    "println(P[:,1])\n",
    "println(size(P))"
   ]
  },
  {
   "cell_type": "code",
   "execution_count": 62,
   "id": "09b3d2b6",
   "metadata": {
    "ExecuteTime": {
     "end_time": "2022-08-25T22:23:55.393000+02:00",
     "start_time": "2022-08-25T20:21:12.860Z"
    }
   },
   "outputs": [
    {
     "name": "stdout",
     "output_type": "stream",
     "text": [
      "Float32[0.49666122, 119.53114, 20.938398, 7.958296, 86.49272, 40.98656, 105.99004, 16.449253, 29.477432, 56.444336, 37.459274, 66.954384, 4.370874, 25.465425, 151.02773, 129.87004, 44.963314, 94.461555, 134.80888, 113.2137, 140.51195, 124.93925, 12.972837, 50.41857, 81.94982, 76.971436, 90.48426, 33.473732, 10.484874, 61.95653, 99.44512, 71.96046]\n",
      "(32, 128)\n"
     ]
    }
   ],
   "source": [
    "P = hcat([r.centers[:] for r in R_per_feature]...);\n",
    "println(P[:,1])\n",
    "println(size(P))"
   ]
  },
  {
   "cell_type": "code",
   "execution_count": 63,
   "id": "30f62137",
   "metadata": {
    "ExecuteTime": {
     "end_time": "2022-08-25T22:24:07.151000+02:00",
     "start_time": "2022-08-25T20:21:13.512Z"
    }
   },
   "outputs": [],
   "source": [
    "if profile_flag\n",
    "    @benchmark P = hcat([r.centers[:] for r in R_per_feature]...)\n",
    "end"
   ]
  },
  {
   "cell_type": "markdown",
   "id": "7c259328",
   "metadata": {},
   "source": [
    "Another way to construct the matrix would be"
   ]
  },
  {
   "cell_type": "code",
   "execution_count": 64,
   "id": "2d1b602a",
   "metadata": {
    "ExecuteTime": {
     "end_time": "2022-08-25T22:24:07.372000+02:00",
     "start_time": "2022-08-25T20:21:14.349Z"
    }
   },
   "outputs": [],
   "source": [
    "function build_prototype_matrix(R, n_clusters, n_features)\n",
    "    \n",
    "    prototypes = Array{Float32}(undef, n_clusters, n_features);\n",
    "    for j in 1:n_features\n",
    "        prototypes[:,j] .= vec(R_per_feature[j].centers)\n",
    "    end\n",
    "    return prototypes\n",
    "end\n",
    "\n",
    "if profile_flag\n",
    "    @benchmark P = build_prototype_matrix(R_per_feature, n_clusters, n_features)\n",
    "end"
   ]
  },
  {
   "cell_type": "code",
   "execution_count": 65,
   "id": "7eae2159",
   "metadata": {
    "ExecuteTime": {
     "end_time": "2022-08-25T22:24:14.829000+02:00",
     "start_time": "2022-08-25T20:21:15.659Z"
    }
   },
   "outputs": [
    {
     "data": {
      "text/plain": [
       "true"
      ]
     },
     "execution_count": 65,
     "metadata": {},
     "output_type": "execute_result"
    }
   ],
   "source": [
    "P2 = build_prototype_matrix(R_per_feature, n_clusters, n_features);\n",
    "isapprox(P, P2)"
   ]
  },
  {
   "cell_type": "markdown",
   "id": "254cc3af",
   "metadata": {},
   "source": [
    "We can generate the PQcodes for the data as follows:"
   ]
  },
  {
   "cell_type": "code",
   "execution_count": 66,
   "id": "0fc26f97",
   "metadata": {
    "ExecuteTime": {
     "end_time": "2022-08-25T22:24:18.056000+02:00",
     "start_time": "2022-08-25T20:21:17.062Z"
    }
   },
   "outputs": [
    {
     "data": {
      "text/plain": [
       "(128, 1000000)"
      ]
     },
     "execution_count": 66,
     "metadata": {},
     "output_type": "execute_result"
    }
   ],
   "source": [
    "PQcodes = hcat([Int32.(r.assignments[:]) for r in R_per_feature]...)';\n",
    "size(PQcodes)"
   ]
  },
  {
   "cell_type": "markdown",
   "id": "25820db5",
   "metadata": {},
   "source": [
    "Here each vector prototype is in fact a single scalar (because subvectors have a single coordinate)"
   ]
  },
  {
   "cell_type": "code",
   "execution_count": 67,
   "id": "68865753",
   "metadata": {
    "ExecuteTime": {
     "end_time": "2022-08-25T22:24:18.066000+02:00",
     "start_time": "2022-08-25T20:21:18.602Z"
    }
   },
   "outputs": [
    {
     "data": {
      "text/plain": [
       "(32, 128)"
      ]
     },
     "execution_count": 67,
     "metadata": {},
     "output_type": "execute_result"
    }
   ],
   "source": [
    "size(P)"
   ]
  },
  {
   "cell_type": "markdown",
   "id": "695f9699",
   "metadata": {},
   "source": [
    "We need a method to, given a vector and a collection of prototypes per feature, find which are the closest"
   ]
  },
  {
   "cell_type": "code",
   "execution_count": 68,
   "id": "3a9070eb",
   "metadata": {
    "ExecuteTime": {
     "end_time": "2022-08-25T22:24:18.768000+02:00",
     "start_time": "2022-08-25T20:21:21.230Z"
    }
   },
   "outputs": [],
   "source": [
    "\n",
    "@inline function seuclidean(x::T,y::T) where {T}\n",
    "    aux::T = (x - y)\n",
    "    return aux * aux\n",
    "end\n",
    "\n",
    "@inline function euclidean(x::T,y::T) where {T}\n",
    "    aux::T = (x - y)\n",
    "    return sqrt(aux * aux)\n",
    "end\n",
    "\n",
    "function find_closest_coordinate(dist, \n",
    "                                 value::T,\n",
    "                                 vector) where T\n",
    "    best_coordinate = 1\n",
    "    min_distance::T = typemax(T)\n",
    "    for (j,x) in enumerate(vector)\n",
    "        current_dist = dist(x, value)\n",
    "        if current_dist < min_distance\n",
    "            best_coordinate = j\n",
    "            min_distance = current_dist\n",
    "        end\n",
    "    end\n",
    "    return best_coordinate\n",
    "end\n",
    "\n",
    "query = X_te_vecs[:,1];\n",
    "closest_prototypes = Array{UInt8}(undef, n_features, 1);\n",
    "\n",
    "if profile_flag\n",
    "    @benchmark find_closest_coordinate(euclidean, Float32(48.), query)\n",
    "end"
   ]
  },
  {
   "cell_type": "code",
   "execution_count": 69,
   "id": "80e21b6a",
   "metadata": {
    "ExecuteTime": {
     "end_time": "2022-08-25T22:24:21.713000+02:00",
     "start_time": "2022-08-25T20:21:23.040Z"
    }
   },
   "outputs": [],
   "source": [
    "@assert 3 == find_closest_coordinate(euclidean, 2., [3.,5,2,1])\n",
    "\n",
    "@assert 4 == find_closest_coordinate(euclidean, 1., [3.,5,2,1])"
   ]
  },
  {
   "cell_type": "code",
   "execution_count": 70,
   "id": "7599adc7",
   "metadata": {
    "ExecuteTime": {
     "end_time": "2022-08-25T22:24:21.809000+02:00",
     "start_time": "2022-08-25T20:21:23.849Z"
    }
   },
   "outputs": [],
   "source": [
    "function encode(dist, vector, prototypes)\n",
    "    closest_prototypes = Array{Int8}(undef, n_features, 1);\n",
    "    @inbounds for (j,x) in enumerate(vector)\n",
    "        closest_prototypes[j] = find_closest_coordinate(dist, x, prototypes[:,j])\n",
    "    end\n",
    "    return closest_prototypes\n",
    "end\n",
    "\n",
    "if profile_flag\n",
    "    @benchmark encode(euclidean, query, P)\n",
    "end"
   ]
  },
  {
   "cell_type": "code",
   "execution_count": 71,
   "id": "582ef7c0",
   "metadata": {},
   "outputs": [],
   "source": [
    "n_features, n_examples_test = size(X_te_vecs)\n",
    "\n",
    "PQcodes_test = Array{Int16}(undef, n_features, n_examples_test);\n",
    "\n",
    "for j in 1:n_examples_test\n",
    "    PQcodes_test[:,j] = encode(euclidean, X_te_vecs[:,j] , P)  \n",
    "end"
   ]
  },
  {
   "cell_type": "code",
   "execution_count": 72,
   "id": "493cb742",
   "metadata": {
    "ExecuteTime": {
     "end_time": "2022-08-25T22:24:29.056000+02:00",
     "start_time": "2022-08-25T20:21:27.795Z"
    }
   },
   "outputs": [],
   "source": [
    "function encode_fast(dist, vector::Array{T}, prototypes::Array{T}) where T\n",
    "    \n",
    "    n_clusters, n_features = size(prototypes)\n",
    "    closest_prototypes = Array{Int8}(undef, n_features, 1);\n",
    "    \n",
    "    @inbounds for (j,x) in enumerate(vector)\n",
    "        best_coordinate = 1\n",
    "        min_distance::T = typemax(T)\n",
    "        for k in 1:n_clusters\n",
    "           current_dist = dist(prototypes[k,j], x)\n",
    "           if current_dist < min_distance\n",
    "               best_coordinate = k\n",
    "               min_distance = current_dist\n",
    "           end\n",
    "           #println(k, ' ', j, ' ', best_coordinate, ' ',min_distance )\n",
    "        end            \n",
    "        closest_prototypes[j] = best_coordinate\n",
    "    end\n",
    "    return closest_prototypes\n",
    "end\n",
    "\n",
    "@assert isapprox(encode(euclidean, query, P),\n",
    "                 encode_fast(euclidean, query, P))\n",
    "\n",
    "if profile_flag\n",
    "    @benchmark encode_fast(euclidean, query, P)\n",
    "end"
   ]
  },
  {
   "cell_type": "code",
   "execution_count": 73,
   "id": "aba9fbbf",
   "metadata": {
    "ExecuteTime": {
     "end_time": "2022-08-25T22:24:29.196000+02:00",
     "start_time": "2022-08-25T20:21:29.446Z"
    }
   },
   "outputs": [
    {
     "name": "stdout",
     "output_type": "stream",
     "text": [
      "1\n",
      "17\n",
      "23\n"
     ]
    }
   ],
   "source": [
    "println(find_closest_coordinate(euclidean, query[1], P[:,1]))\n",
    "println(find_closest_coordinate(euclidean, query[2], P[:,2]))\n",
    "println(find_closest_coordinate(euclidean, query[3], P[:,3]))"
   ]
  },
  {
   "cell_type": "code",
   "execution_count": 74,
   "id": "9c42b292",
   "metadata": {
    "ExecuteTime": {
     "end_time": "2022-08-25T22:24:33.029000+02:00",
     "start_time": "2022-08-25T20:21:32.733Z"
    }
   },
   "outputs": [],
   "source": [
    "function SEuclidean0(x, query)\n",
    "    @assert length(x) == length(query)\n",
    "    res = zero(eltype(x))\n",
    "    @inbounds   for j in eachindex(x)\n",
    "        aux = (query[j] - x[j])\n",
    "        res += aux * aux\n",
    "    end\n",
    "    return res\n",
    "end\n",
    "\n",
    "function Euclidean0(x, query)\n",
    "    @assert length(x) == length(query)\n",
    "    res = zero(eltype(x))\n",
    "    @inbounds   for j in eachindex(x)\n",
    "        aux = (query[j] - x[j])\n",
    "        res += aux * aux\n",
    "    end\n",
    "    return sqrt(res)\n",
    "end\n",
    "\n",
    "function compute_ADC(query, prototypes, dist)\n",
    "    n_clusters, n_features = size(prototypes)\n",
    "    \n",
    "    ADC_table = Array{Float32}(undef, n_clusters, n_features)\n",
    "    \n",
    "    for j in 1:n_features\n",
    "        for p in 1:n_clusters\n",
    "            ADC_table[p,j] = dist(query[j], prototypes[p,j] )\n",
    "        end\n",
    "    end\n",
    "    return  ADC_table\n",
    "end\n",
    "\n",
    "adc_table = compute_ADC(query, P, euclidean)\n",
    "\n",
    "if profile_flag\n",
    "    @benchmark compute_ADC(query, P, euclidean)\n",
    "end"
   ]
  },
  {
   "cell_type": "code",
   "execution_count": 75,
   "id": "845a1a68",
   "metadata": {
    "ExecuteTime": {
     "end_time": "2022-08-25T22:24:56.443000+02:00",
     "start_time": "2022-08-25T20:21:37.841Z"
    }
   },
   "outputs": [
    {
     "name": "stdout",
     "output_type": "stream",
     "text": [
      "5195.665"
     ]
    }
   ],
   "source": [
    "function adc_dist(x_code,  adc_table)\n",
    "    res = zero(eltype(adc_table))\n",
    "    @inbounds @fastmath for j in eachindex(x_code)\n",
    "        res+= adc_table[x_code[j], j]\n",
    "    end\n",
    "    return res\n",
    "end\n",
    "\n",
    "query_code = encode_fast(euclidean, query, P)\n",
    "x_code = PQcodes[:,1];\n",
    "adc_table = compute_ADC(query, P, euclidean);\n",
    "print(adc_dist(x_code,  adc_table))\n",
    "\n",
    "if profile_flag\n",
    "    @benchmark adc_dist(query_code, x_code,  adc_table)\n",
    "end"
   ]
  },
  {
   "cell_type": "code",
   "execution_count": 76,
   "id": "6d67eb3a",
   "metadata": {},
   "outputs": [],
   "source": [
    "function linear_scann(query, PQcodes, adc_table, P)\n",
    "    \n",
    "    query_code = encode_fast(sqeuclidean, query, P)\n",
    "    n_features, n_examples = size(PQcodes)\n",
    "    distances = Array{eltype(query)}(undef, n_examples)\n",
    "    \n",
    "    @inbounds @fastmath for j in 1:n_examples\n",
    "        distances[j] = adc_dist( view(PQcodes,:,j) ,  adc_table)    \n",
    "    end\n",
    "    return distances\n",
    "end\n",
    "\n",
    "if profile_flag\n",
    "    @benchmark distances = linear_scann($query, $PQcodes, $adc_table, $P)\n",
    "end"
   ]
  },
  {
   "cell_type": "markdown",
   "id": "4199401f",
   "metadata": {},
   "source": [
    "### Compute Recall PQLinearScann "
   ]
  },
  {
   "cell_type": "code",
   "execution_count": 77,
   "id": "184e4e00",
   "metadata": {},
   "outputs": [
    {
     "name": "stdout",
     "output_type": "stream",
     "text": [
      "recall(top_k_pq, query_true_neighbors, 100) = 0.68\n"
     ]
    }
   ],
   "source": [
    "function recall(predicted, relevant, eval_at)\n",
    "    \"\"\"\n",
    "    fraction of the relevant documents that are successfully retrieved\n",
    "    \"\"\"\n",
    "    if eval_at == 0\n",
    "        return 0.0\n",
    "    end\n",
    "    \n",
    "    predicted_at_k = predicted[1:eval_at]\n",
    "    n_predicted_and_relevant =  length(intersect( Set(predicted_at_k), Set(relevant))) \n",
    "    return n_predicted_and_relevant/ length(relevant)\n",
    "end\n",
    "\n",
    "query_id = 1\n",
    "query = X_te_vecs[:,query_id];\n",
    "query_true_neighbors = true_neighbors[:,query_id]\n",
    "top_k = 100\n",
    "\n",
    "query_code = encode_fast(euclidean, query, P)\n",
    "x_code = PQcodes[:,1];\n",
    "adc_table = compute_ADC(query, P, euclidean);\n",
    "pq_distances = linear_scann(query, PQcodes, adc_table, P);\n",
    "top_k_pq = sortperm(pq_distances)[1:top_k];\n",
    "\n",
    "@show recall(top_k_pq, query_true_neighbors, 100);"
   ]
  },
  {
   "cell_type": "markdown",
   "id": "ee8bf95f",
   "metadata": {},
   "source": [
    "### Decoding vectors from pqcode"
   ]
  },
  {
   "cell_type": "code",
   "execution_count": 78,
   "id": "3c589fd8",
   "metadata": {},
   "outputs": [],
   "source": [
    "PQcodes = hcat([Int32.(r.assignments[:]) for r in R_per_feature]...)';"
   ]
  },
  {
   "cell_type": "code",
   "execution_count": 79,
   "id": "d79127d1",
   "metadata": {},
   "outputs": [],
   "source": [
    "function get_top_k_from_distances(X, distances, top_k)\n",
    "    top_k_pq = sortperm(distances)[1:top_k];\n",
    "    X_top = X[:,top_k_pq]\n",
    "    return X_top\n",
    "end\n",
    "\n",
    "function decode(x_pqcode, P)\n",
    "    n_features = length(x_pqcode)\n",
    "    x_decoded = zeros(eltype(P), n_features)\n",
    "    \n",
    "    for j in eachindex(x_pqcode)\n",
    "        x_decoded[j] = P[x_pqcode[j], j]\n",
    "    end\n",
    "    return x_decoded\n",
    "end\n",
    "\n",
    "x = X_te_vecs[:,1]\n",
    "x_pqcode = vec(encode(Euclidean0, x, P));\n",
    "x_decoded = decode(x_pqcode, P);"
   ]
  },
  {
   "cell_type": "code",
   "execution_count": 80,
   "id": "03a21688",
   "metadata": {},
   "outputs": [
    {
     "data": {
      "text/html": [
       "<div class=\"data-frame\"><p>5 rows × 4 columns</p><table class=\"data-frame\"><thead><tr><th></th><th>x</th><th>x_closest</th><th>x_decoded</th><th>x_pqcode</th></tr><tr><th></th><th title=\"Float32\">Float32</th><th title=\"Float32\">Float32</th><th title=\"Float32\">Float32</th><th title=\"Int8\">Int8</th></tr></thead><tbody><tr><th>1</th><td>1.0</td><td>1.0</td><td>0.496661</td><td>1</td></tr><tr><th>2</th><td>3.0</td><td>3.0</td><td>2.45516</td><td>17</td></tr><tr><th>3</th><td>11.0</td><td>11.0</td><td>10.4715</td><td>23</td></tr><tr><th>4</th><td>110.0</td><td>110.0</td><td>111.155</td><td>29</td></tr><tr><th>5</th><td>62.0</td><td>62.0</td><td>59.9145</td><td>29</td></tr></tbody></table></div>"
      ],
      "text/latex": [
       "\\begin{tabular}{r|cccc}\n",
       "\t& x & x\\_closest & x\\_decoded & x\\_pqcode\\\\\n",
       "\t\\hline\n",
       "\t& Float32 & Float32 & Float32 & Int8\\\\\n",
       "\t\\hline\n",
       "\t1 & 1.0 & 1.0 & 0.496661 & 1 \\\\\n",
       "\t2 & 3.0 & 3.0 & 2.45516 & 17 \\\\\n",
       "\t3 & 11.0 & 11.0 & 10.4715 & 23 \\\\\n",
       "\t4 & 110.0 & 110.0 & 111.155 & 29 \\\\\n",
       "\t5 & 62.0 & 62.0 & 59.9145 & 29 \\\\\n",
       "\\end{tabular}\n"
      ],
      "text/plain": [
       "\u001b[1m5×4 DataFrame\u001b[0m\n",
       "\u001b[1m Row \u001b[0m│\u001b[1m x       \u001b[0m\u001b[1m x_closest \u001b[0m\u001b[1m x_decoded  \u001b[0m\u001b[1m x_pqcode \u001b[0m\n",
       "\u001b[1m     \u001b[0m│\u001b[90m Float32 \u001b[0m\u001b[90m Float32   \u001b[0m\u001b[90m Float32    \u001b[0m\u001b[90m Int8     \u001b[0m\n",
       "─────┼──────────────────────────────────────────\n",
       "   1 │     1.0        1.0    0.496661         1\n",
       "   2 │     3.0        3.0    2.45516         17\n",
       "   3 │    11.0       11.0   10.4715          23\n",
       "   4 │   110.0      110.0  111.155           29\n",
       "   5 │    62.0       62.0   59.9145          29"
      ]
     },
     "execution_count": 80,
     "metadata": {},
     "output_type": "execute_result"
    }
   ],
   "source": [
    "query = X_te_vecs[:,1]\n",
    "adc_table = compute_ADC(query, P, Euclidean0)\n",
    "pq_distances = linear_scann(query, PQcodes_test, adc_table, P);\n",
    "x_closest = vec(get_top_k_from_distances(X_te_vecs, pq_distances, 1));\n",
    "df_x = DataFrame(Dict(:x => x, \n",
    "                      :x_decoded => x_decoded,\n",
    "                      :x_pqcode => x_pqcode,\n",
    "                      :x_closest => x_closest\n",
    "                      ))\n",
    "first(df_x, 5)"
   ]
  },
  {
   "cell_type": "markdown",
   "id": "95bd0d20",
   "metadata": {},
   "source": [
    "##  PQLinearscann Sharing prototypes across features\n",
    "\n",
    "https://groups.google.com/g/julia-users/c/xBcQRebyi_o\n",
    "\n"
   ]
  },
  {
   "cell_type": "code",
   "execution_count": 81,
   "id": "9b14e473",
   "metadata": {
    "ExecuteTime": {
     "end_time": "2022-08-25T22:25:03.638000+02:00",
     "start_time": "2022-08-25T20:21:40.923Z"
    }
   },
   "outputs": [
    {
     "data": {
      "text/plain": [
       "KmeansResult{Matrix{Float32}, Float32, Int64}(Float32[0.49666122 119.53114 … 99.44512 71.96046], [1, 23, 1, 23, 1, 24, 1, 8, 4, 3  …  11, 29, 4, 28, 28, 10, 13, 9, 1, 20], Float32[0.24667236, 1.0550537, 0.24667236, 0.94641113, 0.25334996, 5.8496094, 0.24667236, 0.20184326, 0.001739502, 0.0037841797  …  2.3737793, 0.23510742, 1.085144, 0.22436523, 2.3295898, 6.53125, 1.8792953, 0.27294922, 0.24667236, 0.6191406], [238559, 14273, 54382, 59850, 9204, 18530, 11448, 51421, 33278, 25717  …  45135, 29185, 12496, 13862, 8481, 29715, 33914, 18980, 10460, 14947], [238559, 14273, 54382, 59850, 9204, 18530, 11448, 51421, 33278, 25717  …  45135, 29185, 12496, 13862, 8481, 29715, 33914, 18980, 10460, 14947], 1.3516648f6, 5, true)"
      ]
     },
     "execution_count": 81,
     "metadata": {},
     "output_type": "execute_result"
    }
   ],
   "source": [
    "n_clusters = 32\n",
    "#R_shared = kmeans(Matrix(vec(X_tr_vecs)'), n_clusters; maxiter=200)\n",
    "#R_shared = kmeans(X_tr_vecs[[1],:], n_clusters; maxiter=200)\n",
    "R_shared = R_per_feature[1]"
   ]
  },
  {
   "cell_type": "code",
   "execution_count": 82,
   "id": "2323ab73",
   "metadata": {
    "ExecuteTime": {
     "end_time": "2022-08-25T23:00:55.815000+02:00",
     "start_time": "2022-08-25T21:00:55.807Z"
    },
    "scrolled": true
   },
   "outputs": [
    {
     "data": {
      "text/html": [
       "<div class=\"data-frame\"><p>5 rows × 4 columns</p><table class=\"data-frame\"><thead><tr><th></th><th>x</th><th>x_decoded</th><th>x_pqcode</th><th>x_pqcode_shared</th></tr><tr><th></th><th title=\"Float32\">Float32</th><th title=\"Float32\">Float32</th><th title=\"Int8\">Int8</th><th title=\"Int8\">Int8</th></tr></thead><tbody><tr><th>1</th><td>0.0</td><td>0.496661</td><td>1</td><td>1</td></tr><tr><th>2</th><td>1.0</td><td>0.496661</td><td>1</td><td>1</td></tr><tr><th>3</th><td>5.0</td><td>4.37087</td><td>13</td><td>13</td></tr><tr><th>4</th><td>3.0</td><td>4.37087</td><td>13</td><td>13</td></tr><tr><th>5</th><td>44.0</td><td>44.9633</td><td>17</td><td>17</td></tr></tbody></table></div>"
      ],
      "text/latex": [
       "\\begin{tabular}{r|cccc}\n",
       "\t& x & x\\_decoded & x\\_pqcode & x\\_pqcode\\_shared\\\\\n",
       "\t\\hline\n",
       "\t& Float32 & Float32 & Int8 & Int8\\\\\n",
       "\t\\hline\n",
       "\t1 & 0.0 & 0.496661 & 1 & 1 \\\\\n",
       "\t2 & 1.0 & 0.496661 & 1 & 1 \\\\\n",
       "\t3 & 5.0 & 4.37087 & 13 & 13 \\\\\n",
       "\t4 & 3.0 & 4.37087 & 13 & 13 \\\\\n",
       "\t5 & 44.0 & 44.9633 & 17 & 17 \\\\\n",
       "\\end{tabular}\n"
      ],
      "text/plain": [
       "\u001b[1m5×4 DataFrame\u001b[0m\n",
       "\u001b[1m Row \u001b[0m│\u001b[1m x       \u001b[0m\u001b[1m x_decoded \u001b[0m\u001b[1m x_pqcode \u001b[0m\u001b[1m x_pqcode_shared \u001b[0m\n",
       "\u001b[1m     \u001b[0m│\u001b[90m Float32 \u001b[0m\u001b[90m Float32   \u001b[0m\u001b[90m Int8     \u001b[0m\u001b[90m Int8            \u001b[0m\n",
       "─────┼───────────────────────────────────────────────\n",
       "   1 │     0.0   0.496661         1                1\n",
       "   2 │     1.0   0.496661         1                1\n",
       "   3 │     5.0   4.37087         13               13\n",
       "   4 │     3.0   4.37087         13               13\n",
       "   5 │    44.0  44.9633          17               17"
      ]
     },
     "execution_count": 82,
     "metadata": {},
     "output_type": "execute_result"
    }
   ],
   "source": [
    "function encode_shared(dist, vector::Array{T}, shared_prototypes::Array{T}) where T\n",
    "    n_clusters = length(shared_prototypes)\n",
    "    closest_prototypes = Array{Int8}(undef, n_features, 1);\n",
    "    \n",
    "    @inbounds for (j,x) in enumerate(vector)\n",
    "        best_coordinate = 1\n",
    "        min_distance::T = typemax(T)\n",
    "        for k in 1:n_clusters\n",
    "           current_dist = dist(shared_prototypes[k], x)\n",
    "           if current_dist < min_distance\n",
    "               best_coordinate = k\n",
    "               min_distance = current_dist\n",
    "           end\n",
    "           #println(k, ' ', j, ' ', best_coordinate, ' ',min_distance )\n",
    "        end            \n",
    "        closest_prototypes[j] = best_coordinate\n",
    "    end\n",
    "    return closest_prototypes\n",
    "end\n",
    "\n",
    "\"\"\"\n",
    "function encode_fast_shared(dist, vector::Array{T}, prototypes::Array{T}) where T\n",
    "    \n",
    "    n_features = length(vector)\n",
    "    n_clusters = length(prototypes)\n",
    "    closest_prototypes = Array{Int32}(undef, n_features, 1);\n",
    "    \n",
    "    @inbounds @fastmath for (j,x) in enumerate(vector)\n",
    "        best_coordinate = 1\n",
    "        min_distance::T = typemax(T)\n",
    "        for k in 1:n_clusters\n",
    "           current_dist = dist(prototypes[k], x)\n",
    "           if current_dist < min_distance\n",
    "               best_coordinate = k\n",
    "               min_distance = current_dist\n",
    "           end\n",
    "        end            \n",
    "        closest_prototypes[j] = best_coordinate\n",
    "    end\n",
    "    return closest_prototypes\n",
    "end\n",
    "\n",
    "if profile_flag\n",
    "    @benchmark encode_fast_shared(euclidean, query, P_shared)\n",
    "end\n",
    "\"\"\"\n",
    "\n",
    "P_shared = vec(R_shared.centers)\n",
    "\n",
    "j = 3\n",
    "x = X_tr_vecs[:,j]\n",
    "x_pqcode_shared = encode_shared(sqeuclidean, x, P_shared);\n",
    "\n",
    "\n",
    "P_shared_copied = hcat( [P_shared for i in 1:128]...);\n",
    "@assert P_shared_copied[:,1] == P_shared\n",
    "x_pqcode = encode(sqeuclidean, x, P_shared_copied);\n",
    "x_decoded = decode(x_pqcode, P_shared_copied);\n",
    "\n",
    "@assert x_pqcode_shared == x_pqcode\n",
    "\n",
    "df_x = DataFrame(Dict(:x => x, \n",
    "                      :x_pqcode => vec(x_pqcode),\n",
    "                      :x_pqcode_shared => vec(x_pqcode_shared),\n",
    "                      :x_decoded => x_decoded,\n",
    "                      #:centroid => vec(P_shared[x_pqcode])\n",
    "                      ))\n",
    "\n",
    "first(df_x, 5)"
   ]
  },
  {
   "cell_type": "code",
   "execution_count": 83,
   "id": "9b2c5db9",
   "metadata": {
    "ExecuteTime": {
     "end_time": "2022-08-25T23:30:11.491000+02:00",
     "start_time": "2022-08-25T21:30:04.975Z"
    }
   },
   "outputs": [
    {
     "name": "stdout",
     "output_type": "stream",
     "text": [
      "(maximum(PQcodes), maximum(PQcodes_shared)) = (32, 32)\n"
     ]
    },
    {
     "data": {
      "text/plain": [
       "(32, 32)"
      ]
     },
     "execution_count": 83,
     "metadata": {},
     "output_type": "execute_result"
    }
   ],
   "source": [
    "n_features, n_examples = size(X_tr_vecs)\n",
    "\n",
    "PQcodes_shared = Array{Int32}(undef, n_features, n_examples);\n",
    "\n",
    "for j in 1:n_examples\n",
    "    PQcodes_shared[:,j] = encode_shared(euclidean, X_tr_vecs[:,j], P_shared)  \n",
    "    #PQcodes_shared[:,j] = encode(euclidean, X_tr_vecs[:,j] ,P_shared_copied)  \n",
    "end\n",
    "\n",
    "@show maximum(PQcodes), maximum(PQcodes_shared)"
   ]
  },
  {
   "cell_type": "markdown",
   "id": "4b36de8c",
   "metadata": {},
   "source": [
    "Because we have created the shared quantizer from the quantizer of the PQquantizer of the first feature the following assertion must hold.\n",
    "\n",
    "In other words, all encoded elements from the first feature (and there are 1 million items) must be mapped to the same integer"
   ]
  },
  {
   "cell_type": "code",
   "execution_count": 84,
   "id": "c5e03263",
   "metadata": {
    "scrolled": true
   },
   "outputs": [],
   "source": [
    "@assert PQcodes_shared[1,:] == PQcodes[1,:]"
   ]
  },
  {
   "cell_type": "markdown",
   "id": "43f85b8b",
   "metadata": {},
   "source": [
    "Now we need a new encoding function that uses a single vector of prototypes"
   ]
  },
  {
   "cell_type": "code",
   "execution_count": 85,
   "id": "51c61c45",
   "metadata": {
    "ExecuteTime": {
     "end_time": "2022-08-25T23:02:51.209000+02:00",
     "start_time": "2022-08-25T21:02:51.201Z"
    }
   },
   "outputs": [],
   "source": [
    "function encode_fast_shared(dist, vector::Array{T}, prototypes::Array{T}) where T\n",
    "    \n",
    "    n_features = length(vector)\n",
    "    n_clusters = length(prototypes)\n",
    "    closest_prototypes = Array{Int32}(undef, n_features, 1);\n",
    "    \n",
    "    @inbounds @fastmath for (j,x) in enumerate(vector)\n",
    "        best_coordinate = 1\n",
    "        min_distance::T = typemax(T)\n",
    "        for k in 1:n_clusters\n",
    "           current_dist = dist(prototypes[k], x)\n",
    "           if current_dist < min_distance\n",
    "               best_coordinate = k\n",
    "               min_distance = current_dist\n",
    "           end\n",
    "        end            \n",
    "        closest_prototypes[j] = best_coordinate\n",
    "    end\n",
    "    return closest_prototypes\n",
    "end\n",
    "\n",
    "if profile_flag\n",
    "    @benchmark encode_fast_shared(euclidean, query, P_shared)\n",
    "end\n",
    "\n",
    "@assert encode_fast_shared(euclidean, x ,vec(P_shared)) ==  encode(euclidean, x ,P_shared_copied);\n",
    "@assert encode_fast_shared(euclidean, x ,vec(P_shared)) ==  encode(sqeuclidean, x ,P_shared_copied);"
   ]
  },
  {
   "cell_type": "markdown",
   "id": "b8093b20",
   "metadata": {},
   "source": [
    "Now we will ensure that `compute_ADC_shared` provides the same ADC table computation as `compute_ADC`\n",
    "in the case where `compute_ADC` is called with all prototypes being copies of column vector used in `compute_ADC_shared` "
   ]
  },
  {
   "cell_type": "code",
   "execution_count": 86,
   "id": "817b19c2",
   "metadata": {
    "ExecuteTime": {
     "end_time": "2022-08-25T22:25:25.075000+02:00",
     "start_time": "2022-08-25T20:25:21.948Z"
    }
   },
   "outputs": [],
   "source": [
    "function compute_ADC_shared(query, prototypes, dist)\n",
    "    \"\"\"\n",
    "    Computes the distance between each query[k] and prototype[k]\n",
    "    \n",
    "    Arguments:\n",
    "    \n",
    "    - y (Array{T}): vector of n_features components.\n",
    "    - prototypes (Array{T}): vector of n_cluster components.\n",
    "    - dist (function): distance to be used to compare prototypes and query.\n",
    "    \n",
    "    \"\"\"\n",
    "    #@assert ndims(prototypes) ==1\n",
    "    \n",
    "    n_features = length(query)\n",
    "    n_clusters = length(prototypes)\n",
    "    ADC_table = Array{Float32}(undef, n_clusters, n_features)\n",
    "    \n",
    "    for j in 1:n_features       # 128\n",
    "        for p in 1:n_clusters   # 32\n",
    "            ADC_table[p,j] = dist(query[j], prototypes[p] )\n",
    "        end\n",
    "    end\n",
    "    return  ADC_table\n",
    "end\n",
    "\n",
    "function compute_ADC(query, prototypes, dist)\n",
    "    n_clusters, n_features = size(prototypes)\n",
    "    \n",
    "    ADC_table = Array{Float32}(undef, n_clusters, n_features)\n",
    "    \n",
    "    for j in 1:n_features       # 128\n",
    "        for p in 1:n_clusters   # 32\n",
    "            ADC_table[p,j] = dist(query[j], prototypes[p,j] )\n",
    "        end\n",
    "    end\n",
    "    return  ADC_table\n",
    "end\n",
    "\n",
    "query = X_tr_vecs[:,1]\n",
    "adc_table_shared = compute_ADC_shared(query, P_shared, euclidean);\n",
    "adc_table = compute_ADC(query, P_shared_copied, euclidean);\n",
    "\n",
    "@assert isapprox(adc_table, adc_table_shared)"
   ]
  },
  {
   "cell_type": "markdown",
   "id": "c2eebd88",
   "metadata": {},
   "source": [
    "Now we need to verify that the ADC distance `adc_dist_shared` is equal to `adc_dist`"
   ]
  },
  {
   "cell_type": "code",
   "execution_count": 87,
   "id": "7fe478aa",
   "metadata": {},
   "outputs": [],
   "source": [
    "function adc_dist_shared(x_code,  adc_table::Vector) \n",
    "    \"\"\"\n",
    "    This adc distance is the proposed one for BWcodes\n",
    "    \"\"\"\n",
    "    res = zero(eltype(adc_table))\n",
    "    @inbounds @simd for j in eachindex(x_code)\n",
    "        res+= adc_table[x_code[j]]\n",
    "    end\n",
    "    return res\n",
    "end\n",
    "\n",
    "function adc_dist_shared(x_code, adc_table::Matrix)\n",
    "    res = zero(eltype(adc_table))\n",
    "    @inbounds @simd for j in eachindex(x_code)\n",
    "        res+= adc_table[x_code[j],j]\n",
    "    end\n",
    "    return res\n",
    "end\n",
    "\n",
    "query = X_tr_vecs[:,1]\n",
    "adc_table_shared = compute_ADC_shared(query, P_shared, euclidean);\n",
    "\n",
    "query_code = encode_fast_shared(sqeuclidean, query, P_shared)\n",
    "distance_adc = adc_dist( view(PQcodes,:,j) ,  adc_table_shared)  \n",
    "distance_adc_shared = adc_dist_shared(  view(PQcodes,:,j) ,  adc_table_shared)  \n",
    "\n",
    "@assert distance_adc == distance_adc_shared"
   ]
  },
  {
   "cell_type": "markdown",
   "id": "904a44e4",
   "metadata": {},
   "source": [
    "Now we need to verify that scanning over the database we get the same results with `linear_scann_shared` and with `linear_scann`"
   ]
  },
  {
   "cell_type": "code",
   "execution_count": 88,
   "id": "f937c41a",
   "metadata": {},
   "outputs": [],
   "source": [
    "\n",
    "function linear_scann_shared(query, PQcodes, adc_table_shared, P_shared)\n",
    "    \n",
    "    query_code = encode_fast_shared(sqeuclidean, query, P_shared)\n",
    "    n_features, n_examples = size(PQcodes)\n",
    "    distances = Array{eltype(query)}(undef, n_examples)\n",
    "    \n",
    "    @inbounds @fastmath for j in 1:n_examples\n",
    "        distances[j] = adc_dist_shared(  view(PQcodes,:,j) ,  adc_table_shared)    \n",
    "    end\n",
    "    return distances\n",
    "end\n",
    "\n",
    "if profile_flag\n",
    "    @benchmark distances = linear_scann($query, $PQcodes, $adc_table_shared, $P_shared)\n",
    "end\n",
    "\n",
    "\n",
    "distances_shared = linear_scann_shared(query, PQcodes, adc_table_shared, P_shared);\n",
    "distances = linear_scann(query, PQcodes, adc_table, P_shared_copied);\n",
    "\n",
    "@assert isapprox(distances, distances_shared)\n"
   ]
  },
  {
   "cell_type": "code",
   "execution_count": 89,
   "id": "cfa27681",
   "metadata": {},
   "outputs": [
    {
     "name": "stdout",
     "output_type": "stream",
     "text": [
      "adc_dist(view(PQcodes, :, j), adc_table_shared) = 6921.086f0\n",
      "adc_dist_shared(view(PQcodes, :, j), adc_table_shared) = 6921.086f0\n"
     ]
    }
   ],
   "source": [
    "j=1\n",
    "@show adc_dist(  view(PQcodes,:,j) ,  adc_table_shared)\n",
    "@show adc_dist_shared(view(PQcodes,:,j) ,  adc_table_shared);"
   ]
  },
  {
   "cell_type": "markdown",
   "id": "3148b2a3",
   "metadata": {},
   "source": [
    "It is important to recall\n",
    "\n",
    "- `PQcodes` will not be the same as `PQcodes_shared`:\n",
    "\n",
    "    - `PQcodes` is constructed form a `n_features` codebooks.\n",
    "    - `PQcodes_shared` is constructed form a single codebook.\n",
    "    "
   ]
  },
  {
   "cell_type": "code",
   "execution_count": 90,
   "id": "a7cbb600",
   "metadata": {},
   "outputs": [
    {
     "data": {
      "text/html": [
       "<div class=\"data-frame\"><p>5 rows × 3 columns</p><table class=\"data-frame\"><thead><tr><th></th><th>x</th><th>x_closest</th><th>x_pqcode</th></tr><tr><th></th><th title=\"Float32\">Float32</th><th title=\"Float32\">Float32</th><th title=\"Int8\">Int8</th></tr></thead><tbody><tr><th>1</th><td>0.0</td><td>0.0</td><td>1</td></tr><tr><th>2</th><td>1.0</td><td>16.0</td><td>1</td></tr><tr><th>3</th><td>5.0</td><td>35.0</td><td>13</td></tr><tr><th>4</th><td>3.0</td><td>5.0</td><td>13</td></tr><tr><th>5</th><td>44.0</td><td>32.0</td><td>17</td></tr></tbody></table></div>"
      ],
      "text/latex": [
       "\\begin{tabular}{r|ccc}\n",
       "\t& x & x\\_closest & x\\_pqcode\\\\\n",
       "\t\\hline\n",
       "\t& Float32 & Float32 & Int8\\\\\n",
       "\t\\hline\n",
       "\t1 & 0.0 & 0.0 & 1 \\\\\n",
       "\t2 & 1.0 & 16.0 & 1 \\\\\n",
       "\t3 & 5.0 & 35.0 & 13 \\\\\n",
       "\t4 & 3.0 & 5.0 & 13 \\\\\n",
       "\t5 & 44.0 & 32.0 & 17 \\\\\n",
       "\\end{tabular}\n"
      ],
      "text/plain": [
       "\u001b[1m5×3 DataFrame\u001b[0m\n",
       "\u001b[1m Row \u001b[0m│\u001b[1m x       \u001b[0m\u001b[1m x_closest \u001b[0m\u001b[1m x_pqcode \u001b[0m\n",
       "\u001b[1m     \u001b[0m│\u001b[90m Float32 \u001b[0m\u001b[90m Float32   \u001b[0m\u001b[90m Int8     \u001b[0m\n",
       "─────┼──────────────────────────────\n",
       "   1 │     0.0        0.0         1\n",
       "   2 │     1.0       16.0         1\n",
       "   3 │     5.0       35.0        13\n",
       "   4 │     3.0        5.0        13\n",
       "   5 │    44.0       32.0        17"
      ]
     },
     "execution_count": 90,
     "metadata": {},
     "output_type": "execute_result"
    }
   ],
   "source": [
    "pq_distances = linear_scann(query, PQcodes_shared, adc_table, P);\n",
    "#pq_distances = linear_scann_shared(query, PQcodes_shared, adc_table_shared, P_shared);\n",
    "\n",
    "x_closest = vec(get_top_k_from_distances(X_tr_vecs, pq_distances, 1));\n",
    "\n",
    "df_x = DataFrame(Dict(:x => x, \n",
    "                      :x_pqcode => vec(x_pqcode),\n",
    "                      :x_closest => vec(x_closest)\n",
    "                        \n",
    "                      ))\n",
    "\n",
    "first(df_x, 5)"
   ]
  },
  {
   "cell_type": "markdown",
   "id": "92aa7791",
   "metadata": {},
   "source": [
    "### Recall PQlinearscann Sharing a copies Quantizer\n",
    "\n",
    "Here we just verify that if we copy a quantizer many times we still get similar quality"
   ]
  },
  {
   "cell_type": "code",
   "execution_count": 91,
   "id": "7f7a08c2",
   "metadata": {},
   "outputs": [
    {
     "name": "stdout",
     "output_type": "stream",
     "text": [
      "recall(top_k_pq, query_true_neighbors, 100) = 0.67\n"
     ]
    }
   ],
   "source": [
    "query_id = 1\n",
    "query = X_te_vecs[:,query_id];\n",
    "query_true_neighbors = true_neighbors[:,query_id]\n",
    "top_k = 100\n",
    "\n",
    "x_code = PQcodes_shared[:,query_id];\n",
    "adc_table = compute_ADC(query, P_shared_copied, euclidean);\n",
    "pq_distances = linear_scann(query, PQcodes_shared, adc_table, P_shared_copied);\n",
    "top_k_pq = sortperm(pq_distances)[1:top_k];\n",
    "\n",
    "@show recall(top_k_pq, query_true_neighbors, 100);"
   ]
  },
  {
   "cell_type": "code",
   "execution_count": 92,
   "id": "950ed1ed",
   "metadata": {},
   "outputs": [
    {
     "data": {
      "text/plain": [
       "0.649"
      ]
     },
     "execution_count": 92,
     "metadata": {},
     "output_type": "execute_result"
    }
   ],
   "source": [
    "\n",
    "function compute_mean_recall(X, PQcodes_shared, true_neighbors,\n",
    "                             P_shared,P_shared_copied, top_k::Int, dist::Function)\n",
    "\n",
    "    n_features, n_examples = size(X)\n",
    "\n",
    "    average = 0.\n",
    "    for query_id in 1:n_examples\n",
    "        query = X[:, query_id]\n",
    "        adc_table_shared = compute_ADC(query, P_shared_copied, dist);\n",
    "        pq_distances = linear_scann(query, PQcodes_shared, adc_table_shared, P_shared_copied);\n",
    "        top_k_pq = sortperm(pq_distances)[1:top_k];\n",
    "        average += recall(top_k_pq, true_neighbors[:,query_id], 100);\n",
    "    end\n",
    "    return average / n_examples\n",
    "\n",
    "end\n",
    "\n",
    "avg_recall = compute_mean_recall(X_te_vecs[:, 1:10], PQcodes_shared, true_neighbors,\n",
    "                                 P_shared, P_shared_copied, top_k, euclidean)"
   ]
  },
  {
   "cell_type": "markdown",
   "id": "218f7033",
   "metadata": {},
   "source": [
    "### Recall PQlinearscann Sharing a Quantizer\n",
    "\n",
    "We don´t want to have copies of a quantizer, but have specific methods that use a single vector across features"
   ]
  },
  {
   "cell_type": "code",
   "execution_count": 93,
   "id": "babc6ff0",
   "metadata": {
    "scrolled": true
   },
   "outputs": [
    {
     "name": "stdout",
     "output_type": "stream",
     "text": [
      "(maximum(PQcodes), maximum(PQcodes_shared)) = (32, 32)\n"
     ]
    }
   ],
   "source": [
    "function build_PQ_code_shared_copied(X_tr_vecs, P_shared_copied)\n",
    "    n_features, n_examples = size(X_tr_vecs)\n",
    "\n",
    "    PQcodes_shared = Array{Int32}(undef, n_features, n_examples);\n",
    "\n",
    "    for j in 1:n_examples\n",
    "        PQcodes_shared[:,j] = encode(euclidean, view(X_tr_vecs,:,j), P_shared_copied)  \n",
    "    end\n",
    "\n",
    "    @show maximum(PQcodes), maximum(PQcodes_shared)\n",
    "    return PQcodes_shared\n",
    "end\n",
    "\n",
    "PQcodes_shared = build_PQ_code_shared_copied(X_tr_vecs, P_shared_copied);"
   ]
  },
  {
   "cell_type": "code",
   "execution_count": 94,
   "id": "91aa9499",
   "metadata": {},
   "outputs": [
    {
     "name": "stdout",
     "output_type": "stream",
     "text": [
      "recall(top_k_pq, query_true_neighbors, 100) = 0.67\n"
     ]
    }
   ],
   "source": [
    "query_id = 1\n",
    "query = X_te_vecs[:,query_id];\n",
    "query_true_neighbors = true_neighbors[:,query_id]\n",
    "top_k = 100\n",
    "\n",
    "adc_table = compute_ADC(query, P_shared_copied, euclidean);\n",
    "pq_distances = linear_scann_shared(query, PQcodes_shared, adc_table, P_shared);\n",
    "top_k_pq = sortperm(pq_distances)[1:top_k];\n",
    "\n",
    "@show recall(top_k_pq, query_true_neighbors, 100);"
   ]
  },
  {
   "cell_type": "markdown",
   "id": "65a80f83",
   "metadata": {},
   "source": [
    "we can see that we can use `compute_ADC_shared` insead of `compute_ADC` and we get the same results"
   ]
  },
  {
   "cell_type": "code",
   "execution_count": 95,
   "id": "97b6504b",
   "metadata": {},
   "outputs": [
    {
     "name": "stdout",
     "output_type": "stream",
     "text": [
      "recall(top_k_pq, query_true_neighbors, 100) = 0.61\n"
     ]
    }
   ],
   "source": [
    "query_id = 3\n",
    "query = X_te_vecs[:,query_id];\n",
    "query_true_neighbors = true_neighbors[:,query_id]\n",
    "top_k = 100\n",
    "\n",
    "adc_table_shared = compute_ADC_shared(query, P_shared, euclidean);\n",
    "pq_distances = linear_scann_shared(query, PQcodes_shared, adc_table_shared, P_shared);\n",
    "top_k_pq = sortperm(pq_distances)[1:top_k];\n",
    "\n",
    "@show recall(top_k_pq, query_true_neighbors, 100);"
   ]
  },
  {
   "cell_type": "code",
   "execution_count": 96,
   "id": "85d4ae93",
   "metadata": {
    "scrolled": true
   },
   "outputs": [
    {
     "data": {
      "text/plain": [
       "0.649"
      ]
     },
     "execution_count": 96,
     "metadata": {},
     "output_type": "execute_result"
    }
   ],
   "source": [
    "\n",
    "function compute_mean_recall_shared(X, PQcodes_shared, true_neighbors,\n",
    "                                    P_shared,P_shared_copied, top_k::Int, dist::Function)\n",
    "\n",
    "    n_features, n_examples = size(X)\n",
    "\n",
    "    average = 0.\n",
    "    for query_id in 1:n_examples\n",
    "        query = X[:, query_id]\n",
    "        query_true_neighbors = true_neighbors[:,query_id]\n",
    "        adc_table_shared = compute_ADC_shared(query, P_shared, dist);\n",
    "        pq_distances = linear_scann_shared(query, PQcodes_shared, adc_table_shared, P_shared)\n",
    "        top_k_pq = sortperm(pq_distances)[1:top_k];\n",
    "        r = recall(top_k_pq, query_true_neighbors, 100);\n",
    "        average +=r\n",
    "    end\n",
    "    return average / n_examples\n",
    "\n",
    "end\n",
    "\n",
    "avg_recall = compute_mean_recall_shared(X_te_vecs[:, 1:10], PQcodes_shared, true_neighbors,\n",
    "                                        P_shared, P_shared_copied, top_k, euclidean)"
   ]
  },
  {
   "cell_type": "code",
   "execution_count": 97,
   "id": "4c1bd036",
   "metadata": {},
   "outputs": [
    {
     "name": "stdout",
     "output_type": "stream",
     "text": [
      "  41.667 ms (3 allocations: 3.82 MiB)\n"
     ]
    }
   ],
   "source": [
    "@btime linear_scann_shared(query, PQcodes_shared, adc_table_shared, P_shared);"
   ]
  },
  {
   "cell_type": "code",
   "execution_count": null,
   "id": "bb825ef2",
   "metadata": {},
   "outputs": [],
   "source": []
  },
  {
   "cell_type": "code",
   "execution_count": null,
   "id": "84c3741d",
   "metadata": {},
   "outputs": [],
   "source": []
  },
  {
   "cell_type": "code",
   "execution_count": null,
   "id": "19b5d151",
   "metadata": {},
   "outputs": [],
   "source": []
  },
  {
   "cell_type": "code",
   "execution_count": null,
   "id": "cd3bba82",
   "metadata": {},
   "outputs": [],
   "source": []
  },
  {
   "cell_type": "code",
   "execution_count": null,
   "id": "68b92fca",
   "metadata": {},
   "outputs": [],
   "source": []
  },
  {
   "cell_type": "code",
   "execution_count": null,
   "id": "0462aa43",
   "metadata": {},
   "outputs": [],
   "source": []
  },
  {
   "cell_type": "code",
   "execution_count": null,
   "id": "5d98549c",
   "metadata": {},
   "outputs": [],
   "source": []
  },
  {
   "cell_type": "code",
   "execution_count": null,
   "id": "43934a99",
   "metadata": {},
   "outputs": [],
   "source": []
  },
  {
   "cell_type": "markdown",
   "id": "00cf0bf9",
   "metadata": {},
   "source": [
    "### Inspect idea of computing distances without adc table: directly from pqcodes\n"
   ]
  },
  {
   "cell_type": "code",
   "execution_count": null,
   "id": "e02fd6bb",
   "metadata": {
    "scrolled": true
   },
   "outputs": [],
   "source": [
    "query_code = encode_shared(Euclidean0, query, P_shared);"
   ]
  },
  {
   "cell_type": "code",
   "execution_count": null,
   "id": "16c86af2",
   "metadata": {},
   "outputs": [],
   "source": [
    "aux = PQcodes_shared[:,100]\n",
    "@btime hamming($query_code, $aux)"
   ]
  },
  {
   "cell_type": "code",
   "execution_count": null,
   "id": "67ba90db",
   "metadata": {},
   "outputs": [],
   "source": [
    "function abs_dist(x,y)\n",
    "    res = zero(eltype(x))\n",
    "    @inbounds @fastmath   for j in eachindex(x)\n",
    "        res += abs(x[j] - y[j])\n",
    "    end\n",
    "    return sqrt(res)\n",
    "end\n",
    "\n",
    "aux = UInt8.(PQcodes_shared[:,100])\n",
    "query_code = UInt8.(vec(query_code))\n",
    "@btime abs_dist($query_code, $aux)"
   ]
  },
  {
   "cell_type": "code",
   "execution_count": null,
   "id": "db6e2798",
   "metadata": {},
   "outputs": [],
   "source": []
  },
  {
   "cell_type": "code",
   "execution_count": null,
   "id": "2e00f122",
   "metadata": {},
   "outputs": [],
   "source": [
    "@inline function Euclidean0(x, query)\n",
    "    res = zero(eltype(x))\n",
    "    @inbounds @fastmath  for j in eachindex(x)\n",
    "        aux = (query[j] - x[j])\n",
    "        res += aux * aux\n",
    "    end\n",
    "    return sqrt(res)\n",
    "end\n",
    "\n",
    "function linear_scann_exact(dist, query, X)\n",
    "\n",
    "    n_features, n_examples = size(X)\n",
    "    distances = Array{Float32}(undef, n_examples)\n",
    "    \n",
    "    @inbounds for j in 1:n_examples\n",
    "        distances[j] = dist(query, view(X,:,j))    \n",
    "    end\n",
    "    return distances\n",
    "end\n",
    "\n"
   ]
  },
  {
   "cell_type": "code",
   "execution_count": null,
   "id": "62ca431d",
   "metadata": {},
   "outputs": [],
   "source": [
    "@benchmark linear_scann_exact(abs_dist, query_code, PQcodes)"
   ]
  },
  {
   "cell_type": "code",
   "execution_count": null,
   "id": "e7dac75f",
   "metadata": {},
   "outputs": [],
   "source": [
    "@benchmark linear_scann_exact(Euclidean0, query_code, PQcodes)"
   ]
  },
  {
   "cell_type": "code",
   "execution_count": null,
   "id": "6cce3413",
   "metadata": {},
   "outputs": [],
   "source": []
  },
  {
   "cell_type": "code",
   "execution_count": null,
   "id": "d10a30f3",
   "metadata": {},
   "outputs": [],
   "source": [
    "function Euclidean0(x, query)\n",
    "    res = zero(eltype(x))\n",
    "    @inbounds @fastmath  for j in eachindex(x)\n",
    "        aux = (query[j] - x[j])\n",
    "        res += aux * aux\n",
    "    end\n",
    "    return sqrt(res)\n",
    "end"
   ]
  },
  {
   "cell_type": "code",
   "execution_count": null,
   "id": "e838e19a",
   "metadata": {},
   "outputs": [],
   "source": [
    "aux  = X_tr_vecs[:,1]\n",
    "@btime Euclidean0(query, aux)"
   ]
  },
  {
   "cell_type": "code",
   "execution_count": null,
   "id": "a1126acb",
   "metadata": {},
   "outputs": [],
   "source": [
    "aux  = X_tr_vecs[:,1]\n",
    "@btime Euclidean0(query, aux)"
   ]
  },
  {
   "cell_type": "code",
   "execution_count": null,
   "id": "c3ed3d55",
   "metadata": {},
   "outputs": [],
   "source": []
  },
  {
   "cell_type": "code",
   "execution_count": null,
   "id": "8b134b14",
   "metadata": {},
   "outputs": [],
   "source": []
  },
  {
   "cell_type": "code",
   "execution_count": null,
   "id": "d1c50ea4",
   "metadata": {},
   "outputs": [],
   "source": []
  },
  {
   "cell_type": "code",
   "execution_count": null,
   "id": "992a5818",
   "metadata": {},
   "outputs": [],
   "source": []
  },
  {
   "cell_type": "markdown",
   "id": "2aa70cc0",
   "metadata": {},
   "source": [
    "### Recall PQlinearscann Sharing a Quantizer\n"
   ]
  },
  {
   "cell_type": "code",
   "execution_count": null,
   "id": "34dd21b2",
   "metadata": {},
   "outputs": [],
   "source": [
    "query_id = 1\n",
    "query = X_te_vecs[:,query_id];\n",
    "query_true_neighbors = true_neighbors[:,query_id]\n",
    "top_k = 100\n",
    "\n",
    "adc_table_shared = compute_ADC_shared(query, P_shared, euclidean);\n",
    "pq_distances = linear_scann(query, PQcodes_shared, adc_table_shared, P_shared_copied);\n",
    "top_k_pq = sortperm(pq_distances)[1:top_k];\n",
    "\n",
    "@show recall(top_k_pq, query_true_neighbors, 100);"
   ]
  },
  {
   "cell_type": "code",
   "execution_count": null,
   "id": "d46cc862",
   "metadata": {},
   "outputs": [],
   "source": [
    "function encode_fast(dist, vector::Array{T}, prototypes::Array{T}) where T\n",
    "    \n",
    "    n_clusters, n_features = size(prototypes)\n",
    "    closest_prototypes = Array{Int8}(undef, n_features, 1);\n",
    "    \n",
    "    @inbounds for (j,x) in enumerate(vector)\n",
    "        best_coordinate = 1\n",
    "        min_distance::T = typemax(T)\n",
    "        for k in 1:n_clusters\n",
    "           current_dist = dist(prototypes[k,j], x)\n",
    "           if current_dist < min_distance\n",
    "               best_coordinate = k\n",
    "               min_distance = current_dist\n",
    "           end\n",
    "           #println(k, ' ', j, ' ', best_coordinate, ' ',min_distance )\n",
    "        end            \n",
    "        closest_prototypes[j] = best_coordinate\n",
    "    end\n",
    "    return closest_prototypes\n",
    "end\n",
    "\n",
    "\n",
    "\n",
    "function adc_dist(x_code,  adc_table)\n",
    "    res = zero(eltype(adc_table))\n",
    "    @inbounds @fastmath for j in eachindex(x_code)\n",
    "        res+= adc_table[x_code[j], j]\n",
    "    end\n",
    "    return res\n",
    "end\n",
    "\n",
    "\n",
    "function linear_scann(query, PQcodes, adc_table, P)\n",
    "    \n",
    "    query_code = encode_fast(sqeuclidean, query, P)\n",
    "    n_features, n_examples = size(PQcodes)\n",
    "    distances = Array{eltype(query)}(undef, n_examples)\n",
    "    \n",
    "    @inbounds @fastmath for j in 1:n_examples\n",
    "        distances[j] = adc_dist( view(PQcodes,:,j) ,  adc_table)    \n",
    "    end\n",
    "    return distances\n",
    "end\n",
    "\n",
    "\n",
    "function compute_mean_recall(X, PQcodes_shared, true_neighbors,\n",
    "                             P_shared,P_shared_copied, top_k::Int, dist::Function)\n",
    "\n",
    "    n_features, n_examples = size(X)\n",
    "    \n",
    "    average = 0.\n",
    "    for query_id in 1:n_examples\n",
    "        query = X[:, query_id]\n",
    "        adc_table_shared = compute_ADC(query, P_shared_copied, dist);\n",
    "        pq_distances = linear_scann(query, PQcodes_shared, adc_table_shared, P_shared_copied);\n",
    "        top_k_pq = sortperm(pq_distances)[1:top_k];\n",
    "        average += recall(top_k_pq, true_neighbors[:,query_id], 100);\n",
    "        println(rec,\" --> \", average)\n",
    "    end\n",
    "    return average / n_examples\n",
    "end\n",
    "\n",
    "avg_recall = compute_mean_recall(X_te_vecs[:, 1:5], PQcodes_shared, true_neighbors,\n",
    "                                 P_shared, P_shared_copied, top_k, euclidean)"
   ]
  },
  {
   "cell_type": "code",
   "execution_count": null,
   "id": "a84d4ecb",
   "metadata": {},
   "outputs": [],
   "source": []
  },
  {
   "cell_type": "code",
   "execution_count": null,
   "id": "c5e85143",
   "metadata": {
    "scrolled": true
   },
   "outputs": [],
   "source": [
    "avg_recall = compute_mean_recall(X_te_vecs[:, 1:5], PQcodes_shared, true_neighbors,\n",
    "                                 P_shared, P_shared_copied, top_k, euclidean)"
   ]
  },
  {
   "cell_type": "code",
   "execution_count": null,
   "id": "27a93c71",
   "metadata": {},
   "outputs": [],
   "source": []
  },
  {
   "cell_type": "code",
   "execution_count": null,
   "id": "01530ec0",
   "metadata": {},
   "outputs": [],
   "source": []
  },
  {
   "cell_type": "code",
   "execution_count": null,
   "id": "0618ca20",
   "metadata": {},
   "outputs": [],
   "source": []
  },
  {
   "cell_type": "code",
   "execution_count": null,
   "id": "2a9e5fbe",
   "metadata": {},
   "outputs": [],
   "source": []
  },
  {
   "cell_type": "code",
   "execution_count": null,
   "id": "20d483e5",
   "metadata": {},
   "outputs": [],
   "source": []
  },
  {
   "cell_type": "code",
   "execution_count": null,
   "id": "e10131af",
   "metadata": {},
   "outputs": [],
   "source": []
  },
  {
   "cell_type": "code",
   "execution_count": null,
   "id": "dd2e81fd",
   "metadata": {},
   "outputs": [],
   "source": []
  },
  {
   "cell_type": "code",
   "execution_count": null,
   "id": "fb5b9678",
   "metadata": {},
   "outputs": [],
   "source": []
  },
  {
   "cell_type": "code",
   "execution_count": null,
   "id": "a28cf0b1",
   "metadata": {},
   "outputs": [],
   "source": []
  },
  {
   "cell_type": "code",
   "execution_count": null,
   "id": "224d0323",
   "metadata": {},
   "outputs": [],
   "source": []
  },
  {
   "cell_type": "code",
   "execution_count": null,
   "id": "df286326",
   "metadata": {},
   "outputs": [],
   "source": []
  },
  {
   "cell_type": "code",
   "execution_count": null,
   "id": "c1163537",
   "metadata": {},
   "outputs": [],
   "source": []
  },
  {
   "cell_type": "code",
   "execution_count": null,
   "id": "5f55d4dc",
   "metadata": {},
   "outputs": [],
   "source": []
  },
  {
   "cell_type": "code",
   "execution_count": null,
   "id": "89b9e224",
   "metadata": {},
   "outputs": [],
   "source": []
  },
  {
   "cell_type": "code",
   "execution_count": null,
   "id": "9271ab8f",
   "metadata": {},
   "outputs": [],
   "source": []
  },
  {
   "cell_type": "code",
   "execution_count": null,
   "id": "6f955ebb",
   "metadata": {},
   "outputs": [],
   "source": []
  },
  {
   "cell_type": "code",
   "execution_count": null,
   "id": "25b4c029",
   "metadata": {},
   "outputs": [],
   "source": []
  },
  {
   "cell_type": "code",
   "execution_count": null,
   "id": "2947cb28",
   "metadata": {},
   "outputs": [],
   "source": [
    "\n"
   ]
  },
  {
   "cell_type": "markdown",
   "id": "f5acea50",
   "metadata": {},
   "source": [
    "# PART 2 -> Leverage BWcodes\n",
    "\n",
    "\n",
    "## Improving distance between vectors with ADC_distance"
   ]
  },
  {
   "cell_type": "code",
   "execution_count": null,
   "id": "c001e190",
   "metadata": {
    "ExecuteTime": {
     "end_time": "2022-08-25T22:25:27.186000+02:00",
     "start_time": "2022-08-25T20:25:23.522Z"
    }
   },
   "outputs": [],
   "source": [
    "function SEuclidean0(x, query)\n",
    "    res = zero(eltype(x))\n",
    "    @inbounds   for j in eachindex(x)\n",
    "        aux = (query[j] - x[j])\n",
    "        res += aux * aux\n",
    "    end\n",
    "    return res\n",
    "end\n",
    "\n",
    "function Euclidean0(x, query)\n",
    "    res = zero(eltype(x))\n",
    "    @inbounds   for j in eachindex(x)\n",
    "        aux = (query[j] - x[j])\n",
    "        res += aux * aux\n",
    "    end\n",
    "    return sqrt(res)\n",
    "end\n",
    "\n",
    "if profile_flag\n",
    "    x = X_tr_vecs[:,1]\n",
    "    @benchmark Euclidean0($x, $query)\n",
    "end"
   ]
  },
  {
   "cell_type": "code",
   "execution_count": null,
   "id": "10111c02",
   "metadata": {
    "ExecuteTime": {
     "end_time": "2022-08-25T22:25:29.702000+02:00",
     "start_time": "2022-08-25T20:25:24.514Z"
    }
   },
   "outputs": [],
   "source": [
    "function adc_dist_shared(query_code, x_code,  adc_table)\n",
    "    res = zero(eltype(adc_table))\n",
    "    @inbounds @simd for j in eachindex(x_code)\n",
    "        res+= adc_table[x_code[j]]\n",
    "    end\n",
    "    return res\n",
    "end\n",
    "\n",
    "if profile_flag\n",
    "    @benchmark adc_dist_shared($query_code, $x_code, $adc_table_shared)\n",
    "end"
   ]
  },
  {
   "cell_type": "code",
   "execution_count": null,
   "id": "82d9eb4a",
   "metadata": {
    "ExecuteTime": {
     "end_time": "2022-08-25T22:25:31.389000+02:00",
     "start_time": "2022-08-25T20:25:25.729Z"
    }
   },
   "outputs": [],
   "source": [
    "function adc_dist_shared_unrolled(query_code, x_code,  adc_table)\n",
    "    res1 = zero(eltype(adc_table))\n",
    "    res2 = zero(eltype(adc_table))\n",
    "    res3 = zero(eltype(adc_table))\n",
    "    res4 = zero(eltype(adc_table))\n",
    "    \n",
    "    @inbounds @fastmath for j in 1:4:length(x_code)\n",
    "        res1 += adc_table[x_code[j]]\n",
    "        res2 += adc_table[x_code[j+1]]\n",
    "        res3 += adc_table[x_code[j+2]]\n",
    "        res4 += adc_table[x_code[j+3]]\n",
    "    end\n",
    "    \n",
    "    return res1 + res2 + res3 + res4\n",
    "end\n",
    "\n",
    "if profile_flag\n",
    "    @benchmark adc_dist_shared_unrolled($query_code, $x_code,  $adc_table_shared)\n",
    "end"
   ]
  },
  {
   "cell_type": "code",
   "execution_count": null,
   "id": "fe7efa90",
   "metadata": {
    "ExecuteTime": {
     "end_time": "2022-08-25T22:25:33.168000+02:00",
     "start_time": "2022-08-25T20:25:27.051Z"
    },
    "scrolled": true
   },
   "outputs": [],
   "source": [
    "\n",
    "@assert adc_dist_shared(query_code, x_code,  adc_table_shared) == adc_dist_shared_unrolled(query_code, x_code,  adc_table_shared)"
   ]
  },
  {
   "cell_type": "markdown",
   "id": "105beb80",
   "metadata": {},
   "source": [
    "Note that euclidean squared distance with `@fastmath` is still faster"
   ]
  },
  {
   "cell_type": "code",
   "execution_count": null,
   "id": "3e2a2da7",
   "metadata": {
    "ExecuteTime": {
     "end_time": "2022-08-25T22:25:34.209000+02:00",
     "start_time": "2022-08-25T20:25:34.202Z"
    }
   },
   "outputs": [],
   "source": [
    "function Euclidean0(x, query)\n",
    "    res = zero(eltype(x))\n",
    "    @inbounds @fastmath  for j in eachindex(x)\n",
    "        aux = (query[j] - x[j])\n",
    "        res += aux * aux\n",
    "    end\n",
    "    return sqrt(res)\n",
    "end\n",
    "\n",
    "if profile_flag\n",
    "    @benchmark Euclidean0($x, $query)\n",
    "end"
   ]
  },
  {
   "cell_type": "markdown",
   "id": "a0c336a4",
   "metadata": {},
   "source": [
    "## BWcode\n",
    "\n",
    "When using a SharedQuantizer a value `c` in a pqcode found in different coordinates refers to the same real number. Note that the computation of an ADC distance  is a sum over  over ADC_table entries provided by the pqcode. This sum is done over the entire length of the pqcode. \n",
    "\n",
    "We propose to create a  `K`-dimensional vector, that we call BWcode, that compresses a pqcode into a vector containing the counts of the different assigments to each centroid prototype over the pqcode. For example if we had a pqcode `[1,2,4,1,1,3,3,4]` represented with 4 centroids, we would create a bw code `[3,1,2,2]`. Then the adcomputation over the pqcode is the same as the adc computation over a bwcode provided that we multiply each adc_table entry by the value in the bwcode.\n",
    "\n",
    "To sum up, we can iterate over a `K`-dimensional vector that we call the BWcode and add the values in `adc_table_shared` weighted by the amount of times each prototype has been seen in the pqcode, making the computation faster as long as `K` is lower than the length of the pqcode."
   ]
  },
  {
   "cell_type": "code",
   "execution_count": null,
   "id": "dda1ca3c",
   "metadata": {
    "ExecuteTime": {
     "end_time": "2022-08-25T22:25:59.530000+02:00",
     "start_time": "2022-08-25T20:25:59.525Z"
    }
   },
   "outputs": [],
   "source": [
    "function pq_code_to_bw_code(pqcode, n_clusters)\n",
    "    bw_code = zeros(eltype(pqcode), n_clusters)\n",
    "    for c in pqcode\n",
    "        bw_code[c] += 1\n",
    "    end\n",
    "    return bw_code\n",
    "end"
   ]
  },
  {
   "cell_type": "code",
   "execution_count": null,
   "id": "4d6e8adb",
   "metadata": {
    "ExecuteTime": {
     "end_time": "2022-08-25T22:26:00.206000+02:00",
     "start_time": "2022-08-25T20:26:00.185Z"
    }
   },
   "outputs": [],
   "source": [
    "n_examples = size(X_tr_vecs,2)\n",
    "bw_code = pq_code_to_bw_code(x_code, n_clusters);"
   ]
  },
  {
   "cell_type": "markdown",
   "id": "820b36d2",
   "metadata": {},
   "source": [
    "Now let´s verify that the distance between a query"
   ]
  },
  {
   "cell_type": "code",
   "execution_count": null,
   "id": "d387608f",
   "metadata": {
    "ExecuteTime": {
     "end_time": "2022-08-25T22:26:04.422000+02:00",
     "start_time": "2022-08-25T20:26:04.416Z"
    }
   },
   "outputs": [],
   "source": [
    "function bw_adc_dist_shared(bw_code,  adc_table)\n",
    "    res = zero(eltype(adc_table))\n",
    "    @inbounds @simd for j in eachindex(bw_code)\n",
    "        res+= adc_table[j] * bw_code[j]\n",
    "    end\n",
    "    return res\n",
    "end\n",
    "\n",
    "if profile_flag\n",
    "    @benchmark bw_adc_dist_shared( $bw_code, $adc_table_shared)\n",
    "end"
   ]
  },
  {
   "cell_type": "code",
   "execution_count": null,
   "id": "6460659d",
   "metadata": {},
   "outputs": [],
   "source": [
    "@benchmark bw_adc_dist_shared($bw_code, $adc_table_shared)"
   ]
  },
  {
   "cell_type": "code",
   "execution_count": null,
   "id": "8e60fd49",
   "metadata": {
    "ExecuteTime": {
     "end_time": "2022-08-25T22:26:06.759000+02:00",
     "start_time": "2022-08-25T20:26:06.748Z"
    }
   },
   "outputs": [],
   "source": [
    "@assert isapprox(bw_adc_dist_shared(query_code, bw_code, adc_table_shared),\n",
    "                 adc_dist_shared(query_code, x_code, adc_table_shared))"
   ]
  },
  {
   "cell_type": "markdown",
   "id": "1c36b085",
   "metadata": {},
   "source": [
    "## Linear scann study"
   ]
  },
  {
   "cell_type": "markdown",
   "id": "832eb410",
   "metadata": {},
   "source": [
    "### Exact version"
   ]
  },
  {
   "cell_type": "code",
   "execution_count": null,
   "id": "e9f22dc5",
   "metadata": {
    "ExecuteTime": {
     "end_time": "2022-08-25T22:26:32.452000+02:00",
     "start_time": "2022-08-25T20:26:19.707Z"
    }
   },
   "outputs": [],
   "source": [
    "function Euclidean0(x, query)\n",
    "    res = zero(eltype(x))\n",
    "    @inbounds @fastmath  for j in eachindex(x)\n",
    "        aux = (query[j] - x[j])\n",
    "        res += aux * aux\n",
    "    end\n",
    "    return sqrt(res)\n",
    "end\n",
    "\n",
    "function linear_scann_exact(dist, query, X)\n",
    "\n",
    "    n_features, n_examples = size(X)\n",
    "    distances = Array{eltype(query)}(undef, n_examples)\n",
    "    \n",
    "    @inbounds @fastmath  for j in 1:n_examples\n",
    "        distances[j] = dist(query, X[:,j])    \n",
    "    end\n",
    "    return distances\n",
    "end\n",
    "\n",
    "if profile_flag\n",
    "    @benchmark linear_scann_exact(Euclidean0, query, X_tr_vecs)\n",
    "end"
   ]
  },
  {
   "cell_type": "code",
   "execution_count": null,
   "id": "4c6f17ac",
   "metadata": {
    "ExecuteTime": {
     "end_time": "2022-08-25T22:26:44.620000+02:00",
     "start_time": "2022-08-25T20:26:20.294Z"
    }
   },
   "outputs": [],
   "source": [
    "function Euclidean0(x, query)\n",
    "    res = zero(eltype(x))\n",
    "    @inbounds for j in eachindex(x)\n",
    "        aux = (query[j] - x[j])\n",
    "        res += aux * aux\n",
    "    end\n",
    "    return res\n",
    "end\n",
    "\n",
    "function linear_scann_exact(dist, query, X)\n",
    "\n",
    "    n_features, n_examples = size(X)\n",
    "    distances = Array{eltype(query)}(undef, n_examples)\n",
    "    \n",
    "    @inbounds @fastmath Threads.@threads for j in 1:n_examples\n",
    "        distances[j] = dist(query, X[:,j])    \n",
    "    end\n",
    "    return distances\n",
    "end\n",
    "\n",
    "if profile_flag\n",
    "    @benchmark linear_scann_exact(Euclidean0, query, X_tr_vecs)\n",
    "end"
   ]
  },
  {
   "cell_type": "code",
   "execution_count": null,
   "id": "4c20142e",
   "metadata": {
    "ExecuteTime": {
     "end_time": "2022-08-25T22:26:56.328000+02:00",
     "start_time": "2022-08-25T20:26:20.780Z"
    }
   },
   "outputs": [],
   "source": [
    "@inline function Euclidean0(x, query)\n",
    "    res = zero(eltype(x))\n",
    "    @inbounds @fastmath  for j in eachindex(x)\n",
    "        aux = (query[j] - x[j])\n",
    "        res += aux * aux\n",
    "    end\n",
    "    return sqrt(res)\n",
    "end\n",
    "\n",
    "function linear_scann_exact(dist, query, X)\n",
    "\n",
    "    n_features, n_examples = size(X)\n",
    "    distances = Array{eltype(query)}(undef, n_examples)\n",
    "    \n",
    "    @inbounds for j in 1:n_examples\n",
    "        distances[j] = dist(query, view(X,:,j))    \n",
    "    end\n",
    "    return distances\n",
    "end\n",
    "\n",
    "if profile_flag\n",
    "    @benchmark linear_scann_exact(Euclidean0, query, X_tr_vecs)\n",
    "end"
   ]
  },
  {
   "cell_type": "code",
   "execution_count": null,
   "id": "231284ac",
   "metadata": {},
   "outputs": [],
   "source": [
    "@benchmark linear_scann_exact(Euclidean0, query, X_tr_vecs)"
   ]
  },
  {
   "cell_type": "code",
   "execution_count": null,
   "id": "f70c1d21",
   "metadata": {},
   "outputs": [],
   "source": []
  },
  {
   "cell_type": "markdown",
   "id": "a4cd25b6",
   "metadata": {},
   "source": [
    "### ADC version"
   ]
  },
  {
   "cell_type": "code",
   "execution_count": null,
   "id": "a3dee5ff",
   "metadata": {},
   "outputs": [],
   "source": []
  },
  {
   "cell_type": "code",
   "execution_count": null,
   "id": "7a0b3199",
   "metadata": {
    "ExecuteTime": {
     "end_time": "2022-08-25T22:27:09.237000+02:00",
     "start_time": "2022-08-25T20:26:21.418Z"
    }
   },
   "outputs": [],
   "source": [
    "function linear_scann_shared(query, PQcodes, adc_table_shared, P_shared)\n",
    "    \n",
    "    query_code = encode_fast_shared(sqeuclidean, query, P_shared)\n",
    "    n_features, n_examples = size(PQcodes)\n",
    "    distances = Array{eltype(query)}(undef, n_examples)\n",
    "    \n",
    "    @inbounds @fastmath for j in 1:n_examples\n",
    "        distances[j] = adc_dist_shared(query_code,  view(PQcodes,:,j) ,  adc_table_shared)    \n",
    "    end\n",
    "    return distances\n",
    "end\n",
    "\n",
    "if profile_flag\n",
    "    @benchmark distances = linear_scann($query, $PQcodes, $adc_table_shared, $P_shared)\n",
    "end"
   ]
  },
  {
   "cell_type": "code",
   "execution_count": null,
   "id": "cfd77930",
   "metadata": {},
   "outputs": [],
   "source": [
    " @benchmark distances = linear_scann($query, $PQcodes, $adc_table_shared, $P_shared)"
   ]
  },
  {
   "cell_type": "code",
   "execution_count": null,
   "id": "93cccac7",
   "metadata": {
    "ExecuteTime": {
     "end_time": "2022-08-25T22:27:21.326000+02:00",
     "start_time": "2022-08-25T20:26:22.452Z"
    }
   },
   "outputs": [],
   "source": [
    "function linear_scann_shared_unrolled(query, PQcodes, adc_table_shared, P_shared)\n",
    "    \n",
    "    query_code = encode_fast_shared(sqeuclidean, query, P_shared)\n",
    "    n_features, n_examples = size(PQcodes)\n",
    "    distances = Array{eltype(query)}(undef, n_examples)\n",
    "    \n",
    "    @inbounds @fastmath Threads.@threads for j in 1:n_examples\n",
    "        distances[j] = adc_dist_shared_unrolled(query_code,  PQcodes[:,j] ,  adc_table_shared)    \n",
    "    end\n",
    "    return distances\n",
    "end\n",
    "\n",
    "if profile_flag\n",
    "    @benchmark distances = linear_scann_unrolled($query, $PQcodes, $adc_table_shared, $P_shared)\n",
    "end"
   ]
  },
  {
   "cell_type": "markdown",
   "id": "44ab161b",
   "metadata": {},
   "source": [
    "### ADC version with BW codes\n",
    "\n",
    "Now we will build a Matrix containing BW codes and use it to compute the ADC distance"
   ]
  },
  {
   "cell_type": "code",
   "execution_count": null,
   "id": "925218ba",
   "metadata": {
    "ExecuteTime": {
     "end_time": "2022-08-25T23:32:04.290000+02:00",
     "start_time": "2022-08-25T21:32:04.286Z"
    }
   },
   "outputs": [],
   "source": [
    "n_examples = size(X_tr_vecs,2)\n",
    "BWcodes = Array{Int8}(undef, n_clusters, n_examples);\n",
    "bw_code = pq_code_to_bw_code(x_code, n_clusters);\n",
    "\n",
    "for j in 1:n_examples\n",
    "   BWcodes[:,j] .= pq_code_to_bw_code(PQcodes_shared[:,j], n_clusters)\n",
    "end"
   ]
  },
  {
   "cell_type": "code",
   "execution_count": null,
   "id": "ca14aa44",
   "metadata": {
    "ExecuteTime": {
     "end_time": "2022-08-25T23:32:19.405000+02:00",
     "start_time": "2022-08-25T21:32:19.394Z"
    }
   },
   "outputs": [],
   "source": [
    "function bw_adc_dist_shared(query_code, bw_code,  adc_table)\n",
    "    res = zero(eltype(adc_table))\n",
    "    @inbounds @simd for j in eachindex(bw_code)\n",
    "        res+= adc_table[j] * bw_code[j]\n",
    "    end\n",
    "    return res\n",
    "end\n",
    "\n",
    "function linear_scann_bw(query, BWcodes, adc_table_shared, P_shared)\n",
    "    \n",
    "    query_code = encode_fast_shared(sqeuclidean, query, P_shared)\n",
    "    n_features, n_examples = size(BWcodes)\n",
    "    distances = Array{eltype(query)}(undef, n_examples)\n",
    "    n_clusters = size(BWcodes,1)\n",
    "    #@show n_clusters\n",
    "    @inbounds for i in 1:n_examples\n",
    "        \n",
    "        # Following code is equivalent to bw_adc_dist_shared(query_code, BWcodes[:,i],  adc_table_shared)\n",
    "        res = zero(eltype(adc_table_shared))\n",
    "        @simd for j in 1:n_clusters\n",
    "            res+= adc_table_shared[j] * BWcodes[j,i]\n",
    "        end        \n",
    "        distances[i] = res  \n",
    "    \n",
    "    end\n",
    "    return distances\n",
    "end\n",
    "\n",
    "if profile_flag\n",
    "    @benchmark linear_scann_bw($query, $BWcodes, $adc_table_shared, $P_shared)\n",
    "end"
   ]
  },
  {
   "cell_type": "code",
   "execution_count": null,
   "id": "0676c2aa",
   "metadata": {
    "ExecuteTime": {
     "end_time": "2022-08-25T22:29:34.519000+02:00",
     "start_time": "2022-08-25T20:29:23.191Z"
    }
   },
   "outputs": [],
   "source": [
    "function bw_adc_dist_shared(query_code, bw_code,  adc_table)\n",
    "    res = zero(eltype(adc_table))\n",
    "    @inbounds @simd for j in eachindex(bw_code)\n",
    "        res+= adc_table[j] * bw_code[j]\n",
    "    end\n",
    "    return res\n",
    "end\n",
    "\n",
    "function linear_scann_bw_multithreaded(query, BWcodes, adc_table_shared, P_shared)\n",
    "    \n",
    "    query_code = encode_fast_shared(sqeuclidean, query, P_shared)\n",
    "    n_features, n_examples = size(BWcodes)\n",
    "    distances = Array{eltype(query)}(undef, n_examples)\n",
    "    n_clusters = size(BWcodes,1)\n",
    "    #@show n_clusters\n",
    "    @inbounds @fastmath Threads.@threads  for i in 1:n_examples\n",
    "       distances[i] = bw_adc_dist_shared(query_code, view(BWcodes,:,i),  adc_table_shared)\n",
    "    end    \n",
    "    \n",
    "    return distances\n",
    "end\n",
    "\n",
    "if profile_flag\n",
    "    @benchmark distances = linear_scann_bw_multithreaded($query, $BWcodes, $adc_table_shared, $P_shared)\n",
    "end"
   ]
  },
  {
   "cell_type": "code",
   "execution_count": null,
   "id": "e0826b27",
   "metadata": {},
   "outputs": [],
   "source": [
    "query = X_te_vecs[:,1]\n",
    "adc_table = compute_ADC_shared(query, P_shared, euclidean)\n",
    "#pq_distances = linear_scann(query, PQcodes_test, adc_table, P);\n",
    "#closest_id = sortperm(pq_distances)[1]\n",
    "#hcat(query, X_te_vecs[:, closest_id])[1:4,:]"
   ]
  },
  {
   "cell_type": "code",
   "execution_count": null,
   "id": "f3d67b6e",
   "metadata": {},
   "outputs": [],
   "source": []
  },
  {
   "cell_type": "code",
   "execution_count": null,
   "id": "71f2dc16",
   "metadata": {},
   "outputs": [],
   "source": []
  },
  {
   "cell_type": "code",
   "execution_count": null,
   "id": "a6e61e2b",
   "metadata": {},
   "outputs": [],
   "source": []
  },
  {
   "cell_type": "code",
   "execution_count": null,
   "id": "9e784165",
   "metadata": {},
   "outputs": [],
   "source": []
  },
  {
   "cell_type": "code",
   "execution_count": null,
   "id": "931e0773",
   "metadata": {},
   "outputs": [],
   "source": []
  },
  {
   "cell_type": "code",
   "execution_count": null,
   "id": "046f81a1",
   "metadata": {},
   "outputs": [],
   "source": [
    "query = X_te_vecs[:,1]\n",
    "adc_table = compute_ADC(query, P, Euclidean0)\n",
    "pq_distances = linear_scann(query, PQcodes_test, adc_table, P);\n",
    "x_closest = vec(get_top_k_from_distances(X_te_vecs, pq_distances, 1));\n",
    "\n",
    "df_x = DataFrame(Dict(:x => x, \n",
    "                      :x_decoded => x_decoded,\n",
    "                      :x_pqcode => x_pqcode,\n",
    "                      :x_closest => x_closest\n",
    "                      ))\n",
    "\n",
    "first(df_x, 5)"
   ]
  },
  {
   "cell_type": "code",
   "execution_count": null,
   "id": "3ed0edf7",
   "metadata": {},
   "outputs": [],
   "source": []
  },
  {
   "cell_type": "code",
   "execution_count": null,
   "id": "790eff8e",
   "metadata": {},
   "outputs": [],
   "source": []
  },
  {
   "cell_type": "markdown",
   "id": "22f78a94",
   "metadata": {},
   "source": [
    "# Quality verification\n",
    "\n",
    "Let's inspect the recall of pqlinearscann with respect to exact search:"
   ]
  },
  {
   "cell_type": "code",
   "execution_count": null,
   "id": "2b51c2aa",
   "metadata": {},
   "outputs": [],
   "source": [
    "function recall(predicted, relevant, eval_at)\n",
    "    \"\"\"\n",
    "    fraction of the relevant documents that are successfully retrieved\n",
    "    \"\"\"\n",
    "    if eval_at == 0\n",
    "        return 0.0\n",
    "    end\n",
    "    \n",
    "    predicted_at_k = predicted[1:eval_at]\n",
    "    n_predicted_and_relevant =  length(intersect( Set(predicted_at_k), Set(relevant))) \n",
    "    return n_predicted_and_relevant/ length(relevant)\n",
    "end\n",
    "\n",
    "query_id = 1\n",
    "query = X_te_vecs[:,query_id];\n",
    "query_true_neighbors = true_neighbors[:,query_id]\n",
    "top_k = 100\n",
    "\n",
    "n_examples = size(X_tr_vecs,2)\n",
    "BWcodes = Array{Int8}(undef, n_clusters, n_examples);\n",
    "bw_code = pq_code_to_bw_code(x_code, n_clusters);\n",
    "\n",
    "for j in 1:n_examples\n",
    "   BWcodes[:,j] .= pq_code_to_bw_code(PQcodes_shared[:,j], n_clusters)\n",
    "end\n",
    "\n",
    "adc_table_shared  = Float32.(compute_ADC_shared(query, P_shared, euclidean));\n",
    "bw_distances = linear_scann_bw(query, BWcodes, adc_table_shared, P_shared);\n",
    "top_k_bw = sortperm(bw_distances)[1:top_k];\n"
   ]
  },
  {
   "cell_type": "code",
   "execution_count": null,
   "id": "196341c2",
   "metadata": {},
   "outputs": [],
   "source": []
  },
  {
   "cell_type": "code",
   "execution_count": null,
   "id": "f5fb8b3f",
   "metadata": {},
   "outputs": [],
   "source": []
  },
  {
   "cell_type": "code",
   "execution_count": null,
   "id": "b866c5c3",
   "metadata": {},
   "outputs": [],
   "source": []
  },
  {
   "cell_type": "code",
   "execution_count": null,
   "id": "37141203",
   "metadata": {},
   "outputs": [],
   "source": []
  },
  {
   "cell_type": "code",
   "execution_count": null,
   "id": "c1600035",
   "metadata": {},
   "outputs": [],
   "source": []
  },
  {
   "cell_type": "code",
   "execution_count": null,
   "id": "f57b95f2",
   "metadata": {},
   "outputs": [],
   "source": [
    "\n",
    "pq_distances = linear_scann(query, PQcodes, adc_table, P);\n",
    "top_k_pq = sortperm(pq_distances)[1:top_k];\n",
    "\n"
   ]
  },
  {
   "cell_type": "code",
   "execution_count": null,
   "id": "0cc4a4d8",
   "metadata": {},
   "outputs": [],
   "source": [
    "\n",
    "pq_distances = linear_scann(query, PQcodes, adc_table, P);\n",
    "top_k_pq = sortperm(pq_distances)[1:top_k];\n",
    "\n",
    "ex_distances = linear_scann_exact(query, X_tr_vecs)\n",
    "top_k_ex = sortperm(ex_distances)[1:top_k];\n",
    "\n",
    "@show recall(top_k_ex, query_true_neighbors, 100)\n",
    "@show recall(top_k_pq, query_true_neighbors, 100)\n",
    "@show recall(top_k_bw, query_true_neighbors, 100)\n",
    "\n",
    "df = DataFrame(Dict(:top_k_ex => top_k_ex,\n",
    "                    :top_k_pq => top_k_pq,\n",
    "                    :top_k_bw => top_k_bw))"
   ]
  },
  {
   "cell_type": "code",
   "execution_count": null,
   "id": "3d86f576",
   "metadata": {
    "scrolled": false
   },
   "outputs": [],
   "source": [
    "bw_distances = linear_scann_bw(query, BWcodes, adc_table_shared, P_shared);\n",
    "bw_distances"
   ]
  },
  {
   "cell_type": "code",
   "execution_count": null,
   "id": "a96b8ca3",
   "metadata": {},
   "outputs": [],
   "source": [
    "query"
   ]
  },
  {
   "cell_type": "code",
   "execution_count": null,
   "id": "0b809201",
   "metadata": {},
   "outputs": [],
   "source": [
    "PQcodes[:,1]"
   ]
  },
  {
   "cell_type": "code",
   "execution_count": null,
   "id": "e1deca0b",
   "metadata": {},
   "outputs": [],
   "source": [
    "plot(x, y)"
   ]
  },
  {
   "cell_type": "code",
   "execution_count": null,
   "id": "0160179c",
   "metadata": {},
   "outputs": [],
   "source": [
    "X_tr_vecs[:,1]"
   ]
  },
  {
   "cell_type": "code",
   "execution_count": null,
   "id": "f35cee76",
   "metadata": {},
   "outputs": [],
   "source": [
    "n = 3\n",
    "sqeuclidean(query, X_tr_vecs[:,n]) , distances[n], sqeuclidean(sqeuclidean(query, X_tr_vecs[:,n]), distances[n])"
   ]
  },
  {
   "cell_type": "code",
   "execution_count": null,
   "id": "7171b7e9",
   "metadata": {},
   "outputs": [],
   "source": [
    "n = 4\n",
    "sqeuclidean(distances[n], sqeuclidean(sqeuclidean(query, X_tr_vecs[:,n]), distances[n])"
   ]
  },
  {
   "cell_type": "code",
   "execution_count": null,
   "id": "d25fd1cb",
   "metadata": {},
   "outputs": [],
   "source": [
    "n = 1\n",
    "sqeuclidean(query, X_tr_vecs[:,n]) , distances[n], sqeuclidean(sqeuclidean(query, X_tr_vecs[:,n]), distances[n])"
   ]
  },
  {
   "cell_type": "code",
   "execution_count": null,
   "id": "1cce98c9",
   "metadata": {},
   "outputs": [],
   "source": []
  },
  {
   "cell_type": "markdown",
   "id": "ad237b8d",
   "metadata": {},
   "source": [
    "## Euclidean  Squared Distance"
   ]
  },
  {
   "cell_type": "code",
   "execution_count": null,
   "id": "33faf602",
   "metadata": {
    "ExecuteTime": {
     "end_time": "2022-08-21T22:43:50.828000+02:00",
     "start_time": "2022-08-21T20:43:40.329Z"
    }
   },
   "outputs": [],
   "source": [
    "function SEuclidean(X, query)\n",
    "    d = (query .- X) .* (query .- X)\n",
    "    return sum(d, dims=1)\n",
    "end"
   ]
  },
  {
   "cell_type": "code",
   "execution_count": null,
   "id": "724c7634",
   "metadata": {
    "ExecuteTime": {
     "end_time": "2022-08-23T00:25:06.450000+02:00",
     "start_time": "2022-08-22T22:25:06.339Z"
    }
   },
   "outputs": [],
   "source": [
    "function SEuclidean_2(X, query)\n",
    "    n_features, n_examples = size(X)\n",
    "    result = zeros(n_examples)\n",
    "    for m in 1:n_examples\n",
    "        res = zero(eltype(X))\n",
    "        for j in 1:n_features\n",
    "            aux = (query[j] .- X[j,m])\n",
    "            res += aux * aux\n",
    "        end\n",
    "        result[m] = res\n",
    "    end\n",
    "    return result\n",
    "end"
   ]
  },
  {
   "cell_type": "code",
   "execution_count": null,
   "id": "37ccaf60",
   "metadata": {
    "ExecuteTime": {
     "end_time": "2022-08-21T22:43:50.982000+02:00",
     "start_time": "2022-08-21T20:43:40.334Z"
    }
   },
   "outputs": [],
   "source": [
    "query = X_te_vecs[:,1];"
   ]
  },
  {
   "cell_type": "code",
   "execution_count": null,
   "id": "63c38b24",
   "metadata": {
    "ExecuteTime": {
     "end_time": "2022-08-21T22:44:07.309000+02:00",
     "start_time": "2022-08-21T20:43:40.337Z"
    }
   },
   "outputs": [],
   "source": [
    "@benchmark SEuclidean(X_te_vecs, query)"
   ]
  },
  {
   "cell_type": "code",
   "execution_count": null,
   "id": "48e06d68",
   "metadata": {
    "ExecuteTime": {
     "end_time": "2022-08-21T22:44:18.676000+02:00",
     "start_time": "2022-08-21T20:43:40.340Z"
    }
   },
   "outputs": [],
   "source": [
    "@benchmark SEuclidean_2(X_te_vecs, query)"
   ]
  },
  {
   "cell_type": "code",
   "execution_count": null,
   "id": "393ca973",
   "metadata": {
    "ExecuteTime": {
     "end_time": "2022-08-21T22:44:33.330000+02:00",
     "start_time": "2022-08-21T20:43:40.342Z"
    }
   },
   "outputs": [],
   "source": [
    "@benchmark SEuclidean(X_tr_vecs, query)"
   ]
  },
  {
   "cell_type": "code",
   "execution_count": null,
   "id": "162cc947",
   "metadata": {
    "ExecuteTime": {
     "end_time": "2022-08-21T22:44:45.423000+02:00",
     "start_time": "2022-08-21T20:43:40.344Z"
    }
   },
   "outputs": [],
   "source": [
    "@benchmark SEuclidean_2(X_tr_vecs, query)"
   ]
  },
  {
   "cell_type": "markdown",
   "id": "25eab1bd",
   "metadata": {},
   "source": [
    "## Finding top k distances (and their ids)\n",
    "\n",
    "\n",
    "The first naive thing we can do consist on computing all distances and then sorting them to get the top k closest vectors to the query vector"
   ]
  },
  {
   "cell_type": "code",
   "execution_count": null,
   "id": "35aa29a0",
   "metadata": {
    "ExecuteTime": {
     "end_time": "2022-08-21T22:44:45.530000+02:00",
     "start_time": "2022-08-21T20:43:40.347Z"
    }
   },
   "outputs": [],
   "source": [
    "function top_k_ids(X, query)\n",
    "    distances = SEuclidean_2(X, query)\n",
    "    top_k_indices = sortperm(distances)\n",
    "    return top_k_indices\n",
    "end"
   ]
  },
  {
   "cell_type": "code",
   "execution_count": null,
   "id": "419fe8f4",
   "metadata": {
    "ExecuteTime": {
     "end_time": "2022-08-21T22:44:56.949000+02:00",
     "start_time": "2022-08-21T20:43:40.350Z"
    }
   },
   "outputs": [],
   "source": [
    "@benchmark top_k_ids(X_te_vecs, query)[1:10]"
   ]
  },
  {
   "cell_type": "markdown",
   "id": "52713791",
   "metadata": {},
   "source": [
    "A slightly better approach consist on using `partialsortperm` to simply sort a subset of the distances vector."
   ]
  },
  {
   "cell_type": "code",
   "execution_count": null,
   "id": "dc886ca6",
   "metadata": {
    "ExecuteTime": {
     "end_time": "2022-08-21T22:44:57.064000+02:00",
     "start_time": "2022-08-21T20:43:40.354Z"
    },
    "scrolled": true
   },
   "outputs": [],
   "source": [
    "function top_k_ids_2(X, query, k)\n",
    "    distances = SEuclidean_2(X, query)\n",
    "    top_k_indices = partialsortperm(distances, 1:k)\n",
    "    return top_k_indices\n",
    "end"
   ]
  },
  {
   "cell_type": "code",
   "execution_count": null,
   "id": "af71f04b",
   "metadata": {
    "ExecuteTime": {
     "end_time": "2022-08-21T22:45:09.155000+02:00",
     "start_time": "2022-08-21T20:43:40.356Z"
    },
    "scrolled": true
   },
   "outputs": [],
   "source": [
    "@benchmark top_k_ids_2(X_te_vecs, query, 10)"
   ]
  },
  {
   "cell_type": "markdown",
   "id": "4ad73a18",
   "metadata": {},
   "source": [
    "### Storing top k distances in a priority queue\n",
    "\n",
    "A better alternative consists on using a priority queue. This. queue will keep only k distances in memory (no need to store all distances between the query point and all possible candidates)."
   ]
  },
  {
   "cell_type": "code",
   "execution_count": null,
   "id": "22936250",
   "metadata": {
    "ExecuteTime": {
     "end_time": "2022-08-21T22:45:10.625000+02:00",
     "start_time": "2022-08-21T20:43:40.359Z"
    }
   },
   "outputs": [],
   "source": [
    "sort!([1,54,3,24,10])"
   ]
  },
  {
   "cell_type": "code",
   "execution_count": null,
   "id": "2ddd66a9",
   "metadata": {
    "ExecuteTime": {
     "end_time": "2022-08-21T22:45:10.628000+02:00",
     "start_time": "2022-08-21T20:43:40.361Z"
    }
   },
   "outputs": [],
   "source": [
    "a = [1,2,3,4,5]"
   ]
  },
  {
   "cell_type": "code",
   "execution_count": null,
   "id": "55e6429d",
   "metadata": {
    "ExecuteTime": {
     "end_time": "2022-08-21T22:45:10.736000+02:00",
     "start_time": "2022-08-21T20:43:40.363Z"
    }
   },
   "outputs": [],
   "source": [
    "function SEuclidean_3(X, query, top_k)\n",
    "    result = sort(SEuclidean_2(X[:, 1:top_k], query))\n",
    "    n_features, n_examples = size(X)\n",
    "    \n",
    "    for m in top_k:n_examples\n",
    "        res = zero(eltype(X))\n",
    "        for j in 1:n_features\n",
    "            aux = (query[j] .- X[j,m])\n",
    "            res += aux * aux\n",
    "        end\n",
    "        dist = res/n_features\n",
    "        \n",
    "        # see if current mse is in the top pile\n",
    "        if dist < result[end]\n",
    "            j = top_k \n",
    "            #revisamos la lista resultado de izq a derecha\n",
    "            while dist < result[j-1]\n",
    "                j = j-1\n",
    "                if j == 1\n",
    "                    break\n",
    "                end\n",
    "            end\n",
    "            \n",
    "            result[j+1:end] .= result[j:end-1]\n",
    "            result[j] = dist\n",
    "         end\n",
    "\n",
    "    end\n",
    "    return result\n",
    "end"
   ]
  },
  {
   "cell_type": "code",
   "execution_count": null,
   "id": "e7e04d31",
   "metadata": {
    "ExecuteTime": {
     "end_time": "2022-08-21T22:45:22.967000+02:00",
     "start_time": "2022-08-21T20:43:40.365Z"
    }
   },
   "outputs": [],
   "source": [
    "@benchmark SEuclidean_3(X_tr_vecs, query, 10) "
   ]
  },
  {
   "cell_type": "code",
   "execution_count": null,
   "id": "7d8bf421",
   "metadata": {
    "ExecuteTime": {
     "end_time": "2022-08-21T22:45:35.596000+02:00",
     "start_time": "2022-08-21T20:43:40.368Z"
    }
   },
   "outputs": [],
   "source": [
    "@benchmark top_k_ids_2(X_tr_vecs, query, 10)"
   ]
  },
  {
   "cell_type": "code",
   "execution_count": null,
   "id": "e9af1fba",
   "metadata": {
    "ExecuteTime": {
     "end_time": "2022-08-21T22:45:35.709000+02:00",
     "start_time": "2022-08-21T20:43:40.372Z"
    }
   },
   "outputs": [],
   "source": [
    "function SEuclidean_4(X, query, top_k)\n",
    "    \n",
    "    result = sort(SEuclidean_2(X[:, 1:top_k], query))\n",
    "    n_features, n_examples = size(X)\n",
    "    \n",
    "    @inbounds @fastmath for m in top_k:n_examples\n",
    "        res = zero(eltype(X))\n",
    "        @simd for j in 1:n_features\n",
    "            aux = (query[j] .- X[j,m])\n",
    "            res += aux * aux\n",
    "        end\n",
    "        dist = res\n",
    "        \n",
    "        # see if current mse is in the top pile\n",
    "        if dist < result[end]\n",
    "            j = top_k \n",
    "            #revisamos la lista resultado de izq a derecha\n",
    "            while dist < result[j-1]\n",
    "                j = j-1\n",
    "                if j == 1\n",
    "                    break\n",
    "                end\n",
    "            end            \n",
    "            result[j+1:end] .= result[j:end-1]\n",
    "            result[j] = dist\n",
    "         end\n",
    "    end\n",
    "    return result\n",
    "end\n"
   ]
  },
  {
   "cell_type": "code",
   "execution_count": null,
   "id": "d7244a94",
   "metadata": {
    "ExecuteTime": {
     "end_time": "2022-08-21T22:45:47.475000+02:00",
     "start_time": "2022-08-21T20:43:40.374Z"
    }
   },
   "outputs": [],
   "source": [
    "@benchmark SEuclidean_4(X_tr_vecs, query, 10) "
   ]
  },
  {
   "cell_type": "code",
   "execution_count": null,
   "id": "fc0fa386",
   "metadata": {
    "ExecuteTime": {
     "end_time": "2022-08-21T22:45:58.767000+02:00",
     "start_time": "2022-08-21T20:43:40.376Z"
    }
   },
   "outputs": [],
   "source": [
    "X_tr_200k = X_tr_vecs[:,1:200_000]\n",
    "@benchmark SEuclidean_4(X_tr_200k, query, 10) "
   ]
  },
  {
   "cell_type": "code",
   "execution_count": null,
   "id": "e1a8902b",
   "metadata": {
    "ExecuteTime": {
     "end_time": "2022-08-21T22:45:59.322000+02:00",
     "start_time": "2022-08-21T20:43:40.378Z"
    },
    "scrolled": true
   },
   "outputs": [],
   "source": [
    "SEuclidean_4(X_tr_vecs, query, 10)"
   ]
  },
  {
   "cell_type": "code",
   "execution_count": null,
   "id": "e0309ffe",
   "metadata": {
    "ExecuteTime": {
     "end_time": "2022-08-21T22:46:05.344000+02:00",
     "start_time": "2022-08-21T20:43:40.381Z"
    },
    "scrolled": true
   },
   "outputs": [],
   "source": [
    "function SEuclidean_5(X, query, top_k)\n",
    "    \n",
    "    result = sort(SEuclidean_2(X[:, 1:top_k], query))\n",
    "    n_features, n_examples = size(X)\n",
    "    \n",
    "    for m in top_k:n_examples\n",
    "        res = zero(eltype(X))\n",
    "        @turbo  for j in 1:n_features\n",
    "            aux = (query[j] - X[j,m])\n",
    "            res += aux * aux\n",
    "        end\n",
    "        dist = res\n",
    "        \n",
    "        # see if current mse is in the top pile\n",
    "        if dist < result[end]\n",
    "            j = top_k \n",
    "            #revisamos la lista resultado de izq a derecha\n",
    "            while dist < result[j-1]\n",
    "                j = j-1\n",
    "                if j == 1\n",
    "                    break\n",
    "                end\n",
    "            end            \n",
    "            result[j+1:end] .= result[j:end-1]\n",
    "            result[j] = dist\n",
    "         end\n",
    "    end\n",
    "    return result\n",
    "end"
   ]
  },
  {
   "cell_type": "code",
   "execution_count": null,
   "id": "46172a52",
   "metadata": {
    "ExecuteTime": {
     "end_time": "2022-08-21T22:46:29.789000+02:00",
     "start_time": "2022-08-21T20:43:40.383Z"
    },
    "scrolled": true
   },
   "outputs": [],
   "source": [
    "@benchmark SEuclidean_5(X_tr_200k, query, 10) "
   ]
  },
  {
   "cell_type": "markdown",
   "id": "bad1d4a7",
   "metadata": {},
   "source": [
    "# Comparison with Distances.jl\n",
    "\n",
    "\n",
    "Distances.jl provides the method 'pairwise' to compute pairwise distances between two matrices."
   ]
  },
  {
   "cell_type": "code",
   "execution_count": null,
   "id": "7b260685",
   "metadata": {
    "ExecuteTime": {
     "end_time": "2022-08-21T22:46:29.822000+02:00",
     "start_time": "2022-08-21T20:43:40.387Z"
    },
    "scrolled": true
   },
   "outputs": [],
   "source": [
    "@show typeof(query)\n",
    "@show size(query)\n",
    "@show typeof(X_tr_vecs)\n",
    "@show size(X_tr_vecs)"
   ]
  },
  {
   "cell_type": "code",
   "execution_count": null,
   "id": "3f89e423",
   "metadata": {
    "ExecuteTime": {
     "end_time": "2022-08-21T22:46:30.937000+02:00",
     "start_time": "2022-08-21T20:43:40.389Z"
    }
   },
   "outputs": [],
   "source": [
    "v1 = [1,2,3]\n",
    "v2 = [0,0,1]\n",
    "\n",
    "y = [0,0,2]\n",
    "X = [v1 v2]"
   ]
  },
  {
   "cell_type": "code",
   "execution_count": null,
   "id": "f3a85adc",
   "metadata": {
    "ExecuteTime": {
     "end_time": "2022-08-21T22:46:30.946000+02:00",
     "start_time": "2022-08-21T20:43:40.391Z"
    }
   },
   "outputs": [],
   "source": [
    "function SEuclidean_5(X, query, top_k)\n",
    "    \n",
    "    result = sort(SEuclidean_5(X[:, 1:top_k], query))\n",
    "    n_features, n_examples = size(X)\n",
    "    \n",
    "    for m in top_k:n_examples\n",
    "        dist = zero(eltype(X))\n",
    "        @turbo  for j in 1:n_features\n",
    "            dist = (query[j] - X[j,m])\n",
    "            dist += aux * aux\n",
    "        end\n",
    "        \n",
    "        # see if current mse is in the top pile\n",
    "        if dist < result[end]\n",
    "            j = top_k \n",
    "            #revisamos la lista resultado de izq a derecha\n",
    "            while dist < result[j-1]\n",
    "                j = j-1\n",
    "                if j == 1\n",
    "                    break\n",
    "                end\n",
    "            end            \n",
    "            result[j+1:end] .= result[j:end-1]\n",
    "            result[j] = dist\n",
    "         end\n",
    "    end\n",
    "    return result\n",
    "end"
   ]
  },
  {
   "cell_type": "code",
   "execution_count": null,
   "id": "fb6acc9f",
   "metadata": {
    "ExecuteTime": {
     "end_time": "2022-08-21T22:46:30.950000+02:00",
     "start_time": "2022-08-21T20:43:40.393Z"
    }
   },
   "outputs": [],
   "source": [
    "function SEuclidean_2(X, query)\n",
    "    n_features, n_examples = size(X)\n",
    "    result = zeros(eltype(X), n_examples)\n",
    "    for m in 1:n_examples\n",
    "        res = zero(eltype(X))\n",
    "        for j in 1:n_features\n",
    "            aux = (query[j] .- X[j,m])\n",
    "            res += aux * aux\n",
    "        end\n",
    "        result[m] = res\n",
    "    end\n",
    "    return result\n",
    "end"
   ]
  },
  {
   "cell_type": "code",
   "execution_count": null,
   "id": "430436b6",
   "metadata": {
    "ExecuteTime": {
     "end_time": "2022-08-23T23:24:45.697000+02:00",
     "start_time": "2022-08-23T21:24:45.677Z"
    }
   },
   "outputs": [],
   "source": [
    "y_colvec = [y y][:,[1]]\n",
    "query_mat = [query query][:,[1]];"
   ]
  },
  {
   "cell_type": "code",
   "execution_count": null,
   "id": "3d6f4686",
   "metadata": {
    "ExecuteTime": {
     "end_time": "2022-08-21T22:46:31.146000+02:00",
     "start_time": "2022-08-21T20:43:40.397Z"
    }
   },
   "outputs": [],
   "source": [
    "SEuclidean_2(X, y)"
   ]
  },
  {
   "cell_type": "code",
   "execution_count": null,
   "id": "6a8f17f8",
   "metadata": {
    "ExecuteTime": {
     "end_time": "2022-08-21T22:46:32.220000+02:00",
     "start_time": "2022-08-21T20:43:40.399Z"
    }
   },
   "outputs": [],
   "source": [
    "pairwise(SqEuclidean(), y_colvec, X)"
   ]
  },
  {
   "cell_type": "code",
   "execution_count": null,
   "id": "f83dc2f1",
   "metadata": {
    "ExecuteTime": {
     "end_time": "2022-08-21T22:46:48.093000+02:00",
     "start_time": "2022-08-21T20:43:40.406Z"
    }
   },
   "outputs": [],
   "source": [
    "@benchmark pairwise(SqEuclidean(), query_mat, X_tr_vecs)"
   ]
  },
  {
   "cell_type": "code",
   "execution_count": null,
   "id": "676611a3",
   "metadata": {
    "ExecuteTime": {
     "end_time": "2022-08-21T22:47:00.160000+02:00",
     "start_time": "2022-08-21T20:43:40.408Z"
    }
   },
   "outputs": [],
   "source": [
    "@benchmark SEuclidean_2(X_tr_vecs, query)"
   ]
  },
  {
   "cell_type": "code",
   "execution_count": null,
   "id": "944731d5",
   "metadata": {
    "ExecuteTime": {
     "end_time": "2022-08-21T22:47:12.235000+02:00",
     "start_time": "2022-08-21T20:43:40.410Z"
    },
    "scrolled": true
   },
   "outputs": [],
   "source": [
    "@benchmark SEuclidean_4(X_tr_vecs, query, 10)"
   ]
  },
  {
   "cell_type": "markdown",
   "id": "887de048",
   "metadata": {},
   "source": [
    "We can verify that the sorted distances by `SEuclidean_4` are the same as the results provided with `pairwise` from `Distances.jl`"
   ]
  },
  {
   "cell_type": "code",
   "execution_count": null,
   "id": "a5ebdbeb",
   "metadata": {
    "ExecuteTime": {
     "end_time": "2022-08-21T22:47:12.965000+02:00",
     "start_time": "2022-08-21T20:43:40.412Z"
    }
   },
   "outputs": [],
   "source": [
    "res2 = SEuclidean_4(X_tr_vecs, query, 10);\n",
    "res = pairwise(SqEuclidean(), query_mat, X_tr_vecs)\n",
    "res = sort(res, dims=2)[1:10]\n",
    "res == res2"
   ]
  },
  {
   "cell_type": "markdown",
   "id": "844364e0",
   "metadata": {
    "ExecuteTime": {
     "end_time": "2022-08-21T22:20:19.731000+02:00",
     "start_time": "2022-08-21T20:20:19.269Z"
    }
   },
   "source": [
    "## Parallel implementation"
   ]
  },
  {
   "cell_type": "code",
   "execution_count": null,
   "id": "30d1267b",
   "metadata": {},
   "outputs": [],
   "source": []
  },
  {
   "cell_type": "code",
   "execution_count": null,
   "id": "2ec67e5c",
   "metadata": {},
   "outputs": [],
   "source": []
  },
  {
   "cell_type": "code",
   "execution_count": null,
   "id": "7af757b8",
   "metadata": {},
   "outputs": [],
   "source": []
  },
  {
   "cell_type": "markdown",
   "id": "8bd05788",
   "metadata": {},
   "source": [
    "# SIMD tests"
   ]
  },
  {
   "cell_type": "code",
   "execution_count": null,
   "id": "2cd82b22",
   "metadata": {
    "ExecuteTime": {
     "end_time": "2022-08-21T22:47:13.063000+02:00",
     "start_time": "2022-08-21T20:43:40.419Z"
    }
   },
   "outputs": [],
   "source": [
    "\n",
    "function find_val_in_array_simd(x::Array{T}, val::T) where {T}\n",
    "    n_simd = 64\n",
    "    last_pos_simd_chunk = length(x)-n_simd\n",
    "    @inbounds for i in 1:n_simd:last_pos_simd_chunk\n",
    "        vec_i = vload(Vec{n_simd, T}, x, i)\n",
    "        sum_equality = sum(vec_i == val)\n",
    "        if sum_equality >0\n",
    "            return true\n",
    "        end\n",
    "    end\n",
    "\n",
    "    @inbounds for i in last_pos_simd_chunk:length(x)\n",
    "        if x[i] == val\n",
    "            return true\n",
    "        end\n",
    "    end\n",
    "\n",
    "    return false\n",
    "end"
   ]
  },
  {
   "cell_type": "code",
   "execution_count": null,
   "id": "35ecee2b",
   "metadata": {
    "ExecuteTime": {
     "end_time": "2022-08-21T22:47:13.183000+02:00",
     "start_time": "2022-08-21T20:43:40.422Z"
    }
   },
   "outputs": [],
   "source": [
    "function jdotavx(a, b)\n",
    "    s = zero(eltype(a))\n",
    "    @turbo for i ∈ eachindex(a, b)\n",
    "        s += a[i] * b[i]\n",
    "    end\n",
    "    s\n",
    "end"
   ]
  },
  {
   "cell_type": "code",
   "execution_count": null,
   "id": "b53ce65a",
   "metadata": {},
   "outputs": [],
   "source": []
  }
 ],
 "metadata": {
  "kernelspec": {
   "display_name": "Julia 1.8.0",
   "language": "julia",
   "name": "julia-1.8"
  },
  "language_info": {
   "file_extension": ".jl",
   "mimetype": "application/julia",
   "name": "julia",
   "version": "1.8.0"
  },
  "toc": {
   "base_numbering": 1,
   "nav_menu": {},
   "number_sections": true,
   "sideBar": true,
   "skip_h1_title": false,
   "title_cell": "Table of Contents",
   "title_sidebar": "Contents",
   "toc_cell": false,
   "toc_position": {},
   "toc_section_display": true,
   "toc_window_display": false
  }
 },
 "nbformat": 4,
 "nbformat_minor": 5
}
