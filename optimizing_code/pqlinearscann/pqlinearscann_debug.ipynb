{
 "cells": [
  {
   "cell_type": "markdown",
   "id": "7c2e3113",
   "metadata": {},
   "source": [
    "# Read SIFT 1 million "
   ]
  },
  {
   "cell_type": "code",
   "execution_count": 710,
   "id": "88c8c554",
   "metadata": {
    "ExecuteTime": {
     "end_time": "2022-08-25T22:20:57.787000+02:00",
     "start_time": "2022-08-25T20:20:50.054Z"
    }
   },
   "outputs": [],
   "source": [
    "using HDF5\n",
    "using BenchmarkTools\n",
    "using Distances\n",
    "using LoopVectorization\n",
    "using SIMD\n",
    "using Clustering\n",
    "using ProgressMeter\n",
    "using StaticArrays\n",
    "using DataFrames\n",
    "using Plots"
   ]
  },
  {
   "cell_type": "code",
   "execution_count": 711,
   "id": "5c8425bb",
   "metadata": {
    "ExecuteTime": {
     "end_time": "2022-08-25T22:20:59.059000+02:00",
     "start_time": "2022-08-25T20:20:50.603Z"
    }
   },
   "outputs": [
    {
     "data": {
      "text/plain": [
       "\"Apple M1 Pro\""
      ]
     },
     "execution_count": 711,
     "metadata": {},
     "output_type": "execute_result"
    }
   ],
   "source": [
    "profile_flag = false\n",
    "Sys.cpu_info()[1].model"
   ]
  },
  {
   "cell_type": "code",
   "execution_count": 712,
   "id": "cece13ba",
   "metadata": {
    "ExecuteTime": {
     "end_time": "2022-08-25T22:20:59.063000+02:00",
     "start_time": "2022-08-25T20:20:51.188Z"
    }
   },
   "outputs": [
    {
     "data": {
      "text/plain": [
       "\"/Users/dbuchaca/Datasets/SIFT1M/sift-128-euclidean.hdf5\""
      ]
     },
     "execution_count": 712,
     "metadata": {},
     "output_type": "execute_result"
    }
   ],
   "source": [
    "path = joinpath(homedir(), \"Datasets\", \"SIFT1M\",  \"sift-128-euclidean.hdf5\")"
   ]
  },
  {
   "cell_type": "code",
   "execution_count": 713,
   "id": "c1e88b49",
   "metadata": {
    "ExecuteTime": {
     "end_time": "2022-08-25T22:21:03.628000+02:00",
     "start_time": "2022-08-25T20:20:53.263Z"
    },
    "scrolled": true
   },
   "outputs": [
    {
     "name": "stdout",
     "output_type": "stream",
     "text": [
      "size(X_tr_vecs) = (128, 1000000)\n",
      "size(X_te_vecs) = (128, 10000)\n",
      "size(true_neighbors) = (100, 10000)\n",
      "size(true_distances) = (100, 10000)\n"
     ]
    },
    {
     "data": {
      "text/plain": [
       "(100, 10000)"
      ]
     },
     "execution_count": 713,
     "metadata": {},
     "output_type": "execute_result"
    }
   ],
   "source": [
    "f = h5open(path, \"r\")\n",
    "\n",
    "X_tr_vecs = read(f[\"train\"])\n",
    "X_te_vecs = read(f[\"test\"]);\n",
    "true_neighbors = read(f[\"neighbors\"])\n",
    "true_distances = read(f[\"distances\"])\n",
    "\n",
    "true_neighbors .= true_neighbors .+ 1;\n",
    "\n",
    "@show size(X_tr_vecs)\n",
    "@show size(X_te_vecs)\n",
    "@show size(true_neighbors)\n",
    "@show size(true_distances)"
   ]
  },
  {
   "cell_type": "markdown",
   "id": "0c076291",
   "metadata": {},
   "source": [
    "## Clustering.jl\n",
    "\n",
    "Create the pqcodes for the training points"
   ]
  },
  {
   "cell_type": "code",
   "execution_count": 714,
   "id": "dd3d08ab",
   "metadata": {
    "ExecuteTime": {
     "end_time": "2022-08-25T22:21:03.876000+02:00",
     "start_time": "2022-08-25T20:20:54.505Z"
    }
   },
   "outputs": [
    {
     "name": "stderr",
     "output_type": "stream",
     "text": [
      "\u001b[32mProgress: 100%|█████████████████████████████████████████| Time: 0:02:40\u001b[39m\n"
     ]
    }
   ],
   "source": [
    "n_features = size(X_tr_vecs,1)\n",
    "n_clusters = 32\n",
    "R_per_feature = []\n",
    "\n",
    "@showprogress for j in  1:n_features\n",
    "    R = kmeans(X_tr_vecs[[j],:], n_clusters; maxiter=200)\n",
    "    push!(R_per_feature, R)\n",
    "end"
   ]
  },
  {
   "cell_type": "code",
   "execution_count": 1104,
   "id": "369efb23",
   "metadata": {
    "ExecuteTime": {
     "end_time": "2022-08-25T22:23:55.337000+02:00",
     "start_time": "2022-08-25T20:21:11.967Z"
    },
    "scrolled": true
   },
   "outputs": [
    {
     "name": "stdout",
     "output_type": "stream",
     "text": [
      "Float32[0.22927776, 141.73946, 42.455154, 83.46414, 21.489227, 121.49573, 28.951014, 111.161705, 10.426989, 58.44279, 33.95053, 97.429085, 52.43881, 103.97232, 73.453156, 132.03961, 3.9273367, 2.0, 38.468975, 78.937996, 6.9644637, 13.964964, 91.959656, 117.058464, 24.462994, 125.92032, 46.94962, 19.490341, 16.974878, 68.46652, 63.950676, 87.47854]\n",
      "(32, 128)\n"
     ]
    }
   ],
   "source": [
    "P = hcat([r.centers[:] for r in R_per_feature]...);\n",
    "println(P[:,1])\n",
    "println(size(P))"
   ]
  },
  {
   "cell_type": "code",
   "execution_count": 1105,
   "id": "09b3d2b6",
   "metadata": {
    "ExecuteTime": {
     "end_time": "2022-08-25T22:23:55.393000+02:00",
     "start_time": "2022-08-25T20:21:12.860Z"
    }
   },
   "outputs": [
    {
     "name": "stdout",
     "output_type": "stream",
     "text": [
      "Float32[0.22927776, 141.73946, 42.455154, 83.46414, 21.489227, 121.49573, 28.951014, 111.161705, 10.426989, 58.44279, 33.95053, 97.429085, 52.43881, 103.97232, 73.453156, 132.03961, 3.9273367, 2.0, 38.468975, 78.937996, 6.9644637, 13.964964, 91.959656, 117.058464, 24.462994, 125.92032, 46.94962, 19.490341, 16.974878, 68.46652, 63.950676, 87.47854]\n",
      "(32, 128)\n"
     ]
    }
   ],
   "source": [
    "P = hcat([r.centers[:] for r in R_per_feature]...);\n",
    "println(P[:,1])\n",
    "println(size(P))"
   ]
  },
  {
   "cell_type": "code",
   "execution_count": 1106,
   "id": "30f62137",
   "metadata": {
    "ExecuteTime": {
     "end_time": "2022-08-25T22:24:07.151000+02:00",
     "start_time": "2022-08-25T20:21:13.512Z"
    }
   },
   "outputs": [],
   "source": [
    "if profile_flag\n",
    "    @benchmark P = hcat([r.centers[:] for r in R_per_feature]...)\n",
    "end"
   ]
  },
  {
   "cell_type": "markdown",
   "id": "7c259328",
   "metadata": {},
   "source": [
    "Another way to construct the matrix would be"
   ]
  },
  {
   "cell_type": "code",
   "execution_count": 1107,
   "id": "2d1b602a",
   "metadata": {
    "ExecuteTime": {
     "end_time": "2022-08-25T22:24:07.372000+02:00",
     "start_time": "2022-08-25T20:21:14.349Z"
    }
   },
   "outputs": [],
   "source": [
    "function build_prototype_matrix(R, n_clusters, n_features)\n",
    "    \n",
    "    prototypes = Array{Float32}(undef, n_clusters, n_features);\n",
    "    for j in 1:n_features\n",
    "        prototypes[:,j] .= vec(R_per_feature[j].centers)\n",
    "    end\n",
    "    return prototypes\n",
    "end\n",
    "\n",
    "if profile_flag\n",
    "    @benchmark P = build_prototype_matrix(R_per_feature, n_clusters, n_features)\n",
    "end"
   ]
  },
  {
   "cell_type": "code",
   "execution_count": 1108,
   "id": "7eae2159",
   "metadata": {
    "ExecuteTime": {
     "end_time": "2022-08-25T22:24:14.829000+02:00",
     "start_time": "2022-08-25T20:21:15.659Z"
    }
   },
   "outputs": [
    {
     "data": {
      "text/plain": [
       "true"
      ]
     },
     "execution_count": 1108,
     "metadata": {},
     "output_type": "execute_result"
    }
   ],
   "source": [
    "P2 = build_prototype_matrix(R_per_feature, n_clusters, n_features);\n",
    "isapprox(P, P2)"
   ]
  },
  {
   "cell_type": "markdown",
   "id": "254cc3af",
   "metadata": {},
   "source": [
    "We can generate the PQcodes for the data as follows:"
   ]
  },
  {
   "cell_type": "code",
   "execution_count": 1109,
   "id": "0fc26f97",
   "metadata": {
    "ExecuteTime": {
     "end_time": "2022-08-25T22:24:18.056000+02:00",
     "start_time": "2022-08-25T20:21:17.062Z"
    }
   },
   "outputs": [
    {
     "data": {
      "text/plain": [
       "(128, 1000000)"
      ]
     },
     "execution_count": 1109,
     "metadata": {},
     "output_type": "execute_result"
    }
   ],
   "source": [
    "PQcodes = hcat([Int32.(r.assignments[:]) for r in R_per_feature]...)';\n",
    "size(PQcodes)"
   ]
  },
  {
   "cell_type": "markdown",
   "id": "25820db5",
   "metadata": {},
   "source": [
    "Here each vector prototype is in fact a single scalar (because subvectors have a single coordinate)"
   ]
  },
  {
   "cell_type": "code",
   "execution_count": 1110,
   "id": "68865753",
   "metadata": {
    "ExecuteTime": {
     "end_time": "2022-08-25T22:24:18.066000+02:00",
     "start_time": "2022-08-25T20:21:18.602Z"
    }
   },
   "outputs": [
    {
     "data": {
      "text/plain": [
       "(32, 128)"
      ]
     },
     "execution_count": 1110,
     "metadata": {},
     "output_type": "execute_result"
    }
   ],
   "source": [
    "size(P)"
   ]
  },
  {
   "cell_type": "markdown",
   "id": "695f9699",
   "metadata": {},
   "source": [
    "We need a method to, given a vector and a collection of prototypes per feature, find which are the closest"
   ]
  },
  {
   "cell_type": "code",
   "execution_count": 1111,
   "id": "3a9070eb",
   "metadata": {
    "ExecuteTime": {
     "end_time": "2022-08-25T22:24:18.768000+02:00",
     "start_time": "2022-08-25T20:21:21.230Z"
    }
   },
   "outputs": [],
   "source": [
    "\n",
    "@inline function seuclidean(x::T,y::T) where {T}\n",
    "    aux::T = (x - y)\n",
    "    return aux * aux\n",
    "end\n",
    "\n",
    "@inline function euclidean(x::T,y::T) where {T}\n",
    "    aux::T = (x - y)\n",
    "    return sqrt(aux * aux)\n",
    "end\n",
    "\n",
    "function find_closest_coordinate(dist, \n",
    "                                 value::T,\n",
    "                                 vector) where T\n",
    "    best_coordinate = 1\n",
    "    min_distance::T = typemax(T)\n",
    "    for (j,x) in enumerate(vector)\n",
    "        current_dist = dist(x, value)\n",
    "        if current_dist < min_distance\n",
    "            best_coordinate = j\n",
    "            min_distance = current_dist\n",
    "        end\n",
    "    end\n",
    "    return best_coordinate\n",
    "end\n",
    "\n",
    "query = X_te_vecs[:,1];\n",
    "closest_prototypes = Array{UInt8}(undef, n_features, 1);\n",
    "\n",
    "if profile_flag\n",
    "    @benchmark find_closest_coordinate(euclidean, Float32(48.), query)\n",
    "end"
   ]
  },
  {
   "cell_type": "code",
   "execution_count": 1112,
   "id": "80e21b6a",
   "metadata": {
    "ExecuteTime": {
     "end_time": "2022-08-25T22:24:21.713000+02:00",
     "start_time": "2022-08-25T20:21:23.040Z"
    }
   },
   "outputs": [],
   "source": [
    "@assert 3 == find_closest_coordinate(euclidean, 2., [3.,5,2,1])\n",
    "\n",
    "@assert 4 == find_closest_coordinate(euclidean, 1., [3.,5,2,1])"
   ]
  },
  {
   "cell_type": "code",
   "execution_count": 1113,
   "id": "7599adc7",
   "metadata": {
    "ExecuteTime": {
     "end_time": "2022-08-25T22:24:21.809000+02:00",
     "start_time": "2022-08-25T20:21:23.849Z"
    }
   },
   "outputs": [],
   "source": [
    "function encode(dist, vector, prototypes)\n",
    "    closest_prototypes = Array{Int8}(undef, n_features, 1);\n",
    "    @inbounds for (j,x) in enumerate(vector)\n",
    "        closest_prototypes[j] = find_closest_coordinate(dist, x, prototypes[:,j])\n",
    "    end\n",
    "    return closest_prototypes\n",
    "end\n",
    "\n",
    "if profile_flag\n",
    "    @benchmark encode(euclidean, query, P)\n",
    "end"
   ]
  },
  {
   "cell_type": "code",
   "execution_count": 1114,
   "id": "234786b0",
   "metadata": {},
   "outputs": [],
   "source": [
    "n_features, n_examples_test = size(X_te_vecs)\n",
    "\n",
    "PQcodes_test = Array{Int16}(undef, n_features, n_examples_test);\n",
    "\n",
    "for j in 1:n_examples_test\n",
    "    PQcodes_test[:,j] = encode(euclidean, X_te_vecs[:,j] , P)  \n",
    "end"
   ]
  },
  {
   "cell_type": "code",
   "execution_count": 1115,
   "id": "493cb742",
   "metadata": {
    "ExecuteTime": {
     "end_time": "2022-08-25T22:24:29.056000+02:00",
     "start_time": "2022-08-25T20:21:27.795Z"
    }
   },
   "outputs": [],
   "source": [
    "function encode_fast(dist, vector::Array{T}, prototypes::Array{T}) where T\n",
    "    n_clusters, n_features = size(prototypes)\n",
    "    closest_prototypes = Array{Int8}(undef, n_features, 1);\n",
    "    \n",
    "    @inbounds for (j,x) in enumerate(vector)\n",
    "        best_coordinate = 1\n",
    "        min_distance::T = typemax(T)\n",
    "        for k in 1:n_clusters\n",
    "           current_dist = dist(prototypes[k,j],x )\n",
    "           if current_dist < min_distance\n",
    "               best_coordinate = k\n",
    "               min_distance = current_dist\n",
    "           end\n",
    "           #println(k, ' ', j, ' ', best_coordinate, ' ',min_distance )\n",
    "        end            \n",
    "        closest_prototypes[j] = best_coordinate\n",
    "    end\n",
    "    return closest_prototypes\n",
    "end\n",
    "\n",
    "@assert isapprox(encode(euclidean, query, P),\n",
    "                 encode_fast(euclidean, query, P))\n",
    "\n",
    "if profile_flag\n",
    "    @benchmark encode_fast(euclidean, query, P)\n",
    "end"
   ]
  },
  {
   "cell_type": "code",
   "execution_count": 1116,
   "id": "aba9fbbf",
   "metadata": {
    "ExecuteTime": {
     "end_time": "2022-08-25T22:24:29.196000+02:00",
     "start_time": "2022-08-25T20:21:29.446Z"
    }
   },
   "outputs": [
    {
     "name": "stdout",
     "output_type": "stream",
     "text": [
      "1\n",
      "32\n",
      "1\n"
     ]
    },
    {
     "ename": "LoadError",
     "evalue": "syntax: more than one semicolon in argument list around In[1116]:4",
     "output_type": "error",
     "traceback": [
      "syntax: more than one semicolon in argument list around In[1116]:4",
      "",
      "Stacktrace:",
      " [1] top-level scope",
      "   @ In[1116]:4",
      " [2] eval",
      "   @ ./boot.jl:368 [inlined]",
      " [3] include_string(mapexpr::typeof(REPL.softscope), mod::Module, code::String, filename::String)",
      "   @ Base ./loading.jl:1428"
     ]
    }
   ],
   "source": [
    "println(find_closest_coordinate(euclidean, query[1], P[:,1]))\n",
    "println(find_closest_coordinate(euclidean, query[2], P[:,2]))\n",
    "println(find_closest_coordinate(euclidean, query[3], P[:,3]))\n",
    "println(encodquery = X_te_vecs[:,1];\n",
    "\n",
    "query = X_te_vecs[:,1];\n",
    "\n",
    "query = X_te_vecs[:,1];\n",
    "\n",
    "e_fast(sqeuclidean, query, P)[1:3])"
   ]
  },
  {
   "cell_type": "code",
   "execution_count": 1117,
   "id": "9c42b292",
   "metadata": {
    "ExecuteTime": {
     "end_time": "2022-08-25T22:24:33.029000+02:00",
     "start_time": "2022-08-25T20:21:32.733Z"
    }
   },
   "outputs": [],
   "source": [
    "function SEuclidean0(x, query)\n",
    "    @assert length(x) == length(query)\n",
    "    res = zero(eltype(x))\n",
    "    @inbounds   for j in eachindex(x)\n",
    "        aux = (query[j] - x[j])\n",
    "        res += aux * aux\n",
    "    end\n",
    "    return res\n",
    "end\n",
    "\n",
    "function Euclidean0(x, query)\n",
    "    @assert length(x) == length(query)\n",
    "    res = zero(eltype(x))\n",
    "    @inbounds   for j in eachindex(x)\n",
    "        aux = (query[j] - x[j])\n",
    "        res += aux * aux\n",
    "    end\n",
    "    return sqrt(res)\n",
    "end\n",
    "\n",
    "function compute_ADC(query, prototypes, dist)\n",
    "    n_clusters, n_features = size(prototypes)\n",
    "    \n",
    "    ADC_table = Array{Float32}(undef, n_clusters, n_features)\n",
    "    \n",
    "    for j in 1:n_features\n",
    "        for p in 1:n_clusters\n",
    "            ADC_table[p,j] = dist(query[j], prototypes[p,j] )\n",
    "        end\n",
    "    end\n",
    "    return  ADC_table\n",
    "end\n",
    "\n",
    "adc_table = compute_ADC(query, P, euclidean)\n",
    "\n",
    "if profile_flag\n",
    "    @benchmark compute_ADC(query, P, euclidean)\n",
    "end"
   ]
  },
  {
   "cell_type": "code",
   "execution_count": 1118,
   "id": "845a1a68",
   "metadata": {
    "ExecuteTime": {
     "end_time": "2022-08-25T22:24:56.443000+02:00",
     "start_time": "2022-08-25T20:21:37.841Z"
    }
   },
   "outputs": [
    {
     "name": "stdout",
     "output_type": "stream",
     "text": [
      "5199.315"
     ]
    }
   ],
   "source": [
    "function adc_dist(query_code, x_code,  adc_table)\n",
    "    res = zero(eltype(adc_table))\n",
    "    @inbounds @fastmath for j in eachindex(x_code)\n",
    "        res+= adc_table[x_code[j], j]\n",
    "    end\n",
    "    return res\n",
    "end\n",
    "\n",
    "query_code = encode_fast(euclidean, query, P)\n",
    "x_code = PQcodes[:,1];\n",
    "adc_table = compute_ADC(query, P, euclidean);\n",
    "print(adc_dist(query_code, x_code,  adc_table))\n",
    "\n",
    "if profile_flag\n",
    "    @benchmark adc_dist(query_code, x_code,  adc_table)\n",
    "end"
   ]
  },
  {
   "cell_type": "code",
   "execution_count": 1119,
   "id": "24703ca6",
   "metadata": {},
   "outputs": [],
   "source": [
    "function linear_scann(query, PQcodes, adc_table, P)\n",
    "    \n",
    "    query_code = encode_fast(sqeuclidean, query, P)\n",
    "    n_features, n_examples = size(PQcodes)\n",
    "    distances = Array{eltype(query)}(undef, n_examples)\n",
    "    \n",
    "    @inbounds @fastmath for j in 1:n_examples\n",
    "        distances[j] = adc_dist(query_code,  view(PQcodes,:,j) ,  adc_table)    \n",
    "    end\n",
    "    return distances\n",
    "end\n",
    "\n",
    "if profile_flag\n",
    "    @benchmark distances = linear_scann($query, $PQcodes, $adc_table, $P)\n",
    "end"
   ]
  },
  {
   "cell_type": "code",
   "execution_count": 1120,
   "id": "1a394586",
   "metadata": {},
   "outputs": [
    {
     "name": "stdout",
     "output_type": "stream",
     "text": [
      "recall(top_k_pq, query_true_neighbors, 100) = 0.68\n"
     ]
    }
   ],
   "source": [
    "function recall(predicted, relevant, eval_at)\n",
    "    \"\"\"\n",
    "    fraction of the relevant documents that are successfully retrieved\n",
    "    \"\"\"\n",
    "    if eval_at == 0\n",
    "        return 0.0\n",
    "    end\n",
    "    \n",
    "    predicted_at_k = predicted[1:eval_at]\n",
    "    n_predicted_and_relevant =  length(intersect( Set(predicted_at_k), Set(relevant))) \n",
    "    return n_predicted_and_relevant/ length(relevant)\n",
    "end\n",
    "\n",
    "query_id = 1\n",
    "query = X_te_vecs[:,query_id];\n",
    "query_true_neighbors = true_neighbors[:,query_id]\n",
    "top_k = 100\n",
    "\n",
    "pq_distances = linear_scann(query, PQcodes, adc_table, P);\n",
    "top_k_pq = sortperm(pq_distances)[1:top_k];\n",
    "\n",
    "@show recall(top_k_pq, query_true_neighbors, 100);"
   ]
  },
  {
   "cell_type": "markdown",
   "id": "96a89105",
   "metadata": {},
   "source": [
    "#### Decoding vectors from pqcode"
   ]
  },
  {
   "cell_type": "code",
   "execution_count": 1121,
   "id": "cbae0d3b",
   "metadata": {},
   "outputs": [],
   "source": [
    "function get_top_k_from_distances(X, distances, top_k)\n",
    "    top_k_pq = sortperm(distances)[1:top_k];\n",
    "    X_top = X[:,top_k_pq]\n",
    "    return X_top\n",
    "end\n",
    "\n",
    "function decode(x_pqcode, P)\n",
    "    n_features = length(x_pqcode)\n",
    "    x_decoded = zeros(eltype(P), n_features)\n",
    "    \n",
    "    for j in eachindex(x_pqcode)\n",
    "        x_decoded[j] = P[x_pqcode[j], j]\n",
    "    end\n",
    "    return x_decoded\n",
    "end\n",
    "\n",
    "x = X_te_vecs[:,1]\n",
    "x_pqcode = vec(encode(Euclidean0, x, P));\n",
    "x_decoded = decode(x_pqcode, P);"
   ]
  },
  {
   "cell_type": "code",
   "execution_count": 1122,
   "id": "89c2a0da",
   "metadata": {},
   "outputs": [
    {
     "data": {
      "text/html": [
       "<div class=\"data-frame\"><p>5 rows × 4 columns</p><table class=\"data-frame\"><thead><tr><th></th><th>x</th><th>x_closest</th><th>x_decoded</th><th>x_pqcode</th></tr><tr><th></th><th title=\"Float32\">Float32</th><th title=\"Float32\">Float32</th><th title=\"Float32\">Float32</th><th title=\"Int8\">Int8</th></tr></thead><tbody><tr><th>1</th><td>1.0</td><td>1.0</td><td>0.229278</td><td>1</td></tr><tr><th>2</th><td>3.0</td><td>3.0</td><td>3.0</td><td>32</td></tr><tr><th>3</th><td>11.0</td><td>11.0</td><td>11.949</td><td>1</td></tr><tr><th>4</th><td>110.0</td><td>110.0</td><td>110.705</td><td>8</td></tr><tr><th>5</th><td>62.0</td><td>62.0</td><td>61.9183</td><td>4</td></tr></tbody></table></div>"
      ],
      "text/latex": [
       "\\begin{tabular}{r|cccc}\n",
       "\t& x & x\\_closest & x\\_decoded & x\\_pqcode\\\\\n",
       "\t\\hline\n",
       "\t& Float32 & Float32 & Float32 & Int8\\\\\n",
       "\t\\hline\n",
       "\t1 & 1.0 & 1.0 & 0.229278 & 1 \\\\\n",
       "\t2 & 3.0 & 3.0 & 3.0 & 32 \\\\\n",
       "\t3 & 11.0 & 11.0 & 11.949 & 1 \\\\\n",
       "\t4 & 110.0 & 110.0 & 110.705 & 8 \\\\\n",
       "\t5 & 62.0 & 62.0 & 61.9183 & 4 \\\\\n",
       "\\end{tabular}\n"
      ],
      "text/plain": [
       "\u001b[1m5×4 DataFrame\u001b[0m\n",
       "\u001b[1m Row \u001b[0m│\u001b[1m x       \u001b[0m\u001b[1m x_closest \u001b[0m\u001b[1m x_decoded  \u001b[0m\u001b[1m x_pqcode \u001b[0m\n",
       "\u001b[1m     \u001b[0m│\u001b[90m Float32 \u001b[0m\u001b[90m Float32   \u001b[0m\u001b[90m Float32    \u001b[0m\u001b[90m Int8     \u001b[0m\n",
       "─────┼──────────────────────────────────────────\n",
       "   1 │     1.0        1.0    0.229278         1\n",
       "   2 │     3.0        3.0    3.0             32\n",
       "   3 │    11.0       11.0   11.949            1\n",
       "   4 │   110.0      110.0  110.705            8\n",
       "   5 │    62.0       62.0   61.9183           4"
      ]
     },
     "execution_count": 1122,
     "metadata": {},
     "output_type": "execute_result"
    }
   ],
   "source": [
    "query = X_te_vecs[:,1]\n",
    "adc_table = compute_ADC(query, P, Euclidean0)\n",
    "pq_distances = linear_scann(query, PQcodes_test, adc_table, P);\n",
    "x_closest = vec(get_top_k_from_distances(X_te_vecs, pq_distances, 1));\n",
    "\n",
    "df_x = DataFrame(Dict(:x => x, \n",
    "                      :x_decoded => x_decoded,\n",
    "                      :x_pqcode => x_pqcode,\n",
    "                      :x_closest => x_closest\n",
    "                      ))\n",
    "first(df_x, 5)"
   ]
  },
  {
   "cell_type": "markdown",
   "id": "95bd0d20",
   "metadata": {},
   "source": [
    "##  PQLinearscann Sharing prototypes across features\n",
    "\n",
    "https://groups.google.com/g/julia-users/c/xBcQRebyi_o\n",
    "\n"
   ]
  },
  {
   "cell_type": "code",
   "execution_count": 1123,
   "id": "9b14e473",
   "metadata": {
    "ExecuteTime": {
     "end_time": "2022-08-25T22:25:03.638000+02:00",
     "start_time": "2022-08-25T20:21:40.923Z"
    }
   },
   "outputs": [
    {
     "data": {
      "text/plain": [
       "KmeansResult{Matrix{Float32}, Float32, Int64}(Float32[0.22927776 141.73946 … 63.950676 87.47854], [1, 22, 1, 9, 1, 27, 1, 29, 21, 5  …  19, 9, 9, 11, 11, 10, 17, 7, 1, 8], Float32[0.05256829, 0.0012207031, 0.05256829, 2.4743652, 0.5940128, 1.1030273, 0.05256829, 0.9503784, 1.0723343, 0.23931885  …  0.28198242, 0.18232727, 2.0363007, 0.90356445, 1.1015625, 0.3100586, 0.8599529, 1.1003418, 0.05256829, 8.056641], [202536, 5903, 23537, 9704, 21536, 9600, 42257, 12399, 68044, 24612  …  10361, 11409, 38763, 10843, 26737, 22674, 37735, 13099, 18206, 8992], [202536, 5903, 23537, 9704, 21536, 9600, 42257, 12399, 68044, 24612  …  10361, 11409, 38763, 10843, 26737, 22674, 37735, 13099, 18206, 8992], 1.3330955f6, 5, true)"
      ]
     },
     "execution_count": 1123,
     "metadata": {},
     "output_type": "execute_result"
    }
   ],
   "source": [
    "n_clusters = 32\n",
    "#R_shared = kmeans(Matrix(vec(X_tr_vecs)'), n_clusters; maxiter=200)\n",
    "#R_shared = kmeans(X_tr_vecs[[1],:], n_clusters; maxiter=200)\n",
    "R_shared = R_per_feature[1]"
   ]
  },
  {
   "cell_type": "code",
   "execution_count": 1253,
   "id": "2323ab73",
   "metadata": {
    "ExecuteTime": {
     "end_time": "2022-08-25T23:00:55.815000+02:00",
     "start_time": "2022-08-25T21:00:55.807Z"
    },
    "scrolled": true
   },
   "outputs": [
    {
     "data": {
      "text/html": [
       "<div class=\"data-frame\"><p>5 rows × 4 columns</p><table class=\"data-frame\"><thead><tr><th></th><th>x</th><th>x_decoded</th><th>x_pqcode</th><th>x_pqcode_shared</th></tr><tr><th></th><th title=\"Float32\">Float32</th><th title=\"Float32\">Float32</th><th title=\"Int8\">Int8</th><th title=\"Int8\">Int8</th></tr></thead><tbody><tr><th>1</th><td>0.0</td><td>0.229278</td><td>1</td><td>1</td></tr><tr><th>2</th><td>1.0</td><td>0.229278</td><td>1</td><td>1</td></tr><tr><th>3</th><td>5.0</td><td>3.92734</td><td>17</td><td>17</td></tr><tr><th>4</th><td>3.0</td><td>3.92734</td><td>17</td><td>17</td></tr><tr><th>5</th><td>44.0</td><td>42.4552</td><td>3</td><td>3</td></tr></tbody></table></div>"
      ],
      "text/latex": [
       "\\begin{tabular}{r|cccc}\n",
       "\t& x & x\\_decoded & x\\_pqcode & x\\_pqcode\\_shared\\\\\n",
       "\t\\hline\n",
       "\t& Float32 & Float32 & Int8 & Int8\\\\\n",
       "\t\\hline\n",
       "\t1 & 0.0 & 0.229278 & 1 & 1 \\\\\n",
       "\t2 & 1.0 & 0.229278 & 1 & 1 \\\\\n",
       "\t3 & 5.0 & 3.92734 & 17 & 17 \\\\\n",
       "\t4 & 3.0 & 3.92734 & 17 & 17 \\\\\n",
       "\t5 & 44.0 & 42.4552 & 3 & 3 \\\\\n",
       "\\end{tabular}\n"
      ],
      "text/plain": [
       "\u001b[1m5×4 DataFrame\u001b[0m\n",
       "\u001b[1m Row \u001b[0m│\u001b[1m x       \u001b[0m\u001b[1m x_decoded \u001b[0m\u001b[1m x_pqcode \u001b[0m\u001b[1m x_pqcode_shared \u001b[0m\n",
       "\u001b[1m     \u001b[0m│\u001b[90m Float32 \u001b[0m\u001b[90m Float32   \u001b[0m\u001b[90m Int8     \u001b[0m\u001b[90m Int8            \u001b[0m\n",
       "─────┼───────────────────────────────────────────────\n",
       "   1 │     0.0   0.229278         1                1\n",
       "   2 │     1.0   0.229278         1                1\n",
       "   3 │     5.0   3.92734         17               17\n",
       "   4 │     3.0   3.92734         17               17\n",
       "   5 │    44.0  42.4552           3                3"
      ]
     },
     "execution_count": 1253,
     "metadata": {},
     "output_type": "execute_result"
    }
   ],
   "source": [
    "function encode_shared(dist, vector::Array{T}, shared_prototypes::Array{T}) where T\n",
    "    n_clusters = length(shared_prototypes)\n",
    "    closest_prototypes = Array{Int8}(undef, n_features, 1);\n",
    "    \n",
    "    @inbounds for (j,x) in enumerate(vector)\n",
    "        best_coordinate = 1\n",
    "        min_distance::T = typemax(T)\n",
    "        for k in 1:n_clusters\n",
    "           current_dist = dist(shared_prototypes[k], x)\n",
    "           if current_dist < min_distance\n",
    "               best_coordinate = k\n",
    "               min_distance = current_dist\n",
    "           end\n",
    "           #println(k, ' ', j, ' ', best_coordinate, ' ',min_distance )\n",
    "        end            \n",
    "        closest_prototypes[j] = best_coordinate\n",
    "    end\n",
    "    return closest_prototypes\n",
    "end\n",
    "\n",
    "\"\"\"\n",
    "function encode_fast_shared(dist, vector::Array{T}, prototypes::Array{T}) where T\n",
    "    \n",
    "    n_features = length(vector)\n",
    "    n_clusters = length(prototypes)\n",
    "    closest_prototypes = Array{Int32}(undef, n_features, 1);\n",
    "    \n",
    "    @inbounds @fastmath for (j,x) in enumerate(vector)\n",
    "        best_coordinate = 1\n",
    "        min_distance::T = typemax(T)\n",
    "        for k in 1:n_clusters\n",
    "           current_dist = dist(prototypes[k], x)\n",
    "           if current_dist < min_distance\n",
    "               best_coordinate = k\n",
    "               min_distance = current_dist\n",
    "           end\n",
    "        end            \n",
    "        closest_prototypes[j] = best_coordinate\n",
    "    end\n",
    "    return closest_prototypes\n",
    "end\n",
    "\n",
    "if profile_flag\n",
    "    @benchmark encode_fast_shared(euclidean, query, P_shared)\n",
    "end\n",
    "\"\"\"\n",
    "\n",
    "P_shared = vec(R_shared.centers)\n",
    "\n",
    "j = 3\n",
    "x = X_tr_vecs[:,j]\n",
    "x_pqcode_shared = encode_shared(sqeuclidean, x, P_shared);\n",
    "\n",
    "\n",
    "P_shared_copied = hcat( [P_shared for i in 1:128]...);\n",
    "@assert P_shared_copied[:,1] == P_shared\n",
    "x_pqcode = encode(sqeuclidean, x, P_shared_copied);\n",
    "x_decoded = decode(x_pqcode, P_shared_copied);\n",
    "\n",
    "@assert x_pqcode_shared == x_pqcode\n",
    "\n",
    "df_x = DataFrame(Dict(:x => x, \n",
    "                      :x_pqcode => vec(x_pqcode),\n",
    "                      :x_pqcode_shared => vec(x_pqcode_shared),\n",
    "                      :x_decoded => x_decoded,\n",
    "                      #:centroid => vec(P_shared[x_pqcode])\n",
    "                      ))\n",
    "\n",
    "first(df_x, 5)"
   ]
  },
  {
   "cell_type": "code",
   "execution_count": 1234,
   "id": "9b2c5db9",
   "metadata": {
    "ExecuteTime": {
     "end_time": "2022-08-25T23:30:11.491000+02:00",
     "start_time": "2022-08-25T21:30:04.975Z"
    }
   },
   "outputs": [
    {
     "name": "stdout",
     "output_type": "stream",
     "text": [
      "(maximum(PQcodes), maximum(PQcodes_shared)) = (32, 32)\n"
     ]
    },
    {
     "data": {
      "text/plain": [
       "(32, 32)"
      ]
     },
     "execution_count": 1234,
     "metadata": {},
     "output_type": "execute_result"
    }
   ],
   "source": [
    "n_features, n_examples = size(X_tr_vecs)\n",
    "\n",
    "PQcodes_shared = Array{Int32}(undef, n_features, n_examples);\n",
    "\n",
    "for j in 1:n_examples\n",
    "    PQcodes_shared[:,j] = encode_shared(euclidean, X_tr_vecs[:,j], P_shared)  \n",
    "    #PQcodes_shared[:,j] = encode(euclidean, X_tr_vecs[:,j] ,P_shared_copied)  \n",
    "end\n",
    "\n",
    "@show maximum(PQcodes), maximum(PQcodes_shared)"
   ]
  },
  {
   "cell_type": "markdown",
   "id": "f372c02d",
   "metadata": {},
   "source": [
    "Because we have created the shared quantizer from the quantizer of the PQquantizer of the first feature the following assertion must hold"
   ]
  },
  {
   "cell_type": "code",
   "execution_count": 1259,
   "id": "b8b48860",
   "metadata": {},
   "outputs": [],
   "source": [
    "@assert PQcodes_shared[1,:] == PQcodes[1,:]"
   ]
  },
  {
   "cell_type": "markdown",
   "id": "43f85b8b",
   "metadata": {},
   "source": [
    "Now we need a new encoding function that uses a single vector of prototypes"
   ]
  },
  {
   "cell_type": "code",
   "execution_count": 1235,
   "id": "51c61c45",
   "metadata": {
    "ExecuteTime": {
     "end_time": "2022-08-25T23:02:51.209000+02:00",
     "start_time": "2022-08-25T21:02:51.201Z"
    }
   },
   "outputs": [],
   "source": [
    "function encode_fast_shared(dist, vector::Array{T}, prototypes::Array{T}) where T\n",
    "    \n",
    "    n_features = length(vector)\n",
    "    n_clusters = length(prototypes)\n",
    "    closest_prototypes = Array{Int32}(undef, n_features, 1);\n",
    "    \n",
    "    @inbounds @fastmath for (j,x) in enumerate(vector)\n",
    "        best_coordinate = 1\n",
    "        min_distance::T = typemax(T)\n",
    "        for k in 1:n_clusters\n",
    "           current_dist = dist(prototypes[k], x)\n",
    "           if current_dist < min_distance\n",
    "               best_coordinate = k\n",
    "               min_distance = current_dist\n",
    "           end\n",
    "        end            \n",
    "        closest_prototypes[j] = best_coordinate\n",
    "    end\n",
    "    return closest_prototypes\n",
    "end\n",
    "\n",
    "if profile_flag\n",
    "    @benchmark encode_fast_shared(euclidean, query, P_shared)\n",
    "end\n",
    "\n",
    "@assert encode_fast_shared(euclidean, x ,vec(P_shared)) ==  encode(euclidean, x ,P_shared_copied);\n",
    "@assert encode_fast_shared(euclidean, x ,vec(P_shared)) ==  encode(sqeuclidean, x ,P_shared_copied);"
   ]
  },
  {
   "cell_type": "markdown",
   "id": "a448f1f7",
   "metadata": {},
   "source": [
    "Now we will ensure that `compute_ADC_shared` provides the same ADC table computation as `compute_ADC`\n",
    "in the case where `compute_ADC` is called with all prototypes being copies of column vector used in `compute_ADC_shared` "
   ]
  },
  {
   "cell_type": "code",
   "execution_count": 1249,
   "id": "817b19c2",
   "metadata": {
    "ExecuteTime": {
     "end_time": "2022-08-25T22:25:25.075000+02:00",
     "start_time": "2022-08-25T20:25:21.948Z"
    }
   },
   "outputs": [],
   "source": [
    "\n",
    "function compute_ADC_shared(query, prototypes, dist)\n",
    "    @assert ndims(prototypes) ==1\n",
    "    n_clusters = length(prototypes)\n",
    "    ADC_table = Array{Float32}(undef, n_clusters)\n",
    "    \n",
    "    @inbounds  for p in 1:n_clusters      \n",
    "        ADC_table[p] = dist(query[p],  prototypes[p])\n",
    "    end\n",
    "    return  ADC_table\n",
    "end\n",
    "\n",
    "\n",
    "function compute_ADC(query, prototypes, dist)\n",
    "\n",
    "    @assert ndims(prototypes) ==2\n",
    "\n",
    "    n_clusters, n_features = size(prototypes)\n",
    "    ADC_table = Array{Float32}(undef, n_clusters, n_features)\n",
    "    \n",
    "    for j in 1:n_features\n",
    "        for p in 1:n_clusters\n",
    "            ADC_table[p,j] = dist(query[j], prototypes[p,j] )\n",
    "        end\n",
    "    end\n",
    "    return  ADC_table\n",
    "end\n",
    "\n",
    "query = X_tr_vecs[:,1]\n",
    "adc_table_shared = compute_ADC_shared(query, P[:,1], euclidean);\n",
    "adc_table = compute_ADC(query, P_shared_copied, euclidean);\n",
    "@assert adc_table_shared == adc_table[:,1]\n",
    "\n",
    "\n",
    "\n"
   ]
  },
  {
   "cell_type": "code",
   "execution_count": 1250,
   "id": "beb310c1",
   "metadata": {},
   "outputs": [
    {
     "ename": "LoadError",
     "evalue": "AssertionError: adc_table_shared == adc_table[:, 1]",
     "output_type": "error",
     "traceback": [
      "AssertionError: adc_table_shared == adc_table[:, 1]",
      "",
      "Stacktrace:",
      " [1] top-level scope",
      "   @ In[1250]:1",
      " [2] eval",
      "   @ ./boot.jl:368 [inlined]",
      " [3] include_string(mapexpr::typeof(REPL.softscope), mod::Module, code::String, filename::String)",
      "   @ Base ./loading.jl:1428"
     ]
    }
   ],
   "source": []
  },
  {
   "cell_type": "code",
   "execution_count": 1244,
   "id": "d19ebda6",
   "metadata": {},
   "outputs": [
    {
     "data": {
      "text/plain": [
       "32-element Vector{Float32}:\n",
       "   0.22927776\n",
       " 125.739456\n",
       "   7.4551544\n",
       "  78.46414\n",
       "  10.510773\n",
       "  90.49573\n",
       "  14.951014\n",
       " 101.161705\n",
       "   0.5730114\n",
       "  19.557209\n",
       "  21.049469\n",
       "  87.429085\n",
       "   7.4388084\n",
       "   ⋮\n",
       "  13.035536\n",
       "   5.964964\n",
       "  88.959656\n",
       " 112.058464\n",
       "  42.537006\n",
       " 108.92032\n",
       "  27.94962\n",
       "   6.509659\n",
       "  11.974878\n",
       "  68.46652\n",
       "  62.950676\n",
       "  65.47854"
      ]
     },
     "execution_count": 1244,
     "metadata": {},
     "output_type": "execute_result"
    }
   ],
   "source": [
    "adc_table_shared"
   ]
  },
  {
   "cell_type": "code",
   "execution_count": 1245,
   "id": "44389dc6",
   "metadata": {},
   "outputs": [
    {
     "data": {
      "text/html": [
       "<div class=\"data-frame\"><p>32 rows × 2 columns</p><table class=\"data-frame\"><thead><tr><th></th><th>adc_table_</th><th>adc_table_shared</th></tr><tr><th></th><th title=\"Float32\">Float32</th><th title=\"Float32\">Float32</th></tr></thead><tbody><tr><th>1</th><td>0.229278</td><td>0.229278</td></tr><tr><th>2</th><td>141.739</td><td>125.739</td></tr><tr><th>3</th><td>42.4552</td><td>7.45515</td></tr><tr><th>4</th><td>83.4641</td><td>78.4641</td></tr><tr><th>5</th><td>21.4892</td><td>10.5108</td></tr><tr><th>6</th><td>121.496</td><td>90.4957</td></tr><tr><th>7</th><td>28.951</td><td>14.951</td></tr><tr><th>8</th><td>111.162</td><td>101.162</td></tr><tr><th>9</th><td>10.427</td><td>0.573011</td></tr><tr><th>10</th><td>58.4428</td><td>19.5572</td></tr><tr><th>11</th><td>33.9505</td><td>21.0495</td></tr><tr><th>12</th><td>97.4291</td><td>87.4291</td></tr><tr><th>13</th><td>52.4388</td><td>7.43881</td></tr><tr><th>14</th><td>103.972</td><td>20.9723</td></tr><tr><th>15</th><td>73.4532</td><td>62.4532</td></tr><tr><th>16</th><td>132.04</td><td>126.04</td></tr><tr><th>17</th><td>3.92734</td><td>10.0727</td></tr><tr><th>18</th><td>2.0</td><td>55.0</td></tr><tr><th>19</th><td>38.469</td><td>63.531</td></tr><tr><th>20</th><td>78.938</td><td>3.938</td></tr><tr><th>21</th><td>6.96446</td><td>13.0355</td></tr><tr><th>22</th><td>13.965</td><td>5.96496</td></tr><tr><th>23</th><td>91.9597</td><td>88.9597</td></tr><tr><th>24</th><td>117.058</td><td>112.058</td></tr><tr><th>25</th><td>24.463</td><td>42.537</td></tr><tr><th>26</th><td>125.92</td><td>108.92</td></tr><tr><th>27</th><td>46.9496</td><td>27.9496</td></tr><tr><th>28</th><td>19.4903</td><td>6.50966</td></tr><tr><th>29</th><td>16.9749</td><td>11.9749</td></tr><tr><th>30</th><td>68.4665</td><td>68.4665</td></tr><tr><th>&vellip;</th><td>&vellip;</td><td>&vellip;</td></tr></tbody></table></div>"
      ],
      "text/latex": [
       "\\begin{tabular}{r|cc}\n",
       "\t& adc\\_table\\_ & adc\\_table\\_shared\\\\\n",
       "\t\\hline\n",
       "\t& Float32 & Float32\\\\\n",
       "\t\\hline\n",
       "\t1 & 0.229278 & 0.229278 \\\\\n",
       "\t2 & 141.739 & 125.739 \\\\\n",
       "\t3 & 42.4552 & 7.45515 \\\\\n",
       "\t4 & 83.4641 & 78.4641 \\\\\n",
       "\t5 & 21.4892 & 10.5108 \\\\\n",
       "\t6 & 121.496 & 90.4957 \\\\\n",
       "\t7 & 28.951 & 14.951 \\\\\n",
       "\t8 & 111.162 & 101.162 \\\\\n",
       "\t9 & 10.427 & 0.573011 \\\\\n",
       "\t10 & 58.4428 & 19.5572 \\\\\n",
       "\t11 & 33.9505 & 21.0495 \\\\\n",
       "\t12 & 97.4291 & 87.4291 \\\\\n",
       "\t13 & 52.4388 & 7.43881 \\\\\n",
       "\t14 & 103.972 & 20.9723 \\\\\n",
       "\t15 & 73.4532 & 62.4532 \\\\\n",
       "\t16 & 132.04 & 126.04 \\\\\n",
       "\t17 & 3.92734 & 10.0727 \\\\\n",
       "\t18 & 2.0 & 55.0 \\\\\n",
       "\t19 & 38.469 & 63.531 \\\\\n",
       "\t20 & 78.938 & 3.938 \\\\\n",
       "\t21 & 6.96446 & 13.0355 \\\\\n",
       "\t22 & 13.965 & 5.96496 \\\\\n",
       "\t23 & 91.9597 & 88.9597 \\\\\n",
       "\t24 & 117.058 & 112.058 \\\\\n",
       "\t25 & 24.463 & 42.537 \\\\\n",
       "\t26 & 125.92 & 108.92 \\\\\n",
       "\t27 & 46.9496 & 27.9496 \\\\\n",
       "\t28 & 19.4903 & 6.50966 \\\\\n",
       "\t29 & 16.9749 & 11.9749 \\\\\n",
       "\t30 & 68.4665 & 68.4665 \\\\\n",
       "\t$\\dots$ & $\\dots$ & $\\dots$ \\\\\n",
       "\\end{tabular}\n"
      ],
      "text/plain": [
       "\u001b[1m32×2 DataFrame\u001b[0m\n",
       "\u001b[1m Row \u001b[0m│\u001b[1m adc_table_ \u001b[0m\u001b[1m adc_table_shared \u001b[0m\n",
       "\u001b[1m     \u001b[0m│\u001b[90m Float32    \u001b[0m\u001b[90m Float32          \u001b[0m\n",
       "─────┼──────────────────────────────\n",
       "   1 │   0.229278          0.229278\n",
       "   2 │ 141.739           125.739\n",
       "   3 │  42.4552            7.45515\n",
       "   4 │  83.4641           78.4641\n",
       "   5 │  21.4892           10.5108\n",
       "   6 │ 121.496            90.4957\n",
       "   7 │  28.951            14.951\n",
       "   8 │ 111.162           101.162\n",
       "   9 │  10.427             0.573011\n",
       "  10 │  58.4428           19.5572\n",
       "  11 │  33.9505           21.0495\n",
       "  ⋮  │     ⋮              ⋮\n",
       "  23 │  91.9597           88.9597\n",
       "  24 │ 117.058           112.058\n",
       "  25 │  24.463            42.537\n",
       "  26 │ 125.92            108.92\n",
       "  27 │  46.9496           27.9496\n",
       "  28 │  19.4903            6.50966\n",
       "  29 │  16.9749           11.9749\n",
       "  30 │  68.4665           68.4665\n",
       "  31 │  63.9507           62.9507\n",
       "  32 │  87.4785           65.4785\n",
       "\u001b[36m                     11 rows omitted\u001b[0m"
      ]
     },
     "execution_count": 1245,
     "metadata": {},
     "output_type": "execute_result"
    }
   ],
   "source": [
    "\n",
    "df_query = DataFrame(Dict(:adc_table_shared => adc_table_shared,\n",
    "                           :adc_table_=> adc_table[:,1] ))\n",
    "df_query"
   ]
  },
  {
   "cell_type": "code",
   "execution_count": 1213,
   "id": "ce489bed",
   "metadata": {},
   "outputs": [],
   "source": [
    "#compute_ADC(query, P_shared_copied, euclidean)"
   ]
  },
  {
   "cell_type": "code",
   "execution_count": 1219,
   "id": "7c30e0e0",
   "metadata": {},
   "outputs": [],
   "source": [
    "\n",
    "\n",
    "function linear_scann_shared(query, PQcodes, adc_table_shared, P_shared)\n",
    "    \n",
    "    query_code = encode_fast_shared(sqeuclidean, query, P_shared)\n",
    "    n_features, n_examples = size(PQcodes)\n",
    "    distances = Array{eltype(query)}(undef, n_examples)\n",
    "    \n",
    "    @inbounds @fastmath for j in 1:n_examples\n",
    "        distances[j] = adc_dist_shared(query_code,  view(PQcodes,:,j) ,  adc_table_shared)    \n",
    "    end\n",
    "    return distances\n",
    "end\n",
    "\n",
    "if profile_flag\n",
    "    @benchmark distances = linear_scann($query, $PQcodes, $adc_table_shared, $P_shared)\n",
    "end\n",
    "\n",
    "query = X_tr_vecs[:,1]\n",
    "query_code = encode_fast_shared(euclidean, query, P_shared)\n",
    "adc_table_shared = compute_ADC_shared(query, vec(P_shared), euclidean)\n",
    "#adc_table = compute_ADC(query, P_shared_copied, euclidean);\n",
    "\n",
    "if profile_flag\n",
    "    @benchmark adc_table = compute_ADC_shared(query, P_shared, euclidean)\n",
    "end"
   ]
  },
  {
   "cell_type": "code",
   "execution_count": 1216,
   "id": "848a8531",
   "metadata": {},
   "outputs": [
    {
     "data": {
      "text/html": [
       "<div class=\"data-frame\"><p>5 rows × 2 columns</p><table class=\"data-frame\"><thead><tr><th></th><th>query</th><th>query_code</th></tr><tr><th></th><th title=\"Float32\">Float32</th><th title=\"Int32\">Int32</th></tr></thead><tbody><tr><th>1</th><td>0.0</td><td>1</td></tr><tr><th>2</th><td>16.0</td><td>29</td></tr><tr><th>3</th><td>35.0</td><td>11</td></tr><tr><th>4</th><td>5.0</td><td>17</td></tr><tr><th>5</th><td>32.0</td><td>11</td></tr></tbody></table></div>"
      ],
      "text/latex": [
       "\\begin{tabular}{r|cc}\n",
       "\t& query & query\\_code\\\\\n",
       "\t\\hline\n",
       "\t& Float32 & Int32\\\\\n",
       "\t\\hline\n",
       "\t1 & 0.0 & 1 \\\\\n",
       "\t2 & 16.0 & 29 \\\\\n",
       "\t3 & 35.0 & 11 \\\\\n",
       "\t4 & 5.0 & 17 \\\\\n",
       "\t5 & 32.0 & 11 \\\\\n",
       "\\end{tabular}\n"
      ],
      "text/plain": [
       "\u001b[1m5×2 DataFrame\u001b[0m\n",
       "\u001b[1m Row \u001b[0m│\u001b[1m query   \u001b[0m\u001b[1m query_code \u001b[0m\n",
       "\u001b[1m     \u001b[0m│\u001b[90m Float32 \u001b[0m\u001b[90m Int32      \u001b[0m\n",
       "─────┼─────────────────────\n",
       "   1 │     0.0           1\n",
       "   2 │    16.0          29\n",
       "   3 │    35.0          11\n",
       "   4 │     5.0          17\n",
       "   5 │    32.0          11"
      ]
     },
     "execution_count": 1216,
     "metadata": {},
     "output_type": "execute_result"
    }
   ],
   "source": [
    "\n",
    "df_x = DataFrame(Dict(:query => query, \n",
    "                      :query_code => vec(query_code),\n",
    "                \n",
    "                      ))\n",
    "\n",
    "first(df_x, 5)"
   ]
  },
  {
   "cell_type": "code",
   "execution_count": 1217,
   "id": "26b16bd2",
   "metadata": {},
   "outputs": [
    {
     "data": {
      "text/html": [
       "<div class=\"data-frame\"><p>5 rows × 3 columns</p><table class=\"data-frame\"><thead><tr><th></th><th>x</th><th>x_closest</th><th>x_pqcode</th></tr><tr><th></th><th title=\"Float32\">Float32</th><th title=\"Float32\">Float32</th><th title=\"Int8\">Int8</th></tr></thead><tbody><tr><th>1</th><td>0.0</td><td>57.0</td><td>1</td></tr><tr><th>2</th><td>1.0</td><td>3.0</td><td>1</td></tr><tr><th>3</th><td>5.0</td><td>0.0</td><td>17</td></tr><tr><th>4</th><td>3.0</td><td>0.0</td><td>17</td></tr><tr><th>5</th><td>44.0</td><td>0.0</td><td>3</td></tr></tbody></table></div>"
      ],
      "text/latex": [
       "\\begin{tabular}{r|ccc}\n",
       "\t& x & x\\_closest & x\\_pqcode\\\\\n",
       "\t\\hline\n",
       "\t& Float32 & Float32 & Int8\\\\\n",
       "\t\\hline\n",
       "\t1 & 0.0 & 57.0 & 1 \\\\\n",
       "\t2 & 1.0 & 3.0 & 1 \\\\\n",
       "\t3 & 5.0 & 0.0 & 17 \\\\\n",
       "\t4 & 3.0 & 0.0 & 17 \\\\\n",
       "\t5 & 44.0 & 0.0 & 3 \\\\\n",
       "\\end{tabular}\n"
      ],
      "text/plain": [
       "\u001b[1m5×3 DataFrame\u001b[0m\n",
       "\u001b[1m Row \u001b[0m│\u001b[1m x       \u001b[0m\u001b[1m x_closest \u001b[0m\u001b[1m x_pqcode \u001b[0m\n",
       "\u001b[1m     \u001b[0m│\u001b[90m Float32 \u001b[0m\u001b[90m Float32   \u001b[0m\u001b[90m Int8     \u001b[0m\n",
       "─────┼──────────────────────────────\n",
       "   1 │     0.0       57.0         1\n",
       "   2 │     1.0        3.0         1\n",
       "   3 │     5.0        0.0        17\n",
       "   4 │     3.0        0.0        17\n",
       "   5 │    44.0        0.0         3"
      ]
     },
     "execution_count": 1217,
     "metadata": {},
     "output_type": "execute_result"
    }
   ],
   "source": [
    "#pq_distances = linear_scann(query, PQcodes_shared, adc_table_shared, P);\n",
    "pq_distances = linear_scann_shared(query, PQcodes_shared, adc_table_shared, P_shared);\n",
    "\n",
    "x_closest = vec(get_top_k_from_distances(X_tr_vecs, pq_distances, 1));\n",
    "\n",
    "\n",
    "df_x = DataFrame(Dict(:x => x, \n",
    "                      :x_pqcode => vec(x_pqcode),\n",
    "                      :x_closest => vec(x_closest)\n",
    "                      ))\n",
    "\n",
    "first(df_x, 5)"
   ]
  },
  {
   "cell_type": "code",
   "execution_count": 1218,
   "id": "64f58439",
   "metadata": {},
   "outputs": [
    {
     "name": "stdout",
     "output_type": "stream",
     "text": [
      "recall(top_k_pq, query_true_neighbors, 100) = 0.0\n"
     ]
    }
   ],
   "source": [
    "function recall(predicted, relevant, eval_at)\n",
    "    \"\"\"\n",
    "    fraction of the relevant documents that are successfully retrieved\n",
    "    \"\"\"\n",
    "    if eval_at == 0\n",
    "        return 0.0\n",
    "    end\n",
    "    \n",
    "    predicted_at_k = predicted[1:eval_at]\n",
    "    n_predicted_and_relevant =  length(intersect( Set(predicted_at_k), Set(relevant))) \n",
    "    return n_predicted_and_relevant/ length(relevant)\n",
    "end\n",
    "\n",
    "query_id = 1\n",
    "query = X_te_vecs[:,query_id];\n",
    "query_true_neighbors = true_neighbors[:,query_id]\n",
    "top_k = 100\n",
    "\n",
    "pq_distances = linear_scann(query, PQcodes_shared, adc_table, P);\n",
    "top_k_pq = sortperm(pq_distances)[1:top_k];\n",
    "\n",
    "@show recall(top_k_pq, query_true_neighbors, 100);"
   ]
  },
  {
   "cell_type": "code",
   "execution_count": null,
   "id": "7df996a2",
   "metadata": {},
   "outputs": [],
   "source": []
  },
  {
   "cell_type": "code",
   "execution_count": null,
   "id": "19fdc56f",
   "metadata": {},
   "outputs": [],
   "source": []
  },
  {
   "cell_type": "code",
   "execution_count": null,
   "id": "c8c7e012",
   "metadata": {},
   "outputs": [],
   "source": []
  },
  {
   "cell_type": "code",
   "execution_count": null,
   "id": "269ddeb5",
   "metadata": {},
   "outputs": [],
   "source": []
  },
  {
   "cell_type": "code",
   "execution_count": null,
   "id": "b7d72954",
   "metadata": {},
   "outputs": [],
   "source": []
  },
  {
   "cell_type": "code",
   "execution_count": null,
   "id": "52594e8f",
   "metadata": {},
   "outputs": [],
   "source": []
  },
  {
   "cell_type": "code",
   "execution_count": null,
   "id": "a9aa52be",
   "metadata": {},
   "outputs": [],
   "source": []
  },
  {
   "cell_type": "code",
   "execution_count": null,
   "id": "b2ca0fbf",
   "metadata": {},
   "outputs": [],
   "source": []
  },
  {
   "cell_type": "code",
   "execution_count": null,
   "id": "15341f4a",
   "metadata": {},
   "outputs": [],
   "source": []
  },
  {
   "cell_type": "code",
   "execution_count": null,
   "id": "a1145ca9",
   "metadata": {},
   "outputs": [],
   "source": []
  },
  {
   "cell_type": "code",
   "execution_count": null,
   "id": "874807e6",
   "metadata": {},
   "outputs": [],
   "source": []
  },
  {
   "cell_type": "code",
   "execution_count": null,
   "id": "e618c263",
   "metadata": {},
   "outputs": [],
   "source": []
  },
  {
   "cell_type": "code",
   "execution_count": null,
   "id": "cd7264ce",
   "metadata": {},
   "outputs": [],
   "source": []
  },
  {
   "cell_type": "code",
   "execution_count": null,
   "id": "b5d89d90",
   "metadata": {},
   "outputs": [],
   "source": []
  },
  {
   "cell_type": "code",
   "execution_count": null,
   "id": "567eddd4",
   "metadata": {},
   "outputs": [],
   "source": []
  },
  {
   "cell_type": "code",
   "execution_count": null,
   "id": "d81b71a2",
   "metadata": {},
   "outputs": [],
   "source": []
  },
  {
   "cell_type": "code",
   "execution_count": null,
   "id": "1263da76",
   "metadata": {},
   "outputs": [],
   "source": []
  },
  {
   "cell_type": "markdown",
   "id": "f5acea50",
   "metadata": {},
   "source": [
    "## Improving distance between vectors with ADC_distance"
   ]
  },
  {
   "cell_type": "code",
   "execution_count": 797,
   "id": "c001e190",
   "metadata": {
    "ExecuteTime": {
     "end_time": "2022-08-25T22:25:27.186000+02:00",
     "start_time": "2022-08-25T20:25:23.522Z"
    }
   },
   "outputs": [],
   "source": [
    "function SEuclidean0(x, query)\n",
    "    res = zero(eltype(x))\n",
    "    @inbounds   for j in eachindex(x)\n",
    "        aux = (query[j] - x[j])\n",
    "        res += aux * aux\n",
    "    end\n",
    "    return res\n",
    "end\n",
    "\n",
    "function Euclidean0(x, query)\n",
    "    res = zero(eltype(x))\n",
    "    @inbounds   for j in eachindex(x)\n",
    "        aux = (query[j] - x[j])\n",
    "        res += aux * aux\n",
    "    end\n",
    "    return sqrt(res)\n",
    "end\n",
    "\n",
    "if profile_flag\n",
    "    x = X_tr_vecs[:,1]\n",
    "    @benchmark Euclidean0($x, $query)\n",
    "end"
   ]
  },
  {
   "cell_type": "code",
   "execution_count": 330,
   "id": "10111c02",
   "metadata": {
    "ExecuteTime": {
     "end_time": "2022-08-25T22:25:29.702000+02:00",
     "start_time": "2022-08-25T20:25:24.514Z"
    }
   },
   "outputs": [],
   "source": [
    "function adc_dist_shared(query_code, x_code,  adc_table)\n",
    "    res = zero(eltype(adc_table))\n",
    "    @inbounds @simd for j in eachindex(x_code)\n",
    "        res+= adc_table[x_code[j]]\n",
    "    end\n",
    "    return res\n",
    "end\n",
    "\n",
    "if profile_flag\n",
    "    @benchmark adc_dist_shared($query_code, $x_code, $adc_table_shared)\n",
    "end"
   ]
  },
  {
   "cell_type": "code",
   "execution_count": 329,
   "id": "82d9eb4a",
   "metadata": {
    "ExecuteTime": {
     "end_time": "2022-08-25T22:25:31.389000+02:00",
     "start_time": "2022-08-25T20:25:25.729Z"
    }
   },
   "outputs": [],
   "source": [
    "function adc_dist_shared_unrolled(query_code, x_code,  adc_table)\n",
    "    res1 = zero(eltype(adc_table))\n",
    "    res2 = zero(eltype(adc_table))\n",
    "    res3 = zero(eltype(adc_table))\n",
    "    res4 = zero(eltype(adc_table))\n",
    "    \n",
    "    @inbounds @fastmath for j in 1:4:length(x_code)\n",
    "        res1 += adc_table[x_code[j]]\n",
    "        res2 += adc_table[x_code[j+1]]\n",
    "        res3 += adc_table[x_code[j+2]]\n",
    "        res4 += adc_table[x_code[j+3]]\n",
    "    end\n",
    "    \n",
    "    return res1 + res2 + res3 + res4\n",
    "end\n",
    "\n",
    "if profile_flag\n",
    "    @benchmark adc_dist_shared_unrolled($query_code, $x_code,  $adc_table_shared)\n",
    "end"
   ]
  },
  {
   "cell_type": "code",
   "execution_count": 327,
   "id": "fe7efa90",
   "metadata": {
    "ExecuteTime": {
     "end_time": "2022-08-25T22:25:33.168000+02:00",
     "start_time": "2022-08-25T20:25:27.051Z"
    },
    "scrolled": true
   },
   "outputs": [
    {
     "ename": "LoadError",
     "evalue": "AssertionError: adc_dist_shared(query_code, x_code, adc_table_shared) == adc_dist_shared_unrolled(query_code, x_code, adc_table_shared)",
     "output_type": "error",
     "traceback": [
      "AssertionError: adc_dist_shared(query_code, x_code, adc_table_shared) == adc_dist_shared_unrolled(query_code, x_code, adc_table_shared)",
      "",
      "Stacktrace:",
      " [1] top-level scope",
      "   @ In[327]:2",
      " [2] eval",
      "   @ ./boot.jl:368 [inlined]",
      " [3] include_string(mapexpr::typeof(REPL.softscope), mod::Module, code::String, filename::String)",
      "   @ Base ./loading.jl:1428"
     ]
    }
   ],
   "source": [
    "\n",
    "@assert adc_dist_shared(query_code, x_code,  adc_table_shared) == adc_dist_shared_unrolled(query_code, x_code,  adc_table_shared)"
   ]
  },
  {
   "cell_type": "markdown",
   "id": "105beb80",
   "metadata": {},
   "source": [
    "Note that euclidean squared distance with `@fastmath` is still faster"
   ]
  },
  {
   "cell_type": "code",
   "execution_count": 333,
   "id": "3e2a2da7",
   "metadata": {
    "ExecuteTime": {
     "end_time": "2022-08-25T22:25:34.209000+02:00",
     "start_time": "2022-08-25T20:25:34.202Z"
    }
   },
   "outputs": [],
   "source": [
    "function Euclidean0(x, query)\n",
    "    res = zero(eltype(x))\n",
    "    @inbounds @fastmath  for j in eachindex(x)\n",
    "        aux = (query[j] - x[j])\n",
    "        res += aux * aux\n",
    "    end\n",
    "    return sqrt(res)\n",
    "end\n",
    "\n",
    "if profile_flag\n",
    "    @benchmark Euclidean0($x, $query)\n",
    "end"
   ]
  },
  {
   "cell_type": "markdown",
   "id": "a0c336a4",
   "metadata": {},
   "source": [
    "## BWcode\n",
    "\n",
    "When using a SharedQuantizer a value `c` in a pqcode found in different coordinates refers to the same real number. Note that the computation of an ADC distance  is a sum over  over ADC_table entries provided by the pqcode. This sum is done over the entire length of the pqcode. \n",
    "\n",
    "We propose to create a  `K`-dimensional vector, that we call BWcode, that compresses a pqcode into a vector containing the counts of the different assigments to each centroid prototype over the pqcode. For example if we had a pqcode `[1,2,4,1,1,3,3,4]` represented with 4 centroids, we would create a bw code `[3,1,2,2]`. Then the adcomputation over the pqcode is the same as the adc computation over a bwcode provided that we multiply each adc_table entry by the value in the bwcode.\n",
    "\n",
    "To sum up, we can iterate over a `K`-dimensional vector that we call the BWcode and add the values in `adc_table_shared` weighted by the amount of times each prototype has been seen in the pqcode, making the computation faster as long as `K` is lower than the length of the pqcode."
   ]
  },
  {
   "cell_type": "code",
   "execution_count": 569,
   "id": "dda1ca3c",
   "metadata": {
    "ExecuteTime": {
     "end_time": "2022-08-25T22:25:59.530000+02:00",
     "start_time": "2022-08-25T20:25:59.525Z"
    }
   },
   "outputs": [
    {
     "data": {
      "text/plain": [
       "pq_code_to_bw_code (generic function with 1 method)"
      ]
     },
     "execution_count": 569,
     "metadata": {},
     "output_type": "execute_result"
    }
   ],
   "source": [
    "function pq_code_to_bw_code(pqcode, n_clusters)\n",
    "    bw_code = zeros(eltype(pqcode), n_clusters)\n",
    "    for c in pqcode\n",
    "        bw_code[c] += 1\n",
    "    end\n",
    "    return bw_code\n",
    "end"
   ]
  },
  {
   "cell_type": "code",
   "execution_count": 570,
   "id": "4d6e8adb",
   "metadata": {
    "ExecuteTime": {
     "end_time": "2022-08-25T22:26:00.206000+02:00",
     "start_time": "2022-08-25T20:26:00.185Z"
    }
   },
   "outputs": [],
   "source": [
    "n_examples = size(X_tr_vecs,2)\n",
    "bw_code = pq_code_to_bw_code(x_code, n_clusters);"
   ]
  },
  {
   "cell_type": "markdown",
   "id": "820b36d2",
   "metadata": {},
   "source": [
    "Now let´s verify that the distance between a query"
   ]
  },
  {
   "cell_type": "code",
   "execution_count": 571,
   "id": "d387608f",
   "metadata": {
    "ExecuteTime": {
     "end_time": "2022-08-25T22:26:04.422000+02:00",
     "start_time": "2022-08-25T20:26:04.416Z"
    }
   },
   "outputs": [],
   "source": [
    "function bw_adc_dist_shared(query_code, bw_code,  adc_table)\n",
    "    res = zero(eltype(adc_table))\n",
    "    @inbounds @simd for j in eachindex(bw_code)\n",
    "        res+= adc_table[j] * bw_code[j]\n",
    "    end\n",
    "    return res\n",
    "end\n",
    "\n",
    "if profile_flag\n",
    "    @benchmark bw_adc_dist_shared($query_code, $bw_code, $adc_table_shared)\n",
    "end"
   ]
  },
  {
   "cell_type": "code",
   "execution_count": 575,
   "id": "8e60fd49",
   "metadata": {
    "ExecuteTime": {
     "end_time": "2022-08-25T22:26:06.759000+02:00",
     "start_time": "2022-08-25T20:26:06.748Z"
    }
   },
   "outputs": [],
   "source": [
    "@assert isapprox(bw_adc_dist_shared(query_code, bw_code, adc_table_shared),\n",
    "                 adc_dist_shared(query_code, x_code, adc_table_shared))"
   ]
  },
  {
   "cell_type": "markdown",
   "id": "1c36b085",
   "metadata": {},
   "source": [
    "## Linear scann study"
   ]
  },
  {
   "cell_type": "markdown",
   "id": "832eb410",
   "metadata": {},
   "source": [
    "### Exact version"
   ]
  },
  {
   "cell_type": "code",
   "execution_count": 557,
   "id": "e9f22dc5",
   "metadata": {
    "ExecuteTime": {
     "end_time": "2022-08-25T22:26:32.452000+02:00",
     "start_time": "2022-08-25T20:26:19.707Z"
    }
   },
   "outputs": [],
   "source": [
    "function Euclidean0(x, query)\n",
    "    res = zero(eltype(x))\n",
    "    @inbounds @fastmath  for j in eachindex(x)\n",
    "        aux = (query[j] - x[j])\n",
    "        res += aux * aux\n",
    "    end\n",
    "    return sqrt(res)\n",
    "end\n",
    "\n",
    "function linear_scann_exact(dist, query, X)\n",
    "\n",
    "    n_features, n_examples = size(X)\n",
    "    distances = Array{eltype(query)}(undef, n_examples)\n",
    "    \n",
    "    @inbounds @fastmath  for j in 1:n_examples\n",
    "        distances[j] = dist(query, X[:,j])    \n",
    "    end\n",
    "    return distances\n",
    "end\n",
    "\n",
    "if profile_flag\n",
    "    @benchmark linear_scann_exact(Euclidean0, query, X_tr_vecs)\n",
    "end"
   ]
  },
  {
   "cell_type": "code",
   "execution_count": 558,
   "id": "4c6f17ac",
   "metadata": {
    "ExecuteTime": {
     "end_time": "2022-08-25T22:26:44.620000+02:00",
     "start_time": "2022-08-25T20:26:20.294Z"
    }
   },
   "outputs": [],
   "source": [
    "function Euclidean0(x, query)\n",
    "    res = zero(eltype(x))\n",
    "    @inbounds for j in eachindex(x)\n",
    "        aux = (query[j] - x[j])\n",
    "        res += aux * aux\n",
    "    end\n",
    "    return res\n",
    "end\n",
    "\n",
    "function linear_scann_exact(dist, query, X)\n",
    "\n",
    "    n_features, n_examples = size(X)\n",
    "    distances = Array{eltype(query)}(undef, n_examples)\n",
    "    \n",
    "    @inbounds @fastmath Threads.@threads for j in 1:n_examples\n",
    "        distances[j] = dist(query, X[:,j])    \n",
    "    end\n",
    "    return distances\n",
    "end\n",
    "\n",
    "if profile_flag\n",
    "    @benchmark linear_scann_exact(Euclidean0, query, X_tr_vecs)\n",
    "end"
   ]
  },
  {
   "cell_type": "code",
   "execution_count": 559,
   "id": "4c20142e",
   "metadata": {
    "ExecuteTime": {
     "end_time": "2022-08-25T22:26:56.328000+02:00",
     "start_time": "2022-08-25T20:26:20.780Z"
    }
   },
   "outputs": [],
   "source": [
    "function Euclidean0(x, query)\n",
    "    res = zero(eltype(x))\n",
    "    @inbounds @fastmath  for j in eachindex(x)\n",
    "        aux = (query[j] - x[j])\n",
    "        res += aux * aux\n",
    "    end\n",
    "    return sqrt(res)\n",
    "end\n",
    "\n",
    "function linear_scann_exact(dist, query, X)\n",
    "\n",
    "    n_features, n_examples = size(X)\n",
    "    distances = Array{eltype(query)}(undef, n_examples)\n",
    "    \n",
    "    @inbounds for j in 1:n_examples\n",
    "        distances[j] = dist(query, view(X,:,j))    \n",
    "    end\n",
    "    return distances\n",
    "end\n",
    "\n",
    "if profile_flag\n",
    "    @benchmark linear_scann_exact(Euclidean0, query, X_tr_vecs)\n",
    "end"
   ]
  },
  {
   "cell_type": "markdown",
   "id": "a4cd25b6",
   "metadata": {},
   "source": [
    "### ADC version"
   ]
  },
  {
   "cell_type": "code",
   "execution_count": 560,
   "id": "7a0b3199",
   "metadata": {
    "ExecuteTime": {
     "end_time": "2022-08-25T22:27:09.237000+02:00",
     "start_time": "2022-08-25T20:26:21.418Z"
    }
   },
   "outputs": [],
   "source": [
    "function linear_scann_shared(query, PQcodes, adc_table_shared, P_shared)\n",
    "    \n",
    "    query_code = encode_fast_shared(sqeuclidean, query, P_shared)\n",
    "    n_features, n_examples = size(PQcodes)\n",
    "    distances = Array{eltype(query)}(undef, n_examples)\n",
    "    \n",
    "    @inbounds @fastmath for j in 1:n_examples\n",
    "        distances[j] = adc_dist_shared(query_code,  view(PQcodes,:,j) ,  adc_table_shared)    \n",
    "    end\n",
    "    return distances\n",
    "end\n",
    "\n",
    "if profile_flag\n",
    "    @benchmark distances = linear_scann($query, $PQcodes, $adc_table_shared, $P_shared)\n",
    "end"
   ]
  },
  {
   "cell_type": "code",
   "execution_count": 561,
   "id": "93cccac7",
   "metadata": {
    "ExecuteTime": {
     "end_time": "2022-08-25T22:27:21.326000+02:00",
     "start_time": "2022-08-25T20:26:22.452Z"
    }
   },
   "outputs": [],
   "source": [
    "function linear_scann_shared_unrolled(query, PQcodes, adc_table_shared, P_shared)\n",
    "    \n",
    "    query_code = encode_fast_shared(sqeuclidean, query, P_shared)\n",
    "    n_features, n_examples = size(PQcodes)\n",
    "    distances = Array{eltype(query)}(undef, n_examples)\n",
    "    \n",
    "    @inbounds @fastmath Threads.@threads for j in 1:n_examples\n",
    "        distances[j] = adc_dist_shared_unrolled(query_code,  PQcodes[:,j] ,  adc_table_shared)    \n",
    "    end\n",
    "    return distances\n",
    "end\n",
    "\n",
    "if profile_flag\n",
    "    @benchmark distances = linear_scann_unrolled($query, $PQcodes, $adc_table_shared, $P_shared)\n",
    "end"
   ]
  },
  {
   "cell_type": "markdown",
   "id": "44ab161b",
   "metadata": {},
   "source": [
    "### ADC version with BW codes\n",
    "\n",
    "Now we will build a Matrix containing BW codes and use it to compute the ADC distance"
   ]
  },
  {
   "cell_type": "code",
   "execution_count": 562,
   "id": "925218ba",
   "metadata": {
    "ExecuteTime": {
     "end_time": "2022-08-25T23:32:04.290000+02:00",
     "start_time": "2022-08-25T21:32:04.286Z"
    }
   },
   "outputs": [],
   "source": [
    "n_examples = size(X_tr_vecs,2)\n",
    "BWcodes = Array{Int8}(undef, n_clusters, n_examples);\n",
    "bw_code = pq_code_to_bw_code(x_code, n_clusters);\n",
    "\n",
    "for j in 1:n_examples\n",
    "   BWcodes[:,j] .= pq_code_to_bw_code(PQcodes_shared[:,j], n_clusters)\n",
    "end"
   ]
  },
  {
   "cell_type": "code",
   "execution_count": 563,
   "id": "ca14aa44",
   "metadata": {
    "ExecuteTime": {
     "end_time": "2022-08-25T23:32:19.405000+02:00",
     "start_time": "2022-08-25T21:32:19.394Z"
    }
   },
   "outputs": [],
   "source": [
    "function bw_adc_dist_shared(query_code, bw_code,  adc_table)\n",
    "    res = zero(eltype(adc_table))\n",
    "    @inbounds @simd for j in eachindex(bw_code)\n",
    "        res+= adc_table[j] * bw_code[j]\n",
    "    end\n",
    "    return res\n",
    "end\n",
    "\n",
    "function linear_scann_bw(query, BWcodes, adc_table_shared, P_shared)\n",
    "    \n",
    "    query_code = encode_fast_shared(sqeuclidean, query, P_shared)\n",
    "    n_features, n_examples = size(BWcodes)\n",
    "    distances = Array{eltype(query)}(undef, n_examples)\n",
    "    n_clusters = size(BWcodes,1)\n",
    "    #@show n_clusters\n",
    "    @inbounds for i in 1:n_examples\n",
    "        \n",
    "        # Following code is equivalent to bw_adc_dist_shared(query_code, BWcodes[:,i],  adc_table_shared)\n",
    "        res = zero(eltype(adc_table_shared))\n",
    "        @simd for j in 1:n_clusters\n",
    "            res+= adc_table_shared[j] * BWcodes[j,i]\n",
    "        end        \n",
    "        distances[i] = res  \n",
    "    \n",
    "    end\n",
    "    return distances\n",
    "end\n",
    "\n",
    "if profile_flag\n",
    "    @benchmark linear_scann_bw($query, $BWcodes, $adc_table_shared, $P_shared)\n",
    "end"
   ]
  },
  {
   "cell_type": "code",
   "execution_count": 566,
   "id": "0676c2aa",
   "metadata": {
    "ExecuteTime": {
     "end_time": "2022-08-25T22:29:34.519000+02:00",
     "start_time": "2022-08-25T20:29:23.191Z"
    }
   },
   "outputs": [],
   "source": [
    "function bw_adc_dist_shared(query_code, bw_code,  adc_table)\n",
    "    res = zero(eltype(adc_table))\n",
    "    @inbounds @simd for j in eachindex(bw_code)\n",
    "        res+= adc_table[j] * bw_code[j]\n",
    "    end\n",
    "    return res\n",
    "end\n",
    "\n",
    "function linear_scann_bw_multithreaded(query, BWcodes, adc_table_shared, P_shared)\n",
    "    \n",
    "    query_code = encode_fast_shared(sqeuclidean, query, P_shared)\n",
    "    n_features, n_examples = size(BWcodes)\n",
    "    distances = Array{eltype(query)}(undef, n_examples)\n",
    "    n_clusters = size(BWcodes,1)\n",
    "    #@show n_clusters\n",
    "    @inbounds @fastmath Threads.@threads  for i in 1:n_examples\n",
    "       distances[i] = bw_adc_dist_shared(query_code, view(BWcodes,:,i),  adc_table_shared)\n",
    "    end    \n",
    "    \n",
    "    return distances\n",
    "end\n",
    "\n",
    "if profile_flag\n",
    "    @benchmark distances = linear_scann_bw_multithreaded($query, $BWcodes, $adc_table_shared, $P_shared)\n",
    "end"
   ]
  },
  {
   "cell_type": "code",
   "execution_count": 568,
   "id": "e4d1ac6c",
   "metadata": {},
   "outputs": [
    {
     "data": {
      "text/plain": [
       "32-element Vector{Float32}:\n",
       "   0.77072227\n",
       "  46.943527\n",
       "  82.36796\n",
       "  88.51077\n",
       "  65.90065\n",
       "   5.0251217\n",
       "  64.46652\n",
       "  79.91107\n",
       "   8.535732\n",
       "  96.571106\n",
       "  79.91213\n",
       "  11.948233\n",
       "  48.95486\n",
       "   ⋮\n",
       " 142.58289\n",
       "   2.4551544\n",
       "  41.042263\n",
       " 101.97097\n",
       "  17.09277\n",
       "  43.979607\n",
       "  10.488089\n",
       "  36.468975\n",
       "  21.490381\n",
       "  77.46107\n",
       "   9.049472\n",
       "  29.478813"
      ]
     },
     "execution_count": 568,
     "metadata": {},
     "output_type": "execute_result"
    }
   ],
   "source": [
    "query = X_te_vecs[:,1]\n",
    "adc_table = compute_ADC_shared(query, P_shared, euclidean)\n",
    "#pq_distances = linear_scann(query, PQcodes_test, adc_table, P);\n",
    "#closest_id = sortperm(pq_distances)[1]\n",
    "#hcat(query, X_te_vecs[:, closest_id])[1:4,:]"
   ]
  },
  {
   "cell_type": "code",
   "execution_count": null,
   "id": "06c2a5c0",
   "metadata": {},
   "outputs": [],
   "source": []
  },
  {
   "cell_type": "code",
   "execution_count": null,
   "id": "5802f7fa",
   "metadata": {},
   "outputs": [],
   "source": []
  },
  {
   "cell_type": "code",
   "execution_count": null,
   "id": "cf7fb499",
   "metadata": {},
   "outputs": [],
   "source": []
  },
  {
   "cell_type": "code",
   "execution_count": null,
   "id": "004b7461",
   "metadata": {},
   "outputs": [],
   "source": []
  },
  {
   "cell_type": "code",
   "execution_count": null,
   "id": "72345935",
   "metadata": {},
   "outputs": [],
   "source": []
  },
  {
   "cell_type": "code",
   "execution_count": 543,
   "id": "f49696e7",
   "metadata": {},
   "outputs": [
    {
     "data": {
      "text/html": [
       "<div class=\"data-frame\"><p>5 rows × 4 columns</p><table class=\"data-frame\"><thead><tr><th></th><th>x</th><th>x_closest</th><th>x_decoded</th><th>x_pqcode</th></tr><tr><th></th><th title=\"Float32\">Float32</th><th title=\"Float32\">Float32</th><th title=\"Float32\">Float32</th><th title=\"Int8\">Int8</th></tr></thead><tbody><tr><th>1</th><td>1.0</td><td>1.0</td><td>0.229278</td><td>8</td></tr><tr><th>2</th><td>3.0</td><td>3.0</td><td>2.45516</td><td>6</td></tr><tr><th>3</th><td>11.0</td><td>11.0</td><td>9.93614</td><td>3</td></tr><tr><th>4</th><td>110.0</td><td>110.0</td><td>103.101</td><td>10</td></tr><tr><th>5</th><td>62.0</td><td>62.0</td><td>60.9214</td><td>15</td></tr></tbody></table></div>"
      ],
      "text/latex": [
       "\\begin{tabular}{r|cccc}\n",
       "\t& x & x\\_closest & x\\_decoded & x\\_pqcode\\\\\n",
       "\t\\hline\n",
       "\t& Float32 & Float32 & Float32 & Int8\\\\\n",
       "\t\\hline\n",
       "\t1 & 1.0 & 1.0 & 0.229278 & 8 \\\\\n",
       "\t2 & 3.0 & 3.0 & 2.45516 & 6 \\\\\n",
       "\t3 & 11.0 & 11.0 & 9.93614 & 3 \\\\\n",
       "\t4 & 110.0 & 110.0 & 103.101 & 10 \\\\\n",
       "\t5 & 62.0 & 62.0 & 60.9214 & 15 \\\\\n",
       "\\end{tabular}\n"
      ],
      "text/plain": [
       "\u001b[1m5×4 DataFrame\u001b[0m\n",
       "\u001b[1m Row \u001b[0m│\u001b[1m x       \u001b[0m\u001b[1m x_closest \u001b[0m\u001b[1m x_decoded  \u001b[0m\u001b[1m x_pqcode \u001b[0m\n",
       "\u001b[1m     \u001b[0m│\u001b[90m Float32 \u001b[0m\u001b[90m Float32   \u001b[0m\u001b[90m Float32    \u001b[0m\u001b[90m Int8     \u001b[0m\n",
       "─────┼──────────────────────────────────────────\n",
       "   1 │     1.0        1.0    0.229278         8\n",
       "   2 │     3.0        3.0    2.45516          6\n",
       "   3 │    11.0       11.0    9.93614          3\n",
       "   4 │   110.0      110.0  103.101           10\n",
       "   5 │    62.0       62.0   60.9214          15"
      ]
     },
     "execution_count": 543,
     "metadata": {},
     "output_type": "execute_result"
    }
   ],
   "source": [
    "query = X_te_vecs[:,1]\n",
    "adc_table = compute_ADC(query, P, Euclidean0)\n",
    "pq_distances = linear_scann(query, PQcodes_test, adc_table, P);\n",
    "x_closest = vec(get_top_k_from_distances(X_te_vecs, pq_distances, 1));\n",
    "\n",
    "df_x = DataFrame(Dict(:x => x, \n",
    "                      :x_decoded => x_decoded,\n",
    "                      :x_pqcode => x_pqcode,\n",
    "                      :x_closest => x_closest\n",
    "                      ))\n",
    "\n",
    "first(df_x, 5)"
   ]
  },
  {
   "cell_type": "code",
   "execution_count": null,
   "id": "3295ebd5",
   "metadata": {},
   "outputs": [],
   "source": []
  },
  {
   "cell_type": "code",
   "execution_count": null,
   "id": "7299bdc4",
   "metadata": {},
   "outputs": [],
   "source": []
  },
  {
   "cell_type": "markdown",
   "id": "22f78a94",
   "metadata": {},
   "source": [
    "# Quality verification\n",
    "\n",
    "Let's inspect the recall of pqlinearscann with respect to exact search:"
   ]
  },
  {
   "cell_type": "code",
   "execution_count": 396,
   "id": "2b51c2aa",
   "metadata": {},
   "outputs": [],
   "source": [
    "function recall(predicted, relevant, eval_at)\n",
    "    \"\"\"\n",
    "    fraction of the relevant documents that are successfully retrieved\n",
    "    \"\"\"\n",
    "    if eval_at == 0\n",
    "        return 0.0\n",
    "    end\n",
    "    \n",
    "    predicted_at_k = predicted[1:eval_at]\n",
    "    n_predicted_and_relevant =  length(intersect( Set(predicted_at_k), Set(relevant))) \n",
    "    return n_predicted_and_relevant/ length(relevant)\n",
    "end\n",
    "\n",
    "query_id = 1\n",
    "query = X_te_vecs[:,query_id];\n",
    "query_true_neighbors = true_neighbors[:,query_id]\n",
    "top_k = 100\n",
    "\n",
    "n_examples = size(X_tr_vecs,2)\n",
    "BWcodes = Array{Int8}(undef, n_clusters, n_examples);\n",
    "bw_code = pq_code_to_bw_code(x_code, n_clusters);\n",
    "\n",
    "for j in 1:n_examples\n",
    "   BWcodes[:,j] .= pq_code_to_bw_code(PQcodes_shared[:,j], n_clusters)\n",
    "end\n",
    "\n",
    "adc_table_shared  = Float32.(compute_ADC_shared(query, P_shared, euclidean));\n",
    "bw_distances = linear_scann_bw(query, BWcodes, adc_table_shared, P_shared);\n",
    "top_k_bw = sortperm(bw_distances)[1:top_k];\n"
   ]
  },
  {
   "cell_type": "code",
   "execution_count": null,
   "id": "eb3c4488",
   "metadata": {},
   "outputs": [],
   "source": []
  },
  {
   "cell_type": "code",
   "execution_count": null,
   "id": "78c8b4ae",
   "metadata": {},
   "outputs": [],
   "source": []
  },
  {
   "cell_type": "code",
   "execution_count": null,
   "id": "b1edc85b",
   "metadata": {},
   "outputs": [],
   "source": []
  },
  {
   "cell_type": "code",
   "execution_count": null,
   "id": "aae2de11",
   "metadata": {},
   "outputs": [],
   "source": []
  },
  {
   "cell_type": "code",
   "execution_count": null,
   "id": "19227c36",
   "metadata": {},
   "outputs": [],
   "source": []
  },
  {
   "cell_type": "code",
   "execution_count": 364,
   "id": "0be5cfde",
   "metadata": {},
   "outputs": [
    {
     "ename": "LoadError",
     "evalue": "InexactError: trunc(Int8, 246)",
     "output_type": "error",
     "traceback": [
      "InexactError: trunc(Int8, 246)",
      "",
      "Stacktrace:",
      "  [1] throw_inexacterror(f::Symbol, #unused#::Type{Int8}, val::Int64)",
      "    @ Core ./boot.jl:614",
      "  [2] checked_trunc_sint",
      "    @ ./boot.jl:636 [inlined]",
      "  [3] toInt8",
      "    @ ./boot.jl:651 [inlined]",
      "  [4] Int8",
      "    @ ./boot.jl:761 [inlined]",
      "  [5] convert",
      "    @ ./number.jl:7 [inlined]",
      "  [6] setindex!",
      "    @ ./array.jl:966 [inlined]",
      "  [7] encode_fast_shared(dist::SqEuclidean, vector::Vector{Float32}, prototypes::Matrix{Float32})",
      "    @ Main ./In[320]:17",
      "  [8] linear_scann(query::Vector{Float32}, PQcodes::LinearAlgebra.Adjoint{Int32, Matrix{Int32}}, adc_table_shared::Matrix{Float32}, P_shared::Matrix{Float32})",
      "    @ Main ./In[344]:3",
      "  [9] top-level scope",
      "    @ In[364]:2",
      " [10] eval",
      "    @ ./boot.jl:368 [inlined]",
      " [11] include_string(mapexpr::typeof(REPL.softscope), mod::Module, code::String, filename::String)",
      "    @ Base ./loading.jl:1428"
     ]
    }
   ],
   "source": [
    "\n",
    "pq_distances = linear_scann(query, PQcodes, adc_table, P);\n",
    "top_k_pq = sortperm(pq_distances)[1:top_k];\n",
    "\n"
   ]
  },
  {
   "cell_type": "code",
   "execution_count": null,
   "id": "654a8c56",
   "metadata": {},
   "outputs": [],
   "source": [
    "\n",
    "pq_distances = linear_scann(query, PQcodes, adc_table, P);\n",
    "top_k_pq = sortperm(pq_distances)[1:top_k];\n",
    "\n",
    "ex_distances = linear_scann_exact(query, X_tr_vecs)\n",
    "top_k_ex = sortperm(ex_distances)[1:top_k];\n",
    "\n",
    "@show recall(top_k_ex, query_true_neighbors, 100)\n",
    "@show recall(top_k_pq, query_true_neighbors, 100)\n",
    "@show recall(top_k_bw, query_true_neighbors, 100)\n",
    "\n",
    "df = DataFrame(Dict(:top_k_ex => top_k_ex,\n",
    "                    :top_k_pq => top_k_pq,\n",
    "                    :top_k_bw => top_k_bw))"
   ]
  },
  {
   "cell_type": "code",
   "execution_count": null,
   "id": "2ec6cb0d",
   "metadata": {},
   "outputs": [],
   "source": []
  },
  {
   "cell_type": "code",
   "execution_count": null,
   "id": "ddeec96c",
   "metadata": {},
   "outputs": [],
   "source": []
  },
  {
   "cell_type": "code",
   "execution_count": null,
   "id": "ea460b08",
   "metadata": {
    "scrolled": false
   },
   "outputs": [],
   "source": [
    "bw_distances = linear_scann_bw(query, BWcodes, adc_table_shared, P_shared);\n",
    "bw_distances"
   ]
  },
  {
   "cell_type": "code",
   "execution_count": null,
   "id": "4bb05932",
   "metadata": {},
   "outputs": [],
   "source": [
    "query"
   ]
  },
  {
   "cell_type": "code",
   "execution_count": null,
   "id": "7524f98e",
   "metadata": {},
   "outputs": [],
   "source": [
    "PQcodes[:,1]"
   ]
  },
  {
   "cell_type": "code",
   "execution_count": null,
   "id": "e1deca0b",
   "metadata": {},
   "outputs": [],
   "source": [
    "plot(x, y)"
   ]
  },
  {
   "cell_type": "code",
   "execution_count": null,
   "id": "5451a4b5",
   "metadata": {},
   "outputs": [],
   "source": []
  },
  {
   "cell_type": "code",
   "execution_count": null,
   "id": "0160179c",
   "metadata": {},
   "outputs": [],
   "source": [
    "X_tr_vecs[:,1]"
   ]
  },
  {
   "cell_type": "code",
   "execution_count": null,
   "id": "d647f8a8",
   "metadata": {},
   "outputs": [],
   "source": []
  },
  {
   "cell_type": "code",
   "execution_count": null,
   "id": "f35cee76",
   "metadata": {},
   "outputs": [],
   "source": [
    "n = 3\n",
    "sqeuclidean(query, X_tr_vecs[:,n]) , distances[n], sqeuclidean(sqeuclidean(query, X_tr_vecs[:,n]), distances[n])"
   ]
  },
  {
   "cell_type": "code",
   "execution_count": null,
   "id": "7171b7e9",
   "metadata": {},
   "outputs": [],
   "source": [
    "n = 4\n",
    "sqeuclidean(distances[n], sqeuclidean(sqeuclidean(query, X_tr_vecs[:,n]), distances[n])"
   ]
  },
  {
   "cell_type": "code",
   "execution_count": null,
   "id": "d25fd1cb",
   "metadata": {},
   "outputs": [],
   "source": [
    "n = 1\n",
    "sqeuclidean(query, X_tr_vecs[:,n]) , distances[n], sqeuclidean(sqeuclidean(query, X_tr_vecs[:,n]), distances[n])"
   ]
  },
  {
   "cell_type": "code",
   "execution_count": null,
   "id": "1cce98c9",
   "metadata": {},
   "outputs": [],
   "source": []
  },
  {
   "cell_type": "markdown",
   "id": "ad237b8d",
   "metadata": {},
   "source": [
    "## Euclidean  Squared Distance"
   ]
  },
  {
   "cell_type": "code",
   "execution_count": null,
   "id": "33faf602",
   "metadata": {
    "ExecuteTime": {
     "end_time": "2022-08-21T22:43:50.828000+02:00",
     "start_time": "2022-08-21T20:43:40.329Z"
    }
   },
   "outputs": [],
   "source": [
    "function SEuclidean(X, query)\n",
    "    d = (query .- X) .* (query .- X)\n",
    "    return sum(d, dims=1)\n",
    "end"
   ]
  },
  {
   "cell_type": "code",
   "execution_count": null,
   "id": "724c7634",
   "metadata": {
    "ExecuteTime": {
     "end_time": "2022-08-23T00:25:06.450000+02:00",
     "start_time": "2022-08-22T22:25:06.339Z"
    }
   },
   "outputs": [],
   "source": [
    "function SEuclidean_2(X, query)\n",
    "    n_features, n_examples = size(X)\n",
    "    result = zeros(n_examples)\n",
    "    for m in 1:n_examples\n",
    "        res = zero(eltype(X))\n",
    "        for j in 1:n_features\n",
    "            aux = (query[j] .- X[j,m])\n",
    "            res += aux * aux\n",
    "        end\n",
    "        result[m] = res\n",
    "    end\n",
    "    return result\n",
    "end"
   ]
  },
  {
   "cell_type": "code",
   "execution_count": null,
   "id": "37ccaf60",
   "metadata": {
    "ExecuteTime": {
     "end_time": "2022-08-21T22:43:50.982000+02:00",
     "start_time": "2022-08-21T20:43:40.334Z"
    }
   },
   "outputs": [],
   "source": [
    "query = X_te_vecs[:,1];"
   ]
  },
  {
   "cell_type": "code",
   "execution_count": null,
   "id": "63c38b24",
   "metadata": {
    "ExecuteTime": {
     "end_time": "2022-08-21T22:44:07.309000+02:00",
     "start_time": "2022-08-21T20:43:40.337Z"
    }
   },
   "outputs": [],
   "source": [
    "@benchmark SEuclidean(X_te_vecs, query)"
   ]
  },
  {
   "cell_type": "code",
   "execution_count": null,
   "id": "48e06d68",
   "metadata": {
    "ExecuteTime": {
     "end_time": "2022-08-21T22:44:18.676000+02:00",
     "start_time": "2022-08-21T20:43:40.340Z"
    }
   },
   "outputs": [],
   "source": [
    "@benchmark SEuclidean_2(X_te_vecs, query)"
   ]
  },
  {
   "cell_type": "code",
   "execution_count": null,
   "id": "393ca973",
   "metadata": {
    "ExecuteTime": {
     "end_time": "2022-08-21T22:44:33.330000+02:00",
     "start_time": "2022-08-21T20:43:40.342Z"
    }
   },
   "outputs": [],
   "source": [
    "@benchmark SEuclidean(X_tr_vecs, query)"
   ]
  },
  {
   "cell_type": "code",
   "execution_count": null,
   "id": "162cc947",
   "metadata": {
    "ExecuteTime": {
     "end_time": "2022-08-21T22:44:45.423000+02:00",
     "start_time": "2022-08-21T20:43:40.344Z"
    }
   },
   "outputs": [],
   "source": [
    "@benchmark SEuclidean_2(X_tr_vecs, query)"
   ]
  },
  {
   "cell_type": "markdown",
   "id": "25eab1bd",
   "metadata": {},
   "source": [
    "## Finding top k distances (and their ids)\n",
    "\n",
    "\n",
    "The first naive thing we can do consist on computing all distances and then sorting them to get the top k closest vectors to the query vector"
   ]
  },
  {
   "cell_type": "code",
   "execution_count": null,
   "id": "35aa29a0",
   "metadata": {
    "ExecuteTime": {
     "end_time": "2022-08-21T22:44:45.530000+02:00",
     "start_time": "2022-08-21T20:43:40.347Z"
    }
   },
   "outputs": [],
   "source": [
    "function top_k_ids(X, query)\n",
    "    distances = SEuclidean_2(X, query)\n",
    "    top_k_indices = sortperm(distances)\n",
    "    return top_k_indices\n",
    "end"
   ]
  },
  {
   "cell_type": "code",
   "execution_count": null,
   "id": "419fe8f4",
   "metadata": {
    "ExecuteTime": {
     "end_time": "2022-08-21T22:44:56.949000+02:00",
     "start_time": "2022-08-21T20:43:40.350Z"
    }
   },
   "outputs": [],
   "source": [
    "@benchmark top_k_ids(X_te_vecs, query)[1:10]"
   ]
  },
  {
   "cell_type": "markdown",
   "id": "52713791",
   "metadata": {},
   "source": [
    "A slightly better approach consist on using `partialsortperm` to simply sort a subset of the distances vector."
   ]
  },
  {
   "cell_type": "code",
   "execution_count": null,
   "id": "dc886ca6",
   "metadata": {
    "ExecuteTime": {
     "end_time": "2022-08-21T22:44:57.064000+02:00",
     "start_time": "2022-08-21T20:43:40.354Z"
    },
    "scrolled": true
   },
   "outputs": [],
   "source": [
    "function top_k_ids_2(X, query, k)\n",
    "    distances = SEuclidean_2(X, query)\n",
    "    top_k_indices = partialsortperm(distances, 1:k)\n",
    "    return top_k_indices\n",
    "end"
   ]
  },
  {
   "cell_type": "code",
   "execution_count": null,
   "id": "af71f04b",
   "metadata": {
    "ExecuteTime": {
     "end_time": "2022-08-21T22:45:09.155000+02:00",
     "start_time": "2022-08-21T20:43:40.356Z"
    },
    "scrolled": true
   },
   "outputs": [],
   "source": [
    "@benchmark top_k_ids_2(X_te_vecs, query, 10)"
   ]
  },
  {
   "cell_type": "markdown",
   "id": "4ad73a18",
   "metadata": {},
   "source": [
    "### Storing top k distances in a priority queue\n",
    "\n",
    "A better alternative consists on using a priority queue. This. queue will keep only k distances in memory (no need to store all distances between the query point and all possible candidates)."
   ]
  },
  {
   "cell_type": "code",
   "execution_count": null,
   "id": "22936250",
   "metadata": {
    "ExecuteTime": {
     "end_time": "2022-08-21T22:45:10.625000+02:00",
     "start_time": "2022-08-21T20:43:40.359Z"
    }
   },
   "outputs": [],
   "source": [
    "sort!([1,54,3,24,10])"
   ]
  },
  {
   "cell_type": "code",
   "execution_count": null,
   "id": "2ddd66a9",
   "metadata": {
    "ExecuteTime": {
     "end_time": "2022-08-21T22:45:10.628000+02:00",
     "start_time": "2022-08-21T20:43:40.361Z"
    }
   },
   "outputs": [],
   "source": [
    "a = [1,2,3,4,5]"
   ]
  },
  {
   "cell_type": "code",
   "execution_count": null,
   "id": "55e6429d",
   "metadata": {
    "ExecuteTime": {
     "end_time": "2022-08-21T22:45:10.736000+02:00",
     "start_time": "2022-08-21T20:43:40.363Z"
    }
   },
   "outputs": [],
   "source": [
    "function SEuclidean_3(X, query, top_k)\n",
    "    result = sort(SEuclidean_2(X[:, 1:top_k], query))\n",
    "    n_features, n_examples = size(X)\n",
    "    \n",
    "    for m in top_k:n_examples\n",
    "        res = zero(eltype(X))\n",
    "        for j in 1:n_features\n",
    "            aux = (query[j] .- X[j,m])\n",
    "            res += aux * aux\n",
    "        end\n",
    "        dist = res/n_features\n",
    "        \n",
    "        # see if current mse is in the top pile\n",
    "        if dist < result[end]\n",
    "            j = top_k \n",
    "            #revisamos la lista resultado de izq a derecha\n",
    "            while dist < result[j-1]\n",
    "                j = j-1\n",
    "                if j == 1\n",
    "                    break\n",
    "                end\n",
    "            end\n",
    "            \n",
    "            result[j+1:end] .= result[j:end-1]\n",
    "            result[j] = dist\n",
    "         end\n",
    "\n",
    "    end\n",
    "    return result\n",
    "end"
   ]
  },
  {
   "cell_type": "code",
   "execution_count": null,
   "id": "e7e04d31",
   "metadata": {
    "ExecuteTime": {
     "end_time": "2022-08-21T22:45:22.967000+02:00",
     "start_time": "2022-08-21T20:43:40.365Z"
    }
   },
   "outputs": [],
   "source": [
    "@benchmark SEuclidean_3(X_tr_vecs, query, 10) "
   ]
  },
  {
   "cell_type": "code",
   "execution_count": null,
   "id": "7d8bf421",
   "metadata": {
    "ExecuteTime": {
     "end_time": "2022-08-21T22:45:35.596000+02:00",
     "start_time": "2022-08-21T20:43:40.368Z"
    }
   },
   "outputs": [],
   "source": [
    "@benchmark top_k_ids_2(X_tr_vecs, query, 10)"
   ]
  },
  {
   "cell_type": "code",
   "execution_count": null,
   "id": "e9af1fba",
   "metadata": {
    "ExecuteTime": {
     "end_time": "2022-08-21T22:45:35.709000+02:00",
     "start_time": "2022-08-21T20:43:40.372Z"
    }
   },
   "outputs": [],
   "source": [
    "function SEuclidean_4(X, query, top_k)\n",
    "    \n",
    "    result = sort(SEuclidean_2(X[:, 1:top_k], query))\n",
    "    n_features, n_examples = size(X)\n",
    "    \n",
    "    @inbounds @fastmath for m in top_k:n_examples\n",
    "        res = zero(eltype(X))\n",
    "        @simd for j in 1:n_features\n",
    "            aux = (query[j] .- X[j,m])\n",
    "            res += aux * aux\n",
    "        end\n",
    "        dist = res\n",
    "        \n",
    "        # see if current mse is in the top pile\n",
    "        if dist < result[end]\n",
    "            j = top_k \n",
    "            #revisamos la lista resultado de izq a derecha\n",
    "            while dist < result[j-1]\n",
    "                j = j-1\n",
    "                if j == 1\n",
    "                    break\n",
    "                end\n",
    "            end            \n",
    "            result[j+1:end] .= result[j:end-1]\n",
    "            result[j] = dist\n",
    "         end\n",
    "    end\n",
    "    return result\n",
    "end\n"
   ]
  },
  {
   "cell_type": "code",
   "execution_count": null,
   "id": "d7244a94",
   "metadata": {
    "ExecuteTime": {
     "end_time": "2022-08-21T22:45:47.475000+02:00",
     "start_time": "2022-08-21T20:43:40.374Z"
    }
   },
   "outputs": [],
   "source": [
    "@benchmark SEuclidean_4(X_tr_vecs, query, 10) "
   ]
  },
  {
   "cell_type": "code",
   "execution_count": null,
   "id": "fc0fa386",
   "metadata": {
    "ExecuteTime": {
     "end_time": "2022-08-21T22:45:58.767000+02:00",
     "start_time": "2022-08-21T20:43:40.376Z"
    }
   },
   "outputs": [],
   "source": [
    "X_tr_200k = X_tr_vecs[:,1:200_000]\n",
    "@benchmark SEuclidean_4(X_tr_200k, query, 10) "
   ]
  },
  {
   "cell_type": "code",
   "execution_count": null,
   "id": "e1a8902b",
   "metadata": {
    "ExecuteTime": {
     "end_time": "2022-08-21T22:45:59.322000+02:00",
     "start_time": "2022-08-21T20:43:40.378Z"
    },
    "scrolled": true
   },
   "outputs": [],
   "source": [
    "SEuclidean_4(X_tr_vecs, query, 10)"
   ]
  },
  {
   "cell_type": "code",
   "execution_count": null,
   "id": "e0309ffe",
   "metadata": {
    "ExecuteTime": {
     "end_time": "2022-08-21T22:46:05.344000+02:00",
     "start_time": "2022-08-21T20:43:40.381Z"
    },
    "scrolled": true
   },
   "outputs": [],
   "source": [
    "function SEuclidean_5(X, query, top_k)\n",
    "    \n",
    "    result = sort(SEuclidean_2(X[:, 1:top_k], query))\n",
    "    n_features, n_examples = size(X)\n",
    "    \n",
    "    for m in top_k:n_examples\n",
    "        res = zero(eltype(X))\n",
    "        @turbo  for j in 1:n_features\n",
    "            aux = (query[j] - X[j,m])\n",
    "            res += aux * aux\n",
    "        end\n",
    "        dist = res\n",
    "        \n",
    "        # see if current mse is in the top pile\n",
    "        if dist < result[end]\n",
    "            j = top_k \n",
    "            #revisamos la lista resultado de izq a derecha\n",
    "            while dist < result[j-1]\n",
    "                j = j-1\n",
    "                if j == 1\n",
    "                    break\n",
    "                end\n",
    "            end            \n",
    "            result[j+1:end] .= result[j:end-1]\n",
    "            result[j] = dist\n",
    "         end\n",
    "    end\n",
    "    return result\n",
    "end"
   ]
  },
  {
   "cell_type": "code",
   "execution_count": null,
   "id": "46172a52",
   "metadata": {
    "ExecuteTime": {
     "end_time": "2022-08-21T22:46:29.789000+02:00",
     "start_time": "2022-08-21T20:43:40.383Z"
    },
    "scrolled": true
   },
   "outputs": [],
   "source": [
    "@benchmark SEuclidean_5(X_tr_200k, query, 10) "
   ]
  },
  {
   "cell_type": "markdown",
   "id": "bad1d4a7",
   "metadata": {},
   "source": [
    "# Comparison with Distances.jl\n",
    "\n",
    "\n",
    "Distances.jl provides the method 'pairwise' to compute pairwise distances between two matrices."
   ]
  },
  {
   "cell_type": "code",
   "execution_count": null,
   "id": "7b260685",
   "metadata": {
    "ExecuteTime": {
     "end_time": "2022-08-21T22:46:29.822000+02:00",
     "start_time": "2022-08-21T20:43:40.387Z"
    },
    "scrolled": true
   },
   "outputs": [],
   "source": [
    "@show typeof(query)\n",
    "@show size(query)\n",
    "@show typeof(X_tr_vecs)\n",
    "@show size(X_tr_vecs)"
   ]
  },
  {
   "cell_type": "code",
   "execution_count": null,
   "id": "3f89e423",
   "metadata": {
    "ExecuteTime": {
     "end_time": "2022-08-21T22:46:30.937000+02:00",
     "start_time": "2022-08-21T20:43:40.389Z"
    }
   },
   "outputs": [],
   "source": [
    "v1 = [1,2,3]\n",
    "v2 = [0,0,1]\n",
    "\n",
    "y = [0,0,2]\n",
    "X = [v1 v2]"
   ]
  },
  {
   "cell_type": "code",
   "execution_count": null,
   "id": "f3a85adc",
   "metadata": {
    "ExecuteTime": {
     "end_time": "2022-08-21T22:46:30.946000+02:00",
     "start_time": "2022-08-21T20:43:40.391Z"
    }
   },
   "outputs": [],
   "source": [
    "function SEuclidean_5(X, query, top_k)\n",
    "    \n",
    "    result = sort(SEuclidean_5(X[:, 1:top_k], query))\n",
    "    n_features, n_examples = size(X)\n",
    "    \n",
    "    for m in top_k:n_examples\n",
    "        dist = zero(eltype(X))\n",
    "        @turbo  for j in 1:n_features\n",
    "            dist = (query[j] - X[j,m])\n",
    "            dist += aux * aux\n",
    "        end\n",
    "        \n",
    "        # see if current mse is in the top pile\n",
    "        if dist < result[end]\n",
    "            j = top_k \n",
    "            #revisamos la lista resultado de izq a derecha\n",
    "            while dist < result[j-1]\n",
    "                j = j-1\n",
    "                if j == 1\n",
    "                    break\n",
    "                end\n",
    "            end            \n",
    "            result[j+1:end] .= result[j:end-1]\n",
    "            result[j] = dist\n",
    "         end\n",
    "    end\n",
    "    return result\n",
    "end"
   ]
  },
  {
   "cell_type": "code",
   "execution_count": null,
   "id": "fb6acc9f",
   "metadata": {
    "ExecuteTime": {
     "end_time": "2022-08-21T22:46:30.950000+02:00",
     "start_time": "2022-08-21T20:43:40.393Z"
    }
   },
   "outputs": [],
   "source": [
    "function SEuclidean_2(X, query)\n",
    "    n_features, n_examples = size(X)\n",
    "    result = zeros(eltype(X), n_examples)\n",
    "    for m in 1:n_examples\n",
    "        res = zero(eltype(X))\n",
    "        for j in 1:n_features\n",
    "            aux = (query[j] .- X[j,m])\n",
    "            res += aux * aux\n",
    "        end\n",
    "        result[m] = res\n",
    "    end\n",
    "    return result\n",
    "end"
   ]
  },
  {
   "cell_type": "code",
   "execution_count": null,
   "id": "430436b6",
   "metadata": {
    "ExecuteTime": {
     "end_time": "2022-08-23T23:24:45.697000+02:00",
     "start_time": "2022-08-23T21:24:45.677Z"
    }
   },
   "outputs": [],
   "source": [
    "y_colvec = [y y][:,[1]]\n",
    "query_mat = [query query][:,[1]];"
   ]
  },
  {
   "cell_type": "code",
   "execution_count": null,
   "id": "3d6f4686",
   "metadata": {
    "ExecuteTime": {
     "end_time": "2022-08-21T22:46:31.146000+02:00",
     "start_time": "2022-08-21T20:43:40.397Z"
    }
   },
   "outputs": [],
   "source": [
    "SEuclidean_2(X, y)"
   ]
  },
  {
   "cell_type": "code",
   "execution_count": null,
   "id": "6a8f17f8",
   "metadata": {
    "ExecuteTime": {
     "end_time": "2022-08-21T22:46:32.220000+02:00",
     "start_time": "2022-08-21T20:43:40.399Z"
    }
   },
   "outputs": [],
   "source": [
    "pairwise(SqEuclidean(), y_colvec, X)"
   ]
  },
  {
   "cell_type": "code",
   "execution_count": null,
   "id": "f83dc2f1",
   "metadata": {
    "ExecuteTime": {
     "end_time": "2022-08-21T22:46:48.093000+02:00",
     "start_time": "2022-08-21T20:43:40.406Z"
    }
   },
   "outputs": [],
   "source": [
    "@benchmark pairwise(SqEuclidean(), query_mat, X_tr_vecs)"
   ]
  },
  {
   "cell_type": "code",
   "execution_count": null,
   "id": "676611a3",
   "metadata": {
    "ExecuteTime": {
     "end_time": "2022-08-21T22:47:00.160000+02:00",
     "start_time": "2022-08-21T20:43:40.408Z"
    }
   },
   "outputs": [],
   "source": [
    "@benchmark SEuclidean_2(X_tr_vecs, query)"
   ]
  },
  {
   "cell_type": "code",
   "execution_count": null,
   "id": "944731d5",
   "metadata": {
    "ExecuteTime": {
     "end_time": "2022-08-21T22:47:12.235000+02:00",
     "start_time": "2022-08-21T20:43:40.410Z"
    },
    "scrolled": true
   },
   "outputs": [],
   "source": [
    "@benchmark SEuclidean_4(X_tr_vecs, query, 10)"
   ]
  },
  {
   "cell_type": "markdown",
   "id": "887de048",
   "metadata": {},
   "source": [
    "We can verify that the sorted distances by `SEuclidean_4` are the same as the results provided with `pairwise` from `Distances.jl`"
   ]
  },
  {
   "cell_type": "code",
   "execution_count": null,
   "id": "a5ebdbeb",
   "metadata": {
    "ExecuteTime": {
     "end_time": "2022-08-21T22:47:12.965000+02:00",
     "start_time": "2022-08-21T20:43:40.412Z"
    }
   },
   "outputs": [],
   "source": [
    "res2 = SEuclidean_4(X_tr_vecs, query, 10);\n",
    "res = pairwise(SqEuclidean(), query_mat, X_tr_vecs)\n",
    "res = sort(res, dims=2)[1:10]\n",
    "res == res2"
   ]
  },
  {
   "cell_type": "markdown",
   "id": "844364e0",
   "metadata": {
    "ExecuteTime": {
     "end_time": "2022-08-21T22:20:19.731000+02:00",
     "start_time": "2022-08-21T20:20:19.269Z"
    }
   },
   "source": [
    "## Parallel implementation"
   ]
  },
  {
   "cell_type": "code",
   "execution_count": null,
   "id": "30d1267b",
   "metadata": {},
   "outputs": [],
   "source": []
  },
  {
   "cell_type": "code",
   "execution_count": null,
   "id": "2ec67e5c",
   "metadata": {},
   "outputs": [],
   "source": []
  },
  {
   "cell_type": "code",
   "execution_count": null,
   "id": "7af757b8",
   "metadata": {},
   "outputs": [],
   "source": []
  },
  {
   "cell_type": "markdown",
   "id": "8bd05788",
   "metadata": {},
   "source": [
    "# SIMD tests"
   ]
  },
  {
   "cell_type": "code",
   "execution_count": null,
   "id": "2cd82b22",
   "metadata": {
    "ExecuteTime": {
     "end_time": "2022-08-21T22:47:13.063000+02:00",
     "start_time": "2022-08-21T20:43:40.419Z"
    }
   },
   "outputs": [],
   "source": [
    "\n",
    "function find_val_in_array_simd(x::Array{T}, val::T) where {T}\n",
    "    n_simd = 64\n",
    "    last_pos_simd_chunk = length(x)-n_simd\n",
    "    @inbounds for i in 1:n_simd:last_pos_simd_chunk\n",
    "        vec_i = vload(Vec{n_simd, T}, x, i)\n",
    "        sum_equality = sum(vec_i == val)\n",
    "        if sum_equality >0\n",
    "            return true\n",
    "        end\n",
    "    end\n",
    "\n",
    "    @inbounds for i in last_pos_simd_chunk:length(x)\n",
    "        if x[i] == val\n",
    "            return true\n",
    "        end\n",
    "    end\n",
    "\n",
    "    return false\n",
    "end"
   ]
  },
  {
   "cell_type": "code",
   "execution_count": null,
   "id": "35ecee2b",
   "metadata": {
    "ExecuteTime": {
     "end_time": "2022-08-21T22:47:13.183000+02:00",
     "start_time": "2022-08-21T20:43:40.422Z"
    }
   },
   "outputs": [],
   "source": [
    "function jdotavx(a, b)\n",
    "    s = zero(eltype(a))\n",
    "    @turbo for i ∈ eachindex(a, b)\n",
    "        s += a[i] * b[i]\n",
    "    end\n",
    "    s\n",
    "end"
   ]
  },
  {
   "cell_type": "code",
   "execution_count": null,
   "id": "b53ce65a",
   "metadata": {},
   "outputs": [],
   "source": []
  }
 ],
 "metadata": {
  "kernelspec": {
   "display_name": "Julia 1.8.0",
   "language": "julia",
   "name": "julia-1.8"
  },
  "language_info": {
   "file_extension": ".jl",
   "mimetype": "application/julia",
   "name": "julia",
   "version": "1.8.0"
  },
  "toc": {
   "base_numbering": 1,
   "nav_menu": {},
   "number_sections": true,
   "sideBar": true,
   "skip_h1_title": false,
   "title_cell": "Table of Contents",
   "title_sidebar": "Contents",
   "toc_cell": false,
   "toc_position": {},
   "toc_section_display": true,
   "toc_window_display": false
  }
 },
 "nbformat": 4,
 "nbformat_minor": 5
}
