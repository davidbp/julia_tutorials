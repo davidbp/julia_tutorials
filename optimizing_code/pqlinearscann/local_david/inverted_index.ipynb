{
 "cells": [
  {
   "cell_type": "markdown",
   "id": "7c2e3113",
   "metadata": {},
   "source": [
    "# Inverted File Index"
   ]
  },
  {
   "cell_type": "code",
   "execution_count": null,
   "id": "88c8c554",
   "metadata": {
    "ExecuteTime": {
     "end_time": "2022-08-25T22:20:57.787000+02:00",
     "start_time": "2022-08-25T20:20:50.054Z"
    }
   },
   "outputs": [],
   "source": [
    "using HDF5\n",
    "using BenchmarkTools\n",
    "using Distances\n",
    "using LoopVectorization\n",
    "using SIMD\n",
    "using Clustering\n",
    "using ProgressMeter\n",
    "using StaticArrays\n",
    "using DataFrames\n",
    "using Plots\n",
    "using NPZ"
   ]
  },
  {
   "cell_type": "markdown",
   "id": "dd680a39",
   "metadata": {},
   "source": [
    "## Loading SIFT1M dataset"
   ]
  },
  {
   "cell_type": "code",
   "execution_count": null,
   "id": "cece13ba",
   "metadata": {
    "ExecuteTime": {
     "end_time": "2022-08-25T22:20:59.063000+02:00",
     "start_time": "2022-08-25T20:20:51.188Z"
    }
   },
   "outputs": [],
   "source": [
    "#path = joinpath(homedir(), \"Datasets\", \"SIFT1M\",  \"sift-128-euclidean.hdf5\")\n",
    "#path = joinpath(homedir(), \"TFM\", \"ann-benchmarks\",  \"sift-128-euclidean.hdf5\")\n",
    "\n",
    "# david\n",
    "path = joinpath(homedir(), \"Datasets\", \"SIFT1M\", \"sift-128-euclidean.hdf5\")"
   ]
  },
  {
   "cell_type": "code",
   "execution_count": null,
   "id": "c1e88b49",
   "metadata": {
    "ExecuteTime": {
     "end_time": "2022-08-25T22:21:03.628000+02:00",
     "start_time": "2022-08-25T20:20:53.263Z"
    },
    "scrolled": true
   },
   "outputs": [],
   "source": [
    "f = h5open(path, \"r\")\n",
    "\n",
    "X_tr_vecs = read(f[\"train\"])\n",
    "X_te_vecs = read(f[\"test\"]);\n",
    "true_neighbors = read(f[\"neighbors\"])\n",
    "true_distances = read(f[\"distances\"])\n",
    "\n",
    "true_neighbors .= true_neighbors .+ 1;\n",
    "\n",
    "@show size(X_tr_vecs)\n",
    "@show size(X_te_vecs)\n",
    "@show size(true_neighbors)\n",
    "@show size(true_distances)\n",
    "\n",
    "n_features, n_examples = size(X_tr_vecs)"
   ]
  },
  {
   "cell_type": "markdown",
   "id": "617d8b34",
   "metadata": {},
   "source": [
    "## Generating shared PQ-codes"
   ]
  },
  {
   "cell_type": "code",
   "execution_count": null,
   "id": "2d1b602a",
   "metadata": {
    "ExecuteTime": {
     "end_time": "2022-08-25T22:24:07.372000+02:00",
     "start_time": "2022-08-25T20:21:14.349Z"
    }
   },
   "outputs": [],
   "source": [
    "function encode_shared(dist, vector::Array{T}, shared_prototypes::Array{T}) where T\n",
    "    n_clusters = length(shared_prototypes)\n",
    "    n_features = size(vector)[1]\n",
    "    closest_prototypes = Array{Int8}(undef, n_features, 1);\n",
    "    \n",
    "    @inbounds for (j,x) in enumerate(vector)\n",
    "        best_coordinate = 1\n",
    "        min_distance::T = typemax(T)\n",
    "        for k in 1:n_clusters\n",
    "           current_dist = dist(shared_prototypes[k], x)\n",
    "           if current_dist < min_distance\n",
    "               best_coordinate = k\n",
    "               min_distance = current_dist\n",
    "           end\n",
    "           #println(k, ' ', j, ' ', best_coordinate, ' ',min_distance )\n",
    "        end            \n",
    "        closest_prototypes[j] = best_coordinate\n",
    "    end\n",
    "    return closest_prototypes\n",
    "end"
   ]
  },
  {
   "cell_type": "code",
   "execution_count": null,
   "id": "7eae2159",
   "metadata": {
    "ExecuteTime": {
     "end_time": "2022-08-25T22:24:14.829000+02:00",
     "start_time": "2022-08-25T20:21:15.659Z"
    }
   },
   "outputs": [],
   "source": [
    "P_shared = vec(Float32.(npzread(\"1dkmeans_prototypes/1dkmeans_shared_prototypes_SIFT1M.npy\")))"
   ]
  },
  {
   "cell_type": "code",
   "execution_count": null,
   "id": "2cc5bfe9",
   "metadata": {},
   "outputs": [],
   "source": [
    "PQcodes_shared = Array{Int8}(undef, n_features, n_examples);\n",
    "\n",
    "for j in 1:n_examples\n",
    "    PQcodes_shared[:,j] = encode_shared(euclidean, X_tr_vecs[:,j], P_shared)  \n",
    "end"
   ]
  },
  {
   "cell_type": "markdown",
   "id": "61c08f4e",
   "metadata": {},
   "source": [
    "## IVF indexer"
   ]
  },
  {
   "cell_type": "code",
   "execution_count": null,
   "id": "b637f3a9",
   "metadata": {},
   "outputs": [],
   "source": [
    "function ivf_indexer(X, PQcodes, n_cells, clustering_function)\n",
    "    n_features, n_examples = size(X)\n",
    "\n",
    "    result = clustering_function(X, n_cells)\n",
    "    centroids = result.centers\n",
    "    cell_ids = result.assignments\n",
    "    \n",
    "    cells = Vector{Matrix{Int8}}(undef, n_cells)\n",
    "    pq_ids = Vector{Vector{Int32}}(undef, n_cells)\n",
    "    @inbounds @fastmath for i in 1:n_cells\n",
    "        pq_idx = findall(x -> x == i,cell_ids) \n",
    "        cells[i] = PQcodes[:,pq_idx]\n",
    "        pq_ids[i] =  pq_idx \n",
    "    end\n",
    "    return centroids, cells, pq_ids\n",
    "end"
   ]
  },
  {
   "cell_type": "code",
   "execution_count": null,
   "id": "2ca5645e",
   "metadata": {},
   "outputs": [],
   "source": [
    "n_cells = 100\n",
    "clustering_function = kmeans\n",
    "@time centroids, cells, indexes  = ivf_indexer(X_tr_vecs, PQcodes_shared, n_cells, clustering_function)"
   ]
  },
  {
   "cell_type": "markdown",
   "id": "be5b82e7",
   "metadata": {},
   "source": [
    "## IVF search"
   ]
  },
  {
   "cell_type": "markdown",
   "id": "e50eb0dc",
   "metadata": {},
   "source": [
    "We define some standard"
   ]
  },
  {
   "cell_type": "code",
   "execution_count": null,
   "id": "9617e4ff",
   "metadata": {},
   "outputs": [],
   "source": [
    "\n",
    "function Euclidean0(x, query)\n",
    "    @assert length(x) == length(query)\n",
    "    res = zero(eltype(x))\n",
    "    @inbounds  @simd for j in eachindex(x)\n",
    "        aux = (query[j] - x[j])\n",
    "        res += aux * aux\n",
    "    end\n",
    "    return sqrt(res)\n",
    "end"
   ]
  },
  {
   "cell_type": "code",
   "execution_count": null,
   "id": "b0760e6a",
   "metadata": {},
   "outputs": [],
   "source": [
    "function recall(predicted, relevant, eval_at)\n",
    "    \"\"\"\n",
    "    fraction of the relevant documents that are successfully retrieved\n",
    "    \"\"\"\n",
    "    if eval_at == 0\n",
    "        return 0.0\n",
    "    end\n",
    "    \n",
    "    predicted_at_k = predicted[1:eval_at]\n",
    "    n_predicted_and_relevant =  length(intersect( Set(predicted_at_k), Set(relevant))) \n",
    "    return n_predicted_and_relevant/ length(relevant)\n",
    "end\n",
    "\n",
    "@inline function Euclidean0(x, query)\n",
    "    @assert length(x) == length(query)\n",
    "    res = zero(eltype(x))\n",
    "    @inbounds  @simd for j in eachindex(x)\n",
    "        aux = (query[j] - x[j])\n",
    "        res += aux * aux\n",
    "    end\n",
    "    return sqrt(res)\n",
    "end\n",
    "\n",
    "\n",
    "function adc_dist_shared( x_code,  adc_table::Matrix)\n",
    "    res = zero(eltype(adc_table))\n",
    "    @inbounds @simd for j in eachindex(x_code)\n",
    "        res+= adc_table[x_code[j], j]\n",
    "    end\n",
    "    return res\n",
    "end\n",
    "\n",
    "\n",
    "function adc_dist_mat( x_code,  adc_table::Matrix, k)\n",
    "    res = zero(eltype(adc_table))\n",
    "    @inbounds @simd for j in eachindex(x_code)\n",
    "        res+= adc_table[x_code[j, k], j]\n",
    "    end\n",
    "    return res\n",
    "end\n",
    "\n",
    "function compute_ADC_shared(query, prototypes, dist)\n",
    "    \"\"\"\n",
    "    Computes the distance between each query[k] and prototype[k]\n",
    "    \n",
    "    Arguments:\n",
    "    \n",
    "    - y (Array{T}): vector of n_features components.\n",
    "    - prototypes (Array{T}): vector of n_cluster components.\n",
    "    - dist (function): distance to be used to compare prototypes and query.\n",
    "    \n",
    "    \"\"\"\n",
    "    #@assert ndims(prototypes) ==1\n",
    "    \n",
    "    n_features = length(query)\n",
    "    n_clusters = length(prototypes)\n",
    "    ADC_table = Array{Float32}(undef, n_clusters, n_features)\n",
    "    \n",
    "    for j in 1:n_features       # 128\n",
    "        for p in 1:n_clusters   # 32\n",
    "            ADC_table[p,j] = dist(query[j], prototypes[p] )\n",
    "        end\n",
    "    end\n",
    "    @assert ndims(ADC_table)==2\n",
    "    return  ADC_table\n",
    "end\n",
    "\n",
    "@inline function abs_dist(y::Array{T}, X::Array{T}, j) where T\n",
    "    # Here I use a bigger Int type than 8 due to avoid\n",
    "    # res beeing overflowed\n",
    "    res = Int16(0)\n",
    "    @inbounds @fastmath  for k in eachindex(y)\n",
    "        res += abs(X[k, j] - y[k])\n",
    "    end\n",
    "    return res\n",
    "end\n",
    "\n",
    "\n",
    "@inline function euclidean_mat2(y, X, j) where T\n",
    "    # Here I use a bigger Int type than 8 due to avoid\n",
    "    # res beeing overflowed\n",
    "    res = zero(eltype(y))\n",
    "    @inbounds @fastmath  for k in eachindex(y)\n",
    "        partial = X[k, j] - y[k]\n",
    "        res += partial * partial\n",
    "    end\n",
    "    return res\n",
    "end"
   ]
  },
  {
   "cell_type": "code",
   "execution_count": null,
   "id": "df7095b4",
   "metadata": {},
   "outputs": [],
   "source": [
    "@inline function abs_dist(y::Array{T}, X::Array{T}, j) where T\n",
    "    # Here I use a bigger Int type than 8 due to avoid\n",
    "    # res beeing overflowed\n",
    "    res = Int16(0)\n",
    "    @inbounds @fastmath  for k in eachindex(y)\n",
    "        res += abs(X[k, j] - y[k])\n",
    "    end\n",
    "    return res\n",
    "end\n",
    "\n",
    "function select_cells(n_cells, nprobe, centroids, query, dist)\n",
    "    distances = Array{Float32}(undef, n_cells)\n",
    "    for i in 1:n_cells\n",
    "        distances[i] = dist(query, centroids[:,i]) \n",
    "    end\n",
    "    closest_prototypes = partialsortperm(distances, 1:nprobe)\n",
    "    best_distances = distances[closest_prototypes]\n",
    "\n",
    "    return best_distances, closest_prototypes\n",
    "end\n",
    "\n",
    "\n",
    "function get_top_distances(query, X, prototypes, cells, indexes, fine_quant_funct, P, top_k, extra_factor, refinement, j)\n",
    "\n",
    "    real_index = prototypes[j]\n",
    "    pq_codes = cells[real_index]\n",
    "    original_ids = indexes[real_index]\n",
    "    pq_distances = fine_quant_funct(query, pq_codes, P)\n",
    "    n_to_sort = minimum([top_k*extra_factor, length(pq_distances)])\n",
    "    top_k_pq = partialsortperm(pq_distances, 1:n_to_sort) \n",
    "\n",
    "    #Exact search if refinement is chosen\n",
    "    if refinement == true\n",
    "        best_ids = Vector{Int32}(undef, n_to_sort)\n",
    "        for i in 1:n_to_sort\n",
    "            id = top_k_pq[i]\n",
    "            best_ids[i] = original_ids[id]\n",
    "        end\n",
    "        pq_distances = linear_scann_exact(query, X[:,best_ids]); #X_tr_vecs in memory, SOLVE THIS ->memmap, HDF5\n",
    "        top_k_pq = partialsortperm(pq_distances, 1:top_k)\n",
    "        original_ids = best_ids\n",
    "    end\n",
    "\n",
    "    #retrieve original ids and distances of closest vectors\n",
    "    ids = Vector{Int32}(undef, top_k)\n",
    "    distances = Vector{Float32}(undef, top_k)\n",
    "    for i in 1:top_k\n",
    "        id = top_k_pq[i]\n",
    "        ids[i] = original_ids[id]\n",
    "        distances[i] = pq_distances[id]\n",
    "    end\n",
    "    return distances, ids\n",
    "end\n",
    "\n",
    "\n",
    "function top_distances(query, X, closest_prototypes, cells, indexes, fine_quant_funct, P, top_k, extra_factor, refinement, nprobe)\n",
    "    result_distances = Vector{Vector{Float32}}(undef, nprobe)\n",
    "    result_ids = Vector{Vector{Int32}}(undef, nprobe)\n",
    "    for i in 1:nprobe\n",
    "        distances, ids = get_top_distances(query, X, closest_prototypes, cells, indexes, fine_quant_funct, P, top_k, extra_factor, refinement, i)\n",
    "        result_distances[i] = distances\n",
    "        result_ids[i] = ids\n",
    "    end\n",
    "    return result_distances, result_ids\n",
    "end\n",
    "\n",
    "\n",
    "function linear_scann_shared_l1(query, PQcodes_shared, P_shared)\n",
    "\n",
    "    n_features, n_examples = size(PQcodes_shared)\n",
    "    #distances = Array{Float32}(undef, n_examples)\n",
    "    distances = Array{UInt16}(undef, n_examples) # David Update, we do not need conversion now\n",
    "\n",
    "    query_code = encode_shared(euclidean, query, P_shared)\n",
    "    \n",
    "    @inbounds @fastmath for j in 1:n_examples\n",
    "        distances[j] = abs_dist(query_code, PQcodes_shared, j)    \n",
    "    end\n",
    "    return distances\n",
    "end\n",
    "\n",
    "function linear_scann_shared_ADC(query, PQcodes_shared, P_shared)\n",
    "    \n",
    "    n_features, n_examples = size(PQcodes_shared)\n",
    "    distances = Array{eltype(query)}(undef, n_examples)\n",
    "    adc_table_shared = compute_ADC_shared(query, P_shared, euclidean)\n",
    "    \n",
    "    @inbounds @fastmath for j in 1:n_examples\n",
    "        #distances[j] = adc_dist_shared(view(PQcodes_shared,:,j) ,  adc_table_shared)  \n",
    "        distances[j] = adc_dist_mat(PQcodes_shared,  adc_table_shared, j )  \n",
    "    end\n",
    "    return distances\n",
    "end\n",
    "\n",
    "function linear_scann_exact(query, X)\n",
    "\n",
    "    n_features, n_examples = size(X)\n",
    "    distances = Array{Float32}(undef, n_examples)\n",
    "    \n",
    "    @inbounds for j in 1:n_examples\n",
    "        distances[j] = euclidean_mat2(query, X, j)    \n",
    "    end\n",
    "    return distances\n",
    "end\n",
    "\n",
    "\n",
    "function priority_queue_sort(distances, ids, top_k)\n",
    "    top_k_distances = distances[1]\n",
    "    top_k_vectors = ids[1]\n",
    "    for k in 2:length(distances)\n",
    "        for i in 1:length(distances[k])\n",
    "            if distances[k][i] < top_k_distances[top_k]\n",
    "                j = top_k\n",
    "                while distances[k][i] < top_k_distances[j-1]\n",
    "                    j = j-1\n",
    "                    if j == 1\n",
    "                        break\n",
    "                    end\n",
    "                end\n",
    "                top_k_distances_fixed = copy(top_k_distances)\n",
    "                top_k_vectors_fixed = copy(top_k_vectors)\n",
    "                for element in j+1:top_k\n",
    "                    top_k_distances[element] = top_k_distances_fixed[element-1]\n",
    "                    top_k_vectors[element] = top_k_vectors_fixed[element-1]\n",
    "                end\n",
    "                top_k_distances[j] = distances[k][i]\n",
    "                top_k_vectors[j] = ids[k][i]\n",
    "            else\n",
    "                break\n",
    "            end\n",
    "        end\n",
    "    end\n",
    "    return top_k_distances, top_k_vectors\n",
    "end"
   ]
  },
  {
   "cell_type": "code",
   "execution_count": null,
   "id": "d92c1806",
   "metadata": {},
   "outputs": [],
   "source": [
    "function ivf_search(query, X, centroids, cells, indexes, dist, nprobe, PQcodes, P, fine_quant_funct, top_k, extra_factor, refinement)\n",
    "\n",
    "    if refinement == false\n",
    "        @assert extra_factor==1\n",
    "    end\n",
    "\n",
    "    #Get nprobe closest centroids \n",
    "    n_cells = length(cells)\n",
    "    best_distances, closest_prototypes = select_cells(n_cells, nprobe, centroids, query, dist)\n",
    "    \n",
    "    #Get top_k distances in each selected cell\n",
    "    result_distances, result_ids = top_distances(query, X, closest_prototypes, cells, indexes, fine_quant_funct, P, top_k, extra_factor, refinement, nprobe)\n",
    "     \n",
    "    #Get top_k closest distances\n",
    "    top_k_distances, top_k_vectors = priority_queue_sort(result_distances, result_ids, top_k)\n",
    "\n",
    "    return top_k_distances, top_k_vectors\n",
    "end"
   ]
  },
  {
   "cell_type": "code",
   "execution_count": null,
   "id": "e3876e18",
   "metadata": {},
   "outputs": [],
   "source": [
    "query_id = 5\n",
    "query = X_te_vecs[:,query_id];\n",
    "top_k = 100\n",
    "query_true_neighbors = true_neighbors[:,query_id][1:top_k]\n",
    "X = X_tr_vecs\n",
    "nprobe = 5\n",
    "dist = Euclidean0\n",
    "refinement = true\n",
    "extra_factor = 2\n",
    "fine_quant_funct = linear_scann_shared_l1\n",
    "#fine_quant_funct = linear_scann_shared_ADC\n",
    "\n",
    "top_k_distances, top_k_vectors = ivf_search(query, X, centroids, cells, indexes, dist, nprobe, PQcodes_shared, P_shared, fine_quant_funct, top_k, extra_factor, refinement)\n",
    "@show recall(top_k_vectors, query_true_neighbors, top_k)"
   ]
  },
  {
   "cell_type": "code",
   "execution_count": null,
   "id": "59a5df3d",
   "metadata": {},
   "outputs": [],
   "source": [
    "@benchmark ivf_search($query, $X, $centroids, $cells, $indexes, $Euclidean0, $nprobe, $PQcodes_shared, $P_shared, $fine_quant_funct, $top_k, $extra_factor, $refinement)"
   ]
  },
  {
   "cell_type": "code",
   "execution_count": null,
   "id": "0e53a46c",
   "metadata": {},
   "outputs": [],
   "source": [
    "query_id = 5\n",
    "query = X_te_vecs[:,query_id];\n",
    "top_k = 100\n",
    "query_true_neighbors = true_neighbors[:,query_id][1:top_k]\n",
    "X = X_tr_vecs\n",
    "nprobe = 7\n",
    "dist = Euclidean0\n",
    "refinement = true\n",
    "extra_factor = 2\n",
    "#fine_quant_funct = linear_scann_shared_l1\n",
    "fine_quant_funct = linear_scann_shared_ADC\n",
    "\n",
    "top_k_distances, top_k_vectors = ivf_search(query, X, centroids, cells, indexes, dist, nprobe, PQcodes_shared, P_shared, fine_quant_funct, top_k, extra_factor, refinement)\n",
    "@show recall(top_k_vectors, query_true_neighbors, top_k)"
   ]
  },
  {
   "cell_type": "code",
   "execution_count": null,
   "id": "a95f426b",
   "metadata": {},
   "outputs": [],
   "source": [
    "@benchmark ivf_search($query, $X, $centroids, $cells, $indexes, $Euclidean0, $nprobe, $PQcodes_shared, $P_shared, $fine_quant_funct, $top_k, $extra_factor, $refinement)"
   ]
  },
  {
   "cell_type": "code",
   "execution_count": null,
   "id": "6e8af216",
   "metadata": {},
   "outputs": [],
   "source": []
  },
  {
   "cell_type": "code",
   "execution_count": null,
   "id": "14e67383",
   "metadata": {},
   "outputs": [],
   "source": []
  },
  {
   "cell_type": "code",
   "execution_count": null,
   "id": "086171f7",
   "metadata": {},
   "outputs": [],
   "source": []
  },
  {
   "cell_type": "code",
   "execution_count": null,
   "id": "366dc5ab",
   "metadata": {},
   "outputs": [],
   "source": [
    "query_id = 1\n",
    "query = X_te_vecs[:,query_id];\n",
    "query_true_neighbors = true_neighbors[:,query_id]\n",
    "X = X_tr_vecs\n",
    "top_k = 100\n",
    "nprobe = 20\n",
    "dist = Euclidean0\n",
    "refinement = true\n",
    "extra_factor = 10\n",
    "fine_quant_funct = linear_scann_shared_l1\n",
    "\n",
    "function compute_mean_recall_and_time_IVF(Q, X, centroids, cells, indexes, dist, nprobe, PQcodes_shared, P_shared, fine_quant_funct, top_k, extra_factor, refinement)\n",
    "    n_features, n_examples = size(Q)\n",
    "    rec = 0.\n",
    "    t1 = 0.\n",
    "    t2 = 0.\n",
    "    t3 = 0.\n",
    "    for query_id in 1:n_examples\n",
    "        query = Q[:, query_id]\n",
    "        query_true_neighbors = true_neighbors[:,query_id]\n",
    "        #Get nprobe closest centroids \n",
    "        n_cells = length(cells)\n",
    "        t = @elapsed best_distances, closest_prototypes = select_cells(n_cells, nprobe, centroids, query, dist)\n",
    "        t1 += t;\n",
    "        \n",
    "        #Get top_k distances in each selected cell\n",
    "        t = @elapsed result_distances, result_ids = top_distances(query, X, closest_prototypes, cells, indexes, fine_quant_funct, P_shared, top_k, extra_factor, refinement, nprobe)\n",
    "        t2 += t;\n",
    "        #Get top_k closest distances\n",
    "        t = @elapsed top_k_distances, top_k_vectors = priority_queue_sort(result_distances, result_ids, top_k)\n",
    "        t3 += t;\n",
    "        r = recall(top_k_vectors, query_true_neighbors, top_k);\n",
    "        rec += r;\n",
    "        end\n",
    "    return rec/n_examples, t1/n_examples, t2/n_examples, t3/n_examples\n",
    "    end\n",
    "\n",
    "avg_recall, avg_time1, avg_time2, avg_time3 = compute_mean_recall_and_time_IVF(X_te_vecs[:, 1:100], X, centroids, cells, indexes, dist, nprobe, PQcodes_shared, P_shared, fine_quant_funct, top_k, extra_factor, refinement) "
   ]
  },
  {
   "cell_type": "markdown",
   "id": "a78afeb3",
   "metadata": {},
   "source": [
    "## Plots for n_cells = 100"
   ]
  },
  {
   "cell_type": "code",
   "execution_count": null,
   "id": "1e9d8f70",
   "metadata": {},
   "outputs": [],
   "source": [
    "recall_array_100 = []\n",
    "times_100_1 = []\n",
    "times_100_2 = []\n",
    "times_100_3 = []\n",
    "for nprobe in 1:20\n",
    "    avg_recall, avg_time1, avg_time2, avg_time3 = compute_mean_recall_and_time_IVF(X_te_vecs[:, 1:100], X, centroids, cells, indexes, dist, nprobe, PQcodes_shared, P_shared, fine_quant_funct, top_k, extra_factor, refinement) \n",
    "    push!(recall_array_100, avg_recall)\n",
    "    push!(times_100_1, avg_time1)\n",
    "    push!(times_100_2, avg_time2)\n",
    "    push!(times_100_3, avg_time3)\n",
    "end"
   ]
  },
  {
   "cell_type": "code",
   "execution_count": null,
   "id": "af94de7b",
   "metadata": {},
   "outputs": [],
   "source": [
    "x = 1:20\n",
    "y = recall_array_100\n",
    "plot(x, y, title = \"IVF search recall | 100 cells\", legend = false)\n",
    "xlabel!(\"nprobe\")\n",
    "ylabel!(\"Recall\")"
   ]
  },
  {
   "cell_type": "code",
   "execution_count": null,
   "id": "8f802c69",
   "metadata": {},
   "outputs": [],
   "source": [
    "y = [times_100_1*1000, times_100_2*1000, times_100_3*1000]\n",
    "plot(x, y, title = \"Times IVF search | 100 cells\", label = [\"Cell Selection\" \"Distances calculation\" \"Top k Distances\"], legend=:topleft)\n",
    "xlabel!(\"nprobe\")\n",
    "ylabel!(\"Time (ms)\")"
   ]
  },
  {
   "cell_type": "markdown",
   "id": "c34c13f0",
   "metadata": {},
   "source": [
    "Let us look into the times for each function involved in the distance calculation:"
   ]
  },
  {
   "cell_type": "code",
   "execution_count": null,
   "id": "12532a35",
   "metadata": {},
   "outputs": [],
   "source": [
    "nprobe = 10\n",
    "i = 10\n",
    "@benchmark best_distances, closest_prototypes = select_cells(n_cells, nprobe, centroids, query, dist)"
   ]
  },
  {
   "cell_type": "code",
   "execution_count": null,
   "id": "1e62be04",
   "metadata": {},
   "outputs": [],
   "source": [
    "nprobe = 10\n",
    "i = 10\n",
    "best_distances, closest_prototypes = select_cells(n_cells, nprobe, centroids, query, dist)\n",
    "@benchmark get_top_distances(query, X, closest_prototypes, cells, indexes, fine_quant_funct, P_shared, top_k, extra_factor, refinement, i)"
   ]
  },
  {
   "cell_type": "code",
   "execution_count": null,
   "id": "d551573e",
   "metadata": {},
   "outputs": [],
   "source": [
    "aux = get_top_distances(query, X, closest_prototypes, cells, indexes, fine_quant_funct, P_shared, top_k, extra_factor, refinement, i)"
   ]
  },
  {
   "cell_type": "code",
   "execution_count": null,
   "id": "18f20a53",
   "metadata": {},
   "outputs": [],
   "source": [
    "real_index = closest_prototypes[i]\n",
    "pq_codes = cells[real_index]\n",
    "original_ids = indexes[real_index]\n",
    "@benchmark pq_distances = fine_quant_funct(query, pq_codes, P_shared)  "
   ]
  },
  {
   "cell_type": "code",
   "execution_count": null,
   "id": "770113f8",
   "metadata": {},
   "outputs": [],
   "source": [
    "## TODO: could we avoid this sort if we got pq_distances already sorted ?\n",
    "pq_distances = fine_quant_funct(query, pq_codes, P_shared)  \n",
    "n_to_sort = minimum([top_k*extra_factor, length(pq_distances)])\n",
    "@benchmark top_k_pq = partialsortperm(pq_distances, 1:n_to_sort) "
   ]
  },
  {
   "cell_type": "code",
   "execution_count": null,
   "id": "67484a3d",
   "metadata": {},
   "outputs": [],
   "source": [
    "top_k_pq = partialsortperm(pq_distances, 1:n_to_sort) \n",
    "best_ids = Vector{Int32}(undef, n_to_sort)\n",
    "for i in 1:n_to_sort\n",
    "    id = top_k_pq[i]\n",
    "    best_ids[i] = original_ids[id]\n",
    "end\n",
    "\n",
    "@benchmark linear_scann_exact(query, X[:,best_ids])"
   ]
  },
  {
   "cell_type": "code",
   "execution_count": null,
   "id": "117e9fd5",
   "metadata": {},
   "outputs": [],
   "source": [
    "@benchmark linear_scann_exact(query, view(X,:,best_ids))"
   ]
  },
  {
   "cell_type": "code",
   "execution_count": null,
   "id": "e61c21a7",
   "metadata": {},
   "outputs": [],
   "source": [
    "pq_distances = linear_scann_exact(query, X[:,best_ids])\n",
    "@benchmark top_k_pq = partialsortperm(pq_distances, 1:top_k)"
   ]
  },
  {
   "cell_type": "markdown",
   "id": "4a54b255",
   "metadata": {},
   "source": [
    "## Plots for n_cells = 256"
   ]
  },
  {
   "cell_type": "code",
   "execution_count": null,
   "id": "7be317bf",
   "metadata": {},
   "outputs": [],
   "source": [
    "recall_array_256 = []\n",
    "times_256_1 = []\n",
    "times_256_2 = []\n",
    "times_256_3 = []\n",
    "for nprobe in 1:20\n",
    "    avg_recall, avg_time1, avg_time2, avg_time3 = compute_mean_recall_and_time_IVF(X_te_vecs[:, 1:100], X, centroids, cells, indexes, dist, nprobe, PQcodes_shared, P_shared, fine_quant_funct, top_k, extra_factor, refinement) \n",
    "    push!(recall_array_256, avg_recall)\n",
    "    push!(times_256_1, avg_time1)\n",
    "    push!(times_256_2, avg_time2)\n",
    "    push!(times_256_3, avg_time3)\n",
    "end"
   ]
  },
  {
   "cell_type": "code",
   "execution_count": null,
   "id": "5e153c3c",
   "metadata": {},
   "outputs": [],
   "source": [
    "x = 1:20\n",
    "y = recall_array_256\n",
    "plot(x, y, title = \"IVF search recall | 256 cells\", legend = false)\n",
    "xlabel!(\"nprobe\")\n",
    "ylabel!(\"Recall\")"
   ]
  },
  {
   "cell_type": "code",
   "execution_count": null,
   "id": "73f7c008",
   "metadata": {},
   "outputs": [],
   "source": [
    "y = [times_256_1*1000, times_256_2*1000, times_256_3*1000]\n",
    "plot(x, y, title = \"Times IVF search | 256 cells\", label = [\"Cell Selection\" \"Distances calculation\" \"Top k Distances\"], legend=:topleft)\n",
    "xlabel!(\"nprobe\")\n",
    "ylabel!(\"Time (ms)\")"
   ]
  },
  {
   "cell_type": "markdown",
   "id": "d2f33846",
   "metadata": {},
   "source": [
    "## Plots for n_cells = 1000"
   ]
  },
  {
   "cell_type": "code",
   "execution_count": null,
   "id": "8191d399",
   "metadata": {},
   "outputs": [],
   "source": [
    "recall_array_1000 = []\n",
    "times_1000_1 = []\n",
    "times_1000_2 = []\n",
    "times_1000_3 = []\n",
    "for nprobe in 1:20\n",
    "    avg_recall, avg_time1, avg_time2, avg_time3 = compute_mean_recall_and_time_IVF(X_te_vecs[:, 1:100], X, centroids, cells, indexes, dist, nprobe, PQcodes_shared, P_shared, fine_quant_funct, top_k, extra_factor, refinement) \n",
    "    push!(recall_array_1000, avg_recall)\n",
    "    push!(times_1000_1, avg_time1)\n",
    "    push!(times_1000_2, avg_time2)\n",
    "    push!(times_1000_3, avg_time3)\n",
    "end"
   ]
  },
  {
   "cell_type": "code",
   "execution_count": null,
   "id": "7bc4739e",
   "metadata": {},
   "outputs": [],
   "source": [
    "x = 1:20\n",
    "y = recall_array_1000\n",
    "plot(x, y, title = \"IVF search recall | 1000 cells\", legend = false)\n",
    "xlabel!(\"nprobe\")\n",
    "ylabel!(\"Recall\")"
   ]
  },
  {
   "cell_type": "code",
   "execution_count": null,
   "id": "6eea348e",
   "metadata": {},
   "outputs": [],
   "source": [
    "y = [times_1000_1*1000, times_1000_2*1000, times_1000_3*1000]\n",
    "plot(x, y, title = \"Times IVF search | 1000 cells\", label = [\"Cell Selection\" \"Distances calculation\" \"Top k Distances\"], legend=:topleft)\n",
    "xlabel!(\"nprobe\")\n",
    "ylabel!(\"Time (ms)\")"
   ]
  }
 ],
 "metadata": {
  "kernelspec": {
   "display_name": "Julia 1.8.0",
   "language": "julia",
   "name": "julia-1.8"
  },
  "language_info": {
   "file_extension": ".jl",
   "mimetype": "application/julia",
   "name": "julia",
   "version": "1.8.0"
  },
  "toc": {
   "base_numbering": 1,
   "nav_menu": {},
   "number_sections": true,
   "sideBar": true,
   "skip_h1_title": false,
   "title_cell": "Table of Contents",
   "title_sidebar": "Contents",
   "toc_cell": false,
   "toc_position": {},
   "toc_section_display": true,
   "toc_window_display": false
  }
 },
 "nbformat": 4,
 "nbformat_minor": 5
}
