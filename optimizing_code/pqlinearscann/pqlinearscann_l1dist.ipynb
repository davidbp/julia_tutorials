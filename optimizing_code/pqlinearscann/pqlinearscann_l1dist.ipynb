{
 "cells": [
  {
   "cell_type": "markdown",
   "id": "7c2e3113",
   "metadata": {},
   "source": [
    "# Replacing ADC table by L1 distance between PQ codes"
   ]
  },
  {
   "cell_type": "code",
   "execution_count": 1,
   "id": "88c8c554",
   "metadata": {
    "ExecuteTime": {
     "end_time": "2022-08-25T22:20:57.787000+02:00",
     "start_time": "2022-08-25T20:20:50.054Z"
    }
   },
   "outputs": [],
   "source": [
    "using HDF5\n",
    "using BenchmarkTools\n",
    "using Distances\n",
    "using LoopVectorization\n",
    "using SIMD\n",
    "using Clustering\n",
    "using ProgressMeter\n",
    "using StaticArrays\n",
    "using DataFrames\n",
    "using Plots\n",
    "using NPZ"
   ]
  },
  {
   "cell_type": "code",
   "execution_count": 2,
   "id": "5c8425bb",
   "metadata": {
    "ExecuteTime": {
     "end_time": "2022-08-25T22:20:59.059000+02:00",
     "start_time": "2022-08-25T20:20:50.603Z"
    }
   },
   "outputs": [
    {
     "data": {
      "text/plain": [
       "\"Intel(R) Core(TM) i7-10750H CPU @ 2.60GHz\""
      ]
     },
     "metadata": {},
     "output_type": "display_data"
    }
   ],
   "source": [
    "profile_flag = false\n",
    "Sys.cpu_info()[1].model"
   ]
  },
  {
   "cell_type": "code",
   "execution_count": 3,
   "id": "cece13ba",
   "metadata": {
    "ExecuteTime": {
     "end_time": "2022-08-25T22:20:59.063000+02:00",
     "start_time": "2022-08-25T20:20:51.188Z"
    }
   },
   "outputs": [
    {
     "data": {
      "text/plain": [
       "\"/home/adegaray/TFM/ann-benchmarks/sift-128-euclidean.hdf5\""
      ]
     },
     "metadata": {},
     "output_type": "display_data"
    }
   ],
   "source": [
    "path = joinpath(homedir(), \"TFM\", \"ann-benchmarks\",  \"sift-128-euclidean.hdf5\")"
   ]
  },
  {
   "cell_type": "code",
   "execution_count": 4,
   "id": "c1e88b49",
   "metadata": {
    "ExecuteTime": {
     "end_time": "2022-08-25T22:21:03.628000+02:00",
     "start_time": "2022-08-25T20:20:53.263Z"
    },
    "scrolled": true
   },
   "outputs": [
    {
     "name": "stdout",
     "output_type": "stream",
     "text": [
      "size(X_tr_vecs) = (128, 1000000)\n",
      "size(X_te_vecs) = (128, 10000)\n",
      "size(true_neighbors) = (100, 10000)\n",
      "size(true_distances) = (100, 10000)\n"
     ]
    },
    {
     "data": {
      "text/plain": [
       "(100, 10000)"
      ]
     },
     "metadata": {},
     "output_type": "display_data"
    }
   ],
   "source": [
    "f = h5open(path, \"r\")\n",
    "\n",
    "X_tr_vecs = read(f[\"train\"])\n",
    "X_te_vecs = read(f[\"test\"]);\n",
    "true_neighbors = read(f[\"neighbors\"])\n",
    "true_distances = read(f[\"distances\"])\n",
    "\n",
    "true_neighbors .= true_neighbors .+ 1;\n",
    "\n",
    "@show size(X_tr_vecs)\n",
    "@show size(X_te_vecs)\n",
    "@show size(true_neighbors)\n",
    "@show size(true_distances)"
   ]
  },
  {
   "cell_type": "markdown",
   "id": "4199401f",
   "metadata": {},
   "source": [
    "### Compute Recall PQLinearScann "
   ]
  },
  {
   "cell_type": "code",
   "execution_count": 5,
   "id": "184e4e00",
   "metadata": {},
   "outputs": [
    {
     "data": {
      "text/plain": [
       "recall (generic function with 1 method)"
      ]
     },
     "metadata": {},
     "output_type": "display_data"
    }
   ],
   "source": [
    "function recall(predicted, relevant, eval_at)\n",
    "    \"\"\"\n",
    "    fraction of the relevant documents that are successfully retrieved\n",
    "    \"\"\"\n",
    "    if eval_at == 0\n",
    "        return 0.0\n",
    "    end\n",
    "    \n",
    "    predicted_at_k = predicted[1:eval_at]\n",
    "    n_predicted_and_relevant =  length(intersect( Set(predicted_at_k), Set(relevant))) \n",
    "    return n_predicted_and_relevant/ length(relevant)\n",
    "end"
   ]
  },
  {
   "cell_type": "markdown",
   "id": "95bd0d20",
   "metadata": {},
   "source": [
    "##  PQLinearscann Sharing prototypes across features\n",
    "\n",
    "https://groups.google.com/g/julia-users/c/xBcQRebyi_o\n",
    "\n"
   ]
  },
  {
   "cell_type": "code",
   "execution_count": 29,
   "id": "2323ab73",
   "metadata": {
    "ExecuteTime": {
     "end_time": "2022-08-25T23:00:55.815000+02:00",
     "start_time": "2022-08-25T21:00:55.807Z"
    },
    "scrolled": true
   },
   "outputs": [
    {
     "data": {
      "text/plain": [
       "encode_shared (generic function with 1 method)"
      ]
     },
     "metadata": {},
     "output_type": "display_data"
    }
   ],
   "source": [
    "n_features, n_examples = size(X_tr_vecs)\n",
    "\n",
    "function encode_shared(dist, vector::Array{T}, shared_prototypes::Array{T}) where T\n",
    "    n_clusters = length(shared_prototypes)\n",
    "    closest_prototypes = Array{Int32}(undef, n_features, 1);\n",
    "    \n",
    "    @inbounds for (j,x) in enumerate(vector)\n",
    "        best_coordinate = 1\n",
    "        min_distance::T = typemax(T)\n",
    "        for k in 1:n_clusters\n",
    "           current_dist = dist(shared_prototypes[k], x)\n",
    "           if current_dist < min_distance\n",
    "               best_coordinate = k\n",
    "               min_distance = current_dist\n",
    "           end\n",
    "           #println(k, ' ', j, ' ', best_coordinate, ' ',min_distance )\n",
    "        end            \n",
    "        closest_prototypes[j] = best_coordinate\n",
    "    end\n",
    "    return closest_prototypes\n",
    "end"
   ]
  },
  {
   "cell_type": "markdown",
   "id": "601891ce",
   "metadata": {},
   "source": [
    "We load the K=32 centroids resulting of performing 1d-kmeans over the first feature of the train dataset. Notice that these centroids are sorted, resulting in a sorted codification. We will take advantage of shared quantization."
   ]
  },
  {
   "cell_type": "code",
   "execution_count": 30,
   "id": "3b04c522",
   "metadata": {},
   "outputs": [
    {
     "data": {
      "text/plain": [
       "32-element Vector{Float32}:\n",
       "   0.22927776\n",
       "   2.4602568\n",
       "   4.935903\n",
       "   7.958296\n",
       "  10.961814\n",
       "  13.964964\n",
       "  16.974878\n",
       "  19.983488\n",
       "  23.455843\n",
       "  27.45342\n",
       "   ⋮\n",
       "  94.42536\n",
       " 100.457985\n",
       " 106.51546\n",
       " 112.64925\n",
       " 118.534\n",
       " 124.41393\n",
       " 130.70255\n",
       " 138.0879\n",
       " 148.98564"
      ]
     },
     "metadata": {},
     "output_type": "display_data"
    }
   ],
   "source": [
    "P_shared = vec(Float32.(npzread(\"1dkmeans_shared_prototypes.npy\")))"
   ]
  },
  {
   "cell_type": "code",
   "execution_count": 7,
   "id": "9b2c5db9",
   "metadata": {
    "ExecuteTime": {
     "end_time": "2022-08-25T23:30:11.491000+02:00",
     "start_time": "2022-08-25T21:30:04.975Z"
    }
   },
   "outputs": [],
   "source": [
    "PQcodes_shared = Array{Int8}(undef, n_features, n_examples);\n",
    "\n",
    "for j in 1:n_examples\n",
    "    PQcodes_shared[:,j] = encode_shared(euclidean, X_tr_vecs[:,j], P_shared)  \n",
    "end\n"
   ]
  },
  {
   "cell_type": "markdown",
   "id": "00cf0bf9",
   "metadata": {},
   "source": [
    "### Inspect idea of computing distances without adc table: directly from pqcodes\n"
   ]
  },
  {
   "cell_type": "code",
   "execution_count": 9,
   "id": "db6e2798",
   "metadata": {
    "scrolled": true
   },
   "outputs": [
    {
     "data": {
      "text/plain": [
       "linear_scann_exact (generic function with 1 method)"
      ]
     },
     "metadata": {},
     "output_type": "display_data"
    }
   ],
   "source": [
    "function abs_dist(y::Array{T}, X::Array{T}, j) where T\n",
    "    res = zero(eltype(y))\n",
    "    @inbounds @fastmath  for k in eachindex(y)\n",
    "        res += abs(X[k, j] - y[k])\n",
    "    end\n",
    "    return res\n",
    "end\n",
    "\n",
    "function linear_scann_exact(dist, query, X)\n",
    "\n",
    "    n_features, n_examples = size(X)\n",
    "    distances = Array{Float32}(undef, n_examples)\n",
    "    \n",
    "    @inbounds for j in 1:n_examples\n",
    "        distances[j] = dist(query, X, j)    \n",
    "    end\n",
    "    return distances\n",
    "end"
   ]
  },
  {
   "cell_type": "markdown",
   "id": "592dd030",
   "metadata": {},
   "source": [
    "There is some problem with the casting of query_code, probably related with the fact that \"res\" adopts the same type than the query_code on abs_dist:"
   ]
  },
  {
   "cell_type": "code",
   "execution_count": 34,
   "id": "ac5ab0a6",
   "metadata": {},
   "outputs": [
    {
     "name": "stdout",
     "output_type": "stream",
     "text": [
      "recall(top_k_pq, query_true_neighbors, top_k) = 0.0\n"
     ]
    }
   ],
   "source": [
    "query_id = 1\n",
    "query = X_te_vecs[:,query_id];\n",
    "query_true_neighbors = true_neighbors[:,query_id]\n",
    "top_k = 100\n",
    "\n",
    "query_code = encode_shared(euclidean, query, P_shared)\n",
    "query_code = UInt16.(vec(query_code))\n",
    "\n",
    "PQcodes_uint8 = UInt16.(PQcodes_shared);\n",
    "\n",
    "pq_distances = linear_scann_exact(abs_dist, query_code, PQcodes_uint8)\n",
    "top_k_pq = sortperm(pq_distances)[1:top_k];\n",
    "\n",
    "@show recall(top_k_pq, query_true_neighbors, top_k);"
   ]
  },
  {
   "cell_type": "code",
   "execution_count": 36,
   "id": "70055dc2",
   "metadata": {},
   "outputs": [
    {
     "data": {
      "text/plain": [
       "100-element Vector{Float32}:\n",
       " 0.0\n",
       " 0.0\n",
       " 0.0\n",
       " 0.0\n",
       " 0.0\n",
       " 0.0\n",
       " 0.0\n",
       " 0.0\n",
       " 0.0\n",
       " 0.0\n",
       " ⋮\n",
       " 0.0\n",
       " 0.0\n",
       " 0.0\n",
       " 0.0\n",
       " 0.0\n",
       " 0.0\n",
       " 0.0\n",
       " 0.0\n",
       " 0.0"
      ]
     },
     "metadata": {},
     "output_type": "display_data"
    }
   ],
   "source": [
    "pq_distances[top_k_pq]"
   ]
  },
  {
   "cell_type": "markdown",
   "id": "23c824be",
   "metadata": {},
   "source": [
    "All the top k distances are 0. This would be the expected output if all top_k_pq codes were the same and also equal to the query code (NOT TRUE):"
   ]
  },
  {
   "cell_type": "code",
   "execution_count": 44,
   "id": "1526deb0",
   "metadata": {},
   "outputs": [
    {
     "name": "stdout",
     "output_type": "stream",
     "text": [
      "Int8[9, 2, 7, 19, 9, 4, 1, 6, 8, 11, 25, 22, 5, 1, 1, 5, 7, 8, 27, 20, 5, 5, 11, 15, 6, 5, 4, 10, 8, 9, 10, 4, 16, 9, 5, 3, 4, 6, 5, 12, 24, 27, 16, 10, 4, 2, 2, 9, 10, 21, 27, 25, 27, 15, 1, 1, 9, 25, 19, 18, 24, 8, 1, 1, 10, 4, 2, 4, 3, 1, 5, 12, 27, 12, 1, 1, 2, 6, 11, 27, 12, 5, 1, 3, 27, 27, 11, 13, 27, 16, 6, 5, 14, 13, 2, 19, 2, 1, 1, 5, 4, 1, 1, 2, 7, 1, 1, 3, 4, 6, 8, 19, 2, 1, 4, 4, 8, 20, 9, 5, 18, 1, 2, 3, 3, 3, 1, 16]\n",
      "Int8[18, 15, 10, 3, 3, 2, 1, 2, 1, 17, 29, 17, 4, 3, 1, 1, 2, 19, 29, 16, 1, 1, 1, 1, 3, 15, 20, 7, 2, 1, 1, 1, 29, 15, 4, 3, 3, 1, 1, 17, 22, 24, 20, 12, 4, 1, 3, 9, 2, 9, 22, 29, 14, 4, 1, 2, 5, 11, 12, 10, 8, 15, 7, 2, 29, 12, 5, 7, 3, 4, 3, 13, 27, 5, 1, 1, 9, 12, 19, 29, 5, 1, 1, 4, 23, 21, 6, 13, 10, 12, 4, 3, 19, 18, 6, 3, 14, 22, 6, 3, 9, 4, 1, 1, 17, 4, 1, 5, 18, 11, 7, 18, 9, 1, 1, 1, 11, 26, 14, 13, 3, 5, 2, 1, 6, 9, 17, 14]\n"
     ]
    },
    {
     "name": "stdout",
     "output_type": "stream",
     "text": [
      "Int32[1; 2; 5; 27; 18; 9; 3; 1; 14; 8; 9; 7; 3; 10; 18; 4; 5; 1; 1; 1; 1; 13; 25; 8; 8; 2; 3; 2; 2; 4; 7; 12; 1; 1; 4; 9; 26; 28; 18; 2; 1; 1; 5; 20; 13; 25; 28; 2; 11; 1; 1; 5; 6; 7; 28; 28; 19; 5; 3; 3; 2; 2; 4; 25; 7; 2; 5; 7; 4; 6; 19; 18; 6; 1; 6; 28; 22; 1; 2; 9; 24; 12; 10; 23; 14; 1; 3; 7; 28; 16; 3; 5; 11; 6; 4; 9; 14; 7; 5; 4; 1; 1; 8; 12; 22; 7; 7; 26; 9; 3; 2; 10; 5; 17; 19; 22; 9; 5; 2; 2; 9; 7; 4; 2; 8; 14; 15; 5;;]\n"
     ]
    }
   ],
   "source": [
    "println(PQcodes_shared[:,top_k_pq[1]])\n",
    "println(PQcodes_shared[:,top_k_pq[2]])\n",
    "println(encode_shared(euclidean, query, P_shared))"
   ]
  },
  {
   "cell_type": "markdown",
   "id": "5ff1800c",
   "metadata": {},
   "source": [
    "This does work:"
   ]
  },
  {
   "cell_type": "code",
   "execution_count": 26,
   "id": "e5a5c90c",
   "metadata": {},
   "outputs": [
    {
     "name": "stdout",
     "output_type": "stream",
     "text": [
      "recall(top_k_pq, query_true_neighbors, top_k) = 0.58\n"
     ]
    }
   ],
   "source": [
    "query_id = 1\n",
    "query = X_te_vecs[:,query_id];\n",
    "query_true_neighbors = true_neighbors[:,query_id]\n",
    "top_k = 100\n",
    "\n",
    "query_code = encode_shared(euclidean, query, P_shared)\n",
    "#query_code = UInt32.(vec(query_code))\n",
    "\n",
    "PQcodes_uint8 = Int32.(PQcodes_shared);\n",
    "\n",
    "pq_distances = linear_scann_exact(abs_dist, query_code, PQcodes_uint8)\n",
    "top_k_pq = sortperm(pq_distances)[1:top_k];\n",
    "\n",
    "@show recall(top_k_pq, query_true_neighbors, top_k);"
   ]
  },
  {
   "cell_type": "markdown",
   "id": "cbe3697a",
   "metadata": {},
   "source": [
    "## Benchmark times exact vs linearscann"
   ]
  },
  {
   "cell_type": "markdown",
   "id": "b42cebf0",
   "metadata": {},
   "source": [
    "#### Type UInt8"
   ]
  },
  {
   "cell_type": "code",
   "execution_count": 45,
   "id": "99582d79",
   "metadata": {},
   "outputs": [],
   "source": [
    "query_id = 1\n",
    "query = X_te_vecs[:,query_id];\n",
    "query_true_neighbors = true_neighbors[:,query_id]\n",
    "top_k = 100\n",
    "\n",
    "query_code = encode_shared(euclidean, query, P_shared)\n",
    "query_code = UInt8.(vec(query_code))\n",
    "\n",
    "PQcodes = UInt8.(PQcodes_shared);"
   ]
  },
  {
   "cell_type": "code",
   "execution_count": 46,
   "id": "20278e07",
   "metadata": {},
   "outputs": [
    {
     "data": {
      "text/plain": [
       "BenchmarkTools.Trial: 113 samples with 1 evaluation.\n",
       " Range \u001b[90m(\u001b[39m\u001b[36m\u001b[1mmin\u001b[22m\u001b[39m … \u001b[35mmax\u001b[39m\u001b[90m):  \u001b[39m\u001b[36m\u001b[1m37.115 ms\u001b[22m\u001b[39m … \u001b[35m103.894 ms\u001b[39m  \u001b[90m┊\u001b[39m GC \u001b[90m(\u001b[39mmin … max\u001b[90m): \u001b[39m0.00% … 0.00%\n",
       " Time  \u001b[90m(\u001b[39m\u001b[34m\u001b[1mmedian\u001b[22m\u001b[39m\u001b[90m):     \u001b[39m\u001b[34m\u001b[1m40.904 ms               \u001b[22m\u001b[39m\u001b[90m┊\u001b[39m GC \u001b[90m(\u001b[39mmedian\u001b[90m):    \u001b[39m0.00%\n",
       " Time  \u001b[90m(\u001b[39m\u001b[32m\u001b[1mmean\u001b[22m\u001b[39m ± \u001b[32mσ\u001b[39m\u001b[90m):   \u001b[39m\u001b[32m\u001b[1m44.634 ms\u001b[22m\u001b[39m ± \u001b[32m  9.178 ms\u001b[39m  \u001b[90m┊\u001b[39m GC \u001b[90m(\u001b[39mmean ± σ\u001b[90m):  \u001b[39m0.00% ± 0.00%\n",
       "\n",
       "  \u001b[39m \u001b[39m▄\u001b[39m▄\u001b[39m▆\u001b[39m█\u001b[34m█\u001b[39m\u001b[39m \u001b[39m▂\u001b[39m \u001b[39m \u001b[39m \u001b[32m \u001b[39m\u001b[39m \u001b[39m \u001b[39m \u001b[39m \u001b[39m \u001b[39m \u001b[39m \u001b[39m \u001b[39m \u001b[39m \u001b[39m \u001b[39m \u001b[39m \u001b[39m \u001b[39m \u001b[39m \u001b[39m \u001b[39m \u001b[39m \u001b[39m \u001b[39m \u001b[39m \u001b[39m \u001b[39m \u001b[39m \u001b[39m \u001b[39m \u001b[39m \u001b[39m \u001b[39m \u001b[39m \u001b[39m \u001b[39m \u001b[39m \u001b[39m \u001b[39m \u001b[39m \u001b[39m \u001b[39m \u001b[39m \u001b[39m \u001b[39m \u001b[39m \u001b[39m \u001b[39m \u001b[39m \u001b[39m \u001b[39m \u001b[39m \u001b[39m \n",
       "  \u001b[39m▇\u001b[39m█\u001b[39m█\u001b[39m█\u001b[39m█\u001b[34m█\u001b[39m\u001b[39m▆\u001b[39m█\u001b[39m▃\u001b[39m▄\u001b[39m▃\u001b[32m▁\u001b[39m\u001b[39m▃\u001b[39m▄\u001b[39m▁\u001b[39m▆\u001b[39m▅\u001b[39m▆\u001b[39m▆\u001b[39m▃\u001b[39m▅\u001b[39m▆\u001b[39m▃\u001b[39m▃\u001b[39m▄\u001b[39m▃\u001b[39m▁\u001b[39m▁\u001b[39m▄\u001b[39m▁\u001b[39m▁\u001b[39m▁\u001b[39m▁\u001b[39m▁\u001b[39m▁\u001b[39m▁\u001b[39m▁\u001b[39m▁\u001b[39m▃\u001b[39m▁\u001b[39m▁\u001b[39m▁\u001b[39m▁\u001b[39m▁\u001b[39m▁\u001b[39m▁\u001b[39m▁\u001b[39m▃\u001b[39m▁\u001b[39m▁\u001b[39m▁\u001b[39m▁\u001b[39m▁\u001b[39m▁\u001b[39m▃\u001b[39m▁\u001b[39m▁\u001b[39m▁\u001b[39m▁\u001b[39m▃\u001b[39m \u001b[39m▃\n",
       "  37.1 ms\u001b[90m         Histogram: frequency by time\u001b[39m         77.6 ms \u001b[0m\u001b[1m<\u001b[22m\n",
       "\n",
       " Memory estimate\u001b[90m: \u001b[39m\u001b[33m3.81 MiB\u001b[39m, allocs estimate\u001b[90m: \u001b[39m\u001b[33m2\u001b[39m."
      ]
     },
     "metadata": {},
     "output_type": "display_data"
    }
   ],
   "source": [
    "@inline function Euclidean0(x, query)\n",
    "    res = zero(eltype(x))\n",
    "    @inbounds @fastmath  for j in eachindex(x)\n",
    "        aux = (query[j] - x[j])\n",
    "        res += aux * aux\n",
    "    end\n",
    "    return sqrt(res)\n",
    "end\n",
    "\n",
    "function linear_scann_exact(dist, query, X)\n",
    "\n",
    "    n_features, n_examples = size(X)\n",
    "    distances = Array{Float32}(undef, n_examples)\n",
    "    \n",
    "    @inbounds for j in 1:n_examples\n",
    "        distances[j] = dist(query, view(X,:,j))    \n",
    "    end\n",
    "    return distances\n",
    "end\n",
    "\n",
    "@benchmark linear_scann_exact($Euclidean0, $query, $X_tr_vecs)\n"
   ]
  },
  {
   "cell_type": "code",
   "execution_count": 47,
   "id": "550363d3",
   "metadata": {},
   "outputs": [
    {
     "data": {
      "text/plain": [
       "BenchmarkTools.Trial: 387 samples with 1 evaluation.\n",
       " Range \u001b[90m(\u001b[39m\u001b[36m\u001b[1mmin\u001b[22m\u001b[39m … \u001b[35mmax\u001b[39m\u001b[90m):  \u001b[39m\u001b[36m\u001b[1m 9.828 ms\u001b[22m\u001b[39m … \u001b[35m41.081 ms\u001b[39m  \u001b[90m┊\u001b[39m GC \u001b[90m(\u001b[39mmin … max\u001b[90m): \u001b[39m0.00% … 0.00%\n",
       " Time  \u001b[90m(\u001b[39m\u001b[34m\u001b[1mmedian\u001b[22m\u001b[39m\u001b[90m):     \u001b[39m\u001b[34m\u001b[1m11.867 ms              \u001b[22m\u001b[39m\u001b[90m┊\u001b[39m GC \u001b[90m(\u001b[39mmedian\u001b[90m):    \u001b[39m0.00%\n",
       " Time  \u001b[90m(\u001b[39m\u001b[32m\u001b[1mmean\u001b[22m\u001b[39m ± \u001b[32mσ\u001b[39m\u001b[90m):   \u001b[39m\u001b[32m\u001b[1m12.897 ms\u001b[22m\u001b[39m ± \u001b[32m 3.659 ms\u001b[39m  \u001b[90m┊\u001b[39m GC \u001b[90m(\u001b[39mmean ± σ\u001b[90m):  \u001b[39m0.20% ± 1.73%\n",
       "\n",
       "  \u001b[39m \u001b[39m▄\u001b[39m▅\u001b[39m█\u001b[39m▇\u001b[39m▆\u001b[34m▂\u001b[39m\u001b[39m▇\u001b[39m▄\u001b[39m \u001b[32m \u001b[39m\u001b[39m \u001b[39m \u001b[39m \u001b[39m \u001b[39m \u001b[39m \u001b[39m \u001b[39m \u001b[39m \u001b[39m \u001b[39m \u001b[39m \u001b[39m \u001b[39m \u001b[39m \u001b[39m \u001b[39m \u001b[39m \u001b[39m \u001b[39m \u001b[39m \u001b[39m \u001b[39m \u001b[39m \u001b[39m \u001b[39m \u001b[39m \u001b[39m \u001b[39m \u001b[39m \u001b[39m \u001b[39m \u001b[39m \u001b[39m \u001b[39m \u001b[39m \u001b[39m \u001b[39m \u001b[39m \u001b[39m \u001b[39m \u001b[39m \u001b[39m \u001b[39m \u001b[39m \u001b[39m \u001b[39m \u001b[39m \u001b[39m \u001b[39m \n",
       "  \u001b[39m▇\u001b[39m█\u001b[39m█\u001b[39m█\u001b[39m█\u001b[39m█\u001b[34m█\u001b[39m\u001b[39m█\u001b[39m█\u001b[39m▇\u001b[32m█\u001b[39m\u001b[39m▄\u001b[39m▃\u001b[39m▆\u001b[39m▃\u001b[39m▅\u001b[39m▃\u001b[39m▃\u001b[39m▃\u001b[39m▃\u001b[39m▃\u001b[39m▃\u001b[39m▄\u001b[39m▂\u001b[39m▂\u001b[39m▄\u001b[39m▁\u001b[39m▃\u001b[39m▃\u001b[39m▂\u001b[39m▁\u001b[39m▁\u001b[39m▁\u001b[39m▃\u001b[39m▁\u001b[39m▁\u001b[39m▂\u001b[39m▂\u001b[39m▃\u001b[39m▂\u001b[39m▁\u001b[39m▂\u001b[39m▃\u001b[39m▁\u001b[39m▁\u001b[39m▂\u001b[39m▁\u001b[39m▂\u001b[39m▃\u001b[39m▁\u001b[39m▃\u001b[39m▁\u001b[39m▁\u001b[39m▁\u001b[39m▁\u001b[39m▁\u001b[39m▁\u001b[39m▁\u001b[39m▂\u001b[39m \u001b[39m▃\n",
       "  9.83 ms\u001b[90m         Histogram: frequency by time\u001b[39m        28.3 ms \u001b[0m\u001b[1m<\u001b[22m\n",
       "\n",
       " Memory estimate\u001b[90m: \u001b[39m\u001b[33m3.81 MiB\u001b[39m, allocs estimate\u001b[90m: \u001b[39m\u001b[33m2\u001b[39m."
      ]
     },
     "metadata": {},
     "output_type": "display_data"
    }
   ],
   "source": [
    "function abs_dist(y::Array{T}, X::Array{T}, j) where T\n",
    "    res = zero(eltype(y))\n",
    "    @inbounds @fastmath  for k in eachindex(y)\n",
    "        res += abs(X[k, j] - y[k])\n",
    "    end\n",
    "    return res\n",
    "end\n",
    "\n",
    "function linear_scann_exact(dist, query, X)\n",
    "\n",
    "    n_features, n_examples = size(X)\n",
    "    distances = Array{Float32}(undef, n_examples)\n",
    "    \n",
    "    @inbounds for j in 1:n_examples\n",
    "        distances[j] = dist(query, X, j)    \n",
    "    end\n",
    "    return distances\n",
    "end\n",
    "\n",
    "@benchmark linear_scann_exact($abs_dist, $query_code, $PQcodes)"
   ]
  },
  {
   "cell_type": "code",
   "execution_count": null,
   "id": "9938264e",
   "metadata": {},
   "outputs": [],
   "source": []
  },
  {
   "cell_type": "code",
   "execution_count": null,
   "id": "ea5458db",
   "metadata": {},
   "outputs": [],
   "source": []
  },
  {
   "cell_type": "code",
   "execution_count": null,
   "id": "c9268876",
   "metadata": {},
   "outputs": [],
   "source": []
  },
  {
   "cell_type": "code",
   "execution_count": null,
   "id": "0c55342d",
   "metadata": {},
   "outputs": [],
   "source": []
  },
  {
   "cell_type": "code",
   "execution_count": null,
   "id": "0426886f",
   "metadata": {},
   "outputs": [],
   "source": []
  },
  {
   "cell_type": "code",
   "execution_count": null,
   "id": "83487fb6",
   "metadata": {},
   "outputs": [],
   "source": []
  }
 ],
 "metadata": {
  "kernelspec": {
   "display_name": "Julia 1.8.0",
   "language": "julia",
   "name": "julia-1.8"
  },
  "language_info": {
   "file_extension": ".jl",
   "mimetype": "application/julia",
   "name": "julia",
   "version": "1.8.0"
  },
  "toc": {
   "base_numbering": 1,
   "nav_menu": {},
   "number_sections": true,
   "sideBar": true,
   "skip_h1_title": false,
   "title_cell": "Table of Contents",
   "title_sidebar": "Contents",
   "toc_cell": false,
   "toc_position": {},
   "toc_section_display": true,
   "toc_window_display": false
  }
 },
 "nbformat": 4,
 "nbformat_minor": 5
}
