{
 "cells": [
  {
   "cell_type": "markdown",
   "id": "7c2e3113",
   "metadata": {},
   "source": [
    "# Replacing ADC table by L1 distance between PQ codes"
   ]
  },
  {
   "cell_type": "code",
   "execution_count": 10,
   "id": "88c8c554",
   "metadata": {
    "ExecuteTime": {
     "end_time": "2022-09-06T08:20:46.130000+02:00",
     "start_time": "2022-09-06T06:20:26.999Z"
    }
   },
   "outputs": [],
   "source": [
    "using HDF5\n",
    "using BenchmarkTools\n",
    "using Distances\n",
    "using LoopVectorization\n",
    "using SIMD\n",
    "using Clustering\n",
    "using ProgressMeter\n",
    "using StaticArrays\n",
    "using DataFrames\n",
    "using Plots\n",
    "using NPZ"
   ]
  },
  {
   "cell_type": "code",
   "execution_count": 11,
   "id": "5c8425bb",
   "metadata": {
    "ExecuteTime": {
     "end_time": "2022-09-06T08:20:47.980000+02:00",
     "start_time": "2022-09-06T06:20:27.187Z"
    }
   },
   "outputs": [
    {
     "data": {
      "text/plain": [
       "\"Apple M1 Pro\""
      ]
     },
     "execution_count": 11,
     "metadata": {},
     "output_type": "execute_result"
    }
   ],
   "source": [
    "profile_flag = false\n",
    "Sys.cpu_info()[1].model"
   ]
  },
  {
   "cell_type": "code",
   "execution_count": 12,
   "id": "cece13ba",
   "metadata": {
    "ExecuteTime": {
     "end_time": "2022-09-06T08:20:47.982000+02:00",
     "start_time": "2022-09-06T06:20:36.270Z"
    }
   },
   "outputs": [
    {
     "data": {
      "text/plain": [
       "\"/Users/dbuchaca/Datasets/SIFT1M/sift-128-euclidean.hdf5\""
      ]
     },
     "execution_count": 12,
     "metadata": {},
     "output_type": "execute_result"
    }
   ],
   "source": [
    "#path = joinpath(homedir(), \"TFM\", \"ann-benchmarks\",  \"sift-128-euclidean.hdf5\")\n",
    "path = joinpath(homedir(), \"Datasets\", \"SIFT1M\", \"sift-128-euclidean.hdf5\")"
   ]
  },
  {
   "cell_type": "code",
   "execution_count": 13,
   "id": "c1e88b49",
   "metadata": {
    "ExecuteTime": {
     "end_time": "2022-09-06T08:21:16.234000+02:00",
     "start_time": "2022-09-06T06:21:15.818Z"
    },
    "scrolled": false
   },
   "outputs": [
    {
     "name": "stdout",
     "output_type": "stream",
     "text": [
      "size(X_tr_vecs) = (128, 1000000)\n",
      "size(X_te_vecs) = (128, 10000)\n",
      "size(true_neighbors) = (100, 10000)\n",
      "size(true_distances) = (100, 10000)\n"
     ]
    },
    {
     "data": {
      "text/plain": [
       "(100, 10000)"
      ]
     },
     "execution_count": 13,
     "metadata": {},
     "output_type": "execute_result"
    }
   ],
   "source": [
    "f = h5open(path, \"r\")\n",
    "\n",
    "X_tr_vecs = read(f[\"train\"])\n",
    "X_te_vecs = read(f[\"test\"]);\n",
    "true_neighbors = read(f[\"neighbors\"])\n",
    "true_distances = read(f[\"distances\"])\n",
    "\n",
    "true_neighbors .= true_neighbors .+ 1;\n",
    "\n",
    "@show size(X_tr_vecs)\n",
    "@show size(X_te_vecs)\n",
    "@show size(true_neighbors)\n",
    "@show size(true_distances)"
   ]
  },
  {
   "cell_type": "markdown",
   "id": "4199401f",
   "metadata": {},
   "source": [
    "### Compute Recall PQLinearScann "
   ]
  },
  {
   "cell_type": "code",
   "execution_count": 14,
   "id": "184e4e00",
   "metadata": {
    "ExecuteTime": {
     "end_time": "2022-09-06T08:21:16.642000+02:00",
     "start_time": "2022-09-06T06:21:16.403Z"
    }
   },
   "outputs": [
    {
     "data": {
      "text/plain": [
       "recall (generic function with 1 method)"
      ]
     },
     "execution_count": 14,
     "metadata": {},
     "output_type": "execute_result"
    }
   ],
   "source": [
    "function recall(predicted, relevant, eval_at)\n",
    "    \"\"\"\n",
    "    fraction of the relevant documents that are successfully retrieved\n",
    "    \"\"\"\n",
    "    if eval_at == 0\n",
    "        return 0.0\n",
    "    end\n",
    "    \n",
    "    predicted_at_k = predicted[1:eval_at]\n",
    "    n_predicted_and_relevant =  length(intersect( Set(predicted_at_k), Set(relevant))) \n",
    "    return n_predicted_and_relevant/ length(relevant)\n",
    "end"
   ]
  },
  {
   "cell_type": "markdown",
   "id": "95bd0d20",
   "metadata": {},
   "source": [
    "##  PQLinearscann Sharing prototypes across features\n",
    "\n",
    "https://groups.google.com/g/julia-users/c/xBcQRebyi_o\n",
    "\n"
   ]
  },
  {
   "cell_type": "code",
   "execution_count": 15,
   "id": "2323ab73",
   "metadata": {
    "ExecuteTime": {
     "end_time": "2022-09-06T08:21:17.387000+02:00",
     "start_time": "2022-09-06T06:21:17.268Z"
    },
    "scrolled": true
   },
   "outputs": [
    {
     "data": {
      "text/plain": [
       "encode_shared (generic function with 1 method)"
      ]
     },
     "execution_count": 15,
     "metadata": {},
     "output_type": "execute_result"
    }
   ],
   "source": [
    "n_features, n_examples = size(X_tr_vecs)\n",
    "\n",
    "function encode_shared(dist, vector::Array{T}, shared_prototypes::Array{T}) where T\n",
    "    n_clusters = length(shared_prototypes)\n",
    "    closest_prototypes = Array{Int32}(undef, n_features, 1);\n",
    "    \n",
    "    @inbounds for (j,x) in enumerate(vector)\n",
    "        best_coordinate = 1\n",
    "        min_distance::T = typemax(T)\n",
    "        for k in 1:n_clusters\n",
    "           current_dist = dist(shared_prototypes[k], x)\n",
    "           if current_dist < min_distance\n",
    "               best_coordinate = k\n",
    "               min_distance = current_dist\n",
    "           end\n",
    "           #println(k, ' ', j, ' ', best_coordinate, ' ',min_distance )\n",
    "        end            \n",
    "        closest_prototypes[j] = best_coordinate\n",
    "    end\n",
    "    return closest_prototypes\n",
    "end"
   ]
  },
  {
   "cell_type": "markdown",
   "id": "601891ce",
   "metadata": {},
   "source": [
    "We load the K=32 centroids resulting of performing 1d-kmeans over the first feature of the train dataset. Notice that these centroids are sorted, resulting in a sorted codification. We will take advantage of shared quantization."
   ]
  },
  {
   "cell_type": "code",
   "execution_count": 16,
   "id": "3b04c522",
   "metadata": {
    "ExecuteTime": {
     "end_time": "2022-09-06T08:21:21.093000+02:00",
     "start_time": "2022-09-06T06:21:18.393Z"
    }
   },
   "outputs": [
    {
     "data": {
      "text/plain": [
       "32-element Vector{Float32}:\n",
       "   0.22927776\n",
       "   2.4602568\n",
       "   4.935903\n",
       "   7.958296\n",
       "  10.961814\n",
       "  13.964964\n",
       "  16.974878\n",
       "  19.983488\n",
       "  23.455843\n",
       "  27.45342\n",
       "  31.461033\n",
       "  35.46336\n",
       "  39.47896\n",
       "   ⋮\n",
       "  76.971436\n",
       "  82.43247\n",
       "  88.45911\n",
       "  94.42536\n",
       " 100.457985\n",
       " 106.51546\n",
       " 112.64925\n",
       " 118.534\n",
       " 124.41393\n",
       " 130.70255\n",
       " 138.0879\n",
       " 148.98564"
      ]
     },
     "execution_count": 16,
     "metadata": {},
     "output_type": "execute_result"
    }
   ],
   "source": [
    "P_shared = vec(Float32.(npzread(\"1dkmeans_shared_prototypes.npy\")))"
   ]
  },
  {
   "cell_type": "code",
   "execution_count": 17,
   "id": "9b2c5db9",
   "metadata": {
    "ExecuteTime": {
     "end_time": "2022-09-06T08:21:29.047000+02:00",
     "start_time": "2022-09-06T06:21:19.257Z"
    }
   },
   "outputs": [],
   "source": [
    "PQcodes_shared = Array{Int8}(undef, n_features, n_examples);\n",
    "\n",
    "for j in 1:n_examples\n",
    "    PQcodes_shared[:,j] = encode_shared(euclidean, X_tr_vecs[:,j], P_shared)  \n",
    "end\n"
   ]
  },
  {
   "cell_type": "markdown",
   "id": "00cf0bf9",
   "metadata": {},
   "source": [
    "### Inspect idea of computing distances without adc table: directly from pqcodes\n"
   ]
  },
  {
   "cell_type": "code",
   "execution_count": 45,
   "id": "db6e2798",
   "metadata": {
    "ExecuteTime": {
     "end_time": "2022-09-06T08:24:34.538000+02:00",
     "start_time": "2022-09-06T06:24:34.530Z"
    },
    "scrolled": true
   },
   "outputs": [
    {
     "data": {
      "text/plain": [
       "linear_scann_exact (generic function with 1 method)"
      ]
     },
     "execution_count": 45,
     "metadata": {},
     "output_type": "execute_result"
    }
   ],
   "source": [
    "function abs_dist(y::Array{T}, X::Array{T}, j) where T\n",
    "    # Here I use a bigger Int type than 8 due to avoid\n",
    "    # res beeing overflowed\n",
    "    res = Int16(0)\n",
    "    @inbounds @fastmath  for k in eachindex(y)\n",
    "        res += abs(X[k, j] - y[k])\n",
    "    end\n",
    "    return res\n",
    "end\n",
    "\n",
    "function linear_scann_exact(dist, query, X)\n",
    "\n",
    "    n_features, n_examples = size(X)\n",
    "    distances = Array{Float32}(undef, n_examples)\n",
    "    \n",
    "    @inbounds for j in 1:n_examples\n",
    "        distances[j] = dist(query, X, j)    \n",
    "    end\n",
    "    return distances\n",
    "end"
   ]
  },
  {
   "cell_type": "markdown",
   "id": "592dd030",
   "metadata": {},
   "source": [
    "There is some problem with the casting of query_code, probably related with the fact that \"res\" adopts the same type than the query_code on abs_dist:"
   ]
  },
  {
   "cell_type": "code",
   "execution_count": 46,
   "id": "ac5ab0a6",
   "metadata": {
    "ExecuteTime": {
     "end_time": "2022-09-06T08:25:58.619000+02:00",
     "start_time": "2022-09-06T06:25:58.404Z"
    },
    "scrolled": true
   },
   "outputs": [
    {
     "name": "stdout",
     "output_type": "stream",
     "text": [
      "recall(top_k_pq, query_true_neighbors, top_k) = 0.58\n"
     ]
    }
   ],
   "source": [
    "query_id = 1\n",
    "query = X_te_vecs[:,query_id];\n",
    "query_true_neighbors = true_neighbors[:,query_id]\n",
    "top_k = 100\n",
    "\n",
    "query_code = encode_shared(euclidean, query, P_shared)\n",
    "query_code = Int8.(vec(query_code))\n",
    "\n",
    "PQcodes_int8 = Int8.(PQcodes_shared);\n",
    "\n",
    "pq_distances = linear_scann_exact(abs_dist, query_code, PQcodes_int8)\n",
    "top_k_pq = sortperm(pq_distances)[1:top_k];\n",
    "\n",
    "@show recall(top_k_pq, query_true_neighbors, top_k);"
   ]
  },
  {
   "cell_type": "code",
   "execution_count": 20,
   "id": "ca2cd40f",
   "metadata": {
    "ExecuteTime": {
     "start_time": "2022-09-06T06:26:10.548Z"
    }
   },
   "outputs": [
    {
     "data": {
      "text/plain": [
       "BenchmarkTools.Trial: 867 samples with 1 evaluation.\n",
       " Range \u001b[90m(\u001b[39m\u001b[36m\u001b[1mmin\u001b[22m\u001b[39m … \u001b[35mmax\u001b[39m\u001b[90m):  \u001b[39m\u001b[36m\u001b[1m5.353 ms\u001b[22m\u001b[39m … \u001b[35m24.298 ms\u001b[39m  \u001b[90m┊\u001b[39m GC \u001b[90m(\u001b[39mmin … max\u001b[90m): \u001b[39m0.00% … 76.01%\n",
       " Time  \u001b[90m(\u001b[39m\u001b[34m\u001b[1mmedian\u001b[22m\u001b[39m\u001b[90m):     \u001b[39m\u001b[34m\u001b[1m5.610 ms              \u001b[22m\u001b[39m\u001b[90m┊\u001b[39m GC \u001b[90m(\u001b[39mmedian\u001b[90m):    \u001b[39m0.00%\n",
       " Time  \u001b[90m(\u001b[39m\u001b[32m\u001b[1mmean\u001b[22m\u001b[39m ± \u001b[32mσ\u001b[39m\u001b[90m):   \u001b[39m\u001b[32m\u001b[1m5.761 ms\u001b[22m\u001b[39m ± \u001b[32m 1.307 ms\u001b[39m  \u001b[90m┊\u001b[39m GC \u001b[90m(\u001b[39mmean ± σ\u001b[90m):  \u001b[39m1.99% ±  6.35%\n",
       "\n",
       "  \u001b[39m \u001b[39m \u001b[39m \u001b[39m \u001b[39m \u001b[39m \u001b[39m \u001b[39m \u001b[39m \u001b[39m \u001b[39m \u001b[39m \u001b[39m \u001b[39m \u001b[39m \u001b[39m \u001b[39m \u001b[39m▇\u001b[39m█\u001b[39m▇\u001b[39m▇\u001b[34m▃\u001b[39m\u001b[39m \u001b[39m \u001b[39m \u001b[39m \u001b[39m \u001b[39m \u001b[39m \u001b[39m \u001b[39m \u001b[39m \u001b[39m \u001b[32m \u001b[39m\u001b[39m \u001b[39m \u001b[39m \u001b[39m \u001b[39m \u001b[39m \u001b[39m \u001b[39m \u001b[39m \u001b[39m \u001b[39m \u001b[39m \u001b[39m \u001b[39m \u001b[39m \u001b[39m \u001b[39m \u001b[39m \u001b[39m \u001b[39m \u001b[39m \u001b[39m \u001b[39m \u001b[39m \u001b[39m \u001b[39m \n",
       "  \u001b[39m▃\u001b[39m▂\u001b[39m▂\u001b[39m▂\u001b[39m▂\u001b[39m▂\u001b[39m▂\u001b[39m▁\u001b[39m▁\u001b[39m▁\u001b[39m▁\u001b[39m▁\u001b[39m▁\u001b[39m▁\u001b[39m▁\u001b[39m▂\u001b[39m▅\u001b[39m█\u001b[39m█\u001b[39m█\u001b[39m█\u001b[34m█\u001b[39m\u001b[39m▆\u001b[39m▅\u001b[39m▅\u001b[39m▃\u001b[39m▅\u001b[39m▆\u001b[39m▅\u001b[39m▄\u001b[39m▄\u001b[39m▄\u001b[39m▃\u001b[32m▃\u001b[39m\u001b[39m▄\u001b[39m▃\u001b[39m▃\u001b[39m▃\u001b[39m▃\u001b[39m▂\u001b[39m▃\u001b[39m▃\u001b[39m▂\u001b[39m▂\u001b[39m▃\u001b[39m▃\u001b[39m▂\u001b[39m▂\u001b[39m▂\u001b[39m▂\u001b[39m▂\u001b[39m▁\u001b[39m▂\u001b[39m▂\u001b[39m▁\u001b[39m▁\u001b[39m▂\u001b[39m▂\u001b[39m \u001b[39m▃\n",
       "  5.35 ms\u001b[90m        Histogram: frequency by time\u001b[39m        6.08 ms \u001b[0m\u001b[1m<\u001b[22m\n",
       "\n",
       " Memory estimate\u001b[90m: \u001b[39m\u001b[33m3.81 MiB\u001b[39m, allocs estimate\u001b[90m: \u001b[39m\u001b[33m2\u001b[39m."
      ]
     },
     "execution_count": 20,
     "metadata": {},
     "output_type": "execute_result"
    }
   ],
   "source": [
    "@benchmark linear_scann_exact($abs_dist, $query_code, $PQcodes_int8)"
   ]
  },
  {
   "cell_type": "markdown",
   "id": "aca8898e",
   "metadata": {},
   "source": [
    "## Top_k_expansion + finetunning\n",
    "\n",
    "An interesting idea would be to compute a candidate space of nearest neighbours and \"finetunit\" on using exact distances.\n",
    "\n",
    "Here he have an `extra_factor` that can be used to tune the top_k expansion (the higher the better quality at the expense of time)."
   ]
  },
  {
   "cell_type": "code",
   "execution_count": 145,
   "id": "dc45ada3",
   "metadata": {},
   "outputs": [
    {
     "name": "stdout",
     "output_type": "stream",
     "text": [
      "recall(best_ids[1:top_k], query_true_neighbors, top_k) = 0.58\n"
     ]
    }
   ],
   "source": [
    "function linear_scann_exact_pq(dist, query, X, top_k, extra_factor)\n",
    "\n",
    "    n_features, n_examples = size(X)\n",
    "    distances = Array{Float32}(undef, n_examples)\n",
    "    \n",
    "    @inbounds for j in 1:n_examples\n",
    "        distances[j] = dist(query, X, j)    \n",
    "    end\n",
    "\n",
    "    top_result_pos = sortperm(distances)[1:top_k*extra_factor];\n",
    "    \n",
    "    return top_result_pos\n",
    "end\n",
    "\n",
    "query_id = 1\n",
    "query = X_te_vecs[:,query_id];\n",
    "query_true_neighbors = true_neighbors[:,query_id]\n",
    "top_k = 100\n",
    "\n",
    "query_code = encode_shared(euclidean, query, P_shared)\n",
    "query_code = Int8.(vec(query_code))\n",
    "\n",
    "PQcodes_int8 = Int8.(PQcodes_shared);\n",
    "best_ids = linear_scann_exact_pq(abs_dist, query_code, PQcodes_int8, top_k, 10);\n",
    "\n",
    "@show recall(best_ids[1:top_k], query_true_neighbors, top_k);"
   ]
  },
  {
   "cell_type": "code",
   "execution_count": 131,
   "id": "0f8f2a76",
   "metadata": {},
   "outputs": [
    {
     "data": {
      "text/plain": [
       "linear_scann_exact (generic function with 1 method)"
      ]
     },
     "execution_count": 131,
     "metadata": {},
     "output_type": "execute_result"
    }
   ],
   "source": [
    "function euclidean_mat2(y, X, j) where T\n",
    "    # Here I use a bigger Int type than 8 due to avoid\n",
    "    # res beeing overflowed\n",
    "    res = zero(eltype(y))\n",
    "    @inbounds @fastmath  for k in eachindex(y)\n",
    "        partial = X[k, j] - y[k]\n",
    "        res += partial * partial\n",
    "    end\n",
    "    return res\n",
    "end\n",
    "\n",
    "function linear_scann_exact(dist, query, X)\n",
    "\n",
    "    n_features, n_examples = size(X)\n",
    "    distances = Array{Float32}(undef, n_examples)\n",
    "    \n",
    "    @inbounds for j in 1:n_examples\n",
    "        distances[j] = dist(query, X, j)    \n",
    "    end\n",
    "    return distances\n",
    "end"
   ]
  },
  {
   "cell_type": "markdown",
   "id": "8b0037e6",
   "metadata": {},
   "source": [
    "We could compute exact distances within a subset of examples"
   ]
  },
  {
   "cell_type": "code",
   "execution_count": 140,
   "id": "bc0ec1ea",
   "metadata": {},
   "outputs": [
    {
     "name": "stdout",
     "output_type": "stream",
     "text": [
      "recall(best_ids[permutation_expanded], query_true_neighbors, top_k) = 0.99\n"
     ]
    }
   ],
   "source": [
    "\n",
    "query_id = 5\n",
    "query = X_te_vecs[:,query_id];\n",
    "query_true_neighbors = true_neighbors[:,query_id]\n",
    "top_k = 100\n",
    "\n",
    "query_code = encode_shared(euclidean, query, P_shared)\n",
    "query_code = Int8.(vec(query_code))\n",
    "\n",
    "PQcodes_int8 = Int8.(PQcodes_shared);\n",
    "best_ids = linear_scann_exact_pq(abs_dist, query_code, PQcodes_int8, top_k, 10);\n",
    "\n",
    "\n",
    "#linear_scann_exact(euclidean_mat, query, view(X_tr_vecs,:,best_ids))\n",
    "distances_candidates_expanded = linear_scann_exact(euclidean_mat2, query, X_tr_vecs[:,best_ids]);\n",
    "permutation_expanded = sortperm(distances_candidates_expanded)[1:top_k];\n",
    "@show recall(best_ids[permutation_expanded], query_true_neighbors, top_k);"
   ]
  },
  {
   "cell_type": "markdown",
   "id": "cebe210e",
   "metadata": {},
   "source": [
    "Here the problem is that we assume X_tr_vecs is \"on memory\" and we want to avoid this as much as possible,\n",
    "because it can be potentially quite big. We have to investigate how to store the 'exact values from X_tr_vecs' on disk, \n",
    "using a memmap array like storage. Also study the overhead of doing this."
   ]
  },
  {
   "cell_type": "code",
   "execution_count": 133,
   "id": "89ef9cb5",
   "metadata": {
    "scrolled": true
   },
   "outputs": [
    {
     "data": {
      "text/plain": [
       "BenchmarkTools.Trial: 10000 samples with 1 evaluation.\n",
       " Range \u001b[90m(\u001b[39m\u001b[36m\u001b[1mmin\u001b[22m\u001b[39m … \u001b[35mmax\u001b[39m\u001b[90m):  \u001b[39m\u001b[36m\u001b[1m118.542 μs\u001b[22m\u001b[39m … \u001b[35m 16.981 ms\u001b[39m  \u001b[90m┊\u001b[39m GC \u001b[90m(\u001b[39mmin … max\u001b[90m): \u001b[39m0.00% … 98.16%\n",
       " Time  \u001b[90m(\u001b[39m\u001b[34m\u001b[1mmedian\u001b[22m\u001b[39m\u001b[90m):     \u001b[39m\u001b[34m\u001b[1m140.250 μs               \u001b[22m\u001b[39m\u001b[90m┊\u001b[39m GC \u001b[90m(\u001b[39mmedian\u001b[90m):    \u001b[39m0.00%\n",
       " Time  \u001b[90m(\u001b[39m\u001b[32m\u001b[1mmean\u001b[22m\u001b[39m ± \u001b[32mσ\u001b[39m\u001b[90m):   \u001b[39m\u001b[32m\u001b[1m157.080 μs\u001b[22m\u001b[39m ± \u001b[32m479.008 μs\u001b[39m  \u001b[90m┊\u001b[39m GC \u001b[90m(\u001b[39mmean ± σ\u001b[90m):  \u001b[39m9.97% ±  3.24%\n",
       "\n",
       "  \u001b[39m \u001b[39m \u001b[39m \u001b[39m \u001b[39m \u001b[39m \u001b[39m \u001b[39m \u001b[39m \u001b[39m \u001b[39m \u001b[39m \u001b[39m \u001b[39m \u001b[39m \u001b[39m \u001b[39m \u001b[39m \u001b[39m \u001b[39m \u001b[39m \u001b[39m \u001b[39m \u001b[39m \u001b[39m \u001b[39m \u001b[39m \u001b[39m \u001b[39m \u001b[39m█\u001b[39m▇\u001b[39m▅\u001b[34m▂\u001b[39m\u001b[39m▁\u001b[39m▁\u001b[39m▁\u001b[39m \u001b[39m \u001b[39m \u001b[39m \u001b[39m \u001b[39m \u001b[39m \u001b[39m \u001b[39m \u001b[39m \u001b[39m \u001b[39m \u001b[39m \u001b[39m \u001b[39m \u001b[39m \u001b[39m \u001b[39m \u001b[39m \u001b[39m \u001b[39m \u001b[39m \u001b[32m \u001b[39m\u001b[39m \u001b[39m \u001b[39m \u001b[39m \n",
       "  \u001b[39m▂\u001b[39m▂\u001b[39m▂\u001b[39m▂\u001b[39m▂\u001b[39m▂\u001b[39m▁\u001b[39m▁\u001b[39m▁\u001b[39m▁\u001b[39m▁\u001b[39m▁\u001b[39m▂\u001b[39m▁\u001b[39m▁\u001b[39m▁\u001b[39m▁\u001b[39m▁\u001b[39m▁\u001b[39m▁\u001b[39m▁\u001b[39m▁\u001b[39m▁\u001b[39m▁\u001b[39m▁\u001b[39m▁\u001b[39m▂\u001b[39m▃\u001b[39m█\u001b[39m█\u001b[39m█\u001b[39m█\u001b[34m█\u001b[39m\u001b[39m█\u001b[39m█\u001b[39m█\u001b[39m█\u001b[39m▆\u001b[39m▅\u001b[39m▄\u001b[39m▄\u001b[39m▃\u001b[39m▃\u001b[39m▃\u001b[39m▃\u001b[39m▂\u001b[39m▂\u001b[39m▂\u001b[39m▂\u001b[39m▂\u001b[39m▂\u001b[39m▂\u001b[39m▂\u001b[39m▂\u001b[39m▂\u001b[39m▂\u001b[39m▂\u001b[39m▂\u001b[32m▂\u001b[39m\u001b[39m▂\u001b[39m▂\u001b[39m \u001b[39m▃\n",
       "  119 μs\u001b[90m           Histogram: frequency by time\u001b[39m          159 μs \u001b[0m\u001b[1m<\u001b[22m\n",
       "\n",
       " Memory estimate\u001b[90m: \u001b[39m\u001b[33m527.39 KiB\u001b[39m, allocs estimate\u001b[90m: \u001b[39m\u001b[33m1493\u001b[39m."
      ]
     },
     "execution_count": 133,
     "metadata": {},
     "output_type": "execute_result"
    }
   ],
   "source": [
    "@benchmark distances_candidates_expanded = linear_scann_exact(euclidean_mat2, query, X_tr_vecs[:,best_ids])"
   ]
  },
  {
   "cell_type": "code",
   "execution_count": null,
   "id": "92c910b9",
   "metadata": {},
   "outputs": [],
   "source": []
  },
  {
   "cell_type": "markdown",
   "id": "2202480f",
   "metadata": {},
   "source": [
    "Other test with hamming\n",
    "\n"
   ]
  },
  {
   "cell_type": "code",
   "execution_count": 143,
   "id": "cc2bfbf8",
   "metadata": {},
   "outputs": [
    {
     "data": {
      "text/plain": [
       "linear_scann_exact_hamming (generic function with 1 method)"
      ]
     },
     "execution_count": 143,
     "metadata": {},
     "output_type": "execute_result"
    }
   ],
   "source": [
    "\n",
    "@inline function hamming(y::Array{T}, X::Array{T}, j) where T\n",
    "    # Here I use a bigger Int type than 8 due to avoid\n",
    "    # res beeing overflowed\n",
    "    res = UInt8(0)\n",
    "    @inbounds @simd  for k in eachindex(y)\n",
    "        res += X[k, j] != y[k]\n",
    "    end\n",
    "    return res\n",
    "end\n",
    "\n",
    "function linear_scann_exact_hamming( query, X)\n",
    "\n",
    "    n_features, n_examples = size(X)\n",
    "    distances = Array{UInt8}(undef, n_examples)\n",
    "    \n",
    "    @inbounds for j in 1:n_examples\n",
    "        distances[j] = hamming(query, X, j)    \n",
    "    end\n",
    "    return distances\n",
    "end"
   ]
  },
  {
   "cell_type": "code",
   "execution_count": 144,
   "id": "a64fb2f9",
   "metadata": {},
   "outputs": [
    {
     "name": "stdout",
     "output_type": "stream",
     "text": [
      "recall(top_k_pq, query_true_neighbors, top_k) = 0.01\n"
     ]
    }
   ],
   "source": [
    "query_id = 20\n",
    "query = X_te_vecs[:,query_id];\n",
    "query_true_neighbors = true_neighbors[:,query_id]\n",
    "top_k = 100\n",
    "\n",
    "query_code = encode_shared(euclidean, query, P_shared)\n",
    "query_code = UInt8.(vec(query_code))\n",
    "\n",
    "PQcodes_int8 = UInt8.(PQcodes_shared);\n",
    "\n",
    "pq_distances = linear_scann_exact(hamming, query_code, PQcodes_int8)\n",
    "top_k_pq = sortperm(pq_distances)[1:top_k];\n",
    "\n",
    "@show recall(top_k_pq, query_true_neighbors, top_k);"
   ]
  },
  {
   "cell_type": "code",
   "execution_count": 42,
   "id": "d913a7a8",
   "metadata": {},
   "outputs": [
    {
     "data": {
      "text/plain": [
       "BenchmarkTools.Trial: 1553 samples with 1 evaluation.\n",
       " Range \u001b[90m(\u001b[39m\u001b[36m\u001b[1mmin\u001b[22m\u001b[39m … \u001b[35mmax\u001b[39m\u001b[90m):  \u001b[39m\u001b[36m\u001b[1m3.069 ms\u001b[22m\u001b[39m … \u001b[35m 22.735 ms\u001b[39m  \u001b[90m┊\u001b[39m GC \u001b[90m(\u001b[39mmin … max\u001b[90m): \u001b[39m0.00% … 85.91%\n",
       " Time  \u001b[90m(\u001b[39m\u001b[34m\u001b[1mmedian\u001b[22m\u001b[39m\u001b[90m):     \u001b[39m\u001b[34m\u001b[1m3.175 ms               \u001b[22m\u001b[39m\u001b[90m┊\u001b[39m GC \u001b[90m(\u001b[39mmedian\u001b[90m):    \u001b[39m0.00%\n",
       " Time  \u001b[90m(\u001b[39m\u001b[32m\u001b[1mmean\u001b[22m\u001b[39m ± \u001b[32mσ\u001b[39m\u001b[90m):   \u001b[39m\u001b[32m\u001b[1m3.208 ms\u001b[22m\u001b[39m ± \u001b[32m637.222 μs\u001b[39m  \u001b[90m┊\u001b[39m GC \u001b[90m(\u001b[39mmean ± σ\u001b[90m):  \u001b[39m0.84% ±  3.54%\n",
       "\n",
       "  \u001b[39m \u001b[39m \u001b[39m \u001b[39m \u001b[39m \u001b[39m \u001b[39m \u001b[39m \u001b[39m▁\u001b[39m▁\u001b[39m \u001b[39m \u001b[39m \u001b[39m \u001b[39m \u001b[39m \u001b[39m \u001b[39m \u001b[39m \u001b[39m \u001b[39m \u001b[39m \u001b[39m▅\u001b[39m▇\u001b[39m█\u001b[39m█\u001b[34m▇\u001b[39m\u001b[39m▆\u001b[39m▅\u001b[39m▅\u001b[39m▅\u001b[39m▃\u001b[39m▃\u001b[39m▃\u001b[32m▁\u001b[39m\u001b[39m▂\u001b[39m▁\u001b[39m \u001b[39m \u001b[39m \u001b[39m \u001b[39m \u001b[39m \u001b[39m \u001b[39m \u001b[39m \u001b[39m \u001b[39m \u001b[39m \u001b[39m \u001b[39m \u001b[39m \u001b[39m \u001b[39m \u001b[39m \u001b[39m \u001b[39m \u001b[39m \u001b[39m \u001b[39m \u001b[39m▁\n",
       "  \u001b[39m▅\u001b[39m▁\u001b[39m▁\u001b[39m▅\u001b[39m▄\u001b[39m▁\u001b[39m▄\u001b[39m▁\u001b[39m█\u001b[39m█\u001b[39m█\u001b[39m▇\u001b[39m▆\u001b[39m▅\u001b[39m▆\u001b[39m▅\u001b[39m▆\u001b[39m▄\u001b[39m▄\u001b[39m▄\u001b[39m▄\u001b[39m█\u001b[39m█\u001b[39m█\u001b[39m█\u001b[39m█\u001b[34m█\u001b[39m\u001b[39m█\u001b[39m█\u001b[39m█\u001b[39m█\u001b[39m█\u001b[39m█\u001b[39m█\u001b[32m█\u001b[39m\u001b[39m█\u001b[39m█\u001b[39m█\u001b[39m▇\u001b[39m▇\u001b[39m▆\u001b[39m▆\u001b[39m▆\u001b[39m▇\u001b[39m▇\u001b[39m▅\u001b[39m▅\u001b[39m▅\u001b[39m▆\u001b[39m▅\u001b[39m▆\u001b[39m▇\u001b[39m▄\u001b[39m▄\u001b[39m▆\u001b[39m▅\u001b[39m▅\u001b[39m▄\u001b[39m▆\u001b[39m \u001b[39m█\n",
       "  3.07 ms\u001b[90m      \u001b[39m\u001b[90mHistogram: \u001b[39m\u001b[90m\u001b[1mlog(\u001b[22m\u001b[39m\u001b[90mfrequency\u001b[39m\u001b[90m\u001b[1m)\u001b[22m\u001b[39m\u001b[90m by time\u001b[39m      3.31 ms \u001b[0m\u001b[1m<\u001b[22m\n",
       "\n",
       " Memory estimate\u001b[90m: \u001b[39m\u001b[33m976.67 KiB\u001b[39m, allocs estimate\u001b[90m: \u001b[39m\u001b[33m2\u001b[39m."
      ]
     },
     "execution_count": 42,
     "metadata": {},
     "output_type": "execute_result"
    }
   ],
   "source": [
    "@benchmark linear_scann_exact_hamming($query_code, $PQcodes_int8)"
   ]
  },
  {
   "cell_type": "markdown",
   "id": "23c824be",
   "metadata": {},
   "source": [
    "All the top k distances are 0. This would be the expected output if all top_k_pq codes were the same and also equal to the query code (NOT TRUE):"
   ]
  },
  {
   "cell_type": "code",
   "execution_count": 31,
   "id": "1526deb0",
   "metadata": {
    "ExecuteTime": {
     "end_time": "2022-09-06T08:25:45.798000+02:00",
     "start_time": "2022-09-06T06:25:44.169Z"
    }
   },
   "outputs": [
    {
     "name": "stdout",
     "output_type": "stream",
     "text": [
      "Int8[1, 2, 8, 13, 3, 9, 8, 1, 1, 10, 12, 3, 2, 12, 19, 1, 2, 6, 5, 1, 1, 7, 26, 9, 3, 1, 1, 1, 1, 2, 8, 9, 1, 1, 1, 12, 24, 20, 18, 2, 1, 1, 2, 11, 9, 25, 29, 1, 20, 1, 1, 1, 1, 12, 29, 25, 28, 5, 1, 1, 1, 1, 4, 16, 5, 1, 4, 21, 15, 7, 6, 9, 3, 1, 19, 29, 8, 5, 7, 5, 29, 11, 13, 26, 2, 2, 4, 12, 29, 12, 1, 1, 2, 4, 1, 5, 8, 1, 2, 7, 11, 5, 5, 12, 19, 9, 11, 24, 4, 2, 4, 14, 8, 17, 29, 26, 1, 1, 1, 1, 13, 15, 8, 2, 4, 4, 1, 1]\n",
      "Int8[5, 2, 2, 15, 12, 14, 9, 1, 16, 7, 3, 14, 10, 15, 18, 18, 6, 3, 1, 1, 7, 21, 25, 19, 8, 1, 1, 1, 2, 6, 10, 23, 1, 1, 1, 5, 26, 22, 16, 6, 1, 1, 1, 10, 27, 24, 22, 8, 20, 3, 1, 9, 7, 13, 27, 25, 27, 9, 3, 7, 6, 6, 13, 20, 3, 1, 1, 11, 16, 10, 21, 12, 5, 2, 9, 25, 20, 3, 5, 6, 24, 13, 22, 21, 6, 1, 1, 5, 27, 12, 5, 10, 13, 4, 7, 10, 7, 2, 8, 20, 9, 3, 3, 5, 24, 10, 16, 19, 4, 1, 1, 6, 9, 8, 18, 20, 10, 3, 2, 8, 7, 4, 5, 3, 6, 6, 11, 8]\n",
      "Int32[1; 2; 5; 27; 18; 9; 3; 1; 14; 8; 9; 7; 3; 10; 18; 4; 5; 1; 1; 1; 1; 13; 25; 8; 8; 2; 3; 2; 2; 4; 7; 12; 1; 1; 4; 9; 26; 28; 18; 2; 1; 1; 5; 20; 13; 25; 28; 2; 11; 1; 1; 5; 6; 7; 28; 28; 19; 5; 3; 3; 2; 2; 4; 25; 7; 2; 5; 7; 4; 6; 19; 18; 6; 1; 6; 28; 22; 1; 2; 9; 24; 12; 10; 23; 14; 1; 3; 7; 28; 16; 3; 5; 11; 6; 4; 9; 14; 7; 5; 4; 1; 1; 8; 12; 22; 7; 7; 26; 9; 3; 2; 10; 5; 17; 19; 22; 9; 5; 2; 2; 9; 7; 4; 2; 8; 14; 15; 5;;]\n"
     ]
    }
   ],
   "source": [
    "println(PQcodes_shared[:,top_k_pq[1]])\n",
    "println(PQcodes_shared[:,top_k_pq[2]])\n",
    "println(encode_shared(euclidean, query, P_shared))"
   ]
  },
  {
   "cell_type": "markdown",
   "id": "5ff1800c",
   "metadata": {},
   "source": [
    "This does work:"
   ]
  },
  {
   "cell_type": "code",
   "execution_count": 137,
   "id": "e5a5c90c",
   "metadata": {
    "ExecuteTime": {
     "end_time": "2022-09-05T22:07:27.802000+02:00",
     "start_time": "2022-09-05T20:07:27.247Z"
    },
    "scrolled": true
   },
   "outputs": [
    {
     "name": "stdout",
     "output_type": "stream",
     "text": [
      "recall(top_k_pq, query_true_neighbors, top_k) = 0.58\n"
     ]
    }
   ],
   "source": [
    "query_id = 1\n",
    "query = X_te_vecs[:,query_id];\n",
    "query_true_neighbors = true_neighbors[:,query_id]\n",
    "top_k = 100\n",
    "\n",
    "query_code = encode_shared(euclidean, query, P_shared)\n",
    "#query_code = UInt32.(vec(query_codeode))\n",
    "\n",
    "PQcodes_uint8 = Int32.(PQcodes_shared);\n",
    "\n",
    "pq_distances = linear_scann_exact(abs_dist, query_code, PQcodes_uint8)\n",
    "top_k_pq = sortperm(pq_distances)[1:top_k];\n",
    "\n",
    "@show recall(top_k_pq, query_true_neighbors, top_k);"
   ]
  },
  {
   "cell_type": "markdown",
   "id": "cbe3697a",
   "metadata": {},
   "source": [
    "## Benchmark times exact vs linearscann"
   ]
  },
  {
   "cell_type": "markdown",
   "id": "b42cebf0",
   "metadata": {},
   "source": [
    "#### Type UInt8"
   ]
  },
  {
   "cell_type": "code",
   "execution_count": 138,
   "id": "99582d79",
   "metadata": {
    "ExecuteTime": {
     "end_time": "2022-09-05T22:07:32.209000+02:00",
     "start_time": "2022-09-05T20:07:32.054Z"
    }
   },
   "outputs": [],
   "source": [
    "query_id = 1\n",
    "query = X_te_vecs[:,query_id];\n",
    "query_true_neighbors = true_neighbors[:,query_id]\n",
    "top_k = 100\n",
    "\n",
    "query_code = encode_shared(euclidean, query, P_shared)\n",
    "query_code = UInt8.(vec(query_code))\n",
    "\n",
    "PQcodes = UInt8.(PQcodes_shared);"
   ]
  },
  {
   "cell_type": "code",
   "execution_count": 139,
   "id": "20278e07",
   "metadata": {
    "ExecuteTime": {
     "end_time": "2022-09-05T22:07:45.795000+02:00",
     "start_time": "2022-09-05T20:07:33.261Z"
    }
   },
   "outputs": [
    {
     "data": {
      "text/plain": [
       "BenchmarkTools.Trial: 150 samples with 1 evaluation.\n",
       " Range \u001b[90m(\u001b[39m\u001b[36m\u001b[1mmin\u001b[22m\u001b[39m … \u001b[35mmax\u001b[39m\u001b[90m):  \u001b[39m\u001b[36m\u001b[1m27.112 ms\u001b[22m\u001b[39m … \u001b[35m39.131 ms\u001b[39m  \u001b[90m┊\u001b[39m GC \u001b[90m(\u001b[39mmin … max\u001b[90m): \u001b[39m0.00% … 0.00%\n",
       " Time  \u001b[90m(\u001b[39m\u001b[34m\u001b[1mmedian\u001b[22m\u001b[39m\u001b[90m):     \u001b[39m\u001b[34m\u001b[1m33.514 ms              \u001b[22m\u001b[39m\u001b[90m┊\u001b[39m GC \u001b[90m(\u001b[39mmedian\u001b[90m):    \u001b[39m0.00%\n",
       " Time  \u001b[90m(\u001b[39m\u001b[32m\u001b[1mmean\u001b[22m\u001b[39m ± \u001b[32mσ\u001b[39m\u001b[90m):   \u001b[39m\u001b[32m\u001b[1m33.495 ms\u001b[22m\u001b[39m ± \u001b[32m 2.502 ms\u001b[39m  \u001b[90m┊\u001b[39m GC \u001b[90m(\u001b[39mmean ± σ\u001b[90m):  \u001b[39m0.00% ± 0.00%\n",
       "\n",
       "  \u001b[39m \u001b[39m \u001b[39m \u001b[39m \u001b[39m \u001b[39m \u001b[39m \u001b[39m \u001b[39m \u001b[39m \u001b[39m \u001b[39m \u001b[39m \u001b[39m \u001b[39m \u001b[39m \u001b[39m \u001b[39m \u001b[39m \u001b[39m \u001b[39m \u001b[39m \u001b[39m \u001b[39m \u001b[39m \u001b[39m \u001b[39m \u001b[39m \u001b[39m \u001b[39m \u001b[39m \u001b[39m█\u001b[34m▃\u001b[39m\u001b[39m▅\u001b[39m▂\u001b[39m \u001b[39m \u001b[39m \u001b[39m \u001b[39m \u001b[39m \u001b[39m \u001b[39m \u001b[39m \u001b[39m \u001b[39m \u001b[39m \u001b[39m \u001b[39m \u001b[39m \u001b[39m \u001b[39m \u001b[39m \u001b[39m \u001b[39m \u001b[39m \u001b[39m \u001b[39m \u001b[39m \u001b[39m \u001b[39m \n",
       "  \u001b[39m▃\u001b[39m▁\u001b[39m▁\u001b[39m▁\u001b[39m▁\u001b[39m▁\u001b[39m▁\u001b[39m▄\u001b[39m▄\u001b[39m▄\u001b[39m▃\u001b[39m▅\u001b[39m▃\u001b[39m▃\u001b[39m▄\u001b[39m▅\u001b[39m▄\u001b[39m▄\u001b[39m▇\u001b[39m▃\u001b[39m▄\u001b[39m▄\u001b[39m▄\u001b[39m▄\u001b[39m▁\u001b[39m▄\u001b[39m█\u001b[39m█\u001b[39m▆\u001b[39m▆\u001b[39m▇\u001b[39m█\u001b[34m█\u001b[39m\u001b[39m█\u001b[39m█\u001b[39m█\u001b[39m▅\u001b[39m▆\u001b[39m▅\u001b[39m▅\u001b[39m▆\u001b[39m▃\u001b[39m▁\u001b[39m▁\u001b[39m▅\u001b[39m▁\u001b[39m▁\u001b[39m▄\u001b[39m▃\u001b[39m▅\u001b[39m▄\u001b[39m▅\u001b[39m▁\u001b[39m▄\u001b[39m▃\u001b[39m▃\u001b[39m▃\u001b[39m▃\u001b[39m▅\u001b[39m \u001b[39m▃\n",
       "  27.1 ms\u001b[90m         Histogram: frequency by time\u001b[39m        38.9 ms \u001b[0m\u001b[1m<\u001b[22m\n",
       "\n",
       " Memory estimate\u001b[90m: \u001b[39m\u001b[33m3.81 MiB\u001b[39m, allocs estimate\u001b[90m: \u001b[39m\u001b[33m2\u001b[39m."
      ]
     },
     "execution_count": 139,
     "metadata": {},
     "output_type": "execute_result"
    }
   ],
   "source": [
    "@inline function Euclidean0(x, query)\n",
    "    res = zero(eltype(x))\n",
    "    @inbounds @fastmath  for j in eachindex(x)\n",
    "        aux = (query[j] - x[j])\n",
    "        res += aux * aux\n",
    "    end\n",
    "    return sqrt(res)\n",
    "end\n",
    "\n",
    "function linear_scann_exact(dist, query, X)\n",
    "\n",
    "    n_features, n_examples = size(X)\n",
    "    distances = Array{Float32}(undef, n_examples)\n",
    "    \n",
    "    @inbounds for j in 1:n_examples\n",
    "        distances[j] = dist(query, view(X,:,j))    \n",
    "    end\n",
    "    return distances\n",
    "end\n",
    "\n",
    "@benchmark linear_scann_exact($Euclidean0, $query, $X_tr_vecs)\n"
   ]
  },
  {
   "cell_type": "code",
   "execution_count": 140,
   "id": "550363d3",
   "metadata": {
    "ExecuteTime": {
     "end_time": "2022-09-05T22:07:57.900000+02:00",
     "start_time": "2022-09-05T20:07:34.917Z"
    }
   },
   "outputs": [
    {
     "data": {
      "text/plain": [
       "BenchmarkTools.Trial: 446 samples with 1 evaluation.\n",
       " Range \u001b[90m(\u001b[39m\u001b[36m\u001b[1mmin\u001b[22m\u001b[39m … \u001b[35mmax\u001b[39m\u001b[90m):  \u001b[39m\u001b[36m\u001b[1m 7.927 ms\u001b[22m\u001b[39m … \u001b[35m100.532 ms\u001b[39m  \u001b[90m┊\u001b[39m GC \u001b[90m(\u001b[39mmin … max\u001b[90m): \u001b[39m0.00% … 88.26%\n",
       " Time  \u001b[90m(\u001b[39m\u001b[34m\u001b[1mmedian\u001b[22m\u001b[39m\u001b[90m):     \u001b[39m\u001b[34m\u001b[1m10.893 ms               \u001b[22m\u001b[39m\u001b[90m┊\u001b[39m GC \u001b[90m(\u001b[39mmedian\u001b[90m):    \u001b[39m0.00%\n",
       " Time  \u001b[90m(\u001b[39m\u001b[32m\u001b[1mmean\u001b[22m\u001b[39m ± \u001b[32mσ\u001b[39m\u001b[90m):   \u001b[39m\u001b[32m\u001b[1m11.194 ms\u001b[22m\u001b[39m ± \u001b[32m  5.780 ms\u001b[39m  \u001b[90m┊\u001b[39m GC \u001b[90m(\u001b[39mmean ± σ\u001b[90m):  \u001b[39m3.42% ±  5.95%\n",
       "\n",
       "  \u001b[39m \u001b[39m \u001b[39m \u001b[39m \u001b[39m \u001b[39m \u001b[39m \u001b[39m \u001b[39m \u001b[39m \u001b[39m \u001b[39m \u001b[39m \u001b[39m \u001b[39m \u001b[39m \u001b[39m \u001b[39m \u001b[39m \u001b[39m \u001b[39m \u001b[39m \u001b[39m \u001b[39m \u001b[39m \u001b[39m \u001b[39m▂\u001b[39m \u001b[39m▅\u001b[39m▅\u001b[39m▃\u001b[39m█\u001b[39m▄\u001b[34m▃\u001b[39m\u001b[39m█\u001b[39m█\u001b[32m▆\u001b[39m\u001b[39m▃\u001b[39m▁\u001b[39m▁\u001b[39m \u001b[39m \u001b[39m \u001b[39m \u001b[39m \u001b[39m \u001b[39m \u001b[39m \u001b[39m \u001b[39m \u001b[39m \u001b[39m \u001b[39m \u001b[39m \u001b[39m \u001b[39m \u001b[39m \u001b[39m \u001b[39m \u001b[39m \u001b[39m \u001b[39m \n",
       "  \u001b[39m▃\u001b[39m▁\u001b[39m▁\u001b[39m▁\u001b[39m▁\u001b[39m▃\u001b[39m▁\u001b[39m▃\u001b[39m▄\u001b[39m▃\u001b[39m▇\u001b[39m▇\u001b[39m█\u001b[39m▄\u001b[39m▆\u001b[39m▄\u001b[39m▃\u001b[39m▃\u001b[39m▃\u001b[39m▄\u001b[39m▃\u001b[39m▃\u001b[39m▆\u001b[39m▅\u001b[39m▆\u001b[39m▅\u001b[39m█\u001b[39m█\u001b[39m█\u001b[39m█\u001b[39m█\u001b[39m█\u001b[39m█\u001b[34m█\u001b[39m\u001b[39m█\u001b[39m█\u001b[32m█\u001b[39m\u001b[39m█\u001b[39m█\u001b[39m█\u001b[39m█\u001b[39m▇\u001b[39m▅\u001b[39m▇\u001b[39m▇\u001b[39m▅\u001b[39m▃\u001b[39m▄\u001b[39m▄\u001b[39m▄\u001b[39m▃\u001b[39m▃\u001b[39m▄\u001b[39m▁\u001b[39m▃\u001b[39m▃\u001b[39m▃\u001b[39m▁\u001b[39m▃\u001b[39m▄\u001b[39m \u001b[39m▄\n",
       "  7.93 ms\u001b[90m         Histogram: frequency by time\u001b[39m         13.3 ms \u001b[0m\u001b[1m<\u001b[22m\n",
       "\n",
       " Memory estimate\u001b[90m: \u001b[39m\u001b[33m3.81 MiB\u001b[39m, allocs estimate\u001b[90m: \u001b[39m\u001b[33m2\u001b[39m."
      ]
     },
     "execution_count": 140,
     "metadata": {},
     "output_type": "execute_result"
    }
   ],
   "source": [
    "function abs_dist(y::Array{T}, X::Array{T}, j) where T\n",
    "    res = zero(eltype(y))\n",
    "    @inbounds @simd  for k in eachindex(y)\n",
    "        res += abs(X[k, j] - y[k])\n",
    "    end\n",
    "    return res\n",
    "end\n",
    "\n",
    "function linear_scann_exact(dist, query, X)\n",
    "\n",
    "    n_features, n_examples = size(X)\n",
    "    distances = Array{Float32}(undef, n_examples)\n",
    "    \n",
    "    @inbounds for j in 1:n_examples\n",
    "        distances[j] = dist(query, X, j)    \n",
    "    end\n",
    "    return distances\n",
    "end\n",
    "\n",
    "@benchmark linear_scann_exact($abs_dist, $query_code, $PQcodes)"
   ]
  },
  {
   "cell_type": "code",
   "execution_count": 141,
   "id": "51d8fc00",
   "metadata": {
    "ExecuteTime": {
     "end_time": "2022-09-05T22:07:57.902000+02:00",
     "start_time": "2022-09-05T20:07:37.139Z"
    },
    "scrolled": true
   },
   "outputs": [
    {
     "ename": "LoadError",
     "evalue": "UndefVarError: randint not defined",
     "output_type": "error",
     "traceback": [
      "UndefVarError: randint not defined",
      "",
      "Stacktrace:",
      " [1] top-level scope",
      "   @ In[141]:1",
      " [2] eval",
      "   @ ./boot.jl:368 [inlined]",
      " [3] include_string(mapexpr::typeof(REPL.softscope), mod::Module, code::String, filename::String)",
      "   @ Base ./loading.jl:1428"
     ]
    }
   ],
   "source": [
    "randint()"
   ]
  },
  {
   "cell_type": "code",
   "execution_count": null,
   "id": "4d2daefd",
   "metadata": {},
   "outputs": [],
   "source": []
  },
  {
   "cell_type": "code",
   "execution_count": null,
   "id": "52fb775b",
   "metadata": {},
   "outputs": [],
   "source": []
  }
 ],
 "metadata": {
  "kernelspec": {
   "display_name": "Julia 1.8.0",
   "language": "julia",
   "name": "julia-1.8"
  },
  "language_info": {
   "file_extension": ".jl",
   "mimetype": "application/julia",
   "name": "julia",
   "version": "1.8.0"
  },
  "toc": {
   "base_numbering": 1,
   "nav_menu": {},
   "number_sections": true,
   "sideBar": true,
   "skip_h1_title": false,
   "title_cell": "Table of Contents",
   "title_sidebar": "Contents",
   "toc_cell": false,
   "toc_position": {},
   "toc_section_display": true,
   "toc_window_display": false
  }
 },
 "nbformat": 4,
 "nbformat_minor": 5
}
