{
 "cells": [
  {
   "cell_type": "code",
   "execution_count": 5,
   "id": "bf3452e7",
   "metadata": {},
   "outputs": [],
   "source": [
    "using Clustering\n",
    "using BenchmarkTools"
   ]
  },
  {
   "cell_type": "code",
   "execution_count": 24,
   "id": "00cbdb9c",
   "metadata": {},
   "outputs": [
    {
     "data": {
      "text/plain": [
       "10×10 Matrix{Float64}:\n",
       " 0.0757001  0.729319  0.383775   …  0.384891   0.762499   0.10915\n",
       " 0.406777   0.711884  0.837637      0.263536   0.456405   0.620355\n",
       " 0.578525   0.437906  0.728977      0.767467   0.0620808  0.344472\n",
       " 0.499503   0.675891  0.776707      0.998672   0.755527   0.35227\n",
       " 0.0583876  0.62583   0.52636       0.767424   0.585607   0.0513659\n",
       " 0.276109   0.233574  0.900219   …  0.0246826  0.379685   0.346007\n",
       " 0.887936   0.273759  0.204775      0.44341    0.0393164  0.144777\n",
       " 0.48892    0.41004   0.380116      0.677375   0.654588   0.983341\n",
       " 0.38515    0.879202  0.0648455     0.172758   0.584082   0.000863416\n",
       " 0.571523   0.372829  0.673446      0.575913   0.323949   0.0671766"
      ]
     },
     "execution_count": 24,
     "metadata": {},
     "output_type": "execute_result"
    }
   ],
   "source": [
    "X = rand(10,10)"
   ]
  },
  {
   "cell_type": "code",
   "execution_count": 25,
   "id": "7bd2122b",
   "metadata": {},
   "outputs": [
    {
     "data": {
      "text/plain": [
       "10-element Vector{Float64}:\n",
       " 0.05838757539383055\n",
       " 0.23357401633822816\n",
       " 0.06484554608832227\n",
       " 0.1269281794232564\n",
       " 0.06549898464608161\n",
       " 0.06797615931625578\n",
       " 0.019527251366129317\n",
       " 0.02468257974014021\n",
       " 0.039316424958566354\n",
       " 0.0008634159054617951"
      ]
     },
     "execution_count": 25,
     "metadata": {},
     "output_type": "execute_result"
    }
   ],
   "source": [
    "[x[1] for x in findmin.(eachcol(X))]"
   ]
  },
  {
   "cell_type": "code",
   "execution_count": 60,
   "id": "c1810d4a",
   "metadata": {},
   "outputs": [
    {
     "data": {
      "text/plain": [
       "1×10 Matrix{Float64}:\n",
       " 0.0583876  0.233574  0.0648455  …  0.0246826  0.0393164  0.000863416"
      ]
     },
     "execution_count": 60,
     "metadata": {},
     "output_type": "execute_result"
    }
   ],
   "source": [
    "findmin(X,dims=1)[1]"
   ]
  },
  {
   "cell_type": "code",
   "execution_count": 61,
   "id": "9e11bef3",
   "metadata": {},
   "outputs": [
    {
     "data": {
      "text/plain": [
       "1×10 Matrix{CartesianIndex{2}}:\n",
       " CartesianIndex(5, 1)  CartesianIndex(6, 2)  …  CartesianIndex(9, 10)"
      ]
     },
     "execution_count": 61,
     "metadata": {},
     "output_type": "execute_result"
    }
   ],
   "source": [
    "findmin(X,dims=1)[2]"
   ]
  },
  {
   "cell_type": "code",
   "execution_count": 65,
   "id": "e07c7fd2",
   "metadata": {},
   "outputs": [
    {
     "data": {
      "text/plain": [
       "10-element Vector{Int64}:\n",
       " 5\n",
       " 6\n",
       " 9\n",
       " 9\n",
       " 2\n",
       " 4\n",
       " 6\n",
       " 6\n",
       " 7\n",
       " 9"
      ]
     },
     "execution_count": 65,
     "metadata": {},
     "output_type": "execute_result"
    }
   ],
   "source": [
    "partialsortperm.(eachcol(X), 1)"
   ]
  },
  {
   "cell_type": "code",
   "execution_count": 84,
   "id": "b6fcd3ad",
   "metadata": {},
   "outputs": [
    {
     "data": {
      "text/plain": [
       "10×10 Matrix{Float64}:\n",
       " 0.0       1.2498    1.25701  1.27054   …  1.11588   1.39412  1.15191\n",
       " 1.2498    0.0       1.2015   1.34785      1.11206   0.66421  1.43503\n",
       " 1.25701   1.2015    0.0      1.1545       1.1711    1.22593  1.31245\n",
       " 1.27054   1.34785   1.1545   0.0          1.378     1.06729  1.22297\n",
       " 0.955984  1.30211   1.34449  0.934056     1.09368   1.25117  1.20185\n",
       " 0.916266  1.21848   1.0734   1.07208   …  1.25753   1.35631  0.978397\n",
       " 1.2184    0.901066  1.28757  1.30595      0.987912  1.08139  1.63041\n",
       " 1.11588   1.11206   1.1711   1.378        0.0       1.13668  1.37378\n",
       " 1.39412   0.66421   1.22593  1.06729      1.13668   0.0      1.22798\n",
       " 1.15191   1.43503   1.31245  1.22297      1.37378   1.22798  0.0"
      ]
     },
     "execution_count": 84,
     "metadata": {},
     "output_type": "execute_result"
    }
   ],
   "source": [
    "using Distances\n",
    "Xdist = pairwise(Euclidean(), X)"
   ]
  },
  {
   "cell_type": "code",
   "execution_count": 101,
   "id": "9d972b4e",
   "metadata": {},
   "outputs": [],
   "source": [
    "#partialsortperm.(eachcol(Xdist), 1)\n",
    "#partialsortperm.(eachcol(Xdist), 2)"
   ]
  },
  {
   "cell_type": "code",
   "execution_count": 121,
   "id": "d81a22b7",
   "metadata": {},
   "outputs": [
    {
     "data": {
      "text/plain": [
       "10-element Vector{Int64}:\n",
       " 6\n",
       " 9\n",
       " 6\n",
       " 5\n",
       " 4\n",
       " 1\n",
       " 2\n",
       " 7\n",
       " 2\n",
       " 6"
      ]
     },
     "execution_count": 121,
     "metadata": {},
     "output_type": "execute_result"
    }
   ],
   "source": [
    "partialsortperm.(eachcol(Xdist), 2)"
   ]
  },
  {
   "cell_type": "code",
   "execution_count": null,
   "id": "60d4d7a7",
   "metadata": {},
   "outputs": [],
   "source": []
  },
  {
   "cell_type": "code",
   "execution_count": null,
   "id": "043964b1",
   "metadata": {},
   "outputs": [],
   "source": []
  },
  {
   "cell_type": "code",
   "execution_count": null,
   "id": "45b9634d",
   "metadata": {},
   "outputs": [],
   "source": []
  },
  {
   "cell_type": "code",
   "execution_count": null,
   "id": "8d41ccd6",
   "metadata": {},
   "outputs": [],
   "source": []
  },
  {
   "cell_type": "code",
   "execution_count": null,
   "id": "294683eb",
   "metadata": {},
   "outputs": [],
   "source": []
  },
  {
   "cell_type": "code",
   "execution_count": null,
   "id": "28979c9c",
   "metadata": {},
   "outputs": [],
   "source": []
  },
  {
   "cell_type": "code",
   "execution_count": 3,
   "id": "94f7f4d6",
   "metadata": {},
   "outputs": [
    {
     "data": {
      "text/plain": [
       "128×1000000 Matrix{Float64}:\n",
       " 0.931038   0.0726661   0.551651   …  0.0579518   0.97922    0.619257\n",
       " 0.185278   0.188199    0.803363      0.525522    0.862127   0.298315\n",
       " 0.735868   0.803747    0.8737        0.114281    0.918057   0.706311\n",
       " 0.263686   0.190589    0.0311582     0.182525    0.52849    0.261022\n",
       " 0.535833   0.950155    0.270986      0.698259    0.964289   0.417494\n",
       " 0.58529    0.428251    0.0995156  …  0.679166    0.338054   0.559876\n",
       " 0.930808   0.737406    0.864723      0.236847    0.136049   0.880267\n",
       " 0.975246   0.57333     0.388913      0.627285    0.0742733  0.52762\n",
       " 0.0722124  0.618486    0.449308      0.316738    0.816795   0.0955676\n",
       " 0.0886236  0.609417    0.143529      0.565044    0.0705234  0.790472\n",
       " 0.991151   0.63761     0.0214993  …  0.769291    0.731305   0.0922594\n",
       " 0.111662   0.621219    0.41915       0.14797     0.618193   0.915716\n",
       " 0.950868   0.548997    0.800719      0.858938    0.565673   0.427175\n",
       " ⋮                                 ⋱                         \n",
       " 0.0329637  0.198444    0.625162      0.744231    0.681658   0.522256\n",
       " 0.40679    0.00589242  0.194737      0.463897    0.878621   0.605204\n",
       " 0.814708   0.795417    0.458841      0.00499799  0.58592    0.518233\n",
       " 0.745463   0.861447    0.156075      0.739417    0.041114   0.281925\n",
       " 0.0476241  0.912683    0.959198   …  0.738538    0.43425    0.567826\n",
       " 0.93186    0.645125    0.380574      0.62301     0.31207    0.0519566\n",
       " 0.498469   0.101112    0.136374      0.74448     0.458749   0.770689\n",
       " 0.35919    0.822491    0.151713      0.529793    0.556043   0.920037\n",
       " 0.159083   0.0825514   0.743878      0.702941    0.596017   0.45949\n",
       " 0.317269   0.824406    0.15924    …  0.42245     0.701878   0.389476\n",
       " 0.938537   0.480304    0.0633813     0.161251    0.0316482  0.229162\n",
       " 0.856045   0.261296    0.333291      0.583287    0.247652   0.358103"
      ]
     },
     "execution_count": 3,
     "metadata": {},
     "output_type": "execute_result"
    }
   ],
   "source": [
    "n_features = 128\n",
    "n_examples = 1_000_000\n",
    "\n",
    "X = rand(n_features, n_examples)"
   ]
  },
  {
   "cell_type": "markdown",
   "id": "084113f0",
   "metadata": {},
   "source": [
    "### Clustering the data"
   ]
  },
  {
   "cell_type": "code",
   "execution_count": 145,
   "id": "ce04aee9",
   "metadata": {},
   "outputs": [
    {
     "name": "stdout",
     "output_type": "stream",
     "text": [
      "  Iters               objv        objv-change | affected \n",
      "-------------------------------------------------------------\n",
      "      0       1.666636e+07\n",
      "      1       1.021287e+07      -6.453496e+06 |       64\n",
      "      2       1.020258e+07      -1.028611e+04 |       64\n",
      "      3       1.020012e+07      -2.462988e+03 |       64\n",
      "      4       1.019849e+07      -1.627463e+03 |       64\n",
      "      5       1.019718e+07      -1.307900e+03 |       64\n",
      "      6       1.019609e+07      -1.092722e+03 |       64\n",
      "      7       1.019516e+07      -9.354148e+02 |       64\n",
      "      8       1.019435e+07      -8.103119e+02 |       64\n",
      "      9       1.019364e+07      -7.081891e+02 |       64\n",
      "     10       1.019300e+07      -6.365086e+02 |       64\n",
      "K-means terminated without convergence after 10 iterations (objv = 1.0193001256588548e7)\n"
     ]
    },
    {
     "data": {
      "text/plain": [
       "KmeansResult{Matrix{Float64}, Float64, Int64}([0.4561031317161729 0.42376439045254366 … 0.4979044592351398 0.508545984148818; 0.42431094106545014 0.578234695349929 … 0.5879579841842958 0.445484105031861; … ; 0.46711490345306983 0.45165287654858904 … 0.4342292960629301 0.4409716976214172; 0.5771867750613722 0.5147145413797645 … 0.50549861102873 0.4332333517403715], [15, 27, 37, 46, 29, 26, 15, 44, 13, 27  …  11, 5, 14, 55, 54, 41, 51, 29, 49, 3], [10.28208337421519, 9.509580226475656, 10.4211647179215, 10.377941077667487, 9.307424611681775, 11.084190160888632, 9.82000248746263, 11.217454330406639, 10.620989622252964, 9.981830887974851  …  11.623173091960581, 10.341884763217493, 8.79297205867077, 9.255769586846768, 10.492932279435493, 12.107810280924113, 9.853676658987055, 10.043782167024844, 11.082537019940219, 8.700946507894173], [15823, 15779, 15689, 15607, 15641, 15616, 15642, 15667, 15559, 15522  …  15827, 15599, 15700, 15562, 15720, 15524, 15599, 15601, 15834, 15702], [15822, 15750, 15667, 15655, 15637, 15597, 15643, 15684, 15558, 15547  …  15857, 15609, 15712, 15472, 15718, 15537, 15555, 15557, 15860, 15655], 1.0193001256588548e7, 10, false)"
      ]
     },
     "execution_count": 145,
     "metadata": {},
     "output_type": "execute_result"
    }
   ],
   "source": [
    "n_clusters = 64\n",
    "R = kmeans(X, n_clusters ; maxiter=10, display=:iter)"
   ]
  },
  {
   "cell_type": "markdown",
   "id": "fe46fb99",
   "metadata": {},
   "source": [
    "## Assigning new datapoints to clusters"
   ]
  },
  {
   "cell_type": "code",
   "execution_count": 146,
   "id": "92a82382",
   "metadata": {},
   "outputs": [
    {
     "data": {
      "text/plain": [
       "KmeansResult{Matrix{Float64}, Float64, Int64}([0.4561031317161729 0.42376439045254366 … 0.4979044592351398 0.508545984148818; 0.42431094106545014 0.578234695349929 … 0.5879579841842958 0.445484105031861; … ; 0.46711490345306983 0.45165287654858904 … 0.4342292960629301 0.4409716976214172; 0.5771867750613722 0.5147145413797645 … 0.50549861102873 0.4332333517403715], [15, 27, 37, 46, 29, 26, 15, 44, 13, 27  …  11, 5, 14, 55, 54, 41, 51, 29, 49, 3], [10.28208337421519, 9.509580226475656, 10.4211647179215, 10.377941077667487, 9.307424611681775, 11.084190160888632, 9.82000248746263, 11.217454330406639, 10.620989622252964, 9.981830887974851  …  11.623173091960581, 10.341884763217493, 8.79297205867077, 9.255769586846768, 10.492932279435493, 12.107810280924113, 9.853676658987055, 10.043782167024844, 11.082537019940219, 8.700946507894173], [15823, 15779, 15689, 15607, 15641, 15616, 15642, 15667, 15559, 15522  …  15827, 15599, 15700, 15562, 15720, 15524, 15599, 15601, 15834, 15702], [15822, 15750, 15667, 15655, 15637, 15597, 15643, 15684, 15558, 15547  …  15857, 15609, 15712, 15472, 15718, 15537, 15555, 15557, 15860, 15655], 1.0193001256588548e7, 10, false)"
      ]
     },
     "execution_count": 146,
     "metadata": {},
     "output_type": "execute_result"
    }
   ],
   "source": [
    "R"
   ]
  },
  {
   "cell_type": "code",
   "execution_count": 147,
   "id": "3e1696d0",
   "metadata": {},
   "outputs": [
    {
     "data": {
      "text/plain": [
       "128×64 Matrix{Float64}:\n",
       " 0.456103  0.423764  0.449762  0.38174   …  0.476864  0.497904  0.508546\n",
       " 0.424311  0.578235  0.446719  0.478292     0.432809  0.587958  0.445484\n",
       " 0.565457  0.539561  0.497676  0.541988     0.480004  0.634896  0.508071\n",
       " 0.564613  0.61762   0.569367  0.521538     0.407201  0.595938  0.509028\n",
       " 0.425188  0.432617  0.437707  0.577014     0.466168  0.549891  0.501333\n",
       " 0.506802  0.574974  0.538054  0.522421  …  0.456883  0.54635   0.523251\n",
       " 0.452436  0.542135  0.546854  0.42106      0.409229  0.500721  0.421212\n",
       " 0.484986  0.542776  0.373007  0.568994     0.489929  0.518499  0.57865\n",
       " 0.553688  0.557496  0.511975  0.513719     0.397335  0.416845  0.586546\n",
       " 0.515957  0.59576   0.454413  0.535195     0.510252  0.442814  0.575013\n",
       " 0.602426  0.398626  0.493401  0.528377  …  0.550399  0.373422  0.421263\n",
       " 0.395248  0.381727  0.587977  0.558271     0.48218   0.537858  0.516114\n",
       " 0.502404  0.447041  0.526142  0.570498     0.51636   0.570667  0.581532\n",
       " ⋮                                       ⋱                      \n",
       " 0.409451  0.538125  0.537908  0.531709     0.514889  0.428031  0.562609\n",
       " 0.578334  0.537184  0.466376  0.468055     0.451292  0.53846   0.439688\n",
       " 0.528867  0.483386  0.413576  0.434466     0.571605  0.476909  0.453523\n",
       " 0.418204  0.493401  0.508735  0.416702     0.431741  0.472693  0.602677\n",
       " 0.560569  0.480947  0.475299  0.551703  …  0.582101  0.592641  0.484903\n",
       " 0.512639  0.435852  0.572841  0.477331     0.532429  0.591212  0.596423\n",
       " 0.415479  0.594029  0.468026  0.594198     0.455819  0.375893  0.478876\n",
       " 0.593818  0.469215  0.39735   0.465888     0.424677  0.465513  0.542992\n",
       " 0.470229  0.452133  0.575163  0.398999     0.546518  0.525553  0.459102\n",
       " 0.586752  0.494099  0.471673  0.563737  …  0.568596  0.510635  0.595107\n",
       " 0.467115  0.451653  0.437418  0.471998     0.561468  0.434229  0.440972\n",
       " 0.577187  0.514715  0.452582  0.468192     0.427674  0.505499  0.433233"
      ]
     },
     "execution_count": 147,
     "metadata": {},
     "output_type": "execute_result"
    }
   ],
   "source": [
    "R.centers"
   ]
  },
  {
   "cell_type": "code",
   "execution_count": 148,
   "id": "482be843",
   "metadata": {},
   "outputs": [
    {
     "data": {
      "text/plain": [
       "euclidean_mat (generic function with 1 method)"
      ]
     },
     "execution_count": 148,
     "metadata": {},
     "output_type": "execute_result"
    }
   ],
   "source": [
    "\n",
    "function euclidean_mat(y, X, j) where T\n",
    "    res = zero(eltype(y))\n",
    "    @inbounds @fastmath  for k in eachindex(y)\n",
    "        partial = X[k, j] - y[k]\n",
    "        res += partial * partial\n",
    "    end\n",
    "    return res\n",
    "end"
   ]
  },
  {
   "cell_type": "code",
   "execution_count": 149,
   "id": "48f788ed",
   "metadata": {},
   "outputs": [
    {
     "data": {
      "text/plain": [
       "transform"
      ]
     },
     "execution_count": 149,
     "metadata": {},
     "output_type": "execute_result"
    }
   ],
   "source": [
    "\"\"\"\n",
    "For each observation in X (column) provide its cluster membership\n",
    "\"\"\"\n",
    "function transform(X, R::KmeansResult)\n",
    "    n_features, n_examples = size(X)\n",
    "    cluster_assignments = Array{Int32, 1}(undef, n_examples)\n",
    "    for n in 1:n_examples\n",
    "        min_dist = typemax(eltype(X))\n",
    "        cluster_assignment = Int32(0)\n",
    "        for (j,c) in enumerate(eachcol(R.centers))\n",
    "            dist = euclidean_mat(c, X, n)\n",
    "            if dist < min_dist\n",
    "                min_dist = dist\n",
    "                cluster_assignment = j\n",
    "            end\n",
    "        end\n",
    "        cluster_assignments[n] = cluster_assignment\n",
    "    end\n",
    "    return cluster_assignments\n",
    "end"
   ]
  },
  {
   "cell_type": "code",
   "execution_count": 150,
   "id": "332e3b42",
   "metadata": {},
   "outputs": [
    {
     "name": "stdout",
     "output_type": "stream",
     "text": [
      "  5.240624 seconds (192.01 M allocations: 4.774 GiB, 5.90% gc time, 0.31% compilation time)\n"
     ]
    },
    {
     "data": {
      "text/plain": [
       "1000000-element Vector{Int32}:\n",
       " 15\n",
       " 27\n",
       " 37\n",
       " 46\n",
       " 29\n",
       " 26\n",
       " 15\n",
       " 44\n",
       " 13\n",
       " 27\n",
       "  2\n",
       " 22\n",
       " 51\n",
       "  ⋮\n",
       " 46\n",
       " 17\n",
       " 11\n",
       "  5\n",
       " 14\n",
       " 55\n",
       " 54\n",
       " 41\n",
       " 51\n",
       " 29\n",
       " 49\n",
       "  3"
      ]
     },
     "execution_count": 150,
     "metadata": {},
     "output_type": "execute_result"
    }
   ],
   "source": [
    "@time transform(X,R)"
   ]
  },
  {
   "cell_type": "code",
   "execution_count": 151,
   "id": "978403ba",
   "metadata": {},
   "outputs": [
    {
     "data": {
      "text/plain": [
       "euclidean_mat2 (generic function with 1 method)"
      ]
     },
     "execution_count": 151,
     "metadata": {},
     "output_type": "execute_result"
    }
   ],
   "source": [
    "function euclidean_mat2(Y, j, X, n) where T\n",
    "    res = zero(eltype(Y))\n",
    "    n_features = size(Y,2)\n",
    "    @inbounds @fastmath  for k in 1:n_features\n",
    "        partial = X[k, n] - Y[j,k]\n",
    "        res += partial * partial\n",
    "    end\n",
    "    return res\n",
    "end"
   ]
  },
  {
   "cell_type": "code",
   "execution_count": 152,
   "id": "247ff4e8",
   "metadata": {},
   "outputs": [
    {
     "data": {
      "text/plain": [
       "transform2"
      ]
     },
     "execution_count": 152,
     "metadata": {},
     "output_type": "execute_result"
    }
   ],
   "source": [
    "\"\"\"\n",
    "For each observation in X (column) provide its cluster membership\n",
    "\"\"\"\n",
    "function transform2(X, R::KmeansResult)\n",
    "    n_features, n_examples = size(X)\n",
    "    n_centers = length(R.centers)\n",
    "    C = R.centers\n",
    "    cluster_assignments = Array{Int32, 1}(undef, n_examples)\n",
    "    for n in 1:n_examples\n",
    "        min_dist = typemax(eltype(X))\n",
    "        cluster_assignment = Int32(0)\n",
    "        for j in 1:n_centers\n",
    "            dist = euclidean_mat2(C,j, X, n)\n",
    "            if dist < min_dist\n",
    "                min_dist = dist\n",
    "                cluster_assignment = j\n",
    "            end\n",
    "        end\n",
    "        cluster_assignments[n] = cluster_assignment\n",
    "    end\n",
    "    return cluster_assignments\n",
    "end"
   ]
  },
  {
   "cell_type": "code",
   "execution_count": 153,
   "id": "230c538e",
   "metadata": {},
   "outputs": [
    {
     "name": "stdout",
     "output_type": "stream",
     "text": [
      "  0.832138 seconds (19.91 M allocations: 305.961 MiB, 16.62% gc time, 2.19% compilation time)\n"
     ]
    },
    {
     "data": {
      "text/plain": [
       "1000-element Vector{Int32}:\n",
       " 222\n",
       "  82\n",
       "  96\n",
       "  58\n",
       "  15\n",
       " 336\n",
       "  17\n",
       "   7\n",
       " 158\n",
       "  39\n",
       " 171\n",
       "  39\n",
       " 512\n",
       "   ⋮\n",
       " 244\n",
       "  27\n",
       " 110\n",
       "  62\n",
       "  79\n",
       " 592\n",
       "  65\n",
       "  89\n",
       "  88\n",
       "   6\n",
       "  80\n",
       " 154"
      ]
     },
     "execution_count": 153,
     "metadata": {},
     "output_type": "execute_result"
    }
   ],
   "source": [
    "@time transform2(X[:,1:1000],R)"
   ]
  },
  {
   "cell_type": "code",
   "execution_count": 120,
   "id": "52d16f60",
   "metadata": {},
   "outputs": [
    {
     "data": {
      "text/plain": [
       "80"
      ]
     },
     "execution_count": 120,
     "metadata": {},
     "output_type": "execute_result"
    }
   ],
   "source": [
    "@allocated R.centers"
   ]
  },
  {
   "cell_type": "code",
   "execution_count": null,
   "id": "a24997c2",
   "metadata": {},
   "outputs": [],
   "source": []
  }
 ],
 "metadata": {
  "kernelspec": {
   "display_name": "Julia 1.8.0",
   "language": "julia",
   "name": "julia-1.8"
  },
  "language_info": {
   "file_extension": ".jl",
   "mimetype": "application/julia",
   "name": "julia",
   "version": "1.8.3"
  }
 },
 "nbformat": 4,
 "nbformat_minor": 5
}
