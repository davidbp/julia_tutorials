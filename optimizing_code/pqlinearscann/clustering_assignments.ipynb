{
 "cells": [
  {
   "cell_type": "code",
   "execution_count": 143,
   "id": "bf3452e7",
   "metadata": {},
   "outputs": [],
   "source": [
    "using Clustering\n",
    "using BenchmarkTools"
   ]
  },
  {
   "cell_type": "code",
   "execution_count": 144,
   "id": "94f7f4d6",
   "metadata": {},
   "outputs": [
    {
     "data": {
      "text/plain": [
       "128×1000000 Matrix{Float64}:\n",
       " 0.890252   0.430055  0.466509   …  0.267016    0.810538   0.0430049\n",
       " 0.916537   0.878632  0.0830315     0.905649    0.105865   0.967716\n",
       " 0.911671   0.29667   0.101998      0.179674    0.296628   0.846352\n",
       " 0.435014   0.168574  0.338179      0.323126    0.152927   0.325851\n",
       " 0.46004    0.267911  0.310862      0.162131    0.44988    0.771466\n",
       " 0.216421   0.66997   0.28581    …  0.982918    0.905518   0.425449\n",
       " 0.706484   0.494205  0.0115639     0.105798    0.279449   0.260919\n",
       " 0.656185   0.951024  0.323328      0.45779     0.146217   0.241347\n",
       " 0.315659   0.140255  0.357479      0.454037    0.760189   0.356464\n",
       " 0.457013   0.122848  0.157975      0.609647    0.326623   0.402037\n",
       " 0.532942   0.552832  0.729329   …  0.373778    0.484183   0.241797\n",
       " 0.51399    0.940559  0.29033       0.536781    0.26932    0.962947\n",
       " 0.322237   0.423093  0.0163472     0.0616656   0.880831   0.788084\n",
       " ⋮                               ⋱                         \n",
       " 0.540126   0.999759  0.291335      0.789018    0.706405   0.913504\n",
       " 0.953413   0.923619  0.751534      0.337502    0.202536   0.457734\n",
       " 0.0906526  0.168148  0.865948      0.723138    0.0687488  0.482174\n",
       " 0.39003    0.707906  0.47504       0.0870744   0.702446   0.362478\n",
       " 0.187874   0.370727  0.97202    …  0.00203349  0.390561   0.880404\n",
       " 0.018993   0.335733  0.907987      0.410696    0.58346    0.489616\n",
       " 0.404376   0.429182  0.889396      0.215502    0.602192   0.234319\n",
       " 0.119344   0.46117   0.72765       0.380184    0.729113   0.339489\n",
       " 0.918763   0.29363   0.858374      0.157115    0.259492   0.0823847\n",
       " 0.405708   0.410637  0.788453   …  0.229287    0.0474425  0.640319\n",
       " 0.872223   0.913587  0.13454       0.122348    0.870509   0.276889\n",
       " 0.773106   0.255521  0.501193      0.257159    0.956983   0.978157"
      ]
     },
     "execution_count": 144,
     "metadata": {},
     "output_type": "execute_result"
    }
   ],
   "source": [
    "n_features = 128\n",
    "n_examples = 1_000_000\n",
    "\n",
    "X = rand(n_features, n_examples)"
   ]
  },
  {
   "cell_type": "markdown",
   "id": "084113f0",
   "metadata": {},
   "source": [
    "### Clustering the data"
   ]
  },
  {
   "cell_type": "code",
   "execution_count": 145,
   "id": "ce04aee9",
   "metadata": {},
   "outputs": [
    {
     "name": "stdout",
     "output_type": "stream",
     "text": [
      "  Iters               objv        objv-change | affected \n",
      "-------------------------------------------------------------\n",
      "      0       1.666636e+07\n",
      "      1       1.021287e+07      -6.453496e+06 |       64\n",
      "      2       1.020258e+07      -1.028611e+04 |       64\n",
      "      3       1.020012e+07      -2.462988e+03 |       64\n",
      "      4       1.019849e+07      -1.627463e+03 |       64\n",
      "      5       1.019718e+07      -1.307900e+03 |       64\n",
      "      6       1.019609e+07      -1.092722e+03 |       64\n",
      "      7       1.019516e+07      -9.354148e+02 |       64\n",
      "      8       1.019435e+07      -8.103119e+02 |       64\n",
      "      9       1.019364e+07      -7.081891e+02 |       64\n",
      "     10       1.019300e+07      -6.365086e+02 |       64\n",
      "K-means terminated without convergence after 10 iterations (objv = 1.0193001256588548e7)\n"
     ]
    },
    {
     "data": {
      "text/plain": [
       "KmeansResult{Matrix{Float64}, Float64, Int64}([0.4561031317161729 0.42376439045254366 … 0.4979044592351398 0.508545984148818; 0.42431094106545014 0.578234695349929 … 0.5879579841842958 0.445484105031861; … ; 0.46711490345306983 0.45165287654858904 … 0.4342292960629301 0.4409716976214172; 0.5771867750613722 0.5147145413797645 … 0.50549861102873 0.4332333517403715], [15, 27, 37, 46, 29, 26, 15, 44, 13, 27  …  11, 5, 14, 55, 54, 41, 51, 29, 49, 3], [10.28208337421519, 9.509580226475656, 10.4211647179215, 10.377941077667487, 9.307424611681775, 11.084190160888632, 9.82000248746263, 11.217454330406639, 10.620989622252964, 9.981830887974851  …  11.623173091960581, 10.341884763217493, 8.79297205867077, 9.255769586846768, 10.492932279435493, 12.107810280924113, 9.853676658987055, 10.043782167024844, 11.082537019940219, 8.700946507894173], [15823, 15779, 15689, 15607, 15641, 15616, 15642, 15667, 15559, 15522  …  15827, 15599, 15700, 15562, 15720, 15524, 15599, 15601, 15834, 15702], [15822, 15750, 15667, 15655, 15637, 15597, 15643, 15684, 15558, 15547  …  15857, 15609, 15712, 15472, 15718, 15537, 15555, 15557, 15860, 15655], 1.0193001256588548e7, 10, false)"
      ]
     },
     "execution_count": 145,
     "metadata": {},
     "output_type": "execute_result"
    }
   ],
   "source": [
    "n_clusters = 64\n",
    "R = kmeans(X, n_clusters ; maxiter=10, display=:iter)"
   ]
  },
  {
   "cell_type": "markdown",
   "id": "fe46fb99",
   "metadata": {},
   "source": [
    "## Assigning new datapoints to clusters"
   ]
  },
  {
   "cell_type": "code",
   "execution_count": 146,
   "id": "92a82382",
   "metadata": {},
   "outputs": [
    {
     "data": {
      "text/plain": [
       "KmeansResult{Matrix{Float64}, Float64, Int64}([0.4561031317161729 0.42376439045254366 … 0.4979044592351398 0.508545984148818; 0.42431094106545014 0.578234695349929 … 0.5879579841842958 0.445484105031861; … ; 0.46711490345306983 0.45165287654858904 … 0.4342292960629301 0.4409716976214172; 0.5771867750613722 0.5147145413797645 … 0.50549861102873 0.4332333517403715], [15, 27, 37, 46, 29, 26, 15, 44, 13, 27  …  11, 5, 14, 55, 54, 41, 51, 29, 49, 3], [10.28208337421519, 9.509580226475656, 10.4211647179215, 10.377941077667487, 9.307424611681775, 11.084190160888632, 9.82000248746263, 11.217454330406639, 10.620989622252964, 9.981830887974851  …  11.623173091960581, 10.341884763217493, 8.79297205867077, 9.255769586846768, 10.492932279435493, 12.107810280924113, 9.853676658987055, 10.043782167024844, 11.082537019940219, 8.700946507894173], [15823, 15779, 15689, 15607, 15641, 15616, 15642, 15667, 15559, 15522  …  15827, 15599, 15700, 15562, 15720, 15524, 15599, 15601, 15834, 15702], [15822, 15750, 15667, 15655, 15637, 15597, 15643, 15684, 15558, 15547  …  15857, 15609, 15712, 15472, 15718, 15537, 15555, 15557, 15860, 15655], 1.0193001256588548e7, 10, false)"
      ]
     },
     "execution_count": 146,
     "metadata": {},
     "output_type": "execute_result"
    }
   ],
   "source": [
    "R"
   ]
  },
  {
   "cell_type": "code",
   "execution_count": 147,
   "id": "3e1696d0",
   "metadata": {},
   "outputs": [
    {
     "data": {
      "text/plain": [
       "128×64 Matrix{Float64}:\n",
       " 0.456103  0.423764  0.449762  0.38174   …  0.476864  0.497904  0.508546\n",
       " 0.424311  0.578235  0.446719  0.478292     0.432809  0.587958  0.445484\n",
       " 0.565457  0.539561  0.497676  0.541988     0.480004  0.634896  0.508071\n",
       " 0.564613  0.61762   0.569367  0.521538     0.407201  0.595938  0.509028\n",
       " 0.425188  0.432617  0.437707  0.577014     0.466168  0.549891  0.501333\n",
       " 0.506802  0.574974  0.538054  0.522421  …  0.456883  0.54635   0.523251\n",
       " 0.452436  0.542135  0.546854  0.42106      0.409229  0.500721  0.421212\n",
       " 0.484986  0.542776  0.373007  0.568994     0.489929  0.518499  0.57865\n",
       " 0.553688  0.557496  0.511975  0.513719     0.397335  0.416845  0.586546\n",
       " 0.515957  0.59576   0.454413  0.535195     0.510252  0.442814  0.575013\n",
       " 0.602426  0.398626  0.493401  0.528377  …  0.550399  0.373422  0.421263\n",
       " 0.395248  0.381727  0.587977  0.558271     0.48218   0.537858  0.516114\n",
       " 0.502404  0.447041  0.526142  0.570498     0.51636   0.570667  0.581532\n",
       " ⋮                                       ⋱                      \n",
       " 0.409451  0.538125  0.537908  0.531709     0.514889  0.428031  0.562609\n",
       " 0.578334  0.537184  0.466376  0.468055     0.451292  0.53846   0.439688\n",
       " 0.528867  0.483386  0.413576  0.434466     0.571605  0.476909  0.453523\n",
       " 0.418204  0.493401  0.508735  0.416702     0.431741  0.472693  0.602677\n",
       " 0.560569  0.480947  0.475299  0.551703  …  0.582101  0.592641  0.484903\n",
       " 0.512639  0.435852  0.572841  0.477331     0.532429  0.591212  0.596423\n",
       " 0.415479  0.594029  0.468026  0.594198     0.455819  0.375893  0.478876\n",
       " 0.593818  0.469215  0.39735   0.465888     0.424677  0.465513  0.542992\n",
       " 0.470229  0.452133  0.575163  0.398999     0.546518  0.525553  0.459102\n",
       " 0.586752  0.494099  0.471673  0.563737  …  0.568596  0.510635  0.595107\n",
       " 0.467115  0.451653  0.437418  0.471998     0.561468  0.434229  0.440972\n",
       " 0.577187  0.514715  0.452582  0.468192     0.427674  0.505499  0.433233"
      ]
     },
     "execution_count": 147,
     "metadata": {},
     "output_type": "execute_result"
    }
   ],
   "source": [
    "R.centers"
   ]
  },
  {
   "cell_type": "code",
   "execution_count": 148,
   "id": "482be843",
   "metadata": {},
   "outputs": [
    {
     "data": {
      "text/plain": [
       "euclidean_mat (generic function with 1 method)"
      ]
     },
     "execution_count": 148,
     "metadata": {},
     "output_type": "execute_result"
    }
   ],
   "source": [
    "\n",
    "function euclidean_mat(y, X, j) where T\n",
    "    res = zero(eltype(y))\n",
    "    @inbounds @fastmath  for k in eachindex(y)\n",
    "        partial = X[k, j] - y[k]\n",
    "        res += partial * partial\n",
    "    end\n",
    "    return res\n",
    "end"
   ]
  },
  {
   "cell_type": "code",
   "execution_count": 149,
   "id": "48f788ed",
   "metadata": {},
   "outputs": [
    {
     "data": {
      "text/plain": [
       "transform"
      ]
     },
     "execution_count": 149,
     "metadata": {},
     "output_type": "execute_result"
    }
   ],
   "source": [
    "\"\"\"\n",
    "For each observation in X (column) provide its cluster membership\n",
    "\"\"\"\n",
    "function transform(X, R::KmeansResult)\n",
    "    n_features, n_examples = size(X)\n",
    "    cluster_assignments = Array{Int32, 1}(undef, n_examples)\n",
    "    for n in 1:n_examples\n",
    "        min_dist = typemax(eltype(X))\n",
    "        cluster_assignment = Int32(0)\n",
    "        for (j,c) in enumerate(eachcol(R.centers))\n",
    "            dist = euclidean_mat(c, X, n)\n",
    "            if dist < min_dist\n",
    "                min_dist = dist\n",
    "                cluster_assignment = j\n",
    "            end\n",
    "        end\n",
    "        cluster_assignments[n] = cluster_assignment\n",
    "    end\n",
    "    return cluster_assignments\n",
    "end"
   ]
  },
  {
   "cell_type": "code",
   "execution_count": 150,
   "id": "332e3b42",
   "metadata": {},
   "outputs": [
    {
     "name": "stdout",
     "output_type": "stream",
     "text": [
      "  5.240624 seconds (192.01 M allocations: 4.774 GiB, 5.90% gc time, 0.31% compilation time)\n"
     ]
    },
    {
     "data": {
      "text/plain": [
       "1000000-element Vector{Int32}:\n",
       " 15\n",
       " 27\n",
       " 37\n",
       " 46\n",
       " 29\n",
       " 26\n",
       " 15\n",
       " 44\n",
       " 13\n",
       " 27\n",
       "  2\n",
       " 22\n",
       " 51\n",
       "  ⋮\n",
       " 46\n",
       " 17\n",
       " 11\n",
       "  5\n",
       " 14\n",
       " 55\n",
       " 54\n",
       " 41\n",
       " 51\n",
       " 29\n",
       " 49\n",
       "  3"
      ]
     },
     "execution_count": 150,
     "metadata": {},
     "output_type": "execute_result"
    }
   ],
   "source": [
    "@time transform(X,R)"
   ]
  },
  {
   "cell_type": "code",
   "execution_count": 151,
   "id": "978403ba",
   "metadata": {},
   "outputs": [
    {
     "data": {
      "text/plain": [
       "euclidean_mat2 (generic function with 1 method)"
      ]
     },
     "execution_count": 151,
     "metadata": {},
     "output_type": "execute_result"
    }
   ],
   "source": [
    "function euclidean_mat2(Y, j, X, n) where T\n",
    "    res = zero(eltype(Y))\n",
    "    n_features = size(Y,2)\n",
    "    @inbounds @fastmath  for k in 1:n_features\n",
    "        partial = X[k, n] - Y[j,k]\n",
    "        res += partial * partial\n",
    "    end\n",
    "    return res\n",
    "end"
   ]
  },
  {
   "cell_type": "code",
   "execution_count": 152,
   "id": "247ff4e8",
   "metadata": {},
   "outputs": [
    {
     "data": {
      "text/plain": [
       "transform2"
      ]
     },
     "execution_count": 152,
     "metadata": {},
     "output_type": "execute_result"
    }
   ],
   "source": [
    "\"\"\"\n",
    "For each observation in X (column) provide its cluster membership\n",
    "\"\"\"\n",
    "function transform2(X, R::KmeansResult)\n",
    "    n_features, n_examples = size(X)\n",
    "    n_centers = length(R.centers)\n",
    "    C = R.centers\n",
    "    cluster_assignments = Array{Int32, 1}(undef, n_examples)\n",
    "    for n in 1:n_examples\n",
    "        min_dist = typemax(eltype(X))\n",
    "        cluster_assignment = Int32(0)\n",
    "        for j in 1:n_centers\n",
    "            dist = euclidean_mat2(C,j, X, n)\n",
    "            if dist < min_dist\n",
    "                min_dist = dist\n",
    "                cluster_assignment = j\n",
    "            end\n",
    "        end\n",
    "        cluster_assignments[n] = cluster_assignment\n",
    "    end\n",
    "    return cluster_assignments\n",
    "end"
   ]
  },
  {
   "cell_type": "code",
   "execution_count": 153,
   "id": "230c538e",
   "metadata": {},
   "outputs": [
    {
     "name": "stdout",
     "output_type": "stream",
     "text": [
      "  0.832138 seconds (19.91 M allocations: 305.961 MiB, 16.62% gc time, 2.19% compilation time)\n"
     ]
    },
    {
     "data": {
      "text/plain": [
       "1000-element Vector{Int32}:\n",
       " 222\n",
       "  82\n",
       "  96\n",
       "  58\n",
       "  15\n",
       " 336\n",
       "  17\n",
       "   7\n",
       " 158\n",
       "  39\n",
       " 171\n",
       "  39\n",
       " 512\n",
       "   ⋮\n",
       " 244\n",
       "  27\n",
       " 110\n",
       "  62\n",
       "  79\n",
       " 592\n",
       "  65\n",
       "  89\n",
       "  88\n",
       "   6\n",
       "  80\n",
       " 154"
      ]
     },
     "execution_count": 153,
     "metadata": {},
     "output_type": "execute_result"
    }
   ],
   "source": [
    "@time transform2(X[:,1:1000],R)"
   ]
  },
  {
   "cell_type": "code",
   "execution_count": 120,
   "id": "52d16f60",
   "metadata": {},
   "outputs": [
    {
     "data": {
      "text/plain": [
       "80"
      ]
     },
     "execution_count": 120,
     "metadata": {},
     "output_type": "execute_result"
    }
   ],
   "source": [
    "@allocated R.centers"
   ]
  },
  {
   "cell_type": "code",
   "execution_count": null,
   "id": "a24997c2",
   "metadata": {},
   "outputs": [],
   "source": []
  }
 ],
 "metadata": {
  "kernelspec": {
   "display_name": "Julia 1.8.0",
   "language": "julia",
   "name": "julia-1.8"
  },
  "language_info": {
   "file_extension": ".jl",
   "mimetype": "application/julia",
   "name": "julia",
   "version": "1.8.0"
  }
 },
 "nbformat": 4,
 "nbformat_minor": 5
}
