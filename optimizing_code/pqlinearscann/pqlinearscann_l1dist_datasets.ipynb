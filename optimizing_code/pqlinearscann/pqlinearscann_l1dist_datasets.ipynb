{
 "cells": [
  {
   "cell_type": "markdown",
   "id": "7c2e3113",
   "metadata": {},
   "source": [
    "# Replacing ADC table by L1 distance between PQ codes"
   ]
  },
  {
   "cell_type": "code",
   "execution_count": 1,
   "id": "88c8c554",
   "metadata": {
    "ExecuteTime": {
     "end_time": "2022-09-06T08:20:46.130000+02:00",
     "start_time": "2022-09-06T06:20:26.999Z"
    }
   },
   "outputs": [],
   "source": [
    "using HDF5\n",
    "using BenchmarkTools\n",
    "using Distances\n",
    "using LoopVectorization\n",
    "using SIMD\n",
    "using Clustering\n",
    "using ProgressMeter\n",
    "using StaticArrays\n",
    "using DataFrames\n",
    "using Plots\n",
    "using NPZ"
   ]
  },
  {
   "cell_type": "code",
   "execution_count": 2,
   "id": "5c8425bb",
   "metadata": {
    "ExecuteTime": {
     "end_time": "2022-09-06T08:20:47.980000+02:00",
     "start_time": "2022-09-06T06:20:27.187Z"
    }
   },
   "outputs": [
    {
     "data": {
      "text/plain": [
       "\"Intel(R) Core(TM) i7-10750H CPU @ 2.60GHz\""
      ]
     },
     "metadata": {},
     "output_type": "display_data"
    }
   ],
   "source": [
    "profile_flag = false\n",
    "Sys.cpu_info()[1].model"
   ]
  },
  {
   "cell_type": "markdown",
   "id": "91faa0a5",
   "metadata": {},
   "source": [
    "## SIFT1M dataset"
   ]
  },
  {
   "cell_type": "code",
   "execution_count": 3,
   "id": "cece13ba",
   "metadata": {
    "ExecuteTime": {
     "end_time": "2022-09-06T08:20:47.982000+02:00",
     "start_time": "2022-09-06T06:20:36.270Z"
    }
   },
   "outputs": [
    {
     "data": {
      "text/plain": [
       "\"/home/adegaray/TFM/ann-benchmarks/sift-128-euclidean.hdf5\""
      ]
     },
     "metadata": {},
     "output_type": "display_data"
    }
   ],
   "source": [
    "path = joinpath(homedir(), \"TFM\", \"ann-benchmarks\",  \"sift-128-euclidean.hdf5\")\n",
    "#path = joinpath(homedir(), \"Datasets\", \"SIFT1M\", \"sift-128-euclidean.hdf5\")"
   ]
  },
  {
   "cell_type": "code",
   "execution_count": 4,
   "id": "c1e88b49",
   "metadata": {
    "ExecuteTime": {
     "end_time": "2022-09-06T08:21:16.234000+02:00",
     "start_time": "2022-09-06T06:21:15.818Z"
    },
    "scrolled": false
   },
   "outputs": [
    {
     "name": "stdout",
     "output_type": "stream",
     "text": [
      "size(X_tr_vecs) = (128, 1000000)\n",
      "size(X_te_vecs) = (128, 10000)\n",
      "size(true_neighbors) = (100, 10000)\n",
      "size(true_distances) = (100, 10000)\n"
     ]
    },
    {
     "data": {
      "text/plain": [
       "(128, 1000000)"
      ]
     },
     "metadata": {},
     "output_type": "display_data"
    }
   ],
   "source": [
    "f = h5open(path, \"r\")\n",
    "\n",
    "X_tr_vecs = read(f[\"train\"])\n",
    "X_te_vecs = read(f[\"test\"]);\n",
    "true_neighbors = read(f[\"neighbors\"])\n",
    "true_distances = read(f[\"distances\"])\n",
    "\n",
    "true_neighbors .= true_neighbors .+ 1;\n",
    "\n",
    "@show size(X_tr_vecs)\n",
    "@show size(X_te_vecs)\n",
    "@show size(true_neighbors)\n",
    "@show size(true_distances)\n",
    "\n",
    "n_features, n_examples = size(X_tr_vecs)"
   ]
  },
  {
   "cell_type": "markdown",
   "id": "4199401f",
   "metadata": {},
   "source": [
    "### Compute Recall PQLinearScann "
   ]
  },
  {
   "cell_type": "code",
   "execution_count": 3,
   "id": "184e4e00",
   "metadata": {
    "ExecuteTime": {
     "end_time": "2022-09-06T08:21:16.642000+02:00",
     "start_time": "2022-09-06T06:21:16.403Z"
    }
   },
   "outputs": [
    {
     "data": {
      "text/plain": [
       "recall (generic function with 1 method)"
      ]
     },
     "metadata": {},
     "output_type": "display_data"
    }
   ],
   "source": [
    "function recall(predicted, relevant, eval_at)\n",
    "    \"\"\"\n",
    "    fraction of the relevant documents that are successfully retrieved\n",
    "    \"\"\"\n",
    "    if eval_at == 0\n",
    "        return 0.0\n",
    "    end\n",
    "    \n",
    "    predicted_at_k = predicted[1:eval_at]\n",
    "    n_predicted_and_relevant =  length(intersect( Set(predicted_at_k), Set(relevant))) \n",
    "    return n_predicted_and_relevant/ length(relevant)\n",
    "end"
   ]
  },
  {
   "cell_type": "markdown",
   "id": "95bd0d20",
   "metadata": {},
   "source": [
    "###  PQLinearscann Sharing prototypes across features\n",
    "\n",
    "https://groups.google.com/g/julia-users/c/xBcQRebyi_o\n",
    "\n"
   ]
  },
  {
   "cell_type": "code",
   "execution_count": 4,
   "id": "2323ab73",
   "metadata": {
    "ExecuteTime": {
     "end_time": "2022-09-06T08:21:17.387000+02:00",
     "start_time": "2022-09-06T06:21:17.268Z"
    },
    "scrolled": true
   },
   "outputs": [
    {
     "data": {
      "text/plain": [
       "encode_shared (generic function with 1 method)"
      ]
     },
     "metadata": {},
     "output_type": "display_data"
    }
   ],
   "source": [
    "\n",
    "function encode_shared(dist, vector::Array{T}, shared_prototypes::Array{T}) where T\n",
    "    n_clusters = length(shared_prototypes)\n",
    "    n_features = size(vector)[1]\n",
    "    closest_prototypes = Array{Int32}(undef, n_features, 1);\n",
    "    \n",
    "    @inbounds for (j,x) in enumerate(vector)\n",
    "        best_coordinate = 1\n",
    "        min_distance::T = typemax(T)\n",
    "        for k in 1:n_clusters\n",
    "           current_dist = dist(shared_prototypes[k], x)\n",
    "           if current_dist < min_distance\n",
    "               best_coordinate = k\n",
    "               min_distance = current_dist\n",
    "           end\n",
    "           #println(k, ' ', j, ' ', best_coordinate, ' ',min_distance )\n",
    "        end            \n",
    "        closest_prototypes[j] = best_coordinate\n",
    "    end\n",
    "    return closest_prototypes\n",
    "end"
   ]
  },
  {
   "cell_type": "markdown",
   "id": "601891ce",
   "metadata": {},
   "source": [
    "We load the K=32 centroids resulting of performing 1d-kmeans over the first feature of the train dataset. Notice that these centroids are sorted, resulting in a sorted codification. We will take advantage of shared quantization."
   ]
  },
  {
   "cell_type": "code",
   "execution_count": 7,
   "id": "3b04c522",
   "metadata": {
    "ExecuteTime": {
     "end_time": "2022-09-06T08:21:21.093000+02:00",
     "start_time": "2022-09-06T06:21:18.393Z"
    }
   },
   "outputs": [
    {
     "data": {
      "text/plain": [
       "32-element Vector{Float32}:\n",
       "   0.22927776\n",
       "   2.4602568\n",
       "   4.935903\n",
       "   7.958296\n",
       "  10.961814\n",
       "  13.964964\n",
       "  16.974878\n",
       "  19.983488\n",
       "  23.455843\n",
       "  27.45342\n",
       "   ⋮\n",
       "  94.42536\n",
       " 100.457985\n",
       " 106.51546\n",
       " 112.64925\n",
       " 118.534\n",
       " 124.41393\n",
       " 130.70255\n",
       " 138.0879\n",
       " 148.98564"
      ]
     },
     "metadata": {},
     "output_type": "display_data"
    }
   ],
   "source": [
    "P_shared = vec(Float32.(npzread(\"1dkmeans_prototypes/1dkmeans_shared_prototypes_SIFT1M.npy\")))"
   ]
  },
  {
   "cell_type": "code",
   "execution_count": 8,
   "id": "9b2c5db9",
   "metadata": {
    "ExecuteTime": {
     "end_time": "2022-09-06T08:21:29.047000+02:00",
     "start_time": "2022-09-06T06:21:19.257Z"
    }
   },
   "outputs": [],
   "source": [
    "PQcodes_shared = Array{Int8}(undef, n_features, n_examples);\n",
    "\n",
    "for j in 1:n_examples\n",
    "    PQcodes_shared[:,j] = encode_shared(euclidean, X_tr_vecs[:,j], P_shared)  \n",
    "end"
   ]
  },
  {
   "cell_type": "markdown",
   "id": "00cf0bf9",
   "metadata": {},
   "source": [
    "### Inspect idea of computing distances without adc table: directly from pqcodes\n"
   ]
  },
  {
   "cell_type": "code",
   "execution_count": 95,
   "id": "db6e2798",
   "metadata": {
    "ExecuteTime": {
     "end_time": "2022-09-06T08:24:34.538000+02:00",
     "start_time": "2022-09-06T06:24:34.530Z"
    },
    "scrolled": true
   },
   "outputs": [
    {
     "data": {
      "text/plain": [
       "linear_scann_exact (generic function with 1 method)"
      ]
     },
     "metadata": {},
     "output_type": "display_data"
    }
   ],
   "source": [
    "function abs_dist(y::Array{T}, X::Array{T}, j) where T\n",
    "    # Here I use a bigger Int type than 8 due to avoid\n",
    "    # res beeing overflowed\n",
    "    res = Int16(0)\n",
    "    @inbounds @fastmath  for k in eachindex(y)\n",
    "        res += abs(X[k, j] - y[k])\n",
    "    end\n",
    "    return res\n",
    "end\n",
    "\n",
    "function linear_scann_exact(dist, query, X)\n",
    "\n",
    "    n_features, n_examples = size(X)\n",
    "    distances = Array{Float32}(undef, n_examples)\n",
    "    \n",
    "    @inbounds for j in 1:n_examples\n",
    "        distances[j] = dist(query, X, j)    \n",
    "    end\n",
    "    return distances\n",
    "end"
   ]
  },
  {
   "cell_type": "code",
   "execution_count": 10,
   "id": "ac5ab0a6",
   "metadata": {
    "ExecuteTime": {
     "end_time": "2022-09-06T08:25:58.619000+02:00",
     "start_time": "2022-09-06T06:25:58.404Z"
    },
    "scrolled": true
   },
   "outputs": [
    {
     "name": "stdout",
     "output_type": "stream",
     "text": [
      "recall(top_k_pq, query_true_neighbors, top_k) = 0.58\n"
     ]
    }
   ],
   "source": [
    "query_id = 1\n",
    "query = X_te_vecs[:,query_id];\n",
    "query_true_neighbors = true_neighbors[:,query_id]\n",
    "top_k = 100\n",
    "\n",
    "query_code = encode_shared(euclidean, query, P_shared)\n",
    "query_code = Int8.(vec(query_code))\n",
    "\n",
    "PQcodes_int8 = Int8.(PQcodes_shared);\n",
    "\n",
    "pq_distances = linear_scann_exact(abs_dist, query_code, PQcodes_int8)\n",
    "top_k_pq = sortperm(pq_distances)[1:top_k];\n",
    "\n",
    "@show recall(top_k_pq, query_true_neighbors, top_k);"
   ]
  },
  {
   "cell_type": "code",
   "execution_count": 11,
   "id": "ca2cd40f",
   "metadata": {
    "ExecuteTime": {
     "start_time": "2022-09-06T06:26:10.548Z"
    }
   },
   "outputs": [
    {
     "data": {
      "text/plain": [
       "BenchmarkTools.Trial: 368 samples with 1 evaluation.\n",
       " Range \u001b[90m(\u001b[39m\u001b[36m\u001b[1mmin\u001b[22m\u001b[39m … \u001b[35mmax\u001b[39m\u001b[90m):  \u001b[39m\u001b[36m\u001b[1m11.142 ms\u001b[22m\u001b[39m … \u001b[35m65.473 ms\u001b[39m  \u001b[90m┊\u001b[39m GC \u001b[90m(\u001b[39mmin … max\u001b[90m): \u001b[39m0.00% … 0.00%\n",
       " Time  \u001b[90m(\u001b[39m\u001b[34m\u001b[1mmedian\u001b[22m\u001b[39m\u001b[90m):     \u001b[39m\u001b[34m\u001b[1m12.716 ms              \u001b[22m\u001b[39m\u001b[90m┊\u001b[39m GC \u001b[90m(\u001b[39mmedian\u001b[90m):    \u001b[39m0.00%\n",
       " Time  \u001b[90m(\u001b[39m\u001b[32m\u001b[1mmean\u001b[22m\u001b[39m ± \u001b[32mσ\u001b[39m\u001b[90m):   \u001b[39m\u001b[32m\u001b[1m13.581 ms\u001b[22m\u001b[39m ± \u001b[32m 3.922 ms\u001b[39m  \u001b[90m┊\u001b[39m GC \u001b[90m(\u001b[39mmean ± σ\u001b[90m):  \u001b[39m0.13% ± 1.17%\n",
       "\n",
       "  \u001b[39m▃\u001b[39m▅\u001b[39m▇\u001b[39m█\u001b[39m▆\u001b[34m▆\u001b[39m\u001b[39m▆\u001b[39m▃\u001b[32m▃\u001b[39m\u001b[39m▃\u001b[39m▁\u001b[39m \u001b[39m \u001b[39m \u001b[39m \u001b[39m \u001b[39m \u001b[39m \u001b[39m \u001b[39m \u001b[39m \u001b[39m \u001b[39m \u001b[39m \u001b[39m \u001b[39m \u001b[39m \u001b[39m \u001b[39m \u001b[39m \u001b[39m \u001b[39m \u001b[39m \u001b[39m \u001b[39m \u001b[39m \u001b[39m \u001b[39m \u001b[39m \u001b[39m \u001b[39m \u001b[39m \u001b[39m \u001b[39m \u001b[39m \u001b[39m \u001b[39m \u001b[39m \u001b[39m \u001b[39m \u001b[39m \u001b[39m \u001b[39m \u001b[39m \u001b[39m \u001b[39m \u001b[39m \u001b[39m \u001b[39m \u001b[39m \u001b[39m \n",
       "  \u001b[39m█\u001b[39m█\u001b[39m█\u001b[39m█\u001b[39m█\u001b[34m█\u001b[39m\u001b[39m█\u001b[39m█\u001b[32m█\u001b[39m\u001b[39m█\u001b[39m█\u001b[39m▇\u001b[39m▇\u001b[39m▇\u001b[39m▆\u001b[39m█\u001b[39m▇\u001b[39m▇\u001b[39m▆\u001b[39m▇\u001b[39m▆\u001b[39m▇\u001b[39m▁\u001b[39m▁\u001b[39m▁\u001b[39m▁\u001b[39m▁\u001b[39m▄\u001b[39m▄\u001b[39m▁\u001b[39m▁\u001b[39m▁\u001b[39m▁\u001b[39m▁\u001b[39m▁\u001b[39m▁\u001b[39m▄\u001b[39m▁\u001b[39m▁\u001b[39m▄\u001b[39m▁\u001b[39m▁\u001b[39m▁\u001b[39m▁\u001b[39m▁\u001b[39m▁\u001b[39m▁\u001b[39m▁\u001b[39m▁\u001b[39m▄\u001b[39m▁\u001b[39m▁\u001b[39m▄\u001b[39m▄\u001b[39m▁\u001b[39m▁\u001b[39m▁\u001b[39m▁\u001b[39m▄\u001b[39m \u001b[39m▇\n",
       "  11.1 ms\u001b[90m      \u001b[39m\u001b[90mHistogram: \u001b[39m\u001b[90m\u001b[1mlog(\u001b[22m\u001b[39m\u001b[90mfrequency\u001b[39m\u001b[90m\u001b[1m)\u001b[22m\u001b[39m\u001b[90m by time\u001b[39m      30.1 ms \u001b[0m\u001b[1m<\u001b[22m\n",
       "\n",
       " Memory estimate\u001b[90m: \u001b[39m\u001b[33m3.81 MiB\u001b[39m, allocs estimate\u001b[90m: \u001b[39m\u001b[33m2\u001b[39m."
      ]
     },
     "metadata": {},
     "output_type": "display_data"
    }
   ],
   "source": [
    "@benchmark linear_scann_exact($abs_dist, $query_code, $PQcodes_int8)"
   ]
  },
  {
   "cell_type": "markdown",
   "id": "aca8898e",
   "metadata": {},
   "source": [
    "### Top_k_expansion + finetunning\n",
    "\n",
    "An interesting idea would be to compute a candidate space of nearest neighbours and \"finetunit\" on using exact distances.\n",
    "\n",
    "Here he have an `extra_factor` that can be used to tune the top_k expansion (the higher the better quality at the expense of time)."
   ]
  },
  {
   "cell_type": "code",
   "execution_count": 62,
   "id": "dc45ada3",
   "metadata": {},
   "outputs": [
    {
     "data": {
      "text/plain": [
       "linear_scann_exact_pq (generic function with 1 method)"
      ]
     },
     "metadata": {},
     "output_type": "display_data"
    }
   ],
   "source": [
    "function linear_scann_exact_pq(dist, query, X, top_k, extra_factor)\n",
    "\n",
    "    n_features, n_examples = size(X)\n",
    "    distances = Array{Float32}(undef, n_examples)\n",
    "    \n",
    "    @inbounds for j in 1:n_examples\n",
    "        distances[j] = dist(query, X, j)    \n",
    "    end\n",
    "\n",
    "    top_result_pos = sortperm(distances)[1:top_k*extra_factor];\n",
    "    \n",
    "    return top_result_pos\n",
    "end"
   ]
  },
  {
   "cell_type": "code",
   "execution_count": 64,
   "id": "0f8f2a76",
   "metadata": {},
   "outputs": [
    {
     "data": {
      "text/plain": [
       "linear_scann_exact (generic function with 1 method)"
      ]
     },
     "metadata": {},
     "output_type": "display_data"
    }
   ],
   "source": [
    "function euclidean_mat2(y, X, j) where T\n",
    "    # Here I use a bigger Int type than 8 due to avoid\n",
    "    # res beeing overflowed\n",
    "    res = zero(eltype(y))\n",
    "    @inbounds @fastmath  for k in eachindex(y)\n",
    "        partial = X[k, j] - y[k]\n",
    "        res += partial * partial\n",
    "    end\n",
    "    return res\n",
    "end\n",
    "\n",
    "function linear_scann_exact(dist, query, X)\n",
    "\n",
    "    n_features, n_examples = size(X)\n",
    "    distances = Array{Float32}(undef, n_examples)\n",
    "    \n",
    "    @inbounds for j in 1:n_examples\n",
    "        distances[j] = dist(query, X, j)    \n",
    "    end\n",
    "    return distances\n",
    "end"
   ]
  },
  {
   "cell_type": "markdown",
   "id": "8b0037e6",
   "metadata": {},
   "source": [
    "We could compute exact distances within a subset of examples"
   ]
  },
  {
   "cell_type": "code",
   "execution_count": 14,
   "id": "bc0ec1ea",
   "metadata": {},
   "outputs": [
    {
     "name": "stdout",
     "output_type": "stream",
     "text": [
      "recall(best_ids[permutation_expanded], query_true_neighbors, top_k) = 0.99\n"
     ]
    }
   ],
   "source": [
    "\n",
    "query_id = 5\n",
    "query = X_te_vecs[:,query_id];\n",
    "query_true_neighbors = true_neighbors[:,query_id]\n",
    "top_k = 100\n",
    "\n",
    "query_code = encode_shared(euclidean, query, P_shared)\n",
    "query_code = Int8.(vec(query_code))\n",
    "\n",
    "PQcodes_int8 = Int8.(PQcodes_shared);\n",
    "best_ids = linear_scann_exact_pq(abs_dist, query_code, PQcodes_int8, top_k, 10);\n",
    "\n",
    "\n",
    "#linear_scann_exact(euclidean_mat, query, view(X_tr_vecs,:,best_ids))\n",
    "distances_candidates_expanded = linear_scann_exact(euclidean_mat2, query, X_tr_vecs[:,best_ids]);\n",
    "permutation_expanded = sortperm(distances_candidates_expanded)[1:top_k];\n",
    "@show recall(best_ids[permutation_expanded], query_true_neighbors, top_k);"
   ]
  },
  {
   "cell_type": "code",
   "execution_count": 15,
   "id": "ed086595",
   "metadata": {},
   "outputs": [
    {
     "data": {
      "text/plain": [
       "0.982"
      ]
     },
     "metadata": {},
     "output_type": "display_data"
    }
   ],
   "source": [
    "function compute_mean_recall_extra(X, PQcodes_shared, true_neighbors, P_shared, extra_factor, top_k::Int, dist::Function)\n",
    "\n",
    "    n_features, n_examples = size(X)\n",
    "    PQcodes_int8 = Int8.(PQcodes_shared);\n",
    "    average = 0.\n",
    "    for query_id in 1:n_examples\n",
    "        query = X[:, query_id]\n",
    "        query_code = encode_shared(euclidean, query, P_shared)\n",
    "        query_code = Int8.(vec(query_code))\n",
    "        best_ids = linear_scann_exact_pq(dist, query_code, PQcodes_int8, top_k, extra_factor);\n",
    "        distances_candidates_expanded = linear_scann_exact(euclidean_mat2, query, X_tr_vecs[:,best_ids]);\n",
    "        permutation_expanded = sortperm(distances_candidates_expanded)[1:top_k]\n",
    "        r = recall(best_ids[permutation_expanded], true_neighbors[:,query_id], top_k);\n",
    "        average += r;\n",
    "        end\n",
    "    return average / n_examples\n",
    "    end\n",
    "\n",
    "extra_factor = 10  \n",
    "avg_recall = compute_mean_recall_extra(X_te_vecs[:, 1:10], PQcodes_shared, true_neighbors, P_shared, extra_factor, top_k, abs_dist) "
   ]
  },
  {
   "cell_type": "markdown",
   "id": "cebe210e",
   "metadata": {},
   "source": [
    "Here the problem is that we assume X_tr_vecs is \"on memory\" and we want to avoid this as much as possible,\n",
    "because it can be potentially quite big. We have to investigate how to store the 'exact values from X_tr_vecs' on disk, \n",
    "using a memmap array like storage. Also study the overhead of doing this."
   ]
  },
  {
   "cell_type": "code",
   "execution_count": 16,
   "id": "89ef9cb5",
   "metadata": {
    "scrolled": true
   },
   "outputs": [
    {
     "data": {
      "text/plain": [
       "BenchmarkTools.Trial: 10000 samples with 1 evaluation.\n",
       " Range \u001b[90m(\u001b[39m\u001b[36m\u001b[1mmin\u001b[22m\u001b[39m … \u001b[35mmax\u001b[39m\u001b[90m):  \u001b[39m\u001b[36m\u001b[1m135.800 μs\u001b[22m\u001b[39m … \u001b[35m  8.055 ms\u001b[39m  \u001b[90m┊\u001b[39m GC \u001b[90m(\u001b[39mmin … max\u001b[90m): \u001b[39m0.00% … 93.42%\n",
       " Time  \u001b[90m(\u001b[39m\u001b[34m\u001b[1mmedian\u001b[22m\u001b[39m\u001b[90m):     \u001b[39m\u001b[34m\u001b[1m157.500 μs               \u001b[22m\u001b[39m\u001b[90m┊\u001b[39m GC \u001b[90m(\u001b[39mmedian\u001b[90m):    \u001b[39m0.00%\n",
       " Time  \u001b[90m(\u001b[39m\u001b[32m\u001b[1mmean\u001b[22m\u001b[39m ± \u001b[32mσ\u001b[39m\u001b[90m):   \u001b[39m\u001b[32m\u001b[1m215.101 μs\u001b[22m\u001b[39m ± \u001b[32m206.442 μs\u001b[39m  \u001b[90m┊\u001b[39m GC \u001b[90m(\u001b[39mmean ± σ\u001b[90m):  \u001b[39m2.37% ±  2.98%\n",
       "\n",
       "  \u001b[39m█\u001b[39m▇\u001b[34m▆\u001b[39m\u001b[39m▅\u001b[39m▄\u001b[39m▄\u001b[39m▃\u001b[39m▃\u001b[39m▂\u001b[32m▁\u001b[39m\u001b[39m▁\u001b[39m▄\u001b[39m▃\u001b[39m▃\u001b[39m▂\u001b[39m▂\u001b[39m▁\u001b[39m▁\u001b[39m▁\u001b[39m▁\u001b[39m▁\u001b[39m▁\u001b[39m▁\u001b[39m \u001b[39m \u001b[39m▁\u001b[39m \u001b[39m \u001b[39m \u001b[39m \u001b[39m \u001b[39m \u001b[39m \u001b[39m \u001b[39m \u001b[39m \u001b[39m \u001b[39m \u001b[39m \u001b[39m \u001b[39m \u001b[39m \u001b[39m \u001b[39m \u001b[39m \u001b[39m \u001b[39m \u001b[39m \u001b[39m \u001b[39m \u001b[39m \u001b[39m \u001b[39m \u001b[39m \u001b[39m \u001b[39m \u001b[39m \u001b[39m \u001b[39m \u001b[39m \u001b[39m \u001b[39m \u001b[39m▂\n",
       "  \u001b[39m█\u001b[39m█\u001b[34m█\u001b[39m\u001b[39m█\u001b[39m█\u001b[39m█\u001b[39m█\u001b[39m█\u001b[39m█\u001b[32m█\u001b[39m\u001b[39m█\u001b[39m█\u001b[39m█\u001b[39m█\u001b[39m█\u001b[39m█\u001b[39m█\u001b[39m█\u001b[39m█\u001b[39m█\u001b[39m█\u001b[39m█\u001b[39m█\u001b[39m█\u001b[39m█\u001b[39m█\u001b[39m█\u001b[39m█\u001b[39m█\u001b[39m█\u001b[39m█\u001b[39m█\u001b[39m█\u001b[39m█\u001b[39m▇\u001b[39m█\u001b[39m▆\u001b[39m▇\u001b[39m▇\u001b[39m▇\u001b[39m▇\u001b[39m▇\u001b[39m▆\u001b[39m▆\u001b[39m▇\u001b[39m▆\u001b[39m▆\u001b[39m▆\u001b[39m▅\u001b[39m▅\u001b[39m▅\u001b[39m▆\u001b[39m▆\u001b[39m▆\u001b[39m▆\u001b[39m▆\u001b[39m▅\u001b[39m▅\u001b[39m▅\u001b[39m▅\u001b[39m▄\u001b[39m \u001b[39m█\n",
       "  136 μs\u001b[90m        \u001b[39m\u001b[90mHistogram: \u001b[39m\u001b[90m\u001b[1mlog(\u001b[22m\u001b[39m\u001b[90mfrequency\u001b[39m\u001b[90m\u001b[1m)\u001b[22m\u001b[39m\u001b[90m by time\u001b[39m        703 μs \u001b[0m\u001b[1m<\u001b[22m\n",
       "\n",
       " Memory estimate\u001b[90m: \u001b[39m\u001b[33m527.39 KiB\u001b[39m, allocs estimate\u001b[90m: \u001b[39m\u001b[33m1493\u001b[39m."
      ]
     },
     "metadata": {},
     "output_type": "display_data"
    }
   ],
   "source": [
    "@benchmark distances_candidates_expanded = linear_scann_exact(euclidean_mat2, query, X_tr_vecs[:,best_ids])"
   ]
  },
  {
   "cell_type": "markdown",
   "id": "2202480f",
   "metadata": {},
   "source": [
    "Other test with hamming\n",
    "\n"
   ]
  },
  {
   "cell_type": "code",
   "execution_count": 17,
   "id": "cc2bfbf8",
   "metadata": {},
   "outputs": [
    {
     "data": {
      "text/plain": [
       "linear_scann_exact_hamming (generic function with 1 method)"
      ]
     },
     "metadata": {},
     "output_type": "display_data"
    }
   ],
   "source": [
    "\n",
    "@inline function hamming(y::Array{T}, X::Array{T}, j) where T\n",
    "    # Here I use a bigger Int type than 8 due to avoid\n",
    "    # res beeing overflowed\n",
    "    res = UInt8(0)\n",
    "    @inbounds @simd  for k in eachindex(y)\n",
    "        res += X[k, j] != y[k]\n",
    "    end\n",
    "    return res\n",
    "end\n",
    "\n",
    "function linear_scann_exact_hamming( query, X)\n",
    "\n",
    "    n_features, n_examples = size(X)\n",
    "    distances = Array{UInt8}(undef, n_examples)\n",
    "    \n",
    "    @inbounds for j in 1:n_examples\n",
    "        distances[j] = hamming(query, X, j)    \n",
    "    end\n",
    "    return distances\n",
    "end"
   ]
  },
  {
   "cell_type": "code",
   "execution_count": 18,
   "id": "a64fb2f9",
   "metadata": {},
   "outputs": [
    {
     "name": "stdout",
     "output_type": "stream",
     "text": [
      "recall(top_k_pq, query_true_neighbors, top_k) = 0.01\n"
     ]
    }
   ],
   "source": [
    "query_id = 20\n",
    "query = X_te_vecs[:,query_id];\n",
    "query_true_neighbors = true_neighbors[:,query_id]\n",
    "top_k = 100\n",
    "\n",
    "query_code = encode_shared(euclidean, query, P_shared)\n",
    "query_code = UInt8.(vec(query_code))\n",
    "\n",
    "PQcodes_int8 = UInt8.(PQcodes_shared);\n",
    "\n",
    "pq_distances = linear_scann_exact(hamming, query_code, PQcodes_int8)\n",
    "top_k_pq = sortperm(pq_distances)[1:top_k];\n",
    "\n",
    "@show recall(top_k_pq, query_true_neighbors, top_k);"
   ]
  },
  {
   "cell_type": "code",
   "execution_count": 19,
   "id": "d913a7a8",
   "metadata": {},
   "outputs": [
    {
     "data": {
      "text/plain": [
       "BenchmarkTools.Trial: 410 samples with 1 evaluation.\n",
       " Range \u001b[90m(\u001b[39m\u001b[36m\u001b[1mmin\u001b[22m\u001b[39m … \u001b[35mmax\u001b[39m\u001b[90m):  \u001b[39m\u001b[36m\u001b[1m 9.740 ms\u001b[22m\u001b[39m … \u001b[35m40.730 ms\u001b[39m  \u001b[90m┊\u001b[39m GC \u001b[90m(\u001b[39mmin … max\u001b[90m): \u001b[39m0.00% … 0.00%\n",
       " Time  \u001b[90m(\u001b[39m\u001b[34m\u001b[1mmedian\u001b[22m\u001b[39m\u001b[90m):     \u001b[39m\u001b[34m\u001b[1m10.965 ms              \u001b[22m\u001b[39m\u001b[90m┊\u001b[39m GC \u001b[90m(\u001b[39mmedian\u001b[90m):    \u001b[39m0.00%\n",
       " Time  \u001b[90m(\u001b[39m\u001b[32m\u001b[1mmean\u001b[22m\u001b[39m ± \u001b[32mσ\u001b[39m\u001b[90m):   \u001b[39m\u001b[32m\u001b[1m12.177 ms\u001b[22m\u001b[39m ± \u001b[32m 3.851 ms\u001b[39m  \u001b[90m┊\u001b[39m GC \u001b[90m(\u001b[39mmean ± σ\u001b[90m):  \u001b[39m0.00% ± 0.00%\n",
       "\n",
       "  \u001b[39m▅\u001b[39m█\u001b[39m▇\u001b[39m█\u001b[34m▆\u001b[39m\u001b[39m▅\u001b[39m▃\u001b[39m▃\u001b[32m▃\u001b[39m\u001b[39m▂\u001b[39m▂\u001b[39m▃\u001b[39m▁\u001b[39m \u001b[39m \u001b[39m \u001b[39m \u001b[39m \u001b[39m \u001b[39m \u001b[39m \u001b[39m \u001b[39m \u001b[39m \u001b[39m \u001b[39m \u001b[39m \u001b[39m \u001b[39m \u001b[39m \u001b[39m \u001b[39m \u001b[39m \u001b[39m \u001b[39m \u001b[39m \u001b[39m \u001b[39m \u001b[39m \u001b[39m \u001b[39m \u001b[39m \u001b[39m \u001b[39m \u001b[39m \u001b[39m \u001b[39m \u001b[39m \u001b[39m \u001b[39m \u001b[39m \u001b[39m \u001b[39m \u001b[39m \u001b[39m \u001b[39m \u001b[39m \u001b[39m \u001b[39m \u001b[39m \u001b[39m \n",
       "  \u001b[39m█\u001b[39m█\u001b[39m█\u001b[39m█\u001b[34m█\u001b[39m\u001b[39m█\u001b[39m█\u001b[39m█\u001b[32m█\u001b[39m\u001b[39m█\u001b[39m█\u001b[39m█\u001b[39m█\u001b[39m▇\u001b[39m▇\u001b[39m▇\u001b[39m▇\u001b[39m▄\u001b[39m▄\u001b[39m▄\u001b[39m▁\u001b[39m▁\u001b[39m▁\u001b[39m▄\u001b[39m▁\u001b[39m▄\u001b[39m▁\u001b[39m▁\u001b[39m▁\u001b[39m▄\u001b[39m▄\u001b[39m▁\u001b[39m▄\u001b[39m▁\u001b[39m▁\u001b[39m▄\u001b[39m▁\u001b[39m▄\u001b[39m▁\u001b[39m▁\u001b[39m▄\u001b[39m▄\u001b[39m▄\u001b[39m▁\u001b[39m▁\u001b[39m▁\u001b[39m▄\u001b[39m▁\u001b[39m▁\u001b[39m▇\u001b[39m▁\u001b[39m▆\u001b[39m▄\u001b[39m▁\u001b[39m▁\u001b[39m▄\u001b[39m▄\u001b[39m▁\u001b[39m▆\u001b[39m \u001b[39m▇\n",
       "  9.74 ms\u001b[90m      \u001b[39m\u001b[90mHistogram: \u001b[39m\u001b[90m\u001b[1mlog(\u001b[22m\u001b[39m\u001b[90mfrequency\u001b[39m\u001b[90m\u001b[1m)\u001b[22m\u001b[39m\u001b[90m by time\u001b[39m      28.5 ms \u001b[0m\u001b[1m<\u001b[22m\n",
       "\n",
       " Memory estimate\u001b[90m: \u001b[39m\u001b[33m976.67 KiB\u001b[39m, allocs estimate\u001b[90m: \u001b[39m\u001b[33m2\u001b[39m."
      ]
     },
     "metadata": {},
     "output_type": "display_data"
    }
   ],
   "source": [
    "@benchmark linear_scann_exact_hamming($query_code, $PQcodes_int8)"
   ]
  },
  {
   "cell_type": "markdown",
   "id": "cbe3697a",
   "metadata": {},
   "source": [
    "### Benchmark times exact vs linearscann"
   ]
  },
  {
   "cell_type": "markdown",
   "id": "b42cebf0",
   "metadata": {},
   "source": [
    "#### Type UInt8"
   ]
  },
  {
   "cell_type": "code",
   "execution_count": 20,
   "id": "99582d79",
   "metadata": {
    "ExecuteTime": {
     "end_time": "2022-09-05T22:07:32.209000+02:00",
     "start_time": "2022-09-05T20:07:32.054Z"
    }
   },
   "outputs": [],
   "source": [
    "query_id = 1\n",
    "query = X_te_vecs[:,query_id];\n",
    "query_true_neighbors = true_neighbors[:,query_id]\n",
    "top_k = 100\n",
    "\n",
    "query_code = encode_shared(euclidean, query, P_shared)\n",
    "query_code = UInt8.(vec(query_code))\n",
    "\n",
    "PQcodes = UInt8.(PQcodes_shared);"
   ]
  },
  {
   "cell_type": "code",
   "execution_count": 21,
   "id": "20278e07",
   "metadata": {
    "ExecuteTime": {
     "end_time": "2022-09-05T22:07:45.795000+02:00",
     "start_time": "2022-09-05T20:07:33.261Z"
    }
   },
   "outputs": [
    {
     "data": {
      "text/plain": [
       "BenchmarkTools.Trial: 120 samples with 1 evaluation.\n",
       " Range \u001b[90m(\u001b[39m\u001b[36m\u001b[1mmin\u001b[22m\u001b[39m … \u001b[35mmax\u001b[39m\u001b[90m):  \u001b[39m\u001b[36m\u001b[1m37.413 ms\u001b[22m\u001b[39m … \u001b[35m55.200 ms\u001b[39m  \u001b[90m┊\u001b[39m GC \u001b[90m(\u001b[39mmin … max\u001b[90m): \u001b[39m0.00% … 0.00%\n",
       " Time  \u001b[90m(\u001b[39m\u001b[34m\u001b[1mmedian\u001b[22m\u001b[39m\u001b[90m):     \u001b[39m\u001b[34m\u001b[1m41.318 ms              \u001b[22m\u001b[39m\u001b[90m┊\u001b[39m GC \u001b[90m(\u001b[39mmedian\u001b[90m):    \u001b[39m0.00%\n",
       " Time  \u001b[90m(\u001b[39m\u001b[32m\u001b[1mmean\u001b[22m\u001b[39m ± \u001b[32mσ\u001b[39m\u001b[90m):   \u001b[39m\u001b[32m\u001b[1m41.876 ms\u001b[22m\u001b[39m ± \u001b[32m 3.198 ms\u001b[39m  \u001b[90m┊\u001b[39m GC \u001b[90m(\u001b[39mmean ± σ\u001b[90m):  \u001b[39m0.00% ± 0.00%\n",
       "\n",
       "  \u001b[39m \u001b[39m▂\u001b[39m \u001b[39m \u001b[39m▂\u001b[39m \u001b[39m▅\u001b[39m \u001b[39m \u001b[39m▅\u001b[39m \u001b[39m \u001b[39m \u001b[39m \u001b[39m█\u001b[34m▅\u001b[39m\u001b[39m \u001b[32m \u001b[39m\u001b[39m \u001b[39m \u001b[39m \u001b[39m \u001b[39m▂\u001b[39m \u001b[39m \u001b[39m \u001b[39m \u001b[39m \u001b[39m \u001b[39m \u001b[39m \u001b[39m \u001b[39m \u001b[39m \u001b[39m \u001b[39m \u001b[39m \u001b[39m \u001b[39m \u001b[39m \u001b[39m \u001b[39m \u001b[39m \u001b[39m \u001b[39m \u001b[39m \u001b[39m \u001b[39m \u001b[39m \u001b[39m \u001b[39m \u001b[39m \u001b[39m \u001b[39m \u001b[39m \u001b[39m \u001b[39m \u001b[39m \u001b[39m \u001b[39m \u001b[39m \n",
       "  \u001b[39m▇\u001b[39m█\u001b[39m█\u001b[39m▄\u001b[39m█\u001b[39m█\u001b[39m█\u001b[39m█\u001b[39m▇\u001b[39m█\u001b[39m▄\u001b[39m█\u001b[39m▇\u001b[39m▇\u001b[39m█\u001b[34m█\u001b[39m\u001b[39m▅\u001b[32m█\u001b[39m\u001b[39m▇\u001b[39m▄\u001b[39m▅\u001b[39m▇\u001b[39m█\u001b[39m▁\u001b[39m▇\u001b[39m▄\u001b[39m▅\u001b[39m▅\u001b[39m▇\u001b[39m▅\u001b[39m▅\u001b[39m▇\u001b[39m▄\u001b[39m▅\u001b[39m▁\u001b[39m▄\u001b[39m▇\u001b[39m▄\u001b[39m▄\u001b[39m▁\u001b[39m▁\u001b[39m▁\u001b[39m▄\u001b[39m▁\u001b[39m▁\u001b[39m▁\u001b[39m▁\u001b[39m▁\u001b[39m▁\u001b[39m▁\u001b[39m▁\u001b[39m▁\u001b[39m▁\u001b[39m▁\u001b[39m▁\u001b[39m▁\u001b[39m▁\u001b[39m▁\u001b[39m▄\u001b[39m \u001b[39m▄\n",
       "  37.4 ms\u001b[90m         Histogram: frequency by time\u001b[39m        53.2 ms \u001b[0m\u001b[1m<\u001b[22m\n",
       "\n",
       " Memory estimate\u001b[90m: \u001b[39m\u001b[33m3.81 MiB\u001b[39m, allocs estimate\u001b[90m: \u001b[39m\u001b[33m2\u001b[39m."
      ]
     },
     "metadata": {},
     "output_type": "display_data"
    }
   ],
   "source": [
    "@inline function Euclidean0(x, query)\n",
    "    res = zero(eltype(x))\n",
    "    @inbounds @fastmath  for j in eachindex(x)\n",
    "        aux = (query[j] - x[j])\n",
    "        res += aux * aux\n",
    "    end\n",
    "    return sqrt(res)\n",
    "end\n",
    "\n",
    "function linear_scann_exact(dist, query, X)\n",
    "\n",
    "    n_features, n_examples = size(X)\n",
    "    distances = Array{Float32}(undef, n_examples)\n",
    "    \n",
    "    @inbounds for j in 1:n_examples\n",
    "        distances[j] = dist(query, view(X,:,j))    \n",
    "    end\n",
    "    return distances\n",
    "end\n",
    "\n",
    "@benchmark linear_scann_exact($Euclidean0, $query, $X_tr_vecs)\n"
   ]
  },
  {
   "cell_type": "code",
   "execution_count": 22,
   "id": "550363d3",
   "metadata": {
    "ExecuteTime": {
     "end_time": "2022-09-05T22:07:57.900000+02:00",
     "start_time": "2022-09-05T20:07:34.917Z"
    }
   },
   "outputs": [
    {
     "data": {
      "text/plain": [
       "BenchmarkTools.Trial: 341 samples with 1 evaluation.\n",
       " Range \u001b[90m(\u001b[39m\u001b[36m\u001b[1mmin\u001b[22m\u001b[39m … \u001b[35mmax\u001b[39m\u001b[90m):  \u001b[39m\u001b[36m\u001b[1m10.975 ms\u001b[22m\u001b[39m … \u001b[35m67.363 ms\u001b[39m  \u001b[90m┊\u001b[39m GC \u001b[90m(\u001b[39mmin … max\u001b[90m): \u001b[39m0.00% … 0.00%\n",
       " Time  \u001b[90m(\u001b[39m\u001b[34m\u001b[1mmedian\u001b[22m\u001b[39m\u001b[90m):     \u001b[39m\u001b[34m\u001b[1m13.037 ms              \u001b[22m\u001b[39m\u001b[90m┊\u001b[39m GC \u001b[90m(\u001b[39mmedian\u001b[90m):    \u001b[39m0.00%\n",
       " Time  \u001b[90m(\u001b[39m\u001b[32m\u001b[1mmean\u001b[22m\u001b[39m ± \u001b[32mσ\u001b[39m\u001b[90m):   \u001b[39m\u001b[32m\u001b[1m14.643 ms\u001b[22m\u001b[39m ± \u001b[32m 5.554 ms\u001b[39m  \u001b[90m┊\u001b[39m GC \u001b[90m(\u001b[39mmean ± σ\u001b[90m):  \u001b[39m0.07% ± 0.72%\n",
       "\n",
       "  \u001b[39m \u001b[39m▂\u001b[39m▃\u001b[39m█\u001b[34m▅\u001b[39m\u001b[39m \u001b[39m \u001b[39m \u001b[32m \u001b[39m\u001b[39m \u001b[39m \u001b[39m \u001b[39m \u001b[39m \u001b[39m \u001b[39m \u001b[39m \u001b[39m \u001b[39m \u001b[39m \u001b[39m \u001b[39m \u001b[39m \u001b[39m \u001b[39m \u001b[39m \u001b[39m \u001b[39m \u001b[39m \u001b[39m \u001b[39m \u001b[39m \u001b[39m \u001b[39m \u001b[39m \u001b[39m \u001b[39m \u001b[39m \u001b[39m \u001b[39m \u001b[39m \u001b[39m \u001b[39m \u001b[39m \u001b[39m \u001b[39m \u001b[39m \u001b[39m \u001b[39m \u001b[39m \u001b[39m \u001b[39m \u001b[39m \u001b[39m \u001b[39m \u001b[39m \u001b[39m \u001b[39m \u001b[39m \u001b[39m \u001b[39m \n",
       "  \u001b[39m▅\u001b[39m█\u001b[39m█\u001b[39m█\u001b[34m█\u001b[39m\u001b[39m█\u001b[39m▆\u001b[39m▅\u001b[32m▄\u001b[39m\u001b[39m▄\u001b[39m▃\u001b[39m▃\u001b[39m▄\u001b[39m▄\u001b[39m▃\u001b[39m▄\u001b[39m▃\u001b[39m▂\u001b[39m▃\u001b[39m▂\u001b[39m▃\u001b[39m▂\u001b[39m▁\u001b[39m▂\u001b[39m▁\u001b[39m▁\u001b[39m▂\u001b[39m▁\u001b[39m▂\u001b[39m▁\u001b[39m▁\u001b[39m▁\u001b[39m▂\u001b[39m▂\u001b[39m▁\u001b[39m▁\u001b[39m▁\u001b[39m▁\u001b[39m▁\u001b[39m▁\u001b[39m▂\u001b[39m▁\u001b[39m▁\u001b[39m▁\u001b[39m▁\u001b[39m▁\u001b[39m▂\u001b[39m▁\u001b[39m▂\u001b[39m▁\u001b[39m▁\u001b[39m▁\u001b[39m▁\u001b[39m▁\u001b[39m▁\u001b[39m▁\u001b[39m▁\u001b[39m▂\u001b[39m▂\u001b[39m \u001b[39m▃\n",
       "  11 ms\u001b[90m           Histogram: frequency by time\u001b[39m        39.2 ms \u001b[0m\u001b[1m<\u001b[22m\n",
       "\n",
       " Memory estimate\u001b[90m: \u001b[39m\u001b[33m3.81 MiB\u001b[39m, allocs estimate\u001b[90m: \u001b[39m\u001b[33m2\u001b[39m."
      ]
     },
     "metadata": {},
     "output_type": "display_data"
    }
   ],
   "source": [
    "function abs_dist(y::Array{T}, X::Array{T}, j) where T\n",
    "    # Here I use a bigger Int type than 8 due to avoid\n",
    "    # res beeing overflowed\n",
    "    res = Int16(0)\n",
    "    @inbounds @fastmath  for k in eachindex(y)\n",
    "        res += abs(X[k, j] - y[k])\n",
    "    end\n",
    "    return res\n",
    "end\n",
    "\n",
    "function linear_scann_exact(dist, query, X)\n",
    "\n",
    "    n_features, n_examples = size(X)\n",
    "    distances = Array{Float32}(undef, n_examples)\n",
    "    \n",
    "    @inbounds for j in 1:n_examples\n",
    "        distances[j] = dist(query, X, j)    \n",
    "    end\n",
    "    return distances\n",
    "end\n",
    "\n",
    "@benchmark linear_scann_exact($abs_dist, $query_code, $PQcodes_int8)"
   ]
  },
  {
   "cell_type": "markdown",
   "id": "0a555119",
   "metadata": {},
   "source": [
    "## GIST dataset"
   ]
  },
  {
   "cell_type": "code",
   "execution_count": 23,
   "id": "08821abd",
   "metadata": {},
   "outputs": [
    {
     "data": {
      "text/plain": [
       "\"/home/adegaray/TFM/ann-benchmarks/gist-960-euclidean.hdf5\""
      ]
     },
     "metadata": {},
     "output_type": "display_data"
    }
   ],
   "source": [
    "path = joinpath(homedir(), \"TFM\", \"ann-benchmarks\", \"gist-960-euclidean.hdf5\")\n",
    "#path = joinpath(homedir(), \"Datasets\", \"GIST\", \"gist-960-euclidean.hdf5\")"
   ]
  },
  {
   "cell_type": "code",
   "execution_count": 24,
   "id": "d45a6674",
   "metadata": {},
   "outputs": [
    {
     "name": "stdout",
     "output_type": "stream",
     "text": [
      "size(X_tr_vecs) = (960, 1000000)\n",
      "size(X_te_vecs) = (960, 1000)\n",
      "size(true_neighbors) = (100, 1000)\n",
      "size(true_distances) = (100, 1000)\n"
     ]
    },
    {
     "data": {
      "text/plain": [
       "(960, 1000000)"
      ]
     },
     "metadata": {},
     "output_type": "display_data"
    }
   ],
   "source": [
    "f = h5open(path, \"r\")\n",
    "\n",
    "X_tr_vecs = read(f[\"train\"])\n",
    "X_te_vecs = read(f[\"test\"]);\n",
    "true_neighbors = read(f[\"neighbors\"])\n",
    "true_distances = read(f[\"distances\"])\n",
    "\n",
    "true_neighbors .= true_neighbors .+ 1;\n",
    "\n",
    "@show size(X_tr_vecs)\n",
    "@show size(X_te_vecs)\n",
    "@show size(true_neighbors)\n",
    "@show size(true_distances)\n",
    "\n",
    "n_features, n_examples = size(X_tr_vecs)"
   ]
  },
  {
   "cell_type": "code",
   "execution_count": 25,
   "id": "3947cc34",
   "metadata": {},
   "outputs": [
    {
     "data": {
      "text/plain": [
       "32-element Vector{Float32}:\n",
       " 0.008980796\n",
       " 0.01590017\n",
       " 0.022200761\n",
       " 0.028304834\n",
       " 0.03437995\n",
       " 0.040527266\n",
       " 0.046768155\n",
       " 0.053139895\n",
       " 0.05975771\n",
       " 0.06654963\n",
       " ⋮\n",
       " 0.21748106\n",
       " 0.23899144\n",
       " 0.2642882\n",
       " 0.2944512\n",
       " 0.33110675\n",
       " 0.38038924\n",
       " 0.4493068\n",
       " 0.5439606\n",
       " 0.7076147"
      ]
     },
     "metadata": {},
     "output_type": "display_data"
    }
   ],
   "source": [
    "P_shared = vec(Float32.(npzread(\"1dkmeans_prototypes/1dkmeans_shared_prototypes_GIST.npy\")))"
   ]
  },
  {
   "cell_type": "code",
   "execution_count": 26,
   "id": "ddfc0f21",
   "metadata": {},
   "outputs": [],
   "source": [
    "PQcodes_shared = Array{Int8}(undef, n_features, n_examples);\n",
    "\n",
    "for j in 1:n_examples\n",
    "    PQcodes_shared[:,j] = encode_shared(euclidean, X_tr_vecs[:,j], P_shared)  \n",
    "end"
   ]
  },
  {
   "cell_type": "code",
   "execution_count": 27,
   "id": "29cb8f80",
   "metadata": {},
   "outputs": [
    {
     "name": "stdout",
     "output_type": "stream",
     "text": [
      "recall(top_k_pq, query_true_neighbors, top_k) = 0.64\n"
     ]
    }
   ],
   "source": [
    "query_id = 1\n",
    "query = X_te_vecs[:,query_id];\n",
    "query_true_neighbors = true_neighbors[:,query_id]\n",
    "top_k = 100\n",
    "\n",
    "query_code = encode_shared(euclidean, query, P_shared)\n",
    "query_code = Int8.(vec(query_code))\n",
    "\n",
    "PQcodes_int8 = Int8.(PQcodes_shared);\n",
    "\n",
    "pq_distances = linear_scann_exact(abs_dist, query_code, PQcodes_int8)\n",
    "top_k_pq = sortperm(pq_distances)[1:top_k];\n",
    "\n",
    "@show recall(top_k_pq, query_true_neighbors, top_k);"
   ]
  },
  {
   "cell_type": "markdown",
   "id": "30f75af2",
   "metadata": {},
   "source": [
    "### Top_k_expansion + finetunning"
   ]
  },
  {
   "cell_type": "code",
   "execution_count": 28,
   "id": "c7ad5a57",
   "metadata": {},
   "outputs": [
    {
     "name": "stdout",
     "output_type": "stream",
     "text": [
      "recall(best_ids[permutation_expanded], query_true_neighbors, top_k) = 0.87\n"
     ]
    }
   ],
   "source": [
    "query_id = 5\n",
    "query = X_te_vecs[:,query_id];\n",
    "query_true_neighbors = true_neighbors[:,query_id]\n",
    "top_k = 100\n",
    "\n",
    "query_code = encode_shared(euclidean, query, P_shared)\n",
    "query_code = Int8.(vec(query_code))\n",
    "\n",
    "PQcodes_int8 = Int8.(PQcodes_shared);\n",
    "best_ids = linear_scann_exact_pq(abs_dist, query_code, PQcodes_int8, top_k, 10);\n",
    "\n",
    "#linear_scann_exact(euclidean_mat, query, view(X_tr_vecs,:,best_ids))\n",
    "distances_candidates_expanded = linear_scann_exact(euclidean_mat2, query, X_tr_vecs[:,best_ids]);\n",
    "permutation_expanded = sortperm(distances_candidates_expanded)[1:top_k];\n",
    "@show recall(best_ids[permutation_expanded], query_true_neighbors, top_k);"
   ]
  },
  {
   "cell_type": "code",
   "execution_count": 29,
   "id": "a12d02a5",
   "metadata": {},
   "outputs": [
    {
     "data": {
      "text/plain": [
       "0.959"
      ]
     },
     "metadata": {},
     "output_type": "display_data"
    }
   ],
   "source": [
    "function compute_mean_recall_extra(X, PQcodes_shared, true_neighbors, P_shared, extra_factor, top_k::Int, dist::Function)\n",
    "\n",
    "    n_features, n_examples = size(X)\n",
    "    PQcodes_int8 = Int8.(PQcodes_shared);\n",
    "    average = 0.\n",
    "    for query_id in 1:n_examples\n",
    "        query = X[:, query_id]\n",
    "        query_code = encode_shared(euclidean, query, P_shared)\n",
    "        query_code = Int8.(vec(query_code))\n",
    "        best_ids = linear_scann_exact_pq(dist, query_code, PQcodes_int8, top_k, extra_factor);\n",
    "        distances_candidates_expanded = linear_scann_exact(euclidean_mat2, query, X_tr_vecs[:,best_ids]);\n",
    "        permutation_expanded = sortperm(distances_candidates_expanded)[1:top_k]\n",
    "        r = recall(best_ids[permutation_expanded], true_neighbors[:,query_id], top_k);\n",
    "        average += r;\n",
    "        end\n",
    "    return average / n_examples\n",
    "    end\n",
    "\n",
    "extra_factor = 10  \n",
    "avg_recall = compute_mean_recall_extra(X_te_vecs[:, 1:10], PQcodes_shared, true_neighbors, P_shared, extra_factor, top_k, abs_dist) "
   ]
  },
  {
   "cell_type": "markdown",
   "id": "73058aee",
   "metadata": {},
   "source": [
    "### Benchmark times exact vs linearscann"
   ]
  },
  {
   "cell_type": "code",
   "execution_count": 30,
   "id": "e5155dac",
   "metadata": {},
   "outputs": [
    {
     "data": {
      "text/plain": [
       "BenchmarkTools.Trial: 15 samples with 1 evaluation.\n",
       " Range \u001b[90m(\u001b[39m\u001b[36m\u001b[1mmin\u001b[22m\u001b[39m … \u001b[35mmax\u001b[39m\u001b[90m):  \u001b[39m\u001b[36m\u001b[1m297.356 ms\u001b[22m\u001b[39m … \u001b[35m581.097 ms\u001b[39m  \u001b[90m┊\u001b[39m GC \u001b[90m(\u001b[39mmin … max\u001b[90m): \u001b[39m0.00% … 0.00%\n",
       " Time  \u001b[90m(\u001b[39m\u001b[34m\u001b[1mmedian\u001b[22m\u001b[39m\u001b[90m):     \u001b[39m\u001b[34m\u001b[1m311.755 ms               \u001b[22m\u001b[39m\u001b[90m┊\u001b[39m GC \u001b[90m(\u001b[39mmedian\u001b[90m):    \u001b[39m0.00%\n",
       " Time  \u001b[90m(\u001b[39m\u001b[32m\u001b[1mmean\u001b[22m\u001b[39m ± \u001b[32mσ\u001b[39m\u001b[90m):   \u001b[39m\u001b[32m\u001b[1m345.507 ms\u001b[22m\u001b[39m ± \u001b[32m 78.207 ms\u001b[39m  \u001b[90m┊\u001b[39m GC \u001b[90m(\u001b[39mmean ± σ\u001b[90m):  \u001b[39m0.00% ± 0.00%\n",
       "\n",
       "  \u001b[39m▄\u001b[39m \u001b[39m█\u001b[34m▁\u001b[39m\u001b[39m \u001b[39m \u001b[39m \u001b[39m \u001b[39m \u001b[39m \u001b[32m \u001b[39m\u001b[39m \u001b[39m \u001b[39m \u001b[39m \u001b[39m \u001b[39m \u001b[39m \u001b[39m \u001b[39m \u001b[39m \u001b[39m \u001b[39m \u001b[39m \u001b[39m \u001b[39m \u001b[39m \u001b[39m \u001b[39m \u001b[39m \u001b[39m \u001b[39m \u001b[39m \u001b[39m \u001b[39m \u001b[39m \u001b[39m \u001b[39m \u001b[39m \u001b[39m \u001b[39m \u001b[39m \u001b[39m \u001b[39m \u001b[39m \u001b[39m \u001b[39m \u001b[39m \u001b[39m \u001b[39m \u001b[39m \u001b[39m \u001b[39m \u001b[39m \u001b[39m \u001b[39m \u001b[39m \u001b[39m \u001b[39m \u001b[39m \u001b[39m \u001b[39m \u001b[39m \n",
       "  \u001b[39m█\u001b[39m▁\u001b[39m█\u001b[34m█\u001b[39m\u001b[39m▆\u001b[39m▁\u001b[39m▆\u001b[39m▁\u001b[39m▆\u001b[39m▁\u001b[32m▁\u001b[39m\u001b[39m▁\u001b[39m▁\u001b[39m▁\u001b[39m▁\u001b[39m▁\u001b[39m▁\u001b[39m▁\u001b[39m▁\u001b[39m▁\u001b[39m▁\u001b[39m▁\u001b[39m▁\u001b[39m▁\u001b[39m▁\u001b[39m▁\u001b[39m▆\u001b[39m▁\u001b[39m▁\u001b[39m▁\u001b[39m▆\u001b[39m▁\u001b[39m▁\u001b[39m▁\u001b[39m▁\u001b[39m▁\u001b[39m▁\u001b[39m▁\u001b[39m▁\u001b[39m▁\u001b[39m▁\u001b[39m▁\u001b[39m▁\u001b[39m▁\u001b[39m▁\u001b[39m▁\u001b[39m▁\u001b[39m▁\u001b[39m▁\u001b[39m▁\u001b[39m▁\u001b[39m▁\u001b[39m▁\u001b[39m▁\u001b[39m▁\u001b[39m▁\u001b[39m▁\u001b[39m▁\u001b[39m▁\u001b[39m▁\u001b[39m▆\u001b[39m \u001b[39m▁\n",
       "  297 ms\u001b[90m           Histogram: frequency by time\u001b[39m          581 ms \u001b[0m\u001b[1m<\u001b[22m\n",
       "\n",
       " Memory estimate\u001b[90m: \u001b[39m\u001b[33m3.81 MiB\u001b[39m, allocs estimate\u001b[90m: \u001b[39m\u001b[33m2\u001b[39m."
      ]
     },
     "metadata": {},
     "output_type": "display_data"
    }
   ],
   "source": [
    "@inline function Euclidean0(x, query)\n",
    "    res = zero(eltype(x))\n",
    "    @inbounds @fastmath  for j in eachindex(x)\n",
    "        aux = (query[j] - x[j])\n",
    "        res += aux * aux\n",
    "    end\n",
    "    return sqrt(res)\n",
    "end\n",
    "\n",
    "function linear_scann_exact(dist, query, X)\n",
    "\n",
    "    n_features, n_examples = size(X)\n",
    "    distances = Array{Float32}(undef, n_examples)\n",
    "    \n",
    "    @inbounds for j in 1:n_examples\n",
    "        distances[j] = dist(query, view(X,:,j))    \n",
    "    end\n",
    "    return distances\n",
    "end\n",
    "\n",
    "@benchmark linear_scann_exact($Euclidean0, $query, $X_tr_vecs)"
   ]
  },
  {
   "cell_type": "code",
   "execution_count": 33,
   "id": "0dfcdc5c",
   "metadata": {},
   "outputs": [
    {
     "data": {
      "text/plain": [
       "linear_scann_exact (generic function with 1 method)"
      ]
     },
     "metadata": {},
     "output_type": "display_data"
    }
   ],
   "source": [
    "function abs_dist(y::Array{T}, X::Array{T}, j) where T\n",
    "    # Here I use a bigger Int type than 8 due to avoid\n",
    "    # res beeing overflowed\n",
    "    res = Int16(0)\n",
    "    @inbounds @fastmath  for k in eachindex(y)\n",
    "        res += abs(X[k, j] - y[k])\n",
    "    end\n",
    "    return res\n",
    "end\n",
    "\n",
    "function linear_scann_exact(dist, query, X)\n",
    "\n",
    "    n_features, n_examples = size(X)\n",
    "    distances = Array{Float32}(undef, n_examples)\n",
    "    \n",
    "    @inbounds for j in 1:n_examples\n",
    "        distances[j] = dist(query, X, j)    \n",
    "    end\n",
    "    return distances\n",
    "end\n",
    "\n",
    "@benchmark linear_scann_exact($abs_dist, $query_code, $PQcodes_int8)"
   ]
  },
  {
   "cell_type": "markdown",
   "id": "722378ef",
   "metadata": {},
   "source": [
    "## DEEP1B"
   ]
  },
  {
   "cell_type": "code",
   "execution_count": 7,
   "id": "1bedd680",
   "metadata": {},
   "outputs": [
    {
     "data": {
      "text/plain": [
       "\"/home/adegaray/TFM/ann-benchmarks/deep-image-96-angular.hdf5\""
      ]
     },
     "metadata": {},
     "output_type": "display_data"
    }
   ],
   "source": [
    "path = joinpath(homedir(), \"TFM\", \"ann-benchmarks\", \"deep-image-96-angular.hdf5\")\n",
    "#path = joinpath(homedir(), \"Datasets\", \"DEEP1B\", \"deep-image-96-angular.hdf5\")"
   ]
  },
  {
   "cell_type": "code",
   "execution_count": 8,
   "id": "f034ae44",
   "metadata": {},
   "outputs": [
    {
     "name": "stdout",
     "output_type": "stream",
     "text": [
      "size(X_tr_vecs) = (96, 9990000)\n",
      "size(X_te_vecs) = (96, 10000)\n",
      "size(true_neighbors) = (100, 10000)\n",
      "size(true_distances) = (100, 10000)\n"
     ]
    },
    {
     "data": {
      "text/plain": [
       "(100, 10000)"
      ]
     },
     "metadata": {},
     "output_type": "display_data"
    }
   ],
   "source": [
    "f = h5open(path, \"r\")\n",
    "\n",
    "X_tr_vecs = read(f[\"train\"])\n",
    "X_te_vecs = read(f[\"test\"]);\n",
    "true_neighbors = read(f[\"neighbors\"])\n",
    "true_distances = read(f[\"distances\"])\n",
    "\n",
    "true_neighbors .= true_neighbors .+ 1;\n",
    "\n",
    "@show size(X_tr_vecs)\n",
    "@show size(X_te_vecs)\n",
    "@show size(true_neighbors)\n",
    "@show size(true_distances)"
   ]
  },
  {
   "cell_type": "code",
   "execution_count": 9,
   "id": "d32de6d6",
   "metadata": {},
   "outputs": [
    {
     "data": {
      "text/plain": [
       "(96, 9990000)"
      ]
     },
     "metadata": {},
     "output_type": "display_data"
    }
   ],
   "source": [
    "n_features, n_examples = size(X_tr_vecs)"
   ]
  },
  {
   "cell_type": "code",
   "execution_count": 10,
   "id": "fc7ac763",
   "metadata": {},
   "outputs": [
    {
     "data": {
      "text/plain": [
       "32-element Vector{Float32}:\n",
       " -0.27250472\n",
       " -0.2139312\n",
       " -0.17616773\n",
       " -0.14658304\n",
       " -0.12195256\n",
       " -0.100370415\n",
       " -0.08112478\n",
       " -0.0633399\n",
       " -0.04658539\n",
       " -0.030714953\n",
       "  ⋮\n",
       "  0.16274813\n",
       "  0.17819086\n",
       "  0.19457616\n",
       "  0.21223503\n",
       "  0.23164739\n",
       "  0.25349933\n",
       "  0.2793261\n",
       "  0.31243566\n",
       "  0.36135882"
      ]
     },
     "metadata": {},
     "output_type": "display_data"
    }
   ],
   "source": [
    "P_shared = vec(Float32.(npzread(\"1dkmeans_prototypes/1dkmeans_shared_prototypes_DEEP1B.npy\")))"
   ]
  },
  {
   "cell_type": "code",
   "execution_count": 11,
   "id": "b1c721ca",
   "metadata": {},
   "outputs": [],
   "source": [
    "PQcodes_shared = Array{Int8}(undef, n_features, n_examples);\n",
    "\n",
    "for j in 1:n_examples\n",
    "    PQcodes_shared[:,j] = encode_shared(euclidean, X_tr_vecs[:,j], P_shared)  \n",
    "end"
   ]
  },
  {
   "cell_type": "code",
   "execution_count": 12,
   "id": "e657a205",
   "metadata": {},
   "outputs": [
    {
     "data": {
      "text/plain": [
       "(96, 9990000)"
      ]
     },
     "metadata": {},
     "output_type": "display_data"
    }
   ],
   "source": [
    "size(PQcodes_shared)"
   ]
  },
  {
   "cell_type": "code",
   "execution_count": 13,
   "id": "ff8f49e6",
   "metadata": {},
   "outputs": [
    {
     "name": "stdout",
     "output_type": "stream",
     "text": [
      "recall(top_k_pq, query_true_neighbors, top_k) = 0.64\n"
     ]
    }
   ],
   "source": [
    "query_id = 1\n",
    "query = X_te_vecs[:,query_id];\n",
    "query_true_neighbors = true_neighbors[:,query_id]\n",
    "top_k = 100\n",
    "\n",
    "query_code = encode_shared(euclidean, query, P_shared)\n",
    "query_code = Int8.(vec(query_code))\n",
    "\n",
    "PQcodes_int8 = Int8.(PQcodes_shared);\n",
    "\n",
    "pq_distances = linear_scann_exact(abs_dist, query_code, PQcodes_int8)\n",
    "top_k_pq = sortperm(pq_distances)[1:top_k];\n",
    "\n",
    "@show recall(top_k_pq, query_true_neighbors, top_k);"
   ]
  },
  {
   "cell_type": "markdown",
   "id": "b10c0fd7",
   "metadata": {},
   "source": [
    "### Top_k_expansion + finetunning"
   ]
  },
  {
   "cell_type": "code",
   "execution_count": 14,
   "id": "bde6f65c",
   "metadata": {},
   "outputs": [
    {
     "name": "stdout",
     "output_type": "stream",
     "text": [
      "recall(best_ids[permutation_expanded], query_true_neighbors, top_k) = 1.0\n"
     ]
    }
   ],
   "source": [
    "query_id = 5\n",
    "query = X_te_vecs[:,query_id];\n",
    "query_true_neighbors = true_neighbors[:,query_id]\n",
    "top_k = 100\n",
    "\n",
    "query_code = encode_shared(euclidean, query, P_shared)\n",
    "query_code = Int8.(vec(query_code))\n",
    "\n",
    "PQcodes_int8 = Int8.(PQcodes_shared);\n",
    "best_ids = linear_scann_exact_pq(abs_dist, query_code, PQcodes_int8, top_k, 10);\n",
    "\n",
    "#linear_scann_exact(euclidean_mat, query, view(X_tr_vecs,:,best_ids))\n",
    "distances_candidates_expanded = linear_scann_exact(euclidean_mat2, query, X_tr_vecs[:,best_ids]);\n",
    "permutation_expanded = sortperm(distances_candidates_expanded)[1:top_k];\n",
    "@show recall(best_ids[permutation_expanded], query_true_neighbors, top_k);"
   ]
  },
  {
   "cell_type": "code",
   "execution_count": 13,
   "id": "b4673dbc",
   "metadata": {},
   "outputs": [
    {
     "name": "stdout",
     "output_type": "stream",
     "text": [
      "Computing mean recall\n",
      "Query id:1\n",
      "Recall:"
     ]
    },
    {
     "name": "stdout",
     "output_type": "stream",
     "text": [
      "1.0\n",
      "Query id:2\n",
      "Recall:"
     ]
    },
    {
     "name": "stdout",
     "output_type": "stream",
     "text": [
      "1.0\n",
      "Query id:3\n",
      "Recall:"
     ]
    },
    {
     "name": "stdout",
     "output_type": "stream",
     "text": [
      "1.0\n",
      "Query id:4\n",
      "Recall:"
     ]
    },
    {
     "name": "stdout",
     "output_type": "stream",
     "text": [
      "1.0\n",
      "Query id:5\n",
      "Recall:"
     ]
    },
    {
     "name": "stdout",
     "output_type": "stream",
     "text": [
      "1.0\n",
      "Query id:6\n",
      "Recall:"
     ]
    },
    {
     "name": "stdout",
     "output_type": "stream",
     "text": [
      "1.0\n",
      "Query id:7\n",
      "Recall:"
     ]
    },
    {
     "name": "stdout",
     "output_type": "stream",
     "text": [
      "1.0\n",
      "Query id:8\n",
      "Recall:"
     ]
    },
    {
     "name": "stdout",
     "output_type": "stream",
     "text": [
      "1.0\n",
      "Query id:9\n",
      "Recall:"
     ]
    },
    {
     "name": "stdout",
     "output_type": "stream",
     "text": [
      "1.0\n",
      "Query id:10\n",
      "Recall:"
     ]
    },
    {
     "name": "stdout",
     "output_type": "stream",
     "text": [
      "1.0\n"
     ]
    },
    {
     "data": {
      "text/plain": [
       "1.0"
      ]
     },
     "metadata": {},
     "output_type": "display_data"
    }
   ],
   "source": [
    "function compute_mean_recall_extra(X, PQcodes_shared, true_neighbors, P_shared, extra_factor, top_k::Int, dist::Function)\n",
    "\n",
    "    n_features, n_examples = size(X)\n",
    "    PQcodes_int8 = Int8.(PQcodes_shared);\n",
    "    average = 0.\n",
    "    println(\"Computing mean recall\")\n",
    "    for query_id in 1:n_examples\n",
    "        println(\"Query id:\",query_id)\n",
    "        query = X[:, query_id]\n",
    "        query_code = encode_shared(euclidean, query, P_shared)\n",
    "        query_code = Int8.(vec(query_code))\n",
    "        best_ids = linear_scann_exact_pq(dist, query_code, PQcodes_int8, top_k, extra_factor);\n",
    "        distances_candidates_expanded = linear_scann_exact(euclidean_mat2, query, X_tr_vecs[:,best_ids]);\n",
    "        permutation_expanded = sortperm(distances_candidates_expanded)[1:top_k]\n",
    "        r = recall(best_ids[permutation_expanded], true_neighbors[:,query_id], top_k);\n",
    "        println(\"Recall:\",r)\n",
    "        average += r;\n",
    "        end\n",
    "    return average / n_examples\n",
    "    end\n",
    "\n",
    "top_k = 100\n",
    "extra_factor = 10\n",
    "avg_recall = compute_mean_recall_extra(X_te_vecs[:, 1:10], PQcodes_shared, true_neighbors, P_shared, extra_factor, top_k, abs_dist) "
   ]
  },
  {
   "cell_type": "markdown",
   "id": "9fada025",
   "metadata": {},
   "source": [
    "We can reduce the extra_factor to 5 and still get perfect quality:"
   ]
  },
  {
   "cell_type": "code",
   "execution_count": 15,
   "id": "a03640fe",
   "metadata": {},
   "outputs": [
    {
     "name": "stdout",
     "output_type": "stream",
     "text": [
      "Computing mean recall\n",
      "Query id:1\n",
      "Recall:"
     ]
    },
    {
     "name": "stdout",
     "output_type": "stream",
     "text": [
      "0.99\n",
      "Query id:2\n",
      "Recall:"
     ]
    },
    {
     "name": "stdout",
     "output_type": "stream",
     "text": [
      "1.0\n",
      "Query id:3\n",
      "Recall:"
     ]
    },
    {
     "name": "stdout",
     "output_type": "stream",
     "text": [
      "1.0\n",
      "Query id:4\n",
      "Recall:"
     ]
    },
    {
     "name": "stdout",
     "output_type": "stream",
     "text": [
      "1.0\n",
      "Query id:5\n",
      "Recall:"
     ]
    },
    {
     "name": "stdout",
     "output_type": "stream",
     "text": [
      "0.99\n",
      "Query id:6\n",
      "Recall:"
     ]
    },
    {
     "name": "stdout",
     "output_type": "stream",
     "text": [
      "1.0\n",
      "Query id:7\n",
      "Recall:"
     ]
    },
    {
     "name": "stdout",
     "output_type": "stream",
     "text": [
      "1.0\n",
      "Query id:8\n",
      "Recall:"
     ]
    },
    {
     "name": "stdout",
     "output_type": "stream",
     "text": [
      "0.98\n",
      "Query id:9\n",
      "Recall:"
     ]
    },
    {
     "name": "stdout",
     "output_type": "stream",
     "text": [
      "0.99\n",
      "Query id:10\n",
      "Recall:"
     ]
    },
    {
     "name": "stdout",
     "output_type": "stream",
     "text": [
      "1.0\n"
     ]
    },
    {
     "data": {
      "text/plain": [
       "0.9950000000000001"
      ]
     },
     "metadata": {},
     "output_type": "display_data"
    }
   ],
   "source": [
    "function compute_mean_recall_extra(X, PQcodes_shared, true_neighbors, P_shared, extra_factor, top_k::Int, dist::Function)\n",
    "\n",
    "    n_features, n_examples = size(X)\n",
    "    PQcodes_int8 = Int8.(PQcodes_shared);\n",
    "    average = 0.\n",
    "    println(\"Computing mean recall\")\n",
    "    for query_id in 1:n_examples\n",
    "        println(\"Query id:\",query_id)\n",
    "        query = X[:, query_id]\n",
    "        query_code = encode_shared(euclidean, query, P_shared)\n",
    "        query_code = Int8.(vec(query_code))\n",
    "        best_ids = linear_scann_exact_pq(dist, query_code, PQcodes_int8, top_k, extra_factor);\n",
    "        distances_candidates_expanded = linear_scann_exact(euclidean_mat2, query, X_tr_vecs[:,best_ids]);\n",
    "        permutation_expanded = sortperm(distances_candidates_expanded)[1:top_k]\n",
    "        r = recall(best_ids[permutation_expanded], true_neighbors[:,query_id], top_k);\n",
    "        println(\"Recall:\",r)\n",
    "        average += r;\n",
    "        end\n",
    "    return average / n_examples\n",
    "    end\n",
    "\n",
    "top_k = 100\n",
    "extra_factor = 5\n",
    "avg_recall = compute_mean_recall_extra(X_te_vecs[:, 1:10], PQcodes_shared, true_neighbors, P_shared, extra_factor, top_k, abs_dist) "
   ]
  },
  {
   "cell_type": "markdown",
   "id": "e453e77a",
   "metadata": {},
   "source": [
    "### Benchmark times exact vs linearscann"
   ]
  },
  {
   "cell_type": "code",
   "execution_count": 15,
   "id": "d4a53adc",
   "metadata": {},
   "outputs": [
    {
     "data": {
      "text/plain": [
       "BenchmarkTools.Trial: 12 samples with 1 evaluation.\n",
       " Range \u001b[90m(\u001b[39m\u001b[36m\u001b[1mmin\u001b[22m\u001b[39m … \u001b[35mmax\u001b[39m\u001b[90m):  \u001b[39m\u001b[36m\u001b[1m348.424 ms\u001b[22m\u001b[39m … \u001b[35m680.322 ms\u001b[39m  \u001b[90m┊\u001b[39m GC \u001b[90m(\u001b[39mmin … max\u001b[90m): \u001b[39m0.00% … 0.00%\n",
       " Time  \u001b[90m(\u001b[39m\u001b[34m\u001b[1mmedian\u001b[22m\u001b[39m\u001b[90m):     \u001b[39m\u001b[34m\u001b[1m436.118 ms               \u001b[22m\u001b[39m\u001b[90m┊\u001b[39m GC \u001b[90m(\u001b[39mmedian\u001b[90m):    \u001b[39m0.00%\n",
       " Time  \u001b[90m(\u001b[39m\u001b[32m\u001b[1mmean\u001b[22m\u001b[39m ± \u001b[32mσ\u001b[39m\u001b[90m):   \u001b[39m\u001b[32m\u001b[1m456.203 ms\u001b[22m\u001b[39m ± \u001b[32m109.172 ms\u001b[39m  \u001b[90m┊\u001b[39m GC \u001b[90m(\u001b[39mmean ± σ\u001b[90m):  \u001b[39m0.00% ± 0.00%\n",
       "\n",
       "  \u001b[39m▁\u001b[39m▁\u001b[39m \u001b[39m \u001b[39m▁\u001b[39m \u001b[39m█\u001b[39m \u001b[39m \u001b[39m \u001b[39m \u001b[39m \u001b[39m \u001b[39m \u001b[34m▁\u001b[39m\u001b[39m \u001b[39m \u001b[39m \u001b[39m▁\u001b[39m \u001b[32m \u001b[39m\u001b[39m▁\u001b[39m▁\u001b[39m \u001b[39m▁\u001b[39m \u001b[39m \u001b[39m \u001b[39m \u001b[39m \u001b[39m \u001b[39m \u001b[39m \u001b[39m \u001b[39m \u001b[39m \u001b[39m \u001b[39m \u001b[39m \u001b[39m \u001b[39m \u001b[39m \u001b[39m \u001b[39m \u001b[39m \u001b[39m \u001b[39m \u001b[39m \u001b[39m \u001b[39m \u001b[39m \u001b[39m \u001b[39m \u001b[39m \u001b[39m \u001b[39m \u001b[39m▁\u001b[39m \u001b[39m \u001b[39m \u001b[39m▁\u001b[39m \u001b[39m \n",
       "  \u001b[39m█\u001b[39m█\u001b[39m▁\u001b[39m▁\u001b[39m█\u001b[39m▁\u001b[39m█\u001b[39m▁\u001b[39m▁\u001b[39m▁\u001b[39m▁\u001b[39m▁\u001b[39m▁\u001b[39m▁\u001b[34m█\u001b[39m\u001b[39m▁\u001b[39m▁\u001b[39m▁\u001b[39m█\u001b[39m▁\u001b[32m▁\u001b[39m\u001b[39m█\u001b[39m█\u001b[39m▁\u001b[39m█\u001b[39m▁\u001b[39m▁\u001b[39m▁\u001b[39m▁\u001b[39m▁\u001b[39m▁\u001b[39m▁\u001b[39m▁\u001b[39m▁\u001b[39m▁\u001b[39m▁\u001b[39m▁\u001b[39m▁\u001b[39m▁\u001b[39m▁\u001b[39m▁\u001b[39m▁\u001b[39m▁\u001b[39m▁\u001b[39m▁\u001b[39m▁\u001b[39m▁\u001b[39m▁\u001b[39m▁\u001b[39m▁\u001b[39m▁\u001b[39m▁\u001b[39m▁\u001b[39m▁\u001b[39m▁\u001b[39m▁\u001b[39m█\u001b[39m▁\u001b[39m▁\u001b[39m▁\u001b[39m█\u001b[39m \u001b[39m▁\n",
       "  348 ms\u001b[90m           Histogram: frequency by time\u001b[39m          680 ms \u001b[0m\u001b[1m<\u001b[22m\n",
       "\n",
       " Memory estimate\u001b[90m: \u001b[39m\u001b[33m38.11 MiB\u001b[39m, allocs estimate\u001b[90m: \u001b[39m\u001b[33m2\u001b[39m."
      ]
     },
     "metadata": {},
     "output_type": "display_data"
    }
   ],
   "source": [
    "@inline function Euclidean0(x, query)\n",
    "    res = zero(eltype(x))\n",
    "    @inbounds @fastmath  for j in eachindex(x)\n",
    "        aux = (query[j] - x[j])\n",
    "        res += aux * aux\n",
    "    end\n",
    "    return sqrt(res)\n",
    "end\n",
    "\n",
    "function linear_scann_exact(dist, query, X)\n",
    "\n",
    "    n_features, n_examples = size(X)\n",
    "    distances = Array{Float32}(undef, n_examples)\n",
    "    \n",
    "    @inbounds for j in 1:n_examples\n",
    "        distances[j] = dist(query, view(X,:,j))    \n",
    "    end\n",
    "    return distances\n",
    "end\n",
    "\n",
    "query_id = 5\n",
    "query = X_te_vecs[:,query_id];\n",
    "\n",
    "@benchmark linear_scann_exact($Euclidean0, $query, $X_tr_vecs)"
   ]
  },
  {
   "cell_type": "code",
   "execution_count": 17,
   "id": "dfaa0eb7",
   "metadata": {},
   "outputs": [
    {
     "data": {
      "text/plain": [
       "BenchmarkTools.Trial: 15 samples with 1 evaluation.\n",
       " Range \u001b[90m(\u001b[39m\u001b[36m\u001b[1mmin\u001b[22m\u001b[39m … \u001b[35mmax\u001b[39m\u001b[90m):  \u001b[39m\u001b[36m\u001b[1m339.066 ms\u001b[22m\u001b[39m … \u001b[35m364.929 ms\u001b[39m  \u001b[90m┊\u001b[39m GC \u001b[90m(\u001b[39mmin … max\u001b[90m): \u001b[39m0.00% … 0.00%\n",
       " Time  \u001b[90m(\u001b[39m\u001b[34m\u001b[1mmedian\u001b[22m\u001b[39m\u001b[90m):     \u001b[39m\u001b[34m\u001b[1m350.704 ms               \u001b[22m\u001b[39m\u001b[90m┊\u001b[39m GC \u001b[90m(\u001b[39mmedian\u001b[90m):    \u001b[39m0.00%\n",
       " Time  \u001b[90m(\u001b[39m\u001b[32m\u001b[1mmean\u001b[22m\u001b[39m ± \u001b[32mσ\u001b[39m\u001b[90m):   \u001b[39m\u001b[32m\u001b[1m350.688 ms\u001b[22m\u001b[39m ± \u001b[32m  7.357 ms\u001b[39m  \u001b[90m┊\u001b[39m GC \u001b[90m(\u001b[39mmean ± σ\u001b[90m):  \u001b[39m0.00% ± 0.00%\n",
       "\n",
       "  \u001b[39m█\u001b[39m \u001b[39m \u001b[39m \u001b[39m \u001b[39m█\u001b[39m \u001b[39m \u001b[39m \u001b[39m \u001b[39m \u001b[39m \u001b[39m \u001b[39m█\u001b[39m█\u001b[39m█\u001b[39m \u001b[39m█\u001b[39m \u001b[39m \u001b[39m \u001b[39m \u001b[39m \u001b[34m█\u001b[39m\u001b[39m \u001b[39m \u001b[39m \u001b[32m█\u001b[39m\u001b[39m \u001b[39m \u001b[39m \u001b[39m \u001b[39m█\u001b[39m█\u001b[39m \u001b[39m█\u001b[39m \u001b[39m█\u001b[39m█\u001b[39m \u001b[39m \u001b[39m \u001b[39m \u001b[39m \u001b[39m \u001b[39m \u001b[39m \u001b[39m \u001b[39m \u001b[39m \u001b[39m \u001b[39m \u001b[39m \u001b[39m \u001b[39m \u001b[39m \u001b[39m█\u001b[39m \u001b[39m \u001b[39m \u001b[39m█\u001b[39m \u001b[39m \n",
       "  \u001b[39m█\u001b[39m▁\u001b[39m▁\u001b[39m▁\u001b[39m▁\u001b[39m█\u001b[39m▁\u001b[39m▁\u001b[39m▁\u001b[39m▁\u001b[39m▁\u001b[39m▁\u001b[39m▁\u001b[39m█\u001b[39m█\u001b[39m█\u001b[39m▁\u001b[39m█\u001b[39m▁\u001b[39m▁\u001b[39m▁\u001b[39m▁\u001b[39m▁\u001b[34m█\u001b[39m\u001b[39m▁\u001b[39m▁\u001b[39m▁\u001b[32m█\u001b[39m\u001b[39m▁\u001b[39m▁\u001b[39m▁\u001b[39m▁\u001b[39m█\u001b[39m█\u001b[39m▁\u001b[39m█\u001b[39m▁\u001b[39m█\u001b[39m█\u001b[39m▁\u001b[39m▁\u001b[39m▁\u001b[39m▁\u001b[39m▁\u001b[39m▁\u001b[39m▁\u001b[39m▁\u001b[39m▁\u001b[39m▁\u001b[39m▁\u001b[39m▁\u001b[39m▁\u001b[39m▁\u001b[39m▁\u001b[39m▁\u001b[39m▁\u001b[39m█\u001b[39m▁\u001b[39m▁\u001b[39m▁\u001b[39m█\u001b[39m \u001b[39m▁\n",
       "  339 ms\u001b[90m           Histogram: frequency by time\u001b[39m          365 ms \u001b[0m\u001b[1m<\u001b[22m\n",
       "\n",
       " Memory estimate\u001b[90m: \u001b[39m\u001b[33m38.11 MiB\u001b[39m, allocs estimate\u001b[90m: \u001b[39m\u001b[33m2\u001b[39m."
      ]
     },
     "metadata": {},
     "output_type": "display_data"
    }
   ],
   "source": [
    "function abs_dist(y::Array{T}, X::Array{T}, j) where T\n",
    "    # Here I use a bigger Int type than 8 due to avoid\n",
    "    # res beeing overflowed\n",
    "    res = Int16(0)\n",
    "    @inbounds @fastmath  for k in eachindex(y)\n",
    "        res += abs(X[k, j] - y[k])\n",
    "    end\n",
    "    return res\n",
    "end\n",
    "\n",
    "function linear_scann_exact(dist, query, X)\n",
    "\n",
    "    n_features, n_examples = size(X)\n",
    "    distances = Array{Float32}(undef, n_examples)\n",
    "    \n",
    "    @inbounds for j in 1:n_examples\n",
    "        distances[j] = dist(query, X, j)    \n",
    "    end\n",
    "    return distances\n",
    "end\n",
    "\n",
    "query_code = encode_shared(euclidean, query, P_shared)\n",
    "query_code = Int8.(vec(query_code))\n",
    "PQcodes_int8 = Int8.(PQcodes_shared);\n",
    "\n",
    "@benchmark linear_scann_exact($abs_dist, $query_code, $PQcodes_int8)"
   ]
  },
  {
   "cell_type": "markdown",
   "id": "6917547a",
   "metadata": {},
   "source": [
    "## GloVe"
   ]
  },
  {
   "cell_type": "code",
   "execution_count": 5,
   "id": "77a51fd4",
   "metadata": {},
   "outputs": [
    {
     "data": {
      "text/plain": [
       "\"/home/adegaray/TFM/ann-benchmarks/glove-100-angular.hdf5\""
      ]
     },
     "metadata": {},
     "output_type": "display_data"
    }
   ],
   "source": [
    "path = joinpath(homedir(), \"TFM\", \"ann-benchmarks\", \"glove-100-angular.hdf5\")"
   ]
  },
  {
   "cell_type": "code",
   "execution_count": 6,
   "id": "7f288e3e",
   "metadata": {},
   "outputs": [
    {
     "name": "stdout",
     "output_type": "stream",
     "text": [
      "size(X_tr_vecs) = (100, 1183514)\n",
      "size(X_te_vecs) = (100, 10000)\n",
      "size(true_neighbors) = (100, 10000)\n",
      "size(true_distances) = (100, 10000)\n"
     ]
    },
    {
     "data": {
      "text/plain": [
       "(100, 10000)"
      ]
     },
     "metadata": {},
     "output_type": "display_data"
    }
   ],
   "source": [
    "f = h5open(path, \"r\")\n",
    "\n",
    "X_tr_vecs = read(f[\"train\"])\n",
    "X_te_vecs = read(f[\"test\"]);\n",
    "true_neighbors = read(f[\"neighbors\"])\n",
    "true_distances = read(f[\"distances\"])\n",
    "\n",
    "true_neighbors .= true_neighbors .+ 1;\n",
    "\n",
    "@show size(X_tr_vecs)\n",
    "@show size(X_te_vecs)\n",
    "@show size(true_neighbors)\n",
    "@show size(true_distances)"
   ]
  },
  {
   "cell_type": "code",
   "execution_count": 7,
   "id": "9a497682",
   "metadata": {},
   "outputs": [
    {
     "data": {
      "text/plain": [
       "(100, 1183514)"
      ]
     },
     "metadata": {},
     "output_type": "display_data"
    }
   ],
   "source": [
    "n_features, n_examples = size(X_tr_vecs)"
   ]
  },
  {
   "cell_type": "markdown",
   "id": "a6ab64a1",
   "metadata": {},
   "source": [
    "We use a shared quantizer with one prototypes 32-vector resulting of concatenating 5 random features and applying 1dkemans to the concatenated array."
   ]
  },
  {
   "cell_type": "code",
   "execution_count": 48,
   "id": "5bf440ec",
   "metadata": {},
   "outputs": [
    {
     "data": {
      "text/plain": [
       "32-element Vector{Float32}:\n",
       " -2.485003\n",
       " -1.9322503\n",
       " -1.6038234\n",
       " -1.3700459\n",
       " -1.1872454\n",
       " -1.0356696\n",
       " -0.9052867\n",
       " -0.78944314\n",
       " -0.68417054\n",
       " -0.5869177\n",
       "  ⋮\n",
       "  0.5732735\n",
       "  0.6769144\n",
       "  0.7904752\n",
       "  0.9176359\n",
       "  1.0637804\n",
       "  1.2394978\n",
       "  1.4628069\n",
       "  1.7744759\n",
       "  2.3054712"
      ]
     },
     "metadata": {},
     "output_type": "display_data"
    }
   ],
   "source": [
    "P_shared = vec(Float32.(npzread(\"1dkmeans_prototypes/1dkmeans_shared_prototypes_GloVe_5feat.npy\")))"
   ]
  },
  {
   "cell_type": "code",
   "execution_count": 50,
   "id": "c8d0febe",
   "metadata": {},
   "outputs": [],
   "source": [
    "PQcodes_shared = Array{Int8}(undef, n_features, n_examples);\n",
    "\n",
    "for j in 1:n_examples\n",
    "    PQcodes_shared[:,j] = encode_shared(euclidean, X_tr_vecs[:,j], P_shared) \n",
    "end"
   ]
  },
  {
   "cell_type": "markdown",
   "id": "2b9209c0",
   "metadata": {},
   "source": [
    "### Cosine distance"
   ]
  },
  {
   "cell_type": "code",
   "execution_count": 51,
   "id": "3a81f1db",
   "metadata": {},
   "outputs": [],
   "source": [
    "using LSHFunctions, LinearAlgebra"
   ]
  },
  {
   "cell_type": "code",
   "execution_count": 52,
   "id": "c3d278b5",
   "metadata": {},
   "outputs": [
    {
     "data": {
      "text/plain": [
       "linear_scann_exact (generic function with 1 method)"
      ]
     },
     "metadata": {},
     "output_type": "display_data"
    }
   ],
   "source": [
    "function cos_dist(y::Array{T}, X::Array{T}, j) where T\n",
    "    dist = cossim(y,X[:,j])\n",
    "    return dist\n",
    "end\n",
    "\n",
    "function linear_scann_exact(dist, query, X)\n",
    "\n",
    "    n_features, n_examples = size(X)\n",
    "    distances = Array{Float32}(undef, n_examples)\n",
    "    \n",
    "    @inbounds for j in 1:n_examples\n",
    "        distances[j] = dist(query, X, j)\n",
    "        #println(distances[j])   \n",
    "    end\n",
    "    return distances\n",
    "end"
   ]
  },
  {
   "cell_type": "code",
   "execution_count": null,
   "id": "a7cb54a9",
   "metadata": {},
   "outputs": [],
   "source": [
    "#ALGO ASÍ PARA DETERMINAR EL TYPE DEL OUTPUT EN VEZ DE MODIFICAR LOS TYPES DE LOS INPUTS?\n",
    "#function cos_dist(y, X, j)::Int32\n",
    "#    dist = cossim(y,X[:,j])\n",
    "#    return dist\n",
    "#end"
   ]
  },
  {
   "cell_type": "markdown",
   "id": "e2e65da0",
   "metadata": {},
   "source": [
    "Again, we encounter problems for Int8 and Int16 query types"
   ]
  },
  {
   "cell_type": "code",
   "execution_count": 53,
   "id": "07c23405",
   "metadata": {},
   "outputs": [
    {
     "name": "stdout",
     "output_type": "stream",
     "text": [
      "recall(top_k_pq_cos, query_true_neighbors, top_k) = 0.32\n"
     ]
    }
   ],
   "source": [
    "query_id = 1\n",
    "query = X_te_vecs[:,query_id];\n",
    "query_true_neighbors = true_neighbors[:,query_id]\n",
    "top_k = 100\n",
    "\n",
    "query_code = encode_shared(euclidean, query, P_shared)\n",
    "query_code = Int32.(vec(query_code))\n",
    "\n",
    "PQcodes_int8 = Int32.(PQcodes_shared);\n",
    "\n",
    "pq_distances = linear_scann_exact(cos_dist, query_code, PQcodes_int8)\n",
    "top_k_pq_cos = sortperm(pq_distances)[length(pq_distances)-top_k+1:length(pq_distances)];\n",
    "\n",
    "@show recall(top_k_pq_cos, query_true_neighbors, top_k);"
   ]
  },
  {
   "cell_type": "markdown",
   "id": "8b6e10ab",
   "metadata": {},
   "source": [
    "#### Top_k_expansion + finetunning"
   ]
  },
  {
   "cell_type": "code",
   "execution_count": 54,
   "id": "8c1cd22a",
   "metadata": {},
   "outputs": [
    {
     "data": {
      "text/plain": [
       "linear_scann_exact_pq_cos (generic function with 1 method)"
      ]
     },
     "metadata": {},
     "output_type": "display_data"
    }
   ],
   "source": [
    "function linear_scann_exact_pq_cos(dist, query, X, top_k, extra_factor)\n",
    "\n",
    "    n_features, n_examples = size(X)\n",
    "    distances = Array{Float32}(undef, n_examples)\n",
    "    \n",
    "    @inbounds for j in 1:n_examples\n",
    "        distances[j] = dist(query, X, j)    \n",
    "    end\n",
    "\n",
    "    top_result_pos = sortperm(distances)[length(distances)-top_k+1:length(distances)];\n",
    "    \n",
    "    return top_result_pos\n",
    "end"
   ]
  },
  {
   "cell_type": "code",
   "execution_count": 55,
   "id": "4a0492cc",
   "metadata": {},
   "outputs": [
    {
     "name": "stdout",
     "output_type": "stream",
     "text": [
      "recall(best_ids[permutation_expanded], query_true_neighbors, top_k) = 0.37\n"
     ]
    }
   ],
   "source": [
    "query_id = 5\n",
    "query = X_te_vecs[:,query_id];\n",
    "query_true_neighbors = true_neighbors[:,query_id]\n",
    "top_k = 100\n",
    "\n",
    "query_code = encode_shared(euclidean, query, P_shared)\n",
    "query_code = Int32.(vec(query_code))\n",
    "\n",
    "PQcodes_int8 = Int32.(PQcodes_shared);\n",
    "best_ids = linear_scann_exact_pq_cos(cos_dist, query_code, PQcodes_int8, top_k, 10);\n",
    "\n",
    "#linear_scann_exact(euclidean_mat, query, view(X_tr_vecs,:,best_ids))\n",
    "distances_candidates_expanded = linear_scann_exact(cos_dist, query, X_tr_vecs[:,best_ids]);\n",
    "permutation_expanded = sortperm(distances_candidates_expanded)[length(distances_candidates_expanded)-top_k+1:length(distances_candidates_expanded)];\n",
    "@show recall(best_ids[permutation_expanded], query_true_neighbors, top_k);"
   ]
  },
  {
   "cell_type": "markdown",
   "id": "83c4332b",
   "metadata": {},
   "source": [
    "(Augments from 0.33 to 0.37 when building the shared prototypes out of 5 feats.)"
   ]
  },
  {
   "cell_type": "code",
   "execution_count": 56,
   "id": "57884b20",
   "metadata": {},
   "outputs": [
    {
     "data": {
      "text/plain": [
       "0.4882999999999999"
      ]
     },
     "metadata": {},
     "output_type": "display_data"
    }
   ],
   "source": [
    "function compute_mean_recall_extra(X, PQcodes_shared, true_neighbors, P_shared, extra_factor, top_k::Int, dist::Function)\n",
    "\n",
    "    n_features, n_examples = size(X)\n",
    "    PQcodes_int8 = Int32.(PQcodes_shared);\n",
    "    average = 0.\n",
    "    for query_id in 1:n_examples\n",
    "        query = X[:, query_id]\n",
    "        query_code = encode_shared(euclidean, query, P_shared)\n",
    "        query_code = Int32.(vec(query_code))\n",
    "        best_ids = linear_scann_exact_pq_cos(dist, query_code, PQcodes_int8, top_k, extra_factor);\n",
    "        distances_candidates_expanded = linear_scann_exact(cos_dist, query, X_tr_vecs[:,best_ids]);\n",
    "        permutation_expanded = sortperm(distances_candidates_expanded)[length(distances_candidates_expanded)-top_k+1:length(distances_candidates_expanded)];\n",
    "        r = recall(best_ids[permutation_expanded], true_neighbors[:,query_id], top_k);\n",
    "        average += r;\n",
    "        end\n",
    "    return average / n_examples\n",
    "    end\n",
    "\n",
    "extra_factor = 10\n",
    "top_k = 100\n",
    "avg_recall = compute_mean_recall_extra(X_te_vecs[:, 1:100], PQcodes_shared, true_neighbors, P_shared, extra_factor, top_k, cos_dist) "
   ]
  },
  {
   "cell_type": "markdown",
   "id": "fad50f99",
   "metadata": {},
   "source": [
    "(Augments from 0.466 to 0.488 when building the shared prototypes out of 5 feats.)"
   ]
  },
  {
   "cell_type": "markdown",
   "id": "404e1189",
   "metadata": {},
   "source": [
    "### L1 distance"
   ]
  },
  {
   "cell_type": "code",
   "execution_count": 58,
   "id": "8de1c5d9",
   "metadata": {},
   "outputs": [
    {
     "name": "stdout",
     "output_type": "stream",
     "text": [
      "recall(top_k_pq_l1, query_true_neighbors, top_k) = 0.35\n"
     ]
    }
   ],
   "source": [
    "query_id = 1\n",
    "query = X_te_vecs[:,query_id];\n",
    "query_true_neighbors = true_neighbors[:,query_id]\n",
    "top_k = 100\n",
    "\n",
    "query_code = encode_shared(euclidean, query, P_shared)\n",
    "query_code = Int8.(vec(query_code))\n",
    "\n",
    "PQcodes_int8 = Int8.(PQcodes_shared);\n",
    "\n",
    "pq_distances = linear_scann_exact(abs_dist, query_code, PQcodes_int8)\n",
    "top_k_pq_l1 = sortperm(pq_distances)[1:top_k];\n",
    "\n",
    "@show recall(top_k_pq_l1, query_true_neighbors, top_k);"
   ]
  },
  {
   "cell_type": "markdown",
   "id": "a68200b6",
   "metadata": {},
   "source": [
    "(Augments from 0.32 to 0.35 when building the shared prototypes out of 5 feats.)"
   ]
  },
  {
   "cell_type": "markdown",
   "id": "488cad73",
   "metadata": {},
   "source": [
    "#### Top_k_pq_cos vs. top_k_pq_l1"
   ]
  },
  {
   "cell_type": "code",
   "execution_count": 59,
   "id": "95020d8e",
   "metadata": {},
   "outputs": [
    {
     "data": {
      "text/plain": [
       "55-element Vector{Int64}:\n",
       "  834700\n",
       "  660542\n",
       "  809930\n",
       "  340498\n",
       "  455464\n",
       "  493890\n",
       "  547335\n",
       " 1051873\n",
       "  870694\n",
       "  392022\n",
       "       ⋮\n",
       "  908320\n",
       "  229952\n",
       "  995276\n",
       "  402217\n",
       " 1133490\n",
       "  989331\n",
       "   97479\n",
       "   93439\n",
       "  660282"
      ]
     },
     "metadata": {},
     "output_type": "display_data"
    }
   ],
   "source": [
    "inter_top = intersect(top_k_pq_cos, top_k_pq_l1)"
   ]
  },
  {
   "cell_type": "markdown",
   "id": "b876a294",
   "metadata": {},
   "source": [
    "55 common indices in top100"
   ]
  },
  {
   "cell_type": "code",
   "execution_count": 60,
   "id": "ed0081cb",
   "metadata": {},
   "outputs": [
    {
     "data": {
      "text/plain": [
       "28-element Vector{Int64}:\n",
       "  834700\n",
       "  340498\n",
       "  547335\n",
       "  817758\n",
       "   51822\n",
       "  265227\n",
       "  647844\n",
       "  186282\n",
       "  859960\n",
       "  368656\n",
       "       ⋮\n",
       "  242798\n",
       "  908320\n",
       "  995276\n",
       "  402217\n",
       " 1133490\n",
       "  989331\n",
       "   97479\n",
       "   93439\n",
       "  660282"
      ]
     },
     "metadata": {},
     "output_type": "display_data"
    }
   ],
   "source": [
    "intersect(inter_top, query_true_neighbors)"
   ]
  },
  {
   "cell_type": "markdown",
   "id": "84eefee9",
   "metadata": {},
   "source": [
    "28 elements out of the total 35/37 that l1/cos dists get right are common."
   ]
  },
  {
   "cell_type": "markdown",
   "id": "00305c3a",
   "metadata": {},
   "source": [
    "#### Top_k_expansion + finetunning"
   ]
  },
  {
   "cell_type": "code",
   "execution_count": 65,
   "id": "65c3f109",
   "metadata": {},
   "outputs": [
    {
     "name": "stdout",
     "output_type": "stream",
     "text": [
      "recall(best_ids[permutation_expanded], query_true_neighbors, top_k) = 0.37\n"
     ]
    }
   ],
   "source": [
    "query_id = 5\n",
    "query = X_te_vecs[:,query_id];\n",
    "query_true_neighbors = true_neighbors[:,query_id]\n",
    "top_k = 100\n",
    "\n",
    "query_code = encode_shared(euclidean, query, P_shared)\n",
    "query_code = Int8.(vec(query_code))\n",
    "\n",
    "PQcodes_int8 = Int8.(PQcodes_shared);\n",
    "best_ids = linear_scann_exact_pq(abs_dist, query_code, PQcodes_int8, top_k, 10);\n",
    "\n",
    "#linear_scann_exact(euclidean_mat, query, view(X_tr_vecs,:,best_ids))\n",
    "distances_candidates_expanded = linear_scann_exact(euclidean_mat2, query, X_tr_vecs[:,best_ids]);\n",
    "permutation_expanded = sortperm(distances_candidates_expanded)[1:top_k];\n",
    "@show recall(best_ids[permutation_expanded], query_true_neighbors, top_k);"
   ]
  },
  {
   "cell_type": "code",
   "execution_count": 66,
   "id": "d3fc56e7",
   "metadata": {},
   "outputs": [
    {
     "data": {
      "text/plain": [
       "0.49119999999999986"
      ]
     },
     "metadata": {},
     "output_type": "display_data"
    }
   ],
   "source": [
    "function compute_mean_recall_extra(X, PQcodes_shared, true_neighbors, P_shared, extra_factor, top_k::Int, dist::Function)\n",
    "\n",
    "    n_features, n_examples = size(X)\n",
    "    PQcodes_int8 = Int8.(PQcodes_shared);\n",
    "    average = 0.\n",
    "    for query_id in 1:n_examples\n",
    "        query = X[:, query_id]\n",
    "        query_code = encode_shared(euclidean, query, P_shared)\n",
    "        query_code = Int8.(vec(query_code))\n",
    "        best_ids = linear_scann_exact_pq(dist, query_code, PQcodes_int8, top_k, extra_factor);\n",
    "        distances_candidates_expanded = linear_scann_exact(euclidean_mat2, query, X_tr_vecs[:,best_ids]);\n",
    "        permutation_expanded = sortperm(distances_candidates_expanded)[1:top_k]\n",
    "        r = recall(best_ids[permutation_expanded], true_neighbors[:,query_id], top_k);\n",
    "        average += r;\n",
    "        end\n",
    "    return average / n_examples\n",
    "    end\n",
    "\n",
    "extra_factor = 10\n",
    "top_k = 100\n",
    "avg_recall = compute_mean_recall_extra(X_te_vecs[:, 1:100], PQcodes_shared, true_neighbors, P_shared, extra_factor, top_k, abs_dist) "
   ]
  },
  {
   "cell_type": "markdown",
   "id": "17a04cd9",
   "metadata": {},
   "source": [
    "The final recall is similar including the finetunning."
   ]
  },
  {
   "cell_type": "markdown",
   "id": "c65b0592",
   "metadata": {},
   "source": [
    "### Benchmark times exact vs linearscann"
   ]
  },
  {
   "cell_type": "code",
   "execution_count": 26,
   "id": "bcb32d15",
   "metadata": {},
   "outputs": [
    {
     "data": {
      "text/plain": [
       "BenchmarkTools.Trial: 121 samples with 1 evaluation.\n",
       " Range \u001b[90m(\u001b[39m\u001b[36m\u001b[1mmin\u001b[22m\u001b[39m … \u001b[35mmax\u001b[39m\u001b[90m):  \u001b[39m\u001b[36m\u001b[1m36.832 ms\u001b[22m\u001b[39m … \u001b[35m75.165 ms\u001b[39m  \u001b[90m┊\u001b[39m GC \u001b[90m(\u001b[39mmin … max\u001b[90m): \u001b[39m0.00% … 0.00%\n",
       " Time  \u001b[90m(\u001b[39m\u001b[34m\u001b[1mmedian\u001b[22m\u001b[39m\u001b[90m):     \u001b[39m\u001b[34m\u001b[1m40.168 ms              \u001b[22m\u001b[39m\u001b[90m┊\u001b[39m GC \u001b[90m(\u001b[39mmedian\u001b[90m):    \u001b[39m0.00%\n",
       " Time  \u001b[90m(\u001b[39m\u001b[32m\u001b[1mmean\u001b[22m\u001b[39m ± \u001b[32mσ\u001b[39m\u001b[90m):   \u001b[39m\u001b[32m\u001b[1m41.402 ms\u001b[22m\u001b[39m ± \u001b[32m 5.122 ms\u001b[39m  \u001b[90m┊\u001b[39m GC \u001b[90m(\u001b[39mmean ± σ\u001b[90m):  \u001b[39m0.03% ± 0.30%\n",
       "\n",
       "  \u001b[39m \u001b[39m \u001b[39m▁\u001b[39m \u001b[39m \u001b[39m▃\u001b[39m▁\u001b[39m█\u001b[39m \u001b[34m \u001b[39m\u001b[39m▃\u001b[39m▄\u001b[32m▃\u001b[39m\u001b[39m \u001b[39m \u001b[39m \u001b[39m \u001b[39m \u001b[39m \u001b[39m \u001b[39m \u001b[39m \u001b[39m \u001b[39m \u001b[39m \u001b[39m \u001b[39m \u001b[39m \u001b[39m \u001b[39m \u001b[39m \u001b[39m \u001b[39m \u001b[39m \u001b[39m \u001b[39m \u001b[39m \u001b[39m \u001b[39m \u001b[39m \u001b[39m \u001b[39m \u001b[39m \u001b[39m \u001b[39m \u001b[39m \u001b[39m \u001b[39m \u001b[39m \u001b[39m \u001b[39m \u001b[39m \u001b[39m \u001b[39m \u001b[39m \u001b[39m \u001b[39m \u001b[39m \u001b[39m \u001b[39m \u001b[39m \n",
       "  \u001b[39m█\u001b[39m▄\u001b[39m█\u001b[39m▅\u001b[39m▆\u001b[39m█\u001b[39m█\u001b[39m█\u001b[39m▇\u001b[34m▇\u001b[39m\u001b[39m█\u001b[39m█\u001b[32m█\u001b[39m\u001b[39m▄\u001b[39m▃\u001b[39m▇\u001b[39m▁\u001b[39m▁\u001b[39m▃\u001b[39m▁\u001b[39m▄\u001b[39m▃\u001b[39m▃\u001b[39m▁\u001b[39m▁\u001b[39m▁\u001b[39m▁\u001b[39m▁\u001b[39m▃\u001b[39m▃\u001b[39m▁\u001b[39m▃\u001b[39m▁\u001b[39m▁\u001b[39m▁\u001b[39m▁\u001b[39m▁\u001b[39m▁\u001b[39m▁\u001b[39m▁\u001b[39m▁\u001b[39m▁\u001b[39m▁\u001b[39m▁\u001b[39m▃\u001b[39m▃\u001b[39m▃\u001b[39m▃\u001b[39m▁\u001b[39m▄\u001b[39m▁\u001b[39m▁\u001b[39m▁\u001b[39m▁\u001b[39m▁\u001b[39m▁\u001b[39m▁\u001b[39m▁\u001b[39m▃\u001b[39m \u001b[39m▃\n",
       "  36.8 ms\u001b[90m         Histogram: frequency by time\u001b[39m        58.9 ms \u001b[0m\u001b[1m<\u001b[22m\n",
       "\n",
       " Memory estimate\u001b[90m: \u001b[39m\u001b[33m4.51 MiB\u001b[39m, allocs estimate\u001b[90m: \u001b[39m\u001b[33m2\u001b[39m."
      ]
     },
     "metadata": {},
     "output_type": "display_data"
    }
   ],
   "source": [
    "@inline function Euclidean0(x, query)\n",
    "    res = zero(eltype(x))\n",
    "    @inbounds @fastmath  for j in eachindex(x)\n",
    "        aux = (query[j] - x[j])\n",
    "        res += aux * aux\n",
    "    end\n",
    "    return sqrt(res)\n",
    "end\n",
    "\n",
    "function linear_scann_exact(dist, query, X)\n",
    "\n",
    "    n_features, n_examples = size(X)\n",
    "    distances = Array{Float32}(undef, n_examples)\n",
    "    \n",
    "    @inbounds for j in 1:n_examples\n",
    "        distances[j] = dist(query, view(X,:,j))    \n",
    "    end\n",
    "    return distances\n",
    "end\n",
    "\n",
    "@benchmark linear_scann_exact($Euclidean0, $query, $X_tr_vecs)"
   ]
  },
  {
   "cell_type": "code",
   "execution_count": 27,
   "id": "8131b4a2",
   "metadata": {},
   "outputs": [
    {
     "data": {
      "text/plain": [
       "BenchmarkTools.Trial: 112 samples with 1 evaluation.\n",
       " Range \u001b[90m(\u001b[39m\u001b[36m\u001b[1mmin\u001b[22m\u001b[39m … \u001b[35mmax\u001b[39m\u001b[90m):  \u001b[39m\u001b[36m\u001b[1m38.634 ms\u001b[22m\u001b[39m … \u001b[35m54.199 ms\u001b[39m  \u001b[90m┊\u001b[39m GC \u001b[90m(\u001b[39mmin … max\u001b[90m): \u001b[39m0.00% … 0.00%\n",
       " Time  \u001b[90m(\u001b[39m\u001b[34m\u001b[1mmedian\u001b[22m\u001b[39m\u001b[90m):     \u001b[39m\u001b[34m\u001b[1m44.842 ms              \u001b[22m\u001b[39m\u001b[90m┊\u001b[39m GC \u001b[90m(\u001b[39mmedian\u001b[90m):    \u001b[39m0.00%\n",
       " Time  \u001b[90m(\u001b[39m\u001b[32m\u001b[1mmean\u001b[22m\u001b[39m ± \u001b[32mσ\u001b[39m\u001b[90m):   \u001b[39m\u001b[32m\u001b[1m44.967 ms\u001b[22m\u001b[39m ± \u001b[32m 2.898 ms\u001b[39m  \u001b[90m┊\u001b[39m GC \u001b[90m(\u001b[39mmean ± σ\u001b[90m):  \u001b[39m0.03% ± 0.29%\n",
       "\n",
       "  \u001b[39m \u001b[39m \u001b[39m \u001b[39m \u001b[39m \u001b[39m \u001b[39m \u001b[39m \u001b[39m▂\u001b[39m \u001b[39m \u001b[39m \u001b[39m \u001b[39m \u001b[39m \u001b[39m \u001b[39m \u001b[39m█\u001b[39m▂\u001b[39m▂\u001b[39m \u001b[39m▂\u001b[39m \u001b[39m▂\u001b[39m \u001b[39m▂\u001b[34m \u001b[39m\u001b[32m \u001b[39m\u001b[39m▂\u001b[39m▄\u001b[39m \u001b[39m▂\u001b[39m \u001b[39m▄\u001b[39m▂\u001b[39m \u001b[39m▄\u001b[39m \u001b[39m \u001b[39m \u001b[39m \u001b[39m \u001b[39m \u001b[39m \u001b[39m \u001b[39m \u001b[39m \u001b[39m \u001b[39m \u001b[39m \u001b[39m \u001b[39m \u001b[39m \u001b[39m \u001b[39m \u001b[39m \u001b[39m \u001b[39m \u001b[39m \u001b[39m \u001b[39m \n",
       "  \u001b[39m▄\u001b[39m▁\u001b[39m▁\u001b[39m▁\u001b[39m▄\u001b[39m▄\u001b[39m▁\u001b[39m▄\u001b[39m█\u001b[39m█\u001b[39m▆\u001b[39m▆\u001b[39m▄\u001b[39m▄\u001b[39m▁\u001b[39m█\u001b[39m█\u001b[39m█\u001b[39m█\u001b[39m█\u001b[39m▄\u001b[39m█\u001b[39m█\u001b[39m█\u001b[39m▄\u001b[39m█\u001b[34m▆\u001b[39m\u001b[32m█\u001b[39m\u001b[39m█\u001b[39m█\u001b[39m▆\u001b[39m█\u001b[39m▆\u001b[39m█\u001b[39m█\u001b[39m▆\u001b[39m█\u001b[39m▄\u001b[39m█\u001b[39m▆\u001b[39m█\u001b[39m▄\u001b[39m▆\u001b[39m▁\u001b[39m▁\u001b[39m▁\u001b[39m▁\u001b[39m▄\u001b[39m▄\u001b[39m▄\u001b[39m▄\u001b[39m▁\u001b[39m▁\u001b[39m▁\u001b[39m▁\u001b[39m▁\u001b[39m▄\u001b[39m▁\u001b[39m▄\u001b[39m \u001b[39m▄\n",
       "  38.6 ms\u001b[90m         Histogram: frequency by time\u001b[39m        52.7 ms \u001b[0m\u001b[1m<\u001b[22m\n",
       "\n",
       " Memory estimate\u001b[90m: \u001b[39m\u001b[33m4.51 MiB\u001b[39m, allocs estimate\u001b[90m: \u001b[39m\u001b[33m2\u001b[39m."
      ]
     },
     "metadata": {},
     "output_type": "display_data"
    }
   ],
   "source": [
    "function abs_dist(y::Array{T}, X::Array{T}, j) where T\n",
    "    # Here I use a bigger Int type than 8 due to avoid\n",
    "    # res beeing overflowed\n",
    "    res = Int16(0)\n",
    "    @inbounds @fastmath  for k in eachindex(y)\n",
    "        res += abs(X[k, j] - y[k])\n",
    "    end\n",
    "    return res\n",
    "end\n",
    "\n",
    "function linear_scann_exact(dist, query, X)\n",
    "\n",
    "    n_features, n_examples = size(X)\n",
    "    distances = Array{Float32}(undef, n_examples)\n",
    "    \n",
    "    @inbounds for j in 1:n_examples\n",
    "        distances[j] = dist(query, X, j)    \n",
    "    end\n",
    "    return distances\n",
    "end\n",
    "\n",
    "@benchmark linear_scann_exact($abs_dist, $query_code, $PQcodes_int8)"
   ]
  }
 ],
 "metadata": {
  "kernelspec": {
   "display_name": "Julia 1.8.0",
   "language": "julia",
   "name": "julia-1.8"
  },
  "language_info": {
   "file_extension": ".jl",
   "mimetype": "application/julia",
   "name": "julia",
   "version": "1.8.0"
  },
  "toc": {
   "base_numbering": 1,
   "nav_menu": {},
   "number_sections": true,
   "sideBar": true,
   "skip_h1_title": false,
   "title_cell": "Table of Contents",
   "title_sidebar": "Contents",
   "toc_cell": false,
   "toc_position": {},
   "toc_section_display": true,
   "toc_window_display": false
  }
 },
 "nbformat": 4,
 "nbformat_minor": 5
}
