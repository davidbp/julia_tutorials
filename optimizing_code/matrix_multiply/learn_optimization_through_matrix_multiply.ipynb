{
 "cells": [
  {
   "cell_type": "code",
   "execution_count": 45,
   "metadata": {},
   "outputs": [],
   "source": [
    "# You should start your notebook with:  JULIA_NUM_THREADS=4 jupyter notebook\n",
    "Base.Threads.nthreads()\n",
    "using BenchmarkTools"
   ]
  },
  {
   "cell_type": "code",
   "execution_count": 2,
   "metadata": {},
   "outputs": [],
   "source": [
    "N = 1000\n",
    "\n",
    "A = rand(N,N)\n",
    "B = rand(N,N)\n",
    "C = A *B;"
   ]
  },
  {
   "cell_type": "markdown",
   "metadata": {},
   "source": [
    "### Naive matrix multiply\n",
    "\n",
    "- select row `r` in A, let's call it `row_r`\n",
    "\n",
    "- select col `c` in B, let's call it `col_c`\n",
    "\n",
    "- compute element `C[r,c]` as the scalar product of `row_ by` `row_c`\n",
    "\n"
   ]
  },
  {
   "cell_type": "code",
   "execution_count": 3,
   "metadata": {},
   "outputs": [
    {
     "data": {
      "text/plain": [
       "dot_product_row_r_col_c (generic function with 1 method)"
      ]
     },
     "execution_count": 3,
     "metadata": {},
     "output_type": "execute_result"
    }
   ],
   "source": [
    "C2 = zeros(size(A));\n",
    "\n",
    "\n",
    "function dot_product_row_r_col_c(A,r,B,c, n_elements)\n",
    "    value = zero(eltype(A))\n",
    "    for i in 1:n_elements\n",
    "        value += A[r,i] * B[i,c] \n",
    "    end\n",
    "    return value    \n",
    "end \n"
   ]
  },
  {
   "cell_type": "code",
   "execution_count": 4,
   "metadata": {
    "scrolled": true
   },
   "outputs": [
    {
     "data": {
      "text/plain": [
       "naive_matmul!"
      ]
     },
     "execution_count": 4,
     "metadata": {},
     "output_type": "execute_result"
    }
   ],
   "source": [
    "\n",
    "\"\"\"\n",
    "Naive matrix multiply of A and B\n",
    "\"\"\"\n",
    "function naive_matmul!(A, B, C)\n",
    "    n_rows_A = size(A,1)\n",
    "    n_cols_B = size(B,2)\n",
    "    n_elements = n_cols_B\n",
    "        \n",
    "    for r in 1:n_rows_A\n",
    "        for c in 1:n_cols_B\n",
    "           C[r,c] = dot_product_row_r_col_c(A,r,B,c, n_elements)\n",
    "        end\n",
    "    end\n",
    "    \n",
    "end"
   ]
  },
  {
   "cell_type": "code",
   "execution_count": 46,
   "metadata": {},
   "outputs": [
    {
     "name": "stdout",
     "output_type": "stream",
     "text": [
      "  880.758 ms (0 allocations: 0 bytes)\n"
     ]
    }
   ],
   "source": [
    "@btime naive_matmul!(A,B,C2)"
   ]
  },
  {
   "cell_type": "code",
   "execution_count": 47,
   "metadata": {},
   "outputs": [
    {
     "name": "stdout",
     "output_type": "stream",
     "text": [
      "  7.090 ms (2 allocations: 7.63 MiB)\n"
     ]
    }
   ],
   "source": [
    "@btime C = A * B;"
   ]
  },
  {
   "cell_type": "code",
   "execution_count": 7,
   "metadata": {
    "scrolled": true
   },
   "outputs": [
    {
     "data": {
      "text/plain": [
       "true"
      ]
     },
     "execution_count": 7,
     "metadata": {},
     "output_type": "execute_result"
    }
   ],
   "source": [
    "isapprox(C,C2;rtol=0.000001)"
   ]
  },
  {
   "cell_type": "markdown",
   "metadata": {},
   "source": [
    "### Accessing columns in the transposed of `A` instead of rows in `A`\n",
    "\n",
    "Notice that the elements of an Array in Julia are stored in memory by column. \n",
    "\n",
    "This makes the memory access of `A[r,i]` in the function `dot_product_row_r_col_c` slow (where `i` is changing).\n",
    "\n",
    "We can improve this by by accessing `A[i,r]` in a new function `dot_product_col_r_col_c`. To have an equivalent computation we simply transpose `A` and then select a row of `A` (a column of `A_t`) and do the dot product with a column of `B`."
   ]
  },
  {
   "cell_type": "code",
   "execution_count": 8,
   "metadata": {},
   "outputs": [
    {
     "data": {
      "text/plain": [
       "dot_product_col_r_col_c (generic function with 1 method)"
      ]
     },
     "execution_count": 8,
     "metadata": {},
     "output_type": "execute_result"
    }
   ],
   "source": [
    "C2 = zeros(size(A));\n",
    "\n",
    "function dot_product_col_r_col_c(A,r,B,c, n_elements)\n",
    "    value = zero(eltype(A))\n",
    "    \n",
    "    for i in 1:n_elements\n",
    "        value += A[i,r] * B[i,c] \n",
    "    end\n",
    "    return value    \n",
    "end "
   ]
  },
  {
   "cell_type": "code",
   "execution_count": 9,
   "metadata": {},
   "outputs": [
    {
     "data": {
      "text/plain": [
       "naive_matmul_2!"
      ]
     },
     "execution_count": 9,
     "metadata": {},
     "output_type": "execute_result"
    }
   ],
   "source": [
    "\n",
    "\"\"\"\n",
    "Naive matrix multiply of A and B\n",
    "\"\"\"\n",
    "function naive_matmul_2!(A, B, C)\n",
    "    n_rows_A = size(A,1)\n",
    "    n_cols_B = size(B,2)\n",
    "    n_elements = n_cols_B\n",
    "    A_t = copy(transpose(A))\n",
    "    for r in 1:n_rows_A\n",
    "        for c in 1:n_cols_B\n",
    "           C[r,c] = dot_product_col_r_col_c(A_t,r,B,c, n_elements)\n",
    "        end\n",
    "    end\n",
    "    \n",
    "end"
   ]
  },
  {
   "cell_type": "code",
   "execution_count": 48,
   "metadata": {},
   "outputs": [
    {
     "name": "stdout",
     "output_type": "stream",
     "text": [
      "  900.415 ms (2 allocations: 7.63 MiB)\n"
     ]
    }
   ],
   "source": [
    "@btime naive_matmul_2!(A,B,C2)"
   ]
  },
  {
   "cell_type": "code",
   "execution_count": 11,
   "metadata": {},
   "outputs": [
    {
     "data": {
      "text/plain": [
       "true"
      ]
     },
     "execution_count": 11,
     "metadata": {},
     "output_type": "execute_result"
    }
   ],
   "source": [
    "isapprox(C,C2;rtol=0.000001)"
   ]
  },
  {
   "cell_type": "markdown",
   "metadata": {},
   "source": [
    "Notice that even taking into account that we make a copy of A inside the function this version is twice as fast.\n"
   ]
  },
  {
   "cell_type": "markdown",
   "metadata": {},
   "source": [
    "#### Using SIMD instructions\n",
    "\n",
    "The function `dot_product_col_r_col_c` can benefit from SIMD instructions"
   ]
  },
  {
   "cell_type": "code",
   "execution_count": 12,
   "metadata": {},
   "outputs": [
    {
     "data": {
      "text/plain": [
       "dot_product_col_r_col_c_simd (generic function with 1 method)"
      ]
     },
     "execution_count": 12,
     "metadata": {},
     "output_type": "execute_result"
    }
   ],
   "source": [
    "\n",
    "\n",
    "@inline function dot_product_col_r_col_c_simd(A,r,B,c, n_elements)\n",
    "    value = zero(eltype(A))\n",
    "    \n",
    "    @simd for i in 1:n_elements\n",
    "       @inbounds value += A[i,r] * B[i,c] \n",
    "    end\n",
    "    return value    \n",
    "end \n",
    "\n"
   ]
  },
  {
   "cell_type": "code",
   "execution_count": 13,
   "metadata": {},
   "outputs": [
    {
     "data": {
      "text/plain": [
       "naive_matmul_3! (generic function with 1 method)"
      ]
     },
     "execution_count": 13,
     "metadata": {},
     "output_type": "execute_result"
    }
   ],
   "source": [
    "\n",
    "function naive_matmul_3!(A, B, C)\n",
    "    n_rows_A = size(A,1)\n",
    "    n_cols_B = size(B,2)\n",
    "    n_elements = n_cols_B\n",
    "    A_t = copy(transpose(A))\n",
    "    for r in 1:n_rows_A\n",
    "        for c in 1:n_cols_B\n",
    "           C[r,c] = dot_product_col_r_col_c_simd(A_t,r,B,c, n_elements)\n",
    "        end\n",
    "    end\n",
    "end"
   ]
  },
  {
   "cell_type": "code",
   "execution_count": 49,
   "metadata": {},
   "outputs": [
    {
     "name": "stdout",
     "output_type": "stream",
     "text": [
      "  251.343 ms (2 allocations: 7.63 MiB)\n"
     ]
    }
   ],
   "source": [
    "C2 = zeros(size(A));\n",
    "\n",
    "@btime naive_matmul_3!(A,B,C2)"
   ]
  },
  {
   "cell_type": "code",
   "execution_count": 50,
   "metadata": {},
   "outputs": [
    {
     "data": {
      "text/plain": [
       "true"
      ]
     },
     "execution_count": 50,
     "metadata": {},
     "output_type": "execute_result"
    }
   ],
   "source": [
    "isapprox(C,C2;rtol=0.000001)"
   ]
  },
  {
   "cell_type": "markdown",
   "metadata": {},
   "source": [
    "#### Blocked version version"
   ]
  },
  {
   "cell_type": "code",
   "execution_count": 52,
   "metadata": {
    "scrolled": true
   },
   "outputs": [
    {
     "data": {
      "text/plain": [
       "block_times_block (generic function with 1 method)"
      ]
     },
     "execution_count": 52,
     "metadata": {},
     "output_type": "execute_result"
    }
   ],
   "source": [
    "C2 = zeros(size(A));\n",
    "\n",
    "function block_times_block(A, r, B, c, block_size)\n",
    "    value = zero(eltype(A))\n",
    "    \n",
    "    for block_r in r:r+block_size\n",
    "        for block_c in c:c+block_size\n",
    "            @inbounds value += A[r,c] * B[r,c]  \n",
    "        end\n",
    "    end\n",
    "    return value    \n",
    "end \n",
    "\n"
   ]
  },
  {
   "cell_type": "code",
   "execution_count": 53,
   "metadata": {},
   "outputs": [
    {
     "data": {
      "text/plain": [
       "naive_matmul_4! (generic function with 1 method)"
      ]
     },
     "execution_count": 53,
     "metadata": {},
     "output_type": "execute_result"
    }
   ],
   "source": [
    "\n",
    "function naive_matmul_4!(A, B, C)\n",
    "    n_rows_A = size(A,1)\n",
    "    n_cols_B = size(B,2)\n",
    "    n_elements = n_cols_B\n",
    "    bs = 10\n",
    "    n_elements_block = bs*bs\n",
    "    \n",
    "    for row in 1:bs:n_rows_A-bs\n",
    "        for col in 1:bs:n_cols_B-bs\n",
    "            for block_row in row:(row+bs)\n",
    "                for block_col in col:(col+bs)\n",
    "                    res = 0.0\n",
    "                    #C[row:row+bs,col:col+bs] = block_times_block(A, row, B, col, n_elements_block)\n",
    "                     @inbounds @fastmath for k in 1:n_elements_block\n",
    "                        res += A[k, block_row] * B[block_col, k]\n",
    "                    end\n",
    "                    C[row, col] = res\n",
    "                end\n",
    "            end\n",
    "        end\n",
    "    end\n",
    "    \n",
    "end"
   ]
  },
  {
   "cell_type": "code",
   "execution_count": 54,
   "metadata": {},
   "outputs": [
    {
     "name": "stdout",
     "output_type": "stream",
     "text": [
      "  81.257 ms (0 allocations: 0 bytes)\n"
     ]
    }
   ],
   "source": [
    "C2 = zeros(size(A));\n",
    "\n",
    "@btime naive_matmul_4!(A,B,C2)"
   ]
  },
  {
   "cell_type": "code",
   "execution_count": 59,
   "metadata": {},
   "outputs": [
    {
     "data": {
      "text/plain": [
       "false"
      ]
     },
     "execution_count": 59,
     "metadata": {},
     "output_type": "execute_result"
    }
   ],
   "source": [
    "isapprox(C,C2;rtol=0.000001)"
   ]
  },
  {
   "cell_type": "markdown",
   "metadata": {},
   "source": [
    "### Multithreaded version "
   ]
  },
  {
   "cell_type": "code",
   "execution_count": 60,
   "metadata": {},
   "outputs": [
    {
     "data": {
      "text/plain": [
       "naive_matmul_5! (generic function with 1 method)"
      ]
     },
     "execution_count": 60,
     "metadata": {},
     "output_type": "execute_result"
    }
   ],
   "source": [
    "\n",
    "function naive_matmul_5!(A, B, C)\n",
    "    n_rows_A = size(A,1)\n",
    "    n_cols_B = size(B,2)\n",
    "    n_elements = n_cols_B\n",
    "    bs = 10\n",
    "    n_elements_block = bs*bs\n",
    "    \n",
    "    for row in 1:bs:n_rows_A-bs\n",
    "        Threads.@threads for col in 1:bs:n_cols_B-bs\n",
    "            for block_row in row:(row+bs)\n",
    "                @inbounds @fastmath for block_col in col:(col+bs)\n",
    "                    res = 0.0\n",
    "                    #C[row:row+bs,col:col+bs] = block_times_block(A, row, B, col, n_elements_block)\n",
    "                    for k in 1:n_elements_block\n",
    "                        res += A[k, block_row] * B[block_col, k]\n",
    "                    end\n",
    "                    C[row, col] = res\n",
    "                end\n",
    "            end\n",
    "        end\n",
    "    end\n",
    "    \n",
    "end"
   ]
  },
  {
   "cell_type": "code",
   "execution_count": 61,
   "metadata": {},
   "outputs": [
    {
     "name": "stdout",
     "output_type": "stream",
     "text": [
      "  19.929 ms (6058 allocations: 610.06 KiB)\n"
     ]
    }
   ],
   "source": [
    "C2 = zeros(size(A));\n",
    "\n",
    "@btime naive_matmul_5!(A,B,C2)"
   ]
  },
  {
   "cell_type": "markdown",
   "metadata": {},
   "source": [
    "Notice that A*B is still 10x faster"
   ]
  },
  {
   "cell_type": "code",
   "execution_count": 51,
   "metadata": {},
   "outputs": [
    {
     "name": "stdout",
     "output_type": "stream",
     "text": [
      "  7.082 ms (2 allocations: 7.63 MiB)\n"
     ]
    }
   ],
   "source": [
    "@btime A*B;"
   ]
  }
 ],
 "metadata": {
  "kernelspec": {
   "display_name": "Julia 1.9.0-beta3",
   "language": "julia",
   "name": "julia-1.9"
  },
  "language_info": {
   "file_extension": ".jl",
   "mimetype": "application/julia",
   "name": "julia",
   "version": "1.9.0"
  }
 },
 "nbformat": 4,
 "nbformat_minor": 2
}
