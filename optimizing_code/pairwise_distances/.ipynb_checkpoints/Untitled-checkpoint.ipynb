{
 "cells": [
  {
   "cell_type": "code",
   "execution_count": 1,
   "id": "52216a90",
   "metadata": {},
   "outputs": [
    {
     "name": "stdout",
     "output_type": "stream",
     "text": [
      "  Iters               objv        objv-change | affected \n",
      "-------------------------------------------------------------\n",
      "      0       1.577635e+07\n",
      "      1       1.001412e+07      -5.762229e+06 |      256\n",
      "      2       9.998556e+06      -1.556700e+04 |      256\n",
      "      3       9.993770e+06      -4.786000e+03 |      256\n",
      "      4       9.990310e+06      -3.460000e+03 |      256\n",
      "      5       9.987529e+06      -2.781000e+03 |      256\n",
      "      6       9.985262e+06      -2.267000e+03 |      256\n",
      "      7       9.983358e+06      -1.904000e+03 |      256\n",
      "      8       9.981742e+06      -1.616000e+03 |      256\n",
      "      9       9.980356e+06      -1.386000e+03 |      256\n",
      "     10       9.979148e+06      -1.208000e+03 |      256\n",
      "K-means terminated without convergence after 10 iterations (objv = 9.979148e6)\n",
      " 10.754456 seconds (768.02 M allocations: 19.083 GiB, 13.75% gc time, 0.20% compilation time)\n"
     ]
    },
    {
     "data": {
      "text/plain": [
       "1000000-element Vector{Int32}:\n",
       " 154\n",
       " 153\n",
       " 226\n",
       "  58\n",
       "  54\n",
       "  72\n",
       "  66\n",
       " 232\n",
       " 165\n",
       "  37\n",
       "  72\n",
       "  81\n",
       " 207\n",
       "   ⋮\n",
       " 256\n",
       "  27\n",
       "  87\n",
       " 250\n",
       " 218\n",
       "   8\n",
       " 227\n",
       " 107\n",
       "  69\n",
       " 214\n",
       "  91\n",
       "  42"
      ]
     },
     "execution_count": 1,
     "metadata": {},
     "output_type": "execute_result"
    }
   ],
   "source": [
    "using Clustering\n",
    "using BenchmarkTools\n",
    "\n",
    "function euclidean_mat(y, X, j) where T\n",
    "    res = zero(eltype(y))\n",
    "    @inbounds @fastmath @simd for k in eachindex(y)\n",
    "        partial = X[k, j] - y[k]\n",
    "        res += partial * partial\n",
    "    end\n",
    "    return res\n",
    "end\n",
    "\n",
    "function transform(X, R::KmeansResult)\n",
    "    n_features, n_examples = size(X)\n",
    "    cluster_assignments = Array{Int32, 1}(undef, n_examples)\n",
    "    for n in 1:n_examples\n",
    "        min_dist = typemax(eltype(X))\n",
    "        cluster_assignment = Int32(0)\n",
    "        for (j,c) in enumerate(eachcol(R.centers))\n",
    "            dist = euclidean_mat(c, X, n)\n",
    "            if dist < min_dist\n",
    "                min_dist = dist\n",
    "                cluster_assignment = j\n",
    "            end\n",
    "        end\n",
    "        cluster_assignments[n] = cluster_assignment\n",
    "    end\n",
    "    return cluster_assignments\n",
    "end\n",
    "\n",
    "\n",
    "n_features = 128\n",
    "n_examples = 1_000_000\n",
    "n_clusters = 256\n",
    "\n",
    "X = rand(Float32, n_features, n_examples)\n",
    "R = kmeans(X, n_clusters ; maxiter=10, display=:iter)\n",
    "@time transform(X,R)"
   ]
  },
  {
   "cell_type": "code",
   "execution_count": null,
   "id": "ff8f4378",
   "metadata": {},
   "outputs": [],
   "source": []
  },
  {
   "cell_type": "code",
   "execution_count": 2,
   "id": "31354c2d",
   "metadata": {},
   "outputs": [],
   "source": [
    " using Base.Threads"
   ]
  },
  {
   "cell_type": "code",
   "execution_count": 3,
   "id": "700b916d",
   "metadata": {},
   "outputs": [
    {
     "data": {
      "text/plain": [
       "10"
      ]
     },
     "execution_count": 3,
     "metadata": {},
     "output_type": "execute_result"
    }
   ],
   "source": [
    "nthreads()"
   ]
  },
  {
   "cell_type": "code",
   "execution_count": 4,
   "id": "e628a55d",
   "metadata": {},
   "outputs": [
    {
     "name": "stdout",
     "output_type": "stream",
     "text": [
      "  Iters               objv        objv-change | affected \n",
      "-------------------------------------------------------------\n",
      "      0       1.585152e+07\n",
      "      1       1.001047e+07      -5.841051e+06 |      256\n",
      "      2       9.998334e+06      -1.213700e+04 |      256\n",
      "      3       9.993661e+06      -4.673000e+03 |      256\n",
      "      4       9.990203e+06      -3.458000e+03 |      256\n",
      "      5       9.987422e+06      -2.781000e+03 |      256\n",
      "      6       9.985127e+06      -2.295000e+03 |      256\n",
      "      7       9.983198e+06      -1.929000e+03 |      256\n",
      "      8       9.981552e+06      -1.646000e+03 |      256\n",
      "      9       9.980137e+06      -1.415000e+03 |      256\n",
      "     10       9.978900e+06      -1.237000e+03 |      256\n",
      "K-means terminated without convergence after 10 iterations (objv = 9.9789e6)\n",
      "  6.282619 seconds (767.95 M allocations: 19.080 GiB, 18.74% gc time, 0.60% compilation time)\n"
     ]
    },
    {
     "data": {
      "text/plain": [
       "1000000-element Vector{Int32}:\n",
       " 212\n",
       "  75\n",
       " 173\n",
       "   3\n",
       " 155\n",
       " 186\n",
       " 136\n",
       " 125\n",
       " 109\n",
       " 135\n",
       "  76\n",
       " 252\n",
       " 185\n",
       "   ⋮\n",
       " 106\n",
       " 252\n",
       " 188\n",
       "  47\n",
       "  53\n",
       "  16\n",
       "  97\n",
       "  77\n",
       " 210\n",
       "  12\n",
       " 146\n",
       " 241"
      ]
     },
     "execution_count": 4,
     "metadata": {},
     "output_type": "execute_result"
    }
   ],
   "source": [
    "using Clustering\n",
    "using BenchmarkTools\n",
    "\n",
    "function euclidean_mat(y, X, j) where T\n",
    "    res = zero(eltype(y))\n",
    "    @inbounds @fastmath @simd for k in eachindex(y)\n",
    "        partial = X[k, j] - y[k]\n",
    "        res += partial * partial\n",
    "    end\n",
    "    return res\n",
    "end\n",
    "\n",
    "function transform(X, R::KmeansResult)\n",
    "    n_features, n_examples = size(X)\n",
    "    cluster_assignments = Array{Int32, 1}(undef, n_examples)\n",
    "    Threads.@threads for n in 1:n_examples\n",
    "        min_dist = typemax(eltype(X))\n",
    "        cluster_assignment = Int32(0)\n",
    "        for (j,c) in enumerate(eachcol(R.centers))\n",
    "            dist = euclidean_mat(c, X, n)\n",
    "            if dist < min_dist\n",
    "                min_dist = dist\n",
    "                cluster_assignment = j\n",
    "            end\n",
    "        end\n",
    "        cluster_assignments[n] = cluster_assignment\n",
    "    end\n",
    "    return cluster_assignments\n",
    "end\n",
    "\n",
    "\n",
    "println('\\nExecution with $(nthreads())')\n",
    "n_features = 128\n",
    "n_examples = 1_000_000\n",
    "n_clusters = 256\n",
    "\n",
    "X = rand(Float32, n_features, n_examples)\n",
    "R = kmeans(X, n_clusters ; maxiter=10, display=:iter)\n",
    "@time transform(X,R)"
   ]
  },
  {
   "cell_type": "code",
   "execution_count": null,
   "id": "9e3c90e6",
   "metadata": {},
   "outputs": [],
   "source": []
  },
  {
   "cell_type": "code",
   "execution_count": null,
   "id": "9ef731e0",
   "metadata": {},
   "outputs": [],
   "source": []
  },
  {
   "cell_type": "code",
   "execution_count": null,
   "id": "b566d1fc",
   "metadata": {},
   "outputs": [],
   "source": []
  }
 ],
 "metadata": {
  "kernelspec": {
   "display_name": "Julia 1.8.0",
   "language": "julia",
   "name": "julia-1.8"
  },
  "language_info": {
   "file_extension": ".jl",
   "mimetype": "application/julia",
   "name": "julia",
   "version": "1.8.0"
  }
 },
 "nbformat": 4,
 "nbformat_minor": 5
}
