{
  "cells": [
    {
      "cell_type": "markdown",
      "source": [
        "# Seq2seq translation in Flux\n",
        "In this notebook, I share the code I wrote to make a seq2seq nmt-model (neural machine translation model) to translate simple english sentences to french.\n",
        "The code is written in Julia using Flux.\n",
        "\n",
        "### note:\n",
        "For some reason, when I train the model for some epochs, I get gibberish results.\n",
        "\n",
        "|Input (Eng)|Prediction (*Fr*)|Expected (Fr)|\n",
        "| - | - | - |\n",
        "|\"You are too skinny\"|\"Vous êtes ' que . . . . . . . .\"| \"Vous êtes trop maigre\"  |\n",
        "|\"He is painting a picture\"|\"Il est est de . . . . . . . .\"|\"Il est en train de peindre un tableau\"|\n",
        "| ... | ... | ... |\n",
        "If you know what I'm doing wrong, please do let me know!"
      ],
      "metadata": {
        "inputHidden": false,
        "outputHidden": false
      }
    },
    {
      "cell_type": "markdown",
      "source": [
        "# The data\n",
        "The english-french sentence pairs dataset is found on this website: http://www.manythings.org/anki/fra-eng.zip.  \n",
        "For the data preparation, I mainly follow the official Pytorch tutorial on seq2seq models: https://pytorch.org/tutorials/intermediate/seq2seq_translation_tutorial.html.\n",
        "\n",
        "We create a `Lang` struct which holds two dictionaries to convert words to indices and back. Every `Lang` instance gets instantiated with a SOS-(start of sentence), EOS(end of sentence)-, UNK(unknown word) and PAD(padding)-token.  \n",
        "Padding is necessary because we will be training in batches of differently sized sentences.\n",
        "\n\n",
        "*Since the data is relatively small (a lot of sentences get filtered out), we keep all words instead of discarding scarcely used words.  \n",
        "This means the `UNK` token will not be used.*\n",
        "\nThe function `readLangs` takes the text file, splits up the sentences (which are tab-delimited) and intantiates two new languages (lang1 and lang2). and assigns them to two newly created languages."
      ],
      "metadata": {}
    },
    {
      "cell_type": "code",
      "source": [
        "using CuArrays, Flux, Statistics, Random\n",
        "\n",
        "FILE = \"D:/downloads/fra-eng/fra.txt\"\n",
        "\n",
        "mutable struct Lang\n",
        "    name\n",
        "    word2index\n",
        "    word2count\n",
        "    index2word\n",
        "    n_words\n",
        "end\n",
        "\n",
        "Lang(name) = Lang(\n",
        "    name,\n",
        "    Dict{String, Int}(),\n",
        "    Dict{String, Int}(),\n",
        "    Dict{Int, String}(1=>\"SOS\", 2=>\"EOS\", 3=>\"UNK\", 4=>\"PAD\"),\n",
        "    4)\n",
        "\n",
        "function (l::Lang)(sentence::String)\n",
        "    for word in split(sentence, \" \")\n",
        "            if word ∉ keys(l.word2index)\n",
        "                l.word2index[word] = l.n_words + 1\n",
        "                l.word2count[word] = 1\n",
        "                l.index2word[l.n_words + 1] = word\n",
        "                l.n_words += 1\n",
        "            else\n",
        "                l.word2count[word] += 1\n",
        "            end\n",
        "    end\n",
        "end\n",
        "\n",
        "function normalizeString(s)\n",
        "    s = strip(lowercase(s))\n",
        "    s = replace(s, r\"([.!?,])\"=>s\" \\1\")\n",
        "    s = replace(s, \"'\"=>\" ' \")\n",
        "    return s\n",
        "end\n",
        "\n",
        "function readLangs(lang1, lang2; rev=false)\n",
        "    println(\"Reading lines...\")\n",
        "    lines = readlines(FILE)\n",
        "    pairs = [normalizeString.(pair) for pair in split.(lines, \"\\t\")]\n",
        "    if rev\n",
        "        pairs = reverse.(pairs)\n",
        "        input_lang = Lang(lang2)\n",
        "        output_lang = Lang(lang1)\n",
        "    else\n",
        "        input_lang = Lang(lang1)\n",
        "        output_lang = Lang(lang2)\n",
        "    end\n",
        "    return(input_lang, output_lang, pairs)\n",
        "end"
      ],
      "outputs": [
        {
          "output_type": "execute_result",
          "execution_count": 1,
          "data": {
            "text/plain": [
              "readLangs (generic function with 1 method)"
            ]
          },
          "metadata": {}
        }
      ],
      "execution_count": 1,
      "metadata": {
        "collapsed": false,
        "inputHidden": false,
        "outputHidden": false
      }
    },
    {
      "cell_type": "markdown",
      "source": [
        "As suggested in the Pytorch tutorial, we create a function to filter out sentences that don't start with `english_prefixes` (\"i am\", \"i'm\", \"you are\"...), as well as sentences that exceed the `MAX_LENGTH` (which is set to 10).\n",
        "\n",
        "The function `prepareData` takes the names of two languages and creates these language instances as well as the sentence pairs by calling `readLangs`.  \n",
        "After the sentence pairs get filtered (with `filterPair`), every unique word in a sentence get's added to the corresponding language's vocabulary (`word2index`, `index2word`, `n_words`) while every additional instance of a word increments `n_words` by 1.\n",
        "\nSentences from the input language are added to `xs`, target sentences are added to `ys`. Finally, inputs (`xs`) and targets (`ys`) are shuffled."
      ],
      "metadata": {}
    },
    {
      "cell_type": "code",
      "source": [
        "MAX_LENGTH = 10\n",
        "\n",
        "eng_prefixes = [\n",
        "    \"i am \", \"i ' m \",\n",
        "    \"he is \", \"he ' s \",\n",
        "    \"she is \", \"she ' s \",\n",
        "    \"you are \", \"you ' re \",\n",
        "    \"we are \", \"we ' re \",\n",
        "    \"they are \", \"they ' re \"]\n",
        "        \n",
        "function filterPair(pair)\n",
        "    return(false ∉ (length.(split.(pair, \" \")) .<= MAX_LENGTH) && true ∈ (startswith.(pair[1], eng_prefixes)))\n",
        "end\n",
        "\n",
        "function prepareData(lang1, lang2; rev=false)\n",
        "    input_lang, output_lang, pairs = readLangs(lang1, lang2; rev=rev)\n",
        "    println(\"Read $(length(pairs)) sentence pairs.\")\n",
        "    pairs = [pair for pair in pairs if filterPair(pair)]\n",
        "    println(\"Trimmed to $(length(pairs)) sentence pairs.\\n\")\n",
        "    xs = []\n",
        "    ys = []\n",
        "    for pair in pairs\n",
        "        push!(xs, pair[1])\n",
        "        push!(ys, pair[2])\n",
        "    end\n",
        "    println(\"Counting words...\")\n",
        "    for pair in pairs\n",
        "        input_lang(pair[2])\n",
        "        output_lang(pair[1])\n",
        "    end\n",
        "    println(\"Counted words:\")\n",
        "    println(\"• \", input_lang.name, \": \", input_lang.n_words)\n",
        "    println(\"• \", output_lang.name, \": \", output_lang.n_words)\n",
        "    return(input_lang, output_lang, xs, ys)\n",
        "end\n",
        "\n",
        "fr, eng, xs, ys = prepareData(\"fr\", \"eng\")\n",
        "indices = shuffle([1:length(xs)...])\n",
        "xs = xs[indices]\n",
        "ys = ys[indices];"
      ],
      "outputs": [
        {
          "output_type": "stream",
          "name": "stdout",
          "text": [
            "Reading lines...\n",
            "Read 154883 sentence pairs.\n",
            "Trimmed to 11645 sentence pairs.\n",
            "\n",
            "Counting words...\n",
            "Counted words:\n",
            "• fr: 4831\n",
            "• eng: 3047\n"
          ]
        }
      ],
      "execution_count": 2,
      "metadata": {
        "collapsed": false,
        "inputHidden": false,
        "outputHidden": false
      }
    },
    {
      "cell_type": "markdown",
      "source": [
        "The function `indexesFromSentence` takes a language's `word2index` and maps all the words in a sentence to a index, later this index will get used to get the word's embedding. Note that, at the end of every sentence, the `EOS`-index (2) gets added, this is for the model to know when to stop predicting during inference. \n",
        "\n",
        "To make batches for mini-batch training, the data (`[indexesFromSentence.([eng], xs), indexesFromSentence.([fr], ys)]`) gets split in chunks of `BATCH_SIZE`. Since sentences in a chunk often have different lengths, the `PAD`-index (4), gets added to the end of sentences to make them as long as the longest sentence of the chunk.\n",
        "\n",
        "To be able to easily pass a chunk to an RNN, the n<sup>th</sup> word of every sentence in the chunk get placed next to each other in an array. Also, all the words get OneHot encoded.\n",
        "\n![batching](./images/background.png)"
      ],
      "metadata": {}
    },
    {
      "cell_type": "code",
      "source": [
        "BATCH_SIZE = 32\n",
        "\n",
        "indexesFromSentence(lang, sentence) = append!(get.(Ref(lang.word2index), split(lowercase(sentence), \" \"), 3), 2)\n",
        "\n",
        "function batch(data, batch_size, voc_size; gpu=true)\n",
        "    chunks = Iterators.partition(data, batch_size)\n",
        "    batches = []\n",
        "    for chunk in chunks\n",
        "        max_length = maximum(length.(chunk))\n",
        "        chunk = map(sentence->append!(sentence, fill(4, max_length-length(sentence))), chunk)\n",
        "        chunk = hcat(reshape.(chunk, :, 1)...)\n",
        "        batch = []\n",
        "        for i in 1:size(chunk, 1)\n",
        "            if gpu\n",
        "                push!(batch, cu(Flux.onehotbatch(chunk[i, :], [1:voc_size...])))\n",
        "            else\n",
        "                push!(batch, Flux.onehotbatch(chunk[i, :], [1:voc_size...]))\n",
        "            end\n",
        "        end\n",
        "        push!(batches, batch)\n",
        "    end\n",
        "    return(batches)\n",
        "end\n",
        "\nx, y = batch.([indexesFromSentence.([eng], xs), indexesFromSentence.([fr], ys)], [BATCH_SIZE], [eng.n_words, fr.n_words]; gpu=true);"
      ],
      "outputs": [],
      "execution_count": 3,
      "metadata": {
        "collapsed": false,
        "inputHidden": false,
        "outputHidden": false
      }
    },
    {
      "cell_type": "markdown",
      "source": [
        "# The Model\n",
        "\n",
        "For the model, we're using a **encoder-decoder** architecture.\n",
        "![encoder-decoder](https://smerity.com/media/images/articles/2016/gnmt_arch_attn.svg)\n",
        "*image source: https://smerity.com/articles/2016/google_nmt_arch.html*\n",
        "\n",
        "### High level overview\n",
        "The **encoder** takes the OneHot-encoded words and uses the embedding layer to get their embedding, a multidimensional-representation of that word. Next, the words get passed through a RNN (in our case a GRU). For each word, the RNN spits out a state-vector (encoder-outputs).\n",
        "\nThe job of the **decoder** is to take the output of the encoder and mold it into a correct translation of the original sentence. The **attention** layer acts as a guide for the decoder. Every timestep (every time the decoder is to predict a word), it takes all the encoder-outputs and creates **one** state vector (the context vector) with the most relevant information for that particular timestep."
      ],
      "metadata": {}
    },
    {
      "cell_type": "code",
      "source": [
        "# some constants to be used for the model\n",
        "HIDDEN = 128\n",
        "LEARNING_RATE = 0.1\n",
        "DROPOUT = 0.2;"
      ],
      "outputs": [],
      "execution_count": 4,
      "metadata": {
        "collapsed": false,
        "inputHidden": false,
        "outputHidden": false
      }
    },
    {
      "cell_type": "markdown",
      "source": [
        "For the encoder, we're using a bidirectional GRU, the input is read from front to back as well as from back to front. This should help for a more robust `encoder_output`.  \n",
        "The `Flux.@treelike` macro makes sure all the parameters are recognized by the optimizer to optimise the values."
      ],
      "metadata": {}
    },
    {
      "cell_type": "code",
      "source": [
        "struct Encoder\n",
        "    embedding\n",
        "    rnn\n",
        "    out\n",
        "end\n",
        "Encoder(voc_size::Integer; h_size::Integer=HIDDEN) = Encoder(\n",
        "    param(Flux.glorot_uniform(h_size, voc_size)),\n",
        "    GRU(h_size, h_size),\n",
        "    Dense(h_size, h_size))\n",
        "function (e::Encoder)(x; dropout=0)\n",
        "    x = map(x->Dropout(dropout)(e.embedding*x), x)\n",
        "    enc_outputs = e.rnn.(x)\n",
        "    h = e.out(enc_outputs[end])\n",
        "    return(enc_outputs, h)\n",
        "end\n",
        "Flux.@treelike Encoder"
      ],
      "outputs": [],
      "execution_count": 5,
      "metadata": {
        "collapsed": false,
        "inputHidden": false,
        "outputHidden": false
      }
    },
    {
      "cell_type": "markdown",
      "source": [
        "The decoder takes the word it predicted in the previous timestep as well the `encoder_outputs`. The context vector gets created by passing these `encoder_outputs` as well as the current state of the decoder's RNN to the attention layer. Finally, the context vector is concatenated with the word of the previous timestep to predict the word of the current timestep.\n",
        "\n*During the first timestep, the decoder doesn't have acces to a previously predicted word. To combat this, a `SOS`-token is provided*"
      ],
      "metadata": {}
    },
    {
      "cell_type": "code",
      "source": [
        "struct Decoder\n",
        "    embedding\n",
        "    attention\n",
        "    rnn\n",
        "    output\n",
        "end\n",
        "Decoder(h_size, voc_size) = Decoder(\n",
        "    param(Flux.glorot_uniform(h_size, voc_size)),\n",
        "    Attention(h_size),\n",
        "    GRU(h_size*2, h_size),\n",
        "    Dense(h_size, voc_size, relu))\n",
        "function (d::Decoder)(x, enc_outputs; dropout=0)\n",
        "    x = d.embedding * x\n",
        "    x = Dropout(dropout)(x)\n",
        "    decoder_state = d.rnn.state\n",
        "    context = d.attention(enc_outputs, decoder_state)\n",
        "    x = d.rnn([x; context])\n",
        "    x = softmax(d.output(x))\n",
        "    return(x)\n",
        "end\n",
        "Flux.@treelike Decoder"
      ],
      "outputs": [],
      "execution_count": 6,
      "metadata": {
        "collapsed": false,
        "inputHidden": false,
        "outputHidden": false
      }
    },
    {
      "cell_type": "markdown",
      "source": [
        "For the attention mechanism, we follow the implementation from the paper \"Grammar as a Foreign Language\" (https://arxiv.org/pdf/1412.7449.pdf).\n",
        "\n",
        "Esentially, the encoder outputs and the hidden state of the decoder are used to a context vector which contains all the necessary information to decode into a translation during a particular timestep.  \n",
        "The paper shows the following equations:\n",
        "\n",
        "$ u_i^t = v^T tanh(W_1'h_i+W_2'd_t) $\n",
        "\n",
        "$ a_i^t = softmax(u_i^t) $\n",
        "\n",
        "$ \\sum_{i=1}^{T_a} a_i^t h_i$\n",
        "\nWhere the encoder hidden states are denoted `(h1, . . . , hTA )` and we denote the hidden states of the decoder by `(d1, . . . , dTB )`"
      ],
      "metadata": {}
    },
    {
      "cell_type": "code",
      "source": [
        "struct Attention\n",
        "    W1\n",
        "    W2\n",
        "    v\n",
        "end\n",
        "Attention(h_size) = Attention(\n",
        "    Dense(h_size, h_size),\n",
        "    Dense(h_size, h_size),\n",
        "    param(Flux.glorot_uniform(1, h_size)))\n",
        "function (a::Attention)(enc_outputs, d)\n",
        "    U = [a.v*tanh.(x) for x in a.W1.(enc_outputs).+[a.W2(d)]]\n",
        "    A = softmax(vcat(U...))\n",
        "    out = sum([gpu(collect(A[i, :]')) .* h for (i, h) in enumerate(enc_outputs)])\n",
        "end\n",
        "Flux.@treelike Attention"
      ],
      "outputs": [],
      "execution_count": 7,
      "metadata": {
        "collapsed": false,
        "inputHidden": false,
        "outputHidden": false
      }
    },
    {
      "cell_type": "code",
      "source": [
        "testEncoder = Encoder(eng.n_words)|>gpu\n",
        "testDecoder = Decoder(HIDDEN, fr.n_words)|>gpu;"
      ],
      "outputs": [],
      "execution_count": 8,
      "metadata": {
        "collapsed": false,
        "inputHidden": false,
        "outputHidden": false
      }
    },
    {
      "cell_type": "markdown",
      "source": [
        "The model function is made to return the loss when the input and the target are provided.  \n",
        "The hidden states of the RNN from both the encoder as well as the decoder are reset, by doing this you make sure no information of previous sentences is remembered.\n",
        "\n",
        "The encoder_ouputs are made by passing the input through the encoder, the initial decoder input is made and the decoder's rnn state is initialized with the last encoder output.  \n",
        "The decoder has to predict `max_length` words with `max_length` being the length of the longes sentence.\n",
        "\n",
        "First off, the model decides whether teacher forcing will be used this timestep. Teacher forcing means instead of using the decoder output as the next timestep's decoder input, the correct input is used. Teacher forcing is especially useful in the beginning of training since decoder outputs won't make sense.\n",
        "\nEvery timestep, the decoder's prediction as well as the correct target are passed to a loss function. All the losses of all timesteps are summed up and returned."
      ],
      "metadata": {}
    },
    {
      "cell_type": "code",
      "source": [
        "function model(encoder::Encoder, decoder::Decoder, x, y; teacher_forcing = 0.5, dropout=DROPOUT, voc_size=fr.n_words)\n",
        "    total_loss = 0\n",
        "    max_length = length(y)\n",
        "    batch_size = size(x[1], 2)\n",
        "    Flux.reset!.([encoder, decoder])\n",
        "    enc_outputs, h = encoder(x; dropout=dropout)\n",
        "    decoder_input = Flux.onehotbatch(ones(batch_size), [1:voc_size...])\n",
        "    decoder.rnn.state = h\n",
        "    for i in 1:max_length\n",
        "        use_teacher_forcing = rand() < teacher_forcing\n",
        "        decoder_output = decoder(decoder_input, enc_outputs; dropout=dropout)\n",
        "        total_loss += loss(decoder_output, y[i])\n",
        "        if use_teacher_forcing\n",
        "            decoder_input = y[i]\n",
        "        else\n",
        "            decoder_input = Flux.onehotbatch(Flux.onecold(decoder_output.data), [1:voc_size...])\n",
        "        end\n",
        "    end\n",
        "    return(total_loss)\n",
        "end\n",
        "\nmodel(x, y) = model(testEncoder, testDecoder, x, y; dropout = DROPOUT)"
      ],
      "outputs": [
        {
          "output_type": "execute_result",
          "execution_count": 9,
          "data": {
            "text/plain": [
              "model (generic function with 2 methods)"
            ]
          },
          "metadata": {}
        }
      ],
      "execution_count": 9,
      "metadata": {
        "collapsed": false,
        "inputHidden": false,
        "outputHidden": false
      }
    },
    {
      "cell_type": "markdown",
      "source": [
        "When the target is not provided to the `model` function, the model returns a prediction instead of a loss value.\n",
        "\n\n",
        "*Note that, when the model is trained, the loop could be set to run indefinitely because the loop will break when an `EOS`-token is predicted.\n",
        "I've set the loop to run for an arbitrary amount of timesteps (in this case 12) because the model doesn't seem to be able to learn to predict an `EOS token`*"
      ],
      "metadata": {}
    },
    {
      "cell_type": "code",
      "source": [
        "function model(encoder::Encoder, decoder::Decoder, x; reset=true, voc_size=fr.n_words)\n",
        "    result = []\n",
        "    if reset Flux.reset!.([encoder, decoder]) end\n",
        "    enc_outputs, h = encoder(x)\n",
        "    decoder_input = Flux.onehot(1, [1:voc_size...])\n",
        "    decoder.rnn.state = h\n",
        "    for i in 1:12\n",
        "        decoder_output = Flux.onecold(decoder(decoder_input, enc_outputs))\n",
        "        if decoder_output[1] == 2 break end\n",
        "        push!(result, decoder_output...)\n",
        "    end\n",
        "    return(result)\n",
        "end"
      ],
      "outputs": [
        {
          "output_type": "execute_result",
          "execution_count": 10,
          "data": {
            "text/plain": [
              "model (generic function with 3 methods)"
            ]
          },
          "metadata": {}
        }
      ],
      "execution_count": 10,
      "metadata": {
        "collapsed": false,
        "inputHidden": false,
        "outputHidden": false
      }
    },
    {
      "cell_type": "markdown",
      "source": [
        "The `loss` function expects a probability distribution over all possible words in the vocabulary, this gets accounted for by the softmax layer in the decoder. The loss function itself is crossentropy (a.k.a. negative-log-likelihood).  \n",
        "We pass an vector of ones, except for the `PAD`-index (4) as weight to the loss function. This way the model will disregard any predictions that should have been PAD, since padding only occurs after the sentence has ended.\n",
        "\n\nFor the optimizer, we use (stochastic) gradient descent."
      ],
      "metadata": {}
    },
    {
      "cell_type": "code",
      "source": [
        "lossmask = ones(fr.n_words)|>gpu\n",
        "lossmask[4] = 0\n",
        "\n",
        "loss(logits, target) = Flux.crossentropy(logits, target; weight=lossmask)\n",
        "\nopt = SGD(params(testEncoder, testDecoder), LEARNING_RATE)"
      ],
      "outputs": [
        {
          "output_type": "execute_result",
          "execution_count": 11,
          "data": {
            "text/plain": [
              "#43 (generic function with 1 method)"
            ]
          },
          "metadata": {}
        }
      ],
      "execution_count": 11,
      "metadata": {
        "collapsed": false,
        "inputHidden": false,
        "outputHidden": false
      }
    },
    {
      "cell_type": "markdown",
      "source": [
        "The data (`x` and `y`) gets passed to `partitionTrainTest` to split the data in a train and a test set.\n",
        "\nFinally the model is trained for a number of epochs. Every epoch, the loss on the test set gets printed."
      ],
      "metadata": {}
    },
    {
      "cell_type": "code",
      "source": [
        "function partitionTrainTest(x, y, at)\n",
        "    n = length(x)\n",
        "    idx = shuffle(1:n)\n",
        "    train_idx = view(idx, 1:floor(Int, at*n))\n",
        "    test_idx = view(idx, (floor(Int, at*n)+1):n)\n",
        "    train_x, test_x = x[train_idx,:], x[test_idx,:]\n",
        "    train_y, test_y = y[train_idx,:], y[test_idx,:]\n",
        "    return(train_x, train_y, test_x, test_y)\n",
        "end\n",
        "\ntrain_x, train_y, test_x, test_y = partitionTrainTest(x, y, 0.90);"
      ],
      "outputs": [],
      "execution_count": 12,
      "metadata": {
        "collapsed": false,
        "inputHidden": false,
        "outputHidden": false
      }
    },
    {
      "cell_type": "code",
      "source": [
        "EPOCHS = 15\n",
        "\n",
        "for i in 1:EPOCHS\n",
        "    Flux.train!(model, zip(train_x, train_y), opt)\n",
        "    println(\"loss: \", mean(model.(test_x, test_y)).data)\n",
        "end"
      ],
      "outputs": [
        {
          "output_type": "stream",
          "name": "stdout",
          "text": [
            "loss: 35.320324\n",
            "loss: 32.044178\n",
            "loss: 28.391516\n",
            "loss: 26.401367\n",
            "loss: 25.384628\n",
            "loss: 24.43975\n",
            "loss: 23.611769\n",
            "loss: 23.245953\n",
            "loss: 22.702244\n",
            "loss: 22.537426\n",
            "loss: 22.585875\n",
            "loss: 21.784643\n",
            "loss: 21.623806\n",
            "loss: 20.975595\n",
            "loss: 20.913296\n"
          ]
        }
      ],
      "execution_count": 13,
      "metadata": {}
    },
    {
      "cell_type": "markdown",
      "source": [
        "The `predict` function takes an encoder, decoder and an english sentence. It converts the sentence into it's OneHot representation and passes it to the `model` function. The output gets converted back to a string and returned."
      ],
      "metadata": {}
    },
    {
      "cell_type": "code",
      "source": [
        "function predict(encoder, decoder, sentence::String)\n",
        "    sentence = normalizeString(sentence)\n",
        "    input = append!(get.(Ref(eng.word2index), split(lowercase(sentence), \" \"), 3), 2)\n",
        "    input = [Flux.onehot(word, [1:eng.n_words...]) for word in input]\n",
        "    output = model(encoder, decoder, input)\n",
        "    output = get.(Ref(fr.index2word), output, \"UNK\")\n",
        "    println(output)\n",
        "end"
      ],
      "outputs": [
        {
          "output_type": "execute_result",
          "execution_count": 14,
          "data": {
            "text/plain": [
              "predict (generic function with 1 method)"
            ]
          },
          "metadata": {}
        }
      ],
      "execution_count": 14,
      "metadata": {
        "collapsed": false,
        "inputHidden": false,
        "outputHidden": false
      }
    },
    {
      "cell_type": "code",
      "source": [
        "predict(testEncoder, testDecoder, \"she's doing her thing\")\n",
        "predict(testEncoder, testDecoder, \"you're too skinny\")\n",
        "predict(testEncoder, testDecoder, \"He is singing\")"
      ],
      "outputs": [
        {
          "output_type": "stream",
          "name": "stdout",
          "text": [
            "[\"elle\", \"est\", \"de\", \"au\", \".\", \".\", \".\", \".\", \".\", \".\", \".\", \".\"]\n",
            "[\"tu\", \"vous\", \"trop\", \"trop\", \".\", \".\", \".\", \".\", \".\", \".\", \".\", \".\"]\n",
            "[\"j\", \"va\", \"à\", \"le\", \".\", \".\", \".\", \".\", \".\", \".\", \".\", \".\"]\n"
          ]
        }
      ],
      "execution_count": 15,
      "metadata": {
        "collapsed": false,
        "inputHidden": false,
        "outputHidden": false
      }
    },
    {
      "cell_type": "markdown",
      "source": [
        "As you can see, when I run the model for 70 epochs, the results are quite underwhelming... Even though sentence subjects are mostly correct, most part of the translation does not make sense.\n",
        "\n",
        "If you have a look at the loss on the test set during these 70 epochs, you can clearly see the model seems to hit a barrier around 18.\n",
        "\n",
        "I'm not sure why this is happening and I'd love to know! If you've got an idea on how to improve/fix this model, definitely let me know.\n",
        "\n",
        "Thanks\n",
        "![encoder-decoder](./images/grafiek.png)"
      ],
      "metadata": {}
    },
    {
      "cell_type": "code",
      "source": [],
      "outputs": [],
      "execution_count": null,
      "metadata": {}
    }
  ],
  "metadata": {
    "kernel_info": {
      "name": "julia-1.0"
    },
    "kernelspec": {
      "name": "julia-1.0",
      "language": "julia",
      "display_name": "Julia 1.0.1"
    },
    "language_info": {
      "file_extension": ".jl",
      "name": "julia",
      "mimetype": "application/julia",
      "version": "1.0.1"
    },
    "nteract": {
      "version": "0.12.3"
    }
  },
  "nbformat": 4,
  "nbformat_minor": 4
}
