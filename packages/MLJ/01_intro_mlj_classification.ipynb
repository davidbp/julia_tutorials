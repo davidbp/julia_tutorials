{
 "cells": [
  {
   "cell_type": "code",
   "execution_count": null,
   "metadata": {},
   "outputs": [],
   "source": []
  },
  {
   "cell_type": "code",
   "execution_count": 1,
   "metadata": {},
   "outputs": [
    {
     "name": "stdout",
     "output_type": "stream",
     "text": [
      "┌\u001b[0m─────────────\u001b[0m┬\u001b[0m────────────\u001b[0m┬\u001b[0m─────────────\u001b[0m┬\u001b[0m────────────\u001b[0m┬\u001b[0m───────────────────────\u001b[0m ⋯\n",
      "│\u001b[0m\u001b[1m SepalLength \u001b[0m│\u001b[0m\u001b[1m SepalWidth \u001b[0m│\u001b[0m\u001b[1m PetalLength \u001b[0m│\u001b[0m\u001b[1m PetalWidth \u001b[0m│\u001b[0m\u001b[1m Species               \u001b[0m ⋯\n",
      "│\u001b[0m\u001b[90m Float64     \u001b[0m│\u001b[0m\u001b[90m Float64    \u001b[0m│\u001b[0m\u001b[90m Float64     \u001b[0m│\u001b[0m\u001b[90m Float64    \u001b[0m│\u001b[0m\u001b[90m CategoricalString{UInt\u001b[0m ⋯\n",
      "│\u001b[0m\u001b[90m Continuous  \u001b[0m│\u001b[0m\u001b[90m Continuous \u001b[0m│\u001b[0m\u001b[90m Continuous  \u001b[0m│\u001b[0m\u001b[90m Continuous \u001b[0m│\u001b[0m\u001b[90m Multiclass{3}         \u001b[0m ⋯\n",
      "├\u001b[0m─────────────\u001b[0m┼\u001b[0m────────────\u001b[0m┼\u001b[0m─────────────\u001b[0m┼\u001b[0m────────────\u001b[0m┼\u001b[0m───────────────────────\u001b[0m ⋯\n",
      "│\u001b[0m 5.1         \u001b[0m│\u001b[0m 3.5        \u001b[0m│\u001b[0m 1.4         \u001b[0m│\u001b[0m 0.2        \u001b[0m│\u001b[0m setosa                \u001b[0m ⋯\n",
      "│\u001b[0m 4.9         \u001b[0m│\u001b[0m 3.0        \u001b[0m│\u001b[0m 1.4         \u001b[0m│\u001b[0m 0.2        \u001b[0m│\u001b[0m setosa                \u001b[0m ⋯\n",
      "│\u001b[0m 4.7         \u001b[0m│\u001b[0m 3.2        \u001b[0m│\u001b[0m 1.3         \u001b[0m│\u001b[0m 0.2        \u001b[0m│\u001b[0m setosa                \u001b[0m ⋯\n",
      "└\u001b[0m─────────────\u001b[0m┴\u001b[0m────────────\u001b[0m┴\u001b[0m─────────────\u001b[0m┴\u001b[0m────────────\u001b[0m┴\u001b[0m───────────────────────\u001b[0m ⋯\n"
     ]
    }
   ],
   "source": [
    "using RDatasets, MLJ\n",
    "iris = dataset(\"datasets\", \"iris\")\n",
    "\n",
    "first(iris, 3) |> pretty"
   ]
  },
  {
   "cell_type": "code",
   "execution_count": 63,
   "metadata": {
    "scrolled": true
   },
   "outputs": [
    {
     "name": "stderr",
     "output_type": "stream",
     "text": [
      "┌ Info: A model type \"KNNClassifier\" is already loaded. \n",
      "│ No new code loaded. \n",
      "└ @ MLJModels /Users/david/.julia/packages/MLJModels/ayF3A/src/loading.jl:43\n"
     ]
    },
    {
     "data": {
      "text/plain": [
       "KNNClassifier(K = 5,\n",
       "              algorithm = :kdtree,\n",
       "              metric = Distances.Euclidean(0.0),\n",
       "              leafsize = 10,\n",
       "              reorder = true,\n",
       "              weights = :uniform,)\u001b[34m @ 1…44\u001b[39m"
      ]
     },
     "execution_count": 63,
     "metadata": {},
     "output_type": "execute_result"
    }
   ],
   "source": [
    "@load KNNClassifier"
   ]
  },
  {
   "cell_type": "code",
   "execution_count": 2,
   "metadata": {
    "scrolled": true
   },
   "outputs": [
    {
     "name": "stdout",
     "output_type": "stream",
     "text": [
      "┌\u001b[0m─────────────\u001b[0m┬\u001b[0m────────────\u001b[0m┬\u001b[0m─────────────\u001b[0m┬\u001b[0m────────────\u001b[0m┐\u001b[0m\n",
      "│\u001b[0m\u001b[1m SepalLength \u001b[0m│\u001b[0m\u001b[1m SepalWidth \u001b[0m│\u001b[0m\u001b[1m PetalLength \u001b[0m│\u001b[0m\u001b[1m PetalWidth \u001b[0m│\u001b[0m\n",
      "│\u001b[0m\u001b[90m Float64     \u001b[0m│\u001b[0m\u001b[90m Float64    \u001b[0m│\u001b[0m\u001b[90m Float64     \u001b[0m│\u001b[0m\u001b[90m Float64    \u001b[0m│\u001b[0m\n",
      "│\u001b[0m\u001b[90m Continuous  \u001b[0m│\u001b[0m\u001b[90m Continuous \u001b[0m│\u001b[0m\u001b[90m Continuous  \u001b[0m│\u001b[0m\u001b[90m Continuous \u001b[0m│\u001b[0m\n",
      "├\u001b[0m─────────────\u001b[0m┼\u001b[0m────────────\u001b[0m┼\u001b[0m─────────────\u001b[0m┼\u001b[0m────────────\u001b[0m┤\u001b[0m\n",
      "│\u001b[0m 5.1         \u001b[0m│\u001b[0m 3.5        \u001b[0m│\u001b[0m 1.4         \u001b[0m│\u001b[0m 0.2        \u001b[0m│\u001b[0m\n",
      "└\u001b[0m─────────────\u001b[0m┴\u001b[0m────────────\u001b[0m┴\u001b[0m─────────────\u001b[0m┴\u001b[0m────────────\u001b[0m┘\u001b[0m\n"
     ]
    }
   ],
   "source": [
    "y, X = unpack(iris, ==(:Species), colname -> true)\n",
    "first(X, 1) |> pretty"
   ]
  },
  {
   "cell_type": "code",
   "execution_count": 3,
   "metadata": {},
   "outputs": [],
   "source": [
    "X, y = @load_iris;"
   ]
  },
  {
   "cell_type": "code",
   "execution_count": 4,
   "metadata": {},
   "outputs": [
    {
     "name": "stdout",
     "output_type": "stream",
     "text": [
      "AdaBoostClassifier            (ScikitLearn)\n",
      "BaggingClassifier             (ScikitLearn)\n",
      "BayesianLDA                   (MultivariateStats)\n",
      "BayesianLDA                   (ScikitLearn)\n",
      "BayesianQDA                   (ScikitLearn)\n",
      "BayesianSubspaceLDA           (MultivariateStats)\n",
      "ConstantClassifier            (MLJModels)\n",
      "DecisionTreeClassifier        (DecisionTree)\n",
      "DummyClassifier               (ScikitLearn)\n",
      "ExtraTreesClassifier          (ScikitLearn)\n",
      "GaussianNBClassifier          (NaiveBayes)\n",
      "GaussianNBClassifier          (ScikitLearn)\n",
      "GaussianProcessClassifier     (ScikitLearn)\n",
      "GradientBoostingClassifier    (ScikitLearn)\n",
      "KNNClassifier                 (NearestNeighbors)\n",
      "KNeighborsClassifier          (ScikitLearn)\n",
      "LDA                           (MultivariateStats)\n",
      "LogisticCVClassifier          (ScikitLearn)\n",
      "LogisticClassifier            (MLJLinearModels)\n",
      "LogisticClassifier            (ScikitLearn)\n",
      "MultinomialClassifier         (MLJLinearModels)\n",
      "ProbabilisticSGDClassifier    (ScikitLearn)\n",
      "RandomForestClassifier        (ScikitLearn)\n",
      "SubspaceLDA                   (MultivariateStats)\n",
      "XGBoostClassifier             (XGBoost)\n"
     ]
    }
   ],
   "source": [
    "for m in models(matching(X, y))\n",
    "    if m.prediction_type == :probabilistic\n",
    "        println(rpad(m.name, 30), \"($(m.package_name))\")\n",
    "    end\n",
    "end"
   ]
  },
  {
   "cell_type": "code",
   "execution_count": 5,
   "metadata": {},
   "outputs": [
    {
     "data": {
      "text/plain": [
       "DecisionTreeClassifier(pruning_purity = 1.0,\n",
       "                       max_depth = -1,\n",
       "                       min_samples_leaf = 1,\n",
       "                       min_samples_split = 2,\n",
       "                       min_purity_increase = 0.0,\n",
       "                       n_subfeatures = 0,\n",
       "                       display_depth = 5,\n",
       "                       post_prune = false,\n",
       "                       merge_purity_threshold = 0.9,\n",
       "                       pdf_smoothing = 0.05,)\u001b[34m @ 1…60\u001b[39m"
      ]
     },
     "execution_count": 5,
     "metadata": {},
     "output_type": "execute_result"
    }
   ],
   "source": [
    "@load DecisionTreeClassifier\n",
    "tree_model = DecisionTreeClassifier()"
   ]
  },
  {
   "cell_type": "code",
   "execution_count": 6,
   "metadata": {},
   "outputs": [
    {
     "data": {
      "text/plain": [
       "\u001b[34mMachine{DecisionTreeClassifier} @ 3…49\u001b[39m\n"
      ]
     },
     "execution_count": 6,
     "metadata": {},
     "output_type": "execute_result"
    }
   ],
   "source": [
    "tree = machine(tree_model, X, y)"
   ]
  },
  {
   "cell_type": "code",
   "execution_count": 7,
   "metadata": {},
   "outputs": [
    {
     "data": {
      "text/plain": [
       "([82, 39, 62, 18, 79, 87, 144, 100, 85, 106  …  135, 50, 74, 149, 104, 130, 83, 61, 71, 36], [64, 41, 121, 19, 55, 77, 111, 91, 4, 124  …  42, 45, 137, 23, 35, 142, 26, 80, 37, 92])"
      ]
     },
     "execution_count": 7,
     "metadata": {},
     "output_type": "execute_result"
    }
   ],
   "source": [
    "train, test = partition(eachindex(y), 0.7, shuffle=true)"
   ]
  },
  {
   "cell_type": "code",
   "execution_count": 8,
   "metadata": {},
   "outputs": [
    {
     "name": "stderr",
     "output_type": "stream",
     "text": [
      "┌ Info: Training \u001b[34mMachine{DecisionTreeClassifier} @ 3…49\u001b[39m.\n",
      "└ @ MLJ /Users/david/.julia/packages/MLJ/hcR5D/src/machines.jl:179\n"
     ]
    },
    {
     "data": {
      "text/plain": [
       "\u001b[34mMachine{DecisionTreeClassifier} @ 3…49\u001b[39m\n"
      ]
     },
     "execution_count": 8,
     "metadata": {},
     "output_type": "execute_result"
    }
   ],
   "source": [
    "fit!(tree, rows=train)"
   ]
  },
  {
   "cell_type": "code",
   "execution_count": 9,
   "metadata": {},
   "outputs": [
    {
     "name": "stdout",
     "output_type": "stream",
     "text": [
      "(tree_or_leaf = Decision Tree\n",
      "Leaves: 8\n",
      "Depth:  5, encoding = Dict(\"virginica\" => 0x03,\"setosa\" => 0x01,\"versicolor\" => 0x02))"
     ]
    }
   ],
   "source": [
    "fitted_params(tree) |> print"
   ]
  },
  {
   "cell_type": "code",
   "execution_count": 10,
   "metadata": {},
   "outputs": [
    {
     "name": "stdout",
     "output_type": "stream",
     "text": [
      "ŷ[1] = UnivariateFinite(setosa=>0.0161, versicolor=>0.968, virginica=>0.0161)\n"
     ]
    },
    {
     "data": {
      "text/plain": [
       "UnivariateFinite(setosa=>0.0161, versicolor=>0.968, virginica=>0.0161)"
      ]
     },
     "execution_count": 10,
     "metadata": {},
     "output_type": "execute_result"
    }
   ],
   "source": [
    "ŷ = predict(tree, rows=test)\n",
    "@show ŷ[1]"
   ]
  },
  {
   "cell_type": "markdown",
   "metadata": {},
   "source": [
    "We can get the probabilities of the classes given the input in a single vector as follows:"
   ]
  },
  {
   "cell_type": "code",
   "execution_count": 11,
   "metadata": {},
   "outputs": [
    {
     "data": {
      "text/plain": [
       "3-element Array{Float64,1}:\n",
       " 0.01612903225806452\n",
       " 0.9677419354838711 \n",
       " 0.01612903225806452"
      ]
     },
     "execution_count": 11,
     "metadata": {},
     "output_type": "execute_result"
    }
   ],
   "source": [
    "ŷ[1].prob_given_class.vals"
   ]
  },
  {
   "cell_type": "markdown",
   "metadata": {},
   "source": [
    "we can get"
   ]
  },
  {
   "cell_type": "code",
   "execution_count": 12,
   "metadata": {},
   "outputs": [
    {
     "name": "stdout",
     "output_type": "stream",
     "text": [
      "ȳ[1] = \"versicolor\"\n",
      "mode(ŷ[1]) = \"versicolor\"\n"
     ]
    },
    {
     "data": {
      "text/plain": [
       "CategoricalString{UInt8} \"versicolor\""
      ]
     },
     "execution_count": 12,
     "metadata": {},
     "output_type": "execute_result"
    }
   ],
   "source": [
    "ȳ = predict_mode(tree, rows=test)\n",
    "@show ȳ[1]\n",
    "@show mode(ŷ[1])"
   ]
  },
  {
   "cell_type": "code",
   "execution_count": 13,
   "metadata": {
    "scrolled": true
   },
   "outputs": [
    {
     "data": {
      "text/plain": [
       "0.1238"
      ]
     },
     "execution_count": 13,
     "metadata": {},
     "output_type": "execute_result"
    }
   ],
   "source": [
    "mce = mean(cross_entropy(ŷ, y[test]))\n",
    "round(mce, digits=4)"
   ]
  },
  {
   "cell_type": "markdown",
   "metadata": {},
   "source": [
    "### Ensembling trees"
   ]
  },
  {
   "cell_type": "code",
   "execution_count": 14,
   "metadata": {},
   "outputs": [],
   "source": [
    "train_ind, test_ind = partition(eachindex(y), 0.7);\n"
   ]
  },
  {
   "cell_type": "code",
   "execution_count": 15,
   "metadata": {},
   "outputs": [
    {
     "data": {
      "text/plain": [
       "DecisionTreeClassifier(pruning_purity = 1.0,\n",
       "                       max_depth = -1,\n",
       "                       min_samples_leaf = 1,\n",
       "                       min_samples_split = 2,\n",
       "                       min_purity_increase = 0.0,\n",
       "                       n_subfeatures = 0,\n",
       "                       display_depth = 5,\n",
       "                       post_prune = false,\n",
       "                       merge_purity_threshold = 0.9,\n",
       "                       pdf_smoothing = 0.05,)\u001b[34m @ 8…65\u001b[39m"
      ]
     },
     "execution_count": 15,
     "metadata": {},
     "output_type": "execute_result"
    }
   ],
   "source": [
    "tree_model = DecisionTreeClassifier()"
   ]
  },
  {
   "cell_type": "code",
   "execution_count": 70,
   "metadata": {},
   "outputs": [
    {
     "name": "stderr",
     "output_type": "stream",
     "text": [
      "┌ Info: Training \u001b[34mMachine{ProbabilisticEnsembleModel{DecisionTreeClassifier}} @ 5…43\u001b[39m.\n",
      "└ @ MLJ /Users/david/.julia/packages/MLJ/hcR5D/src/machines.jl:179\n"
     ]
    },
    {
     "name": "stdout",
     "output_type": "stream",
     "text": [
      "\n"
     ]
    },
    {
     "data": {
      "text/plain": [
       "\u001b[34mMachine{ProbabilisticEnsembleModel{DecisionTreeClassifier}} @ 5…43\u001b[39m\n"
      ]
     },
     "execution_count": 70,
     "metadata": {},
     "output_type": "execute_result"
    }
   ],
   "source": [
    "ensemble_model = EnsembleModel(atom=tree_model, n=100);\n",
    "ensemble_machine = machine(ensemble_model, X, y)\n",
    "fit!(ensemble_machine, rows=train_ind)"
   ]
  },
  {
   "cell_type": "code",
   "execution_count": 71,
   "metadata": {},
   "outputs": [
    {
     "data": {
      "text/plain": [
       "Machine{MLJ.ProbabilisticEnsembleModel{DecisionTreeClassifier}}"
      ]
     },
     "execution_count": 71,
     "metadata": {},
     "output_type": "execute_result"
    }
   ],
   "source": [
    "typeof(ensemble_machine)"
   ]
  },
  {
   "cell_type": "code",
   "execution_count": 69,
   "metadata": {},
   "outputs": [
    {
     "data": {
      "text/plain": [
       "MLJ.ProbabilisticEnsembleModel(atom = DecisionTreeClassifier(pruning_purity = 1.0,\n",
       "                                                             max_depth = -1,\n",
       "                                                             min_samples_leaf = 1,\n",
       "                                                             min_samples_split = 2,\n",
       "                                                             min_purity_increase = 0.0,\n",
       "                                                             n_subfeatures = 0,\n",
       "                                                             display_depth = 5,\n",
       "                                                             post_prune = false,\n",
       "                                                             merge_purity_threshold = 0.9,\n",
       "                                                             pdf_smoothing = 0.05,),\n",
       "                               atomic_weights = Float64[],\n",
       "                               bagging_fraction = 0.8,\n",
       "                               rng = Random._GLOBAL_RNG(),\n",
       "                               n = 100,\n",
       "                               acceleration = ComputationalResources.CPU1{Nothing}(nothing),\n",
       "                               out_of_bag_measure = Any[],)\u001b[34m @ 1…84\u001b[39m"
      ]
     },
     "execution_count": 69,
     "metadata": {},
     "output_type": "execute_result"
    }
   ],
   "source": [
    "ensemble_machine.model"
   ]
  },
  {
   "cell_type": "code",
   "execution_count": 72,
   "metadata": {},
   "outputs": [
    {
     "name": "stdout",
     "output_type": "stream",
     "text": [
      "accuracy:  0.9333333333333333"
     ]
    }
   ],
   "source": [
    "y_hat = predict_mode(ensemble_machine,X);\n",
    "print(\"accuracy:  $(mean(y_hat .== y))\")"
   ]
  },
  {
   "cell_type": "markdown",
   "metadata": {},
   "source": [
    "We can evaluate the model using crossvalidation as well"
   ]
  },
  {
   "cell_type": "code",
   "execution_count": 65,
   "metadata": {},
   "outputs": [
    {
     "name": "stderr",
     "output_type": "stream",
     "text": [
      "\u001b[33mEvaluating over 6 folds: 100%[=========================] Time: 0:00:00\u001b[39m\n"
     ]
    }
   ],
   "source": [
    "estimates = evaluate!(ensemble_machine, resampling=CV());"
   ]
  },
  {
   "cell_type": "code",
   "execution_count": 66,
   "metadata": {
    "scrolled": true
   },
   "outputs": [
    {
     "data": {
      "text/plain": [
       "NamedTuple{(:measure, :measurement, :per_fold, :per_observation),Tuple{Array{MLJBase.CrossEntropy,1},Array{Float64,1},Array{Array{Float64,1},1},Array{Array{Array{Float64,1},1},1}}}"
      ]
     },
     "execution_count": 66,
     "metadata": {},
     "output_type": "execute_result"
    }
   ],
   "source": [
    "typeof(estimates)"
   ]
  },
  {
   "cell_type": "code",
   "execution_count": 73,
   "metadata": {},
   "outputs": [
    {
     "data": {
      "text/plain": [
       "1-element Array{Array{Float64,1},1}:\n",
       " [-6.661338147750938e-16, -6.661338147750938e-16, 0.2470819879295552, 0.2064544281290846, Inf, 0.3042676587627781]"
      ]
     },
     "execution_count": 73,
     "metadata": {},
     "output_type": "execute_result"
    }
   ],
   "source": [
    "estimates.per_fold"
   ]
  },
  {
   "cell_type": "markdown",
   "metadata": {},
   "source": [
    "## Ensembling other models"
   ]
  },
  {
   "cell_type": "markdown",
   "metadata": {},
   "source": [
    "We can try the same with a different model "
   ]
  },
  {
   "cell_type": "code",
   "execution_count": 81,
   "metadata": {},
   "outputs": [
    {
     "name": "stdout",
     "output_type": "stream",
     "text": [
      "\n",
      "accuracy:  0.88"
     ]
    },
    {
     "name": "stderr",
     "output_type": "stream",
     "text": [
      "┌ Info: Training \u001b[34mMachine{ProbabilisticEnsembleModel{KNNClassifier}} @ 5…85\u001b[39m.\n",
      "└ @ MLJ /Users/david/.julia/packages/MLJ/hcR5D/src/machines.jl:179\n"
     ]
    }
   ],
   "source": [
    "knn_model        = KNNClassifier()\n",
    "ensemble_model   = EnsembleModel(atom=knn_model, n=100)\n",
    "ensemble_machine = machine(ensemble_model, X, y)\n",
    "fit!(ensemble_machine, rows=train_ind)\n",
    "y_hat = predict_mode(ensemble_machine,X);\n",
    "print(\"accuracy:  $(mean(y_hat .== y))\")"
   ]
  },
  {
   "cell_type": "code",
   "execution_count": 83,
   "metadata": {},
   "outputs": [
    {
     "data": {
      "text/plain": [
       "AbstractArray{#s62,1} where #s62<:Finite"
      ]
     },
     "execution_count": 83,
     "metadata": {},
     "output_type": "execute_result"
    }
   ],
   "source": [
    "target_scitype(knn_model)"
   ]
  },
  {
   "cell_type": "code",
   "execution_count": null,
   "metadata": {},
   "outputs": [],
   "source": []
  },
  {
   "cell_type": "code",
   "execution_count": null,
   "metadata": {},
   "outputs": [],
   "source": []
  },
  {
   "cell_type": "code",
   "execution_count": 78,
   "metadata": {},
   "outputs": [
    {
     "name": "stderr",
     "output_type": "stream",
     "text": [
      "WARNING: using MulticlassPerceptron.fit! in module Main conflicts with an existing identifier.\n",
      "WARNING: using MulticlassPerceptron.predict in module Main conflicts with an existing identifier.\n"
     ]
    }
   ],
   "source": [
    "using MulticlassPerceptron"
   ]
  },
  {
   "cell_type": "code",
   "execution_count": 79,
   "metadata": {},
   "outputs": [
    {
     "ename": "ErrorException",
     "evalue": "`atom` has unsupported target_scitype `Unknown`. ",
     "output_type": "error",
     "traceback": [
      "`atom` has unsupported target_scitype `Unknown`. ",
      "",
      "Stacktrace:",
      " [1] error(::String) at ./error.jl:33",
      " [2] clean!(::MLJ.DeterministicEnsembleModel{MulticlassPerceptronClassifier}) at /Users/david/.julia/packages/MLJ/hcR5D/src/ensembles.jl:207",
      " [3] #DeterministicEnsembleModel#213(::MulticlassPerceptronClassifier, ::Array{Float64,1}, ::Float64, ::Random._GLOBAL_RNG, ::Int64, ::ComputationalResources.CPU1{Nothing}, ::Array{Any,1}, ::Type{MLJ.DeterministicEnsembleModel}) at /Users/david/.julia/packages/MLJ/hcR5D/src/ensembles.jl:251",
      " [4] (::Core.var\"#kw#Type\")(::NamedTuple{(:n, :atom),Tuple{Int64,MulticlassPerceptronClassifier}}, ::Type{MLJ.DeterministicEnsembleModel}) at ./none:0",
      " [5] #EnsembleModel#215(::Base.Iterators.Pairs{Symbol,Any,Tuple{Symbol,Symbol},NamedTuple{(:atom, :n),Tuple{MulticlassPerceptronClassifier,Int64}}}, ::typeof(EnsembleModel)) at /Users/david/.julia/packages/MLJ/hcR5D/src/ensembles.jl:378",
      " [6] (::MLJ.var\"#kw##EnsembleModel\")(::NamedTuple{(:atom, :n),Tuple{MulticlassPerceptronClassifier,Int64}}, ::typeof(EnsembleModel)) at ./none:0",
      " [7] top-level scope at In[79]:2"
     ]
    }
   ],
   "source": [
    "knn_model        = MulticlassPerceptronClassifier()\n",
    "ensemble_model   = EnsembleModel(atom=knn_model, n=100)\n",
    "ensemble_machine = machine(ensemble_model, X, y)\n",
    "fit!(ensemble_machine, rows=train_ind)\n",
    "y_hat = predict_mode(ensemble_machine,X);\n",
    "print(\"accuracy:  $(mean(y_hat .== y))\")"
   ]
  },
  {
   "cell_type": "code",
   "execution_count": 80,
   "metadata": {},
   "outputs": [
    {
     "data": {
      "text/plain": [
       "Unknown"
      ]
     },
     "execution_count": 80,
     "metadata": {},
     "output_type": "execute_result"
    }
   ],
   "source": [
    "target_scitype(knn_model)"
   ]
  },
  {
   "cell_type": "code",
   "execution_count": 87,
   "metadata": {},
   "outputs": [],
   "source": [
    "using MLJBase"
   ]
  },
  {
   "cell_type": "code",
   "execution_count": 88,
   "metadata": {},
   "outputs": [
    {
     "data": {
      "text/plain": [
       "metadata_model (generic function with 1 method)"
      ]
     },
     "execution_count": 88,
     "metadata": {},
     "output_type": "execute_result"
    }
   ],
   "source": [
    "metadata_model"
   ]
  },
  {
   "cell_type": "code",
   "execution_count": null,
   "metadata": {},
   "outputs": [],
   "source": []
  }
 ],
 "metadata": {
  "kernelspec": {
   "display_name": "Julia 1.3.0",
   "language": "julia",
   "name": "julia-1.3"
  },
  "language_info": {
   "file_extension": ".jl",
   "mimetype": "application/julia",
   "name": "julia",
   "version": "1.3.0"
  },
  "toc": {
   "base_numbering": 1,
   "nav_menu": {},
   "number_sections": true,
   "sideBar": true,
   "skip_h1_title": false,
   "title_cell": "Table of Contents",
   "title_sidebar": "Contents",
   "toc_cell": false,
   "toc_position": {},
   "toc_section_display": true,
   "toc_window_display": false
  }
 },
 "nbformat": 4,
 "nbformat_minor": 2
}
