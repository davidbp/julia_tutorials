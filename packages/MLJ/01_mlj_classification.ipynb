{
 "cells": [
  {
   "cell_type": "markdown",
   "metadata": {},
   "source": [
    "## MLJ Basics\n",
    "\n",
    "This notebook shows the basics tools needed to deal with a classification task in MLJ.\n",
    "\n",
    "In particular it shows:\n",
    "\n",
    "- How to load a model\n",
    "- How to fit a model\n",
    "- How to predict using a fitted model\n",
    "- How to evaluate a model\n"
   ]
  },
  {
   "cell_type": "code",
   "execution_count": 1,
   "metadata": {
    "ExecuteTime": {
     "end_time": "2020-12-19T14:02:11.719000+01:00",
     "start_time": "2020-12-19T13:01:40.018Z"
    }
   },
   "outputs": [
    {
     "name": "stdout",
     "output_type": "stream",
     "text": [
      "┌─────────────┬────────────┬─────────────┬────────────┬────────────────────────────────┐\n",
      "│\u001b[1m SepalLength \u001b[0m│\u001b[1m SepalWidth \u001b[0m│\u001b[1m PetalLength \u001b[0m│\u001b[1m PetalWidth \u001b[0m│\u001b[1m Species                        \u001b[0m│\n",
      "│\u001b[90m Float64     \u001b[0m│\u001b[90m Float64    \u001b[0m│\u001b[90m Float64     \u001b[0m│\u001b[90m Float64    \u001b[0m│\u001b[90m CategoricalValue{String,UInt8} \u001b[0m│\n",
      "│\u001b[90m Continuous  \u001b[0m│\u001b[90m Continuous \u001b[0m│\u001b[90m Continuous  \u001b[0m│\u001b[90m Continuous \u001b[0m│\u001b[90m Multiclass{3}                  \u001b[0m│\n",
      "├─────────────┼────────────┼─────────────┼────────────┼────────────────────────────────┤\n",
      "│ 5.1         │ 3.5        │ 1.4         │ 0.2        │ setosa                         │\n",
      "│ 4.9         │ 3.0        │ 1.4         │ 0.2        │ setosa                         │\n",
      "│ 4.7         │ 3.2        │ 1.3         │ 0.2        │ setosa                         │\n",
      "└─────────────┴────────────┴─────────────┴────────────┴────────────────────────────────┘\n"
     ]
    }
   ],
   "source": [
    "using RDatasets, MLJ, NearestNeighbors, MLJModels\n",
    "iris = dataset(\"datasets\", \"iris\")\n",
    "first(iris, 3) |> pretty"
   ]
  },
  {
   "cell_type": "code",
   "execution_count": 2,
   "metadata": {
    "ExecuteTime": {
     "end_time": "2020-12-19T14:02:12.632000+01:00",
     "start_time": "2020-12-19T13:01:41.773Z"
    },
    "scrolled": true
   },
   "outputs": [
    {
     "name": "stdout",
     "output_type": "stream",
     "text": [
      "┌─────────────┬────────────┬─────────────┬────────────┐\n",
      "│\u001b[1m SepalLength \u001b[0m│\u001b[1m SepalWidth \u001b[0m│\u001b[1m PetalLength \u001b[0m│\u001b[1m PetalWidth \u001b[0m│\n",
      "│\u001b[90m Float64     \u001b[0m│\u001b[90m Float64    \u001b[0m│\u001b[90m Float64     \u001b[0m│\u001b[90m Float64    \u001b[0m│\n",
      "│\u001b[90m Continuous  \u001b[0m│\u001b[90m Continuous \u001b[0m│\u001b[90m Continuous  \u001b[0m│\u001b[90m Continuous \u001b[0m│\n",
      "├─────────────┼────────────┼─────────────┼────────────┤\n",
      "│ 5.1         │ 3.5        │ 1.4         │ 0.2        │\n",
      "└─────────────┴────────────┴─────────────┴────────────┘\n"
     ]
    }
   ],
   "source": [
    "y, X = unpack(iris, ==(:Species), colname -> true)\n",
    "first(X, 1) |> pretty"
   ]
  },
  {
   "cell_type": "code",
   "execution_count": 3,
   "metadata": {
    "ExecuteTime": {
     "end_time": "2020-12-19T14:02:12.826000+01:00",
     "start_time": "2020-12-19T13:01:42.452Z"
    }
   },
   "outputs": [
    {
     "name": "stdout",
     "output_type": "stream",
     "text": [
      "DataFrame\n",
      "CategoricalArrays.CategoricalArray{String,1,UInt8,String,CategoricalArrays.CategoricalValue{String,UInt8},Union{}}\n"
     ]
    }
   ],
   "source": [
    "println(typeof(X))\n",
    "println(typeof(y))"
   ]
  },
  {
   "cell_type": "code",
   "execution_count": 4,
   "metadata": {
    "ExecuteTime": {
     "end_time": "2020-12-19T14:02:16.204000+01:00",
     "start_time": "2020-12-19T13:01:42.943Z"
    }
   },
   "outputs": [
    {
     "name": "stdout",
     "output_type": "stream",
     "text": [
      "AdaBoostClassifier            (ScikitLearn)\n",
      "AdaBoostStumpClassifier       (DecisionTree)\n",
      "BaggingClassifier             (ScikitLearn)\n",
      "BayesianLDA                   (MultivariateStats)\n",
      "BayesianLDA                   (ScikitLearn)\n",
      "BayesianQDA                   (ScikitLearn)\n",
      "BayesianSubspaceLDA           (MultivariateStats)\n",
      "ConstantClassifier            (MLJModels)\n",
      "DecisionTreeClassifier        (DecisionTree)\n",
      "DummyClassifier               (ScikitLearn)\n",
      "EvoTreeClassifier             (EvoTrees)\n",
      "ExtraTreesClassifier          (ScikitLearn)\n",
      "GaussianNBClassifier          (NaiveBayes)\n",
      "GaussianNBClassifier          (ScikitLearn)\n",
      "GaussianProcessClassifier     (ScikitLearn)\n",
      "GradientBoostingClassifier    (ScikitLearn)\n",
      "KNNClassifier                 (NearestNeighbors)\n",
      "KNeighborsClassifier          (ScikitLearn)\n",
      "LDA                           (MultivariateStats)\n",
      "LGBMClassifier                (LightGBM)\n",
      "LogisticCVClassifier          (ScikitLearn)\n",
      "LogisticClassifier            (MLJLinearModels)\n",
      "LogisticClassifier            (ScikitLearn)\n",
      "MultinomialClassifier         (MLJLinearModels)\n",
      "NeuralNetworkClassifier       (MLJFlux)\n",
      "ProbabilisticSGDClassifier    (ScikitLearn)\n",
      "RandomForestClassifier        (DecisionTree)\n",
      "RandomForestClassifier        (ScikitLearn)\n",
      "SubspaceLDA                   (MultivariateStats)\n",
      "XGBoostClassifier             (XGBoost)\n"
     ]
    }
   ],
   "source": [
    "for m in models(matching(X, y))\n",
    "    if m.prediction_type == :probabilistic\n",
    "        println(rpad(m.name, 30), \"($(m.package_name))\")\n",
    "    end\n",
    "end"
   ]
  },
  {
   "cell_type": "markdown",
   "metadata": {},
   "source": [
    "## Training a KNN"
   ]
  },
  {
   "cell_type": "markdown",
   "metadata": {},
   "source": [
    "### Choosing a model"
   ]
  },
  {
   "cell_type": "code",
   "execution_count": 5,
   "metadata": {
    "ExecuteTime": {
     "end_time": "2020-12-19T14:02:25.340000+01:00",
     "start_time": "2020-12-19T13:01:43.843Z"
    },
    "scrolled": false
   },
   "outputs": [
    {
     "data": {
      "text/plain": [
       "KNNClassifier(\n",
       "    K = 5,\n",
       "    algorithm = :kdtree,\n",
       "    metric = Euclidean(0.0),\n",
       "    leafsize = 10,\n",
       "    reorder = true,\n",
       "    weights = :uniform)\u001b[34m @176\u001b[39m"
      ]
     },
     "execution_count": 5,
     "metadata": {},
     "output_type": "execute_result"
    }
   ],
   "source": [
    "knn = @load KNNClassifier verbosity = 0"
   ]
  },
  {
   "cell_type": "markdown",
   "metadata": {},
   "source": [
    "We can define specific atributes of the model setting them direcly to the loaded object.\n",
    "\n",
    "For example, we can set the `leafsize` to be 5:"
   ]
  },
  {
   "cell_type": "code",
   "execution_count": 6,
   "metadata": {
    "ExecuteTime": {
     "end_time": "2020-12-19T14:02:25.490000+01:00",
     "start_time": "2020-12-19T13:01:44.249Z"
    }
   },
   "outputs": [
    {
     "data": {
      "text/plain": [
       "10"
      ]
     },
     "execution_count": 6,
     "metadata": {},
     "output_type": "execute_result"
    }
   ],
   "source": [
    "knn.leafsize = 10"
   ]
  },
  {
   "cell_type": "code",
   "execution_count": 7,
   "metadata": {
    "ExecuteTime": {
     "end_time": "2020-12-19T14:02:25.491000+01:00",
     "start_time": "2020-12-19T13:01:44.428Z"
    },
    "scrolled": true
   },
   "outputs": [
    {
     "data": {
      "text/plain": [
       "KNNClassifier(\n",
       "    K = 5,\n",
       "    algorithm = :kdtree,\n",
       "    metric = Euclidean(0.0),\n",
       "    leafsize = 10,\n",
       "    reorder = true,\n",
       "    weights = :uniform)\u001b[34m @176\u001b[39m"
      ]
     },
     "execution_count": 7,
     "metadata": {},
     "output_type": "execute_result"
    }
   ],
   "source": [
    "knn"
   ]
  },
  {
   "cell_type": "markdown",
   "metadata": {},
   "source": [
    "### Defining a machine with a model and the data"
   ]
  },
  {
   "cell_type": "markdown",
   "metadata": {
    "ExecuteTime": {
     "end_time": "2020-12-19T13:02:16.526000+01:00",
     "start_time": "2020-12-19T12:02:16.523Z"
    }
   },
   "source": [
    "Now we will define a `MLJ.Machine` object that will contain 3 objects:\n",
    "\n",
    "- The model `knn`\n",
    "- The input data `X`\n",
    "- The output data `y`"
   ]
  },
  {
   "cell_type": "code",
   "execution_count": 8,
   "metadata": {
    "ExecuteTime": {
     "end_time": "2020-12-19T14:02:25.493000+01:00",
     "start_time": "2020-12-19T13:01:45.058Z"
    }
   },
   "outputs": [
    {
     "name": "stdout",
     "output_type": "stream",
     "text": [
      "DataFrame\n",
      "CategoricalArrays.CategoricalArray{String,1,UInt8,String,CategoricalArrays.CategoricalValue{String,UInt8},Union{}}\n"
     ]
    }
   ],
   "source": [
    "println(typeof(X))\n",
    "println(typeof(y))"
   ]
  },
  {
   "cell_type": "markdown",
   "metadata": {
    "ExecuteTime": {
     "end_time": "2020-12-19T13:03:01.550000+01:00",
     "start_time": "2020-12-19T12:03:01.547Z"
    }
   },
   "source": [
    "Let us define the machine with the function `machine`"
   ]
  },
  {
   "cell_type": "code",
   "execution_count": 9,
   "metadata": {
    "ExecuteTime": {
     "end_time": "2020-12-19T14:02:26.212000+01:00",
     "start_time": "2020-12-19T13:01:45.441Z"
    }
   },
   "outputs": [
    {
     "data": {
      "text/plain": [
       "\u001b[34mMachine{KNNClassifier} @416\u001b[39m trained 0 times.\n",
       "  args: \n",
       "    1:\t\u001b[34mSource @516\u001b[39m ⏎ `Table{AbstractArray{Continuous,1}}`\n",
       "    2:\t\u001b[34mSource @235\u001b[39m ⏎ `AbstractArray{Multiclass{3},1}`\n"
      ]
     },
     "execution_count": 9,
     "metadata": {},
     "output_type": "execute_result"
    }
   ],
   "source": [
    "m_knn = machine(knn, X, y)"
   ]
  },
  {
   "cell_type": "markdown",
   "metadata": {},
   "source": [
    "Now we have a `Machine` object containing a `KNNClassifier`"
   ]
  },
  {
   "cell_type": "code",
   "execution_count": 10,
   "metadata": {
    "ExecuteTime": {
     "end_time": "2020-12-19T14:02:26.435000+01:00",
     "start_time": "2020-12-19T13:01:45.868Z"
    }
   },
   "outputs": [
    {
     "data": {
      "text/plain": [
       "Machine{MLJModels.NearestNeighbors_.KNNClassifier}"
      ]
     },
     "execution_count": 10,
     "metadata": {},
     "output_type": "execute_result"
    }
   ],
   "source": [
    "typeof(m_knn)"
   ]
  },
  {
   "cell_type": "markdown",
   "metadata": {},
   "source": [
    "Since the machine already has all the training data we can specify a set of indices for training and one set for test.\n",
    "\n",
    "A very handy function to generate train and test splits is **`partition`** which can take as input \n",
    "\n",
    "- `UnitRange`  (ex: `1:10`) \n",
    "- `Array` (ex:`[1,2,3,4,5,6,7,8,9,10]`) \n",
    "- `AbstractUnitRange` (ex: `eachindex(y)`)\n",
    "\n",
    "To generate a train/test split. It returns two arrays with the expected partitions.\n",
    "\n",
    "If you want a reproducible partition you can use Random.seed!(some_integer) so that the partition will be allways the same\n",
    " \n",
    " \n",
    "#### Julia example\n",
    "```\n",
    "train_test =    partition(1:10, 0.8, shuffle=true)\n",
    "train_test \n",
    "\n",
    "([4, 3, 9, 7, 2, 1, 6, 8], [10, 5])\n",
    "```\n",
    "\n",
    "#### Sklearn equivalent\n",
    "\n",
    "\n",
    "```\n",
    "train_test =  sklearn.model_selection.train_test_split(range(10), \n",
    "                                                       train_size=0.8, \n",
    "                                                       shuffle=True, \n",
    "                                                       random_state=123)\n",
    "train_test\n",
    "[[7, 5, 8, 3, 1, 6, 9, 2], [4, 0]]\n",
    "``` \n",
    "\n",
    "\n",
    "The following version to generate a train, test split are equivalent"
   ]
  },
  {
   "cell_type": "code",
   "execution_count": 106,
   "metadata": {
    "ExecuteTime": {
     "end_time": "2020-12-19T16:53:17.162000+01:00",
     "start_time": "2020-12-19T15:53:17.146Z"
    }
   },
   "outputs": [
    {
     "data": {
      "text/plain": [
       "([125, 100, 130, 9, 70, 148, 39, 64, 6, 107  …  134, 114, 52, 74, 44, 61, 83, 18, 122, 26], [97, 78, 30, 108, 101, 24, 85, 91, 135, 96  …  112, 144, 140, 72, 109, 41, 106, 147, 47, 5])"
      ]
     },
     "execution_count": 106,
     "metadata": {},
     "output_type": "execute_result"
    }
   ],
   "source": [
    "using Random\n",
    "Random.seed!(123)\n",
    "train_ind, test_ind = partition(Array(1:length(y)), 0.7, shuffle=true)"
   ]
  },
  {
   "cell_type": "code",
   "execution_count": 104,
   "metadata": {
    "ExecuteTime": {
     "end_time": "2020-12-19T16:52:40.270000+01:00",
     "start_time": "2020-12-19T15:52:40.267Z"
    }
   },
   "outputs": [
    {
     "data": {
      "text/plain": [
       "([125, 100, 130, 9, 70, 148, 39, 64, 6, 107  …  134, 114, 52, 74, 44, 61, 83, 18, 122, 26], [97, 78, 30, 108, 101, 24, 85, 91, 135, 96  …  112, 144, 140, 72, 109, 41, 106, 147, 47, 5])"
      ]
     },
     "execution_count": 104,
     "metadata": {},
     "output_type": "execute_result"
    }
   ],
   "source": [
    "using Random\n",
    "Random.seed!(123)\n",
    "train_ind, test_ind = partition(eachindex(y), 0.7, shuffle=true)"
   ]
  },
  {
   "cell_type": "code",
   "execution_count": 105,
   "metadata": {
    "ExecuteTime": {
     "end_time": "2020-12-19T16:52:40.483000+01:00",
     "start_time": "2020-12-19T15:52:40.480Z"
    }
   },
   "outputs": [
    {
     "data": {
      "text/plain": [
       "([125, 100, 130, 9, 70, 148, 39, 64, 6, 107  …  134, 114, 52, 74, 44, 61, 83, 18, 122, 26], [97, 78, 30, 108, 101, 24, 85, 91, 135, 96  …  112, 144, 140, 72, 109, 41, 106, 147, 47, 5])"
      ]
     },
     "execution_count": 105,
     "metadata": {},
     "output_type": "execute_result"
    }
   ],
   "source": [
    "using Random\n",
    "Random.seed!(123)\n",
    "train_ind, test_ind = partition(1:length(y), 0.7, shuffle=true)"
   ]
  },
  {
   "cell_type": "markdown",
   "metadata": {
    "ExecuteTime": {
     "end_time": "2020-12-19T12:57:30.990000+01:00",
     "start_time": "2020-12-19T11:57:30.987Z"
    }
   },
   "source": [
    "## Training and predicting with a machine\n",
    "We can train a machine using **`fit!`**  and we can specify the rows used with **`rows=training_ind`**"
   ]
  },
  {
   "cell_type": "code",
   "execution_count": 119,
   "metadata": {
    "ExecuteTime": {
     "end_time": "2020-12-19T17:48:18.187000+01:00",
     "start_time": "2020-12-19T16:48:18.184Z"
    },
    "scrolled": true
   },
   "outputs": [
    {
     "name": "stderr",
     "output_type": "stream",
     "text": [
      "┌ Info: Training \u001b[34mMachine{KNNClassifier} @416\u001b[39m.\n",
      "└ @ MLJBase /Users/davidbuchaca1/.julia/packages/MLJBase/5TNcr/src/machines.jl:319\n"
     ]
    },
    {
     "data": {
      "text/plain": [
       "\u001b[34mMachine{KNNClassifier} @416\u001b[39m trained 2 times.\n",
       "  args: \n",
       "    1:\t\u001b[34mSource @516\u001b[39m ⏎ `Table{AbstractArray{Continuous,1}}`\n",
       "    2:\t\u001b[34mSource @235\u001b[39m ⏎ `AbstractArray{Multiclass{3},1}`\n"
      ]
     },
     "execution_count": 119,
     "metadata": {},
     "output_type": "execute_result"
    }
   ],
   "source": [
    "fit!(m_knn, rows=train_ind)"
   ]
  },
  {
   "cell_type": "markdown",
   "metadata": {
    "ExecuteTime": {
     "end_time": "2020-12-19T18:35:04.468000+01:00",
     "start_time": "2020-12-19T17:35:04.466Z"
    }
   },
   "source": [
    "**`fitted_params(machine)`** allows us to view the fitted parameters of a `machine`."
   ]
  },
  {
   "cell_type": "code",
   "execution_count": 232,
   "metadata": {
    "ExecuteTime": {
     "end_time": "2020-12-19T18:34:24.339000+01:00",
     "start_time": "2020-12-19T17:34:24.337Z"
    }
   },
   "outputs": [
    {
     "name": "stdout",
     "output_type": "stream",
     "text": [
      "(tree = KDTree{StaticArrays.SArray{Tuple{4},Float64,1,4},Euclidean,Float64}\n",
      "  Number of points: 105\n",
      "  Dimensions: 4\n",
      "  Metric: Euclidean(0.0)\n",
      "  Reordered: true,)"
     ]
    }
   ],
   "source": [
    "fitted_params(m_knn) |> print"
   ]
  },
  {
   "cell_type": "markdown",
   "metadata": {},
   "source": [
    "**`predict`** allows us to get  predictions from a machine. \n",
    "\n",
    "There are two different approaches:\n",
    "\n",
    "- **`predict(machine, rows=test_ind)`**: Use the internal dataset that provided to the machine specifying the rows from which to make predictions.\n",
    "\n",
    "\n",
    "- **`predict(machine, X_df)`**: Use a dataframe `X_df` from which to make predictions.\n",
    "\n"
   ]
  },
  {
   "cell_type": "code",
   "execution_count": 120,
   "metadata": {
    "ExecuteTime": {
     "end_time": "2020-12-19T17:48:18.750000+01:00",
     "start_time": "2020-12-19T16:48:18.747Z"
    }
   },
   "outputs": [],
   "source": [
    "ŷ_test  = predict(m_knn, rows=test_ind);\n",
    "ŷ_train = predict(m_knn, rows=train_ind);"
   ]
  },
  {
   "cell_type": "code",
   "execution_count": 121,
   "metadata": {
    "ExecuteTime": {
     "end_time": "2020-12-19T17:48:18.953000+01:00",
     "start_time": "2020-12-19T16:48:18.949Z"
    }
   },
   "outputs": [],
   "source": [
    "ŷ_train = predict(m_knn, X[train_ind,:])\n",
    "ŷ_test  = predict(m_knn, X[test_ind,:]);"
   ]
  },
  {
   "cell_type": "code",
   "execution_count": 123,
   "metadata": {
    "ExecuteTime": {
     "end_time": "2020-12-19T17:48:27.952000+01:00",
     "start_time": "2020-12-19T16:48:27.950Z"
    }
   },
   "outputs": [
    {
     "data": {
      "text/plain": [
       "MLJBase.UnivariateFiniteArray{Multiclass{3},String,UInt8,Float64,1}"
      ]
     },
     "execution_count": 123,
     "metadata": {},
     "output_type": "execute_result"
    }
   ],
   "source": [
    "typeof(ŷ_train)"
   ]
  },
  {
   "cell_type": "code",
   "execution_count": 125,
   "metadata": {
    "ExecuteTime": {
     "end_time": "2020-12-19T17:49:21.111000+01:00",
     "start_time": "2020-12-19T16:49:21.109Z"
    }
   },
   "outputs": [
    {
     "data": {
      "text/plain": [
       "UnivariateFinite{Multiclass{3}}(setosa=>0.0, versicolor=>0.0, virginica=>1.0)"
      ]
     },
     "execution_count": 125,
     "metadata": {},
     "output_type": "execute_result"
    }
   ],
   "source": [
    "ŷ_train[3]"
   ]
  },
  {
   "cell_type": "markdown",
   "metadata": {
    "ExecuteTime": {
     "end_time": "2020-12-19T13:16:45.037000+01:00",
     "start_time": "2020-12-19T12:16:45.034Z"
    }
   },
   "source": [
    "It is important to note that `UnivariateFinite` cannot be directly compared with a `CategoricalArray`. "
   ]
  },
  {
   "cell_type": "code",
   "execution_count": 224,
   "metadata": {
    "ExecuteTime": {
     "end_time": "2020-12-19T18:27:19.635000+01:00",
     "start_time": "2020-12-19T17:27:19.633Z"
    }
   },
   "outputs": [
    {
     "data": {
      "text/plain": [
       "UnivariateFinite{Multiclass{3}}(setosa=>0.0, versicolor=>0.0, virginica=>1.0)"
      ]
     },
     "execution_count": 224,
     "metadata": {},
     "output_type": "execute_result"
    }
   ],
   "source": [
    "ŷ_train[1]"
   ]
  },
  {
   "cell_type": "code",
   "execution_count": 225,
   "metadata": {
    "ExecuteTime": {
     "end_time": "2020-12-19T18:27:19.837000+01:00",
     "start_time": "2020-12-19T17:27:19.835Z"
    },
    "scrolled": true
   },
   "outputs": [
    {
     "data": {
      "text/plain": [
       "CategoricalValue{String,UInt8} \"virginica\""
      ]
     },
     "execution_count": 225,
     "metadata": {},
     "output_type": "execute_result"
    }
   ],
   "source": [
    "y_train[1]"
   ]
  },
  {
   "cell_type": "code",
   "execution_count": 226,
   "metadata": {
    "ExecuteTime": {
     "end_time": "2020-12-19T18:27:20.681000+01:00",
     "start_time": "2020-12-19T17:27:20.679Z"
    }
   },
   "outputs": [
    {
     "data": {
      "text/plain": [
       "false"
      ]
     },
     "execution_count": 226,
     "metadata": {},
     "output_type": "execute_result"
    }
   ],
   "source": [
    "ŷ_train[1] == y_train[1]"
   ]
  },
  {
   "cell_type": "markdown",
   "metadata": {
    "ExecuteTime": {
     "end_time": "2020-12-19T13:14:53.579000+01:00",
     "start_time": "2020-12-19T12:14:53.577Z"
    }
   },
   "source": [
    "### Predictions for classification algorithms in  MLJ\n",
    "\n",
    "Notice that in MLJ machine predictions for classification problems return an Array of the following form: `MLJBase.UnivariateFiniteArray{Multiclass{3},String,UInt8,Float64,1}`.\n",
    "This type might be a bit surprising, let's see the details.\n",
    "\n",
    "You can interpret `ŷ_test[k]` as an array of length `n_classes`. But users can't do `ŷ_test[k][c]` directly.\n",
    "\n",
    "A component `c` in this \"array\" contains the probability of example `k` beeing from the class indexed by integer `c`. \n",
    "\n",
    "For example, the following line tells us that the probability of `versicolor` is 0.6 and the probability of `virginica` is 0.4.\n",
    "\n",
    "```julia\n",
    "ŷ_test[2]\n",
    "UnivariateFinite{Multiclass{3}}(setosa=>0.0, versicolor=>0.6, virginica=>0.4)\n",
    "```\n",
    "\n",
    "Note that the output of predict is a **`MLJBase.UnivariateFiniteArray`** and each element is of type **`UnivariateFinite`** which contains the predicted probabilities for each class given the input of the predict.\n",
    "\n",
    "\n",
    "There are several advantadges for using `UnivariateFinite`  instead of a vector of floats **TODO:EXPAND THIS**.\n",
    "\n",
    "\n",
    "##### Sklearn equivalent\n",
    "\n",
    "In sklearn, `model.predict(X)` returns a `np.array` containing the predicted class labels (allawys coded as integers from 0 to `n_classes-1` ).\n",
    " \n",
    "Notice that `predict(tree_machine, X[test_ind,:])` in MLJ would be pretty much the same as `tree_machine.predict_proba(X[test,:])` in Sklearn. The main difference is that Sklearn would return a numpy array of float values whereas MLJ returns a \"weird\" array of `UnivariateFinite{Multiclass{3}}` values.\n",
    "\n",
    "\n"
   ]
  },
  {
   "cell_type": "code",
   "execution_count": 242,
   "metadata": {
    "ExecuteTime": {
     "end_time": "2020-12-19T18:37:42.626000+01:00",
     "start_time": "2020-12-19T17:37:42.624Z"
    }
   },
   "outputs": [
    {
     "data": {
      "text/plain": [
       "UnivariateFinite{Multiclass{3}}(setosa=>0.0, versicolor=>0.6, virginica=>0.4)"
      ]
     },
     "execution_count": 242,
     "metadata": {},
     "output_type": "execute_result"
    }
   ],
   "source": [
    "ŷ_test[2]"
   ]
  },
  {
   "cell_type": "code",
   "execution_count": 239,
   "metadata": {
    "ExecuteTime": {
     "end_time": "2020-12-19T18:36:44.844000+01:00",
     "start_time": "2020-12-19T17:36:44.842Z"
    }
   },
   "outputs": [
    {
     "data": {
      "text/plain": [
       "OrderedCollections.LittleDict{UInt8,Float64,Array{UInt8,1},Array{Float64,1}} with 3 entries:\n",
       "  0x01 => 0.0\n",
       "  0x02 => 0.6\n",
       "  0x03 => 0.4"
      ]
     },
     "execution_count": 239,
     "metadata": {},
     "output_type": "execute_result"
    }
   ],
   "source": [
    "ŷ_test[2].prob_given_ref"
   ]
  },
  {
   "cell_type": "markdown",
   "metadata": {
    "ExecuteTime": {
     "end_time": "2020-12-19T18:37:25.323000+01:00",
     "start_time": "2020-12-19T17:37:25.321Z"
    }
   },
   "source": [
    "**`prob_given_ref.vals`** returns a vector with the probabilities."
   ]
  },
  {
   "cell_type": "code",
   "execution_count": 241,
   "metadata": {
    "ExecuteTime": {
     "end_time": "2020-12-19T18:37:27.876000+01:00",
     "start_time": "2020-12-19T17:37:27.874Z"
    }
   },
   "outputs": [
    {
     "data": {
      "text/plain": [
       "3-element Array{Float64,1}:\n",
       " 0.0\n",
       " 0.6000000000000001\n",
       " 0.4"
      ]
     },
     "execution_count": 241,
     "metadata": {},
     "output_type": "execute_result"
    }
   ],
   "source": [
    "ŷ_test[2].prob_given_ref.vals"
   ]
  },
  {
   "cell_type": "markdown",
   "metadata": {},
   "source": [
    "**`mode(ŷ_test[k])`**  can be used to get the most likely class for example `k`"
   ]
  },
  {
   "cell_type": "code",
   "execution_count": 260,
   "metadata": {
    "ExecuteTime": {
     "end_time": "2020-12-19T18:43:36.204000+01:00",
     "start_time": "2020-12-19T17:43:36.203Z"
    }
   },
   "outputs": [
    {
     "data": {
      "text/plain": [
       "CategoricalValue{String,UInt8} \"versicolor\""
      ]
     },
     "execution_count": 260,
     "metadata": {},
     "output_type": "execute_result"
    }
   ],
   "source": [
    "mode(ŷ_test[2])"
   ]
  },
  {
   "cell_type": "markdown",
   "metadata": {
    "ExecuteTime": {
     "end_time": "2020-12-19T18:44:19.519000+01:00",
     "start_time": "2020-12-19T17:44:19.516Z"
    }
   },
   "source": [
    "**`predict_mode(machine, X)`** returns a categorical array with the predicted classes from `X`"
   ]
  },
  {
   "cell_type": "code",
   "execution_count": 262,
   "metadata": {
    "ExecuteTime": {
     "end_time": "2020-12-19T18:44:21.037000+01:00",
     "start_time": "2020-12-19T17:44:21.035Z"
    }
   },
   "outputs": [
    {
     "data": {
      "text/plain": [
       "3-element CategoricalArray{String,1,UInt8}:\n",
       " \"versicolor\"\n",
       " \"versicolor\"\n",
       " \"setosa\""
      ]
     },
     "execution_count": 262,
     "metadata": {},
     "output_type": "execute_result"
    }
   ],
   "source": [
    " predict_mode(m_knn, X[test_ind[1:3],:])"
   ]
  },
  {
   "cell_type": "markdown",
   "metadata": {},
   "source": [
    "we can make comparissons to check if the predicted class equals the true class"
   ]
  },
  {
   "cell_type": "code",
   "execution_count": 204,
   "metadata": {
    "ExecuteTime": {
     "end_time": "2020-12-19T18:24:29.034000+01:00",
     "start_time": "2020-12-19T17:24:29.032Z"
    }
   },
   "outputs": [
    {
     "data": {
      "text/plain": [
       "true"
      ]
     },
     "execution_count": 204,
     "metadata": {},
     "output_type": "execute_result"
    }
   ],
   "source": [
    "mode(ŷ_test[2]) == y_test[2]"
   ]
  },
  {
   "cell_type": "markdown",
   "metadata": {},
   "source": [
    "Users need to be carefull not to confuse the previous line with the following one:"
   ]
  },
  {
   "cell_type": "code",
   "execution_count": 206,
   "metadata": {
    "ExecuteTime": {
     "end_time": "2020-12-19T18:25:07.364000+01:00",
     "start_time": "2020-12-19T17:25:07.362Z"
    }
   },
   "outputs": [
    {
     "data": {
      "text/plain": [
       "false"
      ]
     },
     "execution_count": 206,
     "metadata": {},
     "output_type": "execute_result"
    }
   ],
   "source": [
    "ŷ_test[2] == y_test[2]"
   ]
  },
  {
   "cell_type": "markdown",
   "metadata": {
    "ExecuteTime": {
     "end_time": "2020-12-19T18:25:41.194000+01:00",
     "start_time": "2020-12-19T17:25:41.192Z"
    }
   },
   "source": [
    "\n",
    "In order to compute the accuracy between `ŷ_test` and `y_test` we could do"
   ]
  },
  {
   "cell_type": "code",
   "execution_count": 193,
   "metadata": {
    "ExecuteTime": {
     "end_time": "2020-12-19T18:23:49.064000+01:00",
     "start_time": "2020-12-19T17:23:49.048Z"
    }
   },
   "outputs": [
    {
     "data": {
      "text/plain": [
       "0.9777777777777777"
      ]
     },
     "execution_count": 193,
     "metadata": {},
     "output_type": "execute_result"
    }
   ],
   "source": [
    "function accuracy(y,ŷ)\n",
    "    accuracy = 0.\n",
    "    for m in 1:length(y)\n",
    "        accuracy += y[m] == mode(ŷ[m])\n",
    "    end\n",
    "    return accuracy/length(y)\n",
    "end\n",
    "\n",
    "accuracy(y_test,ŷ_test)"
   ]
  },
  {
   "cell_type": "code",
   "execution_count": 247,
   "metadata": {
    "ExecuteTime": {
     "end_time": "2020-12-19T18:42:06.359000+01:00",
     "start_time": "2020-12-19T17:42:06.357Z"
    }
   },
   "outputs": [
    {
     "data": {
      "text/plain": [
       "0.0806"
      ]
     },
     "execution_count": 247,
     "metadata": {},
     "output_type": "execute_result"
    }
   ],
   "source": [
    "mce = mean(cross_entropy(ŷ_test, y_test))\n",
    "round(mce, digits=4)"
   ]
  },
  {
   "cell_type": "code",
   "execution_count": 290,
   "metadata": {
    "ExecuteTime": {
     "end_time": "2020-12-19T18:54:54.458000+01:00",
     "start_time": "2020-12-19T17:54:54.457Z"
    }
   },
   "outputs": [],
   "source": [
    "#evaluate!(m_knn, rows=test_ind);"
   ]
  },
  {
   "cell_type": "markdown",
   "metadata": {},
   "source": [
    "## Tunning Hyperparameters"
   ]
  },
  {
   "cell_type": "code",
   "execution_count": 425,
   "metadata": {
    "ExecuteTime": {
     "end_time": "2020-12-19T20:15:55.215000+01:00",
     "start_time": "2020-12-19T19:15:53.849Z"
    }
   },
   "outputs": [
    {
     "data": {
      "text/plain": [
       "KNNClassifier(\n",
       "    K = 5,\n",
       "    algorithm = :kdtree,\n",
       "    metric = Euclidean(0.0),\n",
       "    leafsize = 10,\n",
       "    reorder = true,\n",
       "    weights = :uniform)\u001b[34m @586\u001b[39m"
      ]
     },
     "execution_count": 425,
     "metadata": {},
     "output_type": "execute_result"
    }
   ],
   "source": [
    "knn = @load KNNClassifier verbosity = 0"
   ]
  },
  {
   "cell_type": "code",
   "execution_count": 426,
   "metadata": {
    "ExecuteTime": {
     "end_time": "2020-12-19T20:15:55.216000+01:00",
     "start_time": "2020-12-19T19:15:54.210Z"
    }
   },
   "outputs": [
    {
     "data": {
      "text/plain": [
       "KNNClassifier(\n",
       "    K = 5,\n",
       "    algorithm = :kdtree,\n",
       "    metric = Euclidean(0.0),\n",
       "    leafsize = 10,\n",
       "    reorder = true,\n",
       "    weights = :uniform)\u001b[34m @586\u001b[39m"
      ]
     },
     "execution_count": 426,
     "metadata": {},
     "output_type": "execute_result"
    }
   ],
   "source": [
    "knn"
   ]
  },
  {
   "cell_type": "code",
   "execution_count": 427,
   "metadata": {
    "ExecuteTime": {
     "end_time": "2020-12-19T20:15:55.217000+01:00",
     "start_time": "2020-12-19T19:15:54.751Z"
    }
   },
   "outputs": [],
   "source": [
    "K_range = range(knn, :K, lower=5, upper=20);"
   ]
  },
  {
   "cell_type": "code",
   "execution_count": 428,
   "metadata": {
    "ExecuteTime": {
     "end_time": "2020-12-19T20:15:55.218000+01:00",
     "start_time": "2020-12-19T19:15:55.075Z"
    }
   },
   "outputs": [
    {
     "data": {
      "text/plain": [
       "MLJBase.NumericRange(Int64, :K, ... )"
      ]
     },
     "execution_count": 428,
     "metadata": {},
     "output_type": "execute_result"
    }
   ],
   "source": [
    "K_range"
   ]
  },
  {
   "cell_type": "markdown",
   "metadata": {},
   "source": [
    "Incidentally, a grid is generated internally \"over the range\" by calling the iterator method with an appropriate resolution:"
   ]
  },
  {
   "cell_type": "code",
   "execution_count": 429,
   "metadata": {
    "ExecuteTime": {
     "end_time": "2020-12-19T20:15:55.854000+01:00",
     "start_time": "2020-12-19T19:15:55.852Z"
    }
   },
   "outputs": [
    {
     "data": {
      "text/plain": [
       "3-element Array{Int64,1}:\n",
       "  5\n",
       " 12\n",
       " 20"
      ]
     },
     "execution_count": 429,
     "metadata": {},
     "output_type": "execute_result"
    }
   ],
   "source": [
    "iterator(K_range, 3)"
   ]
  },
  {
   "cell_type": "markdown",
   "metadata": {},
   "source": [
    "Now let us define a tunned model"
   ]
  },
  {
   "cell_type": "code",
   "execution_count": 507,
   "metadata": {
    "ExecuteTime": {
     "end_time": "2020-12-19T20:25:01.387000+01:00",
     "start_time": "2020-12-19T19:25:01.385Z"
    }
   },
   "outputs": [
    {
     "name": "stderr",
     "output_type": "stream",
     "text": [
      "┌ Info: No measure specified. Setting measure=\u001b[34mLogLoss{Float64} @278\u001b[39m. \n",
      "└ @ MLJTuning /Users/davidbuchaca1/.julia/packages/MLJTuning/6MZ7C/src/tuned_models.jl:222\n"
     ]
    }
   ],
   "source": [
    "self_tuning_knn = TunedModel(model=knn,\n",
    "                             resampling = CV(nfolds=5),\n",
    "                             tuning = Grid(resolution=5),\n",
    "                             range = K_range);"
   ]
  },
  {
   "cell_type": "code",
   "execution_count": 508,
   "metadata": {
    "ExecuteTime": {
     "end_time": "2020-12-19T20:25:01.915000+01:00",
     "start_time": "2020-12-19T19:25:01.913Z"
    }
   },
   "outputs": [
    {
     "data": {
      "text/plain": [
       "\u001b[34mMachine{ProbabilisticTunedModel{Grid,…}} @142\u001b[39m trained 0 times.\n",
       "  args: \n",
       "    1:\t\u001b[34mSource @723\u001b[39m ⏎ `Table{AbstractArray{Continuous,1}}`\n",
       "    2:\t\u001b[34mSource @170\u001b[39m ⏎ `AbstractArray{Multiclass{3},1}`\n"
      ]
     },
     "execution_count": 508,
     "metadata": {},
     "output_type": "execute_result"
    }
   ],
   "source": [
    "m_self_tuning_knn = machine(self_tuning_knn, X, y)"
   ]
  },
  {
   "cell_type": "code",
   "execution_count": 509,
   "metadata": {
    "ExecuteTime": {
     "end_time": "2020-12-19T20:25:02.141000+01:00",
     "start_time": "2020-12-19T19:25:02.127Z"
    }
   },
   "outputs": [
    {
     "data": {
      "text/plain": [
       "\u001b[34mMachine{ProbabilisticTunedModel{Grid,…}} @142\u001b[39m trained 1 time.\n",
       "  args: \n",
       "    1:\t\u001b[34mSource @723\u001b[39m ⏎ `Table{AbstractArray{Continuous,1}}`\n",
       "    2:\t\u001b[34mSource @170\u001b[39m ⏎ `AbstractArray{Multiclass{3},1}`\n"
      ]
     },
     "execution_count": 509,
     "metadata": {},
     "output_type": "execute_result"
    }
   ],
   "source": [
    "fit!(m_self_tuning_knn, rows=train_ind, verbosity=0)"
   ]
  },
  {
   "cell_type": "code",
   "execution_count": 510,
   "metadata": {
    "ExecuteTime": {
     "end_time": "2020-12-19T20:25:02.320000+01:00",
     "start_time": "2020-12-19T19:25:02.318Z"
    }
   },
   "outputs": [
    {
     "data": {
      "text/plain": [
       "(best_model = \u001b[34mKNNClassifier @504\u001b[39m,\n",
       " best_fitted_params = (tree = KDTree{StaticArrays.SArray{Tuple{4},Float64,1,4},Euclidean,Float64}\n",
       "  Number of points: 105\n",
       "  Dimensions: 4\n",
       "  Metric: Euclidean(0.0)\n",
       "  Reordered: true,),)"
      ]
     },
     "execution_count": 510,
     "metadata": {},
     "output_type": "execute_result"
    }
   ],
   "source": [
    "fitted_params(m_self_tuning_knn)"
   ]
  },
  {
   "cell_type": "code",
   "execution_count": 511,
   "metadata": {
    "ExecuteTime": {
     "end_time": "2020-12-19T20:25:02.489000+01:00",
     "start_time": "2020-12-19T19:25:02.487Z"
    }
   },
   "outputs": [
    {
     "data": {
      "text/plain": [
       "KNNClassifier(\n",
       "    K = 20,\n",
       "    algorithm = :kdtree,\n",
       "    metric = Euclidean(0.0),\n",
       "    leafsize = 10,\n",
       "    reorder = true,\n",
       "    weights = :uniform)\u001b[34m @504\u001b[39m"
      ]
     },
     "execution_count": 511,
     "metadata": {},
     "output_type": "execute_result"
    }
   ],
   "source": [
    "fitted_params(m_self_tuning_knn).best_model"
   ]
  },
  {
   "cell_type": "markdown",
   "metadata": {},
   "source": [
    "**`report`** allows us to access a thorough report of the tuning process"
   ]
  },
  {
   "cell_type": "code",
   "execution_count": 514,
   "metadata": {
    "ExecuteTime": {
     "end_time": "2020-12-19T20:25:06.866000+01:00",
     "start_time": "2020-12-19T19:25:06.864Z"
    }
   },
   "outputs": [
    {
     "data": {
      "text/plain": [
       "(best_model = \u001b[34mKNNClassifier @504\u001b[39m,\n",
       " best_history_entry = (model = \u001b[34mKNNClassifier @504\u001b[39m,\n",
       "                       measure = LogLoss{Float64}[\u001b[34mLogLoss{Float64} @278\u001b[39m],\n",
       "                       measurement = [0.1670047290499682],\n",
       "                       per_fold = [[0.18149729477405077, 0.10005618653945388, 0.21909874840716415, 0.14570504613580174, 0.18866636939337042]],),\n",
       " history = NamedTuple{(:model, :measure, :measurement, :per_fold),Tuple{MLJModels.NearestNeighbors_.KNNClassifier,Array{LogLoss{Float64},1},Array{Float64,1},Array{Array{Float64,1},1}}}[(model = \u001b[34mKNNClassifier @711\u001b[39m, measure = [\u001b[34mLogLoss{Float64} @278\u001b[39m], measurement = [0.13665915288523797], per_fold = [[0.15450290845334771, 0.08915669132218772, 0.18930221668821798, 0.09256179562950509, 0.1577721523329314]]), (model = \u001b[34mKNNClassifier @634\u001b[39m, measure = [\u001b[34mLogLoss{Float64} @278\u001b[39m], measurement = [0.11642670571866609], per_fold = [[0.13751290362838622, 0.06696030644151882, 0.16084031807589744, 0.06367493160880684, 0.1531450688387212]]), (model = \u001b[34mKNNClassifier @199\u001b[39m, measure = [\u001b[34mLogLoss{Float64} @278\u001b[39m], measurement = [0.09329713262922215], per_fold = [[0.15522370568516472, 0.06795792169714998, 0.06682856328680156, 0.06488465878583707, 0.11159081369115739]]), (model = \u001b[34mKNNClassifier @504\u001b[39m, measure = [\u001b[34mLogLoss{Float64} @278\u001b[39m], measurement = [0.1670047290499682], per_fold = [[0.18149729477405077, 0.10005618653945388, 0.21909874840716415, 0.14570504613580174, 0.18866636939337042]]), (model = \u001b[34mKNNClassifier @041\u001b[39m, measure = [\u001b[34mLogLoss{Float64} @278\u001b[39m], measurement = [0.10839692609461807], per_fold = [[0.12145588972882732, 0.05619179429302963, 0.15541404641084935, 0.05619179429302963, 0.15273110574735446]])],\n",
       " best_report = (),\n",
       " plotting = (parameter_names = [\"K\"],\n",
       "             parameter_scales = [:linear],\n",
       "             parameter_values = Any[16; 12; … ; 20; 9],\n",
       "             measurements = [0.13665915288523797, 0.11642670571866609, 0.09329713262922215, 0.1670047290499682, 0.10839692609461807],),)"
      ]
     },
     "execution_count": 514,
     "metadata": {},
     "output_type": "execute_result"
    }
   ],
   "source": [
    "report(m_self_tuning_knn)"
   ]
  },
  {
   "cell_type": "markdown",
   "metadata": {
    "ExecuteTime": {
     "end_time": "2020-12-19T20:25:24.124000+01:00",
     "start_time": "2020-12-19T19:25:24.122Z"
    }
   },
   "source": [
    "**`report(machine).history`** contains the per fold meatures stored during training"
   ]
  },
  {
   "cell_type": "code",
   "execution_count": 550,
   "metadata": {
    "ExecuteTime": {
     "end_time": "2020-12-19T20:33:44.678000+01:00",
     "start_time": "2020-12-19T19:33:44.675Z"
    }
   },
   "outputs": [
    {
     "data": {
      "text/plain": [
       "5-element Array{NamedTuple{(:model, :measure, :measurement, :per_fold),Tuple{MLJModels.NearestNeighbors_.KNNClassifier,Array{LogLoss{Float64},1},Array{Float64,1},Array{Array{Float64,1},1}}},1}:\n",
       " (model = \u001b[34mKNNClassifier @711\u001b[39m, measure = [\u001b[34mLogLoss{Float64} @278\u001b[39m], measurement = [0.13665915288523797], per_fold = [[0.15450290845334771, 0.08915669132218772, 0.18930221668821798, 0.09256179562950509, 0.1577721523329314]])\n",
       " (model = \u001b[34mKNNClassifier @634\u001b[39m, measure = [\u001b[34mLogLoss{Float64} @278\u001b[39m], measurement = [0.11642670571866609], per_fold = [[0.13751290362838622, 0.06696030644151882, 0.16084031807589744, 0.06367493160880684, 0.1531450688387212]])\n",
       " (model = \u001b[34mKNNClassifier @199\u001b[39m, measure = [\u001b[34mLogLoss{Float64} @278\u001b[39m], measurement = [0.09329713262922215], per_fold = [[0.15522370568516472, 0.06795792169714998, 0.06682856328680156, 0.06488465878583707, 0.11159081369115739]])\n",
       " (model = \u001b[34mKNNClassifier @504\u001b[39m, measure = [\u001b[34mLogLoss{Float64} @278\u001b[39m], measurement = [0.1670047290499682], per_fold = [[0.18149729477405077, 0.10005618653945388, 0.21909874840716415, 0.14570504613580174, 0.18866636939337042]])\n",
       " (model = \u001b[34mKNNClassifier @041\u001b[39m, measure = [\u001b[34mLogLoss{Float64} @278\u001b[39m], measurement = [0.10839692609461807], per_fold = [[0.12145588972882732, 0.05619179429302963, 0.15541404641084935, 0.05619179429302963, 0.15273110574735446]])"
      ]
     },
     "execution_count": 550,
     "metadata": {},
     "output_type": "execute_result"
    }
   ],
   "source": [
    "report(m_self_tuning_knn).history"
   ]
  },
  {
   "cell_type": "markdown",
   "metadata": {},
   "source": [
    "Note that the measure used to evaluate a particular hyperparameter is the mean over the different folds"
   ]
  },
  {
   "cell_type": "code",
   "execution_count": 551,
   "metadata": {
    "ExecuteTime": {
     "end_time": "2020-12-19T20:34:13.320000+01:00",
     "start_time": "2020-12-19T19:34:13.318Z"
    }
   },
   "outputs": [
    {
     "data": {
      "text/plain": [
       "1-element Array{Float64,1}:\n",
       " 0.13665915288523797"
      ]
     },
     "execution_count": 551,
     "metadata": {},
     "output_type": "execute_result"
    }
   ],
   "source": [
    "report(m_self_tuning_knn).history[1].measurement"
   ]
  },
  {
   "cell_type": "markdown",
   "metadata": {
    "ExecuteTime": {
     "end_time": "2020-12-19T20:34:32.661000+01:00",
     "start_time": "2020-12-19T19:34:32.659Z"
    }
   },
   "source": [
    "This value can be computed diretcly from the `.per_fold` array"
   ]
  },
  {
   "cell_type": "code",
   "execution_count": 553,
   "metadata": {
    "ExecuteTime": {
     "end_time": "2020-12-19T20:34:34.348000+01:00",
     "start_time": "2020-12-19T19:34:34.346Z"
    }
   },
   "outputs": [
    {
     "data": {
      "text/plain": [
       "0.13665915288523797"
      ]
     },
     "execution_count": 553,
     "metadata": {},
     "output_type": "execute_result"
    }
   ],
   "source": [
    "mean(report(m_self_tuning_knn).history[1].per_fold[1])"
   ]
  },
  {
   "cell_type": "code",
   "execution_count": 547,
   "metadata": {
    "ExecuteTime": {
     "end_time": "2020-12-19T20:33:20.468000+01:00",
     "start_time": "2020-12-19T19:33:20.465Z"
    }
   },
   "outputs": [
    {
     "data": {
      "text/plain": [
       "0.9333333333333333"
      ]
     },
     "execution_count": 547,
     "metadata": {},
     "output_type": "execute_result"
    }
   ],
   "source": [
    "accuracy(y_test, predict(m_self_tuning_knn, X[test_ind,:]))"
   ]
  },
  {
   "cell_type": "markdown",
   "metadata": {},
   "source": [
    "### Defining a custom metric for the hyperparameter selection process"
   ]
  },
  {
   "cell_type": "code",
   "execution_count": 487,
   "metadata": {
    "ExecuteTime": {
     "end_time": "2020-12-19T20:22:59.296000+01:00",
     "start_time": "2020-12-19T19:22:59.295Z"
    }
   },
   "outputs": [],
   "source": [
    "#MLJ.accuracy(y_train,ŷ_test)"
   ]
  },
  {
   "cell_type": "code",
   "execution_count": null,
   "metadata": {},
   "outputs": [],
   "source": []
  },
  {
   "cell_type": "code",
   "execution_count": null,
   "metadata": {},
   "outputs": [],
   "source": []
  },
  {
   "cell_type": "code",
   "execution_count": null,
   "metadata": {},
   "outputs": [],
   "source": []
  }
 ],
 "metadata": {
  "kernelspec": {
   "display_name": "Julia 1.5.3",
   "language": "julia",
   "name": "julia-1.5"
  },
  "language_info": {
   "file_extension": ".jl",
   "mimetype": "application/julia",
   "name": "julia",
   "version": "1.5.3"
  },
  "toc": {
   "base_numbering": 1,
   "nav_menu": {},
   "number_sections": true,
   "sideBar": true,
   "skip_h1_title": false,
   "title_cell": "Table of Contents",
   "title_sidebar": "Contents",
   "toc_cell": false,
   "toc_position": {},
   "toc_section_display": true,
   "toc_window_display": false
  },
  "varInspector": {
   "cols": {
    "lenName": 16,
    "lenType": 16,
    "lenVar": 40
   },
   "kernels_config": {
    "python": {
     "delete_cmd_postfix": "",
     "delete_cmd_prefix": "del ",
     "library": "var_list.py",
     "varRefreshCmd": "print(var_dic_list())"
    },
    "r": {
     "delete_cmd_postfix": ") ",
     "delete_cmd_prefix": "rm(",
     "library": "var_list.r",
     "varRefreshCmd": "cat(var_dic_list()) "
    }
   },
   "types_to_exclude": [
    "module",
    "function",
    "builtin_function_or_method",
    "instance",
    "_Feature"
   ],
   "window_display": false
  }
 },
 "nbformat": 4,
 "nbformat_minor": 2
}
