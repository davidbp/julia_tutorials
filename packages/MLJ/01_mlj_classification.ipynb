{
 "cells": [
  {
   "cell_type": "markdown",
   "metadata": {},
   "source": [
    "## MLJ Basics\n",
    "\n",
    "This notebook shows the basics tools needed to deal with a classification task in MLJ.\n",
    "\n",
    "In particular it shows:\n",
    "\n",
    "- How to load a model\n",
    "- How to fit a model\n",
    "- How to predict using a fitted model\n",
    "- How to evaluate a model\n"
   ]
  },
  {
   "cell_type": "code",
   "execution_count": 1,
   "metadata": {
    "ExecuteTime": {
     "end_time": "2020-12-20T11:57:01.601000+01:00",
     "start_time": "2020-12-20T10:56:30.770Z"
    }
   },
   "outputs": [
    {
     "name": "stderr",
     "output_type": "stream",
     "text": [
      "┌ Info: Precompiling RDatasets [ce6b1742-4840-55fa-b093-852dadbb1d8b]\n",
      "└ @ Base loading.jl:1278\n",
      "┌ Info: Precompiling NearestNeighbors [b8a86587-4115-5ab1-83bc-aa920d37bbce]\n",
      "└ @ Base loading.jl:1278\n"
     ]
    },
    {
     "name": "stdout",
     "output_type": "stream",
     "text": [
      "┌─────────────┬────────────┬─────────────┬────────────┬────────────────────────────────┐\n",
      "│\u001b[1m SepalLength \u001b[0m│\u001b[1m SepalWidth \u001b[0m│\u001b[1m PetalLength \u001b[0m│\u001b[1m PetalWidth \u001b[0m│\u001b[1m Species                        \u001b[0m│\n",
      "│\u001b[90m Float64     \u001b[0m│\u001b[90m Float64    \u001b[0m│\u001b[90m Float64     \u001b[0m│\u001b[90m Float64    \u001b[0m│\u001b[90m CategoricalValue{String,UInt8} \u001b[0m│\n",
      "│\u001b[90m Continuous  \u001b[0m│\u001b[90m Continuous \u001b[0m│\u001b[90m Continuous  \u001b[0m│\u001b[90m Continuous \u001b[0m│\u001b[90m Multiclass{3}                  \u001b[0m│\n",
      "├─────────────┼────────────┼─────────────┼────────────┼────────────────────────────────┤\n",
      "│ 5.1         │ 3.5        │ 1.4         │ 0.2        │ setosa                         │\n",
      "│ 4.9         │ 3.0        │ 1.4         │ 0.2        │ setosa                         │\n",
      "│ 4.7         │ 3.2        │ 1.3         │ 0.2        │ setosa                         │\n",
      "└─────────────┴────────────┴─────────────┴────────────┴────────────────────────────────┘\n"
     ]
    }
   ],
   "source": [
    "using RDatasets, MLJ, NearestNeighbors, MLJModels\n",
    "iris = dataset(\"datasets\", \"iris\")\n",
    "first(iris, 3) |> pretty"
   ]
  },
  {
   "cell_type": "code",
   "execution_count": 2,
   "metadata": {
    "ExecuteTime": {
     "end_time": "2020-12-20T11:59:13.451000+01:00",
     "start_time": "2020-12-20T10:59:13.445Z"
    }
   },
   "outputs": [
    {
     "name": "stdout",
     "output_type": "stream",
     "text": [
      "\u001b[32m\u001b[1mStatus\u001b[22m\u001b[39m `~/.julia/environments/v1.5/Project.toml`\n",
      " \u001b[90m [add582a8] \u001b[39m\u001b[37mMLJ v0.15.0\u001b[39m\n"
     ]
    }
   ],
   "source": [
    "using Pkg\n",
    "Pkg.status(\"MLJ\")"
   ]
  },
  {
   "cell_type": "code",
   "execution_count": 3,
   "metadata": {
    "ExecuteTime": {
     "end_time": "2020-12-20T11:59:14.498000+01:00",
     "start_time": "2020-12-20T10:59:13.738Z"
    },
    "scrolled": true
   },
   "outputs": [
    {
     "name": "stdout",
     "output_type": "stream",
     "text": [
      "┌─────────────┬────────────┬─────────────┬────────────┐\n",
      "│\u001b[1m SepalLength \u001b[0m│\u001b[1m SepalWidth \u001b[0m│\u001b[1m PetalLength \u001b[0m│\u001b[1m PetalWidth \u001b[0m│\n",
      "│\u001b[90m Float64     \u001b[0m│\u001b[90m Float64    \u001b[0m│\u001b[90m Float64     \u001b[0m│\u001b[90m Float64    \u001b[0m│\n",
      "│\u001b[90m Continuous  \u001b[0m│\u001b[90m Continuous \u001b[0m│\u001b[90m Continuous  \u001b[0m│\u001b[90m Continuous \u001b[0m│\n",
      "├─────────────┼────────────┼─────────────┼────────────┤\n",
      "│ 5.1         │ 3.5        │ 1.4         │ 0.2        │\n",
      "└─────────────┴────────────┴─────────────┴────────────┘\n"
     ]
    }
   ],
   "source": [
    "y, X = unpack(iris, ==(:Species), colname -> true)\n",
    "first(X, 1) |> pretty"
   ]
  },
  {
   "cell_type": "code",
   "execution_count": 4,
   "metadata": {
    "ExecuteTime": {
     "end_time": "2020-12-20T11:59:16.072000+01:00",
     "start_time": "2020-12-20T10:59:15.865Z"
    }
   },
   "outputs": [
    {
     "name": "stdout",
     "output_type": "stream",
     "text": [
      "DataFrame\n",
      "CategoricalArrays.CategoricalArray{String,1,UInt8,String,CategoricalArrays.CategoricalValue{String,UInt8},Union{}}\n"
     ]
    }
   ],
   "source": [
    "println(typeof(X))\n",
    "println(typeof(y))"
   ]
  },
  {
   "cell_type": "code",
   "execution_count": 5,
   "metadata": {
    "ExecuteTime": {
     "end_time": "2020-12-20T11:59:19.410000+01:00",
     "start_time": "2020-12-20T10:59:16.044Z"
    }
   },
   "outputs": [
    {
     "name": "stdout",
     "output_type": "stream",
     "text": [
      "AdaBoostClassifier            (ScikitLearn)\n",
      "AdaBoostStumpClassifier       (DecisionTree)\n",
      "BaggingClassifier             (ScikitLearn)\n",
      "BayesianLDA                   (MultivariateStats)\n",
      "BayesianLDA                   (ScikitLearn)\n",
      "BayesianQDA                   (ScikitLearn)\n",
      "BayesianSubspaceLDA           (MultivariateStats)\n",
      "ConstantClassifier            (MLJModels)\n",
      "DecisionTreeClassifier        (DecisionTree)\n",
      "DummyClassifier               (ScikitLearn)\n",
      "EvoTreeClassifier             (EvoTrees)\n",
      "ExtraTreesClassifier          (ScikitLearn)\n",
      "GaussianNBClassifier          (NaiveBayes)\n",
      "GaussianNBClassifier          (ScikitLearn)\n",
      "GaussianProcessClassifier     (ScikitLearn)\n",
      "GradientBoostingClassifier    (ScikitLearn)\n",
      "KNNClassifier                 (NearestNeighbors)\n",
      "KNeighborsClassifier          (ScikitLearn)\n",
      "LDA                           (MultivariateStats)\n",
      "LGBMClassifier                (LightGBM)\n",
      "LogisticCVClassifier          (ScikitLearn)\n",
      "LogisticClassifier            (MLJLinearModels)\n",
      "LogisticClassifier            (ScikitLearn)\n",
      "MultinomialClassifier         (MLJLinearModels)\n",
      "NeuralNetworkClassifier       (MLJFlux)\n",
      "ProbabilisticSGDClassifier    (ScikitLearn)\n",
      "RandomForestClassifier        (DecisionTree)\n",
      "RandomForestClassifier        (ScikitLearn)\n",
      "SubspaceLDA                   (MultivariateStats)\n",
      "XGBoostClassifier             (XGBoost)\n"
     ]
    }
   ],
   "source": [
    "for m in models(matching(X, y))\n",
    "    if m.prediction_type == :probabilistic\n",
    "        println(rpad(m.name, 30), \"($(m.package_name))\")\n",
    "    end\n",
    "end"
   ]
  },
  {
   "cell_type": "markdown",
   "metadata": {},
   "source": [
    "## Training a KNN"
   ]
  },
  {
   "cell_type": "markdown",
   "metadata": {},
   "source": [
    "### Choosing a model"
   ]
  },
  {
   "cell_type": "code",
   "execution_count": 6,
   "metadata": {
    "ExecuteTime": {
     "end_time": "2020-12-20T11:59:55.413000+01:00",
     "start_time": "2020-12-20T10:59:45.834Z"
    },
    "scrolled": false
   },
   "outputs": [
    {
     "data": {
      "text/plain": [
       "KNNClassifier(\n",
       "    K = 5,\n",
       "    algorithm = :kdtree,\n",
       "    metric = Euclidean(0.0),\n",
       "    leafsize = 10,\n",
       "    reorder = true,\n",
       "    weights = :uniform)\u001b[34m @915\u001b[39m"
      ]
     },
     "execution_count": 6,
     "metadata": {},
     "output_type": "execute_result"
    }
   ],
   "source": [
    "knn = @load KNNClassifier verbosity = 0"
   ]
  },
  {
   "cell_type": "markdown",
   "metadata": {},
   "source": [
    "We can define specific atributes of the model setting them direcly to the loaded object.\n",
    "\n",
    "For example, we can set the `leafsize` to be 5:"
   ]
  },
  {
   "cell_type": "code",
   "execution_count": 7,
   "metadata": {
    "ExecuteTime": {
     "end_time": "2020-12-20T11:59:55.587000+01:00",
     "start_time": "2020-12-20T10:59:46.926Z"
    }
   },
   "outputs": [
    {
     "data": {
      "text/plain": [
       "10"
      ]
     },
     "execution_count": 7,
     "metadata": {},
     "output_type": "execute_result"
    }
   ],
   "source": [
    "knn.leafsize = 10"
   ]
  },
  {
   "cell_type": "code",
   "execution_count": 8,
   "metadata": {
    "ExecuteTime": {
     "end_time": "2020-12-20T11:59:55.588000+01:00",
     "start_time": "2020-12-20T10:59:47.355Z"
    },
    "scrolled": true
   },
   "outputs": [
    {
     "data": {
      "text/plain": [
       "KNNClassifier(\n",
       "    K = 5,\n",
       "    algorithm = :kdtree,\n",
       "    metric = Euclidean(0.0),\n",
       "    leafsize = 10,\n",
       "    reorder = true,\n",
       "    weights = :uniform)\u001b[34m @915\u001b[39m"
      ]
     },
     "execution_count": 8,
     "metadata": {},
     "output_type": "execute_result"
    }
   ],
   "source": [
    "knn"
   ]
  },
  {
   "cell_type": "markdown",
   "metadata": {},
   "source": [
    "### Defining a machine with a model and the data"
   ]
  },
  {
   "cell_type": "markdown",
   "metadata": {
    "ExecuteTime": {
     "end_time": "2020-12-19T13:02:16.526000+01:00",
     "start_time": "2020-12-19T12:02:16.523Z"
    }
   },
   "source": [
    "Now we will define a `MLJ.Machine` object that will contain 3 objects:\n",
    "\n",
    "- The model `knn`\n",
    "- The input data `X`\n",
    "- The output data `y`"
   ]
  },
  {
   "cell_type": "code",
   "execution_count": 9,
   "metadata": {
    "ExecuteTime": {
     "end_time": "2020-12-20T12:26:11.932000+01:00",
     "start_time": "2020-12-20T11:26:11.930Z"
    }
   },
   "outputs": [
    {
     "name": "stdout",
     "output_type": "stream",
     "text": [
      "DataFrame\n",
      "CategoricalArrays.CategoricalArray{String,1,UInt8,String,CategoricalArrays.CategoricalValue{String,UInt8},Union{}}\n"
     ]
    }
   ],
   "source": [
    "println(typeof(X))\n",
    "println(typeof(y))"
   ]
  },
  {
   "cell_type": "markdown",
   "metadata": {
    "ExecuteTime": {
     "end_time": "2020-12-19T13:03:01.550000+01:00",
     "start_time": "2020-12-19T12:03:01.547Z"
    }
   },
   "source": [
    "Let us define the machine with the function `machine`"
   ]
  },
  {
   "cell_type": "code",
   "execution_count": 10,
   "metadata": {
    "ExecuteTime": {
     "end_time": "2020-12-20T12:26:12.292000+01:00",
     "start_time": "2020-12-20T11:26:12.290Z"
    }
   },
   "outputs": [
    {
     "data": {
      "text/plain": [
       "\u001b[34mMachine{KNNClassifier} @094\u001b[39m trained 0 times.\n",
       "  args: \n",
       "    1:\t\u001b[34mSource @273\u001b[39m ⏎ `Table{AbstractArray{Continuous,1}}`\n",
       "    2:\t\u001b[34mSource @749\u001b[39m ⏎ `AbstractArray{Multiclass{3},1}`\n"
      ]
     },
     "execution_count": 10,
     "metadata": {},
     "output_type": "execute_result"
    }
   ],
   "source": [
    "m_knn = machine(knn, X, y)"
   ]
  },
  {
   "cell_type": "markdown",
   "metadata": {},
   "source": [
    "Now we have a `Machine` object containing a `KNNClassifier`"
   ]
  },
  {
   "cell_type": "code",
   "execution_count": 11,
   "metadata": {
    "ExecuteTime": {
     "end_time": "2020-12-20T12:26:12.652000+01:00",
     "start_time": "2020-12-20T11:26:12.650Z"
    }
   },
   "outputs": [
    {
     "data": {
      "text/plain": [
       "Machine{MLJModels.NearestNeighbors_.KNNClassifier}"
      ]
     },
     "execution_count": 11,
     "metadata": {},
     "output_type": "execute_result"
    }
   ],
   "source": [
    "typeof(m_knn)"
   ]
  },
  {
   "cell_type": "markdown",
   "metadata": {},
   "source": [
    "Since the machine already has all the training data we can specify a set of indices for training and one set for test.\n",
    "\n",
    "A very handy function to generate train and test splits is **`partition`** which can take as input \n",
    "\n",
    "- `UnitRange`  (ex: `1:10`) \n",
    "- `Array` (ex:`[1,2,3,4,5,6,7,8,9,10]`) \n",
    "- `AbstractUnitRange` (ex: `eachindex(y)`)\n",
    "\n",
    "To generate a train/test split. It returns two arrays with the expected partitions.\n",
    "\n",
    "If you want a reproducible partition you can use Random.seed!(some_integer) so that the partition will be allways the same\n",
    " \n",
    " \n",
    "#### Julia example\n",
    "```\n",
    "train_test =    partition(1:10, 0.8, shuffle=true)\n",
    "train_test \n",
    "\n",
    "([4, 3, 9, 7, 2, 1, 6, 8], [10, 5])\n",
    "```\n",
    "\n",
    "#### Sklearn equivalent\n",
    "\n",
    "\n",
    "```\n",
    "train_test =  sklearn.model_selection.train_test_split(range(10), \n",
    "                                                       train_size=0.8, \n",
    "                                                       shuffle=True, \n",
    "                                                       random_state=123)\n",
    "train_test\n",
    "[[7, 5, 8, 3, 1, 6, 9, 2], [4, 0]]\n",
    "``` \n",
    "\n",
    "\n",
    "The following version to generate a train, test split are equivalent"
   ]
  },
  {
   "cell_type": "code",
   "execution_count": 12,
   "metadata": {
    "ExecuteTime": {
     "end_time": "2020-12-20T12:26:13.081000+01:00",
     "start_time": "2020-12-20T11:26:13.078Z"
    }
   },
   "outputs": [
    {
     "data": {
      "text/plain": [
       "([125, 100, 130, 9, 70, 148, 39, 64, 6, 107  …  134, 114, 52, 74, 44, 61, 83, 18, 122, 26], [97, 78, 30, 108, 101, 24, 85, 91, 135, 96  …  112, 144, 140, 72, 109, 41, 106, 147, 47, 5])"
      ]
     },
     "execution_count": 12,
     "metadata": {},
     "output_type": "execute_result"
    }
   ],
   "source": [
    "using Random\n",
    "Random.seed!(123)\n",
    "train_ind, test_ind = partition(Array(1:length(y)), 0.7, shuffle=true)"
   ]
  },
  {
   "cell_type": "code",
   "execution_count": 13,
   "metadata": {
    "ExecuteTime": {
     "end_time": "2020-12-20T12:26:13.261000+01:00",
     "start_time": "2020-12-20T11:26:13.258Z"
    }
   },
   "outputs": [
    {
     "data": {
      "text/plain": [
       "([125, 100, 130, 9, 70, 148, 39, 64, 6, 107  …  134, 114, 52, 74, 44, 61, 83, 18, 122, 26], [97, 78, 30, 108, 101, 24, 85, 91, 135, 96  …  112, 144, 140, 72, 109, 41, 106, 147, 47, 5])"
      ]
     },
     "execution_count": 13,
     "metadata": {},
     "output_type": "execute_result"
    }
   ],
   "source": [
    "using Random\n",
    "Random.seed!(123)\n",
    "train_ind, test_ind = partition(eachindex(y), 0.7, shuffle=true)"
   ]
  },
  {
   "cell_type": "code",
   "execution_count": 14,
   "metadata": {
    "ExecuteTime": {
     "end_time": "2020-12-20T12:26:13.463000+01:00",
     "start_time": "2020-12-20T11:26:13.460Z"
    }
   },
   "outputs": [
    {
     "data": {
      "text/plain": [
       "([125, 100, 130, 9, 70, 148, 39, 64, 6, 107  …  134, 114, 52, 74, 44, 61, 83, 18, 122, 26], [97, 78, 30, 108, 101, 24, 85, 91, 135, 96  …  112, 144, 140, 72, 109, 41, 106, 147, 47, 5])"
      ]
     },
     "execution_count": 14,
     "metadata": {},
     "output_type": "execute_result"
    }
   ],
   "source": [
    "using Random\n",
    "Random.seed!(123)\n",
    "train_ind, test_ind = partition(1:length(y), 0.7, shuffle=true)"
   ]
  },
  {
   "cell_type": "markdown",
   "metadata": {
    "ExecuteTime": {
     "end_time": "2020-12-19T12:57:30.990000+01:00",
     "start_time": "2020-12-19T11:57:30.987Z"
    }
   },
   "source": [
    "## Training and predicting with a machine\n",
    "We can train a machine using **`fit!`**  and we can specify the rows used with **`rows=training_ind`**"
   ]
  },
  {
   "cell_type": "code",
   "execution_count": 15,
   "metadata": {
    "ExecuteTime": {
     "end_time": "2020-12-20T12:26:13.825000+01:00",
     "start_time": "2020-12-20T11:26:13.823Z"
    },
    "scrolled": true
   },
   "outputs": [
    {
     "name": "stderr",
     "output_type": "stream",
     "text": [
      "┌ Info: Training \u001b[34mMachine{KNNClassifier} @094\u001b[39m.\n",
      "└ @ MLJBase /Users/davidbuchaca/.julia/packages/MLJBase/5TNcr/src/machines.jl:319\n"
     ]
    },
    {
     "data": {
      "text/plain": [
       "\u001b[34mMachine{KNNClassifier} @094\u001b[39m trained 1 time.\n",
       "  args: \n",
       "    1:\t\u001b[34mSource @273\u001b[39m ⏎ `Table{AbstractArray{Continuous,1}}`\n",
       "    2:\t\u001b[34mSource @749\u001b[39m ⏎ `AbstractArray{Multiclass{3},1}`\n"
      ]
     },
     "execution_count": 15,
     "metadata": {},
     "output_type": "execute_result"
    }
   ],
   "source": [
    "fit!(m_knn, rows=train_ind)"
   ]
  },
  {
   "cell_type": "markdown",
   "metadata": {
    "ExecuteTime": {
     "end_time": "2020-12-19T18:35:04.468000+01:00",
     "start_time": "2020-12-19T17:35:04.466Z"
    }
   },
   "source": [
    "**`fitted_params(machine)`** allows us to view the fitted parameters of a `machine`."
   ]
  },
  {
   "cell_type": "code",
   "execution_count": 16,
   "metadata": {
    "ExecuteTime": {
     "end_time": "2020-12-20T12:26:14.970000+01:00",
     "start_time": "2020-12-20T11:26:14.968Z"
    }
   },
   "outputs": [
    {
     "name": "stdout",
     "output_type": "stream",
     "text": [
      "(tree = KDTree{StaticArrays.SArray{Tuple{4},Float64,1,4},Euclidean,Float64}\n",
      "  Number of points: 105\n",
      "  Dimensions: 4\n",
      "  Metric: Euclidean(0.0)\n",
      "  Reordered: true,)"
     ]
    }
   ],
   "source": [
    "fitted_params(m_knn) |> print"
   ]
  },
  {
   "cell_type": "markdown",
   "metadata": {},
   "source": [
    "**`predict`** allows us to get  predictions from a machine. \n",
    "\n",
    "There are two different approaches:\n",
    "\n",
    "- **`predict(machine, rows=test_ind)`**: Use the internal dataset that provided to the machine specifying the rows from which to make predictions.\n",
    "\n",
    "\n",
    "- **`predict(machine, X_df)`**: Use a dataframe `X_df` from which to make predictions.\n",
    "\n"
   ]
  },
  {
   "cell_type": "code",
   "execution_count": 17,
   "metadata": {
    "ExecuteTime": {
     "end_time": "2020-12-20T12:26:15.522000+01:00",
     "start_time": "2020-12-20T11:26:15.519Z"
    }
   },
   "outputs": [],
   "source": [
    "ŷ_test  = predict(m_knn, rows=test_ind);\n",
    "ŷ_train = predict(m_knn, rows=train_ind);"
   ]
  },
  {
   "cell_type": "code",
   "execution_count": 18,
   "metadata": {
    "ExecuteTime": {
     "end_time": "2020-12-20T12:26:24.579000+01:00",
     "start_time": "2020-12-20T11:26:24.576Z"
    }
   },
   "outputs": [],
   "source": [
    "ŷ_train = predict(m_knn, X[train_ind,:])\n",
    "ŷ_test  = predict(m_knn, X[test_ind,:]);"
   ]
  },
  {
   "cell_type": "code",
   "execution_count": 19,
   "metadata": {
    "ExecuteTime": {
     "end_time": "2020-12-20T12:27:04.133000+01:00",
     "start_time": "2020-12-20T11:27:04.131Z"
    }
   },
   "outputs": [],
   "source": [
    "y_train = y[train_ind]\n",
    "y_test = y[test_ind];"
   ]
  },
  {
   "cell_type": "code",
   "execution_count": 20,
   "metadata": {
    "ExecuteTime": {
     "end_time": "2020-12-20T12:27:04.325000+01:00",
     "start_time": "2020-12-20T11:27:04.323Z"
    }
   },
   "outputs": [
    {
     "data": {
      "text/plain": [
       "MLJBase.UnivariateFiniteArray{Multiclass{3},String,UInt8,Float64,1}"
      ]
     },
     "execution_count": 20,
     "metadata": {},
     "output_type": "execute_result"
    }
   ],
   "source": [
    "typeof(ŷ_train)"
   ]
  },
  {
   "cell_type": "code",
   "execution_count": 21,
   "metadata": {
    "ExecuteTime": {
     "end_time": "2020-12-20T12:27:04.493000+01:00",
     "start_time": "2020-12-20T11:27:04.491Z"
    }
   },
   "outputs": [
    {
     "data": {
      "text/plain": [
       "UnivariateFinite{Multiclass{3}}(setosa=>0.0, versicolor=>0.0, virginica=>1.0)"
      ]
     },
     "execution_count": 21,
     "metadata": {},
     "output_type": "execute_result"
    }
   ],
   "source": [
    "ŷ_train[3]"
   ]
  },
  {
   "cell_type": "markdown",
   "metadata": {
    "ExecuteTime": {
     "end_time": "2020-12-19T13:16:45.037000+01:00",
     "start_time": "2020-12-19T12:16:45.034Z"
    }
   },
   "source": [
    "It is important to note that `UnivariateFinite` cannot be directly compared with a `CategoricalArray`. "
   ]
  },
  {
   "cell_type": "code",
   "execution_count": 22,
   "metadata": {
    "ExecuteTime": {
     "end_time": "2020-12-20T12:27:04.853000+01:00",
     "start_time": "2020-12-20T11:27:04.851Z"
    }
   },
   "outputs": [
    {
     "data": {
      "text/plain": [
       "UnivariateFinite{Multiclass{3}}(setosa=>0.0, versicolor=>0.0, virginica=>1.0)"
      ]
     },
     "execution_count": 22,
     "metadata": {},
     "output_type": "execute_result"
    }
   ],
   "source": [
    "ŷ_train[1]"
   ]
  },
  {
   "cell_type": "code",
   "execution_count": 24,
   "metadata": {
    "ExecuteTime": {
     "end_time": "2020-12-20T12:27:05.133000+01:00",
     "start_time": "2020-12-20T11:27:05.043Z"
    },
    "scrolled": true
   },
   "outputs": [
    {
     "data": {
      "text/plain": [
       "CategoricalArrays.CategoricalValue{String,UInt8} \"virginica\""
      ]
     },
     "execution_count": 24,
     "metadata": {},
     "output_type": "execute_result"
    }
   ],
   "source": [
    "y_train[1]"
   ]
  },
  {
   "cell_type": "code",
   "execution_count": 25,
   "metadata": {
    "ExecuteTime": {
     "end_time": "2020-12-20T12:27:05.413000+01:00",
     "start_time": "2020-12-20T11:27:05.246Z"
    }
   },
   "outputs": [
    {
     "data": {
      "text/plain": [
       "false"
      ]
     },
     "execution_count": 25,
     "metadata": {},
     "output_type": "execute_result"
    }
   ],
   "source": [
    "ŷ_train[1] == y_train[1]"
   ]
  },
  {
   "cell_type": "markdown",
   "metadata": {
    "ExecuteTime": {
     "end_time": "2020-12-19T13:14:53.579000+01:00",
     "start_time": "2020-12-19T12:14:53.577Z"
    }
   },
   "source": [
    "### Predictions for classification algorithms in  MLJ\n",
    "\n",
    "Notice that in MLJ machine predictions for classification problems return an Array of the following form: `MLJBase.UnivariateFiniteArray{Multiclass{3},String,UInt8,Float64,1}`.\n",
    "This type might be a bit surprising, let's see the details.\n",
    "\n",
    "You can interpret `ŷ_test[k]` as an array of length `n_classes`. But users can't do `ŷ_test[k][c]` directly.\n",
    "\n",
    "A component `c` in this \"array\" contains the probability of example `k` beeing from the class indexed by integer `c`. \n",
    "\n",
    "For example, the following line tells us that the probability of `versicolor` is 0.6 and the probability of `virginica` is 0.4.\n",
    "\n",
    "```julia\n",
    "ŷ_test[2]\n",
    "UnivariateFinite{Multiclass{3}}(setosa=>0.0, versicolor=>0.6, virginica=>0.4)\n",
    "```\n",
    "\n",
    "Note that the output of predict is a **`MLJBase.UnivariateFiniteArray`** and each element is of type **`UnivariateFinite`** which contains the predicted probabilities for each class given the input of the predict.\n",
    "\n",
    "\n",
    "There are several advantadges for using `UnivariateFinite`  instead of a vector of floats **TODO:EXPAND THIS**.\n",
    "\n",
    "\n",
    "##### Sklearn equivalent\n",
    "\n",
    "In sklearn, `model.predict(X)` returns a `np.array` containing the predicted class labels (allawys coded as integers from 0 to `n_classes-1` ).\n",
    " \n",
    "Notice that `predict(tree_machine, X[test_ind,:])` in MLJ would be pretty much the same as `tree_machine.predict_proba(X[test,:])` in Sklearn. The main difference is that Sklearn would return a numpy array of float values whereas MLJ returns a \"weird\" array of `UnivariateFinite{Multiclass{3}}` values.\n",
    "\n",
    "\n"
   ]
  },
  {
   "cell_type": "code",
   "execution_count": 26,
   "metadata": {
    "ExecuteTime": {
     "end_time": "2020-12-20T12:27:06.034000+01:00",
     "start_time": "2020-12-20T11:27:06.032Z"
    }
   },
   "outputs": [
    {
     "data": {
      "text/plain": [
       "UnivariateFinite{Multiclass{3}}(setosa=>0.0, versicolor=>0.6, virginica=>0.4)"
      ]
     },
     "execution_count": 26,
     "metadata": {},
     "output_type": "execute_result"
    }
   ],
   "source": [
    "ŷ_test[2]"
   ]
  },
  {
   "cell_type": "code",
   "execution_count": 27,
   "metadata": {
    "ExecuteTime": {
     "end_time": "2020-12-20T12:27:06.215000+01:00",
     "start_time": "2020-12-20T11:27:06.213Z"
    }
   },
   "outputs": [
    {
     "data": {
      "text/plain": [
       "OrderedCollections.LittleDict{UInt8,Float64,Array{UInt8,1},Array{Float64,1}} with 3 entries:\n",
       "  0x01 => 0.0\n",
       "  0x02 => 0.6\n",
       "  0x03 => 0.4"
      ]
     },
     "execution_count": 27,
     "metadata": {},
     "output_type": "execute_result"
    }
   ],
   "source": [
    "ŷ_test[2].prob_given_ref"
   ]
  },
  {
   "cell_type": "markdown",
   "metadata": {
    "ExecuteTime": {
     "end_time": "2020-12-19T18:37:25.323000+01:00",
     "start_time": "2020-12-19T17:37:25.321Z"
    }
   },
   "source": [
    "**`prob_given_ref.vals`** returns a vector with the probabilities."
   ]
  },
  {
   "cell_type": "code",
   "execution_count": 28,
   "metadata": {
    "ExecuteTime": {
     "end_time": "2020-12-20T12:27:06.619000+01:00",
     "start_time": "2020-12-20T11:27:06.617Z"
    }
   },
   "outputs": [
    {
     "data": {
      "text/plain": [
       "3-element Array{Float64,1}:\n",
       " 0.0\n",
       " 0.6000000000000001\n",
       " 0.4"
      ]
     },
     "execution_count": 28,
     "metadata": {},
     "output_type": "execute_result"
    }
   ],
   "source": [
    "ŷ_test[2].prob_given_ref.vals"
   ]
  },
  {
   "cell_type": "markdown",
   "metadata": {},
   "source": [
    "**`mode(ŷ_test[k])`**  can be used to get the most likely class for example `k`"
   ]
  },
  {
   "cell_type": "code",
   "execution_count": 29,
   "metadata": {
    "ExecuteTime": {
     "end_time": "2020-12-20T12:27:07.001000+01:00",
     "start_time": "2020-12-20T11:27:06.999Z"
    }
   },
   "outputs": [
    {
     "data": {
      "text/plain": [
       "CategoricalArrays.CategoricalValue{String,UInt8} \"versicolor\""
      ]
     },
     "execution_count": 29,
     "metadata": {},
     "output_type": "execute_result"
    }
   ],
   "source": [
    "mode(ŷ_test[2])"
   ]
  },
  {
   "cell_type": "markdown",
   "metadata": {
    "ExecuteTime": {
     "end_time": "2020-12-19T18:44:19.519000+01:00",
     "start_time": "2020-12-19T17:44:19.516Z"
    }
   },
   "source": [
    "**`predict_mode(machine, X)`** returns a categorical array with the predicted classes from `X`"
   ]
  },
  {
   "cell_type": "code",
   "execution_count": 30,
   "metadata": {
    "ExecuteTime": {
     "end_time": "2020-12-20T12:27:07.384000+01:00",
     "start_time": "2020-12-20T11:27:07.382Z"
    }
   },
   "outputs": [
    {
     "data": {
      "text/plain": [
       "3-element CategoricalArrays.CategoricalArray{String,1,UInt8}:\n",
       " \"versicolor\"\n",
       " \"versicolor\"\n",
       " \"setosa\""
      ]
     },
     "execution_count": 30,
     "metadata": {},
     "output_type": "execute_result"
    }
   ],
   "source": [
    " predict_mode(m_knn, X[test_ind[1:3],:])"
   ]
  },
  {
   "cell_type": "markdown",
   "metadata": {},
   "source": [
    "we can make comparissons to check if the predicted class equals the true class"
   ]
  },
  {
   "cell_type": "code",
   "execution_count": 31,
   "metadata": {
    "ExecuteTime": {
     "end_time": "2020-12-20T12:27:07.750000+01:00",
     "start_time": "2020-12-20T11:27:07.742Z"
    }
   },
   "outputs": [
    {
     "data": {
      "text/plain": [
       "true"
      ]
     },
     "execution_count": 31,
     "metadata": {},
     "output_type": "execute_result"
    }
   ],
   "source": [
    "mode(ŷ_test[2]) == y_test[2]"
   ]
  },
  {
   "cell_type": "markdown",
   "metadata": {},
   "source": [
    "Users need to be carefull not to confuse the previous line with the following one:"
   ]
  },
  {
   "cell_type": "code",
   "execution_count": 32,
   "metadata": {
    "ExecuteTime": {
     "end_time": "2020-12-20T12:27:08.464000+01:00",
     "start_time": "2020-12-20T11:27:08.462Z"
    }
   },
   "outputs": [
    {
     "data": {
      "text/plain": [
       "false"
      ]
     },
     "execution_count": 32,
     "metadata": {},
     "output_type": "execute_result"
    }
   ],
   "source": [
    "ŷ_test[2] == y_test[2]"
   ]
  },
  {
   "cell_type": "markdown",
   "metadata": {
    "ExecuteTime": {
     "end_time": "2020-12-19T18:25:41.194000+01:00",
     "start_time": "2020-12-19T17:25:41.192Z"
    }
   },
   "source": [
    "\n",
    "In order to compute the accuracy between `ŷ_test` and `y_test` we could do"
   ]
  },
  {
   "cell_type": "code",
   "execution_count": 33,
   "metadata": {
    "ExecuteTime": {
     "end_time": "2020-12-20T12:27:09.806000+01:00",
     "start_time": "2020-12-20T11:27:09.789Z"
    }
   },
   "outputs": [
    {
     "data": {
      "text/plain": [
       "0.9777777777777777"
      ]
     },
     "execution_count": 33,
     "metadata": {},
     "output_type": "execute_result"
    }
   ],
   "source": [
    "function accuracy(y,ŷ)\n",
    "    accuracy = 0.\n",
    "    for m in 1:length(y)\n",
    "        accuracy += y[m] == mode(ŷ[m])\n",
    "    end\n",
    "    return accuracy/length(y)\n",
    "end\n",
    "\n",
    "accuracy(y_test,ŷ_test)"
   ]
  },
  {
   "cell_type": "markdown",
   "metadata": {
    "ExecuteTime": {
     "end_time": "2020-12-20T12:52:20.937000+01:00",
     "start_time": "2020-12-20T11:52:20.935Z"
    }
   },
   "source": [
    "We can also compute the accuracy as follows:"
   ]
  },
  {
   "cell_type": "code",
   "execution_count": 34,
   "metadata": {
    "ExecuteTime": {
     "end_time": "2020-12-20T12:52:52.617000+01:00",
     "start_time": "2020-12-20T11:52:52.615Z"
    },
    "scrolled": true
   },
   "outputs": [
    {
     "data": {
      "text/plain": [
       "0.9777777777777777"
      ]
     },
     "execution_count": 34,
     "metadata": {},
     "output_type": "execute_result"
    }
   ],
   "source": [
    "1 - misclassification_rate(mode.(ŷ_test),y_test)"
   ]
  },
  {
   "cell_type": "markdown",
   "metadata": {},
   "source": [
    "Note that there are other metrics that can be used"
   ]
  },
  {
   "cell_type": "code",
   "execution_count": 35,
   "metadata": {
    "ExecuteTime": {
     "end_time": "2020-12-20T12:53:17.963000+01:00",
     "start_time": "2020-12-20T11:53:17.961Z"
    }
   },
   "outputs": [
    {
     "data": {
      "text/plain": [
       "0.08064497513068349"
      ]
     },
     "execution_count": 35,
     "metadata": {},
     "output_type": "execute_result"
    }
   ],
   "source": [
    "mean(cross_entropy(ŷ_test,y_test))"
   ]
  },
  {
   "cell_type": "code",
   "execution_count": 36,
   "metadata": {
    "ExecuteTime": {
     "end_time": "2020-12-20T12:53:18.301000+01:00",
     "start_time": "2020-12-20T11:53:18.299Z"
    }
   },
   "outputs": [
    {
     "data": {
      "text/plain": [
       "0.0806"
      ]
     },
     "execution_count": 36,
     "metadata": {},
     "output_type": "execute_result"
    }
   ],
   "source": [
    "mce = mean(cross_entropy(ŷ_test, y_test))\n",
    "round(mce, digits=4)"
   ]
  },
  {
   "cell_type": "markdown",
   "metadata": {
    "ExecuteTime": {
     "end_time": "2020-12-20T12:23:56.165000+01:00",
     "start_time": "2020-12-20T11:23:56.163Z"
    }
   },
   "source": [
    "**`levels`** allow us to retrieve the \"levels\" or categories assigned to each possible value in a CategoricalArray"
   ]
  },
  {
   "cell_type": "code",
   "execution_count": 37,
   "metadata": {
    "ExecuteTime": {
     "end_time": "2020-12-20T12:29:17.474000+01:00",
     "start_time": "2020-12-20T11:29:17.472Z"
    }
   },
   "outputs": [
    {
     "data": {
      "text/plain": [
       "3-element Array{String,1}:\n",
       " \"setosa\"\n",
       " \"versicolor\"\n",
       " \"virginica\""
      ]
     },
     "execution_count": 37,
     "metadata": {},
     "output_type": "execute_result"
    }
   ],
   "source": [
    "y_levels = levels(y)"
   ]
  },
  {
   "cell_type": "markdown",
   "metadata": {
    "ExecuteTime": {
     "end_time": "2020-12-20T12:31:07.736000+01:00",
     "start_time": "2020-12-20T11:31:07.734Z"
    }
   },
   "source": [
    "**`pdf`**: Evaluates the probability density (mass).\n",
    "\n",
    "```\n",
    "pdf(d::MultivariateDistribution, x::AbstractArray)\n",
    "```\n",
    "\n",
    "Return the probability density of distribution d evaluated at x.\n",
    "\n",
    "- If `x` is a vector, it returns the result as a scalar.\n",
    "- If `x` is a matrix with n columns, it returns a vector `r` of length `n`, \n",
    "   where `r[i]` corresponds to `x[:,i]` (i.e. treating each column as a sample).\n",
    "\n",
    "\n",
    "`pdf!(r, d, x)` will write the results to a pre-allocated array `r`.\n",
    "\n",
    "\n",
    "##### Sklearn equivalent\n",
    "\n",
    "In sklearn the ouptut array containing the probabilities of each class given the input are extracted using `model.predict_proba`\n",
    "\n",
    "```\n",
    "y_test_probs = model.predict_proba(X)\n",
    "```\n"
   ]
  },
  {
   "cell_type": "code",
   "execution_count": 38,
   "metadata": {
    "ExecuteTime": {
     "end_time": "2020-12-20T12:40:13.559000+01:00",
     "start_time": "2020-12-20T11:40:13.556Z"
    },
    "scrolled": false
   },
   "outputs": [
    {
     "data": {
      "text/plain": [
       "3×3 Array{Float64,2}:\n",
       " 0.0  1.0  0.0\n",
       " 0.0  0.6  0.4\n",
       " 1.0  0.0  0.0"
      ]
     },
     "execution_count": 38,
     "metadata": {},
     "output_type": "execute_result"
    }
   ],
   "source": [
    "y_test_probs = pdf(ŷ_test[1:3], y_levels[1:3])"
   ]
  },
  {
   "cell_type": "markdown",
   "metadata": {},
   "source": [
    "## Tunning Hyperparameters"
   ]
  },
  {
   "cell_type": "code",
   "execution_count": 39,
   "metadata": {
    "ExecuteTime": {
     "end_time": "2020-12-20T12:43:59.445000+01:00",
     "start_time": "2020-12-20T11:43:58.402Z"
    }
   },
   "outputs": [
    {
     "data": {
      "text/plain": [
       "KNNClassifier(\n",
       "    K = 5,\n",
       "    algorithm = :kdtree,\n",
       "    metric = Euclidean(0.0),\n",
       "    leafsize = 10,\n",
       "    reorder = true,\n",
       "    weights = :uniform)\u001b[34m @003\u001b[39m"
      ]
     },
     "execution_count": 39,
     "metadata": {},
     "output_type": "execute_result"
    }
   ],
   "source": [
    "knn = @load KNNClassifier verbosity = 0"
   ]
  },
  {
   "cell_type": "code",
   "execution_count": 40,
   "metadata": {
    "ExecuteTime": {
     "end_time": "2020-12-20T12:43:59.446000+01:00",
     "start_time": "2020-12-20T11:43:59.325Z"
    }
   },
   "outputs": [
    {
     "data": {
      "text/plain": [
       "KNNClassifier(\n",
       "    K = 5,\n",
       "    algorithm = :kdtree,\n",
       "    metric = Euclidean(0.0),\n",
       "    leafsize = 10,\n",
       "    reorder = true,\n",
       "    weights = :uniform)\u001b[34m @003\u001b[39m"
      ]
     },
     "execution_count": 40,
     "metadata": {},
     "output_type": "execute_result"
    }
   ],
   "source": [
    "knn"
   ]
  },
  {
   "cell_type": "code",
   "execution_count": 41,
   "metadata": {
    "ExecuteTime": {
     "end_time": "2020-12-20T12:43:59.888000+01:00",
     "start_time": "2020-12-20T11:43:59.886Z"
    }
   },
   "outputs": [],
   "source": [
    "K_range = range(knn, :K, lower=5, upper=20);"
   ]
  },
  {
   "cell_type": "code",
   "execution_count": 42,
   "metadata": {
    "ExecuteTime": {
     "end_time": "2020-12-20T12:44:00.068000+01:00",
     "start_time": "2020-12-20T11:44:00.066Z"
    }
   },
   "outputs": [
    {
     "data": {
      "text/plain": [
       "MLJBase.NumericRange(Int64, :K, ... )"
      ]
     },
     "execution_count": 42,
     "metadata": {},
     "output_type": "execute_result"
    }
   ],
   "source": [
    "K_range"
   ]
  },
  {
   "cell_type": "markdown",
   "metadata": {},
   "source": [
    "Incidentally, a grid is generated internally \"over the range\" by calling the iterator method with an appropriate resolution:"
   ]
  },
  {
   "cell_type": "code",
   "execution_count": 43,
   "metadata": {
    "ExecuteTime": {
     "end_time": "2020-12-20T12:44:01.171000+01:00",
     "start_time": "2020-12-20T11:44:01.169Z"
    }
   },
   "outputs": [
    {
     "data": {
      "text/plain": [
       "3-element Array{Int64,1}:\n",
       "  5\n",
       " 12\n",
       " 20"
      ]
     },
     "execution_count": 43,
     "metadata": {},
     "output_type": "execute_result"
    }
   ],
   "source": [
    "iterator(K_range, 3)"
   ]
  },
  {
   "cell_type": "markdown",
   "metadata": {},
   "source": [
    "Now let us define a tunned model"
   ]
  },
  {
   "cell_type": "code",
   "execution_count": 44,
   "metadata": {
    "ExecuteTime": {
     "end_time": "2020-12-20T13:22:52.599000+01:00",
     "start_time": "2020-12-20T12:22:52.596Z"
    }
   },
   "outputs": [
    {
     "name": "stderr",
     "output_type": "stream",
     "text": [
      "┌ Info: No measure specified. Setting measure=\u001b[34mLogLoss{Float64} @578\u001b[39m. \n",
      "└ @ MLJTuning /Users/davidbuchaca/.julia/packages/MLJTuning/6MZ7C/src/tuned_models.jl:222\n"
     ]
    }
   ],
   "source": [
    "self_tuning_knn = TunedModel(model=knn,\n",
    "                             resampling = CV(nfolds=5),\n",
    "                             tuning = Grid(resolution=5),\n",
    "                             range = K_range);"
   ]
  },
  {
   "cell_type": "code",
   "execution_count": 45,
   "metadata": {
    "ExecuteTime": {
     "end_time": "2020-12-20T13:22:54.510000+01:00",
     "start_time": "2020-12-20T12:22:54.508Z"
    }
   },
   "outputs": [
    {
     "data": {
      "text/plain": [
       "\u001b[34mMachine{ProbabilisticTunedModel{Grid,…}} @107\u001b[39m trained 0 times.\n",
       "  args: \n",
       "    1:\t\u001b[34mSource @018\u001b[39m ⏎ `Table{AbstractArray{Continuous,1}}`\n",
       "    2:\t\u001b[34mSource @619\u001b[39m ⏎ `AbstractArray{Multiclass{3},1}`\n"
      ]
     },
     "execution_count": 45,
     "metadata": {},
     "output_type": "execute_result"
    }
   ],
   "source": [
    "m_self_tuning_knn = machine(self_tuning_knn, X, y)"
   ]
  },
  {
   "cell_type": "code",
   "execution_count": 46,
   "metadata": {
    "ExecuteTime": {
     "end_time": "2020-12-20T13:22:54.742000+01:00",
     "start_time": "2020-12-20T12:22:54.711Z"
    }
   },
   "outputs": [
    {
     "data": {
      "text/plain": [
       "\u001b[34mMachine{ProbabilisticTunedModel{Grid,…}} @107\u001b[39m trained 1 time.\n",
       "  args: \n",
       "    1:\t\u001b[34mSource @018\u001b[39m ⏎ `Table{AbstractArray{Continuous,1}}`\n",
       "    2:\t\u001b[34mSource @619\u001b[39m ⏎ `AbstractArray{Multiclass{3},1}`\n"
      ]
     },
     "execution_count": 46,
     "metadata": {},
     "output_type": "execute_result"
    }
   ],
   "source": [
    "fit!(m_self_tuning_knn, rows=train_ind, verbosity=0)"
   ]
  },
  {
   "cell_type": "code",
   "execution_count": 47,
   "metadata": {
    "ExecuteTime": {
     "end_time": "2020-12-20T13:22:55.005000+01:00",
     "start_time": "2020-12-20T12:22:55.003Z"
    }
   },
   "outputs": [
    {
     "data": {
      "text/plain": [
       "(best_model = \u001b[34mKNNClassifier @591\u001b[39m,\n",
       " best_fitted_params = (tree = KDTree{StaticArrays.SArray{Tuple{4},Float64,1,4},Euclidean,Float64}\n",
       "  Number of points: 105\n",
       "  Dimensions: 4\n",
       "  Metric: Euclidean(0.0)\n",
       "  Reordered: true,),)"
      ]
     },
     "execution_count": 47,
     "metadata": {},
     "output_type": "execute_result"
    }
   ],
   "source": [
    "fitted_params(m_self_tuning_knn)"
   ]
  },
  {
   "cell_type": "code",
   "execution_count": 48,
   "metadata": {
    "ExecuteTime": {
     "end_time": "2020-12-20T13:10:35.161000+01:00",
     "start_time": "2020-12-20T12:10:35.160Z"
    }
   },
   "outputs": [
    {
     "data": {
      "text/plain": [
       "KNNClassifier(\n",
       "    K = 5,\n",
       "    algorithm = :kdtree,\n",
       "    metric = Euclidean(0.0),\n",
       "    leafsize = 10,\n",
       "    reorder = true,\n",
       "    weights = :uniform)\u001b[34m @591\u001b[39m"
      ]
     },
     "execution_count": 48,
     "metadata": {},
     "output_type": "execute_result"
    }
   ],
   "source": [
    "fitted_params(m_self_tuning_knn).best_model"
   ]
  },
  {
   "cell_type": "markdown",
   "metadata": {},
   "source": [
    "**`report`** allows us to access a thorough report of the tuning process"
   ]
  },
  {
   "cell_type": "code",
   "execution_count": 49,
   "metadata": {
    "ExecuteTime": {
     "end_time": "2020-12-20T13:10:35.502000+01:00",
     "start_time": "2020-12-20T12:10:35.500Z"
    }
   },
   "outputs": [
    {
     "data": {
      "text/plain": [
       "(best_model = \u001b[34mKNNClassifier @591\u001b[39m,\n",
       " best_history_entry = (model = \u001b[34mKNNClassifier @591\u001b[39m,\n",
       "                       measure = LogLoss{Float64}[\u001b[34mLogLoss{Float64} @578\u001b[39m],\n",
       "                       measurement = [0.09329713262922215],\n",
       "                       per_fold = [[0.15522370568516472, 0.06795792169714998, 0.06682856328680156, 0.06488465878583707, 0.11159081369115739]],),\n",
       " history = NamedTuple{(:model, :measure, :measurement, :per_fold),Tuple{MLJModels.NearestNeighbors_.KNNClassifier,Array{LogLoss{Float64},1},Array{Float64,1},Array{Array{Float64,1},1}}}[(model = \u001b[34mKNNClassifier @561\u001b[39m, measure = [\u001b[34mLogLoss{Float64} @578\u001b[39m], measurement = [0.13665915288523797], per_fold = [[0.15450290845334771, 0.08915669132218772, 0.18930221668821798, 0.09256179562950509, 0.1577721523329314]]), (model = \u001b[34mKNNClassifier @374\u001b[39m, measure = [\u001b[34mLogLoss{Float64} @578\u001b[39m], measurement = [0.1670047290499682], per_fold = [[0.18149729477405077, 0.10005618653945388, 0.21909874840716415, 0.14570504613580174, 0.18866636939337042]]), (model = \u001b[34mKNNClassifier @919\u001b[39m, measure = [\u001b[34mLogLoss{Float64} @578\u001b[39m], measurement = [0.11642670571866609], per_fold = [[0.13751290362838622, 0.06696030644151882, 0.16084031807589744, 0.06367493160880684, 0.1531450688387212]]), (model = \u001b[34mKNNClassifier @580\u001b[39m, measure = [\u001b[34mLogLoss{Float64} @578\u001b[39m], measurement = [0.10839692609461807], per_fold = [[0.12145588972882732, 0.05619179429302963, 0.15541404641084935, 0.05619179429302963, 0.15273110574735446]]), (model = \u001b[34mKNNClassifier @591\u001b[39m, measure = [\u001b[34mLogLoss{Float64} @578\u001b[39m], measurement = [0.09329713262922215], per_fold = [[0.15522370568516472, 0.06795792169714998, 0.06682856328680156, 0.06488465878583707, 0.11159081369115739]])],\n",
       " best_report = (),\n",
       " plotting = (parameter_names = [\"K\"],\n",
       "             parameter_scales = [:linear],\n",
       "             parameter_values = Any[16; 20; … ; 9; 5],\n",
       "             measurements = [0.13665915288523797, 0.1670047290499682, 0.11642670571866609, 0.10839692609461807, 0.09329713262922215],),)"
      ]
     },
     "execution_count": 49,
     "metadata": {},
     "output_type": "execute_result"
    }
   ],
   "source": [
    "report(m_self_tuning_knn)"
   ]
  },
  {
   "cell_type": "markdown",
   "metadata": {
    "ExecuteTime": {
     "end_time": "2020-12-19T20:25:24.124000+01:00",
     "start_time": "2020-12-19T19:25:24.122Z"
    }
   },
   "source": [
    "**`report(machine).history`** contains the per fold meatures stored during training"
   ]
  },
  {
   "cell_type": "code",
   "execution_count": 50,
   "metadata": {
    "ExecuteTime": {
     "end_time": "2020-12-20T13:10:35.860000+01:00",
     "start_time": "2020-12-20T12:10:35.857Z"
    }
   },
   "outputs": [
    {
     "data": {
      "text/plain": [
       "5-element Array{NamedTuple{(:model, :measure, :measurement, :per_fold),Tuple{MLJModels.NearestNeighbors_.KNNClassifier,Array{LogLoss{Float64},1},Array{Float64,1},Array{Array{Float64,1},1}}},1}:\n",
       " (model = \u001b[34mKNNClassifier @561\u001b[39m, measure = [\u001b[34mLogLoss{Float64} @578\u001b[39m], measurement = [0.13665915288523797], per_fold = [[0.15450290845334771, 0.08915669132218772, 0.18930221668821798, 0.09256179562950509, 0.1577721523329314]])\n",
       " (model = \u001b[34mKNNClassifier @374\u001b[39m, measure = [\u001b[34mLogLoss{Float64} @578\u001b[39m], measurement = [0.1670047290499682], per_fold = [[0.18149729477405077, 0.10005618653945388, 0.21909874840716415, 0.14570504613580174, 0.18866636939337042]])\n",
       " (model = \u001b[34mKNNClassifier @919\u001b[39m, measure = [\u001b[34mLogLoss{Float64} @578\u001b[39m], measurement = [0.11642670571866609], per_fold = [[0.13751290362838622, 0.06696030644151882, 0.16084031807589744, 0.06367493160880684, 0.1531450688387212]])\n",
       " (model = \u001b[34mKNNClassifier @580\u001b[39m, measure = [\u001b[34mLogLoss{Float64} @578\u001b[39m], measurement = [0.10839692609461807], per_fold = [[0.12145588972882732, 0.05619179429302963, 0.15541404641084935, 0.05619179429302963, 0.15273110574735446]])\n",
       " (model = \u001b[34mKNNClassifier @591\u001b[39m, measure = [\u001b[34mLogLoss{Float64} @578\u001b[39m], measurement = [0.09329713262922215], per_fold = [[0.15522370568516472, 0.06795792169714998, 0.06682856328680156, 0.06488465878583707, 0.11159081369115739]])"
      ]
     },
     "execution_count": 50,
     "metadata": {},
     "output_type": "execute_result"
    }
   ],
   "source": [
    "report(m_self_tuning_knn).history"
   ]
  },
  {
   "cell_type": "markdown",
   "metadata": {},
   "source": [
    "Note that the measure used to evaluate a particular hyperparameter is the mean over the different folds"
   ]
  },
  {
   "cell_type": "code",
   "execution_count": 51,
   "metadata": {
    "ExecuteTime": {
     "end_time": "2020-12-20T13:10:36.477000+01:00",
     "start_time": "2020-12-20T12:10:36.475Z"
    }
   },
   "outputs": [
    {
     "data": {
      "text/plain": [
       "1-element Array{Float64,1}:\n",
       " 0.13665915288523797"
      ]
     },
     "execution_count": 51,
     "metadata": {},
     "output_type": "execute_result"
    }
   ],
   "source": [
    "report(m_self_tuning_knn).history[1].measurement"
   ]
  },
  {
   "cell_type": "markdown",
   "metadata": {
    "ExecuteTime": {
     "end_time": "2020-12-19T20:34:32.661000+01:00",
     "start_time": "2020-12-19T19:34:32.659Z"
    }
   },
   "source": [
    "This value can be computed diretcly from the `.per_fold` array"
   ]
  },
  {
   "cell_type": "code",
   "execution_count": 52,
   "metadata": {
    "ExecuteTime": {
     "end_time": "2020-12-20T12:00:27.228000+01:00",
     "start_time": "2020-12-20T11:00:21.680Z"
    }
   },
   "outputs": [
    {
     "data": {
      "text/plain": [
       "0.13665915288523797"
      ]
     },
     "execution_count": 52,
     "metadata": {},
     "output_type": "execute_result"
    }
   ],
   "source": [
    "mean(report(m_self_tuning_knn).history[1].per_fold[1])"
   ]
  },
  {
   "cell_type": "code",
   "execution_count": 53,
   "metadata": {
    "ExecuteTime": {
     "end_time": "2020-12-20T12:00:58.771000+01:00",
     "start_time": "2020-12-20T11:00:58.770Z"
    },
    "scrolled": true
   },
   "outputs": [],
   "source": [
    "#accuracy(y_test, predict(m_self_tuning_knn, X[test_ind,:]))"
   ]
  },
  {
   "cell_type": "markdown",
   "metadata": {},
   "source": [
    "### Defining a custom metric for the hyperparameter selection process"
   ]
  },
  {
   "cell_type": "code",
   "execution_count": 95,
   "metadata": {
    "ExecuteTime": {
     "end_time": "2020-12-20T13:22:03.390000+01:00",
     "start_time": "2020-12-20T12:22:03.389Z"
    }
   },
   "outputs": [],
   "source": [
    "#measures()"
   ]
  },
  {
   "cell_type": "code",
   "execution_count": 96,
   "metadata": {
    "ExecuteTime": {
     "end_time": "2020-12-20T13:22:57.650000+01:00",
     "start_time": "2020-12-20T12:22:57.648Z"
    }
   },
   "outputs": [],
   "source": [
    "self_tuning_knn = TunedModel(model=knn,\n",
    "                             resampling = CV(nfolds=4),\n",
    "                             tuning = Grid(resolution=5),\n",
    "                             range = K_range,\n",
    "                             measure=misclassification_rate,\n",
    "                             check_measure=false);"
   ]
  },
  {
   "cell_type": "code",
   "execution_count": 97,
   "metadata": {},
   "outputs": [
    {
     "data": {
      "text/plain": [
       "\u001b[34mMachine{ProbabilisticTunedModel{Grid,…}} @531\u001b[39m trained 0 times.\n",
       "  args: \n",
       "    1:\t\u001b[34mSource @572\u001b[39m ⏎ `Table{AbstractArray{Continuous,1}}`\n",
       "    2:\t\u001b[34mSource @976\u001b[39m ⏎ `AbstractArray{Multiclass{3},1}`\n"
      ]
     },
     "execution_count": 97,
     "metadata": {},
     "output_type": "execute_result"
    }
   ],
   "source": [
    "m_self_tuning_knn = machine(self_tuning_knn, X, y)"
   ]
  },
  {
   "cell_type": "markdown",
   "metadata": {},
   "source": [
    "Note that the following fitted machine will error"
   ]
  },
  {
   "cell_type": "code",
   "execution_count": 82,
   "metadata": {
    "ExecuteTime": {
     "end_time": "2020-12-20T13:10:10.932000+01:00",
     "start_time": "2020-12-20T12:10:10.927Z"
    }
   },
   "outputs": [
    {
     "name": "stderr",
     "output_type": "stream",
     "text": [
      "┌ Error: Problem fitting the machine \u001b[34mMachine{Resampler{CV,…}} @132\u001b[39m, possibly because an upstream node in a learning network is providing data of incompatible scitype. \n",
      "└ @ MLJBase /Users/davidbuchaca/.julia/packages/MLJBase/5TNcr/src/machines.jl:422\n",
      "┌ Info: Running type checks... \n",
      "└ @ MLJBase /Users/davidbuchaca/.julia/packages/MLJBase/5TNcr/src/machines.jl:430\n",
      "┌ Info: Type checks okay. \n",
      "└ @ MLJBase /Users/davidbuchaca/.julia/packages/MLJBase/5TNcr/src/machines.jl:432\n",
      "┌ Error: Problem fitting the machine \u001b[34mMachine{ProbabilisticTunedModel{Grid,…}} @121\u001b[39m, possibly because an upstream node in a learning network is providing data of incompatible scitype. \n",
      "└ @ MLJBase /Users/davidbuchaca/.julia/packages/MLJBase/5TNcr/src/machines.jl:422\n",
      "┌ Info: Running type checks... \n",
      "└ @ MLJBase /Users/davidbuchaca/.julia/packages/MLJBase/5TNcr/src/machines.jl:430\n",
      "┌ Info: Type checks okay. \n",
      "└ @ MLJBase /Users/davidbuchaca/.julia/packages/MLJBase/5TNcr/src/machines.jl:432\n"
     ]
    },
    {
     "ename": "LoadError",
     "evalue": "MethodError: no method matching (::MisclassificationRate)(::MLJBase.UnivariateFiniteArray{Multiclass{3},String,UInt8,Float64,1}, ::CategoricalArrays.CategoricalArray{String,1,UInt8,String,CategoricalArrays.CategoricalValue{String,UInt8},Union{}})\nClosest candidates are:\n  Any(!Matched::AbstractArray{var\"#s578\",1} where var\"#s578\"<:CategoricalArrays.CategoricalValue, ::AbstractArray{var\"#s577\",1} where var\"#s577\"<:CategoricalArrays.CategoricalValue) at /Users/davidbuchaca/.julia/packages/MLJBase/5TNcr/src/measures/finite.jl:232\n  Any(!Matched::AbstractArray{var\"#s578\",1} where var\"#s578\"<:CategoricalArrays.CategoricalValue, ::AbstractArray{var\"#s577\",1} where var\"#s577\"<:CategoricalArrays.CategoricalValue, !Matched::AbstractArray{var\"#s576\",1} where var\"#s576\"<:Real) at /Users/davidbuchaca/.julia/packages/MLJBase/5TNcr/src/measures/finite.jl:235",
     "output_type": "error",
     "traceback": [
      "MethodError: no method matching (::MisclassificationRate)(::MLJBase.UnivariateFiniteArray{Multiclass{3},String,UInt8,Float64,1}, ::CategoricalArrays.CategoricalArray{String,1,UInt8,String,CategoricalArrays.CategoricalValue{String,UInt8},Union{}})\nClosest candidates are:\n  Any(!Matched::AbstractArray{var\"#s578\",1} where var\"#s578\"<:CategoricalArrays.CategoricalValue, ::AbstractArray{var\"#s577\",1} where var\"#s577\"<:CategoricalArrays.CategoricalValue) at /Users/davidbuchaca/.julia/packages/MLJBase/5TNcr/src/measures/finite.jl:232\n  Any(!Matched::AbstractArray{var\"#s578\",1} where var\"#s578\"<:CategoricalArrays.CategoricalValue, ::AbstractArray{var\"#s577\",1} where var\"#s577\"<:CategoricalArrays.CategoricalValue, !Matched::AbstractArray{var\"#s576\",1} where var\"#s576\"<:Real) at /Users/davidbuchaca/.julia/packages/MLJBase/5TNcr/src/measures/finite.jl:235",
      "",
      "Stacktrace:",
      " [1] value(::MisclassificationRate, ::MLJBase.UnivariateFiniteArray{Multiclass{3},String,UInt8,Float64,1}, ::DataFrame, ::CategoricalArrays.CategoricalArray{String,1,UInt8,String,CategoricalArrays.CategoricalValue{String,UInt8},Union{}}, ::Nothing, ::Val{false}, ::Val{true}) at /Users/davidbuchaca/.julia/packages/MLJBase/5TNcr/src/measures/measures.jl:128",
      " [2] value(::MisclassificationRate, ::MLJBase.UnivariateFiniteArray{Multiclass{3},String,UInt8,Float64,1}, ::DataFrame, ::CategoricalArrays.CategoricalArray{String,1,UInt8,String,CategoricalArrays.CategoricalValue{String,UInt8},Union{}}, ::Nothing) at /Users/davidbuchaca/.julia/packages/MLJBase/5TNcr/src/measures/measures.jl:114",
      " [3] (::MLJBase.var\"#263#268\"{DataFrame,CategoricalArrays.CategoricalArray{String,1,UInt8,String,CategoricalArrays.CategoricalValue{String,UInt8},Union{}},MLJBase.UnivariateFiniteArray{Multiclass{3},String,UInt8,Float64,1}})(::MisclassificationRate) at ./none:0",
      " [4] iterate at ./generator.jl:47 [inlined]",
      " [5] collect(::Base.Generator{Array{MisclassificationRate,1},MLJBase.var\"#263#268\"{DataFrame,CategoricalArrays.CategoricalArray{String,1,UInt8,String,CategoricalArrays.CategoricalValue{String,UInt8},Union{}},MLJBase.UnivariateFiniteArray{Multiclass{3},String,UInt8,Float64,1}}}) at ./array.jl:686",
      " [6] (::MLJBase.var\"#fit_and_extract_on_fold#267\"{Array{Tuple{Array{Int64,1},UnitRange{Int64}},1},Nothing,Int64,Array{MisclassificationRate,1},typeof(predict),Bool,DataFrame,CategoricalArrays.CategoricalArray{String,1,UInt8,String,CategoricalArrays.CategoricalValue{String,UInt8},Union{}}})(::Machine{MLJModels.NearestNeighbors_.KNNClassifier}, ::Int64) at /Users/davidbuchaca/.julia/packages/MLJBase/5TNcr/src/resampling.jl:800",
      " [7] (::MLJBase.var\"#247#248\"{MLJBase.var\"#fit_and_extract_on_fold#267\"{Array{Tuple{Array{Int64,1},UnitRange{Int64}},1},Nothing,Int64,Array{MisclassificationRate,1},typeof(predict),Bool,DataFrame,CategoricalArrays.CategoricalArray{String,1,UInt8,String,CategoricalArrays.CategoricalValue{String,UInt8},Union{}}},Machine{MLJModels.NearestNeighbors_.KNNClassifier},Int64,ProgressMeter.Progress})(::Int64) at /Users/davidbuchaca/.julia/packages/MLJBase/5TNcr/src/resampling.jl:660",
      " [8] _mapreduce(::MLJBase.var\"#247#248\"{MLJBase.var\"#fit_and_extract_on_fold#267\"{Array{Tuple{Array{Int64,1},UnitRange{Int64}},1},Nothing,Int64,Array{MisclassificationRate,1},typeof(predict),Bool,DataFrame,CategoricalArrays.CategoricalArray{String,1,UInt8,String,CategoricalArrays.CategoricalValue{String,UInt8},Union{}}},Machine{MLJModels.NearestNeighbors_.KNNClassifier},Int64,ProgressMeter.Progress}, ::typeof(vcat), ::IndexLinear, ::UnitRange{Int64}) at ./reduce.jl:408",
      " [9] _mapreduce_dim at ./reducedim.jl:318 [inlined]",
      " [10] #mapreduce#620 at ./reducedim.jl:310 [inlined]",
      " [11] mapreduce at ./reducedim.jl:310 [inlined]",
      " [12] _evaluate!(::MLJBase.var\"#fit_and_extract_on_fold#267\"{Array{Tuple{Array{Int64,1},UnitRange{Int64}},1},Nothing,Int64,Array{MisclassificationRate,1},typeof(predict),Bool,DataFrame,CategoricalArrays.CategoricalArray{String,1,UInt8,String,CategoricalArrays.CategoricalValue{String,UInt8},Union{}}}, ::Machine{MLJModels.NearestNeighbors_.KNNClassifier}, ::CPU1{Nothing}, ::Int64, ::Int64) at /Users/davidbuchaca/.julia/packages/MLJBase/5TNcr/src/resampling.jl:659",
      " [13] evaluate!(::Machine{MLJModels.NearestNeighbors_.KNNClassifier}, ::Array{Tuple{Array{Int64,1},UnitRange{Int64}},1}, ::Nothing, ::Nothing, ::Int64, ::Int64, ::Array{MisclassificationRate,1}, ::typeof(predict), ::CPU1{Nothing}, ::Bool) at /Users/davidbuchaca/.julia/packages/MLJBase/5TNcr/src/resampling.jl:820",
      " [14] evaluate!(::Machine{MLJModels.NearestNeighbors_.KNNClassifier}, ::CV, ::Nothing, ::Nothing, ::Int64, ::Int64, ::Array{MisclassificationRate,1}, ::Function, ::CPU1{Nothing}, ::Bool) at /Users/davidbuchaca/.julia/packages/MLJBase/5TNcr/src/resampling.jl:885",
      " [15] fit(::Resampler{CV,MLJModels.NearestNeighbors_.KNNClassifier}, ::Int64, ::DataFrame, ::CategoricalArrays.CategoricalArray{String,1,UInt8,String,CategoricalArrays.CategoricalValue{String,UInt8},Union{}}) at /Users/davidbuchaca/.julia/packages/MLJBase/5TNcr/src/resampling.jl:985",
      " [16] fit_only!(::Machine{Resampler{CV,MLJModels.NearestNeighbors_.KNNClassifier}}; rows::Nothing, verbosity::Int64, force::Bool) at /Users/davidbuchaca/.julia/packages/MLJBase/5TNcr/src/machines.jl:420",
      " [17] #fit!#85 at /Users/davidbuchaca/.julia/packages/MLJBase/5TNcr/src/machines.jl:478 [inlined]",
      " [18] event(::MLJModels.NearestNeighbors_.KNNClassifier, ::Machine{Resampler{CV,MLJModels.NearestNeighbors_.KNNClassifier}}, ::Int64, ::Grid, ::Nothing, ::NamedTuple{(:models, :fields, :parameter_scales),Tuple{Array{MLJModels.NearestNeighbors_.KNNClassifier,1},Array{Symbol,1},Array{Symbol,1}}}) at /Users/davidbuchaca/.julia/packages/MLJTuning/6MZ7C/src/tuned_models.jl:301",
      " [19] #26 at /Users/davidbuchaca/.julia/packages/MLJTuning/6MZ7C/src/tuned_models.jl:339 [inlined]",
      " [20] iterate at ./generator.jl:47 [inlined]",
      " [21] _collect(::Array{MLJModels.NearestNeighbors_.KNNClassifier,1}, ::Base.Generator{Array{MLJModels.NearestNeighbors_.KNNClassifier,1},MLJTuning.var\"#26#27\"{Machine{Resampler{CV,MLJModels.NearestNeighbors_.KNNClassifier}},Int64,Grid,Nothing,NamedTuple{(:models, :fields, :parameter_scales),Tuple{Array{MLJModels.NearestNeighbors_.KNNClassifier,1},Array{Symbol,1},Array{Symbol,1}}},ProgressMeter.Progress}}, ::Base.EltypeUnknown, ::Base.HasShape{1}) at ./array.jl:699",
      " [22] collect_similar at ./array.jl:628 [inlined]",
      " [23] map at ./abstractarray.jl:2162 [inlined]",
      " [24] assemble_events(::Array{MLJModels.NearestNeighbors_.KNNClassifier,1}, ::Machine{Resampler{CV,MLJModels.NearestNeighbors_.KNNClassifier}}, ::Int64, ::Grid, ::Nothing, ::NamedTuple{(:models, :fields, :parameter_scales),Tuple{Array{MLJModels.NearestNeighbors_.KNNClassifier,1},Array{Symbol,1},Array{Symbol,1}}}, ::CPU1{Nothing}) at /Users/davidbuchaca/.julia/packages/MLJTuning/6MZ7C/src/tuned_models.jl:338",
      " [25] build(::Nothing, ::Int64, ::Grid, ::MLJModels.NearestNeighbors_.KNNClassifier, ::NamedTuple{(:models, :fields, :parameter_scales),Tuple{Array{MLJModels.NearestNeighbors_.KNNClassifier,1},Array{Symbol,1},Array{Symbol,1}}}, ::Int64, ::CPU1{Nothing}, ::Machine{Resampler{CV,MLJModels.NearestNeighbors_.KNNClassifier}}) at /Users/davidbuchaca/.julia/packages/MLJTuning/6MZ7C/src/tuned_models.jl:502",
      " [26] fit(::MLJTuning.ProbabilisticTunedModel{Grid,MLJModels.NearestNeighbors_.KNNClassifier}, ::Int64, ::DataFrame, ::CategoricalArrays.CategoricalArray{String,1,UInt8,String,CategoricalArrays.CategoricalValue{String,UInt8},Union{}}) at /Users/davidbuchaca/.julia/packages/MLJTuning/6MZ7C/src/tuned_models.jl:571",
      " [27] fit_only!(::Machine{MLJTuning.ProbabilisticTunedModel{Grid,MLJModels.NearestNeighbors_.KNNClassifier}}; rows::Array{Int64,1}, verbosity::Int64, force::Bool) at /Users/davidbuchaca/.julia/packages/MLJBase/5TNcr/src/machines.jl:420",
      " [28] #fit!#85 at /Users/davidbuchaca/.julia/packages/MLJBase/5TNcr/src/machines.jl:478 [inlined]",
      " [29] top-level scope at In[82]:1",
      " [30] include_string(::Function, ::Module, ::String, ::String) at ./loading.jl:1091"
     ]
    }
   ],
   "source": [
    "fit!(m_self_tuning_knn, rows=train_ind, verbosity=0)"
   ]
  },
  {
   "cell_type": "markdown",
   "metadata": {},
   "source": [
    "This happens because the model is `probabilistic`  and the evaluation metric is `deterministic`"
   ]
  },
  {
   "cell_type": "code",
   "execution_count": 83,
   "metadata": {},
   "outputs": [
    {
     "data": {
      "text/plain": [
       ":probabilistic"
      ]
     },
     "execution_count": 83,
     "metadata": {},
     "output_type": "execute_result"
    }
   ],
   "source": [
    "info(KNNClassifier).prediction_type"
   ]
  },
  {
   "cell_type": "code",
   "execution_count": 86,
   "metadata": {},
   "outputs": [
    {
     "data": {
      "text/plain": [
       ":deterministic"
      ]
     },
     "execution_count": 86,
     "metadata": {},
     "output_type": "execute_result"
    }
   ],
   "source": [
    "info(misclassification_rate).prediction_type"
   ]
  },
  {
   "cell_type": "markdown",
   "metadata": {},
   "source": [
    "We can solve this adding `operation=predict_mode`"
   ]
  },
  {
   "cell_type": "code",
   "execution_count": 109,
   "metadata": {},
   "outputs": [],
   "source": [
    "self_tuning_knn = TunedModel(model=knn,\n",
    "                             resampling = CV(nfolds=5),\n",
    "                             tuning = Grid(resolution=5),\n",
    "                             range = K_range,\n",
    "                             measure=misclassification_rate,\n",
    "                             operation=predict_mode,\n",
    "                             check_measure=false);"
   ]
  },
  {
   "cell_type": "code",
   "execution_count": 110,
   "metadata": {},
   "outputs": [
    {
     "data": {
      "text/plain": [
       "\u001b[34mMachine{ProbabilisticTunedModel{Grid,…}} @482\u001b[39m trained 0 times.\n",
       "  args: \n",
       "    1:\t\u001b[34mSource @376\u001b[39m ⏎ `Table{AbstractArray{Continuous,1}}`\n",
       "    2:\t\u001b[34mSource @834\u001b[39m ⏎ `AbstractArray{Multiclass{3},1}`\n"
      ]
     },
     "execution_count": 110,
     "metadata": {},
     "output_type": "execute_result"
    }
   ],
   "source": [
    "m_self_tuning_knn = machine(self_tuning_knn, X, y)"
   ]
  },
  {
   "cell_type": "code",
   "execution_count": 111,
   "metadata": {},
   "outputs": [
    {
     "data": {
      "text/plain": [
       "\u001b[34mMachine{ProbabilisticTunedModel{Grid,…}} @482\u001b[39m trained 1 time.\n",
       "  args: \n",
       "    1:\t\u001b[34mSource @376\u001b[39m ⏎ `Table{AbstractArray{Continuous,1}}`\n",
       "    2:\t\u001b[34mSource @834\u001b[39m ⏎ `AbstractArray{Multiclass{3},1}`\n"
      ]
     },
     "execution_count": 111,
     "metadata": {},
     "output_type": "execute_result"
    }
   ],
   "source": [
    "fit!(m_self_tuning_knn, rows=train_ind, verbosity=0)"
   ]
  },
  {
   "cell_type": "code",
   "execution_count": 112,
   "metadata": {},
   "outputs": [
    {
     "data": {
      "text/plain": [
       "5-element Array{NamedTuple{(:model, :measure, :measurement, :per_fold),Tuple{MLJModels.NearestNeighbors_.KNNClassifier,Array{MisclassificationRate,1},Array{Float64,1},Array{Array{Float64,1},1}}},1}:\n",
       " (model = \u001b[34mKNNClassifier @766\u001b[39m, measure = [MisclassificationRate @236], measurement = [0.047619047619047616], per_fold = [[0.09523809523809523, 0.047619047619047616, 0.0, 0.047619047619047616, 0.047619047619047616]])\n",
       " (model = \u001b[34mKNNClassifier @058\u001b[39m, measure = [MisclassificationRate @236], measurement = [0.047619047619047616], per_fold = [[0.047619047619047616, 0.047619047619047616, 0.047619047619047616, 0.047619047619047616, 0.047619047619047616]])\n",
       " (model = \u001b[34mKNNClassifier @269\u001b[39m, measure = [MisclassificationRate @236], measurement = [0.06666666666666667], per_fold = [[0.047619047619047616, 0.047619047619047616, 0.14285714285714285, 0.047619047619047616, 0.047619047619047616]])\n",
       " (model = \u001b[34mKNNClassifier @906\u001b[39m, measure = [MisclassificationRate @236], measurement = [0.047619047619047616], per_fold = [[0.047619047619047616, 0.047619047619047616, 0.047619047619047616, 0.047619047619047616, 0.047619047619047616]])\n",
       " (model = \u001b[34mKNNClassifier @867\u001b[39m, measure = [MisclassificationRate @236], measurement = [0.047619047619047616], per_fold = [[0.047619047619047616, 0.047619047619047616, 0.047619047619047616, 0.047619047619047616, 0.047619047619047616]])"
      ]
     },
     "execution_count": 112,
     "metadata": {},
     "output_type": "execute_result"
    }
   ],
   "source": [
    "report(m_self_tuning_knn).history"
   ]
  },
  {
   "cell_type": "code",
   "execution_count": 122,
   "metadata": {},
   "outputs": [
    {
     "data": {
      "text/plain": [
       "0.047619047619047616"
      ]
     },
     "execution_count": 122,
     "metadata": {},
     "output_type": "execute_result"
    }
   ],
   "source": [
    "mean(report(m_self_tuning_knn).history[1].per_fold[1])"
   ]
  },
  {
   "cell_type": "code",
   "execution_count": 123,
   "metadata": {},
   "outputs": [
    {
     "data": {
      "text/plain": [
       "1-element Array{Float64,1}:\n",
       " 0.047619047619047616"
      ]
     },
     "execution_count": 123,
     "metadata": {},
     "output_type": "execute_result"
    }
   ],
   "source": [
    "report(m_self_tuning_knn).history[1].measurement"
   ]
  },
  {
   "cell_type": "code",
   "execution_count": null,
   "metadata": {},
   "outputs": [],
   "source": [
    "\n"
   ]
  }
 ],
 "metadata": {
  "kernelspec": {
   "display_name": "Julia 1.5.3",
   "language": "julia",
   "name": "julia-1.5"
  },
  "language_info": {
   "file_extension": ".jl",
   "mimetype": "application/julia",
   "name": "julia",
   "version": "1.5.3"
  },
  "toc": {
   "base_numbering": 1,
   "nav_menu": {},
   "number_sections": true,
   "sideBar": true,
   "skip_h1_title": false,
   "title_cell": "Table of Contents",
   "title_sidebar": "Contents",
   "toc_cell": false,
   "toc_position": {},
   "toc_section_display": true,
   "toc_window_display": true
  },
  "varInspector": {
   "cols": {
    "lenName": 16,
    "lenType": 16,
    "lenVar": 40
   },
   "kernels_config": {
    "python": {
     "delete_cmd_postfix": "",
     "delete_cmd_prefix": "del ",
     "library": "var_list.py",
     "varRefreshCmd": "print(var_dic_list())"
    },
    "r": {
     "delete_cmd_postfix": ") ",
     "delete_cmd_prefix": "rm(",
     "library": "var_list.r",
     "varRefreshCmd": "cat(var_dic_list()) "
    }
   },
   "types_to_exclude": [
    "module",
    "function",
    "builtin_function_or_method",
    "instance",
    "_Feature"
   ],
   "window_display": false
  }
 },
 "nbformat": 4,
 "nbformat_minor": 2
}
