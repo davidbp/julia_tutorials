{
 "cells": [
  {
   "cell_type": "markdown",
   "metadata": {},
   "source": [
    "# Regular expressions"
   ]
  },
  {
   "cell_type": "code",
   "execution_count": 5,
   "metadata": {},
   "outputs": [
    {
     "data": {
      "text/plain": [
       "\" \\n  a = 23\\n  b = 40\\n\""
      ]
     },
     "execution_count": 5,
     "metadata": {},
     "output_type": "execute_result"
    }
   ],
   "source": [
    "\n",
    "s = \"\"\" \n",
    "      a = 23\n",
    "      b = 40\n",
    "    \"\"\""
   ]
  },
  {
   "cell_type": "code",
   "execution_count": 9,
   "metadata": {},
   "outputs": [
    {
     "data": {
      "text/plain": [
       "4-element Array{SubString{String},1}:\n",
       " \" \"       \n",
       " \"  a = 23\"\n",
       " \"  b = 40\"\n",
       " \"\"        "
      ]
     },
     "execution_count": 9,
     "metadata": {},
     "output_type": "execute_result"
    }
   ],
   "source": [
    "lines = split(s, \"\\n\")"
   ]
  },
  {
   "cell_type": "code",
   "execution_count": 16,
   "metadata": {},
   "outputs": [
    {
     "data": {
      "text/plain": [
       "\"  a = 23\""
      ]
     },
     "execution_count": 16,
     "metadata": {},
     "output_type": "execute_result"
    }
   ],
   "source": [
    "equality = lines[2]"
   ]
  },
  {
   "cell_type": "code",
   "execution_count": 37,
   "metadata": {},
   "outputs": [
    {
     "data": {
      "text/plain": [
       "\"a= 23 \""
      ]
     },
     "execution_count": 37,
     "metadata": {},
     "output_type": "execute_result"
    }
   ],
   "source": [
    "a_value = 23\n",
    "replace(\"a= \", \"=\" => \"= $a_value\")"
   ]
  },
  {
   "cell_type": "code",
   "execution_count": 61,
   "metadata": {},
   "outputs": [
    {
     "data": {
      "text/plain": [
       "\"a=23 \""
      ]
     },
     "execution_count": 61,
     "metadata": {},
     "output_type": "execute_result"
    }
   ],
   "source": [
    "\n",
    "replace(\"a= \", \"=\" => \"=$a_value\")"
   ]
  },
  {
   "cell_type": "code",
   "execution_count": 80,
   "metadata": {},
   "outputs": [
    {
     "data": {
      "text/plain": [
       "\"  a = 7\""
      ]
     },
     "execution_count": 80,
     "metadata": {},
     "output_type": "execute_result"
    }
   ],
   "source": [
    "a_value = 7\n",
    "replace(equality, r\"=\\s*\\d*\" => \"= $a_value\")"
   ]
  },
  {
   "cell_type": "code",
   "execution_count": null,
   "metadata": {},
   "outputs": [],
   "source": []
  },
  {
   "cell_type": "code",
   "execution_count": 50,
   "metadata": {},
   "outputs": [
    {
     "data": {
      "text/plain": [
       "\"The  foxes run quickly.\""
      ]
     },
     "execution_count": 50,
     "metadata": {},
     "output_type": "execute_result"
    }
   ],
   "source": [
    "replace(\"The quick foxes run quickly.\", \"quick\" => \"\", count=1)"
   ]
  },
  {
   "cell_type": "code",
   "execution_count": 59,
   "metadata": {},
   "outputs": [
    {
     "data": {
      "text/plain": [
       "\" \\n  2323\\n  b = 40\\n\""
      ]
     },
     "execution_count": 59,
     "metadata": {},
     "output_type": "execute_result"
    }
   ],
   "source": [
    "replace(s, \"a = \" => \"$a_value\")"
   ]
  },
  {
   "cell_type": "code",
   "execution_count": 60,
   "metadata": {},
   "outputs": [
    {
     "data": {
      "text/plain": [
       "\" \\n  a = 23\\n  b = 40\\n\""
      ]
     },
     "execution_count": 60,
     "metadata": {},
     "output_type": "execute_result"
    }
   ],
   "source": [
    "s"
   ]
  },
  {
   "cell_type": "code",
   "execution_count": null,
   "metadata": {},
   "outputs": [],
   "source": []
  },
  {
   "cell_type": "code",
   "execution_count": null,
   "metadata": {},
   "outputs": [],
   "source": []
  },
  {
   "cell_type": "code",
   "execution_count": null,
   "metadata": {},
   "outputs": [],
   "source": []
  },
  {
   "cell_type": "code",
   "execution_count": 47,
   "metadata": {},
   "outputs": [
    {
     "name": "stdout",
     "output_type": "stream",
     "text": [
      "search: \u001b[0m\u001b[1mr\u001b[22m\u001b[0m\u001b[1me\u001b[22m\u001b[0m\u001b[1mp\u001b[22m\u001b[0m\u001b[1ml\u001b[22m\u001b[0m\u001b[1ma\u001b[22m\u001b[0m\u001b[1mc\u001b[22m\u001b[0m\u001b[1me\u001b[22m \u001b[0m\u001b[1mr\u001b[22m\u001b[0m\u001b[1me\u001b[22m\u001b[0m\u001b[1mp\u001b[22m\u001b[0m\u001b[1ml\u001b[22m\u001b[0m\u001b[1ma\u001b[22m\u001b[0m\u001b[1mc\u001b[22m\u001b[0m\u001b[1me\u001b[22m! \u001b[0m\u001b[1mr\u001b[22m\u001b[0m\u001b[1me\u001b[22mdis\u001b[0m\u001b[1mp\u001b[22m\u001b[0m\u001b[1ml\u001b[22m\u001b[0m\u001b[1ma\u001b[22my\n",
      "\n"
     ]
    },
    {
     "data": {
      "text/latex": [
       "\\begin{verbatim}\n",
       "replace(A, old_new::Pair...; [count::Integer])\n",
       "\\end{verbatim}\n",
       "Return a copy of collection \\texttt{A} where, for each pair \\texttt{old=>new} in \\texttt{old\\_new}, all occurrences of \\texttt{old} are replaced by \\texttt{new}. Equality is determined using \\href{@ref}{\\texttt{isequal}}. If \\texttt{count} is specified, then replace at most \\texttt{count} occurrences in total.\n",
       "\n",
       "The element type of the result is chosen using promotion (see \\href{@ref}{\\texttt{promote\\_type}}) based on the element type of \\texttt{A} and on the types of the \\texttt{new} values in pairs. If \\texttt{count} is omitted and the element type of \\texttt{A} is a \\texttt{Union}, the element type of the result will not include singleton types which are replaced with values of a different type: for example, \\texttt{Union\\{T,Missing\\}} will become \\texttt{T} if \\texttt{missing} is replaced.\n",
       "\n",
       "See also \\href{@ref}{\\texttt{replace!}}.\n",
       "\n",
       "\\section{Examples}\n",
       "\\begin{verbatim}\n",
       "julia> replace([1, 2, 1, 3], 1=>0, 2=>4, count=2)\n",
       "4-element Array{Int64,1}:\n",
       " 0\n",
       " 4\n",
       " 1\n",
       " 3\n",
       "\n",
       "julia> replace([1, missing], missing=>0)\n",
       "2-element Array{Int64,1}:\n",
       " 1\n",
       " 0\n",
       "\\end{verbatim}\n",
       "\\rule{\\textwidth}{1pt}\n",
       "\\begin{verbatim}\n",
       "replace(new::Function, A; [count::Integer])\n",
       "\\end{verbatim}\n",
       "Return a copy of \\texttt{A} where each value \\texttt{x} in \\texttt{A} is replaced by \\texttt{new(x)} If \\texttt{count} is specified, then replace at most \\texttt{count} values in total (replacements being defined as \\texttt{new(x) !== x}).\n",
       "\n",
       "\\section{Examples}\n",
       "\\begin{verbatim}\n",
       "julia> replace(x -> isodd(x) ? 2x : x, [1, 2, 3, 4])\n",
       "4-element Array{Int64,1}:\n",
       " 2\n",
       " 2\n",
       " 6\n",
       " 4\n",
       "\n",
       "julia> replace(Dict(1=>2, 3=>4)) do kv\n",
       "           first(kv) < 3 ? first(kv)=>3 : kv\n",
       "       end\n",
       "Dict{Int64,Int64} with 2 entries:\n",
       "  3 => 4\n",
       "  1 => 3\n",
       "\\end{verbatim}\n",
       "\\rule{\\textwidth}{1pt}\n",
       "\\begin{verbatim}\n",
       "replace(s::AbstractString, pat=>r; [count::Integer])\n",
       "\\end{verbatim}\n",
       "Search for the given pattern \\texttt{pat} in \\texttt{s}, and replace each occurrence with \\texttt{r}. If \\texttt{count} is provided, replace at most \\texttt{count} occurrences. \\texttt{pat} may be a single character, a vector or a set of characters, a string, or a regular expression. If \\texttt{r} is a function, each occurrence is replaced with \\texttt{r(s)} where \\texttt{s} is the matched substring (when \\texttt{pat}is a \\texttt{Regex} or \\texttt{AbstractString}) or character (when \\texttt{pat} is an \\texttt{AbstractChar} or a collection of \\texttt{AbstractChar}). If \\texttt{pat} is a regular expression and \\texttt{r} is a \\href{@ref}{\\texttt{SubstitutionString}}, then capture group references in \\texttt{r} are replaced with the corresponding matched text. To remove instances of \\texttt{pat} from \\texttt{string}, set \\texttt{r} to the empty \\texttt{String} (\\texttt{\"\"}).\n",
       "\n",
       "\\section{Examples}\n",
       "\\begin{verbatim}\n",
       "julia> replace(\"Python is a programming language.\", \"Python\" => \"Julia\")\n",
       "\"Julia is a programming language.\"\n",
       "\n",
       "julia> replace(\"The quick foxes run quickly.\", \"quick\" => \"slow\", count=1)\n",
       "\"The slow foxes run quickly.\"\n",
       "\n",
       "julia> replace(\"The quick foxes run quickly.\", \"quick\" => \"\", count=1)\n",
       "\"The  foxes run quickly.\"\n",
       "\n",
       "julia> replace(\"The quick foxes run quickly.\", r\"fox(es)?\" => s\"bus\\1\")\n",
       "\"The quick buses run quickly.\"\n",
       "\\end{verbatim}\n"
      ],
      "text/markdown": [
       "```\n",
       "replace(A, old_new::Pair...; [count::Integer])\n",
       "```\n",
       "\n",
       "Return a copy of collection `A` where, for each pair `old=>new` in `old_new`, all occurrences of `old` are replaced by `new`. Equality is determined using [`isequal`](@ref). If `count` is specified, then replace at most `count` occurrences in total.\n",
       "\n",
       "The element type of the result is chosen using promotion (see [`promote_type`](@ref)) based on the element type of `A` and on the types of the `new` values in pairs. If `count` is omitted and the element type of `A` is a `Union`, the element type of the result will not include singleton types which are replaced with values of a different type: for example, `Union{T,Missing}` will become `T` if `missing` is replaced.\n",
       "\n",
       "See also [`replace!`](@ref).\n",
       "\n",
       "# Examples\n",
       "\n",
       "```jldoctest\n",
       "julia> replace([1, 2, 1, 3], 1=>0, 2=>4, count=2)\n",
       "4-element Array{Int64,1}:\n",
       " 0\n",
       " 4\n",
       " 1\n",
       " 3\n",
       "\n",
       "julia> replace([1, missing], missing=>0)\n",
       "2-element Array{Int64,1}:\n",
       " 1\n",
       " 0\n",
       "```\n",
       "\n",
       "---\n",
       "\n",
       "```\n",
       "replace(new::Function, A; [count::Integer])\n",
       "```\n",
       "\n",
       "Return a copy of `A` where each value `x` in `A` is replaced by `new(x)` If `count` is specified, then replace at most `count` values in total (replacements being defined as `new(x) !== x`).\n",
       "\n",
       "# Examples\n",
       "\n",
       "```jldoctest\n",
       "julia> replace(x -> isodd(x) ? 2x : x, [1, 2, 3, 4])\n",
       "4-element Array{Int64,1}:\n",
       " 2\n",
       " 2\n",
       " 6\n",
       " 4\n",
       "\n",
       "julia> replace(Dict(1=>2, 3=>4)) do kv\n",
       "           first(kv) < 3 ? first(kv)=>3 : kv\n",
       "       end\n",
       "Dict{Int64,Int64} with 2 entries:\n",
       "  3 => 4\n",
       "  1 => 3\n",
       "```\n",
       "\n",
       "---\n",
       "\n",
       "```\n",
       "replace(s::AbstractString, pat=>r; [count::Integer])\n",
       "```\n",
       "\n",
       "Search for the given pattern `pat` in `s`, and replace each occurrence with `r`. If `count` is provided, replace at most `count` occurrences. `pat` may be a single character, a vector or a set of characters, a string, or a regular expression. If `r` is a function, each occurrence is replaced with `r(s)` where `s` is the matched substring (when `pat`is a `Regex` or `AbstractString`) or character (when `pat` is an `AbstractChar` or a collection of `AbstractChar`). If `pat` is a regular expression and `r` is a [`SubstitutionString`](@ref), then capture group references in `r` are replaced with the corresponding matched text. To remove instances of `pat` from `string`, set `r` to the empty `String` (`\"\"`).\n",
       "\n",
       "# Examples\n",
       "\n",
       "```jldoctest\n",
       "julia> replace(\"Python is a programming language.\", \"Python\" => \"Julia\")\n",
       "\"Julia is a programming language.\"\n",
       "\n",
       "julia> replace(\"The quick foxes run quickly.\", \"quick\" => \"slow\", count=1)\n",
       "\"The slow foxes run quickly.\"\n",
       "\n",
       "julia> replace(\"The quick foxes run quickly.\", \"quick\" => \"\", count=1)\n",
       "\"The  foxes run quickly.\"\n",
       "\n",
       "julia> replace(\"The quick foxes run quickly.\", r\"fox(es)?\" => s\"bus\\1\")\n",
       "\"The quick buses run quickly.\"\n",
       "```\n"
      ],
      "text/plain": [
       "\u001b[36m  replace(A, old_new::Pair...; [count::Integer])\u001b[39m\n",
       "\n",
       "  Return a copy of collection \u001b[36mA\u001b[39m where, for each pair \u001b[36mold=>new\u001b[39m in \u001b[36mold_new\u001b[39m, all\n",
       "  occurrences of \u001b[36mold\u001b[39m are replaced by \u001b[36mnew\u001b[39m. Equality is determined using\n",
       "  \u001b[36misequal\u001b[39m. If \u001b[36mcount\u001b[39m is specified, then replace at most \u001b[36mcount\u001b[39m occurrences in\n",
       "  total.\n",
       "\n",
       "  The element type of the result is chosen using promotion (see \u001b[36mpromote_type\u001b[39m)\n",
       "  based on the element type of \u001b[36mA\u001b[39m and on the types of the \u001b[36mnew\u001b[39m values in pairs.\n",
       "  If \u001b[36mcount\u001b[39m is omitted and the element type of \u001b[36mA\u001b[39m is a \u001b[36mUnion\u001b[39m, the element type\n",
       "  of the result will not include singleton types which are replaced with\n",
       "  values of a different type: for example, \u001b[36mUnion{T,Missing}\u001b[39m will become \u001b[36mT\u001b[39m if\n",
       "  \u001b[36mmissing\u001b[39m is replaced.\n",
       "\n",
       "  See also \u001b[36mreplace!\u001b[39m.\n",
       "\n",
       "\u001b[1m  Examples\u001b[22m\n",
       "\u001b[1m  ≡≡≡≡≡≡≡≡≡≡\u001b[22m\n",
       "\n",
       "\u001b[36m  julia> replace([1, 2, 1, 3], 1=>0, 2=>4, count=2)\u001b[39m\n",
       "\u001b[36m  4-element Array{Int64,1}:\u001b[39m\n",
       "\u001b[36m   0\u001b[39m\n",
       "\u001b[36m   4\u001b[39m\n",
       "\u001b[36m   1\u001b[39m\n",
       "\u001b[36m   3\u001b[39m\n",
       "\u001b[36m  \u001b[39m\n",
       "\u001b[36m  julia> replace([1, missing], missing=>0)\u001b[39m\n",
       "\u001b[36m  2-element Array{Int64,1}:\u001b[39m\n",
       "\u001b[36m   1\u001b[39m\n",
       "\u001b[36m   0\u001b[39m\n",
       "\n",
       "  ────────────────────────────────────────────────────────────────────────────\n",
       "\n",
       "\u001b[36m  replace(new::Function, A; [count::Integer])\u001b[39m\n",
       "\n",
       "  Return a copy of \u001b[36mA\u001b[39m where each value \u001b[36mx\u001b[39m in \u001b[36mA\u001b[39m is replaced by \u001b[36mnew(x)\u001b[39m If \u001b[36mcount\u001b[39m is\n",
       "  specified, then replace at most \u001b[36mcount\u001b[39m values in total (replacements being\n",
       "  defined as \u001b[36mnew(x) !== x\u001b[39m).\n",
       "\n",
       "\u001b[1m  Examples\u001b[22m\n",
       "\u001b[1m  ≡≡≡≡≡≡≡≡≡≡\u001b[22m\n",
       "\n",
       "\u001b[36m  julia> replace(x -> isodd(x) ? 2x : x, [1, 2, 3, 4])\u001b[39m\n",
       "\u001b[36m  4-element Array{Int64,1}:\u001b[39m\n",
       "\u001b[36m   2\u001b[39m\n",
       "\u001b[36m   2\u001b[39m\n",
       "\u001b[36m   6\u001b[39m\n",
       "\u001b[36m   4\u001b[39m\n",
       "\u001b[36m  \u001b[39m\n",
       "\u001b[36m  julia> replace(Dict(1=>2, 3=>4)) do kv\u001b[39m\n",
       "\u001b[36m             first(kv) < 3 ? first(kv)=>3 : kv\u001b[39m\n",
       "\u001b[36m         end\u001b[39m\n",
       "\u001b[36m  Dict{Int64,Int64} with 2 entries:\u001b[39m\n",
       "\u001b[36m    3 => 4\u001b[39m\n",
       "\u001b[36m    1 => 3\u001b[39m\n",
       "\n",
       "  ────────────────────────────────────────────────────────────────────────────\n",
       "\n",
       "\u001b[36m  replace(s::AbstractString, pat=>r; [count::Integer])\u001b[39m\n",
       "\n",
       "  Search for the given pattern \u001b[36mpat\u001b[39m in \u001b[36ms\u001b[39m, and replace each occurrence with \u001b[36mr\u001b[39m.\n",
       "  If \u001b[36mcount\u001b[39m is provided, replace at most \u001b[36mcount\u001b[39m occurrences. \u001b[36mpat\u001b[39m may be a single\n",
       "  character, a vector or a set of characters, a string, or a regular\n",
       "  expression. If \u001b[36mr\u001b[39m is a function, each occurrence is replaced with \u001b[36mr(s)\u001b[39m where\n",
       "  \u001b[36ms\u001b[39m is the matched substring (when \u001b[36mpat\u001b[39mis a \u001b[36mRegex\u001b[39m or \u001b[36mAbstractString\u001b[39m) or\n",
       "  character (when \u001b[36mpat\u001b[39m is an \u001b[36mAbstractChar\u001b[39m or a collection of \u001b[36mAbstractChar\u001b[39m). If\n",
       "  \u001b[36mpat\u001b[39m is a regular expression and \u001b[36mr\u001b[39m is a \u001b[36mSubstitutionString\u001b[39m, then capture\n",
       "  group references in \u001b[36mr\u001b[39m are replaced with the corresponding matched text. To\n",
       "  remove instances of \u001b[36mpat\u001b[39m from \u001b[36mstring\u001b[39m, set \u001b[36mr\u001b[39m to the empty \u001b[36mString\u001b[39m (\u001b[36m\"\"\u001b[39m).\n",
       "\n",
       "\u001b[1m  Examples\u001b[22m\n",
       "\u001b[1m  ≡≡≡≡≡≡≡≡≡≡\u001b[22m\n",
       "\n",
       "\u001b[36m  julia> replace(\"Python is a programming language.\", \"Python\" => \"Julia\")\u001b[39m\n",
       "\u001b[36m  \"Julia is a programming language.\"\u001b[39m\n",
       "\u001b[36m  \u001b[39m\n",
       "\u001b[36m  julia> replace(\"The quick foxes run quickly.\", \"quick\" => \"slow\", count=1)\u001b[39m\n",
       "\u001b[36m  \"The slow foxes run quickly.\"\u001b[39m\n",
       "\u001b[36m  \u001b[39m\n",
       "\u001b[36m  julia> replace(\"The quick foxes run quickly.\", \"quick\" => \"\", count=1)\u001b[39m\n",
       "\u001b[36m  \"The  foxes run quickly.\"\u001b[39m\n",
       "\u001b[36m  \u001b[39m\n",
       "\u001b[36m  julia> replace(\"The quick foxes run quickly.\", r\"fox(es)?\" => s\"bus\\1\")\u001b[39m\n",
       "\u001b[36m  \"The quick buses run quickly.\"\u001b[39m"
      ]
     },
     "execution_count": 47,
     "metadata": {},
     "output_type": "execute_result"
    }
   ],
   "source": [
    "?replace"
   ]
  },
  {
   "cell_type": "code",
   "execution_count": 34,
   "metadata": {},
   "outputs": [
    {
     "data": {
      "text/plain": [
       "\"  a = 23 23\""
      ]
     },
     "execution_count": 34,
     "metadata": {},
     "output_type": "execute_result"
    }
   ],
   "source": [
    "l"
   ]
  },
  {
   "cell_type": "code",
   "execution_count": 31,
   "metadata": {},
   "outputs": [
    {
     "data": {
      "text/plain": [
       "\"  a = 23\""
      ]
     },
     "execution_count": 31,
     "metadata": {},
     "output_type": "execute_result"
    }
   ],
   "source": [
    "equality"
   ]
  },
  {
   "cell_type": "code",
   "execution_count": null,
   "metadata": {},
   "outputs": [],
   "source": []
  }
 ],
 "metadata": {
  "kernelspec": {
   "display_name": "Julia 1.1.1",
   "language": "julia",
   "name": "julia-1.1"
  },
  "language_info": {
   "file_extension": ".jl",
   "mimetype": "application/julia",
   "name": "julia",
   "version": "1.1.1"
  },
  "toc": {
   "base_numbering": 1,
   "nav_menu": {},
   "number_sections": true,
   "sideBar": true,
   "skip_h1_title": false,
   "title_cell": "Table of Contents",
   "title_sidebar": "Contents",
   "toc_cell": false,
   "toc_position": {},
   "toc_section_display": true,
   "toc_window_display": false
  }
 },
 "nbformat": 4,
 "nbformat_minor": 2
}
